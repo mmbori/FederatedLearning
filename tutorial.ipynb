{
 "cells": [
  {
   "cell_type": "code",
   "execution_count": 1,
   "id": "2c360b45-e83e-4017-b5a6-d59183b3458f",
   "metadata": {},
   "outputs": [],
   "source": [
    "import numpy as np\n",
    "import tensorflow as tf\n",
    "import tensorflow.keras as keras\n",
    "from tensorflow.keras import backend as K\n",
    "from tensorflow.keras import Sequential\n",
    "from tensorflow.keras.layers import Conv2D, Flatten, Dense\n",
    "from tensorflow.keras.utils import to_categorical\n",
    "from tensorflow.keras.datasets import mnist"
   ]
  },
  {
   "cell_type": "code",
   "execution_count": 2,
   "id": "eb0cdc3d-f8f5-4805-bfd8-ca49fd8f5960",
   "metadata": {},
   "outputs": [],
   "source": [
    "import openfl.native as fx\n",
    "from openfl.federated import FederatedModel,FederatedDataSet"
   ]
  },
  {
   "cell_type": "code",
   "execution_count": 3,
   "id": "98c6fe34-fcf6-4b9b-8228-88ca9b64f530",
   "metadata": {},
   "outputs": [
    {
     "name": "stdout",
     "output_type": "stream",
     "text": [
      "We are using Tensorflow version 2.8.4\n",
      "Intel-optimizations (DNNL) enabled: False\n"
     ]
    }
   ],
   "source": [
    "def test_intel_tensorflow() :\n",
    "    import tensorflow as tf\n",
    "    print(\"We are using Tensorflow version {}\".format(tf.__version__))\n",
    "    \n",
    "    major_version = int(tf.__version__.split(\".\")[0])\n",
    "    if major_version >= 2 :\n",
    "        from tensorflow.python.util import _pywrap_util_port\n",
    "        print(\"Intel-optimizations (DNNL) enabled:\", _pywrap_util_port.IsMklEnabled())\n",
    "    else :\n",
    "        print(\"Intel-optimizations  (DNNL) enabled:\")\n",
    "\n",
    "test_intel_tensorflow()"
   ]
  },
  {
   "cell_type": "code",
   "execution_count": 4,
   "id": "a29b6213-48d5-4cb6-b45c-597d728a8733",
   "metadata": {},
   "outputs": [
    {
     "name": "stdout",
     "output_type": "stream",
     "text": [
      "Creating Workspace Directories\n",
      "Creating Workspace Templates\n",
      "Successfully installed packages from C:\\Users\\BHSU\\.local\\workspace/requirements.txt.\n",
      "\n",
      "New workspace directory structure:\n",
      "workspace\n",
      "├── .workspace\n",
      "├── agg_to_col_one_signed_cert.zip\n",
      "├── agg_to_col_two_signed_cert.zip\n",
      "├── cert\n",
      "├── data\n",
      "├── final_model\n",
      "│   ├── assets\n",
      "│   ├── keras_metadata.pb\n",
      "│   ├── saved_model.pb\n",
      "│   └── variables\n",
      "│       ├── variables.data-00000-of-00001\n",
      "│       └── variables.index\n",
      "├── logs\n",
      "│   └── tensorboard\n",
      "│       ├── events.out.tfevents.1681111804.DESKTOP-8R9A5NI\n",
      "│       └── events.out.tfevents.1681342139.DESKTOP-8R9A5NI\n",
      "├── plan\n",
      "│   ├── cols.yaml\n",
      "│   ├── data.yaml\n",
      "│   ├── defaults\n",
      "│   └── plan.yaml\n",
      "├── requirements.txt\n",
      "├── save\n",
      "│   ├── keras_cnn_mnist_best.pbuf\n",
      "│   ├── keras_cnn_mnist_init.pbuf\n",
      "│   └── keras_cnn_mnist_last.pbuf\n",
      "└── src\n",
      "    ├── keras_cnn.py\n",
      "    ├── mnist_utils.py\n",
      "    ├── tfmnist_inmemory.py\n",
      "    └── __init__.py\n",
      "\n",
      "10 directories, 21 files\n",
      "Setting Up Certificate Authority...\n",
      "\n",
      "1.  Create Root CA\n",
      "1.1 Create Directories\n",
      "1.2 Create Database\n",
      "1.3 Create CA Request and Certificate\n",
      "2.  Create Signing Certificate\n",
      "2.1 Create Directories\n",
      "2.2 Create Database\n",
      "2.3 Create Signing Certificate CSR\n",
      "2.4 Sign Signing Certificate CSR\n",
      "3   Create Certificate Chain\n",
      "\n",
      "Done.\n",
      "Creating AGGREGATOR certificate key pair with following settings: CN=\u001b[31mdesktop-8r9a5ni\u001b[0m, SAN=\u001b[31mDNS:desktop-8r9a5ni\u001b[0m\n",
      "  Writing AGGREGATOR certificate key pair to: \u001b[32mD:\\Jupyter\\OpenFL\\cert/server\u001b[0m\n",
      "The CSR Hash for file \u001b[32mserver/agg_desktop-8r9a5ni.csr\u001b[0m = \u001b[31m58a3cd201b87aadc723bb8eb24b410c13ea09b1574a35eda66f4d915d98708bbc0cb76adb1c23186e5d70270fc1c675d\u001b[0m\n",
      " Signing AGGREGATOR certificate\n",
      "Creating COLLABORATOR certificate key pair with following settings: CN=\u001b[31mone\u001b[0m, SAN=\u001b[31mDNS:one\u001b[0m\n",
      "  Moving COLLABORATOR certificate to: \u001b[32mD:\\Jupyter\\OpenFL\\cert/col_one\u001b[0m\n",
      "The CSR Hash for file \u001b[32mcol_one.csr\u001b[0m = \u001b[31m96a701d5559893c47299dfdfe67244d75d1c9536b628dc91e2d2d737e04a7d36007f8cb94fa01895c12c7de80847ab5b\u001b[0m\n",
      " Signing COLLABORATOR certificate\n",
      "\n",
      "Registering \u001b[32mone\u001b[0m in \u001b[32mC:\\Users\\BHSU\\.local\\workspace\\plan\\cols.yaml\u001b[0m\n",
      "Creating COLLABORATOR certificate key pair with following settings: CN=\u001b[31mtwo\u001b[0m, SAN=\u001b[31mDNS:two\u001b[0m\n",
      "  Moving COLLABORATOR certificate to: \u001b[32mD:\\Jupyter\\OpenFL\\cert/col_two\u001b[0m\n",
      "The CSR Hash for file \u001b[32mcol_two.csr\u001b[0m = \u001b[31m7e499dd09cbdb4030dadecf834d3149169fe76e3926bbb86a7e878de02d6a093738f46e04f42f0cbf8b1c06e9b385b04\u001b[0m\n",
      " Signing COLLABORATOR certificate\n",
      "\n",
      "Registering \u001b[32mtwo\u001b[0m in \u001b[32mC:\\Users\\BHSU\\.local\\workspace\\plan\\cols.yaml\u001b[0m\n"
     ]
    }
   ],
   "source": [
    "fx.init('keras_cnn_mnist')"
   ]
  },
  {
   "cell_type": "code",
   "execution_count": 5,
   "id": "966b7b7b-4a4b-4dc4-84cc-079435a2b7fa",
   "metadata": {},
   "outputs": [],
   "source": [
    "#Import and process training, validation, and test images/labels\n",
    "\n",
    "# Set the ratio of validation imgs, can't be 0.0\n",
    "VALID_PERCENT = 0.3\n",
    "\n",
    "(X_train, y_train), (X_test, y_test) = mnist.load_data()\n",
    "split_on = int((1 - VALID_PERCENT) * len(X_train))\n",
    "\n",
    "train_images = X_train[0:split_on,:,:]\n",
    "train_labels = to_categorical(y_train)[0:split_on,:]\n",
    "\n",
    "valid_images = X_train[split_on:,:,:]\n",
    "valid_labels = to_categorical(y_train)[split_on:,:]\n",
    "\n",
    "test_images = X_test\n",
    "test_labels = to_categorical(y_test)"
   ]
  },
  {
   "cell_type": "code",
   "execution_count": 6,
   "id": "ae95e9d5-86dc-4c4e-8fcc-996b3464189c",
   "metadata": {},
   "outputs": [],
   "source": [
    "def preprocess(images):\n",
    "    #Normalize\n",
    "    images = (images / 255) - 0.5\n",
    "    #Flatten\n",
    "    images = images.reshape((-1, 784))\n",
    "    return images\n",
    "\n",
    "# Preprocess the images.\n",
    "train_images = preprocess(train_images)\n",
    "valid_images = preprocess(valid_images)\n",
    "test_images = preprocess(test_images)\n",
    "\n",
    "feature_shape = train_images.shape[1]\n",
    "classes = 10\n",
    "\n",
    "fl_data = FederatedDataSet(train_images,train_labels,valid_images,valid_labels,batch_size=32,num_classes=classes)\n",
    "\n",
    "def build_model(feature_shape,classes):\n",
    "    #Defines the MNIST model\n",
    "    model = Sequential()\n",
    "    model.add(Dense(64, input_shape=feature_shape, activation='relu'))\n",
    "    model.add(Dense(64, activation='relu'))\n",
    "    model.add(Dense(classes, activation='softmax'))\n",
    "    \n",
    "    model.compile(optimizer='adam',loss='categorical_crossentropy',metrics=['accuracy'],)\n",
    "    return model"
   ]
  },
  {
   "cell_type": "code",
   "execution_count": 7,
   "id": "72d85eba-e4c8-442d-be68-01ce26f8e9e9",
   "metadata": {},
   "outputs": [],
   "source": [
    "#Create a federated model using the build model function and dataset\n",
    "fl_model = FederatedModel(build_model,data_loader=fl_data)"
   ]
  },
  {
   "cell_type": "code",
   "execution_count": null,
   "id": "9d999fa0-8a42-4eb5-a45b-23c4f32cbc52",
   "metadata": {},
   "outputs": [],
   "source": []
  },
  {
   "cell_type": "code",
   "execution_count": 8,
   "id": "9df0db61-12d9-4445-96a2-ce2d414cf107",
   "metadata": {},
   "outputs": [],
   "source": [
    "collaborator_models = fl_model.setup(num_collaborators=2)\n",
    "collaborators = {'one':collaborator_models[0],'two':collaborator_models[1]}#, 'three':collaborator_models[2]}"
   ]
  },
  {
   "cell_type": "code",
   "execution_count": 9,
   "id": "b411ccb9-6007-4927-8503-e75546e547b3",
   "metadata": {},
   "outputs": [
    {
     "name": "stdout",
     "output_type": "stream",
     "text": [
      "{\n",
      "    \"aggregator.settings.best_state_path\": \"save/keras_cnn_mnist_best.pbuf\",\n",
      "    \"aggregator.settings.db_store_rounds\": 2,\n",
      "    \"aggregator.settings.init_state_path\": \"save/keras_cnn_mnist_init.pbuf\",\n",
      "    \"aggregator.settings.last_state_path\": \"save/keras_cnn_mnist_last.pbuf\",\n",
      "    \"aggregator.settings.rounds_to_train\": 10,\n",
      "    \"aggregator.settings.write_logs\": true,\n",
      "    \"aggregator.template\": \"openfl.component.Aggregator\",\n",
      "    \"assigner.settings.task_groups.0.name\": \"train_and_validate\",\n",
      "    \"assigner.settings.task_groups.0.percentage\": 1.0,\n",
      "    \"assigner.settings.task_groups.0.tasks.0\": \"aggregated_model_validation\",\n",
      "    \"assigner.settings.task_groups.0.tasks.1\": \"train\",\n",
      "    \"assigner.settings.task_groups.0.tasks.2\": \"locally_tuned_model_validation\",\n",
      "    \"assigner.template\": \"openfl.component.RandomGroupedAssigner\",\n",
      "    \"collaborator.settings.db_store_rounds\": 1,\n",
      "    \"collaborator.settings.delta_updates\": false,\n",
      "    \"collaborator.settings.opt_treatment\": \"RESET\",\n",
      "    \"collaborator.template\": \"openfl.component.Collaborator\",\n",
      "    \"compression_pipeline.settings\": {},\n",
      "    \"compression_pipeline.template\": \"openfl.pipelines.NoCompressionPipeline\",\n",
      "    \"data_loader.settings.batch_size\": 256,\n",
      "    \"data_loader.settings.collaborator_count\": 2,\n",
      "    \"data_loader.settings.data_group_name\": \"mnist\",\n",
      "    \"data_loader.template\": \"src.tfmnist_inmemory.TensorFlowMNISTInMemory\",\n",
      "    \"network.settings.agg_addr\": \"DESKTOP-8R9A5NI\",\n",
      "    \"network.settings.agg_port\": 60628,\n",
      "    \"network.settings.cert_folder\": \"cert\",\n",
      "    \"network.settings.client_reconnect_interval\": 5,\n",
      "    \"network.settings.disable_client_auth\": false,\n",
      "    \"network.settings.hash_salt\": \"auto\",\n",
      "    \"network.settings.tls\": true,\n",
      "    \"network.template\": \"openfl.federation.Network\",\n",
      "    \"task_runner.settings\": {},\n",
      "    \"task_runner.template\": \"src.keras_cnn.KerasCNN\",\n",
      "    \"tasks.aggregated_model_validation.function\": \"validate\",\n",
      "    \"tasks.aggregated_model_validation.kwargs.apply\": \"global\",\n",
      "    \"tasks.aggregated_model_validation.kwargs.batch_size\": 32,\n",
      "    \"tasks.aggregated_model_validation.kwargs.metrics.0\": \"accuracy\",\n",
      "    \"tasks.locally_tuned_model_validation.function\": \"validate\",\n",
      "    \"tasks.locally_tuned_model_validation.kwargs.apply\": \"local\",\n",
      "    \"tasks.locally_tuned_model_validation.kwargs.batch_size\": 32,\n",
      "    \"tasks.locally_tuned_model_validation.kwargs.metrics.0\": \"accuracy\",\n",
      "    \"tasks.settings\": {},\n",
      "    \"tasks.train.function\": \"train\",\n",
      "    \"tasks.train.kwargs.batch_size\": 32,\n",
      "    \"tasks.train.kwargs.epochs\": 1,\n",
      "    \"tasks.train.kwargs.metrics.0\": \"loss\"\n",
      "}\n"
     ]
    }
   ],
   "source": [
    "#Get the current values of the plan. Each of these can be overridden\n",
    "print(fx.get_plan())"
   ]
  },
  {
   "cell_type": "code",
   "execution_count": 10,
   "id": "540dde08-6310-4a9f-b5c2-b45e174943b7",
   "metadata": {},
   "outputs": [
    {
     "data": {
      "text/html": [
       "<pre style=\"white-space:pre;overflow-x:auto;line-height:normal;font-family:Menlo,'DejaVu Sans Mono',consolas,'Courier New',monospace\"><span style=\"color: #7fbfbf; text-decoration-color: #7fbfbf\">[10:46:23] </span><span style=\"color: #000080; text-decoration-color: #000080\">INFO    </span> Updating aggregator.settings.rounds_to_train to <span style=\"color: #008080; text-decoration-color: #008080; font-weight: bold\">5</span><span style=\"color: #808000; text-decoration-color: #808000\">...</span>                                                                           <a href=\"file://C:\\Users\\BHSU\\AppData\\Local\\Programs\\Python\\Python39\\lib\\site-packages\\openfl\\native\\native.py\" target=\"_blank\"><span style=\"color: #7f7f7f; text-decoration-color: #7f7f7f\">native.py</span></a><span style=\"color: #7f7f7f; text-decoration-color: #7f7f7f\">:</span><a href=\"file://C:\\Users\\BHSU\\AppData\\Local\\Programs\\Python\\Python39\\lib\\site-packages\\openfl\\native\\native.py#102\" target=\"_blank\"><span style=\"color: #7f7f7f; text-decoration-color: #7f7f7f\">102</span></a>\n",
       "</pre>\n"
      ],
      "text/plain": [
       "\u001b[2;36m[10:46:23]\u001b[0m\u001b[2;36m \u001b[0m\u001b[34mINFO    \u001b[0m Updating aggregator.settings.rounds_to_train to \u001b[1;36m5\u001b[0m\u001b[33m...\u001b[0m                                                                           \u001b]8;id=512324;file://C:\\Users\\BHSU\\AppData\\Local\\Programs\\Python\\Python39\\lib\\site-packages\\openfl\\native\\native.py\u001b\\\u001b[2mnative.py\u001b[0m\u001b]8;;\u001b\\\u001b[2m:\u001b[0m\u001b]8;id=754437;file://C:\\Users\\BHSU\\AppData\\Local\\Programs\\Python\\Python39\\lib\\site-packages\\openfl\\native\\native.py#102\u001b\\\u001b[2m102\u001b[0m\u001b]8;;\u001b\\\n"
      ]
     },
     "metadata": {},
     "output_type": "display_data"
    },
    {
     "data": {
      "text/html": [
       "<pre style=\"white-space:pre;overflow-x:auto;line-height:normal;font-family:Menlo,'DejaVu Sans Mono',consolas,'Courier New',monospace\"><span style=\"color: #7fbfbf; text-decoration-color: #7fbfbf\">           </span><span style=\"color: #000080; text-decoration-color: #000080\">INFO    </span> FL-Plan hash is <span style=\"color: #000080; text-decoration-color: #000080\">3038ce92442cac7666b80fc10e51468e5e5adcc0b61540dc858ee7d85c8b0c885c2cc942842464f636d17c74cb36ced1</span>                 <a href=\"file://C:\\Users\\BHSU\\AppData\\Local\\Programs\\Python\\Python39\\lib\\site-packages\\openfl\\federated\\plan\\plan.py\" target=\"_blank\"><span style=\"color: #7f7f7f; text-decoration-color: #7f7f7f\">plan.py</span></a><span style=\"color: #7f7f7f; text-decoration-color: #7f7f7f\">:</span><a href=\"file://C:\\Users\\BHSU\\AppData\\Local\\Programs\\Python\\Python39\\lib\\site-packages\\openfl\\federated\\plan\\plan.py#235\" target=\"_blank\"><span style=\"color: #7f7f7f; text-decoration-color: #7f7f7f\">235</span></a>\n",
       "</pre>\n"
      ],
      "text/plain": [
       "\u001b[2;36m          \u001b[0m\u001b[2;36m \u001b[0m\u001b[34mINFO    \u001b[0m FL-Plan hash is \u001b[34m3038ce92442cac7666b80fc10e51468e5e5adcc0b61540dc858ee7d85c8b0c885c2cc942842464f636d17c74cb36ced1\u001b[0m                 \u001b]8;id=94423;file://C:\\Users\\BHSU\\AppData\\Local\\Programs\\Python\\Python39\\lib\\site-packages\\openfl\\federated\\plan\\plan.py\u001b\\\u001b[2mplan.py\u001b[0m\u001b]8;;\u001b\\\u001b[2m:\u001b[0m\u001b]8;id=77420;file://C:\\Users\\BHSU\\AppData\\Local\\Programs\\Python\\Python39\\lib\\site-packages\\openfl\\federated\\plan\\plan.py#235\u001b\\\u001b[2m235\u001b[0m\u001b]8;;\u001b\\\n"
      ]
     },
     "metadata": {},
     "output_type": "display_data"
    },
    {
     "data": {
      "text/html": [
       "<pre style=\"white-space:pre;overflow-x:auto;line-height:normal;font-family:Menlo,'DejaVu Sans Mono',consolas,'Courier New',monospace\"><span style=\"color: #7fbfbf; text-decoration-color: #7fbfbf\">           </span><span style=\"color: #000080; text-decoration-color: #000080\">INFO    </span> Building <span style=\"color: #800000; text-decoration-color: #800000\">🡆</span> Object <span style=\"color: #800000; text-decoration-color: #800000\">NoCompressionPipeline</span> from <span style=\"color: #800000; text-decoration-color: #800000\">openfl.pipelines</span> Module.                                                            <a href=\"file://C:\\Users\\BHSU\\AppData\\Local\\Programs\\Python\\Python39\\lib\\site-packages\\openfl\\federated\\plan\\plan.py\" target=\"_blank\"><span style=\"color: #7f7f7f; text-decoration-color: #7f7f7f\">plan.py</span></a><span style=\"color: #7f7f7f; text-decoration-color: #7f7f7f\">:</span><a href=\"file://C:\\Users\\BHSU\\AppData\\Local\\Programs\\Python\\Python39\\lib\\site-packages\\openfl\\federated\\plan\\plan.py#171\" target=\"_blank\"><span style=\"color: #7f7f7f; text-decoration-color: #7f7f7f\">171</span></a>\n",
       "</pre>\n"
      ],
      "text/plain": [
       "\u001b[2;36m          \u001b[0m\u001b[2;36m \u001b[0m\u001b[34mINFO    \u001b[0m Building \u001b[31m🡆\u001b[0m Object \u001b[31mNoCompressionPipeline\u001b[0m from \u001b[31mopenfl.pipelines\u001b[0m Module.                                                            \u001b]8;id=774210;file://C:\\Users\\BHSU\\AppData\\Local\\Programs\\Python\\Python39\\lib\\site-packages\\openfl\\federated\\plan\\plan.py\u001b\\\u001b[2mplan.py\u001b[0m\u001b]8;;\u001b\\\u001b[2m:\u001b[0m\u001b]8;id=152580;file://C:\\Users\\BHSU\\AppData\\Local\\Programs\\Python\\Python39\\lib\\site-packages\\openfl\\federated\\plan\\plan.py#171\u001b\\\u001b[2m171\u001b[0m\u001b]8;;\u001b\\\n"
      ]
     },
     "metadata": {},
     "output_type": "display_data"
    },
    {
     "data": {
      "text/html": [
       "<pre style=\"white-space:pre;overflow-x:auto;line-height:normal;font-family:Menlo,'DejaVu Sans Mono',consolas,'Courier New',monospace\"><span style=\"color: #7fbfbf; text-decoration-color: #7fbfbf\">           </span><span style=\"color: #000080; text-decoration-color: #000080\">INFO    </span> Creating Initial Weights File    🠆 save/keras_cnn_mnist_init.pbuf                                                              <a href=\"file://C:\\Users\\BHSU\\AppData\\Local\\Programs\\Python\\Python39\\lib\\site-packages\\openfl\\native\\native.py\" target=\"_blank\"><span style=\"color: #7f7f7f; text-decoration-color: #7f7f7f\">native.py</span></a><span style=\"color: #7f7f7f; text-decoration-color: #7f7f7f\">:</span><a href=\"file://C:\\Users\\BHSU\\AppData\\Local\\Programs\\Python\\Python39\\lib\\site-packages\\openfl\\native\\native.py#277\" target=\"_blank\"><span style=\"color: #7f7f7f; text-decoration-color: #7f7f7f\">277</span></a>\n",
       "</pre>\n"
      ],
      "text/plain": [
       "\u001b[2;36m          \u001b[0m\u001b[2;36m \u001b[0m\u001b[34mINFO    \u001b[0m Creating Initial Weights File    🠆 save/keras_cnn_mnist_init.pbuf                                                              \u001b]8;id=280210;file://C:\\Users\\BHSU\\AppData\\Local\\Programs\\Python\\Python39\\lib\\site-packages\\openfl\\native\\native.py\u001b\\\u001b[2mnative.py\u001b[0m\u001b]8;;\u001b\\\u001b[2m:\u001b[0m\u001b]8;id=999989;file://C:\\Users\\BHSU\\AppData\\Local\\Programs\\Python\\Python39\\lib\\site-packages\\openfl\\native\\native.py#277\u001b\\\u001b[2m277\u001b[0m\u001b]8;;\u001b\\\n"
      ]
     },
     "metadata": {},
     "output_type": "display_data"
    },
    {
     "data": {
      "text/html": [
       "<pre style=\"white-space:pre;overflow-x:auto;line-height:normal;font-family:Menlo,'DejaVu Sans Mono',consolas,'Courier New',monospace\"><span style=\"color: #7fbfbf; text-decoration-color: #7fbfbf\">           </span><span style=\"color: #000080; text-decoration-color: #000080\">INFO    </span> Starting Experiment<span style=\"color: #808000; text-decoration-color: #808000\">...</span>                                                                                                         <a href=\"file://C:\\Users\\BHSU\\AppData\\Local\\Programs\\Python\\Python39\\lib\\site-packages\\openfl\\native\\native.py\" target=\"_blank\"><span style=\"color: #7f7f7f; text-decoration-color: #7f7f7f\">native.py</span></a><span style=\"color: #7f7f7f; text-decoration-color: #7f7f7f\">:</span><a href=\"file://C:\\Users\\BHSU\\AppData\\Local\\Programs\\Python\\Python39\\lib\\site-packages\\openfl\\native\\native.py#281\" target=\"_blank\"><span style=\"color: #7f7f7f; text-decoration-color: #7f7f7f\">281</span></a>\n",
       "</pre>\n"
      ],
      "text/plain": [
       "\u001b[2;36m          \u001b[0m\u001b[2;36m \u001b[0m\u001b[34mINFO    \u001b[0m Starting Experiment\u001b[33m...\u001b[0m                                                                                                         \u001b]8;id=564537;file://C:\\Users\\BHSU\\AppData\\Local\\Programs\\Python\\Python39\\lib\\site-packages\\openfl\\native\\native.py\u001b\\\u001b[2mnative.py\u001b[0m\u001b]8;;\u001b\\\u001b[2m:\u001b[0m\u001b]8;id=911394;file://C:\\Users\\BHSU\\AppData\\Local\\Programs\\Python\\Python39\\lib\\site-packages\\openfl\\native\\native.py#281\u001b\\\u001b[2m281\u001b[0m\u001b]8;;\u001b\\\n"
      ]
     },
     "metadata": {},
     "output_type": "display_data"
    },
    {
     "data": {
      "text/html": [
       "<pre style=\"white-space:pre;overflow-x:auto;line-height:normal;font-family:Menlo,'DejaVu Sans Mono',consolas,'Courier New',monospace\"><span style=\"color: #7fbfbf; text-decoration-color: #7fbfbf\">           </span><span style=\"color: #000080; text-decoration-color: #000080\">INFO    </span> Building <span style=\"color: #800000; text-decoration-color: #800000\">🡆</span> Object <span style=\"color: #800000; text-decoration-color: #800000\">RandomGroupedAssigner</span> from <span style=\"color: #800000; text-decoration-color: #800000\">openfl.component</span> Module.                                                            <a href=\"file://C:\\Users\\BHSU\\AppData\\Local\\Programs\\Python\\Python39\\lib\\site-packages\\openfl\\federated\\plan\\plan.py\" target=\"_blank\"><span style=\"color: #7f7f7f; text-decoration-color: #7f7f7f\">plan.py</span></a><span style=\"color: #7f7f7f; text-decoration-color: #7f7f7f\">:</span><a href=\"file://C:\\Users\\BHSU\\AppData\\Local\\Programs\\Python\\Python39\\lib\\site-packages\\openfl\\federated\\plan\\plan.py#171\" target=\"_blank\"><span style=\"color: #7f7f7f; text-decoration-color: #7f7f7f\">171</span></a>\n",
       "</pre>\n"
      ],
      "text/plain": [
       "\u001b[2;36m          \u001b[0m\u001b[2;36m \u001b[0m\u001b[34mINFO    \u001b[0m Building \u001b[31m🡆\u001b[0m Object \u001b[31mRandomGroupedAssigner\u001b[0m from \u001b[31mopenfl.component\u001b[0m Module.                                                            \u001b]8;id=74583;file://C:\\Users\\BHSU\\AppData\\Local\\Programs\\Python\\Python39\\lib\\site-packages\\openfl\\federated\\plan\\plan.py\u001b\\\u001b[2mplan.py\u001b[0m\u001b]8;;\u001b\\\u001b[2m:\u001b[0m\u001b]8;id=369002;file://C:\\Users\\BHSU\\AppData\\Local\\Programs\\Python\\Python39\\lib\\site-packages\\openfl\\federated\\plan\\plan.py#171\u001b\\\u001b[2m171\u001b[0m\u001b]8;;\u001b\\\n"
      ]
     },
     "metadata": {},
     "output_type": "display_data"
    },
    {
     "data": {
      "text/html": [
       "<pre style=\"white-space:pre;overflow-x:auto;line-height:normal;font-family:Menlo,'DejaVu Sans Mono',consolas,'Courier New',monospace\"><span style=\"color: #7fbfbf; text-decoration-color: #7fbfbf\">           </span><span style=\"color: #000080; text-decoration-color: #000080\">INFO    </span> Building <span style=\"color: #800000; text-decoration-color: #800000\">🡆</span> Object <span style=\"color: #800000; text-decoration-color: #800000\">CutoffTimeBasedStragglerHandling</span> from <span style=\"color: #800000; text-decoration-color: #800000\">openfl.component.straggler_handling_functions</span> Module.                    <a href=\"file://C:\\Users\\BHSU\\AppData\\Local\\Programs\\Python\\Python39\\lib\\site-packages\\openfl\\federated\\plan\\plan.py\" target=\"_blank\"><span style=\"color: #7f7f7f; text-decoration-color: #7f7f7f\">plan.py</span></a><span style=\"color: #7f7f7f; text-decoration-color: #7f7f7f\">:</span><a href=\"file://C:\\Users\\BHSU\\AppData\\Local\\Programs\\Python\\Python39\\lib\\site-packages\\openfl\\federated\\plan\\plan.py#171\" target=\"_blank\"><span style=\"color: #7f7f7f; text-decoration-color: #7f7f7f\">171</span></a>\n",
       "</pre>\n"
      ],
      "text/plain": [
       "\u001b[2;36m          \u001b[0m\u001b[2;36m \u001b[0m\u001b[34mINFO    \u001b[0m Building \u001b[31m🡆\u001b[0m Object \u001b[31mCutoffTimeBasedStragglerHandling\u001b[0m from \u001b[31mopenfl.component.straggler_handling_functions\u001b[0m Module.                    \u001b]8;id=855802;file://C:\\Users\\BHSU\\AppData\\Local\\Programs\\Python\\Python39\\lib\\site-packages\\openfl\\federated\\plan\\plan.py\u001b\\\u001b[2mplan.py\u001b[0m\u001b]8;;\u001b\\\u001b[2m:\u001b[0m\u001b]8;id=601912;file://C:\\Users\\BHSU\\AppData\\Local\\Programs\\Python\\Python39\\lib\\site-packages\\openfl\\federated\\plan\\plan.py#171\u001b\\\u001b[2m171\u001b[0m\u001b]8;;\u001b\\\n"
      ]
     },
     "metadata": {},
     "output_type": "display_data"
    },
    {
     "data": {
      "text/html": [
       "<pre style=\"white-space:pre;overflow-x:auto;line-height:normal;font-family:Menlo,'DejaVu Sans Mono',consolas,'Courier New',monospace\"><span style=\"color: #7fbfbf; text-decoration-color: #7fbfbf\">           </span><span style=\"color: #000080; text-decoration-color: #000080\">INFO    </span> Building <span style=\"color: #800000; text-decoration-color: #800000\">🡆</span> Object <span style=\"color: #800000; text-decoration-color: #800000\">Aggregator</span> from <span style=\"color: #800000; text-decoration-color: #800000\">openfl.component</span> Module.                                                                       <a href=\"file://C:\\Users\\BHSU\\AppData\\Local\\Programs\\Python\\Python39\\lib\\site-packages\\openfl\\federated\\plan\\plan.py\" target=\"_blank\"><span style=\"color: #7f7f7f; text-decoration-color: #7f7f7f\">plan.py</span></a><span style=\"color: #7f7f7f; text-decoration-color: #7f7f7f\">:</span><a href=\"file://C:\\Users\\BHSU\\AppData\\Local\\Programs\\Python\\Python39\\lib\\site-packages\\openfl\\federated\\plan\\plan.py#171\" target=\"_blank\"><span style=\"color: #7f7f7f; text-decoration-color: #7f7f7f\">171</span></a>\n",
       "</pre>\n"
      ],
      "text/plain": [
       "\u001b[2;36m          \u001b[0m\u001b[2;36m \u001b[0m\u001b[34mINFO    \u001b[0m Building \u001b[31m🡆\u001b[0m Object \u001b[31mAggregator\u001b[0m from \u001b[31mopenfl.component\u001b[0m Module.                                                                       \u001b]8;id=172243;file://C:\\Users\\BHSU\\AppData\\Local\\Programs\\Python\\Python39\\lib\\site-packages\\openfl\\federated\\plan\\plan.py\u001b\\\u001b[2mplan.py\u001b[0m\u001b]8;;\u001b\\\u001b[2m:\u001b[0m\u001b]8;id=173556;file://C:\\Users\\BHSU\\AppData\\Local\\Programs\\Python\\Python39\\lib\\site-packages\\openfl\\federated\\plan\\plan.py#171\u001b\\\u001b[2m171\u001b[0m\u001b]8;;\u001b\\\n"
      ]
     },
     "metadata": {},
     "output_type": "display_data"
    },
    {
     "data": {
      "text/html": [
       "<pre style=\"white-space:pre;overflow-x:auto;line-height:normal;font-family:Menlo,'DejaVu Sans Mono',consolas,'Courier New',monospace\"><span style=\"color: #7fbfbf; text-decoration-color: #7fbfbf\">           </span><span style=\"color: #000080; text-decoration-color: #000080\">INFO    </span> Building <span style=\"color: #800000; text-decoration-color: #800000\">🡆</span> Object <span style=\"color: #800000; text-decoration-color: #800000\">Collaborator</span> from <span style=\"color: #800000; text-decoration-color: #800000\">openfl.component</span> Module.                                                                     <a href=\"file://C:\\Users\\BHSU\\AppData\\Local\\Programs\\Python\\Python39\\lib\\site-packages\\openfl\\federated\\plan\\plan.py\" target=\"_blank\"><span style=\"color: #7f7f7f; text-decoration-color: #7f7f7f\">plan.py</span></a><span style=\"color: #7f7f7f; text-decoration-color: #7f7f7f\">:</span><a href=\"file://C:\\Users\\BHSU\\AppData\\Local\\Programs\\Python\\Python39\\lib\\site-packages\\openfl\\federated\\plan\\plan.py#171\" target=\"_blank\"><span style=\"color: #7f7f7f; text-decoration-color: #7f7f7f\">171</span></a>\n",
       "</pre>\n"
      ],
      "text/plain": [
       "\u001b[2;36m          \u001b[0m\u001b[2;36m \u001b[0m\u001b[34mINFO    \u001b[0m Building \u001b[31m🡆\u001b[0m Object \u001b[31mCollaborator\u001b[0m from \u001b[31mopenfl.component\u001b[0m Module.                                                                     \u001b]8;id=6435;file://C:\\Users\\BHSU\\AppData\\Local\\Programs\\Python\\Python39\\lib\\site-packages\\openfl\\federated\\plan\\plan.py\u001b\\\u001b[2mplan.py\u001b[0m\u001b]8;;\u001b\\\u001b[2m:\u001b[0m\u001b]8;id=250099;file://C:\\Users\\BHSU\\AppData\\Local\\Programs\\Python\\Python39\\lib\\site-packages\\openfl\\federated\\plan\\plan.py#171\u001b\\\u001b[2m171\u001b[0m\u001b]8;;\u001b\\\n"
      ]
     },
     "metadata": {},
     "output_type": "display_data"
    },
    {
     "data": {
      "text/html": [
       "<pre style=\"white-space:pre;overflow-x:auto;line-height:normal;font-family:Menlo,'DejaVu Sans Mono',consolas,'Courier New',monospace\"><span style=\"color: #7fbfbf; text-decoration-color: #7fbfbf\">           </span><span style=\"color: #000080; text-decoration-color: #000080\">INFO    </span> Building <span style=\"color: #800000; text-decoration-color: #800000\">🡆</span> Object <span style=\"color: #800000; text-decoration-color: #800000\">Collaborator</span> from <span style=\"color: #800000; text-decoration-color: #800000\">openfl.component</span> Module.                                                                     <a href=\"file://C:\\Users\\BHSU\\AppData\\Local\\Programs\\Python\\Python39\\lib\\site-packages\\openfl\\federated\\plan\\plan.py\" target=\"_blank\"><span style=\"color: #7f7f7f; text-decoration-color: #7f7f7f\">plan.py</span></a><span style=\"color: #7f7f7f; text-decoration-color: #7f7f7f\">:</span><a href=\"file://C:\\Users\\BHSU\\AppData\\Local\\Programs\\Python\\Python39\\lib\\site-packages\\openfl\\federated\\plan\\plan.py#171\" target=\"_blank\"><span style=\"color: #7f7f7f; text-decoration-color: #7f7f7f\">171</span></a>\n",
       "</pre>\n"
      ],
      "text/plain": [
       "\u001b[2;36m          \u001b[0m\u001b[2;36m \u001b[0m\u001b[34mINFO    \u001b[0m Building \u001b[31m🡆\u001b[0m Object \u001b[31mCollaborator\u001b[0m from \u001b[31mopenfl.component\u001b[0m Module.                                                                     \u001b]8;id=133290;file://C:\\Users\\BHSU\\AppData\\Local\\Programs\\Python\\Python39\\lib\\site-packages\\openfl\\federated\\plan\\plan.py\u001b\\\u001b[2mplan.py\u001b[0m\u001b]8;;\u001b\\\u001b[2m:\u001b[0m\u001b]8;id=373906;file://C:\\Users\\BHSU\\AppData\\Local\\Programs\\Python\\Python39\\lib\\site-packages\\openfl\\federated\\plan\\plan.py#171\u001b\\\u001b[2m171\u001b[0m\u001b]8;;\u001b\\\n"
      ]
     },
     "metadata": {},
     "output_type": "display_data"
    },
    {
     "data": {
      "text/html": [
       "<pre style=\"white-space:pre;overflow-x:auto;line-height:normal;font-family:Menlo,'DejaVu Sans Mono',consolas,'Courier New',monospace\"><span style=\"color: #7fbfbf; text-decoration-color: #7fbfbf\">           </span><span style=\"color: #000080; text-decoration-color: #000080\">INFO    </span> Waiting for tasks<span style=\"color: #808000; text-decoration-color: #808000\">...</span>                                                                                                     <a href=\"file://C:\\Users\\BHSU\\AppData\\Local\\Programs\\Python\\Python39\\lib\\site-packages\\openfl\\component\\collaborator\\collaborator.py\" target=\"_blank\"><span style=\"color: #7f7f7f; text-decoration-color: #7f7f7f\">collaborator.py</span></a><span style=\"color: #7f7f7f; text-decoration-color: #7f7f7f\">:</span><a href=\"file://C:\\Users\\BHSU\\AppData\\Local\\Programs\\Python\\Python39\\lib\\site-packages\\openfl\\component\\collaborator\\collaborator.py#178\" target=\"_blank\"><span style=\"color: #7f7f7f; text-decoration-color: #7f7f7f\">178</span></a>\n",
       "</pre>\n"
      ],
      "text/plain": [
       "\u001b[2;36m          \u001b[0m\u001b[2;36m \u001b[0m\u001b[34mINFO    \u001b[0m Waiting for tasks\u001b[33m...\u001b[0m                                                                                                     \u001b]8;id=655872;file://C:\\Users\\BHSU\\AppData\\Local\\Programs\\Python\\Python39\\lib\\site-packages\\openfl\\component\\collaborator\\collaborator.py\u001b\\\u001b[2mcollaborator.py\u001b[0m\u001b]8;;\u001b\\\u001b[2m:\u001b[0m\u001b]8;id=286334;file://C:\\Users\\BHSU\\AppData\\Local\\Programs\\Python\\Python39\\lib\\site-packages\\openfl\\component\\collaborator\\collaborator.py#178\u001b\\\u001b[2m178\u001b[0m\u001b]8;;\u001b\\\n"
      ]
     },
     "metadata": {},
     "output_type": "display_data"
    },
    {
     "data": {
      "text/html": [
       "<pre style=\"white-space:pre;overflow-x:auto;line-height:normal;font-family:Menlo,'DejaVu Sans Mono',consolas,'Courier New',monospace\"><span style=\"color: #7fbfbf; text-decoration-color: #7fbfbf\">           </span><span style=\"color: #000080; text-decoration-color: #000080\">INFO    </span> Sending tasks to collaborator one for round <span style=\"color: #008080; text-decoration-color: #008080; font-weight: bold\">0</span>                                                                              <a href=\"file://C:\\Users\\BHSU\\AppData\\Local\\Programs\\Python\\Python39\\lib\\site-packages\\openfl\\component\\aggregator\\aggregator.py\" target=\"_blank\"><span style=\"color: #7f7f7f; text-decoration-color: #7f7f7f\">aggregator.py</span></a><span style=\"color: #7f7f7f; text-decoration-color: #7f7f7f\">:</span><a href=\"file://C:\\Users\\BHSU\\AppData\\Local\\Programs\\Python\\Python39\\lib\\site-packages\\openfl\\component\\aggregator\\aggregator.py#329\" target=\"_blank\"><span style=\"color: #7f7f7f; text-decoration-color: #7f7f7f\">329</span></a>\n",
       "</pre>\n"
      ],
      "text/plain": [
       "\u001b[2;36m          \u001b[0m\u001b[2;36m \u001b[0m\u001b[34mINFO    \u001b[0m Sending tasks to collaborator one for round \u001b[1;36m0\u001b[0m                                                                              \u001b]8;id=796386;file://C:\\Users\\BHSU\\AppData\\Local\\Programs\\Python\\Python39\\lib\\site-packages\\openfl\\component\\aggregator\\aggregator.py\u001b\\\u001b[2maggregator.py\u001b[0m\u001b]8;;\u001b\\\u001b[2m:\u001b[0m\u001b]8;id=196348;file://C:\\Users\\BHSU\\AppData\\Local\\Programs\\Python\\Python39\\lib\\site-packages\\openfl\\component\\aggregator\\aggregator.py#329\u001b\\\u001b[2m329\u001b[0m\u001b]8;;\u001b\\\n"
      ]
     },
     "metadata": {},
     "output_type": "display_data"
    },
    {
     "data": {
      "text/html": [
       "<pre style=\"white-space:pre;overflow-x:auto;line-height:normal;font-family:Menlo,'DejaVu Sans Mono',consolas,'Courier New',monospace\"><span style=\"color: #7fbfbf; text-decoration-color: #7fbfbf\">           </span><span style=\"color: #000080; text-decoration-color: #000080\">INFO    </span> Received the following tasks: <span style=\"font-weight: bold\">[</span><span style=\"color: #008000; text-decoration-color: #008000\">'aggregated_model_validation'</span>, <span style=\"color: #008000; text-decoration-color: #008000\">'train'</span>, <span style=\"color: #008000; text-decoration-color: #008000\">'locally_tuned_model_validation'</span><span style=\"font-weight: bold\">]</span>                 <a href=\"file://C:\\Users\\BHSU\\AppData\\Local\\Programs\\Python\\Python39\\lib\\site-packages\\openfl\\component\\collaborator\\collaborator.py\" target=\"_blank\"><span style=\"color: #7f7f7f; text-decoration-color: #7f7f7f\">collaborator.py</span></a><span style=\"color: #7f7f7f; text-decoration-color: #7f7f7f\">:</span><a href=\"file://C:\\Users\\BHSU\\AppData\\Local\\Programs\\Python\\Python39\\lib\\site-packages\\openfl\\component\\collaborator\\collaborator.py#168\" target=\"_blank\"><span style=\"color: #7f7f7f; text-decoration-color: #7f7f7f\">168</span></a>\n",
       "</pre>\n"
      ],
      "text/plain": [
       "\u001b[2;36m          \u001b[0m\u001b[2;36m \u001b[0m\u001b[34mINFO    \u001b[0m Received the following tasks: \u001b[1m[\u001b[0m\u001b[32m'aggregated_model_validation'\u001b[0m, \u001b[32m'train'\u001b[0m, \u001b[32m'locally_tuned_model_validation'\u001b[0m\u001b[1m]\u001b[0m                 \u001b]8;id=361620;file://C:\\Users\\BHSU\\AppData\\Local\\Programs\\Python\\Python39\\lib\\site-packages\\openfl\\component\\collaborator\\collaborator.py\u001b\\\u001b[2mcollaborator.py\u001b[0m\u001b]8;;\u001b\\\u001b[2m:\u001b[0m\u001b]8;id=204303;file://C:\\Users\\BHSU\\AppData\\Local\\Programs\\Python\\Python39\\lib\\site-packages\\openfl\\component\\collaborator\\collaborator.py#168\u001b\\\u001b[2m168\u001b[0m\u001b]8;;\u001b\\\n"
      ]
     },
     "metadata": {},
     "output_type": "display_data"
    },
    {
     "data": {
      "text/html": [
       "<pre style=\"white-space:pre;overflow-x:auto;line-height:normal;font-family:Menlo,'DejaVu Sans Mono',consolas,'Courier New',monospace\"><span style=\"color: #7fbfbf; text-decoration-color: #7fbfbf\">           </span><span style=\"color: #000080; text-decoration-color: #000080\">INFO    </span> Using TaskRunner subclassing API                                                                                         <a href=\"file://C:\\Users\\BHSU\\AppData\\Local\\Programs\\Python\\Python39\\lib\\site-packages\\openfl\\component\\collaborator\\collaborator.py\" target=\"_blank\"><span style=\"color: #7f7f7f; text-decoration-color: #7f7f7f\">collaborator.py</span></a><span style=\"color: #7f7f7f; text-decoration-color: #7f7f7f\">:</span><a href=\"file://C:\\Users\\BHSU\\AppData\\Local\\Programs\\Python\\Python39\\lib\\site-packages\\openfl\\component\\collaborator\\collaborator.py#253\" target=\"_blank\"><span style=\"color: #7f7f7f; text-decoration-color: #7f7f7f\">253</span></a>\n",
       "</pre>\n"
      ],
      "text/plain": [
       "\u001b[2;36m          \u001b[0m\u001b[2;36m \u001b[0m\u001b[34mINFO    \u001b[0m Using TaskRunner subclassing API                                                                                         \u001b]8;id=373307;file://C:\\Users\\BHSU\\AppData\\Local\\Programs\\Python\\Python39\\lib\\site-packages\\openfl\\component\\collaborator\\collaborator.py\u001b\\\u001b[2mcollaborator.py\u001b[0m\u001b]8;;\u001b\\\u001b[2m:\u001b[0m\u001b]8;id=384852;file://C:\\Users\\BHSU\\AppData\\Local\\Programs\\Python\\Python39\\lib\\site-packages\\openfl\\component\\collaborator\\collaborator.py#253\u001b\\\u001b[2m253\u001b[0m\u001b]8;;\u001b\\\n"
      ]
     },
     "metadata": {},
     "output_type": "display_data"
    },
    {
     "name": "stdout",
     "output_type": "stream",
     "text": [
      "282/282 [==============================] - 1s 3ms/step - loss: 2.3849 - accuracy: 0.0954\n"
     ]
    },
    {
     "data": {
      "text/html": [
       "<pre style=\"white-space:pre;overflow-x:auto;line-height:normal;font-family:Menlo,'DejaVu Sans Mono',consolas,'Courier New',monospace\"><span style=\"color: #7fbfbf; text-decoration-color: #7fbfbf\">[10:46:24] </span>METRIC   Round <span style=\"color: #008080; text-decoration-color: #008080; font-weight: bold\">0</span>, collaborator one is sending metric for task aggregated_model_validation: accuracy      <span style=\"color: #008080; text-decoration-color: #008080; font-weight: bold\">0.095444</span>                 <a href=\"file://C:\\Users\\BHSU\\AppData\\Local\\Programs\\Python\\Python39\\lib\\site-packages\\openfl\\component\\collaborator\\collaborator.py\" target=\"_blank\"><span style=\"color: #7f7f7f; text-decoration-color: #7f7f7f\">collaborator.py</span></a><span style=\"color: #7f7f7f; text-decoration-color: #7f7f7f\">:</span><a href=\"file://C:\\Users\\BHSU\\AppData\\Local\\Programs\\Python\\Python39\\lib\\site-packages\\openfl\\component\\collaborator\\collaborator.py#415\" target=\"_blank\"><span style=\"color: #7f7f7f; text-decoration-color: #7f7f7f\">415</span></a>\n",
       "</pre>\n"
      ],
      "text/plain": [
       "\u001b[2;36m[10:46:24]\u001b[0m\u001b[2;36m \u001b[0mMETRIC   Round \u001b[1;36m0\u001b[0m, collaborator one is sending metric for task aggregated_model_validation: accuracy      \u001b[1;36m0.095444\u001b[0m                 \u001b]8;id=689983;file://C:\\Users\\BHSU\\AppData\\Local\\Programs\\Python\\Python39\\lib\\site-packages\\openfl\\component\\collaborator\\collaborator.py\u001b\\\u001b[2mcollaborator.py\u001b[0m\u001b]8;;\u001b\\\u001b[2m:\u001b[0m\u001b]8;id=885452;file://C:\\Users\\BHSU\\AppData\\Local\\Programs\\Python\\Python39\\lib\\site-packages\\openfl\\component\\collaborator\\collaborator.py#415\u001b\\\u001b[2m415\u001b[0m\u001b]8;;\u001b\\\n"
      ]
     },
     "metadata": {},
     "output_type": "display_data"
    },
    {
     "data": {
      "text/html": [
       "<pre style=\"white-space:pre;overflow-x:auto;line-height:normal;font-family:Menlo,'DejaVu Sans Mono',consolas,'Courier New',monospace\"><span style=\"color: #7fbfbf; text-decoration-color: #7fbfbf\">           </span><span style=\"color: #000080; text-decoration-color: #000080\">INFO    </span> Collaborator one is sending task results for aggregated_model_validation, round <span style=\"color: #008080; text-decoration-color: #008080; font-weight: bold\">0</span>                                          <a href=\"file://C:\\Users\\BHSU\\AppData\\Local\\Programs\\Python\\Python39\\lib\\site-packages\\openfl\\component\\aggregator\\aggregator.py\" target=\"_blank\"><span style=\"color: #7f7f7f; text-decoration-color: #7f7f7f\">aggregator.py</span></a><span style=\"color: #7f7f7f; text-decoration-color: #7f7f7f\">:</span><a href=\"file://C:\\Users\\BHSU\\AppData\\Local\\Programs\\Python\\Python39\\lib\\site-packages\\openfl\\component\\aggregator\\aggregator.py#520\" target=\"_blank\"><span style=\"color: #7f7f7f; text-decoration-color: #7f7f7f\">520</span></a>\n",
       "</pre>\n"
      ],
      "text/plain": [
       "\u001b[2;36m          \u001b[0m\u001b[2;36m \u001b[0m\u001b[34mINFO    \u001b[0m Collaborator one is sending task results for aggregated_model_validation, round \u001b[1;36m0\u001b[0m                                          \u001b]8;id=63175;file://C:\\Users\\BHSU\\AppData\\Local\\Programs\\Python\\Python39\\lib\\site-packages\\openfl\\component\\aggregator\\aggregator.py\u001b\\\u001b[2maggregator.py\u001b[0m\u001b]8;;\u001b\\\u001b[2m:\u001b[0m\u001b]8;id=542274;file://C:\\Users\\BHSU\\AppData\\Local\\Programs\\Python\\Python39\\lib\\site-packages\\openfl\\component\\aggregator\\aggregator.py#520\u001b\\\u001b[2m520\u001b[0m\u001b]8;;\u001b\\\n"
      ]
     },
     "metadata": {},
     "output_type": "display_data"
    },
    {
     "data": {
      "text/html": [
       "<pre style=\"white-space:pre;overflow-x:auto;line-height:normal;font-family:Menlo,'DejaVu Sans Mono',consolas,'Courier New',monospace\"><span style=\"color: #7fbfbf; text-decoration-color: #7fbfbf\">           </span>METRIC   Round <span style=\"color: #008080; text-decoration-color: #008080; font-weight: bold\">0</span>, collaborator validate_agg aggregated_model_validation result accuracy: <span style=\"color: #008080; text-decoration-color: #008080; font-weight: bold\">0.095444</span>                                   <a href=\"file://C:\\Users\\BHSU\\AppData\\Local\\Programs\\Python\\Python39\\lib\\site-packages\\openfl\\component\\aggregator\\aggregator.py\" target=\"_blank\"><span style=\"color: #7f7f7f; text-decoration-color: #7f7f7f\">aggregator.py</span></a><span style=\"color: #7f7f7f; text-decoration-color: #7f7f7f\">:</span><a href=\"file://C:\\Users\\BHSU\\AppData\\Local\\Programs\\Python\\Python39\\lib\\site-packages\\openfl\\component\\aggregator\\aggregator.py#559\" target=\"_blank\"><span style=\"color: #7f7f7f; text-decoration-color: #7f7f7f\">559</span></a>\n",
       "</pre>\n"
      ],
      "text/plain": [
       "\u001b[2;36m          \u001b[0m\u001b[2;36m \u001b[0mMETRIC   Round \u001b[1;36m0\u001b[0m, collaborator validate_agg aggregated_model_validation result accuracy: \u001b[1;36m0.095444\u001b[0m                                   \u001b]8;id=538263;file://C:\\Users\\BHSU\\AppData\\Local\\Programs\\Python\\Python39\\lib\\site-packages\\openfl\\component\\aggregator\\aggregator.py\u001b\\\u001b[2maggregator.py\u001b[0m\u001b]8;;\u001b\\\u001b[2m:\u001b[0m\u001b]8;id=301761;file://C:\\Users\\BHSU\\AppData\\Local\\Programs\\Python\\Python39\\lib\\site-packages\\openfl\\component\\aggregator\\aggregator.py#559\u001b\\\u001b[2m559\u001b[0m\u001b]8;;\u001b\\\n"
      ]
     },
     "metadata": {},
     "output_type": "display_data"
    },
    {
     "data": {
      "text/html": [
       "<pre style=\"white-space:pre;overflow-x:auto;line-height:normal;font-family:Menlo,'DejaVu Sans Mono',consolas,'Courier New',monospace\"><span style=\"color: #7fbfbf; text-decoration-color: #7fbfbf\">           </span><span style=\"color: #000080; text-decoration-color: #000080\">INFO    </span> Using TaskRunner subclassing API                                                                                         <a href=\"file://C:\\Users\\BHSU\\AppData\\Local\\Programs\\Python\\Python39\\lib\\site-packages\\openfl\\component\\collaborator\\collaborator.py\" target=\"_blank\"><span style=\"color: #7f7f7f; text-decoration-color: #7f7f7f\">collaborator.py</span></a><span style=\"color: #7f7f7f; text-decoration-color: #7f7f7f\">:</span><a href=\"file://C:\\Users\\BHSU\\AppData\\Local\\Programs\\Python\\Python39\\lib\\site-packages\\openfl\\component\\collaborator\\collaborator.py#253\" target=\"_blank\"><span style=\"color: #7f7f7f; text-decoration-color: #7f7f7f\">253</span></a>\n",
       "</pre>\n"
      ],
      "text/plain": [
       "\u001b[2;36m          \u001b[0m\u001b[2;36m \u001b[0m\u001b[34mINFO    \u001b[0m Using TaskRunner subclassing API                                                                                         \u001b]8;id=794444;file://C:\\Users\\BHSU\\AppData\\Local\\Programs\\Python\\Python39\\lib\\site-packages\\openfl\\component\\collaborator\\collaborator.py\u001b\\\u001b[2mcollaborator.py\u001b[0m\u001b]8;;\u001b\\\u001b[2m:\u001b[0m\u001b]8;id=637798;file://C:\\Users\\BHSU\\AppData\\Local\\Programs\\Python\\Python39\\lib\\site-packages\\openfl\\component\\collaborator\\collaborator.py#253\u001b\\\u001b[2m253\u001b[0m\u001b]8;;\u001b\\\n"
      ]
     },
     "metadata": {},
     "output_type": "display_data"
    },
    {
     "data": {
      "text/html": [
       "<pre style=\"white-space:pre;overflow-x:auto;line-height:normal;font-family:Menlo,'DejaVu Sans Mono',consolas,'Courier New',monospace\"><span style=\"color: #7fbfbf; text-decoration-color: #7fbfbf\">           </span><span style=\"color: #000080; text-decoration-color: #000080\">INFO    </span> Run <span style=\"color: #008080; text-decoration-color: #008080; font-weight: bold\">0</span> epoch of <span style=\"color: #008080; text-decoration-color: #008080; font-weight: bold\">0</span> round                                                                                                    <a href=\"file://C:\\Users\\BHSU\\AppData\\Local\\Programs\\Python\\Python39\\lib\\site-packages\\openfl\\federated\\task\\runner_keras.py\" target=\"_blank\"><span style=\"color: #7f7f7f; text-decoration-color: #7f7f7f\">runner_keras.py</span></a><span style=\"color: #7f7f7f; text-decoration-color: #7f7f7f\">:</span><a href=\"file://C:\\Users\\BHSU\\AppData\\Local\\Programs\\Python\\Python39\\lib\\site-packages\\openfl\\federated\\task\\runner_keras.py#83\" target=\"_blank\"><span style=\"color: #7f7f7f; text-decoration-color: #7f7f7f\">83</span></a>\n",
       "</pre>\n"
      ],
      "text/plain": [
       "\u001b[2;36m          \u001b[0m\u001b[2;36m \u001b[0m\u001b[34mINFO    \u001b[0m Run \u001b[1;36m0\u001b[0m epoch of \u001b[1;36m0\u001b[0m round                                                                                                    \u001b]8;id=881531;file://C:\\Users\\BHSU\\AppData\\Local\\Programs\\Python\\Python39\\lib\\site-packages\\openfl\\federated\\task\\runner_keras.py\u001b\\\u001b[2mrunner_keras.py\u001b[0m\u001b]8;;\u001b\\\u001b[2m:\u001b[0m\u001b]8;id=445017;file://C:\\Users\\BHSU\\AppData\\Local\\Programs\\Python\\Python39\\lib\\site-packages\\openfl\\federated\\task\\runner_keras.py#83\u001b\\\u001b[2m83\u001b[0m\u001b]8;;\u001b\\\n"
      ]
     },
     "metadata": {},
     "output_type": "display_data"
    },
    {
     "name": "stdout",
     "output_type": "stream",
     "text": [
      "657/657 [==============================] - 1s 642us/step - loss: 0.5246 - accuracy: 0.8410\n"
     ]
    },
    {
     "data": {
      "text/html": [
       "<pre style=\"white-space:pre;overflow-x:auto;line-height:normal;font-family:Menlo,'DejaVu Sans Mono',consolas,'Courier New',monospace\"><span style=\"color: #7fbfbf; text-decoration-color: #7fbfbf\">[10:46:25] </span>METRIC   Round <span style=\"color: #008080; text-decoration-color: #008080; font-weight: bold\">0</span>, collaborator one is sending metric for task train: loss        <span style=\"color: #008080; text-decoration-color: #008080; font-weight: bold\">0.524573</span>                                         <a href=\"file://C:\\Users\\BHSU\\AppData\\Local\\Programs\\Python\\Python39\\lib\\site-packages\\openfl\\component\\collaborator\\collaborator.py\" target=\"_blank\"><span style=\"color: #7f7f7f; text-decoration-color: #7f7f7f\">collaborator.py</span></a><span style=\"color: #7f7f7f; text-decoration-color: #7f7f7f\">:</span><a href=\"file://C:\\Users\\BHSU\\AppData\\Local\\Programs\\Python\\Python39\\lib\\site-packages\\openfl\\component\\collaborator\\collaborator.py#415\" target=\"_blank\"><span style=\"color: #7f7f7f; text-decoration-color: #7f7f7f\">415</span></a>\n",
       "</pre>\n"
      ],
      "text/plain": [
       "\u001b[2;36m[10:46:25]\u001b[0m\u001b[2;36m \u001b[0mMETRIC   Round \u001b[1;36m0\u001b[0m, collaborator one is sending metric for task train: loss        \u001b[1;36m0.524573\u001b[0m                                         \u001b]8;id=493377;file://C:\\Users\\BHSU\\AppData\\Local\\Programs\\Python\\Python39\\lib\\site-packages\\openfl\\component\\collaborator\\collaborator.py\u001b\\\u001b[2mcollaborator.py\u001b[0m\u001b]8;;\u001b\\\u001b[2m:\u001b[0m\u001b]8;id=206288;file://C:\\Users\\BHSU\\AppData\\Local\\Programs\\Python\\Python39\\lib\\site-packages\\openfl\\component\\collaborator\\collaborator.py#415\u001b\\\u001b[2m415\u001b[0m\u001b]8;;\u001b\\\n"
      ]
     },
     "metadata": {},
     "output_type": "display_data"
    },
    {
     "data": {
      "text/html": [
       "<pre style=\"white-space:pre;overflow-x:auto;line-height:normal;font-family:Menlo,'DejaVu Sans Mono',consolas,'Courier New',monospace\"><span style=\"color: #7fbfbf; text-decoration-color: #7fbfbf\">           </span><span style=\"color: #000080; text-decoration-color: #000080\">INFO    </span> Collaborator one is sending task results for train, round <span style=\"color: #008080; text-decoration-color: #008080; font-weight: bold\">0</span>                                                                <a href=\"file://C:\\Users\\BHSU\\AppData\\Local\\Programs\\Python\\Python39\\lib\\site-packages\\openfl\\component\\aggregator\\aggregator.py\" target=\"_blank\"><span style=\"color: #7f7f7f; text-decoration-color: #7f7f7f\">aggregator.py</span></a><span style=\"color: #7f7f7f; text-decoration-color: #7f7f7f\">:</span><a href=\"file://C:\\Users\\BHSU\\AppData\\Local\\Programs\\Python\\Python39\\lib\\site-packages\\openfl\\component\\aggregator\\aggregator.py#520\" target=\"_blank\"><span style=\"color: #7f7f7f; text-decoration-color: #7f7f7f\">520</span></a>\n",
       "</pre>\n"
      ],
      "text/plain": [
       "\u001b[2;36m          \u001b[0m\u001b[2;36m \u001b[0m\u001b[34mINFO    \u001b[0m Collaborator one is sending task results for train, round \u001b[1;36m0\u001b[0m                                                                \u001b]8;id=644235;file://C:\\Users\\BHSU\\AppData\\Local\\Programs\\Python\\Python39\\lib\\site-packages\\openfl\\component\\aggregator\\aggregator.py\u001b\\\u001b[2maggregator.py\u001b[0m\u001b]8;;\u001b\\\u001b[2m:\u001b[0m\u001b]8;id=703584;file://C:\\Users\\BHSU\\AppData\\Local\\Programs\\Python\\Python39\\lib\\site-packages\\openfl\\component\\aggregator\\aggregator.py#520\u001b\\\u001b[2m520\u001b[0m\u001b]8;;\u001b\\\n"
      ]
     },
     "metadata": {},
     "output_type": "display_data"
    },
    {
     "data": {
      "text/html": [
       "<pre style=\"white-space:pre;overflow-x:auto;line-height:normal;font-family:Menlo,'DejaVu Sans Mono',consolas,'Courier New',monospace\"><span style=\"color: #7fbfbf; text-decoration-color: #7fbfbf\">           </span>METRIC   Round <span style=\"color: #008080; text-decoration-color: #008080; font-weight: bold\">0</span>, collaborator one train result loss:    <span style=\"color: #008080; text-decoration-color: #008080; font-weight: bold\">0.524573</span>                                                                   <a href=\"file://C:\\Users\\BHSU\\AppData\\Local\\Programs\\Python\\Python39\\lib\\site-packages\\openfl\\component\\aggregator\\aggregator.py\" target=\"_blank\"><span style=\"color: #7f7f7f; text-decoration-color: #7f7f7f\">aggregator.py</span></a><span style=\"color: #7f7f7f; text-decoration-color: #7f7f7f\">:</span><a href=\"file://C:\\Users\\BHSU\\AppData\\Local\\Programs\\Python\\Python39\\lib\\site-packages\\openfl\\component\\aggregator\\aggregator.py#559\" target=\"_blank\"><span style=\"color: #7f7f7f; text-decoration-color: #7f7f7f\">559</span></a>\n",
       "</pre>\n"
      ],
      "text/plain": [
       "\u001b[2;36m          \u001b[0m\u001b[2;36m \u001b[0mMETRIC   Round \u001b[1;36m0\u001b[0m, collaborator one train result loss:    \u001b[1;36m0.524573\u001b[0m                                                                   \u001b]8;id=735171;file://C:\\Users\\BHSU\\AppData\\Local\\Programs\\Python\\Python39\\lib\\site-packages\\openfl\\component\\aggregator\\aggregator.py\u001b\\\u001b[2maggregator.py\u001b[0m\u001b]8;;\u001b\\\u001b[2m:\u001b[0m\u001b]8;id=143653;file://C:\\Users\\BHSU\\AppData\\Local\\Programs\\Python\\Python39\\lib\\site-packages\\openfl\\component\\aggregator\\aggregator.py#559\u001b\\\u001b[2m559\u001b[0m\u001b]8;;\u001b\\\n"
      ]
     },
     "metadata": {},
     "output_type": "display_data"
    },
    {
     "data": {
      "text/html": [
       "<pre style=\"white-space:pre;overflow-x:auto;line-height:normal;font-family:Menlo,'DejaVu Sans Mono',consolas,'Courier New',monospace\"><span style=\"color: #7fbfbf; text-decoration-color: #7fbfbf\">           </span><span style=\"color: #000080; text-decoration-color: #000080\">INFO    </span> Using TaskRunner subclassing API                                                                                         <a href=\"file://C:\\Users\\BHSU\\AppData\\Local\\Programs\\Python\\Python39\\lib\\site-packages\\openfl\\component\\collaborator\\collaborator.py\" target=\"_blank\"><span style=\"color: #7f7f7f; text-decoration-color: #7f7f7f\">collaborator.py</span></a><span style=\"color: #7f7f7f; text-decoration-color: #7f7f7f\">:</span><a href=\"file://C:\\Users\\BHSU\\AppData\\Local\\Programs\\Python\\Python39\\lib\\site-packages\\openfl\\component\\collaborator\\collaborator.py#253\" target=\"_blank\"><span style=\"color: #7f7f7f; text-decoration-color: #7f7f7f\">253</span></a>\n",
       "</pre>\n"
      ],
      "text/plain": [
       "\u001b[2;36m          \u001b[0m\u001b[2;36m \u001b[0m\u001b[34mINFO    \u001b[0m Using TaskRunner subclassing API                                                                                         \u001b]8;id=383654;file://C:\\Users\\BHSU\\AppData\\Local\\Programs\\Python\\Python39\\lib\\site-packages\\openfl\\component\\collaborator\\collaborator.py\u001b\\\u001b[2mcollaborator.py\u001b[0m\u001b]8;;\u001b\\\u001b[2m:\u001b[0m\u001b]8;id=654463;file://C:\\Users\\BHSU\\AppData\\Local\\Programs\\Python\\Python39\\lib\\site-packages\\openfl\\component\\collaborator\\collaborator.py#253\u001b\\\u001b[2m253\u001b[0m\u001b]8;;\u001b\\\n"
      ]
     },
     "metadata": {},
     "output_type": "display_data"
    },
    {
     "name": "stdout",
     "output_type": "stream",
     "text": [
      "282/282 [==============================] - 0s 488us/step - loss: 0.3074 - accuracy: 0.9041\n"
     ]
    },
    {
     "data": {
      "text/html": [
       "<pre style=\"white-space:pre;overflow-x:auto;line-height:normal;font-family:Menlo,'DejaVu Sans Mono',consolas,'Courier New',monospace\"><span style=\"color: #7fbfbf; text-decoration-color: #7fbfbf\">           </span>METRIC   Round <span style=\"color: #008080; text-decoration-color: #008080; font-weight: bold\">0</span>, collaborator one is sending metric for task locally_tuned_model_validation: accuracy   <span style=\"color: #008080; text-decoration-color: #008080; font-weight: bold\">0.904111</span>                 <a href=\"file://C:\\Users\\BHSU\\AppData\\Local\\Programs\\Python\\Python39\\lib\\site-packages\\openfl\\component\\collaborator\\collaborator.py\" target=\"_blank\"><span style=\"color: #7f7f7f; text-decoration-color: #7f7f7f\">collaborator.py</span></a><span style=\"color: #7f7f7f; text-decoration-color: #7f7f7f\">:</span><a href=\"file://C:\\Users\\BHSU\\AppData\\Local\\Programs\\Python\\Python39\\lib\\site-packages\\openfl\\component\\collaborator\\collaborator.py#415\" target=\"_blank\"><span style=\"color: #7f7f7f; text-decoration-color: #7f7f7f\">415</span></a>\n",
       "</pre>\n"
      ],
      "text/plain": [
       "\u001b[2;36m          \u001b[0m\u001b[2;36m \u001b[0mMETRIC   Round \u001b[1;36m0\u001b[0m, collaborator one is sending metric for task locally_tuned_model_validation: accuracy   \u001b[1;36m0.904111\u001b[0m                 \u001b]8;id=619399;file://C:\\Users\\BHSU\\AppData\\Local\\Programs\\Python\\Python39\\lib\\site-packages\\openfl\\component\\collaborator\\collaborator.py\u001b\\\u001b[2mcollaborator.py\u001b[0m\u001b]8;;\u001b\\\u001b[2m:\u001b[0m\u001b]8;id=4642;file://C:\\Users\\BHSU\\AppData\\Local\\Programs\\Python\\Python39\\lib\\site-packages\\openfl\\component\\collaborator\\collaborator.py#415\u001b\\\u001b[2m415\u001b[0m\u001b]8;;\u001b\\\n"
      ]
     },
     "metadata": {},
     "output_type": "display_data"
    },
    {
     "data": {
      "text/html": [
       "<pre style=\"white-space:pre;overflow-x:auto;line-height:normal;font-family:Menlo,'DejaVu Sans Mono',consolas,'Courier New',monospace\"><span style=\"color: #7fbfbf; text-decoration-color: #7fbfbf\">           </span><span style=\"color: #000080; text-decoration-color: #000080\">INFO    </span> Collaborator one is sending task results for locally_tuned_model_validation, round <span style=\"color: #008080; text-decoration-color: #008080; font-weight: bold\">0</span>                                       <a href=\"file://C:\\Users\\BHSU\\AppData\\Local\\Programs\\Python\\Python39\\lib\\site-packages\\openfl\\component\\aggregator\\aggregator.py\" target=\"_blank\"><span style=\"color: #7f7f7f; text-decoration-color: #7f7f7f\">aggregator.py</span></a><span style=\"color: #7f7f7f; text-decoration-color: #7f7f7f\">:</span><a href=\"file://C:\\Users\\BHSU\\AppData\\Local\\Programs\\Python\\Python39\\lib\\site-packages\\openfl\\component\\aggregator\\aggregator.py#520\" target=\"_blank\"><span style=\"color: #7f7f7f; text-decoration-color: #7f7f7f\">520</span></a>\n",
       "</pre>\n"
      ],
      "text/plain": [
       "\u001b[2;36m          \u001b[0m\u001b[2;36m \u001b[0m\u001b[34mINFO    \u001b[0m Collaborator one is sending task results for locally_tuned_model_validation, round \u001b[1;36m0\u001b[0m                                       \u001b]8;id=161547;file://C:\\Users\\BHSU\\AppData\\Local\\Programs\\Python\\Python39\\lib\\site-packages\\openfl\\component\\aggregator\\aggregator.py\u001b\\\u001b[2maggregator.py\u001b[0m\u001b]8;;\u001b\\\u001b[2m:\u001b[0m\u001b]8;id=997514;file://C:\\Users\\BHSU\\AppData\\Local\\Programs\\Python\\Python39\\lib\\site-packages\\openfl\\component\\aggregator\\aggregator.py#520\u001b\\\u001b[2m520\u001b[0m\u001b]8;;\u001b\\\n"
      ]
     },
     "metadata": {},
     "output_type": "display_data"
    },
    {
     "data": {
      "text/html": [
       "<pre style=\"white-space:pre;overflow-x:auto;line-height:normal;font-family:Menlo,'DejaVu Sans Mono',consolas,'Courier New',monospace\"><span style=\"color: #7fbfbf; text-decoration-color: #7fbfbf\">           </span>METRIC   Round <span style=\"color: #008080; text-decoration-color: #008080; font-weight: bold\">0</span>, collaborator validate_local locally_tuned_model_validation result accuracy:    <span style=\"color: #008080; text-decoration-color: #008080; font-weight: bold\">0.904111</span>                           <a href=\"file://C:\\Users\\BHSU\\AppData\\Local\\Programs\\Python\\Python39\\lib\\site-packages\\openfl\\component\\aggregator\\aggregator.py\" target=\"_blank\"><span style=\"color: #7f7f7f; text-decoration-color: #7f7f7f\">aggregator.py</span></a><span style=\"color: #7f7f7f; text-decoration-color: #7f7f7f\">:</span><a href=\"file://C:\\Users\\BHSU\\AppData\\Local\\Programs\\Python\\Python39\\lib\\site-packages\\openfl\\component\\aggregator\\aggregator.py#559\" target=\"_blank\"><span style=\"color: #7f7f7f; text-decoration-color: #7f7f7f\">559</span></a>\n",
       "</pre>\n"
      ],
      "text/plain": [
       "\u001b[2;36m          \u001b[0m\u001b[2;36m \u001b[0mMETRIC   Round \u001b[1;36m0\u001b[0m, collaborator validate_local locally_tuned_model_validation result accuracy:    \u001b[1;36m0.904111\u001b[0m                           \u001b]8;id=230663;file://C:\\Users\\BHSU\\AppData\\Local\\Programs\\Python\\Python39\\lib\\site-packages\\openfl\\component\\aggregator\\aggregator.py\u001b\\\u001b[2maggregator.py\u001b[0m\u001b]8;;\u001b\\\u001b[2m:\u001b[0m\u001b]8;id=516199;file://C:\\Users\\BHSU\\AppData\\Local\\Programs\\Python\\Python39\\lib\\site-packages\\openfl\\component\\aggregator\\aggregator.py#559\u001b\\\u001b[2m559\u001b[0m\u001b]8;;\u001b\\\n"
      ]
     },
     "metadata": {},
     "output_type": "display_data"
    },
    {
     "data": {
      "text/html": [
       "<pre style=\"white-space:pre;overflow-x:auto;line-height:normal;font-family:Menlo,'DejaVu Sans Mono',consolas,'Courier New',monospace\"><span style=\"color: #7fbfbf; text-decoration-color: #7fbfbf\">           </span><span style=\"color: #000080; text-decoration-color: #000080\">INFO    </span> All tasks completed on one for round <span style=\"color: #008080; text-decoration-color: #008080; font-weight: bold\">0</span><span style=\"color: #808000; text-decoration-color: #808000\">...</span>                                                                                <a href=\"file://C:\\Users\\BHSU\\AppData\\Local\\Programs\\Python\\Python39\\lib\\site-packages\\openfl\\component\\collaborator\\collaborator.py\" target=\"_blank\"><span style=\"color: #7f7f7f; text-decoration-color: #7f7f7f\">collaborator.py</span></a><span style=\"color: #7f7f7f; text-decoration-color: #7f7f7f\">:</span><a href=\"file://C:\\Users\\BHSU\\AppData\\Local\\Programs\\Python\\Python39\\lib\\site-packages\\openfl\\component\\collaborator\\collaborator.py#171\" target=\"_blank\"><span style=\"color: #7f7f7f; text-decoration-color: #7f7f7f\">171</span></a>\n",
       "</pre>\n"
      ],
      "text/plain": [
       "\u001b[2;36m          \u001b[0m\u001b[2;36m \u001b[0m\u001b[34mINFO    \u001b[0m All tasks completed on one for round \u001b[1;36m0\u001b[0m\u001b[33m...\u001b[0m                                                                                \u001b]8;id=548924;file://C:\\Users\\BHSU\\AppData\\Local\\Programs\\Python\\Python39\\lib\\site-packages\\openfl\\component\\collaborator\\collaborator.py\u001b\\\u001b[2mcollaborator.py\u001b[0m\u001b]8;;\u001b\\\u001b[2m:\u001b[0m\u001b]8;id=81954;file://C:\\Users\\BHSU\\AppData\\Local\\Programs\\Python\\Python39\\lib\\site-packages\\openfl\\component\\collaborator\\collaborator.py#171\u001b\\\u001b[2m171\u001b[0m\u001b]8;;\u001b\\\n"
      ]
     },
     "metadata": {},
     "output_type": "display_data"
    },
    {
     "data": {
      "text/html": [
       "<pre style=\"white-space:pre;overflow-x:auto;line-height:normal;font-family:Menlo,'DejaVu Sans Mono',consolas,'Courier New',monospace\"><span style=\"color: #7fbfbf; text-decoration-color: #7fbfbf\">           </span><span style=\"color: #000080; text-decoration-color: #000080\">INFO    </span> Waiting for tasks<span style=\"color: #808000; text-decoration-color: #808000\">...</span>                                                                                                     <a href=\"file://C:\\Users\\BHSU\\AppData\\Local\\Programs\\Python\\Python39\\lib\\site-packages\\openfl\\component\\collaborator\\collaborator.py\" target=\"_blank\"><span style=\"color: #7f7f7f; text-decoration-color: #7f7f7f\">collaborator.py</span></a><span style=\"color: #7f7f7f; text-decoration-color: #7f7f7f\">:</span><a href=\"file://C:\\Users\\BHSU\\AppData\\Local\\Programs\\Python\\Python39\\lib\\site-packages\\openfl\\component\\collaborator\\collaborator.py#178\" target=\"_blank\"><span style=\"color: #7f7f7f; text-decoration-color: #7f7f7f\">178</span></a>\n",
       "</pre>\n"
      ],
      "text/plain": [
       "\u001b[2;36m          \u001b[0m\u001b[2;36m \u001b[0m\u001b[34mINFO    \u001b[0m Waiting for tasks\u001b[33m...\u001b[0m                                                                                                     \u001b]8;id=629764;file://C:\\Users\\BHSU\\AppData\\Local\\Programs\\Python\\Python39\\lib\\site-packages\\openfl\\component\\collaborator\\collaborator.py\u001b\\\u001b[2mcollaborator.py\u001b[0m\u001b]8;;\u001b\\\u001b[2m:\u001b[0m\u001b]8;id=249157;file://C:\\Users\\BHSU\\AppData\\Local\\Programs\\Python\\Python39\\lib\\site-packages\\openfl\\component\\collaborator\\collaborator.py#178\u001b\\\u001b[2m178\u001b[0m\u001b]8;;\u001b\\\n"
      ]
     },
     "metadata": {},
     "output_type": "display_data"
    },
    {
     "data": {
      "text/html": [
       "<pre style=\"white-space:pre;overflow-x:auto;line-height:normal;font-family:Menlo,'DejaVu Sans Mono',consolas,'Courier New',monospace\"><span style=\"color: #7fbfbf; text-decoration-color: #7fbfbf\">           </span><span style=\"color: #000080; text-decoration-color: #000080\">INFO    </span> Sending tasks to collaborator two for round <span style=\"color: #008080; text-decoration-color: #008080; font-weight: bold\">0</span>                                                                              <a href=\"file://C:\\Users\\BHSU\\AppData\\Local\\Programs\\Python\\Python39\\lib\\site-packages\\openfl\\component\\aggregator\\aggregator.py\" target=\"_blank\"><span style=\"color: #7f7f7f; text-decoration-color: #7f7f7f\">aggregator.py</span></a><span style=\"color: #7f7f7f; text-decoration-color: #7f7f7f\">:</span><a href=\"file://C:\\Users\\BHSU\\AppData\\Local\\Programs\\Python\\Python39\\lib\\site-packages\\openfl\\component\\aggregator\\aggregator.py#329\" target=\"_blank\"><span style=\"color: #7f7f7f; text-decoration-color: #7f7f7f\">329</span></a>\n",
       "</pre>\n"
      ],
      "text/plain": [
       "\u001b[2;36m          \u001b[0m\u001b[2;36m \u001b[0m\u001b[34mINFO    \u001b[0m Sending tasks to collaborator two for round \u001b[1;36m0\u001b[0m                                                                              \u001b]8;id=738152;file://C:\\Users\\BHSU\\AppData\\Local\\Programs\\Python\\Python39\\lib\\site-packages\\openfl\\component\\aggregator\\aggregator.py\u001b\\\u001b[2maggregator.py\u001b[0m\u001b]8;;\u001b\\\u001b[2m:\u001b[0m\u001b]8;id=487159;file://C:\\Users\\BHSU\\AppData\\Local\\Programs\\Python\\Python39\\lib\\site-packages\\openfl\\component\\aggregator\\aggregator.py#329\u001b\\\u001b[2m329\u001b[0m\u001b]8;;\u001b\\\n"
      ]
     },
     "metadata": {},
     "output_type": "display_data"
    },
    {
     "data": {
      "text/html": [
       "<pre style=\"white-space:pre;overflow-x:auto;line-height:normal;font-family:Menlo,'DejaVu Sans Mono',consolas,'Courier New',monospace\"><span style=\"color: #7fbfbf; text-decoration-color: #7fbfbf\">           </span><span style=\"color: #000080; text-decoration-color: #000080\">INFO    </span> Received the following tasks: <span style=\"font-weight: bold\">[</span><span style=\"color: #008000; text-decoration-color: #008000\">'aggregated_model_validation'</span>, <span style=\"color: #008000; text-decoration-color: #008000\">'train'</span>, <span style=\"color: #008000; text-decoration-color: #008000\">'locally_tuned_model_validation'</span><span style=\"font-weight: bold\">]</span>                 <a href=\"file://C:\\Users\\BHSU\\AppData\\Local\\Programs\\Python\\Python39\\lib\\site-packages\\openfl\\component\\collaborator\\collaborator.py\" target=\"_blank\"><span style=\"color: #7f7f7f; text-decoration-color: #7f7f7f\">collaborator.py</span></a><span style=\"color: #7f7f7f; text-decoration-color: #7f7f7f\">:</span><a href=\"file://C:\\Users\\BHSU\\AppData\\Local\\Programs\\Python\\Python39\\lib\\site-packages\\openfl\\component\\collaborator\\collaborator.py#168\" target=\"_blank\"><span style=\"color: #7f7f7f; text-decoration-color: #7f7f7f\">168</span></a>\n",
       "</pre>\n"
      ],
      "text/plain": [
       "\u001b[2;36m          \u001b[0m\u001b[2;36m \u001b[0m\u001b[34mINFO    \u001b[0m Received the following tasks: \u001b[1m[\u001b[0m\u001b[32m'aggregated_model_validation'\u001b[0m, \u001b[32m'train'\u001b[0m, \u001b[32m'locally_tuned_model_validation'\u001b[0m\u001b[1m]\u001b[0m                 \u001b]8;id=94745;file://C:\\Users\\BHSU\\AppData\\Local\\Programs\\Python\\Python39\\lib\\site-packages\\openfl\\component\\collaborator\\collaborator.py\u001b\\\u001b[2mcollaborator.py\u001b[0m\u001b]8;;\u001b\\\u001b[2m:\u001b[0m\u001b]8;id=562225;file://C:\\Users\\BHSU\\AppData\\Local\\Programs\\Python\\Python39\\lib\\site-packages\\openfl\\component\\collaborator\\collaborator.py#168\u001b\\\u001b[2m168\u001b[0m\u001b]8;;\u001b\\\n"
      ]
     },
     "metadata": {},
     "output_type": "display_data"
    },
    {
     "data": {
      "text/html": [
       "<pre style=\"white-space:pre;overflow-x:auto;line-height:normal;font-family:Menlo,'DejaVu Sans Mono',consolas,'Courier New',monospace\"><span style=\"color: #7fbfbf; text-decoration-color: #7fbfbf\">           </span><span style=\"color: #000080; text-decoration-color: #000080\">INFO    </span> Using TaskRunner subclassing API                                                                                         <a href=\"file://C:\\Users\\BHSU\\AppData\\Local\\Programs\\Python\\Python39\\lib\\site-packages\\openfl\\component\\collaborator\\collaborator.py\" target=\"_blank\"><span style=\"color: #7f7f7f; text-decoration-color: #7f7f7f\">collaborator.py</span></a><span style=\"color: #7f7f7f; text-decoration-color: #7f7f7f\">:</span><a href=\"file://C:\\Users\\BHSU\\AppData\\Local\\Programs\\Python\\Python39\\lib\\site-packages\\openfl\\component\\collaborator\\collaborator.py#253\" target=\"_blank\"><span style=\"color: #7f7f7f; text-decoration-color: #7f7f7f\">253</span></a>\n",
       "</pre>\n"
      ],
      "text/plain": [
       "\u001b[2;36m          \u001b[0m\u001b[2;36m \u001b[0m\u001b[34mINFO    \u001b[0m Using TaskRunner subclassing API                                                                                         \u001b]8;id=87525;file://C:\\Users\\BHSU\\AppData\\Local\\Programs\\Python\\Python39\\lib\\site-packages\\openfl\\component\\collaborator\\collaborator.py\u001b\\\u001b[2mcollaborator.py\u001b[0m\u001b]8;;\u001b\\\u001b[2m:\u001b[0m\u001b]8;id=111715;file://C:\\Users\\BHSU\\AppData\\Local\\Programs\\Python\\Python39\\lib\\site-packages\\openfl\\component\\collaborator\\collaborator.py#253\u001b\\\u001b[2m253\u001b[0m\u001b]8;;\u001b\\\n"
      ]
     },
     "metadata": {},
     "output_type": "display_data"
    },
    {
     "name": "stdout",
     "output_type": "stream",
     "text": [
      "282/282 [==============================] - 0s 480us/step - loss: 2.3784 - accuracy: 0.1026\n"
     ]
    },
    {
     "data": {
      "text/html": [
       "<pre style=\"white-space:pre;overflow-x:auto;line-height:normal;font-family:Menlo,'DejaVu Sans Mono',consolas,'Courier New',monospace\"><span style=\"color: #7fbfbf; text-decoration-color: #7fbfbf\">           </span>METRIC   Round <span style=\"color: #008080; text-decoration-color: #008080; font-weight: bold\">0</span>, collaborator two is sending metric for task aggregated_model_validation: accuracy      <span style=\"color: #008080; text-decoration-color: #008080; font-weight: bold\">0.102556</span>                 <a href=\"file://C:\\Users\\BHSU\\AppData\\Local\\Programs\\Python\\Python39\\lib\\site-packages\\openfl\\component\\collaborator\\collaborator.py\" target=\"_blank\"><span style=\"color: #7f7f7f; text-decoration-color: #7f7f7f\">collaborator.py</span></a><span style=\"color: #7f7f7f; text-decoration-color: #7f7f7f\">:</span><a href=\"file://C:\\Users\\BHSU\\AppData\\Local\\Programs\\Python\\Python39\\lib\\site-packages\\openfl\\component\\collaborator\\collaborator.py#415\" target=\"_blank\"><span style=\"color: #7f7f7f; text-decoration-color: #7f7f7f\">415</span></a>\n",
       "</pre>\n"
      ],
      "text/plain": [
       "\u001b[2;36m          \u001b[0m\u001b[2;36m \u001b[0mMETRIC   Round \u001b[1;36m0\u001b[0m, collaborator two is sending metric for task aggregated_model_validation: accuracy      \u001b[1;36m0.102556\u001b[0m                 \u001b]8;id=171471;file://C:\\Users\\BHSU\\AppData\\Local\\Programs\\Python\\Python39\\lib\\site-packages\\openfl\\component\\collaborator\\collaborator.py\u001b\\\u001b[2mcollaborator.py\u001b[0m\u001b]8;;\u001b\\\u001b[2m:\u001b[0m\u001b]8;id=374376;file://C:\\Users\\BHSU\\AppData\\Local\\Programs\\Python\\Python39\\lib\\site-packages\\openfl\\component\\collaborator\\collaborator.py#415\u001b\\\u001b[2m415\u001b[0m\u001b]8;;\u001b\\\n"
      ]
     },
     "metadata": {},
     "output_type": "display_data"
    },
    {
     "data": {
      "text/html": [
       "<pre style=\"white-space:pre;overflow-x:auto;line-height:normal;font-family:Menlo,'DejaVu Sans Mono',consolas,'Courier New',monospace\"><span style=\"color: #7fbfbf; text-decoration-color: #7fbfbf\">           </span><span style=\"color: #000080; text-decoration-color: #000080\">INFO    </span> Collaborator two is sending task results for aggregated_model_validation, round <span style=\"color: #008080; text-decoration-color: #008080; font-weight: bold\">0</span>                                          <a href=\"file://C:\\Users\\BHSU\\AppData\\Local\\Programs\\Python\\Python39\\lib\\site-packages\\openfl\\component\\aggregator\\aggregator.py\" target=\"_blank\"><span style=\"color: #7f7f7f; text-decoration-color: #7f7f7f\">aggregator.py</span></a><span style=\"color: #7f7f7f; text-decoration-color: #7f7f7f\">:</span><a href=\"file://C:\\Users\\BHSU\\AppData\\Local\\Programs\\Python\\Python39\\lib\\site-packages\\openfl\\component\\aggregator\\aggregator.py#520\" target=\"_blank\"><span style=\"color: #7f7f7f; text-decoration-color: #7f7f7f\">520</span></a>\n",
       "</pre>\n"
      ],
      "text/plain": [
       "\u001b[2;36m          \u001b[0m\u001b[2;36m \u001b[0m\u001b[34mINFO    \u001b[0m Collaborator two is sending task results for aggregated_model_validation, round \u001b[1;36m0\u001b[0m                                          \u001b]8;id=557370;file://C:\\Users\\BHSU\\AppData\\Local\\Programs\\Python\\Python39\\lib\\site-packages\\openfl\\component\\aggregator\\aggregator.py\u001b\\\u001b[2maggregator.py\u001b[0m\u001b]8;;\u001b\\\u001b[2m:\u001b[0m\u001b]8;id=312465;file://C:\\Users\\BHSU\\AppData\\Local\\Programs\\Python\\Python39\\lib\\site-packages\\openfl\\component\\aggregator\\aggregator.py#520\u001b\\\u001b[2m520\u001b[0m\u001b]8;;\u001b\\\n"
      ]
     },
     "metadata": {},
     "output_type": "display_data"
    },
    {
     "data": {
      "text/html": [
       "<pre style=\"white-space:pre;overflow-x:auto;line-height:normal;font-family:Menlo,'DejaVu Sans Mono',consolas,'Courier New',monospace\"><span style=\"color: #7fbfbf; text-decoration-color: #7fbfbf\">           </span>METRIC   Round <span style=\"color: #008080; text-decoration-color: #008080; font-weight: bold\">0</span>, collaborator validate_agg aggregated_model_validation result accuracy: <span style=\"color: #008080; text-decoration-color: #008080; font-weight: bold\">0.102556</span>                                   <a href=\"file://C:\\Users\\BHSU\\AppData\\Local\\Programs\\Python\\Python39\\lib\\site-packages\\openfl\\component\\aggregator\\aggregator.py\" target=\"_blank\"><span style=\"color: #7f7f7f; text-decoration-color: #7f7f7f\">aggregator.py</span></a><span style=\"color: #7f7f7f; text-decoration-color: #7f7f7f\">:</span><a href=\"file://C:\\Users\\BHSU\\AppData\\Local\\Programs\\Python\\Python39\\lib\\site-packages\\openfl\\component\\aggregator\\aggregator.py#559\" target=\"_blank\"><span style=\"color: #7f7f7f; text-decoration-color: #7f7f7f\">559</span></a>\n",
       "</pre>\n"
      ],
      "text/plain": [
       "\u001b[2;36m          \u001b[0m\u001b[2;36m \u001b[0mMETRIC   Round \u001b[1;36m0\u001b[0m, collaborator validate_agg aggregated_model_validation result accuracy: \u001b[1;36m0.102556\u001b[0m                                   \u001b]8;id=242712;file://C:\\Users\\BHSU\\AppData\\Local\\Programs\\Python\\Python39\\lib\\site-packages\\openfl\\component\\aggregator\\aggregator.py\u001b\\\u001b[2maggregator.py\u001b[0m\u001b]8;;\u001b\\\u001b[2m:\u001b[0m\u001b]8;id=174110;file://C:\\Users\\BHSU\\AppData\\Local\\Programs\\Python\\Python39\\lib\\site-packages\\openfl\\component\\aggregator\\aggregator.py#559\u001b\\\u001b[2m559\u001b[0m\u001b]8;;\u001b\\\n"
      ]
     },
     "metadata": {},
     "output_type": "display_data"
    },
    {
     "data": {
      "text/html": [
       "<pre style=\"white-space:pre;overflow-x:auto;line-height:normal;font-family:Menlo,'DejaVu Sans Mono',consolas,'Courier New',monospace\"><span style=\"color: #7fbfbf; text-decoration-color: #7fbfbf\">           </span><span style=\"color: #000080; text-decoration-color: #000080\">INFO    </span> Using TaskRunner subclassing API                                                                                         <a href=\"file://C:\\Users\\BHSU\\AppData\\Local\\Programs\\Python\\Python39\\lib\\site-packages\\openfl\\component\\collaborator\\collaborator.py\" target=\"_blank\"><span style=\"color: #7f7f7f; text-decoration-color: #7f7f7f\">collaborator.py</span></a><span style=\"color: #7f7f7f; text-decoration-color: #7f7f7f\">:</span><a href=\"file://C:\\Users\\BHSU\\AppData\\Local\\Programs\\Python\\Python39\\lib\\site-packages\\openfl\\component\\collaborator\\collaborator.py#253\" target=\"_blank\"><span style=\"color: #7f7f7f; text-decoration-color: #7f7f7f\">253</span></a>\n",
       "</pre>\n"
      ],
      "text/plain": [
       "\u001b[2;36m          \u001b[0m\u001b[2;36m \u001b[0m\u001b[34mINFO    \u001b[0m Using TaskRunner subclassing API                                                                                         \u001b]8;id=369757;file://C:\\Users\\BHSU\\AppData\\Local\\Programs\\Python\\Python39\\lib\\site-packages\\openfl\\component\\collaborator\\collaborator.py\u001b\\\u001b[2mcollaborator.py\u001b[0m\u001b]8;;\u001b\\\u001b[2m:\u001b[0m\u001b]8;id=150520;file://C:\\Users\\BHSU\\AppData\\Local\\Programs\\Python\\Python39\\lib\\site-packages\\openfl\\component\\collaborator\\collaborator.py#253\u001b\\\u001b[2m253\u001b[0m\u001b]8;;\u001b\\\n"
      ]
     },
     "metadata": {},
     "output_type": "display_data"
    },
    {
     "data": {
      "text/html": [
       "<pre style=\"white-space:pre;overflow-x:auto;line-height:normal;font-family:Menlo,'DejaVu Sans Mono',consolas,'Courier New',monospace\"><span style=\"color: #7fbfbf; text-decoration-color: #7fbfbf\">           </span><span style=\"color: #000080; text-decoration-color: #000080\">INFO    </span> Run <span style=\"color: #008080; text-decoration-color: #008080; font-weight: bold\">0</span> epoch of <span style=\"color: #008080; text-decoration-color: #008080; font-weight: bold\">0</span> round                                                                                                    <a href=\"file://C:\\Users\\BHSU\\AppData\\Local\\Programs\\Python\\Python39\\lib\\site-packages\\openfl\\federated\\task\\runner_keras.py\" target=\"_blank\"><span style=\"color: #7f7f7f; text-decoration-color: #7f7f7f\">runner_keras.py</span></a><span style=\"color: #7f7f7f; text-decoration-color: #7f7f7f\">:</span><a href=\"file://C:\\Users\\BHSU\\AppData\\Local\\Programs\\Python\\Python39\\lib\\site-packages\\openfl\\federated\\task\\runner_keras.py#83\" target=\"_blank\"><span style=\"color: #7f7f7f; text-decoration-color: #7f7f7f\">83</span></a>\n",
       "</pre>\n"
      ],
      "text/plain": [
       "\u001b[2;36m          \u001b[0m\u001b[2;36m \u001b[0m\u001b[34mINFO    \u001b[0m Run \u001b[1;36m0\u001b[0m epoch of \u001b[1;36m0\u001b[0m round                                                                                                    \u001b]8;id=972550;file://C:\\Users\\BHSU\\AppData\\Local\\Programs\\Python\\Python39\\lib\\site-packages\\openfl\\federated\\task\\runner_keras.py\u001b\\\u001b[2mrunner_keras.py\u001b[0m\u001b]8;;\u001b\\\u001b[2m:\u001b[0m\u001b]8;id=341746;file://C:\\Users\\BHSU\\AppData\\Local\\Programs\\Python\\Python39\\lib\\site-packages\\openfl\\federated\\task\\runner_keras.py#83\u001b\\\u001b[2m83\u001b[0m\u001b]8;;\u001b\\\n"
      ]
     },
     "metadata": {},
     "output_type": "display_data"
    },
    {
     "name": "stdout",
     "output_type": "stream",
     "text": [
      "657/657 [==============================] - 1s 627us/step - loss: 0.5130 - accuracy: 0.8442\n"
     ]
    },
    {
     "data": {
      "text/html": [
       "<pre style=\"white-space:pre;overflow-x:auto;line-height:normal;font-family:Menlo,'DejaVu Sans Mono',consolas,'Courier New',monospace\"><span style=\"color: #7fbfbf; text-decoration-color: #7fbfbf\">[10:46:26] </span>METRIC   Round <span style=\"color: #008080; text-decoration-color: #008080; font-weight: bold\">0</span>, collaborator two is sending metric for task train: loss        <span style=\"color: #008080; text-decoration-color: #008080; font-weight: bold\">0.512993</span>                                         <a href=\"file://C:\\Users\\BHSU\\AppData\\Local\\Programs\\Python\\Python39\\lib\\site-packages\\openfl\\component\\collaborator\\collaborator.py\" target=\"_blank\"><span style=\"color: #7f7f7f; text-decoration-color: #7f7f7f\">collaborator.py</span></a><span style=\"color: #7f7f7f; text-decoration-color: #7f7f7f\">:</span><a href=\"file://C:\\Users\\BHSU\\AppData\\Local\\Programs\\Python\\Python39\\lib\\site-packages\\openfl\\component\\collaborator\\collaborator.py#415\" target=\"_blank\"><span style=\"color: #7f7f7f; text-decoration-color: #7f7f7f\">415</span></a>\n",
       "</pre>\n"
      ],
      "text/plain": [
       "\u001b[2;36m[10:46:26]\u001b[0m\u001b[2;36m \u001b[0mMETRIC   Round \u001b[1;36m0\u001b[0m, collaborator two is sending metric for task train: loss        \u001b[1;36m0.512993\u001b[0m                                         \u001b]8;id=623386;file://C:\\Users\\BHSU\\AppData\\Local\\Programs\\Python\\Python39\\lib\\site-packages\\openfl\\component\\collaborator\\collaborator.py\u001b\\\u001b[2mcollaborator.py\u001b[0m\u001b]8;;\u001b\\\u001b[2m:\u001b[0m\u001b]8;id=757937;file://C:\\Users\\BHSU\\AppData\\Local\\Programs\\Python\\Python39\\lib\\site-packages\\openfl\\component\\collaborator\\collaborator.py#415\u001b\\\u001b[2m415\u001b[0m\u001b]8;;\u001b\\\n"
      ]
     },
     "metadata": {},
     "output_type": "display_data"
    },
    {
     "data": {
      "text/html": [
       "<pre style=\"white-space:pre;overflow-x:auto;line-height:normal;font-family:Menlo,'DejaVu Sans Mono',consolas,'Courier New',monospace\"><span style=\"color: #7fbfbf; text-decoration-color: #7fbfbf\">           </span><span style=\"color: #000080; text-decoration-color: #000080\">INFO    </span> Collaborator two is sending task results for train, round <span style=\"color: #008080; text-decoration-color: #008080; font-weight: bold\">0</span>                                                                <a href=\"file://C:\\Users\\BHSU\\AppData\\Local\\Programs\\Python\\Python39\\lib\\site-packages\\openfl\\component\\aggregator\\aggregator.py\" target=\"_blank\"><span style=\"color: #7f7f7f; text-decoration-color: #7f7f7f\">aggregator.py</span></a><span style=\"color: #7f7f7f; text-decoration-color: #7f7f7f\">:</span><a href=\"file://C:\\Users\\BHSU\\AppData\\Local\\Programs\\Python\\Python39\\lib\\site-packages\\openfl\\component\\aggregator\\aggregator.py#520\" target=\"_blank\"><span style=\"color: #7f7f7f; text-decoration-color: #7f7f7f\">520</span></a>\n",
       "</pre>\n"
      ],
      "text/plain": [
       "\u001b[2;36m          \u001b[0m\u001b[2;36m \u001b[0m\u001b[34mINFO    \u001b[0m Collaborator two is sending task results for train, round \u001b[1;36m0\u001b[0m                                                                \u001b]8;id=965561;file://C:\\Users\\BHSU\\AppData\\Local\\Programs\\Python\\Python39\\lib\\site-packages\\openfl\\component\\aggregator\\aggregator.py\u001b\\\u001b[2maggregator.py\u001b[0m\u001b]8;;\u001b\\\u001b[2m:\u001b[0m\u001b]8;id=401959;file://C:\\Users\\BHSU\\AppData\\Local\\Programs\\Python\\Python39\\lib\\site-packages\\openfl\\component\\aggregator\\aggregator.py#520\u001b\\\u001b[2m520\u001b[0m\u001b]8;;\u001b\\\n"
      ]
     },
     "metadata": {},
     "output_type": "display_data"
    },
    {
     "data": {
      "text/html": [
       "<pre style=\"white-space:pre;overflow-x:auto;line-height:normal;font-family:Menlo,'DejaVu Sans Mono',consolas,'Courier New',monospace\"><span style=\"color: #7fbfbf; text-decoration-color: #7fbfbf\">           </span>METRIC   Round <span style=\"color: #008080; text-decoration-color: #008080; font-weight: bold\">0</span>, collaborator two train result loss:    <span style=\"color: #008080; text-decoration-color: #008080; font-weight: bold\">0.512993</span>                                                                   <a href=\"file://C:\\Users\\BHSU\\AppData\\Local\\Programs\\Python\\Python39\\lib\\site-packages\\openfl\\component\\aggregator\\aggregator.py\" target=\"_blank\"><span style=\"color: #7f7f7f; text-decoration-color: #7f7f7f\">aggregator.py</span></a><span style=\"color: #7f7f7f; text-decoration-color: #7f7f7f\">:</span><a href=\"file://C:\\Users\\BHSU\\AppData\\Local\\Programs\\Python\\Python39\\lib\\site-packages\\openfl\\component\\aggregator\\aggregator.py#559\" target=\"_blank\"><span style=\"color: #7f7f7f; text-decoration-color: #7f7f7f\">559</span></a>\n",
       "</pre>\n"
      ],
      "text/plain": [
       "\u001b[2;36m          \u001b[0m\u001b[2;36m \u001b[0mMETRIC   Round \u001b[1;36m0\u001b[0m, collaborator two train result loss:    \u001b[1;36m0.512993\u001b[0m                                                                   \u001b]8;id=493057;file://C:\\Users\\BHSU\\AppData\\Local\\Programs\\Python\\Python39\\lib\\site-packages\\openfl\\component\\aggregator\\aggregator.py\u001b\\\u001b[2maggregator.py\u001b[0m\u001b]8;;\u001b\\\u001b[2m:\u001b[0m\u001b]8;id=543625;file://C:\\Users\\BHSU\\AppData\\Local\\Programs\\Python\\Python39\\lib\\site-packages\\openfl\\component\\aggregator\\aggregator.py#559\u001b\\\u001b[2m559\u001b[0m\u001b]8;;\u001b\\\n"
      ]
     },
     "metadata": {},
     "output_type": "display_data"
    },
    {
     "data": {
      "text/html": [
       "<pre style=\"white-space:pre;overflow-x:auto;line-height:normal;font-family:Menlo,'DejaVu Sans Mono',consolas,'Courier New',monospace\"><span style=\"color: #7fbfbf; text-decoration-color: #7fbfbf\">           </span><span style=\"color: #000080; text-decoration-color: #000080\">INFO    </span> Using TaskRunner subclassing API                                                                                         <a href=\"file://C:\\Users\\BHSU\\AppData\\Local\\Programs\\Python\\Python39\\lib\\site-packages\\openfl\\component\\collaborator\\collaborator.py\" target=\"_blank\"><span style=\"color: #7f7f7f; text-decoration-color: #7f7f7f\">collaborator.py</span></a><span style=\"color: #7f7f7f; text-decoration-color: #7f7f7f\">:</span><a href=\"file://C:\\Users\\BHSU\\AppData\\Local\\Programs\\Python\\Python39\\lib\\site-packages\\openfl\\component\\collaborator\\collaborator.py#253\" target=\"_blank\"><span style=\"color: #7f7f7f; text-decoration-color: #7f7f7f\">253</span></a>\n",
       "</pre>\n"
      ],
      "text/plain": [
       "\u001b[2;36m          \u001b[0m\u001b[2;36m \u001b[0m\u001b[34mINFO    \u001b[0m Using TaskRunner subclassing API                                                                                         \u001b]8;id=940835;file://C:\\Users\\BHSU\\AppData\\Local\\Programs\\Python\\Python39\\lib\\site-packages\\openfl\\component\\collaborator\\collaborator.py\u001b\\\u001b[2mcollaborator.py\u001b[0m\u001b]8;;\u001b\\\u001b[2m:\u001b[0m\u001b]8;id=984141;file://C:\\Users\\BHSU\\AppData\\Local\\Programs\\Python\\Python39\\lib\\site-packages\\openfl\\component\\collaborator\\collaborator.py#253\u001b\\\u001b[2m253\u001b[0m\u001b]8;;\u001b\\\n"
      ]
     },
     "metadata": {},
     "output_type": "display_data"
    },
    {
     "name": "stdout",
     "output_type": "stream",
     "text": [
      "282/282 [==============================] - 0s 498us/step - loss: 0.3060 - accuracy: 0.9074\n"
     ]
    },
    {
     "data": {
      "text/html": [
       "<pre style=\"white-space:pre;overflow-x:auto;line-height:normal;font-family:Menlo,'DejaVu Sans Mono',consolas,'Courier New',monospace\"><span style=\"color: #7fbfbf; text-decoration-color: #7fbfbf\">           </span>METRIC   Round <span style=\"color: #008080; text-decoration-color: #008080; font-weight: bold\">0</span>, collaborator two is sending metric for task locally_tuned_model_validation: accuracy   <span style=\"color: #008080; text-decoration-color: #008080; font-weight: bold\">0.907444</span>                 <a href=\"file://C:\\Users\\BHSU\\AppData\\Local\\Programs\\Python\\Python39\\lib\\site-packages\\openfl\\component\\collaborator\\collaborator.py\" target=\"_blank\"><span style=\"color: #7f7f7f; text-decoration-color: #7f7f7f\">collaborator.py</span></a><span style=\"color: #7f7f7f; text-decoration-color: #7f7f7f\">:</span><a href=\"file://C:\\Users\\BHSU\\AppData\\Local\\Programs\\Python\\Python39\\lib\\site-packages\\openfl\\component\\collaborator\\collaborator.py#415\" target=\"_blank\"><span style=\"color: #7f7f7f; text-decoration-color: #7f7f7f\">415</span></a>\n",
       "</pre>\n"
      ],
      "text/plain": [
       "\u001b[2;36m          \u001b[0m\u001b[2;36m \u001b[0mMETRIC   Round \u001b[1;36m0\u001b[0m, collaborator two is sending metric for task locally_tuned_model_validation: accuracy   \u001b[1;36m0.907444\u001b[0m                 \u001b]8;id=811154;file://C:\\Users\\BHSU\\AppData\\Local\\Programs\\Python\\Python39\\lib\\site-packages\\openfl\\component\\collaborator\\collaborator.py\u001b\\\u001b[2mcollaborator.py\u001b[0m\u001b]8;;\u001b\\\u001b[2m:\u001b[0m\u001b]8;id=893817;file://C:\\Users\\BHSU\\AppData\\Local\\Programs\\Python\\Python39\\lib\\site-packages\\openfl\\component\\collaborator\\collaborator.py#415\u001b\\\u001b[2m415\u001b[0m\u001b]8;;\u001b\\\n"
      ]
     },
     "metadata": {},
     "output_type": "display_data"
    },
    {
     "data": {
      "text/html": [
       "<pre style=\"white-space:pre;overflow-x:auto;line-height:normal;font-family:Menlo,'DejaVu Sans Mono',consolas,'Courier New',monospace\"><span style=\"color: #7fbfbf; text-decoration-color: #7fbfbf\">           </span><span style=\"color: #000080; text-decoration-color: #000080\">INFO    </span> Collaborator two is sending task results for locally_tuned_model_validation, round <span style=\"color: #008080; text-decoration-color: #008080; font-weight: bold\">0</span>                                       <a href=\"file://C:\\Users\\BHSU\\AppData\\Local\\Programs\\Python\\Python39\\lib\\site-packages\\openfl\\component\\aggregator\\aggregator.py\" target=\"_blank\"><span style=\"color: #7f7f7f; text-decoration-color: #7f7f7f\">aggregator.py</span></a><span style=\"color: #7f7f7f; text-decoration-color: #7f7f7f\">:</span><a href=\"file://C:\\Users\\BHSU\\AppData\\Local\\Programs\\Python\\Python39\\lib\\site-packages\\openfl\\component\\aggregator\\aggregator.py#520\" target=\"_blank\"><span style=\"color: #7f7f7f; text-decoration-color: #7f7f7f\">520</span></a>\n",
       "</pre>\n"
      ],
      "text/plain": [
       "\u001b[2;36m          \u001b[0m\u001b[2;36m \u001b[0m\u001b[34mINFO    \u001b[0m Collaborator two is sending task results for locally_tuned_model_validation, round \u001b[1;36m0\u001b[0m                                       \u001b]8;id=606464;file://C:\\Users\\BHSU\\AppData\\Local\\Programs\\Python\\Python39\\lib\\site-packages\\openfl\\component\\aggregator\\aggregator.py\u001b\\\u001b[2maggregator.py\u001b[0m\u001b]8;;\u001b\\\u001b[2m:\u001b[0m\u001b]8;id=654468;file://C:\\Users\\BHSU\\AppData\\Local\\Programs\\Python\\Python39\\lib\\site-packages\\openfl\\component\\aggregator\\aggregator.py#520\u001b\\\u001b[2m520\u001b[0m\u001b]8;;\u001b\\\n"
      ]
     },
     "metadata": {},
     "output_type": "display_data"
    },
    {
     "data": {
      "text/html": [
       "<pre style=\"white-space:pre;overflow-x:auto;line-height:normal;font-family:Menlo,'DejaVu Sans Mono',consolas,'Courier New',monospace\"><span style=\"color: #7fbfbf; text-decoration-color: #7fbfbf\">           </span>METRIC   Round <span style=\"color: #008080; text-decoration-color: #008080; font-weight: bold\">0</span>, collaborator validate_local locally_tuned_model_validation result accuracy:    <span style=\"color: #008080; text-decoration-color: #008080; font-weight: bold\">0.907444</span>                           <a href=\"file://C:\\Users\\BHSU\\AppData\\Local\\Programs\\Python\\Python39\\lib\\site-packages\\openfl\\component\\aggregator\\aggregator.py\" target=\"_blank\"><span style=\"color: #7f7f7f; text-decoration-color: #7f7f7f\">aggregator.py</span></a><span style=\"color: #7f7f7f; text-decoration-color: #7f7f7f\">:</span><a href=\"file://C:\\Users\\BHSU\\AppData\\Local\\Programs\\Python\\Python39\\lib\\site-packages\\openfl\\component\\aggregator\\aggregator.py#559\" target=\"_blank\"><span style=\"color: #7f7f7f; text-decoration-color: #7f7f7f\">559</span></a>\n",
       "</pre>\n"
      ],
      "text/plain": [
       "\u001b[2;36m          \u001b[0m\u001b[2;36m \u001b[0mMETRIC   Round \u001b[1;36m0\u001b[0m, collaborator validate_local locally_tuned_model_validation result accuracy:    \u001b[1;36m0.907444\u001b[0m                           \u001b]8;id=935405;file://C:\\Users\\BHSU\\AppData\\Local\\Programs\\Python\\Python39\\lib\\site-packages\\openfl\\component\\aggregator\\aggregator.py\u001b\\\u001b[2maggregator.py\u001b[0m\u001b]8;;\u001b\\\u001b[2m:\u001b[0m\u001b]8;id=998590;file://C:\\Users\\BHSU\\AppData\\Local\\Programs\\Python\\Python39\\lib\\site-packages\\openfl\\component\\aggregator\\aggregator.py#559\u001b\\\u001b[2m559\u001b[0m\u001b]8;;\u001b\\\n"
      ]
     },
     "metadata": {},
     "output_type": "display_data"
    },
    {
     "data": {
      "text/html": [
       "<pre style=\"white-space:pre;overflow-x:auto;line-height:normal;font-family:Menlo,'DejaVu Sans Mono',consolas,'Courier New',monospace\"><span style=\"color: #7fbfbf; text-decoration-color: #7fbfbf\">           </span>METRIC   Round <span style=\"color: #008080; text-decoration-color: #008080; font-weight: bold\">0</span>, aggregator: train <span style=\"font-weight: bold\">&lt;</span><span style=\"color: #ff00ff; text-decoration-color: #ff00ff; font-weight: bold\">openfl.interface.aggregation_functions.weighted_average.WeightedAverage</span><span style=\"color: #000000; text-decoration-color: #000000\"> object at </span>             <a href=\"file://C:\\Users\\BHSU\\AppData\\Local\\Programs\\Python\\Python39\\lib\\site-packages\\openfl\\component\\aggregator\\aggregator.py\" target=\"_blank\"><span style=\"color: #7f7f7f; text-decoration-color: #7f7f7f\">aggregator.py</span></a><span style=\"color: #7f7f7f; text-decoration-color: #7f7f7f\">:</span><a href=\"file://C:\\Users\\BHSU\\AppData\\Local\\Programs\\Python\\Python39\\lib\\site-packages\\openfl\\component\\aggregator\\aggregator.py#842\" target=\"_blank\"><span style=\"color: #7f7f7f; text-decoration-color: #7f7f7f\">842</span></a>\n",
       "<span style=\"color: #7fbfbf; text-decoration-color: #7fbfbf\">           </span>         <span style=\"color: #008080; text-decoration-color: #008080; font-weight: bold\">0x000002302EDD6A60</span><span style=\"font-weight: bold\">&gt;</span> loss: <span style=\"color: #008080; text-decoration-color: #008080; font-weight: bold\">0.518783</span>                                                                                         <span style=\"color: #7f7f7f; text-decoration-color: #7f7f7f\">                 </span>\n",
       "</pre>\n"
      ],
      "text/plain": [
       "\u001b[2;36m          \u001b[0m\u001b[2;36m \u001b[0mMETRIC   Round \u001b[1;36m0\u001b[0m, aggregator: train \u001b[1m<\u001b[0m\u001b[1;95mopenfl.interface.aggregation_functions.weighted_average.WeightedAverage\u001b[0m\u001b[39m object at \u001b[0m             \u001b]8;id=108680;file://C:\\Users\\BHSU\\AppData\\Local\\Programs\\Python\\Python39\\lib\\site-packages\\openfl\\component\\aggregator\\aggregator.py\u001b\\\u001b[2maggregator.py\u001b[0m\u001b]8;;\u001b\\\u001b[2m:\u001b[0m\u001b]8;id=21028;file://C:\\Users\\BHSU\\AppData\\Local\\Programs\\Python\\Python39\\lib\\site-packages\\openfl\\component\\aggregator\\aggregator.py#842\u001b\\\u001b[2m842\u001b[0m\u001b]8;;\u001b\\\n",
       "\u001b[2;36m           \u001b[0m         \u001b[1;36m0x000002302EDD6A60\u001b[0m\u001b[1m>\u001b[0m loss: \u001b[1;36m0.518783\u001b[0m                                                                                         \u001b[2m                 \u001b[0m\n"
      ]
     },
     "metadata": {},
     "output_type": "display_data"
    },
    {
     "data": {
      "text/html": [
       "<pre style=\"white-space:pre;overflow-x:auto;line-height:normal;font-family:Menlo,'DejaVu Sans Mono',consolas,'Courier New',monospace\"><span style=\"color: #7fbfbf; text-decoration-color: #7fbfbf\">           </span>METRIC   Round <span style=\"color: #008080; text-decoration-color: #008080; font-weight: bold\">0</span>, aggregator: aggregated_model_validation <span style=\"font-weight: bold\">&lt;</span><span style=\"color: #ff00ff; text-decoration-color: #ff00ff; font-weight: bold\">openfl.interface.aggregation_functions.weighted_average.WeightedAverage</span><span style=\"color: #000000; text-decoration-color: #000000\"> </span> <a href=\"file://C:\\Users\\BHSU\\AppData\\Local\\Programs\\Python\\Python39\\lib\\site-packages\\openfl\\component\\aggregator\\aggregator.py\" target=\"_blank\"><span style=\"color: #7f7f7f; text-decoration-color: #7f7f7f\">aggregator.py</span></a><span style=\"color: #7f7f7f; text-decoration-color: #7f7f7f\">:</span><a href=\"file://C:\\Users\\BHSU\\AppData\\Local\\Programs\\Python\\Python39\\lib\\site-packages\\openfl\\component\\aggregator\\aggregator.py#842\" target=\"_blank\"><span style=\"color: #7f7f7f; text-decoration-color: #7f7f7f\">842</span></a>\n",
       "<span style=\"color: #7fbfbf; text-decoration-color: #7fbfbf\">           </span>         <span style=\"color: #000000; text-decoration-color: #000000\">object at </span><span style=\"color: #008080; text-decoration-color: #008080; font-weight: bold\">0x000002302EDD6A60</span><span style=\"font-weight: bold\">&gt;</span> accuracy:       <span style=\"color: #008080; text-decoration-color: #008080; font-weight: bold\">0.099000</span>                                                                     <span style=\"color: #7f7f7f; text-decoration-color: #7f7f7f\">                 </span>\n",
       "</pre>\n"
      ],
      "text/plain": [
       "\u001b[2;36m          \u001b[0m\u001b[2;36m \u001b[0mMETRIC   Round \u001b[1;36m0\u001b[0m, aggregator: aggregated_model_validation \u001b[1m<\u001b[0m\u001b[1;95mopenfl.interface.aggregation_functions.weighted_average.WeightedAverage\u001b[0m\u001b[39m \u001b[0m \u001b]8;id=16475;file://C:\\Users\\BHSU\\AppData\\Local\\Programs\\Python\\Python39\\lib\\site-packages\\openfl\\component\\aggregator\\aggregator.py\u001b\\\u001b[2maggregator.py\u001b[0m\u001b]8;;\u001b\\\u001b[2m:\u001b[0m\u001b]8;id=487749;file://C:\\Users\\BHSU\\AppData\\Local\\Programs\\Python\\Python39\\lib\\site-packages\\openfl\\component\\aggregator\\aggregator.py#842\u001b\\\u001b[2m842\u001b[0m\u001b]8;;\u001b\\\n",
       "\u001b[2;36m           \u001b[0m         \u001b[39mobject at \u001b[0m\u001b[1;36m0x000002302EDD6A60\u001b[0m\u001b[1m>\u001b[0m accuracy:       \u001b[1;36m0.099000\u001b[0m                                                                     \u001b[2m                 \u001b[0m\n"
      ]
     },
     "metadata": {},
     "output_type": "display_data"
    },
    {
     "data": {
      "text/html": [
       "<pre style=\"white-space:pre;overflow-x:auto;line-height:normal;font-family:Menlo,'DejaVu Sans Mono',consolas,'Courier New',monospace\"><span style=\"color: #7fbfbf; text-decoration-color: #7fbfbf\">           </span>METRIC   Round <span style=\"color: #008080; text-decoration-color: #008080; font-weight: bold\">0</span>: saved the best model with score <span style=\"color: #008080; text-decoration-color: #008080; font-weight: bold\">0.099000</span>                                                                          <a href=\"file://C:\\Users\\BHSU\\AppData\\Local\\Programs\\Python\\Python39\\lib\\site-packages\\openfl\\component\\aggregator\\aggregator.py\" target=\"_blank\"><span style=\"color: #7f7f7f; text-decoration-color: #7f7f7f\">aggregator.py</span></a><span style=\"color: #7f7f7f; text-decoration-color: #7f7f7f\">:</span><a href=\"file://C:\\Users\\BHSU\\AppData\\Local\\Programs\\Python\\Python39\\lib\\site-packages\\openfl\\component\\aggregator\\aggregator.py#858\" target=\"_blank\"><span style=\"color: #7f7f7f; text-decoration-color: #7f7f7f\">858</span></a>\n",
       "</pre>\n"
      ],
      "text/plain": [
       "\u001b[2;36m          \u001b[0m\u001b[2;36m \u001b[0mMETRIC   Round \u001b[1;36m0\u001b[0m: saved the best model with score \u001b[1;36m0.099000\u001b[0m                                                                          \u001b]8;id=905160;file://C:\\Users\\BHSU\\AppData\\Local\\Programs\\Python\\Python39\\lib\\site-packages\\openfl\\component\\aggregator\\aggregator.py\u001b\\\u001b[2maggregator.py\u001b[0m\u001b]8;;\u001b\\\u001b[2m:\u001b[0m\u001b]8;id=480673;file://C:\\Users\\BHSU\\AppData\\Local\\Programs\\Python\\Python39\\lib\\site-packages\\openfl\\component\\aggregator\\aggregator.py#858\u001b\\\u001b[2m858\u001b[0m\u001b]8;;\u001b\\\n"
      ]
     },
     "metadata": {},
     "output_type": "display_data"
    },
    {
     "data": {
      "text/html": [
       "<pre style=\"white-space:pre;overflow-x:auto;line-height:normal;font-family:Menlo,'DejaVu Sans Mono',consolas,'Courier New',monospace\"><span style=\"color: #7fbfbf; text-decoration-color: #7fbfbf\">           </span>METRIC   Round <span style=\"color: #008080; text-decoration-color: #008080; font-weight: bold\">0</span>, aggregator: locally_tuned_model_validation                                                                        <a href=\"file://C:\\Users\\BHSU\\AppData\\Local\\Programs\\Python\\Python39\\lib\\site-packages\\openfl\\component\\aggregator\\aggregator.py\" target=\"_blank\"><span style=\"color: #7f7f7f; text-decoration-color: #7f7f7f\">aggregator.py</span></a><span style=\"color: #7f7f7f; text-decoration-color: #7f7f7f\">:</span><a href=\"file://C:\\Users\\BHSU\\AppData\\Local\\Programs\\Python\\Python39\\lib\\site-packages\\openfl\\component\\aggregator\\aggregator.py#842\" target=\"_blank\"><span style=\"color: #7f7f7f; text-decoration-color: #7f7f7f\">842</span></a>\n",
       "<span style=\"color: #7fbfbf; text-decoration-color: #7fbfbf\">           </span>         <span style=\"font-weight: bold\">&lt;</span><span style=\"color: #ff00ff; text-decoration-color: #ff00ff; font-weight: bold\">openfl.interface.aggregation_functions.weighted_average.WeightedAverage</span><span style=\"color: #000000; text-decoration-color: #000000\"> object at </span><span style=\"color: #008080; text-decoration-color: #008080; font-weight: bold\">0x000002302EDD6A60</span><span style=\"font-weight: bold\">&gt;</span> accuracy:           <span style=\"color: #7f7f7f; text-decoration-color: #7f7f7f\">                 </span>\n",
       "<span style=\"color: #7fbfbf; text-decoration-color: #7fbfbf\">           </span>         <span style=\"color: #008080; text-decoration-color: #008080; font-weight: bold\">0.905778</span>                                                                                                                   <span style=\"color: #7f7f7f; text-decoration-color: #7f7f7f\">                 </span>\n",
       "</pre>\n"
      ],
      "text/plain": [
       "\u001b[2;36m          \u001b[0m\u001b[2;36m \u001b[0mMETRIC   Round \u001b[1;36m0\u001b[0m, aggregator: locally_tuned_model_validation                                                                        \u001b]8;id=515741;file://C:\\Users\\BHSU\\AppData\\Local\\Programs\\Python\\Python39\\lib\\site-packages\\openfl\\component\\aggregator\\aggregator.py\u001b\\\u001b[2maggregator.py\u001b[0m\u001b]8;;\u001b\\\u001b[2m:\u001b[0m\u001b]8;id=401530;file://C:\\Users\\BHSU\\AppData\\Local\\Programs\\Python\\Python39\\lib\\site-packages\\openfl\\component\\aggregator\\aggregator.py#842\u001b\\\u001b[2m842\u001b[0m\u001b]8;;\u001b\\\n",
       "\u001b[2;36m           \u001b[0m         \u001b[1m<\u001b[0m\u001b[1;95mopenfl.interface.aggregation_functions.weighted_average.WeightedAverage\u001b[0m\u001b[39m object at \u001b[0m\u001b[1;36m0x000002302EDD6A60\u001b[0m\u001b[1m>\u001b[0m accuracy:           \u001b[2m                 \u001b[0m\n",
       "\u001b[2;36m           \u001b[0m         \u001b[1;36m0.905778\u001b[0m                                                                                                                   \u001b[2m                 \u001b[0m\n"
      ]
     },
     "metadata": {},
     "output_type": "display_data"
    },
    {
     "data": {
      "text/html": [
       "<pre style=\"white-space:pre;overflow-x:auto;line-height:normal;font-family:Menlo,'DejaVu Sans Mono',consolas,'Courier New',monospace\"><span style=\"color: #7fbfbf; text-decoration-color: #7fbfbf\">           </span><span style=\"color: #000080; text-decoration-color: #000080\">INFO    </span> Saving round <span style=\"color: #008080; text-decoration-color: #008080; font-weight: bold\">1</span> model<span style=\"color: #808000; text-decoration-color: #808000\">...</span>                                                                                                    <a href=\"file://C:\\Users\\BHSU\\AppData\\Local\\Programs\\Python\\Python39\\lib\\site-packages\\openfl\\component\\aggregator\\aggregator.py\" target=\"_blank\"><span style=\"color: #7f7f7f; text-decoration-color: #7f7f7f\">aggregator.py</span></a><span style=\"color: #7f7f7f; text-decoration-color: #7f7f7f\">:</span><a href=\"file://C:\\Users\\BHSU\\AppData\\Local\\Programs\\Python\\Python39\\lib\\site-packages\\openfl\\component\\aggregator\\aggregator.py#894\" target=\"_blank\"><span style=\"color: #7f7f7f; text-decoration-color: #7f7f7f\">894</span></a>\n",
       "</pre>\n"
      ],
      "text/plain": [
       "\u001b[2;36m          \u001b[0m\u001b[2;36m \u001b[0m\u001b[34mINFO    \u001b[0m Saving round \u001b[1;36m1\u001b[0m model\u001b[33m...\u001b[0m                                                                                                    \u001b]8;id=725265;file://C:\\Users\\BHSU\\AppData\\Local\\Programs\\Python\\Python39\\lib\\site-packages\\openfl\\component\\aggregator\\aggregator.py\u001b\\\u001b[2maggregator.py\u001b[0m\u001b]8;;\u001b\\\u001b[2m:\u001b[0m\u001b]8;id=44835;file://C:\\Users\\BHSU\\AppData\\Local\\Programs\\Python\\Python39\\lib\\site-packages\\openfl\\component\\aggregator\\aggregator.py#894\u001b\\\u001b[2m894\u001b[0m\u001b]8;;\u001b\\\n"
      ]
     },
     "metadata": {},
     "output_type": "display_data"
    },
    {
     "data": {
      "text/html": [
       "<pre style=\"white-space:pre;overflow-x:auto;line-height:normal;font-family:Menlo,'DejaVu Sans Mono',consolas,'Courier New',monospace\"><span style=\"color: #7fbfbf; text-decoration-color: #7fbfbf\">           </span><span style=\"color: #000080; text-decoration-color: #000080\">INFO    </span> Starting round <span style=\"color: #008080; text-decoration-color: #008080; font-weight: bold\">1</span><span style=\"color: #808000; text-decoration-color: #808000\">...</span>                                                                                                        <a href=\"file://C:\\Users\\BHSU\\AppData\\Local\\Programs\\Python\\Python39\\lib\\site-packages\\openfl\\component\\aggregator\\aggregator.py\" target=\"_blank\"><span style=\"color: #7f7f7f; text-decoration-color: #7f7f7f\">aggregator.py</span></a><span style=\"color: #7f7f7f; text-decoration-color: #7f7f7f\">:</span><a href=\"file://C:\\Users\\BHSU\\AppData\\Local\\Programs\\Python\\Python39\\lib\\site-packages\\openfl\\component\\aggregator\\aggregator.py#901\" target=\"_blank\"><span style=\"color: #7f7f7f; text-decoration-color: #7f7f7f\">901</span></a>\n",
       "</pre>\n"
      ],
      "text/plain": [
       "\u001b[2;36m          \u001b[0m\u001b[2;36m \u001b[0m\u001b[34mINFO    \u001b[0m Starting round \u001b[1;36m1\u001b[0m\u001b[33m...\u001b[0m                                                                                                        \u001b]8;id=39838;file://C:\\Users\\BHSU\\AppData\\Local\\Programs\\Python\\Python39\\lib\\site-packages\\openfl\\component\\aggregator\\aggregator.py\u001b\\\u001b[2maggregator.py\u001b[0m\u001b]8;;\u001b\\\u001b[2m:\u001b[0m\u001b]8;id=832878;file://C:\\Users\\BHSU\\AppData\\Local\\Programs\\Python\\Python39\\lib\\site-packages\\openfl\\component\\aggregator\\aggregator.py#901\u001b\\\u001b[2m901\u001b[0m\u001b]8;;\u001b\\\n"
      ]
     },
     "metadata": {},
     "output_type": "display_data"
    },
    {
     "data": {
      "text/html": [
       "<pre style=\"white-space:pre;overflow-x:auto;line-height:normal;font-family:Menlo,'DejaVu Sans Mono',consolas,'Courier New',monospace\"><span style=\"color: #7fbfbf; text-decoration-color: #7fbfbf\">           </span><span style=\"color: #000080; text-decoration-color: #000080\">INFO    </span> All tasks completed on two for round <span style=\"color: #008080; text-decoration-color: #008080; font-weight: bold\">0</span><span style=\"color: #808000; text-decoration-color: #808000\">...</span>                                                                                <a href=\"file://C:\\Users\\BHSU\\AppData\\Local\\Programs\\Python\\Python39\\lib\\site-packages\\openfl\\component\\collaborator\\collaborator.py\" target=\"_blank\"><span style=\"color: #7f7f7f; text-decoration-color: #7f7f7f\">collaborator.py</span></a><span style=\"color: #7f7f7f; text-decoration-color: #7f7f7f\">:</span><a href=\"file://C:\\Users\\BHSU\\AppData\\Local\\Programs\\Python\\Python39\\lib\\site-packages\\openfl\\component\\collaborator\\collaborator.py#171\" target=\"_blank\"><span style=\"color: #7f7f7f; text-decoration-color: #7f7f7f\">171</span></a>\n",
       "</pre>\n"
      ],
      "text/plain": [
       "\u001b[2;36m          \u001b[0m\u001b[2;36m \u001b[0m\u001b[34mINFO    \u001b[0m All tasks completed on two for round \u001b[1;36m0\u001b[0m\u001b[33m...\u001b[0m                                                                                \u001b]8;id=627060;file://C:\\Users\\BHSU\\AppData\\Local\\Programs\\Python\\Python39\\lib\\site-packages\\openfl\\component\\collaborator\\collaborator.py\u001b\\\u001b[2mcollaborator.py\u001b[0m\u001b]8;;\u001b\\\u001b[2m:\u001b[0m\u001b]8;id=656849;file://C:\\Users\\BHSU\\AppData\\Local\\Programs\\Python\\Python39\\lib\\site-packages\\openfl\\component\\collaborator\\collaborator.py#171\u001b\\\u001b[2m171\u001b[0m\u001b]8;;\u001b\\\n"
      ]
     },
     "metadata": {},
     "output_type": "display_data"
    },
    {
     "data": {
      "text/html": [
       "<pre style=\"white-space:pre;overflow-x:auto;line-height:normal;font-family:Menlo,'DejaVu Sans Mono',consolas,'Courier New',monospace\"><span style=\"color: #7fbfbf; text-decoration-color: #7fbfbf\">           </span><span style=\"color: #000080; text-decoration-color: #000080\">INFO    </span> Waiting for tasks<span style=\"color: #808000; text-decoration-color: #808000\">...</span>                                                                                                     <a href=\"file://C:\\Users\\BHSU\\AppData\\Local\\Programs\\Python\\Python39\\lib\\site-packages\\openfl\\component\\collaborator\\collaborator.py\" target=\"_blank\"><span style=\"color: #7f7f7f; text-decoration-color: #7f7f7f\">collaborator.py</span></a><span style=\"color: #7f7f7f; text-decoration-color: #7f7f7f\">:</span><a href=\"file://C:\\Users\\BHSU\\AppData\\Local\\Programs\\Python\\Python39\\lib\\site-packages\\openfl\\component\\collaborator\\collaborator.py#178\" target=\"_blank\"><span style=\"color: #7f7f7f; text-decoration-color: #7f7f7f\">178</span></a>\n",
       "</pre>\n"
      ],
      "text/plain": [
       "\u001b[2;36m          \u001b[0m\u001b[2;36m \u001b[0m\u001b[34mINFO    \u001b[0m Waiting for tasks\u001b[33m...\u001b[0m                                                                                                     \u001b]8;id=806690;file://C:\\Users\\BHSU\\AppData\\Local\\Programs\\Python\\Python39\\lib\\site-packages\\openfl\\component\\collaborator\\collaborator.py\u001b\\\u001b[2mcollaborator.py\u001b[0m\u001b]8;;\u001b\\\u001b[2m:\u001b[0m\u001b]8;id=22368;file://C:\\Users\\BHSU\\AppData\\Local\\Programs\\Python\\Python39\\lib\\site-packages\\openfl\\component\\collaborator\\collaborator.py#178\u001b\\\u001b[2m178\u001b[0m\u001b]8;;\u001b\\\n"
      ]
     },
     "metadata": {},
     "output_type": "display_data"
    },
    {
     "data": {
      "text/html": [
       "<pre style=\"white-space:pre;overflow-x:auto;line-height:normal;font-family:Menlo,'DejaVu Sans Mono',consolas,'Courier New',monospace\"><span style=\"color: #7fbfbf; text-decoration-color: #7fbfbf\">           </span><span style=\"color: #000080; text-decoration-color: #000080\">INFO    </span> Sending tasks to collaborator one for round <span style=\"color: #008080; text-decoration-color: #008080; font-weight: bold\">1</span>                                                                              <a href=\"file://C:\\Users\\BHSU\\AppData\\Local\\Programs\\Python\\Python39\\lib\\site-packages\\openfl\\component\\aggregator\\aggregator.py\" target=\"_blank\"><span style=\"color: #7f7f7f; text-decoration-color: #7f7f7f\">aggregator.py</span></a><span style=\"color: #7f7f7f; text-decoration-color: #7f7f7f\">:</span><a href=\"file://C:\\Users\\BHSU\\AppData\\Local\\Programs\\Python\\Python39\\lib\\site-packages\\openfl\\component\\aggregator\\aggregator.py#329\" target=\"_blank\"><span style=\"color: #7f7f7f; text-decoration-color: #7f7f7f\">329</span></a>\n",
       "</pre>\n"
      ],
      "text/plain": [
       "\u001b[2;36m          \u001b[0m\u001b[2;36m \u001b[0m\u001b[34mINFO    \u001b[0m Sending tasks to collaborator one for round \u001b[1;36m1\u001b[0m                                                                              \u001b]8;id=87037;file://C:\\Users\\BHSU\\AppData\\Local\\Programs\\Python\\Python39\\lib\\site-packages\\openfl\\component\\aggregator\\aggregator.py\u001b\\\u001b[2maggregator.py\u001b[0m\u001b]8;;\u001b\\\u001b[2m:\u001b[0m\u001b]8;id=547162;file://C:\\Users\\BHSU\\AppData\\Local\\Programs\\Python\\Python39\\lib\\site-packages\\openfl\\component\\aggregator\\aggregator.py#329\u001b\\\u001b[2m329\u001b[0m\u001b]8;;\u001b\\\n"
      ]
     },
     "metadata": {},
     "output_type": "display_data"
    },
    {
     "data": {
      "text/html": [
       "<pre style=\"white-space:pre;overflow-x:auto;line-height:normal;font-family:Menlo,'DejaVu Sans Mono',consolas,'Courier New',monospace\"><span style=\"color: #7fbfbf; text-decoration-color: #7fbfbf\">           </span><span style=\"color: #000080; text-decoration-color: #000080\">INFO    </span> Received the following tasks: <span style=\"font-weight: bold\">[</span><span style=\"color: #008000; text-decoration-color: #008000\">'aggregated_model_validation'</span>, <span style=\"color: #008000; text-decoration-color: #008000\">'train'</span>, <span style=\"color: #008000; text-decoration-color: #008000\">'locally_tuned_model_validation'</span><span style=\"font-weight: bold\">]</span>                 <a href=\"file://C:\\Users\\BHSU\\AppData\\Local\\Programs\\Python\\Python39\\lib\\site-packages\\openfl\\component\\collaborator\\collaborator.py\" target=\"_blank\"><span style=\"color: #7f7f7f; text-decoration-color: #7f7f7f\">collaborator.py</span></a><span style=\"color: #7f7f7f; text-decoration-color: #7f7f7f\">:</span><a href=\"file://C:\\Users\\BHSU\\AppData\\Local\\Programs\\Python\\Python39\\lib\\site-packages\\openfl\\component\\collaborator\\collaborator.py#168\" target=\"_blank\"><span style=\"color: #7f7f7f; text-decoration-color: #7f7f7f\">168</span></a>\n",
       "</pre>\n"
      ],
      "text/plain": [
       "\u001b[2;36m          \u001b[0m\u001b[2;36m \u001b[0m\u001b[34mINFO    \u001b[0m Received the following tasks: \u001b[1m[\u001b[0m\u001b[32m'aggregated_model_validation'\u001b[0m, \u001b[32m'train'\u001b[0m, \u001b[32m'locally_tuned_model_validation'\u001b[0m\u001b[1m]\u001b[0m                 \u001b]8;id=210337;file://C:\\Users\\BHSU\\AppData\\Local\\Programs\\Python\\Python39\\lib\\site-packages\\openfl\\component\\collaborator\\collaborator.py\u001b\\\u001b[2mcollaborator.py\u001b[0m\u001b]8;;\u001b\\\u001b[2m:\u001b[0m\u001b]8;id=709281;file://C:\\Users\\BHSU\\AppData\\Local\\Programs\\Python\\Python39\\lib\\site-packages\\openfl\\component\\collaborator\\collaborator.py#168\u001b\\\u001b[2m168\u001b[0m\u001b]8;;\u001b\\\n"
      ]
     },
     "metadata": {},
     "output_type": "display_data"
    },
    {
     "data": {
      "text/html": [
       "<pre style=\"white-space:pre;overflow-x:auto;line-height:normal;font-family:Menlo,'DejaVu Sans Mono',consolas,'Courier New',monospace\"><span style=\"color: #7fbfbf; text-decoration-color: #7fbfbf\">           </span><span style=\"color: #000080; text-decoration-color: #000080\">INFO    </span> Using TaskRunner subclassing API                                                                                         <a href=\"file://C:\\Users\\BHSU\\AppData\\Local\\Programs\\Python\\Python39\\lib\\site-packages\\openfl\\component\\collaborator\\collaborator.py\" target=\"_blank\"><span style=\"color: #7f7f7f; text-decoration-color: #7f7f7f\">collaborator.py</span></a><span style=\"color: #7f7f7f; text-decoration-color: #7f7f7f\">:</span><a href=\"file://C:\\Users\\BHSU\\AppData\\Local\\Programs\\Python\\Python39\\lib\\site-packages\\openfl\\component\\collaborator\\collaborator.py#253\" target=\"_blank\"><span style=\"color: #7f7f7f; text-decoration-color: #7f7f7f\">253</span></a>\n",
       "</pre>\n"
      ],
      "text/plain": [
       "\u001b[2;36m          \u001b[0m\u001b[2;36m \u001b[0m\u001b[34mINFO    \u001b[0m Using TaskRunner subclassing API                                                                                         \u001b]8;id=98199;file://C:\\Users\\BHSU\\AppData\\Local\\Programs\\Python\\Python39\\lib\\site-packages\\openfl\\component\\collaborator\\collaborator.py\u001b\\\u001b[2mcollaborator.py\u001b[0m\u001b]8;;\u001b\\\u001b[2m:\u001b[0m\u001b]8;id=994502;file://C:\\Users\\BHSU\\AppData\\Local\\Programs\\Python\\Python39\\lib\\site-packages\\openfl\\component\\collaborator\\collaborator.py#253\u001b\\\u001b[2m253\u001b[0m\u001b]8;;\u001b\\\n"
      ]
     },
     "metadata": {},
     "output_type": "display_data"
    },
    {
     "name": "stdout",
     "output_type": "stream",
     "text": [
      "282/282 [==============================] - 0s 511us/step - loss: 0.3163 - accuracy: 0.9110\n"
     ]
    },
    {
     "data": {
      "text/html": [
       "<pre style=\"white-space:pre;overflow-x:auto;line-height:normal;font-family:Menlo,'DejaVu Sans Mono',consolas,'Courier New',monospace\"><span style=\"color: #7fbfbf; text-decoration-color: #7fbfbf\">           </span>METRIC   Round <span style=\"color: #008080; text-decoration-color: #008080; font-weight: bold\">1</span>, collaborator one is sending metric for task aggregated_model_validation: accuracy      <span style=\"color: #008080; text-decoration-color: #008080; font-weight: bold\">0.911000</span>                 <a href=\"file://C:\\Users\\BHSU\\AppData\\Local\\Programs\\Python\\Python39\\lib\\site-packages\\openfl\\component\\collaborator\\collaborator.py\" target=\"_blank\"><span style=\"color: #7f7f7f; text-decoration-color: #7f7f7f\">collaborator.py</span></a><span style=\"color: #7f7f7f; text-decoration-color: #7f7f7f\">:</span><a href=\"file://C:\\Users\\BHSU\\AppData\\Local\\Programs\\Python\\Python39\\lib\\site-packages\\openfl\\component\\collaborator\\collaborator.py#415\" target=\"_blank\"><span style=\"color: #7f7f7f; text-decoration-color: #7f7f7f\">415</span></a>\n",
       "</pre>\n"
      ],
      "text/plain": [
       "\u001b[2;36m          \u001b[0m\u001b[2;36m \u001b[0mMETRIC   Round \u001b[1;36m1\u001b[0m, collaborator one is sending metric for task aggregated_model_validation: accuracy      \u001b[1;36m0.911000\u001b[0m                 \u001b]8;id=530653;file://C:\\Users\\BHSU\\AppData\\Local\\Programs\\Python\\Python39\\lib\\site-packages\\openfl\\component\\collaborator\\collaborator.py\u001b\\\u001b[2mcollaborator.py\u001b[0m\u001b]8;;\u001b\\\u001b[2m:\u001b[0m\u001b]8;id=469933;file://C:\\Users\\BHSU\\AppData\\Local\\Programs\\Python\\Python39\\lib\\site-packages\\openfl\\component\\collaborator\\collaborator.py#415\u001b\\\u001b[2m415\u001b[0m\u001b]8;;\u001b\\\n"
      ]
     },
     "metadata": {},
     "output_type": "display_data"
    },
    {
     "data": {
      "text/html": [
       "<pre style=\"white-space:pre;overflow-x:auto;line-height:normal;font-family:Menlo,'DejaVu Sans Mono',consolas,'Courier New',monospace\"><span style=\"color: #7fbfbf; text-decoration-color: #7fbfbf\">           </span><span style=\"color: #000080; text-decoration-color: #000080\">INFO    </span> Collaborator one is sending task results for aggregated_model_validation, round <span style=\"color: #008080; text-decoration-color: #008080; font-weight: bold\">1</span>                                          <a href=\"file://C:\\Users\\BHSU\\AppData\\Local\\Programs\\Python\\Python39\\lib\\site-packages\\openfl\\component\\aggregator\\aggregator.py\" target=\"_blank\"><span style=\"color: #7f7f7f; text-decoration-color: #7f7f7f\">aggregator.py</span></a><span style=\"color: #7f7f7f; text-decoration-color: #7f7f7f\">:</span><a href=\"file://C:\\Users\\BHSU\\AppData\\Local\\Programs\\Python\\Python39\\lib\\site-packages\\openfl\\component\\aggregator\\aggregator.py#520\" target=\"_blank\"><span style=\"color: #7f7f7f; text-decoration-color: #7f7f7f\">520</span></a>\n",
       "</pre>\n"
      ],
      "text/plain": [
       "\u001b[2;36m          \u001b[0m\u001b[2;36m \u001b[0m\u001b[34mINFO    \u001b[0m Collaborator one is sending task results for aggregated_model_validation, round \u001b[1;36m1\u001b[0m                                          \u001b]8;id=69279;file://C:\\Users\\BHSU\\AppData\\Local\\Programs\\Python\\Python39\\lib\\site-packages\\openfl\\component\\aggregator\\aggregator.py\u001b\\\u001b[2maggregator.py\u001b[0m\u001b]8;;\u001b\\\u001b[2m:\u001b[0m\u001b]8;id=791778;file://C:\\Users\\BHSU\\AppData\\Local\\Programs\\Python\\Python39\\lib\\site-packages\\openfl\\component\\aggregator\\aggregator.py#520\u001b\\\u001b[2m520\u001b[0m\u001b]8;;\u001b\\\n"
      ]
     },
     "metadata": {},
     "output_type": "display_data"
    },
    {
     "data": {
      "text/html": [
       "<pre style=\"white-space:pre;overflow-x:auto;line-height:normal;font-family:Menlo,'DejaVu Sans Mono',consolas,'Courier New',monospace\"><span style=\"color: #7fbfbf; text-decoration-color: #7fbfbf\">           </span>METRIC   Round <span style=\"color: #008080; text-decoration-color: #008080; font-weight: bold\">1</span>, collaborator validate_agg aggregated_model_validation result accuracy: <span style=\"color: #008080; text-decoration-color: #008080; font-weight: bold\">0.911000</span>                                   <a href=\"file://C:\\Users\\BHSU\\AppData\\Local\\Programs\\Python\\Python39\\lib\\site-packages\\openfl\\component\\aggregator\\aggregator.py\" target=\"_blank\"><span style=\"color: #7f7f7f; text-decoration-color: #7f7f7f\">aggregator.py</span></a><span style=\"color: #7f7f7f; text-decoration-color: #7f7f7f\">:</span><a href=\"file://C:\\Users\\BHSU\\AppData\\Local\\Programs\\Python\\Python39\\lib\\site-packages\\openfl\\component\\aggregator\\aggregator.py#559\" target=\"_blank\"><span style=\"color: #7f7f7f; text-decoration-color: #7f7f7f\">559</span></a>\n",
       "</pre>\n"
      ],
      "text/plain": [
       "\u001b[2;36m          \u001b[0m\u001b[2;36m \u001b[0mMETRIC   Round \u001b[1;36m1\u001b[0m, collaborator validate_agg aggregated_model_validation result accuracy: \u001b[1;36m0.911000\u001b[0m                                   \u001b]8;id=970973;file://C:\\Users\\BHSU\\AppData\\Local\\Programs\\Python\\Python39\\lib\\site-packages\\openfl\\component\\aggregator\\aggregator.py\u001b\\\u001b[2maggregator.py\u001b[0m\u001b]8;;\u001b\\\u001b[2m:\u001b[0m\u001b]8;id=548970;file://C:\\Users\\BHSU\\AppData\\Local\\Programs\\Python\\Python39\\lib\\site-packages\\openfl\\component\\aggregator\\aggregator.py#559\u001b\\\u001b[2m559\u001b[0m\u001b]8;;\u001b\\\n"
      ]
     },
     "metadata": {},
     "output_type": "display_data"
    },
    {
     "data": {
      "text/html": [
       "<pre style=\"white-space:pre;overflow-x:auto;line-height:normal;font-family:Menlo,'DejaVu Sans Mono',consolas,'Courier New',monospace\"><span style=\"color: #7fbfbf; text-decoration-color: #7fbfbf\">           </span><span style=\"color: #000080; text-decoration-color: #000080\">INFO    </span> Using TaskRunner subclassing API                                                                                         <a href=\"file://C:\\Users\\BHSU\\AppData\\Local\\Programs\\Python\\Python39\\lib\\site-packages\\openfl\\component\\collaborator\\collaborator.py\" target=\"_blank\"><span style=\"color: #7f7f7f; text-decoration-color: #7f7f7f\">collaborator.py</span></a><span style=\"color: #7f7f7f; text-decoration-color: #7f7f7f\">:</span><a href=\"file://C:\\Users\\BHSU\\AppData\\Local\\Programs\\Python\\Python39\\lib\\site-packages\\openfl\\component\\collaborator\\collaborator.py#253\" target=\"_blank\"><span style=\"color: #7f7f7f; text-decoration-color: #7f7f7f\">253</span></a>\n",
       "</pre>\n"
      ],
      "text/plain": [
       "\u001b[2;36m          \u001b[0m\u001b[2;36m \u001b[0m\u001b[34mINFO    \u001b[0m Using TaskRunner subclassing API                                                                                         \u001b]8;id=580133;file://C:\\Users\\BHSU\\AppData\\Local\\Programs\\Python\\Python39\\lib\\site-packages\\openfl\\component\\collaborator\\collaborator.py\u001b\\\u001b[2mcollaborator.py\u001b[0m\u001b]8;;\u001b\\\u001b[2m:\u001b[0m\u001b]8;id=433888;file://C:\\Users\\BHSU\\AppData\\Local\\Programs\\Python\\Python39\\lib\\site-packages\\openfl\\component\\collaborator\\collaborator.py#253\u001b\\\u001b[2m253\u001b[0m\u001b]8;;\u001b\\\n"
      ]
     },
     "metadata": {},
     "output_type": "display_data"
    },
    {
     "data": {
      "text/html": [
       "<pre style=\"white-space:pre;overflow-x:auto;line-height:normal;font-family:Menlo,'DejaVu Sans Mono',consolas,'Courier New',monospace\"><span style=\"color: #7fbfbf; text-decoration-color: #7fbfbf\">           </span><span style=\"color: #000080; text-decoration-color: #000080\">INFO    </span> Run <span style=\"color: #008080; text-decoration-color: #008080; font-weight: bold\">0</span> epoch of <span style=\"color: #008080; text-decoration-color: #008080; font-weight: bold\">1</span> round                                                                                                    <a href=\"file://C:\\Users\\BHSU\\AppData\\Local\\Programs\\Python\\Python39\\lib\\site-packages\\openfl\\federated\\task\\runner_keras.py\" target=\"_blank\"><span style=\"color: #7f7f7f; text-decoration-color: #7f7f7f\">runner_keras.py</span></a><span style=\"color: #7f7f7f; text-decoration-color: #7f7f7f\">:</span><a href=\"file://C:\\Users\\BHSU\\AppData\\Local\\Programs\\Python\\Python39\\lib\\site-packages\\openfl\\federated\\task\\runner_keras.py#83\" target=\"_blank\"><span style=\"color: #7f7f7f; text-decoration-color: #7f7f7f\">83</span></a>\n",
       "</pre>\n"
      ],
      "text/plain": [
       "\u001b[2;36m          \u001b[0m\u001b[2;36m \u001b[0m\u001b[34mINFO    \u001b[0m Run \u001b[1;36m0\u001b[0m epoch of \u001b[1;36m1\u001b[0m round                                                                                                    \u001b]8;id=27431;file://C:\\Users\\BHSU\\AppData\\Local\\Programs\\Python\\Python39\\lib\\site-packages\\openfl\\federated\\task\\runner_keras.py\u001b\\\u001b[2mrunner_keras.py\u001b[0m\u001b]8;;\u001b\\\u001b[2m:\u001b[0m\u001b]8;id=668426;file://C:\\Users\\BHSU\\AppData\\Local\\Programs\\Python\\Python39\\lib\\site-packages\\openfl\\federated\\task\\runner_keras.py#83\u001b\\\u001b[2m83\u001b[0m\u001b]8;;\u001b\\\n"
      ]
     },
     "metadata": {},
     "output_type": "display_data"
    },
    {
     "name": "stdout",
     "output_type": "stream",
     "text": [
      "657/657 [==============================] - 0s 623us/step - loss: 0.2883 - accuracy: 0.9142\n"
     ]
    },
    {
     "data": {
      "text/html": [
       "<pre style=\"white-space:pre;overflow-x:auto;line-height:normal;font-family:Menlo,'DejaVu Sans Mono',consolas,'Courier New',monospace\"><span style=\"color: #7fbfbf; text-decoration-color: #7fbfbf\">[10:46:27] </span>METRIC   Round <span style=\"color: #008080; text-decoration-color: #008080; font-weight: bold\">1</span>, collaborator one is sending metric for task train: loss        <span style=\"color: #008080; text-decoration-color: #008080; font-weight: bold\">0.288327</span>                                         <a href=\"file://C:\\Users\\BHSU\\AppData\\Local\\Programs\\Python\\Python39\\lib\\site-packages\\openfl\\component\\collaborator\\collaborator.py\" target=\"_blank\"><span style=\"color: #7f7f7f; text-decoration-color: #7f7f7f\">collaborator.py</span></a><span style=\"color: #7f7f7f; text-decoration-color: #7f7f7f\">:</span><a href=\"file://C:\\Users\\BHSU\\AppData\\Local\\Programs\\Python\\Python39\\lib\\site-packages\\openfl\\component\\collaborator\\collaborator.py#415\" target=\"_blank\"><span style=\"color: #7f7f7f; text-decoration-color: #7f7f7f\">415</span></a>\n",
       "</pre>\n"
      ],
      "text/plain": [
       "\u001b[2;36m[10:46:27]\u001b[0m\u001b[2;36m \u001b[0mMETRIC   Round \u001b[1;36m1\u001b[0m, collaborator one is sending metric for task train: loss        \u001b[1;36m0.288327\u001b[0m                                         \u001b]8;id=786807;file://C:\\Users\\BHSU\\AppData\\Local\\Programs\\Python\\Python39\\lib\\site-packages\\openfl\\component\\collaborator\\collaborator.py\u001b\\\u001b[2mcollaborator.py\u001b[0m\u001b]8;;\u001b\\\u001b[2m:\u001b[0m\u001b]8;id=967787;file://C:\\Users\\BHSU\\AppData\\Local\\Programs\\Python\\Python39\\lib\\site-packages\\openfl\\component\\collaborator\\collaborator.py#415\u001b\\\u001b[2m415\u001b[0m\u001b]8;;\u001b\\\n"
      ]
     },
     "metadata": {},
     "output_type": "display_data"
    },
    {
     "data": {
      "text/html": [
       "<pre style=\"white-space:pre;overflow-x:auto;line-height:normal;font-family:Menlo,'DejaVu Sans Mono',consolas,'Courier New',monospace\"><span style=\"color: #7fbfbf; text-decoration-color: #7fbfbf\">           </span><span style=\"color: #000080; text-decoration-color: #000080\">INFO    </span> Collaborator one is sending task results for train, round <span style=\"color: #008080; text-decoration-color: #008080; font-weight: bold\">1</span>                                                                <a href=\"file://C:\\Users\\BHSU\\AppData\\Local\\Programs\\Python\\Python39\\lib\\site-packages\\openfl\\component\\aggregator\\aggregator.py\" target=\"_blank\"><span style=\"color: #7f7f7f; text-decoration-color: #7f7f7f\">aggregator.py</span></a><span style=\"color: #7f7f7f; text-decoration-color: #7f7f7f\">:</span><a href=\"file://C:\\Users\\BHSU\\AppData\\Local\\Programs\\Python\\Python39\\lib\\site-packages\\openfl\\component\\aggregator\\aggregator.py#520\" target=\"_blank\"><span style=\"color: #7f7f7f; text-decoration-color: #7f7f7f\">520</span></a>\n",
       "</pre>\n"
      ],
      "text/plain": [
       "\u001b[2;36m          \u001b[0m\u001b[2;36m \u001b[0m\u001b[34mINFO    \u001b[0m Collaborator one is sending task results for train, round \u001b[1;36m1\u001b[0m                                                                \u001b]8;id=287949;file://C:\\Users\\BHSU\\AppData\\Local\\Programs\\Python\\Python39\\lib\\site-packages\\openfl\\component\\aggregator\\aggregator.py\u001b\\\u001b[2maggregator.py\u001b[0m\u001b]8;;\u001b\\\u001b[2m:\u001b[0m\u001b]8;id=463692;file://C:\\Users\\BHSU\\AppData\\Local\\Programs\\Python\\Python39\\lib\\site-packages\\openfl\\component\\aggregator\\aggregator.py#520\u001b\\\u001b[2m520\u001b[0m\u001b]8;;\u001b\\\n"
      ]
     },
     "metadata": {},
     "output_type": "display_data"
    },
    {
     "data": {
      "text/html": [
       "<pre style=\"white-space:pre;overflow-x:auto;line-height:normal;font-family:Menlo,'DejaVu Sans Mono',consolas,'Courier New',monospace\"><span style=\"color: #7fbfbf; text-decoration-color: #7fbfbf\">           </span>METRIC   Round <span style=\"color: #008080; text-decoration-color: #008080; font-weight: bold\">1</span>, collaborator one train result loss:    <span style=\"color: #008080; text-decoration-color: #008080; font-weight: bold\">0.288327</span>                                                                   <a href=\"file://C:\\Users\\BHSU\\AppData\\Local\\Programs\\Python\\Python39\\lib\\site-packages\\openfl\\component\\aggregator\\aggregator.py\" target=\"_blank\"><span style=\"color: #7f7f7f; text-decoration-color: #7f7f7f\">aggregator.py</span></a><span style=\"color: #7f7f7f; text-decoration-color: #7f7f7f\">:</span><a href=\"file://C:\\Users\\BHSU\\AppData\\Local\\Programs\\Python\\Python39\\lib\\site-packages\\openfl\\component\\aggregator\\aggregator.py#559\" target=\"_blank\"><span style=\"color: #7f7f7f; text-decoration-color: #7f7f7f\">559</span></a>\n",
       "</pre>\n"
      ],
      "text/plain": [
       "\u001b[2;36m          \u001b[0m\u001b[2;36m \u001b[0mMETRIC   Round \u001b[1;36m1\u001b[0m, collaborator one train result loss:    \u001b[1;36m0.288327\u001b[0m                                                                   \u001b]8;id=67013;file://C:\\Users\\BHSU\\AppData\\Local\\Programs\\Python\\Python39\\lib\\site-packages\\openfl\\component\\aggregator\\aggregator.py\u001b\\\u001b[2maggregator.py\u001b[0m\u001b]8;;\u001b\\\u001b[2m:\u001b[0m\u001b]8;id=481173;file://C:\\Users\\BHSU\\AppData\\Local\\Programs\\Python\\Python39\\lib\\site-packages\\openfl\\component\\aggregator\\aggregator.py#559\u001b\\\u001b[2m559\u001b[0m\u001b]8;;\u001b\\\n"
      ]
     },
     "metadata": {},
     "output_type": "display_data"
    },
    {
     "data": {
      "text/html": [
       "<pre style=\"white-space:pre;overflow-x:auto;line-height:normal;font-family:Menlo,'DejaVu Sans Mono',consolas,'Courier New',monospace\"><span style=\"color: #7fbfbf; text-decoration-color: #7fbfbf\">           </span><span style=\"color: #000080; text-decoration-color: #000080\">INFO    </span> Using TaskRunner subclassing API                                                                                         <a href=\"file://C:\\Users\\BHSU\\AppData\\Local\\Programs\\Python\\Python39\\lib\\site-packages\\openfl\\component\\collaborator\\collaborator.py\" target=\"_blank\"><span style=\"color: #7f7f7f; text-decoration-color: #7f7f7f\">collaborator.py</span></a><span style=\"color: #7f7f7f; text-decoration-color: #7f7f7f\">:</span><a href=\"file://C:\\Users\\BHSU\\AppData\\Local\\Programs\\Python\\Python39\\lib\\site-packages\\openfl\\component\\collaborator\\collaborator.py#253\" target=\"_blank\"><span style=\"color: #7f7f7f; text-decoration-color: #7f7f7f\">253</span></a>\n",
       "</pre>\n"
      ],
      "text/plain": [
       "\u001b[2;36m          \u001b[0m\u001b[2;36m \u001b[0m\u001b[34mINFO    \u001b[0m Using TaskRunner subclassing API                                                                                         \u001b]8;id=834533;file://C:\\Users\\BHSU\\AppData\\Local\\Programs\\Python\\Python39\\lib\\site-packages\\openfl\\component\\collaborator\\collaborator.py\u001b\\\u001b[2mcollaborator.py\u001b[0m\u001b]8;;\u001b\\\u001b[2m:\u001b[0m\u001b]8;id=149420;file://C:\\Users\\BHSU\\AppData\\Local\\Programs\\Python\\Python39\\lib\\site-packages\\openfl\\component\\collaborator\\collaborator.py#253\u001b\\\u001b[2m253\u001b[0m\u001b]8;;\u001b\\\n"
      ]
     },
     "metadata": {},
     "output_type": "display_data"
    },
    {
     "name": "stdout",
     "output_type": "stream",
     "text": [
      "282/282 [==============================] - 0s 516us/step - loss: 0.2627 - accuracy: 0.9161\n"
     ]
    },
    {
     "data": {
      "text/html": [
       "<pre style=\"white-space:pre;overflow-x:auto;line-height:normal;font-family:Menlo,'DejaVu Sans Mono',consolas,'Courier New',monospace\"><span style=\"color: #7fbfbf; text-decoration-color: #7fbfbf\">           </span>METRIC   Round <span style=\"color: #008080; text-decoration-color: #008080; font-weight: bold\">1</span>, collaborator one is sending metric for task locally_tuned_model_validation: accuracy   <span style=\"color: #008080; text-decoration-color: #008080; font-weight: bold\">0.916111</span>                 <a href=\"file://C:\\Users\\BHSU\\AppData\\Local\\Programs\\Python\\Python39\\lib\\site-packages\\openfl\\component\\collaborator\\collaborator.py\" target=\"_blank\"><span style=\"color: #7f7f7f; text-decoration-color: #7f7f7f\">collaborator.py</span></a><span style=\"color: #7f7f7f; text-decoration-color: #7f7f7f\">:</span><a href=\"file://C:\\Users\\BHSU\\AppData\\Local\\Programs\\Python\\Python39\\lib\\site-packages\\openfl\\component\\collaborator\\collaborator.py#415\" target=\"_blank\"><span style=\"color: #7f7f7f; text-decoration-color: #7f7f7f\">415</span></a>\n",
       "</pre>\n"
      ],
      "text/plain": [
       "\u001b[2;36m          \u001b[0m\u001b[2;36m \u001b[0mMETRIC   Round \u001b[1;36m1\u001b[0m, collaborator one is sending metric for task locally_tuned_model_validation: accuracy   \u001b[1;36m0.916111\u001b[0m                 \u001b]8;id=456766;file://C:\\Users\\BHSU\\AppData\\Local\\Programs\\Python\\Python39\\lib\\site-packages\\openfl\\component\\collaborator\\collaborator.py\u001b\\\u001b[2mcollaborator.py\u001b[0m\u001b]8;;\u001b\\\u001b[2m:\u001b[0m\u001b]8;id=781665;file://C:\\Users\\BHSU\\AppData\\Local\\Programs\\Python\\Python39\\lib\\site-packages\\openfl\\component\\collaborator\\collaborator.py#415\u001b\\\u001b[2m415\u001b[0m\u001b]8;;\u001b\\\n"
      ]
     },
     "metadata": {},
     "output_type": "display_data"
    },
    {
     "data": {
      "text/html": [
       "<pre style=\"white-space:pre;overflow-x:auto;line-height:normal;font-family:Menlo,'DejaVu Sans Mono',consolas,'Courier New',monospace\"><span style=\"color: #7fbfbf; text-decoration-color: #7fbfbf\">           </span><span style=\"color: #000080; text-decoration-color: #000080\">INFO    </span> Collaborator one is sending task results for locally_tuned_model_validation, round <span style=\"color: #008080; text-decoration-color: #008080; font-weight: bold\">1</span>                                       <a href=\"file://C:\\Users\\BHSU\\AppData\\Local\\Programs\\Python\\Python39\\lib\\site-packages\\openfl\\component\\aggregator\\aggregator.py\" target=\"_blank\"><span style=\"color: #7f7f7f; text-decoration-color: #7f7f7f\">aggregator.py</span></a><span style=\"color: #7f7f7f; text-decoration-color: #7f7f7f\">:</span><a href=\"file://C:\\Users\\BHSU\\AppData\\Local\\Programs\\Python\\Python39\\lib\\site-packages\\openfl\\component\\aggregator\\aggregator.py#520\" target=\"_blank\"><span style=\"color: #7f7f7f; text-decoration-color: #7f7f7f\">520</span></a>\n",
       "</pre>\n"
      ],
      "text/plain": [
       "\u001b[2;36m          \u001b[0m\u001b[2;36m \u001b[0m\u001b[34mINFO    \u001b[0m Collaborator one is sending task results for locally_tuned_model_validation, round \u001b[1;36m1\u001b[0m                                       \u001b]8;id=333131;file://C:\\Users\\BHSU\\AppData\\Local\\Programs\\Python\\Python39\\lib\\site-packages\\openfl\\component\\aggregator\\aggregator.py\u001b\\\u001b[2maggregator.py\u001b[0m\u001b]8;;\u001b\\\u001b[2m:\u001b[0m\u001b]8;id=405760;file://C:\\Users\\BHSU\\AppData\\Local\\Programs\\Python\\Python39\\lib\\site-packages\\openfl\\component\\aggregator\\aggregator.py#520\u001b\\\u001b[2m520\u001b[0m\u001b]8;;\u001b\\\n"
      ]
     },
     "metadata": {},
     "output_type": "display_data"
    },
    {
     "data": {
      "text/html": [
       "<pre style=\"white-space:pre;overflow-x:auto;line-height:normal;font-family:Menlo,'DejaVu Sans Mono',consolas,'Courier New',monospace\"><span style=\"color: #7fbfbf; text-decoration-color: #7fbfbf\">           </span>METRIC   Round <span style=\"color: #008080; text-decoration-color: #008080; font-weight: bold\">1</span>, collaborator validate_local locally_tuned_model_validation result accuracy:    <span style=\"color: #008080; text-decoration-color: #008080; font-weight: bold\">0.916111</span>                           <a href=\"file://C:\\Users\\BHSU\\AppData\\Local\\Programs\\Python\\Python39\\lib\\site-packages\\openfl\\component\\aggregator\\aggregator.py\" target=\"_blank\"><span style=\"color: #7f7f7f; text-decoration-color: #7f7f7f\">aggregator.py</span></a><span style=\"color: #7f7f7f; text-decoration-color: #7f7f7f\">:</span><a href=\"file://C:\\Users\\BHSU\\AppData\\Local\\Programs\\Python\\Python39\\lib\\site-packages\\openfl\\component\\aggregator\\aggregator.py#559\" target=\"_blank\"><span style=\"color: #7f7f7f; text-decoration-color: #7f7f7f\">559</span></a>\n",
       "</pre>\n"
      ],
      "text/plain": [
       "\u001b[2;36m          \u001b[0m\u001b[2;36m \u001b[0mMETRIC   Round \u001b[1;36m1\u001b[0m, collaborator validate_local locally_tuned_model_validation result accuracy:    \u001b[1;36m0.916111\u001b[0m                           \u001b]8;id=942704;file://C:\\Users\\BHSU\\AppData\\Local\\Programs\\Python\\Python39\\lib\\site-packages\\openfl\\component\\aggregator\\aggregator.py\u001b\\\u001b[2maggregator.py\u001b[0m\u001b]8;;\u001b\\\u001b[2m:\u001b[0m\u001b]8;id=80858;file://C:\\Users\\BHSU\\AppData\\Local\\Programs\\Python\\Python39\\lib\\site-packages\\openfl\\component\\aggregator\\aggregator.py#559\u001b\\\u001b[2m559\u001b[0m\u001b]8;;\u001b\\\n"
      ]
     },
     "metadata": {},
     "output_type": "display_data"
    },
    {
     "data": {
      "text/html": [
       "<pre style=\"white-space:pre;overflow-x:auto;line-height:normal;font-family:Menlo,'DejaVu Sans Mono',consolas,'Courier New',monospace\"><span style=\"color: #7fbfbf; text-decoration-color: #7fbfbf\">           </span><span style=\"color: #000080; text-decoration-color: #000080\">INFO    </span> All tasks completed on one for round <span style=\"color: #008080; text-decoration-color: #008080; font-weight: bold\">1</span><span style=\"color: #808000; text-decoration-color: #808000\">...</span>                                                                                <a href=\"file://C:\\Users\\BHSU\\AppData\\Local\\Programs\\Python\\Python39\\lib\\site-packages\\openfl\\component\\collaborator\\collaborator.py\" target=\"_blank\"><span style=\"color: #7f7f7f; text-decoration-color: #7f7f7f\">collaborator.py</span></a><span style=\"color: #7f7f7f; text-decoration-color: #7f7f7f\">:</span><a href=\"file://C:\\Users\\BHSU\\AppData\\Local\\Programs\\Python\\Python39\\lib\\site-packages\\openfl\\component\\collaborator\\collaborator.py#171\" target=\"_blank\"><span style=\"color: #7f7f7f; text-decoration-color: #7f7f7f\">171</span></a>\n",
       "</pre>\n"
      ],
      "text/plain": [
       "\u001b[2;36m          \u001b[0m\u001b[2;36m \u001b[0m\u001b[34mINFO    \u001b[0m All tasks completed on one for round \u001b[1;36m1\u001b[0m\u001b[33m...\u001b[0m                                                                                \u001b]8;id=320486;file://C:\\Users\\BHSU\\AppData\\Local\\Programs\\Python\\Python39\\lib\\site-packages\\openfl\\component\\collaborator\\collaborator.py\u001b\\\u001b[2mcollaborator.py\u001b[0m\u001b]8;;\u001b\\\u001b[2m:\u001b[0m\u001b]8;id=555826;file://C:\\Users\\BHSU\\AppData\\Local\\Programs\\Python\\Python39\\lib\\site-packages\\openfl\\component\\collaborator\\collaborator.py#171\u001b\\\u001b[2m171\u001b[0m\u001b]8;;\u001b\\\n"
      ]
     },
     "metadata": {},
     "output_type": "display_data"
    },
    {
     "data": {
      "text/html": [
       "<pre style=\"white-space:pre;overflow-x:auto;line-height:normal;font-family:Menlo,'DejaVu Sans Mono',consolas,'Courier New',monospace\"><span style=\"color: #7fbfbf; text-decoration-color: #7fbfbf\">           </span><span style=\"color: #000080; text-decoration-color: #000080\">INFO    </span> Waiting for tasks<span style=\"color: #808000; text-decoration-color: #808000\">...</span>                                                                                                     <a href=\"file://C:\\Users\\BHSU\\AppData\\Local\\Programs\\Python\\Python39\\lib\\site-packages\\openfl\\component\\collaborator\\collaborator.py\" target=\"_blank\"><span style=\"color: #7f7f7f; text-decoration-color: #7f7f7f\">collaborator.py</span></a><span style=\"color: #7f7f7f; text-decoration-color: #7f7f7f\">:</span><a href=\"file://C:\\Users\\BHSU\\AppData\\Local\\Programs\\Python\\Python39\\lib\\site-packages\\openfl\\component\\collaborator\\collaborator.py#178\" target=\"_blank\"><span style=\"color: #7f7f7f; text-decoration-color: #7f7f7f\">178</span></a>\n",
       "</pre>\n"
      ],
      "text/plain": [
       "\u001b[2;36m          \u001b[0m\u001b[2;36m \u001b[0m\u001b[34mINFO    \u001b[0m Waiting for tasks\u001b[33m...\u001b[0m                                                                                                     \u001b]8;id=790191;file://C:\\Users\\BHSU\\AppData\\Local\\Programs\\Python\\Python39\\lib\\site-packages\\openfl\\component\\collaborator\\collaborator.py\u001b\\\u001b[2mcollaborator.py\u001b[0m\u001b]8;;\u001b\\\u001b[2m:\u001b[0m\u001b]8;id=850625;file://C:\\Users\\BHSU\\AppData\\Local\\Programs\\Python\\Python39\\lib\\site-packages\\openfl\\component\\collaborator\\collaborator.py#178\u001b\\\u001b[2m178\u001b[0m\u001b]8;;\u001b\\\n"
      ]
     },
     "metadata": {},
     "output_type": "display_data"
    },
    {
     "data": {
      "text/html": [
       "<pre style=\"white-space:pre;overflow-x:auto;line-height:normal;font-family:Menlo,'DejaVu Sans Mono',consolas,'Courier New',monospace\"><span style=\"color: #7fbfbf; text-decoration-color: #7fbfbf\">           </span><span style=\"color: #000080; text-decoration-color: #000080\">INFO    </span> Sending tasks to collaborator two for round <span style=\"color: #008080; text-decoration-color: #008080; font-weight: bold\">1</span>                                                                              <a href=\"file://C:\\Users\\BHSU\\AppData\\Local\\Programs\\Python\\Python39\\lib\\site-packages\\openfl\\component\\aggregator\\aggregator.py\" target=\"_blank\"><span style=\"color: #7f7f7f; text-decoration-color: #7f7f7f\">aggregator.py</span></a><span style=\"color: #7f7f7f; text-decoration-color: #7f7f7f\">:</span><a href=\"file://C:\\Users\\BHSU\\AppData\\Local\\Programs\\Python\\Python39\\lib\\site-packages\\openfl\\component\\aggregator\\aggregator.py#329\" target=\"_blank\"><span style=\"color: #7f7f7f; text-decoration-color: #7f7f7f\">329</span></a>\n",
       "</pre>\n"
      ],
      "text/plain": [
       "\u001b[2;36m          \u001b[0m\u001b[2;36m \u001b[0m\u001b[34mINFO    \u001b[0m Sending tasks to collaborator two for round \u001b[1;36m1\u001b[0m                                                                              \u001b]8;id=610720;file://C:\\Users\\BHSU\\AppData\\Local\\Programs\\Python\\Python39\\lib\\site-packages\\openfl\\component\\aggregator\\aggregator.py\u001b\\\u001b[2maggregator.py\u001b[0m\u001b]8;;\u001b\\\u001b[2m:\u001b[0m\u001b]8;id=82190;file://C:\\Users\\BHSU\\AppData\\Local\\Programs\\Python\\Python39\\lib\\site-packages\\openfl\\component\\aggregator\\aggregator.py#329\u001b\\\u001b[2m329\u001b[0m\u001b]8;;\u001b\\\n"
      ]
     },
     "metadata": {},
     "output_type": "display_data"
    },
    {
     "data": {
      "text/html": [
       "<pre style=\"white-space:pre;overflow-x:auto;line-height:normal;font-family:Menlo,'DejaVu Sans Mono',consolas,'Courier New',monospace\"><span style=\"color: #7fbfbf; text-decoration-color: #7fbfbf\">           </span><span style=\"color: #000080; text-decoration-color: #000080\">INFO    </span> Received the following tasks: <span style=\"font-weight: bold\">[</span><span style=\"color: #008000; text-decoration-color: #008000\">'aggregated_model_validation'</span>, <span style=\"color: #008000; text-decoration-color: #008000\">'train'</span>, <span style=\"color: #008000; text-decoration-color: #008000\">'locally_tuned_model_validation'</span><span style=\"font-weight: bold\">]</span>                 <a href=\"file://C:\\Users\\BHSU\\AppData\\Local\\Programs\\Python\\Python39\\lib\\site-packages\\openfl\\component\\collaborator\\collaborator.py\" target=\"_blank\"><span style=\"color: #7f7f7f; text-decoration-color: #7f7f7f\">collaborator.py</span></a><span style=\"color: #7f7f7f; text-decoration-color: #7f7f7f\">:</span><a href=\"file://C:\\Users\\BHSU\\AppData\\Local\\Programs\\Python\\Python39\\lib\\site-packages\\openfl\\component\\collaborator\\collaborator.py#168\" target=\"_blank\"><span style=\"color: #7f7f7f; text-decoration-color: #7f7f7f\">168</span></a>\n",
       "</pre>\n"
      ],
      "text/plain": [
       "\u001b[2;36m          \u001b[0m\u001b[2;36m \u001b[0m\u001b[34mINFO    \u001b[0m Received the following tasks: \u001b[1m[\u001b[0m\u001b[32m'aggregated_model_validation'\u001b[0m, \u001b[32m'train'\u001b[0m, \u001b[32m'locally_tuned_model_validation'\u001b[0m\u001b[1m]\u001b[0m                 \u001b]8;id=766685;file://C:\\Users\\BHSU\\AppData\\Local\\Programs\\Python\\Python39\\lib\\site-packages\\openfl\\component\\collaborator\\collaborator.py\u001b\\\u001b[2mcollaborator.py\u001b[0m\u001b]8;;\u001b\\\u001b[2m:\u001b[0m\u001b]8;id=223100;file://C:\\Users\\BHSU\\AppData\\Local\\Programs\\Python\\Python39\\lib\\site-packages\\openfl\\component\\collaborator\\collaborator.py#168\u001b\\\u001b[2m168\u001b[0m\u001b]8;;\u001b\\\n"
      ]
     },
     "metadata": {},
     "output_type": "display_data"
    },
    {
     "data": {
      "text/html": [
       "<pre style=\"white-space:pre;overflow-x:auto;line-height:normal;font-family:Menlo,'DejaVu Sans Mono',consolas,'Courier New',monospace\"><span style=\"color: #7fbfbf; text-decoration-color: #7fbfbf\">           </span><span style=\"color: #000080; text-decoration-color: #000080\">INFO    </span> Using TaskRunner subclassing API                                                                                         <a href=\"file://C:\\Users\\BHSU\\AppData\\Local\\Programs\\Python\\Python39\\lib\\site-packages\\openfl\\component\\collaborator\\collaborator.py\" target=\"_blank\"><span style=\"color: #7f7f7f; text-decoration-color: #7f7f7f\">collaborator.py</span></a><span style=\"color: #7f7f7f; text-decoration-color: #7f7f7f\">:</span><a href=\"file://C:\\Users\\BHSU\\AppData\\Local\\Programs\\Python\\Python39\\lib\\site-packages\\openfl\\component\\collaborator\\collaborator.py#253\" target=\"_blank\"><span style=\"color: #7f7f7f; text-decoration-color: #7f7f7f\">253</span></a>\n",
       "</pre>\n"
      ],
      "text/plain": [
       "\u001b[2;36m          \u001b[0m\u001b[2;36m \u001b[0m\u001b[34mINFO    \u001b[0m Using TaskRunner subclassing API                                                                                         \u001b]8;id=394945;file://C:\\Users\\BHSU\\AppData\\Local\\Programs\\Python\\Python39\\lib\\site-packages\\openfl\\component\\collaborator\\collaborator.py\u001b\\\u001b[2mcollaborator.py\u001b[0m\u001b]8;;\u001b\\\u001b[2m:\u001b[0m\u001b]8;id=791038;file://C:\\Users\\BHSU\\AppData\\Local\\Programs\\Python\\Python39\\lib\\site-packages\\openfl\\component\\collaborator\\collaborator.py#253\u001b\\\u001b[2m253\u001b[0m\u001b]8;;\u001b\\\n"
      ]
     },
     "metadata": {},
     "output_type": "display_data"
    },
    {
     "name": "stdout",
     "output_type": "stream",
     "text": [
      "282/282 [==============================] - 0s 488us/step - loss: 0.3293 - accuracy: 0.9084\n"
     ]
    },
    {
     "data": {
      "text/html": [
       "<pre style=\"white-space:pre;overflow-x:auto;line-height:normal;font-family:Menlo,'DejaVu Sans Mono',consolas,'Courier New',monospace\"><span style=\"color: #7fbfbf; text-decoration-color: #7fbfbf\">           </span>METRIC   Round <span style=\"color: #008080; text-decoration-color: #008080; font-weight: bold\">1</span>, collaborator two is sending metric for task aggregated_model_validation: accuracy      <span style=\"color: #008080; text-decoration-color: #008080; font-weight: bold\">0.908444</span>                 <a href=\"file://C:\\Users\\BHSU\\AppData\\Local\\Programs\\Python\\Python39\\lib\\site-packages\\openfl\\component\\collaborator\\collaborator.py\" target=\"_blank\"><span style=\"color: #7f7f7f; text-decoration-color: #7f7f7f\">collaborator.py</span></a><span style=\"color: #7f7f7f; text-decoration-color: #7f7f7f\">:</span><a href=\"file://C:\\Users\\BHSU\\AppData\\Local\\Programs\\Python\\Python39\\lib\\site-packages\\openfl\\component\\collaborator\\collaborator.py#415\" target=\"_blank\"><span style=\"color: #7f7f7f; text-decoration-color: #7f7f7f\">415</span></a>\n",
       "</pre>\n"
      ],
      "text/plain": [
       "\u001b[2;36m          \u001b[0m\u001b[2;36m \u001b[0mMETRIC   Round \u001b[1;36m1\u001b[0m, collaborator two is sending metric for task aggregated_model_validation: accuracy      \u001b[1;36m0.908444\u001b[0m                 \u001b]8;id=736364;file://C:\\Users\\BHSU\\AppData\\Local\\Programs\\Python\\Python39\\lib\\site-packages\\openfl\\component\\collaborator\\collaborator.py\u001b\\\u001b[2mcollaborator.py\u001b[0m\u001b]8;;\u001b\\\u001b[2m:\u001b[0m\u001b]8;id=978066;file://C:\\Users\\BHSU\\AppData\\Local\\Programs\\Python\\Python39\\lib\\site-packages\\openfl\\component\\collaborator\\collaborator.py#415\u001b\\\u001b[2m415\u001b[0m\u001b]8;;\u001b\\\n"
      ]
     },
     "metadata": {},
     "output_type": "display_data"
    },
    {
     "data": {
      "text/html": [
       "<pre style=\"white-space:pre;overflow-x:auto;line-height:normal;font-family:Menlo,'DejaVu Sans Mono',consolas,'Courier New',monospace\"><span style=\"color: #7fbfbf; text-decoration-color: #7fbfbf\">           </span><span style=\"color: #000080; text-decoration-color: #000080\">INFO    </span> Collaborator two is sending task results for aggregated_model_validation, round <span style=\"color: #008080; text-decoration-color: #008080; font-weight: bold\">1</span>                                          <a href=\"file://C:\\Users\\BHSU\\AppData\\Local\\Programs\\Python\\Python39\\lib\\site-packages\\openfl\\component\\aggregator\\aggregator.py\" target=\"_blank\"><span style=\"color: #7f7f7f; text-decoration-color: #7f7f7f\">aggregator.py</span></a><span style=\"color: #7f7f7f; text-decoration-color: #7f7f7f\">:</span><a href=\"file://C:\\Users\\BHSU\\AppData\\Local\\Programs\\Python\\Python39\\lib\\site-packages\\openfl\\component\\aggregator\\aggregator.py#520\" target=\"_blank\"><span style=\"color: #7f7f7f; text-decoration-color: #7f7f7f\">520</span></a>\n",
       "</pre>\n"
      ],
      "text/plain": [
       "\u001b[2;36m          \u001b[0m\u001b[2;36m \u001b[0m\u001b[34mINFO    \u001b[0m Collaborator two is sending task results for aggregated_model_validation, round \u001b[1;36m1\u001b[0m                                          \u001b]8;id=680506;file://C:\\Users\\BHSU\\AppData\\Local\\Programs\\Python\\Python39\\lib\\site-packages\\openfl\\component\\aggregator\\aggregator.py\u001b\\\u001b[2maggregator.py\u001b[0m\u001b]8;;\u001b\\\u001b[2m:\u001b[0m\u001b]8;id=695659;file://C:\\Users\\BHSU\\AppData\\Local\\Programs\\Python\\Python39\\lib\\site-packages\\openfl\\component\\aggregator\\aggregator.py#520\u001b\\\u001b[2m520\u001b[0m\u001b]8;;\u001b\\\n"
      ]
     },
     "metadata": {},
     "output_type": "display_data"
    },
    {
     "data": {
      "text/html": [
       "<pre style=\"white-space:pre;overflow-x:auto;line-height:normal;font-family:Menlo,'DejaVu Sans Mono',consolas,'Courier New',monospace\"><span style=\"color: #7fbfbf; text-decoration-color: #7fbfbf\">           </span>METRIC   Round <span style=\"color: #008080; text-decoration-color: #008080; font-weight: bold\">1</span>, collaborator validate_agg aggregated_model_validation result accuracy: <span style=\"color: #008080; text-decoration-color: #008080; font-weight: bold\">0.908444</span>                                   <a href=\"file://C:\\Users\\BHSU\\AppData\\Local\\Programs\\Python\\Python39\\lib\\site-packages\\openfl\\component\\aggregator\\aggregator.py\" target=\"_blank\"><span style=\"color: #7f7f7f; text-decoration-color: #7f7f7f\">aggregator.py</span></a><span style=\"color: #7f7f7f; text-decoration-color: #7f7f7f\">:</span><a href=\"file://C:\\Users\\BHSU\\AppData\\Local\\Programs\\Python\\Python39\\lib\\site-packages\\openfl\\component\\aggregator\\aggregator.py#559\" target=\"_blank\"><span style=\"color: #7f7f7f; text-decoration-color: #7f7f7f\">559</span></a>\n",
       "</pre>\n"
      ],
      "text/plain": [
       "\u001b[2;36m          \u001b[0m\u001b[2;36m \u001b[0mMETRIC   Round \u001b[1;36m1\u001b[0m, collaborator validate_agg aggregated_model_validation result accuracy: \u001b[1;36m0.908444\u001b[0m                                   \u001b]8;id=59368;file://C:\\Users\\BHSU\\AppData\\Local\\Programs\\Python\\Python39\\lib\\site-packages\\openfl\\component\\aggregator\\aggregator.py\u001b\\\u001b[2maggregator.py\u001b[0m\u001b]8;;\u001b\\\u001b[2m:\u001b[0m\u001b]8;id=707872;file://C:\\Users\\BHSU\\AppData\\Local\\Programs\\Python\\Python39\\lib\\site-packages\\openfl\\component\\aggregator\\aggregator.py#559\u001b\\\u001b[2m559\u001b[0m\u001b]8;;\u001b\\\n"
      ]
     },
     "metadata": {},
     "output_type": "display_data"
    },
    {
     "data": {
      "text/html": [
       "<pre style=\"white-space:pre;overflow-x:auto;line-height:normal;font-family:Menlo,'DejaVu Sans Mono',consolas,'Courier New',monospace\"><span style=\"color: #7fbfbf; text-decoration-color: #7fbfbf\">           </span><span style=\"color: #000080; text-decoration-color: #000080\">INFO    </span> Using TaskRunner subclassing API                                                                                         <a href=\"file://C:\\Users\\BHSU\\AppData\\Local\\Programs\\Python\\Python39\\lib\\site-packages\\openfl\\component\\collaborator\\collaborator.py\" target=\"_blank\"><span style=\"color: #7f7f7f; text-decoration-color: #7f7f7f\">collaborator.py</span></a><span style=\"color: #7f7f7f; text-decoration-color: #7f7f7f\">:</span><a href=\"file://C:\\Users\\BHSU\\AppData\\Local\\Programs\\Python\\Python39\\lib\\site-packages\\openfl\\component\\collaborator\\collaborator.py#253\" target=\"_blank\"><span style=\"color: #7f7f7f; text-decoration-color: #7f7f7f\">253</span></a>\n",
       "</pre>\n"
      ],
      "text/plain": [
       "\u001b[2;36m          \u001b[0m\u001b[2;36m \u001b[0m\u001b[34mINFO    \u001b[0m Using TaskRunner subclassing API                                                                                         \u001b]8;id=274363;file://C:\\Users\\BHSU\\AppData\\Local\\Programs\\Python\\Python39\\lib\\site-packages\\openfl\\component\\collaborator\\collaborator.py\u001b\\\u001b[2mcollaborator.py\u001b[0m\u001b]8;;\u001b\\\u001b[2m:\u001b[0m\u001b]8;id=395415;file://C:\\Users\\BHSU\\AppData\\Local\\Programs\\Python\\Python39\\lib\\site-packages\\openfl\\component\\collaborator\\collaborator.py#253\u001b\\\u001b[2m253\u001b[0m\u001b]8;;\u001b\\\n"
      ]
     },
     "metadata": {},
     "output_type": "display_data"
    },
    {
     "data": {
      "text/html": [
       "<pre style=\"white-space:pre;overflow-x:auto;line-height:normal;font-family:Menlo,'DejaVu Sans Mono',consolas,'Courier New',monospace\"><span style=\"color: #7fbfbf; text-decoration-color: #7fbfbf\">           </span><span style=\"color: #000080; text-decoration-color: #000080\">INFO    </span> Run <span style=\"color: #008080; text-decoration-color: #008080; font-weight: bold\">0</span> epoch of <span style=\"color: #008080; text-decoration-color: #008080; font-weight: bold\">1</span> round                                                                                                    <a href=\"file://C:\\Users\\BHSU\\AppData\\Local\\Programs\\Python\\Python39\\lib\\site-packages\\openfl\\federated\\task\\runner_keras.py\" target=\"_blank\"><span style=\"color: #7f7f7f; text-decoration-color: #7f7f7f\">runner_keras.py</span></a><span style=\"color: #7f7f7f; text-decoration-color: #7f7f7f\">:</span><a href=\"file://C:\\Users\\BHSU\\AppData\\Local\\Programs\\Python\\Python39\\lib\\site-packages\\openfl\\federated\\task\\runner_keras.py#83\" target=\"_blank\"><span style=\"color: #7f7f7f; text-decoration-color: #7f7f7f\">83</span></a>\n",
       "</pre>\n"
      ],
      "text/plain": [
       "\u001b[2;36m          \u001b[0m\u001b[2;36m \u001b[0m\u001b[34mINFO    \u001b[0m Run \u001b[1;36m0\u001b[0m epoch of \u001b[1;36m1\u001b[0m round                                                                                                    \u001b]8;id=40215;file://C:\\Users\\BHSU\\AppData\\Local\\Programs\\Python\\Python39\\lib\\site-packages\\openfl\\federated\\task\\runner_keras.py\u001b\\\u001b[2mrunner_keras.py\u001b[0m\u001b]8;;\u001b\\\u001b[2m:\u001b[0m\u001b]8;id=173181;file://C:\\Users\\BHSU\\AppData\\Local\\Programs\\Python\\Python39\\lib\\site-packages\\openfl\\federated\\task\\runner_keras.py#83\u001b\\\u001b[2m83\u001b[0m\u001b]8;;\u001b\\\n"
      ]
     },
     "metadata": {},
     "output_type": "display_data"
    },
    {
     "name": "stdout",
     "output_type": "stream",
     "text": [
      "657/657 [==============================] - 0s 642us/step - loss: 0.2809 - accuracy: 0.9161\n"
     ]
    },
    {
     "data": {
      "text/html": [
       "<pre style=\"white-space:pre;overflow-x:auto;line-height:normal;font-family:Menlo,'DejaVu Sans Mono',consolas,'Courier New',monospace\"><span style=\"color: #7fbfbf; text-decoration-color: #7fbfbf\">           </span>METRIC   Round <span style=\"color: #008080; text-decoration-color: #008080; font-weight: bold\">1</span>, collaborator two is sending metric for task train: loss        <span style=\"color: #008080; text-decoration-color: #008080; font-weight: bold\">0.280891</span>                                         <a href=\"file://C:\\Users\\BHSU\\AppData\\Local\\Programs\\Python\\Python39\\lib\\site-packages\\openfl\\component\\collaborator\\collaborator.py\" target=\"_blank\"><span style=\"color: #7f7f7f; text-decoration-color: #7f7f7f\">collaborator.py</span></a><span style=\"color: #7f7f7f; text-decoration-color: #7f7f7f\">:</span><a href=\"file://C:\\Users\\BHSU\\AppData\\Local\\Programs\\Python\\Python39\\lib\\site-packages\\openfl\\component\\collaborator\\collaborator.py#415\" target=\"_blank\"><span style=\"color: #7f7f7f; text-decoration-color: #7f7f7f\">415</span></a>\n",
       "</pre>\n"
      ],
      "text/plain": [
       "\u001b[2;36m          \u001b[0m\u001b[2;36m \u001b[0mMETRIC   Round \u001b[1;36m1\u001b[0m, collaborator two is sending metric for task train: loss        \u001b[1;36m0.280891\u001b[0m                                         \u001b]8;id=179321;file://C:\\Users\\BHSU\\AppData\\Local\\Programs\\Python\\Python39\\lib\\site-packages\\openfl\\component\\collaborator\\collaborator.py\u001b\\\u001b[2mcollaborator.py\u001b[0m\u001b]8;;\u001b\\\u001b[2m:\u001b[0m\u001b]8;id=910983;file://C:\\Users\\BHSU\\AppData\\Local\\Programs\\Python\\Python39\\lib\\site-packages\\openfl\\component\\collaborator\\collaborator.py#415\u001b\\\u001b[2m415\u001b[0m\u001b]8;;\u001b\\\n"
      ]
     },
     "metadata": {},
     "output_type": "display_data"
    },
    {
     "data": {
      "text/html": [
       "<pre style=\"white-space:pre;overflow-x:auto;line-height:normal;font-family:Menlo,'DejaVu Sans Mono',consolas,'Courier New',monospace\"><span style=\"color: #7fbfbf; text-decoration-color: #7fbfbf\">           </span><span style=\"color: #000080; text-decoration-color: #000080\">INFO    </span> Collaborator two is sending task results for train, round <span style=\"color: #008080; text-decoration-color: #008080; font-weight: bold\">1</span>                                                                <a href=\"file://C:\\Users\\BHSU\\AppData\\Local\\Programs\\Python\\Python39\\lib\\site-packages\\openfl\\component\\aggregator\\aggregator.py\" target=\"_blank\"><span style=\"color: #7f7f7f; text-decoration-color: #7f7f7f\">aggregator.py</span></a><span style=\"color: #7f7f7f; text-decoration-color: #7f7f7f\">:</span><a href=\"file://C:\\Users\\BHSU\\AppData\\Local\\Programs\\Python\\Python39\\lib\\site-packages\\openfl\\component\\aggregator\\aggregator.py#520\" target=\"_blank\"><span style=\"color: #7f7f7f; text-decoration-color: #7f7f7f\">520</span></a>\n",
       "</pre>\n"
      ],
      "text/plain": [
       "\u001b[2;36m          \u001b[0m\u001b[2;36m \u001b[0m\u001b[34mINFO    \u001b[0m Collaborator two is sending task results for train, round \u001b[1;36m1\u001b[0m                                                                \u001b]8;id=985225;file://C:\\Users\\BHSU\\AppData\\Local\\Programs\\Python\\Python39\\lib\\site-packages\\openfl\\component\\aggregator\\aggregator.py\u001b\\\u001b[2maggregator.py\u001b[0m\u001b]8;;\u001b\\\u001b[2m:\u001b[0m\u001b]8;id=983640;file://C:\\Users\\BHSU\\AppData\\Local\\Programs\\Python\\Python39\\lib\\site-packages\\openfl\\component\\aggregator\\aggregator.py#520\u001b\\\u001b[2m520\u001b[0m\u001b]8;;\u001b\\\n"
      ]
     },
     "metadata": {},
     "output_type": "display_data"
    },
    {
     "data": {
      "text/html": [
       "<pre style=\"white-space:pre;overflow-x:auto;line-height:normal;font-family:Menlo,'DejaVu Sans Mono',consolas,'Courier New',monospace\"><span style=\"color: #7fbfbf; text-decoration-color: #7fbfbf\">           </span>METRIC   Round <span style=\"color: #008080; text-decoration-color: #008080; font-weight: bold\">1</span>, collaborator two train result loss:    <span style=\"color: #008080; text-decoration-color: #008080; font-weight: bold\">0.280891</span>                                                                   <a href=\"file://C:\\Users\\BHSU\\AppData\\Local\\Programs\\Python\\Python39\\lib\\site-packages\\openfl\\component\\aggregator\\aggregator.py\" target=\"_blank\"><span style=\"color: #7f7f7f; text-decoration-color: #7f7f7f\">aggregator.py</span></a><span style=\"color: #7f7f7f; text-decoration-color: #7f7f7f\">:</span><a href=\"file://C:\\Users\\BHSU\\AppData\\Local\\Programs\\Python\\Python39\\lib\\site-packages\\openfl\\component\\aggregator\\aggregator.py#559\" target=\"_blank\"><span style=\"color: #7f7f7f; text-decoration-color: #7f7f7f\">559</span></a>\n",
       "</pre>\n"
      ],
      "text/plain": [
       "\u001b[2;36m          \u001b[0m\u001b[2;36m \u001b[0mMETRIC   Round \u001b[1;36m1\u001b[0m, collaborator two train result loss:    \u001b[1;36m0.280891\u001b[0m                                                                   \u001b]8;id=656794;file://C:\\Users\\BHSU\\AppData\\Local\\Programs\\Python\\Python39\\lib\\site-packages\\openfl\\component\\aggregator\\aggregator.py\u001b\\\u001b[2maggregator.py\u001b[0m\u001b]8;;\u001b\\\u001b[2m:\u001b[0m\u001b]8;id=418902;file://C:\\Users\\BHSU\\AppData\\Local\\Programs\\Python\\Python39\\lib\\site-packages\\openfl\\component\\aggregator\\aggregator.py#559\u001b\\\u001b[2m559\u001b[0m\u001b]8;;\u001b\\\n"
      ]
     },
     "metadata": {},
     "output_type": "display_data"
    },
    {
     "data": {
      "text/html": [
       "<pre style=\"white-space:pre;overflow-x:auto;line-height:normal;font-family:Menlo,'DejaVu Sans Mono',consolas,'Courier New',monospace\"><span style=\"color: #7fbfbf; text-decoration-color: #7fbfbf\">           </span><span style=\"color: #000080; text-decoration-color: #000080\">INFO    </span> Using TaskRunner subclassing API                                                                                         <a href=\"file://C:\\Users\\BHSU\\AppData\\Local\\Programs\\Python\\Python39\\lib\\site-packages\\openfl\\component\\collaborator\\collaborator.py\" target=\"_blank\"><span style=\"color: #7f7f7f; text-decoration-color: #7f7f7f\">collaborator.py</span></a><span style=\"color: #7f7f7f; text-decoration-color: #7f7f7f\">:</span><a href=\"file://C:\\Users\\BHSU\\AppData\\Local\\Programs\\Python\\Python39\\lib\\site-packages\\openfl\\component\\collaborator\\collaborator.py#253\" target=\"_blank\"><span style=\"color: #7f7f7f; text-decoration-color: #7f7f7f\">253</span></a>\n",
       "</pre>\n"
      ],
      "text/plain": [
       "\u001b[2;36m          \u001b[0m\u001b[2;36m \u001b[0m\u001b[34mINFO    \u001b[0m Using TaskRunner subclassing API                                                                                         \u001b]8;id=72659;file://C:\\Users\\BHSU\\AppData\\Local\\Programs\\Python\\Python39\\lib\\site-packages\\openfl\\component\\collaborator\\collaborator.py\u001b\\\u001b[2mcollaborator.py\u001b[0m\u001b]8;;\u001b\\\u001b[2m:\u001b[0m\u001b]8;id=450906;file://C:\\Users\\BHSU\\AppData\\Local\\Programs\\Python\\Python39\\lib\\site-packages\\openfl\\component\\collaborator\\collaborator.py#253\u001b\\\u001b[2m253\u001b[0m\u001b]8;;\u001b\\\n"
      ]
     },
     "metadata": {},
     "output_type": "display_data"
    },
    {
     "name": "stdout",
     "output_type": "stream",
     "text": [
      "282/282 [==============================] - 0s 569us/step - loss: 0.2566 - accuracy: 0.9239\n"
     ]
    },
    {
     "data": {
      "text/html": [
       "<pre style=\"white-space:pre;overflow-x:auto;line-height:normal;font-family:Menlo,'DejaVu Sans Mono',consolas,'Courier New',monospace\"><span style=\"color: #7fbfbf; text-decoration-color: #7fbfbf\">[10:46:28] </span>METRIC   Round <span style=\"color: #008080; text-decoration-color: #008080; font-weight: bold\">1</span>, collaborator two is sending metric for task locally_tuned_model_validation: accuracy   <span style=\"color: #008080; text-decoration-color: #008080; font-weight: bold\">0.923889</span>                 <a href=\"file://C:\\Users\\BHSU\\AppData\\Local\\Programs\\Python\\Python39\\lib\\site-packages\\openfl\\component\\collaborator\\collaborator.py\" target=\"_blank\"><span style=\"color: #7f7f7f; text-decoration-color: #7f7f7f\">collaborator.py</span></a><span style=\"color: #7f7f7f; text-decoration-color: #7f7f7f\">:</span><a href=\"file://C:\\Users\\BHSU\\AppData\\Local\\Programs\\Python\\Python39\\lib\\site-packages\\openfl\\component\\collaborator\\collaborator.py#415\" target=\"_blank\"><span style=\"color: #7f7f7f; text-decoration-color: #7f7f7f\">415</span></a>\n",
       "</pre>\n"
      ],
      "text/plain": [
       "\u001b[2;36m[10:46:28]\u001b[0m\u001b[2;36m \u001b[0mMETRIC   Round \u001b[1;36m1\u001b[0m, collaborator two is sending metric for task locally_tuned_model_validation: accuracy   \u001b[1;36m0.923889\u001b[0m                 \u001b]8;id=708272;file://C:\\Users\\BHSU\\AppData\\Local\\Programs\\Python\\Python39\\lib\\site-packages\\openfl\\component\\collaborator\\collaborator.py\u001b\\\u001b[2mcollaborator.py\u001b[0m\u001b]8;;\u001b\\\u001b[2m:\u001b[0m\u001b]8;id=757276;file://C:\\Users\\BHSU\\AppData\\Local\\Programs\\Python\\Python39\\lib\\site-packages\\openfl\\component\\collaborator\\collaborator.py#415\u001b\\\u001b[2m415\u001b[0m\u001b]8;;\u001b\\\n"
      ]
     },
     "metadata": {},
     "output_type": "display_data"
    },
    {
     "data": {
      "text/html": [
       "<pre style=\"white-space:pre;overflow-x:auto;line-height:normal;font-family:Menlo,'DejaVu Sans Mono',consolas,'Courier New',monospace\"><span style=\"color: #7fbfbf; text-decoration-color: #7fbfbf\">           </span><span style=\"color: #000080; text-decoration-color: #000080\">INFO    </span> Collaborator two is sending task results for locally_tuned_model_validation, round <span style=\"color: #008080; text-decoration-color: #008080; font-weight: bold\">1</span>                                       <a href=\"file://C:\\Users\\BHSU\\AppData\\Local\\Programs\\Python\\Python39\\lib\\site-packages\\openfl\\component\\aggregator\\aggregator.py\" target=\"_blank\"><span style=\"color: #7f7f7f; text-decoration-color: #7f7f7f\">aggregator.py</span></a><span style=\"color: #7f7f7f; text-decoration-color: #7f7f7f\">:</span><a href=\"file://C:\\Users\\BHSU\\AppData\\Local\\Programs\\Python\\Python39\\lib\\site-packages\\openfl\\component\\aggregator\\aggregator.py#520\" target=\"_blank\"><span style=\"color: #7f7f7f; text-decoration-color: #7f7f7f\">520</span></a>\n",
       "</pre>\n"
      ],
      "text/plain": [
       "\u001b[2;36m          \u001b[0m\u001b[2;36m \u001b[0m\u001b[34mINFO    \u001b[0m Collaborator two is sending task results for locally_tuned_model_validation, round \u001b[1;36m1\u001b[0m                                       \u001b]8;id=571532;file://C:\\Users\\BHSU\\AppData\\Local\\Programs\\Python\\Python39\\lib\\site-packages\\openfl\\component\\aggregator\\aggregator.py\u001b\\\u001b[2maggregator.py\u001b[0m\u001b]8;;\u001b\\\u001b[2m:\u001b[0m\u001b]8;id=16598;file://C:\\Users\\BHSU\\AppData\\Local\\Programs\\Python\\Python39\\lib\\site-packages\\openfl\\component\\aggregator\\aggregator.py#520\u001b\\\u001b[2m520\u001b[0m\u001b]8;;\u001b\\\n"
      ]
     },
     "metadata": {},
     "output_type": "display_data"
    },
    {
     "data": {
      "text/html": [
       "<pre style=\"white-space:pre;overflow-x:auto;line-height:normal;font-family:Menlo,'DejaVu Sans Mono',consolas,'Courier New',monospace\"><span style=\"color: #7fbfbf; text-decoration-color: #7fbfbf\">           </span>METRIC   Round <span style=\"color: #008080; text-decoration-color: #008080; font-weight: bold\">1</span>, collaborator validate_local locally_tuned_model_validation result accuracy:    <span style=\"color: #008080; text-decoration-color: #008080; font-weight: bold\">0.923889</span>                           <a href=\"file://C:\\Users\\BHSU\\AppData\\Local\\Programs\\Python\\Python39\\lib\\site-packages\\openfl\\component\\aggregator\\aggregator.py\" target=\"_blank\"><span style=\"color: #7f7f7f; text-decoration-color: #7f7f7f\">aggregator.py</span></a><span style=\"color: #7f7f7f; text-decoration-color: #7f7f7f\">:</span><a href=\"file://C:\\Users\\BHSU\\AppData\\Local\\Programs\\Python\\Python39\\lib\\site-packages\\openfl\\component\\aggregator\\aggregator.py#559\" target=\"_blank\"><span style=\"color: #7f7f7f; text-decoration-color: #7f7f7f\">559</span></a>\n",
       "</pre>\n"
      ],
      "text/plain": [
       "\u001b[2;36m          \u001b[0m\u001b[2;36m \u001b[0mMETRIC   Round \u001b[1;36m1\u001b[0m, collaborator validate_local locally_tuned_model_validation result accuracy:    \u001b[1;36m0.923889\u001b[0m                           \u001b]8;id=974030;file://C:\\Users\\BHSU\\AppData\\Local\\Programs\\Python\\Python39\\lib\\site-packages\\openfl\\component\\aggregator\\aggregator.py\u001b\\\u001b[2maggregator.py\u001b[0m\u001b]8;;\u001b\\\u001b[2m:\u001b[0m\u001b]8;id=985862;file://C:\\Users\\BHSU\\AppData\\Local\\Programs\\Python\\Python39\\lib\\site-packages\\openfl\\component\\aggregator\\aggregator.py#559\u001b\\\u001b[2m559\u001b[0m\u001b]8;;\u001b\\\n"
      ]
     },
     "metadata": {},
     "output_type": "display_data"
    },
    {
     "data": {
      "text/html": [
       "<pre style=\"white-space:pre;overflow-x:auto;line-height:normal;font-family:Menlo,'DejaVu Sans Mono',consolas,'Courier New',monospace\"><span style=\"color: #7fbfbf; text-decoration-color: #7fbfbf\">           </span>METRIC   Round <span style=\"color: #008080; text-decoration-color: #008080; font-weight: bold\">1</span>, aggregator: train <span style=\"font-weight: bold\">&lt;</span><span style=\"color: #ff00ff; text-decoration-color: #ff00ff; font-weight: bold\">openfl.interface.aggregation_functions.weighted_average.WeightedAverage</span><span style=\"color: #000000; text-decoration-color: #000000\"> object at </span>             <a href=\"file://C:\\Users\\BHSU\\AppData\\Local\\Programs\\Python\\Python39\\lib\\site-packages\\openfl\\component\\aggregator\\aggregator.py\" target=\"_blank\"><span style=\"color: #7f7f7f; text-decoration-color: #7f7f7f\">aggregator.py</span></a><span style=\"color: #7f7f7f; text-decoration-color: #7f7f7f\">:</span><a href=\"file://C:\\Users\\BHSU\\AppData\\Local\\Programs\\Python\\Python39\\lib\\site-packages\\openfl\\component\\aggregator\\aggregator.py#842\" target=\"_blank\"><span style=\"color: #7f7f7f; text-decoration-color: #7f7f7f\">842</span></a>\n",
       "<span style=\"color: #7fbfbf; text-decoration-color: #7fbfbf\">           </span>         <span style=\"color: #008080; text-decoration-color: #008080; font-weight: bold\">0x000002302EDD6A60</span><span style=\"font-weight: bold\">&gt;</span> loss: <span style=\"color: #008080; text-decoration-color: #008080; font-weight: bold\">0.284609</span>                                                                                         <span style=\"color: #7f7f7f; text-decoration-color: #7f7f7f\">                 </span>\n",
       "</pre>\n"
      ],
      "text/plain": [
       "\u001b[2;36m          \u001b[0m\u001b[2;36m \u001b[0mMETRIC   Round \u001b[1;36m1\u001b[0m, aggregator: train \u001b[1m<\u001b[0m\u001b[1;95mopenfl.interface.aggregation_functions.weighted_average.WeightedAverage\u001b[0m\u001b[39m object at \u001b[0m             \u001b]8;id=406186;file://C:\\Users\\BHSU\\AppData\\Local\\Programs\\Python\\Python39\\lib\\site-packages\\openfl\\component\\aggregator\\aggregator.py\u001b\\\u001b[2maggregator.py\u001b[0m\u001b]8;;\u001b\\\u001b[2m:\u001b[0m\u001b]8;id=584335;file://C:\\Users\\BHSU\\AppData\\Local\\Programs\\Python\\Python39\\lib\\site-packages\\openfl\\component\\aggregator\\aggregator.py#842\u001b\\\u001b[2m842\u001b[0m\u001b]8;;\u001b\\\n",
       "\u001b[2;36m           \u001b[0m         \u001b[1;36m0x000002302EDD6A60\u001b[0m\u001b[1m>\u001b[0m loss: \u001b[1;36m0.284609\u001b[0m                                                                                         \u001b[2m                 \u001b[0m\n"
      ]
     },
     "metadata": {},
     "output_type": "display_data"
    },
    {
     "data": {
      "text/html": [
       "<pre style=\"white-space:pre;overflow-x:auto;line-height:normal;font-family:Menlo,'DejaVu Sans Mono',consolas,'Courier New',monospace\"><span style=\"color: #7fbfbf; text-decoration-color: #7fbfbf\">           </span>METRIC   Round <span style=\"color: #008080; text-decoration-color: #008080; font-weight: bold\">1</span>, aggregator: aggregated_model_validation <span style=\"font-weight: bold\">&lt;</span><span style=\"color: #ff00ff; text-decoration-color: #ff00ff; font-weight: bold\">openfl.interface.aggregation_functions.weighted_average.WeightedAverage</span><span style=\"color: #000000; text-decoration-color: #000000\"> </span> <a href=\"file://C:\\Users\\BHSU\\AppData\\Local\\Programs\\Python\\Python39\\lib\\site-packages\\openfl\\component\\aggregator\\aggregator.py\" target=\"_blank\"><span style=\"color: #7f7f7f; text-decoration-color: #7f7f7f\">aggregator.py</span></a><span style=\"color: #7f7f7f; text-decoration-color: #7f7f7f\">:</span><a href=\"file://C:\\Users\\BHSU\\AppData\\Local\\Programs\\Python\\Python39\\lib\\site-packages\\openfl\\component\\aggregator\\aggregator.py#842\" target=\"_blank\"><span style=\"color: #7f7f7f; text-decoration-color: #7f7f7f\">842</span></a>\n",
       "<span style=\"color: #7fbfbf; text-decoration-color: #7fbfbf\">           </span>         <span style=\"color: #000000; text-decoration-color: #000000\">object at </span><span style=\"color: #008080; text-decoration-color: #008080; font-weight: bold\">0x000002302EDD6A60</span><span style=\"font-weight: bold\">&gt;</span> accuracy:       <span style=\"color: #008080; text-decoration-color: #008080; font-weight: bold\">0.909722</span>                                                                     <span style=\"color: #7f7f7f; text-decoration-color: #7f7f7f\">                 </span>\n",
       "</pre>\n"
      ],
      "text/plain": [
       "\u001b[2;36m          \u001b[0m\u001b[2;36m \u001b[0mMETRIC   Round \u001b[1;36m1\u001b[0m, aggregator: aggregated_model_validation \u001b[1m<\u001b[0m\u001b[1;95mopenfl.interface.aggregation_functions.weighted_average.WeightedAverage\u001b[0m\u001b[39m \u001b[0m \u001b]8;id=481155;file://C:\\Users\\BHSU\\AppData\\Local\\Programs\\Python\\Python39\\lib\\site-packages\\openfl\\component\\aggregator\\aggregator.py\u001b\\\u001b[2maggregator.py\u001b[0m\u001b]8;;\u001b\\\u001b[2m:\u001b[0m\u001b]8;id=643459;file://C:\\Users\\BHSU\\AppData\\Local\\Programs\\Python\\Python39\\lib\\site-packages\\openfl\\component\\aggregator\\aggregator.py#842\u001b\\\u001b[2m842\u001b[0m\u001b]8;;\u001b\\\n",
       "\u001b[2;36m           \u001b[0m         \u001b[39mobject at \u001b[0m\u001b[1;36m0x000002302EDD6A60\u001b[0m\u001b[1m>\u001b[0m accuracy:       \u001b[1;36m0.909722\u001b[0m                                                                     \u001b[2m                 \u001b[0m\n"
      ]
     },
     "metadata": {},
     "output_type": "display_data"
    },
    {
     "data": {
      "text/html": [
       "<pre style=\"white-space:pre;overflow-x:auto;line-height:normal;font-family:Menlo,'DejaVu Sans Mono',consolas,'Courier New',monospace\"><span style=\"color: #7fbfbf; text-decoration-color: #7fbfbf\">           </span>METRIC   Round <span style=\"color: #008080; text-decoration-color: #008080; font-weight: bold\">1</span>: saved the best model with score <span style=\"color: #008080; text-decoration-color: #008080; font-weight: bold\">0.909722</span>                                                                          <a href=\"file://C:\\Users\\BHSU\\AppData\\Local\\Programs\\Python\\Python39\\lib\\site-packages\\openfl\\component\\aggregator\\aggregator.py\" target=\"_blank\"><span style=\"color: #7f7f7f; text-decoration-color: #7f7f7f\">aggregator.py</span></a><span style=\"color: #7f7f7f; text-decoration-color: #7f7f7f\">:</span><a href=\"file://C:\\Users\\BHSU\\AppData\\Local\\Programs\\Python\\Python39\\lib\\site-packages\\openfl\\component\\aggregator\\aggregator.py#858\" target=\"_blank\"><span style=\"color: #7f7f7f; text-decoration-color: #7f7f7f\">858</span></a>\n",
       "</pre>\n"
      ],
      "text/plain": [
       "\u001b[2;36m          \u001b[0m\u001b[2;36m \u001b[0mMETRIC   Round \u001b[1;36m1\u001b[0m: saved the best model with score \u001b[1;36m0.909722\u001b[0m                                                                          \u001b]8;id=255167;file://C:\\Users\\BHSU\\AppData\\Local\\Programs\\Python\\Python39\\lib\\site-packages\\openfl\\component\\aggregator\\aggregator.py\u001b\\\u001b[2maggregator.py\u001b[0m\u001b]8;;\u001b\\\u001b[2m:\u001b[0m\u001b]8;id=113344;file://C:\\Users\\BHSU\\AppData\\Local\\Programs\\Python\\Python39\\lib\\site-packages\\openfl\\component\\aggregator\\aggregator.py#858\u001b\\\u001b[2m858\u001b[0m\u001b]8;;\u001b\\\n"
      ]
     },
     "metadata": {},
     "output_type": "display_data"
    },
    {
     "data": {
      "text/html": [
       "<pre style=\"white-space:pre;overflow-x:auto;line-height:normal;font-family:Menlo,'DejaVu Sans Mono',consolas,'Courier New',monospace\"><span style=\"color: #7fbfbf; text-decoration-color: #7fbfbf\">           </span>METRIC   Round <span style=\"color: #008080; text-decoration-color: #008080; font-weight: bold\">1</span>, aggregator: locally_tuned_model_validation                                                                        <a href=\"file://C:\\Users\\BHSU\\AppData\\Local\\Programs\\Python\\Python39\\lib\\site-packages\\openfl\\component\\aggregator\\aggregator.py\" target=\"_blank\"><span style=\"color: #7f7f7f; text-decoration-color: #7f7f7f\">aggregator.py</span></a><span style=\"color: #7f7f7f; text-decoration-color: #7f7f7f\">:</span><a href=\"file://C:\\Users\\BHSU\\AppData\\Local\\Programs\\Python\\Python39\\lib\\site-packages\\openfl\\component\\aggregator\\aggregator.py#842\" target=\"_blank\"><span style=\"color: #7f7f7f; text-decoration-color: #7f7f7f\">842</span></a>\n",
       "<span style=\"color: #7fbfbf; text-decoration-color: #7fbfbf\">           </span>         <span style=\"font-weight: bold\">&lt;</span><span style=\"color: #ff00ff; text-decoration-color: #ff00ff; font-weight: bold\">openfl.interface.aggregation_functions.weighted_average.WeightedAverage</span><span style=\"color: #000000; text-decoration-color: #000000\"> object at </span><span style=\"color: #008080; text-decoration-color: #008080; font-weight: bold\">0x000002302EDD6A60</span><span style=\"font-weight: bold\">&gt;</span> accuracy:           <span style=\"color: #7f7f7f; text-decoration-color: #7f7f7f\">                 </span>\n",
       "<span style=\"color: #7fbfbf; text-decoration-color: #7fbfbf\">           </span>         <span style=\"color: #008080; text-decoration-color: #008080; font-weight: bold\">0.920000</span>                                                                                                                   <span style=\"color: #7f7f7f; text-decoration-color: #7f7f7f\">                 </span>\n",
       "</pre>\n"
      ],
      "text/plain": [
       "\u001b[2;36m          \u001b[0m\u001b[2;36m \u001b[0mMETRIC   Round \u001b[1;36m1\u001b[0m, aggregator: locally_tuned_model_validation                                                                        \u001b]8;id=321741;file://C:\\Users\\BHSU\\AppData\\Local\\Programs\\Python\\Python39\\lib\\site-packages\\openfl\\component\\aggregator\\aggregator.py\u001b\\\u001b[2maggregator.py\u001b[0m\u001b]8;;\u001b\\\u001b[2m:\u001b[0m\u001b]8;id=924823;file://C:\\Users\\BHSU\\AppData\\Local\\Programs\\Python\\Python39\\lib\\site-packages\\openfl\\component\\aggregator\\aggregator.py#842\u001b\\\u001b[2m842\u001b[0m\u001b]8;;\u001b\\\n",
       "\u001b[2;36m           \u001b[0m         \u001b[1m<\u001b[0m\u001b[1;95mopenfl.interface.aggregation_functions.weighted_average.WeightedAverage\u001b[0m\u001b[39m object at \u001b[0m\u001b[1;36m0x000002302EDD6A60\u001b[0m\u001b[1m>\u001b[0m accuracy:           \u001b[2m                 \u001b[0m\n",
       "\u001b[2;36m           \u001b[0m         \u001b[1;36m0.920000\u001b[0m                                                                                                                   \u001b[2m                 \u001b[0m\n"
      ]
     },
     "metadata": {},
     "output_type": "display_data"
    },
    {
     "data": {
      "text/html": [
       "<pre style=\"white-space:pre;overflow-x:auto;line-height:normal;font-family:Menlo,'DejaVu Sans Mono',consolas,'Courier New',monospace\"><span style=\"color: #7fbfbf; text-decoration-color: #7fbfbf\">           </span><span style=\"color: #000080; text-decoration-color: #000080\">INFO    </span> Saving round <span style=\"color: #008080; text-decoration-color: #008080; font-weight: bold\">2</span> model<span style=\"color: #808000; text-decoration-color: #808000\">...</span>                                                                                                    <a href=\"file://C:\\Users\\BHSU\\AppData\\Local\\Programs\\Python\\Python39\\lib\\site-packages\\openfl\\component\\aggregator\\aggregator.py\" target=\"_blank\"><span style=\"color: #7f7f7f; text-decoration-color: #7f7f7f\">aggregator.py</span></a><span style=\"color: #7f7f7f; text-decoration-color: #7f7f7f\">:</span><a href=\"file://C:\\Users\\BHSU\\AppData\\Local\\Programs\\Python\\Python39\\lib\\site-packages\\openfl\\component\\aggregator\\aggregator.py#894\" target=\"_blank\"><span style=\"color: #7f7f7f; text-decoration-color: #7f7f7f\">894</span></a>\n",
       "</pre>\n"
      ],
      "text/plain": [
       "\u001b[2;36m          \u001b[0m\u001b[2;36m \u001b[0m\u001b[34mINFO    \u001b[0m Saving round \u001b[1;36m2\u001b[0m model\u001b[33m...\u001b[0m                                                                                                    \u001b]8;id=183013;file://C:\\Users\\BHSU\\AppData\\Local\\Programs\\Python\\Python39\\lib\\site-packages\\openfl\\component\\aggregator\\aggregator.py\u001b\\\u001b[2maggregator.py\u001b[0m\u001b]8;;\u001b\\\u001b[2m:\u001b[0m\u001b]8;id=280293;file://C:\\Users\\BHSU\\AppData\\Local\\Programs\\Python\\Python39\\lib\\site-packages\\openfl\\component\\aggregator\\aggregator.py#894\u001b\\\u001b[2m894\u001b[0m\u001b]8;;\u001b\\\n"
      ]
     },
     "metadata": {},
     "output_type": "display_data"
    },
    {
     "data": {
      "text/html": [
       "<pre style=\"white-space:pre;overflow-x:auto;line-height:normal;font-family:Menlo,'DejaVu Sans Mono',consolas,'Courier New',monospace\"><span style=\"color: #7fbfbf; text-decoration-color: #7fbfbf\">           </span><span style=\"color: #000080; text-decoration-color: #000080\">INFO    </span> Starting round <span style=\"color: #008080; text-decoration-color: #008080; font-weight: bold\">2</span><span style=\"color: #808000; text-decoration-color: #808000\">...</span>                                                                                                        <a href=\"file://C:\\Users\\BHSU\\AppData\\Local\\Programs\\Python\\Python39\\lib\\site-packages\\openfl\\component\\aggregator\\aggregator.py\" target=\"_blank\"><span style=\"color: #7f7f7f; text-decoration-color: #7f7f7f\">aggregator.py</span></a><span style=\"color: #7f7f7f; text-decoration-color: #7f7f7f\">:</span><a href=\"file://C:\\Users\\BHSU\\AppData\\Local\\Programs\\Python\\Python39\\lib\\site-packages\\openfl\\component\\aggregator\\aggregator.py#901\" target=\"_blank\"><span style=\"color: #7f7f7f; text-decoration-color: #7f7f7f\">901</span></a>\n",
       "</pre>\n"
      ],
      "text/plain": [
       "\u001b[2;36m          \u001b[0m\u001b[2;36m \u001b[0m\u001b[34mINFO    \u001b[0m Starting round \u001b[1;36m2\u001b[0m\u001b[33m...\u001b[0m                                                                                                        \u001b]8;id=562786;file://C:\\Users\\BHSU\\AppData\\Local\\Programs\\Python\\Python39\\lib\\site-packages\\openfl\\component\\aggregator\\aggregator.py\u001b\\\u001b[2maggregator.py\u001b[0m\u001b]8;;\u001b\\\u001b[2m:\u001b[0m\u001b]8;id=853463;file://C:\\Users\\BHSU\\AppData\\Local\\Programs\\Python\\Python39\\lib\\site-packages\\openfl\\component\\aggregator\\aggregator.py#901\u001b\\\u001b[2m901\u001b[0m\u001b]8;;\u001b\\\n"
      ]
     },
     "metadata": {},
     "output_type": "display_data"
    },
    {
     "data": {
      "text/html": [
       "<pre style=\"white-space:pre;overflow-x:auto;line-height:normal;font-family:Menlo,'DejaVu Sans Mono',consolas,'Courier New',monospace\"><span style=\"color: #7fbfbf; text-decoration-color: #7fbfbf\">           </span><span style=\"color: #000080; text-decoration-color: #000080\">INFO    </span> All tasks completed on two for round <span style=\"color: #008080; text-decoration-color: #008080; font-weight: bold\">1</span><span style=\"color: #808000; text-decoration-color: #808000\">...</span>                                                                                <a href=\"file://C:\\Users\\BHSU\\AppData\\Local\\Programs\\Python\\Python39\\lib\\site-packages\\openfl\\component\\collaborator\\collaborator.py\" target=\"_blank\"><span style=\"color: #7f7f7f; text-decoration-color: #7f7f7f\">collaborator.py</span></a><span style=\"color: #7f7f7f; text-decoration-color: #7f7f7f\">:</span><a href=\"file://C:\\Users\\BHSU\\AppData\\Local\\Programs\\Python\\Python39\\lib\\site-packages\\openfl\\component\\collaborator\\collaborator.py#171\" target=\"_blank\"><span style=\"color: #7f7f7f; text-decoration-color: #7f7f7f\">171</span></a>\n",
       "</pre>\n"
      ],
      "text/plain": [
       "\u001b[2;36m          \u001b[0m\u001b[2;36m \u001b[0m\u001b[34mINFO    \u001b[0m All tasks completed on two for round \u001b[1;36m1\u001b[0m\u001b[33m...\u001b[0m                                                                                \u001b]8;id=724617;file://C:\\Users\\BHSU\\AppData\\Local\\Programs\\Python\\Python39\\lib\\site-packages\\openfl\\component\\collaborator\\collaborator.py\u001b\\\u001b[2mcollaborator.py\u001b[0m\u001b]8;;\u001b\\\u001b[2m:\u001b[0m\u001b]8;id=383294;file://C:\\Users\\BHSU\\AppData\\Local\\Programs\\Python\\Python39\\lib\\site-packages\\openfl\\component\\collaborator\\collaborator.py#171\u001b\\\u001b[2m171\u001b[0m\u001b]8;;\u001b\\\n"
      ]
     },
     "metadata": {},
     "output_type": "display_data"
    },
    {
     "data": {
      "text/html": [
       "<pre style=\"white-space:pre;overflow-x:auto;line-height:normal;font-family:Menlo,'DejaVu Sans Mono',consolas,'Courier New',monospace\"><span style=\"color: #7fbfbf; text-decoration-color: #7fbfbf\">           </span><span style=\"color: #000080; text-decoration-color: #000080\">INFO    </span> Waiting for tasks<span style=\"color: #808000; text-decoration-color: #808000\">...</span>                                                                                                     <a href=\"file://C:\\Users\\BHSU\\AppData\\Local\\Programs\\Python\\Python39\\lib\\site-packages\\openfl\\component\\collaborator\\collaborator.py\" target=\"_blank\"><span style=\"color: #7f7f7f; text-decoration-color: #7f7f7f\">collaborator.py</span></a><span style=\"color: #7f7f7f; text-decoration-color: #7f7f7f\">:</span><a href=\"file://C:\\Users\\BHSU\\AppData\\Local\\Programs\\Python\\Python39\\lib\\site-packages\\openfl\\component\\collaborator\\collaborator.py#178\" target=\"_blank\"><span style=\"color: #7f7f7f; text-decoration-color: #7f7f7f\">178</span></a>\n",
       "</pre>\n"
      ],
      "text/plain": [
       "\u001b[2;36m          \u001b[0m\u001b[2;36m \u001b[0m\u001b[34mINFO    \u001b[0m Waiting for tasks\u001b[33m...\u001b[0m                                                                                                     \u001b]8;id=800936;file://C:\\Users\\BHSU\\AppData\\Local\\Programs\\Python\\Python39\\lib\\site-packages\\openfl\\component\\collaborator\\collaborator.py\u001b\\\u001b[2mcollaborator.py\u001b[0m\u001b]8;;\u001b\\\u001b[2m:\u001b[0m\u001b]8;id=145738;file://C:\\Users\\BHSU\\AppData\\Local\\Programs\\Python\\Python39\\lib\\site-packages\\openfl\\component\\collaborator\\collaborator.py#178\u001b\\\u001b[2m178\u001b[0m\u001b]8;;\u001b\\\n"
      ]
     },
     "metadata": {},
     "output_type": "display_data"
    },
    {
     "data": {
      "text/html": [
       "<pre style=\"white-space:pre;overflow-x:auto;line-height:normal;font-family:Menlo,'DejaVu Sans Mono',consolas,'Courier New',monospace\"><span style=\"color: #7fbfbf; text-decoration-color: #7fbfbf\">           </span><span style=\"color: #000080; text-decoration-color: #000080\">INFO    </span> Sending tasks to collaborator one for round <span style=\"color: #008080; text-decoration-color: #008080; font-weight: bold\">2</span>                                                                              <a href=\"file://C:\\Users\\BHSU\\AppData\\Local\\Programs\\Python\\Python39\\lib\\site-packages\\openfl\\component\\aggregator\\aggregator.py\" target=\"_blank\"><span style=\"color: #7f7f7f; text-decoration-color: #7f7f7f\">aggregator.py</span></a><span style=\"color: #7f7f7f; text-decoration-color: #7f7f7f\">:</span><a href=\"file://C:\\Users\\BHSU\\AppData\\Local\\Programs\\Python\\Python39\\lib\\site-packages\\openfl\\component\\aggregator\\aggregator.py#329\" target=\"_blank\"><span style=\"color: #7f7f7f; text-decoration-color: #7f7f7f\">329</span></a>\n",
       "</pre>\n"
      ],
      "text/plain": [
       "\u001b[2;36m          \u001b[0m\u001b[2;36m \u001b[0m\u001b[34mINFO    \u001b[0m Sending tasks to collaborator one for round \u001b[1;36m2\u001b[0m                                                                              \u001b]8;id=306183;file://C:\\Users\\BHSU\\AppData\\Local\\Programs\\Python\\Python39\\lib\\site-packages\\openfl\\component\\aggregator\\aggregator.py\u001b\\\u001b[2maggregator.py\u001b[0m\u001b]8;;\u001b\\\u001b[2m:\u001b[0m\u001b]8;id=463064;file://C:\\Users\\BHSU\\AppData\\Local\\Programs\\Python\\Python39\\lib\\site-packages\\openfl\\component\\aggregator\\aggregator.py#329\u001b\\\u001b[2m329\u001b[0m\u001b]8;;\u001b\\\n"
      ]
     },
     "metadata": {},
     "output_type": "display_data"
    },
    {
     "data": {
      "text/html": [
       "<pre style=\"white-space:pre;overflow-x:auto;line-height:normal;font-family:Menlo,'DejaVu Sans Mono',consolas,'Courier New',monospace\"><span style=\"color: #7fbfbf; text-decoration-color: #7fbfbf\">           </span><span style=\"color: #000080; text-decoration-color: #000080\">INFO    </span> Received the following tasks: <span style=\"font-weight: bold\">[</span><span style=\"color: #008000; text-decoration-color: #008000\">'aggregated_model_validation'</span>, <span style=\"color: #008000; text-decoration-color: #008000\">'train'</span>, <span style=\"color: #008000; text-decoration-color: #008000\">'locally_tuned_model_validation'</span><span style=\"font-weight: bold\">]</span>                 <a href=\"file://C:\\Users\\BHSU\\AppData\\Local\\Programs\\Python\\Python39\\lib\\site-packages\\openfl\\component\\collaborator\\collaborator.py\" target=\"_blank\"><span style=\"color: #7f7f7f; text-decoration-color: #7f7f7f\">collaborator.py</span></a><span style=\"color: #7f7f7f; text-decoration-color: #7f7f7f\">:</span><a href=\"file://C:\\Users\\BHSU\\AppData\\Local\\Programs\\Python\\Python39\\lib\\site-packages\\openfl\\component\\collaborator\\collaborator.py#168\" target=\"_blank\"><span style=\"color: #7f7f7f; text-decoration-color: #7f7f7f\">168</span></a>\n",
       "</pre>\n"
      ],
      "text/plain": [
       "\u001b[2;36m          \u001b[0m\u001b[2;36m \u001b[0m\u001b[34mINFO    \u001b[0m Received the following tasks: \u001b[1m[\u001b[0m\u001b[32m'aggregated_model_validation'\u001b[0m, \u001b[32m'train'\u001b[0m, \u001b[32m'locally_tuned_model_validation'\u001b[0m\u001b[1m]\u001b[0m                 \u001b]8;id=90656;file://C:\\Users\\BHSU\\AppData\\Local\\Programs\\Python\\Python39\\lib\\site-packages\\openfl\\component\\collaborator\\collaborator.py\u001b\\\u001b[2mcollaborator.py\u001b[0m\u001b]8;;\u001b\\\u001b[2m:\u001b[0m\u001b]8;id=504915;file://C:\\Users\\BHSU\\AppData\\Local\\Programs\\Python\\Python39\\lib\\site-packages\\openfl\\component\\collaborator\\collaborator.py#168\u001b\\\u001b[2m168\u001b[0m\u001b]8;;\u001b\\\n"
      ]
     },
     "metadata": {},
     "output_type": "display_data"
    },
    {
     "data": {
      "text/html": [
       "<pre style=\"white-space:pre;overflow-x:auto;line-height:normal;font-family:Menlo,'DejaVu Sans Mono',consolas,'Courier New',monospace\"><span style=\"color: #7fbfbf; text-decoration-color: #7fbfbf\">           </span><span style=\"color: #000080; text-decoration-color: #000080\">INFO    </span> Using TaskRunner subclassing API                                                                                         <a href=\"file://C:\\Users\\BHSU\\AppData\\Local\\Programs\\Python\\Python39\\lib\\site-packages\\openfl\\component\\collaborator\\collaborator.py\" target=\"_blank\"><span style=\"color: #7f7f7f; text-decoration-color: #7f7f7f\">collaborator.py</span></a><span style=\"color: #7f7f7f; text-decoration-color: #7f7f7f\">:</span><a href=\"file://C:\\Users\\BHSU\\AppData\\Local\\Programs\\Python\\Python39\\lib\\site-packages\\openfl\\component\\collaborator\\collaborator.py#253\" target=\"_blank\"><span style=\"color: #7f7f7f; text-decoration-color: #7f7f7f\">253</span></a>\n",
       "</pre>\n"
      ],
      "text/plain": [
       "\u001b[2;36m          \u001b[0m\u001b[2;36m \u001b[0m\u001b[34mINFO    \u001b[0m Using TaskRunner subclassing API                                                                                         \u001b]8;id=105973;file://C:\\Users\\BHSU\\AppData\\Local\\Programs\\Python\\Python39\\lib\\site-packages\\openfl\\component\\collaborator\\collaborator.py\u001b\\\u001b[2mcollaborator.py\u001b[0m\u001b]8;;\u001b\\\u001b[2m:\u001b[0m\u001b]8;id=242803;file://C:\\Users\\BHSU\\AppData\\Local\\Programs\\Python\\Python39\\lib\\site-packages\\openfl\\component\\collaborator\\collaborator.py#253\u001b\\\u001b[2m253\u001b[0m\u001b]8;;\u001b\\\n"
      ]
     },
     "metadata": {},
     "output_type": "display_data"
    },
    {
     "name": "stdout",
     "output_type": "stream",
     "text": [
      "282/282 [==============================] - 0s 544us/step - loss: 0.2086 - accuracy: 0.9382\n"
     ]
    },
    {
     "data": {
      "text/html": [
       "<pre style=\"white-space:pre;overflow-x:auto;line-height:normal;font-family:Menlo,'DejaVu Sans Mono',consolas,'Courier New',monospace\"><span style=\"color: #7fbfbf; text-decoration-color: #7fbfbf\">           </span>METRIC   Round <span style=\"color: #008080; text-decoration-color: #008080; font-weight: bold\">2</span>, collaborator one is sending metric for task aggregated_model_validation: accuracy      <span style=\"color: #008080; text-decoration-color: #008080; font-weight: bold\">0.938222</span>                 <a href=\"file://C:\\Users\\BHSU\\AppData\\Local\\Programs\\Python\\Python39\\lib\\site-packages\\openfl\\component\\collaborator\\collaborator.py\" target=\"_blank\"><span style=\"color: #7f7f7f; text-decoration-color: #7f7f7f\">collaborator.py</span></a><span style=\"color: #7f7f7f; text-decoration-color: #7f7f7f\">:</span><a href=\"file://C:\\Users\\BHSU\\AppData\\Local\\Programs\\Python\\Python39\\lib\\site-packages\\openfl\\component\\collaborator\\collaborator.py#415\" target=\"_blank\"><span style=\"color: #7f7f7f; text-decoration-color: #7f7f7f\">415</span></a>\n",
       "</pre>\n"
      ],
      "text/plain": [
       "\u001b[2;36m          \u001b[0m\u001b[2;36m \u001b[0mMETRIC   Round \u001b[1;36m2\u001b[0m, collaborator one is sending metric for task aggregated_model_validation: accuracy      \u001b[1;36m0.938222\u001b[0m                 \u001b]8;id=230719;file://C:\\Users\\BHSU\\AppData\\Local\\Programs\\Python\\Python39\\lib\\site-packages\\openfl\\component\\collaborator\\collaborator.py\u001b\\\u001b[2mcollaborator.py\u001b[0m\u001b]8;;\u001b\\\u001b[2m:\u001b[0m\u001b]8;id=749705;file://C:\\Users\\BHSU\\AppData\\Local\\Programs\\Python\\Python39\\lib\\site-packages\\openfl\\component\\collaborator\\collaborator.py#415\u001b\\\u001b[2m415\u001b[0m\u001b]8;;\u001b\\\n"
      ]
     },
     "metadata": {},
     "output_type": "display_data"
    },
    {
     "data": {
      "text/html": [
       "<pre style=\"white-space:pre;overflow-x:auto;line-height:normal;font-family:Menlo,'DejaVu Sans Mono',consolas,'Courier New',monospace\"><span style=\"color: #7fbfbf; text-decoration-color: #7fbfbf\">           </span><span style=\"color: #000080; text-decoration-color: #000080\">INFO    </span> Collaborator one is sending task results for aggregated_model_validation, round <span style=\"color: #008080; text-decoration-color: #008080; font-weight: bold\">2</span>                                          <a href=\"file://C:\\Users\\BHSU\\AppData\\Local\\Programs\\Python\\Python39\\lib\\site-packages\\openfl\\component\\aggregator\\aggregator.py\" target=\"_blank\"><span style=\"color: #7f7f7f; text-decoration-color: #7f7f7f\">aggregator.py</span></a><span style=\"color: #7f7f7f; text-decoration-color: #7f7f7f\">:</span><a href=\"file://C:\\Users\\BHSU\\AppData\\Local\\Programs\\Python\\Python39\\lib\\site-packages\\openfl\\component\\aggregator\\aggregator.py#520\" target=\"_blank\"><span style=\"color: #7f7f7f; text-decoration-color: #7f7f7f\">520</span></a>\n",
       "</pre>\n"
      ],
      "text/plain": [
       "\u001b[2;36m          \u001b[0m\u001b[2;36m \u001b[0m\u001b[34mINFO    \u001b[0m Collaborator one is sending task results for aggregated_model_validation, round \u001b[1;36m2\u001b[0m                                          \u001b]8;id=770426;file://C:\\Users\\BHSU\\AppData\\Local\\Programs\\Python\\Python39\\lib\\site-packages\\openfl\\component\\aggregator\\aggregator.py\u001b\\\u001b[2maggregator.py\u001b[0m\u001b]8;;\u001b\\\u001b[2m:\u001b[0m\u001b]8;id=993516;file://C:\\Users\\BHSU\\AppData\\Local\\Programs\\Python\\Python39\\lib\\site-packages\\openfl\\component\\aggregator\\aggregator.py#520\u001b\\\u001b[2m520\u001b[0m\u001b]8;;\u001b\\\n"
      ]
     },
     "metadata": {},
     "output_type": "display_data"
    },
    {
     "data": {
      "text/html": [
       "<pre style=\"white-space:pre;overflow-x:auto;line-height:normal;font-family:Menlo,'DejaVu Sans Mono',consolas,'Courier New',monospace\"><span style=\"color: #7fbfbf; text-decoration-color: #7fbfbf\">           </span>METRIC   Round <span style=\"color: #008080; text-decoration-color: #008080; font-weight: bold\">2</span>, collaborator validate_agg aggregated_model_validation result accuracy: <span style=\"color: #008080; text-decoration-color: #008080; font-weight: bold\">0.938222</span>                                   <a href=\"file://C:\\Users\\BHSU\\AppData\\Local\\Programs\\Python\\Python39\\lib\\site-packages\\openfl\\component\\aggregator\\aggregator.py\" target=\"_blank\"><span style=\"color: #7f7f7f; text-decoration-color: #7f7f7f\">aggregator.py</span></a><span style=\"color: #7f7f7f; text-decoration-color: #7f7f7f\">:</span><a href=\"file://C:\\Users\\BHSU\\AppData\\Local\\Programs\\Python\\Python39\\lib\\site-packages\\openfl\\component\\aggregator\\aggregator.py#559\" target=\"_blank\"><span style=\"color: #7f7f7f; text-decoration-color: #7f7f7f\">559</span></a>\n",
       "</pre>\n"
      ],
      "text/plain": [
       "\u001b[2;36m          \u001b[0m\u001b[2;36m \u001b[0mMETRIC   Round \u001b[1;36m2\u001b[0m, collaborator validate_agg aggregated_model_validation result accuracy: \u001b[1;36m0.938222\u001b[0m                                   \u001b]8;id=130848;file://C:\\Users\\BHSU\\AppData\\Local\\Programs\\Python\\Python39\\lib\\site-packages\\openfl\\component\\aggregator\\aggregator.py\u001b\\\u001b[2maggregator.py\u001b[0m\u001b]8;;\u001b\\\u001b[2m:\u001b[0m\u001b]8;id=708847;file://C:\\Users\\BHSU\\AppData\\Local\\Programs\\Python\\Python39\\lib\\site-packages\\openfl\\component\\aggregator\\aggregator.py#559\u001b\\\u001b[2m559\u001b[0m\u001b]8;;\u001b\\\n"
      ]
     },
     "metadata": {},
     "output_type": "display_data"
    },
    {
     "data": {
      "text/html": [
       "<pre style=\"white-space:pre;overflow-x:auto;line-height:normal;font-family:Menlo,'DejaVu Sans Mono',consolas,'Courier New',monospace\"><span style=\"color: #7fbfbf; text-decoration-color: #7fbfbf\">           </span><span style=\"color: #000080; text-decoration-color: #000080\">INFO    </span> Using TaskRunner subclassing API                                                                                         <a href=\"file://C:\\Users\\BHSU\\AppData\\Local\\Programs\\Python\\Python39\\lib\\site-packages\\openfl\\component\\collaborator\\collaborator.py\" target=\"_blank\"><span style=\"color: #7f7f7f; text-decoration-color: #7f7f7f\">collaborator.py</span></a><span style=\"color: #7f7f7f; text-decoration-color: #7f7f7f\">:</span><a href=\"file://C:\\Users\\BHSU\\AppData\\Local\\Programs\\Python\\Python39\\lib\\site-packages\\openfl\\component\\collaborator\\collaborator.py#253\" target=\"_blank\"><span style=\"color: #7f7f7f; text-decoration-color: #7f7f7f\">253</span></a>\n",
       "</pre>\n"
      ],
      "text/plain": [
       "\u001b[2;36m          \u001b[0m\u001b[2;36m \u001b[0m\u001b[34mINFO    \u001b[0m Using TaskRunner subclassing API                                                                                         \u001b]8;id=583040;file://C:\\Users\\BHSU\\AppData\\Local\\Programs\\Python\\Python39\\lib\\site-packages\\openfl\\component\\collaborator\\collaborator.py\u001b\\\u001b[2mcollaborator.py\u001b[0m\u001b]8;;\u001b\\\u001b[2m:\u001b[0m\u001b]8;id=713483;file://C:\\Users\\BHSU\\AppData\\Local\\Programs\\Python\\Python39\\lib\\site-packages\\openfl\\component\\collaborator\\collaborator.py#253\u001b\\\u001b[2m253\u001b[0m\u001b]8;;\u001b\\\n"
      ]
     },
     "metadata": {},
     "output_type": "display_data"
    },
    {
     "data": {
      "text/html": [
       "<pre style=\"white-space:pre;overflow-x:auto;line-height:normal;font-family:Menlo,'DejaVu Sans Mono',consolas,'Courier New',monospace\"><span style=\"color: #7fbfbf; text-decoration-color: #7fbfbf\">           </span><span style=\"color: #000080; text-decoration-color: #000080\">INFO    </span> Run <span style=\"color: #008080; text-decoration-color: #008080; font-weight: bold\">0</span> epoch of <span style=\"color: #008080; text-decoration-color: #008080; font-weight: bold\">2</span> round                                                                                                    <a href=\"file://C:\\Users\\BHSU\\AppData\\Local\\Programs\\Python\\Python39\\lib\\site-packages\\openfl\\federated\\task\\runner_keras.py\" target=\"_blank\"><span style=\"color: #7f7f7f; text-decoration-color: #7f7f7f\">runner_keras.py</span></a><span style=\"color: #7f7f7f; text-decoration-color: #7f7f7f\">:</span><a href=\"file://C:\\Users\\BHSU\\AppData\\Local\\Programs\\Python\\Python39\\lib\\site-packages\\openfl\\federated\\task\\runner_keras.py#83\" target=\"_blank\"><span style=\"color: #7f7f7f; text-decoration-color: #7f7f7f\">83</span></a>\n",
       "</pre>\n"
      ],
      "text/plain": [
       "\u001b[2;36m          \u001b[0m\u001b[2;36m \u001b[0m\u001b[34mINFO    \u001b[0m Run \u001b[1;36m0\u001b[0m epoch of \u001b[1;36m2\u001b[0m round                                                                                                    \u001b]8;id=845824;file://C:\\Users\\BHSU\\AppData\\Local\\Programs\\Python\\Python39\\lib\\site-packages\\openfl\\federated\\task\\runner_keras.py\u001b\\\u001b[2mrunner_keras.py\u001b[0m\u001b]8;;\u001b\\\u001b[2m:\u001b[0m\u001b]8;id=620871;file://C:\\Users\\BHSU\\AppData\\Local\\Programs\\Python\\Python39\\lib\\site-packages\\openfl\\federated\\task\\runner_keras.py#83\u001b\\\u001b[2m83\u001b[0m\u001b]8;;\u001b\\\n"
      ]
     },
     "metadata": {},
     "output_type": "display_data"
    },
    {
     "name": "stdout",
     "output_type": "stream",
     "text": [
      "657/657 [==============================] - 0s 621us/step - loss: 0.2221 - accuracy: 0.9310\n"
     ]
    },
    {
     "data": {
      "text/html": [
       "<pre style=\"white-space:pre;overflow-x:auto;line-height:normal;font-family:Menlo,'DejaVu Sans Mono',consolas,'Courier New',monospace\"><span style=\"color: #7fbfbf; text-decoration-color: #7fbfbf\">           </span>METRIC   Round <span style=\"color: #008080; text-decoration-color: #008080; font-weight: bold\">2</span>, collaborator one is sending metric for task train: loss        <span style=\"color: #008080; text-decoration-color: #008080; font-weight: bold\">0.222085</span>                                         <a href=\"file://C:\\Users\\BHSU\\AppData\\Local\\Programs\\Python\\Python39\\lib\\site-packages\\openfl\\component\\collaborator\\collaborator.py\" target=\"_blank\"><span style=\"color: #7f7f7f; text-decoration-color: #7f7f7f\">collaborator.py</span></a><span style=\"color: #7f7f7f; text-decoration-color: #7f7f7f\">:</span><a href=\"file://C:\\Users\\BHSU\\AppData\\Local\\Programs\\Python\\Python39\\lib\\site-packages\\openfl\\component\\collaborator\\collaborator.py#415\" target=\"_blank\"><span style=\"color: #7f7f7f; text-decoration-color: #7f7f7f\">415</span></a>\n",
       "</pre>\n"
      ],
      "text/plain": [
       "\u001b[2;36m          \u001b[0m\u001b[2;36m \u001b[0mMETRIC   Round \u001b[1;36m2\u001b[0m, collaborator one is sending metric for task train: loss        \u001b[1;36m0.222085\u001b[0m                                         \u001b]8;id=594920;file://C:\\Users\\BHSU\\AppData\\Local\\Programs\\Python\\Python39\\lib\\site-packages\\openfl\\component\\collaborator\\collaborator.py\u001b\\\u001b[2mcollaborator.py\u001b[0m\u001b]8;;\u001b\\\u001b[2m:\u001b[0m\u001b]8;id=56999;file://C:\\Users\\BHSU\\AppData\\Local\\Programs\\Python\\Python39\\lib\\site-packages\\openfl\\component\\collaborator\\collaborator.py#415\u001b\\\u001b[2m415\u001b[0m\u001b]8;;\u001b\\\n"
      ]
     },
     "metadata": {},
     "output_type": "display_data"
    },
    {
     "data": {
      "text/html": [
       "<pre style=\"white-space:pre;overflow-x:auto;line-height:normal;font-family:Menlo,'DejaVu Sans Mono',consolas,'Courier New',monospace\"><span style=\"color: #7fbfbf; text-decoration-color: #7fbfbf\">           </span><span style=\"color: #000080; text-decoration-color: #000080\">INFO    </span> Collaborator one is sending task results for train, round <span style=\"color: #008080; text-decoration-color: #008080; font-weight: bold\">2</span>                                                                <a href=\"file://C:\\Users\\BHSU\\AppData\\Local\\Programs\\Python\\Python39\\lib\\site-packages\\openfl\\component\\aggregator\\aggregator.py\" target=\"_blank\"><span style=\"color: #7f7f7f; text-decoration-color: #7f7f7f\">aggregator.py</span></a><span style=\"color: #7f7f7f; text-decoration-color: #7f7f7f\">:</span><a href=\"file://C:\\Users\\BHSU\\AppData\\Local\\Programs\\Python\\Python39\\lib\\site-packages\\openfl\\component\\aggregator\\aggregator.py#520\" target=\"_blank\"><span style=\"color: #7f7f7f; text-decoration-color: #7f7f7f\">520</span></a>\n",
       "</pre>\n"
      ],
      "text/plain": [
       "\u001b[2;36m          \u001b[0m\u001b[2;36m \u001b[0m\u001b[34mINFO    \u001b[0m Collaborator one is sending task results for train, round \u001b[1;36m2\u001b[0m                                                                \u001b]8;id=758547;file://C:\\Users\\BHSU\\AppData\\Local\\Programs\\Python\\Python39\\lib\\site-packages\\openfl\\component\\aggregator\\aggregator.py\u001b\\\u001b[2maggregator.py\u001b[0m\u001b]8;;\u001b\\\u001b[2m:\u001b[0m\u001b]8;id=649086;file://C:\\Users\\BHSU\\AppData\\Local\\Programs\\Python\\Python39\\lib\\site-packages\\openfl\\component\\aggregator\\aggregator.py#520\u001b\\\u001b[2m520\u001b[0m\u001b]8;;\u001b\\\n"
      ]
     },
     "metadata": {},
     "output_type": "display_data"
    },
    {
     "data": {
      "text/html": [
       "<pre style=\"white-space:pre;overflow-x:auto;line-height:normal;font-family:Menlo,'DejaVu Sans Mono',consolas,'Courier New',monospace\"><span style=\"color: #7fbfbf; text-decoration-color: #7fbfbf\">           </span>METRIC   Round <span style=\"color: #008080; text-decoration-color: #008080; font-weight: bold\">2</span>, collaborator one train result loss:    <span style=\"color: #008080; text-decoration-color: #008080; font-weight: bold\">0.222085</span>                                                                   <a href=\"file://C:\\Users\\BHSU\\AppData\\Local\\Programs\\Python\\Python39\\lib\\site-packages\\openfl\\component\\aggregator\\aggregator.py\" target=\"_blank\"><span style=\"color: #7f7f7f; text-decoration-color: #7f7f7f\">aggregator.py</span></a><span style=\"color: #7f7f7f; text-decoration-color: #7f7f7f\">:</span><a href=\"file://C:\\Users\\BHSU\\AppData\\Local\\Programs\\Python\\Python39\\lib\\site-packages\\openfl\\component\\aggregator\\aggregator.py#559\" target=\"_blank\"><span style=\"color: #7f7f7f; text-decoration-color: #7f7f7f\">559</span></a>\n",
       "</pre>\n"
      ],
      "text/plain": [
       "\u001b[2;36m          \u001b[0m\u001b[2;36m \u001b[0mMETRIC   Round \u001b[1;36m2\u001b[0m, collaborator one train result loss:    \u001b[1;36m0.222085\u001b[0m                                                                   \u001b]8;id=1719;file://C:\\Users\\BHSU\\AppData\\Local\\Programs\\Python\\Python39\\lib\\site-packages\\openfl\\component\\aggregator\\aggregator.py\u001b\\\u001b[2maggregator.py\u001b[0m\u001b]8;;\u001b\\\u001b[2m:\u001b[0m\u001b]8;id=632584;file://C:\\Users\\BHSU\\AppData\\Local\\Programs\\Python\\Python39\\lib\\site-packages\\openfl\\component\\aggregator\\aggregator.py#559\u001b\\\u001b[2m559\u001b[0m\u001b]8;;\u001b\\\n"
      ]
     },
     "metadata": {},
     "output_type": "display_data"
    },
    {
     "data": {
      "text/html": [
       "<pre style=\"white-space:pre;overflow-x:auto;line-height:normal;font-family:Menlo,'DejaVu Sans Mono',consolas,'Courier New',monospace\"><span style=\"color: #7fbfbf; text-decoration-color: #7fbfbf\">           </span><span style=\"color: #000080; text-decoration-color: #000080\">INFO    </span> Using TaskRunner subclassing API                                                                                         <a href=\"file://C:\\Users\\BHSU\\AppData\\Local\\Programs\\Python\\Python39\\lib\\site-packages\\openfl\\component\\collaborator\\collaborator.py\" target=\"_blank\"><span style=\"color: #7f7f7f; text-decoration-color: #7f7f7f\">collaborator.py</span></a><span style=\"color: #7f7f7f; text-decoration-color: #7f7f7f\">:</span><a href=\"file://C:\\Users\\BHSU\\AppData\\Local\\Programs\\Python\\Python39\\lib\\site-packages\\openfl\\component\\collaborator\\collaborator.py#253\" target=\"_blank\"><span style=\"color: #7f7f7f; text-decoration-color: #7f7f7f\">253</span></a>\n",
       "</pre>\n"
      ],
      "text/plain": [
       "\u001b[2;36m          \u001b[0m\u001b[2;36m \u001b[0m\u001b[34mINFO    \u001b[0m Using TaskRunner subclassing API                                                                                         \u001b]8;id=488642;file://C:\\Users\\BHSU\\AppData\\Local\\Programs\\Python\\Python39\\lib\\site-packages\\openfl\\component\\collaborator\\collaborator.py\u001b\\\u001b[2mcollaborator.py\u001b[0m\u001b]8;;\u001b\\\u001b[2m:\u001b[0m\u001b]8;id=943599;file://C:\\Users\\BHSU\\AppData\\Local\\Programs\\Python\\Python39\\lib\\site-packages\\openfl\\component\\collaborator\\collaborator.py#253\u001b\\\u001b[2m253\u001b[0m\u001b]8;;\u001b\\\n"
      ]
     },
     "metadata": {},
     "output_type": "display_data"
    },
    {
     "name": "stdout",
     "output_type": "stream",
     "text": [
      "282/282 [==============================] - 0s 488us/step - loss: 0.2077 - accuracy: 0.9357\n"
     ]
    },
    {
     "data": {
      "text/html": [
       "<pre style=\"white-space:pre;overflow-x:auto;line-height:normal;font-family:Menlo,'DejaVu Sans Mono',consolas,'Courier New',monospace\"><span style=\"color: #7fbfbf; text-decoration-color: #7fbfbf\">[10:46:29] </span>METRIC   Round <span style=\"color: #008080; text-decoration-color: #008080; font-weight: bold\">2</span>, collaborator one is sending metric for task locally_tuned_model_validation: accuracy   <span style=\"color: #008080; text-decoration-color: #008080; font-weight: bold\">0.935667</span>                 <a href=\"file://C:\\Users\\BHSU\\AppData\\Local\\Programs\\Python\\Python39\\lib\\site-packages\\openfl\\component\\collaborator\\collaborator.py\" target=\"_blank\"><span style=\"color: #7f7f7f; text-decoration-color: #7f7f7f\">collaborator.py</span></a><span style=\"color: #7f7f7f; text-decoration-color: #7f7f7f\">:</span><a href=\"file://C:\\Users\\BHSU\\AppData\\Local\\Programs\\Python\\Python39\\lib\\site-packages\\openfl\\component\\collaborator\\collaborator.py#415\" target=\"_blank\"><span style=\"color: #7f7f7f; text-decoration-color: #7f7f7f\">415</span></a>\n",
       "</pre>\n"
      ],
      "text/plain": [
       "\u001b[2;36m[10:46:29]\u001b[0m\u001b[2;36m \u001b[0mMETRIC   Round \u001b[1;36m2\u001b[0m, collaborator one is sending metric for task locally_tuned_model_validation: accuracy   \u001b[1;36m0.935667\u001b[0m                 \u001b]8;id=21473;file://C:\\Users\\BHSU\\AppData\\Local\\Programs\\Python\\Python39\\lib\\site-packages\\openfl\\component\\collaborator\\collaborator.py\u001b\\\u001b[2mcollaborator.py\u001b[0m\u001b]8;;\u001b\\\u001b[2m:\u001b[0m\u001b]8;id=477731;file://C:\\Users\\BHSU\\AppData\\Local\\Programs\\Python\\Python39\\lib\\site-packages\\openfl\\component\\collaborator\\collaborator.py#415\u001b\\\u001b[2m415\u001b[0m\u001b]8;;\u001b\\\n"
      ]
     },
     "metadata": {},
     "output_type": "display_data"
    },
    {
     "data": {
      "text/html": [
       "<pre style=\"white-space:pre;overflow-x:auto;line-height:normal;font-family:Menlo,'DejaVu Sans Mono',consolas,'Courier New',monospace\"><span style=\"color: #7fbfbf; text-decoration-color: #7fbfbf\">           </span><span style=\"color: #000080; text-decoration-color: #000080\">INFO    </span> Collaborator one is sending task results for locally_tuned_model_validation, round <span style=\"color: #008080; text-decoration-color: #008080; font-weight: bold\">2</span>                                       <a href=\"file://C:\\Users\\BHSU\\AppData\\Local\\Programs\\Python\\Python39\\lib\\site-packages\\openfl\\component\\aggregator\\aggregator.py\" target=\"_blank\"><span style=\"color: #7f7f7f; text-decoration-color: #7f7f7f\">aggregator.py</span></a><span style=\"color: #7f7f7f; text-decoration-color: #7f7f7f\">:</span><a href=\"file://C:\\Users\\BHSU\\AppData\\Local\\Programs\\Python\\Python39\\lib\\site-packages\\openfl\\component\\aggregator\\aggregator.py#520\" target=\"_blank\"><span style=\"color: #7f7f7f; text-decoration-color: #7f7f7f\">520</span></a>\n",
       "</pre>\n"
      ],
      "text/plain": [
       "\u001b[2;36m          \u001b[0m\u001b[2;36m \u001b[0m\u001b[34mINFO    \u001b[0m Collaborator one is sending task results for locally_tuned_model_validation, round \u001b[1;36m2\u001b[0m                                       \u001b]8;id=470280;file://C:\\Users\\BHSU\\AppData\\Local\\Programs\\Python\\Python39\\lib\\site-packages\\openfl\\component\\aggregator\\aggregator.py\u001b\\\u001b[2maggregator.py\u001b[0m\u001b]8;;\u001b\\\u001b[2m:\u001b[0m\u001b]8;id=201917;file://C:\\Users\\BHSU\\AppData\\Local\\Programs\\Python\\Python39\\lib\\site-packages\\openfl\\component\\aggregator\\aggregator.py#520\u001b\\\u001b[2m520\u001b[0m\u001b]8;;\u001b\\\n"
      ]
     },
     "metadata": {},
     "output_type": "display_data"
    },
    {
     "data": {
      "text/html": [
       "<pre style=\"white-space:pre;overflow-x:auto;line-height:normal;font-family:Menlo,'DejaVu Sans Mono',consolas,'Courier New',monospace\"><span style=\"color: #7fbfbf; text-decoration-color: #7fbfbf\">           </span>METRIC   Round <span style=\"color: #008080; text-decoration-color: #008080; font-weight: bold\">2</span>, collaborator validate_local locally_tuned_model_validation result accuracy:    <span style=\"color: #008080; text-decoration-color: #008080; font-weight: bold\">0.935667</span>                           <a href=\"file://C:\\Users\\BHSU\\AppData\\Local\\Programs\\Python\\Python39\\lib\\site-packages\\openfl\\component\\aggregator\\aggregator.py\" target=\"_blank\"><span style=\"color: #7f7f7f; text-decoration-color: #7f7f7f\">aggregator.py</span></a><span style=\"color: #7f7f7f; text-decoration-color: #7f7f7f\">:</span><a href=\"file://C:\\Users\\BHSU\\AppData\\Local\\Programs\\Python\\Python39\\lib\\site-packages\\openfl\\component\\aggregator\\aggregator.py#559\" target=\"_blank\"><span style=\"color: #7f7f7f; text-decoration-color: #7f7f7f\">559</span></a>\n",
       "</pre>\n"
      ],
      "text/plain": [
       "\u001b[2;36m          \u001b[0m\u001b[2;36m \u001b[0mMETRIC   Round \u001b[1;36m2\u001b[0m, collaborator validate_local locally_tuned_model_validation result accuracy:    \u001b[1;36m0.935667\u001b[0m                           \u001b]8;id=675117;file://C:\\Users\\BHSU\\AppData\\Local\\Programs\\Python\\Python39\\lib\\site-packages\\openfl\\component\\aggregator\\aggregator.py\u001b\\\u001b[2maggregator.py\u001b[0m\u001b]8;;\u001b\\\u001b[2m:\u001b[0m\u001b]8;id=114958;file://C:\\Users\\BHSU\\AppData\\Local\\Programs\\Python\\Python39\\lib\\site-packages\\openfl\\component\\aggregator\\aggregator.py#559\u001b\\\u001b[2m559\u001b[0m\u001b]8;;\u001b\\\n"
      ]
     },
     "metadata": {},
     "output_type": "display_data"
    },
    {
     "data": {
      "text/html": [
       "<pre style=\"white-space:pre;overflow-x:auto;line-height:normal;font-family:Menlo,'DejaVu Sans Mono',consolas,'Courier New',monospace\"><span style=\"color: #7fbfbf; text-decoration-color: #7fbfbf\">           </span><span style=\"color: #000080; text-decoration-color: #000080\">INFO    </span> All tasks completed on one for round <span style=\"color: #008080; text-decoration-color: #008080; font-weight: bold\">2</span><span style=\"color: #808000; text-decoration-color: #808000\">...</span>                                                                                <a href=\"file://C:\\Users\\BHSU\\AppData\\Local\\Programs\\Python\\Python39\\lib\\site-packages\\openfl\\component\\collaborator\\collaborator.py\" target=\"_blank\"><span style=\"color: #7f7f7f; text-decoration-color: #7f7f7f\">collaborator.py</span></a><span style=\"color: #7f7f7f; text-decoration-color: #7f7f7f\">:</span><a href=\"file://C:\\Users\\BHSU\\AppData\\Local\\Programs\\Python\\Python39\\lib\\site-packages\\openfl\\component\\collaborator\\collaborator.py#171\" target=\"_blank\"><span style=\"color: #7f7f7f; text-decoration-color: #7f7f7f\">171</span></a>\n",
       "</pre>\n"
      ],
      "text/plain": [
       "\u001b[2;36m          \u001b[0m\u001b[2;36m \u001b[0m\u001b[34mINFO    \u001b[0m All tasks completed on one for round \u001b[1;36m2\u001b[0m\u001b[33m...\u001b[0m                                                                                \u001b]8;id=21584;file://C:\\Users\\BHSU\\AppData\\Local\\Programs\\Python\\Python39\\lib\\site-packages\\openfl\\component\\collaborator\\collaborator.py\u001b\\\u001b[2mcollaborator.py\u001b[0m\u001b]8;;\u001b\\\u001b[2m:\u001b[0m\u001b]8;id=818046;file://C:\\Users\\BHSU\\AppData\\Local\\Programs\\Python\\Python39\\lib\\site-packages\\openfl\\component\\collaborator\\collaborator.py#171\u001b\\\u001b[2m171\u001b[0m\u001b]8;;\u001b\\\n"
      ]
     },
     "metadata": {},
     "output_type": "display_data"
    },
    {
     "data": {
      "text/html": [
       "<pre style=\"white-space:pre;overflow-x:auto;line-height:normal;font-family:Menlo,'DejaVu Sans Mono',consolas,'Courier New',monospace\"><span style=\"color: #7fbfbf; text-decoration-color: #7fbfbf\">           </span><span style=\"color: #000080; text-decoration-color: #000080\">INFO    </span> Waiting for tasks<span style=\"color: #808000; text-decoration-color: #808000\">...</span>                                                                                                     <a href=\"file://C:\\Users\\BHSU\\AppData\\Local\\Programs\\Python\\Python39\\lib\\site-packages\\openfl\\component\\collaborator\\collaborator.py\" target=\"_blank\"><span style=\"color: #7f7f7f; text-decoration-color: #7f7f7f\">collaborator.py</span></a><span style=\"color: #7f7f7f; text-decoration-color: #7f7f7f\">:</span><a href=\"file://C:\\Users\\BHSU\\AppData\\Local\\Programs\\Python\\Python39\\lib\\site-packages\\openfl\\component\\collaborator\\collaborator.py#178\" target=\"_blank\"><span style=\"color: #7f7f7f; text-decoration-color: #7f7f7f\">178</span></a>\n",
       "</pre>\n"
      ],
      "text/plain": [
       "\u001b[2;36m          \u001b[0m\u001b[2;36m \u001b[0m\u001b[34mINFO    \u001b[0m Waiting for tasks\u001b[33m...\u001b[0m                                                                                                     \u001b]8;id=654941;file://C:\\Users\\BHSU\\AppData\\Local\\Programs\\Python\\Python39\\lib\\site-packages\\openfl\\component\\collaborator\\collaborator.py\u001b\\\u001b[2mcollaborator.py\u001b[0m\u001b]8;;\u001b\\\u001b[2m:\u001b[0m\u001b]8;id=24664;file://C:\\Users\\BHSU\\AppData\\Local\\Programs\\Python\\Python39\\lib\\site-packages\\openfl\\component\\collaborator\\collaborator.py#178\u001b\\\u001b[2m178\u001b[0m\u001b]8;;\u001b\\\n"
      ]
     },
     "metadata": {},
     "output_type": "display_data"
    },
    {
     "data": {
      "text/html": [
       "<pre style=\"white-space:pre;overflow-x:auto;line-height:normal;font-family:Menlo,'DejaVu Sans Mono',consolas,'Courier New',monospace\"><span style=\"color: #7fbfbf; text-decoration-color: #7fbfbf\">           </span><span style=\"color: #000080; text-decoration-color: #000080\">INFO    </span> Sending tasks to collaborator two for round <span style=\"color: #008080; text-decoration-color: #008080; font-weight: bold\">2</span>                                                                              <a href=\"file://C:\\Users\\BHSU\\AppData\\Local\\Programs\\Python\\Python39\\lib\\site-packages\\openfl\\component\\aggregator\\aggregator.py\" target=\"_blank\"><span style=\"color: #7f7f7f; text-decoration-color: #7f7f7f\">aggregator.py</span></a><span style=\"color: #7f7f7f; text-decoration-color: #7f7f7f\">:</span><a href=\"file://C:\\Users\\BHSU\\AppData\\Local\\Programs\\Python\\Python39\\lib\\site-packages\\openfl\\component\\aggregator\\aggregator.py#329\" target=\"_blank\"><span style=\"color: #7f7f7f; text-decoration-color: #7f7f7f\">329</span></a>\n",
       "</pre>\n"
      ],
      "text/plain": [
       "\u001b[2;36m          \u001b[0m\u001b[2;36m \u001b[0m\u001b[34mINFO    \u001b[0m Sending tasks to collaborator two for round \u001b[1;36m2\u001b[0m                                                                              \u001b]8;id=746889;file://C:\\Users\\BHSU\\AppData\\Local\\Programs\\Python\\Python39\\lib\\site-packages\\openfl\\component\\aggregator\\aggregator.py\u001b\\\u001b[2maggregator.py\u001b[0m\u001b]8;;\u001b\\\u001b[2m:\u001b[0m\u001b]8;id=274972;file://C:\\Users\\BHSU\\AppData\\Local\\Programs\\Python\\Python39\\lib\\site-packages\\openfl\\component\\aggregator\\aggregator.py#329\u001b\\\u001b[2m329\u001b[0m\u001b]8;;\u001b\\\n"
      ]
     },
     "metadata": {},
     "output_type": "display_data"
    },
    {
     "data": {
      "text/html": [
       "<pre style=\"white-space:pre;overflow-x:auto;line-height:normal;font-family:Menlo,'DejaVu Sans Mono',consolas,'Courier New',monospace\"><span style=\"color: #7fbfbf; text-decoration-color: #7fbfbf\">           </span><span style=\"color: #000080; text-decoration-color: #000080\">INFO    </span> Received the following tasks: <span style=\"font-weight: bold\">[</span><span style=\"color: #008000; text-decoration-color: #008000\">'aggregated_model_validation'</span>, <span style=\"color: #008000; text-decoration-color: #008000\">'train'</span>, <span style=\"color: #008000; text-decoration-color: #008000\">'locally_tuned_model_validation'</span><span style=\"font-weight: bold\">]</span>                 <a href=\"file://C:\\Users\\BHSU\\AppData\\Local\\Programs\\Python\\Python39\\lib\\site-packages\\openfl\\component\\collaborator\\collaborator.py\" target=\"_blank\"><span style=\"color: #7f7f7f; text-decoration-color: #7f7f7f\">collaborator.py</span></a><span style=\"color: #7f7f7f; text-decoration-color: #7f7f7f\">:</span><a href=\"file://C:\\Users\\BHSU\\AppData\\Local\\Programs\\Python\\Python39\\lib\\site-packages\\openfl\\component\\collaborator\\collaborator.py#168\" target=\"_blank\"><span style=\"color: #7f7f7f; text-decoration-color: #7f7f7f\">168</span></a>\n",
       "</pre>\n"
      ],
      "text/plain": [
       "\u001b[2;36m          \u001b[0m\u001b[2;36m \u001b[0m\u001b[34mINFO    \u001b[0m Received the following tasks: \u001b[1m[\u001b[0m\u001b[32m'aggregated_model_validation'\u001b[0m, \u001b[32m'train'\u001b[0m, \u001b[32m'locally_tuned_model_validation'\u001b[0m\u001b[1m]\u001b[0m                 \u001b]8;id=98407;file://C:\\Users\\BHSU\\AppData\\Local\\Programs\\Python\\Python39\\lib\\site-packages\\openfl\\component\\collaborator\\collaborator.py\u001b\\\u001b[2mcollaborator.py\u001b[0m\u001b]8;;\u001b\\\u001b[2m:\u001b[0m\u001b]8;id=954121;file://C:\\Users\\BHSU\\AppData\\Local\\Programs\\Python\\Python39\\lib\\site-packages\\openfl\\component\\collaborator\\collaborator.py#168\u001b\\\u001b[2m168\u001b[0m\u001b]8;;\u001b\\\n"
      ]
     },
     "metadata": {},
     "output_type": "display_data"
    },
    {
     "data": {
      "text/html": [
       "<pre style=\"white-space:pre;overflow-x:auto;line-height:normal;font-family:Menlo,'DejaVu Sans Mono',consolas,'Courier New',monospace\"><span style=\"color: #7fbfbf; text-decoration-color: #7fbfbf\">           </span><span style=\"color: #000080; text-decoration-color: #000080\">INFO    </span> Using TaskRunner subclassing API                                                                                         <a href=\"file://C:\\Users\\BHSU\\AppData\\Local\\Programs\\Python\\Python39\\lib\\site-packages\\openfl\\component\\collaborator\\collaborator.py\" target=\"_blank\"><span style=\"color: #7f7f7f; text-decoration-color: #7f7f7f\">collaborator.py</span></a><span style=\"color: #7f7f7f; text-decoration-color: #7f7f7f\">:</span><a href=\"file://C:\\Users\\BHSU\\AppData\\Local\\Programs\\Python\\Python39\\lib\\site-packages\\openfl\\component\\collaborator\\collaborator.py#253\" target=\"_blank\"><span style=\"color: #7f7f7f; text-decoration-color: #7f7f7f\">253</span></a>\n",
       "</pre>\n"
      ],
      "text/plain": [
       "\u001b[2;36m          \u001b[0m\u001b[2;36m \u001b[0m\u001b[34mINFO    \u001b[0m Using TaskRunner subclassing API                                                                                         \u001b]8;id=409178;file://C:\\Users\\BHSU\\AppData\\Local\\Programs\\Python\\Python39\\lib\\site-packages\\openfl\\component\\collaborator\\collaborator.py\u001b\\\u001b[2mcollaborator.py\u001b[0m\u001b]8;;\u001b\\\u001b[2m:\u001b[0m\u001b]8;id=439803;file://C:\\Users\\BHSU\\AppData\\Local\\Programs\\Python\\Python39\\lib\\site-packages\\openfl\\component\\collaborator\\collaborator.py#253\u001b\\\u001b[2m253\u001b[0m\u001b]8;;\u001b\\\n"
      ]
     },
     "metadata": {},
     "output_type": "display_data"
    },
    {
     "name": "stdout",
     "output_type": "stream",
     "text": [
      "282/282 [==============================] - 0s 544us/step - loss: 0.2255 - accuracy: 0.9338\n"
     ]
    },
    {
     "data": {
      "text/html": [
       "<pre style=\"white-space:pre;overflow-x:auto;line-height:normal;font-family:Menlo,'DejaVu Sans Mono',consolas,'Courier New',monospace\"><span style=\"color: #7fbfbf; text-decoration-color: #7fbfbf\">           </span>METRIC   Round <span style=\"color: #008080; text-decoration-color: #008080; font-weight: bold\">2</span>, collaborator two is sending metric for task aggregated_model_validation: accuracy      <span style=\"color: #008080; text-decoration-color: #008080; font-weight: bold\">0.933778</span>                 <a href=\"file://C:\\Users\\BHSU\\AppData\\Local\\Programs\\Python\\Python39\\lib\\site-packages\\openfl\\component\\collaborator\\collaborator.py\" target=\"_blank\"><span style=\"color: #7f7f7f; text-decoration-color: #7f7f7f\">collaborator.py</span></a><span style=\"color: #7f7f7f; text-decoration-color: #7f7f7f\">:</span><a href=\"file://C:\\Users\\BHSU\\AppData\\Local\\Programs\\Python\\Python39\\lib\\site-packages\\openfl\\component\\collaborator\\collaborator.py#415\" target=\"_blank\"><span style=\"color: #7f7f7f; text-decoration-color: #7f7f7f\">415</span></a>\n",
       "</pre>\n"
      ],
      "text/plain": [
       "\u001b[2;36m          \u001b[0m\u001b[2;36m \u001b[0mMETRIC   Round \u001b[1;36m2\u001b[0m, collaborator two is sending metric for task aggregated_model_validation: accuracy      \u001b[1;36m0.933778\u001b[0m                 \u001b]8;id=158250;file://C:\\Users\\BHSU\\AppData\\Local\\Programs\\Python\\Python39\\lib\\site-packages\\openfl\\component\\collaborator\\collaborator.py\u001b\\\u001b[2mcollaborator.py\u001b[0m\u001b]8;;\u001b\\\u001b[2m:\u001b[0m\u001b]8;id=967687;file://C:\\Users\\BHSU\\AppData\\Local\\Programs\\Python\\Python39\\lib\\site-packages\\openfl\\component\\collaborator\\collaborator.py#415\u001b\\\u001b[2m415\u001b[0m\u001b]8;;\u001b\\\n"
      ]
     },
     "metadata": {},
     "output_type": "display_data"
    },
    {
     "data": {
      "text/html": [
       "<pre style=\"white-space:pre;overflow-x:auto;line-height:normal;font-family:Menlo,'DejaVu Sans Mono',consolas,'Courier New',monospace\"><span style=\"color: #7fbfbf; text-decoration-color: #7fbfbf\">           </span><span style=\"color: #000080; text-decoration-color: #000080\">INFO    </span> Collaborator two is sending task results for aggregated_model_validation, round <span style=\"color: #008080; text-decoration-color: #008080; font-weight: bold\">2</span>                                          <a href=\"file://C:\\Users\\BHSU\\AppData\\Local\\Programs\\Python\\Python39\\lib\\site-packages\\openfl\\component\\aggregator\\aggregator.py\" target=\"_blank\"><span style=\"color: #7f7f7f; text-decoration-color: #7f7f7f\">aggregator.py</span></a><span style=\"color: #7f7f7f; text-decoration-color: #7f7f7f\">:</span><a href=\"file://C:\\Users\\BHSU\\AppData\\Local\\Programs\\Python\\Python39\\lib\\site-packages\\openfl\\component\\aggregator\\aggregator.py#520\" target=\"_blank\"><span style=\"color: #7f7f7f; text-decoration-color: #7f7f7f\">520</span></a>\n",
       "</pre>\n"
      ],
      "text/plain": [
       "\u001b[2;36m          \u001b[0m\u001b[2;36m \u001b[0m\u001b[34mINFO    \u001b[0m Collaborator two is sending task results for aggregated_model_validation, round \u001b[1;36m2\u001b[0m                                          \u001b]8;id=176332;file://C:\\Users\\BHSU\\AppData\\Local\\Programs\\Python\\Python39\\lib\\site-packages\\openfl\\component\\aggregator\\aggregator.py\u001b\\\u001b[2maggregator.py\u001b[0m\u001b]8;;\u001b\\\u001b[2m:\u001b[0m\u001b]8;id=850661;file://C:\\Users\\BHSU\\AppData\\Local\\Programs\\Python\\Python39\\lib\\site-packages\\openfl\\component\\aggregator\\aggregator.py#520\u001b\\\u001b[2m520\u001b[0m\u001b]8;;\u001b\\\n"
      ]
     },
     "metadata": {},
     "output_type": "display_data"
    },
    {
     "data": {
      "text/html": [
       "<pre style=\"white-space:pre;overflow-x:auto;line-height:normal;font-family:Menlo,'DejaVu Sans Mono',consolas,'Courier New',monospace\"><span style=\"color: #7fbfbf; text-decoration-color: #7fbfbf\">           </span>METRIC   Round <span style=\"color: #008080; text-decoration-color: #008080; font-weight: bold\">2</span>, collaborator validate_agg aggregated_model_validation result accuracy: <span style=\"color: #008080; text-decoration-color: #008080; font-weight: bold\">0.933778</span>                                   <a href=\"file://C:\\Users\\BHSU\\AppData\\Local\\Programs\\Python\\Python39\\lib\\site-packages\\openfl\\component\\aggregator\\aggregator.py\" target=\"_blank\"><span style=\"color: #7f7f7f; text-decoration-color: #7f7f7f\">aggregator.py</span></a><span style=\"color: #7f7f7f; text-decoration-color: #7f7f7f\">:</span><a href=\"file://C:\\Users\\BHSU\\AppData\\Local\\Programs\\Python\\Python39\\lib\\site-packages\\openfl\\component\\aggregator\\aggregator.py#559\" target=\"_blank\"><span style=\"color: #7f7f7f; text-decoration-color: #7f7f7f\">559</span></a>\n",
       "</pre>\n"
      ],
      "text/plain": [
       "\u001b[2;36m          \u001b[0m\u001b[2;36m \u001b[0mMETRIC   Round \u001b[1;36m2\u001b[0m, collaborator validate_agg aggregated_model_validation result accuracy: \u001b[1;36m0.933778\u001b[0m                                   \u001b]8;id=691635;file://C:\\Users\\BHSU\\AppData\\Local\\Programs\\Python\\Python39\\lib\\site-packages\\openfl\\component\\aggregator\\aggregator.py\u001b\\\u001b[2maggregator.py\u001b[0m\u001b]8;;\u001b\\\u001b[2m:\u001b[0m\u001b]8;id=864643;file://C:\\Users\\BHSU\\AppData\\Local\\Programs\\Python\\Python39\\lib\\site-packages\\openfl\\component\\aggregator\\aggregator.py#559\u001b\\\u001b[2m559\u001b[0m\u001b]8;;\u001b\\\n"
      ]
     },
     "metadata": {},
     "output_type": "display_data"
    },
    {
     "data": {
      "text/html": [
       "<pre style=\"white-space:pre;overflow-x:auto;line-height:normal;font-family:Menlo,'DejaVu Sans Mono',consolas,'Courier New',monospace\"><span style=\"color: #7fbfbf; text-decoration-color: #7fbfbf\">           </span><span style=\"color: #000080; text-decoration-color: #000080\">INFO    </span> Using TaskRunner subclassing API                                                                                         <a href=\"file://C:\\Users\\BHSU\\AppData\\Local\\Programs\\Python\\Python39\\lib\\site-packages\\openfl\\component\\collaborator\\collaborator.py\" target=\"_blank\"><span style=\"color: #7f7f7f; text-decoration-color: #7f7f7f\">collaborator.py</span></a><span style=\"color: #7f7f7f; text-decoration-color: #7f7f7f\">:</span><a href=\"file://C:\\Users\\BHSU\\AppData\\Local\\Programs\\Python\\Python39\\lib\\site-packages\\openfl\\component\\collaborator\\collaborator.py#253\" target=\"_blank\"><span style=\"color: #7f7f7f; text-decoration-color: #7f7f7f\">253</span></a>\n",
       "</pre>\n"
      ],
      "text/plain": [
       "\u001b[2;36m          \u001b[0m\u001b[2;36m \u001b[0m\u001b[34mINFO    \u001b[0m Using TaskRunner subclassing API                                                                                         \u001b]8;id=527874;file://C:\\Users\\BHSU\\AppData\\Local\\Programs\\Python\\Python39\\lib\\site-packages\\openfl\\component\\collaborator\\collaborator.py\u001b\\\u001b[2mcollaborator.py\u001b[0m\u001b]8;;\u001b\\\u001b[2m:\u001b[0m\u001b]8;id=34751;file://C:\\Users\\BHSU\\AppData\\Local\\Programs\\Python\\Python39\\lib\\site-packages\\openfl\\component\\collaborator\\collaborator.py#253\u001b\\\u001b[2m253\u001b[0m\u001b]8;;\u001b\\\n"
      ]
     },
     "metadata": {},
     "output_type": "display_data"
    },
    {
     "data": {
      "text/html": [
       "<pre style=\"white-space:pre;overflow-x:auto;line-height:normal;font-family:Menlo,'DejaVu Sans Mono',consolas,'Courier New',monospace\"><span style=\"color: #7fbfbf; text-decoration-color: #7fbfbf\">           </span><span style=\"color: #000080; text-decoration-color: #000080\">INFO    </span> Run <span style=\"color: #008080; text-decoration-color: #008080; font-weight: bold\">0</span> epoch of <span style=\"color: #008080; text-decoration-color: #008080; font-weight: bold\">2</span> round                                                                                                    <a href=\"file://C:\\Users\\BHSU\\AppData\\Local\\Programs\\Python\\Python39\\lib\\site-packages\\openfl\\federated\\task\\runner_keras.py\" target=\"_blank\"><span style=\"color: #7f7f7f; text-decoration-color: #7f7f7f\">runner_keras.py</span></a><span style=\"color: #7f7f7f; text-decoration-color: #7f7f7f\">:</span><a href=\"file://C:\\Users\\BHSU\\AppData\\Local\\Programs\\Python\\Python39\\lib\\site-packages\\openfl\\federated\\task\\runner_keras.py#83\" target=\"_blank\"><span style=\"color: #7f7f7f; text-decoration-color: #7f7f7f\">83</span></a>\n",
       "</pre>\n"
      ],
      "text/plain": [
       "\u001b[2;36m          \u001b[0m\u001b[2;36m \u001b[0m\u001b[34mINFO    \u001b[0m Run \u001b[1;36m0\u001b[0m epoch of \u001b[1;36m2\u001b[0m round                                                                                                    \u001b]8;id=980051;file://C:\\Users\\BHSU\\AppData\\Local\\Programs\\Python\\Python39\\lib\\site-packages\\openfl\\federated\\task\\runner_keras.py\u001b\\\u001b[2mrunner_keras.py\u001b[0m\u001b]8;;\u001b\\\u001b[2m:\u001b[0m\u001b]8;id=999230;file://C:\\Users\\BHSU\\AppData\\Local\\Programs\\Python\\Python39\\lib\\site-packages\\openfl\\federated\\task\\runner_keras.py#83\u001b\\\u001b[2m83\u001b[0m\u001b]8;;\u001b\\\n"
      ]
     },
     "metadata": {},
     "output_type": "display_data"
    },
    {
     "name": "stdout",
     "output_type": "stream",
     "text": [
      "657/657 [==============================] - 0s 642us/step - loss: 0.2137 - accuracy: 0.9346\n"
     ]
    },
    {
     "data": {
      "text/html": [
       "<pre style=\"white-space:pre;overflow-x:auto;line-height:normal;font-family:Menlo,'DejaVu Sans Mono',consolas,'Courier New',monospace\"><span style=\"color: #7fbfbf; text-decoration-color: #7fbfbf\">           </span>METRIC   Round <span style=\"color: #008080; text-decoration-color: #008080; font-weight: bold\">2</span>, collaborator two is sending metric for task train: loss        <span style=\"color: #008080; text-decoration-color: #008080; font-weight: bold\">0.213697</span>                                         <a href=\"file://C:\\Users\\BHSU\\AppData\\Local\\Programs\\Python\\Python39\\lib\\site-packages\\openfl\\component\\collaborator\\collaborator.py\" target=\"_blank\"><span style=\"color: #7f7f7f; text-decoration-color: #7f7f7f\">collaborator.py</span></a><span style=\"color: #7f7f7f; text-decoration-color: #7f7f7f\">:</span><a href=\"file://C:\\Users\\BHSU\\AppData\\Local\\Programs\\Python\\Python39\\lib\\site-packages\\openfl\\component\\collaborator\\collaborator.py#415\" target=\"_blank\"><span style=\"color: #7f7f7f; text-decoration-color: #7f7f7f\">415</span></a>\n",
       "</pre>\n"
      ],
      "text/plain": [
       "\u001b[2;36m          \u001b[0m\u001b[2;36m \u001b[0mMETRIC   Round \u001b[1;36m2\u001b[0m, collaborator two is sending metric for task train: loss        \u001b[1;36m0.213697\u001b[0m                                         \u001b]8;id=868868;file://C:\\Users\\BHSU\\AppData\\Local\\Programs\\Python\\Python39\\lib\\site-packages\\openfl\\component\\collaborator\\collaborator.py\u001b\\\u001b[2mcollaborator.py\u001b[0m\u001b]8;;\u001b\\\u001b[2m:\u001b[0m\u001b]8;id=764891;file://C:\\Users\\BHSU\\AppData\\Local\\Programs\\Python\\Python39\\lib\\site-packages\\openfl\\component\\collaborator\\collaborator.py#415\u001b\\\u001b[2m415\u001b[0m\u001b]8;;\u001b\\\n"
      ]
     },
     "metadata": {},
     "output_type": "display_data"
    },
    {
     "data": {
      "text/html": [
       "<pre style=\"white-space:pre;overflow-x:auto;line-height:normal;font-family:Menlo,'DejaVu Sans Mono',consolas,'Courier New',monospace\"><span style=\"color: #7fbfbf; text-decoration-color: #7fbfbf\">           </span><span style=\"color: #000080; text-decoration-color: #000080\">INFO    </span> Collaborator two is sending task results for train, round <span style=\"color: #008080; text-decoration-color: #008080; font-weight: bold\">2</span>                                                                <a href=\"file://C:\\Users\\BHSU\\AppData\\Local\\Programs\\Python\\Python39\\lib\\site-packages\\openfl\\component\\aggregator\\aggregator.py\" target=\"_blank\"><span style=\"color: #7f7f7f; text-decoration-color: #7f7f7f\">aggregator.py</span></a><span style=\"color: #7f7f7f; text-decoration-color: #7f7f7f\">:</span><a href=\"file://C:\\Users\\BHSU\\AppData\\Local\\Programs\\Python\\Python39\\lib\\site-packages\\openfl\\component\\aggregator\\aggregator.py#520\" target=\"_blank\"><span style=\"color: #7f7f7f; text-decoration-color: #7f7f7f\">520</span></a>\n",
       "</pre>\n"
      ],
      "text/plain": [
       "\u001b[2;36m          \u001b[0m\u001b[2;36m \u001b[0m\u001b[34mINFO    \u001b[0m Collaborator two is sending task results for train, round \u001b[1;36m2\u001b[0m                                                                \u001b]8;id=860862;file://C:\\Users\\BHSU\\AppData\\Local\\Programs\\Python\\Python39\\lib\\site-packages\\openfl\\component\\aggregator\\aggregator.py\u001b\\\u001b[2maggregator.py\u001b[0m\u001b]8;;\u001b\\\u001b[2m:\u001b[0m\u001b]8;id=119041;file://C:\\Users\\BHSU\\AppData\\Local\\Programs\\Python\\Python39\\lib\\site-packages\\openfl\\component\\aggregator\\aggregator.py#520\u001b\\\u001b[2m520\u001b[0m\u001b]8;;\u001b\\\n"
      ]
     },
     "metadata": {},
     "output_type": "display_data"
    },
    {
     "data": {
      "text/html": [
       "<pre style=\"white-space:pre;overflow-x:auto;line-height:normal;font-family:Menlo,'DejaVu Sans Mono',consolas,'Courier New',monospace\"><span style=\"color: #7fbfbf; text-decoration-color: #7fbfbf\">           </span>METRIC   Round <span style=\"color: #008080; text-decoration-color: #008080; font-weight: bold\">2</span>, collaborator two train result loss:    <span style=\"color: #008080; text-decoration-color: #008080; font-weight: bold\">0.213697</span>                                                                   <a href=\"file://C:\\Users\\BHSU\\AppData\\Local\\Programs\\Python\\Python39\\lib\\site-packages\\openfl\\component\\aggregator\\aggregator.py\" target=\"_blank\"><span style=\"color: #7f7f7f; text-decoration-color: #7f7f7f\">aggregator.py</span></a><span style=\"color: #7f7f7f; text-decoration-color: #7f7f7f\">:</span><a href=\"file://C:\\Users\\BHSU\\AppData\\Local\\Programs\\Python\\Python39\\lib\\site-packages\\openfl\\component\\aggregator\\aggregator.py#559\" target=\"_blank\"><span style=\"color: #7f7f7f; text-decoration-color: #7f7f7f\">559</span></a>\n",
       "</pre>\n"
      ],
      "text/plain": [
       "\u001b[2;36m          \u001b[0m\u001b[2;36m \u001b[0mMETRIC   Round \u001b[1;36m2\u001b[0m, collaborator two train result loss:    \u001b[1;36m0.213697\u001b[0m                                                                   \u001b]8;id=965651;file://C:\\Users\\BHSU\\AppData\\Local\\Programs\\Python\\Python39\\lib\\site-packages\\openfl\\component\\aggregator\\aggregator.py\u001b\\\u001b[2maggregator.py\u001b[0m\u001b]8;;\u001b\\\u001b[2m:\u001b[0m\u001b]8;id=292173;file://C:\\Users\\BHSU\\AppData\\Local\\Programs\\Python\\Python39\\lib\\site-packages\\openfl\\component\\aggregator\\aggregator.py#559\u001b\\\u001b[2m559\u001b[0m\u001b]8;;\u001b\\\n"
      ]
     },
     "metadata": {},
     "output_type": "display_data"
    },
    {
     "data": {
      "text/html": [
       "<pre style=\"white-space:pre;overflow-x:auto;line-height:normal;font-family:Menlo,'DejaVu Sans Mono',consolas,'Courier New',monospace\"><span style=\"color: #7fbfbf; text-decoration-color: #7fbfbf\">           </span><span style=\"color: #000080; text-decoration-color: #000080\">INFO    </span> Using TaskRunner subclassing API                                                                                         <a href=\"file://C:\\Users\\BHSU\\AppData\\Local\\Programs\\Python\\Python39\\lib\\site-packages\\openfl\\component\\collaborator\\collaborator.py\" target=\"_blank\"><span style=\"color: #7f7f7f; text-decoration-color: #7f7f7f\">collaborator.py</span></a><span style=\"color: #7f7f7f; text-decoration-color: #7f7f7f\">:</span><a href=\"file://C:\\Users\\BHSU\\AppData\\Local\\Programs\\Python\\Python39\\lib\\site-packages\\openfl\\component\\collaborator\\collaborator.py#253\" target=\"_blank\"><span style=\"color: #7f7f7f; text-decoration-color: #7f7f7f\">253</span></a>\n",
       "</pre>\n"
      ],
      "text/plain": [
       "\u001b[2;36m          \u001b[0m\u001b[2;36m \u001b[0m\u001b[34mINFO    \u001b[0m Using TaskRunner subclassing API                                                                                         \u001b]8;id=395890;file://C:\\Users\\BHSU\\AppData\\Local\\Programs\\Python\\Python39\\lib\\site-packages\\openfl\\component\\collaborator\\collaborator.py\u001b\\\u001b[2mcollaborator.py\u001b[0m\u001b]8;;\u001b\\\u001b[2m:\u001b[0m\u001b]8;id=929865;file://C:\\Users\\BHSU\\AppData\\Local\\Programs\\Python\\Python39\\lib\\site-packages\\openfl\\component\\collaborator\\collaborator.py#253\u001b\\\u001b[2m253\u001b[0m\u001b]8;;\u001b\\\n"
      ]
     },
     "metadata": {},
     "output_type": "display_data"
    },
    {
     "name": "stdout",
     "output_type": "stream",
     "text": [
      "282/282 [==============================] - 0s 601us/step - loss: 0.2504 - accuracy: 0.9267\n"
     ]
    },
    {
     "data": {
      "text/html": [
       "<pre style=\"white-space:pre;overflow-x:auto;line-height:normal;font-family:Menlo,'DejaVu Sans Mono',consolas,'Courier New',monospace\"><span style=\"color: #7fbfbf; text-decoration-color: #7fbfbf\">           </span>METRIC   Round <span style=\"color: #008080; text-decoration-color: #008080; font-weight: bold\">2</span>, collaborator two is sending metric for task locally_tuned_model_validation: accuracy   <span style=\"color: #008080; text-decoration-color: #008080; font-weight: bold\">0.926667</span>                 <a href=\"file://C:\\Users\\BHSU\\AppData\\Local\\Programs\\Python\\Python39\\lib\\site-packages\\openfl\\component\\collaborator\\collaborator.py\" target=\"_blank\"><span style=\"color: #7f7f7f; text-decoration-color: #7f7f7f\">collaborator.py</span></a><span style=\"color: #7f7f7f; text-decoration-color: #7f7f7f\">:</span><a href=\"file://C:\\Users\\BHSU\\AppData\\Local\\Programs\\Python\\Python39\\lib\\site-packages\\openfl\\component\\collaborator\\collaborator.py#415\" target=\"_blank\"><span style=\"color: #7f7f7f; text-decoration-color: #7f7f7f\">415</span></a>\n",
       "</pre>\n"
      ],
      "text/plain": [
       "\u001b[2;36m          \u001b[0m\u001b[2;36m \u001b[0mMETRIC   Round \u001b[1;36m2\u001b[0m, collaborator two is sending metric for task locally_tuned_model_validation: accuracy   \u001b[1;36m0.926667\u001b[0m                 \u001b]8;id=263755;file://C:\\Users\\BHSU\\AppData\\Local\\Programs\\Python\\Python39\\lib\\site-packages\\openfl\\component\\collaborator\\collaborator.py\u001b\\\u001b[2mcollaborator.py\u001b[0m\u001b]8;;\u001b\\\u001b[2m:\u001b[0m\u001b]8;id=69201;file://C:\\Users\\BHSU\\AppData\\Local\\Programs\\Python\\Python39\\lib\\site-packages\\openfl\\component\\collaborator\\collaborator.py#415\u001b\\\u001b[2m415\u001b[0m\u001b]8;;\u001b\\\n"
      ]
     },
     "metadata": {},
     "output_type": "display_data"
    },
    {
     "data": {
      "text/html": [
       "<pre style=\"white-space:pre;overflow-x:auto;line-height:normal;font-family:Menlo,'DejaVu Sans Mono',consolas,'Courier New',monospace\"><span style=\"color: #7fbfbf; text-decoration-color: #7fbfbf\">           </span><span style=\"color: #000080; text-decoration-color: #000080\">INFO    </span> Collaborator two is sending task results for locally_tuned_model_validation, round <span style=\"color: #008080; text-decoration-color: #008080; font-weight: bold\">2</span>                                       <a href=\"file://C:\\Users\\BHSU\\AppData\\Local\\Programs\\Python\\Python39\\lib\\site-packages\\openfl\\component\\aggregator\\aggregator.py\" target=\"_blank\"><span style=\"color: #7f7f7f; text-decoration-color: #7f7f7f\">aggregator.py</span></a><span style=\"color: #7f7f7f; text-decoration-color: #7f7f7f\">:</span><a href=\"file://C:\\Users\\BHSU\\AppData\\Local\\Programs\\Python\\Python39\\lib\\site-packages\\openfl\\component\\aggregator\\aggregator.py#520\" target=\"_blank\"><span style=\"color: #7f7f7f; text-decoration-color: #7f7f7f\">520</span></a>\n",
       "</pre>\n"
      ],
      "text/plain": [
       "\u001b[2;36m          \u001b[0m\u001b[2;36m \u001b[0m\u001b[34mINFO    \u001b[0m Collaborator two is sending task results for locally_tuned_model_validation, round \u001b[1;36m2\u001b[0m                                       \u001b]8;id=560203;file://C:\\Users\\BHSU\\AppData\\Local\\Programs\\Python\\Python39\\lib\\site-packages\\openfl\\component\\aggregator\\aggregator.py\u001b\\\u001b[2maggregator.py\u001b[0m\u001b]8;;\u001b\\\u001b[2m:\u001b[0m\u001b]8;id=713540;file://C:\\Users\\BHSU\\AppData\\Local\\Programs\\Python\\Python39\\lib\\site-packages\\openfl\\component\\aggregator\\aggregator.py#520\u001b\\\u001b[2m520\u001b[0m\u001b]8;;\u001b\\\n"
      ]
     },
     "metadata": {},
     "output_type": "display_data"
    },
    {
     "data": {
      "text/html": [
       "<pre style=\"white-space:pre;overflow-x:auto;line-height:normal;font-family:Menlo,'DejaVu Sans Mono',consolas,'Courier New',monospace\"><span style=\"color: #7fbfbf; text-decoration-color: #7fbfbf\">           </span>METRIC   Round <span style=\"color: #008080; text-decoration-color: #008080; font-weight: bold\">2</span>, collaborator validate_local locally_tuned_model_validation result accuracy:    <span style=\"color: #008080; text-decoration-color: #008080; font-weight: bold\">0.926667</span>                           <a href=\"file://C:\\Users\\BHSU\\AppData\\Local\\Programs\\Python\\Python39\\lib\\site-packages\\openfl\\component\\aggregator\\aggregator.py\" target=\"_blank\"><span style=\"color: #7f7f7f; text-decoration-color: #7f7f7f\">aggregator.py</span></a><span style=\"color: #7f7f7f; text-decoration-color: #7f7f7f\">:</span><a href=\"file://C:\\Users\\BHSU\\AppData\\Local\\Programs\\Python\\Python39\\lib\\site-packages\\openfl\\component\\aggregator\\aggregator.py#559\" target=\"_blank\"><span style=\"color: #7f7f7f; text-decoration-color: #7f7f7f\">559</span></a>\n",
       "</pre>\n"
      ],
      "text/plain": [
       "\u001b[2;36m          \u001b[0m\u001b[2;36m \u001b[0mMETRIC   Round \u001b[1;36m2\u001b[0m, collaborator validate_local locally_tuned_model_validation result accuracy:    \u001b[1;36m0.926667\u001b[0m                           \u001b]8;id=923459;file://C:\\Users\\BHSU\\AppData\\Local\\Programs\\Python\\Python39\\lib\\site-packages\\openfl\\component\\aggregator\\aggregator.py\u001b\\\u001b[2maggregator.py\u001b[0m\u001b]8;;\u001b\\\u001b[2m:\u001b[0m\u001b]8;id=793348;file://C:\\Users\\BHSU\\AppData\\Local\\Programs\\Python\\Python39\\lib\\site-packages\\openfl\\component\\aggregator\\aggregator.py#559\u001b\\\u001b[2m559\u001b[0m\u001b]8;;\u001b\\\n"
      ]
     },
     "metadata": {},
     "output_type": "display_data"
    },
    {
     "data": {
      "text/html": [
       "<pre style=\"white-space:pre;overflow-x:auto;line-height:normal;font-family:Menlo,'DejaVu Sans Mono',consolas,'Courier New',monospace\"><span style=\"color: #7fbfbf; text-decoration-color: #7fbfbf\">           </span>METRIC   Round <span style=\"color: #008080; text-decoration-color: #008080; font-weight: bold\">2</span>, aggregator: train <span style=\"font-weight: bold\">&lt;</span><span style=\"color: #ff00ff; text-decoration-color: #ff00ff; font-weight: bold\">openfl.interface.aggregation_functions.weighted_average.WeightedAverage</span><span style=\"color: #000000; text-decoration-color: #000000\"> object at </span>             <a href=\"file://C:\\Users\\BHSU\\AppData\\Local\\Programs\\Python\\Python39\\lib\\site-packages\\openfl\\component\\aggregator\\aggregator.py\" target=\"_blank\"><span style=\"color: #7f7f7f; text-decoration-color: #7f7f7f\">aggregator.py</span></a><span style=\"color: #7f7f7f; text-decoration-color: #7f7f7f\">:</span><a href=\"file://C:\\Users\\BHSU\\AppData\\Local\\Programs\\Python\\Python39\\lib\\site-packages\\openfl\\component\\aggregator\\aggregator.py#842\" target=\"_blank\"><span style=\"color: #7f7f7f; text-decoration-color: #7f7f7f\">842</span></a>\n",
       "<span style=\"color: #7fbfbf; text-decoration-color: #7fbfbf\">           </span>         <span style=\"color: #008080; text-decoration-color: #008080; font-weight: bold\">0x000002302EDD6A60</span><span style=\"font-weight: bold\">&gt;</span> loss: <span style=\"color: #008080; text-decoration-color: #008080; font-weight: bold\">0.217891</span>                                                                                         <span style=\"color: #7f7f7f; text-decoration-color: #7f7f7f\">                 </span>\n",
       "</pre>\n"
      ],
      "text/plain": [
       "\u001b[2;36m          \u001b[0m\u001b[2;36m \u001b[0mMETRIC   Round \u001b[1;36m2\u001b[0m, aggregator: train \u001b[1m<\u001b[0m\u001b[1;95mopenfl.interface.aggregation_functions.weighted_average.WeightedAverage\u001b[0m\u001b[39m object at \u001b[0m             \u001b]8;id=247395;file://C:\\Users\\BHSU\\AppData\\Local\\Programs\\Python\\Python39\\lib\\site-packages\\openfl\\component\\aggregator\\aggregator.py\u001b\\\u001b[2maggregator.py\u001b[0m\u001b]8;;\u001b\\\u001b[2m:\u001b[0m\u001b]8;id=117604;file://C:\\Users\\BHSU\\AppData\\Local\\Programs\\Python\\Python39\\lib\\site-packages\\openfl\\component\\aggregator\\aggregator.py#842\u001b\\\u001b[2m842\u001b[0m\u001b]8;;\u001b\\\n",
       "\u001b[2;36m           \u001b[0m         \u001b[1;36m0x000002302EDD6A60\u001b[0m\u001b[1m>\u001b[0m loss: \u001b[1;36m0.217891\u001b[0m                                                                                         \u001b[2m                 \u001b[0m\n"
      ]
     },
     "metadata": {},
     "output_type": "display_data"
    },
    {
     "data": {
      "text/html": [
       "<pre style=\"white-space:pre;overflow-x:auto;line-height:normal;font-family:Menlo,'DejaVu Sans Mono',consolas,'Courier New',monospace\"><span style=\"color: #7fbfbf; text-decoration-color: #7fbfbf\">           </span>METRIC   Round <span style=\"color: #008080; text-decoration-color: #008080; font-weight: bold\">2</span>, aggregator: aggregated_model_validation <span style=\"font-weight: bold\">&lt;</span><span style=\"color: #ff00ff; text-decoration-color: #ff00ff; font-weight: bold\">openfl.interface.aggregation_functions.weighted_average.WeightedAverage</span><span style=\"color: #000000; text-decoration-color: #000000\"> </span> <a href=\"file://C:\\Users\\BHSU\\AppData\\Local\\Programs\\Python\\Python39\\lib\\site-packages\\openfl\\component\\aggregator\\aggregator.py\" target=\"_blank\"><span style=\"color: #7f7f7f; text-decoration-color: #7f7f7f\">aggregator.py</span></a><span style=\"color: #7f7f7f; text-decoration-color: #7f7f7f\">:</span><a href=\"file://C:\\Users\\BHSU\\AppData\\Local\\Programs\\Python\\Python39\\lib\\site-packages\\openfl\\component\\aggregator\\aggregator.py#842\" target=\"_blank\"><span style=\"color: #7f7f7f; text-decoration-color: #7f7f7f\">842</span></a>\n",
       "<span style=\"color: #7fbfbf; text-decoration-color: #7fbfbf\">           </span>         <span style=\"color: #000000; text-decoration-color: #000000\">object at </span><span style=\"color: #008080; text-decoration-color: #008080; font-weight: bold\">0x000002302EDD6A60</span><span style=\"font-weight: bold\">&gt;</span> accuracy:       <span style=\"color: #008080; text-decoration-color: #008080; font-weight: bold\">0.936000</span>                                                                     <span style=\"color: #7f7f7f; text-decoration-color: #7f7f7f\">                 </span>\n",
       "</pre>\n"
      ],
      "text/plain": [
       "\u001b[2;36m          \u001b[0m\u001b[2;36m \u001b[0mMETRIC   Round \u001b[1;36m2\u001b[0m, aggregator: aggregated_model_validation \u001b[1m<\u001b[0m\u001b[1;95mopenfl.interface.aggregation_functions.weighted_average.WeightedAverage\u001b[0m\u001b[39m \u001b[0m \u001b]8;id=62794;file://C:\\Users\\BHSU\\AppData\\Local\\Programs\\Python\\Python39\\lib\\site-packages\\openfl\\component\\aggregator\\aggregator.py\u001b\\\u001b[2maggregator.py\u001b[0m\u001b]8;;\u001b\\\u001b[2m:\u001b[0m\u001b]8;id=901614;file://C:\\Users\\BHSU\\AppData\\Local\\Programs\\Python\\Python39\\lib\\site-packages\\openfl\\component\\aggregator\\aggregator.py#842\u001b\\\u001b[2m842\u001b[0m\u001b]8;;\u001b\\\n",
       "\u001b[2;36m           \u001b[0m         \u001b[39mobject at \u001b[0m\u001b[1;36m0x000002302EDD6A60\u001b[0m\u001b[1m>\u001b[0m accuracy:       \u001b[1;36m0.936000\u001b[0m                                                                     \u001b[2m                 \u001b[0m\n"
      ]
     },
     "metadata": {},
     "output_type": "display_data"
    },
    {
     "data": {
      "text/html": [
       "<pre style=\"white-space:pre;overflow-x:auto;line-height:normal;font-family:Menlo,'DejaVu Sans Mono',consolas,'Courier New',monospace\"><span style=\"color: #7fbfbf; text-decoration-color: #7fbfbf\">           </span>METRIC   Round <span style=\"color: #008080; text-decoration-color: #008080; font-weight: bold\">2</span>: saved the best model with score <span style=\"color: #008080; text-decoration-color: #008080; font-weight: bold\">0.936000</span>                                                                          <a href=\"file://C:\\Users\\BHSU\\AppData\\Local\\Programs\\Python\\Python39\\lib\\site-packages\\openfl\\component\\aggregator\\aggregator.py\" target=\"_blank\"><span style=\"color: #7f7f7f; text-decoration-color: #7f7f7f\">aggregator.py</span></a><span style=\"color: #7f7f7f; text-decoration-color: #7f7f7f\">:</span><a href=\"file://C:\\Users\\BHSU\\AppData\\Local\\Programs\\Python\\Python39\\lib\\site-packages\\openfl\\component\\aggregator\\aggregator.py#858\" target=\"_blank\"><span style=\"color: #7f7f7f; text-decoration-color: #7f7f7f\">858</span></a>\n",
       "</pre>\n"
      ],
      "text/plain": [
       "\u001b[2;36m          \u001b[0m\u001b[2;36m \u001b[0mMETRIC   Round \u001b[1;36m2\u001b[0m: saved the best model with score \u001b[1;36m0.936000\u001b[0m                                                                          \u001b]8;id=156350;file://C:\\Users\\BHSU\\AppData\\Local\\Programs\\Python\\Python39\\lib\\site-packages\\openfl\\component\\aggregator\\aggregator.py\u001b\\\u001b[2maggregator.py\u001b[0m\u001b]8;;\u001b\\\u001b[2m:\u001b[0m\u001b]8;id=343304;file://C:\\Users\\BHSU\\AppData\\Local\\Programs\\Python\\Python39\\lib\\site-packages\\openfl\\component\\aggregator\\aggregator.py#858\u001b\\\u001b[2m858\u001b[0m\u001b]8;;\u001b\\\n"
      ]
     },
     "metadata": {},
     "output_type": "display_data"
    },
    {
     "data": {
      "text/html": [
       "<pre style=\"white-space:pre;overflow-x:auto;line-height:normal;font-family:Menlo,'DejaVu Sans Mono',consolas,'Courier New',monospace\"><span style=\"color: #7fbfbf; text-decoration-color: #7fbfbf\">           </span>METRIC   Round <span style=\"color: #008080; text-decoration-color: #008080; font-weight: bold\">2</span>, aggregator: locally_tuned_model_validation                                                                        <a href=\"file://C:\\Users\\BHSU\\AppData\\Local\\Programs\\Python\\Python39\\lib\\site-packages\\openfl\\component\\aggregator\\aggregator.py\" target=\"_blank\"><span style=\"color: #7f7f7f; text-decoration-color: #7f7f7f\">aggregator.py</span></a><span style=\"color: #7f7f7f; text-decoration-color: #7f7f7f\">:</span><a href=\"file://C:\\Users\\BHSU\\AppData\\Local\\Programs\\Python\\Python39\\lib\\site-packages\\openfl\\component\\aggregator\\aggregator.py#842\" target=\"_blank\"><span style=\"color: #7f7f7f; text-decoration-color: #7f7f7f\">842</span></a>\n",
       "<span style=\"color: #7fbfbf; text-decoration-color: #7fbfbf\">           </span>         <span style=\"font-weight: bold\">&lt;</span><span style=\"color: #ff00ff; text-decoration-color: #ff00ff; font-weight: bold\">openfl.interface.aggregation_functions.weighted_average.WeightedAverage</span><span style=\"color: #000000; text-decoration-color: #000000\"> object at </span><span style=\"color: #008080; text-decoration-color: #008080; font-weight: bold\">0x000002302EDD6A60</span><span style=\"font-weight: bold\">&gt;</span> accuracy:           <span style=\"color: #7f7f7f; text-decoration-color: #7f7f7f\">                 </span>\n",
       "<span style=\"color: #7fbfbf; text-decoration-color: #7fbfbf\">           </span>         <span style=\"color: #008080; text-decoration-color: #008080; font-weight: bold\">0.931167</span>                                                                                                                   <span style=\"color: #7f7f7f; text-decoration-color: #7f7f7f\">                 </span>\n",
       "</pre>\n"
      ],
      "text/plain": [
       "\u001b[2;36m          \u001b[0m\u001b[2;36m \u001b[0mMETRIC   Round \u001b[1;36m2\u001b[0m, aggregator: locally_tuned_model_validation                                                                        \u001b]8;id=223309;file://C:\\Users\\BHSU\\AppData\\Local\\Programs\\Python\\Python39\\lib\\site-packages\\openfl\\component\\aggregator\\aggregator.py\u001b\\\u001b[2maggregator.py\u001b[0m\u001b]8;;\u001b\\\u001b[2m:\u001b[0m\u001b]8;id=264405;file://C:\\Users\\BHSU\\AppData\\Local\\Programs\\Python\\Python39\\lib\\site-packages\\openfl\\component\\aggregator\\aggregator.py#842\u001b\\\u001b[2m842\u001b[0m\u001b]8;;\u001b\\\n",
       "\u001b[2;36m           \u001b[0m         \u001b[1m<\u001b[0m\u001b[1;95mopenfl.interface.aggregation_functions.weighted_average.WeightedAverage\u001b[0m\u001b[39m object at \u001b[0m\u001b[1;36m0x000002302EDD6A60\u001b[0m\u001b[1m>\u001b[0m accuracy:           \u001b[2m                 \u001b[0m\n",
       "\u001b[2;36m           \u001b[0m         \u001b[1;36m0.931167\u001b[0m                                                                                                                   \u001b[2m                 \u001b[0m\n"
      ]
     },
     "metadata": {},
     "output_type": "display_data"
    },
    {
     "data": {
      "text/html": [
       "<pre style=\"white-space:pre;overflow-x:auto;line-height:normal;font-family:Menlo,'DejaVu Sans Mono',consolas,'Courier New',monospace\"><span style=\"color: #7fbfbf; text-decoration-color: #7fbfbf\">           </span><span style=\"color: #000080; text-decoration-color: #000080\">INFO    </span> Saving round <span style=\"color: #008080; text-decoration-color: #008080; font-weight: bold\">3</span> model<span style=\"color: #808000; text-decoration-color: #808000\">...</span>                                                                                                    <a href=\"file://C:\\Users\\BHSU\\AppData\\Local\\Programs\\Python\\Python39\\lib\\site-packages\\openfl\\component\\aggregator\\aggregator.py\" target=\"_blank\"><span style=\"color: #7f7f7f; text-decoration-color: #7f7f7f\">aggregator.py</span></a><span style=\"color: #7f7f7f; text-decoration-color: #7f7f7f\">:</span><a href=\"file://C:\\Users\\BHSU\\AppData\\Local\\Programs\\Python\\Python39\\lib\\site-packages\\openfl\\component\\aggregator\\aggregator.py#894\" target=\"_blank\"><span style=\"color: #7f7f7f; text-decoration-color: #7f7f7f\">894</span></a>\n",
       "</pre>\n"
      ],
      "text/plain": [
       "\u001b[2;36m          \u001b[0m\u001b[2;36m \u001b[0m\u001b[34mINFO    \u001b[0m Saving round \u001b[1;36m3\u001b[0m model\u001b[33m...\u001b[0m                                                                                                    \u001b]8;id=972913;file://C:\\Users\\BHSU\\AppData\\Local\\Programs\\Python\\Python39\\lib\\site-packages\\openfl\\component\\aggregator\\aggregator.py\u001b\\\u001b[2maggregator.py\u001b[0m\u001b]8;;\u001b\\\u001b[2m:\u001b[0m\u001b]8;id=591857;file://C:\\Users\\BHSU\\AppData\\Local\\Programs\\Python\\Python39\\lib\\site-packages\\openfl\\component\\aggregator\\aggregator.py#894\u001b\\\u001b[2m894\u001b[0m\u001b]8;;\u001b\\\n"
      ]
     },
     "metadata": {},
     "output_type": "display_data"
    },
    {
     "data": {
      "text/html": [
       "<pre style=\"white-space:pre;overflow-x:auto;line-height:normal;font-family:Menlo,'DejaVu Sans Mono',consolas,'Courier New',monospace\"><span style=\"color: #7fbfbf; text-decoration-color: #7fbfbf\">[10:46:30] </span><span style=\"color: #000080; text-decoration-color: #000080\">INFO    </span> Starting round <span style=\"color: #008080; text-decoration-color: #008080; font-weight: bold\">3</span><span style=\"color: #808000; text-decoration-color: #808000\">...</span>                                                                                                        <a href=\"file://C:\\Users\\BHSU\\AppData\\Local\\Programs\\Python\\Python39\\lib\\site-packages\\openfl\\component\\aggregator\\aggregator.py\" target=\"_blank\"><span style=\"color: #7f7f7f; text-decoration-color: #7f7f7f\">aggregator.py</span></a><span style=\"color: #7f7f7f; text-decoration-color: #7f7f7f\">:</span><a href=\"file://C:\\Users\\BHSU\\AppData\\Local\\Programs\\Python\\Python39\\lib\\site-packages\\openfl\\component\\aggregator\\aggregator.py#901\" target=\"_blank\"><span style=\"color: #7f7f7f; text-decoration-color: #7f7f7f\">901</span></a>\n",
       "</pre>\n"
      ],
      "text/plain": [
       "\u001b[2;36m[10:46:30]\u001b[0m\u001b[2;36m \u001b[0m\u001b[34mINFO    \u001b[0m Starting round \u001b[1;36m3\u001b[0m\u001b[33m...\u001b[0m                                                                                                        \u001b]8;id=314115;file://C:\\Users\\BHSU\\AppData\\Local\\Programs\\Python\\Python39\\lib\\site-packages\\openfl\\component\\aggregator\\aggregator.py\u001b\\\u001b[2maggregator.py\u001b[0m\u001b]8;;\u001b\\\u001b[2m:\u001b[0m\u001b]8;id=555894;file://C:\\Users\\BHSU\\AppData\\Local\\Programs\\Python\\Python39\\lib\\site-packages\\openfl\\component\\aggregator\\aggregator.py#901\u001b\\\u001b[2m901\u001b[0m\u001b]8;;\u001b\\\n"
      ]
     },
     "metadata": {},
     "output_type": "display_data"
    },
    {
     "data": {
      "text/html": [
       "<pre style=\"white-space:pre;overflow-x:auto;line-height:normal;font-family:Menlo,'DejaVu Sans Mono',consolas,'Courier New',monospace\"><span style=\"color: #7fbfbf; text-decoration-color: #7fbfbf\">           </span><span style=\"color: #000080; text-decoration-color: #000080\">INFO    </span> All tasks completed on two for round <span style=\"color: #008080; text-decoration-color: #008080; font-weight: bold\">2</span><span style=\"color: #808000; text-decoration-color: #808000\">...</span>                                                                                <a href=\"file://C:\\Users\\BHSU\\AppData\\Local\\Programs\\Python\\Python39\\lib\\site-packages\\openfl\\component\\collaborator\\collaborator.py\" target=\"_blank\"><span style=\"color: #7f7f7f; text-decoration-color: #7f7f7f\">collaborator.py</span></a><span style=\"color: #7f7f7f; text-decoration-color: #7f7f7f\">:</span><a href=\"file://C:\\Users\\BHSU\\AppData\\Local\\Programs\\Python\\Python39\\lib\\site-packages\\openfl\\component\\collaborator\\collaborator.py#171\" target=\"_blank\"><span style=\"color: #7f7f7f; text-decoration-color: #7f7f7f\">171</span></a>\n",
       "</pre>\n"
      ],
      "text/plain": [
       "\u001b[2;36m          \u001b[0m\u001b[2;36m \u001b[0m\u001b[34mINFO    \u001b[0m All tasks completed on two for round \u001b[1;36m2\u001b[0m\u001b[33m...\u001b[0m                                                                                \u001b]8;id=351250;file://C:\\Users\\BHSU\\AppData\\Local\\Programs\\Python\\Python39\\lib\\site-packages\\openfl\\component\\collaborator\\collaborator.py\u001b\\\u001b[2mcollaborator.py\u001b[0m\u001b]8;;\u001b\\\u001b[2m:\u001b[0m\u001b]8;id=570994;file://C:\\Users\\BHSU\\AppData\\Local\\Programs\\Python\\Python39\\lib\\site-packages\\openfl\\component\\collaborator\\collaborator.py#171\u001b\\\u001b[2m171\u001b[0m\u001b]8;;\u001b\\\n"
      ]
     },
     "metadata": {},
     "output_type": "display_data"
    },
    {
     "data": {
      "text/html": [
       "<pre style=\"white-space:pre;overflow-x:auto;line-height:normal;font-family:Menlo,'DejaVu Sans Mono',consolas,'Courier New',monospace\"><span style=\"color: #7fbfbf; text-decoration-color: #7fbfbf\">           </span><span style=\"color: #000080; text-decoration-color: #000080\">INFO    </span> Waiting for tasks<span style=\"color: #808000; text-decoration-color: #808000\">...</span>                                                                                                     <a href=\"file://C:\\Users\\BHSU\\AppData\\Local\\Programs\\Python\\Python39\\lib\\site-packages\\openfl\\component\\collaborator\\collaborator.py\" target=\"_blank\"><span style=\"color: #7f7f7f; text-decoration-color: #7f7f7f\">collaborator.py</span></a><span style=\"color: #7f7f7f; text-decoration-color: #7f7f7f\">:</span><a href=\"file://C:\\Users\\BHSU\\AppData\\Local\\Programs\\Python\\Python39\\lib\\site-packages\\openfl\\component\\collaborator\\collaborator.py#178\" target=\"_blank\"><span style=\"color: #7f7f7f; text-decoration-color: #7f7f7f\">178</span></a>\n",
       "</pre>\n"
      ],
      "text/plain": [
       "\u001b[2;36m          \u001b[0m\u001b[2;36m \u001b[0m\u001b[34mINFO    \u001b[0m Waiting for tasks\u001b[33m...\u001b[0m                                                                                                     \u001b]8;id=884796;file://C:\\Users\\BHSU\\AppData\\Local\\Programs\\Python\\Python39\\lib\\site-packages\\openfl\\component\\collaborator\\collaborator.py\u001b\\\u001b[2mcollaborator.py\u001b[0m\u001b]8;;\u001b\\\u001b[2m:\u001b[0m\u001b]8;id=686419;file://C:\\Users\\BHSU\\AppData\\Local\\Programs\\Python\\Python39\\lib\\site-packages\\openfl\\component\\collaborator\\collaborator.py#178\u001b\\\u001b[2m178\u001b[0m\u001b]8;;\u001b\\\n"
      ]
     },
     "metadata": {},
     "output_type": "display_data"
    },
    {
     "data": {
      "text/html": [
       "<pre style=\"white-space:pre;overflow-x:auto;line-height:normal;font-family:Menlo,'DejaVu Sans Mono',consolas,'Courier New',monospace\"><span style=\"color: #7fbfbf; text-decoration-color: #7fbfbf\">           </span><span style=\"color: #000080; text-decoration-color: #000080\">INFO    </span> Sending tasks to collaborator one for round <span style=\"color: #008080; text-decoration-color: #008080; font-weight: bold\">3</span>                                                                              <a href=\"file://C:\\Users\\BHSU\\AppData\\Local\\Programs\\Python\\Python39\\lib\\site-packages\\openfl\\component\\aggregator\\aggregator.py\" target=\"_blank\"><span style=\"color: #7f7f7f; text-decoration-color: #7f7f7f\">aggregator.py</span></a><span style=\"color: #7f7f7f; text-decoration-color: #7f7f7f\">:</span><a href=\"file://C:\\Users\\BHSU\\AppData\\Local\\Programs\\Python\\Python39\\lib\\site-packages\\openfl\\component\\aggregator\\aggregator.py#329\" target=\"_blank\"><span style=\"color: #7f7f7f; text-decoration-color: #7f7f7f\">329</span></a>\n",
       "</pre>\n"
      ],
      "text/plain": [
       "\u001b[2;36m          \u001b[0m\u001b[2;36m \u001b[0m\u001b[34mINFO    \u001b[0m Sending tasks to collaborator one for round \u001b[1;36m3\u001b[0m                                                                              \u001b]8;id=389837;file://C:\\Users\\BHSU\\AppData\\Local\\Programs\\Python\\Python39\\lib\\site-packages\\openfl\\component\\aggregator\\aggregator.py\u001b\\\u001b[2maggregator.py\u001b[0m\u001b]8;;\u001b\\\u001b[2m:\u001b[0m\u001b]8;id=654645;file://C:\\Users\\BHSU\\AppData\\Local\\Programs\\Python\\Python39\\lib\\site-packages\\openfl\\component\\aggregator\\aggregator.py#329\u001b\\\u001b[2m329\u001b[0m\u001b]8;;\u001b\\\n"
      ]
     },
     "metadata": {},
     "output_type": "display_data"
    },
    {
     "data": {
      "text/html": [
       "<pre style=\"white-space:pre;overflow-x:auto;line-height:normal;font-family:Menlo,'DejaVu Sans Mono',consolas,'Courier New',monospace\"><span style=\"color: #7fbfbf; text-decoration-color: #7fbfbf\">           </span><span style=\"color: #000080; text-decoration-color: #000080\">INFO    </span> Received the following tasks: <span style=\"font-weight: bold\">[</span><span style=\"color: #008000; text-decoration-color: #008000\">'aggregated_model_validation'</span>, <span style=\"color: #008000; text-decoration-color: #008000\">'train'</span>, <span style=\"color: #008000; text-decoration-color: #008000\">'locally_tuned_model_validation'</span><span style=\"font-weight: bold\">]</span>                 <a href=\"file://C:\\Users\\BHSU\\AppData\\Local\\Programs\\Python\\Python39\\lib\\site-packages\\openfl\\component\\collaborator\\collaborator.py\" target=\"_blank\"><span style=\"color: #7f7f7f; text-decoration-color: #7f7f7f\">collaborator.py</span></a><span style=\"color: #7f7f7f; text-decoration-color: #7f7f7f\">:</span><a href=\"file://C:\\Users\\BHSU\\AppData\\Local\\Programs\\Python\\Python39\\lib\\site-packages\\openfl\\component\\collaborator\\collaborator.py#168\" target=\"_blank\"><span style=\"color: #7f7f7f; text-decoration-color: #7f7f7f\">168</span></a>\n",
       "</pre>\n"
      ],
      "text/plain": [
       "\u001b[2;36m          \u001b[0m\u001b[2;36m \u001b[0m\u001b[34mINFO    \u001b[0m Received the following tasks: \u001b[1m[\u001b[0m\u001b[32m'aggregated_model_validation'\u001b[0m, \u001b[32m'train'\u001b[0m, \u001b[32m'locally_tuned_model_validation'\u001b[0m\u001b[1m]\u001b[0m                 \u001b]8;id=870495;file://C:\\Users\\BHSU\\AppData\\Local\\Programs\\Python\\Python39\\lib\\site-packages\\openfl\\component\\collaborator\\collaborator.py\u001b\\\u001b[2mcollaborator.py\u001b[0m\u001b]8;;\u001b\\\u001b[2m:\u001b[0m\u001b]8;id=669384;file://C:\\Users\\BHSU\\AppData\\Local\\Programs\\Python\\Python39\\lib\\site-packages\\openfl\\component\\collaborator\\collaborator.py#168\u001b\\\u001b[2m168\u001b[0m\u001b]8;;\u001b\\\n"
      ]
     },
     "metadata": {},
     "output_type": "display_data"
    },
    {
     "data": {
      "text/html": [
       "<pre style=\"white-space:pre;overflow-x:auto;line-height:normal;font-family:Menlo,'DejaVu Sans Mono',consolas,'Courier New',monospace\"><span style=\"color: #7fbfbf; text-decoration-color: #7fbfbf\">           </span><span style=\"color: #000080; text-decoration-color: #000080\">INFO    </span> Using TaskRunner subclassing API                                                                                         <a href=\"file://C:\\Users\\BHSU\\AppData\\Local\\Programs\\Python\\Python39\\lib\\site-packages\\openfl\\component\\collaborator\\collaborator.py\" target=\"_blank\"><span style=\"color: #7f7f7f; text-decoration-color: #7f7f7f\">collaborator.py</span></a><span style=\"color: #7f7f7f; text-decoration-color: #7f7f7f\">:</span><a href=\"file://C:\\Users\\BHSU\\AppData\\Local\\Programs\\Python\\Python39\\lib\\site-packages\\openfl\\component\\collaborator\\collaborator.py#253\" target=\"_blank\"><span style=\"color: #7f7f7f; text-decoration-color: #7f7f7f\">253</span></a>\n",
       "</pre>\n"
      ],
      "text/plain": [
       "\u001b[2;36m          \u001b[0m\u001b[2;36m \u001b[0m\u001b[34mINFO    \u001b[0m Using TaskRunner subclassing API                                                                                         \u001b]8;id=944550;file://C:\\Users\\BHSU\\AppData\\Local\\Programs\\Python\\Python39\\lib\\site-packages\\openfl\\component\\collaborator\\collaborator.py\u001b\\\u001b[2mcollaborator.py\u001b[0m\u001b]8;;\u001b\\\u001b[2m:\u001b[0m\u001b]8;id=862146;file://C:\\Users\\BHSU\\AppData\\Local\\Programs\\Python\\Python39\\lib\\site-packages\\openfl\\component\\collaborator\\collaborator.py#253\u001b\\\u001b[2m253\u001b[0m\u001b]8;;\u001b\\\n"
      ]
     },
     "metadata": {},
     "output_type": "display_data"
    },
    {
     "name": "stdout",
     "output_type": "stream",
     "text": [
      "282/282 [==============================] - 0s 569us/step - loss: 0.1926 - accuracy: 0.9436\n"
     ]
    },
    {
     "data": {
      "text/html": [
       "<pre style=\"white-space:pre;overflow-x:auto;line-height:normal;font-family:Menlo,'DejaVu Sans Mono',consolas,'Courier New',monospace\"><span style=\"color: #7fbfbf; text-decoration-color: #7fbfbf\">           </span>METRIC   Round <span style=\"color: #008080; text-decoration-color: #008080; font-weight: bold\">3</span>, collaborator one is sending metric for task aggregated_model_validation: accuracy      <span style=\"color: #008080; text-decoration-color: #008080; font-weight: bold\">0.943556</span>                 <a href=\"file://C:\\Users\\BHSU\\AppData\\Local\\Programs\\Python\\Python39\\lib\\site-packages\\openfl\\component\\collaborator\\collaborator.py\" target=\"_blank\"><span style=\"color: #7f7f7f; text-decoration-color: #7f7f7f\">collaborator.py</span></a><span style=\"color: #7f7f7f; text-decoration-color: #7f7f7f\">:</span><a href=\"file://C:\\Users\\BHSU\\AppData\\Local\\Programs\\Python\\Python39\\lib\\site-packages\\openfl\\component\\collaborator\\collaborator.py#415\" target=\"_blank\"><span style=\"color: #7f7f7f; text-decoration-color: #7f7f7f\">415</span></a>\n",
       "</pre>\n"
      ],
      "text/plain": [
       "\u001b[2;36m          \u001b[0m\u001b[2;36m \u001b[0mMETRIC   Round \u001b[1;36m3\u001b[0m, collaborator one is sending metric for task aggregated_model_validation: accuracy      \u001b[1;36m0.943556\u001b[0m                 \u001b]8;id=798246;file://C:\\Users\\BHSU\\AppData\\Local\\Programs\\Python\\Python39\\lib\\site-packages\\openfl\\component\\collaborator\\collaborator.py\u001b\\\u001b[2mcollaborator.py\u001b[0m\u001b]8;;\u001b\\\u001b[2m:\u001b[0m\u001b]8;id=156118;file://C:\\Users\\BHSU\\AppData\\Local\\Programs\\Python\\Python39\\lib\\site-packages\\openfl\\component\\collaborator\\collaborator.py#415\u001b\\\u001b[2m415\u001b[0m\u001b]8;;\u001b\\\n"
      ]
     },
     "metadata": {},
     "output_type": "display_data"
    },
    {
     "data": {
      "text/html": [
       "<pre style=\"white-space:pre;overflow-x:auto;line-height:normal;font-family:Menlo,'DejaVu Sans Mono',consolas,'Courier New',monospace\"><span style=\"color: #7fbfbf; text-decoration-color: #7fbfbf\">           </span><span style=\"color: #000080; text-decoration-color: #000080\">INFO    </span> Collaborator one is sending task results for aggregated_model_validation, round <span style=\"color: #008080; text-decoration-color: #008080; font-weight: bold\">3</span>                                          <a href=\"file://C:\\Users\\BHSU\\AppData\\Local\\Programs\\Python\\Python39\\lib\\site-packages\\openfl\\component\\aggregator\\aggregator.py\" target=\"_blank\"><span style=\"color: #7f7f7f; text-decoration-color: #7f7f7f\">aggregator.py</span></a><span style=\"color: #7f7f7f; text-decoration-color: #7f7f7f\">:</span><a href=\"file://C:\\Users\\BHSU\\AppData\\Local\\Programs\\Python\\Python39\\lib\\site-packages\\openfl\\component\\aggregator\\aggregator.py#520\" target=\"_blank\"><span style=\"color: #7f7f7f; text-decoration-color: #7f7f7f\">520</span></a>\n",
       "</pre>\n"
      ],
      "text/plain": [
       "\u001b[2;36m          \u001b[0m\u001b[2;36m \u001b[0m\u001b[34mINFO    \u001b[0m Collaborator one is sending task results for aggregated_model_validation, round \u001b[1;36m3\u001b[0m                                          \u001b]8;id=723413;file://C:\\Users\\BHSU\\AppData\\Local\\Programs\\Python\\Python39\\lib\\site-packages\\openfl\\component\\aggregator\\aggregator.py\u001b\\\u001b[2maggregator.py\u001b[0m\u001b]8;;\u001b\\\u001b[2m:\u001b[0m\u001b]8;id=604988;file://C:\\Users\\BHSU\\AppData\\Local\\Programs\\Python\\Python39\\lib\\site-packages\\openfl\\component\\aggregator\\aggregator.py#520\u001b\\\u001b[2m520\u001b[0m\u001b]8;;\u001b\\\n"
      ]
     },
     "metadata": {},
     "output_type": "display_data"
    },
    {
     "data": {
      "text/html": [
       "<pre style=\"white-space:pre;overflow-x:auto;line-height:normal;font-family:Menlo,'DejaVu Sans Mono',consolas,'Courier New',monospace\"><span style=\"color: #7fbfbf; text-decoration-color: #7fbfbf\">           </span>METRIC   Round <span style=\"color: #008080; text-decoration-color: #008080; font-weight: bold\">3</span>, collaborator validate_agg aggregated_model_validation result accuracy: <span style=\"color: #008080; text-decoration-color: #008080; font-weight: bold\">0.943556</span>                                   <a href=\"file://C:\\Users\\BHSU\\AppData\\Local\\Programs\\Python\\Python39\\lib\\site-packages\\openfl\\component\\aggregator\\aggregator.py\" target=\"_blank\"><span style=\"color: #7f7f7f; text-decoration-color: #7f7f7f\">aggregator.py</span></a><span style=\"color: #7f7f7f; text-decoration-color: #7f7f7f\">:</span><a href=\"file://C:\\Users\\BHSU\\AppData\\Local\\Programs\\Python\\Python39\\lib\\site-packages\\openfl\\component\\aggregator\\aggregator.py#559\" target=\"_blank\"><span style=\"color: #7f7f7f; text-decoration-color: #7f7f7f\">559</span></a>\n",
       "</pre>\n"
      ],
      "text/plain": [
       "\u001b[2;36m          \u001b[0m\u001b[2;36m \u001b[0mMETRIC   Round \u001b[1;36m3\u001b[0m, collaborator validate_agg aggregated_model_validation result accuracy: \u001b[1;36m0.943556\u001b[0m                                   \u001b]8;id=561372;file://C:\\Users\\BHSU\\AppData\\Local\\Programs\\Python\\Python39\\lib\\site-packages\\openfl\\component\\aggregator\\aggregator.py\u001b\\\u001b[2maggregator.py\u001b[0m\u001b]8;;\u001b\\\u001b[2m:\u001b[0m\u001b]8;id=356643;file://C:\\Users\\BHSU\\AppData\\Local\\Programs\\Python\\Python39\\lib\\site-packages\\openfl\\component\\aggregator\\aggregator.py#559\u001b\\\u001b[2m559\u001b[0m\u001b]8;;\u001b\\\n"
      ]
     },
     "metadata": {},
     "output_type": "display_data"
    },
    {
     "data": {
      "text/html": [
       "<pre style=\"white-space:pre;overflow-x:auto;line-height:normal;font-family:Menlo,'DejaVu Sans Mono',consolas,'Courier New',monospace\"><span style=\"color: #7fbfbf; text-decoration-color: #7fbfbf\">           </span><span style=\"color: #000080; text-decoration-color: #000080\">INFO    </span> Using TaskRunner subclassing API                                                                                         <a href=\"file://C:\\Users\\BHSU\\AppData\\Local\\Programs\\Python\\Python39\\lib\\site-packages\\openfl\\component\\collaborator\\collaborator.py\" target=\"_blank\"><span style=\"color: #7f7f7f; text-decoration-color: #7f7f7f\">collaborator.py</span></a><span style=\"color: #7f7f7f; text-decoration-color: #7f7f7f\">:</span><a href=\"file://C:\\Users\\BHSU\\AppData\\Local\\Programs\\Python\\Python39\\lib\\site-packages\\openfl\\component\\collaborator\\collaborator.py#253\" target=\"_blank\"><span style=\"color: #7f7f7f; text-decoration-color: #7f7f7f\">253</span></a>\n",
       "</pre>\n"
      ],
      "text/plain": [
       "\u001b[2;36m          \u001b[0m\u001b[2;36m \u001b[0m\u001b[34mINFO    \u001b[0m Using TaskRunner subclassing API                                                                                         \u001b]8;id=968574;file://C:\\Users\\BHSU\\AppData\\Local\\Programs\\Python\\Python39\\lib\\site-packages\\openfl\\component\\collaborator\\collaborator.py\u001b\\\u001b[2mcollaborator.py\u001b[0m\u001b]8;;\u001b\\\u001b[2m:\u001b[0m\u001b]8;id=409404;file://C:\\Users\\BHSU\\AppData\\Local\\Programs\\Python\\Python39\\lib\\site-packages\\openfl\\component\\collaborator\\collaborator.py#253\u001b\\\u001b[2m253\u001b[0m\u001b]8;;\u001b\\\n"
      ]
     },
     "metadata": {},
     "output_type": "display_data"
    },
    {
     "data": {
      "text/html": [
       "<pre style=\"white-space:pre;overflow-x:auto;line-height:normal;font-family:Menlo,'DejaVu Sans Mono',consolas,'Courier New',monospace\"><span style=\"color: #7fbfbf; text-decoration-color: #7fbfbf\">           </span><span style=\"color: #000080; text-decoration-color: #000080\">INFO    </span> Run <span style=\"color: #008080; text-decoration-color: #008080; font-weight: bold\">0</span> epoch of <span style=\"color: #008080; text-decoration-color: #008080; font-weight: bold\">3</span> round                                                                                                    <a href=\"file://C:\\Users\\BHSU\\AppData\\Local\\Programs\\Python\\Python39\\lib\\site-packages\\openfl\\federated\\task\\runner_keras.py\" target=\"_blank\"><span style=\"color: #7f7f7f; text-decoration-color: #7f7f7f\">runner_keras.py</span></a><span style=\"color: #7f7f7f; text-decoration-color: #7f7f7f\">:</span><a href=\"file://C:\\Users\\BHSU\\AppData\\Local\\Programs\\Python\\Python39\\lib\\site-packages\\openfl\\federated\\task\\runner_keras.py#83\" target=\"_blank\"><span style=\"color: #7f7f7f; text-decoration-color: #7f7f7f\">83</span></a>\n",
       "</pre>\n"
      ],
      "text/plain": [
       "\u001b[2;36m          \u001b[0m\u001b[2;36m \u001b[0m\u001b[34mINFO    \u001b[0m Run \u001b[1;36m0\u001b[0m epoch of \u001b[1;36m3\u001b[0m round                                                                                                    \u001b]8;id=799419;file://C:\\Users\\BHSU\\AppData\\Local\\Programs\\Python\\Python39\\lib\\site-packages\\openfl\\federated\\task\\runner_keras.py\u001b\\\u001b[2mrunner_keras.py\u001b[0m\u001b]8;;\u001b\\\u001b[2m:\u001b[0m\u001b]8;id=369067;file://C:\\Users\\BHSU\\AppData\\Local\\Programs\\Python\\Python39\\lib\\site-packages\\openfl\\federated\\task\\runner_keras.py#83\u001b\\\u001b[2m83\u001b[0m\u001b]8;;\u001b\\\n"
      ]
     },
     "metadata": {},
     "output_type": "display_data"
    },
    {
     "name": "stdout",
     "output_type": "stream",
     "text": [
      "657/657 [==============================] - 0s 631us/step - loss: 0.1870 - accuracy: 0.9432\n"
     ]
    },
    {
     "data": {
      "text/html": [
       "<pre style=\"white-space:pre;overflow-x:auto;line-height:normal;font-family:Menlo,'DejaVu Sans Mono',consolas,'Courier New',monospace\"><span style=\"color: #7fbfbf; text-decoration-color: #7fbfbf\">           </span>METRIC   Round <span style=\"color: #008080; text-decoration-color: #008080; font-weight: bold\">3</span>, collaborator one is sending metric for task train: loss        <span style=\"color: #008080; text-decoration-color: #008080; font-weight: bold\">0.187049</span>                                         <a href=\"file://C:\\Users\\BHSU\\AppData\\Local\\Programs\\Python\\Python39\\lib\\site-packages\\openfl\\component\\collaborator\\collaborator.py\" target=\"_blank\"><span style=\"color: #7f7f7f; text-decoration-color: #7f7f7f\">collaborator.py</span></a><span style=\"color: #7f7f7f; text-decoration-color: #7f7f7f\">:</span><a href=\"file://C:\\Users\\BHSU\\AppData\\Local\\Programs\\Python\\Python39\\lib\\site-packages\\openfl\\component\\collaborator\\collaborator.py#415\" target=\"_blank\"><span style=\"color: #7f7f7f; text-decoration-color: #7f7f7f\">415</span></a>\n",
       "</pre>\n"
      ],
      "text/plain": [
       "\u001b[2;36m          \u001b[0m\u001b[2;36m \u001b[0mMETRIC   Round \u001b[1;36m3\u001b[0m, collaborator one is sending metric for task train: loss        \u001b[1;36m0.187049\u001b[0m                                         \u001b]8;id=802700;file://C:\\Users\\BHSU\\AppData\\Local\\Programs\\Python\\Python39\\lib\\site-packages\\openfl\\component\\collaborator\\collaborator.py\u001b\\\u001b[2mcollaborator.py\u001b[0m\u001b]8;;\u001b\\\u001b[2m:\u001b[0m\u001b]8;id=159618;file://C:\\Users\\BHSU\\AppData\\Local\\Programs\\Python\\Python39\\lib\\site-packages\\openfl\\component\\collaborator\\collaborator.py#415\u001b\\\u001b[2m415\u001b[0m\u001b]8;;\u001b\\\n"
      ]
     },
     "metadata": {},
     "output_type": "display_data"
    },
    {
     "data": {
      "text/html": [
       "<pre style=\"white-space:pre;overflow-x:auto;line-height:normal;font-family:Menlo,'DejaVu Sans Mono',consolas,'Courier New',monospace\"><span style=\"color: #7fbfbf; text-decoration-color: #7fbfbf\">           </span><span style=\"color: #000080; text-decoration-color: #000080\">INFO    </span> Collaborator one is sending task results for train, round <span style=\"color: #008080; text-decoration-color: #008080; font-weight: bold\">3</span>                                                                <a href=\"file://C:\\Users\\BHSU\\AppData\\Local\\Programs\\Python\\Python39\\lib\\site-packages\\openfl\\component\\aggregator\\aggregator.py\" target=\"_blank\"><span style=\"color: #7f7f7f; text-decoration-color: #7f7f7f\">aggregator.py</span></a><span style=\"color: #7f7f7f; text-decoration-color: #7f7f7f\">:</span><a href=\"file://C:\\Users\\BHSU\\AppData\\Local\\Programs\\Python\\Python39\\lib\\site-packages\\openfl\\component\\aggregator\\aggregator.py#520\" target=\"_blank\"><span style=\"color: #7f7f7f; text-decoration-color: #7f7f7f\">520</span></a>\n",
       "</pre>\n"
      ],
      "text/plain": [
       "\u001b[2;36m          \u001b[0m\u001b[2;36m \u001b[0m\u001b[34mINFO    \u001b[0m Collaborator one is sending task results for train, round \u001b[1;36m3\u001b[0m                                                                \u001b]8;id=778739;file://C:\\Users\\BHSU\\AppData\\Local\\Programs\\Python\\Python39\\lib\\site-packages\\openfl\\component\\aggregator\\aggregator.py\u001b\\\u001b[2maggregator.py\u001b[0m\u001b]8;;\u001b\\\u001b[2m:\u001b[0m\u001b]8;id=647329;file://C:\\Users\\BHSU\\AppData\\Local\\Programs\\Python\\Python39\\lib\\site-packages\\openfl\\component\\aggregator\\aggregator.py#520\u001b\\\u001b[2m520\u001b[0m\u001b]8;;\u001b\\\n"
      ]
     },
     "metadata": {},
     "output_type": "display_data"
    },
    {
     "data": {
      "text/html": [
       "<pre style=\"white-space:pre;overflow-x:auto;line-height:normal;font-family:Menlo,'DejaVu Sans Mono',consolas,'Courier New',monospace\"><span style=\"color: #7fbfbf; text-decoration-color: #7fbfbf\">           </span>METRIC   Round <span style=\"color: #008080; text-decoration-color: #008080; font-weight: bold\">3</span>, collaborator one train result loss:    <span style=\"color: #008080; text-decoration-color: #008080; font-weight: bold\">0.187049</span>                                                                   <a href=\"file://C:\\Users\\BHSU\\AppData\\Local\\Programs\\Python\\Python39\\lib\\site-packages\\openfl\\component\\aggregator\\aggregator.py\" target=\"_blank\"><span style=\"color: #7f7f7f; text-decoration-color: #7f7f7f\">aggregator.py</span></a><span style=\"color: #7f7f7f; text-decoration-color: #7f7f7f\">:</span><a href=\"file://C:\\Users\\BHSU\\AppData\\Local\\Programs\\Python\\Python39\\lib\\site-packages\\openfl\\component\\aggregator\\aggregator.py#559\" target=\"_blank\"><span style=\"color: #7f7f7f; text-decoration-color: #7f7f7f\">559</span></a>\n",
       "</pre>\n"
      ],
      "text/plain": [
       "\u001b[2;36m          \u001b[0m\u001b[2;36m \u001b[0mMETRIC   Round \u001b[1;36m3\u001b[0m, collaborator one train result loss:    \u001b[1;36m0.187049\u001b[0m                                                                   \u001b]8;id=254525;file://C:\\Users\\BHSU\\AppData\\Local\\Programs\\Python\\Python39\\lib\\site-packages\\openfl\\component\\aggregator\\aggregator.py\u001b\\\u001b[2maggregator.py\u001b[0m\u001b]8;;\u001b\\\u001b[2m:\u001b[0m\u001b]8;id=719100;file://C:\\Users\\BHSU\\AppData\\Local\\Programs\\Python\\Python39\\lib\\site-packages\\openfl\\component\\aggregator\\aggregator.py#559\u001b\\\u001b[2m559\u001b[0m\u001b]8;;\u001b\\\n"
      ]
     },
     "metadata": {},
     "output_type": "display_data"
    },
    {
     "data": {
      "text/html": [
       "<pre style=\"white-space:pre;overflow-x:auto;line-height:normal;font-family:Menlo,'DejaVu Sans Mono',consolas,'Courier New',monospace\"><span style=\"color: #7fbfbf; text-decoration-color: #7fbfbf\">           </span><span style=\"color: #000080; text-decoration-color: #000080\">INFO    </span> Using TaskRunner subclassing API                                                                                         <a href=\"file://C:\\Users\\BHSU\\AppData\\Local\\Programs\\Python\\Python39\\lib\\site-packages\\openfl\\component\\collaborator\\collaborator.py\" target=\"_blank\"><span style=\"color: #7f7f7f; text-decoration-color: #7f7f7f\">collaborator.py</span></a><span style=\"color: #7f7f7f; text-decoration-color: #7f7f7f\">:</span><a href=\"file://C:\\Users\\BHSU\\AppData\\Local\\Programs\\Python\\Python39\\lib\\site-packages\\openfl\\component\\collaborator\\collaborator.py#253\" target=\"_blank\"><span style=\"color: #7f7f7f; text-decoration-color: #7f7f7f\">253</span></a>\n",
       "</pre>\n"
      ],
      "text/plain": [
       "\u001b[2;36m          \u001b[0m\u001b[2;36m \u001b[0m\u001b[34mINFO    \u001b[0m Using TaskRunner subclassing API                                                                                         \u001b]8;id=868423;file://C:\\Users\\BHSU\\AppData\\Local\\Programs\\Python\\Python39\\lib\\site-packages\\openfl\\component\\collaborator\\collaborator.py\u001b\\\u001b[2mcollaborator.py\u001b[0m\u001b]8;;\u001b\\\u001b[2m:\u001b[0m\u001b]8;id=439279;file://C:\\Users\\BHSU\\AppData\\Local\\Programs\\Python\\Python39\\lib\\site-packages\\openfl\\component\\collaborator\\collaborator.py#253\u001b\\\u001b[2m253\u001b[0m\u001b]8;;\u001b\\\n"
      ]
     },
     "metadata": {},
     "output_type": "display_data"
    },
    {
     "name": "stdout",
     "output_type": "stream",
     "text": [
      "282/282 [==============================] - 0s 484us/step - loss: 0.1833 - accuracy: 0.9439\n"
     ]
    },
    {
     "data": {
      "text/html": [
       "<pre style=\"white-space:pre;overflow-x:auto;line-height:normal;font-family:Menlo,'DejaVu Sans Mono',consolas,'Courier New',monospace\"><span style=\"color: #7fbfbf; text-decoration-color: #7fbfbf\">           </span>METRIC   Round <span style=\"color: #008080; text-decoration-color: #008080; font-weight: bold\">3</span>, collaborator one is sending metric for task locally_tuned_model_validation: accuracy   <span style=\"color: #008080; text-decoration-color: #008080; font-weight: bold\">0.943889</span>                 <a href=\"file://C:\\Users\\BHSU\\AppData\\Local\\Programs\\Python\\Python39\\lib\\site-packages\\openfl\\component\\collaborator\\collaborator.py\" target=\"_blank\"><span style=\"color: #7f7f7f; text-decoration-color: #7f7f7f\">collaborator.py</span></a><span style=\"color: #7f7f7f; text-decoration-color: #7f7f7f\">:</span><a href=\"file://C:\\Users\\BHSU\\AppData\\Local\\Programs\\Python\\Python39\\lib\\site-packages\\openfl\\component\\collaborator\\collaborator.py#415\" target=\"_blank\"><span style=\"color: #7f7f7f; text-decoration-color: #7f7f7f\">415</span></a>\n",
       "</pre>\n"
      ],
      "text/plain": [
       "\u001b[2;36m          \u001b[0m\u001b[2;36m \u001b[0mMETRIC   Round \u001b[1;36m3\u001b[0m, collaborator one is sending metric for task locally_tuned_model_validation: accuracy   \u001b[1;36m0.943889\u001b[0m                 \u001b]8;id=716320;file://C:\\Users\\BHSU\\AppData\\Local\\Programs\\Python\\Python39\\lib\\site-packages\\openfl\\component\\collaborator\\collaborator.py\u001b\\\u001b[2mcollaborator.py\u001b[0m\u001b]8;;\u001b\\\u001b[2m:\u001b[0m\u001b]8;id=133388;file://C:\\Users\\BHSU\\AppData\\Local\\Programs\\Python\\Python39\\lib\\site-packages\\openfl\\component\\collaborator\\collaborator.py#415\u001b\\\u001b[2m415\u001b[0m\u001b]8;;\u001b\\\n"
      ]
     },
     "metadata": {},
     "output_type": "display_data"
    },
    {
     "data": {
      "text/html": [
       "<pre style=\"white-space:pre;overflow-x:auto;line-height:normal;font-family:Menlo,'DejaVu Sans Mono',consolas,'Courier New',monospace\"><span style=\"color: #7fbfbf; text-decoration-color: #7fbfbf\">           </span><span style=\"color: #000080; text-decoration-color: #000080\">INFO    </span> Collaborator one is sending task results for locally_tuned_model_validation, round <span style=\"color: #008080; text-decoration-color: #008080; font-weight: bold\">3</span>                                       <a href=\"file://C:\\Users\\BHSU\\AppData\\Local\\Programs\\Python\\Python39\\lib\\site-packages\\openfl\\component\\aggregator\\aggregator.py\" target=\"_blank\"><span style=\"color: #7f7f7f; text-decoration-color: #7f7f7f\">aggregator.py</span></a><span style=\"color: #7f7f7f; text-decoration-color: #7f7f7f\">:</span><a href=\"file://C:\\Users\\BHSU\\AppData\\Local\\Programs\\Python\\Python39\\lib\\site-packages\\openfl\\component\\aggregator\\aggregator.py#520\" target=\"_blank\"><span style=\"color: #7f7f7f; text-decoration-color: #7f7f7f\">520</span></a>\n",
       "</pre>\n"
      ],
      "text/plain": [
       "\u001b[2;36m          \u001b[0m\u001b[2;36m \u001b[0m\u001b[34mINFO    \u001b[0m Collaborator one is sending task results for locally_tuned_model_validation, round \u001b[1;36m3\u001b[0m                                       \u001b]8;id=834279;file://C:\\Users\\BHSU\\AppData\\Local\\Programs\\Python\\Python39\\lib\\site-packages\\openfl\\component\\aggregator\\aggregator.py\u001b\\\u001b[2maggregator.py\u001b[0m\u001b]8;;\u001b\\\u001b[2m:\u001b[0m\u001b]8;id=686040;file://C:\\Users\\BHSU\\AppData\\Local\\Programs\\Python\\Python39\\lib\\site-packages\\openfl\\component\\aggregator\\aggregator.py#520\u001b\\\u001b[2m520\u001b[0m\u001b]8;;\u001b\\\n"
      ]
     },
     "metadata": {},
     "output_type": "display_data"
    },
    {
     "data": {
      "text/html": [
       "<pre style=\"white-space:pre;overflow-x:auto;line-height:normal;font-family:Menlo,'DejaVu Sans Mono',consolas,'Courier New',monospace\"><span style=\"color: #7fbfbf; text-decoration-color: #7fbfbf\">           </span>METRIC   Round <span style=\"color: #008080; text-decoration-color: #008080; font-weight: bold\">3</span>, collaborator validate_local locally_tuned_model_validation result accuracy:    <span style=\"color: #008080; text-decoration-color: #008080; font-weight: bold\">0.943889</span>                           <a href=\"file://C:\\Users\\BHSU\\AppData\\Local\\Programs\\Python\\Python39\\lib\\site-packages\\openfl\\component\\aggregator\\aggregator.py\" target=\"_blank\"><span style=\"color: #7f7f7f; text-decoration-color: #7f7f7f\">aggregator.py</span></a><span style=\"color: #7f7f7f; text-decoration-color: #7f7f7f\">:</span><a href=\"file://C:\\Users\\BHSU\\AppData\\Local\\Programs\\Python\\Python39\\lib\\site-packages\\openfl\\component\\aggregator\\aggregator.py#559\" target=\"_blank\"><span style=\"color: #7f7f7f; text-decoration-color: #7f7f7f\">559</span></a>\n",
       "</pre>\n"
      ],
      "text/plain": [
       "\u001b[2;36m          \u001b[0m\u001b[2;36m \u001b[0mMETRIC   Round \u001b[1;36m3\u001b[0m, collaborator validate_local locally_tuned_model_validation result accuracy:    \u001b[1;36m0.943889\u001b[0m                           \u001b]8;id=884406;file://C:\\Users\\BHSU\\AppData\\Local\\Programs\\Python\\Python39\\lib\\site-packages\\openfl\\component\\aggregator\\aggregator.py\u001b\\\u001b[2maggregator.py\u001b[0m\u001b]8;;\u001b\\\u001b[2m:\u001b[0m\u001b]8;id=339931;file://C:\\Users\\BHSU\\AppData\\Local\\Programs\\Python\\Python39\\lib\\site-packages\\openfl\\component\\aggregator\\aggregator.py#559\u001b\\\u001b[2m559\u001b[0m\u001b]8;;\u001b\\\n"
      ]
     },
     "metadata": {},
     "output_type": "display_data"
    },
    {
     "data": {
      "text/html": [
       "<pre style=\"white-space:pre;overflow-x:auto;line-height:normal;font-family:Menlo,'DejaVu Sans Mono',consolas,'Courier New',monospace\"><span style=\"color: #7fbfbf; text-decoration-color: #7fbfbf\">           </span><span style=\"color: #000080; text-decoration-color: #000080\">INFO    </span> All tasks completed on one for round <span style=\"color: #008080; text-decoration-color: #008080; font-weight: bold\">3</span><span style=\"color: #808000; text-decoration-color: #808000\">...</span>                                                                                <a href=\"file://C:\\Users\\BHSU\\AppData\\Local\\Programs\\Python\\Python39\\lib\\site-packages\\openfl\\component\\collaborator\\collaborator.py\" target=\"_blank\"><span style=\"color: #7f7f7f; text-decoration-color: #7f7f7f\">collaborator.py</span></a><span style=\"color: #7f7f7f; text-decoration-color: #7f7f7f\">:</span><a href=\"file://C:\\Users\\BHSU\\AppData\\Local\\Programs\\Python\\Python39\\lib\\site-packages\\openfl\\component\\collaborator\\collaborator.py#171\" target=\"_blank\"><span style=\"color: #7f7f7f; text-decoration-color: #7f7f7f\">171</span></a>\n",
       "</pre>\n"
      ],
      "text/plain": [
       "\u001b[2;36m          \u001b[0m\u001b[2;36m \u001b[0m\u001b[34mINFO    \u001b[0m All tasks completed on one for round \u001b[1;36m3\u001b[0m\u001b[33m...\u001b[0m                                                                                \u001b]8;id=533975;file://C:\\Users\\BHSU\\AppData\\Local\\Programs\\Python\\Python39\\lib\\site-packages\\openfl\\component\\collaborator\\collaborator.py\u001b\\\u001b[2mcollaborator.py\u001b[0m\u001b]8;;\u001b\\\u001b[2m:\u001b[0m\u001b]8;id=132225;file://C:\\Users\\BHSU\\AppData\\Local\\Programs\\Python\\Python39\\lib\\site-packages\\openfl\\component\\collaborator\\collaborator.py#171\u001b\\\u001b[2m171\u001b[0m\u001b]8;;\u001b\\\n"
      ]
     },
     "metadata": {},
     "output_type": "display_data"
    },
    {
     "data": {
      "text/html": [
       "<pre style=\"white-space:pre;overflow-x:auto;line-height:normal;font-family:Menlo,'DejaVu Sans Mono',consolas,'Courier New',monospace\"><span style=\"color: #7fbfbf; text-decoration-color: #7fbfbf\">           </span><span style=\"color: #000080; text-decoration-color: #000080\">INFO    </span> Waiting for tasks<span style=\"color: #808000; text-decoration-color: #808000\">...</span>                                                                                                     <a href=\"file://C:\\Users\\BHSU\\AppData\\Local\\Programs\\Python\\Python39\\lib\\site-packages\\openfl\\component\\collaborator\\collaborator.py\" target=\"_blank\"><span style=\"color: #7f7f7f; text-decoration-color: #7f7f7f\">collaborator.py</span></a><span style=\"color: #7f7f7f; text-decoration-color: #7f7f7f\">:</span><a href=\"file://C:\\Users\\BHSU\\AppData\\Local\\Programs\\Python\\Python39\\lib\\site-packages\\openfl\\component\\collaborator\\collaborator.py#178\" target=\"_blank\"><span style=\"color: #7f7f7f; text-decoration-color: #7f7f7f\">178</span></a>\n",
       "</pre>\n"
      ],
      "text/plain": [
       "\u001b[2;36m          \u001b[0m\u001b[2;36m \u001b[0m\u001b[34mINFO    \u001b[0m Waiting for tasks\u001b[33m...\u001b[0m                                                                                                     \u001b]8;id=302770;file://C:\\Users\\BHSU\\AppData\\Local\\Programs\\Python\\Python39\\lib\\site-packages\\openfl\\component\\collaborator\\collaborator.py\u001b\\\u001b[2mcollaborator.py\u001b[0m\u001b]8;;\u001b\\\u001b[2m:\u001b[0m\u001b]8;id=864800;file://C:\\Users\\BHSU\\AppData\\Local\\Programs\\Python\\Python39\\lib\\site-packages\\openfl\\component\\collaborator\\collaborator.py#178\u001b\\\u001b[2m178\u001b[0m\u001b]8;;\u001b\\\n"
      ]
     },
     "metadata": {},
     "output_type": "display_data"
    },
    {
     "data": {
      "text/html": [
       "<pre style=\"white-space:pre;overflow-x:auto;line-height:normal;font-family:Menlo,'DejaVu Sans Mono',consolas,'Courier New',monospace\"><span style=\"color: #7fbfbf; text-decoration-color: #7fbfbf\">           </span><span style=\"color: #000080; text-decoration-color: #000080\">INFO    </span> Sending tasks to collaborator two for round <span style=\"color: #008080; text-decoration-color: #008080; font-weight: bold\">3</span>                                                                              <a href=\"file://C:\\Users\\BHSU\\AppData\\Local\\Programs\\Python\\Python39\\lib\\site-packages\\openfl\\component\\aggregator\\aggregator.py\" target=\"_blank\"><span style=\"color: #7f7f7f; text-decoration-color: #7f7f7f\">aggregator.py</span></a><span style=\"color: #7f7f7f; text-decoration-color: #7f7f7f\">:</span><a href=\"file://C:\\Users\\BHSU\\AppData\\Local\\Programs\\Python\\Python39\\lib\\site-packages\\openfl\\component\\aggregator\\aggregator.py#329\" target=\"_blank\"><span style=\"color: #7f7f7f; text-decoration-color: #7f7f7f\">329</span></a>\n",
       "</pre>\n"
      ],
      "text/plain": [
       "\u001b[2;36m          \u001b[0m\u001b[2;36m \u001b[0m\u001b[34mINFO    \u001b[0m Sending tasks to collaborator two for round \u001b[1;36m3\u001b[0m                                                                              \u001b]8;id=421502;file://C:\\Users\\BHSU\\AppData\\Local\\Programs\\Python\\Python39\\lib\\site-packages\\openfl\\component\\aggregator\\aggregator.py\u001b\\\u001b[2maggregator.py\u001b[0m\u001b]8;;\u001b\\\u001b[2m:\u001b[0m\u001b]8;id=616571;file://C:\\Users\\BHSU\\AppData\\Local\\Programs\\Python\\Python39\\lib\\site-packages\\openfl\\component\\aggregator\\aggregator.py#329\u001b\\\u001b[2m329\u001b[0m\u001b]8;;\u001b\\\n"
      ]
     },
     "metadata": {},
     "output_type": "display_data"
    },
    {
     "data": {
      "text/html": [
       "<pre style=\"white-space:pre;overflow-x:auto;line-height:normal;font-family:Menlo,'DejaVu Sans Mono',consolas,'Courier New',monospace\"><span style=\"color: #7fbfbf; text-decoration-color: #7fbfbf\">           </span><span style=\"color: #000080; text-decoration-color: #000080\">INFO    </span> Received the following tasks: <span style=\"font-weight: bold\">[</span><span style=\"color: #008000; text-decoration-color: #008000\">'aggregated_model_validation'</span>, <span style=\"color: #008000; text-decoration-color: #008000\">'train'</span>, <span style=\"color: #008000; text-decoration-color: #008000\">'locally_tuned_model_validation'</span><span style=\"font-weight: bold\">]</span>                 <a href=\"file://C:\\Users\\BHSU\\AppData\\Local\\Programs\\Python\\Python39\\lib\\site-packages\\openfl\\component\\collaborator\\collaborator.py\" target=\"_blank\"><span style=\"color: #7f7f7f; text-decoration-color: #7f7f7f\">collaborator.py</span></a><span style=\"color: #7f7f7f; text-decoration-color: #7f7f7f\">:</span><a href=\"file://C:\\Users\\BHSU\\AppData\\Local\\Programs\\Python\\Python39\\lib\\site-packages\\openfl\\component\\collaborator\\collaborator.py#168\" target=\"_blank\"><span style=\"color: #7f7f7f; text-decoration-color: #7f7f7f\">168</span></a>\n",
       "</pre>\n"
      ],
      "text/plain": [
       "\u001b[2;36m          \u001b[0m\u001b[2;36m \u001b[0m\u001b[34mINFO    \u001b[0m Received the following tasks: \u001b[1m[\u001b[0m\u001b[32m'aggregated_model_validation'\u001b[0m, \u001b[32m'train'\u001b[0m, \u001b[32m'locally_tuned_model_validation'\u001b[0m\u001b[1m]\u001b[0m                 \u001b]8;id=982940;file://C:\\Users\\BHSU\\AppData\\Local\\Programs\\Python\\Python39\\lib\\site-packages\\openfl\\component\\collaborator\\collaborator.py\u001b\\\u001b[2mcollaborator.py\u001b[0m\u001b]8;;\u001b\\\u001b[2m:\u001b[0m\u001b]8;id=270271;file://C:\\Users\\BHSU\\AppData\\Local\\Programs\\Python\\Python39\\lib\\site-packages\\openfl\\component\\collaborator\\collaborator.py#168\u001b\\\u001b[2m168\u001b[0m\u001b]8;;\u001b\\\n"
      ]
     },
     "metadata": {},
     "output_type": "display_data"
    },
    {
     "data": {
      "text/html": [
       "<pre style=\"white-space:pre;overflow-x:auto;line-height:normal;font-family:Menlo,'DejaVu Sans Mono',consolas,'Courier New',monospace\"><span style=\"color: #7fbfbf; text-decoration-color: #7fbfbf\">           </span><span style=\"color: #000080; text-decoration-color: #000080\">INFO    </span> Using TaskRunner subclassing API                                                                                         <a href=\"file://C:\\Users\\BHSU\\AppData\\Local\\Programs\\Python\\Python39\\lib\\site-packages\\openfl\\component\\collaborator\\collaborator.py\" target=\"_blank\"><span style=\"color: #7f7f7f; text-decoration-color: #7f7f7f\">collaborator.py</span></a><span style=\"color: #7f7f7f; text-decoration-color: #7f7f7f\">:</span><a href=\"file://C:\\Users\\BHSU\\AppData\\Local\\Programs\\Python\\Python39\\lib\\site-packages\\openfl\\component\\collaborator\\collaborator.py#253\" target=\"_blank\"><span style=\"color: #7f7f7f; text-decoration-color: #7f7f7f\">253</span></a>\n",
       "</pre>\n"
      ],
      "text/plain": [
       "\u001b[2;36m          \u001b[0m\u001b[2;36m \u001b[0m\u001b[34mINFO    \u001b[0m Using TaskRunner subclassing API                                                                                         \u001b]8;id=245929;file://C:\\Users\\BHSU\\AppData\\Local\\Programs\\Python\\Python39\\lib\\site-packages\\openfl\\component\\collaborator\\collaborator.py\u001b\\\u001b[2mcollaborator.py\u001b[0m\u001b]8;;\u001b\\\u001b[2m:\u001b[0m\u001b]8;id=793338;file://C:\\Users\\BHSU\\AppData\\Local\\Programs\\Python\\Python39\\lib\\site-packages\\openfl\\component\\collaborator\\collaborator.py#253\u001b\\\u001b[2m253\u001b[0m\u001b]8;;\u001b\\\n"
      ]
     },
     "metadata": {},
     "output_type": "display_data"
    },
    {
     "name": "stdout",
     "output_type": "stream",
     "text": [
      "282/282 [==============================] - 0s 495us/step - loss: 0.2080 - accuracy: 0.9383\n"
     ]
    },
    {
     "data": {
      "text/html": [
       "<pre style=\"white-space:pre;overflow-x:auto;line-height:normal;font-family:Menlo,'DejaVu Sans Mono',consolas,'Courier New',monospace\"><span style=\"color: #7fbfbf; text-decoration-color: #7fbfbf\">[10:46:31] </span>METRIC   Round <span style=\"color: #008080; text-decoration-color: #008080; font-weight: bold\">3</span>, collaborator two is sending metric for task aggregated_model_validation: accuracy      <span style=\"color: #008080; text-decoration-color: #008080; font-weight: bold\">0.938333</span>                 <a href=\"file://C:\\Users\\BHSU\\AppData\\Local\\Programs\\Python\\Python39\\lib\\site-packages\\openfl\\component\\collaborator\\collaborator.py\" target=\"_blank\"><span style=\"color: #7f7f7f; text-decoration-color: #7f7f7f\">collaborator.py</span></a><span style=\"color: #7f7f7f; text-decoration-color: #7f7f7f\">:</span><a href=\"file://C:\\Users\\BHSU\\AppData\\Local\\Programs\\Python\\Python39\\lib\\site-packages\\openfl\\component\\collaborator\\collaborator.py#415\" target=\"_blank\"><span style=\"color: #7f7f7f; text-decoration-color: #7f7f7f\">415</span></a>\n",
       "</pre>\n"
      ],
      "text/plain": [
       "\u001b[2;36m[10:46:31]\u001b[0m\u001b[2;36m \u001b[0mMETRIC   Round \u001b[1;36m3\u001b[0m, collaborator two is sending metric for task aggregated_model_validation: accuracy      \u001b[1;36m0.938333\u001b[0m                 \u001b]8;id=339764;file://C:\\Users\\BHSU\\AppData\\Local\\Programs\\Python\\Python39\\lib\\site-packages\\openfl\\component\\collaborator\\collaborator.py\u001b\\\u001b[2mcollaborator.py\u001b[0m\u001b]8;;\u001b\\\u001b[2m:\u001b[0m\u001b]8;id=539805;file://C:\\Users\\BHSU\\AppData\\Local\\Programs\\Python\\Python39\\lib\\site-packages\\openfl\\component\\collaborator\\collaborator.py#415\u001b\\\u001b[2m415\u001b[0m\u001b]8;;\u001b\\\n"
      ]
     },
     "metadata": {},
     "output_type": "display_data"
    },
    {
     "data": {
      "text/html": [
       "<pre style=\"white-space:pre;overflow-x:auto;line-height:normal;font-family:Menlo,'DejaVu Sans Mono',consolas,'Courier New',monospace\"><span style=\"color: #7fbfbf; text-decoration-color: #7fbfbf\">           </span><span style=\"color: #000080; text-decoration-color: #000080\">INFO    </span> Collaborator two is sending task results for aggregated_model_validation, round <span style=\"color: #008080; text-decoration-color: #008080; font-weight: bold\">3</span>                                          <a href=\"file://C:\\Users\\BHSU\\AppData\\Local\\Programs\\Python\\Python39\\lib\\site-packages\\openfl\\component\\aggregator\\aggregator.py\" target=\"_blank\"><span style=\"color: #7f7f7f; text-decoration-color: #7f7f7f\">aggregator.py</span></a><span style=\"color: #7f7f7f; text-decoration-color: #7f7f7f\">:</span><a href=\"file://C:\\Users\\BHSU\\AppData\\Local\\Programs\\Python\\Python39\\lib\\site-packages\\openfl\\component\\aggregator\\aggregator.py#520\" target=\"_blank\"><span style=\"color: #7f7f7f; text-decoration-color: #7f7f7f\">520</span></a>\n",
       "</pre>\n"
      ],
      "text/plain": [
       "\u001b[2;36m          \u001b[0m\u001b[2;36m \u001b[0m\u001b[34mINFO    \u001b[0m Collaborator two is sending task results for aggregated_model_validation, round \u001b[1;36m3\u001b[0m                                          \u001b]8;id=658943;file://C:\\Users\\BHSU\\AppData\\Local\\Programs\\Python\\Python39\\lib\\site-packages\\openfl\\component\\aggregator\\aggregator.py\u001b\\\u001b[2maggregator.py\u001b[0m\u001b]8;;\u001b\\\u001b[2m:\u001b[0m\u001b]8;id=484597;file://C:\\Users\\BHSU\\AppData\\Local\\Programs\\Python\\Python39\\lib\\site-packages\\openfl\\component\\aggregator\\aggregator.py#520\u001b\\\u001b[2m520\u001b[0m\u001b]8;;\u001b\\\n"
      ]
     },
     "metadata": {},
     "output_type": "display_data"
    },
    {
     "data": {
      "text/html": [
       "<pre style=\"white-space:pre;overflow-x:auto;line-height:normal;font-family:Menlo,'DejaVu Sans Mono',consolas,'Courier New',monospace\"><span style=\"color: #7fbfbf; text-decoration-color: #7fbfbf\">           </span>METRIC   Round <span style=\"color: #008080; text-decoration-color: #008080; font-weight: bold\">3</span>, collaborator validate_agg aggregated_model_validation result accuracy: <span style=\"color: #008080; text-decoration-color: #008080; font-weight: bold\">0.938333</span>                                   <a href=\"file://C:\\Users\\BHSU\\AppData\\Local\\Programs\\Python\\Python39\\lib\\site-packages\\openfl\\component\\aggregator\\aggregator.py\" target=\"_blank\"><span style=\"color: #7f7f7f; text-decoration-color: #7f7f7f\">aggregator.py</span></a><span style=\"color: #7f7f7f; text-decoration-color: #7f7f7f\">:</span><a href=\"file://C:\\Users\\BHSU\\AppData\\Local\\Programs\\Python\\Python39\\lib\\site-packages\\openfl\\component\\aggregator\\aggregator.py#559\" target=\"_blank\"><span style=\"color: #7f7f7f; text-decoration-color: #7f7f7f\">559</span></a>\n",
       "</pre>\n"
      ],
      "text/plain": [
       "\u001b[2;36m          \u001b[0m\u001b[2;36m \u001b[0mMETRIC   Round \u001b[1;36m3\u001b[0m, collaborator validate_agg aggregated_model_validation result accuracy: \u001b[1;36m0.938333\u001b[0m                                   \u001b]8;id=756969;file://C:\\Users\\BHSU\\AppData\\Local\\Programs\\Python\\Python39\\lib\\site-packages\\openfl\\component\\aggregator\\aggregator.py\u001b\\\u001b[2maggregator.py\u001b[0m\u001b]8;;\u001b\\\u001b[2m:\u001b[0m\u001b]8;id=140677;file://C:\\Users\\BHSU\\AppData\\Local\\Programs\\Python\\Python39\\lib\\site-packages\\openfl\\component\\aggregator\\aggregator.py#559\u001b\\\u001b[2m559\u001b[0m\u001b]8;;\u001b\\\n"
      ]
     },
     "metadata": {},
     "output_type": "display_data"
    },
    {
     "data": {
      "text/html": [
       "<pre style=\"white-space:pre;overflow-x:auto;line-height:normal;font-family:Menlo,'DejaVu Sans Mono',consolas,'Courier New',monospace\"><span style=\"color: #7fbfbf; text-decoration-color: #7fbfbf\">           </span><span style=\"color: #000080; text-decoration-color: #000080\">INFO    </span> Using TaskRunner subclassing API                                                                                         <a href=\"file://C:\\Users\\BHSU\\AppData\\Local\\Programs\\Python\\Python39\\lib\\site-packages\\openfl\\component\\collaborator\\collaborator.py\" target=\"_blank\"><span style=\"color: #7f7f7f; text-decoration-color: #7f7f7f\">collaborator.py</span></a><span style=\"color: #7f7f7f; text-decoration-color: #7f7f7f\">:</span><a href=\"file://C:\\Users\\BHSU\\AppData\\Local\\Programs\\Python\\Python39\\lib\\site-packages\\openfl\\component\\collaborator\\collaborator.py#253\" target=\"_blank\"><span style=\"color: #7f7f7f; text-decoration-color: #7f7f7f\">253</span></a>\n",
       "</pre>\n"
      ],
      "text/plain": [
       "\u001b[2;36m          \u001b[0m\u001b[2;36m \u001b[0m\u001b[34mINFO    \u001b[0m Using TaskRunner subclassing API                                                                                         \u001b]8;id=618505;file://C:\\Users\\BHSU\\AppData\\Local\\Programs\\Python\\Python39\\lib\\site-packages\\openfl\\component\\collaborator\\collaborator.py\u001b\\\u001b[2mcollaborator.py\u001b[0m\u001b]8;;\u001b\\\u001b[2m:\u001b[0m\u001b]8;id=756579;file://C:\\Users\\BHSU\\AppData\\Local\\Programs\\Python\\Python39\\lib\\site-packages\\openfl\\component\\collaborator\\collaborator.py#253\u001b\\\u001b[2m253\u001b[0m\u001b]8;;\u001b\\\n"
      ]
     },
     "metadata": {},
     "output_type": "display_data"
    },
    {
     "data": {
      "text/html": [
       "<pre style=\"white-space:pre;overflow-x:auto;line-height:normal;font-family:Menlo,'DejaVu Sans Mono',consolas,'Courier New',monospace\"><span style=\"color: #7fbfbf; text-decoration-color: #7fbfbf\">           </span><span style=\"color: #000080; text-decoration-color: #000080\">INFO    </span> Run <span style=\"color: #008080; text-decoration-color: #008080; font-weight: bold\">0</span> epoch of <span style=\"color: #008080; text-decoration-color: #008080; font-weight: bold\">3</span> round                                                                                                    <a href=\"file://C:\\Users\\BHSU\\AppData\\Local\\Programs\\Python\\Python39\\lib\\site-packages\\openfl\\federated\\task\\runner_keras.py\" target=\"_blank\"><span style=\"color: #7f7f7f; text-decoration-color: #7f7f7f\">runner_keras.py</span></a><span style=\"color: #7f7f7f; text-decoration-color: #7f7f7f\">:</span><a href=\"file://C:\\Users\\BHSU\\AppData\\Local\\Programs\\Python\\Python39\\lib\\site-packages\\openfl\\federated\\task\\runner_keras.py#83\" target=\"_blank\"><span style=\"color: #7f7f7f; text-decoration-color: #7f7f7f\">83</span></a>\n",
       "</pre>\n"
      ],
      "text/plain": [
       "\u001b[2;36m          \u001b[0m\u001b[2;36m \u001b[0m\u001b[34mINFO    \u001b[0m Run \u001b[1;36m0\u001b[0m epoch of \u001b[1;36m3\u001b[0m round                                                                                                    \u001b]8;id=865475;file://C:\\Users\\BHSU\\AppData\\Local\\Programs\\Python\\Python39\\lib\\site-packages\\openfl\\federated\\task\\runner_keras.py\u001b\\\u001b[2mrunner_keras.py\u001b[0m\u001b]8;;\u001b\\\u001b[2m:\u001b[0m\u001b]8;id=558300;file://C:\\Users\\BHSU\\AppData\\Local\\Programs\\Python\\Python39\\lib\\site-packages\\openfl\\federated\\task\\runner_keras.py#83\u001b\\\u001b[2m83\u001b[0m\u001b]8;;\u001b\\\n"
      ]
     },
     "metadata": {},
     "output_type": "display_data"
    },
    {
     "name": "stdout",
     "output_type": "stream",
     "text": [
      "657/657 [==============================] - 0s 602us/step - loss: 0.1772 - accuracy: 0.9452\n"
     ]
    },
    {
     "data": {
      "text/html": [
       "<pre style=\"white-space:pre;overflow-x:auto;line-height:normal;font-family:Menlo,'DejaVu Sans Mono',consolas,'Courier New',monospace\"><span style=\"color: #7fbfbf; text-decoration-color: #7fbfbf\">           </span>METRIC   Round <span style=\"color: #008080; text-decoration-color: #008080; font-weight: bold\">3</span>, collaborator two is sending metric for task train: loss        <span style=\"color: #008080; text-decoration-color: #008080; font-weight: bold\">0.177198</span>                                         <a href=\"file://C:\\Users\\BHSU\\AppData\\Local\\Programs\\Python\\Python39\\lib\\site-packages\\openfl\\component\\collaborator\\collaborator.py\" target=\"_blank\"><span style=\"color: #7f7f7f; text-decoration-color: #7f7f7f\">collaborator.py</span></a><span style=\"color: #7f7f7f; text-decoration-color: #7f7f7f\">:</span><a href=\"file://C:\\Users\\BHSU\\AppData\\Local\\Programs\\Python\\Python39\\lib\\site-packages\\openfl\\component\\collaborator\\collaborator.py#415\" target=\"_blank\"><span style=\"color: #7f7f7f; text-decoration-color: #7f7f7f\">415</span></a>\n",
       "</pre>\n"
      ],
      "text/plain": [
       "\u001b[2;36m          \u001b[0m\u001b[2;36m \u001b[0mMETRIC   Round \u001b[1;36m3\u001b[0m, collaborator two is sending metric for task train: loss        \u001b[1;36m0.177198\u001b[0m                                         \u001b]8;id=382963;file://C:\\Users\\BHSU\\AppData\\Local\\Programs\\Python\\Python39\\lib\\site-packages\\openfl\\component\\collaborator\\collaborator.py\u001b\\\u001b[2mcollaborator.py\u001b[0m\u001b]8;;\u001b\\\u001b[2m:\u001b[0m\u001b]8;id=385504;file://C:\\Users\\BHSU\\AppData\\Local\\Programs\\Python\\Python39\\lib\\site-packages\\openfl\\component\\collaborator\\collaborator.py#415\u001b\\\u001b[2m415\u001b[0m\u001b]8;;\u001b\\\n"
      ]
     },
     "metadata": {},
     "output_type": "display_data"
    },
    {
     "data": {
      "text/html": [
       "<pre style=\"white-space:pre;overflow-x:auto;line-height:normal;font-family:Menlo,'DejaVu Sans Mono',consolas,'Courier New',monospace\"><span style=\"color: #7fbfbf; text-decoration-color: #7fbfbf\">           </span><span style=\"color: #000080; text-decoration-color: #000080\">INFO    </span> Collaborator two is sending task results for train, round <span style=\"color: #008080; text-decoration-color: #008080; font-weight: bold\">3</span>                                                                <a href=\"file://C:\\Users\\BHSU\\AppData\\Local\\Programs\\Python\\Python39\\lib\\site-packages\\openfl\\component\\aggregator\\aggregator.py\" target=\"_blank\"><span style=\"color: #7f7f7f; text-decoration-color: #7f7f7f\">aggregator.py</span></a><span style=\"color: #7f7f7f; text-decoration-color: #7f7f7f\">:</span><a href=\"file://C:\\Users\\BHSU\\AppData\\Local\\Programs\\Python\\Python39\\lib\\site-packages\\openfl\\component\\aggregator\\aggregator.py#520\" target=\"_blank\"><span style=\"color: #7f7f7f; text-decoration-color: #7f7f7f\">520</span></a>\n",
       "</pre>\n"
      ],
      "text/plain": [
       "\u001b[2;36m          \u001b[0m\u001b[2;36m \u001b[0m\u001b[34mINFO    \u001b[0m Collaborator two is sending task results for train, round \u001b[1;36m3\u001b[0m                                                                \u001b]8;id=317286;file://C:\\Users\\BHSU\\AppData\\Local\\Programs\\Python\\Python39\\lib\\site-packages\\openfl\\component\\aggregator\\aggregator.py\u001b\\\u001b[2maggregator.py\u001b[0m\u001b]8;;\u001b\\\u001b[2m:\u001b[0m\u001b]8;id=120253;file://C:\\Users\\BHSU\\AppData\\Local\\Programs\\Python\\Python39\\lib\\site-packages\\openfl\\component\\aggregator\\aggregator.py#520\u001b\\\u001b[2m520\u001b[0m\u001b]8;;\u001b\\\n"
      ]
     },
     "metadata": {},
     "output_type": "display_data"
    },
    {
     "data": {
      "text/html": [
       "<pre style=\"white-space:pre;overflow-x:auto;line-height:normal;font-family:Menlo,'DejaVu Sans Mono',consolas,'Courier New',monospace\"><span style=\"color: #7fbfbf; text-decoration-color: #7fbfbf\">           </span>METRIC   Round <span style=\"color: #008080; text-decoration-color: #008080; font-weight: bold\">3</span>, collaborator two train result loss:    <span style=\"color: #008080; text-decoration-color: #008080; font-weight: bold\">0.177198</span>                                                                   <a href=\"file://C:\\Users\\BHSU\\AppData\\Local\\Programs\\Python\\Python39\\lib\\site-packages\\openfl\\component\\aggregator\\aggregator.py\" target=\"_blank\"><span style=\"color: #7f7f7f; text-decoration-color: #7f7f7f\">aggregator.py</span></a><span style=\"color: #7f7f7f; text-decoration-color: #7f7f7f\">:</span><a href=\"file://C:\\Users\\BHSU\\AppData\\Local\\Programs\\Python\\Python39\\lib\\site-packages\\openfl\\component\\aggregator\\aggregator.py#559\" target=\"_blank\"><span style=\"color: #7f7f7f; text-decoration-color: #7f7f7f\">559</span></a>\n",
       "</pre>\n"
      ],
      "text/plain": [
       "\u001b[2;36m          \u001b[0m\u001b[2;36m \u001b[0mMETRIC   Round \u001b[1;36m3\u001b[0m, collaborator two train result loss:    \u001b[1;36m0.177198\u001b[0m                                                                   \u001b]8;id=156419;file://C:\\Users\\BHSU\\AppData\\Local\\Programs\\Python\\Python39\\lib\\site-packages\\openfl\\component\\aggregator\\aggregator.py\u001b\\\u001b[2maggregator.py\u001b[0m\u001b]8;;\u001b\\\u001b[2m:\u001b[0m\u001b]8;id=811025;file://C:\\Users\\BHSU\\AppData\\Local\\Programs\\Python\\Python39\\lib\\site-packages\\openfl\\component\\aggregator\\aggregator.py#559\u001b\\\u001b[2m559\u001b[0m\u001b]8;;\u001b\\\n"
      ]
     },
     "metadata": {},
     "output_type": "display_data"
    },
    {
     "data": {
      "text/html": [
       "<pre style=\"white-space:pre;overflow-x:auto;line-height:normal;font-family:Menlo,'DejaVu Sans Mono',consolas,'Courier New',monospace\"><span style=\"color: #7fbfbf; text-decoration-color: #7fbfbf\">           </span><span style=\"color: #000080; text-decoration-color: #000080\">INFO    </span> Using TaskRunner subclassing API                                                                                         <a href=\"file://C:\\Users\\BHSU\\AppData\\Local\\Programs\\Python\\Python39\\lib\\site-packages\\openfl\\component\\collaborator\\collaborator.py\" target=\"_blank\"><span style=\"color: #7f7f7f; text-decoration-color: #7f7f7f\">collaborator.py</span></a><span style=\"color: #7f7f7f; text-decoration-color: #7f7f7f\">:</span><a href=\"file://C:\\Users\\BHSU\\AppData\\Local\\Programs\\Python\\Python39\\lib\\site-packages\\openfl\\component\\collaborator\\collaborator.py#253\" target=\"_blank\"><span style=\"color: #7f7f7f; text-decoration-color: #7f7f7f\">253</span></a>\n",
       "</pre>\n"
      ],
      "text/plain": [
       "\u001b[2;36m          \u001b[0m\u001b[2;36m \u001b[0m\u001b[34mINFO    \u001b[0m Using TaskRunner subclassing API                                                                                         \u001b]8;id=254396;file://C:\\Users\\BHSU\\AppData\\Local\\Programs\\Python\\Python39\\lib\\site-packages\\openfl\\component\\collaborator\\collaborator.py\u001b\\\u001b[2mcollaborator.py\u001b[0m\u001b]8;;\u001b\\\u001b[2m:\u001b[0m\u001b]8;id=461022;file://C:\\Users\\BHSU\\AppData\\Local\\Programs\\Python\\Python39\\lib\\site-packages\\openfl\\component\\collaborator\\collaborator.py#253\u001b\\\u001b[2m253\u001b[0m\u001b]8;;\u001b\\\n"
      ]
     },
     "metadata": {},
     "output_type": "display_data"
    },
    {
     "name": "stdout",
     "output_type": "stream",
     "text": [
      "282/282 [==============================] - 0s 491us/step - loss: 0.1948 - accuracy: 0.9451\n"
     ]
    },
    {
     "data": {
      "text/html": [
       "<pre style=\"white-space:pre;overflow-x:auto;line-height:normal;font-family:Menlo,'DejaVu Sans Mono',consolas,'Courier New',monospace\"><span style=\"color: #7fbfbf; text-decoration-color: #7fbfbf\">           </span>METRIC   Round <span style=\"color: #008080; text-decoration-color: #008080; font-weight: bold\">3</span>, collaborator two is sending metric for task locally_tuned_model_validation: accuracy   <span style=\"color: #008080; text-decoration-color: #008080; font-weight: bold\">0.945111</span>                 <a href=\"file://C:\\Users\\BHSU\\AppData\\Local\\Programs\\Python\\Python39\\lib\\site-packages\\openfl\\component\\collaborator\\collaborator.py\" target=\"_blank\"><span style=\"color: #7f7f7f; text-decoration-color: #7f7f7f\">collaborator.py</span></a><span style=\"color: #7f7f7f; text-decoration-color: #7f7f7f\">:</span><a href=\"file://C:\\Users\\BHSU\\AppData\\Local\\Programs\\Python\\Python39\\lib\\site-packages\\openfl\\component\\collaborator\\collaborator.py#415\" target=\"_blank\"><span style=\"color: #7f7f7f; text-decoration-color: #7f7f7f\">415</span></a>\n",
       "</pre>\n"
      ],
      "text/plain": [
       "\u001b[2;36m          \u001b[0m\u001b[2;36m \u001b[0mMETRIC   Round \u001b[1;36m3\u001b[0m, collaborator two is sending metric for task locally_tuned_model_validation: accuracy   \u001b[1;36m0.945111\u001b[0m                 \u001b]8;id=206072;file://C:\\Users\\BHSU\\AppData\\Local\\Programs\\Python\\Python39\\lib\\site-packages\\openfl\\component\\collaborator\\collaborator.py\u001b\\\u001b[2mcollaborator.py\u001b[0m\u001b]8;;\u001b\\\u001b[2m:\u001b[0m\u001b]8;id=701050;file://C:\\Users\\BHSU\\AppData\\Local\\Programs\\Python\\Python39\\lib\\site-packages\\openfl\\component\\collaborator\\collaborator.py#415\u001b\\\u001b[2m415\u001b[0m\u001b]8;;\u001b\\\n"
      ]
     },
     "metadata": {},
     "output_type": "display_data"
    },
    {
     "data": {
      "text/html": [
       "<pre style=\"white-space:pre;overflow-x:auto;line-height:normal;font-family:Menlo,'DejaVu Sans Mono',consolas,'Courier New',monospace\"><span style=\"color: #7fbfbf; text-decoration-color: #7fbfbf\">           </span><span style=\"color: #000080; text-decoration-color: #000080\">INFO    </span> Collaborator two is sending task results for locally_tuned_model_validation, round <span style=\"color: #008080; text-decoration-color: #008080; font-weight: bold\">3</span>                                       <a href=\"file://C:\\Users\\BHSU\\AppData\\Local\\Programs\\Python\\Python39\\lib\\site-packages\\openfl\\component\\aggregator\\aggregator.py\" target=\"_blank\"><span style=\"color: #7f7f7f; text-decoration-color: #7f7f7f\">aggregator.py</span></a><span style=\"color: #7f7f7f; text-decoration-color: #7f7f7f\">:</span><a href=\"file://C:\\Users\\BHSU\\AppData\\Local\\Programs\\Python\\Python39\\lib\\site-packages\\openfl\\component\\aggregator\\aggregator.py#520\" target=\"_blank\"><span style=\"color: #7f7f7f; text-decoration-color: #7f7f7f\">520</span></a>\n",
       "</pre>\n"
      ],
      "text/plain": [
       "\u001b[2;36m          \u001b[0m\u001b[2;36m \u001b[0m\u001b[34mINFO    \u001b[0m Collaborator two is sending task results for locally_tuned_model_validation, round \u001b[1;36m3\u001b[0m                                       \u001b]8;id=499030;file://C:\\Users\\BHSU\\AppData\\Local\\Programs\\Python\\Python39\\lib\\site-packages\\openfl\\component\\aggregator\\aggregator.py\u001b\\\u001b[2maggregator.py\u001b[0m\u001b]8;;\u001b\\\u001b[2m:\u001b[0m\u001b]8;id=229077;file://C:\\Users\\BHSU\\AppData\\Local\\Programs\\Python\\Python39\\lib\\site-packages\\openfl\\component\\aggregator\\aggregator.py#520\u001b\\\u001b[2m520\u001b[0m\u001b]8;;\u001b\\\n"
      ]
     },
     "metadata": {},
     "output_type": "display_data"
    },
    {
     "data": {
      "text/html": [
       "<pre style=\"white-space:pre;overflow-x:auto;line-height:normal;font-family:Menlo,'DejaVu Sans Mono',consolas,'Courier New',monospace\"><span style=\"color: #7fbfbf; text-decoration-color: #7fbfbf\">           </span>METRIC   Round <span style=\"color: #008080; text-decoration-color: #008080; font-weight: bold\">3</span>, collaborator validate_local locally_tuned_model_validation result accuracy:    <span style=\"color: #008080; text-decoration-color: #008080; font-weight: bold\">0.945111</span>                           <a href=\"file://C:\\Users\\BHSU\\AppData\\Local\\Programs\\Python\\Python39\\lib\\site-packages\\openfl\\component\\aggregator\\aggregator.py\" target=\"_blank\"><span style=\"color: #7f7f7f; text-decoration-color: #7f7f7f\">aggregator.py</span></a><span style=\"color: #7f7f7f; text-decoration-color: #7f7f7f\">:</span><a href=\"file://C:\\Users\\BHSU\\AppData\\Local\\Programs\\Python\\Python39\\lib\\site-packages\\openfl\\component\\aggregator\\aggregator.py#559\" target=\"_blank\"><span style=\"color: #7f7f7f; text-decoration-color: #7f7f7f\">559</span></a>\n",
       "</pre>\n"
      ],
      "text/plain": [
       "\u001b[2;36m          \u001b[0m\u001b[2;36m \u001b[0mMETRIC   Round \u001b[1;36m3\u001b[0m, collaborator validate_local locally_tuned_model_validation result accuracy:    \u001b[1;36m0.945111\u001b[0m                           \u001b]8;id=678523;file://C:\\Users\\BHSU\\AppData\\Local\\Programs\\Python\\Python39\\lib\\site-packages\\openfl\\component\\aggregator\\aggregator.py\u001b\\\u001b[2maggregator.py\u001b[0m\u001b]8;;\u001b\\\u001b[2m:\u001b[0m\u001b]8;id=103419;file://C:\\Users\\BHSU\\AppData\\Local\\Programs\\Python\\Python39\\lib\\site-packages\\openfl\\component\\aggregator\\aggregator.py#559\u001b\\\u001b[2m559\u001b[0m\u001b]8;;\u001b\\\n"
      ]
     },
     "metadata": {},
     "output_type": "display_data"
    },
    {
     "data": {
      "text/html": [
       "<pre style=\"white-space:pre;overflow-x:auto;line-height:normal;font-family:Menlo,'DejaVu Sans Mono',consolas,'Courier New',monospace\"><span style=\"color: #7fbfbf; text-decoration-color: #7fbfbf\">           </span>METRIC   Round <span style=\"color: #008080; text-decoration-color: #008080; font-weight: bold\">3</span>, aggregator: train <span style=\"font-weight: bold\">&lt;</span><span style=\"color: #ff00ff; text-decoration-color: #ff00ff; font-weight: bold\">openfl.interface.aggregation_functions.weighted_average.WeightedAverage</span><span style=\"color: #000000; text-decoration-color: #000000\"> object at </span>             <a href=\"file://C:\\Users\\BHSU\\AppData\\Local\\Programs\\Python\\Python39\\lib\\site-packages\\openfl\\component\\aggregator\\aggregator.py\" target=\"_blank\"><span style=\"color: #7f7f7f; text-decoration-color: #7f7f7f\">aggregator.py</span></a><span style=\"color: #7f7f7f; text-decoration-color: #7f7f7f\">:</span><a href=\"file://C:\\Users\\BHSU\\AppData\\Local\\Programs\\Python\\Python39\\lib\\site-packages\\openfl\\component\\aggregator\\aggregator.py#842\" target=\"_blank\"><span style=\"color: #7f7f7f; text-decoration-color: #7f7f7f\">842</span></a>\n",
       "<span style=\"color: #7fbfbf; text-decoration-color: #7fbfbf\">           </span>         <span style=\"color: #008080; text-decoration-color: #008080; font-weight: bold\">0x000002302EDD6A60</span><span style=\"font-weight: bold\">&gt;</span> loss: <span style=\"color: #008080; text-decoration-color: #008080; font-weight: bold\">0.182124</span>                                                                                         <span style=\"color: #7f7f7f; text-decoration-color: #7f7f7f\">                 </span>\n",
       "</pre>\n"
      ],
      "text/plain": [
       "\u001b[2;36m          \u001b[0m\u001b[2;36m \u001b[0mMETRIC   Round \u001b[1;36m3\u001b[0m, aggregator: train \u001b[1m<\u001b[0m\u001b[1;95mopenfl.interface.aggregation_functions.weighted_average.WeightedAverage\u001b[0m\u001b[39m object at \u001b[0m             \u001b]8;id=360179;file://C:\\Users\\BHSU\\AppData\\Local\\Programs\\Python\\Python39\\lib\\site-packages\\openfl\\component\\aggregator\\aggregator.py\u001b\\\u001b[2maggregator.py\u001b[0m\u001b]8;;\u001b\\\u001b[2m:\u001b[0m\u001b]8;id=98319;file://C:\\Users\\BHSU\\AppData\\Local\\Programs\\Python\\Python39\\lib\\site-packages\\openfl\\component\\aggregator\\aggregator.py#842\u001b\\\u001b[2m842\u001b[0m\u001b]8;;\u001b\\\n",
       "\u001b[2;36m           \u001b[0m         \u001b[1;36m0x000002302EDD6A60\u001b[0m\u001b[1m>\u001b[0m loss: \u001b[1;36m0.182124\u001b[0m                                                                                         \u001b[2m                 \u001b[0m\n"
      ]
     },
     "metadata": {},
     "output_type": "display_data"
    },
    {
     "data": {
      "text/html": [
       "<pre style=\"white-space:pre;overflow-x:auto;line-height:normal;font-family:Menlo,'DejaVu Sans Mono',consolas,'Courier New',monospace\"><span style=\"color: #7fbfbf; text-decoration-color: #7fbfbf\">           </span>METRIC   Round <span style=\"color: #008080; text-decoration-color: #008080; font-weight: bold\">3</span>, aggregator: aggregated_model_validation <span style=\"font-weight: bold\">&lt;</span><span style=\"color: #ff00ff; text-decoration-color: #ff00ff; font-weight: bold\">openfl.interface.aggregation_functions.weighted_average.WeightedAverage</span><span style=\"color: #000000; text-decoration-color: #000000\"> </span> <a href=\"file://C:\\Users\\BHSU\\AppData\\Local\\Programs\\Python\\Python39\\lib\\site-packages\\openfl\\component\\aggregator\\aggregator.py\" target=\"_blank\"><span style=\"color: #7f7f7f; text-decoration-color: #7f7f7f\">aggregator.py</span></a><span style=\"color: #7f7f7f; text-decoration-color: #7f7f7f\">:</span><a href=\"file://C:\\Users\\BHSU\\AppData\\Local\\Programs\\Python\\Python39\\lib\\site-packages\\openfl\\component\\aggregator\\aggregator.py#842\" target=\"_blank\"><span style=\"color: #7f7f7f; text-decoration-color: #7f7f7f\">842</span></a>\n",
       "<span style=\"color: #7fbfbf; text-decoration-color: #7fbfbf\">           </span>         <span style=\"color: #000000; text-decoration-color: #000000\">object at </span><span style=\"color: #008080; text-decoration-color: #008080; font-weight: bold\">0x000002302EDD6A60</span><span style=\"font-weight: bold\">&gt;</span> accuracy:       <span style=\"color: #008080; text-decoration-color: #008080; font-weight: bold\">0.940944</span>                                                                     <span style=\"color: #7f7f7f; text-decoration-color: #7f7f7f\">                 </span>\n",
       "</pre>\n"
      ],
      "text/plain": [
       "\u001b[2;36m          \u001b[0m\u001b[2;36m \u001b[0mMETRIC   Round \u001b[1;36m3\u001b[0m, aggregator: aggregated_model_validation \u001b[1m<\u001b[0m\u001b[1;95mopenfl.interface.aggregation_functions.weighted_average.WeightedAverage\u001b[0m\u001b[39m \u001b[0m \u001b]8;id=712727;file://C:\\Users\\BHSU\\AppData\\Local\\Programs\\Python\\Python39\\lib\\site-packages\\openfl\\component\\aggregator\\aggregator.py\u001b\\\u001b[2maggregator.py\u001b[0m\u001b]8;;\u001b\\\u001b[2m:\u001b[0m\u001b]8;id=816090;file://C:\\Users\\BHSU\\AppData\\Local\\Programs\\Python\\Python39\\lib\\site-packages\\openfl\\component\\aggregator\\aggregator.py#842\u001b\\\u001b[2m842\u001b[0m\u001b]8;;\u001b\\\n",
       "\u001b[2;36m           \u001b[0m         \u001b[39mobject at \u001b[0m\u001b[1;36m0x000002302EDD6A60\u001b[0m\u001b[1m>\u001b[0m accuracy:       \u001b[1;36m0.940944\u001b[0m                                                                     \u001b[2m                 \u001b[0m\n"
      ]
     },
     "metadata": {},
     "output_type": "display_data"
    },
    {
     "data": {
      "text/html": [
       "<pre style=\"white-space:pre;overflow-x:auto;line-height:normal;font-family:Menlo,'DejaVu Sans Mono',consolas,'Courier New',monospace\"><span style=\"color: #7fbfbf; text-decoration-color: #7fbfbf\">           </span>METRIC   Round <span style=\"color: #008080; text-decoration-color: #008080; font-weight: bold\">3</span>: saved the best model with score <span style=\"color: #008080; text-decoration-color: #008080; font-weight: bold\">0.940944</span>                                                                          <a href=\"file://C:\\Users\\BHSU\\AppData\\Local\\Programs\\Python\\Python39\\lib\\site-packages\\openfl\\component\\aggregator\\aggregator.py\" target=\"_blank\"><span style=\"color: #7f7f7f; text-decoration-color: #7f7f7f\">aggregator.py</span></a><span style=\"color: #7f7f7f; text-decoration-color: #7f7f7f\">:</span><a href=\"file://C:\\Users\\BHSU\\AppData\\Local\\Programs\\Python\\Python39\\lib\\site-packages\\openfl\\component\\aggregator\\aggregator.py#858\" target=\"_blank\"><span style=\"color: #7f7f7f; text-decoration-color: #7f7f7f\">858</span></a>\n",
       "</pre>\n"
      ],
      "text/plain": [
       "\u001b[2;36m          \u001b[0m\u001b[2;36m \u001b[0mMETRIC   Round \u001b[1;36m3\u001b[0m: saved the best model with score \u001b[1;36m0.940944\u001b[0m                                                                          \u001b]8;id=904678;file://C:\\Users\\BHSU\\AppData\\Local\\Programs\\Python\\Python39\\lib\\site-packages\\openfl\\component\\aggregator\\aggregator.py\u001b\\\u001b[2maggregator.py\u001b[0m\u001b]8;;\u001b\\\u001b[2m:\u001b[0m\u001b]8;id=601237;file://C:\\Users\\BHSU\\AppData\\Local\\Programs\\Python\\Python39\\lib\\site-packages\\openfl\\component\\aggregator\\aggregator.py#858\u001b\\\u001b[2m858\u001b[0m\u001b]8;;\u001b\\\n"
      ]
     },
     "metadata": {},
     "output_type": "display_data"
    },
    {
     "data": {
      "text/html": [
       "<pre style=\"white-space:pre;overflow-x:auto;line-height:normal;font-family:Menlo,'DejaVu Sans Mono',consolas,'Courier New',monospace\"><span style=\"color: #7fbfbf; text-decoration-color: #7fbfbf\">           </span>METRIC   Round <span style=\"color: #008080; text-decoration-color: #008080; font-weight: bold\">3</span>, aggregator: locally_tuned_model_validation                                                                        <a href=\"file://C:\\Users\\BHSU\\AppData\\Local\\Programs\\Python\\Python39\\lib\\site-packages\\openfl\\component\\aggregator\\aggregator.py\" target=\"_blank\"><span style=\"color: #7f7f7f; text-decoration-color: #7f7f7f\">aggregator.py</span></a><span style=\"color: #7f7f7f; text-decoration-color: #7f7f7f\">:</span><a href=\"file://C:\\Users\\BHSU\\AppData\\Local\\Programs\\Python\\Python39\\lib\\site-packages\\openfl\\component\\aggregator\\aggregator.py#842\" target=\"_blank\"><span style=\"color: #7f7f7f; text-decoration-color: #7f7f7f\">842</span></a>\n",
       "<span style=\"color: #7fbfbf; text-decoration-color: #7fbfbf\">           </span>         <span style=\"font-weight: bold\">&lt;</span><span style=\"color: #ff00ff; text-decoration-color: #ff00ff; font-weight: bold\">openfl.interface.aggregation_functions.weighted_average.WeightedAverage</span><span style=\"color: #000000; text-decoration-color: #000000\"> object at </span><span style=\"color: #008080; text-decoration-color: #008080; font-weight: bold\">0x000002302EDD6A60</span><span style=\"font-weight: bold\">&gt;</span> accuracy:           <span style=\"color: #7f7f7f; text-decoration-color: #7f7f7f\">                 </span>\n",
       "<span style=\"color: #7fbfbf; text-decoration-color: #7fbfbf\">           </span>         <span style=\"color: #008080; text-decoration-color: #008080; font-weight: bold\">0.944500</span>                                                                                                                   <span style=\"color: #7f7f7f; text-decoration-color: #7f7f7f\">                 </span>\n",
       "</pre>\n"
      ],
      "text/plain": [
       "\u001b[2;36m          \u001b[0m\u001b[2;36m \u001b[0mMETRIC   Round \u001b[1;36m3\u001b[0m, aggregator: locally_tuned_model_validation                                                                        \u001b]8;id=677022;file://C:\\Users\\BHSU\\AppData\\Local\\Programs\\Python\\Python39\\lib\\site-packages\\openfl\\component\\aggregator\\aggregator.py\u001b\\\u001b[2maggregator.py\u001b[0m\u001b]8;;\u001b\\\u001b[2m:\u001b[0m\u001b]8;id=238606;file://C:\\Users\\BHSU\\AppData\\Local\\Programs\\Python\\Python39\\lib\\site-packages\\openfl\\component\\aggregator\\aggregator.py#842\u001b\\\u001b[2m842\u001b[0m\u001b]8;;\u001b\\\n",
       "\u001b[2;36m           \u001b[0m         \u001b[1m<\u001b[0m\u001b[1;95mopenfl.interface.aggregation_functions.weighted_average.WeightedAverage\u001b[0m\u001b[39m object at \u001b[0m\u001b[1;36m0x000002302EDD6A60\u001b[0m\u001b[1m>\u001b[0m accuracy:           \u001b[2m                 \u001b[0m\n",
       "\u001b[2;36m           \u001b[0m         \u001b[1;36m0.944500\u001b[0m                                                                                                                   \u001b[2m                 \u001b[0m\n"
      ]
     },
     "metadata": {},
     "output_type": "display_data"
    },
    {
     "data": {
      "text/html": [
       "<pre style=\"white-space:pre;overflow-x:auto;line-height:normal;font-family:Menlo,'DejaVu Sans Mono',consolas,'Courier New',monospace\"><span style=\"color: #7fbfbf; text-decoration-color: #7fbfbf\">           </span><span style=\"color: #000080; text-decoration-color: #000080\">INFO    </span> Saving round <span style=\"color: #008080; text-decoration-color: #008080; font-weight: bold\">4</span> model<span style=\"color: #808000; text-decoration-color: #808000\">...</span>                                                                                                    <a href=\"file://C:\\Users\\BHSU\\AppData\\Local\\Programs\\Python\\Python39\\lib\\site-packages\\openfl\\component\\aggregator\\aggregator.py\" target=\"_blank\"><span style=\"color: #7f7f7f; text-decoration-color: #7f7f7f\">aggregator.py</span></a><span style=\"color: #7f7f7f; text-decoration-color: #7f7f7f\">:</span><a href=\"file://C:\\Users\\BHSU\\AppData\\Local\\Programs\\Python\\Python39\\lib\\site-packages\\openfl\\component\\aggregator\\aggregator.py#894\" target=\"_blank\"><span style=\"color: #7f7f7f; text-decoration-color: #7f7f7f\">894</span></a>\n",
       "</pre>\n"
      ],
      "text/plain": [
       "\u001b[2;36m          \u001b[0m\u001b[2;36m \u001b[0m\u001b[34mINFO    \u001b[0m Saving round \u001b[1;36m4\u001b[0m model\u001b[33m...\u001b[0m                                                                                                    \u001b]8;id=215188;file://C:\\Users\\BHSU\\AppData\\Local\\Programs\\Python\\Python39\\lib\\site-packages\\openfl\\component\\aggregator\\aggregator.py\u001b\\\u001b[2maggregator.py\u001b[0m\u001b]8;;\u001b\\\u001b[2m:\u001b[0m\u001b]8;id=502956;file://C:\\Users\\BHSU\\AppData\\Local\\Programs\\Python\\Python39\\lib\\site-packages\\openfl\\component\\aggregator\\aggregator.py#894\u001b\\\u001b[2m894\u001b[0m\u001b]8;;\u001b\\\n"
      ]
     },
     "metadata": {},
     "output_type": "display_data"
    },
    {
     "data": {
      "text/html": [
       "<pre style=\"white-space:pre;overflow-x:auto;line-height:normal;font-family:Menlo,'DejaVu Sans Mono',consolas,'Courier New',monospace\"><span style=\"color: #7fbfbf; text-decoration-color: #7fbfbf\">           </span><span style=\"color: #000080; text-decoration-color: #000080\">INFO    </span> Starting round <span style=\"color: #008080; text-decoration-color: #008080; font-weight: bold\">4</span><span style=\"color: #808000; text-decoration-color: #808000\">...</span>                                                                                                        <a href=\"file://C:\\Users\\BHSU\\AppData\\Local\\Programs\\Python\\Python39\\lib\\site-packages\\openfl\\component\\aggregator\\aggregator.py\" target=\"_blank\"><span style=\"color: #7f7f7f; text-decoration-color: #7f7f7f\">aggregator.py</span></a><span style=\"color: #7f7f7f; text-decoration-color: #7f7f7f\">:</span><a href=\"file://C:\\Users\\BHSU\\AppData\\Local\\Programs\\Python\\Python39\\lib\\site-packages\\openfl\\component\\aggregator\\aggregator.py#901\" target=\"_blank\"><span style=\"color: #7f7f7f; text-decoration-color: #7f7f7f\">901</span></a>\n",
       "</pre>\n"
      ],
      "text/plain": [
       "\u001b[2;36m          \u001b[0m\u001b[2;36m \u001b[0m\u001b[34mINFO    \u001b[0m Starting round \u001b[1;36m4\u001b[0m\u001b[33m...\u001b[0m                                                                                                        \u001b]8;id=416005;file://C:\\Users\\BHSU\\AppData\\Local\\Programs\\Python\\Python39\\lib\\site-packages\\openfl\\component\\aggregator\\aggregator.py\u001b\\\u001b[2maggregator.py\u001b[0m\u001b]8;;\u001b\\\u001b[2m:\u001b[0m\u001b]8;id=928104;file://C:\\Users\\BHSU\\AppData\\Local\\Programs\\Python\\Python39\\lib\\site-packages\\openfl\\component\\aggregator\\aggregator.py#901\u001b\\\u001b[2m901\u001b[0m\u001b]8;;\u001b\\\n"
      ]
     },
     "metadata": {},
     "output_type": "display_data"
    },
    {
     "data": {
      "text/html": [
       "<pre style=\"white-space:pre;overflow-x:auto;line-height:normal;font-family:Menlo,'DejaVu Sans Mono',consolas,'Courier New',monospace\"><span style=\"color: #7fbfbf; text-decoration-color: #7fbfbf\">           </span><span style=\"color: #000080; text-decoration-color: #000080\">INFO    </span> All tasks completed on two for round <span style=\"color: #008080; text-decoration-color: #008080; font-weight: bold\">3</span><span style=\"color: #808000; text-decoration-color: #808000\">...</span>                                                                                <a href=\"file://C:\\Users\\BHSU\\AppData\\Local\\Programs\\Python\\Python39\\lib\\site-packages\\openfl\\component\\collaborator\\collaborator.py\" target=\"_blank\"><span style=\"color: #7f7f7f; text-decoration-color: #7f7f7f\">collaborator.py</span></a><span style=\"color: #7f7f7f; text-decoration-color: #7f7f7f\">:</span><a href=\"file://C:\\Users\\BHSU\\AppData\\Local\\Programs\\Python\\Python39\\lib\\site-packages\\openfl\\component\\collaborator\\collaborator.py#171\" target=\"_blank\"><span style=\"color: #7f7f7f; text-decoration-color: #7f7f7f\">171</span></a>\n",
       "</pre>\n"
      ],
      "text/plain": [
       "\u001b[2;36m          \u001b[0m\u001b[2;36m \u001b[0m\u001b[34mINFO    \u001b[0m All tasks completed on two for round \u001b[1;36m3\u001b[0m\u001b[33m...\u001b[0m                                                                                \u001b]8;id=373280;file://C:\\Users\\BHSU\\AppData\\Local\\Programs\\Python\\Python39\\lib\\site-packages\\openfl\\component\\collaborator\\collaborator.py\u001b\\\u001b[2mcollaborator.py\u001b[0m\u001b]8;;\u001b\\\u001b[2m:\u001b[0m\u001b]8;id=960128;file://C:\\Users\\BHSU\\AppData\\Local\\Programs\\Python\\Python39\\lib\\site-packages\\openfl\\component\\collaborator\\collaborator.py#171\u001b\\\u001b[2m171\u001b[0m\u001b]8;;\u001b\\\n"
      ]
     },
     "metadata": {},
     "output_type": "display_data"
    },
    {
     "data": {
      "text/html": [
       "<pre style=\"white-space:pre;overflow-x:auto;line-height:normal;font-family:Menlo,'DejaVu Sans Mono',consolas,'Courier New',monospace\"><span style=\"color: #7fbfbf; text-decoration-color: #7fbfbf\">           </span><span style=\"color: #000080; text-decoration-color: #000080\">INFO    </span> Waiting for tasks<span style=\"color: #808000; text-decoration-color: #808000\">...</span>                                                                                                     <a href=\"file://C:\\Users\\BHSU\\AppData\\Local\\Programs\\Python\\Python39\\lib\\site-packages\\openfl\\component\\collaborator\\collaborator.py\" target=\"_blank\"><span style=\"color: #7f7f7f; text-decoration-color: #7f7f7f\">collaborator.py</span></a><span style=\"color: #7f7f7f; text-decoration-color: #7f7f7f\">:</span><a href=\"file://C:\\Users\\BHSU\\AppData\\Local\\Programs\\Python\\Python39\\lib\\site-packages\\openfl\\component\\collaborator\\collaborator.py#178\" target=\"_blank\"><span style=\"color: #7f7f7f; text-decoration-color: #7f7f7f\">178</span></a>\n",
       "</pre>\n"
      ],
      "text/plain": [
       "\u001b[2;36m          \u001b[0m\u001b[2;36m \u001b[0m\u001b[34mINFO    \u001b[0m Waiting for tasks\u001b[33m...\u001b[0m                                                                                                     \u001b]8;id=204724;file://C:\\Users\\BHSU\\AppData\\Local\\Programs\\Python\\Python39\\lib\\site-packages\\openfl\\component\\collaborator\\collaborator.py\u001b\\\u001b[2mcollaborator.py\u001b[0m\u001b]8;;\u001b\\\u001b[2m:\u001b[0m\u001b]8;id=76755;file://C:\\Users\\BHSU\\AppData\\Local\\Programs\\Python\\Python39\\lib\\site-packages\\openfl\\component\\collaborator\\collaborator.py#178\u001b\\\u001b[2m178\u001b[0m\u001b]8;;\u001b\\\n"
      ]
     },
     "metadata": {},
     "output_type": "display_data"
    },
    {
     "data": {
      "text/html": [
       "<pre style=\"white-space:pre;overflow-x:auto;line-height:normal;font-family:Menlo,'DejaVu Sans Mono',consolas,'Courier New',monospace\"><span style=\"color: #7fbfbf; text-decoration-color: #7fbfbf\">           </span><span style=\"color: #000080; text-decoration-color: #000080\">INFO    </span> Sending tasks to collaborator one for round <span style=\"color: #008080; text-decoration-color: #008080; font-weight: bold\">4</span>                                                                              <a href=\"file://C:\\Users\\BHSU\\AppData\\Local\\Programs\\Python\\Python39\\lib\\site-packages\\openfl\\component\\aggregator\\aggregator.py\" target=\"_blank\"><span style=\"color: #7f7f7f; text-decoration-color: #7f7f7f\">aggregator.py</span></a><span style=\"color: #7f7f7f; text-decoration-color: #7f7f7f\">:</span><a href=\"file://C:\\Users\\BHSU\\AppData\\Local\\Programs\\Python\\Python39\\lib\\site-packages\\openfl\\component\\aggregator\\aggregator.py#329\" target=\"_blank\"><span style=\"color: #7f7f7f; text-decoration-color: #7f7f7f\">329</span></a>\n",
       "</pre>\n"
      ],
      "text/plain": [
       "\u001b[2;36m          \u001b[0m\u001b[2;36m \u001b[0m\u001b[34mINFO    \u001b[0m Sending tasks to collaborator one for round \u001b[1;36m4\u001b[0m                                                                              \u001b]8;id=533431;file://C:\\Users\\BHSU\\AppData\\Local\\Programs\\Python\\Python39\\lib\\site-packages\\openfl\\component\\aggregator\\aggregator.py\u001b\\\u001b[2maggregator.py\u001b[0m\u001b]8;;\u001b\\\u001b[2m:\u001b[0m\u001b]8;id=111013;file://C:\\Users\\BHSU\\AppData\\Local\\Programs\\Python\\Python39\\lib\\site-packages\\openfl\\component\\aggregator\\aggregator.py#329\u001b\\\u001b[2m329\u001b[0m\u001b]8;;\u001b\\\n"
      ]
     },
     "metadata": {},
     "output_type": "display_data"
    },
    {
     "data": {
      "text/html": [
       "<pre style=\"white-space:pre;overflow-x:auto;line-height:normal;font-family:Menlo,'DejaVu Sans Mono',consolas,'Courier New',monospace\"><span style=\"color: #7fbfbf; text-decoration-color: #7fbfbf\">           </span><span style=\"color: #000080; text-decoration-color: #000080\">INFO    </span> Received the following tasks: <span style=\"font-weight: bold\">[</span><span style=\"color: #008000; text-decoration-color: #008000\">'aggregated_model_validation'</span>, <span style=\"color: #008000; text-decoration-color: #008000\">'train'</span>, <span style=\"color: #008000; text-decoration-color: #008000\">'locally_tuned_model_validation'</span><span style=\"font-weight: bold\">]</span>                 <a href=\"file://C:\\Users\\BHSU\\AppData\\Local\\Programs\\Python\\Python39\\lib\\site-packages\\openfl\\component\\collaborator\\collaborator.py\" target=\"_blank\"><span style=\"color: #7f7f7f; text-decoration-color: #7f7f7f\">collaborator.py</span></a><span style=\"color: #7f7f7f; text-decoration-color: #7f7f7f\">:</span><a href=\"file://C:\\Users\\BHSU\\AppData\\Local\\Programs\\Python\\Python39\\lib\\site-packages\\openfl\\component\\collaborator\\collaborator.py#168\" target=\"_blank\"><span style=\"color: #7f7f7f; text-decoration-color: #7f7f7f\">168</span></a>\n",
       "</pre>\n"
      ],
      "text/plain": [
       "\u001b[2;36m          \u001b[0m\u001b[2;36m \u001b[0m\u001b[34mINFO    \u001b[0m Received the following tasks: \u001b[1m[\u001b[0m\u001b[32m'aggregated_model_validation'\u001b[0m, \u001b[32m'train'\u001b[0m, \u001b[32m'locally_tuned_model_validation'\u001b[0m\u001b[1m]\u001b[0m                 \u001b]8;id=355311;file://C:\\Users\\BHSU\\AppData\\Local\\Programs\\Python\\Python39\\lib\\site-packages\\openfl\\component\\collaborator\\collaborator.py\u001b\\\u001b[2mcollaborator.py\u001b[0m\u001b]8;;\u001b\\\u001b[2m:\u001b[0m\u001b]8;id=139685;file://C:\\Users\\BHSU\\AppData\\Local\\Programs\\Python\\Python39\\lib\\site-packages\\openfl\\component\\collaborator\\collaborator.py#168\u001b\\\u001b[2m168\u001b[0m\u001b]8;;\u001b\\\n"
      ]
     },
     "metadata": {},
     "output_type": "display_data"
    },
    {
     "data": {
      "text/html": [
       "<pre style=\"white-space:pre;overflow-x:auto;line-height:normal;font-family:Menlo,'DejaVu Sans Mono',consolas,'Courier New',monospace\"><span style=\"color: #7fbfbf; text-decoration-color: #7fbfbf\">           </span><span style=\"color: #000080; text-decoration-color: #000080\">INFO    </span> Using TaskRunner subclassing API                                                                                         <a href=\"file://C:\\Users\\BHSU\\AppData\\Local\\Programs\\Python\\Python39\\lib\\site-packages\\openfl\\component\\collaborator\\collaborator.py\" target=\"_blank\"><span style=\"color: #7f7f7f; text-decoration-color: #7f7f7f\">collaborator.py</span></a><span style=\"color: #7f7f7f; text-decoration-color: #7f7f7f\">:</span><a href=\"file://C:\\Users\\BHSU\\AppData\\Local\\Programs\\Python\\Python39\\lib\\site-packages\\openfl\\component\\collaborator\\collaborator.py#253\" target=\"_blank\"><span style=\"color: #7f7f7f; text-decoration-color: #7f7f7f\">253</span></a>\n",
       "</pre>\n"
      ],
      "text/plain": [
       "\u001b[2;36m          \u001b[0m\u001b[2;36m \u001b[0m\u001b[34mINFO    \u001b[0m Using TaskRunner subclassing API                                                                                         \u001b]8;id=533699;file://C:\\Users\\BHSU\\AppData\\Local\\Programs\\Python\\Python39\\lib\\site-packages\\openfl\\component\\collaborator\\collaborator.py\u001b\\\u001b[2mcollaborator.py\u001b[0m\u001b]8;;\u001b\\\u001b[2m:\u001b[0m\u001b]8;id=770463;file://C:\\Users\\BHSU\\AppData\\Local\\Programs\\Python\\Python39\\lib\\site-packages\\openfl\\component\\collaborator\\collaborator.py#253\u001b\\\u001b[2m253\u001b[0m\u001b]8;;\u001b\\\n"
      ]
     },
     "metadata": {},
     "output_type": "display_data"
    },
    {
     "name": "stdout",
     "output_type": "stream",
     "text": [
      "282/282 [==============================] - 0s 558us/step - loss: 0.1539 - accuracy: 0.9549\n"
     ]
    },
    {
     "data": {
      "text/html": [
       "<pre style=\"white-space:pre;overflow-x:auto;line-height:normal;font-family:Menlo,'DejaVu Sans Mono',consolas,'Courier New',monospace\"><span style=\"color: #7fbfbf; text-decoration-color: #7fbfbf\">[10:46:32] </span>METRIC   Round <span style=\"color: #008080; text-decoration-color: #008080; font-weight: bold\">4</span>, collaborator one is sending metric for task aggregated_model_validation: accuracy      <span style=\"color: #008080; text-decoration-color: #008080; font-weight: bold\">0.954889</span>                 <a href=\"file://C:\\Users\\BHSU\\AppData\\Local\\Programs\\Python\\Python39\\lib\\site-packages\\openfl\\component\\collaborator\\collaborator.py\" target=\"_blank\"><span style=\"color: #7f7f7f; text-decoration-color: #7f7f7f\">collaborator.py</span></a><span style=\"color: #7f7f7f; text-decoration-color: #7f7f7f\">:</span><a href=\"file://C:\\Users\\BHSU\\AppData\\Local\\Programs\\Python\\Python39\\lib\\site-packages\\openfl\\component\\collaborator\\collaborator.py#415\" target=\"_blank\"><span style=\"color: #7f7f7f; text-decoration-color: #7f7f7f\">415</span></a>\n",
       "</pre>\n"
      ],
      "text/plain": [
       "\u001b[2;36m[10:46:32]\u001b[0m\u001b[2;36m \u001b[0mMETRIC   Round \u001b[1;36m4\u001b[0m, collaborator one is sending metric for task aggregated_model_validation: accuracy      \u001b[1;36m0.954889\u001b[0m                 \u001b]8;id=708700;file://C:\\Users\\BHSU\\AppData\\Local\\Programs\\Python\\Python39\\lib\\site-packages\\openfl\\component\\collaborator\\collaborator.py\u001b\\\u001b[2mcollaborator.py\u001b[0m\u001b]8;;\u001b\\\u001b[2m:\u001b[0m\u001b]8;id=67374;file://C:\\Users\\BHSU\\AppData\\Local\\Programs\\Python\\Python39\\lib\\site-packages\\openfl\\component\\collaborator\\collaborator.py#415\u001b\\\u001b[2m415\u001b[0m\u001b]8;;\u001b\\\n"
      ]
     },
     "metadata": {},
     "output_type": "display_data"
    },
    {
     "data": {
      "text/html": [
       "<pre style=\"white-space:pre;overflow-x:auto;line-height:normal;font-family:Menlo,'DejaVu Sans Mono',consolas,'Courier New',monospace\"><span style=\"color: #7fbfbf; text-decoration-color: #7fbfbf\">           </span><span style=\"color: #000080; text-decoration-color: #000080\">INFO    </span> Collaborator one is sending task results for aggregated_model_validation, round <span style=\"color: #008080; text-decoration-color: #008080; font-weight: bold\">4</span>                                          <a href=\"file://C:\\Users\\BHSU\\AppData\\Local\\Programs\\Python\\Python39\\lib\\site-packages\\openfl\\component\\aggregator\\aggregator.py\" target=\"_blank\"><span style=\"color: #7f7f7f; text-decoration-color: #7f7f7f\">aggregator.py</span></a><span style=\"color: #7f7f7f; text-decoration-color: #7f7f7f\">:</span><a href=\"file://C:\\Users\\BHSU\\AppData\\Local\\Programs\\Python\\Python39\\lib\\site-packages\\openfl\\component\\aggregator\\aggregator.py#520\" target=\"_blank\"><span style=\"color: #7f7f7f; text-decoration-color: #7f7f7f\">520</span></a>\n",
       "</pre>\n"
      ],
      "text/plain": [
       "\u001b[2;36m          \u001b[0m\u001b[2;36m \u001b[0m\u001b[34mINFO    \u001b[0m Collaborator one is sending task results for aggregated_model_validation, round \u001b[1;36m4\u001b[0m                                          \u001b]8;id=881147;file://C:\\Users\\BHSU\\AppData\\Local\\Programs\\Python\\Python39\\lib\\site-packages\\openfl\\component\\aggregator\\aggregator.py\u001b\\\u001b[2maggregator.py\u001b[0m\u001b]8;;\u001b\\\u001b[2m:\u001b[0m\u001b]8;id=651125;file://C:\\Users\\BHSU\\AppData\\Local\\Programs\\Python\\Python39\\lib\\site-packages\\openfl\\component\\aggregator\\aggregator.py#520\u001b\\\u001b[2m520\u001b[0m\u001b]8;;\u001b\\\n"
      ]
     },
     "metadata": {},
     "output_type": "display_data"
    },
    {
     "data": {
      "text/html": [
       "<pre style=\"white-space:pre;overflow-x:auto;line-height:normal;font-family:Menlo,'DejaVu Sans Mono',consolas,'Courier New',monospace\"><span style=\"color: #7fbfbf; text-decoration-color: #7fbfbf\">           </span>METRIC   Round <span style=\"color: #008080; text-decoration-color: #008080; font-weight: bold\">4</span>, collaborator validate_agg aggregated_model_validation result accuracy: <span style=\"color: #008080; text-decoration-color: #008080; font-weight: bold\">0.954889</span>                                   <a href=\"file://C:\\Users\\BHSU\\AppData\\Local\\Programs\\Python\\Python39\\lib\\site-packages\\openfl\\component\\aggregator\\aggregator.py\" target=\"_blank\"><span style=\"color: #7f7f7f; text-decoration-color: #7f7f7f\">aggregator.py</span></a><span style=\"color: #7f7f7f; text-decoration-color: #7f7f7f\">:</span><a href=\"file://C:\\Users\\BHSU\\AppData\\Local\\Programs\\Python\\Python39\\lib\\site-packages\\openfl\\component\\aggregator\\aggregator.py#559\" target=\"_blank\"><span style=\"color: #7f7f7f; text-decoration-color: #7f7f7f\">559</span></a>\n",
       "</pre>\n"
      ],
      "text/plain": [
       "\u001b[2;36m          \u001b[0m\u001b[2;36m \u001b[0mMETRIC   Round \u001b[1;36m4\u001b[0m, collaborator validate_agg aggregated_model_validation result accuracy: \u001b[1;36m0.954889\u001b[0m                                   \u001b]8;id=106018;file://C:\\Users\\BHSU\\AppData\\Local\\Programs\\Python\\Python39\\lib\\site-packages\\openfl\\component\\aggregator\\aggregator.py\u001b\\\u001b[2maggregator.py\u001b[0m\u001b]8;;\u001b\\\u001b[2m:\u001b[0m\u001b]8;id=211801;file://C:\\Users\\BHSU\\AppData\\Local\\Programs\\Python\\Python39\\lib\\site-packages\\openfl\\component\\aggregator\\aggregator.py#559\u001b\\\u001b[2m559\u001b[0m\u001b]8;;\u001b\\\n"
      ]
     },
     "metadata": {},
     "output_type": "display_data"
    },
    {
     "data": {
      "text/html": [
       "<pre style=\"white-space:pre;overflow-x:auto;line-height:normal;font-family:Menlo,'DejaVu Sans Mono',consolas,'Courier New',monospace\"><span style=\"color: #7fbfbf; text-decoration-color: #7fbfbf\">           </span><span style=\"color: #000080; text-decoration-color: #000080\">INFO    </span> Using TaskRunner subclassing API                                                                                         <a href=\"file://C:\\Users\\BHSU\\AppData\\Local\\Programs\\Python\\Python39\\lib\\site-packages\\openfl\\component\\collaborator\\collaborator.py\" target=\"_blank\"><span style=\"color: #7f7f7f; text-decoration-color: #7f7f7f\">collaborator.py</span></a><span style=\"color: #7f7f7f; text-decoration-color: #7f7f7f\">:</span><a href=\"file://C:\\Users\\BHSU\\AppData\\Local\\Programs\\Python\\Python39\\lib\\site-packages\\openfl\\component\\collaborator\\collaborator.py#253\" target=\"_blank\"><span style=\"color: #7f7f7f; text-decoration-color: #7f7f7f\">253</span></a>\n",
       "</pre>\n"
      ],
      "text/plain": [
       "\u001b[2;36m          \u001b[0m\u001b[2;36m \u001b[0m\u001b[34mINFO    \u001b[0m Using TaskRunner subclassing API                                                                                         \u001b]8;id=865332;file://C:\\Users\\BHSU\\AppData\\Local\\Programs\\Python\\Python39\\lib\\site-packages\\openfl\\component\\collaborator\\collaborator.py\u001b\\\u001b[2mcollaborator.py\u001b[0m\u001b]8;;\u001b\\\u001b[2m:\u001b[0m\u001b]8;id=896163;file://C:\\Users\\BHSU\\AppData\\Local\\Programs\\Python\\Python39\\lib\\site-packages\\openfl\\component\\collaborator\\collaborator.py#253\u001b\\\u001b[2m253\u001b[0m\u001b]8;;\u001b\\\n"
      ]
     },
     "metadata": {},
     "output_type": "display_data"
    },
    {
     "data": {
      "text/html": [
       "<pre style=\"white-space:pre;overflow-x:auto;line-height:normal;font-family:Menlo,'DejaVu Sans Mono',consolas,'Courier New',monospace\"><span style=\"color: #7fbfbf; text-decoration-color: #7fbfbf\">           </span><span style=\"color: #000080; text-decoration-color: #000080\">INFO    </span> Run <span style=\"color: #008080; text-decoration-color: #008080; font-weight: bold\">0</span> epoch of <span style=\"color: #008080; text-decoration-color: #008080; font-weight: bold\">4</span> round                                                                                                    <a href=\"file://C:\\Users\\BHSU\\AppData\\Local\\Programs\\Python\\Python39\\lib\\site-packages\\openfl\\federated\\task\\runner_keras.py\" target=\"_blank\"><span style=\"color: #7f7f7f; text-decoration-color: #7f7f7f\">runner_keras.py</span></a><span style=\"color: #7f7f7f; text-decoration-color: #7f7f7f\">:</span><a href=\"file://C:\\Users\\BHSU\\AppData\\Local\\Programs\\Python\\Python39\\lib\\site-packages\\openfl\\federated\\task\\runner_keras.py#83\" target=\"_blank\"><span style=\"color: #7f7f7f; text-decoration-color: #7f7f7f\">83</span></a>\n",
       "</pre>\n"
      ],
      "text/plain": [
       "\u001b[2;36m          \u001b[0m\u001b[2;36m \u001b[0m\u001b[34mINFO    \u001b[0m Run \u001b[1;36m0\u001b[0m epoch of \u001b[1;36m4\u001b[0m round                                                                                                    \u001b]8;id=763364;file://C:\\Users\\BHSU\\AppData\\Local\\Programs\\Python\\Python39\\lib\\site-packages\\openfl\\federated\\task\\runner_keras.py\u001b\\\u001b[2mrunner_keras.py\u001b[0m\u001b]8;;\u001b\\\u001b[2m:\u001b[0m\u001b]8;id=581037;file://C:\\Users\\BHSU\\AppData\\Local\\Programs\\Python\\Python39\\lib\\site-packages\\openfl\\federated\\task\\runner_keras.py#83\u001b\\\u001b[2m83\u001b[0m\u001b]8;;\u001b\\\n"
      ]
     },
     "metadata": {},
     "output_type": "display_data"
    },
    {
     "name": "stdout",
     "output_type": "stream",
     "text": [
      "657/657 [==============================] - 0s 611us/step - loss: 0.1632 - accuracy: 0.9497\n"
     ]
    },
    {
     "data": {
      "text/html": [
       "<pre style=\"white-space:pre;overflow-x:auto;line-height:normal;font-family:Menlo,'DejaVu Sans Mono',consolas,'Courier New',monospace\"><span style=\"color: #7fbfbf; text-decoration-color: #7fbfbf\">           </span>METRIC   Round <span style=\"color: #008080; text-decoration-color: #008080; font-weight: bold\">4</span>, collaborator one is sending metric for task train: loss        <span style=\"color: #008080; text-decoration-color: #008080; font-weight: bold\">0.163225</span>                                         <a href=\"file://C:\\Users\\BHSU\\AppData\\Local\\Programs\\Python\\Python39\\lib\\site-packages\\openfl\\component\\collaborator\\collaborator.py\" target=\"_blank\"><span style=\"color: #7f7f7f; text-decoration-color: #7f7f7f\">collaborator.py</span></a><span style=\"color: #7f7f7f; text-decoration-color: #7f7f7f\">:</span><a href=\"file://C:\\Users\\BHSU\\AppData\\Local\\Programs\\Python\\Python39\\lib\\site-packages\\openfl\\component\\collaborator\\collaborator.py#415\" target=\"_blank\"><span style=\"color: #7f7f7f; text-decoration-color: #7f7f7f\">415</span></a>\n",
       "</pre>\n"
      ],
      "text/plain": [
       "\u001b[2;36m          \u001b[0m\u001b[2;36m \u001b[0mMETRIC   Round \u001b[1;36m4\u001b[0m, collaborator one is sending metric for task train: loss        \u001b[1;36m0.163225\u001b[0m                                         \u001b]8;id=127481;file://C:\\Users\\BHSU\\AppData\\Local\\Programs\\Python\\Python39\\lib\\site-packages\\openfl\\component\\collaborator\\collaborator.py\u001b\\\u001b[2mcollaborator.py\u001b[0m\u001b]8;;\u001b\\\u001b[2m:\u001b[0m\u001b]8;id=508620;file://C:\\Users\\BHSU\\AppData\\Local\\Programs\\Python\\Python39\\lib\\site-packages\\openfl\\component\\collaborator\\collaborator.py#415\u001b\\\u001b[2m415\u001b[0m\u001b]8;;\u001b\\\n"
      ]
     },
     "metadata": {},
     "output_type": "display_data"
    },
    {
     "data": {
      "text/html": [
       "<pre style=\"white-space:pre;overflow-x:auto;line-height:normal;font-family:Menlo,'DejaVu Sans Mono',consolas,'Courier New',monospace\"><span style=\"color: #7fbfbf; text-decoration-color: #7fbfbf\">           </span><span style=\"color: #000080; text-decoration-color: #000080\">INFO    </span> Collaborator one is sending task results for train, round <span style=\"color: #008080; text-decoration-color: #008080; font-weight: bold\">4</span>                                                                <a href=\"file://C:\\Users\\BHSU\\AppData\\Local\\Programs\\Python\\Python39\\lib\\site-packages\\openfl\\component\\aggregator\\aggregator.py\" target=\"_blank\"><span style=\"color: #7f7f7f; text-decoration-color: #7f7f7f\">aggregator.py</span></a><span style=\"color: #7f7f7f; text-decoration-color: #7f7f7f\">:</span><a href=\"file://C:\\Users\\BHSU\\AppData\\Local\\Programs\\Python\\Python39\\lib\\site-packages\\openfl\\component\\aggregator\\aggregator.py#520\" target=\"_blank\"><span style=\"color: #7f7f7f; text-decoration-color: #7f7f7f\">520</span></a>\n",
       "</pre>\n"
      ],
      "text/plain": [
       "\u001b[2;36m          \u001b[0m\u001b[2;36m \u001b[0m\u001b[34mINFO    \u001b[0m Collaborator one is sending task results for train, round \u001b[1;36m4\u001b[0m                                                                \u001b]8;id=537656;file://C:\\Users\\BHSU\\AppData\\Local\\Programs\\Python\\Python39\\lib\\site-packages\\openfl\\component\\aggregator\\aggregator.py\u001b\\\u001b[2maggregator.py\u001b[0m\u001b]8;;\u001b\\\u001b[2m:\u001b[0m\u001b]8;id=563716;file://C:\\Users\\BHSU\\AppData\\Local\\Programs\\Python\\Python39\\lib\\site-packages\\openfl\\component\\aggregator\\aggregator.py#520\u001b\\\u001b[2m520\u001b[0m\u001b]8;;\u001b\\\n"
      ]
     },
     "metadata": {},
     "output_type": "display_data"
    },
    {
     "data": {
      "text/html": [
       "<pre style=\"white-space:pre;overflow-x:auto;line-height:normal;font-family:Menlo,'DejaVu Sans Mono',consolas,'Courier New',monospace\"><span style=\"color: #7fbfbf; text-decoration-color: #7fbfbf\">           </span>METRIC   Round <span style=\"color: #008080; text-decoration-color: #008080; font-weight: bold\">4</span>, collaborator one train result loss:    <span style=\"color: #008080; text-decoration-color: #008080; font-weight: bold\">0.163225</span>                                                                   <a href=\"file://C:\\Users\\BHSU\\AppData\\Local\\Programs\\Python\\Python39\\lib\\site-packages\\openfl\\component\\aggregator\\aggregator.py\" target=\"_blank\"><span style=\"color: #7f7f7f; text-decoration-color: #7f7f7f\">aggregator.py</span></a><span style=\"color: #7f7f7f; text-decoration-color: #7f7f7f\">:</span><a href=\"file://C:\\Users\\BHSU\\AppData\\Local\\Programs\\Python\\Python39\\lib\\site-packages\\openfl\\component\\aggregator\\aggregator.py#559\" target=\"_blank\"><span style=\"color: #7f7f7f; text-decoration-color: #7f7f7f\">559</span></a>\n",
       "</pre>\n"
      ],
      "text/plain": [
       "\u001b[2;36m          \u001b[0m\u001b[2;36m \u001b[0mMETRIC   Round \u001b[1;36m4\u001b[0m, collaborator one train result loss:    \u001b[1;36m0.163225\u001b[0m                                                                   \u001b]8;id=82046;file://C:\\Users\\BHSU\\AppData\\Local\\Programs\\Python\\Python39\\lib\\site-packages\\openfl\\component\\aggregator\\aggregator.py\u001b\\\u001b[2maggregator.py\u001b[0m\u001b]8;;\u001b\\\u001b[2m:\u001b[0m\u001b]8;id=998832;file://C:\\Users\\BHSU\\AppData\\Local\\Programs\\Python\\Python39\\lib\\site-packages\\openfl\\component\\aggregator\\aggregator.py#559\u001b\\\u001b[2m559\u001b[0m\u001b]8;;\u001b\\\n"
      ]
     },
     "metadata": {},
     "output_type": "display_data"
    },
    {
     "data": {
      "text/html": [
       "<pre style=\"white-space:pre;overflow-x:auto;line-height:normal;font-family:Menlo,'DejaVu Sans Mono',consolas,'Courier New',monospace\"><span style=\"color: #7fbfbf; text-decoration-color: #7fbfbf\">           </span><span style=\"color: #000080; text-decoration-color: #000080\">INFO    </span> Using TaskRunner subclassing API                                                                                         <a href=\"file://C:\\Users\\BHSU\\AppData\\Local\\Programs\\Python\\Python39\\lib\\site-packages\\openfl\\component\\collaborator\\collaborator.py\" target=\"_blank\"><span style=\"color: #7f7f7f; text-decoration-color: #7f7f7f\">collaborator.py</span></a><span style=\"color: #7f7f7f; text-decoration-color: #7f7f7f\">:</span><a href=\"file://C:\\Users\\BHSU\\AppData\\Local\\Programs\\Python\\Python39\\lib\\site-packages\\openfl\\component\\collaborator\\collaborator.py#253\" target=\"_blank\"><span style=\"color: #7f7f7f; text-decoration-color: #7f7f7f\">253</span></a>\n",
       "</pre>\n"
      ],
      "text/plain": [
       "\u001b[2;36m          \u001b[0m\u001b[2;36m \u001b[0m\u001b[34mINFO    \u001b[0m Using TaskRunner subclassing API                                                                                         \u001b]8;id=701871;file://C:\\Users\\BHSU\\AppData\\Local\\Programs\\Python\\Python39\\lib\\site-packages\\openfl\\component\\collaborator\\collaborator.py\u001b\\\u001b[2mcollaborator.py\u001b[0m\u001b]8;;\u001b\\\u001b[2m:\u001b[0m\u001b]8;id=335663;file://C:\\Users\\BHSU\\AppData\\Local\\Programs\\Python\\Python39\\lib\\site-packages\\openfl\\component\\collaborator\\collaborator.py#253\u001b\\\u001b[2m253\u001b[0m\u001b]8;;\u001b\\\n"
      ]
     },
     "metadata": {},
     "output_type": "display_data"
    },
    {
     "name": "stdout",
     "output_type": "stream",
     "text": [
      "282/282 [==============================] - 0s 498us/step - loss: 0.1682 - accuracy: 0.9498\n"
     ]
    },
    {
     "data": {
      "text/html": [
       "<pre style=\"white-space:pre;overflow-x:auto;line-height:normal;font-family:Menlo,'DejaVu Sans Mono',consolas,'Courier New',monospace\"><span style=\"color: #7fbfbf; text-decoration-color: #7fbfbf\">           </span>METRIC   Round <span style=\"color: #008080; text-decoration-color: #008080; font-weight: bold\">4</span>, collaborator one is sending metric for task locally_tuned_model_validation: accuracy   <span style=\"color: #008080; text-decoration-color: #008080; font-weight: bold\">0.949778</span>                 <a href=\"file://C:\\Users\\BHSU\\AppData\\Local\\Programs\\Python\\Python39\\lib\\site-packages\\openfl\\component\\collaborator\\collaborator.py\" target=\"_blank\"><span style=\"color: #7f7f7f; text-decoration-color: #7f7f7f\">collaborator.py</span></a><span style=\"color: #7f7f7f; text-decoration-color: #7f7f7f\">:</span><a href=\"file://C:\\Users\\BHSU\\AppData\\Local\\Programs\\Python\\Python39\\lib\\site-packages\\openfl\\component\\collaborator\\collaborator.py#415\" target=\"_blank\"><span style=\"color: #7f7f7f; text-decoration-color: #7f7f7f\">415</span></a>\n",
       "</pre>\n"
      ],
      "text/plain": [
       "\u001b[2;36m          \u001b[0m\u001b[2;36m \u001b[0mMETRIC   Round \u001b[1;36m4\u001b[0m, collaborator one is sending metric for task locally_tuned_model_validation: accuracy   \u001b[1;36m0.949778\u001b[0m                 \u001b]8;id=417748;file://C:\\Users\\BHSU\\AppData\\Local\\Programs\\Python\\Python39\\lib\\site-packages\\openfl\\component\\collaborator\\collaborator.py\u001b\\\u001b[2mcollaborator.py\u001b[0m\u001b]8;;\u001b\\\u001b[2m:\u001b[0m\u001b]8;id=607824;file://C:\\Users\\BHSU\\AppData\\Local\\Programs\\Python\\Python39\\lib\\site-packages\\openfl\\component\\collaborator\\collaborator.py#415\u001b\\\u001b[2m415\u001b[0m\u001b]8;;\u001b\\\n"
      ]
     },
     "metadata": {},
     "output_type": "display_data"
    },
    {
     "data": {
      "text/html": [
       "<pre style=\"white-space:pre;overflow-x:auto;line-height:normal;font-family:Menlo,'DejaVu Sans Mono',consolas,'Courier New',monospace\"><span style=\"color: #7fbfbf; text-decoration-color: #7fbfbf\">           </span><span style=\"color: #000080; text-decoration-color: #000080\">INFO    </span> Collaborator one is sending task results for locally_tuned_model_validation, round <span style=\"color: #008080; text-decoration-color: #008080; font-weight: bold\">4</span>                                       <a href=\"file://C:\\Users\\BHSU\\AppData\\Local\\Programs\\Python\\Python39\\lib\\site-packages\\openfl\\component\\aggregator\\aggregator.py\" target=\"_blank\"><span style=\"color: #7f7f7f; text-decoration-color: #7f7f7f\">aggregator.py</span></a><span style=\"color: #7f7f7f; text-decoration-color: #7f7f7f\">:</span><a href=\"file://C:\\Users\\BHSU\\AppData\\Local\\Programs\\Python\\Python39\\lib\\site-packages\\openfl\\component\\aggregator\\aggregator.py#520\" target=\"_blank\"><span style=\"color: #7f7f7f; text-decoration-color: #7f7f7f\">520</span></a>\n",
       "</pre>\n"
      ],
      "text/plain": [
       "\u001b[2;36m          \u001b[0m\u001b[2;36m \u001b[0m\u001b[34mINFO    \u001b[0m Collaborator one is sending task results for locally_tuned_model_validation, round \u001b[1;36m4\u001b[0m                                       \u001b]8;id=894642;file://C:\\Users\\BHSU\\AppData\\Local\\Programs\\Python\\Python39\\lib\\site-packages\\openfl\\component\\aggregator\\aggregator.py\u001b\\\u001b[2maggregator.py\u001b[0m\u001b]8;;\u001b\\\u001b[2m:\u001b[0m\u001b]8;id=310290;file://C:\\Users\\BHSU\\AppData\\Local\\Programs\\Python\\Python39\\lib\\site-packages\\openfl\\component\\aggregator\\aggregator.py#520\u001b\\\u001b[2m520\u001b[0m\u001b]8;;\u001b\\\n"
      ]
     },
     "metadata": {},
     "output_type": "display_data"
    },
    {
     "data": {
      "text/html": [
       "<pre style=\"white-space:pre;overflow-x:auto;line-height:normal;font-family:Menlo,'DejaVu Sans Mono',consolas,'Courier New',monospace\"><span style=\"color: #7fbfbf; text-decoration-color: #7fbfbf\">           </span>METRIC   Round <span style=\"color: #008080; text-decoration-color: #008080; font-weight: bold\">4</span>, collaborator validate_local locally_tuned_model_validation result accuracy:    <span style=\"color: #008080; text-decoration-color: #008080; font-weight: bold\">0.949778</span>                           <a href=\"file://C:\\Users\\BHSU\\AppData\\Local\\Programs\\Python\\Python39\\lib\\site-packages\\openfl\\component\\aggregator\\aggregator.py\" target=\"_blank\"><span style=\"color: #7f7f7f; text-decoration-color: #7f7f7f\">aggregator.py</span></a><span style=\"color: #7f7f7f; text-decoration-color: #7f7f7f\">:</span><a href=\"file://C:\\Users\\BHSU\\AppData\\Local\\Programs\\Python\\Python39\\lib\\site-packages\\openfl\\component\\aggregator\\aggregator.py#559\" target=\"_blank\"><span style=\"color: #7f7f7f; text-decoration-color: #7f7f7f\">559</span></a>\n",
       "</pre>\n"
      ],
      "text/plain": [
       "\u001b[2;36m          \u001b[0m\u001b[2;36m \u001b[0mMETRIC   Round \u001b[1;36m4\u001b[0m, collaborator validate_local locally_tuned_model_validation result accuracy:    \u001b[1;36m0.949778\u001b[0m                           \u001b]8;id=886894;file://C:\\Users\\BHSU\\AppData\\Local\\Programs\\Python\\Python39\\lib\\site-packages\\openfl\\component\\aggregator\\aggregator.py\u001b\\\u001b[2maggregator.py\u001b[0m\u001b]8;;\u001b\\\u001b[2m:\u001b[0m\u001b]8;id=290776;file://C:\\Users\\BHSU\\AppData\\Local\\Programs\\Python\\Python39\\lib\\site-packages\\openfl\\component\\aggregator\\aggregator.py#559\u001b\\\u001b[2m559\u001b[0m\u001b]8;;\u001b\\\n"
      ]
     },
     "metadata": {},
     "output_type": "display_data"
    },
    {
     "data": {
      "text/html": [
       "<pre style=\"white-space:pre;overflow-x:auto;line-height:normal;font-family:Menlo,'DejaVu Sans Mono',consolas,'Courier New',monospace\"><span style=\"color: #7fbfbf; text-decoration-color: #7fbfbf\">           </span><span style=\"color: #000080; text-decoration-color: #000080\">INFO    </span> All tasks completed on one for round <span style=\"color: #008080; text-decoration-color: #008080; font-weight: bold\">4</span><span style=\"color: #808000; text-decoration-color: #808000\">...</span>                                                                                <a href=\"file://C:\\Users\\BHSU\\AppData\\Local\\Programs\\Python\\Python39\\lib\\site-packages\\openfl\\component\\collaborator\\collaborator.py\" target=\"_blank\"><span style=\"color: #7f7f7f; text-decoration-color: #7f7f7f\">collaborator.py</span></a><span style=\"color: #7f7f7f; text-decoration-color: #7f7f7f\">:</span><a href=\"file://C:\\Users\\BHSU\\AppData\\Local\\Programs\\Python\\Python39\\lib\\site-packages\\openfl\\component\\collaborator\\collaborator.py#171\" target=\"_blank\"><span style=\"color: #7f7f7f; text-decoration-color: #7f7f7f\">171</span></a>\n",
       "</pre>\n"
      ],
      "text/plain": [
       "\u001b[2;36m          \u001b[0m\u001b[2;36m \u001b[0m\u001b[34mINFO    \u001b[0m All tasks completed on one for round \u001b[1;36m4\u001b[0m\u001b[33m...\u001b[0m                                                                                \u001b]8;id=883185;file://C:\\Users\\BHSU\\AppData\\Local\\Programs\\Python\\Python39\\lib\\site-packages\\openfl\\component\\collaborator\\collaborator.py\u001b\\\u001b[2mcollaborator.py\u001b[0m\u001b]8;;\u001b\\\u001b[2m:\u001b[0m\u001b]8;id=733348;file://C:\\Users\\BHSU\\AppData\\Local\\Programs\\Python\\Python39\\lib\\site-packages\\openfl\\component\\collaborator\\collaborator.py#171\u001b\\\u001b[2m171\u001b[0m\u001b]8;;\u001b\\\n"
      ]
     },
     "metadata": {},
     "output_type": "display_data"
    },
    {
     "data": {
      "text/html": [
       "<pre style=\"white-space:pre;overflow-x:auto;line-height:normal;font-family:Menlo,'DejaVu Sans Mono',consolas,'Courier New',monospace\"><span style=\"color: #7fbfbf; text-decoration-color: #7fbfbf\">           </span><span style=\"color: #000080; text-decoration-color: #000080\">INFO    </span> Waiting for tasks<span style=\"color: #808000; text-decoration-color: #808000\">...</span>                                                                                                     <a href=\"file://C:\\Users\\BHSU\\AppData\\Local\\Programs\\Python\\Python39\\lib\\site-packages\\openfl\\component\\collaborator\\collaborator.py\" target=\"_blank\"><span style=\"color: #7f7f7f; text-decoration-color: #7f7f7f\">collaborator.py</span></a><span style=\"color: #7f7f7f; text-decoration-color: #7f7f7f\">:</span><a href=\"file://C:\\Users\\BHSU\\AppData\\Local\\Programs\\Python\\Python39\\lib\\site-packages\\openfl\\component\\collaborator\\collaborator.py#178\" target=\"_blank\"><span style=\"color: #7f7f7f; text-decoration-color: #7f7f7f\">178</span></a>\n",
       "</pre>\n"
      ],
      "text/plain": [
       "\u001b[2;36m          \u001b[0m\u001b[2;36m \u001b[0m\u001b[34mINFO    \u001b[0m Waiting for tasks\u001b[33m...\u001b[0m                                                                                                     \u001b]8;id=34508;file://C:\\Users\\BHSU\\AppData\\Local\\Programs\\Python\\Python39\\lib\\site-packages\\openfl\\component\\collaborator\\collaborator.py\u001b\\\u001b[2mcollaborator.py\u001b[0m\u001b]8;;\u001b\\\u001b[2m:\u001b[0m\u001b]8;id=41650;file://C:\\Users\\BHSU\\AppData\\Local\\Programs\\Python\\Python39\\lib\\site-packages\\openfl\\component\\collaborator\\collaborator.py#178\u001b\\\u001b[2m178\u001b[0m\u001b]8;;\u001b\\\n"
      ]
     },
     "metadata": {},
     "output_type": "display_data"
    },
    {
     "data": {
      "text/html": [
       "<pre style=\"white-space:pre;overflow-x:auto;line-height:normal;font-family:Menlo,'DejaVu Sans Mono',consolas,'Courier New',monospace\"><span style=\"color: #7fbfbf; text-decoration-color: #7fbfbf\">           </span><span style=\"color: #000080; text-decoration-color: #000080\">INFO    </span> Sending tasks to collaborator two for round <span style=\"color: #008080; text-decoration-color: #008080; font-weight: bold\">4</span>                                                                              <a href=\"file://C:\\Users\\BHSU\\AppData\\Local\\Programs\\Python\\Python39\\lib\\site-packages\\openfl\\component\\aggregator\\aggregator.py\" target=\"_blank\"><span style=\"color: #7f7f7f; text-decoration-color: #7f7f7f\">aggregator.py</span></a><span style=\"color: #7f7f7f; text-decoration-color: #7f7f7f\">:</span><a href=\"file://C:\\Users\\BHSU\\AppData\\Local\\Programs\\Python\\Python39\\lib\\site-packages\\openfl\\component\\aggregator\\aggregator.py#329\" target=\"_blank\"><span style=\"color: #7f7f7f; text-decoration-color: #7f7f7f\">329</span></a>\n",
       "</pre>\n"
      ],
      "text/plain": [
       "\u001b[2;36m          \u001b[0m\u001b[2;36m \u001b[0m\u001b[34mINFO    \u001b[0m Sending tasks to collaborator two for round \u001b[1;36m4\u001b[0m                                                                              \u001b]8;id=899824;file://C:\\Users\\BHSU\\AppData\\Local\\Programs\\Python\\Python39\\lib\\site-packages\\openfl\\component\\aggregator\\aggregator.py\u001b\\\u001b[2maggregator.py\u001b[0m\u001b]8;;\u001b\\\u001b[2m:\u001b[0m\u001b]8;id=878853;file://C:\\Users\\BHSU\\AppData\\Local\\Programs\\Python\\Python39\\lib\\site-packages\\openfl\\component\\aggregator\\aggregator.py#329\u001b\\\u001b[2m329\u001b[0m\u001b]8;;\u001b\\\n"
      ]
     },
     "metadata": {},
     "output_type": "display_data"
    },
    {
     "data": {
      "text/html": [
       "<pre style=\"white-space:pre;overflow-x:auto;line-height:normal;font-family:Menlo,'DejaVu Sans Mono',consolas,'Courier New',monospace\"><span style=\"color: #7fbfbf; text-decoration-color: #7fbfbf\">           </span><span style=\"color: #000080; text-decoration-color: #000080\">INFO    </span> Received the following tasks: <span style=\"font-weight: bold\">[</span><span style=\"color: #008000; text-decoration-color: #008000\">'aggregated_model_validation'</span>, <span style=\"color: #008000; text-decoration-color: #008000\">'train'</span>, <span style=\"color: #008000; text-decoration-color: #008000\">'locally_tuned_model_validation'</span><span style=\"font-weight: bold\">]</span>                 <a href=\"file://C:\\Users\\BHSU\\AppData\\Local\\Programs\\Python\\Python39\\lib\\site-packages\\openfl\\component\\collaborator\\collaborator.py\" target=\"_blank\"><span style=\"color: #7f7f7f; text-decoration-color: #7f7f7f\">collaborator.py</span></a><span style=\"color: #7f7f7f; text-decoration-color: #7f7f7f\">:</span><a href=\"file://C:\\Users\\BHSU\\AppData\\Local\\Programs\\Python\\Python39\\lib\\site-packages\\openfl\\component\\collaborator\\collaborator.py#168\" target=\"_blank\"><span style=\"color: #7f7f7f; text-decoration-color: #7f7f7f\">168</span></a>\n",
       "</pre>\n"
      ],
      "text/plain": [
       "\u001b[2;36m          \u001b[0m\u001b[2;36m \u001b[0m\u001b[34mINFO    \u001b[0m Received the following tasks: \u001b[1m[\u001b[0m\u001b[32m'aggregated_model_validation'\u001b[0m, \u001b[32m'train'\u001b[0m, \u001b[32m'locally_tuned_model_validation'\u001b[0m\u001b[1m]\u001b[0m                 \u001b]8;id=235753;file://C:\\Users\\BHSU\\AppData\\Local\\Programs\\Python\\Python39\\lib\\site-packages\\openfl\\component\\collaborator\\collaborator.py\u001b\\\u001b[2mcollaborator.py\u001b[0m\u001b]8;;\u001b\\\u001b[2m:\u001b[0m\u001b]8;id=182774;file://C:\\Users\\BHSU\\AppData\\Local\\Programs\\Python\\Python39\\lib\\site-packages\\openfl\\component\\collaborator\\collaborator.py#168\u001b\\\u001b[2m168\u001b[0m\u001b]8;;\u001b\\\n"
      ]
     },
     "metadata": {},
     "output_type": "display_data"
    },
    {
     "data": {
      "text/html": [
       "<pre style=\"white-space:pre;overflow-x:auto;line-height:normal;font-family:Menlo,'DejaVu Sans Mono',consolas,'Courier New',monospace\"><span style=\"color: #7fbfbf; text-decoration-color: #7fbfbf\">           </span><span style=\"color: #000080; text-decoration-color: #000080\">INFO    </span> Using TaskRunner subclassing API                                                                                         <a href=\"file://C:\\Users\\BHSU\\AppData\\Local\\Programs\\Python\\Python39\\lib\\site-packages\\openfl\\component\\collaborator\\collaborator.py\" target=\"_blank\"><span style=\"color: #7f7f7f; text-decoration-color: #7f7f7f\">collaborator.py</span></a><span style=\"color: #7f7f7f; text-decoration-color: #7f7f7f\">:</span><a href=\"file://C:\\Users\\BHSU\\AppData\\Local\\Programs\\Python\\Python39\\lib\\site-packages\\openfl\\component\\collaborator\\collaborator.py#253\" target=\"_blank\"><span style=\"color: #7f7f7f; text-decoration-color: #7f7f7f\">253</span></a>\n",
       "</pre>\n"
      ],
      "text/plain": [
       "\u001b[2;36m          \u001b[0m\u001b[2;36m \u001b[0m\u001b[34mINFO    \u001b[0m Using TaskRunner subclassing API                                                                                         \u001b]8;id=507623;file://C:\\Users\\BHSU\\AppData\\Local\\Programs\\Python\\Python39\\lib\\site-packages\\openfl\\component\\collaborator\\collaborator.py\u001b\\\u001b[2mcollaborator.py\u001b[0m\u001b]8;;\u001b\\\u001b[2m:\u001b[0m\u001b]8;id=520993;file://C:\\Users\\BHSU\\AppData\\Local\\Programs\\Python\\Python39\\lib\\site-packages\\openfl\\component\\collaborator\\collaborator.py#253\u001b\\\u001b[2m253\u001b[0m\u001b]8;;\u001b\\\n"
      ]
     },
     "metadata": {},
     "output_type": "display_data"
    },
    {
     "name": "stdout",
     "output_type": "stream",
     "text": [
      "282/282 [==============================] - 0s 498us/step - loss: 0.1716 - accuracy: 0.9506\n"
     ]
    },
    {
     "data": {
      "text/html": [
       "<pre style=\"white-space:pre;overflow-x:auto;line-height:normal;font-family:Menlo,'DejaVu Sans Mono',consolas,'Courier New',monospace\"><span style=\"color: #7fbfbf; text-decoration-color: #7fbfbf\">           </span>METRIC   Round <span style=\"color: #008080; text-decoration-color: #008080; font-weight: bold\">4</span>, collaborator two is sending metric for task aggregated_model_validation: accuracy      <span style=\"color: #008080; text-decoration-color: #008080; font-weight: bold\">0.950556</span>                 <a href=\"file://C:\\Users\\BHSU\\AppData\\Local\\Programs\\Python\\Python39\\lib\\site-packages\\openfl\\component\\collaborator\\collaborator.py\" target=\"_blank\"><span style=\"color: #7f7f7f; text-decoration-color: #7f7f7f\">collaborator.py</span></a><span style=\"color: #7f7f7f; text-decoration-color: #7f7f7f\">:</span><a href=\"file://C:\\Users\\BHSU\\AppData\\Local\\Programs\\Python\\Python39\\lib\\site-packages\\openfl\\component\\collaborator\\collaborator.py#415\" target=\"_blank\"><span style=\"color: #7f7f7f; text-decoration-color: #7f7f7f\">415</span></a>\n",
       "</pre>\n"
      ],
      "text/plain": [
       "\u001b[2;36m          \u001b[0m\u001b[2;36m \u001b[0mMETRIC   Round \u001b[1;36m4\u001b[0m, collaborator two is sending metric for task aggregated_model_validation: accuracy      \u001b[1;36m0.950556\u001b[0m                 \u001b]8;id=721324;file://C:\\Users\\BHSU\\AppData\\Local\\Programs\\Python\\Python39\\lib\\site-packages\\openfl\\component\\collaborator\\collaborator.py\u001b\\\u001b[2mcollaborator.py\u001b[0m\u001b]8;;\u001b\\\u001b[2m:\u001b[0m\u001b]8;id=129668;file://C:\\Users\\BHSU\\AppData\\Local\\Programs\\Python\\Python39\\lib\\site-packages\\openfl\\component\\collaborator\\collaborator.py#415\u001b\\\u001b[2m415\u001b[0m\u001b]8;;\u001b\\\n"
      ]
     },
     "metadata": {},
     "output_type": "display_data"
    },
    {
     "data": {
      "text/html": [
       "<pre style=\"white-space:pre;overflow-x:auto;line-height:normal;font-family:Menlo,'DejaVu Sans Mono',consolas,'Courier New',monospace\"><span style=\"color: #7fbfbf; text-decoration-color: #7fbfbf\">           </span><span style=\"color: #000080; text-decoration-color: #000080\">INFO    </span> Collaborator two is sending task results for aggregated_model_validation, round <span style=\"color: #008080; text-decoration-color: #008080; font-weight: bold\">4</span>                                          <a href=\"file://C:\\Users\\BHSU\\AppData\\Local\\Programs\\Python\\Python39\\lib\\site-packages\\openfl\\component\\aggregator\\aggregator.py\" target=\"_blank\"><span style=\"color: #7f7f7f; text-decoration-color: #7f7f7f\">aggregator.py</span></a><span style=\"color: #7f7f7f; text-decoration-color: #7f7f7f\">:</span><a href=\"file://C:\\Users\\BHSU\\AppData\\Local\\Programs\\Python\\Python39\\lib\\site-packages\\openfl\\component\\aggregator\\aggregator.py#520\" target=\"_blank\"><span style=\"color: #7f7f7f; text-decoration-color: #7f7f7f\">520</span></a>\n",
       "</pre>\n"
      ],
      "text/plain": [
       "\u001b[2;36m          \u001b[0m\u001b[2;36m \u001b[0m\u001b[34mINFO    \u001b[0m Collaborator two is sending task results for aggregated_model_validation, round \u001b[1;36m4\u001b[0m                                          \u001b]8;id=723537;file://C:\\Users\\BHSU\\AppData\\Local\\Programs\\Python\\Python39\\lib\\site-packages\\openfl\\component\\aggregator\\aggregator.py\u001b\\\u001b[2maggregator.py\u001b[0m\u001b]8;;\u001b\\\u001b[2m:\u001b[0m\u001b]8;id=999233;file://C:\\Users\\BHSU\\AppData\\Local\\Programs\\Python\\Python39\\lib\\site-packages\\openfl\\component\\aggregator\\aggregator.py#520\u001b\\\u001b[2m520\u001b[0m\u001b]8;;\u001b\\\n"
      ]
     },
     "metadata": {},
     "output_type": "display_data"
    },
    {
     "data": {
      "text/html": [
       "<pre style=\"white-space:pre;overflow-x:auto;line-height:normal;font-family:Menlo,'DejaVu Sans Mono',consolas,'Courier New',monospace\"><span style=\"color: #7fbfbf; text-decoration-color: #7fbfbf\">           </span>METRIC   Round <span style=\"color: #008080; text-decoration-color: #008080; font-weight: bold\">4</span>, collaborator validate_agg aggregated_model_validation result accuracy: <span style=\"color: #008080; text-decoration-color: #008080; font-weight: bold\">0.950556</span>                                   <a href=\"file://C:\\Users\\BHSU\\AppData\\Local\\Programs\\Python\\Python39\\lib\\site-packages\\openfl\\component\\aggregator\\aggregator.py\" target=\"_blank\"><span style=\"color: #7f7f7f; text-decoration-color: #7f7f7f\">aggregator.py</span></a><span style=\"color: #7f7f7f; text-decoration-color: #7f7f7f\">:</span><a href=\"file://C:\\Users\\BHSU\\AppData\\Local\\Programs\\Python\\Python39\\lib\\site-packages\\openfl\\component\\aggregator\\aggregator.py#559\" target=\"_blank\"><span style=\"color: #7f7f7f; text-decoration-color: #7f7f7f\">559</span></a>\n",
       "</pre>\n"
      ],
      "text/plain": [
       "\u001b[2;36m          \u001b[0m\u001b[2;36m \u001b[0mMETRIC   Round \u001b[1;36m4\u001b[0m, collaborator validate_agg aggregated_model_validation result accuracy: \u001b[1;36m0.950556\u001b[0m                                   \u001b]8;id=806690;file://C:\\Users\\BHSU\\AppData\\Local\\Programs\\Python\\Python39\\lib\\site-packages\\openfl\\component\\aggregator\\aggregator.py\u001b\\\u001b[2maggregator.py\u001b[0m\u001b]8;;\u001b\\\u001b[2m:\u001b[0m\u001b]8;id=448856;file://C:\\Users\\BHSU\\AppData\\Local\\Programs\\Python\\Python39\\lib\\site-packages\\openfl\\component\\aggregator\\aggregator.py#559\u001b\\\u001b[2m559\u001b[0m\u001b]8;;\u001b\\\n"
      ]
     },
     "metadata": {},
     "output_type": "display_data"
    },
    {
     "data": {
      "text/html": [
       "<pre style=\"white-space:pre;overflow-x:auto;line-height:normal;font-family:Menlo,'DejaVu Sans Mono',consolas,'Courier New',monospace\"><span style=\"color: #7fbfbf; text-decoration-color: #7fbfbf\">           </span><span style=\"color: #000080; text-decoration-color: #000080\">INFO    </span> Using TaskRunner subclassing API                                                                                         <a href=\"file://C:\\Users\\BHSU\\AppData\\Local\\Programs\\Python\\Python39\\lib\\site-packages\\openfl\\component\\collaborator\\collaborator.py\" target=\"_blank\"><span style=\"color: #7f7f7f; text-decoration-color: #7f7f7f\">collaborator.py</span></a><span style=\"color: #7f7f7f; text-decoration-color: #7f7f7f\">:</span><a href=\"file://C:\\Users\\BHSU\\AppData\\Local\\Programs\\Python\\Python39\\lib\\site-packages\\openfl\\component\\collaborator\\collaborator.py#253\" target=\"_blank\"><span style=\"color: #7f7f7f; text-decoration-color: #7f7f7f\">253</span></a>\n",
       "</pre>\n"
      ],
      "text/plain": [
       "\u001b[2;36m          \u001b[0m\u001b[2;36m \u001b[0m\u001b[34mINFO    \u001b[0m Using TaskRunner subclassing API                                                                                         \u001b]8;id=134033;file://C:\\Users\\BHSU\\AppData\\Local\\Programs\\Python\\Python39\\lib\\site-packages\\openfl\\component\\collaborator\\collaborator.py\u001b\\\u001b[2mcollaborator.py\u001b[0m\u001b]8;;\u001b\\\u001b[2m:\u001b[0m\u001b]8;id=914285;file://C:\\Users\\BHSU\\AppData\\Local\\Programs\\Python\\Python39\\lib\\site-packages\\openfl\\component\\collaborator\\collaborator.py#253\u001b\\\u001b[2m253\u001b[0m\u001b]8;;\u001b\\\n"
      ]
     },
     "metadata": {},
     "output_type": "display_data"
    },
    {
     "data": {
      "text/html": [
       "<pre style=\"white-space:pre;overflow-x:auto;line-height:normal;font-family:Menlo,'DejaVu Sans Mono',consolas,'Courier New',monospace\"><span style=\"color: #7fbfbf; text-decoration-color: #7fbfbf\">           </span><span style=\"color: #000080; text-decoration-color: #000080\">INFO    </span> Run <span style=\"color: #008080; text-decoration-color: #008080; font-weight: bold\">0</span> epoch of <span style=\"color: #008080; text-decoration-color: #008080; font-weight: bold\">4</span> round                                                                                                    <a href=\"file://C:\\Users\\BHSU\\AppData\\Local\\Programs\\Python\\Python39\\lib\\site-packages\\openfl\\federated\\task\\runner_keras.py\" target=\"_blank\"><span style=\"color: #7f7f7f; text-decoration-color: #7f7f7f\">runner_keras.py</span></a><span style=\"color: #7f7f7f; text-decoration-color: #7f7f7f\">:</span><a href=\"file://C:\\Users\\BHSU\\AppData\\Local\\Programs\\Python\\Python39\\lib\\site-packages\\openfl\\federated\\task\\runner_keras.py#83\" target=\"_blank\"><span style=\"color: #7f7f7f; text-decoration-color: #7f7f7f\">83</span></a>\n",
       "</pre>\n"
      ],
      "text/plain": [
       "\u001b[2;36m          \u001b[0m\u001b[2;36m \u001b[0m\u001b[34mINFO    \u001b[0m Run \u001b[1;36m0\u001b[0m epoch of \u001b[1;36m4\u001b[0m round                                                                                                    \u001b]8;id=821421;file://C:\\Users\\BHSU\\AppData\\Local\\Programs\\Python\\Python39\\lib\\site-packages\\openfl\\federated\\task\\runner_keras.py\u001b\\\u001b[2mrunner_keras.py\u001b[0m\u001b]8;;\u001b\\\u001b[2m:\u001b[0m\u001b]8;id=103356;file://C:\\Users\\BHSU\\AppData\\Local\\Programs\\Python\\Python39\\lib\\site-packages\\openfl\\federated\\task\\runner_keras.py#83\u001b\\\u001b[2m83\u001b[0m\u001b]8;;\u001b\\\n"
      ]
     },
     "metadata": {},
     "output_type": "display_data"
    },
    {
     "name": "stdout",
     "output_type": "stream",
     "text": [
      "657/657 [==============================] - 0s 608us/step - loss: 0.1562 - accuracy: 0.9514\n"
     ]
    },
    {
     "data": {
      "text/html": [
       "<pre style=\"white-space:pre;overflow-x:auto;line-height:normal;font-family:Menlo,'DejaVu Sans Mono',consolas,'Courier New',monospace\"><span style=\"color: #7fbfbf; text-decoration-color: #7fbfbf\">[10:46:33] </span>METRIC   Round <span style=\"color: #008080; text-decoration-color: #008080; font-weight: bold\">4</span>, collaborator two is sending metric for task train: loss        <span style=\"color: #008080; text-decoration-color: #008080; font-weight: bold\">0.156182</span>                                         <a href=\"file://C:\\Users\\BHSU\\AppData\\Local\\Programs\\Python\\Python39\\lib\\site-packages\\openfl\\component\\collaborator\\collaborator.py\" target=\"_blank\"><span style=\"color: #7f7f7f; text-decoration-color: #7f7f7f\">collaborator.py</span></a><span style=\"color: #7f7f7f; text-decoration-color: #7f7f7f\">:</span><a href=\"file://C:\\Users\\BHSU\\AppData\\Local\\Programs\\Python\\Python39\\lib\\site-packages\\openfl\\component\\collaborator\\collaborator.py#415\" target=\"_blank\"><span style=\"color: #7f7f7f; text-decoration-color: #7f7f7f\">415</span></a>\n",
       "</pre>\n"
      ],
      "text/plain": [
       "\u001b[2;36m[10:46:33]\u001b[0m\u001b[2;36m \u001b[0mMETRIC   Round \u001b[1;36m4\u001b[0m, collaborator two is sending metric for task train: loss        \u001b[1;36m0.156182\u001b[0m                                         \u001b]8;id=537634;file://C:\\Users\\BHSU\\AppData\\Local\\Programs\\Python\\Python39\\lib\\site-packages\\openfl\\component\\collaborator\\collaborator.py\u001b\\\u001b[2mcollaborator.py\u001b[0m\u001b]8;;\u001b\\\u001b[2m:\u001b[0m\u001b]8;id=139650;file://C:\\Users\\BHSU\\AppData\\Local\\Programs\\Python\\Python39\\lib\\site-packages\\openfl\\component\\collaborator\\collaborator.py#415\u001b\\\u001b[2m415\u001b[0m\u001b]8;;\u001b\\\n"
      ]
     },
     "metadata": {},
     "output_type": "display_data"
    },
    {
     "data": {
      "text/html": [
       "<pre style=\"white-space:pre;overflow-x:auto;line-height:normal;font-family:Menlo,'DejaVu Sans Mono',consolas,'Courier New',monospace\"><span style=\"color: #7fbfbf; text-decoration-color: #7fbfbf\">           </span><span style=\"color: #000080; text-decoration-color: #000080\">INFO    </span> Collaborator two is sending task results for train, round <span style=\"color: #008080; text-decoration-color: #008080; font-weight: bold\">4</span>                                                                <a href=\"file://C:\\Users\\BHSU\\AppData\\Local\\Programs\\Python\\Python39\\lib\\site-packages\\openfl\\component\\aggregator\\aggregator.py\" target=\"_blank\"><span style=\"color: #7f7f7f; text-decoration-color: #7f7f7f\">aggregator.py</span></a><span style=\"color: #7f7f7f; text-decoration-color: #7f7f7f\">:</span><a href=\"file://C:\\Users\\BHSU\\AppData\\Local\\Programs\\Python\\Python39\\lib\\site-packages\\openfl\\component\\aggregator\\aggregator.py#520\" target=\"_blank\"><span style=\"color: #7f7f7f; text-decoration-color: #7f7f7f\">520</span></a>\n",
       "</pre>\n"
      ],
      "text/plain": [
       "\u001b[2;36m          \u001b[0m\u001b[2;36m \u001b[0m\u001b[34mINFO    \u001b[0m Collaborator two is sending task results for train, round \u001b[1;36m4\u001b[0m                                                                \u001b]8;id=935822;file://C:\\Users\\BHSU\\AppData\\Local\\Programs\\Python\\Python39\\lib\\site-packages\\openfl\\component\\aggregator\\aggregator.py\u001b\\\u001b[2maggregator.py\u001b[0m\u001b]8;;\u001b\\\u001b[2m:\u001b[0m\u001b]8;id=636399;file://C:\\Users\\BHSU\\AppData\\Local\\Programs\\Python\\Python39\\lib\\site-packages\\openfl\\component\\aggregator\\aggregator.py#520\u001b\\\u001b[2m520\u001b[0m\u001b]8;;\u001b\\\n"
      ]
     },
     "metadata": {},
     "output_type": "display_data"
    },
    {
     "data": {
      "text/html": [
       "<pre style=\"white-space:pre;overflow-x:auto;line-height:normal;font-family:Menlo,'DejaVu Sans Mono',consolas,'Courier New',monospace\"><span style=\"color: #7fbfbf; text-decoration-color: #7fbfbf\">           </span>METRIC   Round <span style=\"color: #008080; text-decoration-color: #008080; font-weight: bold\">4</span>, collaborator two train result loss:    <span style=\"color: #008080; text-decoration-color: #008080; font-weight: bold\">0.156182</span>                                                                   <a href=\"file://C:\\Users\\BHSU\\AppData\\Local\\Programs\\Python\\Python39\\lib\\site-packages\\openfl\\component\\aggregator\\aggregator.py\" target=\"_blank\"><span style=\"color: #7f7f7f; text-decoration-color: #7f7f7f\">aggregator.py</span></a><span style=\"color: #7f7f7f; text-decoration-color: #7f7f7f\">:</span><a href=\"file://C:\\Users\\BHSU\\AppData\\Local\\Programs\\Python\\Python39\\lib\\site-packages\\openfl\\component\\aggregator\\aggregator.py#559\" target=\"_blank\"><span style=\"color: #7f7f7f; text-decoration-color: #7f7f7f\">559</span></a>\n",
       "</pre>\n"
      ],
      "text/plain": [
       "\u001b[2;36m          \u001b[0m\u001b[2;36m \u001b[0mMETRIC   Round \u001b[1;36m4\u001b[0m, collaborator two train result loss:    \u001b[1;36m0.156182\u001b[0m                                                                   \u001b]8;id=137692;file://C:\\Users\\BHSU\\AppData\\Local\\Programs\\Python\\Python39\\lib\\site-packages\\openfl\\component\\aggregator\\aggregator.py\u001b\\\u001b[2maggregator.py\u001b[0m\u001b]8;;\u001b\\\u001b[2m:\u001b[0m\u001b]8;id=398259;file://C:\\Users\\BHSU\\AppData\\Local\\Programs\\Python\\Python39\\lib\\site-packages\\openfl\\component\\aggregator\\aggregator.py#559\u001b\\\u001b[2m559\u001b[0m\u001b]8;;\u001b\\\n"
      ]
     },
     "metadata": {},
     "output_type": "display_data"
    },
    {
     "data": {
      "text/html": [
       "<pre style=\"white-space:pre;overflow-x:auto;line-height:normal;font-family:Menlo,'DejaVu Sans Mono',consolas,'Courier New',monospace\"><span style=\"color: #7fbfbf; text-decoration-color: #7fbfbf\">           </span><span style=\"color: #000080; text-decoration-color: #000080\">INFO    </span> Using TaskRunner subclassing API                                                                                         <a href=\"file://C:\\Users\\BHSU\\AppData\\Local\\Programs\\Python\\Python39\\lib\\site-packages\\openfl\\component\\collaborator\\collaborator.py\" target=\"_blank\"><span style=\"color: #7f7f7f; text-decoration-color: #7f7f7f\">collaborator.py</span></a><span style=\"color: #7f7f7f; text-decoration-color: #7f7f7f\">:</span><a href=\"file://C:\\Users\\BHSU\\AppData\\Local\\Programs\\Python\\Python39\\lib\\site-packages\\openfl\\component\\collaborator\\collaborator.py#253\" target=\"_blank\"><span style=\"color: #7f7f7f; text-decoration-color: #7f7f7f\">253</span></a>\n",
       "</pre>\n"
      ],
      "text/plain": [
       "\u001b[2;36m          \u001b[0m\u001b[2;36m \u001b[0m\u001b[34mINFO    \u001b[0m Using TaskRunner subclassing API                                                                                         \u001b]8;id=563198;file://C:\\Users\\BHSU\\AppData\\Local\\Programs\\Python\\Python39\\lib\\site-packages\\openfl\\component\\collaborator\\collaborator.py\u001b\\\u001b[2mcollaborator.py\u001b[0m\u001b]8;;\u001b\\\u001b[2m:\u001b[0m\u001b]8;id=358577;file://C:\\Users\\BHSU\\AppData\\Local\\Programs\\Python\\Python39\\lib\\site-packages\\openfl\\component\\collaborator\\collaborator.py#253\u001b\\\u001b[2m253\u001b[0m\u001b]8;;\u001b\\\n"
      ]
     },
     "metadata": {},
     "output_type": "display_data"
    },
    {
     "name": "stdout",
     "output_type": "stream",
     "text": [
      "282/282 [==============================] - 0s 520us/step - loss: 0.1741 - accuracy: 0.9502\n"
     ]
    },
    {
     "data": {
      "text/html": [
       "<pre style=\"white-space:pre;overflow-x:auto;line-height:normal;font-family:Menlo,'DejaVu Sans Mono',consolas,'Courier New',monospace\"><span style=\"color: #7fbfbf; text-decoration-color: #7fbfbf\">           </span>METRIC   Round <span style=\"color: #008080; text-decoration-color: #008080; font-weight: bold\">4</span>, collaborator two is sending metric for task locally_tuned_model_validation: accuracy   <span style=\"color: #008080; text-decoration-color: #008080; font-weight: bold\">0.950222</span>                 <a href=\"file://C:\\Users\\BHSU\\AppData\\Local\\Programs\\Python\\Python39\\lib\\site-packages\\openfl\\component\\collaborator\\collaborator.py\" target=\"_blank\"><span style=\"color: #7f7f7f; text-decoration-color: #7f7f7f\">collaborator.py</span></a><span style=\"color: #7f7f7f; text-decoration-color: #7f7f7f\">:</span><a href=\"file://C:\\Users\\BHSU\\AppData\\Local\\Programs\\Python\\Python39\\lib\\site-packages\\openfl\\component\\collaborator\\collaborator.py#415\" target=\"_blank\"><span style=\"color: #7f7f7f; text-decoration-color: #7f7f7f\">415</span></a>\n",
       "</pre>\n"
      ],
      "text/plain": [
       "\u001b[2;36m          \u001b[0m\u001b[2;36m \u001b[0mMETRIC   Round \u001b[1;36m4\u001b[0m, collaborator two is sending metric for task locally_tuned_model_validation: accuracy   \u001b[1;36m0.950222\u001b[0m                 \u001b]8;id=799700;file://C:\\Users\\BHSU\\AppData\\Local\\Programs\\Python\\Python39\\lib\\site-packages\\openfl\\component\\collaborator\\collaborator.py\u001b\\\u001b[2mcollaborator.py\u001b[0m\u001b]8;;\u001b\\\u001b[2m:\u001b[0m\u001b]8;id=502573;file://C:\\Users\\BHSU\\AppData\\Local\\Programs\\Python\\Python39\\lib\\site-packages\\openfl\\component\\collaborator\\collaborator.py#415\u001b\\\u001b[2m415\u001b[0m\u001b]8;;\u001b\\\n"
      ]
     },
     "metadata": {},
     "output_type": "display_data"
    },
    {
     "data": {
      "text/html": [
       "<pre style=\"white-space:pre;overflow-x:auto;line-height:normal;font-family:Menlo,'DejaVu Sans Mono',consolas,'Courier New',monospace\"><span style=\"color: #7fbfbf; text-decoration-color: #7fbfbf\">           </span><span style=\"color: #000080; text-decoration-color: #000080\">INFO    </span> Collaborator two is sending task results for locally_tuned_model_validation, round <span style=\"color: #008080; text-decoration-color: #008080; font-weight: bold\">4</span>                                       <a href=\"file://C:\\Users\\BHSU\\AppData\\Local\\Programs\\Python\\Python39\\lib\\site-packages\\openfl\\component\\aggregator\\aggregator.py\" target=\"_blank\"><span style=\"color: #7f7f7f; text-decoration-color: #7f7f7f\">aggregator.py</span></a><span style=\"color: #7f7f7f; text-decoration-color: #7f7f7f\">:</span><a href=\"file://C:\\Users\\BHSU\\AppData\\Local\\Programs\\Python\\Python39\\lib\\site-packages\\openfl\\component\\aggregator\\aggregator.py#520\" target=\"_blank\"><span style=\"color: #7f7f7f; text-decoration-color: #7f7f7f\">520</span></a>\n",
       "</pre>\n"
      ],
      "text/plain": [
       "\u001b[2;36m          \u001b[0m\u001b[2;36m \u001b[0m\u001b[34mINFO    \u001b[0m Collaborator two is sending task results for locally_tuned_model_validation, round \u001b[1;36m4\u001b[0m                                       \u001b]8;id=791540;file://C:\\Users\\BHSU\\AppData\\Local\\Programs\\Python\\Python39\\lib\\site-packages\\openfl\\component\\aggregator\\aggregator.py\u001b\\\u001b[2maggregator.py\u001b[0m\u001b]8;;\u001b\\\u001b[2m:\u001b[0m\u001b]8;id=496957;file://C:\\Users\\BHSU\\AppData\\Local\\Programs\\Python\\Python39\\lib\\site-packages\\openfl\\component\\aggregator\\aggregator.py#520\u001b\\\u001b[2m520\u001b[0m\u001b]8;;\u001b\\\n"
      ]
     },
     "metadata": {},
     "output_type": "display_data"
    },
    {
     "data": {
      "text/html": [
       "<pre style=\"white-space:pre;overflow-x:auto;line-height:normal;font-family:Menlo,'DejaVu Sans Mono',consolas,'Courier New',monospace\"><span style=\"color: #7fbfbf; text-decoration-color: #7fbfbf\">           </span>METRIC   Round <span style=\"color: #008080; text-decoration-color: #008080; font-weight: bold\">4</span>, collaborator validate_local locally_tuned_model_validation result accuracy:    <span style=\"color: #008080; text-decoration-color: #008080; font-weight: bold\">0.950222</span>                           <a href=\"file://C:\\Users\\BHSU\\AppData\\Local\\Programs\\Python\\Python39\\lib\\site-packages\\openfl\\component\\aggregator\\aggregator.py\" target=\"_blank\"><span style=\"color: #7f7f7f; text-decoration-color: #7f7f7f\">aggregator.py</span></a><span style=\"color: #7f7f7f; text-decoration-color: #7f7f7f\">:</span><a href=\"file://C:\\Users\\BHSU\\AppData\\Local\\Programs\\Python\\Python39\\lib\\site-packages\\openfl\\component\\aggregator\\aggregator.py#559\" target=\"_blank\"><span style=\"color: #7f7f7f; text-decoration-color: #7f7f7f\">559</span></a>\n",
       "</pre>\n"
      ],
      "text/plain": [
       "\u001b[2;36m          \u001b[0m\u001b[2;36m \u001b[0mMETRIC   Round \u001b[1;36m4\u001b[0m, collaborator validate_local locally_tuned_model_validation result accuracy:    \u001b[1;36m0.950222\u001b[0m                           \u001b]8;id=637080;file://C:\\Users\\BHSU\\AppData\\Local\\Programs\\Python\\Python39\\lib\\site-packages\\openfl\\component\\aggregator\\aggregator.py\u001b\\\u001b[2maggregator.py\u001b[0m\u001b]8;;\u001b\\\u001b[2m:\u001b[0m\u001b]8;id=660902;file://C:\\Users\\BHSU\\AppData\\Local\\Programs\\Python\\Python39\\lib\\site-packages\\openfl\\component\\aggregator\\aggregator.py#559\u001b\\\u001b[2m559\u001b[0m\u001b]8;;\u001b\\\n"
      ]
     },
     "metadata": {},
     "output_type": "display_data"
    },
    {
     "data": {
      "text/html": [
       "<pre style=\"white-space:pre;overflow-x:auto;line-height:normal;font-family:Menlo,'DejaVu Sans Mono',consolas,'Courier New',monospace\"><span style=\"color: #7fbfbf; text-decoration-color: #7fbfbf\">           </span>METRIC   Round <span style=\"color: #008080; text-decoration-color: #008080; font-weight: bold\">4</span>, aggregator: train <span style=\"font-weight: bold\">&lt;</span><span style=\"color: #ff00ff; text-decoration-color: #ff00ff; font-weight: bold\">openfl.interface.aggregation_functions.weighted_average.WeightedAverage</span><span style=\"color: #000000; text-decoration-color: #000000\"> object at </span>             <a href=\"file://C:\\Users\\BHSU\\AppData\\Local\\Programs\\Python\\Python39\\lib\\site-packages\\openfl\\component\\aggregator\\aggregator.py\" target=\"_blank\"><span style=\"color: #7f7f7f; text-decoration-color: #7f7f7f\">aggregator.py</span></a><span style=\"color: #7f7f7f; text-decoration-color: #7f7f7f\">:</span><a href=\"file://C:\\Users\\BHSU\\AppData\\Local\\Programs\\Python\\Python39\\lib\\site-packages\\openfl\\component\\aggregator\\aggregator.py#842\" target=\"_blank\"><span style=\"color: #7f7f7f; text-decoration-color: #7f7f7f\">842</span></a>\n",
       "<span style=\"color: #7fbfbf; text-decoration-color: #7fbfbf\">           </span>         <span style=\"color: #008080; text-decoration-color: #008080; font-weight: bold\">0x000002302EDD6A60</span><span style=\"font-weight: bold\">&gt;</span> loss: <span style=\"color: #008080; text-decoration-color: #008080; font-weight: bold\">0.159703</span>                                                                                         <span style=\"color: #7f7f7f; text-decoration-color: #7f7f7f\">                 </span>\n",
       "</pre>\n"
      ],
      "text/plain": [
       "\u001b[2;36m          \u001b[0m\u001b[2;36m \u001b[0mMETRIC   Round \u001b[1;36m4\u001b[0m, aggregator: train \u001b[1m<\u001b[0m\u001b[1;95mopenfl.interface.aggregation_functions.weighted_average.WeightedAverage\u001b[0m\u001b[39m object at \u001b[0m             \u001b]8;id=151912;file://C:\\Users\\BHSU\\AppData\\Local\\Programs\\Python\\Python39\\lib\\site-packages\\openfl\\component\\aggregator\\aggregator.py\u001b\\\u001b[2maggregator.py\u001b[0m\u001b]8;;\u001b\\\u001b[2m:\u001b[0m\u001b]8;id=984717;file://C:\\Users\\BHSU\\AppData\\Local\\Programs\\Python\\Python39\\lib\\site-packages\\openfl\\component\\aggregator\\aggregator.py#842\u001b\\\u001b[2m842\u001b[0m\u001b]8;;\u001b\\\n",
       "\u001b[2;36m           \u001b[0m         \u001b[1;36m0x000002302EDD6A60\u001b[0m\u001b[1m>\u001b[0m loss: \u001b[1;36m0.159703\u001b[0m                                                                                         \u001b[2m                 \u001b[0m\n"
      ]
     },
     "metadata": {},
     "output_type": "display_data"
    },
    {
     "data": {
      "text/html": [
       "<pre style=\"white-space:pre;overflow-x:auto;line-height:normal;font-family:Menlo,'DejaVu Sans Mono',consolas,'Courier New',monospace\"><span style=\"color: #7fbfbf; text-decoration-color: #7fbfbf\">           </span>METRIC   Round <span style=\"color: #008080; text-decoration-color: #008080; font-weight: bold\">4</span>, aggregator: aggregated_model_validation <span style=\"font-weight: bold\">&lt;</span><span style=\"color: #ff00ff; text-decoration-color: #ff00ff; font-weight: bold\">openfl.interface.aggregation_functions.weighted_average.WeightedAverage</span><span style=\"color: #000000; text-decoration-color: #000000\"> </span> <a href=\"file://C:\\Users\\BHSU\\AppData\\Local\\Programs\\Python\\Python39\\lib\\site-packages\\openfl\\component\\aggregator\\aggregator.py\" target=\"_blank\"><span style=\"color: #7f7f7f; text-decoration-color: #7f7f7f\">aggregator.py</span></a><span style=\"color: #7f7f7f; text-decoration-color: #7f7f7f\">:</span><a href=\"file://C:\\Users\\BHSU\\AppData\\Local\\Programs\\Python\\Python39\\lib\\site-packages\\openfl\\component\\aggregator\\aggregator.py#842\" target=\"_blank\"><span style=\"color: #7f7f7f; text-decoration-color: #7f7f7f\">842</span></a>\n",
       "<span style=\"color: #7fbfbf; text-decoration-color: #7fbfbf\">           </span>         <span style=\"color: #000000; text-decoration-color: #000000\">object at </span><span style=\"color: #008080; text-decoration-color: #008080; font-weight: bold\">0x000002302EDD6A60</span><span style=\"font-weight: bold\">&gt;</span> accuracy:       <span style=\"color: #008080; text-decoration-color: #008080; font-weight: bold\">0.952722</span>                                                                     <span style=\"color: #7f7f7f; text-decoration-color: #7f7f7f\">                 </span>\n",
       "</pre>\n"
      ],
      "text/plain": [
       "\u001b[2;36m          \u001b[0m\u001b[2;36m \u001b[0mMETRIC   Round \u001b[1;36m4\u001b[0m, aggregator: aggregated_model_validation \u001b[1m<\u001b[0m\u001b[1;95mopenfl.interface.aggregation_functions.weighted_average.WeightedAverage\u001b[0m\u001b[39m \u001b[0m \u001b]8;id=242345;file://C:\\Users\\BHSU\\AppData\\Local\\Programs\\Python\\Python39\\lib\\site-packages\\openfl\\component\\aggregator\\aggregator.py\u001b\\\u001b[2maggregator.py\u001b[0m\u001b]8;;\u001b\\\u001b[2m:\u001b[0m\u001b]8;id=424247;file://C:\\Users\\BHSU\\AppData\\Local\\Programs\\Python\\Python39\\lib\\site-packages\\openfl\\component\\aggregator\\aggregator.py#842\u001b\\\u001b[2m842\u001b[0m\u001b]8;;\u001b\\\n",
       "\u001b[2;36m           \u001b[0m         \u001b[39mobject at \u001b[0m\u001b[1;36m0x000002302EDD6A60\u001b[0m\u001b[1m>\u001b[0m accuracy:       \u001b[1;36m0.952722\u001b[0m                                                                     \u001b[2m                 \u001b[0m\n"
      ]
     },
     "metadata": {},
     "output_type": "display_data"
    },
    {
     "data": {
      "text/html": [
       "<pre style=\"white-space:pre;overflow-x:auto;line-height:normal;font-family:Menlo,'DejaVu Sans Mono',consolas,'Courier New',monospace\"><span style=\"color: #7fbfbf; text-decoration-color: #7fbfbf\">           </span>METRIC   Round <span style=\"color: #008080; text-decoration-color: #008080; font-weight: bold\">4</span>: saved the best model with score <span style=\"color: #008080; text-decoration-color: #008080; font-weight: bold\">0.952722</span>                                                                          <a href=\"file://C:\\Users\\BHSU\\AppData\\Local\\Programs\\Python\\Python39\\lib\\site-packages\\openfl\\component\\aggregator\\aggregator.py\" target=\"_blank\"><span style=\"color: #7f7f7f; text-decoration-color: #7f7f7f\">aggregator.py</span></a><span style=\"color: #7f7f7f; text-decoration-color: #7f7f7f\">:</span><a href=\"file://C:\\Users\\BHSU\\AppData\\Local\\Programs\\Python\\Python39\\lib\\site-packages\\openfl\\component\\aggregator\\aggregator.py#858\" target=\"_blank\"><span style=\"color: #7f7f7f; text-decoration-color: #7f7f7f\">858</span></a>\n",
       "</pre>\n"
      ],
      "text/plain": [
       "\u001b[2;36m          \u001b[0m\u001b[2;36m \u001b[0mMETRIC   Round \u001b[1;36m4\u001b[0m: saved the best model with score \u001b[1;36m0.952722\u001b[0m                                                                          \u001b]8;id=377310;file://C:\\Users\\BHSU\\AppData\\Local\\Programs\\Python\\Python39\\lib\\site-packages\\openfl\\component\\aggregator\\aggregator.py\u001b\\\u001b[2maggregator.py\u001b[0m\u001b]8;;\u001b\\\u001b[2m:\u001b[0m\u001b]8;id=554699;file://C:\\Users\\BHSU\\AppData\\Local\\Programs\\Python\\Python39\\lib\\site-packages\\openfl\\component\\aggregator\\aggregator.py#858\u001b\\\u001b[2m858\u001b[0m\u001b]8;;\u001b\\\n"
      ]
     },
     "metadata": {},
     "output_type": "display_data"
    },
    {
     "data": {
      "text/html": [
       "<pre style=\"white-space:pre;overflow-x:auto;line-height:normal;font-family:Menlo,'DejaVu Sans Mono',consolas,'Courier New',monospace\"><span style=\"color: #7fbfbf; text-decoration-color: #7fbfbf\">           </span>METRIC   Round <span style=\"color: #008080; text-decoration-color: #008080; font-weight: bold\">4</span>, aggregator: locally_tuned_model_validation                                                                        <a href=\"file://C:\\Users\\BHSU\\AppData\\Local\\Programs\\Python\\Python39\\lib\\site-packages\\openfl\\component\\aggregator\\aggregator.py\" target=\"_blank\"><span style=\"color: #7f7f7f; text-decoration-color: #7f7f7f\">aggregator.py</span></a><span style=\"color: #7f7f7f; text-decoration-color: #7f7f7f\">:</span><a href=\"file://C:\\Users\\BHSU\\AppData\\Local\\Programs\\Python\\Python39\\lib\\site-packages\\openfl\\component\\aggregator\\aggregator.py#842\" target=\"_blank\"><span style=\"color: #7f7f7f; text-decoration-color: #7f7f7f\">842</span></a>\n",
       "<span style=\"color: #7fbfbf; text-decoration-color: #7fbfbf\">           </span>         <span style=\"font-weight: bold\">&lt;</span><span style=\"color: #ff00ff; text-decoration-color: #ff00ff; font-weight: bold\">openfl.interface.aggregation_functions.weighted_average.WeightedAverage</span><span style=\"color: #000000; text-decoration-color: #000000\"> object at </span><span style=\"color: #008080; text-decoration-color: #008080; font-weight: bold\">0x000002302EDD6A60</span><span style=\"font-weight: bold\">&gt;</span> accuracy:           <span style=\"color: #7f7f7f; text-decoration-color: #7f7f7f\">                 </span>\n",
       "<span style=\"color: #7fbfbf; text-decoration-color: #7fbfbf\">           </span>         <span style=\"color: #008080; text-decoration-color: #008080; font-weight: bold\">0.950000</span>                                                                                                                   <span style=\"color: #7f7f7f; text-decoration-color: #7f7f7f\">                 </span>\n",
       "</pre>\n"
      ],
      "text/plain": [
       "\u001b[2;36m          \u001b[0m\u001b[2;36m \u001b[0mMETRIC   Round \u001b[1;36m4\u001b[0m, aggregator: locally_tuned_model_validation                                                                        \u001b]8;id=452388;file://C:\\Users\\BHSU\\AppData\\Local\\Programs\\Python\\Python39\\lib\\site-packages\\openfl\\component\\aggregator\\aggregator.py\u001b\\\u001b[2maggregator.py\u001b[0m\u001b]8;;\u001b\\\u001b[2m:\u001b[0m\u001b]8;id=423353;file://C:\\Users\\BHSU\\AppData\\Local\\Programs\\Python\\Python39\\lib\\site-packages\\openfl\\component\\aggregator\\aggregator.py#842\u001b\\\u001b[2m842\u001b[0m\u001b]8;;\u001b\\\n",
       "\u001b[2;36m           \u001b[0m         \u001b[1m<\u001b[0m\u001b[1;95mopenfl.interface.aggregation_functions.weighted_average.WeightedAverage\u001b[0m\u001b[39m object at \u001b[0m\u001b[1;36m0x000002302EDD6A60\u001b[0m\u001b[1m>\u001b[0m accuracy:           \u001b[2m                 \u001b[0m\n",
       "\u001b[2;36m           \u001b[0m         \u001b[1;36m0.950000\u001b[0m                                                                                                                   \u001b[2m                 \u001b[0m\n"
      ]
     },
     "metadata": {},
     "output_type": "display_data"
    },
    {
     "data": {
      "text/html": [
       "<pre style=\"white-space:pre;overflow-x:auto;line-height:normal;font-family:Menlo,'DejaVu Sans Mono',consolas,'Courier New',monospace\"><span style=\"color: #7fbfbf; text-decoration-color: #7fbfbf\">           </span><span style=\"color: #000080; text-decoration-color: #000080\">INFO    </span> Saving round <span style=\"color: #008080; text-decoration-color: #008080; font-weight: bold\">5</span> model<span style=\"color: #808000; text-decoration-color: #808000\">...</span>                                                                                                    <a href=\"file://C:\\Users\\BHSU\\AppData\\Local\\Programs\\Python\\Python39\\lib\\site-packages\\openfl\\component\\aggregator\\aggregator.py\" target=\"_blank\"><span style=\"color: #7f7f7f; text-decoration-color: #7f7f7f\">aggregator.py</span></a><span style=\"color: #7f7f7f; text-decoration-color: #7f7f7f\">:</span><a href=\"file://C:\\Users\\BHSU\\AppData\\Local\\Programs\\Python\\Python39\\lib\\site-packages\\openfl\\component\\aggregator\\aggregator.py#894\" target=\"_blank\"><span style=\"color: #7f7f7f; text-decoration-color: #7f7f7f\">894</span></a>\n",
       "</pre>\n"
      ],
      "text/plain": [
       "\u001b[2;36m          \u001b[0m\u001b[2;36m \u001b[0m\u001b[34mINFO    \u001b[0m Saving round \u001b[1;36m5\u001b[0m model\u001b[33m...\u001b[0m                                                                                                    \u001b]8;id=268173;file://C:\\Users\\BHSU\\AppData\\Local\\Programs\\Python\\Python39\\lib\\site-packages\\openfl\\component\\aggregator\\aggregator.py\u001b\\\u001b[2maggregator.py\u001b[0m\u001b]8;;\u001b\\\u001b[2m:\u001b[0m\u001b]8;id=261008;file://C:\\Users\\BHSU\\AppData\\Local\\Programs\\Python\\Python39\\lib\\site-packages\\openfl\\component\\aggregator\\aggregator.py#894\u001b\\\u001b[2m894\u001b[0m\u001b]8;;\u001b\\\n"
      ]
     },
     "metadata": {},
     "output_type": "display_data"
    },
    {
     "data": {
      "text/html": [
       "<pre style=\"white-space:pre;overflow-x:auto;line-height:normal;font-family:Menlo,'DejaVu Sans Mono',consolas,'Courier New',monospace\"><span style=\"color: #7fbfbf; text-decoration-color: #7fbfbf\">           </span><span style=\"color: #000080; text-decoration-color: #000080\">INFO    </span> Experiment Completed. Cleaning up<span style=\"color: #808000; text-decoration-color: #808000\">...</span>                                                                                       <a href=\"file://C:\\Users\\BHSU\\AppData\\Local\\Programs\\Python\\Python39\\lib\\site-packages\\openfl\\component\\aggregator\\aggregator.py\" target=\"_blank\"><span style=\"color: #7f7f7f; text-decoration-color: #7f7f7f\">aggregator.py</span></a><span style=\"color: #7f7f7f; text-decoration-color: #7f7f7f\">:</span><a href=\"file://C:\\Users\\BHSU\\AppData\\Local\\Programs\\Python\\Python39\\lib\\site-packages\\openfl\\component\\aggregator\\aggregator.py#899\" target=\"_blank\"><span style=\"color: #7f7f7f; text-decoration-color: #7f7f7f\">899</span></a>\n",
       "</pre>\n"
      ],
      "text/plain": [
       "\u001b[2;36m          \u001b[0m\u001b[2;36m \u001b[0m\u001b[34mINFO    \u001b[0m Experiment Completed. Cleaning up\u001b[33m...\u001b[0m                                                                                       \u001b]8;id=218224;file://C:\\Users\\BHSU\\AppData\\Local\\Programs\\Python\\Python39\\lib\\site-packages\\openfl\\component\\aggregator\\aggregator.py\u001b\\\u001b[2maggregator.py\u001b[0m\u001b]8;;\u001b\\\u001b[2m:\u001b[0m\u001b]8;id=19963;file://C:\\Users\\BHSU\\AppData\\Local\\Programs\\Python\\Python39\\lib\\site-packages\\openfl\\component\\aggregator\\aggregator.py#899\u001b\\\u001b[2m899\u001b[0m\u001b]8;;\u001b\\\n"
      ]
     },
     "metadata": {},
     "output_type": "display_data"
    },
    {
     "data": {
      "text/html": [
       "<pre style=\"white-space:pre;overflow-x:auto;line-height:normal;font-family:Menlo,'DejaVu Sans Mono',consolas,'Courier New',monospace\"><span style=\"color: #7fbfbf; text-decoration-color: #7fbfbf\">           </span><span style=\"color: #000080; text-decoration-color: #000080\">INFO    </span> All tasks completed on two for round <span style=\"color: #008080; text-decoration-color: #008080; font-weight: bold\">4</span><span style=\"color: #808000; text-decoration-color: #808000\">...</span>                                                                                <a href=\"file://C:\\Users\\BHSU\\AppData\\Local\\Programs\\Python\\Python39\\lib\\site-packages\\openfl\\component\\collaborator\\collaborator.py\" target=\"_blank\"><span style=\"color: #7f7f7f; text-decoration-color: #7f7f7f\">collaborator.py</span></a><span style=\"color: #7f7f7f; text-decoration-color: #7f7f7f\">:</span><a href=\"file://C:\\Users\\BHSU\\AppData\\Local\\Programs\\Python\\Python39\\lib\\site-packages\\openfl\\component\\collaborator\\collaborator.py#171\" target=\"_blank\"><span style=\"color: #7f7f7f; text-decoration-color: #7f7f7f\">171</span></a>\n",
       "</pre>\n"
      ],
      "text/plain": [
       "\u001b[2;36m          \u001b[0m\u001b[2;36m \u001b[0m\u001b[34mINFO    \u001b[0m All tasks completed on two for round \u001b[1;36m4\u001b[0m\u001b[33m...\u001b[0m                                                                                \u001b]8;id=869273;file://C:\\Users\\BHSU\\AppData\\Local\\Programs\\Python\\Python39\\lib\\site-packages\\openfl\\component\\collaborator\\collaborator.py\u001b\\\u001b[2mcollaborator.py\u001b[0m\u001b]8;;\u001b\\\u001b[2m:\u001b[0m\u001b]8;id=929598;file://C:\\Users\\BHSU\\AppData\\Local\\Programs\\Python\\Python39\\lib\\site-packages\\openfl\\component\\collaborator\\collaborator.py#171\u001b\\\u001b[2m171\u001b[0m\u001b]8;;\u001b\\\n"
      ]
     },
     "metadata": {},
     "output_type": "display_data"
    }
   ],
   "source": [
    "#Run experiment, return trained FederatedModel\n",
    "final_fl_model = fx.run_experiment(collaborators,override_config={'aggregator.settings.rounds_to_train':5})"
   ]
  },
  {
   "cell_type": "code",
   "execution_count": 11,
   "id": "a450e09e-84ab-4474-8346-da4c353a47f7",
   "metadata": {},
   "outputs": [],
   "source": [
    "#Save final model and load into keras\n",
    "final_fl_model.save_native('final_model')\n",
    "model = tf.keras.models.load_model('./final_model')"
   ]
  },
  {
   "cell_type": "code",
   "execution_count": 12,
   "id": "01560ca5-54ec-42a4-ad0d-7177d3522757",
   "metadata": {},
   "outputs": [
    {
     "name": "stdout",
     "output_type": "stream",
     "text": [
      "313/313 [==============================] - 0s 516us/step - loss: 0.1358 - accuracy: 0.9566\n"
     ]
    },
    {
     "data": {
      "text/plain": [
       "[0.1357623189687729, 0.95660001039505]"
      ]
     },
     "execution_count": 12,
     "metadata": {},
     "output_type": "execute_result"
    }
   ],
   "source": [
    "#Test the final model on our test set\n",
    "model.evaluate(test_images,test_labels)"
   ]
  },
  {
   "cell_type": "code",
   "execution_count": null,
   "id": "12ed88f2-f9ac-4c8f-bfca-10e85222e6ee",
   "metadata": {},
   "outputs": [],
   "source": []
  },
  {
   "cell_type": "code",
   "execution_count": 13,
   "id": "33a3449b-e9dc-4ba6-9bd3-5aa1a8f8afa9",
   "metadata": {},
   "outputs": [],
   "source": [
    "collaborator_models = fl_model.setup(num_collaborators=2)\n",
    "collaborators = {'one':collaborator_models[0],'two':collaborator_models[1]}#, 'three':collaborator_models[2]}"
   ]
  },
  {
   "cell_type": "code",
   "execution_count": 14,
   "id": "c3bc35ba-936e-4fd0-951d-3b749c285852",
   "metadata": {},
   "outputs": [
    {
     "name": "stdout",
     "output_type": "stream",
     "text": [
      "Original training data size: 42000\n",
      "Original validation data size: 18000\n",
      "\n",
      "Collaborator one's training data size: 21000\n",
      "Collaborator one's validation data size: 9000\n",
      "\n",
      "Collaborator two's training data size: 21000\n",
      "Collaborator two's validation data size: 9000\n",
      "\n"
     ]
    }
   ],
   "source": [
    "#Original MNIST dataset\n",
    "print(f'Original training data size: {len(train_images)}')\n",
    "print(f'Original validation data size: {len(valid_images)}\\n')\n",
    "\n",
    "#Collaborator one's data\n",
    "print(f'Collaborator one\\'s training data size: {len(collaborator_models[0].data_loader.X_train)}')\n",
    "print(f'Collaborator one\\'s validation data size: {len(collaborator_models[0].data_loader.X_valid)}\\n')\n",
    "\n",
    "#Collaborator two's data\n",
    "print(f'Collaborator two\\'s training data size: {len(collaborator_models[1].data_loader.X_train)}')\n",
    "print(f'Collaborator two\\'s validation data size: {len(collaborator_models[1].data_loader.X_valid)}\\n')\n",
    "\n",
    "#Collaborator three's data\n",
    "#print(f'Collaborator three\\'s training data size: {len(collaborator_models[2].data_loader.X_train)}')\n",
    "#print(f'Collaborator three\\'s validation data size: {len(collaborator_models[2].data_loader.X_valid)}')"
   ]
  },
  {
   "cell_type": "code",
   "execution_count": 15,
   "id": "fb204a9d-a1de-4550-825e-6c7c0a733a42",
   "metadata": {},
   "outputs": [
    {
     "name": "stdout",
     "output_type": "stream",
     "text": [
      "{\n",
      "    \"aggregator.settings.best_state_path\": \"save/keras_cnn_mnist_best.pbuf\",\n",
      "    \"aggregator.settings.db_store_rounds\": 2,\n",
      "    \"aggregator.settings.init_state_path\": \"save/keras_cnn_mnist_init.pbuf\",\n",
      "    \"aggregator.settings.last_state_path\": \"save/keras_cnn_mnist_last.pbuf\",\n",
      "    \"aggregator.settings.rounds_to_train\": 10,\n",
      "    \"aggregator.settings.write_logs\": true,\n",
      "    \"aggregator.template\": \"openfl.component.Aggregator\",\n",
      "    \"assigner.settings.task_groups.0.name\": \"train_and_validate\",\n",
      "    \"assigner.settings.task_groups.0.percentage\": 1.0,\n",
      "    \"assigner.settings.task_groups.0.tasks.0\": \"aggregated_model_validation\",\n",
      "    \"assigner.settings.task_groups.0.tasks.1\": \"train\",\n",
      "    \"assigner.settings.task_groups.0.tasks.2\": \"locally_tuned_model_validation\",\n",
      "    \"assigner.template\": \"openfl.component.RandomGroupedAssigner\",\n",
      "    \"collaborator.settings.db_store_rounds\": 1,\n",
      "    \"collaborator.settings.delta_updates\": false,\n",
      "    \"collaborator.settings.opt_treatment\": \"RESET\",\n",
      "    \"collaborator.template\": \"openfl.component.Collaborator\",\n",
      "    \"compression_pipeline.settings\": {},\n",
      "    \"compression_pipeline.template\": \"openfl.pipelines.NoCompressionPipeline\",\n",
      "    \"data_loader.settings.batch_size\": 256,\n",
      "    \"data_loader.settings.collaborator_count\": 2,\n",
      "    \"data_loader.settings.data_group_name\": \"mnist\",\n",
      "    \"data_loader.template\": \"src.tfmnist_inmemory.TensorFlowMNISTInMemory\",\n",
      "    \"network.settings.agg_addr\": \"DESKTOP-8R9A5NI\",\n",
      "    \"network.settings.agg_port\": 60628,\n",
      "    \"network.settings.cert_folder\": \"cert\",\n",
      "    \"network.settings.client_reconnect_interval\": 5,\n",
      "    \"network.settings.disable_client_auth\": false,\n",
      "    \"network.settings.hash_salt\": \"auto\",\n",
      "    \"network.settings.tls\": true,\n",
      "    \"network.template\": \"openfl.federation.Network\",\n",
      "    \"task_runner.settings\": {},\n",
      "    \"task_runner.template\": \"src.keras_cnn.KerasCNN\",\n",
      "    \"tasks.aggregated_model_validation.function\": \"validate\",\n",
      "    \"tasks.aggregated_model_validation.kwargs.apply\": \"global\",\n",
      "    \"tasks.aggregated_model_validation.kwargs.batch_size\": 32,\n",
      "    \"tasks.aggregated_model_validation.kwargs.metrics.0\": \"accuracy\",\n",
      "    \"tasks.locally_tuned_model_validation.function\": \"validate\",\n",
      "    \"tasks.locally_tuned_model_validation.kwargs.apply\": \"local\",\n",
      "    \"tasks.locally_tuned_model_validation.kwargs.batch_size\": 32,\n",
      "    \"tasks.locally_tuned_model_validation.kwargs.metrics.0\": \"accuracy\",\n",
      "    \"tasks.settings\": {},\n",
      "    \"tasks.train.function\": \"train\",\n",
      "    \"tasks.train.kwargs.batch_size\": 32,\n",
      "    \"tasks.train.kwargs.epochs\": 1,\n",
      "    \"tasks.train.kwargs.metrics.0\": \"loss\"\n",
      "}\n"
     ]
    }
   ],
   "source": [
    "#Get the current values of the plan. Each of these can be overridden\n",
    "print(fx.get_plan())"
   ]
  },
  {
   "cell_type": "code",
   "execution_count": null,
   "id": "599bf430-40ca-498b-905b-3ea194634a12",
   "metadata": {},
   "outputs": [
    {
     "data": {
      "text/html": [
       "<pre style=\"white-space:pre;overflow-x:auto;line-height:normal;font-family:Menlo,'DejaVu Sans Mono',consolas,'Courier New',monospace\"><span style=\"color: #7fbfbf; text-decoration-color: #7fbfbf\">[10:46:45] </span><span style=\"color: #000080; text-decoration-color: #000080\">INFO    </span> Updating aggregator.settings.rounds_to_train to <span style=\"color: #008080; text-decoration-color: #008080; font-weight: bold\">5</span><span style=\"color: #808000; text-decoration-color: #808000\">...</span>                                                                           <a href=\"file://C:\\Users\\BHSU\\AppData\\Local\\Programs\\Python\\Python39\\lib\\site-packages\\openfl\\native\\native.py\" target=\"_blank\"><span style=\"color: #7f7f7f; text-decoration-color: #7f7f7f\">native.py</span></a><span style=\"color: #7f7f7f; text-decoration-color: #7f7f7f\">:</span><a href=\"file://C:\\Users\\BHSU\\AppData\\Local\\Programs\\Python\\Python39\\lib\\site-packages\\openfl\\native\\native.py#102\" target=\"_blank\"><span style=\"color: #7f7f7f; text-decoration-color: #7f7f7f\">102</span></a>\n",
       "</pre>\n"
      ],
      "text/plain": [
       "\u001b[2;36m[10:46:45]\u001b[0m\u001b[2;36m \u001b[0m\u001b[34mINFO    \u001b[0m Updating aggregator.settings.rounds_to_train to \u001b[1;36m5\u001b[0m\u001b[33m...\u001b[0m                                                                           \u001b]8;id=84220;file://C:\\Users\\BHSU\\AppData\\Local\\Programs\\Python\\Python39\\lib\\site-packages\\openfl\\native\\native.py\u001b\\\u001b[2mnative.py\u001b[0m\u001b]8;;\u001b\\\u001b[2m:\u001b[0m\u001b]8;id=890661;file://C:\\Users\\BHSU\\AppData\\Local\\Programs\\Python\\Python39\\lib\\site-packages\\openfl\\native\\native.py#102\u001b\\\u001b[2m102\u001b[0m\u001b]8;;\u001b\\\n"
      ]
     },
     "metadata": {},
     "output_type": "display_data"
    },
    {
     "data": {
      "text/html": [
       "<pre style=\"white-space:pre;overflow-x:auto;line-height:normal;font-family:Menlo,'DejaVu Sans Mono',consolas,'Courier New',monospace\"><span style=\"color: #7fbfbf; text-decoration-color: #7fbfbf\">           </span><span style=\"color: #000080; text-decoration-color: #000080\">INFO    </span> FL-Plan hash is <span style=\"color: #000080; text-decoration-color: #000080\">3038ce92442cac7666b80fc10e51468e5e5adcc0b61540dc858ee7d85c8b0c885c2cc942842464f636d17c74cb36ced1</span>                 <a href=\"file://C:\\Users\\BHSU\\AppData\\Local\\Programs\\Python\\Python39\\lib\\site-packages\\openfl\\federated\\plan\\plan.py\" target=\"_blank\"><span style=\"color: #7f7f7f; text-decoration-color: #7f7f7f\">plan.py</span></a><span style=\"color: #7f7f7f; text-decoration-color: #7f7f7f\">:</span><a href=\"file://C:\\Users\\BHSU\\AppData\\Local\\Programs\\Python\\Python39\\lib\\site-packages\\openfl\\federated\\plan\\plan.py#235\" target=\"_blank\"><span style=\"color: #7f7f7f; text-decoration-color: #7f7f7f\">235</span></a>\n",
       "</pre>\n"
      ],
      "text/plain": [
       "\u001b[2;36m          \u001b[0m\u001b[2;36m \u001b[0m\u001b[34mINFO    \u001b[0m FL-Plan hash is \u001b[34m3038ce92442cac7666b80fc10e51468e5e5adcc0b61540dc858ee7d85c8b0c885c2cc942842464f636d17c74cb36ced1\u001b[0m                 \u001b]8;id=882670;file://C:\\Users\\BHSU\\AppData\\Local\\Programs\\Python\\Python39\\lib\\site-packages\\openfl\\federated\\plan\\plan.py\u001b\\\u001b[2mplan.py\u001b[0m\u001b]8;;\u001b\\\u001b[2m:\u001b[0m\u001b]8;id=866945;file://C:\\Users\\BHSU\\AppData\\Local\\Programs\\Python\\Python39\\lib\\site-packages\\openfl\\federated\\plan\\plan.py#235\u001b\\\u001b[2m235\u001b[0m\u001b]8;;\u001b\\\n"
      ]
     },
     "metadata": {},
     "output_type": "display_data"
    },
    {
     "data": {
      "text/html": [
       "<pre style=\"white-space:pre;overflow-x:auto;line-height:normal;font-family:Menlo,'DejaVu Sans Mono',consolas,'Courier New',monospace\"><span style=\"color: #7fbfbf; text-decoration-color: #7fbfbf\">           </span><span style=\"color: #000080; text-decoration-color: #000080\">INFO    </span> Building <span style=\"color: #800000; text-decoration-color: #800000\">🡆</span> Object <span style=\"color: #800000; text-decoration-color: #800000\">NoCompressionPipeline</span> from <span style=\"color: #800000; text-decoration-color: #800000\">openfl.pipelines</span> Module.                                                            <a href=\"file://C:\\Users\\BHSU\\AppData\\Local\\Programs\\Python\\Python39\\lib\\site-packages\\openfl\\federated\\plan\\plan.py\" target=\"_blank\"><span style=\"color: #7f7f7f; text-decoration-color: #7f7f7f\">plan.py</span></a><span style=\"color: #7f7f7f; text-decoration-color: #7f7f7f\">:</span><a href=\"file://C:\\Users\\BHSU\\AppData\\Local\\Programs\\Python\\Python39\\lib\\site-packages\\openfl\\federated\\plan\\plan.py#171\" target=\"_blank\"><span style=\"color: #7f7f7f; text-decoration-color: #7f7f7f\">171</span></a>\n",
       "</pre>\n"
      ],
      "text/plain": [
       "\u001b[2;36m          \u001b[0m\u001b[2;36m \u001b[0m\u001b[34mINFO    \u001b[0m Building \u001b[31m🡆\u001b[0m Object \u001b[31mNoCompressionPipeline\u001b[0m from \u001b[31mopenfl.pipelines\u001b[0m Module.                                                            \u001b]8;id=533242;file://C:\\Users\\BHSU\\AppData\\Local\\Programs\\Python\\Python39\\lib\\site-packages\\openfl\\federated\\plan\\plan.py\u001b\\\u001b[2mplan.py\u001b[0m\u001b]8;;\u001b\\\u001b[2m:\u001b[0m\u001b]8;id=592893;file://C:\\Users\\BHSU\\AppData\\Local\\Programs\\Python\\Python39\\lib\\site-packages\\openfl\\federated\\plan\\plan.py#171\u001b\\\u001b[2m171\u001b[0m\u001b]8;;\u001b\\\n"
      ]
     },
     "metadata": {},
     "output_type": "display_data"
    },
    {
     "data": {
      "text/html": [
       "<pre style=\"white-space:pre;overflow-x:auto;line-height:normal;font-family:Menlo,'DejaVu Sans Mono',consolas,'Courier New',monospace\"><span style=\"color: #7fbfbf; text-decoration-color: #7fbfbf\">           </span><span style=\"color: #000080; text-decoration-color: #000080\">INFO    </span> Creating Initial Weights File    🠆 save/keras_cnn_mnist_init.pbuf                                                              <a href=\"file://C:\\Users\\BHSU\\AppData\\Local\\Programs\\Python\\Python39\\lib\\site-packages\\openfl\\native\\native.py\" target=\"_blank\"><span style=\"color: #7f7f7f; text-decoration-color: #7f7f7f\">native.py</span></a><span style=\"color: #7f7f7f; text-decoration-color: #7f7f7f\">:</span><a href=\"file://C:\\Users\\BHSU\\AppData\\Local\\Programs\\Python\\Python39\\lib\\site-packages\\openfl\\native\\native.py#277\" target=\"_blank\"><span style=\"color: #7f7f7f; text-decoration-color: #7f7f7f\">277</span></a>\n",
       "</pre>\n"
      ],
      "text/plain": [
       "\u001b[2;36m          \u001b[0m\u001b[2;36m \u001b[0m\u001b[34mINFO    \u001b[0m Creating Initial Weights File    🠆 save/keras_cnn_mnist_init.pbuf                                                              \u001b]8;id=196590;file://C:\\Users\\BHSU\\AppData\\Local\\Programs\\Python\\Python39\\lib\\site-packages\\openfl\\native\\native.py\u001b\\\u001b[2mnative.py\u001b[0m\u001b]8;;\u001b\\\u001b[2m:\u001b[0m\u001b]8;id=493131;file://C:\\Users\\BHSU\\AppData\\Local\\Programs\\Python\\Python39\\lib\\site-packages\\openfl\\native\\native.py#277\u001b\\\u001b[2m277\u001b[0m\u001b]8;;\u001b\\\n"
      ]
     },
     "metadata": {},
     "output_type": "display_data"
    },
    {
     "data": {
      "text/html": [
       "<pre style=\"white-space:pre;overflow-x:auto;line-height:normal;font-family:Menlo,'DejaVu Sans Mono',consolas,'Courier New',monospace\"><span style=\"color: #7fbfbf; text-decoration-color: #7fbfbf\">           </span><span style=\"color: #000080; text-decoration-color: #000080\">INFO    </span> Starting Experiment<span style=\"color: #808000; text-decoration-color: #808000\">...</span>                                                                                                         <a href=\"file://C:\\Users\\BHSU\\AppData\\Local\\Programs\\Python\\Python39\\lib\\site-packages\\openfl\\native\\native.py\" target=\"_blank\"><span style=\"color: #7f7f7f; text-decoration-color: #7f7f7f\">native.py</span></a><span style=\"color: #7f7f7f; text-decoration-color: #7f7f7f\">:</span><a href=\"file://C:\\Users\\BHSU\\AppData\\Local\\Programs\\Python\\Python39\\lib\\site-packages\\openfl\\native\\native.py#281\" target=\"_blank\"><span style=\"color: #7f7f7f; text-decoration-color: #7f7f7f\">281</span></a>\n",
       "</pre>\n"
      ],
      "text/plain": [
       "\u001b[2;36m          \u001b[0m\u001b[2;36m \u001b[0m\u001b[34mINFO    \u001b[0m Starting Experiment\u001b[33m...\u001b[0m                                                                                                         \u001b]8;id=445073;file://C:\\Users\\BHSU\\AppData\\Local\\Programs\\Python\\Python39\\lib\\site-packages\\openfl\\native\\native.py\u001b\\\u001b[2mnative.py\u001b[0m\u001b]8;;\u001b\\\u001b[2m:\u001b[0m\u001b]8;id=353553;file://C:\\Users\\BHSU\\AppData\\Local\\Programs\\Python\\Python39\\lib\\site-packages\\openfl\\native\\native.py#281\u001b\\\u001b[2m281\u001b[0m\u001b]8;;\u001b\\\n"
      ]
     },
     "metadata": {},
     "output_type": "display_data"
    },
    {
     "data": {
      "text/html": [
       "<pre style=\"white-space:pre;overflow-x:auto;line-height:normal;font-family:Menlo,'DejaVu Sans Mono',consolas,'Courier New',monospace\"><span style=\"color: #7fbfbf; text-decoration-color: #7fbfbf\">           </span><span style=\"color: #000080; text-decoration-color: #000080\">INFO    </span> Building <span style=\"color: #800000; text-decoration-color: #800000\">🡆</span> Object <span style=\"color: #800000; text-decoration-color: #800000\">RandomGroupedAssigner</span> from <span style=\"color: #800000; text-decoration-color: #800000\">openfl.component</span> Module.                                                            <a href=\"file://C:\\Users\\BHSU\\AppData\\Local\\Programs\\Python\\Python39\\lib\\site-packages\\openfl\\federated\\plan\\plan.py\" target=\"_blank\"><span style=\"color: #7f7f7f; text-decoration-color: #7f7f7f\">plan.py</span></a><span style=\"color: #7f7f7f; text-decoration-color: #7f7f7f\">:</span><a href=\"file://C:\\Users\\BHSU\\AppData\\Local\\Programs\\Python\\Python39\\lib\\site-packages\\openfl\\federated\\plan\\plan.py#171\" target=\"_blank\"><span style=\"color: #7f7f7f; text-decoration-color: #7f7f7f\">171</span></a>\n",
       "</pre>\n"
      ],
      "text/plain": [
       "\u001b[2;36m          \u001b[0m\u001b[2;36m \u001b[0m\u001b[34mINFO    \u001b[0m Building \u001b[31m🡆\u001b[0m Object \u001b[31mRandomGroupedAssigner\u001b[0m from \u001b[31mopenfl.component\u001b[0m Module.                                                            \u001b]8;id=215445;file://C:\\Users\\BHSU\\AppData\\Local\\Programs\\Python\\Python39\\lib\\site-packages\\openfl\\federated\\plan\\plan.py\u001b\\\u001b[2mplan.py\u001b[0m\u001b]8;;\u001b\\\u001b[2m:\u001b[0m\u001b]8;id=850830;file://C:\\Users\\BHSU\\AppData\\Local\\Programs\\Python\\Python39\\lib\\site-packages\\openfl\\federated\\plan\\plan.py#171\u001b\\\u001b[2m171\u001b[0m\u001b]8;;\u001b\\\n"
      ]
     },
     "metadata": {},
     "output_type": "display_data"
    },
    {
     "data": {
      "text/html": [
       "<pre style=\"white-space:pre;overflow-x:auto;line-height:normal;font-family:Menlo,'DejaVu Sans Mono',consolas,'Courier New',monospace\"><span style=\"color: #7fbfbf; text-decoration-color: #7fbfbf\">           </span><span style=\"color: #000080; text-decoration-color: #000080\">INFO    </span> Building <span style=\"color: #800000; text-decoration-color: #800000\">🡆</span> Object <span style=\"color: #800000; text-decoration-color: #800000\">CutoffTimeBasedStragglerHandling</span> from <span style=\"color: #800000; text-decoration-color: #800000\">openfl.component.straggler_handling_functions</span> Module.                    <a href=\"file://C:\\Users\\BHSU\\AppData\\Local\\Programs\\Python\\Python39\\lib\\site-packages\\openfl\\federated\\plan\\plan.py\" target=\"_blank\"><span style=\"color: #7f7f7f; text-decoration-color: #7f7f7f\">plan.py</span></a><span style=\"color: #7f7f7f; text-decoration-color: #7f7f7f\">:</span><a href=\"file://C:\\Users\\BHSU\\AppData\\Local\\Programs\\Python\\Python39\\lib\\site-packages\\openfl\\federated\\plan\\plan.py#171\" target=\"_blank\"><span style=\"color: #7f7f7f; text-decoration-color: #7f7f7f\">171</span></a>\n",
       "</pre>\n"
      ],
      "text/plain": [
       "\u001b[2;36m          \u001b[0m\u001b[2;36m \u001b[0m\u001b[34mINFO    \u001b[0m Building \u001b[31m🡆\u001b[0m Object \u001b[31mCutoffTimeBasedStragglerHandling\u001b[0m from \u001b[31mopenfl.component.straggler_handling_functions\u001b[0m Module.                    \u001b]8;id=493667;file://C:\\Users\\BHSU\\AppData\\Local\\Programs\\Python\\Python39\\lib\\site-packages\\openfl\\federated\\plan\\plan.py\u001b\\\u001b[2mplan.py\u001b[0m\u001b]8;;\u001b\\\u001b[2m:\u001b[0m\u001b]8;id=689307;file://C:\\Users\\BHSU\\AppData\\Local\\Programs\\Python\\Python39\\lib\\site-packages\\openfl\\federated\\plan\\plan.py#171\u001b\\\u001b[2m171\u001b[0m\u001b]8;;\u001b\\\n"
      ]
     },
     "metadata": {},
     "output_type": "display_data"
    },
    {
     "data": {
      "text/html": [
       "<pre style=\"white-space:pre;overflow-x:auto;line-height:normal;font-family:Menlo,'DejaVu Sans Mono',consolas,'Courier New',monospace\"><span style=\"color: #7fbfbf; text-decoration-color: #7fbfbf\">           </span><span style=\"color: #000080; text-decoration-color: #000080\">INFO    </span> Building <span style=\"color: #800000; text-decoration-color: #800000\">🡆</span> Object <span style=\"color: #800000; text-decoration-color: #800000\">Aggregator</span> from <span style=\"color: #800000; text-decoration-color: #800000\">openfl.component</span> Module.                                                                       <a href=\"file://C:\\Users\\BHSU\\AppData\\Local\\Programs\\Python\\Python39\\lib\\site-packages\\openfl\\federated\\plan\\plan.py\" target=\"_blank\"><span style=\"color: #7f7f7f; text-decoration-color: #7f7f7f\">plan.py</span></a><span style=\"color: #7f7f7f; text-decoration-color: #7f7f7f\">:</span><a href=\"file://C:\\Users\\BHSU\\AppData\\Local\\Programs\\Python\\Python39\\lib\\site-packages\\openfl\\federated\\plan\\plan.py#171\" target=\"_blank\"><span style=\"color: #7f7f7f; text-decoration-color: #7f7f7f\">171</span></a>\n",
       "</pre>\n"
      ],
      "text/plain": [
       "\u001b[2;36m          \u001b[0m\u001b[2;36m \u001b[0m\u001b[34mINFO    \u001b[0m Building \u001b[31m🡆\u001b[0m Object \u001b[31mAggregator\u001b[0m from \u001b[31mopenfl.component\u001b[0m Module.                                                                       \u001b]8;id=100934;file://C:\\Users\\BHSU\\AppData\\Local\\Programs\\Python\\Python39\\lib\\site-packages\\openfl\\federated\\plan\\plan.py\u001b\\\u001b[2mplan.py\u001b[0m\u001b]8;;\u001b\\\u001b[2m:\u001b[0m\u001b]8;id=664423;file://C:\\Users\\BHSU\\AppData\\Local\\Programs\\Python\\Python39\\lib\\site-packages\\openfl\\federated\\plan\\plan.py#171\u001b\\\u001b[2m171\u001b[0m\u001b]8;;\u001b\\\n"
      ]
     },
     "metadata": {},
     "output_type": "display_data"
    },
    {
     "data": {
      "text/html": [
       "<pre style=\"white-space:pre;overflow-x:auto;line-height:normal;font-family:Menlo,'DejaVu Sans Mono',consolas,'Courier New',monospace\"><span style=\"color: #7fbfbf; text-decoration-color: #7fbfbf\">           </span><span style=\"color: #000080; text-decoration-color: #000080\">INFO    </span> Building <span style=\"color: #800000; text-decoration-color: #800000\">🡆</span> Object <span style=\"color: #800000; text-decoration-color: #800000\">Collaborator</span> from <span style=\"color: #800000; text-decoration-color: #800000\">openfl.component</span> Module.                                                                     <a href=\"file://C:\\Users\\BHSU\\AppData\\Local\\Programs\\Python\\Python39\\lib\\site-packages\\openfl\\federated\\plan\\plan.py\" target=\"_blank\"><span style=\"color: #7f7f7f; text-decoration-color: #7f7f7f\">plan.py</span></a><span style=\"color: #7f7f7f; text-decoration-color: #7f7f7f\">:</span><a href=\"file://C:\\Users\\BHSU\\AppData\\Local\\Programs\\Python\\Python39\\lib\\site-packages\\openfl\\federated\\plan\\plan.py#171\" target=\"_blank\"><span style=\"color: #7f7f7f; text-decoration-color: #7f7f7f\">171</span></a>\n",
       "</pre>\n"
      ],
      "text/plain": [
       "\u001b[2;36m          \u001b[0m\u001b[2;36m \u001b[0m\u001b[34mINFO    \u001b[0m Building \u001b[31m🡆\u001b[0m Object \u001b[31mCollaborator\u001b[0m from \u001b[31mopenfl.component\u001b[0m Module.                                                                     \u001b]8;id=882275;file://C:\\Users\\BHSU\\AppData\\Local\\Programs\\Python\\Python39\\lib\\site-packages\\openfl\\federated\\plan\\plan.py\u001b\\\u001b[2mplan.py\u001b[0m\u001b]8;;\u001b\\\u001b[2m:\u001b[0m\u001b]8;id=822079;file://C:\\Users\\BHSU\\AppData\\Local\\Programs\\Python\\Python39\\lib\\site-packages\\openfl\\federated\\plan\\plan.py#171\u001b\\\u001b[2m171\u001b[0m\u001b]8;;\u001b\\\n"
      ]
     },
     "metadata": {},
     "output_type": "display_data"
    },
    {
     "data": {
      "text/html": [
       "<pre style=\"white-space:pre;overflow-x:auto;line-height:normal;font-family:Menlo,'DejaVu Sans Mono',consolas,'Courier New',monospace\"><span style=\"color: #7fbfbf; text-decoration-color: #7fbfbf\">           </span><span style=\"color: #000080; text-decoration-color: #000080\">INFO    </span> Building <span style=\"color: #800000; text-decoration-color: #800000\">🡆</span> Object <span style=\"color: #800000; text-decoration-color: #800000\">Collaborator</span> from <span style=\"color: #800000; text-decoration-color: #800000\">openfl.component</span> Module.                                                                     <a href=\"file://C:\\Users\\BHSU\\AppData\\Local\\Programs\\Python\\Python39\\lib\\site-packages\\openfl\\federated\\plan\\plan.py\" target=\"_blank\"><span style=\"color: #7f7f7f; text-decoration-color: #7f7f7f\">plan.py</span></a><span style=\"color: #7f7f7f; text-decoration-color: #7f7f7f\">:</span><a href=\"file://C:\\Users\\BHSU\\AppData\\Local\\Programs\\Python\\Python39\\lib\\site-packages\\openfl\\federated\\plan\\plan.py#171\" target=\"_blank\"><span style=\"color: #7f7f7f; text-decoration-color: #7f7f7f\">171</span></a>\n",
       "</pre>\n"
      ],
      "text/plain": [
       "\u001b[2;36m          \u001b[0m\u001b[2;36m \u001b[0m\u001b[34mINFO    \u001b[0m Building \u001b[31m🡆\u001b[0m Object \u001b[31mCollaborator\u001b[0m from \u001b[31mopenfl.component\u001b[0m Module.                                                                     \u001b]8;id=639443;file://C:\\Users\\BHSU\\AppData\\Local\\Programs\\Python\\Python39\\lib\\site-packages\\openfl\\federated\\plan\\plan.py\u001b\\\u001b[2mplan.py\u001b[0m\u001b]8;;\u001b\\\u001b[2m:\u001b[0m\u001b]8;id=972789;file://C:\\Users\\BHSU\\AppData\\Local\\Programs\\Python\\Python39\\lib\\site-packages\\openfl\\federated\\plan\\plan.py#171\u001b\\\u001b[2m171\u001b[0m\u001b]8;;\u001b\\\n"
      ]
     },
     "metadata": {},
     "output_type": "display_data"
    },
    {
     "data": {
      "text/html": [
       "<pre style=\"white-space:pre;overflow-x:auto;line-height:normal;font-family:Menlo,'DejaVu Sans Mono',consolas,'Courier New',monospace\"><span style=\"color: #7fbfbf; text-decoration-color: #7fbfbf\">           </span><span style=\"color: #000080; text-decoration-color: #000080\">INFO    </span> Waiting for tasks<span style=\"color: #808000; text-decoration-color: #808000\">...</span>                                                                                                     <a href=\"file://C:\\Users\\BHSU\\AppData\\Local\\Programs\\Python\\Python39\\lib\\site-packages\\openfl\\component\\collaborator\\collaborator.py\" target=\"_blank\"><span style=\"color: #7f7f7f; text-decoration-color: #7f7f7f\">collaborator.py</span></a><span style=\"color: #7f7f7f; text-decoration-color: #7f7f7f\">:</span><a href=\"file://C:\\Users\\BHSU\\AppData\\Local\\Programs\\Python\\Python39\\lib\\site-packages\\openfl\\component\\collaborator\\collaborator.py#178\" target=\"_blank\"><span style=\"color: #7f7f7f; text-decoration-color: #7f7f7f\">178</span></a>\n",
       "</pre>\n"
      ],
      "text/plain": [
       "\u001b[2;36m          \u001b[0m\u001b[2;36m \u001b[0m\u001b[34mINFO    \u001b[0m Waiting for tasks\u001b[33m...\u001b[0m                                                                                                     \u001b]8;id=989854;file://C:\\Users\\BHSU\\AppData\\Local\\Programs\\Python\\Python39\\lib\\site-packages\\openfl\\component\\collaborator\\collaborator.py\u001b\\\u001b[2mcollaborator.py\u001b[0m\u001b]8;;\u001b\\\u001b[2m:\u001b[0m\u001b]8;id=408737;file://C:\\Users\\BHSU\\AppData\\Local\\Programs\\Python\\Python39\\lib\\site-packages\\openfl\\component\\collaborator\\collaborator.py#178\u001b\\\u001b[2m178\u001b[0m\u001b]8;;\u001b\\\n"
      ]
     },
     "metadata": {},
     "output_type": "display_data"
    },
    {
     "data": {
      "text/html": [
       "<pre style=\"white-space:pre;overflow-x:auto;line-height:normal;font-family:Menlo,'DejaVu Sans Mono',consolas,'Courier New',monospace\"><span style=\"color: #7fbfbf; text-decoration-color: #7fbfbf\">           </span><span style=\"color: #000080; text-decoration-color: #000080\">INFO    </span> Sending tasks to collaborator one for round <span style=\"color: #008080; text-decoration-color: #008080; font-weight: bold\">0</span>                                                                              <a href=\"file://C:\\Users\\BHSU\\AppData\\Local\\Programs\\Python\\Python39\\lib\\site-packages\\openfl\\component\\aggregator\\aggregator.py\" target=\"_blank\"><span style=\"color: #7f7f7f; text-decoration-color: #7f7f7f\">aggregator.py</span></a><span style=\"color: #7f7f7f; text-decoration-color: #7f7f7f\">:</span><a href=\"file://C:\\Users\\BHSU\\AppData\\Local\\Programs\\Python\\Python39\\lib\\site-packages\\openfl\\component\\aggregator\\aggregator.py#329\" target=\"_blank\"><span style=\"color: #7f7f7f; text-decoration-color: #7f7f7f\">329</span></a>\n",
       "</pre>\n"
      ],
      "text/plain": [
       "\u001b[2;36m          \u001b[0m\u001b[2;36m \u001b[0m\u001b[34mINFO    \u001b[0m Sending tasks to collaborator one for round \u001b[1;36m0\u001b[0m                                                                              \u001b]8;id=497884;file://C:\\Users\\BHSU\\AppData\\Local\\Programs\\Python\\Python39\\lib\\site-packages\\openfl\\component\\aggregator\\aggregator.py\u001b\\\u001b[2maggregator.py\u001b[0m\u001b]8;;\u001b\\\u001b[2m:\u001b[0m\u001b]8;id=82327;file://C:\\Users\\BHSU\\AppData\\Local\\Programs\\Python\\Python39\\lib\\site-packages\\openfl\\component\\aggregator\\aggregator.py#329\u001b\\\u001b[2m329\u001b[0m\u001b]8;;\u001b\\\n"
      ]
     },
     "metadata": {},
     "output_type": "display_data"
    },
    {
     "data": {
      "text/html": [
       "<pre style=\"white-space:pre;overflow-x:auto;line-height:normal;font-family:Menlo,'DejaVu Sans Mono',consolas,'Courier New',monospace\"><span style=\"color: #7fbfbf; text-decoration-color: #7fbfbf\">           </span><span style=\"color: #000080; text-decoration-color: #000080\">INFO    </span> Received the following tasks: <span style=\"font-weight: bold\">[</span><span style=\"color: #008000; text-decoration-color: #008000\">'aggregated_model_validation'</span>, <span style=\"color: #008000; text-decoration-color: #008000\">'train'</span>, <span style=\"color: #008000; text-decoration-color: #008000\">'locally_tuned_model_validation'</span><span style=\"font-weight: bold\">]</span>                 <a href=\"file://C:\\Users\\BHSU\\AppData\\Local\\Programs\\Python\\Python39\\lib\\site-packages\\openfl\\component\\collaborator\\collaborator.py\" target=\"_blank\"><span style=\"color: #7f7f7f; text-decoration-color: #7f7f7f\">collaborator.py</span></a><span style=\"color: #7f7f7f; text-decoration-color: #7f7f7f\">:</span><a href=\"file://C:\\Users\\BHSU\\AppData\\Local\\Programs\\Python\\Python39\\lib\\site-packages\\openfl\\component\\collaborator\\collaborator.py#168\" target=\"_blank\"><span style=\"color: #7f7f7f; text-decoration-color: #7f7f7f\">168</span></a>\n",
       "</pre>\n"
      ],
      "text/plain": [
       "\u001b[2;36m          \u001b[0m\u001b[2;36m \u001b[0m\u001b[34mINFO    \u001b[0m Received the following tasks: \u001b[1m[\u001b[0m\u001b[32m'aggregated_model_validation'\u001b[0m, \u001b[32m'train'\u001b[0m, \u001b[32m'locally_tuned_model_validation'\u001b[0m\u001b[1m]\u001b[0m                 \u001b]8;id=780622;file://C:\\Users\\BHSU\\AppData\\Local\\Programs\\Python\\Python39\\lib\\site-packages\\openfl\\component\\collaborator\\collaborator.py\u001b\\\u001b[2mcollaborator.py\u001b[0m\u001b]8;;\u001b\\\u001b[2m:\u001b[0m\u001b]8;id=43966;file://C:\\Users\\BHSU\\AppData\\Local\\Programs\\Python\\Python39\\lib\\site-packages\\openfl\\component\\collaborator\\collaborator.py#168\u001b\\\u001b[2m168\u001b[0m\u001b]8;;\u001b\\\n"
      ]
     },
     "metadata": {},
     "output_type": "display_data"
    },
    {
     "data": {
      "text/html": [
       "<pre style=\"white-space:pre;overflow-x:auto;line-height:normal;font-family:Menlo,'DejaVu Sans Mono',consolas,'Courier New',monospace\"><span style=\"color: #7fbfbf; text-decoration-color: #7fbfbf\">           </span><span style=\"color: #000080; text-decoration-color: #000080\">INFO    </span> Using TaskRunner subclassing API                                                                                         <a href=\"file://C:\\Users\\BHSU\\AppData\\Local\\Programs\\Python\\Python39\\lib\\site-packages\\openfl\\component\\collaborator\\collaborator.py\" target=\"_blank\"><span style=\"color: #7f7f7f; text-decoration-color: #7f7f7f\">collaborator.py</span></a><span style=\"color: #7f7f7f; text-decoration-color: #7f7f7f\">:</span><a href=\"file://C:\\Users\\BHSU\\AppData\\Local\\Programs\\Python\\Python39\\lib\\site-packages\\openfl\\component\\collaborator\\collaborator.py#253\" target=\"_blank\"><span style=\"color: #7f7f7f; text-decoration-color: #7f7f7f\">253</span></a>\n",
       "</pre>\n"
      ],
      "text/plain": [
       "\u001b[2;36m          \u001b[0m\u001b[2;36m \u001b[0m\u001b[34mINFO    \u001b[0m Using TaskRunner subclassing API                                                                                         \u001b]8;id=247041;file://C:\\Users\\BHSU\\AppData\\Local\\Programs\\Python\\Python39\\lib\\site-packages\\openfl\\component\\collaborator\\collaborator.py\u001b\\\u001b[2mcollaborator.py\u001b[0m\u001b]8;;\u001b\\\u001b[2m:\u001b[0m\u001b]8;id=298266;file://C:\\Users\\BHSU\\AppData\\Local\\Programs\\Python\\Python39\\lib\\site-packages\\openfl\\component\\collaborator\\collaborator.py#253\u001b\\\u001b[2m253\u001b[0m\u001b]8;;\u001b\\\n"
      ]
     },
     "metadata": {},
     "output_type": "display_data"
    },
    {
     "name": "stdout",
     "output_type": "stream",
     "text": [
      "282/282 [==============================] - 0s 523us/step - loss: 2.3866 - accuracy: 0.1020\n"
     ]
    },
    {
     "data": {
      "text/html": [
       "<pre style=\"white-space:pre;overflow-x:auto;line-height:normal;font-family:Menlo,'DejaVu Sans Mono',consolas,'Courier New',monospace\"><span style=\"color: #7fbfbf; text-decoration-color: #7fbfbf\">           </span>METRIC   Round <span style=\"color: #008080; text-decoration-color: #008080; font-weight: bold\">0</span>, collaborator one is sending metric for task aggregated_model_validation: accuracy      <span style=\"color: #008080; text-decoration-color: #008080; font-weight: bold\">0.102000</span>                 <a href=\"file://C:\\Users\\BHSU\\AppData\\Local\\Programs\\Python\\Python39\\lib\\site-packages\\openfl\\component\\collaborator\\collaborator.py\" target=\"_blank\"><span style=\"color: #7f7f7f; text-decoration-color: #7f7f7f\">collaborator.py</span></a><span style=\"color: #7f7f7f; text-decoration-color: #7f7f7f\">:</span><a href=\"file://C:\\Users\\BHSU\\AppData\\Local\\Programs\\Python\\Python39\\lib\\site-packages\\openfl\\component\\collaborator\\collaborator.py#415\" target=\"_blank\"><span style=\"color: #7f7f7f; text-decoration-color: #7f7f7f\">415</span></a>\n",
       "</pre>\n"
      ],
      "text/plain": [
       "\u001b[2;36m          \u001b[0m\u001b[2;36m \u001b[0mMETRIC   Round \u001b[1;36m0\u001b[0m, collaborator one is sending metric for task aggregated_model_validation: accuracy      \u001b[1;36m0.102000\u001b[0m                 \u001b]8;id=926073;file://C:\\Users\\BHSU\\AppData\\Local\\Programs\\Python\\Python39\\lib\\site-packages\\openfl\\component\\collaborator\\collaborator.py\u001b\\\u001b[2mcollaborator.py\u001b[0m\u001b]8;;\u001b\\\u001b[2m:\u001b[0m\u001b]8;id=725403;file://C:\\Users\\BHSU\\AppData\\Local\\Programs\\Python\\Python39\\lib\\site-packages\\openfl\\component\\collaborator\\collaborator.py#415\u001b\\\u001b[2m415\u001b[0m\u001b]8;;\u001b\\\n"
      ]
     },
     "metadata": {},
     "output_type": "display_data"
    },
    {
     "data": {
      "text/html": [
       "<pre style=\"white-space:pre;overflow-x:auto;line-height:normal;font-family:Menlo,'DejaVu Sans Mono',consolas,'Courier New',monospace\"><span style=\"color: #7fbfbf; text-decoration-color: #7fbfbf\">           </span><span style=\"color: #000080; text-decoration-color: #000080\">INFO    </span> Collaborator one is sending task results for aggregated_model_validation, round <span style=\"color: #008080; text-decoration-color: #008080; font-weight: bold\">0</span>                                          <a href=\"file://C:\\Users\\BHSU\\AppData\\Local\\Programs\\Python\\Python39\\lib\\site-packages\\openfl\\component\\aggregator\\aggregator.py\" target=\"_blank\"><span style=\"color: #7f7f7f; text-decoration-color: #7f7f7f\">aggregator.py</span></a><span style=\"color: #7f7f7f; text-decoration-color: #7f7f7f\">:</span><a href=\"file://C:\\Users\\BHSU\\AppData\\Local\\Programs\\Python\\Python39\\lib\\site-packages\\openfl\\component\\aggregator\\aggregator.py#520\" target=\"_blank\"><span style=\"color: #7f7f7f; text-decoration-color: #7f7f7f\">520</span></a>\n",
       "</pre>\n"
      ],
      "text/plain": [
       "\u001b[2;36m          \u001b[0m\u001b[2;36m \u001b[0m\u001b[34mINFO    \u001b[0m Collaborator one is sending task results for aggregated_model_validation, round \u001b[1;36m0\u001b[0m                                          \u001b]8;id=471501;file://C:\\Users\\BHSU\\AppData\\Local\\Programs\\Python\\Python39\\lib\\site-packages\\openfl\\component\\aggregator\\aggregator.py\u001b\\\u001b[2maggregator.py\u001b[0m\u001b]8;;\u001b\\\u001b[2m:\u001b[0m\u001b]8;id=309547;file://C:\\Users\\BHSU\\AppData\\Local\\Programs\\Python\\Python39\\lib\\site-packages\\openfl\\component\\aggregator\\aggregator.py#520\u001b\\\u001b[2m520\u001b[0m\u001b]8;;\u001b\\\n"
      ]
     },
     "metadata": {},
     "output_type": "display_data"
    },
    {
     "data": {
      "text/html": [
       "<pre style=\"white-space:pre;overflow-x:auto;line-height:normal;font-family:Menlo,'DejaVu Sans Mono',consolas,'Courier New',monospace\"><span style=\"color: #7fbfbf; text-decoration-color: #7fbfbf\">           </span>METRIC   Round <span style=\"color: #008080; text-decoration-color: #008080; font-weight: bold\">0</span>, collaborator validate_agg aggregated_model_validation result accuracy: <span style=\"color: #008080; text-decoration-color: #008080; font-weight: bold\">0.102000</span>                                   <a href=\"file://C:\\Users\\BHSU\\AppData\\Local\\Programs\\Python\\Python39\\lib\\site-packages\\openfl\\component\\aggregator\\aggregator.py\" target=\"_blank\"><span style=\"color: #7f7f7f; text-decoration-color: #7f7f7f\">aggregator.py</span></a><span style=\"color: #7f7f7f; text-decoration-color: #7f7f7f\">:</span><a href=\"file://C:\\Users\\BHSU\\AppData\\Local\\Programs\\Python\\Python39\\lib\\site-packages\\openfl\\component\\aggregator\\aggregator.py#559\" target=\"_blank\"><span style=\"color: #7f7f7f; text-decoration-color: #7f7f7f\">559</span></a>\n",
       "</pre>\n"
      ],
      "text/plain": [
       "\u001b[2;36m          \u001b[0m\u001b[2;36m \u001b[0mMETRIC   Round \u001b[1;36m0\u001b[0m, collaborator validate_agg aggregated_model_validation result accuracy: \u001b[1;36m0.102000\u001b[0m                                   \u001b]8;id=351583;file://C:\\Users\\BHSU\\AppData\\Local\\Programs\\Python\\Python39\\lib\\site-packages\\openfl\\component\\aggregator\\aggregator.py\u001b\\\u001b[2maggregator.py\u001b[0m\u001b]8;;\u001b\\\u001b[2m:\u001b[0m\u001b]8;id=784168;file://C:\\Users\\BHSU\\AppData\\Local\\Programs\\Python\\Python39\\lib\\site-packages\\openfl\\component\\aggregator\\aggregator.py#559\u001b\\\u001b[2m559\u001b[0m\u001b]8;;\u001b\\\n"
      ]
     },
     "metadata": {},
     "output_type": "display_data"
    },
    {
     "data": {
      "text/html": [
       "<pre style=\"white-space:pre;overflow-x:auto;line-height:normal;font-family:Menlo,'DejaVu Sans Mono',consolas,'Courier New',monospace\"><span style=\"color: #7fbfbf; text-decoration-color: #7fbfbf\">           </span><span style=\"color: #000080; text-decoration-color: #000080\">INFO    </span> Using TaskRunner subclassing API                                                                                         <a href=\"file://C:\\Users\\BHSU\\AppData\\Local\\Programs\\Python\\Python39\\lib\\site-packages\\openfl\\component\\collaborator\\collaborator.py\" target=\"_blank\"><span style=\"color: #7f7f7f; text-decoration-color: #7f7f7f\">collaborator.py</span></a><span style=\"color: #7f7f7f; text-decoration-color: #7f7f7f\">:</span><a href=\"file://C:\\Users\\BHSU\\AppData\\Local\\Programs\\Python\\Python39\\lib\\site-packages\\openfl\\component\\collaborator\\collaborator.py#253\" target=\"_blank\"><span style=\"color: #7f7f7f; text-decoration-color: #7f7f7f\">253</span></a>\n",
       "</pre>\n"
      ],
      "text/plain": [
       "\u001b[2;36m          \u001b[0m\u001b[2;36m \u001b[0m\u001b[34mINFO    \u001b[0m Using TaskRunner subclassing API                                                                                         \u001b]8;id=346946;file://C:\\Users\\BHSU\\AppData\\Local\\Programs\\Python\\Python39\\lib\\site-packages\\openfl\\component\\collaborator\\collaborator.py\u001b\\\u001b[2mcollaborator.py\u001b[0m\u001b]8;;\u001b\\\u001b[2m:\u001b[0m\u001b]8;id=439434;file://C:\\Users\\BHSU\\AppData\\Local\\Programs\\Python\\Python39\\lib\\site-packages\\openfl\\component\\collaborator\\collaborator.py#253\u001b\\\u001b[2m253\u001b[0m\u001b]8;;\u001b\\\n"
      ]
     },
     "metadata": {},
     "output_type": "display_data"
    },
    {
     "data": {
      "text/html": [
       "<pre style=\"white-space:pre;overflow-x:auto;line-height:normal;font-family:Menlo,'DejaVu Sans Mono',consolas,'Courier New',monospace\"><span style=\"color: #7fbfbf; text-decoration-color: #7fbfbf\">           </span><span style=\"color: #000080; text-decoration-color: #000080\">INFO    </span> Run <span style=\"color: #008080; text-decoration-color: #008080; font-weight: bold\">0</span> epoch of <span style=\"color: #008080; text-decoration-color: #008080; font-weight: bold\">0</span> round                                                                                                    <a href=\"file://C:\\Users\\BHSU\\AppData\\Local\\Programs\\Python\\Python39\\lib\\site-packages\\openfl\\federated\\task\\runner_keras.py\" target=\"_blank\"><span style=\"color: #7f7f7f; text-decoration-color: #7f7f7f\">runner_keras.py</span></a><span style=\"color: #7f7f7f; text-decoration-color: #7f7f7f\">:</span><a href=\"file://C:\\Users\\BHSU\\AppData\\Local\\Programs\\Python\\Python39\\lib\\site-packages\\openfl\\federated\\task\\runner_keras.py#83\" target=\"_blank\"><span style=\"color: #7f7f7f; text-decoration-color: #7f7f7f\">83</span></a>\n",
       "</pre>\n"
      ],
      "text/plain": [
       "\u001b[2;36m          \u001b[0m\u001b[2;36m \u001b[0m\u001b[34mINFO    \u001b[0m Run \u001b[1;36m0\u001b[0m epoch of \u001b[1;36m0\u001b[0m round                                                                                                    \u001b]8;id=271135;file://C:\\Users\\BHSU\\AppData\\Local\\Programs\\Python\\Python39\\lib\\site-packages\\openfl\\federated\\task\\runner_keras.py\u001b\\\u001b[2mrunner_keras.py\u001b[0m\u001b]8;;\u001b\\\u001b[2m:\u001b[0m\u001b]8;id=391968;file://C:\\Users\\BHSU\\AppData\\Local\\Programs\\Python\\Python39\\lib\\site-packages\\openfl\\federated\\task\\runner_keras.py#83\u001b\\\u001b[2m83\u001b[0m\u001b]8;;\u001b\\\n"
      ]
     },
     "metadata": {},
     "output_type": "display_data"
    },
    {
     "name": "stdout",
     "output_type": "stream",
     "text": [
      "657/657 [==============================] - 1s 662us/step - loss: 0.5437 - accuracy: 0.8371\n"
     ]
    },
    {
     "data": {
      "text/html": [
       "<pre style=\"white-space:pre;overflow-x:auto;line-height:normal;font-family:Menlo,'DejaVu Sans Mono',consolas,'Courier New',monospace\"><span style=\"color: #7fbfbf; text-decoration-color: #7fbfbf\">[10:46:46] </span>METRIC   Round <span style=\"color: #008080; text-decoration-color: #008080; font-weight: bold\">0</span>, collaborator one is sending metric for task train: loss        <span style=\"color: #008080; text-decoration-color: #008080; font-weight: bold\">0.543741</span>                                         <a href=\"file://C:\\Users\\BHSU\\AppData\\Local\\Programs\\Python\\Python39\\lib\\site-packages\\openfl\\component\\collaborator\\collaborator.py\" target=\"_blank\"><span style=\"color: #7f7f7f; text-decoration-color: #7f7f7f\">collaborator.py</span></a><span style=\"color: #7f7f7f; text-decoration-color: #7f7f7f\">:</span><a href=\"file://C:\\Users\\BHSU\\AppData\\Local\\Programs\\Python\\Python39\\lib\\site-packages\\openfl\\component\\collaborator\\collaborator.py#415\" target=\"_blank\"><span style=\"color: #7f7f7f; text-decoration-color: #7f7f7f\">415</span></a>\n",
       "</pre>\n"
      ],
      "text/plain": [
       "\u001b[2;36m[10:46:46]\u001b[0m\u001b[2;36m \u001b[0mMETRIC   Round \u001b[1;36m0\u001b[0m, collaborator one is sending metric for task train: loss        \u001b[1;36m0.543741\u001b[0m                                         \u001b]8;id=976402;file://C:\\Users\\BHSU\\AppData\\Local\\Programs\\Python\\Python39\\lib\\site-packages\\openfl\\component\\collaborator\\collaborator.py\u001b\\\u001b[2mcollaborator.py\u001b[0m\u001b]8;;\u001b\\\u001b[2m:\u001b[0m\u001b]8;id=70501;file://C:\\Users\\BHSU\\AppData\\Local\\Programs\\Python\\Python39\\lib\\site-packages\\openfl\\component\\collaborator\\collaborator.py#415\u001b\\\u001b[2m415\u001b[0m\u001b]8;;\u001b\\\n"
      ]
     },
     "metadata": {},
     "output_type": "display_data"
    },
    {
     "data": {
      "text/html": [
       "<pre style=\"white-space:pre;overflow-x:auto;line-height:normal;font-family:Menlo,'DejaVu Sans Mono',consolas,'Courier New',monospace\"><span style=\"color: #7fbfbf; text-decoration-color: #7fbfbf\">           </span><span style=\"color: #000080; text-decoration-color: #000080\">INFO    </span> Collaborator one is sending task results for train, round <span style=\"color: #008080; text-decoration-color: #008080; font-weight: bold\">0</span>                                                                <a href=\"file://C:\\Users\\BHSU\\AppData\\Local\\Programs\\Python\\Python39\\lib\\site-packages\\openfl\\component\\aggregator\\aggregator.py\" target=\"_blank\"><span style=\"color: #7f7f7f; text-decoration-color: #7f7f7f\">aggregator.py</span></a><span style=\"color: #7f7f7f; text-decoration-color: #7f7f7f\">:</span><a href=\"file://C:\\Users\\BHSU\\AppData\\Local\\Programs\\Python\\Python39\\lib\\site-packages\\openfl\\component\\aggregator\\aggregator.py#520\" target=\"_blank\"><span style=\"color: #7f7f7f; text-decoration-color: #7f7f7f\">520</span></a>\n",
       "</pre>\n"
      ],
      "text/plain": [
       "\u001b[2;36m          \u001b[0m\u001b[2;36m \u001b[0m\u001b[34mINFO    \u001b[0m Collaborator one is sending task results for train, round \u001b[1;36m0\u001b[0m                                                                \u001b]8;id=700425;file://C:\\Users\\BHSU\\AppData\\Local\\Programs\\Python\\Python39\\lib\\site-packages\\openfl\\component\\aggregator\\aggregator.py\u001b\\\u001b[2maggregator.py\u001b[0m\u001b]8;;\u001b\\\u001b[2m:\u001b[0m\u001b]8;id=768128;file://C:\\Users\\BHSU\\AppData\\Local\\Programs\\Python\\Python39\\lib\\site-packages\\openfl\\component\\aggregator\\aggregator.py#520\u001b\\\u001b[2m520\u001b[0m\u001b]8;;\u001b\\\n"
      ]
     },
     "metadata": {},
     "output_type": "display_data"
    },
    {
     "data": {
      "text/html": [
       "<pre style=\"white-space:pre;overflow-x:auto;line-height:normal;font-family:Menlo,'DejaVu Sans Mono',consolas,'Courier New',monospace\"><span style=\"color: #7fbfbf; text-decoration-color: #7fbfbf\">           </span>METRIC   Round <span style=\"color: #008080; text-decoration-color: #008080; font-weight: bold\">0</span>, collaborator one train result loss:    <span style=\"color: #008080; text-decoration-color: #008080; font-weight: bold\">0.543741</span>                                                                   <a href=\"file://C:\\Users\\BHSU\\AppData\\Local\\Programs\\Python\\Python39\\lib\\site-packages\\openfl\\component\\aggregator\\aggregator.py\" target=\"_blank\"><span style=\"color: #7f7f7f; text-decoration-color: #7f7f7f\">aggregator.py</span></a><span style=\"color: #7f7f7f; text-decoration-color: #7f7f7f\">:</span><a href=\"file://C:\\Users\\BHSU\\AppData\\Local\\Programs\\Python\\Python39\\lib\\site-packages\\openfl\\component\\aggregator\\aggregator.py#559\" target=\"_blank\"><span style=\"color: #7f7f7f; text-decoration-color: #7f7f7f\">559</span></a>\n",
       "</pre>\n"
      ],
      "text/plain": [
       "\u001b[2;36m          \u001b[0m\u001b[2;36m \u001b[0mMETRIC   Round \u001b[1;36m0\u001b[0m, collaborator one train result loss:    \u001b[1;36m0.543741\u001b[0m                                                                   \u001b]8;id=428614;file://C:\\Users\\BHSU\\AppData\\Local\\Programs\\Python\\Python39\\lib\\site-packages\\openfl\\component\\aggregator\\aggregator.py\u001b\\\u001b[2maggregator.py\u001b[0m\u001b]8;;\u001b\\\u001b[2m:\u001b[0m\u001b]8;id=379359;file://C:\\Users\\BHSU\\AppData\\Local\\Programs\\Python\\Python39\\lib\\site-packages\\openfl\\component\\aggregator\\aggregator.py#559\u001b\\\u001b[2m559\u001b[0m\u001b]8;;\u001b\\\n"
      ]
     },
     "metadata": {},
     "output_type": "display_data"
    },
    {
     "data": {
      "text/html": [
       "<pre style=\"white-space:pre;overflow-x:auto;line-height:normal;font-family:Menlo,'DejaVu Sans Mono',consolas,'Courier New',monospace\"><span style=\"color: #7fbfbf; text-decoration-color: #7fbfbf\">           </span><span style=\"color: #000080; text-decoration-color: #000080\">INFO    </span> Using TaskRunner subclassing API                                                                                         <a href=\"file://C:\\Users\\BHSU\\AppData\\Local\\Programs\\Python\\Python39\\lib\\site-packages\\openfl\\component\\collaborator\\collaborator.py\" target=\"_blank\"><span style=\"color: #7f7f7f; text-decoration-color: #7f7f7f\">collaborator.py</span></a><span style=\"color: #7f7f7f; text-decoration-color: #7f7f7f\">:</span><a href=\"file://C:\\Users\\BHSU\\AppData\\Local\\Programs\\Python\\Python39\\lib\\site-packages\\openfl\\component\\collaborator\\collaborator.py#253\" target=\"_blank\"><span style=\"color: #7f7f7f; text-decoration-color: #7f7f7f\">253</span></a>\n",
       "</pre>\n"
      ],
      "text/plain": [
       "\u001b[2;36m          \u001b[0m\u001b[2;36m \u001b[0m\u001b[34mINFO    \u001b[0m Using TaskRunner subclassing API                                                                                         \u001b]8;id=314859;file://C:\\Users\\BHSU\\AppData\\Local\\Programs\\Python\\Python39\\lib\\site-packages\\openfl\\component\\collaborator\\collaborator.py\u001b\\\u001b[2mcollaborator.py\u001b[0m\u001b]8;;\u001b\\\u001b[2m:\u001b[0m\u001b]8;id=838918;file://C:\\Users\\BHSU\\AppData\\Local\\Programs\\Python\\Python39\\lib\\site-packages\\openfl\\component\\collaborator\\collaborator.py#253\u001b\\\u001b[2m253\u001b[0m\u001b]8;;\u001b\\\n"
      ]
     },
     "metadata": {},
     "output_type": "display_data"
    },
    {
     "name": "stdout",
     "output_type": "stream",
     "text": [
      "282/282 [==============================] - 0s 498us/step - loss: 0.3314 - accuracy: 0.8983\n"
     ]
    },
    {
     "data": {
      "text/html": [
       "<pre style=\"white-space:pre;overflow-x:auto;line-height:normal;font-family:Menlo,'DejaVu Sans Mono',consolas,'Courier New',monospace\"><span style=\"color: #7fbfbf; text-decoration-color: #7fbfbf\">           </span>METRIC   Round <span style=\"color: #008080; text-decoration-color: #008080; font-weight: bold\">0</span>, collaborator one is sending metric for task locally_tuned_model_validation: accuracy   <span style=\"color: #008080; text-decoration-color: #008080; font-weight: bold\">0.898333</span>                 <a href=\"file://C:\\Users\\BHSU\\AppData\\Local\\Programs\\Python\\Python39\\lib\\site-packages\\openfl\\component\\collaborator\\collaborator.py\" target=\"_blank\"><span style=\"color: #7f7f7f; text-decoration-color: #7f7f7f\">collaborator.py</span></a><span style=\"color: #7f7f7f; text-decoration-color: #7f7f7f\">:</span><a href=\"file://C:\\Users\\BHSU\\AppData\\Local\\Programs\\Python\\Python39\\lib\\site-packages\\openfl\\component\\collaborator\\collaborator.py#415\" target=\"_blank\"><span style=\"color: #7f7f7f; text-decoration-color: #7f7f7f\">415</span></a>\n",
       "</pre>\n"
      ],
      "text/plain": [
       "\u001b[2;36m          \u001b[0m\u001b[2;36m \u001b[0mMETRIC   Round \u001b[1;36m0\u001b[0m, collaborator one is sending metric for task locally_tuned_model_validation: accuracy   \u001b[1;36m0.898333\u001b[0m                 \u001b]8;id=459366;file://C:\\Users\\BHSU\\AppData\\Local\\Programs\\Python\\Python39\\lib\\site-packages\\openfl\\component\\collaborator\\collaborator.py\u001b\\\u001b[2mcollaborator.py\u001b[0m\u001b]8;;\u001b\\\u001b[2m:\u001b[0m\u001b]8;id=694623;file://C:\\Users\\BHSU\\AppData\\Local\\Programs\\Python\\Python39\\lib\\site-packages\\openfl\\component\\collaborator\\collaborator.py#415\u001b\\\u001b[2m415\u001b[0m\u001b]8;;\u001b\\\n"
      ]
     },
     "metadata": {},
     "output_type": "display_data"
    },
    {
     "data": {
      "text/html": [
       "<pre style=\"white-space:pre;overflow-x:auto;line-height:normal;font-family:Menlo,'DejaVu Sans Mono',consolas,'Courier New',monospace\"><span style=\"color: #7fbfbf; text-decoration-color: #7fbfbf\">           </span><span style=\"color: #000080; text-decoration-color: #000080\">INFO    </span> Collaborator one is sending task results for locally_tuned_model_validation, round <span style=\"color: #008080; text-decoration-color: #008080; font-weight: bold\">0</span>                                       <a href=\"file://C:\\Users\\BHSU\\AppData\\Local\\Programs\\Python\\Python39\\lib\\site-packages\\openfl\\component\\aggregator\\aggregator.py\" target=\"_blank\"><span style=\"color: #7f7f7f; text-decoration-color: #7f7f7f\">aggregator.py</span></a><span style=\"color: #7f7f7f; text-decoration-color: #7f7f7f\">:</span><a href=\"file://C:\\Users\\BHSU\\AppData\\Local\\Programs\\Python\\Python39\\lib\\site-packages\\openfl\\component\\aggregator\\aggregator.py#520\" target=\"_blank\"><span style=\"color: #7f7f7f; text-decoration-color: #7f7f7f\">520</span></a>\n",
       "</pre>\n"
      ],
      "text/plain": [
       "\u001b[2;36m          \u001b[0m\u001b[2;36m \u001b[0m\u001b[34mINFO    \u001b[0m Collaborator one is sending task results for locally_tuned_model_validation, round \u001b[1;36m0\u001b[0m                                       \u001b]8;id=250976;file://C:\\Users\\BHSU\\AppData\\Local\\Programs\\Python\\Python39\\lib\\site-packages\\openfl\\component\\aggregator\\aggregator.py\u001b\\\u001b[2maggregator.py\u001b[0m\u001b]8;;\u001b\\\u001b[2m:\u001b[0m\u001b]8;id=555801;file://C:\\Users\\BHSU\\AppData\\Local\\Programs\\Python\\Python39\\lib\\site-packages\\openfl\\component\\aggregator\\aggregator.py#520\u001b\\\u001b[2m520\u001b[0m\u001b]8;;\u001b\\\n"
      ]
     },
     "metadata": {},
     "output_type": "display_data"
    },
    {
     "data": {
      "text/html": [
       "<pre style=\"white-space:pre;overflow-x:auto;line-height:normal;font-family:Menlo,'DejaVu Sans Mono',consolas,'Courier New',monospace\"><span style=\"color: #7fbfbf; text-decoration-color: #7fbfbf\">           </span>METRIC   Round <span style=\"color: #008080; text-decoration-color: #008080; font-weight: bold\">0</span>, collaborator validate_local locally_tuned_model_validation result accuracy:    <span style=\"color: #008080; text-decoration-color: #008080; font-weight: bold\">0.898333</span>                           <a href=\"file://C:\\Users\\BHSU\\AppData\\Local\\Programs\\Python\\Python39\\lib\\site-packages\\openfl\\component\\aggregator\\aggregator.py\" target=\"_blank\"><span style=\"color: #7f7f7f; text-decoration-color: #7f7f7f\">aggregator.py</span></a><span style=\"color: #7f7f7f; text-decoration-color: #7f7f7f\">:</span><a href=\"file://C:\\Users\\BHSU\\AppData\\Local\\Programs\\Python\\Python39\\lib\\site-packages\\openfl\\component\\aggregator\\aggregator.py#559\" target=\"_blank\"><span style=\"color: #7f7f7f; text-decoration-color: #7f7f7f\">559</span></a>\n",
       "</pre>\n"
      ],
      "text/plain": [
       "\u001b[2;36m          \u001b[0m\u001b[2;36m \u001b[0mMETRIC   Round \u001b[1;36m0\u001b[0m, collaborator validate_local locally_tuned_model_validation result accuracy:    \u001b[1;36m0.898333\u001b[0m                           \u001b]8;id=129753;file://C:\\Users\\BHSU\\AppData\\Local\\Programs\\Python\\Python39\\lib\\site-packages\\openfl\\component\\aggregator\\aggregator.py\u001b\\\u001b[2maggregator.py\u001b[0m\u001b]8;;\u001b\\\u001b[2m:\u001b[0m\u001b]8;id=321105;file://C:\\Users\\BHSU\\AppData\\Local\\Programs\\Python\\Python39\\lib\\site-packages\\openfl\\component\\aggregator\\aggregator.py#559\u001b\\\u001b[2m559\u001b[0m\u001b]8;;\u001b\\\n"
      ]
     },
     "metadata": {},
     "output_type": "display_data"
    },
    {
     "data": {
      "text/html": [
       "<pre style=\"white-space:pre;overflow-x:auto;line-height:normal;font-family:Menlo,'DejaVu Sans Mono',consolas,'Courier New',monospace\"><span style=\"color: #7fbfbf; text-decoration-color: #7fbfbf\">           </span><span style=\"color: #000080; text-decoration-color: #000080\">INFO    </span> All tasks completed on one for round <span style=\"color: #008080; text-decoration-color: #008080; font-weight: bold\">0</span><span style=\"color: #808000; text-decoration-color: #808000\">...</span>                                                                                <a href=\"file://C:\\Users\\BHSU\\AppData\\Local\\Programs\\Python\\Python39\\lib\\site-packages\\openfl\\component\\collaborator\\collaborator.py\" target=\"_blank\"><span style=\"color: #7f7f7f; text-decoration-color: #7f7f7f\">collaborator.py</span></a><span style=\"color: #7f7f7f; text-decoration-color: #7f7f7f\">:</span><a href=\"file://C:\\Users\\BHSU\\AppData\\Local\\Programs\\Python\\Python39\\lib\\site-packages\\openfl\\component\\collaborator\\collaborator.py#171\" target=\"_blank\"><span style=\"color: #7f7f7f; text-decoration-color: #7f7f7f\">171</span></a>\n",
       "</pre>\n"
      ],
      "text/plain": [
       "\u001b[2;36m          \u001b[0m\u001b[2;36m \u001b[0m\u001b[34mINFO    \u001b[0m All tasks completed on one for round \u001b[1;36m0\u001b[0m\u001b[33m...\u001b[0m                                                                                \u001b]8;id=427422;file://C:\\Users\\BHSU\\AppData\\Local\\Programs\\Python\\Python39\\lib\\site-packages\\openfl\\component\\collaborator\\collaborator.py\u001b\\\u001b[2mcollaborator.py\u001b[0m\u001b]8;;\u001b\\\u001b[2m:\u001b[0m\u001b]8;id=825806;file://C:\\Users\\BHSU\\AppData\\Local\\Programs\\Python\\Python39\\lib\\site-packages\\openfl\\component\\collaborator\\collaborator.py#171\u001b\\\u001b[2m171\u001b[0m\u001b]8;;\u001b\\\n"
      ]
     },
     "metadata": {},
     "output_type": "display_data"
    },
    {
     "data": {
      "text/html": [
       "<pre style=\"white-space:pre;overflow-x:auto;line-height:normal;font-family:Menlo,'DejaVu Sans Mono',consolas,'Courier New',monospace\"><span style=\"color: #7fbfbf; text-decoration-color: #7fbfbf\">           </span><span style=\"color: #000080; text-decoration-color: #000080\">INFO    </span> Waiting for tasks<span style=\"color: #808000; text-decoration-color: #808000\">...</span>                                                                                                     <a href=\"file://C:\\Users\\BHSU\\AppData\\Local\\Programs\\Python\\Python39\\lib\\site-packages\\openfl\\component\\collaborator\\collaborator.py\" target=\"_blank\"><span style=\"color: #7f7f7f; text-decoration-color: #7f7f7f\">collaborator.py</span></a><span style=\"color: #7f7f7f; text-decoration-color: #7f7f7f\">:</span><a href=\"file://C:\\Users\\BHSU\\AppData\\Local\\Programs\\Python\\Python39\\lib\\site-packages\\openfl\\component\\collaborator\\collaborator.py#178\" target=\"_blank\"><span style=\"color: #7f7f7f; text-decoration-color: #7f7f7f\">178</span></a>\n",
       "</pre>\n"
      ],
      "text/plain": [
       "\u001b[2;36m          \u001b[0m\u001b[2;36m \u001b[0m\u001b[34mINFO    \u001b[0m Waiting for tasks\u001b[33m...\u001b[0m                                                                                                     \u001b]8;id=521381;file://C:\\Users\\BHSU\\AppData\\Local\\Programs\\Python\\Python39\\lib\\site-packages\\openfl\\component\\collaborator\\collaborator.py\u001b\\\u001b[2mcollaborator.py\u001b[0m\u001b]8;;\u001b\\\u001b[2m:\u001b[0m\u001b]8;id=603765;file://C:\\Users\\BHSU\\AppData\\Local\\Programs\\Python\\Python39\\lib\\site-packages\\openfl\\component\\collaborator\\collaborator.py#178\u001b\\\u001b[2m178\u001b[0m\u001b]8;;\u001b\\\n"
      ]
     },
     "metadata": {},
     "output_type": "display_data"
    },
    {
     "data": {
      "text/html": [
       "<pre style=\"white-space:pre;overflow-x:auto;line-height:normal;font-family:Menlo,'DejaVu Sans Mono',consolas,'Courier New',monospace\"><span style=\"color: #7fbfbf; text-decoration-color: #7fbfbf\">           </span><span style=\"color: #000080; text-decoration-color: #000080\">INFO    </span> Sending tasks to collaborator two for round <span style=\"color: #008080; text-decoration-color: #008080; font-weight: bold\">0</span>                                                                              <a href=\"file://C:\\Users\\BHSU\\AppData\\Local\\Programs\\Python\\Python39\\lib\\site-packages\\openfl\\component\\aggregator\\aggregator.py\" target=\"_blank\"><span style=\"color: #7f7f7f; text-decoration-color: #7f7f7f\">aggregator.py</span></a><span style=\"color: #7f7f7f; text-decoration-color: #7f7f7f\">:</span><a href=\"file://C:\\Users\\BHSU\\AppData\\Local\\Programs\\Python\\Python39\\lib\\site-packages\\openfl\\component\\aggregator\\aggregator.py#329\" target=\"_blank\"><span style=\"color: #7f7f7f; text-decoration-color: #7f7f7f\">329</span></a>\n",
       "</pre>\n"
      ],
      "text/plain": [
       "\u001b[2;36m          \u001b[0m\u001b[2;36m \u001b[0m\u001b[34mINFO    \u001b[0m Sending tasks to collaborator two for round \u001b[1;36m0\u001b[0m                                                                              \u001b]8;id=684461;file://C:\\Users\\BHSU\\AppData\\Local\\Programs\\Python\\Python39\\lib\\site-packages\\openfl\\component\\aggregator\\aggregator.py\u001b\\\u001b[2maggregator.py\u001b[0m\u001b]8;;\u001b\\\u001b[2m:\u001b[0m\u001b]8;id=319951;file://C:\\Users\\BHSU\\AppData\\Local\\Programs\\Python\\Python39\\lib\\site-packages\\openfl\\component\\aggregator\\aggregator.py#329\u001b\\\u001b[2m329\u001b[0m\u001b]8;;\u001b\\\n"
      ]
     },
     "metadata": {},
     "output_type": "display_data"
    },
    {
     "data": {
      "text/html": [
       "<pre style=\"white-space:pre;overflow-x:auto;line-height:normal;font-family:Menlo,'DejaVu Sans Mono',consolas,'Courier New',monospace\"><span style=\"color: #7fbfbf; text-decoration-color: #7fbfbf\">           </span><span style=\"color: #000080; text-decoration-color: #000080\">INFO    </span> Received the following tasks: <span style=\"font-weight: bold\">[</span><span style=\"color: #008000; text-decoration-color: #008000\">'aggregated_model_validation'</span>, <span style=\"color: #008000; text-decoration-color: #008000\">'train'</span>, <span style=\"color: #008000; text-decoration-color: #008000\">'locally_tuned_model_validation'</span><span style=\"font-weight: bold\">]</span>                 <a href=\"file://C:\\Users\\BHSU\\AppData\\Local\\Programs\\Python\\Python39\\lib\\site-packages\\openfl\\component\\collaborator\\collaborator.py\" target=\"_blank\"><span style=\"color: #7f7f7f; text-decoration-color: #7f7f7f\">collaborator.py</span></a><span style=\"color: #7f7f7f; text-decoration-color: #7f7f7f\">:</span><a href=\"file://C:\\Users\\BHSU\\AppData\\Local\\Programs\\Python\\Python39\\lib\\site-packages\\openfl\\component\\collaborator\\collaborator.py#168\" target=\"_blank\"><span style=\"color: #7f7f7f; text-decoration-color: #7f7f7f\">168</span></a>\n",
       "</pre>\n"
      ],
      "text/plain": [
       "\u001b[2;36m          \u001b[0m\u001b[2;36m \u001b[0m\u001b[34mINFO    \u001b[0m Received the following tasks: \u001b[1m[\u001b[0m\u001b[32m'aggregated_model_validation'\u001b[0m, \u001b[32m'train'\u001b[0m, \u001b[32m'locally_tuned_model_validation'\u001b[0m\u001b[1m]\u001b[0m                 \u001b]8;id=331154;file://C:\\Users\\BHSU\\AppData\\Local\\Programs\\Python\\Python39\\lib\\site-packages\\openfl\\component\\collaborator\\collaborator.py\u001b\\\u001b[2mcollaborator.py\u001b[0m\u001b]8;;\u001b\\\u001b[2m:\u001b[0m\u001b]8;id=48746;file://C:\\Users\\BHSU\\AppData\\Local\\Programs\\Python\\Python39\\lib\\site-packages\\openfl\\component\\collaborator\\collaborator.py#168\u001b\\\u001b[2m168\u001b[0m\u001b]8;;\u001b\\\n"
      ]
     },
     "metadata": {},
     "output_type": "display_data"
    },
    {
     "data": {
      "text/html": [
       "<pre style=\"white-space:pre;overflow-x:auto;line-height:normal;font-family:Menlo,'DejaVu Sans Mono',consolas,'Courier New',monospace\"><span style=\"color: #7fbfbf; text-decoration-color: #7fbfbf\">           </span><span style=\"color: #000080; text-decoration-color: #000080\">INFO    </span> Using TaskRunner subclassing API                                                                                         <a href=\"file://C:\\Users\\BHSU\\AppData\\Local\\Programs\\Python\\Python39\\lib\\site-packages\\openfl\\component\\collaborator\\collaborator.py\" target=\"_blank\"><span style=\"color: #7f7f7f; text-decoration-color: #7f7f7f\">collaborator.py</span></a><span style=\"color: #7f7f7f; text-decoration-color: #7f7f7f\">:</span><a href=\"file://C:\\Users\\BHSU\\AppData\\Local\\Programs\\Python\\Python39\\lib\\site-packages\\openfl\\component\\collaborator\\collaborator.py#253\" target=\"_blank\"><span style=\"color: #7f7f7f; text-decoration-color: #7f7f7f\">253</span></a>\n",
       "</pre>\n"
      ],
      "text/plain": [
       "\u001b[2;36m          \u001b[0m\u001b[2;36m \u001b[0m\u001b[34mINFO    \u001b[0m Using TaskRunner subclassing API                                                                                         \u001b]8;id=731387;file://C:\\Users\\BHSU\\AppData\\Local\\Programs\\Python\\Python39\\lib\\site-packages\\openfl\\component\\collaborator\\collaborator.py\u001b\\\u001b[2mcollaborator.py\u001b[0m\u001b]8;;\u001b\\\u001b[2m:\u001b[0m\u001b]8;id=988562;file://C:\\Users\\BHSU\\AppData\\Local\\Programs\\Python\\Python39\\lib\\site-packages\\openfl\\component\\collaborator\\collaborator.py#253\u001b\\\u001b[2m253\u001b[0m\u001b]8;;\u001b\\\n"
      ]
     },
     "metadata": {},
     "output_type": "display_data"
    },
    {
     "name": "stdout",
     "output_type": "stream",
     "text": [
      "282/282 [==============================] - 0s 596us/step - loss: 2.3918 - accuracy: 0.1022\n"
     ]
    },
    {
     "data": {
      "text/html": [
       "<pre style=\"white-space:pre;overflow-x:auto;line-height:normal;font-family:Menlo,'DejaVu Sans Mono',consolas,'Courier New',monospace\"><span style=\"color: #7fbfbf; text-decoration-color: #7fbfbf\">           </span>METRIC   Round <span style=\"color: #008080; text-decoration-color: #008080; font-weight: bold\">0</span>, collaborator two is sending metric for task aggregated_model_validation: accuracy      <span style=\"color: #008080; text-decoration-color: #008080; font-weight: bold\">0.102222</span>                 <a href=\"file://C:\\Users\\BHSU\\AppData\\Local\\Programs\\Python\\Python39\\lib\\site-packages\\openfl\\component\\collaborator\\collaborator.py\" target=\"_blank\"><span style=\"color: #7f7f7f; text-decoration-color: #7f7f7f\">collaborator.py</span></a><span style=\"color: #7f7f7f; text-decoration-color: #7f7f7f\">:</span><a href=\"file://C:\\Users\\BHSU\\AppData\\Local\\Programs\\Python\\Python39\\lib\\site-packages\\openfl\\component\\collaborator\\collaborator.py#415\" target=\"_blank\"><span style=\"color: #7f7f7f; text-decoration-color: #7f7f7f\">415</span></a>\n",
       "</pre>\n"
      ],
      "text/plain": [
       "\u001b[2;36m          \u001b[0m\u001b[2;36m \u001b[0mMETRIC   Round \u001b[1;36m0\u001b[0m, collaborator two is sending metric for task aggregated_model_validation: accuracy      \u001b[1;36m0.102222\u001b[0m                 \u001b]8;id=924473;file://C:\\Users\\BHSU\\AppData\\Local\\Programs\\Python\\Python39\\lib\\site-packages\\openfl\\component\\collaborator\\collaborator.py\u001b\\\u001b[2mcollaborator.py\u001b[0m\u001b]8;;\u001b\\\u001b[2m:\u001b[0m\u001b]8;id=772552;file://C:\\Users\\BHSU\\AppData\\Local\\Programs\\Python\\Python39\\lib\\site-packages\\openfl\\component\\collaborator\\collaborator.py#415\u001b\\\u001b[2m415\u001b[0m\u001b]8;;\u001b\\\n"
      ]
     },
     "metadata": {},
     "output_type": "display_data"
    },
    {
     "data": {
      "text/html": [
       "<pre style=\"white-space:pre;overflow-x:auto;line-height:normal;font-family:Menlo,'DejaVu Sans Mono',consolas,'Courier New',monospace\"><span style=\"color: #7fbfbf; text-decoration-color: #7fbfbf\">           </span><span style=\"color: #000080; text-decoration-color: #000080\">INFO    </span> Collaborator two is sending task results for aggregated_model_validation, round <span style=\"color: #008080; text-decoration-color: #008080; font-weight: bold\">0</span>                                          <a href=\"file://C:\\Users\\BHSU\\AppData\\Local\\Programs\\Python\\Python39\\lib\\site-packages\\openfl\\component\\aggregator\\aggregator.py\" target=\"_blank\"><span style=\"color: #7f7f7f; text-decoration-color: #7f7f7f\">aggregator.py</span></a><span style=\"color: #7f7f7f; text-decoration-color: #7f7f7f\">:</span><a href=\"file://C:\\Users\\BHSU\\AppData\\Local\\Programs\\Python\\Python39\\lib\\site-packages\\openfl\\component\\aggregator\\aggregator.py#520\" target=\"_blank\"><span style=\"color: #7f7f7f; text-decoration-color: #7f7f7f\">520</span></a>\n",
       "</pre>\n"
      ],
      "text/plain": [
       "\u001b[2;36m          \u001b[0m\u001b[2;36m \u001b[0m\u001b[34mINFO    \u001b[0m Collaborator two is sending task results for aggregated_model_validation, round \u001b[1;36m0\u001b[0m                                          \u001b]8;id=673082;file://C:\\Users\\BHSU\\AppData\\Local\\Programs\\Python\\Python39\\lib\\site-packages\\openfl\\component\\aggregator\\aggregator.py\u001b\\\u001b[2maggregator.py\u001b[0m\u001b]8;;\u001b\\\u001b[2m:\u001b[0m\u001b]8;id=836885;file://C:\\Users\\BHSU\\AppData\\Local\\Programs\\Python\\Python39\\lib\\site-packages\\openfl\\component\\aggregator\\aggregator.py#520\u001b\\\u001b[2m520\u001b[0m\u001b]8;;\u001b\\\n"
      ]
     },
     "metadata": {},
     "output_type": "display_data"
    },
    {
     "data": {
      "text/html": [
       "<pre style=\"white-space:pre;overflow-x:auto;line-height:normal;font-family:Menlo,'DejaVu Sans Mono',consolas,'Courier New',monospace\"><span style=\"color: #7fbfbf; text-decoration-color: #7fbfbf\">           </span>METRIC   Round <span style=\"color: #008080; text-decoration-color: #008080; font-weight: bold\">0</span>, collaborator validate_agg aggregated_model_validation result accuracy: <span style=\"color: #008080; text-decoration-color: #008080; font-weight: bold\">0.102222</span>                                   <a href=\"file://C:\\Users\\BHSU\\AppData\\Local\\Programs\\Python\\Python39\\lib\\site-packages\\openfl\\component\\aggregator\\aggregator.py\" target=\"_blank\"><span style=\"color: #7f7f7f; text-decoration-color: #7f7f7f\">aggregator.py</span></a><span style=\"color: #7f7f7f; text-decoration-color: #7f7f7f\">:</span><a href=\"file://C:\\Users\\BHSU\\AppData\\Local\\Programs\\Python\\Python39\\lib\\site-packages\\openfl\\component\\aggregator\\aggregator.py#559\" target=\"_blank\"><span style=\"color: #7f7f7f; text-decoration-color: #7f7f7f\">559</span></a>\n",
       "</pre>\n"
      ],
      "text/plain": [
       "\u001b[2;36m          \u001b[0m\u001b[2;36m \u001b[0mMETRIC   Round \u001b[1;36m0\u001b[0m, collaborator validate_agg aggregated_model_validation result accuracy: \u001b[1;36m0.102222\u001b[0m                                   \u001b]8;id=85131;file://C:\\Users\\BHSU\\AppData\\Local\\Programs\\Python\\Python39\\lib\\site-packages\\openfl\\component\\aggregator\\aggregator.py\u001b\\\u001b[2maggregator.py\u001b[0m\u001b]8;;\u001b\\\u001b[2m:\u001b[0m\u001b]8;id=913358;file://C:\\Users\\BHSU\\AppData\\Local\\Programs\\Python\\Python39\\lib\\site-packages\\openfl\\component\\aggregator\\aggregator.py#559\u001b\\\u001b[2m559\u001b[0m\u001b]8;;\u001b\\\n"
      ]
     },
     "metadata": {},
     "output_type": "display_data"
    },
    {
     "data": {
      "text/html": [
       "<pre style=\"white-space:pre;overflow-x:auto;line-height:normal;font-family:Menlo,'DejaVu Sans Mono',consolas,'Courier New',monospace\"><span style=\"color: #7fbfbf; text-decoration-color: #7fbfbf\">           </span><span style=\"color: #000080; text-decoration-color: #000080\">INFO    </span> Using TaskRunner subclassing API                                                                                         <a href=\"file://C:\\Users\\BHSU\\AppData\\Local\\Programs\\Python\\Python39\\lib\\site-packages\\openfl\\component\\collaborator\\collaborator.py\" target=\"_blank\"><span style=\"color: #7f7f7f; text-decoration-color: #7f7f7f\">collaborator.py</span></a><span style=\"color: #7f7f7f; text-decoration-color: #7f7f7f\">:</span><a href=\"file://C:\\Users\\BHSU\\AppData\\Local\\Programs\\Python\\Python39\\lib\\site-packages\\openfl\\component\\collaborator\\collaborator.py#253\" target=\"_blank\"><span style=\"color: #7f7f7f; text-decoration-color: #7f7f7f\">253</span></a>\n",
       "</pre>\n"
      ],
      "text/plain": [
       "\u001b[2;36m          \u001b[0m\u001b[2;36m \u001b[0m\u001b[34mINFO    \u001b[0m Using TaskRunner subclassing API                                                                                         \u001b]8;id=776521;file://C:\\Users\\BHSU\\AppData\\Local\\Programs\\Python\\Python39\\lib\\site-packages\\openfl\\component\\collaborator\\collaborator.py\u001b\\\u001b[2mcollaborator.py\u001b[0m\u001b]8;;\u001b\\\u001b[2m:\u001b[0m\u001b]8;id=737037;file://C:\\Users\\BHSU\\AppData\\Local\\Programs\\Python\\Python39\\lib\\site-packages\\openfl\\component\\collaborator\\collaborator.py#253\u001b\\\u001b[2m253\u001b[0m\u001b]8;;\u001b\\\n"
      ]
     },
     "metadata": {},
     "output_type": "display_data"
    },
    {
     "data": {
      "text/html": [
       "<pre style=\"white-space:pre;overflow-x:auto;line-height:normal;font-family:Menlo,'DejaVu Sans Mono',consolas,'Courier New',monospace\"><span style=\"color: #7fbfbf; text-decoration-color: #7fbfbf\">           </span><span style=\"color: #000080; text-decoration-color: #000080\">INFO    </span> Run <span style=\"color: #008080; text-decoration-color: #008080; font-weight: bold\">0</span> epoch of <span style=\"color: #008080; text-decoration-color: #008080; font-weight: bold\">0</span> round                                                                                                    <a href=\"file://C:\\Users\\BHSU\\AppData\\Local\\Programs\\Python\\Python39\\lib\\site-packages\\openfl\\federated\\task\\runner_keras.py\" target=\"_blank\"><span style=\"color: #7f7f7f; text-decoration-color: #7f7f7f\">runner_keras.py</span></a><span style=\"color: #7f7f7f; text-decoration-color: #7f7f7f\">:</span><a href=\"file://C:\\Users\\BHSU\\AppData\\Local\\Programs\\Python\\Python39\\lib\\site-packages\\openfl\\federated\\task\\runner_keras.py#83\" target=\"_blank\"><span style=\"color: #7f7f7f; text-decoration-color: #7f7f7f\">83</span></a>\n",
       "</pre>\n"
      ],
      "text/plain": [
       "\u001b[2;36m          \u001b[0m\u001b[2;36m \u001b[0m\u001b[34mINFO    \u001b[0m Run \u001b[1;36m0\u001b[0m epoch of \u001b[1;36m0\u001b[0m round                                                                                                    \u001b]8;id=976111;file://C:\\Users\\BHSU\\AppData\\Local\\Programs\\Python\\Python39\\lib\\site-packages\\openfl\\federated\\task\\runner_keras.py\u001b\\\u001b[2mrunner_keras.py\u001b[0m\u001b]8;;\u001b\\\u001b[2m:\u001b[0m\u001b]8;id=751875;file://C:\\Users\\BHSU\\AppData\\Local\\Programs\\Python\\Python39\\lib\\site-packages\\openfl\\federated\\task\\runner_keras.py#83\u001b\\\u001b[2m83\u001b[0m\u001b]8;;\u001b\\\n"
      ]
     },
     "metadata": {},
     "output_type": "display_data"
    },
    {
     "name": "stdout",
     "output_type": "stream",
     "text": [
      "657/657 [==============================] - 1s 649us/step - loss: 0.5092 - accuracy: 0.8486\n"
     ]
    },
    {
     "data": {
      "text/html": [
       "<pre style=\"white-space:pre;overflow-x:auto;line-height:normal;font-family:Menlo,'DejaVu Sans Mono',consolas,'Courier New',monospace\"><span style=\"color: #7fbfbf; text-decoration-color: #7fbfbf\">[10:46:47] </span>METRIC   Round <span style=\"color: #008080; text-decoration-color: #008080; font-weight: bold\">0</span>, collaborator two is sending metric for task train: loss        <span style=\"color: #008080; text-decoration-color: #008080; font-weight: bold\">0.509223</span>                                         <a href=\"file://C:\\Users\\BHSU\\AppData\\Local\\Programs\\Python\\Python39\\lib\\site-packages\\openfl\\component\\collaborator\\collaborator.py\" target=\"_blank\"><span style=\"color: #7f7f7f; text-decoration-color: #7f7f7f\">collaborator.py</span></a><span style=\"color: #7f7f7f; text-decoration-color: #7f7f7f\">:</span><a href=\"file://C:\\Users\\BHSU\\AppData\\Local\\Programs\\Python\\Python39\\lib\\site-packages\\openfl\\component\\collaborator\\collaborator.py#415\" target=\"_blank\"><span style=\"color: #7f7f7f; text-decoration-color: #7f7f7f\">415</span></a>\n",
       "</pre>\n"
      ],
      "text/plain": [
       "\u001b[2;36m[10:46:47]\u001b[0m\u001b[2;36m \u001b[0mMETRIC   Round \u001b[1;36m0\u001b[0m, collaborator two is sending metric for task train: loss        \u001b[1;36m0.509223\u001b[0m                                         \u001b]8;id=287690;file://C:\\Users\\BHSU\\AppData\\Local\\Programs\\Python\\Python39\\lib\\site-packages\\openfl\\component\\collaborator\\collaborator.py\u001b\\\u001b[2mcollaborator.py\u001b[0m\u001b]8;;\u001b\\\u001b[2m:\u001b[0m\u001b]8;id=406016;file://C:\\Users\\BHSU\\AppData\\Local\\Programs\\Python\\Python39\\lib\\site-packages\\openfl\\component\\collaborator\\collaborator.py#415\u001b\\\u001b[2m415\u001b[0m\u001b]8;;\u001b\\\n"
      ]
     },
     "metadata": {},
     "output_type": "display_data"
    },
    {
     "data": {
      "text/html": [
       "<pre style=\"white-space:pre;overflow-x:auto;line-height:normal;font-family:Menlo,'DejaVu Sans Mono',consolas,'Courier New',monospace\"><span style=\"color: #7fbfbf; text-decoration-color: #7fbfbf\">           </span><span style=\"color: #000080; text-decoration-color: #000080\">INFO    </span> Collaborator two is sending task results for train, round <span style=\"color: #008080; text-decoration-color: #008080; font-weight: bold\">0</span>                                                                <a href=\"file://C:\\Users\\BHSU\\AppData\\Local\\Programs\\Python\\Python39\\lib\\site-packages\\openfl\\component\\aggregator\\aggregator.py\" target=\"_blank\"><span style=\"color: #7f7f7f; text-decoration-color: #7f7f7f\">aggregator.py</span></a><span style=\"color: #7f7f7f; text-decoration-color: #7f7f7f\">:</span><a href=\"file://C:\\Users\\BHSU\\AppData\\Local\\Programs\\Python\\Python39\\lib\\site-packages\\openfl\\component\\aggregator\\aggregator.py#520\" target=\"_blank\"><span style=\"color: #7f7f7f; text-decoration-color: #7f7f7f\">520</span></a>\n",
       "</pre>\n"
      ],
      "text/plain": [
       "\u001b[2;36m          \u001b[0m\u001b[2;36m \u001b[0m\u001b[34mINFO    \u001b[0m Collaborator two is sending task results for train, round \u001b[1;36m0\u001b[0m                                                                \u001b]8;id=513137;file://C:\\Users\\BHSU\\AppData\\Local\\Programs\\Python\\Python39\\lib\\site-packages\\openfl\\component\\aggregator\\aggregator.py\u001b\\\u001b[2maggregator.py\u001b[0m\u001b]8;;\u001b\\\u001b[2m:\u001b[0m\u001b]8;id=855448;file://C:\\Users\\BHSU\\AppData\\Local\\Programs\\Python\\Python39\\lib\\site-packages\\openfl\\component\\aggregator\\aggregator.py#520\u001b\\\u001b[2m520\u001b[0m\u001b]8;;\u001b\\\n"
      ]
     },
     "metadata": {},
     "output_type": "display_data"
    },
    {
     "data": {
      "text/html": [
       "<pre style=\"white-space:pre;overflow-x:auto;line-height:normal;font-family:Menlo,'DejaVu Sans Mono',consolas,'Courier New',monospace\"><span style=\"color: #7fbfbf; text-decoration-color: #7fbfbf\">           </span>METRIC   Round <span style=\"color: #008080; text-decoration-color: #008080; font-weight: bold\">0</span>, collaborator two train result loss:    <span style=\"color: #008080; text-decoration-color: #008080; font-weight: bold\">0.509223</span>                                                                   <a href=\"file://C:\\Users\\BHSU\\AppData\\Local\\Programs\\Python\\Python39\\lib\\site-packages\\openfl\\component\\aggregator\\aggregator.py\" target=\"_blank\"><span style=\"color: #7f7f7f; text-decoration-color: #7f7f7f\">aggregator.py</span></a><span style=\"color: #7f7f7f; text-decoration-color: #7f7f7f\">:</span><a href=\"file://C:\\Users\\BHSU\\AppData\\Local\\Programs\\Python\\Python39\\lib\\site-packages\\openfl\\component\\aggregator\\aggregator.py#559\" target=\"_blank\"><span style=\"color: #7f7f7f; text-decoration-color: #7f7f7f\">559</span></a>\n",
       "</pre>\n"
      ],
      "text/plain": [
       "\u001b[2;36m          \u001b[0m\u001b[2;36m \u001b[0mMETRIC   Round \u001b[1;36m0\u001b[0m, collaborator two train result loss:    \u001b[1;36m0.509223\u001b[0m                                                                   \u001b]8;id=486370;file://C:\\Users\\BHSU\\AppData\\Local\\Programs\\Python\\Python39\\lib\\site-packages\\openfl\\component\\aggregator\\aggregator.py\u001b\\\u001b[2maggregator.py\u001b[0m\u001b]8;;\u001b\\\u001b[2m:\u001b[0m\u001b]8;id=829560;file://C:\\Users\\BHSU\\AppData\\Local\\Programs\\Python\\Python39\\lib\\site-packages\\openfl\\component\\aggregator\\aggregator.py#559\u001b\\\u001b[2m559\u001b[0m\u001b]8;;\u001b\\\n"
      ]
     },
     "metadata": {},
     "output_type": "display_data"
    },
    {
     "data": {
      "text/html": [
       "<pre style=\"white-space:pre;overflow-x:auto;line-height:normal;font-family:Menlo,'DejaVu Sans Mono',consolas,'Courier New',monospace\"><span style=\"color: #7fbfbf; text-decoration-color: #7fbfbf\">           </span><span style=\"color: #000080; text-decoration-color: #000080\">INFO    </span> Using TaskRunner subclassing API                                                                                         <a href=\"file://C:\\Users\\BHSU\\AppData\\Local\\Programs\\Python\\Python39\\lib\\site-packages\\openfl\\component\\collaborator\\collaborator.py\" target=\"_blank\"><span style=\"color: #7f7f7f; text-decoration-color: #7f7f7f\">collaborator.py</span></a><span style=\"color: #7f7f7f; text-decoration-color: #7f7f7f\">:</span><a href=\"file://C:\\Users\\BHSU\\AppData\\Local\\Programs\\Python\\Python39\\lib\\site-packages\\openfl\\component\\collaborator\\collaborator.py#253\" target=\"_blank\"><span style=\"color: #7f7f7f; text-decoration-color: #7f7f7f\">253</span></a>\n",
       "</pre>\n"
      ],
      "text/plain": [
       "\u001b[2;36m          \u001b[0m\u001b[2;36m \u001b[0m\u001b[34mINFO    \u001b[0m Using TaskRunner subclassing API                                                                                         \u001b]8;id=760596;file://C:\\Users\\BHSU\\AppData\\Local\\Programs\\Python\\Python39\\lib\\site-packages\\openfl\\component\\collaborator\\collaborator.py\u001b\\\u001b[2mcollaborator.py\u001b[0m\u001b]8;;\u001b\\\u001b[2m:\u001b[0m\u001b]8;id=395598;file://C:\\Users\\BHSU\\AppData\\Local\\Programs\\Python\\Python39\\lib\\site-packages\\openfl\\component\\collaborator\\collaborator.py#253\u001b\\\u001b[2m253\u001b[0m\u001b]8;;\u001b\\\n"
      ]
     },
     "metadata": {},
     "output_type": "display_data"
    },
    {
     "name": "stdout",
     "output_type": "stream",
     "text": [
      "282/282 [==============================] - 0s 541us/step - loss: 0.3184 - accuracy: 0.9081\n"
     ]
    },
    {
     "data": {
      "text/html": [
       "<pre style=\"white-space:pre;overflow-x:auto;line-height:normal;font-family:Menlo,'DejaVu Sans Mono',consolas,'Courier New',monospace\"><span style=\"color: #7fbfbf; text-decoration-color: #7fbfbf\">           </span>METRIC   Round <span style=\"color: #008080; text-decoration-color: #008080; font-weight: bold\">0</span>, collaborator two is sending metric for task locally_tuned_model_validation: accuracy   <span style=\"color: #008080; text-decoration-color: #008080; font-weight: bold\">0.908111</span>                 <a href=\"file://C:\\Users\\BHSU\\AppData\\Local\\Programs\\Python\\Python39\\lib\\site-packages\\openfl\\component\\collaborator\\collaborator.py\" target=\"_blank\"><span style=\"color: #7f7f7f; text-decoration-color: #7f7f7f\">collaborator.py</span></a><span style=\"color: #7f7f7f; text-decoration-color: #7f7f7f\">:</span><a href=\"file://C:\\Users\\BHSU\\AppData\\Local\\Programs\\Python\\Python39\\lib\\site-packages\\openfl\\component\\collaborator\\collaborator.py#415\" target=\"_blank\"><span style=\"color: #7f7f7f; text-decoration-color: #7f7f7f\">415</span></a>\n",
       "</pre>\n"
      ],
      "text/plain": [
       "\u001b[2;36m          \u001b[0m\u001b[2;36m \u001b[0mMETRIC   Round \u001b[1;36m0\u001b[0m, collaborator two is sending metric for task locally_tuned_model_validation: accuracy   \u001b[1;36m0.908111\u001b[0m                 \u001b]8;id=963322;file://C:\\Users\\BHSU\\AppData\\Local\\Programs\\Python\\Python39\\lib\\site-packages\\openfl\\component\\collaborator\\collaborator.py\u001b\\\u001b[2mcollaborator.py\u001b[0m\u001b]8;;\u001b\\\u001b[2m:\u001b[0m\u001b]8;id=251841;file://C:\\Users\\BHSU\\AppData\\Local\\Programs\\Python\\Python39\\lib\\site-packages\\openfl\\component\\collaborator\\collaborator.py#415\u001b\\\u001b[2m415\u001b[0m\u001b]8;;\u001b\\\n"
      ]
     },
     "metadata": {},
     "output_type": "display_data"
    },
    {
     "data": {
      "text/html": [
       "<pre style=\"white-space:pre;overflow-x:auto;line-height:normal;font-family:Menlo,'DejaVu Sans Mono',consolas,'Courier New',monospace\"><span style=\"color: #7fbfbf; text-decoration-color: #7fbfbf\">           </span><span style=\"color: #000080; text-decoration-color: #000080\">INFO    </span> Collaborator two is sending task results for locally_tuned_model_validation, round <span style=\"color: #008080; text-decoration-color: #008080; font-weight: bold\">0</span>                                       <a href=\"file://C:\\Users\\BHSU\\AppData\\Local\\Programs\\Python\\Python39\\lib\\site-packages\\openfl\\component\\aggregator\\aggregator.py\" target=\"_blank\"><span style=\"color: #7f7f7f; text-decoration-color: #7f7f7f\">aggregator.py</span></a><span style=\"color: #7f7f7f; text-decoration-color: #7f7f7f\">:</span><a href=\"file://C:\\Users\\BHSU\\AppData\\Local\\Programs\\Python\\Python39\\lib\\site-packages\\openfl\\component\\aggregator\\aggregator.py#520\" target=\"_blank\"><span style=\"color: #7f7f7f; text-decoration-color: #7f7f7f\">520</span></a>\n",
       "</pre>\n"
      ],
      "text/plain": [
       "\u001b[2;36m          \u001b[0m\u001b[2;36m \u001b[0m\u001b[34mINFO    \u001b[0m Collaborator two is sending task results for locally_tuned_model_validation, round \u001b[1;36m0\u001b[0m                                       \u001b]8;id=127199;file://C:\\Users\\BHSU\\AppData\\Local\\Programs\\Python\\Python39\\lib\\site-packages\\openfl\\component\\aggregator\\aggregator.py\u001b\\\u001b[2maggregator.py\u001b[0m\u001b]8;;\u001b\\\u001b[2m:\u001b[0m\u001b]8;id=658246;file://C:\\Users\\BHSU\\AppData\\Local\\Programs\\Python\\Python39\\lib\\site-packages\\openfl\\component\\aggregator\\aggregator.py#520\u001b\\\u001b[2m520\u001b[0m\u001b]8;;\u001b\\\n"
      ]
     },
     "metadata": {},
     "output_type": "display_data"
    },
    {
     "data": {
      "text/html": [
       "<pre style=\"white-space:pre;overflow-x:auto;line-height:normal;font-family:Menlo,'DejaVu Sans Mono',consolas,'Courier New',monospace\"><span style=\"color: #7fbfbf; text-decoration-color: #7fbfbf\">           </span>METRIC   Round <span style=\"color: #008080; text-decoration-color: #008080; font-weight: bold\">0</span>, collaborator validate_local locally_tuned_model_validation result accuracy:    <span style=\"color: #008080; text-decoration-color: #008080; font-weight: bold\">0.908111</span>                           <a href=\"file://C:\\Users\\BHSU\\AppData\\Local\\Programs\\Python\\Python39\\lib\\site-packages\\openfl\\component\\aggregator\\aggregator.py\" target=\"_blank\"><span style=\"color: #7f7f7f; text-decoration-color: #7f7f7f\">aggregator.py</span></a><span style=\"color: #7f7f7f; text-decoration-color: #7f7f7f\">:</span><a href=\"file://C:\\Users\\BHSU\\AppData\\Local\\Programs\\Python\\Python39\\lib\\site-packages\\openfl\\component\\aggregator\\aggregator.py#559\" target=\"_blank\"><span style=\"color: #7f7f7f; text-decoration-color: #7f7f7f\">559</span></a>\n",
       "</pre>\n"
      ],
      "text/plain": [
       "\u001b[2;36m          \u001b[0m\u001b[2;36m \u001b[0mMETRIC   Round \u001b[1;36m0\u001b[0m, collaborator validate_local locally_tuned_model_validation result accuracy:    \u001b[1;36m0.908111\u001b[0m                           \u001b]8;id=993438;file://C:\\Users\\BHSU\\AppData\\Local\\Programs\\Python\\Python39\\lib\\site-packages\\openfl\\component\\aggregator\\aggregator.py\u001b\\\u001b[2maggregator.py\u001b[0m\u001b]8;;\u001b\\\u001b[2m:\u001b[0m\u001b]8;id=851116;file://C:\\Users\\BHSU\\AppData\\Local\\Programs\\Python\\Python39\\lib\\site-packages\\openfl\\component\\aggregator\\aggregator.py#559\u001b\\\u001b[2m559\u001b[0m\u001b]8;;\u001b\\\n"
      ]
     },
     "metadata": {},
     "output_type": "display_data"
    },
    {
     "data": {
      "text/html": [
       "<pre style=\"white-space:pre;overflow-x:auto;line-height:normal;font-family:Menlo,'DejaVu Sans Mono',consolas,'Courier New',monospace\"><span style=\"color: #7fbfbf; text-decoration-color: #7fbfbf\">           </span>METRIC   Round <span style=\"color: #008080; text-decoration-color: #008080; font-weight: bold\">0</span>, aggregator: train <span style=\"font-weight: bold\">&lt;</span><span style=\"color: #ff00ff; text-decoration-color: #ff00ff; font-weight: bold\">openfl.interface.aggregation_functions.weighted_average.WeightedAverage</span><span style=\"color: #000000; text-decoration-color: #000000\"> object at </span>             <a href=\"file://C:\\Users\\BHSU\\AppData\\Local\\Programs\\Python\\Python39\\lib\\site-packages\\openfl\\component\\aggregator\\aggregator.py\" target=\"_blank\"><span style=\"color: #7f7f7f; text-decoration-color: #7f7f7f\">aggregator.py</span></a><span style=\"color: #7f7f7f; text-decoration-color: #7f7f7f\">:</span><a href=\"file://C:\\Users\\BHSU\\AppData\\Local\\Programs\\Python\\Python39\\lib\\site-packages\\openfl\\component\\aggregator\\aggregator.py#842\" target=\"_blank\"><span style=\"color: #7f7f7f; text-decoration-color: #7f7f7f\">842</span></a>\n",
       "<span style=\"color: #7fbfbf; text-decoration-color: #7fbfbf\">           </span>         <span style=\"color: #008080; text-decoration-color: #008080; font-weight: bold\">0x000002302EDD6A60</span><span style=\"font-weight: bold\">&gt;</span> loss: <span style=\"color: #008080; text-decoration-color: #008080; font-weight: bold\">0.526482</span>                                                                                         <span style=\"color: #7f7f7f; text-decoration-color: #7f7f7f\">                 </span>\n",
       "</pre>\n"
      ],
      "text/plain": [
       "\u001b[2;36m          \u001b[0m\u001b[2;36m \u001b[0mMETRIC   Round \u001b[1;36m0\u001b[0m, aggregator: train \u001b[1m<\u001b[0m\u001b[1;95mopenfl.interface.aggregation_functions.weighted_average.WeightedAverage\u001b[0m\u001b[39m object at \u001b[0m             \u001b]8;id=892955;file://C:\\Users\\BHSU\\AppData\\Local\\Programs\\Python\\Python39\\lib\\site-packages\\openfl\\component\\aggregator\\aggregator.py\u001b\\\u001b[2maggregator.py\u001b[0m\u001b]8;;\u001b\\\u001b[2m:\u001b[0m\u001b]8;id=671941;file://C:\\Users\\BHSU\\AppData\\Local\\Programs\\Python\\Python39\\lib\\site-packages\\openfl\\component\\aggregator\\aggregator.py#842\u001b\\\u001b[2m842\u001b[0m\u001b]8;;\u001b\\\n",
       "\u001b[2;36m           \u001b[0m         \u001b[1;36m0x000002302EDD6A60\u001b[0m\u001b[1m>\u001b[0m loss: \u001b[1;36m0.526482\u001b[0m                                                                                         \u001b[2m                 \u001b[0m\n"
      ]
     },
     "metadata": {},
     "output_type": "display_data"
    },
    {
     "data": {
      "text/html": [
       "<pre style=\"white-space:pre;overflow-x:auto;line-height:normal;font-family:Menlo,'DejaVu Sans Mono',consolas,'Courier New',monospace\"><span style=\"color: #7fbfbf; text-decoration-color: #7fbfbf\">           </span>METRIC   Round <span style=\"color: #008080; text-decoration-color: #008080; font-weight: bold\">0</span>, aggregator: aggregated_model_validation <span style=\"font-weight: bold\">&lt;</span><span style=\"color: #ff00ff; text-decoration-color: #ff00ff; font-weight: bold\">openfl.interface.aggregation_functions.weighted_average.WeightedAverage</span><span style=\"color: #000000; text-decoration-color: #000000\"> </span> <a href=\"file://C:\\Users\\BHSU\\AppData\\Local\\Programs\\Python\\Python39\\lib\\site-packages\\openfl\\component\\aggregator\\aggregator.py\" target=\"_blank\"><span style=\"color: #7f7f7f; text-decoration-color: #7f7f7f\">aggregator.py</span></a><span style=\"color: #7f7f7f; text-decoration-color: #7f7f7f\">:</span><a href=\"file://C:\\Users\\BHSU\\AppData\\Local\\Programs\\Python\\Python39\\lib\\site-packages\\openfl\\component\\aggregator\\aggregator.py#842\" target=\"_blank\"><span style=\"color: #7f7f7f; text-decoration-color: #7f7f7f\">842</span></a>\n",
       "<span style=\"color: #7fbfbf; text-decoration-color: #7fbfbf\">           </span>         <span style=\"color: #000000; text-decoration-color: #000000\">object at </span><span style=\"color: #008080; text-decoration-color: #008080; font-weight: bold\">0x000002302EDD6A60</span><span style=\"font-weight: bold\">&gt;</span> accuracy:       <span style=\"color: #008080; text-decoration-color: #008080; font-weight: bold\">0.102111</span>                                                                     <span style=\"color: #7f7f7f; text-decoration-color: #7f7f7f\">                 </span>\n",
       "</pre>\n"
      ],
      "text/plain": [
       "\u001b[2;36m          \u001b[0m\u001b[2;36m \u001b[0mMETRIC   Round \u001b[1;36m0\u001b[0m, aggregator: aggregated_model_validation \u001b[1m<\u001b[0m\u001b[1;95mopenfl.interface.aggregation_functions.weighted_average.WeightedAverage\u001b[0m\u001b[39m \u001b[0m \u001b]8;id=360097;file://C:\\Users\\BHSU\\AppData\\Local\\Programs\\Python\\Python39\\lib\\site-packages\\openfl\\component\\aggregator\\aggregator.py\u001b\\\u001b[2maggregator.py\u001b[0m\u001b]8;;\u001b\\\u001b[2m:\u001b[0m\u001b]8;id=63023;file://C:\\Users\\BHSU\\AppData\\Local\\Programs\\Python\\Python39\\lib\\site-packages\\openfl\\component\\aggregator\\aggregator.py#842\u001b\\\u001b[2m842\u001b[0m\u001b]8;;\u001b\\\n",
       "\u001b[2;36m           \u001b[0m         \u001b[39mobject at \u001b[0m\u001b[1;36m0x000002302EDD6A60\u001b[0m\u001b[1m>\u001b[0m accuracy:       \u001b[1;36m0.102111\u001b[0m                                                                     \u001b[2m                 \u001b[0m\n"
      ]
     },
     "metadata": {},
     "output_type": "display_data"
    },
    {
     "data": {
      "text/html": [
       "<pre style=\"white-space:pre;overflow-x:auto;line-height:normal;font-family:Menlo,'DejaVu Sans Mono',consolas,'Courier New',monospace\"><span style=\"color: #7fbfbf; text-decoration-color: #7fbfbf\">           </span>METRIC   Round <span style=\"color: #008080; text-decoration-color: #008080; font-weight: bold\">0</span>: saved the best model with score <span style=\"color: #008080; text-decoration-color: #008080; font-weight: bold\">0.102111</span>                                                                          <a href=\"file://C:\\Users\\BHSU\\AppData\\Local\\Programs\\Python\\Python39\\lib\\site-packages\\openfl\\component\\aggregator\\aggregator.py\" target=\"_blank\"><span style=\"color: #7f7f7f; text-decoration-color: #7f7f7f\">aggregator.py</span></a><span style=\"color: #7f7f7f; text-decoration-color: #7f7f7f\">:</span><a href=\"file://C:\\Users\\BHSU\\AppData\\Local\\Programs\\Python\\Python39\\lib\\site-packages\\openfl\\component\\aggregator\\aggregator.py#858\" target=\"_blank\"><span style=\"color: #7f7f7f; text-decoration-color: #7f7f7f\">858</span></a>\n",
       "</pre>\n"
      ],
      "text/plain": [
       "\u001b[2;36m          \u001b[0m\u001b[2;36m \u001b[0mMETRIC   Round \u001b[1;36m0\u001b[0m: saved the best model with score \u001b[1;36m0.102111\u001b[0m                                                                          \u001b]8;id=675195;file://C:\\Users\\BHSU\\AppData\\Local\\Programs\\Python\\Python39\\lib\\site-packages\\openfl\\component\\aggregator\\aggregator.py\u001b\\\u001b[2maggregator.py\u001b[0m\u001b]8;;\u001b\\\u001b[2m:\u001b[0m\u001b]8;id=706722;file://C:\\Users\\BHSU\\AppData\\Local\\Programs\\Python\\Python39\\lib\\site-packages\\openfl\\component\\aggregator\\aggregator.py#858\u001b\\\u001b[2m858\u001b[0m\u001b]8;;\u001b\\\n"
      ]
     },
     "metadata": {},
     "output_type": "display_data"
    },
    {
     "data": {
      "text/html": [
       "<pre style=\"white-space:pre;overflow-x:auto;line-height:normal;font-family:Menlo,'DejaVu Sans Mono',consolas,'Courier New',monospace\"><span style=\"color: #7fbfbf; text-decoration-color: #7fbfbf\">           </span>METRIC   Round <span style=\"color: #008080; text-decoration-color: #008080; font-weight: bold\">0</span>, aggregator: locally_tuned_model_validation                                                                        <a href=\"file://C:\\Users\\BHSU\\AppData\\Local\\Programs\\Python\\Python39\\lib\\site-packages\\openfl\\component\\aggregator\\aggregator.py\" target=\"_blank\"><span style=\"color: #7f7f7f; text-decoration-color: #7f7f7f\">aggregator.py</span></a><span style=\"color: #7f7f7f; text-decoration-color: #7f7f7f\">:</span><a href=\"file://C:\\Users\\BHSU\\AppData\\Local\\Programs\\Python\\Python39\\lib\\site-packages\\openfl\\component\\aggregator\\aggregator.py#842\" target=\"_blank\"><span style=\"color: #7f7f7f; text-decoration-color: #7f7f7f\">842</span></a>\n",
       "<span style=\"color: #7fbfbf; text-decoration-color: #7fbfbf\">           </span>         <span style=\"font-weight: bold\">&lt;</span><span style=\"color: #ff00ff; text-decoration-color: #ff00ff; font-weight: bold\">openfl.interface.aggregation_functions.weighted_average.WeightedAverage</span><span style=\"color: #000000; text-decoration-color: #000000\"> object at </span><span style=\"color: #008080; text-decoration-color: #008080; font-weight: bold\">0x000002302EDD6A60</span><span style=\"font-weight: bold\">&gt;</span> accuracy:           <span style=\"color: #7f7f7f; text-decoration-color: #7f7f7f\">                 </span>\n",
       "<span style=\"color: #7fbfbf; text-decoration-color: #7fbfbf\">           </span>         <span style=\"color: #008080; text-decoration-color: #008080; font-weight: bold\">0.903222</span>                                                                                                                   <span style=\"color: #7f7f7f; text-decoration-color: #7f7f7f\">                 </span>\n",
       "</pre>\n"
      ],
      "text/plain": [
       "\u001b[2;36m          \u001b[0m\u001b[2;36m \u001b[0mMETRIC   Round \u001b[1;36m0\u001b[0m, aggregator: locally_tuned_model_validation                                                                        \u001b]8;id=94335;file://C:\\Users\\BHSU\\AppData\\Local\\Programs\\Python\\Python39\\lib\\site-packages\\openfl\\component\\aggregator\\aggregator.py\u001b\\\u001b[2maggregator.py\u001b[0m\u001b]8;;\u001b\\\u001b[2m:\u001b[0m\u001b]8;id=894312;file://C:\\Users\\BHSU\\AppData\\Local\\Programs\\Python\\Python39\\lib\\site-packages\\openfl\\component\\aggregator\\aggregator.py#842\u001b\\\u001b[2m842\u001b[0m\u001b]8;;\u001b\\\n",
       "\u001b[2;36m           \u001b[0m         \u001b[1m<\u001b[0m\u001b[1;95mopenfl.interface.aggregation_functions.weighted_average.WeightedAverage\u001b[0m\u001b[39m object at \u001b[0m\u001b[1;36m0x000002302EDD6A60\u001b[0m\u001b[1m>\u001b[0m accuracy:           \u001b[2m                 \u001b[0m\n",
       "\u001b[2;36m           \u001b[0m         \u001b[1;36m0.903222\u001b[0m                                                                                                                   \u001b[2m                 \u001b[0m\n"
      ]
     },
     "metadata": {},
     "output_type": "display_data"
    },
    {
     "data": {
      "text/html": [
       "<pre style=\"white-space:pre;overflow-x:auto;line-height:normal;font-family:Menlo,'DejaVu Sans Mono',consolas,'Courier New',monospace\"><span style=\"color: #7fbfbf; text-decoration-color: #7fbfbf\">           </span><span style=\"color: #000080; text-decoration-color: #000080\">INFO    </span> Saving round <span style=\"color: #008080; text-decoration-color: #008080; font-weight: bold\">1</span> model<span style=\"color: #808000; text-decoration-color: #808000\">...</span>                                                                                                    <a href=\"file://C:\\Users\\BHSU\\AppData\\Local\\Programs\\Python\\Python39\\lib\\site-packages\\openfl\\component\\aggregator\\aggregator.py\" target=\"_blank\"><span style=\"color: #7f7f7f; text-decoration-color: #7f7f7f\">aggregator.py</span></a><span style=\"color: #7f7f7f; text-decoration-color: #7f7f7f\">:</span><a href=\"file://C:\\Users\\BHSU\\AppData\\Local\\Programs\\Python\\Python39\\lib\\site-packages\\openfl\\component\\aggregator\\aggregator.py#894\" target=\"_blank\"><span style=\"color: #7f7f7f; text-decoration-color: #7f7f7f\">894</span></a>\n",
       "</pre>\n"
      ],
      "text/plain": [
       "\u001b[2;36m          \u001b[0m\u001b[2;36m \u001b[0m\u001b[34mINFO    \u001b[0m Saving round \u001b[1;36m1\u001b[0m model\u001b[33m...\u001b[0m                                                                                                    \u001b]8;id=152087;file://C:\\Users\\BHSU\\AppData\\Local\\Programs\\Python\\Python39\\lib\\site-packages\\openfl\\component\\aggregator\\aggregator.py\u001b\\\u001b[2maggregator.py\u001b[0m\u001b]8;;\u001b\\\u001b[2m:\u001b[0m\u001b]8;id=831911;file://C:\\Users\\BHSU\\AppData\\Local\\Programs\\Python\\Python39\\lib\\site-packages\\openfl\\component\\aggregator\\aggregator.py#894\u001b\\\u001b[2m894\u001b[0m\u001b]8;;\u001b\\\n"
      ]
     },
     "metadata": {},
     "output_type": "display_data"
    },
    {
     "data": {
      "text/html": [
       "<pre style=\"white-space:pre;overflow-x:auto;line-height:normal;font-family:Menlo,'DejaVu Sans Mono',consolas,'Courier New',monospace\"><span style=\"color: #7fbfbf; text-decoration-color: #7fbfbf\">           </span><span style=\"color: #000080; text-decoration-color: #000080\">INFO    </span> Starting round <span style=\"color: #008080; text-decoration-color: #008080; font-weight: bold\">1</span><span style=\"color: #808000; text-decoration-color: #808000\">...</span>                                                                                                        <a href=\"file://C:\\Users\\BHSU\\AppData\\Local\\Programs\\Python\\Python39\\lib\\site-packages\\openfl\\component\\aggregator\\aggregator.py\" target=\"_blank\"><span style=\"color: #7f7f7f; text-decoration-color: #7f7f7f\">aggregator.py</span></a><span style=\"color: #7f7f7f; text-decoration-color: #7f7f7f\">:</span><a href=\"file://C:\\Users\\BHSU\\AppData\\Local\\Programs\\Python\\Python39\\lib\\site-packages\\openfl\\component\\aggregator\\aggregator.py#901\" target=\"_blank\"><span style=\"color: #7f7f7f; text-decoration-color: #7f7f7f\">901</span></a>\n",
       "</pre>\n"
      ],
      "text/plain": [
       "\u001b[2;36m          \u001b[0m\u001b[2;36m \u001b[0m\u001b[34mINFO    \u001b[0m Starting round \u001b[1;36m1\u001b[0m\u001b[33m...\u001b[0m                                                                                                        \u001b]8;id=745527;file://C:\\Users\\BHSU\\AppData\\Local\\Programs\\Python\\Python39\\lib\\site-packages\\openfl\\component\\aggregator\\aggregator.py\u001b\\\u001b[2maggregator.py\u001b[0m\u001b]8;;\u001b\\\u001b[2m:\u001b[0m\u001b]8;id=166585;file://C:\\Users\\BHSU\\AppData\\Local\\Programs\\Python\\Python39\\lib\\site-packages\\openfl\\component\\aggregator\\aggregator.py#901\u001b\\\u001b[2m901\u001b[0m\u001b]8;;\u001b\\\n"
      ]
     },
     "metadata": {},
     "output_type": "display_data"
    },
    {
     "data": {
      "text/html": [
       "<pre style=\"white-space:pre;overflow-x:auto;line-height:normal;font-family:Menlo,'DejaVu Sans Mono',consolas,'Courier New',monospace\"><span style=\"color: #7fbfbf; text-decoration-color: #7fbfbf\">           </span><span style=\"color: #000080; text-decoration-color: #000080\">INFO    </span> All tasks completed on two for round <span style=\"color: #008080; text-decoration-color: #008080; font-weight: bold\">0</span><span style=\"color: #808000; text-decoration-color: #808000\">...</span>                                                                                <a href=\"file://C:\\Users\\BHSU\\AppData\\Local\\Programs\\Python\\Python39\\lib\\site-packages\\openfl\\component\\collaborator\\collaborator.py\" target=\"_blank\"><span style=\"color: #7f7f7f; text-decoration-color: #7f7f7f\">collaborator.py</span></a><span style=\"color: #7f7f7f; text-decoration-color: #7f7f7f\">:</span><a href=\"file://C:\\Users\\BHSU\\AppData\\Local\\Programs\\Python\\Python39\\lib\\site-packages\\openfl\\component\\collaborator\\collaborator.py#171\" target=\"_blank\"><span style=\"color: #7f7f7f; text-decoration-color: #7f7f7f\">171</span></a>\n",
       "</pre>\n"
      ],
      "text/plain": [
       "\u001b[2;36m          \u001b[0m\u001b[2;36m \u001b[0m\u001b[34mINFO    \u001b[0m All tasks completed on two for round \u001b[1;36m0\u001b[0m\u001b[33m...\u001b[0m                                                                                \u001b]8;id=627354;file://C:\\Users\\BHSU\\AppData\\Local\\Programs\\Python\\Python39\\lib\\site-packages\\openfl\\component\\collaborator\\collaborator.py\u001b\\\u001b[2mcollaborator.py\u001b[0m\u001b]8;;\u001b\\\u001b[2m:\u001b[0m\u001b]8;id=176502;file://C:\\Users\\BHSU\\AppData\\Local\\Programs\\Python\\Python39\\lib\\site-packages\\openfl\\component\\collaborator\\collaborator.py#171\u001b\\\u001b[2m171\u001b[0m\u001b]8;;\u001b\\\n"
      ]
     },
     "metadata": {},
     "output_type": "display_data"
    },
    {
     "data": {
      "text/html": [
       "<pre style=\"white-space:pre;overflow-x:auto;line-height:normal;font-family:Menlo,'DejaVu Sans Mono',consolas,'Courier New',monospace\"><span style=\"color: #7fbfbf; text-decoration-color: #7fbfbf\">           </span><span style=\"color: #000080; text-decoration-color: #000080\">INFO    </span> Waiting for tasks<span style=\"color: #808000; text-decoration-color: #808000\">...</span>                                                                                                     <a href=\"file://C:\\Users\\BHSU\\AppData\\Local\\Programs\\Python\\Python39\\lib\\site-packages\\openfl\\component\\collaborator\\collaborator.py\" target=\"_blank\"><span style=\"color: #7f7f7f; text-decoration-color: #7f7f7f\">collaborator.py</span></a><span style=\"color: #7f7f7f; text-decoration-color: #7f7f7f\">:</span><a href=\"file://C:\\Users\\BHSU\\AppData\\Local\\Programs\\Python\\Python39\\lib\\site-packages\\openfl\\component\\collaborator\\collaborator.py#178\" target=\"_blank\"><span style=\"color: #7f7f7f; text-decoration-color: #7f7f7f\">178</span></a>\n",
       "</pre>\n"
      ],
      "text/plain": [
       "\u001b[2;36m          \u001b[0m\u001b[2;36m \u001b[0m\u001b[34mINFO    \u001b[0m Waiting for tasks\u001b[33m...\u001b[0m                                                                                                     \u001b]8;id=969896;file://C:\\Users\\BHSU\\AppData\\Local\\Programs\\Python\\Python39\\lib\\site-packages\\openfl\\component\\collaborator\\collaborator.py\u001b\\\u001b[2mcollaborator.py\u001b[0m\u001b]8;;\u001b\\\u001b[2m:\u001b[0m\u001b]8;id=966611;file://C:\\Users\\BHSU\\AppData\\Local\\Programs\\Python\\Python39\\lib\\site-packages\\openfl\\component\\collaborator\\collaborator.py#178\u001b\\\u001b[2m178\u001b[0m\u001b]8;;\u001b\\\n"
      ]
     },
     "metadata": {},
     "output_type": "display_data"
    },
    {
     "data": {
      "text/html": [
       "<pre style=\"white-space:pre;overflow-x:auto;line-height:normal;font-family:Menlo,'DejaVu Sans Mono',consolas,'Courier New',monospace\"><span style=\"color: #7fbfbf; text-decoration-color: #7fbfbf\">           </span><span style=\"color: #000080; text-decoration-color: #000080\">INFO    </span> Sending tasks to collaborator one for round <span style=\"color: #008080; text-decoration-color: #008080; font-weight: bold\">1</span>                                                                              <a href=\"file://C:\\Users\\BHSU\\AppData\\Local\\Programs\\Python\\Python39\\lib\\site-packages\\openfl\\component\\aggregator\\aggregator.py\" target=\"_blank\"><span style=\"color: #7f7f7f; text-decoration-color: #7f7f7f\">aggregator.py</span></a><span style=\"color: #7f7f7f; text-decoration-color: #7f7f7f\">:</span><a href=\"file://C:\\Users\\BHSU\\AppData\\Local\\Programs\\Python\\Python39\\lib\\site-packages\\openfl\\component\\aggregator\\aggregator.py#329\" target=\"_blank\"><span style=\"color: #7f7f7f; text-decoration-color: #7f7f7f\">329</span></a>\n",
       "</pre>\n"
      ],
      "text/plain": [
       "\u001b[2;36m          \u001b[0m\u001b[2;36m \u001b[0m\u001b[34mINFO    \u001b[0m Sending tasks to collaborator one for round \u001b[1;36m1\u001b[0m                                                                              \u001b]8;id=747833;file://C:\\Users\\BHSU\\AppData\\Local\\Programs\\Python\\Python39\\lib\\site-packages\\openfl\\component\\aggregator\\aggregator.py\u001b\\\u001b[2maggregator.py\u001b[0m\u001b]8;;\u001b\\\u001b[2m:\u001b[0m\u001b]8;id=844903;file://C:\\Users\\BHSU\\AppData\\Local\\Programs\\Python\\Python39\\lib\\site-packages\\openfl\\component\\aggregator\\aggregator.py#329\u001b\\\u001b[2m329\u001b[0m\u001b]8;;\u001b\\\n"
      ]
     },
     "metadata": {},
     "output_type": "display_data"
    },
    {
     "data": {
      "text/html": [
       "<pre style=\"white-space:pre;overflow-x:auto;line-height:normal;font-family:Menlo,'DejaVu Sans Mono',consolas,'Courier New',monospace\"><span style=\"color: #7fbfbf; text-decoration-color: #7fbfbf\">           </span><span style=\"color: #000080; text-decoration-color: #000080\">INFO    </span> Received the following tasks: <span style=\"font-weight: bold\">[</span><span style=\"color: #008000; text-decoration-color: #008000\">'aggregated_model_validation'</span>, <span style=\"color: #008000; text-decoration-color: #008000\">'train'</span>, <span style=\"color: #008000; text-decoration-color: #008000\">'locally_tuned_model_validation'</span><span style=\"font-weight: bold\">]</span>                 <a href=\"file://C:\\Users\\BHSU\\AppData\\Local\\Programs\\Python\\Python39\\lib\\site-packages\\openfl\\component\\collaborator\\collaborator.py\" target=\"_blank\"><span style=\"color: #7f7f7f; text-decoration-color: #7f7f7f\">collaborator.py</span></a><span style=\"color: #7f7f7f; text-decoration-color: #7f7f7f\">:</span><a href=\"file://C:\\Users\\BHSU\\AppData\\Local\\Programs\\Python\\Python39\\lib\\site-packages\\openfl\\component\\collaborator\\collaborator.py#168\" target=\"_blank\"><span style=\"color: #7f7f7f; text-decoration-color: #7f7f7f\">168</span></a>\n",
       "</pre>\n"
      ],
      "text/plain": [
       "\u001b[2;36m          \u001b[0m\u001b[2;36m \u001b[0m\u001b[34mINFO    \u001b[0m Received the following tasks: \u001b[1m[\u001b[0m\u001b[32m'aggregated_model_validation'\u001b[0m, \u001b[32m'train'\u001b[0m, \u001b[32m'locally_tuned_model_validation'\u001b[0m\u001b[1m]\u001b[0m                 \u001b]8;id=469856;file://C:\\Users\\BHSU\\AppData\\Local\\Programs\\Python\\Python39\\lib\\site-packages\\openfl\\component\\collaborator\\collaborator.py\u001b\\\u001b[2mcollaborator.py\u001b[0m\u001b]8;;\u001b\\\u001b[2m:\u001b[0m\u001b]8;id=755444;file://C:\\Users\\BHSU\\AppData\\Local\\Programs\\Python\\Python39\\lib\\site-packages\\openfl\\component\\collaborator\\collaborator.py#168\u001b\\\u001b[2m168\u001b[0m\u001b]8;;\u001b\\\n"
      ]
     },
     "metadata": {},
     "output_type": "display_data"
    },
    {
     "data": {
      "text/html": [
       "<pre style=\"white-space:pre;overflow-x:auto;line-height:normal;font-family:Menlo,'DejaVu Sans Mono',consolas,'Courier New',monospace\"><span style=\"color: #7fbfbf; text-decoration-color: #7fbfbf\">           </span><span style=\"color: #000080; text-decoration-color: #000080\">INFO    </span> Using TaskRunner subclassing API                                                                                         <a href=\"file://C:\\Users\\BHSU\\AppData\\Local\\Programs\\Python\\Python39\\lib\\site-packages\\openfl\\component\\collaborator\\collaborator.py\" target=\"_blank\"><span style=\"color: #7f7f7f; text-decoration-color: #7f7f7f\">collaborator.py</span></a><span style=\"color: #7f7f7f; text-decoration-color: #7f7f7f\">:</span><a href=\"file://C:\\Users\\BHSU\\AppData\\Local\\Programs\\Python\\Python39\\lib\\site-packages\\openfl\\component\\collaborator\\collaborator.py#253\" target=\"_blank\"><span style=\"color: #7f7f7f; text-decoration-color: #7f7f7f\">253</span></a>\n",
       "</pre>\n"
      ],
      "text/plain": [
       "\u001b[2;36m          \u001b[0m\u001b[2;36m \u001b[0m\u001b[34mINFO    \u001b[0m Using TaskRunner subclassing API                                                                                         \u001b]8;id=126095;file://C:\\Users\\BHSU\\AppData\\Local\\Programs\\Python\\Python39\\lib\\site-packages\\openfl\\component\\collaborator\\collaborator.py\u001b\\\u001b[2mcollaborator.py\u001b[0m\u001b]8;;\u001b\\\u001b[2m:\u001b[0m\u001b]8;id=555027;file://C:\\Users\\BHSU\\AppData\\Local\\Programs\\Python\\Python39\\lib\\site-packages\\openfl\\component\\collaborator\\collaborator.py#253\u001b\\\u001b[2m253\u001b[0m\u001b]8;;\u001b\\\n"
      ]
     },
     "metadata": {},
     "output_type": "display_data"
    },
    {
     "name": "stdout",
     "output_type": "stream",
     "text": [
      "282/282 [==============================] - 0s 509us/step - loss: 0.3556 - accuracy: 0.8932\n"
     ]
    },
    {
     "data": {
      "text/html": [
       "<pre style=\"white-space:pre;overflow-x:auto;line-height:normal;font-family:Menlo,'DejaVu Sans Mono',consolas,'Courier New',monospace\"><span style=\"color: #7fbfbf; text-decoration-color: #7fbfbf\">           </span>METRIC   Round <span style=\"color: #008080; text-decoration-color: #008080; font-weight: bold\">1</span>, collaborator one is sending metric for task aggregated_model_validation: accuracy      <span style=\"color: #008080; text-decoration-color: #008080; font-weight: bold\">0.893222</span>                 <a href=\"file://C:\\Users\\BHSU\\AppData\\Local\\Programs\\Python\\Python39\\lib\\site-packages\\openfl\\component\\collaborator\\collaborator.py\" target=\"_blank\"><span style=\"color: #7f7f7f; text-decoration-color: #7f7f7f\">collaborator.py</span></a><span style=\"color: #7f7f7f; text-decoration-color: #7f7f7f\">:</span><a href=\"file://C:\\Users\\BHSU\\AppData\\Local\\Programs\\Python\\Python39\\lib\\site-packages\\openfl\\component\\collaborator\\collaborator.py#415\" target=\"_blank\"><span style=\"color: #7f7f7f; text-decoration-color: #7f7f7f\">415</span></a>\n",
       "</pre>\n"
      ],
      "text/plain": [
       "\u001b[2;36m          \u001b[0m\u001b[2;36m \u001b[0mMETRIC   Round \u001b[1;36m1\u001b[0m, collaborator one is sending metric for task aggregated_model_validation: accuracy      \u001b[1;36m0.893222\u001b[0m                 \u001b]8;id=381329;file://C:\\Users\\BHSU\\AppData\\Local\\Programs\\Python\\Python39\\lib\\site-packages\\openfl\\component\\collaborator\\collaborator.py\u001b\\\u001b[2mcollaborator.py\u001b[0m\u001b]8;;\u001b\\\u001b[2m:\u001b[0m\u001b]8;id=29793;file://C:\\Users\\BHSU\\AppData\\Local\\Programs\\Python\\Python39\\lib\\site-packages\\openfl\\component\\collaborator\\collaborator.py#415\u001b\\\u001b[2m415\u001b[0m\u001b]8;;\u001b\\\n"
      ]
     },
     "metadata": {},
     "output_type": "display_data"
    },
    {
     "data": {
      "text/html": [
       "<pre style=\"white-space:pre;overflow-x:auto;line-height:normal;font-family:Menlo,'DejaVu Sans Mono',consolas,'Courier New',monospace\"><span style=\"color: #7fbfbf; text-decoration-color: #7fbfbf\">           </span><span style=\"color: #000080; text-decoration-color: #000080\">INFO    </span> Collaborator one is sending task results for aggregated_model_validation, round <span style=\"color: #008080; text-decoration-color: #008080; font-weight: bold\">1</span>                                          <a href=\"file://C:\\Users\\BHSU\\AppData\\Local\\Programs\\Python\\Python39\\lib\\site-packages\\openfl\\component\\aggregator\\aggregator.py\" target=\"_blank\"><span style=\"color: #7f7f7f; text-decoration-color: #7f7f7f\">aggregator.py</span></a><span style=\"color: #7f7f7f; text-decoration-color: #7f7f7f\">:</span><a href=\"file://C:\\Users\\BHSU\\AppData\\Local\\Programs\\Python\\Python39\\lib\\site-packages\\openfl\\component\\aggregator\\aggregator.py#520\" target=\"_blank\"><span style=\"color: #7f7f7f; text-decoration-color: #7f7f7f\">520</span></a>\n",
       "</pre>\n"
      ],
      "text/plain": [
       "\u001b[2;36m          \u001b[0m\u001b[2;36m \u001b[0m\u001b[34mINFO    \u001b[0m Collaborator one is sending task results for aggregated_model_validation, round \u001b[1;36m1\u001b[0m                                          \u001b]8;id=517593;file://C:\\Users\\BHSU\\AppData\\Local\\Programs\\Python\\Python39\\lib\\site-packages\\openfl\\component\\aggregator\\aggregator.py\u001b\\\u001b[2maggregator.py\u001b[0m\u001b]8;;\u001b\\\u001b[2m:\u001b[0m\u001b]8;id=166716;file://C:\\Users\\BHSU\\AppData\\Local\\Programs\\Python\\Python39\\lib\\site-packages\\openfl\\component\\aggregator\\aggregator.py#520\u001b\\\u001b[2m520\u001b[0m\u001b]8;;\u001b\\\n"
      ]
     },
     "metadata": {},
     "output_type": "display_data"
    },
    {
     "data": {
      "text/html": [
       "<pre style=\"white-space:pre;overflow-x:auto;line-height:normal;font-family:Menlo,'DejaVu Sans Mono',consolas,'Courier New',monospace\"><span style=\"color: #7fbfbf; text-decoration-color: #7fbfbf\">           </span>METRIC   Round <span style=\"color: #008080; text-decoration-color: #008080; font-weight: bold\">1</span>, collaborator validate_agg aggregated_model_validation result accuracy: <span style=\"color: #008080; text-decoration-color: #008080; font-weight: bold\">0.893222</span>                                   <a href=\"file://C:\\Users\\BHSU\\AppData\\Local\\Programs\\Python\\Python39\\lib\\site-packages\\openfl\\component\\aggregator\\aggregator.py\" target=\"_blank\"><span style=\"color: #7f7f7f; text-decoration-color: #7f7f7f\">aggregator.py</span></a><span style=\"color: #7f7f7f; text-decoration-color: #7f7f7f\">:</span><a href=\"file://C:\\Users\\BHSU\\AppData\\Local\\Programs\\Python\\Python39\\lib\\site-packages\\openfl\\component\\aggregator\\aggregator.py#559\" target=\"_blank\"><span style=\"color: #7f7f7f; text-decoration-color: #7f7f7f\">559</span></a>\n",
       "</pre>\n"
      ],
      "text/plain": [
       "\u001b[2;36m          \u001b[0m\u001b[2;36m \u001b[0mMETRIC   Round \u001b[1;36m1\u001b[0m, collaborator validate_agg aggregated_model_validation result accuracy: \u001b[1;36m0.893222\u001b[0m                                   \u001b]8;id=271550;file://C:\\Users\\BHSU\\AppData\\Local\\Programs\\Python\\Python39\\lib\\site-packages\\openfl\\component\\aggregator\\aggregator.py\u001b\\\u001b[2maggregator.py\u001b[0m\u001b]8;;\u001b\\\u001b[2m:\u001b[0m\u001b]8;id=206010;file://C:\\Users\\BHSU\\AppData\\Local\\Programs\\Python\\Python39\\lib\\site-packages\\openfl\\component\\aggregator\\aggregator.py#559\u001b\\\u001b[2m559\u001b[0m\u001b]8;;\u001b\\\n"
      ]
     },
     "metadata": {},
     "output_type": "display_data"
    },
    {
     "data": {
      "text/html": [
       "<pre style=\"white-space:pre;overflow-x:auto;line-height:normal;font-family:Menlo,'DejaVu Sans Mono',consolas,'Courier New',monospace\"><span style=\"color: #7fbfbf; text-decoration-color: #7fbfbf\">           </span><span style=\"color: #000080; text-decoration-color: #000080\">INFO    </span> Using TaskRunner subclassing API                                                                                         <a href=\"file://C:\\Users\\BHSU\\AppData\\Local\\Programs\\Python\\Python39\\lib\\site-packages\\openfl\\component\\collaborator\\collaborator.py\" target=\"_blank\"><span style=\"color: #7f7f7f; text-decoration-color: #7f7f7f\">collaborator.py</span></a><span style=\"color: #7f7f7f; text-decoration-color: #7f7f7f\">:</span><a href=\"file://C:\\Users\\BHSU\\AppData\\Local\\Programs\\Python\\Python39\\lib\\site-packages\\openfl\\component\\collaborator\\collaborator.py#253\" target=\"_blank\"><span style=\"color: #7f7f7f; text-decoration-color: #7f7f7f\">253</span></a>\n",
       "</pre>\n"
      ],
      "text/plain": [
       "\u001b[2;36m          \u001b[0m\u001b[2;36m \u001b[0m\u001b[34mINFO    \u001b[0m Using TaskRunner subclassing API                                                                                         \u001b]8;id=110771;file://C:\\Users\\BHSU\\AppData\\Local\\Programs\\Python\\Python39\\lib\\site-packages\\openfl\\component\\collaborator\\collaborator.py\u001b\\\u001b[2mcollaborator.py\u001b[0m\u001b]8;;\u001b\\\u001b[2m:\u001b[0m\u001b]8;id=693434;file://C:\\Users\\BHSU\\AppData\\Local\\Programs\\Python\\Python39\\lib\\site-packages\\openfl\\component\\collaborator\\collaborator.py#253\u001b\\\u001b[2m253\u001b[0m\u001b]8;;\u001b\\\n"
      ]
     },
     "metadata": {},
     "output_type": "display_data"
    },
    {
     "data": {
      "text/html": [
       "<pre style=\"white-space:pre;overflow-x:auto;line-height:normal;font-family:Menlo,'DejaVu Sans Mono',consolas,'Courier New',monospace\"><span style=\"color: #7fbfbf; text-decoration-color: #7fbfbf\">           </span><span style=\"color: #000080; text-decoration-color: #000080\">INFO    </span> Run <span style=\"color: #008080; text-decoration-color: #008080; font-weight: bold\">0</span> epoch of <span style=\"color: #008080; text-decoration-color: #008080; font-weight: bold\">1</span> round                                                                                                    <a href=\"file://C:\\Users\\BHSU\\AppData\\Local\\Programs\\Python\\Python39\\lib\\site-packages\\openfl\\federated\\task\\runner_keras.py\" target=\"_blank\"><span style=\"color: #7f7f7f; text-decoration-color: #7f7f7f\">runner_keras.py</span></a><span style=\"color: #7f7f7f; text-decoration-color: #7f7f7f\">:</span><a href=\"file://C:\\Users\\BHSU\\AppData\\Local\\Programs\\Python\\Python39\\lib\\site-packages\\openfl\\federated\\task\\runner_keras.py#83\" target=\"_blank\"><span style=\"color: #7f7f7f; text-decoration-color: #7f7f7f\">83</span></a>\n",
       "</pre>\n"
      ],
      "text/plain": [
       "\u001b[2;36m          \u001b[0m\u001b[2;36m \u001b[0m\u001b[34mINFO    \u001b[0m Run \u001b[1;36m0\u001b[0m epoch of \u001b[1;36m1\u001b[0m round                                                                                                    \u001b]8;id=852129;file://C:\\Users\\BHSU\\AppData\\Local\\Programs\\Python\\Python39\\lib\\site-packages\\openfl\\federated\\task\\runner_keras.py\u001b\\\u001b[2mrunner_keras.py\u001b[0m\u001b]8;;\u001b\\\u001b[2m:\u001b[0m\u001b]8;id=279083;file://C:\\Users\\BHSU\\AppData\\Local\\Programs\\Python\\Python39\\lib\\site-packages\\openfl\\federated\\task\\runner_keras.py#83\u001b\\\u001b[2m83\u001b[0m\u001b]8;;\u001b\\\n"
      ]
     },
     "metadata": {},
     "output_type": "display_data"
    },
    {
     "name": "stdout",
     "output_type": "stream",
     "text": [
      "657/657 [==============================] - 0s 636us/step - loss: 0.2980 - accuracy: 0.9120\n"
     ]
    },
    {
     "data": {
      "text/html": [
       "<pre style=\"white-space:pre;overflow-x:auto;line-height:normal;font-family:Menlo,'DejaVu Sans Mono',consolas,'Courier New',monospace\"><span style=\"color: #7fbfbf; text-decoration-color: #7fbfbf\">[10:46:48] </span>METRIC   Round <span style=\"color: #008080; text-decoration-color: #008080; font-weight: bold\">1</span>, collaborator one is sending metric for task train: loss        <span style=\"color: #008080; text-decoration-color: #008080; font-weight: bold\">0.298046</span>                                         <a href=\"file://C:\\Users\\BHSU\\AppData\\Local\\Programs\\Python\\Python39\\lib\\site-packages\\openfl\\component\\collaborator\\collaborator.py\" target=\"_blank\"><span style=\"color: #7f7f7f; text-decoration-color: #7f7f7f\">collaborator.py</span></a><span style=\"color: #7f7f7f; text-decoration-color: #7f7f7f\">:</span><a href=\"file://C:\\Users\\BHSU\\AppData\\Local\\Programs\\Python\\Python39\\lib\\site-packages\\openfl\\component\\collaborator\\collaborator.py#415\" target=\"_blank\"><span style=\"color: #7f7f7f; text-decoration-color: #7f7f7f\">415</span></a>\n",
       "</pre>\n"
      ],
      "text/plain": [
       "\u001b[2;36m[10:46:48]\u001b[0m\u001b[2;36m \u001b[0mMETRIC   Round \u001b[1;36m1\u001b[0m, collaborator one is sending metric for task train: loss        \u001b[1;36m0.298046\u001b[0m                                         \u001b]8;id=590923;file://C:\\Users\\BHSU\\AppData\\Local\\Programs\\Python\\Python39\\lib\\site-packages\\openfl\\component\\collaborator\\collaborator.py\u001b\\\u001b[2mcollaborator.py\u001b[0m\u001b]8;;\u001b\\\u001b[2m:\u001b[0m\u001b]8;id=927495;file://C:\\Users\\BHSU\\AppData\\Local\\Programs\\Python\\Python39\\lib\\site-packages\\openfl\\component\\collaborator\\collaborator.py#415\u001b\\\u001b[2m415\u001b[0m\u001b]8;;\u001b\\\n"
      ]
     },
     "metadata": {},
     "output_type": "display_data"
    },
    {
     "data": {
      "text/html": [
       "<pre style=\"white-space:pre;overflow-x:auto;line-height:normal;font-family:Menlo,'DejaVu Sans Mono',consolas,'Courier New',monospace\"><span style=\"color: #7fbfbf; text-decoration-color: #7fbfbf\">           </span><span style=\"color: #000080; text-decoration-color: #000080\">INFO    </span> Collaborator one is sending task results for train, round <span style=\"color: #008080; text-decoration-color: #008080; font-weight: bold\">1</span>                                                                <a href=\"file://C:\\Users\\BHSU\\AppData\\Local\\Programs\\Python\\Python39\\lib\\site-packages\\openfl\\component\\aggregator\\aggregator.py\" target=\"_blank\"><span style=\"color: #7f7f7f; text-decoration-color: #7f7f7f\">aggregator.py</span></a><span style=\"color: #7f7f7f; text-decoration-color: #7f7f7f\">:</span><a href=\"file://C:\\Users\\BHSU\\AppData\\Local\\Programs\\Python\\Python39\\lib\\site-packages\\openfl\\component\\aggregator\\aggregator.py#520\" target=\"_blank\"><span style=\"color: #7f7f7f; text-decoration-color: #7f7f7f\">520</span></a>\n",
       "</pre>\n"
      ],
      "text/plain": [
       "\u001b[2;36m          \u001b[0m\u001b[2;36m \u001b[0m\u001b[34mINFO    \u001b[0m Collaborator one is sending task results for train, round \u001b[1;36m1\u001b[0m                                                                \u001b]8;id=494101;file://C:\\Users\\BHSU\\AppData\\Local\\Programs\\Python\\Python39\\lib\\site-packages\\openfl\\component\\aggregator\\aggregator.py\u001b\\\u001b[2maggregator.py\u001b[0m\u001b]8;;\u001b\\\u001b[2m:\u001b[0m\u001b]8;id=363046;file://C:\\Users\\BHSU\\AppData\\Local\\Programs\\Python\\Python39\\lib\\site-packages\\openfl\\component\\aggregator\\aggregator.py#520\u001b\\\u001b[2m520\u001b[0m\u001b]8;;\u001b\\\n"
      ]
     },
     "metadata": {},
     "output_type": "display_data"
    },
    {
     "data": {
      "text/html": [
       "<pre style=\"white-space:pre;overflow-x:auto;line-height:normal;font-family:Menlo,'DejaVu Sans Mono',consolas,'Courier New',monospace\"><span style=\"color: #7fbfbf; text-decoration-color: #7fbfbf\">           </span>METRIC   Round <span style=\"color: #008080; text-decoration-color: #008080; font-weight: bold\">1</span>, collaborator one train result loss:    <span style=\"color: #008080; text-decoration-color: #008080; font-weight: bold\">0.298046</span>                                                                   <a href=\"file://C:\\Users\\BHSU\\AppData\\Local\\Programs\\Python\\Python39\\lib\\site-packages\\openfl\\component\\aggregator\\aggregator.py\" target=\"_blank\"><span style=\"color: #7f7f7f; text-decoration-color: #7f7f7f\">aggregator.py</span></a><span style=\"color: #7f7f7f; text-decoration-color: #7f7f7f\">:</span><a href=\"file://C:\\Users\\BHSU\\AppData\\Local\\Programs\\Python\\Python39\\lib\\site-packages\\openfl\\component\\aggregator\\aggregator.py#559\" target=\"_blank\"><span style=\"color: #7f7f7f; text-decoration-color: #7f7f7f\">559</span></a>\n",
       "</pre>\n"
      ],
      "text/plain": [
       "\u001b[2;36m          \u001b[0m\u001b[2;36m \u001b[0mMETRIC   Round \u001b[1;36m1\u001b[0m, collaborator one train result loss:    \u001b[1;36m0.298046\u001b[0m                                                                   \u001b]8;id=101731;file://C:\\Users\\BHSU\\AppData\\Local\\Programs\\Python\\Python39\\lib\\site-packages\\openfl\\component\\aggregator\\aggregator.py\u001b\\\u001b[2maggregator.py\u001b[0m\u001b]8;;\u001b\\\u001b[2m:\u001b[0m\u001b]8;id=406397;file://C:\\Users\\BHSU\\AppData\\Local\\Programs\\Python\\Python39\\lib\\site-packages\\openfl\\component\\aggregator\\aggregator.py#559\u001b\\\u001b[2m559\u001b[0m\u001b]8;;\u001b\\\n"
      ]
     },
     "metadata": {},
     "output_type": "display_data"
    },
    {
     "data": {
      "text/html": [
       "<pre style=\"white-space:pre;overflow-x:auto;line-height:normal;font-family:Menlo,'DejaVu Sans Mono',consolas,'Courier New',monospace\"><span style=\"color: #7fbfbf; text-decoration-color: #7fbfbf\">           </span><span style=\"color: #000080; text-decoration-color: #000080\">INFO    </span> Using TaskRunner subclassing API                                                                                         <a href=\"file://C:\\Users\\BHSU\\AppData\\Local\\Programs\\Python\\Python39\\lib\\site-packages\\openfl\\component\\collaborator\\collaborator.py\" target=\"_blank\"><span style=\"color: #7f7f7f; text-decoration-color: #7f7f7f\">collaborator.py</span></a><span style=\"color: #7f7f7f; text-decoration-color: #7f7f7f\">:</span><a href=\"file://C:\\Users\\BHSU\\AppData\\Local\\Programs\\Python\\Python39\\lib\\site-packages\\openfl\\component\\collaborator\\collaborator.py#253\" target=\"_blank\"><span style=\"color: #7f7f7f; text-decoration-color: #7f7f7f\">253</span></a>\n",
       "</pre>\n"
      ],
      "text/plain": [
       "\u001b[2;36m          \u001b[0m\u001b[2;36m \u001b[0m\u001b[34mINFO    \u001b[0m Using TaskRunner subclassing API                                                                                         \u001b]8;id=222104;file://C:\\Users\\BHSU\\AppData\\Local\\Programs\\Python\\Python39\\lib\\site-packages\\openfl\\component\\collaborator\\collaborator.py\u001b\\\u001b[2mcollaborator.py\u001b[0m\u001b]8;;\u001b\\\u001b[2m:\u001b[0m\u001b]8;id=627597;file://C:\\Users\\BHSU\\AppData\\Local\\Programs\\Python\\Python39\\lib\\site-packages\\openfl\\component\\collaborator\\collaborator.py#253\u001b\\\u001b[2m253\u001b[0m\u001b]8;;\u001b\\\n"
      ]
     },
     "metadata": {},
     "output_type": "display_data"
    },
    {
     "name": "stdout",
     "output_type": "stream",
     "text": [
      "282/282 [==============================] - 0s 534us/step - loss: 0.2819 - accuracy: 0.9128\n"
     ]
    },
    {
     "data": {
      "text/html": [
       "<pre style=\"white-space:pre;overflow-x:auto;line-height:normal;font-family:Menlo,'DejaVu Sans Mono',consolas,'Courier New',monospace\"><span style=\"color: #7fbfbf; text-decoration-color: #7fbfbf\">           </span>METRIC   Round <span style=\"color: #008080; text-decoration-color: #008080; font-weight: bold\">1</span>, collaborator one is sending metric for task locally_tuned_model_validation: accuracy   <span style=\"color: #008080; text-decoration-color: #008080; font-weight: bold\">0.912778</span>                 <a href=\"file://C:\\Users\\BHSU\\AppData\\Local\\Programs\\Python\\Python39\\lib\\site-packages\\openfl\\component\\collaborator\\collaborator.py\" target=\"_blank\"><span style=\"color: #7f7f7f; text-decoration-color: #7f7f7f\">collaborator.py</span></a><span style=\"color: #7f7f7f; text-decoration-color: #7f7f7f\">:</span><a href=\"file://C:\\Users\\BHSU\\AppData\\Local\\Programs\\Python\\Python39\\lib\\site-packages\\openfl\\component\\collaborator\\collaborator.py#415\" target=\"_blank\"><span style=\"color: #7f7f7f; text-decoration-color: #7f7f7f\">415</span></a>\n",
       "</pre>\n"
      ],
      "text/plain": [
       "\u001b[2;36m          \u001b[0m\u001b[2;36m \u001b[0mMETRIC   Round \u001b[1;36m1\u001b[0m, collaborator one is sending metric for task locally_tuned_model_validation: accuracy   \u001b[1;36m0.912778\u001b[0m                 \u001b]8;id=893461;file://C:\\Users\\BHSU\\AppData\\Local\\Programs\\Python\\Python39\\lib\\site-packages\\openfl\\component\\collaborator\\collaborator.py\u001b\\\u001b[2mcollaborator.py\u001b[0m\u001b]8;;\u001b\\\u001b[2m:\u001b[0m\u001b]8;id=155702;file://C:\\Users\\BHSU\\AppData\\Local\\Programs\\Python\\Python39\\lib\\site-packages\\openfl\\component\\collaborator\\collaborator.py#415\u001b\\\u001b[2m415\u001b[0m\u001b]8;;\u001b\\\n"
      ]
     },
     "metadata": {},
     "output_type": "display_data"
    },
    {
     "data": {
      "text/html": [
       "<pre style=\"white-space:pre;overflow-x:auto;line-height:normal;font-family:Menlo,'DejaVu Sans Mono',consolas,'Courier New',monospace\"><span style=\"color: #7fbfbf; text-decoration-color: #7fbfbf\">           </span><span style=\"color: #000080; text-decoration-color: #000080\">INFO    </span> Collaborator one is sending task results for locally_tuned_model_validation, round <span style=\"color: #008080; text-decoration-color: #008080; font-weight: bold\">1</span>                                       <a href=\"file://C:\\Users\\BHSU\\AppData\\Local\\Programs\\Python\\Python39\\lib\\site-packages\\openfl\\component\\aggregator\\aggregator.py\" target=\"_blank\"><span style=\"color: #7f7f7f; text-decoration-color: #7f7f7f\">aggregator.py</span></a><span style=\"color: #7f7f7f; text-decoration-color: #7f7f7f\">:</span><a href=\"file://C:\\Users\\BHSU\\AppData\\Local\\Programs\\Python\\Python39\\lib\\site-packages\\openfl\\component\\aggregator\\aggregator.py#520\" target=\"_blank\"><span style=\"color: #7f7f7f; text-decoration-color: #7f7f7f\">520</span></a>\n",
       "</pre>\n"
      ],
      "text/plain": [
       "\u001b[2;36m          \u001b[0m\u001b[2;36m \u001b[0m\u001b[34mINFO    \u001b[0m Collaborator one is sending task results for locally_tuned_model_validation, round \u001b[1;36m1\u001b[0m                                       \u001b]8;id=142168;file://C:\\Users\\BHSU\\AppData\\Local\\Programs\\Python\\Python39\\lib\\site-packages\\openfl\\component\\aggregator\\aggregator.py\u001b\\\u001b[2maggregator.py\u001b[0m\u001b]8;;\u001b\\\u001b[2m:\u001b[0m\u001b]8;id=23383;file://C:\\Users\\BHSU\\AppData\\Local\\Programs\\Python\\Python39\\lib\\site-packages\\openfl\\component\\aggregator\\aggregator.py#520\u001b\\\u001b[2m520\u001b[0m\u001b]8;;\u001b\\\n"
      ]
     },
     "metadata": {},
     "output_type": "display_data"
    },
    {
     "data": {
      "text/html": [
       "<pre style=\"white-space:pre;overflow-x:auto;line-height:normal;font-family:Menlo,'DejaVu Sans Mono',consolas,'Courier New',monospace\"><span style=\"color: #7fbfbf; text-decoration-color: #7fbfbf\">           </span>METRIC   Round <span style=\"color: #008080; text-decoration-color: #008080; font-weight: bold\">1</span>, collaborator validate_local locally_tuned_model_validation result accuracy:    <span style=\"color: #008080; text-decoration-color: #008080; font-weight: bold\">0.912778</span>                           <a href=\"file://C:\\Users\\BHSU\\AppData\\Local\\Programs\\Python\\Python39\\lib\\site-packages\\openfl\\component\\aggregator\\aggregator.py\" target=\"_blank\"><span style=\"color: #7f7f7f; text-decoration-color: #7f7f7f\">aggregator.py</span></a><span style=\"color: #7f7f7f; text-decoration-color: #7f7f7f\">:</span><a href=\"file://C:\\Users\\BHSU\\AppData\\Local\\Programs\\Python\\Python39\\lib\\site-packages\\openfl\\component\\aggregator\\aggregator.py#559\" target=\"_blank\"><span style=\"color: #7f7f7f; text-decoration-color: #7f7f7f\">559</span></a>\n",
       "</pre>\n"
      ],
      "text/plain": [
       "\u001b[2;36m          \u001b[0m\u001b[2;36m \u001b[0mMETRIC   Round \u001b[1;36m1\u001b[0m, collaborator validate_local locally_tuned_model_validation result accuracy:    \u001b[1;36m0.912778\u001b[0m                           \u001b]8;id=829796;file://C:\\Users\\BHSU\\AppData\\Local\\Programs\\Python\\Python39\\lib\\site-packages\\openfl\\component\\aggregator\\aggregator.py\u001b\\\u001b[2maggregator.py\u001b[0m\u001b]8;;\u001b\\\u001b[2m:\u001b[0m\u001b]8;id=143617;file://C:\\Users\\BHSU\\AppData\\Local\\Programs\\Python\\Python39\\lib\\site-packages\\openfl\\component\\aggregator\\aggregator.py#559\u001b\\\u001b[2m559\u001b[0m\u001b]8;;\u001b\\\n"
      ]
     },
     "metadata": {},
     "output_type": "display_data"
    },
    {
     "data": {
      "text/html": [
       "<pre style=\"white-space:pre;overflow-x:auto;line-height:normal;font-family:Menlo,'DejaVu Sans Mono',consolas,'Courier New',monospace\"><span style=\"color: #7fbfbf; text-decoration-color: #7fbfbf\">           </span><span style=\"color: #000080; text-decoration-color: #000080\">INFO    </span> All tasks completed on one for round <span style=\"color: #008080; text-decoration-color: #008080; font-weight: bold\">1</span><span style=\"color: #808000; text-decoration-color: #808000\">...</span>                                                                                <a href=\"file://C:\\Users\\BHSU\\AppData\\Local\\Programs\\Python\\Python39\\lib\\site-packages\\openfl\\component\\collaborator\\collaborator.py\" target=\"_blank\"><span style=\"color: #7f7f7f; text-decoration-color: #7f7f7f\">collaborator.py</span></a><span style=\"color: #7f7f7f; text-decoration-color: #7f7f7f\">:</span><a href=\"file://C:\\Users\\BHSU\\AppData\\Local\\Programs\\Python\\Python39\\lib\\site-packages\\openfl\\component\\collaborator\\collaborator.py#171\" target=\"_blank\"><span style=\"color: #7f7f7f; text-decoration-color: #7f7f7f\">171</span></a>\n",
       "</pre>\n"
      ],
      "text/plain": [
       "\u001b[2;36m          \u001b[0m\u001b[2;36m \u001b[0m\u001b[34mINFO    \u001b[0m All tasks completed on one for round \u001b[1;36m1\u001b[0m\u001b[33m...\u001b[0m                                                                                \u001b]8;id=66511;file://C:\\Users\\BHSU\\AppData\\Local\\Programs\\Python\\Python39\\lib\\site-packages\\openfl\\component\\collaborator\\collaborator.py\u001b\\\u001b[2mcollaborator.py\u001b[0m\u001b]8;;\u001b\\\u001b[2m:\u001b[0m\u001b]8;id=775359;file://C:\\Users\\BHSU\\AppData\\Local\\Programs\\Python\\Python39\\lib\\site-packages\\openfl\\component\\collaborator\\collaborator.py#171\u001b\\\u001b[2m171\u001b[0m\u001b]8;;\u001b\\\n"
      ]
     },
     "metadata": {},
     "output_type": "display_data"
    },
    {
     "data": {
      "text/html": [
       "<pre style=\"white-space:pre;overflow-x:auto;line-height:normal;font-family:Menlo,'DejaVu Sans Mono',consolas,'Courier New',monospace\"><span style=\"color: #7fbfbf; text-decoration-color: #7fbfbf\">           </span><span style=\"color: #000080; text-decoration-color: #000080\">INFO    </span> Waiting for tasks<span style=\"color: #808000; text-decoration-color: #808000\">...</span>                                                                                                     <a href=\"file://C:\\Users\\BHSU\\AppData\\Local\\Programs\\Python\\Python39\\lib\\site-packages\\openfl\\component\\collaborator\\collaborator.py\" target=\"_blank\"><span style=\"color: #7f7f7f; text-decoration-color: #7f7f7f\">collaborator.py</span></a><span style=\"color: #7f7f7f; text-decoration-color: #7f7f7f\">:</span><a href=\"file://C:\\Users\\BHSU\\AppData\\Local\\Programs\\Python\\Python39\\lib\\site-packages\\openfl\\component\\collaborator\\collaborator.py#178\" target=\"_blank\"><span style=\"color: #7f7f7f; text-decoration-color: #7f7f7f\">178</span></a>\n",
       "</pre>\n"
      ],
      "text/plain": [
       "\u001b[2;36m          \u001b[0m\u001b[2;36m \u001b[0m\u001b[34mINFO    \u001b[0m Waiting for tasks\u001b[33m...\u001b[0m                                                                                                     \u001b]8;id=350781;file://C:\\Users\\BHSU\\AppData\\Local\\Programs\\Python\\Python39\\lib\\site-packages\\openfl\\component\\collaborator\\collaborator.py\u001b\\\u001b[2mcollaborator.py\u001b[0m\u001b]8;;\u001b\\\u001b[2m:\u001b[0m\u001b]8;id=252615;file://C:\\Users\\BHSU\\AppData\\Local\\Programs\\Python\\Python39\\lib\\site-packages\\openfl\\component\\collaborator\\collaborator.py#178\u001b\\\u001b[2m178\u001b[0m\u001b]8;;\u001b\\\n"
      ]
     },
     "metadata": {},
     "output_type": "display_data"
    },
    {
     "data": {
      "text/html": [
       "<pre style=\"white-space:pre;overflow-x:auto;line-height:normal;font-family:Menlo,'DejaVu Sans Mono',consolas,'Courier New',monospace\"><span style=\"color: #7fbfbf; text-decoration-color: #7fbfbf\">           </span><span style=\"color: #000080; text-decoration-color: #000080\">INFO    </span> Sending tasks to collaborator two for round <span style=\"color: #008080; text-decoration-color: #008080; font-weight: bold\">1</span>                                                                              <a href=\"file://C:\\Users\\BHSU\\AppData\\Local\\Programs\\Python\\Python39\\lib\\site-packages\\openfl\\component\\aggregator\\aggregator.py\" target=\"_blank\"><span style=\"color: #7f7f7f; text-decoration-color: #7f7f7f\">aggregator.py</span></a><span style=\"color: #7f7f7f; text-decoration-color: #7f7f7f\">:</span><a href=\"file://C:\\Users\\BHSU\\AppData\\Local\\Programs\\Python\\Python39\\lib\\site-packages\\openfl\\component\\aggregator\\aggregator.py#329\" target=\"_blank\"><span style=\"color: #7f7f7f; text-decoration-color: #7f7f7f\">329</span></a>\n",
       "</pre>\n"
      ],
      "text/plain": [
       "\u001b[2;36m          \u001b[0m\u001b[2;36m \u001b[0m\u001b[34mINFO    \u001b[0m Sending tasks to collaborator two for round \u001b[1;36m1\u001b[0m                                                                              \u001b]8;id=412182;file://C:\\Users\\BHSU\\AppData\\Local\\Programs\\Python\\Python39\\lib\\site-packages\\openfl\\component\\aggregator\\aggregator.py\u001b\\\u001b[2maggregator.py\u001b[0m\u001b]8;;\u001b\\\u001b[2m:\u001b[0m\u001b]8;id=951408;file://C:\\Users\\BHSU\\AppData\\Local\\Programs\\Python\\Python39\\lib\\site-packages\\openfl\\component\\aggregator\\aggregator.py#329\u001b\\\u001b[2m329\u001b[0m\u001b]8;;\u001b\\\n"
      ]
     },
     "metadata": {},
     "output_type": "display_data"
    },
    {
     "data": {
      "text/html": [
       "<pre style=\"white-space:pre;overflow-x:auto;line-height:normal;font-family:Menlo,'DejaVu Sans Mono',consolas,'Courier New',monospace\"><span style=\"color: #7fbfbf; text-decoration-color: #7fbfbf\">           </span><span style=\"color: #000080; text-decoration-color: #000080\">INFO    </span> Received the following tasks: <span style=\"font-weight: bold\">[</span><span style=\"color: #008000; text-decoration-color: #008000\">'aggregated_model_validation'</span>, <span style=\"color: #008000; text-decoration-color: #008000\">'train'</span>, <span style=\"color: #008000; text-decoration-color: #008000\">'locally_tuned_model_validation'</span><span style=\"font-weight: bold\">]</span>                 <a href=\"file://C:\\Users\\BHSU\\AppData\\Local\\Programs\\Python\\Python39\\lib\\site-packages\\openfl\\component\\collaborator\\collaborator.py\" target=\"_blank\"><span style=\"color: #7f7f7f; text-decoration-color: #7f7f7f\">collaborator.py</span></a><span style=\"color: #7f7f7f; text-decoration-color: #7f7f7f\">:</span><a href=\"file://C:\\Users\\BHSU\\AppData\\Local\\Programs\\Python\\Python39\\lib\\site-packages\\openfl\\component\\collaborator\\collaborator.py#168\" target=\"_blank\"><span style=\"color: #7f7f7f; text-decoration-color: #7f7f7f\">168</span></a>\n",
       "</pre>\n"
      ],
      "text/plain": [
       "\u001b[2;36m          \u001b[0m\u001b[2;36m \u001b[0m\u001b[34mINFO    \u001b[0m Received the following tasks: \u001b[1m[\u001b[0m\u001b[32m'aggregated_model_validation'\u001b[0m, \u001b[32m'train'\u001b[0m, \u001b[32m'locally_tuned_model_validation'\u001b[0m\u001b[1m]\u001b[0m                 \u001b]8;id=781319;file://C:\\Users\\BHSU\\AppData\\Local\\Programs\\Python\\Python39\\lib\\site-packages\\openfl\\component\\collaborator\\collaborator.py\u001b\\\u001b[2mcollaborator.py\u001b[0m\u001b]8;;\u001b\\\u001b[2m:\u001b[0m\u001b]8;id=678178;file://C:\\Users\\BHSU\\AppData\\Local\\Programs\\Python\\Python39\\lib\\site-packages\\openfl\\component\\collaborator\\collaborator.py#168\u001b\\\u001b[2m168\u001b[0m\u001b]8;;\u001b\\\n"
      ]
     },
     "metadata": {},
     "output_type": "display_data"
    },
    {
     "data": {
      "text/html": [
       "<pre style=\"white-space:pre;overflow-x:auto;line-height:normal;font-family:Menlo,'DejaVu Sans Mono',consolas,'Courier New',monospace\"><span style=\"color: #7fbfbf; text-decoration-color: #7fbfbf\">           </span><span style=\"color: #000080; text-decoration-color: #000080\">INFO    </span> Using TaskRunner subclassing API                                                                                         <a href=\"file://C:\\Users\\BHSU\\AppData\\Local\\Programs\\Python\\Python39\\lib\\site-packages\\openfl\\component\\collaborator\\collaborator.py\" target=\"_blank\"><span style=\"color: #7f7f7f; text-decoration-color: #7f7f7f\">collaborator.py</span></a><span style=\"color: #7f7f7f; text-decoration-color: #7f7f7f\">:</span><a href=\"file://C:\\Users\\BHSU\\AppData\\Local\\Programs\\Python\\Python39\\lib\\site-packages\\openfl\\component\\collaborator\\collaborator.py#253\" target=\"_blank\"><span style=\"color: #7f7f7f; text-decoration-color: #7f7f7f\">253</span></a>\n",
       "</pre>\n"
      ],
      "text/plain": [
       "\u001b[2;36m          \u001b[0m\u001b[2;36m \u001b[0m\u001b[34mINFO    \u001b[0m Using TaskRunner subclassing API                                                                                         \u001b]8;id=910747;file://C:\\Users\\BHSU\\AppData\\Local\\Programs\\Python\\Python39\\lib\\site-packages\\openfl\\component\\collaborator\\collaborator.py\u001b\\\u001b[2mcollaborator.py\u001b[0m\u001b]8;;\u001b\\\u001b[2m:\u001b[0m\u001b]8;id=490206;file://C:\\Users\\BHSU\\AppData\\Local\\Programs\\Python\\Python39\\lib\\site-packages\\openfl\\component\\collaborator\\collaborator.py#253\u001b\\\u001b[2m253\u001b[0m\u001b]8;;\u001b\\\n"
      ]
     },
     "metadata": {},
     "output_type": "display_data"
    },
    {
     "name": "stdout",
     "output_type": "stream",
     "text": [
      "282/282 [==============================] - 0s 509us/step - loss: 0.3687 - accuracy: 0.8910\n"
     ]
    },
    {
     "data": {
      "text/html": [
       "<pre style=\"white-space:pre;overflow-x:auto;line-height:normal;font-family:Menlo,'DejaVu Sans Mono',consolas,'Courier New',monospace\"><span style=\"color: #7fbfbf; text-decoration-color: #7fbfbf\">           </span>METRIC   Round <span style=\"color: #008080; text-decoration-color: #008080; font-weight: bold\">1</span>, collaborator two is sending metric for task aggregated_model_validation: accuracy      <span style=\"color: #008080; text-decoration-color: #008080; font-weight: bold\">0.891000</span>                 <a href=\"file://C:\\Users\\BHSU\\AppData\\Local\\Programs\\Python\\Python39\\lib\\site-packages\\openfl\\component\\collaborator\\collaborator.py\" target=\"_blank\"><span style=\"color: #7f7f7f; text-decoration-color: #7f7f7f\">collaborator.py</span></a><span style=\"color: #7f7f7f; text-decoration-color: #7f7f7f\">:</span><a href=\"file://C:\\Users\\BHSU\\AppData\\Local\\Programs\\Python\\Python39\\lib\\site-packages\\openfl\\component\\collaborator\\collaborator.py#415\" target=\"_blank\"><span style=\"color: #7f7f7f; text-decoration-color: #7f7f7f\">415</span></a>\n",
       "</pre>\n"
      ],
      "text/plain": [
       "\u001b[2;36m          \u001b[0m\u001b[2;36m \u001b[0mMETRIC   Round \u001b[1;36m1\u001b[0m, collaborator two is sending metric for task aggregated_model_validation: accuracy      \u001b[1;36m0.891000\u001b[0m                 \u001b]8;id=569735;file://C:\\Users\\BHSU\\AppData\\Local\\Programs\\Python\\Python39\\lib\\site-packages\\openfl\\component\\collaborator\\collaborator.py\u001b\\\u001b[2mcollaborator.py\u001b[0m\u001b]8;;\u001b\\\u001b[2m:\u001b[0m\u001b]8;id=734224;file://C:\\Users\\BHSU\\AppData\\Local\\Programs\\Python\\Python39\\lib\\site-packages\\openfl\\component\\collaborator\\collaborator.py#415\u001b\\\u001b[2m415\u001b[0m\u001b]8;;\u001b\\\n"
      ]
     },
     "metadata": {},
     "output_type": "display_data"
    },
    {
     "data": {
      "text/html": [
       "<pre style=\"white-space:pre;overflow-x:auto;line-height:normal;font-family:Menlo,'DejaVu Sans Mono',consolas,'Courier New',monospace\"><span style=\"color: #7fbfbf; text-decoration-color: #7fbfbf\">           </span><span style=\"color: #000080; text-decoration-color: #000080\">INFO    </span> Collaborator two is sending task results for aggregated_model_validation, round <span style=\"color: #008080; text-decoration-color: #008080; font-weight: bold\">1</span>                                          <a href=\"file://C:\\Users\\BHSU\\AppData\\Local\\Programs\\Python\\Python39\\lib\\site-packages\\openfl\\component\\aggregator\\aggregator.py\" target=\"_blank\"><span style=\"color: #7f7f7f; text-decoration-color: #7f7f7f\">aggregator.py</span></a><span style=\"color: #7f7f7f; text-decoration-color: #7f7f7f\">:</span><a href=\"file://C:\\Users\\BHSU\\AppData\\Local\\Programs\\Python\\Python39\\lib\\site-packages\\openfl\\component\\aggregator\\aggregator.py#520\" target=\"_blank\"><span style=\"color: #7f7f7f; text-decoration-color: #7f7f7f\">520</span></a>\n",
       "</pre>\n"
      ],
      "text/plain": [
       "\u001b[2;36m          \u001b[0m\u001b[2;36m \u001b[0m\u001b[34mINFO    \u001b[0m Collaborator two is sending task results for aggregated_model_validation, round \u001b[1;36m1\u001b[0m                                          \u001b]8;id=720380;file://C:\\Users\\BHSU\\AppData\\Local\\Programs\\Python\\Python39\\lib\\site-packages\\openfl\\component\\aggregator\\aggregator.py\u001b\\\u001b[2maggregator.py\u001b[0m\u001b]8;;\u001b\\\u001b[2m:\u001b[0m\u001b]8;id=66001;file://C:\\Users\\BHSU\\AppData\\Local\\Programs\\Python\\Python39\\lib\\site-packages\\openfl\\component\\aggregator\\aggregator.py#520\u001b\\\u001b[2m520\u001b[0m\u001b]8;;\u001b\\\n"
      ]
     },
     "metadata": {},
     "output_type": "display_data"
    },
    {
     "data": {
      "text/html": [
       "<pre style=\"white-space:pre;overflow-x:auto;line-height:normal;font-family:Menlo,'DejaVu Sans Mono',consolas,'Courier New',monospace\"><span style=\"color: #7fbfbf; text-decoration-color: #7fbfbf\">           </span>METRIC   Round <span style=\"color: #008080; text-decoration-color: #008080; font-weight: bold\">1</span>, collaborator validate_agg aggregated_model_validation result accuracy: <span style=\"color: #008080; text-decoration-color: #008080; font-weight: bold\">0.891000</span>                                   <a href=\"file://C:\\Users\\BHSU\\AppData\\Local\\Programs\\Python\\Python39\\lib\\site-packages\\openfl\\component\\aggregator\\aggregator.py\" target=\"_blank\"><span style=\"color: #7f7f7f; text-decoration-color: #7f7f7f\">aggregator.py</span></a><span style=\"color: #7f7f7f; text-decoration-color: #7f7f7f\">:</span><a href=\"file://C:\\Users\\BHSU\\AppData\\Local\\Programs\\Python\\Python39\\lib\\site-packages\\openfl\\component\\aggregator\\aggregator.py#559\" target=\"_blank\"><span style=\"color: #7f7f7f; text-decoration-color: #7f7f7f\">559</span></a>\n",
       "</pre>\n"
      ],
      "text/plain": [
       "\u001b[2;36m          \u001b[0m\u001b[2;36m \u001b[0mMETRIC   Round \u001b[1;36m1\u001b[0m, collaborator validate_agg aggregated_model_validation result accuracy: \u001b[1;36m0.891000\u001b[0m                                   \u001b]8;id=972778;file://C:\\Users\\BHSU\\AppData\\Local\\Programs\\Python\\Python39\\lib\\site-packages\\openfl\\component\\aggregator\\aggregator.py\u001b\\\u001b[2maggregator.py\u001b[0m\u001b]8;;\u001b\\\u001b[2m:\u001b[0m\u001b]8;id=541806;file://C:\\Users\\BHSU\\AppData\\Local\\Programs\\Python\\Python39\\lib\\site-packages\\openfl\\component\\aggregator\\aggregator.py#559\u001b\\\u001b[2m559\u001b[0m\u001b]8;;\u001b\\\n"
      ]
     },
     "metadata": {},
     "output_type": "display_data"
    },
    {
     "data": {
      "text/html": [
       "<pre style=\"white-space:pre;overflow-x:auto;line-height:normal;font-family:Menlo,'DejaVu Sans Mono',consolas,'Courier New',monospace\"><span style=\"color: #7fbfbf; text-decoration-color: #7fbfbf\">           </span><span style=\"color: #000080; text-decoration-color: #000080\">INFO    </span> Using TaskRunner subclassing API                                                                                         <a href=\"file://C:\\Users\\BHSU\\AppData\\Local\\Programs\\Python\\Python39\\lib\\site-packages\\openfl\\component\\collaborator\\collaborator.py\" target=\"_blank\"><span style=\"color: #7f7f7f; text-decoration-color: #7f7f7f\">collaborator.py</span></a><span style=\"color: #7f7f7f; text-decoration-color: #7f7f7f\">:</span><a href=\"file://C:\\Users\\BHSU\\AppData\\Local\\Programs\\Python\\Python39\\lib\\site-packages\\openfl\\component\\collaborator\\collaborator.py#253\" target=\"_blank\"><span style=\"color: #7f7f7f; text-decoration-color: #7f7f7f\">253</span></a>\n",
       "</pre>\n"
      ],
      "text/plain": [
       "\u001b[2;36m          \u001b[0m\u001b[2;36m \u001b[0m\u001b[34mINFO    \u001b[0m Using TaskRunner subclassing API                                                                                         \u001b]8;id=40268;file://C:\\Users\\BHSU\\AppData\\Local\\Programs\\Python\\Python39\\lib\\site-packages\\openfl\\component\\collaborator\\collaborator.py\u001b\\\u001b[2mcollaborator.py\u001b[0m\u001b]8;;\u001b\\\u001b[2m:\u001b[0m\u001b]8;id=255318;file://C:\\Users\\BHSU\\AppData\\Local\\Programs\\Python\\Python39\\lib\\site-packages\\openfl\\component\\collaborator\\collaborator.py#253\u001b\\\u001b[2m253\u001b[0m\u001b]8;;\u001b\\\n"
      ]
     },
     "metadata": {},
     "output_type": "display_data"
    },
    {
     "data": {
      "text/html": [
       "<pre style=\"white-space:pre;overflow-x:auto;line-height:normal;font-family:Menlo,'DejaVu Sans Mono',consolas,'Courier New',monospace\"><span style=\"color: #7fbfbf; text-decoration-color: #7fbfbf\">           </span><span style=\"color: #000080; text-decoration-color: #000080\">INFO    </span> Run <span style=\"color: #008080; text-decoration-color: #008080; font-weight: bold\">0</span> epoch of <span style=\"color: #008080; text-decoration-color: #008080; font-weight: bold\">1</span> round                                                                                                    <a href=\"file://C:\\Users\\BHSU\\AppData\\Local\\Programs\\Python\\Python39\\lib\\site-packages\\openfl\\federated\\task\\runner_keras.py\" target=\"_blank\"><span style=\"color: #7f7f7f; text-decoration-color: #7f7f7f\">runner_keras.py</span></a><span style=\"color: #7f7f7f; text-decoration-color: #7f7f7f\">:</span><a href=\"file://C:\\Users\\BHSU\\AppData\\Local\\Programs\\Python\\Python39\\lib\\site-packages\\openfl\\federated\\task\\runner_keras.py#83\" target=\"_blank\"><span style=\"color: #7f7f7f; text-decoration-color: #7f7f7f\">83</span></a>\n",
       "</pre>\n"
      ],
      "text/plain": [
       "\u001b[2;36m          \u001b[0m\u001b[2;36m \u001b[0m\u001b[34mINFO    \u001b[0m Run \u001b[1;36m0\u001b[0m epoch of \u001b[1;36m1\u001b[0m round                                                                                                    \u001b]8;id=841938;file://C:\\Users\\BHSU\\AppData\\Local\\Programs\\Python\\Python39\\lib\\site-packages\\openfl\\federated\\task\\runner_keras.py\u001b\\\u001b[2mrunner_keras.py\u001b[0m\u001b]8;;\u001b\\\u001b[2m:\u001b[0m\u001b]8;id=112441;file://C:\\Users\\BHSU\\AppData\\Local\\Programs\\Python\\Python39\\lib\\site-packages\\openfl\\federated\\task\\runner_keras.py#83\u001b\\\u001b[2m83\u001b[0m\u001b]8;;\u001b\\\n"
      ]
     },
     "metadata": {},
     "output_type": "display_data"
    },
    {
     "name": "stdout",
     "output_type": "stream",
     "text": [
      "     73/Unknown - 0s 694us/step - loss: 0.3519 - accuracy: 0.8968"
     ]
    }
   ],
   "source": [
    "#Run experiment, return trained FederatedModel\n",
    "final_fl_model = fx.run_experiment(collaborators,override_config={'aggregator.settings.rounds_to_train':5})"
   ]
  },
  {
   "cell_type": "code",
   "execution_count": null,
   "id": "b1375074-5c51-4581-b784-05d3aafae7bf",
   "metadata": {},
   "outputs": [],
   "source": [
    "#Save final model and load into keras\n",
    "final_fl_model.save_native('final_model')\n",
    "model = tf.keras.models.load_model('./final_model')"
   ]
  },
  {
   "cell_type": "code",
   "execution_count": null,
   "id": "ab5abf57-124a-4776-8470-1981916add3f",
   "metadata": {},
   "outputs": [],
   "source": [
    "#Test the final model on our test set\n",
    "model.evaluate(test_images,test_labels)"
   ]
  }
 ],
 "metadata": {
  "kernelspec": {
   "display_name": "Python 3 (ipykernel)",
   "language": "python",
   "name": "python3"
  },
  "language_info": {
   "codemirror_mode": {
    "name": "ipython",
    "version": 3
   },
   "file_extension": ".py",
   "mimetype": "text/x-python",
   "name": "python",
   "nbconvert_exporter": "python",
   "pygments_lexer": "ipython3",
   "version": "3.9.10"
  }
 },
 "nbformat": 4,
 "nbformat_minor": 5
}
