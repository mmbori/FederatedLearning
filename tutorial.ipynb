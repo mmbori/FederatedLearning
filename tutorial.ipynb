{
 "cells": [
  {
   "cell_type": "code",
   "execution_count": 1,
   "id": "2c360b45-e83e-4017-b5a6-d59183b3458f",
   "metadata": {},
   "outputs": [],
   "source": [
    "import numpy as np\n",
    "import tensorflow as tf\n",
    "import tensorflow.keras as keras\n",
    "from tensorflow.keras import backend as K\n",
    "from tensorflow.keras import Sequential\n",
    "from tensorflow.keras.layers import Conv2D, Flatten, Dense\n",
    "from tensorflow.keras.utils import to_categorical\n",
    "from tensorflow.keras.datasets import mnist"
   ]
  },
  {
   "cell_type": "code",
   "execution_count": 2,
   "id": "eb0cdc3d-f8f5-4805-bfd8-ca49fd8f5960",
   "metadata": {},
   "outputs": [],
   "source": [
    "import openfl.native as fx\n",
    "from openfl.federated import FederatedModel,FederatedDataSet"
   ]
  },
  {
   "cell_type": "code",
   "execution_count": 3,
   "id": "98c6fe34-fcf6-4b9b-8228-88ca9b64f530",
   "metadata": {},
   "outputs": [
    {
     "name": "stdout",
     "output_type": "stream",
     "text": [
      "We are using Tensorflow version 2.8.4\n",
      "Intel-optimizations (DNNL) enabled: False\n"
     ]
    }
   ],
   "source": [
    "def test_intel_tensorflow() :\n",
    "    import tensorflow as tf\n",
    "    print(\"We are using Tensorflow version {}\".format(tf.__version__))\n",
    "    \n",
    "    major_version = int(tf.__version__.split(\".\")[0])\n",
    "    if major_version >= 2 :\n",
    "        from tensorflow.python.util import _pywrap_util_port\n",
    "        print(\"Intel-optimizations (DNNL) enabled:\", _pywrap_util_port.IsMklEnabled())\n",
    "    else :\n",
    "        print(\"Intel-optimizations  (DNNL) enabled:\")\n",
    "\n",
    "test_intel_tensorflow()"
   ]
  },
  {
   "cell_type": "code",
   "execution_count": 4,
   "id": "a29b6213-48d5-4cb6-b45c-597d728a8733",
   "metadata": {},
   "outputs": [
    {
     "name": "stdout",
     "output_type": "stream",
     "text": [
      "Creating Workspace Directories\n",
      "Creating Workspace Templates\n",
      "Successfully installed packages from C:\\Users\\BHSU\\.local\\workspace/requirements.txt.\n",
      "\n",
      "New workspace directory structure:\n",
      "workspace\n",
      "├── .workspace\n",
      "├── agg_to_col_one_signed_cert.zip\n",
      "├── agg_to_col_two_signed_cert.zip\n",
      "├── cert\n",
      "├── data\n",
      "├── final_model\n",
      "│   ├── assets\n",
      "│   ├── keras_metadata.pb\n",
      "│   ├── saved_model.pb\n",
      "│   └── variables\n",
      "│       ├── variables.data-00000-of-00001\n",
      "│       └── variables.index\n",
      "├── logs\n",
      "│   └── tensorboard\n",
      "│       ├── events.out.tfevents.1681111804.DESKTOP-8R9A5NI\n",
      "│       ├── events.out.tfevents.1681342139.DESKTOP-8R9A5NI\n",
      "│       ├── events.out.tfevents.1681350384.DESKTOP-8R9A5NI\n",
      "│       └── events.out.tfevents.1681863754.DESKTOP-8R9A5NI\n",
      "├── plan\n",
      "│   ├── cols.yaml\n",
      "│   ├── data.yaml\n",
      "│   ├── defaults\n",
      "│   └── plan.yaml\n",
      "├── requirements.txt\n",
      "├── save\n",
      "│   ├── keras_cnn_mnist_best.pbuf\n",
      "│   ├── keras_cnn_mnist_init.pbuf\n",
      "│   └── keras_cnn_mnist_last.pbuf\n",
      "└── src\n",
      "    ├── keras_cnn.py\n",
      "    ├── mnist_utils.py\n",
      "    ├── tfmnist_inmemory.py\n",
      "    └── __init__.py\n",
      "\n",
      "10 directories, 23 files\n",
      "Setting Up Certificate Authority...\n",
      "\n",
      "1.  Create Root CA\n",
      "1.1 Create Directories\n",
      "1.2 Create Database\n",
      "1.3 Create CA Request and Certificate\n",
      "2.  Create Signing Certificate\n",
      "2.1 Create Directories\n",
      "2.2 Create Database\n",
      "2.3 Create Signing Certificate CSR\n",
      "2.4 Sign Signing Certificate CSR\n",
      "3   Create Certificate Chain\n",
      "\n",
      "Done.\n",
      "Creating AGGREGATOR certificate key pair with following settings: CN=\u001b[31mdesktop-8r9a5ni\u001b[0m, SAN=\u001b[31mDNS:desktop-8r9a5ni\u001b[0m\n",
      "  Writing AGGREGATOR certificate key pair to: \u001b[32mD:\\Jupyter\\OpenFL\\cert/server\u001b[0m\n",
      "The CSR Hash for file \u001b[32mserver/agg_desktop-8r9a5ni.csr\u001b[0m = \u001b[31mf7b22687078d4e658ac8fccec028714dfb736d16a0f79773a4de20241980c893af1a1af5f800527b6fa41d56f948e363\u001b[0m\n",
      " Signing AGGREGATOR certificate\n",
      "Creating COLLABORATOR certificate key pair with following settings: CN=\u001b[31mone\u001b[0m, SAN=\u001b[31mDNS:one\u001b[0m\n",
      "  Moving COLLABORATOR certificate to: \u001b[32mD:\\Jupyter\\OpenFL\\cert/col_one\u001b[0m\n",
      "The CSR Hash for file \u001b[32mcol_one.csr\u001b[0m = \u001b[31m9dbca5861ea751aea538883badb9caa9eff8afb04111747d5c9bd1935a06684639ba4a5d4ecbe4b8a98044bafab24a0b\u001b[0m\n",
      " Signing COLLABORATOR certificate\n",
      "\n",
      "Registering \u001b[32mone\u001b[0m in \u001b[32mC:\\Users\\BHSU\\.local\\workspace\\plan\\cols.yaml\u001b[0m\n",
      "Creating COLLABORATOR certificate key pair with following settings: CN=\u001b[31mtwo\u001b[0m, SAN=\u001b[31mDNS:two\u001b[0m\n",
      "  Moving COLLABORATOR certificate to: \u001b[32mD:\\Jupyter\\OpenFL\\cert/col_two\u001b[0m\n",
      "The CSR Hash for file \u001b[32mcol_two.csr\u001b[0m = \u001b[31m286b16013b0270d7136543d45775e3f9e2e39487bff67dfb4653031c5db2ef9fd9576656b4d1daac82cc0ab03fadca6e\u001b[0m\n",
      " Signing COLLABORATOR certificate\n",
      "\n",
      "Registering \u001b[32mtwo\u001b[0m in \u001b[32mC:\\Users\\BHSU\\.local\\workspace\\plan\\cols.yaml\u001b[0m\n"
     ]
    }
   ],
   "source": [
    "fx.init('keras_cnn_mnist')"
   ]
  },
  {
   "cell_type": "code",
   "execution_count": 5,
   "id": "966b7b7b-4a4b-4dc4-84cc-079435a2b7fa",
   "metadata": {},
   "outputs": [],
   "source": [
    "#Import and process training, validation, and test images/labels\n",
    "\n",
    "# Set the ratio of validation imgs, can't be 0.0\n",
    "VALID_PERCENT = 0.3\n",
    "\n",
    "(X_train, y_train), (X_test, y_test) = mnist.load_data()\n",
    "split_on = int((1 - VALID_PERCENT) * len(X_train))\n",
    "\n",
    "train_images = X_train[0:split_on,:,:]\n",
    "train_labels = to_categorical(y_train)[0:split_on,:]\n",
    "\n",
    "valid_images = X_train[split_on:,:,:]\n",
    "valid_labels = to_categorical(y_train)[split_on:,:]\n",
    "\n",
    "test_images = X_test\n",
    "test_labels = to_categorical(y_test)"
   ]
  },
  {
   "cell_type": "code",
   "execution_count": 6,
   "id": "ae95e9d5-86dc-4c4e-8fcc-996b3464189c",
   "metadata": {},
   "outputs": [],
   "source": [
    "def preprocess(images):\n",
    "    #Normalize\n",
    "    images = (images / 255) - 0.5\n",
    "    #Flatten\n",
    "    images = images.reshape((-1, 784))\n",
    "    return images\n",
    "\n",
    "# Preprocess the images.\n",
    "train_images = preprocess(train_images)\n",
    "valid_images = preprocess(valid_images)\n",
    "test_images = preprocess(test_images)\n",
    "\n",
    "feature_shape = train_images.shape[1]\n",
    "classes = 10\n",
    "\n",
    "fl_data = FederatedDataSet(train_images,train_labels,valid_images,valid_labels,batch_size=32,num_classes=classes)\n",
    "\n",
    "def build_model(feature_shape,classes):\n",
    "    #Defines the MNIST model\n",
    "    model = Sequential()\n",
    "    model.add(Dense(64, input_shape=feature_shape, activation='relu'))\n",
    "    model.add(Dense(64, activation='relu'))\n",
    "    model.add(Dense(classes, activation='softmax'))\n",
    "    \n",
    "    model.compile(optimizer='adam',loss='categorical_crossentropy',metrics=['accuracy'],)\n",
    "    return model"
   ]
  },
  {
   "cell_type": "code",
   "execution_count": 7,
   "id": "72d85eba-e4c8-442d-be68-01ce26f8e9e9",
   "metadata": {},
   "outputs": [],
   "source": [
    "#Create a federated model using the build model function and dataset\n",
    "fl_model = FederatedModel(build_model,data_loader=fl_data)"
   ]
  },
  {
   "cell_type": "code",
   "execution_count": 8,
   "id": "961f7bc9-28dd-4134-bb1e-d5419d28fb93",
   "metadata": {},
   "outputs": [],
   "source": [
    "# collaborators = 1"
   ]
  },
  {
   "cell_type": "code",
   "execution_count": 10,
   "id": "9df0db61-12d9-4445-96a2-ce2d414cf107",
   "metadata": {},
   "outputs": [],
   "source": [
    "collaborator_models = fl_model.setup(num_collaborators=1)\n",
    "collaborators = {'one':collaborator_models[0]}#, 'three':collaborator_models[2]}"
   ]
  },
  {
   "cell_type": "code",
   "execution_count": 11,
   "id": "b411ccb9-6007-4927-8503-e75546e547b3",
   "metadata": {},
   "outputs": [
    {
     "name": "stdout",
     "output_type": "stream",
     "text": [
      "{\n",
      "    \"aggregator.settings.best_state_path\": \"save/keras_cnn_mnist_best.pbuf\",\n",
      "    \"aggregator.settings.db_store_rounds\": 2,\n",
      "    \"aggregator.settings.init_state_path\": \"save/keras_cnn_mnist_init.pbuf\",\n",
      "    \"aggregator.settings.last_state_path\": \"save/keras_cnn_mnist_last.pbuf\",\n",
      "    \"aggregator.settings.rounds_to_train\": 10,\n",
      "    \"aggregator.settings.write_logs\": true,\n",
      "    \"aggregator.template\": \"openfl.component.Aggregator\",\n",
      "    \"assigner.settings.task_groups.0.name\": \"train_and_validate\",\n",
      "    \"assigner.settings.task_groups.0.percentage\": 1.0,\n",
      "    \"assigner.settings.task_groups.0.tasks.0\": \"aggregated_model_validation\",\n",
      "    \"assigner.settings.task_groups.0.tasks.1\": \"train\",\n",
      "    \"assigner.settings.task_groups.0.tasks.2\": \"locally_tuned_model_validation\",\n",
      "    \"assigner.template\": \"openfl.component.RandomGroupedAssigner\",\n",
      "    \"collaborator.settings.db_store_rounds\": 1,\n",
      "    \"collaborator.settings.delta_updates\": false,\n",
      "    \"collaborator.settings.opt_treatment\": \"RESET\",\n",
      "    \"collaborator.template\": \"openfl.component.Collaborator\",\n",
      "    \"compression_pipeline.settings\": {},\n",
      "    \"compression_pipeline.template\": \"openfl.pipelines.NoCompressionPipeline\",\n",
      "    \"data_loader.settings.batch_size\": 256,\n",
      "    \"data_loader.settings.collaborator_count\": 2,\n",
      "    \"data_loader.settings.data_group_name\": \"mnist\",\n",
      "    \"data_loader.template\": \"src.tfmnist_inmemory.TensorFlowMNISTInMemory\",\n",
      "    \"network.settings.agg_addr\": \"DESKTOP-8R9A5NI\",\n",
      "    \"network.settings.agg_port\": 60628,\n",
      "    \"network.settings.cert_folder\": \"cert\",\n",
      "    \"network.settings.client_reconnect_interval\": 5,\n",
      "    \"network.settings.disable_client_auth\": false,\n",
      "    \"network.settings.hash_salt\": \"auto\",\n",
      "    \"network.settings.tls\": true,\n",
      "    \"network.template\": \"openfl.federation.Network\",\n",
      "    \"task_runner.settings\": {},\n",
      "    \"task_runner.template\": \"src.keras_cnn.KerasCNN\",\n",
      "    \"tasks.aggregated_model_validation.function\": \"validate\",\n",
      "    \"tasks.aggregated_model_validation.kwargs.apply\": \"global\",\n",
      "    \"tasks.aggregated_model_validation.kwargs.batch_size\": 32,\n",
      "    \"tasks.aggregated_model_validation.kwargs.metrics.0\": \"accuracy\",\n",
      "    \"tasks.locally_tuned_model_validation.function\": \"validate\",\n",
      "    \"tasks.locally_tuned_model_validation.kwargs.apply\": \"local\",\n",
      "    \"tasks.locally_tuned_model_validation.kwargs.batch_size\": 32,\n",
      "    \"tasks.locally_tuned_model_validation.kwargs.metrics.0\": \"accuracy\",\n",
      "    \"tasks.settings\": {},\n",
      "    \"tasks.train.function\": \"train\",\n",
      "    \"tasks.train.kwargs.batch_size\": 32,\n",
      "    \"tasks.train.kwargs.epochs\": 1,\n",
      "    \"tasks.train.kwargs.metrics.0\": \"loss\"\n",
      "}\n"
     ]
    }
   ],
   "source": [
    "#Get the current values of the plan. Each of these can be overridden\n",
    "print(fx.get_plan())"
   ]
  },
  {
   "cell_type": "code",
   "execution_count": 13,
   "id": "540dde08-6310-4a9f-b5c2-b45e174943b7",
   "metadata": {},
   "outputs": [
    {
     "data": {
      "text/html": [
       "<pre style=\"white-space:pre;overflow-x:auto;line-height:normal;font-family:Menlo,'DejaVu Sans Mono',consolas,'Courier New',monospace\"><span style=\"color: #7fbfbf; text-decoration-color: #7fbfbf\">[17:01:48] </span><span style=\"color: #000080; text-decoration-color: #000080\">INFO    </span> Updating aggregator.settings.rounds_to_train to <span style=\"color: #008080; text-decoration-color: #008080; font-weight: bold\">5</span><span style=\"color: #808000; text-decoration-color: #808000\">...</span>                                                                           <a href=\"file://C:\\Users\\BHSU\\AppData\\Local\\Programs\\Python\\Python39\\lib\\site-packages\\openfl\\native\\native.py\" target=\"_blank\"><span style=\"color: #7f7f7f; text-decoration-color: #7f7f7f\">native.py</span></a><span style=\"color: #7f7f7f; text-decoration-color: #7f7f7f\">:</span><a href=\"file://C:\\Users\\BHSU\\AppData\\Local\\Programs\\Python\\Python39\\lib\\site-packages\\openfl\\native\\native.py#102\" target=\"_blank\"><span style=\"color: #7f7f7f; text-decoration-color: #7f7f7f\">102</span></a>\n",
       "</pre>\n"
      ],
      "text/plain": [
       "\u001b[2;36m[17:01:48]\u001b[0m\u001b[2;36m \u001b[0m\u001b[34mINFO    \u001b[0m Updating aggregator.settings.rounds_to_train to \u001b[1;36m5\u001b[0m\u001b[33m...\u001b[0m                                                                           \u001b]8;id=995906;file://C:\\Users\\BHSU\\AppData\\Local\\Programs\\Python\\Python39\\lib\\site-packages\\openfl\\native\\native.py\u001b\\\u001b[2mnative.py\u001b[0m\u001b]8;;\u001b\\\u001b[2m:\u001b[0m\u001b]8;id=150833;file://C:\\Users\\BHSU\\AppData\\Local\\Programs\\Python\\Python39\\lib\\site-packages\\openfl\\native\\native.py#102\u001b\\\u001b[2m102\u001b[0m\u001b]8;;\u001b\\\n"
      ]
     },
     "metadata": {},
     "output_type": "display_data"
    },
    {
     "data": {
      "text/html": [
       "<pre style=\"white-space:pre;overflow-x:auto;line-height:normal;font-family:Menlo,'DejaVu Sans Mono',consolas,'Courier New',monospace\"><span style=\"color: #7fbfbf; text-decoration-color: #7fbfbf\">           </span><span style=\"color: #000080; text-decoration-color: #000080\">INFO    </span> FL-Plan hash is <span style=\"color: #000080; text-decoration-color: #000080\">3038ce92442cac7666b80fc10e51468e5e5adcc0b61540dc858ee7d85c8b0c885c2cc942842464f636d17c74cb36ced1</span>                 <a href=\"file://C:\\Users\\BHSU\\AppData\\Local\\Programs\\Python\\Python39\\lib\\site-packages\\openfl\\federated\\plan\\plan.py\" target=\"_blank\"><span style=\"color: #7f7f7f; text-decoration-color: #7f7f7f\">plan.py</span></a><span style=\"color: #7f7f7f; text-decoration-color: #7f7f7f\">:</span><a href=\"file://C:\\Users\\BHSU\\AppData\\Local\\Programs\\Python\\Python39\\lib\\site-packages\\openfl\\federated\\plan\\plan.py#235\" target=\"_blank\"><span style=\"color: #7f7f7f; text-decoration-color: #7f7f7f\">235</span></a>\n",
       "</pre>\n"
      ],
      "text/plain": [
       "\u001b[2;36m          \u001b[0m\u001b[2;36m \u001b[0m\u001b[34mINFO    \u001b[0m FL-Plan hash is \u001b[34m3038ce92442cac7666b80fc10e51468e5e5adcc0b61540dc858ee7d85c8b0c885c2cc942842464f636d17c74cb36ced1\u001b[0m                 \u001b]8;id=413193;file://C:\\Users\\BHSU\\AppData\\Local\\Programs\\Python\\Python39\\lib\\site-packages\\openfl\\federated\\plan\\plan.py\u001b\\\u001b[2mplan.py\u001b[0m\u001b]8;;\u001b\\\u001b[2m:\u001b[0m\u001b]8;id=482391;file://C:\\Users\\BHSU\\AppData\\Local\\Programs\\Python\\Python39\\lib\\site-packages\\openfl\\federated\\plan\\plan.py#235\u001b\\\u001b[2m235\u001b[0m\u001b]8;;\u001b\\\n"
      ]
     },
     "metadata": {},
     "output_type": "display_data"
    },
    {
     "data": {
      "text/html": [
       "<pre style=\"white-space:pre;overflow-x:auto;line-height:normal;font-family:Menlo,'DejaVu Sans Mono',consolas,'Courier New',monospace\"><span style=\"color: #7fbfbf; text-decoration-color: #7fbfbf\">           </span><span style=\"color: #000080; text-decoration-color: #000080\">INFO    </span> Building <span style=\"color: #800000; text-decoration-color: #800000\">🡆</span> Object <span style=\"color: #800000; text-decoration-color: #800000\">NoCompressionPipeline</span> from <span style=\"color: #800000; text-decoration-color: #800000\">openfl.pipelines</span> Module.                                                            <a href=\"file://C:\\Users\\BHSU\\AppData\\Local\\Programs\\Python\\Python39\\lib\\site-packages\\openfl\\federated\\plan\\plan.py\" target=\"_blank\"><span style=\"color: #7f7f7f; text-decoration-color: #7f7f7f\">plan.py</span></a><span style=\"color: #7f7f7f; text-decoration-color: #7f7f7f\">:</span><a href=\"file://C:\\Users\\BHSU\\AppData\\Local\\Programs\\Python\\Python39\\lib\\site-packages\\openfl\\federated\\plan\\plan.py#171\" target=\"_blank\"><span style=\"color: #7f7f7f; text-decoration-color: #7f7f7f\">171</span></a>\n",
       "</pre>\n"
      ],
      "text/plain": [
       "\u001b[2;36m          \u001b[0m\u001b[2;36m \u001b[0m\u001b[34mINFO    \u001b[0m Building \u001b[31m🡆\u001b[0m Object \u001b[31mNoCompressionPipeline\u001b[0m from \u001b[31mopenfl.pipelines\u001b[0m Module.                                                            \u001b]8;id=751319;file://C:\\Users\\BHSU\\AppData\\Local\\Programs\\Python\\Python39\\lib\\site-packages\\openfl\\federated\\plan\\plan.py\u001b\\\u001b[2mplan.py\u001b[0m\u001b]8;;\u001b\\\u001b[2m:\u001b[0m\u001b]8;id=492006;file://C:\\Users\\BHSU\\AppData\\Local\\Programs\\Python\\Python39\\lib\\site-packages\\openfl\\federated\\plan\\plan.py#171\u001b\\\u001b[2m171\u001b[0m\u001b]8;;\u001b\\\n"
      ]
     },
     "metadata": {},
     "output_type": "display_data"
    },
    {
     "data": {
      "text/html": [
       "<pre style=\"white-space:pre;overflow-x:auto;line-height:normal;font-family:Menlo,'DejaVu Sans Mono',consolas,'Courier New',monospace\"><span style=\"color: #7fbfbf; text-decoration-color: #7fbfbf\">           </span><span style=\"color: #000080; text-decoration-color: #000080\">INFO    </span> Creating Initial Weights File    🠆 save/keras_cnn_mnist_init.pbuf                                                              <a href=\"file://C:\\Users\\BHSU\\AppData\\Local\\Programs\\Python\\Python39\\lib\\site-packages\\openfl\\native\\native.py\" target=\"_blank\"><span style=\"color: #7f7f7f; text-decoration-color: #7f7f7f\">native.py</span></a><span style=\"color: #7f7f7f; text-decoration-color: #7f7f7f\">:</span><a href=\"file://C:\\Users\\BHSU\\AppData\\Local\\Programs\\Python\\Python39\\lib\\site-packages\\openfl\\native\\native.py#277\" target=\"_blank\"><span style=\"color: #7f7f7f; text-decoration-color: #7f7f7f\">277</span></a>\n",
       "</pre>\n"
      ],
      "text/plain": [
       "\u001b[2;36m          \u001b[0m\u001b[2;36m \u001b[0m\u001b[34mINFO    \u001b[0m Creating Initial Weights File    🠆 save/keras_cnn_mnist_init.pbuf                                                              \u001b]8;id=584419;file://C:\\Users\\BHSU\\AppData\\Local\\Programs\\Python\\Python39\\lib\\site-packages\\openfl\\native\\native.py\u001b\\\u001b[2mnative.py\u001b[0m\u001b]8;;\u001b\\\u001b[2m:\u001b[0m\u001b]8;id=133686;file://C:\\Users\\BHSU\\AppData\\Local\\Programs\\Python\\Python39\\lib\\site-packages\\openfl\\native\\native.py#277\u001b\\\u001b[2m277\u001b[0m\u001b]8;;\u001b\\\n"
      ]
     },
     "metadata": {},
     "output_type": "display_data"
    },
    {
     "data": {
      "text/html": [
       "<pre style=\"white-space:pre;overflow-x:auto;line-height:normal;font-family:Menlo,'DejaVu Sans Mono',consolas,'Courier New',monospace\"><span style=\"color: #7fbfbf; text-decoration-color: #7fbfbf\">           </span><span style=\"color: #000080; text-decoration-color: #000080\">INFO    </span> Starting Experiment<span style=\"color: #808000; text-decoration-color: #808000\">...</span>                                                                                                         <a href=\"file://C:\\Users\\BHSU\\AppData\\Local\\Programs\\Python\\Python39\\lib\\site-packages\\openfl\\native\\native.py\" target=\"_blank\"><span style=\"color: #7f7f7f; text-decoration-color: #7f7f7f\">native.py</span></a><span style=\"color: #7f7f7f; text-decoration-color: #7f7f7f\">:</span><a href=\"file://C:\\Users\\BHSU\\AppData\\Local\\Programs\\Python\\Python39\\lib\\site-packages\\openfl\\native\\native.py#281\" target=\"_blank\"><span style=\"color: #7f7f7f; text-decoration-color: #7f7f7f\">281</span></a>\n",
       "</pre>\n"
      ],
      "text/plain": [
       "\u001b[2;36m          \u001b[0m\u001b[2;36m \u001b[0m\u001b[34mINFO    \u001b[0m Starting Experiment\u001b[33m...\u001b[0m                                                                                                         \u001b]8;id=888391;file://C:\\Users\\BHSU\\AppData\\Local\\Programs\\Python\\Python39\\lib\\site-packages\\openfl\\native\\native.py\u001b\\\u001b[2mnative.py\u001b[0m\u001b]8;;\u001b\\\u001b[2m:\u001b[0m\u001b]8;id=55150;file://C:\\Users\\BHSU\\AppData\\Local\\Programs\\Python\\Python39\\lib\\site-packages\\openfl\\native\\native.py#281\u001b\\\u001b[2m281\u001b[0m\u001b]8;;\u001b\\\n"
      ]
     },
     "metadata": {},
     "output_type": "display_data"
    },
    {
     "data": {
      "text/html": [
       "<pre style=\"white-space:pre;overflow-x:auto;line-height:normal;font-family:Menlo,'DejaVu Sans Mono',consolas,'Courier New',monospace\"><span style=\"color: #7fbfbf; text-decoration-color: #7fbfbf\">           </span><span style=\"color: #000080; text-decoration-color: #000080\">INFO    </span> Building <span style=\"color: #800000; text-decoration-color: #800000\">🡆</span> Object <span style=\"color: #800000; text-decoration-color: #800000\">RandomGroupedAssigner</span> from <span style=\"color: #800000; text-decoration-color: #800000\">openfl.component</span> Module.                                                            <a href=\"file://C:\\Users\\BHSU\\AppData\\Local\\Programs\\Python\\Python39\\lib\\site-packages\\openfl\\federated\\plan\\plan.py\" target=\"_blank\"><span style=\"color: #7f7f7f; text-decoration-color: #7f7f7f\">plan.py</span></a><span style=\"color: #7f7f7f; text-decoration-color: #7f7f7f\">:</span><a href=\"file://C:\\Users\\BHSU\\AppData\\Local\\Programs\\Python\\Python39\\lib\\site-packages\\openfl\\federated\\plan\\plan.py#171\" target=\"_blank\"><span style=\"color: #7f7f7f; text-decoration-color: #7f7f7f\">171</span></a>\n",
       "</pre>\n"
      ],
      "text/plain": [
       "\u001b[2;36m          \u001b[0m\u001b[2;36m \u001b[0m\u001b[34mINFO    \u001b[0m Building \u001b[31m🡆\u001b[0m Object \u001b[31mRandomGroupedAssigner\u001b[0m from \u001b[31mopenfl.component\u001b[0m Module.                                                            \u001b]8;id=98038;file://C:\\Users\\BHSU\\AppData\\Local\\Programs\\Python\\Python39\\lib\\site-packages\\openfl\\federated\\plan\\plan.py\u001b\\\u001b[2mplan.py\u001b[0m\u001b]8;;\u001b\\\u001b[2m:\u001b[0m\u001b]8;id=137319;file://C:\\Users\\BHSU\\AppData\\Local\\Programs\\Python\\Python39\\lib\\site-packages\\openfl\\federated\\plan\\plan.py#171\u001b\\\u001b[2m171\u001b[0m\u001b]8;;\u001b\\\n"
      ]
     },
     "metadata": {},
     "output_type": "display_data"
    },
    {
     "data": {
      "text/html": [
       "<pre style=\"white-space:pre;overflow-x:auto;line-height:normal;font-family:Menlo,'DejaVu Sans Mono',consolas,'Courier New',monospace\"><span style=\"color: #7fbfbf; text-decoration-color: #7fbfbf\">           </span><span style=\"color: #000080; text-decoration-color: #000080\">INFO    </span> Building <span style=\"color: #800000; text-decoration-color: #800000\">🡆</span> Object <span style=\"color: #800000; text-decoration-color: #800000\">CutoffTimeBasedStragglerHandling</span> from <span style=\"color: #800000; text-decoration-color: #800000\">openfl.component.straggler_handling_functions</span> Module.                    <a href=\"file://C:\\Users\\BHSU\\AppData\\Local\\Programs\\Python\\Python39\\lib\\site-packages\\openfl\\federated\\plan\\plan.py\" target=\"_blank\"><span style=\"color: #7f7f7f; text-decoration-color: #7f7f7f\">plan.py</span></a><span style=\"color: #7f7f7f; text-decoration-color: #7f7f7f\">:</span><a href=\"file://C:\\Users\\BHSU\\AppData\\Local\\Programs\\Python\\Python39\\lib\\site-packages\\openfl\\federated\\plan\\plan.py#171\" target=\"_blank\"><span style=\"color: #7f7f7f; text-decoration-color: #7f7f7f\">171</span></a>\n",
       "</pre>\n"
      ],
      "text/plain": [
       "\u001b[2;36m          \u001b[0m\u001b[2;36m \u001b[0m\u001b[34mINFO    \u001b[0m Building \u001b[31m🡆\u001b[0m Object \u001b[31mCutoffTimeBasedStragglerHandling\u001b[0m from \u001b[31mopenfl.component.straggler_handling_functions\u001b[0m Module.                    \u001b]8;id=88406;file://C:\\Users\\BHSU\\AppData\\Local\\Programs\\Python\\Python39\\lib\\site-packages\\openfl\\federated\\plan\\plan.py\u001b\\\u001b[2mplan.py\u001b[0m\u001b]8;;\u001b\\\u001b[2m:\u001b[0m\u001b]8;id=442389;file://C:\\Users\\BHSU\\AppData\\Local\\Programs\\Python\\Python39\\lib\\site-packages\\openfl\\federated\\plan\\plan.py#171\u001b\\\u001b[2m171\u001b[0m\u001b]8;;\u001b\\\n"
      ]
     },
     "metadata": {},
     "output_type": "display_data"
    },
    {
     "data": {
      "text/html": [
       "<pre style=\"white-space:pre;overflow-x:auto;line-height:normal;font-family:Menlo,'DejaVu Sans Mono',consolas,'Courier New',monospace\"><span style=\"color: #7fbfbf; text-decoration-color: #7fbfbf\">           </span><span style=\"color: #000080; text-decoration-color: #000080\">INFO    </span> Building <span style=\"color: #800000; text-decoration-color: #800000\">🡆</span> Object <span style=\"color: #800000; text-decoration-color: #800000\">Aggregator</span> from <span style=\"color: #800000; text-decoration-color: #800000\">openfl.component</span> Module.                                                                       <a href=\"file://C:\\Users\\BHSU\\AppData\\Local\\Programs\\Python\\Python39\\lib\\site-packages\\openfl\\federated\\plan\\plan.py\" target=\"_blank\"><span style=\"color: #7f7f7f; text-decoration-color: #7f7f7f\">plan.py</span></a><span style=\"color: #7f7f7f; text-decoration-color: #7f7f7f\">:</span><a href=\"file://C:\\Users\\BHSU\\AppData\\Local\\Programs\\Python\\Python39\\lib\\site-packages\\openfl\\federated\\plan\\plan.py#171\" target=\"_blank\"><span style=\"color: #7f7f7f; text-decoration-color: #7f7f7f\">171</span></a>\n",
       "</pre>\n"
      ],
      "text/plain": [
       "\u001b[2;36m          \u001b[0m\u001b[2;36m \u001b[0m\u001b[34mINFO    \u001b[0m Building \u001b[31m🡆\u001b[0m Object \u001b[31mAggregator\u001b[0m from \u001b[31mopenfl.component\u001b[0m Module.                                                                       \u001b]8;id=999867;file://C:\\Users\\BHSU\\AppData\\Local\\Programs\\Python\\Python39\\lib\\site-packages\\openfl\\federated\\plan\\plan.py\u001b\\\u001b[2mplan.py\u001b[0m\u001b]8;;\u001b\\\u001b[2m:\u001b[0m\u001b]8;id=948295;file://C:\\Users\\BHSU\\AppData\\Local\\Programs\\Python\\Python39\\lib\\site-packages\\openfl\\federated\\plan\\plan.py#171\u001b\\\u001b[2m171\u001b[0m\u001b]8;;\u001b\\\n"
      ]
     },
     "metadata": {},
     "output_type": "display_data"
    },
    {
     "data": {
      "text/html": [
       "<pre style=\"white-space:pre;overflow-x:auto;line-height:normal;font-family:Menlo,'DejaVu Sans Mono',consolas,'Courier New',monospace\"><span style=\"color: #7fbfbf; text-decoration-color: #7fbfbf\">           </span><span style=\"color: #000080; text-decoration-color: #000080\">INFO    </span> Building <span style=\"color: #800000; text-decoration-color: #800000\">🡆</span> Object <span style=\"color: #800000; text-decoration-color: #800000\">Collaborator</span> from <span style=\"color: #800000; text-decoration-color: #800000\">openfl.component</span> Module.                                                                     <a href=\"file://C:\\Users\\BHSU\\AppData\\Local\\Programs\\Python\\Python39\\lib\\site-packages\\openfl\\federated\\plan\\plan.py\" target=\"_blank\"><span style=\"color: #7f7f7f; text-decoration-color: #7f7f7f\">plan.py</span></a><span style=\"color: #7f7f7f; text-decoration-color: #7f7f7f\">:</span><a href=\"file://C:\\Users\\BHSU\\AppData\\Local\\Programs\\Python\\Python39\\lib\\site-packages\\openfl\\federated\\plan\\plan.py#171\" target=\"_blank\"><span style=\"color: #7f7f7f; text-decoration-color: #7f7f7f\">171</span></a>\n",
       "</pre>\n"
      ],
      "text/plain": [
       "\u001b[2;36m          \u001b[0m\u001b[2;36m \u001b[0m\u001b[34mINFO    \u001b[0m Building \u001b[31m🡆\u001b[0m Object \u001b[31mCollaborator\u001b[0m from \u001b[31mopenfl.component\u001b[0m Module.                                                                     \u001b]8;id=223674;file://C:\\Users\\BHSU\\AppData\\Local\\Programs\\Python\\Python39\\lib\\site-packages\\openfl\\federated\\plan\\plan.py\u001b\\\u001b[2mplan.py\u001b[0m\u001b]8;;\u001b\\\u001b[2m:\u001b[0m\u001b]8;id=748354;file://C:\\Users\\BHSU\\AppData\\Local\\Programs\\Python\\Python39\\lib\\site-packages\\openfl\\federated\\plan\\plan.py#171\u001b\\\u001b[2m171\u001b[0m\u001b]8;;\u001b\\\n"
      ]
     },
     "metadata": {},
     "output_type": "display_data"
    },
    {
     "data": {
      "text/html": [
       "<pre style=\"white-space:pre;overflow-x:auto;line-height:normal;font-family:Menlo,'DejaVu Sans Mono',consolas,'Courier New',monospace\"><span style=\"color: #7fbfbf; text-decoration-color: #7fbfbf\">           </span><span style=\"color: #000080; text-decoration-color: #000080\">INFO    </span> Waiting for tasks<span style=\"color: #808000; text-decoration-color: #808000\">...</span>                                                                                                     <a href=\"file://C:\\Users\\BHSU\\AppData\\Local\\Programs\\Python\\Python39\\lib\\site-packages\\openfl\\component\\collaborator\\collaborator.py\" target=\"_blank\"><span style=\"color: #7f7f7f; text-decoration-color: #7f7f7f\">collaborator.py</span></a><span style=\"color: #7f7f7f; text-decoration-color: #7f7f7f\">:</span><a href=\"file://C:\\Users\\BHSU\\AppData\\Local\\Programs\\Python\\Python39\\lib\\site-packages\\openfl\\component\\collaborator\\collaborator.py#178\" target=\"_blank\"><span style=\"color: #7f7f7f; text-decoration-color: #7f7f7f\">178</span></a>\n",
       "</pre>\n"
      ],
      "text/plain": [
       "\u001b[2;36m          \u001b[0m\u001b[2;36m \u001b[0m\u001b[34mINFO    \u001b[0m Waiting for tasks\u001b[33m...\u001b[0m                                                                                                     \u001b]8;id=66812;file://C:\\Users\\BHSU\\AppData\\Local\\Programs\\Python\\Python39\\lib\\site-packages\\openfl\\component\\collaborator\\collaborator.py\u001b\\\u001b[2mcollaborator.py\u001b[0m\u001b]8;;\u001b\\\u001b[2m:\u001b[0m\u001b]8;id=343121;file://C:\\Users\\BHSU\\AppData\\Local\\Programs\\Python\\Python39\\lib\\site-packages\\openfl\\component\\collaborator\\collaborator.py#178\u001b\\\u001b[2m178\u001b[0m\u001b]8;;\u001b\\\n"
      ]
     },
     "metadata": {},
     "output_type": "display_data"
    },
    {
     "data": {
      "text/html": [
       "<pre style=\"white-space:pre;overflow-x:auto;line-height:normal;font-family:Menlo,'DejaVu Sans Mono',consolas,'Courier New',monospace\"><span style=\"color: #7fbfbf; text-decoration-color: #7fbfbf\">           </span><span style=\"color: #000080; text-decoration-color: #000080\">INFO    </span> Sending tasks to collaborator one for round <span style=\"color: #008080; text-decoration-color: #008080; font-weight: bold\">0</span>                                                                              <a href=\"file://C:\\Users\\BHSU\\AppData\\Local\\Programs\\Python\\Python39\\lib\\site-packages\\openfl\\component\\aggregator\\aggregator.py\" target=\"_blank\"><span style=\"color: #7f7f7f; text-decoration-color: #7f7f7f\">aggregator.py</span></a><span style=\"color: #7f7f7f; text-decoration-color: #7f7f7f\">:</span><a href=\"file://C:\\Users\\BHSU\\AppData\\Local\\Programs\\Python\\Python39\\lib\\site-packages\\openfl\\component\\aggregator\\aggregator.py#329\" target=\"_blank\"><span style=\"color: #7f7f7f; text-decoration-color: #7f7f7f\">329</span></a>\n",
       "</pre>\n"
      ],
      "text/plain": [
       "\u001b[2;36m          \u001b[0m\u001b[2;36m \u001b[0m\u001b[34mINFO    \u001b[0m Sending tasks to collaborator one for round \u001b[1;36m0\u001b[0m                                                                              \u001b]8;id=56194;file://C:\\Users\\BHSU\\AppData\\Local\\Programs\\Python\\Python39\\lib\\site-packages\\openfl\\component\\aggregator\\aggregator.py\u001b\\\u001b[2maggregator.py\u001b[0m\u001b]8;;\u001b\\\u001b[2m:\u001b[0m\u001b]8;id=657952;file://C:\\Users\\BHSU\\AppData\\Local\\Programs\\Python\\Python39\\lib\\site-packages\\openfl\\component\\aggregator\\aggregator.py#329\u001b\\\u001b[2m329\u001b[0m\u001b]8;;\u001b\\\n"
      ]
     },
     "metadata": {},
     "output_type": "display_data"
    },
    {
     "data": {
      "text/html": [
       "<pre style=\"white-space:pre;overflow-x:auto;line-height:normal;font-family:Menlo,'DejaVu Sans Mono',consolas,'Courier New',monospace\"><span style=\"color: #7fbfbf; text-decoration-color: #7fbfbf\">           </span><span style=\"color: #000080; text-decoration-color: #000080\">INFO    </span> Received the following tasks: <span style=\"font-weight: bold\">[</span><span style=\"color: #008000; text-decoration-color: #008000\">'aggregated_model_validation'</span>, <span style=\"color: #008000; text-decoration-color: #008000\">'train'</span>, <span style=\"color: #008000; text-decoration-color: #008000\">'locally_tuned_model_validation'</span><span style=\"font-weight: bold\">]</span>                 <a href=\"file://C:\\Users\\BHSU\\AppData\\Local\\Programs\\Python\\Python39\\lib\\site-packages\\openfl\\component\\collaborator\\collaborator.py\" target=\"_blank\"><span style=\"color: #7f7f7f; text-decoration-color: #7f7f7f\">collaborator.py</span></a><span style=\"color: #7f7f7f; text-decoration-color: #7f7f7f\">:</span><a href=\"file://C:\\Users\\BHSU\\AppData\\Local\\Programs\\Python\\Python39\\lib\\site-packages\\openfl\\component\\collaborator\\collaborator.py#168\" target=\"_blank\"><span style=\"color: #7f7f7f; text-decoration-color: #7f7f7f\">168</span></a>\n",
       "</pre>\n"
      ],
      "text/plain": [
       "\u001b[2;36m          \u001b[0m\u001b[2;36m \u001b[0m\u001b[34mINFO    \u001b[0m Received the following tasks: \u001b[1m[\u001b[0m\u001b[32m'aggregated_model_validation'\u001b[0m, \u001b[32m'train'\u001b[0m, \u001b[32m'locally_tuned_model_validation'\u001b[0m\u001b[1m]\u001b[0m                 \u001b]8;id=808317;file://C:\\Users\\BHSU\\AppData\\Local\\Programs\\Python\\Python39\\lib\\site-packages\\openfl\\component\\collaborator\\collaborator.py\u001b\\\u001b[2mcollaborator.py\u001b[0m\u001b]8;;\u001b\\\u001b[2m:\u001b[0m\u001b]8;id=241671;file://C:\\Users\\BHSU\\AppData\\Local\\Programs\\Python\\Python39\\lib\\site-packages\\openfl\\component\\collaborator\\collaborator.py#168\u001b\\\u001b[2m168\u001b[0m\u001b]8;;\u001b\\\n"
      ]
     },
     "metadata": {},
     "output_type": "display_data"
    },
    {
     "data": {
      "text/html": [
       "<pre style=\"white-space:pre;overflow-x:auto;line-height:normal;font-family:Menlo,'DejaVu Sans Mono',consolas,'Courier New',monospace\"><span style=\"color: #7fbfbf; text-decoration-color: #7fbfbf\">           </span><span style=\"color: #000080; text-decoration-color: #000080\">INFO    </span> Using TaskRunner subclassing API                                                                                         <a href=\"file://C:\\Users\\BHSU\\AppData\\Local\\Programs\\Python\\Python39\\lib\\site-packages\\openfl\\component\\collaborator\\collaborator.py\" target=\"_blank\"><span style=\"color: #7f7f7f; text-decoration-color: #7f7f7f\">collaborator.py</span></a><span style=\"color: #7f7f7f; text-decoration-color: #7f7f7f\">:</span><a href=\"file://C:\\Users\\BHSU\\AppData\\Local\\Programs\\Python\\Python39\\lib\\site-packages\\openfl\\component\\collaborator\\collaborator.py#253\" target=\"_blank\"><span style=\"color: #7f7f7f; text-decoration-color: #7f7f7f\">253</span></a>\n",
       "</pre>\n"
      ],
      "text/plain": [
       "\u001b[2;36m          \u001b[0m\u001b[2;36m \u001b[0m\u001b[34mINFO    \u001b[0m Using TaskRunner subclassing API                                                                                         \u001b]8;id=683534;file://C:\\Users\\BHSU\\AppData\\Local\\Programs\\Python\\Python39\\lib\\site-packages\\openfl\\component\\collaborator\\collaborator.py\u001b\\\u001b[2mcollaborator.py\u001b[0m\u001b]8;;\u001b\\\u001b[2m:\u001b[0m\u001b]8;id=808344;file://C:\\Users\\BHSU\\AppData\\Local\\Programs\\Python\\Python39\\lib\\site-packages\\openfl\\component\\collaborator\\collaborator.py#253\u001b\\\u001b[2m253\u001b[0m\u001b]8;;\u001b\\\n"
      ]
     },
     "metadata": {},
     "output_type": "display_data"
    },
    {
     "name": "stdout",
     "output_type": "stream",
     "text": [
      "563/563 [==============================] - 1s 2ms/step - loss: 2.3200 - accuracy: 0.1095\n"
     ]
    },
    {
     "data": {
      "text/html": [
       "<pre style=\"white-space:pre;overflow-x:auto;line-height:normal;font-family:Menlo,'DejaVu Sans Mono',consolas,'Courier New',monospace\"><span style=\"color: #7fbfbf; text-decoration-color: #7fbfbf\">[17:01:49] </span>METRIC   Round <span style=\"color: #008080; text-decoration-color: #008080; font-weight: bold\">0</span>, collaborator one is sending metric for task aggregated_model_validation: accuracy      <span style=\"color: #008080; text-decoration-color: #008080; font-weight: bold\">0.109500</span>                 <a href=\"file://C:\\Users\\BHSU\\AppData\\Local\\Programs\\Python\\Python39\\lib\\site-packages\\openfl\\component\\collaborator\\collaborator.py\" target=\"_blank\"><span style=\"color: #7f7f7f; text-decoration-color: #7f7f7f\">collaborator.py</span></a><span style=\"color: #7f7f7f; text-decoration-color: #7f7f7f\">:</span><a href=\"file://C:\\Users\\BHSU\\AppData\\Local\\Programs\\Python\\Python39\\lib\\site-packages\\openfl\\component\\collaborator\\collaborator.py#415\" target=\"_blank\"><span style=\"color: #7f7f7f; text-decoration-color: #7f7f7f\">415</span></a>\n",
       "</pre>\n"
      ],
      "text/plain": [
       "\u001b[2;36m[17:01:49]\u001b[0m\u001b[2;36m \u001b[0mMETRIC   Round \u001b[1;36m0\u001b[0m, collaborator one is sending metric for task aggregated_model_validation: accuracy      \u001b[1;36m0.109500\u001b[0m                 \u001b]8;id=87497;file://C:\\Users\\BHSU\\AppData\\Local\\Programs\\Python\\Python39\\lib\\site-packages\\openfl\\component\\collaborator\\collaborator.py\u001b\\\u001b[2mcollaborator.py\u001b[0m\u001b]8;;\u001b\\\u001b[2m:\u001b[0m\u001b]8;id=433720;file://C:\\Users\\BHSU\\AppData\\Local\\Programs\\Python\\Python39\\lib\\site-packages\\openfl\\component\\collaborator\\collaborator.py#415\u001b\\\u001b[2m415\u001b[0m\u001b]8;;\u001b\\\n"
      ]
     },
     "metadata": {},
     "output_type": "display_data"
    },
    {
     "data": {
      "text/html": [
       "<pre style=\"white-space:pre;overflow-x:auto;line-height:normal;font-family:Menlo,'DejaVu Sans Mono',consolas,'Courier New',monospace\"><span style=\"color: #7fbfbf; text-decoration-color: #7fbfbf\">           </span><span style=\"color: #000080; text-decoration-color: #000080\">INFO    </span> Collaborator one is sending task results for aggregated_model_validation, round <span style=\"color: #008080; text-decoration-color: #008080; font-weight: bold\">0</span>                                          <a href=\"file://C:\\Users\\BHSU\\AppData\\Local\\Programs\\Python\\Python39\\lib\\site-packages\\openfl\\component\\aggregator\\aggregator.py\" target=\"_blank\"><span style=\"color: #7f7f7f; text-decoration-color: #7f7f7f\">aggregator.py</span></a><span style=\"color: #7f7f7f; text-decoration-color: #7f7f7f\">:</span><a href=\"file://C:\\Users\\BHSU\\AppData\\Local\\Programs\\Python\\Python39\\lib\\site-packages\\openfl\\component\\aggregator\\aggregator.py#520\" target=\"_blank\"><span style=\"color: #7f7f7f; text-decoration-color: #7f7f7f\">520</span></a>\n",
       "</pre>\n"
      ],
      "text/plain": [
       "\u001b[2;36m          \u001b[0m\u001b[2;36m \u001b[0m\u001b[34mINFO    \u001b[0m Collaborator one is sending task results for aggregated_model_validation, round \u001b[1;36m0\u001b[0m                                          \u001b]8;id=789137;file://C:\\Users\\BHSU\\AppData\\Local\\Programs\\Python\\Python39\\lib\\site-packages\\openfl\\component\\aggregator\\aggregator.py\u001b\\\u001b[2maggregator.py\u001b[0m\u001b]8;;\u001b\\\u001b[2m:\u001b[0m\u001b]8;id=880824;file://C:\\Users\\BHSU\\AppData\\Local\\Programs\\Python\\Python39\\lib\\site-packages\\openfl\\component\\aggregator\\aggregator.py#520\u001b\\\u001b[2m520\u001b[0m\u001b]8;;\u001b\\\n"
      ]
     },
     "metadata": {},
     "output_type": "display_data"
    },
    {
     "data": {
      "text/html": [
       "<pre style=\"white-space:pre;overflow-x:auto;line-height:normal;font-family:Menlo,'DejaVu Sans Mono',consolas,'Courier New',monospace\"><span style=\"color: #7fbfbf; text-decoration-color: #7fbfbf\">           </span>METRIC   Round <span style=\"color: #008080; text-decoration-color: #008080; font-weight: bold\">0</span>, collaborator validate_agg aggregated_model_validation result accuracy: <span style=\"color: #008080; text-decoration-color: #008080; font-weight: bold\">0.109500</span>                                   <a href=\"file://C:\\Users\\BHSU\\AppData\\Local\\Programs\\Python\\Python39\\lib\\site-packages\\openfl\\component\\aggregator\\aggregator.py\" target=\"_blank\"><span style=\"color: #7f7f7f; text-decoration-color: #7f7f7f\">aggregator.py</span></a><span style=\"color: #7f7f7f; text-decoration-color: #7f7f7f\">:</span><a href=\"file://C:\\Users\\BHSU\\AppData\\Local\\Programs\\Python\\Python39\\lib\\site-packages\\openfl\\component\\aggregator\\aggregator.py#559\" target=\"_blank\"><span style=\"color: #7f7f7f; text-decoration-color: #7f7f7f\">559</span></a>\n",
       "</pre>\n"
      ],
      "text/plain": [
       "\u001b[2;36m          \u001b[0m\u001b[2;36m \u001b[0mMETRIC   Round \u001b[1;36m0\u001b[0m, collaborator validate_agg aggregated_model_validation result accuracy: \u001b[1;36m0.109500\u001b[0m                                   \u001b]8;id=960745;file://C:\\Users\\BHSU\\AppData\\Local\\Programs\\Python\\Python39\\lib\\site-packages\\openfl\\component\\aggregator\\aggregator.py\u001b\\\u001b[2maggregator.py\u001b[0m\u001b]8;;\u001b\\\u001b[2m:\u001b[0m\u001b]8;id=733250;file://C:\\Users\\BHSU\\AppData\\Local\\Programs\\Python\\Python39\\lib\\site-packages\\openfl\\component\\aggregator\\aggregator.py#559\u001b\\\u001b[2m559\u001b[0m\u001b]8;;\u001b\\\n"
      ]
     },
     "metadata": {},
     "output_type": "display_data"
    },
    {
     "data": {
      "text/html": [
       "<pre style=\"white-space:pre;overflow-x:auto;line-height:normal;font-family:Menlo,'DejaVu Sans Mono',consolas,'Courier New',monospace\"><span style=\"color: #7fbfbf; text-decoration-color: #7fbfbf\">           </span><span style=\"color: #000080; text-decoration-color: #000080\">INFO    </span> Using TaskRunner subclassing API                                                                                         <a href=\"file://C:\\Users\\BHSU\\AppData\\Local\\Programs\\Python\\Python39\\lib\\site-packages\\openfl\\component\\collaborator\\collaborator.py\" target=\"_blank\"><span style=\"color: #7f7f7f; text-decoration-color: #7f7f7f\">collaborator.py</span></a><span style=\"color: #7f7f7f; text-decoration-color: #7f7f7f\">:</span><a href=\"file://C:\\Users\\BHSU\\AppData\\Local\\Programs\\Python\\Python39\\lib\\site-packages\\openfl\\component\\collaborator\\collaborator.py#253\" target=\"_blank\"><span style=\"color: #7f7f7f; text-decoration-color: #7f7f7f\">253</span></a>\n",
       "</pre>\n"
      ],
      "text/plain": [
       "\u001b[2;36m          \u001b[0m\u001b[2;36m \u001b[0m\u001b[34mINFO    \u001b[0m Using TaskRunner subclassing API                                                                                         \u001b]8;id=144509;file://C:\\Users\\BHSU\\AppData\\Local\\Programs\\Python\\Python39\\lib\\site-packages\\openfl\\component\\collaborator\\collaborator.py\u001b\\\u001b[2mcollaborator.py\u001b[0m\u001b]8;;\u001b\\\u001b[2m:\u001b[0m\u001b]8;id=614591;file://C:\\Users\\BHSU\\AppData\\Local\\Programs\\Python\\Python39\\lib\\site-packages\\openfl\\component\\collaborator\\collaborator.py#253\u001b\\\u001b[2m253\u001b[0m\u001b]8;;\u001b\\\n"
      ]
     },
     "metadata": {},
     "output_type": "display_data"
    },
    {
     "data": {
      "text/html": [
       "<pre style=\"white-space:pre;overflow-x:auto;line-height:normal;font-family:Menlo,'DejaVu Sans Mono',consolas,'Courier New',monospace\"><span style=\"color: #7fbfbf; text-decoration-color: #7fbfbf\">           </span><span style=\"color: #000080; text-decoration-color: #000080\">INFO    </span> Run <span style=\"color: #008080; text-decoration-color: #008080; font-weight: bold\">0</span> epoch of <span style=\"color: #008080; text-decoration-color: #008080; font-weight: bold\">0</span> round                                                                                                    <a href=\"file://C:\\Users\\BHSU\\AppData\\Local\\Programs\\Python\\Python39\\lib\\site-packages\\openfl\\federated\\task\\runner_keras.py\" target=\"_blank\"><span style=\"color: #7f7f7f; text-decoration-color: #7f7f7f\">runner_keras.py</span></a><span style=\"color: #7f7f7f; text-decoration-color: #7f7f7f\">:</span><a href=\"file://C:\\Users\\BHSU\\AppData\\Local\\Programs\\Python\\Python39\\lib\\site-packages\\openfl\\federated\\task\\runner_keras.py#83\" target=\"_blank\"><span style=\"color: #7f7f7f; text-decoration-color: #7f7f7f\">83</span></a>\n",
       "</pre>\n"
      ],
      "text/plain": [
       "\u001b[2;36m          \u001b[0m\u001b[2;36m \u001b[0m\u001b[34mINFO    \u001b[0m Run \u001b[1;36m0\u001b[0m epoch of \u001b[1;36m0\u001b[0m round                                                                                                    \u001b]8;id=879684;file://C:\\Users\\BHSU\\AppData\\Local\\Programs\\Python\\Python39\\lib\\site-packages\\openfl\\federated\\task\\runner_keras.py\u001b\\\u001b[2mrunner_keras.py\u001b[0m\u001b]8;;\u001b\\\u001b[2m:\u001b[0m\u001b]8;id=953514;file://C:\\Users\\BHSU\\AppData\\Local\\Programs\\Python\\Python39\\lib\\site-packages\\openfl\\federated\\task\\runner_keras.py#83\u001b\\\u001b[2m83\u001b[0m\u001b]8;;\u001b\\\n"
      ]
     },
     "metadata": {},
     "output_type": "display_data"
    },
    {
     "name": "stdout",
     "output_type": "stream",
     "text": [
      "1313/1313 [==============================] - 1s 634us/step - loss: 0.4094 - accuracy: 0.8783\n"
     ]
    },
    {
     "data": {
      "text/html": [
       "<pre style=\"white-space:pre;overflow-x:auto;line-height:normal;font-family:Menlo,'DejaVu Sans Mono',consolas,'Courier New',monospace\"><span style=\"color: #7fbfbf; text-decoration-color: #7fbfbf\">[17:01:50] </span>METRIC   Round <span style=\"color: #008080; text-decoration-color: #008080; font-weight: bold\">0</span>, collaborator one is sending metric for task train: loss        <span style=\"color: #008080; text-decoration-color: #008080; font-weight: bold\">0.409448</span>                                         <a href=\"file://C:\\Users\\BHSU\\AppData\\Local\\Programs\\Python\\Python39\\lib\\site-packages\\openfl\\component\\collaborator\\collaborator.py\" target=\"_blank\"><span style=\"color: #7f7f7f; text-decoration-color: #7f7f7f\">collaborator.py</span></a><span style=\"color: #7f7f7f; text-decoration-color: #7f7f7f\">:</span><a href=\"file://C:\\Users\\BHSU\\AppData\\Local\\Programs\\Python\\Python39\\lib\\site-packages\\openfl\\component\\collaborator\\collaborator.py#415\" target=\"_blank\"><span style=\"color: #7f7f7f; text-decoration-color: #7f7f7f\">415</span></a>\n",
       "</pre>\n"
      ],
      "text/plain": [
       "\u001b[2;36m[17:01:50]\u001b[0m\u001b[2;36m \u001b[0mMETRIC   Round \u001b[1;36m0\u001b[0m, collaborator one is sending metric for task train: loss        \u001b[1;36m0.409448\u001b[0m                                         \u001b]8;id=497650;file://C:\\Users\\BHSU\\AppData\\Local\\Programs\\Python\\Python39\\lib\\site-packages\\openfl\\component\\collaborator\\collaborator.py\u001b\\\u001b[2mcollaborator.py\u001b[0m\u001b]8;;\u001b\\\u001b[2m:\u001b[0m\u001b]8;id=938455;file://C:\\Users\\BHSU\\AppData\\Local\\Programs\\Python\\Python39\\lib\\site-packages\\openfl\\component\\collaborator\\collaborator.py#415\u001b\\\u001b[2m415\u001b[0m\u001b]8;;\u001b\\\n"
      ]
     },
     "metadata": {},
     "output_type": "display_data"
    },
    {
     "data": {
      "text/html": [
       "<pre style=\"white-space:pre;overflow-x:auto;line-height:normal;font-family:Menlo,'DejaVu Sans Mono',consolas,'Courier New',monospace\"><span style=\"color: #7fbfbf; text-decoration-color: #7fbfbf\">           </span><span style=\"color: #000080; text-decoration-color: #000080\">INFO    </span> Collaborator one is sending task results for train, round <span style=\"color: #008080; text-decoration-color: #008080; font-weight: bold\">0</span>                                                                <a href=\"file://C:\\Users\\BHSU\\AppData\\Local\\Programs\\Python\\Python39\\lib\\site-packages\\openfl\\component\\aggregator\\aggregator.py\" target=\"_blank\"><span style=\"color: #7f7f7f; text-decoration-color: #7f7f7f\">aggregator.py</span></a><span style=\"color: #7f7f7f; text-decoration-color: #7f7f7f\">:</span><a href=\"file://C:\\Users\\BHSU\\AppData\\Local\\Programs\\Python\\Python39\\lib\\site-packages\\openfl\\component\\aggregator\\aggregator.py#520\" target=\"_blank\"><span style=\"color: #7f7f7f; text-decoration-color: #7f7f7f\">520</span></a>\n",
       "</pre>\n"
      ],
      "text/plain": [
       "\u001b[2;36m          \u001b[0m\u001b[2;36m \u001b[0m\u001b[34mINFO    \u001b[0m Collaborator one is sending task results for train, round \u001b[1;36m0\u001b[0m                                                                \u001b]8;id=45967;file://C:\\Users\\BHSU\\AppData\\Local\\Programs\\Python\\Python39\\lib\\site-packages\\openfl\\component\\aggregator\\aggregator.py\u001b\\\u001b[2maggregator.py\u001b[0m\u001b]8;;\u001b\\\u001b[2m:\u001b[0m\u001b]8;id=494311;file://C:\\Users\\BHSU\\AppData\\Local\\Programs\\Python\\Python39\\lib\\site-packages\\openfl\\component\\aggregator\\aggregator.py#520\u001b\\\u001b[2m520\u001b[0m\u001b]8;;\u001b\\\n"
      ]
     },
     "metadata": {},
     "output_type": "display_data"
    },
    {
     "data": {
      "text/html": [
       "<pre style=\"white-space:pre;overflow-x:auto;line-height:normal;font-family:Menlo,'DejaVu Sans Mono',consolas,'Courier New',monospace\"><span style=\"color: #7fbfbf; text-decoration-color: #7fbfbf\">           </span>METRIC   Round <span style=\"color: #008080; text-decoration-color: #008080; font-weight: bold\">0</span>, collaborator one train result loss:    <span style=\"color: #008080; text-decoration-color: #008080; font-weight: bold\">0.409448</span>                                                                   <a href=\"file://C:\\Users\\BHSU\\AppData\\Local\\Programs\\Python\\Python39\\lib\\site-packages\\openfl\\component\\aggregator\\aggregator.py\" target=\"_blank\"><span style=\"color: #7f7f7f; text-decoration-color: #7f7f7f\">aggregator.py</span></a><span style=\"color: #7f7f7f; text-decoration-color: #7f7f7f\">:</span><a href=\"file://C:\\Users\\BHSU\\AppData\\Local\\Programs\\Python\\Python39\\lib\\site-packages\\openfl\\component\\aggregator\\aggregator.py#559\" target=\"_blank\"><span style=\"color: #7f7f7f; text-decoration-color: #7f7f7f\">559</span></a>\n",
       "</pre>\n"
      ],
      "text/plain": [
       "\u001b[2;36m          \u001b[0m\u001b[2;36m \u001b[0mMETRIC   Round \u001b[1;36m0\u001b[0m, collaborator one train result loss:    \u001b[1;36m0.409448\u001b[0m                                                                   \u001b]8;id=866140;file://C:\\Users\\BHSU\\AppData\\Local\\Programs\\Python\\Python39\\lib\\site-packages\\openfl\\component\\aggregator\\aggregator.py\u001b\\\u001b[2maggregator.py\u001b[0m\u001b]8;;\u001b\\\u001b[2m:\u001b[0m\u001b]8;id=543761;file://C:\\Users\\BHSU\\AppData\\Local\\Programs\\Python\\Python39\\lib\\site-packages\\openfl\\component\\aggregator\\aggregator.py#559\u001b\\\u001b[2m559\u001b[0m\u001b]8;;\u001b\\\n"
      ]
     },
     "metadata": {},
     "output_type": "display_data"
    },
    {
     "data": {
      "text/html": [
       "<pre style=\"white-space:pre;overflow-x:auto;line-height:normal;font-family:Menlo,'DejaVu Sans Mono',consolas,'Courier New',monospace\"><span style=\"color: #7fbfbf; text-decoration-color: #7fbfbf\">           </span><span style=\"color: #000080; text-decoration-color: #000080\">INFO    </span> Using TaskRunner subclassing API                                                                                         <a href=\"file://C:\\Users\\BHSU\\AppData\\Local\\Programs\\Python\\Python39\\lib\\site-packages\\openfl\\component\\collaborator\\collaborator.py\" target=\"_blank\"><span style=\"color: #7f7f7f; text-decoration-color: #7f7f7f\">collaborator.py</span></a><span style=\"color: #7f7f7f; text-decoration-color: #7f7f7f\">:</span><a href=\"file://C:\\Users\\BHSU\\AppData\\Local\\Programs\\Python\\Python39\\lib\\site-packages\\openfl\\component\\collaborator\\collaborator.py#253\" target=\"_blank\"><span style=\"color: #7f7f7f; text-decoration-color: #7f7f7f\">253</span></a>\n",
       "</pre>\n"
      ],
      "text/plain": [
       "\u001b[2;36m          \u001b[0m\u001b[2;36m \u001b[0m\u001b[34mINFO    \u001b[0m Using TaskRunner subclassing API                                                                                         \u001b]8;id=278323;file://C:\\Users\\BHSU\\AppData\\Local\\Programs\\Python\\Python39\\lib\\site-packages\\openfl\\component\\collaborator\\collaborator.py\u001b\\\u001b[2mcollaborator.py\u001b[0m\u001b]8;;\u001b\\\u001b[2m:\u001b[0m\u001b]8;id=716163;file://C:\\Users\\BHSU\\AppData\\Local\\Programs\\Python\\Python39\\lib\\site-packages\\openfl\\component\\collaborator\\collaborator.py#253\u001b\\\u001b[2m253\u001b[0m\u001b]8;;\u001b\\\n"
      ]
     },
     "metadata": {},
     "output_type": "display_data"
    },
    {
     "name": "stdout",
     "output_type": "stream",
     "text": [
      "563/563 [==============================] - 0s 528us/step - loss: 0.2498 - accuracy: 0.9255\n"
     ]
    },
    {
     "data": {
      "text/html": [
       "<pre style=\"white-space:pre;overflow-x:auto;line-height:normal;font-family:Menlo,'DejaVu Sans Mono',consolas,'Courier New',monospace\"><span style=\"color: #7fbfbf; text-decoration-color: #7fbfbf\">[17:01:51] </span>METRIC   Round <span style=\"color: #008080; text-decoration-color: #008080; font-weight: bold\">0</span>, collaborator one is sending metric for task locally_tuned_model_validation: accuracy   <span style=\"color: #008080; text-decoration-color: #008080; font-weight: bold\">0.925500</span>                 <a href=\"file://C:\\Users\\BHSU\\AppData\\Local\\Programs\\Python\\Python39\\lib\\site-packages\\openfl\\component\\collaborator\\collaborator.py\" target=\"_blank\"><span style=\"color: #7f7f7f; text-decoration-color: #7f7f7f\">collaborator.py</span></a><span style=\"color: #7f7f7f; text-decoration-color: #7f7f7f\">:</span><a href=\"file://C:\\Users\\BHSU\\AppData\\Local\\Programs\\Python\\Python39\\lib\\site-packages\\openfl\\component\\collaborator\\collaborator.py#415\" target=\"_blank\"><span style=\"color: #7f7f7f; text-decoration-color: #7f7f7f\">415</span></a>\n",
       "</pre>\n"
      ],
      "text/plain": [
       "\u001b[2;36m[17:01:51]\u001b[0m\u001b[2;36m \u001b[0mMETRIC   Round \u001b[1;36m0\u001b[0m, collaborator one is sending metric for task locally_tuned_model_validation: accuracy   \u001b[1;36m0.925500\u001b[0m                 \u001b]8;id=844081;file://C:\\Users\\BHSU\\AppData\\Local\\Programs\\Python\\Python39\\lib\\site-packages\\openfl\\component\\collaborator\\collaborator.py\u001b\\\u001b[2mcollaborator.py\u001b[0m\u001b]8;;\u001b\\\u001b[2m:\u001b[0m\u001b]8;id=40696;file://C:\\Users\\BHSU\\AppData\\Local\\Programs\\Python\\Python39\\lib\\site-packages\\openfl\\component\\collaborator\\collaborator.py#415\u001b\\\u001b[2m415\u001b[0m\u001b]8;;\u001b\\\n"
      ]
     },
     "metadata": {},
     "output_type": "display_data"
    },
    {
     "data": {
      "text/html": [
       "<pre style=\"white-space:pre;overflow-x:auto;line-height:normal;font-family:Menlo,'DejaVu Sans Mono',consolas,'Courier New',monospace\"><span style=\"color: #7fbfbf; text-decoration-color: #7fbfbf\">           </span><span style=\"color: #000080; text-decoration-color: #000080\">INFO    </span> Collaborator one is sending task results for locally_tuned_model_validation, round <span style=\"color: #008080; text-decoration-color: #008080; font-weight: bold\">0</span>                                       <a href=\"file://C:\\Users\\BHSU\\AppData\\Local\\Programs\\Python\\Python39\\lib\\site-packages\\openfl\\component\\aggregator\\aggregator.py\" target=\"_blank\"><span style=\"color: #7f7f7f; text-decoration-color: #7f7f7f\">aggregator.py</span></a><span style=\"color: #7f7f7f; text-decoration-color: #7f7f7f\">:</span><a href=\"file://C:\\Users\\BHSU\\AppData\\Local\\Programs\\Python\\Python39\\lib\\site-packages\\openfl\\component\\aggregator\\aggregator.py#520\" target=\"_blank\"><span style=\"color: #7f7f7f; text-decoration-color: #7f7f7f\">520</span></a>\n",
       "</pre>\n"
      ],
      "text/plain": [
       "\u001b[2;36m          \u001b[0m\u001b[2;36m \u001b[0m\u001b[34mINFO    \u001b[0m Collaborator one is sending task results for locally_tuned_model_validation, round \u001b[1;36m0\u001b[0m                                       \u001b]8;id=168422;file://C:\\Users\\BHSU\\AppData\\Local\\Programs\\Python\\Python39\\lib\\site-packages\\openfl\\component\\aggregator\\aggregator.py\u001b\\\u001b[2maggregator.py\u001b[0m\u001b]8;;\u001b\\\u001b[2m:\u001b[0m\u001b]8;id=442539;file://C:\\Users\\BHSU\\AppData\\Local\\Programs\\Python\\Python39\\lib\\site-packages\\openfl\\component\\aggregator\\aggregator.py#520\u001b\\\u001b[2m520\u001b[0m\u001b]8;;\u001b\\\n"
      ]
     },
     "metadata": {},
     "output_type": "display_data"
    },
    {
     "data": {
      "text/html": [
       "<pre style=\"white-space:pre;overflow-x:auto;line-height:normal;font-family:Menlo,'DejaVu Sans Mono',consolas,'Courier New',monospace\"><span style=\"color: #7fbfbf; text-decoration-color: #7fbfbf\">           </span>METRIC   Round <span style=\"color: #008080; text-decoration-color: #008080; font-weight: bold\">0</span>, collaborator validate_local locally_tuned_model_validation result accuracy:    <span style=\"color: #008080; text-decoration-color: #008080; font-weight: bold\">0.925500</span>                           <a href=\"file://C:\\Users\\BHSU\\AppData\\Local\\Programs\\Python\\Python39\\lib\\site-packages\\openfl\\component\\aggregator\\aggregator.py\" target=\"_blank\"><span style=\"color: #7f7f7f; text-decoration-color: #7f7f7f\">aggregator.py</span></a><span style=\"color: #7f7f7f; text-decoration-color: #7f7f7f\">:</span><a href=\"file://C:\\Users\\BHSU\\AppData\\Local\\Programs\\Python\\Python39\\lib\\site-packages\\openfl\\component\\aggregator\\aggregator.py#559\" target=\"_blank\"><span style=\"color: #7f7f7f; text-decoration-color: #7f7f7f\">559</span></a>\n",
       "</pre>\n"
      ],
      "text/plain": [
       "\u001b[2;36m          \u001b[0m\u001b[2;36m \u001b[0mMETRIC   Round \u001b[1;36m0\u001b[0m, collaborator validate_local locally_tuned_model_validation result accuracy:    \u001b[1;36m0.925500\u001b[0m                           \u001b]8;id=512105;file://C:\\Users\\BHSU\\AppData\\Local\\Programs\\Python\\Python39\\lib\\site-packages\\openfl\\component\\aggregator\\aggregator.py\u001b\\\u001b[2maggregator.py\u001b[0m\u001b]8;;\u001b\\\u001b[2m:\u001b[0m\u001b]8;id=364421;file://C:\\Users\\BHSU\\AppData\\Local\\Programs\\Python\\Python39\\lib\\site-packages\\openfl\\component\\aggregator\\aggregator.py#559\u001b\\\u001b[2m559\u001b[0m\u001b]8;;\u001b\\\n"
      ]
     },
     "metadata": {},
     "output_type": "display_data"
    },
    {
     "data": {
      "text/html": [
       "<pre style=\"white-space:pre;overflow-x:auto;line-height:normal;font-family:Menlo,'DejaVu Sans Mono',consolas,'Courier New',monospace\"><span style=\"color: #7fbfbf; text-decoration-color: #7fbfbf\">           </span>METRIC   Round <span style=\"color: #008080; text-decoration-color: #008080; font-weight: bold\">0</span>, aggregator: locally_tuned_model_validation                                                                        <a href=\"file://C:\\Users\\BHSU\\AppData\\Local\\Programs\\Python\\Python39\\lib\\site-packages\\openfl\\component\\aggregator\\aggregator.py\" target=\"_blank\"><span style=\"color: #7f7f7f; text-decoration-color: #7f7f7f\">aggregator.py</span></a><span style=\"color: #7f7f7f; text-decoration-color: #7f7f7f\">:</span><a href=\"file://C:\\Users\\BHSU\\AppData\\Local\\Programs\\Python\\Python39\\lib\\site-packages\\openfl\\component\\aggregator\\aggregator.py#842\" target=\"_blank\"><span style=\"color: #7f7f7f; text-decoration-color: #7f7f7f\">842</span></a>\n",
       "<span style=\"color: #7fbfbf; text-decoration-color: #7fbfbf\">           </span>         <span style=\"font-weight: bold\">&lt;</span><span style=\"color: #ff00ff; text-decoration-color: #ff00ff; font-weight: bold\">openfl.interface.aggregation_functions.weighted_average.WeightedAverage</span><span style=\"color: #000000; text-decoration-color: #000000\"> object at </span><span style=\"color: #008080; text-decoration-color: #008080; font-weight: bold\">0x00000137CCF13D90</span><span style=\"font-weight: bold\">&gt;</span> accuracy:           <span style=\"color: #7f7f7f; text-decoration-color: #7f7f7f\">                 </span>\n",
       "<span style=\"color: #7fbfbf; text-decoration-color: #7fbfbf\">           </span>         <span style=\"color: #008080; text-decoration-color: #008080; font-weight: bold\">0.925500</span>                                                                                                                   <span style=\"color: #7f7f7f; text-decoration-color: #7f7f7f\">                 </span>\n",
       "</pre>\n"
      ],
      "text/plain": [
       "\u001b[2;36m          \u001b[0m\u001b[2;36m \u001b[0mMETRIC   Round \u001b[1;36m0\u001b[0m, aggregator: locally_tuned_model_validation                                                                        \u001b]8;id=831224;file://C:\\Users\\BHSU\\AppData\\Local\\Programs\\Python\\Python39\\lib\\site-packages\\openfl\\component\\aggregator\\aggregator.py\u001b\\\u001b[2maggregator.py\u001b[0m\u001b]8;;\u001b\\\u001b[2m:\u001b[0m\u001b]8;id=70982;file://C:\\Users\\BHSU\\AppData\\Local\\Programs\\Python\\Python39\\lib\\site-packages\\openfl\\component\\aggregator\\aggregator.py#842\u001b\\\u001b[2m842\u001b[0m\u001b]8;;\u001b\\\n",
       "\u001b[2;36m           \u001b[0m         \u001b[1m<\u001b[0m\u001b[1;95mopenfl.interface.aggregation_functions.weighted_average.WeightedAverage\u001b[0m\u001b[39m object at \u001b[0m\u001b[1;36m0x00000137CCF13D90\u001b[0m\u001b[1m>\u001b[0m accuracy:           \u001b[2m                 \u001b[0m\n",
       "\u001b[2;36m           \u001b[0m         \u001b[1;36m0.925500\u001b[0m                                                                                                                   \u001b[2m                 \u001b[0m\n"
      ]
     },
     "metadata": {},
     "output_type": "display_data"
    },
    {
     "data": {
      "text/html": [
       "<pre style=\"white-space:pre;overflow-x:auto;line-height:normal;font-family:Menlo,'DejaVu Sans Mono',consolas,'Courier New',monospace\"><span style=\"color: #7fbfbf; text-decoration-color: #7fbfbf\">           </span>METRIC   Round <span style=\"color: #008080; text-decoration-color: #008080; font-weight: bold\">0</span>, aggregator: train <span style=\"font-weight: bold\">&lt;</span><span style=\"color: #ff00ff; text-decoration-color: #ff00ff; font-weight: bold\">openfl.interface.aggregation_functions.weighted_average.WeightedAverage</span><span style=\"color: #000000; text-decoration-color: #000000\"> object at </span>             <a href=\"file://C:\\Users\\BHSU\\AppData\\Local\\Programs\\Python\\Python39\\lib\\site-packages\\openfl\\component\\aggregator\\aggregator.py\" target=\"_blank\"><span style=\"color: #7f7f7f; text-decoration-color: #7f7f7f\">aggregator.py</span></a><span style=\"color: #7f7f7f; text-decoration-color: #7f7f7f\">:</span><a href=\"file://C:\\Users\\BHSU\\AppData\\Local\\Programs\\Python\\Python39\\lib\\site-packages\\openfl\\component\\aggregator\\aggregator.py#842\" target=\"_blank\"><span style=\"color: #7f7f7f; text-decoration-color: #7f7f7f\">842</span></a>\n",
       "<span style=\"color: #7fbfbf; text-decoration-color: #7fbfbf\">           </span>         <span style=\"color: #008080; text-decoration-color: #008080; font-weight: bold\">0x00000137CCF13D90</span><span style=\"font-weight: bold\">&gt;</span> loss: <span style=\"color: #008080; text-decoration-color: #008080; font-weight: bold\">0.409448</span>                                                                                         <span style=\"color: #7f7f7f; text-decoration-color: #7f7f7f\">                 </span>\n",
       "</pre>\n"
      ],
      "text/plain": [
       "\u001b[2;36m          \u001b[0m\u001b[2;36m \u001b[0mMETRIC   Round \u001b[1;36m0\u001b[0m, aggregator: train \u001b[1m<\u001b[0m\u001b[1;95mopenfl.interface.aggregation_functions.weighted_average.WeightedAverage\u001b[0m\u001b[39m object at \u001b[0m             \u001b]8;id=793990;file://C:\\Users\\BHSU\\AppData\\Local\\Programs\\Python\\Python39\\lib\\site-packages\\openfl\\component\\aggregator\\aggregator.py\u001b\\\u001b[2maggregator.py\u001b[0m\u001b]8;;\u001b\\\u001b[2m:\u001b[0m\u001b]8;id=168700;file://C:\\Users\\BHSU\\AppData\\Local\\Programs\\Python\\Python39\\lib\\site-packages\\openfl\\component\\aggregator\\aggregator.py#842\u001b\\\u001b[2m842\u001b[0m\u001b]8;;\u001b\\\n",
       "\u001b[2;36m           \u001b[0m         \u001b[1;36m0x00000137CCF13D90\u001b[0m\u001b[1m>\u001b[0m loss: \u001b[1;36m0.409448\u001b[0m                                                                                         \u001b[2m                 \u001b[0m\n"
      ]
     },
     "metadata": {},
     "output_type": "display_data"
    },
    {
     "data": {
      "text/html": [
       "<pre style=\"white-space:pre;overflow-x:auto;line-height:normal;font-family:Menlo,'DejaVu Sans Mono',consolas,'Courier New',monospace\"><span style=\"color: #7fbfbf; text-decoration-color: #7fbfbf\">           </span>METRIC   Round <span style=\"color: #008080; text-decoration-color: #008080; font-weight: bold\">0</span>, aggregator: aggregated_model_validation <span style=\"font-weight: bold\">&lt;</span><span style=\"color: #ff00ff; text-decoration-color: #ff00ff; font-weight: bold\">openfl.interface.aggregation_functions.weighted_average.WeightedAverage</span><span style=\"color: #000000; text-decoration-color: #000000\"> </span> <a href=\"file://C:\\Users\\BHSU\\AppData\\Local\\Programs\\Python\\Python39\\lib\\site-packages\\openfl\\component\\aggregator\\aggregator.py\" target=\"_blank\"><span style=\"color: #7f7f7f; text-decoration-color: #7f7f7f\">aggregator.py</span></a><span style=\"color: #7f7f7f; text-decoration-color: #7f7f7f\">:</span><a href=\"file://C:\\Users\\BHSU\\AppData\\Local\\Programs\\Python\\Python39\\lib\\site-packages\\openfl\\component\\aggregator\\aggregator.py#842\" target=\"_blank\"><span style=\"color: #7f7f7f; text-decoration-color: #7f7f7f\">842</span></a>\n",
       "<span style=\"color: #7fbfbf; text-decoration-color: #7fbfbf\">           </span>         <span style=\"color: #000000; text-decoration-color: #000000\">object at </span><span style=\"color: #008080; text-decoration-color: #008080; font-weight: bold\">0x00000137CCF13D90</span><span style=\"font-weight: bold\">&gt;</span> accuracy:       <span style=\"color: #008080; text-decoration-color: #008080; font-weight: bold\">0.109500</span>                                                                     <span style=\"color: #7f7f7f; text-decoration-color: #7f7f7f\">                 </span>\n",
       "</pre>\n"
      ],
      "text/plain": [
       "\u001b[2;36m          \u001b[0m\u001b[2;36m \u001b[0mMETRIC   Round \u001b[1;36m0\u001b[0m, aggregator: aggregated_model_validation \u001b[1m<\u001b[0m\u001b[1;95mopenfl.interface.aggregation_functions.weighted_average.WeightedAverage\u001b[0m\u001b[39m \u001b[0m \u001b]8;id=461549;file://C:\\Users\\BHSU\\AppData\\Local\\Programs\\Python\\Python39\\lib\\site-packages\\openfl\\component\\aggregator\\aggregator.py\u001b\\\u001b[2maggregator.py\u001b[0m\u001b]8;;\u001b\\\u001b[2m:\u001b[0m\u001b]8;id=475209;file://C:\\Users\\BHSU\\AppData\\Local\\Programs\\Python\\Python39\\lib\\site-packages\\openfl\\component\\aggregator\\aggregator.py#842\u001b\\\u001b[2m842\u001b[0m\u001b]8;;\u001b\\\n",
       "\u001b[2;36m           \u001b[0m         \u001b[39mobject at \u001b[0m\u001b[1;36m0x00000137CCF13D90\u001b[0m\u001b[1m>\u001b[0m accuracy:       \u001b[1;36m0.109500\u001b[0m                                                                     \u001b[2m                 \u001b[0m\n"
      ]
     },
     "metadata": {},
     "output_type": "display_data"
    },
    {
     "data": {
      "text/html": [
       "<pre style=\"white-space:pre;overflow-x:auto;line-height:normal;font-family:Menlo,'DejaVu Sans Mono',consolas,'Courier New',monospace\"><span style=\"color: #7fbfbf; text-decoration-color: #7fbfbf\">           </span>METRIC   Round <span style=\"color: #008080; text-decoration-color: #008080; font-weight: bold\">0</span>: saved the best model with score <span style=\"color: #008080; text-decoration-color: #008080; font-weight: bold\">0.109500</span>                                                                          <a href=\"file://C:\\Users\\BHSU\\AppData\\Local\\Programs\\Python\\Python39\\lib\\site-packages\\openfl\\component\\aggregator\\aggregator.py\" target=\"_blank\"><span style=\"color: #7f7f7f; text-decoration-color: #7f7f7f\">aggregator.py</span></a><span style=\"color: #7f7f7f; text-decoration-color: #7f7f7f\">:</span><a href=\"file://C:\\Users\\BHSU\\AppData\\Local\\Programs\\Python\\Python39\\lib\\site-packages\\openfl\\component\\aggregator\\aggregator.py#858\" target=\"_blank\"><span style=\"color: #7f7f7f; text-decoration-color: #7f7f7f\">858</span></a>\n",
       "</pre>\n"
      ],
      "text/plain": [
       "\u001b[2;36m          \u001b[0m\u001b[2;36m \u001b[0mMETRIC   Round \u001b[1;36m0\u001b[0m: saved the best model with score \u001b[1;36m0.109500\u001b[0m                                                                          \u001b]8;id=106940;file://C:\\Users\\BHSU\\AppData\\Local\\Programs\\Python\\Python39\\lib\\site-packages\\openfl\\component\\aggregator\\aggregator.py\u001b\\\u001b[2maggregator.py\u001b[0m\u001b]8;;\u001b\\\u001b[2m:\u001b[0m\u001b]8;id=990485;file://C:\\Users\\BHSU\\AppData\\Local\\Programs\\Python\\Python39\\lib\\site-packages\\openfl\\component\\aggregator\\aggregator.py#858\u001b\\\u001b[2m858\u001b[0m\u001b]8;;\u001b\\\n"
      ]
     },
     "metadata": {},
     "output_type": "display_data"
    },
    {
     "data": {
      "text/html": [
       "<pre style=\"white-space:pre;overflow-x:auto;line-height:normal;font-family:Menlo,'DejaVu Sans Mono',consolas,'Courier New',monospace\"><span style=\"color: #7fbfbf; text-decoration-color: #7fbfbf\">           </span><span style=\"color: #000080; text-decoration-color: #000080\">INFO    </span> Saving round <span style=\"color: #008080; text-decoration-color: #008080; font-weight: bold\">1</span> model<span style=\"color: #808000; text-decoration-color: #808000\">...</span>                                                                                                    <a href=\"file://C:\\Users\\BHSU\\AppData\\Local\\Programs\\Python\\Python39\\lib\\site-packages\\openfl\\component\\aggregator\\aggregator.py\" target=\"_blank\"><span style=\"color: #7f7f7f; text-decoration-color: #7f7f7f\">aggregator.py</span></a><span style=\"color: #7f7f7f; text-decoration-color: #7f7f7f\">:</span><a href=\"file://C:\\Users\\BHSU\\AppData\\Local\\Programs\\Python\\Python39\\lib\\site-packages\\openfl\\component\\aggregator\\aggregator.py#894\" target=\"_blank\"><span style=\"color: #7f7f7f; text-decoration-color: #7f7f7f\">894</span></a>\n",
       "</pre>\n"
      ],
      "text/plain": [
       "\u001b[2;36m          \u001b[0m\u001b[2;36m \u001b[0m\u001b[34mINFO    \u001b[0m Saving round \u001b[1;36m1\u001b[0m model\u001b[33m...\u001b[0m                                                                                                    \u001b]8;id=915303;file://C:\\Users\\BHSU\\AppData\\Local\\Programs\\Python\\Python39\\lib\\site-packages\\openfl\\component\\aggregator\\aggregator.py\u001b\\\u001b[2maggregator.py\u001b[0m\u001b]8;;\u001b\\\u001b[2m:\u001b[0m\u001b]8;id=712222;file://C:\\Users\\BHSU\\AppData\\Local\\Programs\\Python\\Python39\\lib\\site-packages\\openfl\\component\\aggregator\\aggregator.py#894\u001b\\\u001b[2m894\u001b[0m\u001b]8;;\u001b\\\n"
      ]
     },
     "metadata": {},
     "output_type": "display_data"
    },
    {
     "data": {
      "text/html": [
       "<pre style=\"white-space:pre;overflow-x:auto;line-height:normal;font-family:Menlo,'DejaVu Sans Mono',consolas,'Courier New',monospace\"><span style=\"color: #7fbfbf; text-decoration-color: #7fbfbf\">           </span><span style=\"color: #000080; text-decoration-color: #000080\">INFO    </span> Starting round <span style=\"color: #008080; text-decoration-color: #008080; font-weight: bold\">1</span><span style=\"color: #808000; text-decoration-color: #808000\">...</span>                                                                                                        <a href=\"file://C:\\Users\\BHSU\\AppData\\Local\\Programs\\Python\\Python39\\lib\\site-packages\\openfl\\component\\aggregator\\aggregator.py\" target=\"_blank\"><span style=\"color: #7f7f7f; text-decoration-color: #7f7f7f\">aggregator.py</span></a><span style=\"color: #7f7f7f; text-decoration-color: #7f7f7f\">:</span><a href=\"file://C:\\Users\\BHSU\\AppData\\Local\\Programs\\Python\\Python39\\lib\\site-packages\\openfl\\component\\aggregator\\aggregator.py#901\" target=\"_blank\"><span style=\"color: #7f7f7f; text-decoration-color: #7f7f7f\">901</span></a>\n",
       "</pre>\n"
      ],
      "text/plain": [
       "\u001b[2;36m          \u001b[0m\u001b[2;36m \u001b[0m\u001b[34mINFO    \u001b[0m Starting round \u001b[1;36m1\u001b[0m\u001b[33m...\u001b[0m                                                                                                        \u001b]8;id=2259;file://C:\\Users\\BHSU\\AppData\\Local\\Programs\\Python\\Python39\\lib\\site-packages\\openfl\\component\\aggregator\\aggregator.py\u001b\\\u001b[2maggregator.py\u001b[0m\u001b]8;;\u001b\\\u001b[2m:\u001b[0m\u001b]8;id=468357;file://C:\\Users\\BHSU\\AppData\\Local\\Programs\\Python\\Python39\\lib\\site-packages\\openfl\\component\\aggregator\\aggregator.py#901\u001b\\\u001b[2m901\u001b[0m\u001b]8;;\u001b\\\n"
      ]
     },
     "metadata": {},
     "output_type": "display_data"
    },
    {
     "data": {
      "text/html": [
       "<pre style=\"white-space:pre;overflow-x:auto;line-height:normal;font-family:Menlo,'DejaVu Sans Mono',consolas,'Courier New',monospace\"><span style=\"color: #7fbfbf; text-decoration-color: #7fbfbf\">           </span><span style=\"color: #000080; text-decoration-color: #000080\">INFO    </span> All tasks completed on one for round <span style=\"color: #008080; text-decoration-color: #008080; font-weight: bold\">0</span><span style=\"color: #808000; text-decoration-color: #808000\">...</span>                                                                                <a href=\"file://C:\\Users\\BHSU\\AppData\\Local\\Programs\\Python\\Python39\\lib\\site-packages\\openfl\\component\\collaborator\\collaborator.py\" target=\"_blank\"><span style=\"color: #7f7f7f; text-decoration-color: #7f7f7f\">collaborator.py</span></a><span style=\"color: #7f7f7f; text-decoration-color: #7f7f7f\">:</span><a href=\"file://C:\\Users\\BHSU\\AppData\\Local\\Programs\\Python\\Python39\\lib\\site-packages\\openfl\\component\\collaborator\\collaborator.py#171\" target=\"_blank\"><span style=\"color: #7f7f7f; text-decoration-color: #7f7f7f\">171</span></a>\n",
       "</pre>\n"
      ],
      "text/plain": [
       "\u001b[2;36m          \u001b[0m\u001b[2;36m \u001b[0m\u001b[34mINFO    \u001b[0m All tasks completed on one for round \u001b[1;36m0\u001b[0m\u001b[33m...\u001b[0m                                                                                \u001b]8;id=58379;file://C:\\Users\\BHSU\\AppData\\Local\\Programs\\Python\\Python39\\lib\\site-packages\\openfl\\component\\collaborator\\collaborator.py\u001b\\\u001b[2mcollaborator.py\u001b[0m\u001b]8;;\u001b\\\u001b[2m:\u001b[0m\u001b]8;id=617712;file://C:\\Users\\BHSU\\AppData\\Local\\Programs\\Python\\Python39\\lib\\site-packages\\openfl\\component\\collaborator\\collaborator.py#171\u001b\\\u001b[2m171\u001b[0m\u001b]8;;\u001b\\\n"
      ]
     },
     "metadata": {},
     "output_type": "display_data"
    },
    {
     "data": {
      "text/html": [
       "<pre style=\"white-space:pre;overflow-x:auto;line-height:normal;font-family:Menlo,'DejaVu Sans Mono',consolas,'Courier New',monospace\"><span style=\"color: #7fbfbf; text-decoration-color: #7fbfbf\">           </span><span style=\"color: #000080; text-decoration-color: #000080\">INFO    </span> Waiting for tasks<span style=\"color: #808000; text-decoration-color: #808000\">...</span>                                                                                                     <a href=\"file://C:\\Users\\BHSU\\AppData\\Local\\Programs\\Python\\Python39\\lib\\site-packages\\openfl\\component\\collaborator\\collaborator.py\" target=\"_blank\"><span style=\"color: #7f7f7f; text-decoration-color: #7f7f7f\">collaborator.py</span></a><span style=\"color: #7f7f7f; text-decoration-color: #7f7f7f\">:</span><a href=\"file://C:\\Users\\BHSU\\AppData\\Local\\Programs\\Python\\Python39\\lib\\site-packages\\openfl\\component\\collaborator\\collaborator.py#178\" target=\"_blank\"><span style=\"color: #7f7f7f; text-decoration-color: #7f7f7f\">178</span></a>\n",
       "</pre>\n"
      ],
      "text/plain": [
       "\u001b[2;36m          \u001b[0m\u001b[2;36m \u001b[0m\u001b[34mINFO    \u001b[0m Waiting for tasks\u001b[33m...\u001b[0m                                                                                                     \u001b]8;id=370990;file://C:\\Users\\BHSU\\AppData\\Local\\Programs\\Python\\Python39\\lib\\site-packages\\openfl\\component\\collaborator\\collaborator.py\u001b\\\u001b[2mcollaborator.py\u001b[0m\u001b]8;;\u001b\\\u001b[2m:\u001b[0m\u001b]8;id=768242;file://C:\\Users\\BHSU\\AppData\\Local\\Programs\\Python\\Python39\\lib\\site-packages\\openfl\\component\\collaborator\\collaborator.py#178\u001b\\\u001b[2m178\u001b[0m\u001b]8;;\u001b\\\n"
      ]
     },
     "metadata": {},
     "output_type": "display_data"
    },
    {
     "data": {
      "text/html": [
       "<pre style=\"white-space:pre;overflow-x:auto;line-height:normal;font-family:Menlo,'DejaVu Sans Mono',consolas,'Courier New',monospace\"><span style=\"color: #7fbfbf; text-decoration-color: #7fbfbf\">           </span><span style=\"color: #000080; text-decoration-color: #000080\">INFO    </span> Sending tasks to collaborator one for round <span style=\"color: #008080; text-decoration-color: #008080; font-weight: bold\">1</span>                                                                              <a href=\"file://C:\\Users\\BHSU\\AppData\\Local\\Programs\\Python\\Python39\\lib\\site-packages\\openfl\\component\\aggregator\\aggregator.py\" target=\"_blank\"><span style=\"color: #7f7f7f; text-decoration-color: #7f7f7f\">aggregator.py</span></a><span style=\"color: #7f7f7f; text-decoration-color: #7f7f7f\">:</span><a href=\"file://C:\\Users\\BHSU\\AppData\\Local\\Programs\\Python\\Python39\\lib\\site-packages\\openfl\\component\\aggregator\\aggregator.py#329\" target=\"_blank\"><span style=\"color: #7f7f7f; text-decoration-color: #7f7f7f\">329</span></a>\n",
       "</pre>\n"
      ],
      "text/plain": [
       "\u001b[2;36m          \u001b[0m\u001b[2;36m \u001b[0m\u001b[34mINFO    \u001b[0m Sending tasks to collaborator one for round \u001b[1;36m1\u001b[0m                                                                              \u001b]8;id=823585;file://C:\\Users\\BHSU\\AppData\\Local\\Programs\\Python\\Python39\\lib\\site-packages\\openfl\\component\\aggregator\\aggregator.py\u001b\\\u001b[2maggregator.py\u001b[0m\u001b]8;;\u001b\\\u001b[2m:\u001b[0m\u001b]8;id=773526;file://C:\\Users\\BHSU\\AppData\\Local\\Programs\\Python\\Python39\\lib\\site-packages\\openfl\\component\\aggregator\\aggregator.py#329\u001b\\\u001b[2m329\u001b[0m\u001b]8;;\u001b\\\n"
      ]
     },
     "metadata": {},
     "output_type": "display_data"
    },
    {
     "data": {
      "text/html": [
       "<pre style=\"white-space:pre;overflow-x:auto;line-height:normal;font-family:Menlo,'DejaVu Sans Mono',consolas,'Courier New',monospace\"><span style=\"color: #7fbfbf; text-decoration-color: #7fbfbf\">           </span><span style=\"color: #000080; text-decoration-color: #000080\">INFO    </span> Received the following tasks: <span style=\"font-weight: bold\">[</span><span style=\"color: #008000; text-decoration-color: #008000\">'aggregated_model_validation'</span>, <span style=\"color: #008000; text-decoration-color: #008000\">'train'</span>, <span style=\"color: #008000; text-decoration-color: #008000\">'locally_tuned_model_validation'</span><span style=\"font-weight: bold\">]</span>                 <a href=\"file://C:\\Users\\BHSU\\AppData\\Local\\Programs\\Python\\Python39\\lib\\site-packages\\openfl\\component\\collaborator\\collaborator.py\" target=\"_blank\"><span style=\"color: #7f7f7f; text-decoration-color: #7f7f7f\">collaborator.py</span></a><span style=\"color: #7f7f7f; text-decoration-color: #7f7f7f\">:</span><a href=\"file://C:\\Users\\BHSU\\AppData\\Local\\Programs\\Python\\Python39\\lib\\site-packages\\openfl\\component\\collaborator\\collaborator.py#168\" target=\"_blank\"><span style=\"color: #7f7f7f; text-decoration-color: #7f7f7f\">168</span></a>\n",
       "</pre>\n"
      ],
      "text/plain": [
       "\u001b[2;36m          \u001b[0m\u001b[2;36m \u001b[0m\u001b[34mINFO    \u001b[0m Received the following tasks: \u001b[1m[\u001b[0m\u001b[32m'aggregated_model_validation'\u001b[0m, \u001b[32m'train'\u001b[0m, \u001b[32m'locally_tuned_model_validation'\u001b[0m\u001b[1m]\u001b[0m                 \u001b]8;id=131307;file://C:\\Users\\BHSU\\AppData\\Local\\Programs\\Python\\Python39\\lib\\site-packages\\openfl\\component\\collaborator\\collaborator.py\u001b\\\u001b[2mcollaborator.py\u001b[0m\u001b]8;;\u001b\\\u001b[2m:\u001b[0m\u001b]8;id=485178;file://C:\\Users\\BHSU\\AppData\\Local\\Programs\\Python\\Python39\\lib\\site-packages\\openfl\\component\\collaborator\\collaborator.py#168\u001b\\\u001b[2m168\u001b[0m\u001b]8;;\u001b\\\n"
      ]
     },
     "metadata": {},
     "output_type": "display_data"
    },
    {
     "data": {
      "text/html": [
       "<pre style=\"white-space:pre;overflow-x:auto;line-height:normal;font-family:Menlo,'DejaVu Sans Mono',consolas,'Courier New',monospace\"><span style=\"color: #7fbfbf; text-decoration-color: #7fbfbf\">           </span><span style=\"color: #000080; text-decoration-color: #000080\">INFO    </span> Using TaskRunner subclassing API                                                                                         <a href=\"file://C:\\Users\\BHSU\\AppData\\Local\\Programs\\Python\\Python39\\lib\\site-packages\\openfl\\component\\collaborator\\collaborator.py\" target=\"_blank\"><span style=\"color: #7f7f7f; text-decoration-color: #7f7f7f\">collaborator.py</span></a><span style=\"color: #7f7f7f; text-decoration-color: #7f7f7f\">:</span><a href=\"file://C:\\Users\\BHSU\\AppData\\Local\\Programs\\Python\\Python39\\lib\\site-packages\\openfl\\component\\collaborator\\collaborator.py#253\" target=\"_blank\"><span style=\"color: #7f7f7f; text-decoration-color: #7f7f7f\">253</span></a>\n",
       "</pre>\n"
      ],
      "text/plain": [
       "\u001b[2;36m          \u001b[0m\u001b[2;36m \u001b[0m\u001b[34mINFO    \u001b[0m Using TaskRunner subclassing API                                                                                         \u001b]8;id=144388;file://C:\\Users\\BHSU\\AppData\\Local\\Programs\\Python\\Python39\\lib\\site-packages\\openfl\\component\\collaborator\\collaborator.py\u001b\\\u001b[2mcollaborator.py\u001b[0m\u001b]8;;\u001b\\\u001b[2m:\u001b[0m\u001b]8;id=413114;file://C:\\Users\\BHSU\\AppData\\Local\\Programs\\Python\\Python39\\lib\\site-packages\\openfl\\component\\collaborator\\collaborator.py#253\u001b\\\u001b[2m253\u001b[0m\u001b]8;;\u001b\\\n"
      ]
     },
     "metadata": {},
     "output_type": "display_data"
    },
    {
     "name": "stdout",
     "output_type": "stream",
     "text": [
      "563/563 [==============================] - 0s 493us/step - loss: 0.2498 - accuracy: 0.9255\n"
     ]
    },
    {
     "data": {
      "text/html": [
       "<pre style=\"white-space:pre;overflow-x:auto;line-height:normal;font-family:Menlo,'DejaVu Sans Mono',consolas,'Courier New',monospace\"><span style=\"color: #7fbfbf; text-decoration-color: #7fbfbf\">           </span>METRIC   Round <span style=\"color: #008080; text-decoration-color: #008080; font-weight: bold\">1</span>, collaborator one is sending metric for task aggregated_model_validation: accuracy      <span style=\"color: #008080; text-decoration-color: #008080; font-weight: bold\">0.925500</span>                 <a href=\"file://C:\\Users\\BHSU\\AppData\\Local\\Programs\\Python\\Python39\\lib\\site-packages\\openfl\\component\\collaborator\\collaborator.py\" target=\"_blank\"><span style=\"color: #7f7f7f; text-decoration-color: #7f7f7f\">collaborator.py</span></a><span style=\"color: #7f7f7f; text-decoration-color: #7f7f7f\">:</span><a href=\"file://C:\\Users\\BHSU\\AppData\\Local\\Programs\\Python\\Python39\\lib\\site-packages\\openfl\\component\\collaborator\\collaborator.py#415\" target=\"_blank\"><span style=\"color: #7f7f7f; text-decoration-color: #7f7f7f\">415</span></a>\n",
       "</pre>\n"
      ],
      "text/plain": [
       "\u001b[2;36m          \u001b[0m\u001b[2;36m \u001b[0mMETRIC   Round \u001b[1;36m1\u001b[0m, collaborator one is sending metric for task aggregated_model_validation: accuracy      \u001b[1;36m0.925500\u001b[0m                 \u001b]8;id=864324;file://C:\\Users\\BHSU\\AppData\\Local\\Programs\\Python\\Python39\\lib\\site-packages\\openfl\\component\\collaborator\\collaborator.py\u001b\\\u001b[2mcollaborator.py\u001b[0m\u001b]8;;\u001b\\\u001b[2m:\u001b[0m\u001b]8;id=994259;file://C:\\Users\\BHSU\\AppData\\Local\\Programs\\Python\\Python39\\lib\\site-packages\\openfl\\component\\collaborator\\collaborator.py#415\u001b\\\u001b[2m415\u001b[0m\u001b]8;;\u001b\\\n"
      ]
     },
     "metadata": {},
     "output_type": "display_data"
    },
    {
     "data": {
      "text/html": [
       "<pre style=\"white-space:pre;overflow-x:auto;line-height:normal;font-family:Menlo,'DejaVu Sans Mono',consolas,'Courier New',monospace\"><span style=\"color: #7fbfbf; text-decoration-color: #7fbfbf\">           </span><span style=\"color: #000080; text-decoration-color: #000080\">INFO    </span> Collaborator one is sending task results for aggregated_model_validation, round <span style=\"color: #008080; text-decoration-color: #008080; font-weight: bold\">1</span>                                          <a href=\"file://C:\\Users\\BHSU\\AppData\\Local\\Programs\\Python\\Python39\\lib\\site-packages\\openfl\\component\\aggregator\\aggregator.py\" target=\"_blank\"><span style=\"color: #7f7f7f; text-decoration-color: #7f7f7f\">aggregator.py</span></a><span style=\"color: #7f7f7f; text-decoration-color: #7f7f7f\">:</span><a href=\"file://C:\\Users\\BHSU\\AppData\\Local\\Programs\\Python\\Python39\\lib\\site-packages\\openfl\\component\\aggregator\\aggregator.py#520\" target=\"_blank\"><span style=\"color: #7f7f7f; text-decoration-color: #7f7f7f\">520</span></a>\n",
       "</pre>\n"
      ],
      "text/plain": [
       "\u001b[2;36m          \u001b[0m\u001b[2;36m \u001b[0m\u001b[34mINFO    \u001b[0m Collaborator one is sending task results for aggregated_model_validation, round \u001b[1;36m1\u001b[0m                                          \u001b]8;id=276175;file://C:\\Users\\BHSU\\AppData\\Local\\Programs\\Python\\Python39\\lib\\site-packages\\openfl\\component\\aggregator\\aggregator.py\u001b\\\u001b[2maggregator.py\u001b[0m\u001b]8;;\u001b\\\u001b[2m:\u001b[0m\u001b]8;id=238417;file://C:\\Users\\BHSU\\AppData\\Local\\Programs\\Python\\Python39\\lib\\site-packages\\openfl\\component\\aggregator\\aggregator.py#520\u001b\\\u001b[2m520\u001b[0m\u001b]8;;\u001b\\\n"
      ]
     },
     "metadata": {},
     "output_type": "display_data"
    },
    {
     "data": {
      "text/html": [
       "<pre style=\"white-space:pre;overflow-x:auto;line-height:normal;font-family:Menlo,'DejaVu Sans Mono',consolas,'Courier New',monospace\"><span style=\"color: #7fbfbf; text-decoration-color: #7fbfbf\">           </span>METRIC   Round <span style=\"color: #008080; text-decoration-color: #008080; font-weight: bold\">1</span>, collaborator validate_agg aggregated_model_validation result accuracy: <span style=\"color: #008080; text-decoration-color: #008080; font-weight: bold\">0.925500</span>                                   <a href=\"file://C:\\Users\\BHSU\\AppData\\Local\\Programs\\Python\\Python39\\lib\\site-packages\\openfl\\component\\aggregator\\aggregator.py\" target=\"_blank\"><span style=\"color: #7f7f7f; text-decoration-color: #7f7f7f\">aggregator.py</span></a><span style=\"color: #7f7f7f; text-decoration-color: #7f7f7f\">:</span><a href=\"file://C:\\Users\\BHSU\\AppData\\Local\\Programs\\Python\\Python39\\lib\\site-packages\\openfl\\component\\aggregator\\aggregator.py#559\" target=\"_blank\"><span style=\"color: #7f7f7f; text-decoration-color: #7f7f7f\">559</span></a>\n",
       "</pre>\n"
      ],
      "text/plain": [
       "\u001b[2;36m          \u001b[0m\u001b[2;36m \u001b[0mMETRIC   Round \u001b[1;36m1\u001b[0m, collaborator validate_agg aggregated_model_validation result accuracy: \u001b[1;36m0.925500\u001b[0m                                   \u001b]8;id=760879;file://C:\\Users\\BHSU\\AppData\\Local\\Programs\\Python\\Python39\\lib\\site-packages\\openfl\\component\\aggregator\\aggregator.py\u001b\\\u001b[2maggregator.py\u001b[0m\u001b]8;;\u001b\\\u001b[2m:\u001b[0m\u001b]8;id=106526;file://C:\\Users\\BHSU\\AppData\\Local\\Programs\\Python\\Python39\\lib\\site-packages\\openfl\\component\\aggregator\\aggregator.py#559\u001b\\\u001b[2m559\u001b[0m\u001b]8;;\u001b\\\n"
      ]
     },
     "metadata": {},
     "output_type": "display_data"
    },
    {
     "data": {
      "text/html": [
       "<pre style=\"white-space:pre;overflow-x:auto;line-height:normal;font-family:Menlo,'DejaVu Sans Mono',consolas,'Courier New',monospace\"><span style=\"color: #7fbfbf; text-decoration-color: #7fbfbf\">           </span><span style=\"color: #000080; text-decoration-color: #000080\">INFO    </span> Using TaskRunner subclassing API                                                                                         <a href=\"file://C:\\Users\\BHSU\\AppData\\Local\\Programs\\Python\\Python39\\lib\\site-packages\\openfl\\component\\collaborator\\collaborator.py\" target=\"_blank\"><span style=\"color: #7f7f7f; text-decoration-color: #7f7f7f\">collaborator.py</span></a><span style=\"color: #7f7f7f; text-decoration-color: #7f7f7f\">:</span><a href=\"file://C:\\Users\\BHSU\\AppData\\Local\\Programs\\Python\\Python39\\lib\\site-packages\\openfl\\component\\collaborator\\collaborator.py#253\" target=\"_blank\"><span style=\"color: #7f7f7f; text-decoration-color: #7f7f7f\">253</span></a>\n",
       "</pre>\n"
      ],
      "text/plain": [
       "\u001b[2;36m          \u001b[0m\u001b[2;36m \u001b[0m\u001b[34mINFO    \u001b[0m Using TaskRunner subclassing API                                                                                         \u001b]8;id=815307;file://C:\\Users\\BHSU\\AppData\\Local\\Programs\\Python\\Python39\\lib\\site-packages\\openfl\\component\\collaborator\\collaborator.py\u001b\\\u001b[2mcollaborator.py\u001b[0m\u001b]8;;\u001b\\\u001b[2m:\u001b[0m\u001b]8;id=984647;file://C:\\Users\\BHSU\\AppData\\Local\\Programs\\Python\\Python39\\lib\\site-packages\\openfl\\component\\collaborator\\collaborator.py#253\u001b\\\u001b[2m253\u001b[0m\u001b]8;;\u001b\\\n"
      ]
     },
     "metadata": {},
     "output_type": "display_data"
    },
    {
     "data": {
      "text/html": [
       "<pre style=\"white-space:pre;overflow-x:auto;line-height:normal;font-family:Menlo,'DejaVu Sans Mono',consolas,'Courier New',monospace\"><span style=\"color: #7fbfbf; text-decoration-color: #7fbfbf\">           </span><span style=\"color: #000080; text-decoration-color: #000080\">INFO    </span> Run <span style=\"color: #008080; text-decoration-color: #008080; font-weight: bold\">0</span> epoch of <span style=\"color: #008080; text-decoration-color: #008080; font-weight: bold\">1</span> round                                                                                                    <a href=\"file://C:\\Users\\BHSU\\AppData\\Local\\Programs\\Python\\Python39\\lib\\site-packages\\openfl\\federated\\task\\runner_keras.py\" target=\"_blank\"><span style=\"color: #7f7f7f; text-decoration-color: #7f7f7f\">runner_keras.py</span></a><span style=\"color: #7f7f7f; text-decoration-color: #7f7f7f\">:</span><a href=\"file://C:\\Users\\BHSU\\AppData\\Local\\Programs\\Python\\Python39\\lib\\site-packages\\openfl\\federated\\task\\runner_keras.py#83\" target=\"_blank\"><span style=\"color: #7f7f7f; text-decoration-color: #7f7f7f\">83</span></a>\n",
       "</pre>\n"
      ],
      "text/plain": [
       "\u001b[2;36m          \u001b[0m\u001b[2;36m \u001b[0m\u001b[34mINFO    \u001b[0m Run \u001b[1;36m0\u001b[0m epoch of \u001b[1;36m1\u001b[0m round                                                                                                    \u001b]8;id=832452;file://C:\\Users\\BHSU\\AppData\\Local\\Programs\\Python\\Python39\\lib\\site-packages\\openfl\\federated\\task\\runner_keras.py\u001b\\\u001b[2mrunner_keras.py\u001b[0m\u001b]8;;\u001b\\\u001b[2m:\u001b[0m\u001b]8;id=48881;file://C:\\Users\\BHSU\\AppData\\Local\\Programs\\Python\\Python39\\lib\\site-packages\\openfl\\federated\\task\\runner_keras.py#83\u001b\\\u001b[2m83\u001b[0m\u001b]8;;\u001b\\\n"
      ]
     },
     "metadata": {},
     "output_type": "display_data"
    },
    {
     "name": "stdout",
     "output_type": "stream",
     "text": [
      "1313/1313 [==============================] - 1s 634us/step - loss: 0.2172 - accuracy: 0.9342\n"
     ]
    },
    {
     "data": {
      "text/html": [
       "<pre style=\"white-space:pre;overflow-x:auto;line-height:normal;font-family:Menlo,'DejaVu Sans Mono',consolas,'Courier New',monospace\"><span style=\"color: #7fbfbf; text-decoration-color: #7fbfbf\">[17:01:52] </span>METRIC   Round <span style=\"color: #008080; text-decoration-color: #008080; font-weight: bold\">1</span>, collaborator one is sending metric for task train: loss        <span style=\"color: #008080; text-decoration-color: #008080; font-weight: bold\">0.217151</span>                                         <a href=\"file://C:\\Users\\BHSU\\AppData\\Local\\Programs\\Python\\Python39\\lib\\site-packages\\openfl\\component\\collaborator\\collaborator.py\" target=\"_blank\"><span style=\"color: #7f7f7f; text-decoration-color: #7f7f7f\">collaborator.py</span></a><span style=\"color: #7f7f7f; text-decoration-color: #7f7f7f\">:</span><a href=\"file://C:\\Users\\BHSU\\AppData\\Local\\Programs\\Python\\Python39\\lib\\site-packages\\openfl\\component\\collaborator\\collaborator.py#415\" target=\"_blank\"><span style=\"color: #7f7f7f; text-decoration-color: #7f7f7f\">415</span></a>\n",
       "</pre>\n"
      ],
      "text/plain": [
       "\u001b[2;36m[17:01:52]\u001b[0m\u001b[2;36m \u001b[0mMETRIC   Round \u001b[1;36m1\u001b[0m, collaborator one is sending metric for task train: loss        \u001b[1;36m0.217151\u001b[0m                                         \u001b]8;id=854836;file://C:\\Users\\BHSU\\AppData\\Local\\Programs\\Python\\Python39\\lib\\site-packages\\openfl\\component\\collaborator\\collaborator.py\u001b\\\u001b[2mcollaborator.py\u001b[0m\u001b]8;;\u001b\\\u001b[2m:\u001b[0m\u001b]8;id=106142;file://C:\\Users\\BHSU\\AppData\\Local\\Programs\\Python\\Python39\\lib\\site-packages\\openfl\\component\\collaborator\\collaborator.py#415\u001b\\\u001b[2m415\u001b[0m\u001b]8;;\u001b\\\n"
      ]
     },
     "metadata": {},
     "output_type": "display_data"
    },
    {
     "data": {
      "text/html": [
       "<pre style=\"white-space:pre;overflow-x:auto;line-height:normal;font-family:Menlo,'DejaVu Sans Mono',consolas,'Courier New',monospace\"><span style=\"color: #7fbfbf; text-decoration-color: #7fbfbf\">           </span><span style=\"color: #000080; text-decoration-color: #000080\">INFO    </span> Collaborator one is sending task results for train, round <span style=\"color: #008080; text-decoration-color: #008080; font-weight: bold\">1</span>                                                                <a href=\"file://C:\\Users\\BHSU\\AppData\\Local\\Programs\\Python\\Python39\\lib\\site-packages\\openfl\\component\\aggregator\\aggregator.py\" target=\"_blank\"><span style=\"color: #7f7f7f; text-decoration-color: #7f7f7f\">aggregator.py</span></a><span style=\"color: #7f7f7f; text-decoration-color: #7f7f7f\">:</span><a href=\"file://C:\\Users\\BHSU\\AppData\\Local\\Programs\\Python\\Python39\\lib\\site-packages\\openfl\\component\\aggregator\\aggregator.py#520\" target=\"_blank\"><span style=\"color: #7f7f7f; text-decoration-color: #7f7f7f\">520</span></a>\n",
       "</pre>\n"
      ],
      "text/plain": [
       "\u001b[2;36m          \u001b[0m\u001b[2;36m \u001b[0m\u001b[34mINFO    \u001b[0m Collaborator one is sending task results for train, round \u001b[1;36m1\u001b[0m                                                                \u001b]8;id=577862;file://C:\\Users\\BHSU\\AppData\\Local\\Programs\\Python\\Python39\\lib\\site-packages\\openfl\\component\\aggregator\\aggregator.py\u001b\\\u001b[2maggregator.py\u001b[0m\u001b]8;;\u001b\\\u001b[2m:\u001b[0m\u001b]8;id=117031;file://C:\\Users\\BHSU\\AppData\\Local\\Programs\\Python\\Python39\\lib\\site-packages\\openfl\\component\\aggregator\\aggregator.py#520\u001b\\\u001b[2m520\u001b[0m\u001b]8;;\u001b\\\n"
      ]
     },
     "metadata": {},
     "output_type": "display_data"
    },
    {
     "data": {
      "text/html": [
       "<pre style=\"white-space:pre;overflow-x:auto;line-height:normal;font-family:Menlo,'DejaVu Sans Mono',consolas,'Courier New',monospace\"><span style=\"color: #7fbfbf; text-decoration-color: #7fbfbf\">           </span>METRIC   Round <span style=\"color: #008080; text-decoration-color: #008080; font-weight: bold\">1</span>, collaborator one train result loss:    <span style=\"color: #008080; text-decoration-color: #008080; font-weight: bold\">0.217151</span>                                                                   <a href=\"file://C:\\Users\\BHSU\\AppData\\Local\\Programs\\Python\\Python39\\lib\\site-packages\\openfl\\component\\aggregator\\aggregator.py\" target=\"_blank\"><span style=\"color: #7f7f7f; text-decoration-color: #7f7f7f\">aggregator.py</span></a><span style=\"color: #7f7f7f; text-decoration-color: #7f7f7f\">:</span><a href=\"file://C:\\Users\\BHSU\\AppData\\Local\\Programs\\Python\\Python39\\lib\\site-packages\\openfl\\component\\aggregator\\aggregator.py#559\" target=\"_blank\"><span style=\"color: #7f7f7f; text-decoration-color: #7f7f7f\">559</span></a>\n",
       "</pre>\n"
      ],
      "text/plain": [
       "\u001b[2;36m          \u001b[0m\u001b[2;36m \u001b[0mMETRIC   Round \u001b[1;36m1\u001b[0m, collaborator one train result loss:    \u001b[1;36m0.217151\u001b[0m                                                                   \u001b]8;id=950273;file://C:\\Users\\BHSU\\AppData\\Local\\Programs\\Python\\Python39\\lib\\site-packages\\openfl\\component\\aggregator\\aggregator.py\u001b\\\u001b[2maggregator.py\u001b[0m\u001b]8;;\u001b\\\u001b[2m:\u001b[0m\u001b]8;id=908531;file://C:\\Users\\BHSU\\AppData\\Local\\Programs\\Python\\Python39\\lib\\site-packages\\openfl\\component\\aggregator\\aggregator.py#559\u001b\\\u001b[2m559\u001b[0m\u001b]8;;\u001b\\\n"
      ]
     },
     "metadata": {},
     "output_type": "display_data"
    },
    {
     "data": {
      "text/html": [
       "<pre style=\"white-space:pre;overflow-x:auto;line-height:normal;font-family:Menlo,'DejaVu Sans Mono',consolas,'Courier New',monospace\"><span style=\"color: #7fbfbf; text-decoration-color: #7fbfbf\">           </span><span style=\"color: #000080; text-decoration-color: #000080\">INFO    </span> Using TaskRunner subclassing API                                                                                         <a href=\"file://C:\\Users\\BHSU\\AppData\\Local\\Programs\\Python\\Python39\\lib\\site-packages\\openfl\\component\\collaborator\\collaborator.py\" target=\"_blank\"><span style=\"color: #7f7f7f; text-decoration-color: #7f7f7f\">collaborator.py</span></a><span style=\"color: #7f7f7f; text-decoration-color: #7f7f7f\">:</span><a href=\"file://C:\\Users\\BHSU\\AppData\\Local\\Programs\\Python\\Python39\\lib\\site-packages\\openfl\\component\\collaborator\\collaborator.py#253\" target=\"_blank\"><span style=\"color: #7f7f7f; text-decoration-color: #7f7f7f\">253</span></a>\n",
       "</pre>\n"
      ],
      "text/plain": [
       "\u001b[2;36m          \u001b[0m\u001b[2;36m \u001b[0m\u001b[34mINFO    \u001b[0m Using TaskRunner subclassing API                                                                                         \u001b]8;id=65886;file://C:\\Users\\BHSU\\AppData\\Local\\Programs\\Python\\Python39\\lib\\site-packages\\openfl\\component\\collaborator\\collaborator.py\u001b\\\u001b[2mcollaborator.py\u001b[0m\u001b]8;;\u001b\\\u001b[2m:\u001b[0m\u001b]8;id=145415;file://C:\\Users\\BHSU\\AppData\\Local\\Programs\\Python\\Python39\\lib\\site-packages\\openfl\\component\\collaborator\\collaborator.py#253\u001b\\\u001b[2m253\u001b[0m\u001b]8;;\u001b\\\n"
      ]
     },
     "metadata": {},
     "output_type": "display_data"
    },
    {
     "name": "stdout",
     "output_type": "stream",
     "text": [
      "563/563 [==============================] - 0s 493us/step - loss: 0.1797 - accuracy: 0.9441\n"
     ]
    },
    {
     "data": {
      "text/html": [
       "<pre style=\"white-space:pre;overflow-x:auto;line-height:normal;font-family:Menlo,'DejaVu Sans Mono',consolas,'Courier New',monospace\"><span style=\"color: #7fbfbf; text-decoration-color: #7fbfbf\">           </span>METRIC   Round <span style=\"color: #008080; text-decoration-color: #008080; font-weight: bold\">1</span>, collaborator one is sending metric for task locally_tuned_model_validation: accuracy   <span style=\"color: #008080; text-decoration-color: #008080; font-weight: bold\">0.944056</span>                 <a href=\"file://C:\\Users\\BHSU\\AppData\\Local\\Programs\\Python\\Python39\\lib\\site-packages\\openfl\\component\\collaborator\\collaborator.py\" target=\"_blank\"><span style=\"color: #7f7f7f; text-decoration-color: #7f7f7f\">collaborator.py</span></a><span style=\"color: #7f7f7f; text-decoration-color: #7f7f7f\">:</span><a href=\"file://C:\\Users\\BHSU\\AppData\\Local\\Programs\\Python\\Python39\\lib\\site-packages\\openfl\\component\\collaborator\\collaborator.py#415\" target=\"_blank\"><span style=\"color: #7f7f7f; text-decoration-color: #7f7f7f\">415</span></a>\n",
       "</pre>\n"
      ],
      "text/plain": [
       "\u001b[2;36m          \u001b[0m\u001b[2;36m \u001b[0mMETRIC   Round \u001b[1;36m1\u001b[0m, collaborator one is sending metric for task locally_tuned_model_validation: accuracy   \u001b[1;36m0.944056\u001b[0m                 \u001b]8;id=320389;file://C:\\Users\\BHSU\\AppData\\Local\\Programs\\Python\\Python39\\lib\\site-packages\\openfl\\component\\collaborator\\collaborator.py\u001b\\\u001b[2mcollaborator.py\u001b[0m\u001b]8;;\u001b\\\u001b[2m:\u001b[0m\u001b]8;id=353925;file://C:\\Users\\BHSU\\AppData\\Local\\Programs\\Python\\Python39\\lib\\site-packages\\openfl\\component\\collaborator\\collaborator.py#415\u001b\\\u001b[2m415\u001b[0m\u001b]8;;\u001b\\\n"
      ]
     },
     "metadata": {},
     "output_type": "display_data"
    },
    {
     "data": {
      "text/html": [
       "<pre style=\"white-space:pre;overflow-x:auto;line-height:normal;font-family:Menlo,'DejaVu Sans Mono',consolas,'Courier New',monospace\"><span style=\"color: #7fbfbf; text-decoration-color: #7fbfbf\">           </span><span style=\"color: #000080; text-decoration-color: #000080\">INFO    </span> Collaborator one is sending task results for locally_tuned_model_validation, round <span style=\"color: #008080; text-decoration-color: #008080; font-weight: bold\">1</span>                                       <a href=\"file://C:\\Users\\BHSU\\AppData\\Local\\Programs\\Python\\Python39\\lib\\site-packages\\openfl\\component\\aggregator\\aggregator.py\" target=\"_blank\"><span style=\"color: #7f7f7f; text-decoration-color: #7f7f7f\">aggregator.py</span></a><span style=\"color: #7f7f7f; text-decoration-color: #7f7f7f\">:</span><a href=\"file://C:\\Users\\BHSU\\AppData\\Local\\Programs\\Python\\Python39\\lib\\site-packages\\openfl\\component\\aggregator\\aggregator.py#520\" target=\"_blank\"><span style=\"color: #7f7f7f; text-decoration-color: #7f7f7f\">520</span></a>\n",
       "</pre>\n"
      ],
      "text/plain": [
       "\u001b[2;36m          \u001b[0m\u001b[2;36m \u001b[0m\u001b[34mINFO    \u001b[0m Collaborator one is sending task results for locally_tuned_model_validation, round \u001b[1;36m1\u001b[0m                                       \u001b]8;id=830969;file://C:\\Users\\BHSU\\AppData\\Local\\Programs\\Python\\Python39\\lib\\site-packages\\openfl\\component\\aggregator\\aggregator.py\u001b\\\u001b[2maggregator.py\u001b[0m\u001b]8;;\u001b\\\u001b[2m:\u001b[0m\u001b]8;id=396497;file://C:\\Users\\BHSU\\AppData\\Local\\Programs\\Python\\Python39\\lib\\site-packages\\openfl\\component\\aggregator\\aggregator.py#520\u001b\\\u001b[2m520\u001b[0m\u001b]8;;\u001b\\\n"
      ]
     },
     "metadata": {},
     "output_type": "display_data"
    },
    {
     "data": {
      "text/html": [
       "<pre style=\"white-space:pre;overflow-x:auto;line-height:normal;font-family:Menlo,'DejaVu Sans Mono',consolas,'Courier New',monospace\"><span style=\"color: #7fbfbf; text-decoration-color: #7fbfbf\">           </span>METRIC   Round <span style=\"color: #008080; text-decoration-color: #008080; font-weight: bold\">1</span>, collaborator validate_local locally_tuned_model_validation result accuracy:    <span style=\"color: #008080; text-decoration-color: #008080; font-weight: bold\">0.944056</span>                           <a href=\"file://C:\\Users\\BHSU\\AppData\\Local\\Programs\\Python\\Python39\\lib\\site-packages\\openfl\\component\\aggregator\\aggregator.py\" target=\"_blank\"><span style=\"color: #7f7f7f; text-decoration-color: #7f7f7f\">aggregator.py</span></a><span style=\"color: #7f7f7f; text-decoration-color: #7f7f7f\">:</span><a href=\"file://C:\\Users\\BHSU\\AppData\\Local\\Programs\\Python\\Python39\\lib\\site-packages\\openfl\\component\\aggregator\\aggregator.py#559\" target=\"_blank\"><span style=\"color: #7f7f7f; text-decoration-color: #7f7f7f\">559</span></a>\n",
       "</pre>\n"
      ],
      "text/plain": [
       "\u001b[2;36m          \u001b[0m\u001b[2;36m \u001b[0mMETRIC   Round \u001b[1;36m1\u001b[0m, collaborator validate_local locally_tuned_model_validation result accuracy:    \u001b[1;36m0.944056\u001b[0m                           \u001b]8;id=266733;file://C:\\Users\\BHSU\\AppData\\Local\\Programs\\Python\\Python39\\lib\\site-packages\\openfl\\component\\aggregator\\aggregator.py\u001b\\\u001b[2maggregator.py\u001b[0m\u001b]8;;\u001b\\\u001b[2m:\u001b[0m\u001b]8;id=41813;file://C:\\Users\\BHSU\\AppData\\Local\\Programs\\Python\\Python39\\lib\\site-packages\\openfl\\component\\aggregator\\aggregator.py#559\u001b\\\u001b[2m559\u001b[0m\u001b]8;;\u001b\\\n"
      ]
     },
     "metadata": {},
     "output_type": "display_data"
    },
    {
     "data": {
      "text/html": [
       "<pre style=\"white-space:pre;overflow-x:auto;line-height:normal;font-family:Menlo,'DejaVu Sans Mono',consolas,'Courier New',monospace\"><span style=\"color: #7fbfbf; text-decoration-color: #7fbfbf\">           </span>METRIC   Round <span style=\"color: #008080; text-decoration-color: #008080; font-weight: bold\">1</span>, aggregator: locally_tuned_model_validation                                                                        <a href=\"file://C:\\Users\\BHSU\\AppData\\Local\\Programs\\Python\\Python39\\lib\\site-packages\\openfl\\component\\aggregator\\aggregator.py\" target=\"_blank\"><span style=\"color: #7f7f7f; text-decoration-color: #7f7f7f\">aggregator.py</span></a><span style=\"color: #7f7f7f; text-decoration-color: #7f7f7f\">:</span><a href=\"file://C:\\Users\\BHSU\\AppData\\Local\\Programs\\Python\\Python39\\lib\\site-packages\\openfl\\component\\aggregator\\aggregator.py#842\" target=\"_blank\"><span style=\"color: #7f7f7f; text-decoration-color: #7f7f7f\">842</span></a>\n",
       "<span style=\"color: #7fbfbf; text-decoration-color: #7fbfbf\">           </span>         <span style=\"font-weight: bold\">&lt;</span><span style=\"color: #ff00ff; text-decoration-color: #ff00ff; font-weight: bold\">openfl.interface.aggregation_functions.weighted_average.WeightedAverage</span><span style=\"color: #000000; text-decoration-color: #000000\"> object at </span><span style=\"color: #008080; text-decoration-color: #008080; font-weight: bold\">0x00000137CCF13D90</span><span style=\"font-weight: bold\">&gt;</span> accuracy:           <span style=\"color: #7f7f7f; text-decoration-color: #7f7f7f\">                 </span>\n",
       "<span style=\"color: #7fbfbf; text-decoration-color: #7fbfbf\">           </span>         <span style=\"color: #008080; text-decoration-color: #008080; font-weight: bold\">0.944056</span>                                                                                                                   <span style=\"color: #7f7f7f; text-decoration-color: #7f7f7f\">                 </span>\n",
       "</pre>\n"
      ],
      "text/plain": [
       "\u001b[2;36m          \u001b[0m\u001b[2;36m \u001b[0mMETRIC   Round \u001b[1;36m1\u001b[0m, aggregator: locally_tuned_model_validation                                                                        \u001b]8;id=408093;file://C:\\Users\\BHSU\\AppData\\Local\\Programs\\Python\\Python39\\lib\\site-packages\\openfl\\component\\aggregator\\aggregator.py\u001b\\\u001b[2maggregator.py\u001b[0m\u001b]8;;\u001b\\\u001b[2m:\u001b[0m\u001b]8;id=175110;file://C:\\Users\\BHSU\\AppData\\Local\\Programs\\Python\\Python39\\lib\\site-packages\\openfl\\component\\aggregator\\aggregator.py#842\u001b\\\u001b[2m842\u001b[0m\u001b]8;;\u001b\\\n",
       "\u001b[2;36m           \u001b[0m         \u001b[1m<\u001b[0m\u001b[1;95mopenfl.interface.aggregation_functions.weighted_average.WeightedAverage\u001b[0m\u001b[39m object at \u001b[0m\u001b[1;36m0x00000137CCF13D90\u001b[0m\u001b[1m>\u001b[0m accuracy:           \u001b[2m                 \u001b[0m\n",
       "\u001b[2;36m           \u001b[0m         \u001b[1;36m0.944056\u001b[0m                                                                                                                   \u001b[2m                 \u001b[0m\n"
      ]
     },
     "metadata": {},
     "output_type": "display_data"
    },
    {
     "data": {
      "text/html": [
       "<pre style=\"white-space:pre;overflow-x:auto;line-height:normal;font-family:Menlo,'DejaVu Sans Mono',consolas,'Courier New',monospace\"><span style=\"color: #7fbfbf; text-decoration-color: #7fbfbf\">           </span>METRIC   Round <span style=\"color: #008080; text-decoration-color: #008080; font-weight: bold\">1</span>, aggregator: train <span style=\"font-weight: bold\">&lt;</span><span style=\"color: #ff00ff; text-decoration-color: #ff00ff; font-weight: bold\">openfl.interface.aggregation_functions.weighted_average.WeightedAverage</span><span style=\"color: #000000; text-decoration-color: #000000\"> object at </span>             <a href=\"file://C:\\Users\\BHSU\\AppData\\Local\\Programs\\Python\\Python39\\lib\\site-packages\\openfl\\component\\aggregator\\aggregator.py\" target=\"_blank\"><span style=\"color: #7f7f7f; text-decoration-color: #7f7f7f\">aggregator.py</span></a><span style=\"color: #7f7f7f; text-decoration-color: #7f7f7f\">:</span><a href=\"file://C:\\Users\\BHSU\\AppData\\Local\\Programs\\Python\\Python39\\lib\\site-packages\\openfl\\component\\aggregator\\aggregator.py#842\" target=\"_blank\"><span style=\"color: #7f7f7f; text-decoration-color: #7f7f7f\">842</span></a>\n",
       "<span style=\"color: #7fbfbf; text-decoration-color: #7fbfbf\">           </span>         <span style=\"color: #008080; text-decoration-color: #008080; font-weight: bold\">0x00000137CCF13D90</span><span style=\"font-weight: bold\">&gt;</span> loss: <span style=\"color: #008080; text-decoration-color: #008080; font-weight: bold\">0.217151</span>                                                                                         <span style=\"color: #7f7f7f; text-decoration-color: #7f7f7f\">                 </span>\n",
       "</pre>\n"
      ],
      "text/plain": [
       "\u001b[2;36m          \u001b[0m\u001b[2;36m \u001b[0mMETRIC   Round \u001b[1;36m1\u001b[0m, aggregator: train \u001b[1m<\u001b[0m\u001b[1;95mopenfl.interface.aggregation_functions.weighted_average.WeightedAverage\u001b[0m\u001b[39m object at \u001b[0m             \u001b]8;id=742240;file://C:\\Users\\BHSU\\AppData\\Local\\Programs\\Python\\Python39\\lib\\site-packages\\openfl\\component\\aggregator\\aggregator.py\u001b\\\u001b[2maggregator.py\u001b[0m\u001b]8;;\u001b\\\u001b[2m:\u001b[0m\u001b]8;id=379273;file://C:\\Users\\BHSU\\AppData\\Local\\Programs\\Python\\Python39\\lib\\site-packages\\openfl\\component\\aggregator\\aggregator.py#842\u001b\\\u001b[2m842\u001b[0m\u001b]8;;\u001b\\\n",
       "\u001b[2;36m           \u001b[0m         \u001b[1;36m0x00000137CCF13D90\u001b[0m\u001b[1m>\u001b[0m loss: \u001b[1;36m0.217151\u001b[0m                                                                                         \u001b[2m                 \u001b[0m\n"
      ]
     },
     "metadata": {},
     "output_type": "display_data"
    },
    {
     "data": {
      "text/html": [
       "<pre style=\"white-space:pre;overflow-x:auto;line-height:normal;font-family:Menlo,'DejaVu Sans Mono',consolas,'Courier New',monospace\"><span style=\"color: #7fbfbf; text-decoration-color: #7fbfbf\">           </span>METRIC   Round <span style=\"color: #008080; text-decoration-color: #008080; font-weight: bold\">1</span>, aggregator: aggregated_model_validation <span style=\"font-weight: bold\">&lt;</span><span style=\"color: #ff00ff; text-decoration-color: #ff00ff; font-weight: bold\">openfl.interface.aggregation_functions.weighted_average.WeightedAverage</span><span style=\"color: #000000; text-decoration-color: #000000\"> </span> <a href=\"file://C:\\Users\\BHSU\\AppData\\Local\\Programs\\Python\\Python39\\lib\\site-packages\\openfl\\component\\aggregator\\aggregator.py\" target=\"_blank\"><span style=\"color: #7f7f7f; text-decoration-color: #7f7f7f\">aggregator.py</span></a><span style=\"color: #7f7f7f; text-decoration-color: #7f7f7f\">:</span><a href=\"file://C:\\Users\\BHSU\\AppData\\Local\\Programs\\Python\\Python39\\lib\\site-packages\\openfl\\component\\aggregator\\aggregator.py#842\" target=\"_blank\"><span style=\"color: #7f7f7f; text-decoration-color: #7f7f7f\">842</span></a>\n",
       "<span style=\"color: #7fbfbf; text-decoration-color: #7fbfbf\">           </span>         <span style=\"color: #000000; text-decoration-color: #000000\">object at </span><span style=\"color: #008080; text-decoration-color: #008080; font-weight: bold\">0x00000137CCF13D90</span><span style=\"font-weight: bold\">&gt;</span> accuracy:       <span style=\"color: #008080; text-decoration-color: #008080; font-weight: bold\">0.925500</span>                                                                     <span style=\"color: #7f7f7f; text-decoration-color: #7f7f7f\">                 </span>\n",
       "</pre>\n"
      ],
      "text/plain": [
       "\u001b[2;36m          \u001b[0m\u001b[2;36m \u001b[0mMETRIC   Round \u001b[1;36m1\u001b[0m, aggregator: aggregated_model_validation \u001b[1m<\u001b[0m\u001b[1;95mopenfl.interface.aggregation_functions.weighted_average.WeightedAverage\u001b[0m\u001b[39m \u001b[0m \u001b]8;id=172394;file://C:\\Users\\BHSU\\AppData\\Local\\Programs\\Python\\Python39\\lib\\site-packages\\openfl\\component\\aggregator\\aggregator.py\u001b\\\u001b[2maggregator.py\u001b[0m\u001b]8;;\u001b\\\u001b[2m:\u001b[0m\u001b]8;id=638963;file://C:\\Users\\BHSU\\AppData\\Local\\Programs\\Python\\Python39\\lib\\site-packages\\openfl\\component\\aggregator\\aggregator.py#842\u001b\\\u001b[2m842\u001b[0m\u001b]8;;\u001b\\\n",
       "\u001b[2;36m           \u001b[0m         \u001b[39mobject at \u001b[0m\u001b[1;36m0x00000137CCF13D90\u001b[0m\u001b[1m>\u001b[0m accuracy:       \u001b[1;36m0.925500\u001b[0m                                                                     \u001b[2m                 \u001b[0m\n"
      ]
     },
     "metadata": {},
     "output_type": "display_data"
    },
    {
     "data": {
      "text/html": [
       "<pre style=\"white-space:pre;overflow-x:auto;line-height:normal;font-family:Menlo,'DejaVu Sans Mono',consolas,'Courier New',monospace\"><span style=\"color: #7fbfbf; text-decoration-color: #7fbfbf\">           </span>METRIC   Round <span style=\"color: #008080; text-decoration-color: #008080; font-weight: bold\">1</span>: saved the best model with score <span style=\"color: #008080; text-decoration-color: #008080; font-weight: bold\">0.925500</span>                                                                          <a href=\"file://C:\\Users\\BHSU\\AppData\\Local\\Programs\\Python\\Python39\\lib\\site-packages\\openfl\\component\\aggregator\\aggregator.py\" target=\"_blank\"><span style=\"color: #7f7f7f; text-decoration-color: #7f7f7f\">aggregator.py</span></a><span style=\"color: #7f7f7f; text-decoration-color: #7f7f7f\">:</span><a href=\"file://C:\\Users\\BHSU\\AppData\\Local\\Programs\\Python\\Python39\\lib\\site-packages\\openfl\\component\\aggregator\\aggregator.py#858\" target=\"_blank\"><span style=\"color: #7f7f7f; text-decoration-color: #7f7f7f\">858</span></a>\n",
       "</pre>\n"
      ],
      "text/plain": [
       "\u001b[2;36m          \u001b[0m\u001b[2;36m \u001b[0mMETRIC   Round \u001b[1;36m1\u001b[0m: saved the best model with score \u001b[1;36m0.925500\u001b[0m                                                                          \u001b]8;id=855853;file://C:\\Users\\BHSU\\AppData\\Local\\Programs\\Python\\Python39\\lib\\site-packages\\openfl\\component\\aggregator\\aggregator.py\u001b\\\u001b[2maggregator.py\u001b[0m\u001b]8;;\u001b\\\u001b[2m:\u001b[0m\u001b]8;id=66318;file://C:\\Users\\BHSU\\AppData\\Local\\Programs\\Python\\Python39\\lib\\site-packages\\openfl\\component\\aggregator\\aggregator.py#858\u001b\\\u001b[2m858\u001b[0m\u001b]8;;\u001b\\\n"
      ]
     },
     "metadata": {},
     "output_type": "display_data"
    },
    {
     "data": {
      "text/html": [
       "<pre style=\"white-space:pre;overflow-x:auto;line-height:normal;font-family:Menlo,'DejaVu Sans Mono',consolas,'Courier New',monospace\"><span style=\"color: #7fbfbf; text-decoration-color: #7fbfbf\">           </span><span style=\"color: #000080; text-decoration-color: #000080\">INFO    </span> Saving round <span style=\"color: #008080; text-decoration-color: #008080; font-weight: bold\">2</span> model<span style=\"color: #808000; text-decoration-color: #808000\">...</span>                                                                                                    <a href=\"file://C:\\Users\\BHSU\\AppData\\Local\\Programs\\Python\\Python39\\lib\\site-packages\\openfl\\component\\aggregator\\aggregator.py\" target=\"_blank\"><span style=\"color: #7f7f7f; text-decoration-color: #7f7f7f\">aggregator.py</span></a><span style=\"color: #7f7f7f; text-decoration-color: #7f7f7f\">:</span><a href=\"file://C:\\Users\\BHSU\\AppData\\Local\\Programs\\Python\\Python39\\lib\\site-packages\\openfl\\component\\aggregator\\aggregator.py#894\" target=\"_blank\"><span style=\"color: #7f7f7f; text-decoration-color: #7f7f7f\">894</span></a>\n",
       "</pre>\n"
      ],
      "text/plain": [
       "\u001b[2;36m          \u001b[0m\u001b[2;36m \u001b[0m\u001b[34mINFO    \u001b[0m Saving round \u001b[1;36m2\u001b[0m model\u001b[33m...\u001b[0m                                                                                                    \u001b]8;id=573311;file://C:\\Users\\BHSU\\AppData\\Local\\Programs\\Python\\Python39\\lib\\site-packages\\openfl\\component\\aggregator\\aggregator.py\u001b\\\u001b[2maggregator.py\u001b[0m\u001b]8;;\u001b\\\u001b[2m:\u001b[0m\u001b]8;id=25052;file://C:\\Users\\BHSU\\AppData\\Local\\Programs\\Python\\Python39\\lib\\site-packages\\openfl\\component\\aggregator\\aggregator.py#894\u001b\\\u001b[2m894\u001b[0m\u001b]8;;\u001b\\\n"
      ]
     },
     "metadata": {},
     "output_type": "display_data"
    },
    {
     "data": {
      "text/html": [
       "<pre style=\"white-space:pre;overflow-x:auto;line-height:normal;font-family:Menlo,'DejaVu Sans Mono',consolas,'Courier New',monospace\"><span style=\"color: #7fbfbf; text-decoration-color: #7fbfbf\">           </span><span style=\"color: #000080; text-decoration-color: #000080\">INFO    </span> Starting round <span style=\"color: #008080; text-decoration-color: #008080; font-weight: bold\">2</span><span style=\"color: #808000; text-decoration-color: #808000\">...</span>                                                                                                        <a href=\"file://C:\\Users\\BHSU\\AppData\\Local\\Programs\\Python\\Python39\\lib\\site-packages\\openfl\\component\\aggregator\\aggregator.py\" target=\"_blank\"><span style=\"color: #7f7f7f; text-decoration-color: #7f7f7f\">aggregator.py</span></a><span style=\"color: #7f7f7f; text-decoration-color: #7f7f7f\">:</span><a href=\"file://C:\\Users\\BHSU\\AppData\\Local\\Programs\\Python\\Python39\\lib\\site-packages\\openfl\\component\\aggregator\\aggregator.py#901\" target=\"_blank\"><span style=\"color: #7f7f7f; text-decoration-color: #7f7f7f\">901</span></a>\n",
       "</pre>\n"
      ],
      "text/plain": [
       "\u001b[2;36m          \u001b[0m\u001b[2;36m \u001b[0m\u001b[34mINFO    \u001b[0m Starting round \u001b[1;36m2\u001b[0m\u001b[33m...\u001b[0m                                                                                                        \u001b]8;id=966582;file://C:\\Users\\BHSU\\AppData\\Local\\Programs\\Python\\Python39\\lib\\site-packages\\openfl\\component\\aggregator\\aggregator.py\u001b\\\u001b[2maggregator.py\u001b[0m\u001b]8;;\u001b\\\u001b[2m:\u001b[0m\u001b]8;id=311208;file://C:\\Users\\BHSU\\AppData\\Local\\Programs\\Python\\Python39\\lib\\site-packages\\openfl\\component\\aggregator\\aggregator.py#901\u001b\\\u001b[2m901\u001b[0m\u001b]8;;\u001b\\\n"
      ]
     },
     "metadata": {},
     "output_type": "display_data"
    },
    {
     "data": {
      "text/html": [
       "<pre style=\"white-space:pre;overflow-x:auto;line-height:normal;font-family:Menlo,'DejaVu Sans Mono',consolas,'Courier New',monospace\"><span style=\"color: #7fbfbf; text-decoration-color: #7fbfbf\">           </span><span style=\"color: #000080; text-decoration-color: #000080\">INFO    </span> All tasks completed on one for round <span style=\"color: #008080; text-decoration-color: #008080; font-weight: bold\">1</span><span style=\"color: #808000; text-decoration-color: #808000\">...</span>                                                                                <a href=\"file://C:\\Users\\BHSU\\AppData\\Local\\Programs\\Python\\Python39\\lib\\site-packages\\openfl\\component\\collaborator\\collaborator.py\" target=\"_blank\"><span style=\"color: #7f7f7f; text-decoration-color: #7f7f7f\">collaborator.py</span></a><span style=\"color: #7f7f7f; text-decoration-color: #7f7f7f\">:</span><a href=\"file://C:\\Users\\BHSU\\AppData\\Local\\Programs\\Python\\Python39\\lib\\site-packages\\openfl\\component\\collaborator\\collaborator.py#171\" target=\"_blank\"><span style=\"color: #7f7f7f; text-decoration-color: #7f7f7f\">171</span></a>\n",
       "</pre>\n"
      ],
      "text/plain": [
       "\u001b[2;36m          \u001b[0m\u001b[2;36m \u001b[0m\u001b[34mINFO    \u001b[0m All tasks completed on one for round \u001b[1;36m1\u001b[0m\u001b[33m...\u001b[0m                                                                                \u001b]8;id=386008;file://C:\\Users\\BHSU\\AppData\\Local\\Programs\\Python\\Python39\\lib\\site-packages\\openfl\\component\\collaborator\\collaborator.py\u001b\\\u001b[2mcollaborator.py\u001b[0m\u001b]8;;\u001b\\\u001b[2m:\u001b[0m\u001b]8;id=129829;file://C:\\Users\\BHSU\\AppData\\Local\\Programs\\Python\\Python39\\lib\\site-packages\\openfl\\component\\collaborator\\collaborator.py#171\u001b\\\u001b[2m171\u001b[0m\u001b]8;;\u001b\\\n"
      ]
     },
     "metadata": {},
     "output_type": "display_data"
    },
    {
     "data": {
      "text/html": [
       "<pre style=\"white-space:pre;overflow-x:auto;line-height:normal;font-family:Menlo,'DejaVu Sans Mono',consolas,'Courier New',monospace\"><span style=\"color: #7fbfbf; text-decoration-color: #7fbfbf\">           </span><span style=\"color: #000080; text-decoration-color: #000080\">INFO    </span> Waiting for tasks<span style=\"color: #808000; text-decoration-color: #808000\">...</span>                                                                                                     <a href=\"file://C:\\Users\\BHSU\\AppData\\Local\\Programs\\Python\\Python39\\lib\\site-packages\\openfl\\component\\collaborator\\collaborator.py\" target=\"_blank\"><span style=\"color: #7f7f7f; text-decoration-color: #7f7f7f\">collaborator.py</span></a><span style=\"color: #7f7f7f; text-decoration-color: #7f7f7f\">:</span><a href=\"file://C:\\Users\\BHSU\\AppData\\Local\\Programs\\Python\\Python39\\lib\\site-packages\\openfl\\component\\collaborator\\collaborator.py#178\" target=\"_blank\"><span style=\"color: #7f7f7f; text-decoration-color: #7f7f7f\">178</span></a>\n",
       "</pre>\n"
      ],
      "text/plain": [
       "\u001b[2;36m          \u001b[0m\u001b[2;36m \u001b[0m\u001b[34mINFO    \u001b[0m Waiting for tasks\u001b[33m...\u001b[0m                                                                                                     \u001b]8;id=95994;file://C:\\Users\\BHSU\\AppData\\Local\\Programs\\Python\\Python39\\lib\\site-packages\\openfl\\component\\collaborator\\collaborator.py\u001b\\\u001b[2mcollaborator.py\u001b[0m\u001b]8;;\u001b\\\u001b[2m:\u001b[0m\u001b]8;id=682308;file://C:\\Users\\BHSU\\AppData\\Local\\Programs\\Python\\Python39\\lib\\site-packages\\openfl\\component\\collaborator\\collaborator.py#178\u001b\\\u001b[2m178\u001b[0m\u001b]8;;\u001b\\\n"
      ]
     },
     "metadata": {},
     "output_type": "display_data"
    },
    {
     "data": {
      "text/html": [
       "<pre style=\"white-space:pre;overflow-x:auto;line-height:normal;font-family:Menlo,'DejaVu Sans Mono',consolas,'Courier New',monospace\"><span style=\"color: #7fbfbf; text-decoration-color: #7fbfbf\">           </span><span style=\"color: #000080; text-decoration-color: #000080\">INFO    </span> Sending tasks to collaborator one for round <span style=\"color: #008080; text-decoration-color: #008080; font-weight: bold\">2</span>                                                                              <a href=\"file://C:\\Users\\BHSU\\AppData\\Local\\Programs\\Python\\Python39\\lib\\site-packages\\openfl\\component\\aggregator\\aggregator.py\" target=\"_blank\"><span style=\"color: #7f7f7f; text-decoration-color: #7f7f7f\">aggregator.py</span></a><span style=\"color: #7f7f7f; text-decoration-color: #7f7f7f\">:</span><a href=\"file://C:\\Users\\BHSU\\AppData\\Local\\Programs\\Python\\Python39\\lib\\site-packages\\openfl\\component\\aggregator\\aggregator.py#329\" target=\"_blank\"><span style=\"color: #7f7f7f; text-decoration-color: #7f7f7f\">329</span></a>\n",
       "</pre>\n"
      ],
      "text/plain": [
       "\u001b[2;36m          \u001b[0m\u001b[2;36m \u001b[0m\u001b[34mINFO    \u001b[0m Sending tasks to collaborator one for round \u001b[1;36m2\u001b[0m                                                                              \u001b]8;id=637810;file://C:\\Users\\BHSU\\AppData\\Local\\Programs\\Python\\Python39\\lib\\site-packages\\openfl\\component\\aggregator\\aggregator.py\u001b\\\u001b[2maggregator.py\u001b[0m\u001b]8;;\u001b\\\u001b[2m:\u001b[0m\u001b]8;id=95133;file://C:\\Users\\BHSU\\AppData\\Local\\Programs\\Python\\Python39\\lib\\site-packages\\openfl\\component\\aggregator\\aggregator.py#329\u001b\\\u001b[2m329\u001b[0m\u001b]8;;\u001b\\\n"
      ]
     },
     "metadata": {},
     "output_type": "display_data"
    },
    {
     "data": {
      "text/html": [
       "<pre style=\"white-space:pre;overflow-x:auto;line-height:normal;font-family:Menlo,'DejaVu Sans Mono',consolas,'Courier New',monospace\"><span style=\"color: #7fbfbf; text-decoration-color: #7fbfbf\">           </span><span style=\"color: #000080; text-decoration-color: #000080\">INFO    </span> Received the following tasks: <span style=\"font-weight: bold\">[</span><span style=\"color: #008000; text-decoration-color: #008000\">'aggregated_model_validation'</span>, <span style=\"color: #008000; text-decoration-color: #008000\">'train'</span>, <span style=\"color: #008000; text-decoration-color: #008000\">'locally_tuned_model_validation'</span><span style=\"font-weight: bold\">]</span>                 <a href=\"file://C:\\Users\\BHSU\\AppData\\Local\\Programs\\Python\\Python39\\lib\\site-packages\\openfl\\component\\collaborator\\collaborator.py\" target=\"_blank\"><span style=\"color: #7f7f7f; text-decoration-color: #7f7f7f\">collaborator.py</span></a><span style=\"color: #7f7f7f; text-decoration-color: #7f7f7f\">:</span><a href=\"file://C:\\Users\\BHSU\\AppData\\Local\\Programs\\Python\\Python39\\lib\\site-packages\\openfl\\component\\collaborator\\collaborator.py#168\" target=\"_blank\"><span style=\"color: #7f7f7f; text-decoration-color: #7f7f7f\">168</span></a>\n",
       "</pre>\n"
      ],
      "text/plain": [
       "\u001b[2;36m          \u001b[0m\u001b[2;36m \u001b[0m\u001b[34mINFO    \u001b[0m Received the following tasks: \u001b[1m[\u001b[0m\u001b[32m'aggregated_model_validation'\u001b[0m, \u001b[32m'train'\u001b[0m, \u001b[32m'locally_tuned_model_validation'\u001b[0m\u001b[1m]\u001b[0m                 \u001b]8;id=706232;file://C:\\Users\\BHSU\\AppData\\Local\\Programs\\Python\\Python39\\lib\\site-packages\\openfl\\component\\collaborator\\collaborator.py\u001b\\\u001b[2mcollaborator.py\u001b[0m\u001b]8;;\u001b\\\u001b[2m:\u001b[0m\u001b]8;id=558845;file://C:\\Users\\BHSU\\AppData\\Local\\Programs\\Python\\Python39\\lib\\site-packages\\openfl\\component\\collaborator\\collaborator.py#168\u001b\\\u001b[2m168\u001b[0m\u001b]8;;\u001b\\\n"
      ]
     },
     "metadata": {},
     "output_type": "display_data"
    },
    {
     "data": {
      "text/html": [
       "<pre style=\"white-space:pre;overflow-x:auto;line-height:normal;font-family:Menlo,'DejaVu Sans Mono',consolas,'Courier New',monospace\"><span style=\"color: #7fbfbf; text-decoration-color: #7fbfbf\">           </span><span style=\"color: #000080; text-decoration-color: #000080\">INFO    </span> Using TaskRunner subclassing API                                                                                         <a href=\"file://C:\\Users\\BHSU\\AppData\\Local\\Programs\\Python\\Python39\\lib\\site-packages\\openfl\\component\\collaborator\\collaborator.py\" target=\"_blank\"><span style=\"color: #7f7f7f; text-decoration-color: #7f7f7f\">collaborator.py</span></a><span style=\"color: #7f7f7f; text-decoration-color: #7f7f7f\">:</span><a href=\"file://C:\\Users\\BHSU\\AppData\\Local\\Programs\\Python\\Python39\\lib\\site-packages\\openfl\\component\\collaborator\\collaborator.py#253\" target=\"_blank\"><span style=\"color: #7f7f7f; text-decoration-color: #7f7f7f\">253</span></a>\n",
       "</pre>\n"
      ],
      "text/plain": [
       "\u001b[2;36m          \u001b[0m\u001b[2;36m \u001b[0m\u001b[34mINFO    \u001b[0m Using TaskRunner subclassing API                                                                                         \u001b]8;id=83971;file://C:\\Users\\BHSU\\AppData\\Local\\Programs\\Python\\Python39\\lib\\site-packages\\openfl\\component\\collaborator\\collaborator.py\u001b\\\u001b[2mcollaborator.py\u001b[0m\u001b]8;;\u001b\\\u001b[2m:\u001b[0m\u001b]8;id=633086;file://C:\\Users\\BHSU\\AppData\\Local\\Programs\\Python\\Python39\\lib\\site-packages\\openfl\\component\\collaborator\\collaborator.py#253\u001b\\\u001b[2m253\u001b[0m\u001b]8;;\u001b\\\n"
      ]
     },
     "metadata": {},
     "output_type": "display_data"
    },
    {
     "name": "stdout",
     "output_type": "stream",
     "text": [
      "563/563 [==============================] - 0s 521us/step - loss: 0.1797 - accuracy: 0.9441\n"
     ]
    },
    {
     "data": {
      "text/html": [
       "<pre style=\"white-space:pre;overflow-x:auto;line-height:normal;font-family:Menlo,'DejaVu Sans Mono',consolas,'Courier New',monospace\"><span style=\"color: #7fbfbf; text-decoration-color: #7fbfbf\">[17:01:53] </span>METRIC   Round <span style=\"color: #008080; text-decoration-color: #008080; font-weight: bold\">2</span>, collaborator one is sending metric for task aggregated_model_validation: accuracy      <span style=\"color: #008080; text-decoration-color: #008080; font-weight: bold\">0.944056</span>                 <a href=\"file://C:\\Users\\BHSU\\AppData\\Local\\Programs\\Python\\Python39\\lib\\site-packages\\openfl\\component\\collaborator\\collaborator.py\" target=\"_blank\"><span style=\"color: #7f7f7f; text-decoration-color: #7f7f7f\">collaborator.py</span></a><span style=\"color: #7f7f7f; text-decoration-color: #7f7f7f\">:</span><a href=\"file://C:\\Users\\BHSU\\AppData\\Local\\Programs\\Python\\Python39\\lib\\site-packages\\openfl\\component\\collaborator\\collaborator.py#415\" target=\"_blank\"><span style=\"color: #7f7f7f; text-decoration-color: #7f7f7f\">415</span></a>\n",
       "</pre>\n"
      ],
      "text/plain": [
       "\u001b[2;36m[17:01:53]\u001b[0m\u001b[2;36m \u001b[0mMETRIC   Round \u001b[1;36m2\u001b[0m, collaborator one is sending metric for task aggregated_model_validation: accuracy      \u001b[1;36m0.944056\u001b[0m                 \u001b]8;id=1669;file://C:\\Users\\BHSU\\AppData\\Local\\Programs\\Python\\Python39\\lib\\site-packages\\openfl\\component\\collaborator\\collaborator.py\u001b\\\u001b[2mcollaborator.py\u001b[0m\u001b]8;;\u001b\\\u001b[2m:\u001b[0m\u001b]8;id=999630;file://C:\\Users\\BHSU\\AppData\\Local\\Programs\\Python\\Python39\\lib\\site-packages\\openfl\\component\\collaborator\\collaborator.py#415\u001b\\\u001b[2m415\u001b[0m\u001b]8;;\u001b\\\n"
      ]
     },
     "metadata": {},
     "output_type": "display_data"
    },
    {
     "data": {
      "text/html": [
       "<pre style=\"white-space:pre;overflow-x:auto;line-height:normal;font-family:Menlo,'DejaVu Sans Mono',consolas,'Courier New',monospace\"><span style=\"color: #7fbfbf; text-decoration-color: #7fbfbf\">           </span><span style=\"color: #000080; text-decoration-color: #000080\">INFO    </span> Collaborator one is sending task results for aggregated_model_validation, round <span style=\"color: #008080; text-decoration-color: #008080; font-weight: bold\">2</span>                                          <a href=\"file://C:\\Users\\BHSU\\AppData\\Local\\Programs\\Python\\Python39\\lib\\site-packages\\openfl\\component\\aggregator\\aggregator.py\" target=\"_blank\"><span style=\"color: #7f7f7f; text-decoration-color: #7f7f7f\">aggregator.py</span></a><span style=\"color: #7f7f7f; text-decoration-color: #7f7f7f\">:</span><a href=\"file://C:\\Users\\BHSU\\AppData\\Local\\Programs\\Python\\Python39\\lib\\site-packages\\openfl\\component\\aggregator\\aggregator.py#520\" target=\"_blank\"><span style=\"color: #7f7f7f; text-decoration-color: #7f7f7f\">520</span></a>\n",
       "</pre>\n"
      ],
      "text/plain": [
       "\u001b[2;36m          \u001b[0m\u001b[2;36m \u001b[0m\u001b[34mINFO    \u001b[0m Collaborator one is sending task results for aggregated_model_validation, round \u001b[1;36m2\u001b[0m                                          \u001b]8;id=34214;file://C:\\Users\\BHSU\\AppData\\Local\\Programs\\Python\\Python39\\lib\\site-packages\\openfl\\component\\aggregator\\aggregator.py\u001b\\\u001b[2maggregator.py\u001b[0m\u001b]8;;\u001b\\\u001b[2m:\u001b[0m\u001b]8;id=723883;file://C:\\Users\\BHSU\\AppData\\Local\\Programs\\Python\\Python39\\lib\\site-packages\\openfl\\component\\aggregator\\aggregator.py#520\u001b\\\u001b[2m520\u001b[0m\u001b]8;;\u001b\\\n"
      ]
     },
     "metadata": {},
     "output_type": "display_data"
    },
    {
     "data": {
      "text/html": [
       "<pre style=\"white-space:pre;overflow-x:auto;line-height:normal;font-family:Menlo,'DejaVu Sans Mono',consolas,'Courier New',monospace\"><span style=\"color: #7fbfbf; text-decoration-color: #7fbfbf\">           </span>METRIC   Round <span style=\"color: #008080; text-decoration-color: #008080; font-weight: bold\">2</span>, collaborator validate_agg aggregated_model_validation result accuracy: <span style=\"color: #008080; text-decoration-color: #008080; font-weight: bold\">0.944056</span>                                   <a href=\"file://C:\\Users\\BHSU\\AppData\\Local\\Programs\\Python\\Python39\\lib\\site-packages\\openfl\\component\\aggregator\\aggregator.py\" target=\"_blank\"><span style=\"color: #7f7f7f; text-decoration-color: #7f7f7f\">aggregator.py</span></a><span style=\"color: #7f7f7f; text-decoration-color: #7f7f7f\">:</span><a href=\"file://C:\\Users\\BHSU\\AppData\\Local\\Programs\\Python\\Python39\\lib\\site-packages\\openfl\\component\\aggregator\\aggregator.py#559\" target=\"_blank\"><span style=\"color: #7f7f7f; text-decoration-color: #7f7f7f\">559</span></a>\n",
       "</pre>\n"
      ],
      "text/plain": [
       "\u001b[2;36m          \u001b[0m\u001b[2;36m \u001b[0mMETRIC   Round \u001b[1;36m2\u001b[0m, collaborator validate_agg aggregated_model_validation result accuracy: \u001b[1;36m0.944056\u001b[0m                                   \u001b]8;id=628031;file://C:\\Users\\BHSU\\AppData\\Local\\Programs\\Python\\Python39\\lib\\site-packages\\openfl\\component\\aggregator\\aggregator.py\u001b\\\u001b[2maggregator.py\u001b[0m\u001b]8;;\u001b\\\u001b[2m:\u001b[0m\u001b]8;id=73575;file://C:\\Users\\BHSU\\AppData\\Local\\Programs\\Python\\Python39\\lib\\site-packages\\openfl\\component\\aggregator\\aggregator.py#559\u001b\\\u001b[2m559\u001b[0m\u001b]8;;\u001b\\\n"
      ]
     },
     "metadata": {},
     "output_type": "display_data"
    },
    {
     "data": {
      "text/html": [
       "<pre style=\"white-space:pre;overflow-x:auto;line-height:normal;font-family:Menlo,'DejaVu Sans Mono',consolas,'Courier New',monospace\"><span style=\"color: #7fbfbf; text-decoration-color: #7fbfbf\">           </span><span style=\"color: #000080; text-decoration-color: #000080\">INFO    </span> Using TaskRunner subclassing API                                                                                         <a href=\"file://C:\\Users\\BHSU\\AppData\\Local\\Programs\\Python\\Python39\\lib\\site-packages\\openfl\\component\\collaborator\\collaborator.py\" target=\"_blank\"><span style=\"color: #7f7f7f; text-decoration-color: #7f7f7f\">collaborator.py</span></a><span style=\"color: #7f7f7f; text-decoration-color: #7f7f7f\">:</span><a href=\"file://C:\\Users\\BHSU\\AppData\\Local\\Programs\\Python\\Python39\\lib\\site-packages\\openfl\\component\\collaborator\\collaborator.py#253\" target=\"_blank\"><span style=\"color: #7f7f7f; text-decoration-color: #7f7f7f\">253</span></a>\n",
       "</pre>\n"
      ],
      "text/plain": [
       "\u001b[2;36m          \u001b[0m\u001b[2;36m \u001b[0m\u001b[34mINFO    \u001b[0m Using TaskRunner subclassing API                                                                                         \u001b]8;id=855045;file://C:\\Users\\BHSU\\AppData\\Local\\Programs\\Python\\Python39\\lib\\site-packages\\openfl\\component\\collaborator\\collaborator.py\u001b\\\u001b[2mcollaborator.py\u001b[0m\u001b]8;;\u001b\\\u001b[2m:\u001b[0m\u001b]8;id=50815;file://C:\\Users\\BHSU\\AppData\\Local\\Programs\\Python\\Python39\\lib\\site-packages\\openfl\\component\\collaborator\\collaborator.py#253\u001b\\\u001b[2m253\u001b[0m\u001b]8;;\u001b\\\n"
      ]
     },
     "metadata": {},
     "output_type": "display_data"
    },
    {
     "data": {
      "text/html": [
       "<pre style=\"white-space:pre;overflow-x:auto;line-height:normal;font-family:Menlo,'DejaVu Sans Mono',consolas,'Courier New',monospace\"><span style=\"color: #7fbfbf; text-decoration-color: #7fbfbf\">           </span><span style=\"color: #000080; text-decoration-color: #000080\">INFO    </span> Run <span style=\"color: #008080; text-decoration-color: #008080; font-weight: bold\">0</span> epoch of <span style=\"color: #008080; text-decoration-color: #008080; font-weight: bold\">2</span> round                                                                                                    <a href=\"file://C:\\Users\\BHSU\\AppData\\Local\\Programs\\Python\\Python39\\lib\\site-packages\\openfl\\federated\\task\\runner_keras.py\" target=\"_blank\"><span style=\"color: #7f7f7f; text-decoration-color: #7f7f7f\">runner_keras.py</span></a><span style=\"color: #7f7f7f; text-decoration-color: #7f7f7f\">:</span><a href=\"file://C:\\Users\\BHSU\\AppData\\Local\\Programs\\Python\\Python39\\lib\\site-packages\\openfl\\federated\\task\\runner_keras.py#83\" target=\"_blank\"><span style=\"color: #7f7f7f; text-decoration-color: #7f7f7f\">83</span></a>\n",
       "</pre>\n"
      ],
      "text/plain": [
       "\u001b[2;36m          \u001b[0m\u001b[2;36m \u001b[0m\u001b[34mINFO    \u001b[0m Run \u001b[1;36m0\u001b[0m epoch of \u001b[1;36m2\u001b[0m round                                                                                                    \u001b]8;id=169434;file://C:\\Users\\BHSU\\AppData\\Local\\Programs\\Python\\Python39\\lib\\site-packages\\openfl\\federated\\task\\runner_keras.py\u001b\\\u001b[2mrunner_keras.py\u001b[0m\u001b]8;;\u001b\\\u001b[2m:\u001b[0m\u001b]8;id=944634;file://C:\\Users\\BHSU\\AppData\\Local\\Programs\\Python\\Python39\\lib\\site-packages\\openfl\\federated\\task\\runner_keras.py#83\u001b\\\u001b[2m83\u001b[0m\u001b]8;;\u001b\\\n"
      ]
     },
     "metadata": {},
     "output_type": "display_data"
    },
    {
     "name": "stdout",
     "output_type": "stream",
     "text": [
      "1313/1313 [==============================] - 1s 607us/step - loss: 0.1626 - accuracy: 0.9504\n"
     ]
    },
    {
     "data": {
      "text/html": [
       "<pre style=\"white-space:pre;overflow-x:auto;line-height:normal;font-family:Menlo,'DejaVu Sans Mono',consolas,'Courier New',monospace\"><span style=\"color: #7fbfbf; text-decoration-color: #7fbfbf\">[17:01:54] </span>METRIC   Round <span style=\"color: #008080; text-decoration-color: #008080; font-weight: bold\">2</span>, collaborator one is sending metric for task train: loss        <span style=\"color: #008080; text-decoration-color: #008080; font-weight: bold\">0.162589</span>                                         <a href=\"file://C:\\Users\\BHSU\\AppData\\Local\\Programs\\Python\\Python39\\lib\\site-packages\\openfl\\component\\collaborator\\collaborator.py\" target=\"_blank\"><span style=\"color: #7f7f7f; text-decoration-color: #7f7f7f\">collaborator.py</span></a><span style=\"color: #7f7f7f; text-decoration-color: #7f7f7f\">:</span><a href=\"file://C:\\Users\\BHSU\\AppData\\Local\\Programs\\Python\\Python39\\lib\\site-packages\\openfl\\component\\collaborator\\collaborator.py#415\" target=\"_blank\"><span style=\"color: #7f7f7f; text-decoration-color: #7f7f7f\">415</span></a>\n",
       "</pre>\n"
      ],
      "text/plain": [
       "\u001b[2;36m[17:01:54]\u001b[0m\u001b[2;36m \u001b[0mMETRIC   Round \u001b[1;36m2\u001b[0m, collaborator one is sending metric for task train: loss        \u001b[1;36m0.162589\u001b[0m                                         \u001b]8;id=892324;file://C:\\Users\\BHSU\\AppData\\Local\\Programs\\Python\\Python39\\lib\\site-packages\\openfl\\component\\collaborator\\collaborator.py\u001b\\\u001b[2mcollaborator.py\u001b[0m\u001b]8;;\u001b\\\u001b[2m:\u001b[0m\u001b]8;id=724996;file://C:\\Users\\BHSU\\AppData\\Local\\Programs\\Python\\Python39\\lib\\site-packages\\openfl\\component\\collaborator\\collaborator.py#415\u001b\\\u001b[2m415\u001b[0m\u001b]8;;\u001b\\\n"
      ]
     },
     "metadata": {},
     "output_type": "display_data"
    },
    {
     "data": {
      "text/html": [
       "<pre style=\"white-space:pre;overflow-x:auto;line-height:normal;font-family:Menlo,'DejaVu Sans Mono',consolas,'Courier New',monospace\"><span style=\"color: #7fbfbf; text-decoration-color: #7fbfbf\">           </span><span style=\"color: #000080; text-decoration-color: #000080\">INFO    </span> Collaborator one is sending task results for train, round <span style=\"color: #008080; text-decoration-color: #008080; font-weight: bold\">2</span>                                                                <a href=\"file://C:\\Users\\BHSU\\AppData\\Local\\Programs\\Python\\Python39\\lib\\site-packages\\openfl\\component\\aggregator\\aggregator.py\" target=\"_blank\"><span style=\"color: #7f7f7f; text-decoration-color: #7f7f7f\">aggregator.py</span></a><span style=\"color: #7f7f7f; text-decoration-color: #7f7f7f\">:</span><a href=\"file://C:\\Users\\BHSU\\AppData\\Local\\Programs\\Python\\Python39\\lib\\site-packages\\openfl\\component\\aggregator\\aggregator.py#520\" target=\"_blank\"><span style=\"color: #7f7f7f; text-decoration-color: #7f7f7f\">520</span></a>\n",
       "</pre>\n"
      ],
      "text/plain": [
       "\u001b[2;36m          \u001b[0m\u001b[2;36m \u001b[0m\u001b[34mINFO    \u001b[0m Collaborator one is sending task results for train, round \u001b[1;36m2\u001b[0m                                                                \u001b]8;id=827564;file://C:\\Users\\BHSU\\AppData\\Local\\Programs\\Python\\Python39\\lib\\site-packages\\openfl\\component\\aggregator\\aggregator.py\u001b\\\u001b[2maggregator.py\u001b[0m\u001b]8;;\u001b\\\u001b[2m:\u001b[0m\u001b]8;id=819046;file://C:\\Users\\BHSU\\AppData\\Local\\Programs\\Python\\Python39\\lib\\site-packages\\openfl\\component\\aggregator\\aggregator.py#520\u001b\\\u001b[2m520\u001b[0m\u001b]8;;\u001b\\\n"
      ]
     },
     "metadata": {},
     "output_type": "display_data"
    },
    {
     "data": {
      "text/html": [
       "<pre style=\"white-space:pre;overflow-x:auto;line-height:normal;font-family:Menlo,'DejaVu Sans Mono',consolas,'Courier New',monospace\"><span style=\"color: #7fbfbf; text-decoration-color: #7fbfbf\">           </span>METRIC   Round <span style=\"color: #008080; text-decoration-color: #008080; font-weight: bold\">2</span>, collaborator one train result loss:    <span style=\"color: #008080; text-decoration-color: #008080; font-weight: bold\">0.162589</span>                                                                   <a href=\"file://C:\\Users\\BHSU\\AppData\\Local\\Programs\\Python\\Python39\\lib\\site-packages\\openfl\\component\\aggregator\\aggregator.py\" target=\"_blank\"><span style=\"color: #7f7f7f; text-decoration-color: #7f7f7f\">aggregator.py</span></a><span style=\"color: #7f7f7f; text-decoration-color: #7f7f7f\">:</span><a href=\"file://C:\\Users\\BHSU\\AppData\\Local\\Programs\\Python\\Python39\\lib\\site-packages\\openfl\\component\\aggregator\\aggregator.py#559\" target=\"_blank\"><span style=\"color: #7f7f7f; text-decoration-color: #7f7f7f\">559</span></a>\n",
       "</pre>\n"
      ],
      "text/plain": [
       "\u001b[2;36m          \u001b[0m\u001b[2;36m \u001b[0mMETRIC   Round \u001b[1;36m2\u001b[0m, collaborator one train result loss:    \u001b[1;36m0.162589\u001b[0m                                                                   \u001b]8;id=755196;file://C:\\Users\\BHSU\\AppData\\Local\\Programs\\Python\\Python39\\lib\\site-packages\\openfl\\component\\aggregator\\aggregator.py\u001b\\\u001b[2maggregator.py\u001b[0m\u001b]8;;\u001b\\\u001b[2m:\u001b[0m\u001b]8;id=451808;file://C:\\Users\\BHSU\\AppData\\Local\\Programs\\Python\\Python39\\lib\\site-packages\\openfl\\component\\aggregator\\aggregator.py#559\u001b\\\u001b[2m559\u001b[0m\u001b]8;;\u001b\\\n"
      ]
     },
     "metadata": {},
     "output_type": "display_data"
    },
    {
     "data": {
      "text/html": [
       "<pre style=\"white-space:pre;overflow-x:auto;line-height:normal;font-family:Menlo,'DejaVu Sans Mono',consolas,'Courier New',monospace\"><span style=\"color: #7fbfbf; text-decoration-color: #7fbfbf\">           </span><span style=\"color: #000080; text-decoration-color: #000080\">INFO    </span> Using TaskRunner subclassing API                                                                                         <a href=\"file://C:\\Users\\BHSU\\AppData\\Local\\Programs\\Python\\Python39\\lib\\site-packages\\openfl\\component\\collaborator\\collaborator.py\" target=\"_blank\"><span style=\"color: #7f7f7f; text-decoration-color: #7f7f7f\">collaborator.py</span></a><span style=\"color: #7f7f7f; text-decoration-color: #7f7f7f\">:</span><a href=\"file://C:\\Users\\BHSU\\AppData\\Local\\Programs\\Python\\Python39\\lib\\site-packages\\openfl\\component\\collaborator\\collaborator.py#253\" target=\"_blank\"><span style=\"color: #7f7f7f; text-decoration-color: #7f7f7f\">253</span></a>\n",
       "</pre>\n"
      ],
      "text/plain": [
       "\u001b[2;36m          \u001b[0m\u001b[2;36m \u001b[0m\u001b[34mINFO    \u001b[0m Using TaskRunner subclassing API                                                                                         \u001b]8;id=908242;file://C:\\Users\\BHSU\\AppData\\Local\\Programs\\Python\\Python39\\lib\\site-packages\\openfl\\component\\collaborator\\collaborator.py\u001b\\\u001b[2mcollaborator.py\u001b[0m\u001b]8;;\u001b\\\u001b[2m:\u001b[0m\u001b]8;id=725917;file://C:\\Users\\BHSU\\AppData\\Local\\Programs\\Python\\Python39\\lib\\site-packages\\openfl\\component\\collaborator\\collaborator.py#253\u001b\\\u001b[2m253\u001b[0m\u001b]8;;\u001b\\\n"
      ]
     },
     "metadata": {},
     "output_type": "display_data"
    },
    {
     "name": "stdout",
     "output_type": "stream",
     "text": [
      "563/563 [==============================] - 0s 511us/step - loss: 0.1672 - accuracy: 0.9512\n"
     ]
    },
    {
     "data": {
      "text/html": [
       "<pre style=\"white-space:pre;overflow-x:auto;line-height:normal;font-family:Menlo,'DejaVu Sans Mono',consolas,'Courier New',monospace\"><span style=\"color: #7fbfbf; text-decoration-color: #7fbfbf\">           </span>METRIC   Round <span style=\"color: #008080; text-decoration-color: #008080; font-weight: bold\">2</span>, collaborator one is sending metric for task locally_tuned_model_validation: accuracy   <span style=\"color: #008080; text-decoration-color: #008080; font-weight: bold\">0.951167</span>                 <a href=\"file://C:\\Users\\BHSU\\AppData\\Local\\Programs\\Python\\Python39\\lib\\site-packages\\openfl\\component\\collaborator\\collaborator.py\" target=\"_blank\"><span style=\"color: #7f7f7f; text-decoration-color: #7f7f7f\">collaborator.py</span></a><span style=\"color: #7f7f7f; text-decoration-color: #7f7f7f\">:</span><a href=\"file://C:\\Users\\BHSU\\AppData\\Local\\Programs\\Python\\Python39\\lib\\site-packages\\openfl\\component\\collaborator\\collaborator.py#415\" target=\"_blank\"><span style=\"color: #7f7f7f; text-decoration-color: #7f7f7f\">415</span></a>\n",
       "</pre>\n"
      ],
      "text/plain": [
       "\u001b[2;36m          \u001b[0m\u001b[2;36m \u001b[0mMETRIC   Round \u001b[1;36m2\u001b[0m, collaborator one is sending metric for task locally_tuned_model_validation: accuracy   \u001b[1;36m0.951167\u001b[0m                 \u001b]8;id=821310;file://C:\\Users\\BHSU\\AppData\\Local\\Programs\\Python\\Python39\\lib\\site-packages\\openfl\\component\\collaborator\\collaborator.py\u001b\\\u001b[2mcollaborator.py\u001b[0m\u001b]8;;\u001b\\\u001b[2m:\u001b[0m\u001b]8;id=644283;file://C:\\Users\\BHSU\\AppData\\Local\\Programs\\Python\\Python39\\lib\\site-packages\\openfl\\component\\collaborator\\collaborator.py#415\u001b\\\u001b[2m415\u001b[0m\u001b]8;;\u001b\\\n"
      ]
     },
     "metadata": {},
     "output_type": "display_data"
    },
    {
     "data": {
      "text/html": [
       "<pre style=\"white-space:pre;overflow-x:auto;line-height:normal;font-family:Menlo,'DejaVu Sans Mono',consolas,'Courier New',monospace\"><span style=\"color: #7fbfbf; text-decoration-color: #7fbfbf\">           </span><span style=\"color: #000080; text-decoration-color: #000080\">INFO    </span> Collaborator one is sending task results for locally_tuned_model_validation, round <span style=\"color: #008080; text-decoration-color: #008080; font-weight: bold\">2</span>                                       <a href=\"file://C:\\Users\\BHSU\\AppData\\Local\\Programs\\Python\\Python39\\lib\\site-packages\\openfl\\component\\aggregator\\aggregator.py\" target=\"_blank\"><span style=\"color: #7f7f7f; text-decoration-color: #7f7f7f\">aggregator.py</span></a><span style=\"color: #7f7f7f; text-decoration-color: #7f7f7f\">:</span><a href=\"file://C:\\Users\\BHSU\\AppData\\Local\\Programs\\Python\\Python39\\lib\\site-packages\\openfl\\component\\aggregator\\aggregator.py#520\" target=\"_blank\"><span style=\"color: #7f7f7f; text-decoration-color: #7f7f7f\">520</span></a>\n",
       "</pre>\n"
      ],
      "text/plain": [
       "\u001b[2;36m          \u001b[0m\u001b[2;36m \u001b[0m\u001b[34mINFO    \u001b[0m Collaborator one is sending task results for locally_tuned_model_validation, round \u001b[1;36m2\u001b[0m                                       \u001b]8;id=314498;file://C:\\Users\\BHSU\\AppData\\Local\\Programs\\Python\\Python39\\lib\\site-packages\\openfl\\component\\aggregator\\aggregator.py\u001b\\\u001b[2maggregator.py\u001b[0m\u001b]8;;\u001b\\\u001b[2m:\u001b[0m\u001b]8;id=972289;file://C:\\Users\\BHSU\\AppData\\Local\\Programs\\Python\\Python39\\lib\\site-packages\\openfl\\component\\aggregator\\aggregator.py#520\u001b\\\u001b[2m520\u001b[0m\u001b]8;;\u001b\\\n"
      ]
     },
     "metadata": {},
     "output_type": "display_data"
    },
    {
     "data": {
      "text/html": [
       "<pre style=\"white-space:pre;overflow-x:auto;line-height:normal;font-family:Menlo,'DejaVu Sans Mono',consolas,'Courier New',monospace\"><span style=\"color: #7fbfbf; text-decoration-color: #7fbfbf\">           </span>METRIC   Round <span style=\"color: #008080; text-decoration-color: #008080; font-weight: bold\">2</span>, collaborator validate_local locally_tuned_model_validation result accuracy:    <span style=\"color: #008080; text-decoration-color: #008080; font-weight: bold\">0.951167</span>                           <a href=\"file://C:\\Users\\BHSU\\AppData\\Local\\Programs\\Python\\Python39\\lib\\site-packages\\openfl\\component\\aggregator\\aggregator.py\" target=\"_blank\"><span style=\"color: #7f7f7f; text-decoration-color: #7f7f7f\">aggregator.py</span></a><span style=\"color: #7f7f7f; text-decoration-color: #7f7f7f\">:</span><a href=\"file://C:\\Users\\BHSU\\AppData\\Local\\Programs\\Python\\Python39\\lib\\site-packages\\openfl\\component\\aggregator\\aggregator.py#559\" target=\"_blank\"><span style=\"color: #7f7f7f; text-decoration-color: #7f7f7f\">559</span></a>\n",
       "</pre>\n"
      ],
      "text/plain": [
       "\u001b[2;36m          \u001b[0m\u001b[2;36m \u001b[0mMETRIC   Round \u001b[1;36m2\u001b[0m, collaborator validate_local locally_tuned_model_validation result accuracy:    \u001b[1;36m0.951167\u001b[0m                           \u001b]8;id=552767;file://C:\\Users\\BHSU\\AppData\\Local\\Programs\\Python\\Python39\\lib\\site-packages\\openfl\\component\\aggregator\\aggregator.py\u001b\\\u001b[2maggregator.py\u001b[0m\u001b]8;;\u001b\\\u001b[2m:\u001b[0m\u001b]8;id=584595;file://C:\\Users\\BHSU\\AppData\\Local\\Programs\\Python\\Python39\\lib\\site-packages\\openfl\\component\\aggregator\\aggregator.py#559\u001b\\\u001b[2m559\u001b[0m\u001b]8;;\u001b\\\n"
      ]
     },
     "metadata": {},
     "output_type": "display_data"
    },
    {
     "data": {
      "text/html": [
       "<pre style=\"white-space:pre;overflow-x:auto;line-height:normal;font-family:Menlo,'DejaVu Sans Mono',consolas,'Courier New',monospace\"><span style=\"color: #7fbfbf; text-decoration-color: #7fbfbf\">           </span>METRIC   Round <span style=\"color: #008080; text-decoration-color: #008080; font-weight: bold\">2</span>, aggregator: locally_tuned_model_validation                                                                        <a href=\"file://C:\\Users\\BHSU\\AppData\\Local\\Programs\\Python\\Python39\\lib\\site-packages\\openfl\\component\\aggregator\\aggregator.py\" target=\"_blank\"><span style=\"color: #7f7f7f; text-decoration-color: #7f7f7f\">aggregator.py</span></a><span style=\"color: #7f7f7f; text-decoration-color: #7f7f7f\">:</span><a href=\"file://C:\\Users\\BHSU\\AppData\\Local\\Programs\\Python\\Python39\\lib\\site-packages\\openfl\\component\\aggregator\\aggregator.py#842\" target=\"_blank\"><span style=\"color: #7f7f7f; text-decoration-color: #7f7f7f\">842</span></a>\n",
       "<span style=\"color: #7fbfbf; text-decoration-color: #7fbfbf\">           </span>         <span style=\"font-weight: bold\">&lt;</span><span style=\"color: #ff00ff; text-decoration-color: #ff00ff; font-weight: bold\">openfl.interface.aggregation_functions.weighted_average.WeightedAverage</span><span style=\"color: #000000; text-decoration-color: #000000\"> object at </span><span style=\"color: #008080; text-decoration-color: #008080; font-weight: bold\">0x00000137CCF13D90</span><span style=\"font-weight: bold\">&gt;</span> accuracy:           <span style=\"color: #7f7f7f; text-decoration-color: #7f7f7f\">                 </span>\n",
       "<span style=\"color: #7fbfbf; text-decoration-color: #7fbfbf\">           </span>         <span style=\"color: #008080; text-decoration-color: #008080; font-weight: bold\">0.951167</span>                                                                                                                   <span style=\"color: #7f7f7f; text-decoration-color: #7f7f7f\">                 </span>\n",
       "</pre>\n"
      ],
      "text/plain": [
       "\u001b[2;36m          \u001b[0m\u001b[2;36m \u001b[0mMETRIC   Round \u001b[1;36m2\u001b[0m, aggregator: locally_tuned_model_validation                                                                        \u001b]8;id=497857;file://C:\\Users\\BHSU\\AppData\\Local\\Programs\\Python\\Python39\\lib\\site-packages\\openfl\\component\\aggregator\\aggregator.py\u001b\\\u001b[2maggregator.py\u001b[0m\u001b]8;;\u001b\\\u001b[2m:\u001b[0m\u001b]8;id=981157;file://C:\\Users\\BHSU\\AppData\\Local\\Programs\\Python\\Python39\\lib\\site-packages\\openfl\\component\\aggregator\\aggregator.py#842\u001b\\\u001b[2m842\u001b[0m\u001b]8;;\u001b\\\n",
       "\u001b[2;36m           \u001b[0m         \u001b[1m<\u001b[0m\u001b[1;95mopenfl.interface.aggregation_functions.weighted_average.WeightedAverage\u001b[0m\u001b[39m object at \u001b[0m\u001b[1;36m0x00000137CCF13D90\u001b[0m\u001b[1m>\u001b[0m accuracy:           \u001b[2m                 \u001b[0m\n",
       "\u001b[2;36m           \u001b[0m         \u001b[1;36m0.951167\u001b[0m                                                                                                                   \u001b[2m                 \u001b[0m\n"
      ]
     },
     "metadata": {},
     "output_type": "display_data"
    },
    {
     "data": {
      "text/html": [
       "<pre style=\"white-space:pre;overflow-x:auto;line-height:normal;font-family:Menlo,'DejaVu Sans Mono',consolas,'Courier New',monospace\"><span style=\"color: #7fbfbf; text-decoration-color: #7fbfbf\">           </span>METRIC   Round <span style=\"color: #008080; text-decoration-color: #008080; font-weight: bold\">2</span>, aggregator: train <span style=\"font-weight: bold\">&lt;</span><span style=\"color: #ff00ff; text-decoration-color: #ff00ff; font-weight: bold\">openfl.interface.aggregation_functions.weighted_average.WeightedAverage</span><span style=\"color: #000000; text-decoration-color: #000000\"> object at </span>             <a href=\"file://C:\\Users\\BHSU\\AppData\\Local\\Programs\\Python\\Python39\\lib\\site-packages\\openfl\\component\\aggregator\\aggregator.py\" target=\"_blank\"><span style=\"color: #7f7f7f; text-decoration-color: #7f7f7f\">aggregator.py</span></a><span style=\"color: #7f7f7f; text-decoration-color: #7f7f7f\">:</span><a href=\"file://C:\\Users\\BHSU\\AppData\\Local\\Programs\\Python\\Python39\\lib\\site-packages\\openfl\\component\\aggregator\\aggregator.py#842\" target=\"_blank\"><span style=\"color: #7f7f7f; text-decoration-color: #7f7f7f\">842</span></a>\n",
       "<span style=\"color: #7fbfbf; text-decoration-color: #7fbfbf\">           </span>         <span style=\"color: #008080; text-decoration-color: #008080; font-weight: bold\">0x00000137CCF13D90</span><span style=\"font-weight: bold\">&gt;</span> loss: <span style=\"color: #008080; text-decoration-color: #008080; font-weight: bold\">0.162589</span>                                                                                         <span style=\"color: #7f7f7f; text-decoration-color: #7f7f7f\">                 </span>\n",
       "</pre>\n"
      ],
      "text/plain": [
       "\u001b[2;36m          \u001b[0m\u001b[2;36m \u001b[0mMETRIC   Round \u001b[1;36m2\u001b[0m, aggregator: train \u001b[1m<\u001b[0m\u001b[1;95mopenfl.interface.aggregation_functions.weighted_average.WeightedAverage\u001b[0m\u001b[39m object at \u001b[0m             \u001b]8;id=894030;file://C:\\Users\\BHSU\\AppData\\Local\\Programs\\Python\\Python39\\lib\\site-packages\\openfl\\component\\aggregator\\aggregator.py\u001b\\\u001b[2maggregator.py\u001b[0m\u001b]8;;\u001b\\\u001b[2m:\u001b[0m\u001b]8;id=679546;file://C:\\Users\\BHSU\\AppData\\Local\\Programs\\Python\\Python39\\lib\\site-packages\\openfl\\component\\aggregator\\aggregator.py#842\u001b\\\u001b[2m842\u001b[0m\u001b]8;;\u001b\\\n",
       "\u001b[2;36m           \u001b[0m         \u001b[1;36m0x00000137CCF13D90\u001b[0m\u001b[1m>\u001b[0m loss: \u001b[1;36m0.162589\u001b[0m                                                                                         \u001b[2m                 \u001b[0m\n"
      ]
     },
     "metadata": {},
     "output_type": "display_data"
    },
    {
     "data": {
      "text/html": [
       "<pre style=\"white-space:pre;overflow-x:auto;line-height:normal;font-family:Menlo,'DejaVu Sans Mono',consolas,'Courier New',monospace\"><span style=\"color: #7fbfbf; text-decoration-color: #7fbfbf\">           </span>METRIC   Round <span style=\"color: #008080; text-decoration-color: #008080; font-weight: bold\">2</span>, aggregator: aggregated_model_validation <span style=\"font-weight: bold\">&lt;</span><span style=\"color: #ff00ff; text-decoration-color: #ff00ff; font-weight: bold\">openfl.interface.aggregation_functions.weighted_average.WeightedAverage</span><span style=\"color: #000000; text-decoration-color: #000000\"> </span> <a href=\"file://C:\\Users\\BHSU\\AppData\\Local\\Programs\\Python\\Python39\\lib\\site-packages\\openfl\\component\\aggregator\\aggregator.py\" target=\"_blank\"><span style=\"color: #7f7f7f; text-decoration-color: #7f7f7f\">aggregator.py</span></a><span style=\"color: #7f7f7f; text-decoration-color: #7f7f7f\">:</span><a href=\"file://C:\\Users\\BHSU\\AppData\\Local\\Programs\\Python\\Python39\\lib\\site-packages\\openfl\\component\\aggregator\\aggregator.py#842\" target=\"_blank\"><span style=\"color: #7f7f7f; text-decoration-color: #7f7f7f\">842</span></a>\n",
       "<span style=\"color: #7fbfbf; text-decoration-color: #7fbfbf\">           </span>         <span style=\"color: #000000; text-decoration-color: #000000\">object at </span><span style=\"color: #008080; text-decoration-color: #008080; font-weight: bold\">0x00000137CCF13D90</span><span style=\"font-weight: bold\">&gt;</span> accuracy:       <span style=\"color: #008080; text-decoration-color: #008080; font-weight: bold\">0.944056</span>                                                                     <span style=\"color: #7f7f7f; text-decoration-color: #7f7f7f\">                 </span>\n",
       "</pre>\n"
      ],
      "text/plain": [
       "\u001b[2;36m          \u001b[0m\u001b[2;36m \u001b[0mMETRIC   Round \u001b[1;36m2\u001b[0m, aggregator: aggregated_model_validation \u001b[1m<\u001b[0m\u001b[1;95mopenfl.interface.aggregation_functions.weighted_average.WeightedAverage\u001b[0m\u001b[39m \u001b[0m \u001b]8;id=182227;file://C:\\Users\\BHSU\\AppData\\Local\\Programs\\Python\\Python39\\lib\\site-packages\\openfl\\component\\aggregator\\aggregator.py\u001b\\\u001b[2maggregator.py\u001b[0m\u001b]8;;\u001b\\\u001b[2m:\u001b[0m\u001b]8;id=386580;file://C:\\Users\\BHSU\\AppData\\Local\\Programs\\Python\\Python39\\lib\\site-packages\\openfl\\component\\aggregator\\aggregator.py#842\u001b\\\u001b[2m842\u001b[0m\u001b]8;;\u001b\\\n",
       "\u001b[2;36m           \u001b[0m         \u001b[39mobject at \u001b[0m\u001b[1;36m0x00000137CCF13D90\u001b[0m\u001b[1m>\u001b[0m accuracy:       \u001b[1;36m0.944056\u001b[0m                                                                     \u001b[2m                 \u001b[0m\n"
      ]
     },
     "metadata": {},
     "output_type": "display_data"
    },
    {
     "data": {
      "text/html": [
       "<pre style=\"white-space:pre;overflow-x:auto;line-height:normal;font-family:Menlo,'DejaVu Sans Mono',consolas,'Courier New',monospace\"><span style=\"color: #7fbfbf; text-decoration-color: #7fbfbf\">           </span>METRIC   Round <span style=\"color: #008080; text-decoration-color: #008080; font-weight: bold\">2</span>: saved the best model with score <span style=\"color: #008080; text-decoration-color: #008080; font-weight: bold\">0.944056</span>                                                                          <a href=\"file://C:\\Users\\BHSU\\AppData\\Local\\Programs\\Python\\Python39\\lib\\site-packages\\openfl\\component\\aggregator\\aggregator.py\" target=\"_blank\"><span style=\"color: #7f7f7f; text-decoration-color: #7f7f7f\">aggregator.py</span></a><span style=\"color: #7f7f7f; text-decoration-color: #7f7f7f\">:</span><a href=\"file://C:\\Users\\BHSU\\AppData\\Local\\Programs\\Python\\Python39\\lib\\site-packages\\openfl\\component\\aggregator\\aggregator.py#858\" target=\"_blank\"><span style=\"color: #7f7f7f; text-decoration-color: #7f7f7f\">858</span></a>\n",
       "</pre>\n"
      ],
      "text/plain": [
       "\u001b[2;36m          \u001b[0m\u001b[2;36m \u001b[0mMETRIC   Round \u001b[1;36m2\u001b[0m: saved the best model with score \u001b[1;36m0.944056\u001b[0m                                                                          \u001b]8;id=676906;file://C:\\Users\\BHSU\\AppData\\Local\\Programs\\Python\\Python39\\lib\\site-packages\\openfl\\component\\aggregator\\aggregator.py\u001b\\\u001b[2maggregator.py\u001b[0m\u001b]8;;\u001b\\\u001b[2m:\u001b[0m\u001b]8;id=209227;file://C:\\Users\\BHSU\\AppData\\Local\\Programs\\Python\\Python39\\lib\\site-packages\\openfl\\component\\aggregator\\aggregator.py#858\u001b\\\u001b[2m858\u001b[0m\u001b]8;;\u001b\\\n"
      ]
     },
     "metadata": {},
     "output_type": "display_data"
    },
    {
     "data": {
      "text/html": [
       "<pre style=\"white-space:pre;overflow-x:auto;line-height:normal;font-family:Menlo,'DejaVu Sans Mono',consolas,'Courier New',monospace\"><span style=\"color: #7fbfbf; text-decoration-color: #7fbfbf\">           </span><span style=\"color: #000080; text-decoration-color: #000080\">INFO    </span> Saving round <span style=\"color: #008080; text-decoration-color: #008080; font-weight: bold\">3</span> model<span style=\"color: #808000; text-decoration-color: #808000\">...</span>                                                                                                    <a href=\"file://C:\\Users\\BHSU\\AppData\\Local\\Programs\\Python\\Python39\\lib\\site-packages\\openfl\\component\\aggregator\\aggregator.py\" target=\"_blank\"><span style=\"color: #7f7f7f; text-decoration-color: #7f7f7f\">aggregator.py</span></a><span style=\"color: #7f7f7f; text-decoration-color: #7f7f7f\">:</span><a href=\"file://C:\\Users\\BHSU\\AppData\\Local\\Programs\\Python\\Python39\\lib\\site-packages\\openfl\\component\\aggregator\\aggregator.py#894\" target=\"_blank\"><span style=\"color: #7f7f7f; text-decoration-color: #7f7f7f\">894</span></a>\n",
       "</pre>\n"
      ],
      "text/plain": [
       "\u001b[2;36m          \u001b[0m\u001b[2;36m \u001b[0m\u001b[34mINFO    \u001b[0m Saving round \u001b[1;36m3\u001b[0m model\u001b[33m...\u001b[0m                                                                                                    \u001b]8;id=963430;file://C:\\Users\\BHSU\\AppData\\Local\\Programs\\Python\\Python39\\lib\\site-packages\\openfl\\component\\aggregator\\aggregator.py\u001b\\\u001b[2maggregator.py\u001b[0m\u001b]8;;\u001b\\\u001b[2m:\u001b[0m\u001b]8;id=422425;file://C:\\Users\\BHSU\\AppData\\Local\\Programs\\Python\\Python39\\lib\\site-packages\\openfl\\component\\aggregator\\aggregator.py#894\u001b\\\u001b[2m894\u001b[0m\u001b]8;;\u001b\\\n"
      ]
     },
     "metadata": {},
     "output_type": "display_data"
    },
    {
     "data": {
      "text/html": [
       "<pre style=\"white-space:pre;overflow-x:auto;line-height:normal;font-family:Menlo,'DejaVu Sans Mono',consolas,'Courier New',monospace\"><span style=\"color: #7fbfbf; text-decoration-color: #7fbfbf\">           </span><span style=\"color: #000080; text-decoration-color: #000080\">INFO    </span> Starting round <span style=\"color: #008080; text-decoration-color: #008080; font-weight: bold\">3</span><span style=\"color: #808000; text-decoration-color: #808000\">...</span>                                                                                                        <a href=\"file://C:\\Users\\BHSU\\AppData\\Local\\Programs\\Python\\Python39\\lib\\site-packages\\openfl\\component\\aggregator\\aggregator.py\" target=\"_blank\"><span style=\"color: #7f7f7f; text-decoration-color: #7f7f7f\">aggregator.py</span></a><span style=\"color: #7f7f7f; text-decoration-color: #7f7f7f\">:</span><a href=\"file://C:\\Users\\BHSU\\AppData\\Local\\Programs\\Python\\Python39\\lib\\site-packages\\openfl\\component\\aggregator\\aggregator.py#901\" target=\"_blank\"><span style=\"color: #7f7f7f; text-decoration-color: #7f7f7f\">901</span></a>\n",
       "</pre>\n"
      ],
      "text/plain": [
       "\u001b[2;36m          \u001b[0m\u001b[2;36m \u001b[0m\u001b[34mINFO    \u001b[0m Starting round \u001b[1;36m3\u001b[0m\u001b[33m...\u001b[0m                                                                                                        \u001b]8;id=437639;file://C:\\Users\\BHSU\\AppData\\Local\\Programs\\Python\\Python39\\lib\\site-packages\\openfl\\component\\aggregator\\aggregator.py\u001b\\\u001b[2maggregator.py\u001b[0m\u001b]8;;\u001b\\\u001b[2m:\u001b[0m\u001b]8;id=982188;file://C:\\Users\\BHSU\\AppData\\Local\\Programs\\Python\\Python39\\lib\\site-packages\\openfl\\component\\aggregator\\aggregator.py#901\u001b\\\u001b[2m901\u001b[0m\u001b]8;;\u001b\\\n"
      ]
     },
     "metadata": {},
     "output_type": "display_data"
    },
    {
     "data": {
      "text/html": [
       "<pre style=\"white-space:pre;overflow-x:auto;line-height:normal;font-family:Menlo,'DejaVu Sans Mono',consolas,'Courier New',monospace\"><span style=\"color: #7fbfbf; text-decoration-color: #7fbfbf\">           </span><span style=\"color: #000080; text-decoration-color: #000080\">INFO    </span> All tasks completed on one for round <span style=\"color: #008080; text-decoration-color: #008080; font-weight: bold\">2</span><span style=\"color: #808000; text-decoration-color: #808000\">...</span>                                                                                <a href=\"file://C:\\Users\\BHSU\\AppData\\Local\\Programs\\Python\\Python39\\lib\\site-packages\\openfl\\component\\collaborator\\collaborator.py\" target=\"_blank\"><span style=\"color: #7f7f7f; text-decoration-color: #7f7f7f\">collaborator.py</span></a><span style=\"color: #7f7f7f; text-decoration-color: #7f7f7f\">:</span><a href=\"file://C:\\Users\\BHSU\\AppData\\Local\\Programs\\Python\\Python39\\lib\\site-packages\\openfl\\component\\collaborator\\collaborator.py#171\" target=\"_blank\"><span style=\"color: #7f7f7f; text-decoration-color: #7f7f7f\">171</span></a>\n",
       "</pre>\n"
      ],
      "text/plain": [
       "\u001b[2;36m          \u001b[0m\u001b[2;36m \u001b[0m\u001b[34mINFO    \u001b[0m All tasks completed on one for round \u001b[1;36m2\u001b[0m\u001b[33m...\u001b[0m                                                                                \u001b]8;id=135456;file://C:\\Users\\BHSU\\AppData\\Local\\Programs\\Python\\Python39\\lib\\site-packages\\openfl\\component\\collaborator\\collaborator.py\u001b\\\u001b[2mcollaborator.py\u001b[0m\u001b]8;;\u001b\\\u001b[2m:\u001b[0m\u001b]8;id=166171;file://C:\\Users\\BHSU\\AppData\\Local\\Programs\\Python\\Python39\\lib\\site-packages\\openfl\\component\\collaborator\\collaborator.py#171\u001b\\\u001b[2m171\u001b[0m\u001b]8;;\u001b\\\n"
      ]
     },
     "metadata": {},
     "output_type": "display_data"
    },
    {
     "data": {
      "text/html": [
       "<pre style=\"white-space:pre;overflow-x:auto;line-height:normal;font-family:Menlo,'DejaVu Sans Mono',consolas,'Courier New',monospace\"><span style=\"color: #7fbfbf; text-decoration-color: #7fbfbf\">           </span><span style=\"color: #000080; text-decoration-color: #000080\">INFO    </span> Waiting for tasks<span style=\"color: #808000; text-decoration-color: #808000\">...</span>                                                                                                     <a href=\"file://C:\\Users\\BHSU\\AppData\\Local\\Programs\\Python\\Python39\\lib\\site-packages\\openfl\\component\\collaborator\\collaborator.py\" target=\"_blank\"><span style=\"color: #7f7f7f; text-decoration-color: #7f7f7f\">collaborator.py</span></a><span style=\"color: #7f7f7f; text-decoration-color: #7f7f7f\">:</span><a href=\"file://C:\\Users\\BHSU\\AppData\\Local\\Programs\\Python\\Python39\\lib\\site-packages\\openfl\\component\\collaborator\\collaborator.py#178\" target=\"_blank\"><span style=\"color: #7f7f7f; text-decoration-color: #7f7f7f\">178</span></a>\n",
       "</pre>\n"
      ],
      "text/plain": [
       "\u001b[2;36m          \u001b[0m\u001b[2;36m \u001b[0m\u001b[34mINFO    \u001b[0m Waiting for tasks\u001b[33m...\u001b[0m                                                                                                     \u001b]8;id=272777;file://C:\\Users\\BHSU\\AppData\\Local\\Programs\\Python\\Python39\\lib\\site-packages\\openfl\\component\\collaborator\\collaborator.py\u001b\\\u001b[2mcollaborator.py\u001b[0m\u001b]8;;\u001b\\\u001b[2m:\u001b[0m\u001b]8;id=487902;file://C:\\Users\\BHSU\\AppData\\Local\\Programs\\Python\\Python39\\lib\\site-packages\\openfl\\component\\collaborator\\collaborator.py#178\u001b\\\u001b[2m178\u001b[0m\u001b]8;;\u001b\\\n"
      ]
     },
     "metadata": {},
     "output_type": "display_data"
    },
    {
     "data": {
      "text/html": [
       "<pre style=\"white-space:pre;overflow-x:auto;line-height:normal;font-family:Menlo,'DejaVu Sans Mono',consolas,'Courier New',monospace\"><span style=\"color: #7fbfbf; text-decoration-color: #7fbfbf\">           </span><span style=\"color: #000080; text-decoration-color: #000080\">INFO    </span> Sending tasks to collaborator one for round <span style=\"color: #008080; text-decoration-color: #008080; font-weight: bold\">3</span>                                                                              <a href=\"file://C:\\Users\\BHSU\\AppData\\Local\\Programs\\Python\\Python39\\lib\\site-packages\\openfl\\component\\aggregator\\aggregator.py\" target=\"_blank\"><span style=\"color: #7f7f7f; text-decoration-color: #7f7f7f\">aggregator.py</span></a><span style=\"color: #7f7f7f; text-decoration-color: #7f7f7f\">:</span><a href=\"file://C:\\Users\\BHSU\\AppData\\Local\\Programs\\Python\\Python39\\lib\\site-packages\\openfl\\component\\aggregator\\aggregator.py#329\" target=\"_blank\"><span style=\"color: #7f7f7f; text-decoration-color: #7f7f7f\">329</span></a>\n",
       "</pre>\n"
      ],
      "text/plain": [
       "\u001b[2;36m          \u001b[0m\u001b[2;36m \u001b[0m\u001b[34mINFO    \u001b[0m Sending tasks to collaborator one for round \u001b[1;36m3\u001b[0m                                                                              \u001b]8;id=4009;file://C:\\Users\\BHSU\\AppData\\Local\\Programs\\Python\\Python39\\lib\\site-packages\\openfl\\component\\aggregator\\aggregator.py\u001b\\\u001b[2maggregator.py\u001b[0m\u001b]8;;\u001b\\\u001b[2m:\u001b[0m\u001b]8;id=456061;file://C:\\Users\\BHSU\\AppData\\Local\\Programs\\Python\\Python39\\lib\\site-packages\\openfl\\component\\aggregator\\aggregator.py#329\u001b\\\u001b[2m329\u001b[0m\u001b]8;;\u001b\\\n"
      ]
     },
     "metadata": {},
     "output_type": "display_data"
    },
    {
     "data": {
      "text/html": [
       "<pre style=\"white-space:pre;overflow-x:auto;line-height:normal;font-family:Menlo,'DejaVu Sans Mono',consolas,'Courier New',monospace\"><span style=\"color: #7fbfbf; text-decoration-color: #7fbfbf\">           </span><span style=\"color: #000080; text-decoration-color: #000080\">INFO    </span> Received the following tasks: <span style=\"font-weight: bold\">[</span><span style=\"color: #008000; text-decoration-color: #008000\">'aggregated_model_validation'</span>, <span style=\"color: #008000; text-decoration-color: #008000\">'train'</span>, <span style=\"color: #008000; text-decoration-color: #008000\">'locally_tuned_model_validation'</span><span style=\"font-weight: bold\">]</span>                 <a href=\"file://C:\\Users\\BHSU\\AppData\\Local\\Programs\\Python\\Python39\\lib\\site-packages\\openfl\\component\\collaborator\\collaborator.py\" target=\"_blank\"><span style=\"color: #7f7f7f; text-decoration-color: #7f7f7f\">collaborator.py</span></a><span style=\"color: #7f7f7f; text-decoration-color: #7f7f7f\">:</span><a href=\"file://C:\\Users\\BHSU\\AppData\\Local\\Programs\\Python\\Python39\\lib\\site-packages\\openfl\\component\\collaborator\\collaborator.py#168\" target=\"_blank\"><span style=\"color: #7f7f7f; text-decoration-color: #7f7f7f\">168</span></a>\n",
       "</pre>\n"
      ],
      "text/plain": [
       "\u001b[2;36m          \u001b[0m\u001b[2;36m \u001b[0m\u001b[34mINFO    \u001b[0m Received the following tasks: \u001b[1m[\u001b[0m\u001b[32m'aggregated_model_validation'\u001b[0m, \u001b[32m'train'\u001b[0m, \u001b[32m'locally_tuned_model_validation'\u001b[0m\u001b[1m]\u001b[0m                 \u001b]8;id=936145;file://C:\\Users\\BHSU\\AppData\\Local\\Programs\\Python\\Python39\\lib\\site-packages\\openfl\\component\\collaborator\\collaborator.py\u001b\\\u001b[2mcollaborator.py\u001b[0m\u001b]8;;\u001b\\\u001b[2m:\u001b[0m\u001b]8;id=840725;file://C:\\Users\\BHSU\\AppData\\Local\\Programs\\Python\\Python39\\lib\\site-packages\\openfl\\component\\collaborator\\collaborator.py#168\u001b\\\u001b[2m168\u001b[0m\u001b]8;;\u001b\\\n"
      ]
     },
     "metadata": {},
     "output_type": "display_data"
    },
    {
     "data": {
      "text/html": [
       "<pre style=\"white-space:pre;overflow-x:auto;line-height:normal;font-family:Menlo,'DejaVu Sans Mono',consolas,'Courier New',monospace\"><span style=\"color: #7fbfbf; text-decoration-color: #7fbfbf\">           </span><span style=\"color: #000080; text-decoration-color: #000080\">INFO    </span> Using TaskRunner subclassing API                                                                                         <a href=\"file://C:\\Users\\BHSU\\AppData\\Local\\Programs\\Python\\Python39\\lib\\site-packages\\openfl\\component\\collaborator\\collaborator.py\" target=\"_blank\"><span style=\"color: #7f7f7f; text-decoration-color: #7f7f7f\">collaborator.py</span></a><span style=\"color: #7f7f7f; text-decoration-color: #7f7f7f\">:</span><a href=\"file://C:\\Users\\BHSU\\AppData\\Local\\Programs\\Python\\Python39\\lib\\site-packages\\openfl\\component\\collaborator\\collaborator.py#253\" target=\"_blank\"><span style=\"color: #7f7f7f; text-decoration-color: #7f7f7f\">253</span></a>\n",
       "</pre>\n"
      ],
      "text/plain": [
       "\u001b[2;36m          \u001b[0m\u001b[2;36m \u001b[0m\u001b[34mINFO    \u001b[0m Using TaskRunner subclassing API                                                                                         \u001b]8;id=974328;file://C:\\Users\\BHSU\\AppData\\Local\\Programs\\Python\\Python39\\lib\\site-packages\\openfl\\component\\collaborator\\collaborator.py\u001b\\\u001b[2mcollaborator.py\u001b[0m\u001b]8;;\u001b\\\u001b[2m:\u001b[0m\u001b]8;id=661299;file://C:\\Users\\BHSU\\AppData\\Local\\Programs\\Python\\Python39\\lib\\site-packages\\openfl\\component\\collaborator\\collaborator.py#253\u001b\\\u001b[2m253\u001b[0m\u001b]8;;\u001b\\\n"
      ]
     },
     "metadata": {},
     "output_type": "display_data"
    },
    {
     "name": "stdout",
     "output_type": "stream",
     "text": [
      "563/563 [==============================] - 0s 518us/step - loss: 0.1672 - accuracy: 0.9512\n"
     ]
    },
    {
     "data": {
      "text/html": [
       "<pre style=\"white-space:pre;overflow-x:auto;line-height:normal;font-family:Menlo,'DejaVu Sans Mono',consolas,'Courier New',monospace\"><span style=\"color: #7fbfbf; text-decoration-color: #7fbfbf\">           </span>METRIC   Round <span style=\"color: #008080; text-decoration-color: #008080; font-weight: bold\">3</span>, collaborator one is sending metric for task aggregated_model_validation: accuracy      <span style=\"color: #008080; text-decoration-color: #008080; font-weight: bold\">0.951167</span>                 <a href=\"file://C:\\Users\\BHSU\\AppData\\Local\\Programs\\Python\\Python39\\lib\\site-packages\\openfl\\component\\collaborator\\collaborator.py\" target=\"_blank\"><span style=\"color: #7f7f7f; text-decoration-color: #7f7f7f\">collaborator.py</span></a><span style=\"color: #7f7f7f; text-decoration-color: #7f7f7f\">:</span><a href=\"file://C:\\Users\\BHSU\\AppData\\Local\\Programs\\Python\\Python39\\lib\\site-packages\\openfl\\component\\collaborator\\collaborator.py#415\" target=\"_blank\"><span style=\"color: #7f7f7f; text-decoration-color: #7f7f7f\">415</span></a>\n",
       "</pre>\n"
      ],
      "text/plain": [
       "\u001b[2;36m          \u001b[0m\u001b[2;36m \u001b[0mMETRIC   Round \u001b[1;36m3\u001b[0m, collaborator one is sending metric for task aggregated_model_validation: accuracy      \u001b[1;36m0.951167\u001b[0m                 \u001b]8;id=311196;file://C:\\Users\\BHSU\\AppData\\Local\\Programs\\Python\\Python39\\lib\\site-packages\\openfl\\component\\collaborator\\collaborator.py\u001b\\\u001b[2mcollaborator.py\u001b[0m\u001b]8;;\u001b\\\u001b[2m:\u001b[0m\u001b]8;id=255767;file://C:\\Users\\BHSU\\AppData\\Local\\Programs\\Python\\Python39\\lib\\site-packages\\openfl\\component\\collaborator\\collaborator.py#415\u001b\\\u001b[2m415\u001b[0m\u001b]8;;\u001b\\\n"
      ]
     },
     "metadata": {},
     "output_type": "display_data"
    },
    {
     "data": {
      "text/html": [
       "<pre style=\"white-space:pre;overflow-x:auto;line-height:normal;font-family:Menlo,'DejaVu Sans Mono',consolas,'Courier New',monospace\"><span style=\"color: #7fbfbf; text-decoration-color: #7fbfbf\">           </span><span style=\"color: #000080; text-decoration-color: #000080\">INFO    </span> Collaborator one is sending task results for aggregated_model_validation, round <span style=\"color: #008080; text-decoration-color: #008080; font-weight: bold\">3</span>                                          <a href=\"file://C:\\Users\\BHSU\\AppData\\Local\\Programs\\Python\\Python39\\lib\\site-packages\\openfl\\component\\aggregator\\aggregator.py\" target=\"_blank\"><span style=\"color: #7f7f7f; text-decoration-color: #7f7f7f\">aggregator.py</span></a><span style=\"color: #7f7f7f; text-decoration-color: #7f7f7f\">:</span><a href=\"file://C:\\Users\\BHSU\\AppData\\Local\\Programs\\Python\\Python39\\lib\\site-packages\\openfl\\component\\aggregator\\aggregator.py#520\" target=\"_blank\"><span style=\"color: #7f7f7f; text-decoration-color: #7f7f7f\">520</span></a>\n",
       "</pre>\n"
      ],
      "text/plain": [
       "\u001b[2;36m          \u001b[0m\u001b[2;36m \u001b[0m\u001b[34mINFO    \u001b[0m Collaborator one is sending task results for aggregated_model_validation, round \u001b[1;36m3\u001b[0m                                          \u001b]8;id=256578;file://C:\\Users\\BHSU\\AppData\\Local\\Programs\\Python\\Python39\\lib\\site-packages\\openfl\\component\\aggregator\\aggregator.py\u001b\\\u001b[2maggregator.py\u001b[0m\u001b]8;;\u001b\\\u001b[2m:\u001b[0m\u001b]8;id=456021;file://C:\\Users\\BHSU\\AppData\\Local\\Programs\\Python\\Python39\\lib\\site-packages\\openfl\\component\\aggregator\\aggregator.py#520\u001b\\\u001b[2m520\u001b[0m\u001b]8;;\u001b\\\n"
      ]
     },
     "metadata": {},
     "output_type": "display_data"
    },
    {
     "data": {
      "text/html": [
       "<pre style=\"white-space:pre;overflow-x:auto;line-height:normal;font-family:Menlo,'DejaVu Sans Mono',consolas,'Courier New',monospace\"><span style=\"color: #7fbfbf; text-decoration-color: #7fbfbf\">           </span>METRIC   Round <span style=\"color: #008080; text-decoration-color: #008080; font-weight: bold\">3</span>, collaborator validate_agg aggregated_model_validation result accuracy: <span style=\"color: #008080; text-decoration-color: #008080; font-weight: bold\">0.951167</span>                                   <a href=\"file://C:\\Users\\BHSU\\AppData\\Local\\Programs\\Python\\Python39\\lib\\site-packages\\openfl\\component\\aggregator\\aggregator.py\" target=\"_blank\"><span style=\"color: #7f7f7f; text-decoration-color: #7f7f7f\">aggregator.py</span></a><span style=\"color: #7f7f7f; text-decoration-color: #7f7f7f\">:</span><a href=\"file://C:\\Users\\BHSU\\AppData\\Local\\Programs\\Python\\Python39\\lib\\site-packages\\openfl\\component\\aggregator\\aggregator.py#559\" target=\"_blank\"><span style=\"color: #7f7f7f; text-decoration-color: #7f7f7f\">559</span></a>\n",
       "</pre>\n"
      ],
      "text/plain": [
       "\u001b[2;36m          \u001b[0m\u001b[2;36m \u001b[0mMETRIC   Round \u001b[1;36m3\u001b[0m, collaborator validate_agg aggregated_model_validation result accuracy: \u001b[1;36m0.951167\u001b[0m                                   \u001b]8;id=85758;file://C:\\Users\\BHSU\\AppData\\Local\\Programs\\Python\\Python39\\lib\\site-packages\\openfl\\component\\aggregator\\aggregator.py\u001b\\\u001b[2maggregator.py\u001b[0m\u001b]8;;\u001b\\\u001b[2m:\u001b[0m\u001b]8;id=444365;file://C:\\Users\\BHSU\\AppData\\Local\\Programs\\Python\\Python39\\lib\\site-packages\\openfl\\component\\aggregator\\aggregator.py#559\u001b\\\u001b[2m559\u001b[0m\u001b]8;;\u001b\\\n"
      ]
     },
     "metadata": {},
     "output_type": "display_data"
    },
    {
     "data": {
      "text/html": [
       "<pre style=\"white-space:pre;overflow-x:auto;line-height:normal;font-family:Menlo,'DejaVu Sans Mono',consolas,'Courier New',monospace\"><span style=\"color: #7fbfbf; text-decoration-color: #7fbfbf\">           </span><span style=\"color: #000080; text-decoration-color: #000080\">INFO    </span> Using TaskRunner subclassing API                                                                                         <a href=\"file://C:\\Users\\BHSU\\AppData\\Local\\Programs\\Python\\Python39\\lib\\site-packages\\openfl\\component\\collaborator\\collaborator.py\" target=\"_blank\"><span style=\"color: #7f7f7f; text-decoration-color: #7f7f7f\">collaborator.py</span></a><span style=\"color: #7f7f7f; text-decoration-color: #7f7f7f\">:</span><a href=\"file://C:\\Users\\BHSU\\AppData\\Local\\Programs\\Python\\Python39\\lib\\site-packages\\openfl\\component\\collaborator\\collaborator.py#253\" target=\"_blank\"><span style=\"color: #7f7f7f; text-decoration-color: #7f7f7f\">253</span></a>\n",
       "</pre>\n"
      ],
      "text/plain": [
       "\u001b[2;36m          \u001b[0m\u001b[2;36m \u001b[0m\u001b[34mINFO    \u001b[0m Using TaskRunner subclassing API                                                                                         \u001b]8;id=771920;file://C:\\Users\\BHSU\\AppData\\Local\\Programs\\Python\\Python39\\lib\\site-packages\\openfl\\component\\collaborator\\collaborator.py\u001b\\\u001b[2mcollaborator.py\u001b[0m\u001b]8;;\u001b\\\u001b[2m:\u001b[0m\u001b]8;id=550866;file://C:\\Users\\BHSU\\AppData\\Local\\Programs\\Python\\Python39\\lib\\site-packages\\openfl\\component\\collaborator\\collaborator.py#253\u001b\\\u001b[2m253\u001b[0m\u001b]8;;\u001b\\\n"
      ]
     },
     "metadata": {},
     "output_type": "display_data"
    },
    {
     "data": {
      "text/html": [
       "<pre style=\"white-space:pre;overflow-x:auto;line-height:normal;font-family:Menlo,'DejaVu Sans Mono',consolas,'Courier New',monospace\"><span style=\"color: #7fbfbf; text-decoration-color: #7fbfbf\">           </span><span style=\"color: #000080; text-decoration-color: #000080\">INFO    </span> Run <span style=\"color: #008080; text-decoration-color: #008080; font-weight: bold\">0</span> epoch of <span style=\"color: #008080; text-decoration-color: #008080; font-weight: bold\">3</span> round                                                                                                    <a href=\"file://C:\\Users\\BHSU\\AppData\\Local\\Programs\\Python\\Python39\\lib\\site-packages\\openfl\\federated\\task\\runner_keras.py\" target=\"_blank\"><span style=\"color: #7f7f7f; text-decoration-color: #7f7f7f\">runner_keras.py</span></a><span style=\"color: #7f7f7f; text-decoration-color: #7f7f7f\">:</span><a href=\"file://C:\\Users\\BHSU\\AppData\\Local\\Programs\\Python\\Python39\\lib\\site-packages\\openfl\\federated\\task\\runner_keras.py#83\" target=\"_blank\"><span style=\"color: #7f7f7f; text-decoration-color: #7f7f7f\">83</span></a>\n",
       "</pre>\n"
      ],
      "text/plain": [
       "\u001b[2;36m          \u001b[0m\u001b[2;36m \u001b[0m\u001b[34mINFO    \u001b[0m Run \u001b[1;36m0\u001b[0m epoch of \u001b[1;36m3\u001b[0m round                                                                                                    \u001b]8;id=120998;file://C:\\Users\\BHSU\\AppData\\Local\\Programs\\Python\\Python39\\lib\\site-packages\\openfl\\federated\\task\\runner_keras.py\u001b\\\u001b[2mrunner_keras.py\u001b[0m\u001b]8;;\u001b\\\u001b[2m:\u001b[0m\u001b]8;id=481161;file://C:\\Users\\BHSU\\AppData\\Local\\Programs\\Python\\Python39\\lib\\site-packages\\openfl\\federated\\task\\runner_keras.py#83\u001b\\\u001b[2m83\u001b[0m\u001b]8;;\u001b\\\n"
      ]
     },
     "metadata": {},
     "output_type": "display_data"
    },
    {
     "name": "stdout",
     "output_type": "stream",
     "text": [
      "1313/1313 [==============================] - 1s 652us/step - loss: 0.1326 - accuracy: 0.9590\n"
     ]
    },
    {
     "data": {
      "text/html": [
       "<pre style=\"white-space:pre;overflow-x:auto;line-height:normal;font-family:Menlo,'DejaVu Sans Mono',consolas,'Courier New',monospace\"><span style=\"color: #7fbfbf; text-decoration-color: #7fbfbf\">[17:01:55] </span>METRIC   Round <span style=\"color: #008080; text-decoration-color: #008080; font-weight: bold\">3</span>, collaborator one is sending metric for task train: loss        <span style=\"color: #008080; text-decoration-color: #008080; font-weight: bold\">0.132641</span>                                         <a href=\"file://C:\\Users\\BHSU\\AppData\\Local\\Programs\\Python\\Python39\\lib\\site-packages\\openfl\\component\\collaborator\\collaborator.py\" target=\"_blank\"><span style=\"color: #7f7f7f; text-decoration-color: #7f7f7f\">collaborator.py</span></a><span style=\"color: #7f7f7f; text-decoration-color: #7f7f7f\">:</span><a href=\"file://C:\\Users\\BHSU\\AppData\\Local\\Programs\\Python\\Python39\\lib\\site-packages\\openfl\\component\\collaborator\\collaborator.py#415\" target=\"_blank\"><span style=\"color: #7f7f7f; text-decoration-color: #7f7f7f\">415</span></a>\n",
       "</pre>\n"
      ],
      "text/plain": [
       "\u001b[2;36m[17:01:55]\u001b[0m\u001b[2;36m \u001b[0mMETRIC   Round \u001b[1;36m3\u001b[0m, collaborator one is sending metric for task train: loss        \u001b[1;36m0.132641\u001b[0m                                         \u001b]8;id=427883;file://C:\\Users\\BHSU\\AppData\\Local\\Programs\\Python\\Python39\\lib\\site-packages\\openfl\\component\\collaborator\\collaborator.py\u001b\\\u001b[2mcollaborator.py\u001b[0m\u001b]8;;\u001b\\\u001b[2m:\u001b[0m\u001b]8;id=883524;file://C:\\Users\\BHSU\\AppData\\Local\\Programs\\Python\\Python39\\lib\\site-packages\\openfl\\component\\collaborator\\collaborator.py#415\u001b\\\u001b[2m415\u001b[0m\u001b]8;;\u001b\\\n"
      ]
     },
     "metadata": {},
     "output_type": "display_data"
    },
    {
     "data": {
      "text/html": [
       "<pre style=\"white-space:pre;overflow-x:auto;line-height:normal;font-family:Menlo,'DejaVu Sans Mono',consolas,'Courier New',monospace\"><span style=\"color: #7fbfbf; text-decoration-color: #7fbfbf\">           </span><span style=\"color: #000080; text-decoration-color: #000080\">INFO    </span> Collaborator one is sending task results for train, round <span style=\"color: #008080; text-decoration-color: #008080; font-weight: bold\">3</span>                                                                <a href=\"file://C:\\Users\\BHSU\\AppData\\Local\\Programs\\Python\\Python39\\lib\\site-packages\\openfl\\component\\aggregator\\aggregator.py\" target=\"_blank\"><span style=\"color: #7f7f7f; text-decoration-color: #7f7f7f\">aggregator.py</span></a><span style=\"color: #7f7f7f; text-decoration-color: #7f7f7f\">:</span><a href=\"file://C:\\Users\\BHSU\\AppData\\Local\\Programs\\Python\\Python39\\lib\\site-packages\\openfl\\component\\aggregator\\aggregator.py#520\" target=\"_blank\"><span style=\"color: #7f7f7f; text-decoration-color: #7f7f7f\">520</span></a>\n",
       "</pre>\n"
      ],
      "text/plain": [
       "\u001b[2;36m          \u001b[0m\u001b[2;36m \u001b[0m\u001b[34mINFO    \u001b[0m Collaborator one is sending task results for train, round \u001b[1;36m3\u001b[0m                                                                \u001b]8;id=231949;file://C:\\Users\\BHSU\\AppData\\Local\\Programs\\Python\\Python39\\lib\\site-packages\\openfl\\component\\aggregator\\aggregator.py\u001b\\\u001b[2maggregator.py\u001b[0m\u001b]8;;\u001b\\\u001b[2m:\u001b[0m\u001b]8;id=521699;file://C:\\Users\\BHSU\\AppData\\Local\\Programs\\Python\\Python39\\lib\\site-packages\\openfl\\component\\aggregator\\aggregator.py#520\u001b\\\u001b[2m520\u001b[0m\u001b]8;;\u001b\\\n"
      ]
     },
     "metadata": {},
     "output_type": "display_data"
    },
    {
     "data": {
      "text/html": [
       "<pre style=\"white-space:pre;overflow-x:auto;line-height:normal;font-family:Menlo,'DejaVu Sans Mono',consolas,'Courier New',monospace\"><span style=\"color: #7fbfbf; text-decoration-color: #7fbfbf\">           </span>METRIC   Round <span style=\"color: #008080; text-decoration-color: #008080; font-weight: bold\">3</span>, collaborator one train result loss:    <span style=\"color: #008080; text-decoration-color: #008080; font-weight: bold\">0.132641</span>                                                                   <a href=\"file://C:\\Users\\BHSU\\AppData\\Local\\Programs\\Python\\Python39\\lib\\site-packages\\openfl\\component\\aggregator\\aggregator.py\" target=\"_blank\"><span style=\"color: #7f7f7f; text-decoration-color: #7f7f7f\">aggregator.py</span></a><span style=\"color: #7f7f7f; text-decoration-color: #7f7f7f\">:</span><a href=\"file://C:\\Users\\BHSU\\AppData\\Local\\Programs\\Python\\Python39\\lib\\site-packages\\openfl\\component\\aggregator\\aggregator.py#559\" target=\"_blank\"><span style=\"color: #7f7f7f; text-decoration-color: #7f7f7f\">559</span></a>\n",
       "</pre>\n"
      ],
      "text/plain": [
       "\u001b[2;36m          \u001b[0m\u001b[2;36m \u001b[0mMETRIC   Round \u001b[1;36m3\u001b[0m, collaborator one train result loss:    \u001b[1;36m0.132641\u001b[0m                                                                   \u001b]8;id=434783;file://C:\\Users\\BHSU\\AppData\\Local\\Programs\\Python\\Python39\\lib\\site-packages\\openfl\\component\\aggregator\\aggregator.py\u001b\\\u001b[2maggregator.py\u001b[0m\u001b]8;;\u001b\\\u001b[2m:\u001b[0m\u001b]8;id=144113;file://C:\\Users\\BHSU\\AppData\\Local\\Programs\\Python\\Python39\\lib\\site-packages\\openfl\\component\\aggregator\\aggregator.py#559\u001b\\\u001b[2m559\u001b[0m\u001b]8;;\u001b\\\n"
      ]
     },
     "metadata": {},
     "output_type": "display_data"
    },
    {
     "data": {
      "text/html": [
       "<pre style=\"white-space:pre;overflow-x:auto;line-height:normal;font-family:Menlo,'DejaVu Sans Mono',consolas,'Courier New',monospace\"><span style=\"color: #7fbfbf; text-decoration-color: #7fbfbf\">           </span><span style=\"color: #000080; text-decoration-color: #000080\">INFO    </span> Using TaskRunner subclassing API                                                                                         <a href=\"file://C:\\Users\\BHSU\\AppData\\Local\\Programs\\Python\\Python39\\lib\\site-packages\\openfl\\component\\collaborator\\collaborator.py\" target=\"_blank\"><span style=\"color: #7f7f7f; text-decoration-color: #7f7f7f\">collaborator.py</span></a><span style=\"color: #7f7f7f; text-decoration-color: #7f7f7f\">:</span><a href=\"file://C:\\Users\\BHSU\\AppData\\Local\\Programs\\Python\\Python39\\lib\\site-packages\\openfl\\component\\collaborator\\collaborator.py#253\" target=\"_blank\"><span style=\"color: #7f7f7f; text-decoration-color: #7f7f7f\">253</span></a>\n",
       "</pre>\n"
      ],
      "text/plain": [
       "\u001b[2;36m          \u001b[0m\u001b[2;36m \u001b[0m\u001b[34mINFO    \u001b[0m Using TaskRunner subclassing API                                                                                         \u001b]8;id=712065;file://C:\\Users\\BHSU\\AppData\\Local\\Programs\\Python\\Python39\\lib\\site-packages\\openfl\\component\\collaborator\\collaborator.py\u001b\\\u001b[2mcollaborator.py\u001b[0m\u001b]8;;\u001b\\\u001b[2m:\u001b[0m\u001b]8;id=362993;file://C:\\Users\\BHSU\\AppData\\Local\\Programs\\Python\\Python39\\lib\\site-packages\\openfl\\component\\collaborator\\collaborator.py#253\u001b\\\u001b[2m253\u001b[0m\u001b]8;;\u001b\\\n"
      ]
     },
     "metadata": {},
     "output_type": "display_data"
    },
    {
     "name": "stdout",
     "output_type": "stream",
     "text": [
      "563/563 [==============================] - 0s 509us/step - loss: 0.1567 - accuracy: 0.9548\n"
     ]
    },
    {
     "data": {
      "text/html": [
       "<pre style=\"white-space:pre;overflow-x:auto;line-height:normal;font-family:Menlo,'DejaVu Sans Mono',consolas,'Courier New',monospace\"><span style=\"color: #7fbfbf; text-decoration-color: #7fbfbf\">[17:01:56] </span>METRIC   Round <span style=\"color: #008080; text-decoration-color: #008080; font-weight: bold\">3</span>, collaborator one is sending metric for task locally_tuned_model_validation: accuracy   <span style=\"color: #008080; text-decoration-color: #008080; font-weight: bold\">0.954833</span>                 <a href=\"file://C:\\Users\\BHSU\\AppData\\Local\\Programs\\Python\\Python39\\lib\\site-packages\\openfl\\component\\collaborator\\collaborator.py\" target=\"_blank\"><span style=\"color: #7f7f7f; text-decoration-color: #7f7f7f\">collaborator.py</span></a><span style=\"color: #7f7f7f; text-decoration-color: #7f7f7f\">:</span><a href=\"file://C:\\Users\\BHSU\\AppData\\Local\\Programs\\Python\\Python39\\lib\\site-packages\\openfl\\component\\collaborator\\collaborator.py#415\" target=\"_blank\"><span style=\"color: #7f7f7f; text-decoration-color: #7f7f7f\">415</span></a>\n",
       "</pre>\n"
      ],
      "text/plain": [
       "\u001b[2;36m[17:01:56]\u001b[0m\u001b[2;36m \u001b[0mMETRIC   Round \u001b[1;36m3\u001b[0m, collaborator one is sending metric for task locally_tuned_model_validation: accuracy   \u001b[1;36m0.954833\u001b[0m                 \u001b]8;id=441898;file://C:\\Users\\BHSU\\AppData\\Local\\Programs\\Python\\Python39\\lib\\site-packages\\openfl\\component\\collaborator\\collaborator.py\u001b\\\u001b[2mcollaborator.py\u001b[0m\u001b]8;;\u001b\\\u001b[2m:\u001b[0m\u001b]8;id=282505;file://C:\\Users\\BHSU\\AppData\\Local\\Programs\\Python\\Python39\\lib\\site-packages\\openfl\\component\\collaborator\\collaborator.py#415\u001b\\\u001b[2m415\u001b[0m\u001b]8;;\u001b\\\n"
      ]
     },
     "metadata": {},
     "output_type": "display_data"
    },
    {
     "data": {
      "text/html": [
       "<pre style=\"white-space:pre;overflow-x:auto;line-height:normal;font-family:Menlo,'DejaVu Sans Mono',consolas,'Courier New',monospace\"><span style=\"color: #7fbfbf; text-decoration-color: #7fbfbf\">           </span><span style=\"color: #000080; text-decoration-color: #000080\">INFO    </span> Collaborator one is sending task results for locally_tuned_model_validation, round <span style=\"color: #008080; text-decoration-color: #008080; font-weight: bold\">3</span>                                       <a href=\"file://C:\\Users\\BHSU\\AppData\\Local\\Programs\\Python\\Python39\\lib\\site-packages\\openfl\\component\\aggregator\\aggregator.py\" target=\"_blank\"><span style=\"color: #7f7f7f; text-decoration-color: #7f7f7f\">aggregator.py</span></a><span style=\"color: #7f7f7f; text-decoration-color: #7f7f7f\">:</span><a href=\"file://C:\\Users\\BHSU\\AppData\\Local\\Programs\\Python\\Python39\\lib\\site-packages\\openfl\\component\\aggregator\\aggregator.py#520\" target=\"_blank\"><span style=\"color: #7f7f7f; text-decoration-color: #7f7f7f\">520</span></a>\n",
       "</pre>\n"
      ],
      "text/plain": [
       "\u001b[2;36m          \u001b[0m\u001b[2;36m \u001b[0m\u001b[34mINFO    \u001b[0m Collaborator one is sending task results for locally_tuned_model_validation, round \u001b[1;36m3\u001b[0m                                       \u001b]8;id=314141;file://C:\\Users\\BHSU\\AppData\\Local\\Programs\\Python\\Python39\\lib\\site-packages\\openfl\\component\\aggregator\\aggregator.py\u001b\\\u001b[2maggregator.py\u001b[0m\u001b]8;;\u001b\\\u001b[2m:\u001b[0m\u001b]8;id=772235;file://C:\\Users\\BHSU\\AppData\\Local\\Programs\\Python\\Python39\\lib\\site-packages\\openfl\\component\\aggregator\\aggregator.py#520\u001b\\\u001b[2m520\u001b[0m\u001b]8;;\u001b\\\n"
      ]
     },
     "metadata": {},
     "output_type": "display_data"
    },
    {
     "data": {
      "text/html": [
       "<pre style=\"white-space:pre;overflow-x:auto;line-height:normal;font-family:Menlo,'DejaVu Sans Mono',consolas,'Courier New',monospace\"><span style=\"color: #7fbfbf; text-decoration-color: #7fbfbf\">           </span>METRIC   Round <span style=\"color: #008080; text-decoration-color: #008080; font-weight: bold\">3</span>, collaborator validate_local locally_tuned_model_validation result accuracy:    <span style=\"color: #008080; text-decoration-color: #008080; font-weight: bold\">0.954833</span>                           <a href=\"file://C:\\Users\\BHSU\\AppData\\Local\\Programs\\Python\\Python39\\lib\\site-packages\\openfl\\component\\aggregator\\aggregator.py\" target=\"_blank\"><span style=\"color: #7f7f7f; text-decoration-color: #7f7f7f\">aggregator.py</span></a><span style=\"color: #7f7f7f; text-decoration-color: #7f7f7f\">:</span><a href=\"file://C:\\Users\\BHSU\\AppData\\Local\\Programs\\Python\\Python39\\lib\\site-packages\\openfl\\component\\aggregator\\aggregator.py#559\" target=\"_blank\"><span style=\"color: #7f7f7f; text-decoration-color: #7f7f7f\">559</span></a>\n",
       "</pre>\n"
      ],
      "text/plain": [
       "\u001b[2;36m          \u001b[0m\u001b[2;36m \u001b[0mMETRIC   Round \u001b[1;36m3\u001b[0m, collaborator validate_local locally_tuned_model_validation result accuracy:    \u001b[1;36m0.954833\u001b[0m                           \u001b]8;id=633564;file://C:\\Users\\BHSU\\AppData\\Local\\Programs\\Python\\Python39\\lib\\site-packages\\openfl\\component\\aggregator\\aggregator.py\u001b\\\u001b[2maggregator.py\u001b[0m\u001b]8;;\u001b\\\u001b[2m:\u001b[0m\u001b]8;id=258379;file://C:\\Users\\BHSU\\AppData\\Local\\Programs\\Python\\Python39\\lib\\site-packages\\openfl\\component\\aggregator\\aggregator.py#559\u001b\\\u001b[2m559\u001b[0m\u001b]8;;\u001b\\\n"
      ]
     },
     "metadata": {},
     "output_type": "display_data"
    },
    {
     "data": {
      "text/html": [
       "<pre style=\"white-space:pre;overflow-x:auto;line-height:normal;font-family:Menlo,'DejaVu Sans Mono',consolas,'Courier New',monospace\"><span style=\"color: #7fbfbf; text-decoration-color: #7fbfbf\">           </span>METRIC   Round <span style=\"color: #008080; text-decoration-color: #008080; font-weight: bold\">3</span>, aggregator: locally_tuned_model_validation                                                                        <a href=\"file://C:\\Users\\BHSU\\AppData\\Local\\Programs\\Python\\Python39\\lib\\site-packages\\openfl\\component\\aggregator\\aggregator.py\" target=\"_blank\"><span style=\"color: #7f7f7f; text-decoration-color: #7f7f7f\">aggregator.py</span></a><span style=\"color: #7f7f7f; text-decoration-color: #7f7f7f\">:</span><a href=\"file://C:\\Users\\BHSU\\AppData\\Local\\Programs\\Python\\Python39\\lib\\site-packages\\openfl\\component\\aggregator\\aggregator.py#842\" target=\"_blank\"><span style=\"color: #7f7f7f; text-decoration-color: #7f7f7f\">842</span></a>\n",
       "<span style=\"color: #7fbfbf; text-decoration-color: #7fbfbf\">           </span>         <span style=\"font-weight: bold\">&lt;</span><span style=\"color: #ff00ff; text-decoration-color: #ff00ff; font-weight: bold\">openfl.interface.aggregation_functions.weighted_average.WeightedAverage</span><span style=\"color: #000000; text-decoration-color: #000000\"> object at </span><span style=\"color: #008080; text-decoration-color: #008080; font-weight: bold\">0x00000137CCF13D90</span><span style=\"font-weight: bold\">&gt;</span> accuracy:           <span style=\"color: #7f7f7f; text-decoration-color: #7f7f7f\">                 </span>\n",
       "<span style=\"color: #7fbfbf; text-decoration-color: #7fbfbf\">           </span>         <span style=\"color: #008080; text-decoration-color: #008080; font-weight: bold\">0.954833</span>                                                                                                                   <span style=\"color: #7f7f7f; text-decoration-color: #7f7f7f\">                 </span>\n",
       "</pre>\n"
      ],
      "text/plain": [
       "\u001b[2;36m          \u001b[0m\u001b[2;36m \u001b[0mMETRIC   Round \u001b[1;36m3\u001b[0m, aggregator: locally_tuned_model_validation                                                                        \u001b]8;id=702966;file://C:\\Users\\BHSU\\AppData\\Local\\Programs\\Python\\Python39\\lib\\site-packages\\openfl\\component\\aggregator\\aggregator.py\u001b\\\u001b[2maggregator.py\u001b[0m\u001b]8;;\u001b\\\u001b[2m:\u001b[0m\u001b]8;id=784424;file://C:\\Users\\BHSU\\AppData\\Local\\Programs\\Python\\Python39\\lib\\site-packages\\openfl\\component\\aggregator\\aggregator.py#842\u001b\\\u001b[2m842\u001b[0m\u001b]8;;\u001b\\\n",
       "\u001b[2;36m           \u001b[0m         \u001b[1m<\u001b[0m\u001b[1;95mopenfl.interface.aggregation_functions.weighted_average.WeightedAverage\u001b[0m\u001b[39m object at \u001b[0m\u001b[1;36m0x00000137CCF13D90\u001b[0m\u001b[1m>\u001b[0m accuracy:           \u001b[2m                 \u001b[0m\n",
       "\u001b[2;36m           \u001b[0m         \u001b[1;36m0.954833\u001b[0m                                                                                                                   \u001b[2m                 \u001b[0m\n"
      ]
     },
     "metadata": {},
     "output_type": "display_data"
    },
    {
     "data": {
      "text/html": [
       "<pre style=\"white-space:pre;overflow-x:auto;line-height:normal;font-family:Menlo,'DejaVu Sans Mono',consolas,'Courier New',monospace\"><span style=\"color: #7fbfbf; text-decoration-color: #7fbfbf\">           </span>METRIC   Round <span style=\"color: #008080; text-decoration-color: #008080; font-weight: bold\">3</span>, aggregator: train <span style=\"font-weight: bold\">&lt;</span><span style=\"color: #ff00ff; text-decoration-color: #ff00ff; font-weight: bold\">openfl.interface.aggregation_functions.weighted_average.WeightedAverage</span><span style=\"color: #000000; text-decoration-color: #000000\"> object at </span>             <a href=\"file://C:\\Users\\BHSU\\AppData\\Local\\Programs\\Python\\Python39\\lib\\site-packages\\openfl\\component\\aggregator\\aggregator.py\" target=\"_blank\"><span style=\"color: #7f7f7f; text-decoration-color: #7f7f7f\">aggregator.py</span></a><span style=\"color: #7f7f7f; text-decoration-color: #7f7f7f\">:</span><a href=\"file://C:\\Users\\BHSU\\AppData\\Local\\Programs\\Python\\Python39\\lib\\site-packages\\openfl\\component\\aggregator\\aggregator.py#842\" target=\"_blank\"><span style=\"color: #7f7f7f; text-decoration-color: #7f7f7f\">842</span></a>\n",
       "<span style=\"color: #7fbfbf; text-decoration-color: #7fbfbf\">           </span>         <span style=\"color: #008080; text-decoration-color: #008080; font-weight: bold\">0x00000137CCF13D90</span><span style=\"font-weight: bold\">&gt;</span> loss: <span style=\"color: #008080; text-decoration-color: #008080; font-weight: bold\">0.132641</span>                                                                                         <span style=\"color: #7f7f7f; text-decoration-color: #7f7f7f\">                 </span>\n",
       "</pre>\n"
      ],
      "text/plain": [
       "\u001b[2;36m          \u001b[0m\u001b[2;36m \u001b[0mMETRIC   Round \u001b[1;36m3\u001b[0m, aggregator: train \u001b[1m<\u001b[0m\u001b[1;95mopenfl.interface.aggregation_functions.weighted_average.WeightedAverage\u001b[0m\u001b[39m object at \u001b[0m             \u001b]8;id=98064;file://C:\\Users\\BHSU\\AppData\\Local\\Programs\\Python\\Python39\\lib\\site-packages\\openfl\\component\\aggregator\\aggregator.py\u001b\\\u001b[2maggregator.py\u001b[0m\u001b]8;;\u001b\\\u001b[2m:\u001b[0m\u001b]8;id=822811;file://C:\\Users\\BHSU\\AppData\\Local\\Programs\\Python\\Python39\\lib\\site-packages\\openfl\\component\\aggregator\\aggregator.py#842\u001b\\\u001b[2m842\u001b[0m\u001b]8;;\u001b\\\n",
       "\u001b[2;36m           \u001b[0m         \u001b[1;36m0x00000137CCF13D90\u001b[0m\u001b[1m>\u001b[0m loss: \u001b[1;36m0.132641\u001b[0m                                                                                         \u001b[2m                 \u001b[0m\n"
      ]
     },
     "metadata": {},
     "output_type": "display_data"
    },
    {
     "data": {
      "text/html": [
       "<pre style=\"white-space:pre;overflow-x:auto;line-height:normal;font-family:Menlo,'DejaVu Sans Mono',consolas,'Courier New',monospace\"><span style=\"color: #7fbfbf; text-decoration-color: #7fbfbf\">           </span>METRIC   Round <span style=\"color: #008080; text-decoration-color: #008080; font-weight: bold\">3</span>, aggregator: aggregated_model_validation <span style=\"font-weight: bold\">&lt;</span><span style=\"color: #ff00ff; text-decoration-color: #ff00ff; font-weight: bold\">openfl.interface.aggregation_functions.weighted_average.WeightedAverage</span><span style=\"color: #000000; text-decoration-color: #000000\"> </span> <a href=\"file://C:\\Users\\BHSU\\AppData\\Local\\Programs\\Python\\Python39\\lib\\site-packages\\openfl\\component\\aggregator\\aggregator.py\" target=\"_blank\"><span style=\"color: #7f7f7f; text-decoration-color: #7f7f7f\">aggregator.py</span></a><span style=\"color: #7f7f7f; text-decoration-color: #7f7f7f\">:</span><a href=\"file://C:\\Users\\BHSU\\AppData\\Local\\Programs\\Python\\Python39\\lib\\site-packages\\openfl\\component\\aggregator\\aggregator.py#842\" target=\"_blank\"><span style=\"color: #7f7f7f; text-decoration-color: #7f7f7f\">842</span></a>\n",
       "<span style=\"color: #7fbfbf; text-decoration-color: #7fbfbf\">           </span>         <span style=\"color: #000000; text-decoration-color: #000000\">object at </span><span style=\"color: #008080; text-decoration-color: #008080; font-weight: bold\">0x00000137CCF13D90</span><span style=\"font-weight: bold\">&gt;</span> accuracy:       <span style=\"color: #008080; text-decoration-color: #008080; font-weight: bold\">0.951167</span>                                                                     <span style=\"color: #7f7f7f; text-decoration-color: #7f7f7f\">                 </span>\n",
       "</pre>\n"
      ],
      "text/plain": [
       "\u001b[2;36m          \u001b[0m\u001b[2;36m \u001b[0mMETRIC   Round \u001b[1;36m3\u001b[0m, aggregator: aggregated_model_validation \u001b[1m<\u001b[0m\u001b[1;95mopenfl.interface.aggregation_functions.weighted_average.WeightedAverage\u001b[0m\u001b[39m \u001b[0m \u001b]8;id=694327;file://C:\\Users\\BHSU\\AppData\\Local\\Programs\\Python\\Python39\\lib\\site-packages\\openfl\\component\\aggregator\\aggregator.py\u001b\\\u001b[2maggregator.py\u001b[0m\u001b]8;;\u001b\\\u001b[2m:\u001b[0m\u001b]8;id=986862;file://C:\\Users\\BHSU\\AppData\\Local\\Programs\\Python\\Python39\\lib\\site-packages\\openfl\\component\\aggregator\\aggregator.py#842\u001b\\\u001b[2m842\u001b[0m\u001b]8;;\u001b\\\n",
       "\u001b[2;36m           \u001b[0m         \u001b[39mobject at \u001b[0m\u001b[1;36m0x00000137CCF13D90\u001b[0m\u001b[1m>\u001b[0m accuracy:       \u001b[1;36m0.951167\u001b[0m                                                                     \u001b[2m                 \u001b[0m\n"
      ]
     },
     "metadata": {},
     "output_type": "display_data"
    },
    {
     "data": {
      "text/html": [
       "<pre style=\"white-space:pre;overflow-x:auto;line-height:normal;font-family:Menlo,'DejaVu Sans Mono',consolas,'Courier New',monospace\"><span style=\"color: #7fbfbf; text-decoration-color: #7fbfbf\">           </span>METRIC   Round <span style=\"color: #008080; text-decoration-color: #008080; font-weight: bold\">3</span>: saved the best model with score <span style=\"color: #008080; text-decoration-color: #008080; font-weight: bold\">0.951167</span>                                                                          <a href=\"file://C:\\Users\\BHSU\\AppData\\Local\\Programs\\Python\\Python39\\lib\\site-packages\\openfl\\component\\aggregator\\aggregator.py\" target=\"_blank\"><span style=\"color: #7f7f7f; text-decoration-color: #7f7f7f\">aggregator.py</span></a><span style=\"color: #7f7f7f; text-decoration-color: #7f7f7f\">:</span><a href=\"file://C:\\Users\\BHSU\\AppData\\Local\\Programs\\Python\\Python39\\lib\\site-packages\\openfl\\component\\aggregator\\aggregator.py#858\" target=\"_blank\"><span style=\"color: #7f7f7f; text-decoration-color: #7f7f7f\">858</span></a>\n",
       "</pre>\n"
      ],
      "text/plain": [
       "\u001b[2;36m          \u001b[0m\u001b[2;36m \u001b[0mMETRIC   Round \u001b[1;36m3\u001b[0m: saved the best model with score \u001b[1;36m0.951167\u001b[0m                                                                          \u001b]8;id=849768;file://C:\\Users\\BHSU\\AppData\\Local\\Programs\\Python\\Python39\\lib\\site-packages\\openfl\\component\\aggregator\\aggregator.py\u001b\\\u001b[2maggregator.py\u001b[0m\u001b]8;;\u001b\\\u001b[2m:\u001b[0m\u001b]8;id=288187;file://C:\\Users\\BHSU\\AppData\\Local\\Programs\\Python\\Python39\\lib\\site-packages\\openfl\\component\\aggregator\\aggregator.py#858\u001b\\\u001b[2m858\u001b[0m\u001b]8;;\u001b\\\n"
      ]
     },
     "metadata": {},
     "output_type": "display_data"
    },
    {
     "data": {
      "text/html": [
       "<pre style=\"white-space:pre;overflow-x:auto;line-height:normal;font-family:Menlo,'DejaVu Sans Mono',consolas,'Courier New',monospace\"><span style=\"color: #7fbfbf; text-decoration-color: #7fbfbf\">           </span><span style=\"color: #000080; text-decoration-color: #000080\">INFO    </span> Saving round <span style=\"color: #008080; text-decoration-color: #008080; font-weight: bold\">4</span> model<span style=\"color: #808000; text-decoration-color: #808000\">...</span>                                                                                                    <a href=\"file://C:\\Users\\BHSU\\AppData\\Local\\Programs\\Python\\Python39\\lib\\site-packages\\openfl\\component\\aggregator\\aggregator.py\" target=\"_blank\"><span style=\"color: #7f7f7f; text-decoration-color: #7f7f7f\">aggregator.py</span></a><span style=\"color: #7f7f7f; text-decoration-color: #7f7f7f\">:</span><a href=\"file://C:\\Users\\BHSU\\AppData\\Local\\Programs\\Python\\Python39\\lib\\site-packages\\openfl\\component\\aggregator\\aggregator.py#894\" target=\"_blank\"><span style=\"color: #7f7f7f; text-decoration-color: #7f7f7f\">894</span></a>\n",
       "</pre>\n"
      ],
      "text/plain": [
       "\u001b[2;36m          \u001b[0m\u001b[2;36m \u001b[0m\u001b[34mINFO    \u001b[0m Saving round \u001b[1;36m4\u001b[0m model\u001b[33m...\u001b[0m                                                                                                    \u001b]8;id=680645;file://C:\\Users\\BHSU\\AppData\\Local\\Programs\\Python\\Python39\\lib\\site-packages\\openfl\\component\\aggregator\\aggregator.py\u001b\\\u001b[2maggregator.py\u001b[0m\u001b]8;;\u001b\\\u001b[2m:\u001b[0m\u001b]8;id=264952;file://C:\\Users\\BHSU\\AppData\\Local\\Programs\\Python\\Python39\\lib\\site-packages\\openfl\\component\\aggregator\\aggregator.py#894\u001b\\\u001b[2m894\u001b[0m\u001b]8;;\u001b\\\n"
      ]
     },
     "metadata": {},
     "output_type": "display_data"
    },
    {
     "data": {
      "text/html": [
       "<pre style=\"white-space:pre;overflow-x:auto;line-height:normal;font-family:Menlo,'DejaVu Sans Mono',consolas,'Courier New',monospace\"><span style=\"color: #7fbfbf; text-decoration-color: #7fbfbf\">           </span><span style=\"color: #000080; text-decoration-color: #000080\">INFO    </span> Starting round <span style=\"color: #008080; text-decoration-color: #008080; font-weight: bold\">4</span><span style=\"color: #808000; text-decoration-color: #808000\">...</span>                                                                                                        <a href=\"file://C:\\Users\\BHSU\\AppData\\Local\\Programs\\Python\\Python39\\lib\\site-packages\\openfl\\component\\aggregator\\aggregator.py\" target=\"_blank\"><span style=\"color: #7f7f7f; text-decoration-color: #7f7f7f\">aggregator.py</span></a><span style=\"color: #7f7f7f; text-decoration-color: #7f7f7f\">:</span><a href=\"file://C:\\Users\\BHSU\\AppData\\Local\\Programs\\Python\\Python39\\lib\\site-packages\\openfl\\component\\aggregator\\aggregator.py#901\" target=\"_blank\"><span style=\"color: #7f7f7f; text-decoration-color: #7f7f7f\">901</span></a>\n",
       "</pre>\n"
      ],
      "text/plain": [
       "\u001b[2;36m          \u001b[0m\u001b[2;36m \u001b[0m\u001b[34mINFO    \u001b[0m Starting round \u001b[1;36m4\u001b[0m\u001b[33m...\u001b[0m                                                                                                        \u001b]8;id=943700;file://C:\\Users\\BHSU\\AppData\\Local\\Programs\\Python\\Python39\\lib\\site-packages\\openfl\\component\\aggregator\\aggregator.py\u001b\\\u001b[2maggregator.py\u001b[0m\u001b]8;;\u001b\\\u001b[2m:\u001b[0m\u001b]8;id=967622;file://C:\\Users\\BHSU\\AppData\\Local\\Programs\\Python\\Python39\\lib\\site-packages\\openfl\\component\\aggregator\\aggregator.py#901\u001b\\\u001b[2m901\u001b[0m\u001b]8;;\u001b\\\n"
      ]
     },
     "metadata": {},
     "output_type": "display_data"
    },
    {
     "data": {
      "text/html": [
       "<pre style=\"white-space:pre;overflow-x:auto;line-height:normal;font-family:Menlo,'DejaVu Sans Mono',consolas,'Courier New',monospace\"><span style=\"color: #7fbfbf; text-decoration-color: #7fbfbf\">           </span><span style=\"color: #000080; text-decoration-color: #000080\">INFO    </span> All tasks completed on one for round <span style=\"color: #008080; text-decoration-color: #008080; font-weight: bold\">3</span><span style=\"color: #808000; text-decoration-color: #808000\">...</span>                                                                                <a href=\"file://C:\\Users\\BHSU\\AppData\\Local\\Programs\\Python\\Python39\\lib\\site-packages\\openfl\\component\\collaborator\\collaborator.py\" target=\"_blank\"><span style=\"color: #7f7f7f; text-decoration-color: #7f7f7f\">collaborator.py</span></a><span style=\"color: #7f7f7f; text-decoration-color: #7f7f7f\">:</span><a href=\"file://C:\\Users\\BHSU\\AppData\\Local\\Programs\\Python\\Python39\\lib\\site-packages\\openfl\\component\\collaborator\\collaborator.py#171\" target=\"_blank\"><span style=\"color: #7f7f7f; text-decoration-color: #7f7f7f\">171</span></a>\n",
       "</pre>\n"
      ],
      "text/plain": [
       "\u001b[2;36m          \u001b[0m\u001b[2;36m \u001b[0m\u001b[34mINFO    \u001b[0m All tasks completed on one for round \u001b[1;36m3\u001b[0m\u001b[33m...\u001b[0m                                                                                \u001b]8;id=316978;file://C:\\Users\\BHSU\\AppData\\Local\\Programs\\Python\\Python39\\lib\\site-packages\\openfl\\component\\collaborator\\collaborator.py\u001b\\\u001b[2mcollaborator.py\u001b[0m\u001b]8;;\u001b\\\u001b[2m:\u001b[0m\u001b]8;id=231644;file://C:\\Users\\BHSU\\AppData\\Local\\Programs\\Python\\Python39\\lib\\site-packages\\openfl\\component\\collaborator\\collaborator.py#171\u001b\\\u001b[2m171\u001b[0m\u001b]8;;\u001b\\\n"
      ]
     },
     "metadata": {},
     "output_type": "display_data"
    },
    {
     "data": {
      "text/html": [
       "<pre style=\"white-space:pre;overflow-x:auto;line-height:normal;font-family:Menlo,'DejaVu Sans Mono',consolas,'Courier New',monospace\"><span style=\"color: #7fbfbf; text-decoration-color: #7fbfbf\">           </span><span style=\"color: #000080; text-decoration-color: #000080\">INFO    </span> Waiting for tasks<span style=\"color: #808000; text-decoration-color: #808000\">...</span>                                                                                                     <a href=\"file://C:\\Users\\BHSU\\AppData\\Local\\Programs\\Python\\Python39\\lib\\site-packages\\openfl\\component\\collaborator\\collaborator.py\" target=\"_blank\"><span style=\"color: #7f7f7f; text-decoration-color: #7f7f7f\">collaborator.py</span></a><span style=\"color: #7f7f7f; text-decoration-color: #7f7f7f\">:</span><a href=\"file://C:\\Users\\BHSU\\AppData\\Local\\Programs\\Python\\Python39\\lib\\site-packages\\openfl\\component\\collaborator\\collaborator.py#178\" target=\"_blank\"><span style=\"color: #7f7f7f; text-decoration-color: #7f7f7f\">178</span></a>\n",
       "</pre>\n"
      ],
      "text/plain": [
       "\u001b[2;36m          \u001b[0m\u001b[2;36m \u001b[0m\u001b[34mINFO    \u001b[0m Waiting for tasks\u001b[33m...\u001b[0m                                                                                                     \u001b]8;id=709483;file://C:\\Users\\BHSU\\AppData\\Local\\Programs\\Python\\Python39\\lib\\site-packages\\openfl\\component\\collaborator\\collaborator.py\u001b\\\u001b[2mcollaborator.py\u001b[0m\u001b]8;;\u001b\\\u001b[2m:\u001b[0m\u001b]8;id=358764;file://C:\\Users\\BHSU\\AppData\\Local\\Programs\\Python\\Python39\\lib\\site-packages\\openfl\\component\\collaborator\\collaborator.py#178\u001b\\\u001b[2m178\u001b[0m\u001b]8;;\u001b\\\n"
      ]
     },
     "metadata": {},
     "output_type": "display_data"
    },
    {
     "data": {
      "text/html": [
       "<pre style=\"white-space:pre;overflow-x:auto;line-height:normal;font-family:Menlo,'DejaVu Sans Mono',consolas,'Courier New',monospace\"><span style=\"color: #7fbfbf; text-decoration-color: #7fbfbf\">           </span><span style=\"color: #000080; text-decoration-color: #000080\">INFO    </span> Sending tasks to collaborator one for round <span style=\"color: #008080; text-decoration-color: #008080; font-weight: bold\">4</span>                                                                              <a href=\"file://C:\\Users\\BHSU\\AppData\\Local\\Programs\\Python\\Python39\\lib\\site-packages\\openfl\\component\\aggregator\\aggregator.py\" target=\"_blank\"><span style=\"color: #7f7f7f; text-decoration-color: #7f7f7f\">aggregator.py</span></a><span style=\"color: #7f7f7f; text-decoration-color: #7f7f7f\">:</span><a href=\"file://C:\\Users\\BHSU\\AppData\\Local\\Programs\\Python\\Python39\\lib\\site-packages\\openfl\\component\\aggregator\\aggregator.py#329\" target=\"_blank\"><span style=\"color: #7f7f7f; text-decoration-color: #7f7f7f\">329</span></a>\n",
       "</pre>\n"
      ],
      "text/plain": [
       "\u001b[2;36m          \u001b[0m\u001b[2;36m \u001b[0m\u001b[34mINFO    \u001b[0m Sending tasks to collaborator one for round \u001b[1;36m4\u001b[0m                                                                              \u001b]8;id=577321;file://C:\\Users\\BHSU\\AppData\\Local\\Programs\\Python\\Python39\\lib\\site-packages\\openfl\\component\\aggregator\\aggregator.py\u001b\\\u001b[2maggregator.py\u001b[0m\u001b]8;;\u001b\\\u001b[2m:\u001b[0m\u001b]8;id=394378;file://C:\\Users\\BHSU\\AppData\\Local\\Programs\\Python\\Python39\\lib\\site-packages\\openfl\\component\\aggregator\\aggregator.py#329\u001b\\\u001b[2m329\u001b[0m\u001b]8;;\u001b\\\n"
      ]
     },
     "metadata": {},
     "output_type": "display_data"
    },
    {
     "data": {
      "text/html": [
       "<pre style=\"white-space:pre;overflow-x:auto;line-height:normal;font-family:Menlo,'DejaVu Sans Mono',consolas,'Courier New',monospace\"><span style=\"color: #7fbfbf; text-decoration-color: #7fbfbf\">           </span><span style=\"color: #000080; text-decoration-color: #000080\">INFO    </span> Received the following tasks: <span style=\"font-weight: bold\">[</span><span style=\"color: #008000; text-decoration-color: #008000\">'aggregated_model_validation'</span>, <span style=\"color: #008000; text-decoration-color: #008000\">'train'</span>, <span style=\"color: #008000; text-decoration-color: #008000\">'locally_tuned_model_validation'</span><span style=\"font-weight: bold\">]</span>                 <a href=\"file://C:\\Users\\BHSU\\AppData\\Local\\Programs\\Python\\Python39\\lib\\site-packages\\openfl\\component\\collaborator\\collaborator.py\" target=\"_blank\"><span style=\"color: #7f7f7f; text-decoration-color: #7f7f7f\">collaborator.py</span></a><span style=\"color: #7f7f7f; text-decoration-color: #7f7f7f\">:</span><a href=\"file://C:\\Users\\BHSU\\AppData\\Local\\Programs\\Python\\Python39\\lib\\site-packages\\openfl\\component\\collaborator\\collaborator.py#168\" target=\"_blank\"><span style=\"color: #7f7f7f; text-decoration-color: #7f7f7f\">168</span></a>\n",
       "</pre>\n"
      ],
      "text/plain": [
       "\u001b[2;36m          \u001b[0m\u001b[2;36m \u001b[0m\u001b[34mINFO    \u001b[0m Received the following tasks: \u001b[1m[\u001b[0m\u001b[32m'aggregated_model_validation'\u001b[0m, \u001b[32m'train'\u001b[0m, \u001b[32m'locally_tuned_model_validation'\u001b[0m\u001b[1m]\u001b[0m                 \u001b]8;id=794874;file://C:\\Users\\BHSU\\AppData\\Local\\Programs\\Python\\Python39\\lib\\site-packages\\openfl\\component\\collaborator\\collaborator.py\u001b\\\u001b[2mcollaborator.py\u001b[0m\u001b]8;;\u001b\\\u001b[2m:\u001b[0m\u001b]8;id=72780;file://C:\\Users\\BHSU\\AppData\\Local\\Programs\\Python\\Python39\\lib\\site-packages\\openfl\\component\\collaborator\\collaborator.py#168\u001b\\\u001b[2m168\u001b[0m\u001b]8;;\u001b\\\n"
      ]
     },
     "metadata": {},
     "output_type": "display_data"
    },
    {
     "data": {
      "text/html": [
       "<pre style=\"white-space:pre;overflow-x:auto;line-height:normal;font-family:Menlo,'DejaVu Sans Mono',consolas,'Courier New',monospace\"><span style=\"color: #7fbfbf; text-decoration-color: #7fbfbf\">           </span><span style=\"color: #000080; text-decoration-color: #000080\">INFO    </span> Using TaskRunner subclassing API                                                                                         <a href=\"file://C:\\Users\\BHSU\\AppData\\Local\\Programs\\Python\\Python39\\lib\\site-packages\\openfl\\component\\collaborator\\collaborator.py\" target=\"_blank\"><span style=\"color: #7f7f7f; text-decoration-color: #7f7f7f\">collaborator.py</span></a><span style=\"color: #7f7f7f; text-decoration-color: #7f7f7f\">:</span><a href=\"file://C:\\Users\\BHSU\\AppData\\Local\\Programs\\Python\\Python39\\lib\\site-packages\\openfl\\component\\collaborator\\collaborator.py#253\" target=\"_blank\"><span style=\"color: #7f7f7f; text-decoration-color: #7f7f7f\">253</span></a>\n",
       "</pre>\n"
      ],
      "text/plain": [
       "\u001b[2;36m          \u001b[0m\u001b[2;36m \u001b[0m\u001b[34mINFO    \u001b[0m Using TaskRunner subclassing API                                                                                         \u001b]8;id=644137;file://C:\\Users\\BHSU\\AppData\\Local\\Programs\\Python\\Python39\\lib\\site-packages\\openfl\\component\\collaborator\\collaborator.py\u001b\\\u001b[2mcollaborator.py\u001b[0m\u001b]8;;\u001b\\\u001b[2m:\u001b[0m\u001b]8;id=417482;file://C:\\Users\\BHSU\\AppData\\Local\\Programs\\Python\\Python39\\lib\\site-packages\\openfl\\component\\collaborator\\collaborator.py#253\u001b\\\u001b[2m253\u001b[0m\u001b]8;;\u001b\\\n"
      ]
     },
     "metadata": {},
     "output_type": "display_data"
    },
    {
     "name": "stdout",
     "output_type": "stream",
     "text": [
      "563/563 [==============================] - 0s 509us/step - loss: 0.1567 - accuracy: 0.9548\n"
     ]
    },
    {
     "data": {
      "text/html": [
       "<pre style=\"white-space:pre;overflow-x:auto;line-height:normal;font-family:Menlo,'DejaVu Sans Mono',consolas,'Courier New',monospace\"><span style=\"color: #7fbfbf; text-decoration-color: #7fbfbf\">           </span>METRIC   Round <span style=\"color: #008080; text-decoration-color: #008080; font-weight: bold\">4</span>, collaborator one is sending metric for task aggregated_model_validation: accuracy      <span style=\"color: #008080; text-decoration-color: #008080; font-weight: bold\">0.954833</span>                 <a href=\"file://C:\\Users\\BHSU\\AppData\\Local\\Programs\\Python\\Python39\\lib\\site-packages\\openfl\\component\\collaborator\\collaborator.py\" target=\"_blank\"><span style=\"color: #7f7f7f; text-decoration-color: #7f7f7f\">collaborator.py</span></a><span style=\"color: #7f7f7f; text-decoration-color: #7f7f7f\">:</span><a href=\"file://C:\\Users\\BHSU\\AppData\\Local\\Programs\\Python\\Python39\\lib\\site-packages\\openfl\\component\\collaborator\\collaborator.py#415\" target=\"_blank\"><span style=\"color: #7f7f7f; text-decoration-color: #7f7f7f\">415</span></a>\n",
       "</pre>\n"
      ],
      "text/plain": [
       "\u001b[2;36m          \u001b[0m\u001b[2;36m \u001b[0mMETRIC   Round \u001b[1;36m4\u001b[0m, collaborator one is sending metric for task aggregated_model_validation: accuracy      \u001b[1;36m0.954833\u001b[0m                 \u001b]8;id=90205;file://C:\\Users\\BHSU\\AppData\\Local\\Programs\\Python\\Python39\\lib\\site-packages\\openfl\\component\\collaborator\\collaborator.py\u001b\\\u001b[2mcollaborator.py\u001b[0m\u001b]8;;\u001b\\\u001b[2m:\u001b[0m\u001b]8;id=516813;file://C:\\Users\\BHSU\\AppData\\Local\\Programs\\Python\\Python39\\lib\\site-packages\\openfl\\component\\collaborator\\collaborator.py#415\u001b\\\u001b[2m415\u001b[0m\u001b]8;;\u001b\\\n"
      ]
     },
     "metadata": {},
     "output_type": "display_data"
    },
    {
     "data": {
      "text/html": [
       "<pre style=\"white-space:pre;overflow-x:auto;line-height:normal;font-family:Menlo,'DejaVu Sans Mono',consolas,'Courier New',monospace\"><span style=\"color: #7fbfbf; text-decoration-color: #7fbfbf\">           </span><span style=\"color: #000080; text-decoration-color: #000080\">INFO    </span> Collaborator one is sending task results for aggregated_model_validation, round <span style=\"color: #008080; text-decoration-color: #008080; font-weight: bold\">4</span>                                          <a href=\"file://C:\\Users\\BHSU\\AppData\\Local\\Programs\\Python\\Python39\\lib\\site-packages\\openfl\\component\\aggregator\\aggregator.py\" target=\"_blank\"><span style=\"color: #7f7f7f; text-decoration-color: #7f7f7f\">aggregator.py</span></a><span style=\"color: #7f7f7f; text-decoration-color: #7f7f7f\">:</span><a href=\"file://C:\\Users\\BHSU\\AppData\\Local\\Programs\\Python\\Python39\\lib\\site-packages\\openfl\\component\\aggregator\\aggregator.py#520\" target=\"_blank\"><span style=\"color: #7f7f7f; text-decoration-color: #7f7f7f\">520</span></a>\n",
       "</pre>\n"
      ],
      "text/plain": [
       "\u001b[2;36m          \u001b[0m\u001b[2;36m \u001b[0m\u001b[34mINFO    \u001b[0m Collaborator one is sending task results for aggregated_model_validation, round \u001b[1;36m4\u001b[0m                                          \u001b]8;id=571585;file://C:\\Users\\BHSU\\AppData\\Local\\Programs\\Python\\Python39\\lib\\site-packages\\openfl\\component\\aggregator\\aggregator.py\u001b\\\u001b[2maggregator.py\u001b[0m\u001b]8;;\u001b\\\u001b[2m:\u001b[0m\u001b]8;id=277034;file://C:\\Users\\BHSU\\AppData\\Local\\Programs\\Python\\Python39\\lib\\site-packages\\openfl\\component\\aggregator\\aggregator.py#520\u001b\\\u001b[2m520\u001b[0m\u001b]8;;\u001b\\\n"
      ]
     },
     "metadata": {},
     "output_type": "display_data"
    },
    {
     "data": {
      "text/html": [
       "<pre style=\"white-space:pre;overflow-x:auto;line-height:normal;font-family:Menlo,'DejaVu Sans Mono',consolas,'Courier New',monospace\"><span style=\"color: #7fbfbf; text-decoration-color: #7fbfbf\">           </span>METRIC   Round <span style=\"color: #008080; text-decoration-color: #008080; font-weight: bold\">4</span>, collaborator validate_agg aggregated_model_validation result accuracy: <span style=\"color: #008080; text-decoration-color: #008080; font-weight: bold\">0.954833</span>                                   <a href=\"file://C:\\Users\\BHSU\\AppData\\Local\\Programs\\Python\\Python39\\lib\\site-packages\\openfl\\component\\aggregator\\aggregator.py\" target=\"_blank\"><span style=\"color: #7f7f7f; text-decoration-color: #7f7f7f\">aggregator.py</span></a><span style=\"color: #7f7f7f; text-decoration-color: #7f7f7f\">:</span><a href=\"file://C:\\Users\\BHSU\\AppData\\Local\\Programs\\Python\\Python39\\lib\\site-packages\\openfl\\component\\aggregator\\aggregator.py#559\" target=\"_blank\"><span style=\"color: #7f7f7f; text-decoration-color: #7f7f7f\">559</span></a>\n",
       "</pre>\n"
      ],
      "text/plain": [
       "\u001b[2;36m          \u001b[0m\u001b[2;36m \u001b[0mMETRIC   Round \u001b[1;36m4\u001b[0m, collaborator validate_agg aggregated_model_validation result accuracy: \u001b[1;36m0.954833\u001b[0m                                   \u001b]8;id=448467;file://C:\\Users\\BHSU\\AppData\\Local\\Programs\\Python\\Python39\\lib\\site-packages\\openfl\\component\\aggregator\\aggregator.py\u001b\\\u001b[2maggregator.py\u001b[0m\u001b]8;;\u001b\\\u001b[2m:\u001b[0m\u001b]8;id=352927;file://C:\\Users\\BHSU\\AppData\\Local\\Programs\\Python\\Python39\\lib\\site-packages\\openfl\\component\\aggregator\\aggregator.py#559\u001b\\\u001b[2m559\u001b[0m\u001b]8;;\u001b\\\n"
      ]
     },
     "metadata": {},
     "output_type": "display_data"
    },
    {
     "data": {
      "text/html": [
       "<pre style=\"white-space:pre;overflow-x:auto;line-height:normal;font-family:Menlo,'DejaVu Sans Mono',consolas,'Courier New',monospace\"><span style=\"color: #7fbfbf; text-decoration-color: #7fbfbf\">           </span><span style=\"color: #000080; text-decoration-color: #000080\">INFO    </span> Using TaskRunner subclassing API                                                                                         <a href=\"file://C:\\Users\\BHSU\\AppData\\Local\\Programs\\Python\\Python39\\lib\\site-packages\\openfl\\component\\collaborator\\collaborator.py\" target=\"_blank\"><span style=\"color: #7f7f7f; text-decoration-color: #7f7f7f\">collaborator.py</span></a><span style=\"color: #7f7f7f; text-decoration-color: #7f7f7f\">:</span><a href=\"file://C:\\Users\\BHSU\\AppData\\Local\\Programs\\Python\\Python39\\lib\\site-packages\\openfl\\component\\collaborator\\collaborator.py#253\" target=\"_blank\"><span style=\"color: #7f7f7f; text-decoration-color: #7f7f7f\">253</span></a>\n",
       "</pre>\n"
      ],
      "text/plain": [
       "\u001b[2;36m          \u001b[0m\u001b[2;36m \u001b[0m\u001b[34mINFO    \u001b[0m Using TaskRunner subclassing API                                                                                         \u001b]8;id=623411;file://C:\\Users\\BHSU\\AppData\\Local\\Programs\\Python\\Python39\\lib\\site-packages\\openfl\\component\\collaborator\\collaborator.py\u001b\\\u001b[2mcollaborator.py\u001b[0m\u001b]8;;\u001b\\\u001b[2m:\u001b[0m\u001b]8;id=641303;file://C:\\Users\\BHSU\\AppData\\Local\\Programs\\Python\\Python39\\lib\\site-packages\\openfl\\component\\collaborator\\collaborator.py#253\u001b\\\u001b[2m253\u001b[0m\u001b]8;;\u001b\\\n"
      ]
     },
     "metadata": {},
     "output_type": "display_data"
    },
    {
     "data": {
      "text/html": [
       "<pre style=\"white-space:pre;overflow-x:auto;line-height:normal;font-family:Menlo,'DejaVu Sans Mono',consolas,'Courier New',monospace\"><span style=\"color: #7fbfbf; text-decoration-color: #7fbfbf\">           </span><span style=\"color: #000080; text-decoration-color: #000080\">INFO    </span> Run <span style=\"color: #008080; text-decoration-color: #008080; font-weight: bold\">0</span> epoch of <span style=\"color: #008080; text-decoration-color: #008080; font-weight: bold\">4</span> round                                                                                                    <a href=\"file://C:\\Users\\BHSU\\AppData\\Local\\Programs\\Python\\Python39\\lib\\site-packages\\openfl\\federated\\task\\runner_keras.py\" target=\"_blank\"><span style=\"color: #7f7f7f; text-decoration-color: #7f7f7f\">runner_keras.py</span></a><span style=\"color: #7f7f7f; text-decoration-color: #7f7f7f\">:</span><a href=\"file://C:\\Users\\BHSU\\AppData\\Local\\Programs\\Python\\Python39\\lib\\site-packages\\openfl\\federated\\task\\runner_keras.py#83\" target=\"_blank\"><span style=\"color: #7f7f7f; text-decoration-color: #7f7f7f\">83</span></a>\n",
       "</pre>\n"
      ],
      "text/plain": [
       "\u001b[2;36m          \u001b[0m\u001b[2;36m \u001b[0m\u001b[34mINFO    \u001b[0m Run \u001b[1;36m0\u001b[0m epoch of \u001b[1;36m4\u001b[0m round                                                                                                    \u001b]8;id=540385;file://C:\\Users\\BHSU\\AppData\\Local\\Programs\\Python\\Python39\\lib\\site-packages\\openfl\\federated\\task\\runner_keras.py\u001b\\\u001b[2mrunner_keras.py\u001b[0m\u001b]8;;\u001b\\\u001b[2m:\u001b[0m\u001b]8;id=543615;file://C:\\Users\\BHSU\\AppData\\Local\\Programs\\Python\\Python39\\lib\\site-packages\\openfl\\federated\\task\\runner_keras.py#83\u001b\\\u001b[2m83\u001b[0m\u001b]8;;\u001b\\\n"
      ]
     },
     "metadata": {},
     "output_type": "display_data"
    },
    {
     "name": "stdout",
     "output_type": "stream",
     "text": [
      "1313/1313 [==============================] - 1s 646us/step - loss: 0.1151 - accuracy: 0.9645\n"
     ]
    },
    {
     "data": {
      "text/html": [
       "<pre style=\"white-space:pre;overflow-x:auto;line-height:normal;font-family:Menlo,'DejaVu Sans Mono',consolas,'Courier New',monospace\"><span style=\"color: #7fbfbf; text-decoration-color: #7fbfbf\">[17:01:57] </span>METRIC   Round <span style=\"color: #008080; text-decoration-color: #008080; font-weight: bold\">4</span>, collaborator one is sending metric for task train: loss        <span style=\"color: #008080; text-decoration-color: #008080; font-weight: bold\">0.115102</span>                                         <a href=\"file://C:\\Users\\BHSU\\AppData\\Local\\Programs\\Python\\Python39\\lib\\site-packages\\openfl\\component\\collaborator\\collaborator.py\" target=\"_blank\"><span style=\"color: #7f7f7f; text-decoration-color: #7f7f7f\">collaborator.py</span></a><span style=\"color: #7f7f7f; text-decoration-color: #7f7f7f\">:</span><a href=\"file://C:\\Users\\BHSU\\AppData\\Local\\Programs\\Python\\Python39\\lib\\site-packages\\openfl\\component\\collaborator\\collaborator.py#415\" target=\"_blank\"><span style=\"color: #7f7f7f; text-decoration-color: #7f7f7f\">415</span></a>\n",
       "</pre>\n"
      ],
      "text/plain": [
       "\u001b[2;36m[17:01:57]\u001b[0m\u001b[2;36m \u001b[0mMETRIC   Round \u001b[1;36m4\u001b[0m, collaborator one is sending metric for task train: loss        \u001b[1;36m0.115102\u001b[0m                                         \u001b]8;id=493601;file://C:\\Users\\BHSU\\AppData\\Local\\Programs\\Python\\Python39\\lib\\site-packages\\openfl\\component\\collaborator\\collaborator.py\u001b\\\u001b[2mcollaborator.py\u001b[0m\u001b]8;;\u001b\\\u001b[2m:\u001b[0m\u001b]8;id=432423;file://C:\\Users\\BHSU\\AppData\\Local\\Programs\\Python\\Python39\\lib\\site-packages\\openfl\\component\\collaborator\\collaborator.py#415\u001b\\\u001b[2m415\u001b[0m\u001b]8;;\u001b\\\n"
      ]
     },
     "metadata": {},
     "output_type": "display_data"
    },
    {
     "data": {
      "text/html": [
       "<pre style=\"white-space:pre;overflow-x:auto;line-height:normal;font-family:Menlo,'DejaVu Sans Mono',consolas,'Courier New',monospace\"><span style=\"color: #7fbfbf; text-decoration-color: #7fbfbf\">           </span><span style=\"color: #000080; text-decoration-color: #000080\">INFO    </span> Collaborator one is sending task results for train, round <span style=\"color: #008080; text-decoration-color: #008080; font-weight: bold\">4</span>                                                                <a href=\"file://C:\\Users\\BHSU\\AppData\\Local\\Programs\\Python\\Python39\\lib\\site-packages\\openfl\\component\\aggregator\\aggregator.py\" target=\"_blank\"><span style=\"color: #7f7f7f; text-decoration-color: #7f7f7f\">aggregator.py</span></a><span style=\"color: #7f7f7f; text-decoration-color: #7f7f7f\">:</span><a href=\"file://C:\\Users\\BHSU\\AppData\\Local\\Programs\\Python\\Python39\\lib\\site-packages\\openfl\\component\\aggregator\\aggregator.py#520\" target=\"_blank\"><span style=\"color: #7f7f7f; text-decoration-color: #7f7f7f\">520</span></a>\n",
       "</pre>\n"
      ],
      "text/plain": [
       "\u001b[2;36m          \u001b[0m\u001b[2;36m \u001b[0m\u001b[34mINFO    \u001b[0m Collaborator one is sending task results for train, round \u001b[1;36m4\u001b[0m                                                                \u001b]8;id=916531;file://C:\\Users\\BHSU\\AppData\\Local\\Programs\\Python\\Python39\\lib\\site-packages\\openfl\\component\\aggregator\\aggregator.py\u001b\\\u001b[2maggregator.py\u001b[0m\u001b]8;;\u001b\\\u001b[2m:\u001b[0m\u001b]8;id=216725;file://C:\\Users\\BHSU\\AppData\\Local\\Programs\\Python\\Python39\\lib\\site-packages\\openfl\\component\\aggregator\\aggregator.py#520\u001b\\\u001b[2m520\u001b[0m\u001b]8;;\u001b\\\n"
      ]
     },
     "metadata": {},
     "output_type": "display_data"
    },
    {
     "data": {
      "text/html": [
       "<pre style=\"white-space:pre;overflow-x:auto;line-height:normal;font-family:Menlo,'DejaVu Sans Mono',consolas,'Courier New',monospace\"><span style=\"color: #7fbfbf; text-decoration-color: #7fbfbf\">           </span>METRIC   Round <span style=\"color: #008080; text-decoration-color: #008080; font-weight: bold\">4</span>, collaborator one train result loss:    <span style=\"color: #008080; text-decoration-color: #008080; font-weight: bold\">0.115102</span>                                                                   <a href=\"file://C:\\Users\\BHSU\\AppData\\Local\\Programs\\Python\\Python39\\lib\\site-packages\\openfl\\component\\aggregator\\aggregator.py\" target=\"_blank\"><span style=\"color: #7f7f7f; text-decoration-color: #7f7f7f\">aggregator.py</span></a><span style=\"color: #7f7f7f; text-decoration-color: #7f7f7f\">:</span><a href=\"file://C:\\Users\\BHSU\\AppData\\Local\\Programs\\Python\\Python39\\lib\\site-packages\\openfl\\component\\aggregator\\aggregator.py#559\" target=\"_blank\"><span style=\"color: #7f7f7f; text-decoration-color: #7f7f7f\">559</span></a>\n",
       "</pre>\n"
      ],
      "text/plain": [
       "\u001b[2;36m          \u001b[0m\u001b[2;36m \u001b[0mMETRIC   Round \u001b[1;36m4\u001b[0m, collaborator one train result loss:    \u001b[1;36m0.115102\u001b[0m                                                                   \u001b]8;id=530752;file://C:\\Users\\BHSU\\AppData\\Local\\Programs\\Python\\Python39\\lib\\site-packages\\openfl\\component\\aggregator\\aggregator.py\u001b\\\u001b[2maggregator.py\u001b[0m\u001b]8;;\u001b\\\u001b[2m:\u001b[0m\u001b]8;id=610746;file://C:\\Users\\BHSU\\AppData\\Local\\Programs\\Python\\Python39\\lib\\site-packages\\openfl\\component\\aggregator\\aggregator.py#559\u001b\\\u001b[2m559\u001b[0m\u001b]8;;\u001b\\\n"
      ]
     },
     "metadata": {},
     "output_type": "display_data"
    },
    {
     "data": {
      "text/html": [
       "<pre style=\"white-space:pre;overflow-x:auto;line-height:normal;font-family:Menlo,'DejaVu Sans Mono',consolas,'Courier New',monospace\"><span style=\"color: #7fbfbf; text-decoration-color: #7fbfbf\">           </span><span style=\"color: #000080; text-decoration-color: #000080\">INFO    </span> Using TaskRunner subclassing API                                                                                         <a href=\"file://C:\\Users\\BHSU\\AppData\\Local\\Programs\\Python\\Python39\\lib\\site-packages\\openfl\\component\\collaborator\\collaborator.py\" target=\"_blank\"><span style=\"color: #7f7f7f; text-decoration-color: #7f7f7f\">collaborator.py</span></a><span style=\"color: #7f7f7f; text-decoration-color: #7f7f7f\">:</span><a href=\"file://C:\\Users\\BHSU\\AppData\\Local\\Programs\\Python\\Python39\\lib\\site-packages\\openfl\\component\\collaborator\\collaborator.py#253\" target=\"_blank\"><span style=\"color: #7f7f7f; text-decoration-color: #7f7f7f\">253</span></a>\n",
       "</pre>\n"
      ],
      "text/plain": [
       "\u001b[2;36m          \u001b[0m\u001b[2;36m \u001b[0m\u001b[34mINFO    \u001b[0m Using TaskRunner subclassing API                                                                                         \u001b]8;id=999773;file://C:\\Users\\BHSU\\AppData\\Local\\Programs\\Python\\Python39\\lib\\site-packages\\openfl\\component\\collaborator\\collaborator.py\u001b\\\u001b[2mcollaborator.py\u001b[0m\u001b]8;;\u001b\\\u001b[2m:\u001b[0m\u001b]8;id=190930;file://C:\\Users\\BHSU\\AppData\\Local\\Programs\\Python\\Python39\\lib\\site-packages\\openfl\\component\\collaborator\\collaborator.py#253\u001b\\\u001b[2m253\u001b[0m\u001b]8;;\u001b\\\n"
      ]
     },
     "metadata": {},
     "output_type": "display_data"
    },
    {
     "name": "stdout",
     "output_type": "stream",
     "text": [
      "563/563 [==============================] - 0s 516us/step - loss: 0.1320 - accuracy: 0.9606\n"
     ]
    },
    {
     "data": {
      "text/html": [
       "<pre style=\"white-space:pre;overflow-x:auto;line-height:normal;font-family:Menlo,'DejaVu Sans Mono',consolas,'Courier New',monospace\"><span style=\"color: #7fbfbf; text-decoration-color: #7fbfbf\">           </span>METRIC   Round <span style=\"color: #008080; text-decoration-color: #008080; font-weight: bold\">4</span>, collaborator one is sending metric for task locally_tuned_model_validation: accuracy   <span style=\"color: #008080; text-decoration-color: #008080; font-weight: bold\">0.960611</span>                 <a href=\"file://C:\\Users\\BHSU\\AppData\\Local\\Programs\\Python\\Python39\\lib\\site-packages\\openfl\\component\\collaborator\\collaborator.py\" target=\"_blank\"><span style=\"color: #7f7f7f; text-decoration-color: #7f7f7f\">collaborator.py</span></a><span style=\"color: #7f7f7f; text-decoration-color: #7f7f7f\">:</span><a href=\"file://C:\\Users\\BHSU\\AppData\\Local\\Programs\\Python\\Python39\\lib\\site-packages\\openfl\\component\\collaborator\\collaborator.py#415\" target=\"_blank\"><span style=\"color: #7f7f7f; text-decoration-color: #7f7f7f\">415</span></a>\n",
       "</pre>\n"
      ],
      "text/plain": [
       "\u001b[2;36m          \u001b[0m\u001b[2;36m \u001b[0mMETRIC   Round \u001b[1;36m4\u001b[0m, collaborator one is sending metric for task locally_tuned_model_validation: accuracy   \u001b[1;36m0.960611\u001b[0m                 \u001b]8;id=337644;file://C:\\Users\\BHSU\\AppData\\Local\\Programs\\Python\\Python39\\lib\\site-packages\\openfl\\component\\collaborator\\collaborator.py\u001b\\\u001b[2mcollaborator.py\u001b[0m\u001b]8;;\u001b\\\u001b[2m:\u001b[0m\u001b]8;id=759098;file://C:\\Users\\BHSU\\AppData\\Local\\Programs\\Python\\Python39\\lib\\site-packages\\openfl\\component\\collaborator\\collaborator.py#415\u001b\\\u001b[2m415\u001b[0m\u001b]8;;\u001b\\\n"
      ]
     },
     "metadata": {},
     "output_type": "display_data"
    },
    {
     "data": {
      "text/html": [
       "<pre style=\"white-space:pre;overflow-x:auto;line-height:normal;font-family:Menlo,'DejaVu Sans Mono',consolas,'Courier New',monospace\"><span style=\"color: #7fbfbf; text-decoration-color: #7fbfbf\">           </span><span style=\"color: #000080; text-decoration-color: #000080\">INFO    </span> Collaborator one is sending task results for locally_tuned_model_validation, round <span style=\"color: #008080; text-decoration-color: #008080; font-weight: bold\">4</span>                                       <a href=\"file://C:\\Users\\BHSU\\AppData\\Local\\Programs\\Python\\Python39\\lib\\site-packages\\openfl\\component\\aggregator\\aggregator.py\" target=\"_blank\"><span style=\"color: #7f7f7f; text-decoration-color: #7f7f7f\">aggregator.py</span></a><span style=\"color: #7f7f7f; text-decoration-color: #7f7f7f\">:</span><a href=\"file://C:\\Users\\BHSU\\AppData\\Local\\Programs\\Python\\Python39\\lib\\site-packages\\openfl\\component\\aggregator\\aggregator.py#520\" target=\"_blank\"><span style=\"color: #7f7f7f; text-decoration-color: #7f7f7f\">520</span></a>\n",
       "</pre>\n"
      ],
      "text/plain": [
       "\u001b[2;36m          \u001b[0m\u001b[2;36m \u001b[0m\u001b[34mINFO    \u001b[0m Collaborator one is sending task results for locally_tuned_model_validation, round \u001b[1;36m4\u001b[0m                                       \u001b]8;id=411224;file://C:\\Users\\BHSU\\AppData\\Local\\Programs\\Python\\Python39\\lib\\site-packages\\openfl\\component\\aggregator\\aggregator.py\u001b\\\u001b[2maggregator.py\u001b[0m\u001b]8;;\u001b\\\u001b[2m:\u001b[0m\u001b]8;id=791091;file://C:\\Users\\BHSU\\AppData\\Local\\Programs\\Python\\Python39\\lib\\site-packages\\openfl\\component\\aggregator\\aggregator.py#520\u001b\\\u001b[2m520\u001b[0m\u001b]8;;\u001b\\\n"
      ]
     },
     "metadata": {},
     "output_type": "display_data"
    },
    {
     "data": {
      "text/html": [
       "<pre style=\"white-space:pre;overflow-x:auto;line-height:normal;font-family:Menlo,'DejaVu Sans Mono',consolas,'Courier New',monospace\"><span style=\"color: #7fbfbf; text-decoration-color: #7fbfbf\">           </span>METRIC   Round <span style=\"color: #008080; text-decoration-color: #008080; font-weight: bold\">4</span>, collaborator validate_local locally_tuned_model_validation result accuracy:    <span style=\"color: #008080; text-decoration-color: #008080; font-weight: bold\">0.960611</span>                           <a href=\"file://C:\\Users\\BHSU\\AppData\\Local\\Programs\\Python\\Python39\\lib\\site-packages\\openfl\\component\\aggregator\\aggregator.py\" target=\"_blank\"><span style=\"color: #7f7f7f; text-decoration-color: #7f7f7f\">aggregator.py</span></a><span style=\"color: #7f7f7f; text-decoration-color: #7f7f7f\">:</span><a href=\"file://C:\\Users\\BHSU\\AppData\\Local\\Programs\\Python\\Python39\\lib\\site-packages\\openfl\\component\\aggregator\\aggregator.py#559\" target=\"_blank\"><span style=\"color: #7f7f7f; text-decoration-color: #7f7f7f\">559</span></a>\n",
       "</pre>\n"
      ],
      "text/plain": [
       "\u001b[2;36m          \u001b[0m\u001b[2;36m \u001b[0mMETRIC   Round \u001b[1;36m4\u001b[0m, collaborator validate_local locally_tuned_model_validation result accuracy:    \u001b[1;36m0.960611\u001b[0m                           \u001b]8;id=298464;file://C:\\Users\\BHSU\\AppData\\Local\\Programs\\Python\\Python39\\lib\\site-packages\\openfl\\component\\aggregator\\aggregator.py\u001b\\\u001b[2maggregator.py\u001b[0m\u001b]8;;\u001b\\\u001b[2m:\u001b[0m\u001b]8;id=932469;file://C:\\Users\\BHSU\\AppData\\Local\\Programs\\Python\\Python39\\lib\\site-packages\\openfl\\component\\aggregator\\aggregator.py#559\u001b\\\u001b[2m559\u001b[0m\u001b]8;;\u001b\\\n"
      ]
     },
     "metadata": {},
     "output_type": "display_data"
    },
    {
     "data": {
      "text/html": [
       "<pre style=\"white-space:pre;overflow-x:auto;line-height:normal;font-family:Menlo,'DejaVu Sans Mono',consolas,'Courier New',monospace\"><span style=\"color: #7fbfbf; text-decoration-color: #7fbfbf\">           </span>METRIC   Round <span style=\"color: #008080; text-decoration-color: #008080; font-weight: bold\">4</span>, aggregator: locally_tuned_model_validation                                                                        <a href=\"file://C:\\Users\\BHSU\\AppData\\Local\\Programs\\Python\\Python39\\lib\\site-packages\\openfl\\component\\aggregator\\aggregator.py\" target=\"_blank\"><span style=\"color: #7f7f7f; text-decoration-color: #7f7f7f\">aggregator.py</span></a><span style=\"color: #7f7f7f; text-decoration-color: #7f7f7f\">:</span><a href=\"file://C:\\Users\\BHSU\\AppData\\Local\\Programs\\Python\\Python39\\lib\\site-packages\\openfl\\component\\aggregator\\aggregator.py#842\" target=\"_blank\"><span style=\"color: #7f7f7f; text-decoration-color: #7f7f7f\">842</span></a>\n",
       "<span style=\"color: #7fbfbf; text-decoration-color: #7fbfbf\">           </span>         <span style=\"font-weight: bold\">&lt;</span><span style=\"color: #ff00ff; text-decoration-color: #ff00ff; font-weight: bold\">openfl.interface.aggregation_functions.weighted_average.WeightedAverage</span><span style=\"color: #000000; text-decoration-color: #000000\"> object at </span><span style=\"color: #008080; text-decoration-color: #008080; font-weight: bold\">0x00000137CCF13D90</span><span style=\"font-weight: bold\">&gt;</span> accuracy:           <span style=\"color: #7f7f7f; text-decoration-color: #7f7f7f\">                 </span>\n",
       "<span style=\"color: #7fbfbf; text-decoration-color: #7fbfbf\">           </span>         <span style=\"color: #008080; text-decoration-color: #008080; font-weight: bold\">0.960611</span>                                                                                                                   <span style=\"color: #7f7f7f; text-decoration-color: #7f7f7f\">                 </span>\n",
       "</pre>\n"
      ],
      "text/plain": [
       "\u001b[2;36m          \u001b[0m\u001b[2;36m \u001b[0mMETRIC   Round \u001b[1;36m4\u001b[0m, aggregator: locally_tuned_model_validation                                                                        \u001b]8;id=516139;file://C:\\Users\\BHSU\\AppData\\Local\\Programs\\Python\\Python39\\lib\\site-packages\\openfl\\component\\aggregator\\aggregator.py\u001b\\\u001b[2maggregator.py\u001b[0m\u001b]8;;\u001b\\\u001b[2m:\u001b[0m\u001b]8;id=77105;file://C:\\Users\\BHSU\\AppData\\Local\\Programs\\Python\\Python39\\lib\\site-packages\\openfl\\component\\aggregator\\aggregator.py#842\u001b\\\u001b[2m842\u001b[0m\u001b]8;;\u001b\\\n",
       "\u001b[2;36m           \u001b[0m         \u001b[1m<\u001b[0m\u001b[1;95mopenfl.interface.aggregation_functions.weighted_average.WeightedAverage\u001b[0m\u001b[39m object at \u001b[0m\u001b[1;36m0x00000137CCF13D90\u001b[0m\u001b[1m>\u001b[0m accuracy:           \u001b[2m                 \u001b[0m\n",
       "\u001b[2;36m           \u001b[0m         \u001b[1;36m0.960611\u001b[0m                                                                                                                   \u001b[2m                 \u001b[0m\n"
      ]
     },
     "metadata": {},
     "output_type": "display_data"
    },
    {
     "data": {
      "text/html": [
       "<pre style=\"white-space:pre;overflow-x:auto;line-height:normal;font-family:Menlo,'DejaVu Sans Mono',consolas,'Courier New',monospace\"><span style=\"color: #7fbfbf; text-decoration-color: #7fbfbf\">           </span>METRIC   Round <span style=\"color: #008080; text-decoration-color: #008080; font-weight: bold\">4</span>, aggregator: train <span style=\"font-weight: bold\">&lt;</span><span style=\"color: #ff00ff; text-decoration-color: #ff00ff; font-weight: bold\">openfl.interface.aggregation_functions.weighted_average.WeightedAverage</span><span style=\"color: #000000; text-decoration-color: #000000\"> object at </span>             <a href=\"file://C:\\Users\\BHSU\\AppData\\Local\\Programs\\Python\\Python39\\lib\\site-packages\\openfl\\component\\aggregator\\aggregator.py\" target=\"_blank\"><span style=\"color: #7f7f7f; text-decoration-color: #7f7f7f\">aggregator.py</span></a><span style=\"color: #7f7f7f; text-decoration-color: #7f7f7f\">:</span><a href=\"file://C:\\Users\\BHSU\\AppData\\Local\\Programs\\Python\\Python39\\lib\\site-packages\\openfl\\component\\aggregator\\aggregator.py#842\" target=\"_blank\"><span style=\"color: #7f7f7f; text-decoration-color: #7f7f7f\">842</span></a>\n",
       "<span style=\"color: #7fbfbf; text-decoration-color: #7fbfbf\">           </span>         <span style=\"color: #008080; text-decoration-color: #008080; font-weight: bold\">0x00000137CCF13D90</span><span style=\"font-weight: bold\">&gt;</span> loss: <span style=\"color: #008080; text-decoration-color: #008080; font-weight: bold\">0.115102</span>                                                                                         <span style=\"color: #7f7f7f; text-decoration-color: #7f7f7f\">                 </span>\n",
       "</pre>\n"
      ],
      "text/plain": [
       "\u001b[2;36m          \u001b[0m\u001b[2;36m \u001b[0mMETRIC   Round \u001b[1;36m4\u001b[0m, aggregator: train \u001b[1m<\u001b[0m\u001b[1;95mopenfl.interface.aggregation_functions.weighted_average.WeightedAverage\u001b[0m\u001b[39m object at \u001b[0m             \u001b]8;id=634882;file://C:\\Users\\BHSU\\AppData\\Local\\Programs\\Python\\Python39\\lib\\site-packages\\openfl\\component\\aggregator\\aggregator.py\u001b\\\u001b[2maggregator.py\u001b[0m\u001b]8;;\u001b\\\u001b[2m:\u001b[0m\u001b]8;id=972296;file://C:\\Users\\BHSU\\AppData\\Local\\Programs\\Python\\Python39\\lib\\site-packages\\openfl\\component\\aggregator\\aggregator.py#842\u001b\\\u001b[2m842\u001b[0m\u001b]8;;\u001b\\\n",
       "\u001b[2;36m           \u001b[0m         \u001b[1;36m0x00000137CCF13D90\u001b[0m\u001b[1m>\u001b[0m loss: \u001b[1;36m0.115102\u001b[0m                                                                                         \u001b[2m                 \u001b[0m\n"
      ]
     },
     "metadata": {},
     "output_type": "display_data"
    },
    {
     "data": {
      "text/html": [
       "<pre style=\"white-space:pre;overflow-x:auto;line-height:normal;font-family:Menlo,'DejaVu Sans Mono',consolas,'Courier New',monospace\"><span style=\"color: #7fbfbf; text-decoration-color: #7fbfbf\">           </span>METRIC   Round <span style=\"color: #008080; text-decoration-color: #008080; font-weight: bold\">4</span>, aggregator: aggregated_model_validation <span style=\"font-weight: bold\">&lt;</span><span style=\"color: #ff00ff; text-decoration-color: #ff00ff; font-weight: bold\">openfl.interface.aggregation_functions.weighted_average.WeightedAverage</span><span style=\"color: #000000; text-decoration-color: #000000\"> </span> <a href=\"file://C:\\Users\\BHSU\\AppData\\Local\\Programs\\Python\\Python39\\lib\\site-packages\\openfl\\component\\aggregator\\aggregator.py\" target=\"_blank\"><span style=\"color: #7f7f7f; text-decoration-color: #7f7f7f\">aggregator.py</span></a><span style=\"color: #7f7f7f; text-decoration-color: #7f7f7f\">:</span><a href=\"file://C:\\Users\\BHSU\\AppData\\Local\\Programs\\Python\\Python39\\lib\\site-packages\\openfl\\component\\aggregator\\aggregator.py#842\" target=\"_blank\"><span style=\"color: #7f7f7f; text-decoration-color: #7f7f7f\">842</span></a>\n",
       "<span style=\"color: #7fbfbf; text-decoration-color: #7fbfbf\">           </span>         <span style=\"color: #000000; text-decoration-color: #000000\">object at </span><span style=\"color: #008080; text-decoration-color: #008080; font-weight: bold\">0x00000137CCF13D90</span><span style=\"font-weight: bold\">&gt;</span> accuracy:       <span style=\"color: #008080; text-decoration-color: #008080; font-weight: bold\">0.954833</span>                                                                     <span style=\"color: #7f7f7f; text-decoration-color: #7f7f7f\">                 </span>\n",
       "</pre>\n"
      ],
      "text/plain": [
       "\u001b[2;36m          \u001b[0m\u001b[2;36m \u001b[0mMETRIC   Round \u001b[1;36m4\u001b[0m, aggregator: aggregated_model_validation \u001b[1m<\u001b[0m\u001b[1;95mopenfl.interface.aggregation_functions.weighted_average.WeightedAverage\u001b[0m\u001b[39m \u001b[0m \u001b]8;id=825643;file://C:\\Users\\BHSU\\AppData\\Local\\Programs\\Python\\Python39\\lib\\site-packages\\openfl\\component\\aggregator\\aggregator.py\u001b\\\u001b[2maggregator.py\u001b[0m\u001b]8;;\u001b\\\u001b[2m:\u001b[0m\u001b]8;id=570899;file://C:\\Users\\BHSU\\AppData\\Local\\Programs\\Python\\Python39\\lib\\site-packages\\openfl\\component\\aggregator\\aggregator.py#842\u001b\\\u001b[2m842\u001b[0m\u001b]8;;\u001b\\\n",
       "\u001b[2;36m           \u001b[0m         \u001b[39mobject at \u001b[0m\u001b[1;36m0x00000137CCF13D90\u001b[0m\u001b[1m>\u001b[0m accuracy:       \u001b[1;36m0.954833\u001b[0m                                                                     \u001b[2m                 \u001b[0m\n"
      ]
     },
     "metadata": {},
     "output_type": "display_data"
    },
    {
     "data": {
      "text/html": [
       "<pre style=\"white-space:pre;overflow-x:auto;line-height:normal;font-family:Menlo,'DejaVu Sans Mono',consolas,'Courier New',monospace\"><span style=\"color: #7fbfbf; text-decoration-color: #7fbfbf\">           </span>METRIC   Round <span style=\"color: #008080; text-decoration-color: #008080; font-weight: bold\">4</span>: saved the best model with score <span style=\"color: #008080; text-decoration-color: #008080; font-weight: bold\">0.954833</span>                                                                          <a href=\"file://C:\\Users\\BHSU\\AppData\\Local\\Programs\\Python\\Python39\\lib\\site-packages\\openfl\\component\\aggregator\\aggregator.py\" target=\"_blank\"><span style=\"color: #7f7f7f; text-decoration-color: #7f7f7f\">aggregator.py</span></a><span style=\"color: #7f7f7f; text-decoration-color: #7f7f7f\">:</span><a href=\"file://C:\\Users\\BHSU\\AppData\\Local\\Programs\\Python\\Python39\\lib\\site-packages\\openfl\\component\\aggregator\\aggregator.py#858\" target=\"_blank\"><span style=\"color: #7f7f7f; text-decoration-color: #7f7f7f\">858</span></a>\n",
       "</pre>\n"
      ],
      "text/plain": [
       "\u001b[2;36m          \u001b[0m\u001b[2;36m \u001b[0mMETRIC   Round \u001b[1;36m4\u001b[0m: saved the best model with score \u001b[1;36m0.954833\u001b[0m                                                                          \u001b]8;id=389811;file://C:\\Users\\BHSU\\AppData\\Local\\Programs\\Python\\Python39\\lib\\site-packages\\openfl\\component\\aggregator\\aggregator.py\u001b\\\u001b[2maggregator.py\u001b[0m\u001b]8;;\u001b\\\u001b[2m:\u001b[0m\u001b]8;id=396821;file://C:\\Users\\BHSU\\AppData\\Local\\Programs\\Python\\Python39\\lib\\site-packages\\openfl\\component\\aggregator\\aggregator.py#858\u001b\\\u001b[2m858\u001b[0m\u001b]8;;\u001b\\\n"
      ]
     },
     "metadata": {},
     "output_type": "display_data"
    },
    {
     "data": {
      "text/html": [
       "<pre style=\"white-space:pre;overflow-x:auto;line-height:normal;font-family:Menlo,'DejaVu Sans Mono',consolas,'Courier New',monospace\"><span style=\"color: #7fbfbf; text-decoration-color: #7fbfbf\">           </span><span style=\"color: #000080; text-decoration-color: #000080\">INFO    </span> Saving round <span style=\"color: #008080; text-decoration-color: #008080; font-weight: bold\">5</span> model<span style=\"color: #808000; text-decoration-color: #808000\">...</span>                                                                                                    <a href=\"file://C:\\Users\\BHSU\\AppData\\Local\\Programs\\Python\\Python39\\lib\\site-packages\\openfl\\component\\aggregator\\aggregator.py\" target=\"_blank\"><span style=\"color: #7f7f7f; text-decoration-color: #7f7f7f\">aggregator.py</span></a><span style=\"color: #7f7f7f; text-decoration-color: #7f7f7f\">:</span><a href=\"file://C:\\Users\\BHSU\\AppData\\Local\\Programs\\Python\\Python39\\lib\\site-packages\\openfl\\component\\aggregator\\aggregator.py#894\" target=\"_blank\"><span style=\"color: #7f7f7f; text-decoration-color: #7f7f7f\">894</span></a>\n",
       "</pre>\n"
      ],
      "text/plain": [
       "\u001b[2;36m          \u001b[0m\u001b[2;36m \u001b[0m\u001b[34mINFO    \u001b[0m Saving round \u001b[1;36m5\u001b[0m model\u001b[33m...\u001b[0m                                                                                                    \u001b]8;id=537752;file://C:\\Users\\BHSU\\AppData\\Local\\Programs\\Python\\Python39\\lib\\site-packages\\openfl\\component\\aggregator\\aggregator.py\u001b\\\u001b[2maggregator.py\u001b[0m\u001b]8;;\u001b\\\u001b[2m:\u001b[0m\u001b]8;id=919818;file://C:\\Users\\BHSU\\AppData\\Local\\Programs\\Python\\Python39\\lib\\site-packages\\openfl\\component\\aggregator\\aggregator.py#894\u001b\\\u001b[2m894\u001b[0m\u001b]8;;\u001b\\\n"
      ]
     },
     "metadata": {},
     "output_type": "display_data"
    },
    {
     "data": {
      "text/html": [
       "<pre style=\"white-space:pre;overflow-x:auto;line-height:normal;font-family:Menlo,'DejaVu Sans Mono',consolas,'Courier New',monospace\"><span style=\"color: #7fbfbf; text-decoration-color: #7fbfbf\">           </span><span style=\"color: #000080; text-decoration-color: #000080\">INFO    </span> Experiment Completed. Cleaning up<span style=\"color: #808000; text-decoration-color: #808000\">...</span>                                                                                       <a href=\"file://C:\\Users\\BHSU\\AppData\\Local\\Programs\\Python\\Python39\\lib\\site-packages\\openfl\\component\\aggregator\\aggregator.py\" target=\"_blank\"><span style=\"color: #7f7f7f; text-decoration-color: #7f7f7f\">aggregator.py</span></a><span style=\"color: #7f7f7f; text-decoration-color: #7f7f7f\">:</span><a href=\"file://C:\\Users\\BHSU\\AppData\\Local\\Programs\\Python\\Python39\\lib\\site-packages\\openfl\\component\\aggregator\\aggregator.py#899\" target=\"_blank\"><span style=\"color: #7f7f7f; text-decoration-color: #7f7f7f\">899</span></a>\n",
       "</pre>\n"
      ],
      "text/plain": [
       "\u001b[2;36m          \u001b[0m\u001b[2;36m \u001b[0m\u001b[34mINFO    \u001b[0m Experiment Completed. Cleaning up\u001b[33m...\u001b[0m                                                                                       \u001b]8;id=784267;file://C:\\Users\\BHSU\\AppData\\Local\\Programs\\Python\\Python39\\lib\\site-packages\\openfl\\component\\aggregator\\aggregator.py\u001b\\\u001b[2maggregator.py\u001b[0m\u001b]8;;\u001b\\\u001b[2m:\u001b[0m\u001b]8;id=772323;file://C:\\Users\\BHSU\\AppData\\Local\\Programs\\Python\\Python39\\lib\\site-packages\\openfl\\component\\aggregator\\aggregator.py#899\u001b\\\u001b[2m899\u001b[0m\u001b]8;;\u001b\\\n"
      ]
     },
     "metadata": {},
     "output_type": "display_data"
    },
    {
     "data": {
      "text/html": [
       "<pre style=\"white-space:pre;overflow-x:auto;line-height:normal;font-family:Menlo,'DejaVu Sans Mono',consolas,'Courier New',monospace\"><span style=\"color: #7fbfbf; text-decoration-color: #7fbfbf\">           </span><span style=\"color: #000080; text-decoration-color: #000080\">INFO    </span> All tasks completed on one for round <span style=\"color: #008080; text-decoration-color: #008080; font-weight: bold\">4</span><span style=\"color: #808000; text-decoration-color: #808000\">...</span>                                                                                <a href=\"file://C:\\Users\\BHSU\\AppData\\Local\\Programs\\Python\\Python39\\lib\\site-packages\\openfl\\component\\collaborator\\collaborator.py\" target=\"_blank\"><span style=\"color: #7f7f7f; text-decoration-color: #7f7f7f\">collaborator.py</span></a><span style=\"color: #7f7f7f; text-decoration-color: #7f7f7f\">:</span><a href=\"file://C:\\Users\\BHSU\\AppData\\Local\\Programs\\Python\\Python39\\lib\\site-packages\\openfl\\component\\collaborator\\collaborator.py#171\" target=\"_blank\"><span style=\"color: #7f7f7f; text-decoration-color: #7f7f7f\">171</span></a>\n",
       "</pre>\n"
      ],
      "text/plain": [
       "\u001b[2;36m          \u001b[0m\u001b[2;36m \u001b[0m\u001b[34mINFO    \u001b[0m All tasks completed on one for round \u001b[1;36m4\u001b[0m\u001b[33m...\u001b[0m                                                                                \u001b]8;id=93110;file://C:\\Users\\BHSU\\AppData\\Local\\Programs\\Python\\Python39\\lib\\site-packages\\openfl\\component\\collaborator\\collaborator.py\u001b\\\u001b[2mcollaborator.py\u001b[0m\u001b]8;;\u001b\\\u001b[2m:\u001b[0m\u001b]8;id=76196;file://C:\\Users\\BHSU\\AppData\\Local\\Programs\\Python\\Python39\\lib\\site-packages\\openfl\\component\\collaborator\\collaborator.py#171\u001b\\\u001b[2m171\u001b[0m\u001b]8;;\u001b\\\n"
      ]
     },
     "metadata": {},
     "output_type": "display_data"
    }
   ],
   "source": [
    "#Run experiment, return trained FederatedModel\n",
    "final_fl_model = fx.run_experiment(collaborators,override_config={'aggregator.settings.rounds_to_train':5})"
   ]
  },
  {
   "cell_type": "code",
   "execution_count": 15,
   "id": "a450e09e-84ab-4474-8346-da4c353a47f7",
   "metadata": {},
   "outputs": [],
   "source": [
    "#Save final model and load into keras\n",
    "final_fl_model.save_native('final_model')\n",
    "model = tf.keras.models.load_model('./final_model')"
   ]
  },
  {
   "cell_type": "code",
   "execution_count": 16,
   "id": "01560ca5-54ec-42a4-ad0d-7177d3522757",
   "metadata": {},
   "outputs": [
    {
     "name": "stdout",
     "output_type": "stream",
     "text": [
      "313/313 [==============================] - 0s 478us/step - loss: 0.1227 - accuracy: 0.9628\n"
     ]
    },
    {
     "data": {
      "text/plain": [
       "[0.12267255783081055, 0.9628000259399414]"
      ]
     },
     "execution_count": 16,
     "metadata": {},
     "output_type": "execute_result"
    }
   ],
   "source": [
    "#Test the final model on our test set\n",
    "model.evaluate(test_images,test_labels)"
   ]
  },
  {
   "cell_type": "code",
   "execution_count": 17,
   "id": "12ed88f2-f9ac-4c8f-bfca-10e85222e6ee",
   "metadata": {},
   "outputs": [],
   "source": [
    "# collaborators = 2"
   ]
  },
  {
   "cell_type": "code",
   "execution_count": 18,
   "id": "33a3449b-e9dc-4ba6-9bd3-5aa1a8f8afa9",
   "metadata": {},
   "outputs": [],
   "source": [
    "collaborator_models = fl_model.setup(num_collaborators=2)\n",
    "collaborators = {'one':collaborator_models[0],'two':collaborator_models[1]}#, 'three':collaborator_models[2]}"
   ]
  },
  {
   "cell_type": "code",
   "execution_count": 19,
   "id": "c3bc35ba-936e-4fd0-951d-3b749c285852",
   "metadata": {},
   "outputs": [
    {
     "name": "stdout",
     "output_type": "stream",
     "text": [
      "Original training data size: 42000\n",
      "Original validation data size: 18000\n",
      "\n",
      "Collaborator one's training data size: 21000\n",
      "Collaborator one's validation data size: 9000\n",
      "\n",
      "Collaborator two's training data size: 21000\n",
      "Collaborator two's validation data size: 9000\n",
      "\n"
     ]
    }
   ],
   "source": [
    "#Original MNIST dataset\n",
    "print(f'Original training data size: {len(train_images)}')\n",
    "print(f'Original validation data size: {len(valid_images)}\\n')\n",
    "\n",
    "#Collaborator one's data\n",
    "print(f'Collaborator one\\'s training data size: {len(collaborator_models[0].data_loader.X_train)}')\n",
    "print(f'Collaborator one\\'s validation data size: {len(collaborator_models[0].data_loader.X_valid)}\\n')\n",
    "\n",
    "#Collaborator two's data\n",
    "print(f'Collaborator two\\'s training data size: {len(collaborator_models[1].data_loader.X_train)}')\n",
    "print(f'Collaborator two\\'s validation data size: {len(collaborator_models[1].data_loader.X_valid)}\\n')\n",
    "\n",
    "#Collaborator three's data\n",
    "#print(f'Collaborator three\\'s training data size: {len(collaborator_models[2].data_loader.X_train)}')\n",
    "#print(f'Collaborator three\\'s validation data size: {len(collaborator_models[2].data_loader.X_valid)}')"
   ]
  },
  {
   "cell_type": "code",
   "execution_count": 20,
   "id": "fb204a9d-a1de-4550-825e-6c7c0a733a42",
   "metadata": {},
   "outputs": [
    {
     "name": "stdout",
     "output_type": "stream",
     "text": [
      "{\n",
      "    \"aggregator.settings.best_state_path\": \"save/keras_cnn_mnist_best.pbuf\",\n",
      "    \"aggregator.settings.db_store_rounds\": 2,\n",
      "    \"aggregator.settings.init_state_path\": \"save/keras_cnn_mnist_init.pbuf\",\n",
      "    \"aggregator.settings.last_state_path\": \"save/keras_cnn_mnist_last.pbuf\",\n",
      "    \"aggregator.settings.rounds_to_train\": 10,\n",
      "    \"aggregator.settings.write_logs\": true,\n",
      "    \"aggregator.template\": \"openfl.component.Aggregator\",\n",
      "    \"assigner.settings.task_groups.0.name\": \"train_and_validate\",\n",
      "    \"assigner.settings.task_groups.0.percentage\": 1.0,\n",
      "    \"assigner.settings.task_groups.0.tasks.0\": \"aggregated_model_validation\",\n",
      "    \"assigner.settings.task_groups.0.tasks.1\": \"train\",\n",
      "    \"assigner.settings.task_groups.0.tasks.2\": \"locally_tuned_model_validation\",\n",
      "    \"assigner.template\": \"openfl.component.RandomGroupedAssigner\",\n",
      "    \"collaborator.settings.db_store_rounds\": 1,\n",
      "    \"collaborator.settings.delta_updates\": false,\n",
      "    \"collaborator.settings.opt_treatment\": \"RESET\",\n",
      "    \"collaborator.template\": \"openfl.component.Collaborator\",\n",
      "    \"compression_pipeline.settings\": {},\n",
      "    \"compression_pipeline.template\": \"openfl.pipelines.NoCompressionPipeline\",\n",
      "    \"data_loader.settings.batch_size\": 256,\n",
      "    \"data_loader.settings.collaborator_count\": 2,\n",
      "    \"data_loader.settings.data_group_name\": \"mnist\",\n",
      "    \"data_loader.template\": \"src.tfmnist_inmemory.TensorFlowMNISTInMemory\",\n",
      "    \"network.settings.agg_addr\": \"DESKTOP-8R9A5NI\",\n",
      "    \"network.settings.agg_port\": 60628,\n",
      "    \"network.settings.cert_folder\": \"cert\",\n",
      "    \"network.settings.client_reconnect_interval\": 5,\n",
      "    \"network.settings.disable_client_auth\": false,\n",
      "    \"network.settings.hash_salt\": \"auto\",\n",
      "    \"network.settings.tls\": true,\n",
      "    \"network.template\": \"openfl.federation.Network\",\n",
      "    \"task_runner.settings\": {},\n",
      "    \"task_runner.template\": \"src.keras_cnn.KerasCNN\",\n",
      "    \"tasks.aggregated_model_validation.function\": \"validate\",\n",
      "    \"tasks.aggregated_model_validation.kwargs.apply\": \"global\",\n",
      "    \"tasks.aggregated_model_validation.kwargs.batch_size\": 32,\n",
      "    \"tasks.aggregated_model_validation.kwargs.metrics.0\": \"accuracy\",\n",
      "    \"tasks.locally_tuned_model_validation.function\": \"validate\",\n",
      "    \"tasks.locally_tuned_model_validation.kwargs.apply\": \"local\",\n",
      "    \"tasks.locally_tuned_model_validation.kwargs.batch_size\": 32,\n",
      "    \"tasks.locally_tuned_model_validation.kwargs.metrics.0\": \"accuracy\",\n",
      "    \"tasks.settings\": {},\n",
      "    \"tasks.train.function\": \"train\",\n",
      "    \"tasks.train.kwargs.batch_size\": 32,\n",
      "    \"tasks.train.kwargs.epochs\": 1,\n",
      "    \"tasks.train.kwargs.metrics.0\": \"loss\"\n",
      "}\n"
     ]
    }
   ],
   "source": [
    "#Get the current values of the plan. Each of these can be overridden\n",
    "print(fx.get_plan())"
   ]
  },
  {
   "cell_type": "code",
   "execution_count": 21,
   "id": "599bf430-40ca-498b-905b-3ea194634a12",
   "metadata": {},
   "outputs": [
    {
     "data": {
      "text/html": [
       "<pre style=\"white-space:pre;overflow-x:auto;line-height:normal;font-family:Menlo,'DejaVu Sans Mono',consolas,'Courier New',monospace\"><span style=\"color: #7fbfbf; text-decoration-color: #7fbfbf\">[17:02:14] </span><span style=\"color: #000080; text-decoration-color: #000080\">INFO    </span> Updating aggregator.settings.rounds_to_train to <span style=\"color: #008080; text-decoration-color: #008080; font-weight: bold\">5</span><span style=\"color: #808000; text-decoration-color: #808000\">...</span>                                                                           <a href=\"file://C:\\Users\\BHSU\\AppData\\Local\\Programs\\Python\\Python39\\lib\\site-packages\\openfl\\native\\native.py\" target=\"_blank\"><span style=\"color: #7f7f7f; text-decoration-color: #7f7f7f\">native.py</span></a><span style=\"color: #7f7f7f; text-decoration-color: #7f7f7f\">:</span><a href=\"file://C:\\Users\\BHSU\\AppData\\Local\\Programs\\Python\\Python39\\lib\\site-packages\\openfl\\native\\native.py#102\" target=\"_blank\"><span style=\"color: #7f7f7f; text-decoration-color: #7f7f7f\">102</span></a>\n",
       "</pre>\n"
      ],
      "text/plain": [
       "\u001b[2;36m[17:02:14]\u001b[0m\u001b[2;36m \u001b[0m\u001b[34mINFO    \u001b[0m Updating aggregator.settings.rounds_to_train to \u001b[1;36m5\u001b[0m\u001b[33m...\u001b[0m                                                                           \u001b]8;id=945646;file://C:\\Users\\BHSU\\AppData\\Local\\Programs\\Python\\Python39\\lib\\site-packages\\openfl\\native\\native.py\u001b\\\u001b[2mnative.py\u001b[0m\u001b]8;;\u001b\\\u001b[2m:\u001b[0m\u001b]8;id=238603;file://C:\\Users\\BHSU\\AppData\\Local\\Programs\\Python\\Python39\\lib\\site-packages\\openfl\\native\\native.py#102\u001b\\\u001b[2m102\u001b[0m\u001b]8;;\u001b\\\n"
      ]
     },
     "metadata": {},
     "output_type": "display_data"
    },
    {
     "data": {
      "text/html": [
       "<pre style=\"white-space:pre;overflow-x:auto;line-height:normal;font-family:Menlo,'DejaVu Sans Mono',consolas,'Courier New',monospace\"><span style=\"color: #7fbfbf; text-decoration-color: #7fbfbf\">           </span><span style=\"color: #000080; text-decoration-color: #000080\">INFO    </span> FL-Plan hash is <span style=\"color: #000080; text-decoration-color: #000080\">3038ce92442cac7666b80fc10e51468e5e5adcc0b61540dc858ee7d85c8b0c885c2cc942842464f636d17c74cb36ced1</span>                 <a href=\"file://C:\\Users\\BHSU\\AppData\\Local\\Programs\\Python\\Python39\\lib\\site-packages\\openfl\\federated\\plan\\plan.py\" target=\"_blank\"><span style=\"color: #7f7f7f; text-decoration-color: #7f7f7f\">plan.py</span></a><span style=\"color: #7f7f7f; text-decoration-color: #7f7f7f\">:</span><a href=\"file://C:\\Users\\BHSU\\AppData\\Local\\Programs\\Python\\Python39\\lib\\site-packages\\openfl\\federated\\plan\\plan.py#235\" target=\"_blank\"><span style=\"color: #7f7f7f; text-decoration-color: #7f7f7f\">235</span></a>\n",
       "</pre>\n"
      ],
      "text/plain": [
       "\u001b[2;36m          \u001b[0m\u001b[2;36m \u001b[0m\u001b[34mINFO    \u001b[0m FL-Plan hash is \u001b[34m3038ce92442cac7666b80fc10e51468e5e5adcc0b61540dc858ee7d85c8b0c885c2cc942842464f636d17c74cb36ced1\u001b[0m                 \u001b]8;id=822024;file://C:\\Users\\BHSU\\AppData\\Local\\Programs\\Python\\Python39\\lib\\site-packages\\openfl\\federated\\plan\\plan.py\u001b\\\u001b[2mplan.py\u001b[0m\u001b]8;;\u001b\\\u001b[2m:\u001b[0m\u001b]8;id=781998;file://C:\\Users\\BHSU\\AppData\\Local\\Programs\\Python\\Python39\\lib\\site-packages\\openfl\\federated\\plan\\plan.py#235\u001b\\\u001b[2m235\u001b[0m\u001b]8;;\u001b\\\n"
      ]
     },
     "metadata": {},
     "output_type": "display_data"
    },
    {
     "data": {
      "text/html": [
       "<pre style=\"white-space:pre;overflow-x:auto;line-height:normal;font-family:Menlo,'DejaVu Sans Mono',consolas,'Courier New',monospace\"><span style=\"color: #7fbfbf; text-decoration-color: #7fbfbf\">           </span><span style=\"color: #000080; text-decoration-color: #000080\">INFO    </span> Building <span style=\"color: #800000; text-decoration-color: #800000\">🡆</span> Object <span style=\"color: #800000; text-decoration-color: #800000\">NoCompressionPipeline</span> from <span style=\"color: #800000; text-decoration-color: #800000\">openfl.pipelines</span> Module.                                                            <a href=\"file://C:\\Users\\BHSU\\AppData\\Local\\Programs\\Python\\Python39\\lib\\site-packages\\openfl\\federated\\plan\\plan.py\" target=\"_blank\"><span style=\"color: #7f7f7f; text-decoration-color: #7f7f7f\">plan.py</span></a><span style=\"color: #7f7f7f; text-decoration-color: #7f7f7f\">:</span><a href=\"file://C:\\Users\\BHSU\\AppData\\Local\\Programs\\Python\\Python39\\lib\\site-packages\\openfl\\federated\\plan\\plan.py#171\" target=\"_blank\"><span style=\"color: #7f7f7f; text-decoration-color: #7f7f7f\">171</span></a>\n",
       "</pre>\n"
      ],
      "text/plain": [
       "\u001b[2;36m          \u001b[0m\u001b[2;36m \u001b[0m\u001b[34mINFO    \u001b[0m Building \u001b[31m🡆\u001b[0m Object \u001b[31mNoCompressionPipeline\u001b[0m from \u001b[31mopenfl.pipelines\u001b[0m Module.                                                            \u001b]8;id=254836;file://C:\\Users\\BHSU\\AppData\\Local\\Programs\\Python\\Python39\\lib\\site-packages\\openfl\\federated\\plan\\plan.py\u001b\\\u001b[2mplan.py\u001b[0m\u001b]8;;\u001b\\\u001b[2m:\u001b[0m\u001b]8;id=417984;file://C:\\Users\\BHSU\\AppData\\Local\\Programs\\Python\\Python39\\lib\\site-packages\\openfl\\federated\\plan\\plan.py#171\u001b\\\u001b[2m171\u001b[0m\u001b]8;;\u001b\\\n"
      ]
     },
     "metadata": {},
     "output_type": "display_data"
    },
    {
     "data": {
      "text/html": [
       "<pre style=\"white-space:pre;overflow-x:auto;line-height:normal;font-family:Menlo,'DejaVu Sans Mono',consolas,'Courier New',monospace\"><span style=\"color: #7fbfbf; text-decoration-color: #7fbfbf\">           </span><span style=\"color: #000080; text-decoration-color: #000080\">INFO    </span> Creating Initial Weights File    🠆 save/keras_cnn_mnist_init.pbuf                                                              <a href=\"file://C:\\Users\\BHSU\\AppData\\Local\\Programs\\Python\\Python39\\lib\\site-packages\\openfl\\native\\native.py\" target=\"_blank\"><span style=\"color: #7f7f7f; text-decoration-color: #7f7f7f\">native.py</span></a><span style=\"color: #7f7f7f; text-decoration-color: #7f7f7f\">:</span><a href=\"file://C:\\Users\\BHSU\\AppData\\Local\\Programs\\Python\\Python39\\lib\\site-packages\\openfl\\native\\native.py#277\" target=\"_blank\"><span style=\"color: #7f7f7f; text-decoration-color: #7f7f7f\">277</span></a>\n",
       "</pre>\n"
      ],
      "text/plain": [
       "\u001b[2;36m          \u001b[0m\u001b[2;36m \u001b[0m\u001b[34mINFO    \u001b[0m Creating Initial Weights File    🠆 save/keras_cnn_mnist_init.pbuf                                                              \u001b]8;id=575774;file://C:\\Users\\BHSU\\AppData\\Local\\Programs\\Python\\Python39\\lib\\site-packages\\openfl\\native\\native.py\u001b\\\u001b[2mnative.py\u001b[0m\u001b]8;;\u001b\\\u001b[2m:\u001b[0m\u001b]8;id=792120;file://C:\\Users\\BHSU\\AppData\\Local\\Programs\\Python\\Python39\\lib\\site-packages\\openfl\\native\\native.py#277\u001b\\\u001b[2m277\u001b[0m\u001b]8;;\u001b\\\n"
      ]
     },
     "metadata": {},
     "output_type": "display_data"
    },
    {
     "data": {
      "text/html": [
       "<pre style=\"white-space:pre;overflow-x:auto;line-height:normal;font-family:Menlo,'DejaVu Sans Mono',consolas,'Courier New',monospace\"><span style=\"color: #7fbfbf; text-decoration-color: #7fbfbf\">           </span><span style=\"color: #000080; text-decoration-color: #000080\">INFO    </span> Starting Experiment<span style=\"color: #808000; text-decoration-color: #808000\">...</span>                                                                                                         <a href=\"file://C:\\Users\\BHSU\\AppData\\Local\\Programs\\Python\\Python39\\lib\\site-packages\\openfl\\native\\native.py\" target=\"_blank\"><span style=\"color: #7f7f7f; text-decoration-color: #7f7f7f\">native.py</span></a><span style=\"color: #7f7f7f; text-decoration-color: #7f7f7f\">:</span><a href=\"file://C:\\Users\\BHSU\\AppData\\Local\\Programs\\Python\\Python39\\lib\\site-packages\\openfl\\native\\native.py#281\" target=\"_blank\"><span style=\"color: #7f7f7f; text-decoration-color: #7f7f7f\">281</span></a>\n",
       "</pre>\n"
      ],
      "text/plain": [
       "\u001b[2;36m          \u001b[0m\u001b[2;36m \u001b[0m\u001b[34mINFO    \u001b[0m Starting Experiment\u001b[33m...\u001b[0m                                                                                                         \u001b]8;id=148284;file://C:\\Users\\BHSU\\AppData\\Local\\Programs\\Python\\Python39\\lib\\site-packages\\openfl\\native\\native.py\u001b\\\u001b[2mnative.py\u001b[0m\u001b]8;;\u001b\\\u001b[2m:\u001b[0m\u001b]8;id=89279;file://C:\\Users\\BHSU\\AppData\\Local\\Programs\\Python\\Python39\\lib\\site-packages\\openfl\\native\\native.py#281\u001b\\\u001b[2m281\u001b[0m\u001b]8;;\u001b\\\n"
      ]
     },
     "metadata": {},
     "output_type": "display_data"
    },
    {
     "data": {
      "text/html": [
       "<pre style=\"white-space:pre;overflow-x:auto;line-height:normal;font-family:Menlo,'DejaVu Sans Mono',consolas,'Courier New',monospace\"><span style=\"color: #7fbfbf; text-decoration-color: #7fbfbf\">           </span><span style=\"color: #000080; text-decoration-color: #000080\">INFO    </span> Building <span style=\"color: #800000; text-decoration-color: #800000\">🡆</span> Object <span style=\"color: #800000; text-decoration-color: #800000\">RandomGroupedAssigner</span> from <span style=\"color: #800000; text-decoration-color: #800000\">openfl.component</span> Module.                                                            <a href=\"file://C:\\Users\\BHSU\\AppData\\Local\\Programs\\Python\\Python39\\lib\\site-packages\\openfl\\federated\\plan\\plan.py\" target=\"_blank\"><span style=\"color: #7f7f7f; text-decoration-color: #7f7f7f\">plan.py</span></a><span style=\"color: #7f7f7f; text-decoration-color: #7f7f7f\">:</span><a href=\"file://C:\\Users\\BHSU\\AppData\\Local\\Programs\\Python\\Python39\\lib\\site-packages\\openfl\\federated\\plan\\plan.py#171\" target=\"_blank\"><span style=\"color: #7f7f7f; text-decoration-color: #7f7f7f\">171</span></a>\n",
       "</pre>\n"
      ],
      "text/plain": [
       "\u001b[2;36m          \u001b[0m\u001b[2;36m \u001b[0m\u001b[34mINFO    \u001b[0m Building \u001b[31m🡆\u001b[0m Object \u001b[31mRandomGroupedAssigner\u001b[0m from \u001b[31mopenfl.component\u001b[0m Module.                                                            \u001b]8;id=793393;file://C:\\Users\\BHSU\\AppData\\Local\\Programs\\Python\\Python39\\lib\\site-packages\\openfl\\federated\\plan\\plan.py\u001b\\\u001b[2mplan.py\u001b[0m\u001b]8;;\u001b\\\u001b[2m:\u001b[0m\u001b]8;id=479387;file://C:\\Users\\BHSU\\AppData\\Local\\Programs\\Python\\Python39\\lib\\site-packages\\openfl\\federated\\plan\\plan.py#171\u001b\\\u001b[2m171\u001b[0m\u001b]8;;\u001b\\\n"
      ]
     },
     "metadata": {},
     "output_type": "display_data"
    },
    {
     "data": {
      "text/html": [
       "<pre style=\"white-space:pre;overflow-x:auto;line-height:normal;font-family:Menlo,'DejaVu Sans Mono',consolas,'Courier New',monospace\"><span style=\"color: #7fbfbf; text-decoration-color: #7fbfbf\">           </span><span style=\"color: #000080; text-decoration-color: #000080\">INFO    </span> Building <span style=\"color: #800000; text-decoration-color: #800000\">🡆</span> Object <span style=\"color: #800000; text-decoration-color: #800000\">CutoffTimeBasedStragglerHandling</span> from <span style=\"color: #800000; text-decoration-color: #800000\">openfl.component.straggler_handling_functions</span> Module.                    <a href=\"file://C:\\Users\\BHSU\\AppData\\Local\\Programs\\Python\\Python39\\lib\\site-packages\\openfl\\federated\\plan\\plan.py\" target=\"_blank\"><span style=\"color: #7f7f7f; text-decoration-color: #7f7f7f\">plan.py</span></a><span style=\"color: #7f7f7f; text-decoration-color: #7f7f7f\">:</span><a href=\"file://C:\\Users\\BHSU\\AppData\\Local\\Programs\\Python\\Python39\\lib\\site-packages\\openfl\\federated\\plan\\plan.py#171\" target=\"_blank\"><span style=\"color: #7f7f7f; text-decoration-color: #7f7f7f\">171</span></a>\n",
       "</pre>\n"
      ],
      "text/plain": [
       "\u001b[2;36m          \u001b[0m\u001b[2;36m \u001b[0m\u001b[34mINFO    \u001b[0m Building \u001b[31m🡆\u001b[0m Object \u001b[31mCutoffTimeBasedStragglerHandling\u001b[0m from \u001b[31mopenfl.component.straggler_handling_functions\u001b[0m Module.                    \u001b]8;id=649909;file://C:\\Users\\BHSU\\AppData\\Local\\Programs\\Python\\Python39\\lib\\site-packages\\openfl\\federated\\plan\\plan.py\u001b\\\u001b[2mplan.py\u001b[0m\u001b]8;;\u001b\\\u001b[2m:\u001b[0m\u001b]8;id=866337;file://C:\\Users\\BHSU\\AppData\\Local\\Programs\\Python\\Python39\\lib\\site-packages\\openfl\\federated\\plan\\plan.py#171\u001b\\\u001b[2m171\u001b[0m\u001b]8;;\u001b\\\n"
      ]
     },
     "metadata": {},
     "output_type": "display_data"
    },
    {
     "data": {
      "text/html": [
       "<pre style=\"white-space:pre;overflow-x:auto;line-height:normal;font-family:Menlo,'DejaVu Sans Mono',consolas,'Courier New',monospace\"><span style=\"color: #7fbfbf; text-decoration-color: #7fbfbf\">           </span><span style=\"color: #000080; text-decoration-color: #000080\">INFO    </span> Building <span style=\"color: #800000; text-decoration-color: #800000\">🡆</span> Object <span style=\"color: #800000; text-decoration-color: #800000\">Aggregator</span> from <span style=\"color: #800000; text-decoration-color: #800000\">openfl.component</span> Module.                                                                       <a href=\"file://C:\\Users\\BHSU\\AppData\\Local\\Programs\\Python\\Python39\\lib\\site-packages\\openfl\\federated\\plan\\plan.py\" target=\"_blank\"><span style=\"color: #7f7f7f; text-decoration-color: #7f7f7f\">plan.py</span></a><span style=\"color: #7f7f7f; text-decoration-color: #7f7f7f\">:</span><a href=\"file://C:\\Users\\BHSU\\AppData\\Local\\Programs\\Python\\Python39\\lib\\site-packages\\openfl\\federated\\plan\\plan.py#171\" target=\"_blank\"><span style=\"color: #7f7f7f; text-decoration-color: #7f7f7f\">171</span></a>\n",
       "</pre>\n"
      ],
      "text/plain": [
       "\u001b[2;36m          \u001b[0m\u001b[2;36m \u001b[0m\u001b[34mINFO    \u001b[0m Building \u001b[31m🡆\u001b[0m Object \u001b[31mAggregator\u001b[0m from \u001b[31mopenfl.component\u001b[0m Module.                                                                       \u001b]8;id=546476;file://C:\\Users\\BHSU\\AppData\\Local\\Programs\\Python\\Python39\\lib\\site-packages\\openfl\\federated\\plan\\plan.py\u001b\\\u001b[2mplan.py\u001b[0m\u001b]8;;\u001b\\\u001b[2m:\u001b[0m\u001b]8;id=715589;file://C:\\Users\\BHSU\\AppData\\Local\\Programs\\Python\\Python39\\lib\\site-packages\\openfl\\federated\\plan\\plan.py#171\u001b\\\u001b[2m171\u001b[0m\u001b]8;;\u001b\\\n"
      ]
     },
     "metadata": {},
     "output_type": "display_data"
    },
    {
     "data": {
      "text/html": [
       "<pre style=\"white-space:pre;overflow-x:auto;line-height:normal;font-family:Menlo,'DejaVu Sans Mono',consolas,'Courier New',monospace\"><span style=\"color: #7fbfbf; text-decoration-color: #7fbfbf\">           </span><span style=\"color: #000080; text-decoration-color: #000080\">INFO    </span> Building <span style=\"color: #800000; text-decoration-color: #800000\">🡆</span> Object <span style=\"color: #800000; text-decoration-color: #800000\">Collaborator</span> from <span style=\"color: #800000; text-decoration-color: #800000\">openfl.component</span> Module.                                                                     <a href=\"file://C:\\Users\\BHSU\\AppData\\Local\\Programs\\Python\\Python39\\lib\\site-packages\\openfl\\federated\\plan\\plan.py\" target=\"_blank\"><span style=\"color: #7f7f7f; text-decoration-color: #7f7f7f\">plan.py</span></a><span style=\"color: #7f7f7f; text-decoration-color: #7f7f7f\">:</span><a href=\"file://C:\\Users\\BHSU\\AppData\\Local\\Programs\\Python\\Python39\\lib\\site-packages\\openfl\\federated\\plan\\plan.py#171\" target=\"_blank\"><span style=\"color: #7f7f7f; text-decoration-color: #7f7f7f\">171</span></a>\n",
       "</pre>\n"
      ],
      "text/plain": [
       "\u001b[2;36m          \u001b[0m\u001b[2;36m \u001b[0m\u001b[34mINFO    \u001b[0m Building \u001b[31m🡆\u001b[0m Object \u001b[31mCollaborator\u001b[0m from \u001b[31mopenfl.component\u001b[0m Module.                                                                     \u001b]8;id=526120;file://C:\\Users\\BHSU\\AppData\\Local\\Programs\\Python\\Python39\\lib\\site-packages\\openfl\\federated\\plan\\plan.py\u001b\\\u001b[2mplan.py\u001b[0m\u001b]8;;\u001b\\\u001b[2m:\u001b[0m\u001b]8;id=790270;file://C:\\Users\\BHSU\\AppData\\Local\\Programs\\Python\\Python39\\lib\\site-packages\\openfl\\federated\\plan\\plan.py#171\u001b\\\u001b[2m171\u001b[0m\u001b]8;;\u001b\\\n"
      ]
     },
     "metadata": {},
     "output_type": "display_data"
    },
    {
     "data": {
      "text/html": [
       "<pre style=\"white-space:pre;overflow-x:auto;line-height:normal;font-family:Menlo,'DejaVu Sans Mono',consolas,'Courier New',monospace\"><span style=\"color: #7fbfbf; text-decoration-color: #7fbfbf\">           </span><span style=\"color: #000080; text-decoration-color: #000080\">INFO    </span> Building <span style=\"color: #800000; text-decoration-color: #800000\">🡆</span> Object <span style=\"color: #800000; text-decoration-color: #800000\">Collaborator</span> from <span style=\"color: #800000; text-decoration-color: #800000\">openfl.component</span> Module.                                                                     <a href=\"file://C:\\Users\\BHSU\\AppData\\Local\\Programs\\Python\\Python39\\lib\\site-packages\\openfl\\federated\\plan\\plan.py\" target=\"_blank\"><span style=\"color: #7f7f7f; text-decoration-color: #7f7f7f\">plan.py</span></a><span style=\"color: #7f7f7f; text-decoration-color: #7f7f7f\">:</span><a href=\"file://C:\\Users\\BHSU\\AppData\\Local\\Programs\\Python\\Python39\\lib\\site-packages\\openfl\\federated\\plan\\plan.py#171\" target=\"_blank\"><span style=\"color: #7f7f7f; text-decoration-color: #7f7f7f\">171</span></a>\n",
       "</pre>\n"
      ],
      "text/plain": [
       "\u001b[2;36m          \u001b[0m\u001b[2;36m \u001b[0m\u001b[34mINFO    \u001b[0m Building \u001b[31m🡆\u001b[0m Object \u001b[31mCollaborator\u001b[0m from \u001b[31mopenfl.component\u001b[0m Module.                                                                     \u001b]8;id=743655;file://C:\\Users\\BHSU\\AppData\\Local\\Programs\\Python\\Python39\\lib\\site-packages\\openfl\\federated\\plan\\plan.py\u001b\\\u001b[2mplan.py\u001b[0m\u001b]8;;\u001b\\\u001b[2m:\u001b[0m\u001b]8;id=939893;file://C:\\Users\\BHSU\\AppData\\Local\\Programs\\Python\\Python39\\lib\\site-packages\\openfl\\federated\\plan\\plan.py#171\u001b\\\u001b[2m171\u001b[0m\u001b]8;;\u001b\\\n"
      ]
     },
     "metadata": {},
     "output_type": "display_data"
    },
    {
     "data": {
      "text/html": [
       "<pre style=\"white-space:pre;overflow-x:auto;line-height:normal;font-family:Menlo,'DejaVu Sans Mono',consolas,'Courier New',monospace\"><span style=\"color: #7fbfbf; text-decoration-color: #7fbfbf\">           </span><span style=\"color: #000080; text-decoration-color: #000080\">INFO    </span> Waiting for tasks<span style=\"color: #808000; text-decoration-color: #808000\">...</span>                                                                                                     <a href=\"file://C:\\Users\\BHSU\\AppData\\Local\\Programs\\Python\\Python39\\lib\\site-packages\\openfl\\component\\collaborator\\collaborator.py\" target=\"_blank\"><span style=\"color: #7f7f7f; text-decoration-color: #7f7f7f\">collaborator.py</span></a><span style=\"color: #7f7f7f; text-decoration-color: #7f7f7f\">:</span><a href=\"file://C:\\Users\\BHSU\\AppData\\Local\\Programs\\Python\\Python39\\lib\\site-packages\\openfl\\component\\collaborator\\collaborator.py#178\" target=\"_blank\"><span style=\"color: #7f7f7f; text-decoration-color: #7f7f7f\">178</span></a>\n",
       "</pre>\n"
      ],
      "text/plain": [
       "\u001b[2;36m          \u001b[0m\u001b[2;36m \u001b[0m\u001b[34mINFO    \u001b[0m Waiting for tasks\u001b[33m...\u001b[0m                                                                                                     \u001b]8;id=673557;file://C:\\Users\\BHSU\\AppData\\Local\\Programs\\Python\\Python39\\lib\\site-packages\\openfl\\component\\collaborator\\collaborator.py\u001b\\\u001b[2mcollaborator.py\u001b[0m\u001b]8;;\u001b\\\u001b[2m:\u001b[0m\u001b]8;id=780422;file://C:\\Users\\BHSU\\AppData\\Local\\Programs\\Python\\Python39\\lib\\site-packages\\openfl\\component\\collaborator\\collaborator.py#178\u001b\\\u001b[2m178\u001b[0m\u001b]8;;\u001b\\\n"
      ]
     },
     "metadata": {},
     "output_type": "display_data"
    },
    {
     "data": {
      "text/html": [
       "<pre style=\"white-space:pre;overflow-x:auto;line-height:normal;font-family:Menlo,'DejaVu Sans Mono',consolas,'Courier New',monospace\"><span style=\"color: #7fbfbf; text-decoration-color: #7fbfbf\">           </span><span style=\"color: #000080; text-decoration-color: #000080\">INFO    </span> Sending tasks to collaborator one for round <span style=\"color: #008080; text-decoration-color: #008080; font-weight: bold\">0</span>                                                                              <a href=\"file://C:\\Users\\BHSU\\AppData\\Local\\Programs\\Python\\Python39\\lib\\site-packages\\openfl\\component\\aggregator\\aggregator.py\" target=\"_blank\"><span style=\"color: #7f7f7f; text-decoration-color: #7f7f7f\">aggregator.py</span></a><span style=\"color: #7f7f7f; text-decoration-color: #7f7f7f\">:</span><a href=\"file://C:\\Users\\BHSU\\AppData\\Local\\Programs\\Python\\Python39\\lib\\site-packages\\openfl\\component\\aggregator\\aggregator.py#329\" target=\"_blank\"><span style=\"color: #7f7f7f; text-decoration-color: #7f7f7f\">329</span></a>\n",
       "</pre>\n"
      ],
      "text/plain": [
       "\u001b[2;36m          \u001b[0m\u001b[2;36m \u001b[0m\u001b[34mINFO    \u001b[0m Sending tasks to collaborator one for round \u001b[1;36m0\u001b[0m                                                                              \u001b]8;id=781831;file://C:\\Users\\BHSU\\AppData\\Local\\Programs\\Python\\Python39\\lib\\site-packages\\openfl\\component\\aggregator\\aggregator.py\u001b\\\u001b[2maggregator.py\u001b[0m\u001b]8;;\u001b\\\u001b[2m:\u001b[0m\u001b]8;id=220021;file://C:\\Users\\BHSU\\AppData\\Local\\Programs\\Python\\Python39\\lib\\site-packages\\openfl\\component\\aggregator\\aggregator.py#329\u001b\\\u001b[2m329\u001b[0m\u001b]8;;\u001b\\\n"
      ]
     },
     "metadata": {},
     "output_type": "display_data"
    },
    {
     "data": {
      "text/html": [
       "<pre style=\"white-space:pre;overflow-x:auto;line-height:normal;font-family:Menlo,'DejaVu Sans Mono',consolas,'Courier New',monospace\"><span style=\"color: #7fbfbf; text-decoration-color: #7fbfbf\">           </span><span style=\"color: #000080; text-decoration-color: #000080\">INFO    </span> Received the following tasks: <span style=\"font-weight: bold\">[</span><span style=\"color: #008000; text-decoration-color: #008000\">'aggregated_model_validation'</span>, <span style=\"color: #008000; text-decoration-color: #008000\">'train'</span>, <span style=\"color: #008000; text-decoration-color: #008000\">'locally_tuned_model_validation'</span><span style=\"font-weight: bold\">]</span>                 <a href=\"file://C:\\Users\\BHSU\\AppData\\Local\\Programs\\Python\\Python39\\lib\\site-packages\\openfl\\component\\collaborator\\collaborator.py\" target=\"_blank\"><span style=\"color: #7f7f7f; text-decoration-color: #7f7f7f\">collaborator.py</span></a><span style=\"color: #7f7f7f; text-decoration-color: #7f7f7f\">:</span><a href=\"file://C:\\Users\\BHSU\\AppData\\Local\\Programs\\Python\\Python39\\lib\\site-packages\\openfl\\component\\collaborator\\collaborator.py#168\" target=\"_blank\"><span style=\"color: #7f7f7f; text-decoration-color: #7f7f7f\">168</span></a>\n",
       "</pre>\n"
      ],
      "text/plain": [
       "\u001b[2;36m          \u001b[0m\u001b[2;36m \u001b[0m\u001b[34mINFO    \u001b[0m Received the following tasks: \u001b[1m[\u001b[0m\u001b[32m'aggregated_model_validation'\u001b[0m, \u001b[32m'train'\u001b[0m, \u001b[32m'locally_tuned_model_validation'\u001b[0m\u001b[1m]\u001b[0m                 \u001b]8;id=431231;file://C:\\Users\\BHSU\\AppData\\Local\\Programs\\Python\\Python39\\lib\\site-packages\\openfl\\component\\collaborator\\collaborator.py\u001b\\\u001b[2mcollaborator.py\u001b[0m\u001b]8;;\u001b\\\u001b[2m:\u001b[0m\u001b]8;id=729260;file://C:\\Users\\BHSU\\AppData\\Local\\Programs\\Python\\Python39\\lib\\site-packages\\openfl\\component\\collaborator\\collaborator.py#168\u001b\\\u001b[2m168\u001b[0m\u001b]8;;\u001b\\\n"
      ]
     },
     "metadata": {},
     "output_type": "display_data"
    },
    {
     "data": {
      "text/html": [
       "<pre style=\"white-space:pre;overflow-x:auto;line-height:normal;font-family:Menlo,'DejaVu Sans Mono',consolas,'Courier New',monospace\"><span style=\"color: #7fbfbf; text-decoration-color: #7fbfbf\">           </span><span style=\"color: #000080; text-decoration-color: #000080\">INFO    </span> Using TaskRunner subclassing API                                                                                         <a href=\"file://C:\\Users\\BHSU\\AppData\\Local\\Programs\\Python\\Python39\\lib\\site-packages\\openfl\\component\\collaborator\\collaborator.py\" target=\"_blank\"><span style=\"color: #7f7f7f; text-decoration-color: #7f7f7f\">collaborator.py</span></a><span style=\"color: #7f7f7f; text-decoration-color: #7f7f7f\">:</span><a href=\"file://C:\\Users\\BHSU\\AppData\\Local\\Programs\\Python\\Python39\\lib\\site-packages\\openfl\\component\\collaborator\\collaborator.py#253\" target=\"_blank\"><span style=\"color: #7f7f7f; text-decoration-color: #7f7f7f\">253</span></a>\n",
       "</pre>\n"
      ],
      "text/plain": [
       "\u001b[2;36m          \u001b[0m\u001b[2;36m \u001b[0m\u001b[34mINFO    \u001b[0m Using TaskRunner subclassing API                                                                                         \u001b]8;id=229569;file://C:\\Users\\BHSU\\AppData\\Local\\Programs\\Python\\Python39\\lib\\site-packages\\openfl\\component\\collaborator\\collaborator.py\u001b\\\u001b[2mcollaborator.py\u001b[0m\u001b]8;;\u001b\\\u001b[2m:\u001b[0m\u001b]8;id=912769;file://C:\\Users\\BHSU\\AppData\\Local\\Programs\\Python\\Python39\\lib\\site-packages\\openfl\\component\\collaborator\\collaborator.py#253\u001b\\\u001b[2m253\u001b[0m\u001b]8;;\u001b\\\n"
      ]
     },
     "metadata": {},
     "output_type": "display_data"
    },
    {
     "name": "stdout",
     "output_type": "stream",
     "text": [
      "282/282 [==============================] - 0s 537us/step - loss: 2.3495 - accuracy: 0.1312\n"
     ]
    },
    {
     "data": {
      "text/html": [
       "<pre style=\"white-space:pre;overflow-x:auto;line-height:normal;font-family:Menlo,'DejaVu Sans Mono',consolas,'Courier New',monospace\"><span style=\"color: #7fbfbf; text-decoration-color: #7fbfbf\">           </span>METRIC   Round <span style=\"color: #008080; text-decoration-color: #008080; font-weight: bold\">0</span>, collaborator one is sending metric for task aggregated_model_validation: accuracy      <span style=\"color: #008080; text-decoration-color: #008080; font-weight: bold\">0.131222</span>                 <a href=\"file://C:\\Users\\BHSU\\AppData\\Local\\Programs\\Python\\Python39\\lib\\site-packages\\openfl\\component\\collaborator\\collaborator.py\" target=\"_blank\"><span style=\"color: #7f7f7f; text-decoration-color: #7f7f7f\">collaborator.py</span></a><span style=\"color: #7f7f7f; text-decoration-color: #7f7f7f\">:</span><a href=\"file://C:\\Users\\BHSU\\AppData\\Local\\Programs\\Python\\Python39\\lib\\site-packages\\openfl\\component\\collaborator\\collaborator.py#415\" target=\"_blank\"><span style=\"color: #7f7f7f; text-decoration-color: #7f7f7f\">415</span></a>\n",
       "</pre>\n"
      ],
      "text/plain": [
       "\u001b[2;36m          \u001b[0m\u001b[2;36m \u001b[0mMETRIC   Round \u001b[1;36m0\u001b[0m, collaborator one is sending metric for task aggregated_model_validation: accuracy      \u001b[1;36m0.131222\u001b[0m                 \u001b]8;id=97431;file://C:\\Users\\BHSU\\AppData\\Local\\Programs\\Python\\Python39\\lib\\site-packages\\openfl\\component\\collaborator\\collaborator.py\u001b\\\u001b[2mcollaborator.py\u001b[0m\u001b]8;;\u001b\\\u001b[2m:\u001b[0m\u001b]8;id=498346;file://C:\\Users\\BHSU\\AppData\\Local\\Programs\\Python\\Python39\\lib\\site-packages\\openfl\\component\\collaborator\\collaborator.py#415\u001b\\\u001b[2m415\u001b[0m\u001b]8;;\u001b\\\n"
      ]
     },
     "metadata": {},
     "output_type": "display_data"
    },
    {
     "data": {
      "text/html": [
       "<pre style=\"white-space:pre;overflow-x:auto;line-height:normal;font-family:Menlo,'DejaVu Sans Mono',consolas,'Courier New',monospace\"><span style=\"color: #7fbfbf; text-decoration-color: #7fbfbf\">           </span><span style=\"color: #000080; text-decoration-color: #000080\">INFO    </span> Collaborator one is sending task results for aggregated_model_validation, round <span style=\"color: #008080; text-decoration-color: #008080; font-weight: bold\">0</span>                                          <a href=\"file://C:\\Users\\BHSU\\AppData\\Local\\Programs\\Python\\Python39\\lib\\site-packages\\openfl\\component\\aggregator\\aggregator.py\" target=\"_blank\"><span style=\"color: #7f7f7f; text-decoration-color: #7f7f7f\">aggregator.py</span></a><span style=\"color: #7f7f7f; text-decoration-color: #7f7f7f\">:</span><a href=\"file://C:\\Users\\BHSU\\AppData\\Local\\Programs\\Python\\Python39\\lib\\site-packages\\openfl\\component\\aggregator\\aggregator.py#520\" target=\"_blank\"><span style=\"color: #7f7f7f; text-decoration-color: #7f7f7f\">520</span></a>\n",
       "</pre>\n"
      ],
      "text/plain": [
       "\u001b[2;36m          \u001b[0m\u001b[2;36m \u001b[0m\u001b[34mINFO    \u001b[0m Collaborator one is sending task results for aggregated_model_validation, round \u001b[1;36m0\u001b[0m                                          \u001b]8;id=139177;file://C:\\Users\\BHSU\\AppData\\Local\\Programs\\Python\\Python39\\lib\\site-packages\\openfl\\component\\aggregator\\aggregator.py\u001b\\\u001b[2maggregator.py\u001b[0m\u001b]8;;\u001b\\\u001b[2m:\u001b[0m\u001b]8;id=764163;file://C:\\Users\\BHSU\\AppData\\Local\\Programs\\Python\\Python39\\lib\\site-packages\\openfl\\component\\aggregator\\aggregator.py#520\u001b\\\u001b[2m520\u001b[0m\u001b]8;;\u001b\\\n"
      ]
     },
     "metadata": {},
     "output_type": "display_data"
    },
    {
     "data": {
      "text/html": [
       "<pre style=\"white-space:pre;overflow-x:auto;line-height:normal;font-family:Menlo,'DejaVu Sans Mono',consolas,'Courier New',monospace\"><span style=\"color: #7fbfbf; text-decoration-color: #7fbfbf\">           </span>METRIC   Round <span style=\"color: #008080; text-decoration-color: #008080; font-weight: bold\">0</span>, collaborator validate_agg aggregated_model_validation result accuracy: <span style=\"color: #008080; text-decoration-color: #008080; font-weight: bold\">0.131222</span>                                   <a href=\"file://C:\\Users\\BHSU\\AppData\\Local\\Programs\\Python\\Python39\\lib\\site-packages\\openfl\\component\\aggregator\\aggregator.py\" target=\"_blank\"><span style=\"color: #7f7f7f; text-decoration-color: #7f7f7f\">aggregator.py</span></a><span style=\"color: #7f7f7f; text-decoration-color: #7f7f7f\">:</span><a href=\"file://C:\\Users\\BHSU\\AppData\\Local\\Programs\\Python\\Python39\\lib\\site-packages\\openfl\\component\\aggregator\\aggregator.py#559\" target=\"_blank\"><span style=\"color: #7f7f7f; text-decoration-color: #7f7f7f\">559</span></a>\n",
       "</pre>\n"
      ],
      "text/plain": [
       "\u001b[2;36m          \u001b[0m\u001b[2;36m \u001b[0mMETRIC   Round \u001b[1;36m0\u001b[0m, collaborator validate_agg aggregated_model_validation result accuracy: \u001b[1;36m0.131222\u001b[0m                                   \u001b]8;id=689752;file://C:\\Users\\BHSU\\AppData\\Local\\Programs\\Python\\Python39\\lib\\site-packages\\openfl\\component\\aggregator\\aggregator.py\u001b\\\u001b[2maggregator.py\u001b[0m\u001b]8;;\u001b\\\u001b[2m:\u001b[0m\u001b]8;id=225460;file://C:\\Users\\BHSU\\AppData\\Local\\Programs\\Python\\Python39\\lib\\site-packages\\openfl\\component\\aggregator\\aggregator.py#559\u001b\\\u001b[2m559\u001b[0m\u001b]8;;\u001b\\\n"
      ]
     },
     "metadata": {},
     "output_type": "display_data"
    },
    {
     "data": {
      "text/html": [
       "<pre style=\"white-space:pre;overflow-x:auto;line-height:normal;font-family:Menlo,'DejaVu Sans Mono',consolas,'Courier New',monospace\"><span style=\"color: #7fbfbf; text-decoration-color: #7fbfbf\">           </span><span style=\"color: #000080; text-decoration-color: #000080\">INFO    </span> Using TaskRunner subclassing API                                                                                         <a href=\"file://C:\\Users\\BHSU\\AppData\\Local\\Programs\\Python\\Python39\\lib\\site-packages\\openfl\\component\\collaborator\\collaborator.py\" target=\"_blank\"><span style=\"color: #7f7f7f; text-decoration-color: #7f7f7f\">collaborator.py</span></a><span style=\"color: #7f7f7f; text-decoration-color: #7f7f7f\">:</span><a href=\"file://C:\\Users\\BHSU\\AppData\\Local\\Programs\\Python\\Python39\\lib\\site-packages\\openfl\\component\\collaborator\\collaborator.py#253\" target=\"_blank\"><span style=\"color: #7f7f7f; text-decoration-color: #7f7f7f\">253</span></a>\n",
       "</pre>\n"
      ],
      "text/plain": [
       "\u001b[2;36m          \u001b[0m\u001b[2;36m \u001b[0m\u001b[34mINFO    \u001b[0m Using TaskRunner subclassing API                                                                                         \u001b]8;id=637367;file://C:\\Users\\BHSU\\AppData\\Local\\Programs\\Python\\Python39\\lib\\site-packages\\openfl\\component\\collaborator\\collaborator.py\u001b\\\u001b[2mcollaborator.py\u001b[0m\u001b]8;;\u001b\\\u001b[2m:\u001b[0m\u001b]8;id=576909;file://C:\\Users\\BHSU\\AppData\\Local\\Programs\\Python\\Python39\\lib\\site-packages\\openfl\\component\\collaborator\\collaborator.py#253\u001b\\\u001b[2m253\u001b[0m\u001b]8;;\u001b\\\n"
      ]
     },
     "metadata": {},
     "output_type": "display_data"
    },
    {
     "data": {
      "text/html": [
       "<pre style=\"white-space:pre;overflow-x:auto;line-height:normal;font-family:Menlo,'DejaVu Sans Mono',consolas,'Courier New',monospace\"><span style=\"color: #7fbfbf; text-decoration-color: #7fbfbf\">           </span><span style=\"color: #000080; text-decoration-color: #000080\">INFO    </span> Run <span style=\"color: #008080; text-decoration-color: #008080; font-weight: bold\">0</span> epoch of <span style=\"color: #008080; text-decoration-color: #008080; font-weight: bold\">0</span> round                                                                                                    <a href=\"file://C:\\Users\\BHSU\\AppData\\Local\\Programs\\Python\\Python39\\lib\\site-packages\\openfl\\federated\\task\\runner_keras.py\" target=\"_blank\"><span style=\"color: #7f7f7f; text-decoration-color: #7f7f7f\">runner_keras.py</span></a><span style=\"color: #7f7f7f; text-decoration-color: #7f7f7f\">:</span><a href=\"file://C:\\Users\\BHSU\\AppData\\Local\\Programs\\Python\\Python39\\lib\\site-packages\\openfl\\federated\\task\\runner_keras.py#83\" target=\"_blank\"><span style=\"color: #7f7f7f; text-decoration-color: #7f7f7f\">83</span></a>\n",
       "</pre>\n"
      ],
      "text/plain": [
       "\u001b[2;36m          \u001b[0m\u001b[2;36m \u001b[0m\u001b[34mINFO    \u001b[0m Run \u001b[1;36m0\u001b[0m epoch of \u001b[1;36m0\u001b[0m round                                                                                                    \u001b]8;id=266235;file://C:\\Users\\BHSU\\AppData\\Local\\Programs\\Python\\Python39\\lib\\site-packages\\openfl\\federated\\task\\runner_keras.py\u001b\\\u001b[2mrunner_keras.py\u001b[0m\u001b]8;;\u001b\\\u001b[2m:\u001b[0m\u001b]8;id=317471;file://C:\\Users\\BHSU\\AppData\\Local\\Programs\\Python\\Python39\\lib\\site-packages\\openfl\\federated\\task\\runner_keras.py#83\u001b\\\u001b[2m83\u001b[0m\u001b]8;;\u001b\\\n"
      ]
     },
     "metadata": {},
     "output_type": "display_data"
    },
    {
     "name": "stdout",
     "output_type": "stream",
     "text": [
      "657/657 [==============================] - 1s 636us/step - loss: 0.5385 - accuracy: 0.8357\n"
     ]
    },
    {
     "data": {
      "text/html": [
       "<pre style=\"white-space:pre;overflow-x:auto;line-height:normal;font-family:Menlo,'DejaVu Sans Mono',consolas,'Courier New',monospace\"><span style=\"color: #7fbfbf; text-decoration-color: #7fbfbf\">[17:02:15] </span>METRIC   Round <span style=\"color: #008080; text-decoration-color: #008080; font-weight: bold\">0</span>, collaborator one is sending metric for task train: loss        <span style=\"color: #008080; text-decoration-color: #008080; font-weight: bold\">0.538507</span>                                         <a href=\"file://C:\\Users\\BHSU\\AppData\\Local\\Programs\\Python\\Python39\\lib\\site-packages\\openfl\\component\\collaborator\\collaborator.py\" target=\"_blank\"><span style=\"color: #7f7f7f; text-decoration-color: #7f7f7f\">collaborator.py</span></a><span style=\"color: #7f7f7f; text-decoration-color: #7f7f7f\">:</span><a href=\"file://C:\\Users\\BHSU\\AppData\\Local\\Programs\\Python\\Python39\\lib\\site-packages\\openfl\\component\\collaborator\\collaborator.py#415\" target=\"_blank\"><span style=\"color: #7f7f7f; text-decoration-color: #7f7f7f\">415</span></a>\n",
       "</pre>\n"
      ],
      "text/plain": [
       "\u001b[2;36m[17:02:15]\u001b[0m\u001b[2;36m \u001b[0mMETRIC   Round \u001b[1;36m0\u001b[0m, collaborator one is sending metric for task train: loss        \u001b[1;36m0.538507\u001b[0m                                         \u001b]8;id=78571;file://C:\\Users\\BHSU\\AppData\\Local\\Programs\\Python\\Python39\\lib\\site-packages\\openfl\\component\\collaborator\\collaborator.py\u001b\\\u001b[2mcollaborator.py\u001b[0m\u001b]8;;\u001b\\\u001b[2m:\u001b[0m\u001b]8;id=594895;file://C:\\Users\\BHSU\\AppData\\Local\\Programs\\Python\\Python39\\lib\\site-packages\\openfl\\component\\collaborator\\collaborator.py#415\u001b\\\u001b[2m415\u001b[0m\u001b]8;;\u001b\\\n"
      ]
     },
     "metadata": {},
     "output_type": "display_data"
    },
    {
     "data": {
      "text/html": [
       "<pre style=\"white-space:pre;overflow-x:auto;line-height:normal;font-family:Menlo,'DejaVu Sans Mono',consolas,'Courier New',monospace\"><span style=\"color: #7fbfbf; text-decoration-color: #7fbfbf\">           </span><span style=\"color: #000080; text-decoration-color: #000080\">INFO    </span> Collaborator one is sending task results for train, round <span style=\"color: #008080; text-decoration-color: #008080; font-weight: bold\">0</span>                                                                <a href=\"file://C:\\Users\\BHSU\\AppData\\Local\\Programs\\Python\\Python39\\lib\\site-packages\\openfl\\component\\aggregator\\aggregator.py\" target=\"_blank\"><span style=\"color: #7f7f7f; text-decoration-color: #7f7f7f\">aggregator.py</span></a><span style=\"color: #7f7f7f; text-decoration-color: #7f7f7f\">:</span><a href=\"file://C:\\Users\\BHSU\\AppData\\Local\\Programs\\Python\\Python39\\lib\\site-packages\\openfl\\component\\aggregator\\aggregator.py#520\" target=\"_blank\"><span style=\"color: #7f7f7f; text-decoration-color: #7f7f7f\">520</span></a>\n",
       "</pre>\n"
      ],
      "text/plain": [
       "\u001b[2;36m          \u001b[0m\u001b[2;36m \u001b[0m\u001b[34mINFO    \u001b[0m Collaborator one is sending task results for train, round \u001b[1;36m0\u001b[0m                                                                \u001b]8;id=39786;file://C:\\Users\\BHSU\\AppData\\Local\\Programs\\Python\\Python39\\lib\\site-packages\\openfl\\component\\aggregator\\aggregator.py\u001b\\\u001b[2maggregator.py\u001b[0m\u001b]8;;\u001b\\\u001b[2m:\u001b[0m\u001b]8;id=547917;file://C:\\Users\\BHSU\\AppData\\Local\\Programs\\Python\\Python39\\lib\\site-packages\\openfl\\component\\aggregator\\aggregator.py#520\u001b\\\u001b[2m520\u001b[0m\u001b]8;;\u001b\\\n"
      ]
     },
     "metadata": {},
     "output_type": "display_data"
    },
    {
     "data": {
      "text/html": [
       "<pre style=\"white-space:pre;overflow-x:auto;line-height:normal;font-family:Menlo,'DejaVu Sans Mono',consolas,'Courier New',monospace\"><span style=\"color: #7fbfbf; text-decoration-color: #7fbfbf\">           </span>METRIC   Round <span style=\"color: #008080; text-decoration-color: #008080; font-weight: bold\">0</span>, collaborator one train result loss:    <span style=\"color: #008080; text-decoration-color: #008080; font-weight: bold\">0.538507</span>                                                                   <a href=\"file://C:\\Users\\BHSU\\AppData\\Local\\Programs\\Python\\Python39\\lib\\site-packages\\openfl\\component\\aggregator\\aggregator.py\" target=\"_blank\"><span style=\"color: #7f7f7f; text-decoration-color: #7f7f7f\">aggregator.py</span></a><span style=\"color: #7f7f7f; text-decoration-color: #7f7f7f\">:</span><a href=\"file://C:\\Users\\BHSU\\AppData\\Local\\Programs\\Python\\Python39\\lib\\site-packages\\openfl\\component\\aggregator\\aggregator.py#559\" target=\"_blank\"><span style=\"color: #7f7f7f; text-decoration-color: #7f7f7f\">559</span></a>\n",
       "</pre>\n"
      ],
      "text/plain": [
       "\u001b[2;36m          \u001b[0m\u001b[2;36m \u001b[0mMETRIC   Round \u001b[1;36m0\u001b[0m, collaborator one train result loss:    \u001b[1;36m0.538507\u001b[0m                                                                   \u001b]8;id=212570;file://C:\\Users\\BHSU\\AppData\\Local\\Programs\\Python\\Python39\\lib\\site-packages\\openfl\\component\\aggregator\\aggregator.py\u001b\\\u001b[2maggregator.py\u001b[0m\u001b]8;;\u001b\\\u001b[2m:\u001b[0m\u001b]8;id=982201;file://C:\\Users\\BHSU\\AppData\\Local\\Programs\\Python\\Python39\\lib\\site-packages\\openfl\\component\\aggregator\\aggregator.py#559\u001b\\\u001b[2m559\u001b[0m\u001b]8;;\u001b\\\n"
      ]
     },
     "metadata": {},
     "output_type": "display_data"
    },
    {
     "data": {
      "text/html": [
       "<pre style=\"white-space:pre;overflow-x:auto;line-height:normal;font-family:Menlo,'DejaVu Sans Mono',consolas,'Courier New',monospace\"><span style=\"color: #7fbfbf; text-decoration-color: #7fbfbf\">           </span><span style=\"color: #000080; text-decoration-color: #000080\">INFO    </span> Using TaskRunner subclassing API                                                                                         <a href=\"file://C:\\Users\\BHSU\\AppData\\Local\\Programs\\Python\\Python39\\lib\\site-packages\\openfl\\component\\collaborator\\collaborator.py\" target=\"_blank\"><span style=\"color: #7f7f7f; text-decoration-color: #7f7f7f\">collaborator.py</span></a><span style=\"color: #7f7f7f; text-decoration-color: #7f7f7f\">:</span><a href=\"file://C:\\Users\\BHSU\\AppData\\Local\\Programs\\Python\\Python39\\lib\\site-packages\\openfl\\component\\collaborator\\collaborator.py#253\" target=\"_blank\"><span style=\"color: #7f7f7f; text-decoration-color: #7f7f7f\">253</span></a>\n",
       "</pre>\n"
      ],
      "text/plain": [
       "\u001b[2;36m          \u001b[0m\u001b[2;36m \u001b[0m\u001b[34mINFO    \u001b[0m Using TaskRunner subclassing API                                                                                         \u001b]8;id=528708;file://C:\\Users\\BHSU\\AppData\\Local\\Programs\\Python\\Python39\\lib\\site-packages\\openfl\\component\\collaborator\\collaborator.py\u001b\\\u001b[2mcollaborator.py\u001b[0m\u001b]8;;\u001b\\\u001b[2m:\u001b[0m\u001b]8;id=690312;file://C:\\Users\\BHSU\\AppData\\Local\\Programs\\Python\\Python39\\lib\\site-packages\\openfl\\component\\collaborator\\collaborator.py#253\u001b\\\u001b[2m253\u001b[0m\u001b]8;;\u001b\\\n"
      ]
     },
     "metadata": {},
     "output_type": "display_data"
    },
    {
     "name": "stdout",
     "output_type": "stream",
     "text": [
      "282/282 [==============================] - 0s 520us/step - loss: 0.3343 - accuracy: 0.8928\n"
     ]
    },
    {
     "data": {
      "text/html": [
       "<pre style=\"white-space:pre;overflow-x:auto;line-height:normal;font-family:Menlo,'DejaVu Sans Mono',consolas,'Courier New',monospace\"><span style=\"color: #7fbfbf; text-decoration-color: #7fbfbf\">           </span>METRIC   Round <span style=\"color: #008080; text-decoration-color: #008080; font-weight: bold\">0</span>, collaborator one is sending metric for task locally_tuned_model_validation: accuracy   <span style=\"color: #008080; text-decoration-color: #008080; font-weight: bold\">0.892778</span>                 <a href=\"file://C:\\Users\\BHSU\\AppData\\Local\\Programs\\Python\\Python39\\lib\\site-packages\\openfl\\component\\collaborator\\collaborator.py\" target=\"_blank\"><span style=\"color: #7f7f7f; text-decoration-color: #7f7f7f\">collaborator.py</span></a><span style=\"color: #7f7f7f; text-decoration-color: #7f7f7f\">:</span><a href=\"file://C:\\Users\\BHSU\\AppData\\Local\\Programs\\Python\\Python39\\lib\\site-packages\\openfl\\component\\collaborator\\collaborator.py#415\" target=\"_blank\"><span style=\"color: #7f7f7f; text-decoration-color: #7f7f7f\">415</span></a>\n",
       "</pre>\n"
      ],
      "text/plain": [
       "\u001b[2;36m          \u001b[0m\u001b[2;36m \u001b[0mMETRIC   Round \u001b[1;36m0\u001b[0m, collaborator one is sending metric for task locally_tuned_model_validation: accuracy   \u001b[1;36m0.892778\u001b[0m                 \u001b]8;id=659792;file://C:\\Users\\BHSU\\AppData\\Local\\Programs\\Python\\Python39\\lib\\site-packages\\openfl\\component\\collaborator\\collaborator.py\u001b\\\u001b[2mcollaborator.py\u001b[0m\u001b]8;;\u001b\\\u001b[2m:\u001b[0m\u001b]8;id=536315;file://C:\\Users\\BHSU\\AppData\\Local\\Programs\\Python\\Python39\\lib\\site-packages\\openfl\\component\\collaborator\\collaborator.py#415\u001b\\\u001b[2m415\u001b[0m\u001b]8;;\u001b\\\n"
      ]
     },
     "metadata": {},
     "output_type": "display_data"
    },
    {
     "data": {
      "text/html": [
       "<pre style=\"white-space:pre;overflow-x:auto;line-height:normal;font-family:Menlo,'DejaVu Sans Mono',consolas,'Courier New',monospace\"><span style=\"color: #7fbfbf; text-decoration-color: #7fbfbf\">           </span><span style=\"color: #000080; text-decoration-color: #000080\">INFO    </span> Collaborator one is sending task results for locally_tuned_model_validation, round <span style=\"color: #008080; text-decoration-color: #008080; font-weight: bold\">0</span>                                       <a href=\"file://C:\\Users\\BHSU\\AppData\\Local\\Programs\\Python\\Python39\\lib\\site-packages\\openfl\\component\\aggregator\\aggregator.py\" target=\"_blank\"><span style=\"color: #7f7f7f; text-decoration-color: #7f7f7f\">aggregator.py</span></a><span style=\"color: #7f7f7f; text-decoration-color: #7f7f7f\">:</span><a href=\"file://C:\\Users\\BHSU\\AppData\\Local\\Programs\\Python\\Python39\\lib\\site-packages\\openfl\\component\\aggregator\\aggregator.py#520\" target=\"_blank\"><span style=\"color: #7f7f7f; text-decoration-color: #7f7f7f\">520</span></a>\n",
       "</pre>\n"
      ],
      "text/plain": [
       "\u001b[2;36m          \u001b[0m\u001b[2;36m \u001b[0m\u001b[34mINFO    \u001b[0m Collaborator one is sending task results for locally_tuned_model_validation, round \u001b[1;36m0\u001b[0m                                       \u001b]8;id=581183;file://C:\\Users\\BHSU\\AppData\\Local\\Programs\\Python\\Python39\\lib\\site-packages\\openfl\\component\\aggregator\\aggregator.py\u001b\\\u001b[2maggregator.py\u001b[0m\u001b]8;;\u001b\\\u001b[2m:\u001b[0m\u001b]8;id=247112;file://C:\\Users\\BHSU\\AppData\\Local\\Programs\\Python\\Python39\\lib\\site-packages\\openfl\\component\\aggregator\\aggregator.py#520\u001b\\\u001b[2m520\u001b[0m\u001b]8;;\u001b\\\n"
      ]
     },
     "metadata": {},
     "output_type": "display_data"
    },
    {
     "data": {
      "text/html": [
       "<pre style=\"white-space:pre;overflow-x:auto;line-height:normal;font-family:Menlo,'DejaVu Sans Mono',consolas,'Courier New',monospace\"><span style=\"color: #7fbfbf; text-decoration-color: #7fbfbf\">           </span>METRIC   Round <span style=\"color: #008080; text-decoration-color: #008080; font-weight: bold\">0</span>, collaborator validate_local locally_tuned_model_validation result accuracy:    <span style=\"color: #008080; text-decoration-color: #008080; font-weight: bold\">0.892778</span>                           <a href=\"file://C:\\Users\\BHSU\\AppData\\Local\\Programs\\Python\\Python39\\lib\\site-packages\\openfl\\component\\aggregator\\aggregator.py\" target=\"_blank\"><span style=\"color: #7f7f7f; text-decoration-color: #7f7f7f\">aggregator.py</span></a><span style=\"color: #7f7f7f; text-decoration-color: #7f7f7f\">:</span><a href=\"file://C:\\Users\\BHSU\\AppData\\Local\\Programs\\Python\\Python39\\lib\\site-packages\\openfl\\component\\aggregator\\aggregator.py#559\" target=\"_blank\"><span style=\"color: #7f7f7f; text-decoration-color: #7f7f7f\">559</span></a>\n",
       "</pre>\n"
      ],
      "text/plain": [
       "\u001b[2;36m          \u001b[0m\u001b[2;36m \u001b[0mMETRIC   Round \u001b[1;36m0\u001b[0m, collaborator validate_local locally_tuned_model_validation result accuracy:    \u001b[1;36m0.892778\u001b[0m                           \u001b]8;id=536695;file://C:\\Users\\BHSU\\AppData\\Local\\Programs\\Python\\Python39\\lib\\site-packages\\openfl\\component\\aggregator\\aggregator.py\u001b\\\u001b[2maggregator.py\u001b[0m\u001b]8;;\u001b\\\u001b[2m:\u001b[0m\u001b]8;id=160016;file://C:\\Users\\BHSU\\AppData\\Local\\Programs\\Python\\Python39\\lib\\site-packages\\openfl\\component\\aggregator\\aggregator.py#559\u001b\\\u001b[2m559\u001b[0m\u001b]8;;\u001b\\\n"
      ]
     },
     "metadata": {},
     "output_type": "display_data"
    },
    {
     "data": {
      "text/html": [
       "<pre style=\"white-space:pre;overflow-x:auto;line-height:normal;font-family:Menlo,'DejaVu Sans Mono',consolas,'Courier New',monospace\"><span style=\"color: #7fbfbf; text-decoration-color: #7fbfbf\">           </span><span style=\"color: #000080; text-decoration-color: #000080\">INFO    </span> All tasks completed on one for round <span style=\"color: #008080; text-decoration-color: #008080; font-weight: bold\">0</span><span style=\"color: #808000; text-decoration-color: #808000\">...</span>                                                                                <a href=\"file://C:\\Users\\BHSU\\AppData\\Local\\Programs\\Python\\Python39\\lib\\site-packages\\openfl\\component\\collaborator\\collaborator.py\" target=\"_blank\"><span style=\"color: #7f7f7f; text-decoration-color: #7f7f7f\">collaborator.py</span></a><span style=\"color: #7f7f7f; text-decoration-color: #7f7f7f\">:</span><a href=\"file://C:\\Users\\BHSU\\AppData\\Local\\Programs\\Python\\Python39\\lib\\site-packages\\openfl\\component\\collaborator\\collaborator.py#171\" target=\"_blank\"><span style=\"color: #7f7f7f; text-decoration-color: #7f7f7f\">171</span></a>\n",
       "</pre>\n"
      ],
      "text/plain": [
       "\u001b[2;36m          \u001b[0m\u001b[2;36m \u001b[0m\u001b[34mINFO    \u001b[0m All tasks completed on one for round \u001b[1;36m0\u001b[0m\u001b[33m...\u001b[0m                                                                                \u001b]8;id=828192;file://C:\\Users\\BHSU\\AppData\\Local\\Programs\\Python\\Python39\\lib\\site-packages\\openfl\\component\\collaborator\\collaborator.py\u001b\\\u001b[2mcollaborator.py\u001b[0m\u001b]8;;\u001b\\\u001b[2m:\u001b[0m\u001b]8;id=438888;file://C:\\Users\\BHSU\\AppData\\Local\\Programs\\Python\\Python39\\lib\\site-packages\\openfl\\component\\collaborator\\collaborator.py#171\u001b\\\u001b[2m171\u001b[0m\u001b]8;;\u001b\\\n"
      ]
     },
     "metadata": {},
     "output_type": "display_data"
    },
    {
     "data": {
      "text/html": [
       "<pre style=\"white-space:pre;overflow-x:auto;line-height:normal;font-family:Menlo,'DejaVu Sans Mono',consolas,'Courier New',monospace\"><span style=\"color: #7fbfbf; text-decoration-color: #7fbfbf\">           </span><span style=\"color: #000080; text-decoration-color: #000080\">INFO    </span> Waiting for tasks<span style=\"color: #808000; text-decoration-color: #808000\">...</span>                                                                                                     <a href=\"file://C:\\Users\\BHSU\\AppData\\Local\\Programs\\Python\\Python39\\lib\\site-packages\\openfl\\component\\collaborator\\collaborator.py\" target=\"_blank\"><span style=\"color: #7f7f7f; text-decoration-color: #7f7f7f\">collaborator.py</span></a><span style=\"color: #7f7f7f; text-decoration-color: #7f7f7f\">:</span><a href=\"file://C:\\Users\\BHSU\\AppData\\Local\\Programs\\Python\\Python39\\lib\\site-packages\\openfl\\component\\collaborator\\collaborator.py#178\" target=\"_blank\"><span style=\"color: #7f7f7f; text-decoration-color: #7f7f7f\">178</span></a>\n",
       "</pre>\n"
      ],
      "text/plain": [
       "\u001b[2;36m          \u001b[0m\u001b[2;36m \u001b[0m\u001b[34mINFO    \u001b[0m Waiting for tasks\u001b[33m...\u001b[0m                                                                                                     \u001b]8;id=72458;file://C:\\Users\\BHSU\\AppData\\Local\\Programs\\Python\\Python39\\lib\\site-packages\\openfl\\component\\collaborator\\collaborator.py\u001b\\\u001b[2mcollaborator.py\u001b[0m\u001b]8;;\u001b\\\u001b[2m:\u001b[0m\u001b]8;id=152263;file://C:\\Users\\BHSU\\AppData\\Local\\Programs\\Python\\Python39\\lib\\site-packages\\openfl\\component\\collaborator\\collaborator.py#178\u001b\\\u001b[2m178\u001b[0m\u001b]8;;\u001b\\\n"
      ]
     },
     "metadata": {},
     "output_type": "display_data"
    },
    {
     "data": {
      "text/html": [
       "<pre style=\"white-space:pre;overflow-x:auto;line-height:normal;font-family:Menlo,'DejaVu Sans Mono',consolas,'Courier New',monospace\"><span style=\"color: #7fbfbf; text-decoration-color: #7fbfbf\">           </span><span style=\"color: #000080; text-decoration-color: #000080\">INFO    </span> Sending tasks to collaborator two for round <span style=\"color: #008080; text-decoration-color: #008080; font-weight: bold\">0</span>                                                                              <a href=\"file://C:\\Users\\BHSU\\AppData\\Local\\Programs\\Python\\Python39\\lib\\site-packages\\openfl\\component\\aggregator\\aggregator.py\" target=\"_blank\"><span style=\"color: #7f7f7f; text-decoration-color: #7f7f7f\">aggregator.py</span></a><span style=\"color: #7f7f7f; text-decoration-color: #7f7f7f\">:</span><a href=\"file://C:\\Users\\BHSU\\AppData\\Local\\Programs\\Python\\Python39\\lib\\site-packages\\openfl\\component\\aggregator\\aggregator.py#329\" target=\"_blank\"><span style=\"color: #7f7f7f; text-decoration-color: #7f7f7f\">329</span></a>\n",
       "</pre>\n"
      ],
      "text/plain": [
       "\u001b[2;36m          \u001b[0m\u001b[2;36m \u001b[0m\u001b[34mINFO    \u001b[0m Sending tasks to collaborator two for round \u001b[1;36m0\u001b[0m                                                                              \u001b]8;id=169991;file://C:\\Users\\BHSU\\AppData\\Local\\Programs\\Python\\Python39\\lib\\site-packages\\openfl\\component\\aggregator\\aggregator.py\u001b\\\u001b[2maggregator.py\u001b[0m\u001b]8;;\u001b\\\u001b[2m:\u001b[0m\u001b]8;id=369560;file://C:\\Users\\BHSU\\AppData\\Local\\Programs\\Python\\Python39\\lib\\site-packages\\openfl\\component\\aggregator\\aggregator.py#329\u001b\\\u001b[2m329\u001b[0m\u001b]8;;\u001b\\\n"
      ]
     },
     "metadata": {},
     "output_type": "display_data"
    },
    {
     "data": {
      "text/html": [
       "<pre style=\"white-space:pre;overflow-x:auto;line-height:normal;font-family:Menlo,'DejaVu Sans Mono',consolas,'Courier New',monospace\"><span style=\"color: #7fbfbf; text-decoration-color: #7fbfbf\">           </span><span style=\"color: #000080; text-decoration-color: #000080\">INFO    </span> Received the following tasks: <span style=\"font-weight: bold\">[</span><span style=\"color: #008000; text-decoration-color: #008000\">'aggregated_model_validation'</span>, <span style=\"color: #008000; text-decoration-color: #008000\">'train'</span>, <span style=\"color: #008000; text-decoration-color: #008000\">'locally_tuned_model_validation'</span><span style=\"font-weight: bold\">]</span>                 <a href=\"file://C:\\Users\\BHSU\\AppData\\Local\\Programs\\Python\\Python39\\lib\\site-packages\\openfl\\component\\collaborator\\collaborator.py\" target=\"_blank\"><span style=\"color: #7f7f7f; text-decoration-color: #7f7f7f\">collaborator.py</span></a><span style=\"color: #7f7f7f; text-decoration-color: #7f7f7f\">:</span><a href=\"file://C:\\Users\\BHSU\\AppData\\Local\\Programs\\Python\\Python39\\lib\\site-packages\\openfl\\component\\collaborator\\collaborator.py#168\" target=\"_blank\"><span style=\"color: #7f7f7f; text-decoration-color: #7f7f7f\">168</span></a>\n",
       "</pre>\n"
      ],
      "text/plain": [
       "\u001b[2;36m          \u001b[0m\u001b[2;36m \u001b[0m\u001b[34mINFO    \u001b[0m Received the following tasks: \u001b[1m[\u001b[0m\u001b[32m'aggregated_model_validation'\u001b[0m, \u001b[32m'train'\u001b[0m, \u001b[32m'locally_tuned_model_validation'\u001b[0m\u001b[1m]\u001b[0m                 \u001b]8;id=767305;file://C:\\Users\\BHSU\\AppData\\Local\\Programs\\Python\\Python39\\lib\\site-packages\\openfl\\component\\collaborator\\collaborator.py\u001b\\\u001b[2mcollaborator.py\u001b[0m\u001b]8;;\u001b\\\u001b[2m:\u001b[0m\u001b]8;id=974528;file://C:\\Users\\BHSU\\AppData\\Local\\Programs\\Python\\Python39\\lib\\site-packages\\openfl\\component\\collaborator\\collaborator.py#168\u001b\\\u001b[2m168\u001b[0m\u001b]8;;\u001b\\\n"
      ]
     },
     "metadata": {},
     "output_type": "display_data"
    },
    {
     "data": {
      "text/html": [
       "<pre style=\"white-space:pre;overflow-x:auto;line-height:normal;font-family:Menlo,'DejaVu Sans Mono',consolas,'Courier New',monospace\"><span style=\"color: #7fbfbf; text-decoration-color: #7fbfbf\">           </span><span style=\"color: #000080; text-decoration-color: #000080\">INFO    </span> Using TaskRunner subclassing API                                                                                         <a href=\"file://C:\\Users\\BHSU\\AppData\\Local\\Programs\\Python\\Python39\\lib\\site-packages\\openfl\\component\\collaborator\\collaborator.py\" target=\"_blank\"><span style=\"color: #7f7f7f; text-decoration-color: #7f7f7f\">collaborator.py</span></a><span style=\"color: #7f7f7f; text-decoration-color: #7f7f7f\">:</span><a href=\"file://C:\\Users\\BHSU\\AppData\\Local\\Programs\\Python\\Python39\\lib\\site-packages\\openfl\\component\\collaborator\\collaborator.py#253\" target=\"_blank\"><span style=\"color: #7f7f7f; text-decoration-color: #7f7f7f\">253</span></a>\n",
       "</pre>\n"
      ],
      "text/plain": [
       "\u001b[2;36m          \u001b[0m\u001b[2;36m \u001b[0m\u001b[34mINFO    \u001b[0m Using TaskRunner subclassing API                                                                                         \u001b]8;id=583148;file://C:\\Users\\BHSU\\AppData\\Local\\Programs\\Python\\Python39\\lib\\site-packages\\openfl\\component\\collaborator\\collaborator.py\u001b\\\u001b[2mcollaborator.py\u001b[0m\u001b]8;;\u001b\\\u001b[2m:\u001b[0m\u001b]8;id=293589;file://C:\\Users\\BHSU\\AppData\\Local\\Programs\\Python\\Python39\\lib\\site-packages\\openfl\\component\\collaborator\\collaborator.py#253\u001b\\\u001b[2m253\u001b[0m\u001b]8;;\u001b\\\n"
      ]
     },
     "metadata": {},
     "output_type": "display_data"
    },
    {
     "name": "stdout",
     "output_type": "stream",
     "text": [
      "282/282 [==============================] - 0s 517us/step - loss: 2.3548 - accuracy: 0.1327\n"
     ]
    },
    {
     "data": {
      "text/html": [
       "<pre style=\"white-space:pre;overflow-x:auto;line-height:normal;font-family:Menlo,'DejaVu Sans Mono',consolas,'Courier New',monospace\"><span style=\"color: #7fbfbf; text-decoration-color: #7fbfbf\">           </span>METRIC   Round <span style=\"color: #008080; text-decoration-color: #008080; font-weight: bold\">0</span>, collaborator two is sending metric for task aggregated_model_validation: accuracy      <span style=\"color: #008080; text-decoration-color: #008080; font-weight: bold\">0.132667</span>                 <a href=\"file://C:\\Users\\BHSU\\AppData\\Local\\Programs\\Python\\Python39\\lib\\site-packages\\openfl\\component\\collaborator\\collaborator.py\" target=\"_blank\"><span style=\"color: #7f7f7f; text-decoration-color: #7f7f7f\">collaborator.py</span></a><span style=\"color: #7f7f7f; text-decoration-color: #7f7f7f\">:</span><a href=\"file://C:\\Users\\BHSU\\AppData\\Local\\Programs\\Python\\Python39\\lib\\site-packages\\openfl\\component\\collaborator\\collaborator.py#415\" target=\"_blank\"><span style=\"color: #7f7f7f; text-decoration-color: #7f7f7f\">415</span></a>\n",
       "</pre>\n"
      ],
      "text/plain": [
       "\u001b[2;36m          \u001b[0m\u001b[2;36m \u001b[0mMETRIC   Round \u001b[1;36m0\u001b[0m, collaborator two is sending metric for task aggregated_model_validation: accuracy      \u001b[1;36m0.132667\u001b[0m                 \u001b]8;id=10326;file://C:\\Users\\BHSU\\AppData\\Local\\Programs\\Python\\Python39\\lib\\site-packages\\openfl\\component\\collaborator\\collaborator.py\u001b\\\u001b[2mcollaborator.py\u001b[0m\u001b]8;;\u001b\\\u001b[2m:\u001b[0m\u001b]8;id=439854;file://C:\\Users\\BHSU\\AppData\\Local\\Programs\\Python\\Python39\\lib\\site-packages\\openfl\\component\\collaborator\\collaborator.py#415\u001b\\\u001b[2m415\u001b[0m\u001b]8;;\u001b\\\n"
      ]
     },
     "metadata": {},
     "output_type": "display_data"
    },
    {
     "data": {
      "text/html": [
       "<pre style=\"white-space:pre;overflow-x:auto;line-height:normal;font-family:Menlo,'DejaVu Sans Mono',consolas,'Courier New',monospace\"><span style=\"color: #7fbfbf; text-decoration-color: #7fbfbf\">           </span><span style=\"color: #000080; text-decoration-color: #000080\">INFO    </span> Collaborator two is sending task results for aggregated_model_validation, round <span style=\"color: #008080; text-decoration-color: #008080; font-weight: bold\">0</span>                                          <a href=\"file://C:\\Users\\BHSU\\AppData\\Local\\Programs\\Python\\Python39\\lib\\site-packages\\openfl\\component\\aggregator\\aggregator.py\" target=\"_blank\"><span style=\"color: #7f7f7f; text-decoration-color: #7f7f7f\">aggregator.py</span></a><span style=\"color: #7f7f7f; text-decoration-color: #7f7f7f\">:</span><a href=\"file://C:\\Users\\BHSU\\AppData\\Local\\Programs\\Python\\Python39\\lib\\site-packages\\openfl\\component\\aggregator\\aggregator.py#520\" target=\"_blank\"><span style=\"color: #7f7f7f; text-decoration-color: #7f7f7f\">520</span></a>\n",
       "</pre>\n"
      ],
      "text/plain": [
       "\u001b[2;36m          \u001b[0m\u001b[2;36m \u001b[0m\u001b[34mINFO    \u001b[0m Collaborator two is sending task results for aggregated_model_validation, round \u001b[1;36m0\u001b[0m                                          \u001b]8;id=908717;file://C:\\Users\\BHSU\\AppData\\Local\\Programs\\Python\\Python39\\lib\\site-packages\\openfl\\component\\aggregator\\aggregator.py\u001b\\\u001b[2maggregator.py\u001b[0m\u001b]8;;\u001b\\\u001b[2m:\u001b[0m\u001b]8;id=332886;file://C:\\Users\\BHSU\\AppData\\Local\\Programs\\Python\\Python39\\lib\\site-packages\\openfl\\component\\aggregator\\aggregator.py#520\u001b\\\u001b[2m520\u001b[0m\u001b]8;;\u001b\\\n"
      ]
     },
     "metadata": {},
     "output_type": "display_data"
    },
    {
     "data": {
      "text/html": [
       "<pre style=\"white-space:pre;overflow-x:auto;line-height:normal;font-family:Menlo,'DejaVu Sans Mono',consolas,'Courier New',monospace\"><span style=\"color: #7fbfbf; text-decoration-color: #7fbfbf\">           </span>METRIC   Round <span style=\"color: #008080; text-decoration-color: #008080; font-weight: bold\">0</span>, collaborator validate_agg aggregated_model_validation result accuracy: <span style=\"color: #008080; text-decoration-color: #008080; font-weight: bold\">0.132667</span>                                   <a href=\"file://C:\\Users\\BHSU\\AppData\\Local\\Programs\\Python\\Python39\\lib\\site-packages\\openfl\\component\\aggregator\\aggregator.py\" target=\"_blank\"><span style=\"color: #7f7f7f; text-decoration-color: #7f7f7f\">aggregator.py</span></a><span style=\"color: #7f7f7f; text-decoration-color: #7f7f7f\">:</span><a href=\"file://C:\\Users\\BHSU\\AppData\\Local\\Programs\\Python\\Python39\\lib\\site-packages\\openfl\\component\\aggregator\\aggregator.py#559\" target=\"_blank\"><span style=\"color: #7f7f7f; text-decoration-color: #7f7f7f\">559</span></a>\n",
       "</pre>\n"
      ],
      "text/plain": [
       "\u001b[2;36m          \u001b[0m\u001b[2;36m \u001b[0mMETRIC   Round \u001b[1;36m0\u001b[0m, collaborator validate_agg aggregated_model_validation result accuracy: \u001b[1;36m0.132667\u001b[0m                                   \u001b]8;id=458485;file://C:\\Users\\BHSU\\AppData\\Local\\Programs\\Python\\Python39\\lib\\site-packages\\openfl\\component\\aggregator\\aggregator.py\u001b\\\u001b[2maggregator.py\u001b[0m\u001b]8;;\u001b\\\u001b[2m:\u001b[0m\u001b]8;id=653339;file://C:\\Users\\BHSU\\AppData\\Local\\Programs\\Python\\Python39\\lib\\site-packages\\openfl\\component\\aggregator\\aggregator.py#559\u001b\\\u001b[2m559\u001b[0m\u001b]8;;\u001b\\\n"
      ]
     },
     "metadata": {},
     "output_type": "display_data"
    },
    {
     "data": {
      "text/html": [
       "<pre style=\"white-space:pre;overflow-x:auto;line-height:normal;font-family:Menlo,'DejaVu Sans Mono',consolas,'Courier New',monospace\"><span style=\"color: #7fbfbf; text-decoration-color: #7fbfbf\">           </span><span style=\"color: #000080; text-decoration-color: #000080\">INFO    </span> Using TaskRunner subclassing API                                                                                         <a href=\"file://C:\\Users\\BHSU\\AppData\\Local\\Programs\\Python\\Python39\\lib\\site-packages\\openfl\\component\\collaborator\\collaborator.py\" target=\"_blank\"><span style=\"color: #7f7f7f; text-decoration-color: #7f7f7f\">collaborator.py</span></a><span style=\"color: #7f7f7f; text-decoration-color: #7f7f7f\">:</span><a href=\"file://C:\\Users\\BHSU\\AppData\\Local\\Programs\\Python\\Python39\\lib\\site-packages\\openfl\\component\\collaborator\\collaborator.py#253\" target=\"_blank\"><span style=\"color: #7f7f7f; text-decoration-color: #7f7f7f\">253</span></a>\n",
       "</pre>\n"
      ],
      "text/plain": [
       "\u001b[2;36m          \u001b[0m\u001b[2;36m \u001b[0m\u001b[34mINFO    \u001b[0m Using TaskRunner subclassing API                                                                                         \u001b]8;id=888148;file://C:\\Users\\BHSU\\AppData\\Local\\Programs\\Python\\Python39\\lib\\site-packages\\openfl\\component\\collaborator\\collaborator.py\u001b\\\u001b[2mcollaborator.py\u001b[0m\u001b]8;;\u001b\\\u001b[2m:\u001b[0m\u001b]8;id=535604;file://C:\\Users\\BHSU\\AppData\\Local\\Programs\\Python\\Python39\\lib\\site-packages\\openfl\\component\\collaborator\\collaborator.py#253\u001b\\\u001b[2m253\u001b[0m\u001b]8;;\u001b\\\n"
      ]
     },
     "metadata": {},
     "output_type": "display_data"
    },
    {
     "data": {
      "text/html": [
       "<pre style=\"white-space:pre;overflow-x:auto;line-height:normal;font-family:Menlo,'DejaVu Sans Mono',consolas,'Courier New',monospace\"><span style=\"color: #7fbfbf; text-decoration-color: #7fbfbf\">           </span><span style=\"color: #000080; text-decoration-color: #000080\">INFO    </span> Run <span style=\"color: #008080; text-decoration-color: #008080; font-weight: bold\">0</span> epoch of <span style=\"color: #008080; text-decoration-color: #008080; font-weight: bold\">0</span> round                                                                                                    <a href=\"file://C:\\Users\\BHSU\\AppData\\Local\\Programs\\Python\\Python39\\lib\\site-packages\\openfl\\federated\\task\\runner_keras.py\" target=\"_blank\"><span style=\"color: #7f7f7f; text-decoration-color: #7f7f7f\">runner_keras.py</span></a><span style=\"color: #7f7f7f; text-decoration-color: #7f7f7f\">:</span><a href=\"file://C:\\Users\\BHSU\\AppData\\Local\\Programs\\Python\\Python39\\lib\\site-packages\\openfl\\federated\\task\\runner_keras.py#83\" target=\"_blank\"><span style=\"color: #7f7f7f; text-decoration-color: #7f7f7f\">83</span></a>\n",
       "</pre>\n"
      ],
      "text/plain": [
       "\u001b[2;36m          \u001b[0m\u001b[2;36m \u001b[0m\u001b[34mINFO    \u001b[0m Run \u001b[1;36m0\u001b[0m epoch of \u001b[1;36m0\u001b[0m round                                                                                                    \u001b]8;id=630658;file://C:\\Users\\BHSU\\AppData\\Local\\Programs\\Python\\Python39\\lib\\site-packages\\openfl\\federated\\task\\runner_keras.py\u001b\\\u001b[2mrunner_keras.py\u001b[0m\u001b]8;;\u001b\\\u001b[2m:\u001b[0m\u001b]8;id=113391;file://C:\\Users\\BHSU\\AppData\\Local\\Programs\\Python\\Python39\\lib\\site-packages\\openfl\\federated\\task\\runner_keras.py#83\u001b\\\u001b[2m83\u001b[0m\u001b]8;;\u001b\\\n"
      ]
     },
     "metadata": {},
     "output_type": "display_data"
    },
    {
     "name": "stdout",
     "output_type": "stream",
     "text": [
      "657/657 [==============================] - 1s 657us/step - loss: 0.5173 - accuracy: 0.8448\n"
     ]
    },
    {
     "data": {
      "text/html": [
       "<pre style=\"white-space:pre;overflow-x:auto;line-height:normal;font-family:Menlo,'DejaVu Sans Mono',consolas,'Courier New',monospace\"><span style=\"color: #7fbfbf; text-decoration-color: #7fbfbf\">[17:02:16] </span>METRIC   Round <span style=\"color: #008080; text-decoration-color: #008080; font-weight: bold\">0</span>, collaborator two is sending metric for task train: loss        <span style=\"color: #008080; text-decoration-color: #008080; font-weight: bold\">0.517307</span>                                         <a href=\"file://C:\\Users\\BHSU\\AppData\\Local\\Programs\\Python\\Python39\\lib\\site-packages\\openfl\\component\\collaborator\\collaborator.py\" target=\"_blank\"><span style=\"color: #7f7f7f; text-decoration-color: #7f7f7f\">collaborator.py</span></a><span style=\"color: #7f7f7f; text-decoration-color: #7f7f7f\">:</span><a href=\"file://C:\\Users\\BHSU\\AppData\\Local\\Programs\\Python\\Python39\\lib\\site-packages\\openfl\\component\\collaborator\\collaborator.py#415\" target=\"_blank\"><span style=\"color: #7f7f7f; text-decoration-color: #7f7f7f\">415</span></a>\n",
       "</pre>\n"
      ],
      "text/plain": [
       "\u001b[2;36m[17:02:16]\u001b[0m\u001b[2;36m \u001b[0mMETRIC   Round \u001b[1;36m0\u001b[0m, collaborator two is sending metric for task train: loss        \u001b[1;36m0.517307\u001b[0m                                         \u001b]8;id=842948;file://C:\\Users\\BHSU\\AppData\\Local\\Programs\\Python\\Python39\\lib\\site-packages\\openfl\\component\\collaborator\\collaborator.py\u001b\\\u001b[2mcollaborator.py\u001b[0m\u001b]8;;\u001b\\\u001b[2m:\u001b[0m\u001b]8;id=71181;file://C:\\Users\\BHSU\\AppData\\Local\\Programs\\Python\\Python39\\lib\\site-packages\\openfl\\component\\collaborator\\collaborator.py#415\u001b\\\u001b[2m415\u001b[0m\u001b]8;;\u001b\\\n"
      ]
     },
     "metadata": {},
     "output_type": "display_data"
    },
    {
     "data": {
      "text/html": [
       "<pre style=\"white-space:pre;overflow-x:auto;line-height:normal;font-family:Menlo,'DejaVu Sans Mono',consolas,'Courier New',monospace\"><span style=\"color: #7fbfbf; text-decoration-color: #7fbfbf\">           </span><span style=\"color: #000080; text-decoration-color: #000080\">INFO    </span> Collaborator two is sending task results for train, round <span style=\"color: #008080; text-decoration-color: #008080; font-weight: bold\">0</span>                                                                <a href=\"file://C:\\Users\\BHSU\\AppData\\Local\\Programs\\Python\\Python39\\lib\\site-packages\\openfl\\component\\aggregator\\aggregator.py\" target=\"_blank\"><span style=\"color: #7f7f7f; text-decoration-color: #7f7f7f\">aggregator.py</span></a><span style=\"color: #7f7f7f; text-decoration-color: #7f7f7f\">:</span><a href=\"file://C:\\Users\\BHSU\\AppData\\Local\\Programs\\Python\\Python39\\lib\\site-packages\\openfl\\component\\aggregator\\aggregator.py#520\" target=\"_blank\"><span style=\"color: #7f7f7f; text-decoration-color: #7f7f7f\">520</span></a>\n",
       "</pre>\n"
      ],
      "text/plain": [
       "\u001b[2;36m          \u001b[0m\u001b[2;36m \u001b[0m\u001b[34mINFO    \u001b[0m Collaborator two is sending task results for train, round \u001b[1;36m0\u001b[0m                                                                \u001b]8;id=925384;file://C:\\Users\\BHSU\\AppData\\Local\\Programs\\Python\\Python39\\lib\\site-packages\\openfl\\component\\aggregator\\aggregator.py\u001b\\\u001b[2maggregator.py\u001b[0m\u001b]8;;\u001b\\\u001b[2m:\u001b[0m\u001b]8;id=814159;file://C:\\Users\\BHSU\\AppData\\Local\\Programs\\Python\\Python39\\lib\\site-packages\\openfl\\component\\aggregator\\aggregator.py#520\u001b\\\u001b[2m520\u001b[0m\u001b]8;;\u001b\\\n"
      ]
     },
     "metadata": {},
     "output_type": "display_data"
    },
    {
     "data": {
      "text/html": [
       "<pre style=\"white-space:pre;overflow-x:auto;line-height:normal;font-family:Menlo,'DejaVu Sans Mono',consolas,'Courier New',monospace\"><span style=\"color: #7fbfbf; text-decoration-color: #7fbfbf\">           </span>METRIC   Round <span style=\"color: #008080; text-decoration-color: #008080; font-weight: bold\">0</span>, collaborator two train result loss:    <span style=\"color: #008080; text-decoration-color: #008080; font-weight: bold\">0.517307</span>                                                                   <a href=\"file://C:\\Users\\BHSU\\AppData\\Local\\Programs\\Python\\Python39\\lib\\site-packages\\openfl\\component\\aggregator\\aggregator.py\" target=\"_blank\"><span style=\"color: #7f7f7f; text-decoration-color: #7f7f7f\">aggregator.py</span></a><span style=\"color: #7f7f7f; text-decoration-color: #7f7f7f\">:</span><a href=\"file://C:\\Users\\BHSU\\AppData\\Local\\Programs\\Python\\Python39\\lib\\site-packages\\openfl\\component\\aggregator\\aggregator.py#559\" target=\"_blank\"><span style=\"color: #7f7f7f; text-decoration-color: #7f7f7f\">559</span></a>\n",
       "</pre>\n"
      ],
      "text/plain": [
       "\u001b[2;36m          \u001b[0m\u001b[2;36m \u001b[0mMETRIC   Round \u001b[1;36m0\u001b[0m, collaborator two train result loss:    \u001b[1;36m0.517307\u001b[0m                                                                   \u001b]8;id=524667;file://C:\\Users\\BHSU\\AppData\\Local\\Programs\\Python\\Python39\\lib\\site-packages\\openfl\\component\\aggregator\\aggregator.py\u001b\\\u001b[2maggregator.py\u001b[0m\u001b]8;;\u001b\\\u001b[2m:\u001b[0m\u001b]8;id=511876;file://C:\\Users\\BHSU\\AppData\\Local\\Programs\\Python\\Python39\\lib\\site-packages\\openfl\\component\\aggregator\\aggregator.py#559\u001b\\\u001b[2m559\u001b[0m\u001b]8;;\u001b\\\n"
      ]
     },
     "metadata": {},
     "output_type": "display_data"
    },
    {
     "data": {
      "text/html": [
       "<pre style=\"white-space:pre;overflow-x:auto;line-height:normal;font-family:Menlo,'DejaVu Sans Mono',consolas,'Courier New',monospace\"><span style=\"color: #7fbfbf; text-decoration-color: #7fbfbf\">           </span><span style=\"color: #000080; text-decoration-color: #000080\">INFO    </span> Using TaskRunner subclassing API                                                                                         <a href=\"file://C:\\Users\\BHSU\\AppData\\Local\\Programs\\Python\\Python39\\lib\\site-packages\\openfl\\component\\collaborator\\collaborator.py\" target=\"_blank\"><span style=\"color: #7f7f7f; text-decoration-color: #7f7f7f\">collaborator.py</span></a><span style=\"color: #7f7f7f; text-decoration-color: #7f7f7f\">:</span><a href=\"file://C:\\Users\\BHSU\\AppData\\Local\\Programs\\Python\\Python39\\lib\\site-packages\\openfl\\component\\collaborator\\collaborator.py#253\" target=\"_blank\"><span style=\"color: #7f7f7f; text-decoration-color: #7f7f7f\">253</span></a>\n",
       "</pre>\n"
      ],
      "text/plain": [
       "\u001b[2;36m          \u001b[0m\u001b[2;36m \u001b[0m\u001b[34mINFO    \u001b[0m Using TaskRunner subclassing API                                                                                         \u001b]8;id=244590;file://C:\\Users\\BHSU\\AppData\\Local\\Programs\\Python\\Python39\\lib\\site-packages\\openfl\\component\\collaborator\\collaborator.py\u001b\\\u001b[2mcollaborator.py\u001b[0m\u001b]8;;\u001b\\\u001b[2m:\u001b[0m\u001b]8;id=339066;file://C:\\Users\\BHSU\\AppData\\Local\\Programs\\Python\\Python39\\lib\\site-packages\\openfl\\component\\collaborator\\collaborator.py#253\u001b\\\u001b[2m253\u001b[0m\u001b]8;;\u001b\\\n"
      ]
     },
     "metadata": {},
     "output_type": "display_data"
    },
    {
     "name": "stdout",
     "output_type": "stream",
     "text": [
      "282/282 [==============================] - 0s 584us/step - loss: 0.2885 - accuracy: 0.9119\n"
     ]
    },
    {
     "data": {
      "text/html": [
       "<pre style=\"white-space:pre;overflow-x:auto;line-height:normal;font-family:Menlo,'DejaVu Sans Mono',consolas,'Courier New',monospace\"><span style=\"color: #7fbfbf; text-decoration-color: #7fbfbf\">           </span>METRIC   Round <span style=\"color: #008080; text-decoration-color: #008080; font-weight: bold\">0</span>, collaborator two is sending metric for task locally_tuned_model_validation: accuracy   <span style=\"color: #008080; text-decoration-color: #008080; font-weight: bold\">0.911889</span>                 <a href=\"file://C:\\Users\\BHSU\\AppData\\Local\\Programs\\Python\\Python39\\lib\\site-packages\\openfl\\component\\collaborator\\collaborator.py\" target=\"_blank\"><span style=\"color: #7f7f7f; text-decoration-color: #7f7f7f\">collaborator.py</span></a><span style=\"color: #7f7f7f; text-decoration-color: #7f7f7f\">:</span><a href=\"file://C:\\Users\\BHSU\\AppData\\Local\\Programs\\Python\\Python39\\lib\\site-packages\\openfl\\component\\collaborator\\collaborator.py#415\" target=\"_blank\"><span style=\"color: #7f7f7f; text-decoration-color: #7f7f7f\">415</span></a>\n",
       "</pre>\n"
      ],
      "text/plain": [
       "\u001b[2;36m          \u001b[0m\u001b[2;36m \u001b[0mMETRIC   Round \u001b[1;36m0\u001b[0m, collaborator two is sending metric for task locally_tuned_model_validation: accuracy   \u001b[1;36m0.911889\u001b[0m                 \u001b]8;id=503505;file://C:\\Users\\BHSU\\AppData\\Local\\Programs\\Python\\Python39\\lib\\site-packages\\openfl\\component\\collaborator\\collaborator.py\u001b\\\u001b[2mcollaborator.py\u001b[0m\u001b]8;;\u001b\\\u001b[2m:\u001b[0m\u001b]8;id=942393;file://C:\\Users\\BHSU\\AppData\\Local\\Programs\\Python\\Python39\\lib\\site-packages\\openfl\\component\\collaborator\\collaborator.py#415\u001b\\\u001b[2m415\u001b[0m\u001b]8;;\u001b\\\n"
      ]
     },
     "metadata": {},
     "output_type": "display_data"
    },
    {
     "data": {
      "text/html": [
       "<pre style=\"white-space:pre;overflow-x:auto;line-height:normal;font-family:Menlo,'DejaVu Sans Mono',consolas,'Courier New',monospace\"><span style=\"color: #7fbfbf; text-decoration-color: #7fbfbf\">           </span><span style=\"color: #000080; text-decoration-color: #000080\">INFO    </span> Collaborator two is sending task results for locally_tuned_model_validation, round <span style=\"color: #008080; text-decoration-color: #008080; font-weight: bold\">0</span>                                       <a href=\"file://C:\\Users\\BHSU\\AppData\\Local\\Programs\\Python\\Python39\\lib\\site-packages\\openfl\\component\\aggregator\\aggregator.py\" target=\"_blank\"><span style=\"color: #7f7f7f; text-decoration-color: #7f7f7f\">aggregator.py</span></a><span style=\"color: #7f7f7f; text-decoration-color: #7f7f7f\">:</span><a href=\"file://C:\\Users\\BHSU\\AppData\\Local\\Programs\\Python\\Python39\\lib\\site-packages\\openfl\\component\\aggregator\\aggregator.py#520\" target=\"_blank\"><span style=\"color: #7f7f7f; text-decoration-color: #7f7f7f\">520</span></a>\n",
       "</pre>\n"
      ],
      "text/plain": [
       "\u001b[2;36m          \u001b[0m\u001b[2;36m \u001b[0m\u001b[34mINFO    \u001b[0m Collaborator two is sending task results for locally_tuned_model_validation, round \u001b[1;36m0\u001b[0m                                       \u001b]8;id=708281;file://C:\\Users\\BHSU\\AppData\\Local\\Programs\\Python\\Python39\\lib\\site-packages\\openfl\\component\\aggregator\\aggregator.py\u001b\\\u001b[2maggregator.py\u001b[0m\u001b]8;;\u001b\\\u001b[2m:\u001b[0m\u001b]8;id=496052;file://C:\\Users\\BHSU\\AppData\\Local\\Programs\\Python\\Python39\\lib\\site-packages\\openfl\\component\\aggregator\\aggregator.py#520\u001b\\\u001b[2m520\u001b[0m\u001b]8;;\u001b\\\n"
      ]
     },
     "metadata": {},
     "output_type": "display_data"
    },
    {
     "data": {
      "text/html": [
       "<pre style=\"white-space:pre;overflow-x:auto;line-height:normal;font-family:Menlo,'DejaVu Sans Mono',consolas,'Courier New',monospace\"><span style=\"color: #7fbfbf; text-decoration-color: #7fbfbf\">           </span>METRIC   Round <span style=\"color: #008080; text-decoration-color: #008080; font-weight: bold\">0</span>, collaborator validate_local locally_tuned_model_validation result accuracy:    <span style=\"color: #008080; text-decoration-color: #008080; font-weight: bold\">0.911889</span>                           <a href=\"file://C:\\Users\\BHSU\\AppData\\Local\\Programs\\Python\\Python39\\lib\\site-packages\\openfl\\component\\aggregator\\aggregator.py\" target=\"_blank\"><span style=\"color: #7f7f7f; text-decoration-color: #7f7f7f\">aggregator.py</span></a><span style=\"color: #7f7f7f; text-decoration-color: #7f7f7f\">:</span><a href=\"file://C:\\Users\\BHSU\\AppData\\Local\\Programs\\Python\\Python39\\lib\\site-packages\\openfl\\component\\aggregator\\aggregator.py#559\" target=\"_blank\"><span style=\"color: #7f7f7f; text-decoration-color: #7f7f7f\">559</span></a>\n",
       "</pre>\n"
      ],
      "text/plain": [
       "\u001b[2;36m          \u001b[0m\u001b[2;36m \u001b[0mMETRIC   Round \u001b[1;36m0\u001b[0m, collaborator validate_local locally_tuned_model_validation result accuracy:    \u001b[1;36m0.911889\u001b[0m                           \u001b]8;id=889166;file://C:\\Users\\BHSU\\AppData\\Local\\Programs\\Python\\Python39\\lib\\site-packages\\openfl\\component\\aggregator\\aggregator.py\u001b\\\u001b[2maggregator.py\u001b[0m\u001b]8;;\u001b\\\u001b[2m:\u001b[0m\u001b]8;id=95944;file://C:\\Users\\BHSU\\AppData\\Local\\Programs\\Python\\Python39\\lib\\site-packages\\openfl\\component\\aggregator\\aggregator.py#559\u001b\\\u001b[2m559\u001b[0m\u001b]8;;\u001b\\\n"
      ]
     },
     "metadata": {},
     "output_type": "display_data"
    },
    {
     "data": {
      "text/html": [
       "<pre style=\"white-space:pre;overflow-x:auto;line-height:normal;font-family:Menlo,'DejaVu Sans Mono',consolas,'Courier New',monospace\"><span style=\"color: #7fbfbf; text-decoration-color: #7fbfbf\">           </span>METRIC   Round <span style=\"color: #008080; text-decoration-color: #008080; font-weight: bold\">0</span>, aggregator: locally_tuned_model_validation                                                                        <a href=\"file://C:\\Users\\BHSU\\AppData\\Local\\Programs\\Python\\Python39\\lib\\site-packages\\openfl\\component\\aggregator\\aggregator.py\" target=\"_blank\"><span style=\"color: #7f7f7f; text-decoration-color: #7f7f7f\">aggregator.py</span></a><span style=\"color: #7f7f7f; text-decoration-color: #7f7f7f\">:</span><a href=\"file://C:\\Users\\BHSU\\AppData\\Local\\Programs\\Python\\Python39\\lib\\site-packages\\openfl\\component\\aggregator\\aggregator.py#842\" target=\"_blank\"><span style=\"color: #7f7f7f; text-decoration-color: #7f7f7f\">842</span></a>\n",
       "<span style=\"color: #7fbfbf; text-decoration-color: #7fbfbf\">           </span>         <span style=\"font-weight: bold\">&lt;</span><span style=\"color: #ff00ff; text-decoration-color: #ff00ff; font-weight: bold\">openfl.interface.aggregation_functions.weighted_average.WeightedAverage</span><span style=\"color: #000000; text-decoration-color: #000000\"> object at </span><span style=\"color: #008080; text-decoration-color: #008080; font-weight: bold\">0x00000137CCF13D90</span><span style=\"font-weight: bold\">&gt;</span> accuracy:           <span style=\"color: #7f7f7f; text-decoration-color: #7f7f7f\">                 </span>\n",
       "<span style=\"color: #7fbfbf; text-decoration-color: #7fbfbf\">           </span>         <span style=\"color: #008080; text-decoration-color: #008080; font-weight: bold\">0.902333</span>                                                                                                                   <span style=\"color: #7f7f7f; text-decoration-color: #7f7f7f\">                 </span>\n",
       "</pre>\n"
      ],
      "text/plain": [
       "\u001b[2;36m          \u001b[0m\u001b[2;36m \u001b[0mMETRIC   Round \u001b[1;36m0\u001b[0m, aggregator: locally_tuned_model_validation                                                                        \u001b]8;id=642852;file://C:\\Users\\BHSU\\AppData\\Local\\Programs\\Python\\Python39\\lib\\site-packages\\openfl\\component\\aggregator\\aggregator.py\u001b\\\u001b[2maggregator.py\u001b[0m\u001b]8;;\u001b\\\u001b[2m:\u001b[0m\u001b]8;id=377633;file://C:\\Users\\BHSU\\AppData\\Local\\Programs\\Python\\Python39\\lib\\site-packages\\openfl\\component\\aggregator\\aggregator.py#842\u001b\\\u001b[2m842\u001b[0m\u001b]8;;\u001b\\\n",
       "\u001b[2;36m           \u001b[0m         \u001b[1m<\u001b[0m\u001b[1;95mopenfl.interface.aggregation_functions.weighted_average.WeightedAverage\u001b[0m\u001b[39m object at \u001b[0m\u001b[1;36m0x00000137CCF13D90\u001b[0m\u001b[1m>\u001b[0m accuracy:           \u001b[2m                 \u001b[0m\n",
       "\u001b[2;36m           \u001b[0m         \u001b[1;36m0.902333\u001b[0m                                                                                                                   \u001b[2m                 \u001b[0m\n"
      ]
     },
     "metadata": {},
     "output_type": "display_data"
    },
    {
     "data": {
      "text/html": [
       "<pre style=\"white-space:pre;overflow-x:auto;line-height:normal;font-family:Menlo,'DejaVu Sans Mono',consolas,'Courier New',monospace\"><span style=\"color: #7fbfbf; text-decoration-color: #7fbfbf\">           </span>METRIC   Round <span style=\"color: #008080; text-decoration-color: #008080; font-weight: bold\">0</span>, aggregator: train <span style=\"font-weight: bold\">&lt;</span><span style=\"color: #ff00ff; text-decoration-color: #ff00ff; font-weight: bold\">openfl.interface.aggregation_functions.weighted_average.WeightedAverage</span><span style=\"color: #000000; text-decoration-color: #000000\"> object at </span>             <a href=\"file://C:\\Users\\BHSU\\AppData\\Local\\Programs\\Python\\Python39\\lib\\site-packages\\openfl\\component\\aggregator\\aggregator.py\" target=\"_blank\"><span style=\"color: #7f7f7f; text-decoration-color: #7f7f7f\">aggregator.py</span></a><span style=\"color: #7f7f7f; text-decoration-color: #7f7f7f\">:</span><a href=\"file://C:\\Users\\BHSU\\AppData\\Local\\Programs\\Python\\Python39\\lib\\site-packages\\openfl\\component\\aggregator\\aggregator.py#842\" target=\"_blank\"><span style=\"color: #7f7f7f; text-decoration-color: #7f7f7f\">842</span></a>\n",
       "<span style=\"color: #7fbfbf; text-decoration-color: #7fbfbf\">           </span>         <span style=\"color: #008080; text-decoration-color: #008080; font-weight: bold\">0x00000137CCF13D90</span><span style=\"font-weight: bold\">&gt;</span> loss: <span style=\"color: #008080; text-decoration-color: #008080; font-weight: bold\">0.527907</span>                                                                                         <span style=\"color: #7f7f7f; text-decoration-color: #7f7f7f\">                 </span>\n",
       "</pre>\n"
      ],
      "text/plain": [
       "\u001b[2;36m          \u001b[0m\u001b[2;36m \u001b[0mMETRIC   Round \u001b[1;36m0\u001b[0m, aggregator: train \u001b[1m<\u001b[0m\u001b[1;95mopenfl.interface.aggregation_functions.weighted_average.WeightedAverage\u001b[0m\u001b[39m object at \u001b[0m             \u001b]8;id=418098;file://C:\\Users\\BHSU\\AppData\\Local\\Programs\\Python\\Python39\\lib\\site-packages\\openfl\\component\\aggregator\\aggregator.py\u001b\\\u001b[2maggregator.py\u001b[0m\u001b]8;;\u001b\\\u001b[2m:\u001b[0m\u001b]8;id=144992;file://C:\\Users\\BHSU\\AppData\\Local\\Programs\\Python\\Python39\\lib\\site-packages\\openfl\\component\\aggregator\\aggregator.py#842\u001b\\\u001b[2m842\u001b[0m\u001b]8;;\u001b\\\n",
       "\u001b[2;36m           \u001b[0m         \u001b[1;36m0x00000137CCF13D90\u001b[0m\u001b[1m>\u001b[0m loss: \u001b[1;36m0.527907\u001b[0m                                                                                         \u001b[2m                 \u001b[0m\n"
      ]
     },
     "metadata": {},
     "output_type": "display_data"
    },
    {
     "data": {
      "text/html": [
       "<pre style=\"white-space:pre;overflow-x:auto;line-height:normal;font-family:Menlo,'DejaVu Sans Mono',consolas,'Courier New',monospace\"><span style=\"color: #7fbfbf; text-decoration-color: #7fbfbf\">           </span>METRIC   Round <span style=\"color: #008080; text-decoration-color: #008080; font-weight: bold\">0</span>, aggregator: aggregated_model_validation <span style=\"font-weight: bold\">&lt;</span><span style=\"color: #ff00ff; text-decoration-color: #ff00ff; font-weight: bold\">openfl.interface.aggregation_functions.weighted_average.WeightedAverage</span><span style=\"color: #000000; text-decoration-color: #000000\"> </span> <a href=\"file://C:\\Users\\BHSU\\AppData\\Local\\Programs\\Python\\Python39\\lib\\site-packages\\openfl\\component\\aggregator\\aggregator.py\" target=\"_blank\"><span style=\"color: #7f7f7f; text-decoration-color: #7f7f7f\">aggregator.py</span></a><span style=\"color: #7f7f7f; text-decoration-color: #7f7f7f\">:</span><a href=\"file://C:\\Users\\BHSU\\AppData\\Local\\Programs\\Python\\Python39\\lib\\site-packages\\openfl\\component\\aggregator\\aggregator.py#842\" target=\"_blank\"><span style=\"color: #7f7f7f; text-decoration-color: #7f7f7f\">842</span></a>\n",
       "<span style=\"color: #7fbfbf; text-decoration-color: #7fbfbf\">           </span>         <span style=\"color: #000000; text-decoration-color: #000000\">object at </span><span style=\"color: #008080; text-decoration-color: #008080; font-weight: bold\">0x00000137CCF13D90</span><span style=\"font-weight: bold\">&gt;</span> accuracy:       <span style=\"color: #008080; text-decoration-color: #008080; font-weight: bold\">0.131944</span>                                                                     <span style=\"color: #7f7f7f; text-decoration-color: #7f7f7f\">                 </span>\n",
       "</pre>\n"
      ],
      "text/plain": [
       "\u001b[2;36m          \u001b[0m\u001b[2;36m \u001b[0mMETRIC   Round \u001b[1;36m0\u001b[0m, aggregator: aggregated_model_validation \u001b[1m<\u001b[0m\u001b[1;95mopenfl.interface.aggregation_functions.weighted_average.WeightedAverage\u001b[0m\u001b[39m \u001b[0m \u001b]8;id=804777;file://C:\\Users\\BHSU\\AppData\\Local\\Programs\\Python\\Python39\\lib\\site-packages\\openfl\\component\\aggregator\\aggregator.py\u001b\\\u001b[2maggregator.py\u001b[0m\u001b]8;;\u001b\\\u001b[2m:\u001b[0m\u001b]8;id=825993;file://C:\\Users\\BHSU\\AppData\\Local\\Programs\\Python\\Python39\\lib\\site-packages\\openfl\\component\\aggregator\\aggregator.py#842\u001b\\\u001b[2m842\u001b[0m\u001b]8;;\u001b\\\n",
       "\u001b[2;36m           \u001b[0m         \u001b[39mobject at \u001b[0m\u001b[1;36m0x00000137CCF13D90\u001b[0m\u001b[1m>\u001b[0m accuracy:       \u001b[1;36m0.131944\u001b[0m                                                                     \u001b[2m                 \u001b[0m\n"
      ]
     },
     "metadata": {},
     "output_type": "display_data"
    },
    {
     "data": {
      "text/html": [
       "<pre style=\"white-space:pre;overflow-x:auto;line-height:normal;font-family:Menlo,'DejaVu Sans Mono',consolas,'Courier New',monospace\"><span style=\"color: #7fbfbf; text-decoration-color: #7fbfbf\">           </span>METRIC   Round <span style=\"color: #008080; text-decoration-color: #008080; font-weight: bold\">0</span>: saved the best model with score <span style=\"color: #008080; text-decoration-color: #008080; font-weight: bold\">0.131944</span>                                                                          <a href=\"file://C:\\Users\\BHSU\\AppData\\Local\\Programs\\Python\\Python39\\lib\\site-packages\\openfl\\component\\aggregator\\aggregator.py\" target=\"_blank\"><span style=\"color: #7f7f7f; text-decoration-color: #7f7f7f\">aggregator.py</span></a><span style=\"color: #7f7f7f; text-decoration-color: #7f7f7f\">:</span><a href=\"file://C:\\Users\\BHSU\\AppData\\Local\\Programs\\Python\\Python39\\lib\\site-packages\\openfl\\component\\aggregator\\aggregator.py#858\" target=\"_blank\"><span style=\"color: #7f7f7f; text-decoration-color: #7f7f7f\">858</span></a>\n",
       "</pre>\n"
      ],
      "text/plain": [
       "\u001b[2;36m          \u001b[0m\u001b[2;36m \u001b[0mMETRIC   Round \u001b[1;36m0\u001b[0m: saved the best model with score \u001b[1;36m0.131944\u001b[0m                                                                          \u001b]8;id=613014;file://C:\\Users\\BHSU\\AppData\\Local\\Programs\\Python\\Python39\\lib\\site-packages\\openfl\\component\\aggregator\\aggregator.py\u001b\\\u001b[2maggregator.py\u001b[0m\u001b]8;;\u001b\\\u001b[2m:\u001b[0m\u001b]8;id=460832;file://C:\\Users\\BHSU\\AppData\\Local\\Programs\\Python\\Python39\\lib\\site-packages\\openfl\\component\\aggregator\\aggregator.py#858\u001b\\\u001b[2m858\u001b[0m\u001b]8;;\u001b\\\n"
      ]
     },
     "metadata": {},
     "output_type": "display_data"
    },
    {
     "data": {
      "text/html": [
       "<pre style=\"white-space:pre;overflow-x:auto;line-height:normal;font-family:Menlo,'DejaVu Sans Mono',consolas,'Courier New',monospace\"><span style=\"color: #7fbfbf; text-decoration-color: #7fbfbf\">           </span><span style=\"color: #000080; text-decoration-color: #000080\">INFO    </span> Saving round <span style=\"color: #008080; text-decoration-color: #008080; font-weight: bold\">1</span> model<span style=\"color: #808000; text-decoration-color: #808000\">...</span>                                                                                                    <a href=\"file://C:\\Users\\BHSU\\AppData\\Local\\Programs\\Python\\Python39\\lib\\site-packages\\openfl\\component\\aggregator\\aggregator.py\" target=\"_blank\"><span style=\"color: #7f7f7f; text-decoration-color: #7f7f7f\">aggregator.py</span></a><span style=\"color: #7f7f7f; text-decoration-color: #7f7f7f\">:</span><a href=\"file://C:\\Users\\BHSU\\AppData\\Local\\Programs\\Python\\Python39\\lib\\site-packages\\openfl\\component\\aggregator\\aggregator.py#894\" target=\"_blank\"><span style=\"color: #7f7f7f; text-decoration-color: #7f7f7f\">894</span></a>\n",
       "</pre>\n"
      ],
      "text/plain": [
       "\u001b[2;36m          \u001b[0m\u001b[2;36m \u001b[0m\u001b[34mINFO    \u001b[0m Saving round \u001b[1;36m1\u001b[0m model\u001b[33m...\u001b[0m                                                                                                    \u001b]8;id=605738;file://C:\\Users\\BHSU\\AppData\\Local\\Programs\\Python\\Python39\\lib\\site-packages\\openfl\\component\\aggregator\\aggregator.py\u001b\\\u001b[2maggregator.py\u001b[0m\u001b]8;;\u001b\\\u001b[2m:\u001b[0m\u001b]8;id=657392;file://C:\\Users\\BHSU\\AppData\\Local\\Programs\\Python\\Python39\\lib\\site-packages\\openfl\\component\\aggregator\\aggregator.py#894\u001b\\\u001b[2m894\u001b[0m\u001b]8;;\u001b\\\n"
      ]
     },
     "metadata": {},
     "output_type": "display_data"
    },
    {
     "data": {
      "text/html": [
       "<pre style=\"white-space:pre;overflow-x:auto;line-height:normal;font-family:Menlo,'DejaVu Sans Mono',consolas,'Courier New',monospace\"><span style=\"color: #7fbfbf; text-decoration-color: #7fbfbf\">           </span><span style=\"color: #000080; text-decoration-color: #000080\">INFO    </span> Starting round <span style=\"color: #008080; text-decoration-color: #008080; font-weight: bold\">1</span><span style=\"color: #808000; text-decoration-color: #808000\">...</span>                                                                                                        <a href=\"file://C:\\Users\\BHSU\\AppData\\Local\\Programs\\Python\\Python39\\lib\\site-packages\\openfl\\component\\aggregator\\aggregator.py\" target=\"_blank\"><span style=\"color: #7f7f7f; text-decoration-color: #7f7f7f\">aggregator.py</span></a><span style=\"color: #7f7f7f; text-decoration-color: #7f7f7f\">:</span><a href=\"file://C:\\Users\\BHSU\\AppData\\Local\\Programs\\Python\\Python39\\lib\\site-packages\\openfl\\component\\aggregator\\aggregator.py#901\" target=\"_blank\"><span style=\"color: #7f7f7f; text-decoration-color: #7f7f7f\">901</span></a>\n",
       "</pre>\n"
      ],
      "text/plain": [
       "\u001b[2;36m          \u001b[0m\u001b[2;36m \u001b[0m\u001b[34mINFO    \u001b[0m Starting round \u001b[1;36m1\u001b[0m\u001b[33m...\u001b[0m                                                                                                        \u001b]8;id=228930;file://C:\\Users\\BHSU\\AppData\\Local\\Programs\\Python\\Python39\\lib\\site-packages\\openfl\\component\\aggregator\\aggregator.py\u001b\\\u001b[2maggregator.py\u001b[0m\u001b]8;;\u001b\\\u001b[2m:\u001b[0m\u001b]8;id=487083;file://C:\\Users\\BHSU\\AppData\\Local\\Programs\\Python\\Python39\\lib\\site-packages\\openfl\\component\\aggregator\\aggregator.py#901\u001b\\\u001b[2m901\u001b[0m\u001b]8;;\u001b\\\n"
      ]
     },
     "metadata": {},
     "output_type": "display_data"
    },
    {
     "data": {
      "text/html": [
       "<pre style=\"white-space:pre;overflow-x:auto;line-height:normal;font-family:Menlo,'DejaVu Sans Mono',consolas,'Courier New',monospace\"><span style=\"color: #7fbfbf; text-decoration-color: #7fbfbf\">           </span><span style=\"color: #000080; text-decoration-color: #000080\">INFO    </span> All tasks completed on two for round <span style=\"color: #008080; text-decoration-color: #008080; font-weight: bold\">0</span><span style=\"color: #808000; text-decoration-color: #808000\">...</span>                                                                                <a href=\"file://C:\\Users\\BHSU\\AppData\\Local\\Programs\\Python\\Python39\\lib\\site-packages\\openfl\\component\\collaborator\\collaborator.py\" target=\"_blank\"><span style=\"color: #7f7f7f; text-decoration-color: #7f7f7f\">collaborator.py</span></a><span style=\"color: #7f7f7f; text-decoration-color: #7f7f7f\">:</span><a href=\"file://C:\\Users\\BHSU\\AppData\\Local\\Programs\\Python\\Python39\\lib\\site-packages\\openfl\\component\\collaborator\\collaborator.py#171\" target=\"_blank\"><span style=\"color: #7f7f7f; text-decoration-color: #7f7f7f\">171</span></a>\n",
       "</pre>\n"
      ],
      "text/plain": [
       "\u001b[2;36m          \u001b[0m\u001b[2;36m \u001b[0m\u001b[34mINFO    \u001b[0m All tasks completed on two for round \u001b[1;36m0\u001b[0m\u001b[33m...\u001b[0m                                                                                \u001b]8;id=329334;file://C:\\Users\\BHSU\\AppData\\Local\\Programs\\Python\\Python39\\lib\\site-packages\\openfl\\component\\collaborator\\collaborator.py\u001b\\\u001b[2mcollaborator.py\u001b[0m\u001b]8;;\u001b\\\u001b[2m:\u001b[0m\u001b]8;id=545211;file://C:\\Users\\BHSU\\AppData\\Local\\Programs\\Python\\Python39\\lib\\site-packages\\openfl\\component\\collaborator\\collaborator.py#171\u001b\\\u001b[2m171\u001b[0m\u001b]8;;\u001b\\\n"
      ]
     },
     "metadata": {},
     "output_type": "display_data"
    },
    {
     "data": {
      "text/html": [
       "<pre style=\"white-space:pre;overflow-x:auto;line-height:normal;font-family:Menlo,'DejaVu Sans Mono',consolas,'Courier New',monospace\"><span style=\"color: #7fbfbf; text-decoration-color: #7fbfbf\">           </span><span style=\"color: #000080; text-decoration-color: #000080\">INFO    </span> Waiting for tasks<span style=\"color: #808000; text-decoration-color: #808000\">...</span>                                                                                                     <a href=\"file://C:\\Users\\BHSU\\AppData\\Local\\Programs\\Python\\Python39\\lib\\site-packages\\openfl\\component\\collaborator\\collaborator.py\" target=\"_blank\"><span style=\"color: #7f7f7f; text-decoration-color: #7f7f7f\">collaborator.py</span></a><span style=\"color: #7f7f7f; text-decoration-color: #7f7f7f\">:</span><a href=\"file://C:\\Users\\BHSU\\AppData\\Local\\Programs\\Python\\Python39\\lib\\site-packages\\openfl\\component\\collaborator\\collaborator.py#178\" target=\"_blank\"><span style=\"color: #7f7f7f; text-decoration-color: #7f7f7f\">178</span></a>\n",
       "</pre>\n"
      ],
      "text/plain": [
       "\u001b[2;36m          \u001b[0m\u001b[2;36m \u001b[0m\u001b[34mINFO    \u001b[0m Waiting for tasks\u001b[33m...\u001b[0m                                                                                                     \u001b]8;id=30553;file://C:\\Users\\BHSU\\AppData\\Local\\Programs\\Python\\Python39\\lib\\site-packages\\openfl\\component\\collaborator\\collaborator.py\u001b\\\u001b[2mcollaborator.py\u001b[0m\u001b]8;;\u001b\\\u001b[2m:\u001b[0m\u001b]8;id=849647;file://C:\\Users\\BHSU\\AppData\\Local\\Programs\\Python\\Python39\\lib\\site-packages\\openfl\\component\\collaborator\\collaborator.py#178\u001b\\\u001b[2m178\u001b[0m\u001b]8;;\u001b\\\n"
      ]
     },
     "metadata": {},
     "output_type": "display_data"
    },
    {
     "data": {
      "text/html": [
       "<pre style=\"white-space:pre;overflow-x:auto;line-height:normal;font-family:Menlo,'DejaVu Sans Mono',consolas,'Courier New',monospace\"><span style=\"color: #7fbfbf; text-decoration-color: #7fbfbf\">           </span><span style=\"color: #000080; text-decoration-color: #000080\">INFO    </span> Sending tasks to collaborator one for round <span style=\"color: #008080; text-decoration-color: #008080; font-weight: bold\">1</span>                                                                              <a href=\"file://C:\\Users\\BHSU\\AppData\\Local\\Programs\\Python\\Python39\\lib\\site-packages\\openfl\\component\\aggregator\\aggregator.py\" target=\"_blank\"><span style=\"color: #7f7f7f; text-decoration-color: #7f7f7f\">aggregator.py</span></a><span style=\"color: #7f7f7f; text-decoration-color: #7f7f7f\">:</span><a href=\"file://C:\\Users\\BHSU\\AppData\\Local\\Programs\\Python\\Python39\\lib\\site-packages\\openfl\\component\\aggregator\\aggregator.py#329\" target=\"_blank\"><span style=\"color: #7f7f7f; text-decoration-color: #7f7f7f\">329</span></a>\n",
       "</pre>\n"
      ],
      "text/plain": [
       "\u001b[2;36m          \u001b[0m\u001b[2;36m \u001b[0m\u001b[34mINFO    \u001b[0m Sending tasks to collaborator one for round \u001b[1;36m1\u001b[0m                                                                              \u001b]8;id=607723;file://C:\\Users\\BHSU\\AppData\\Local\\Programs\\Python\\Python39\\lib\\site-packages\\openfl\\component\\aggregator\\aggregator.py\u001b\\\u001b[2maggregator.py\u001b[0m\u001b]8;;\u001b\\\u001b[2m:\u001b[0m\u001b]8;id=901681;file://C:\\Users\\BHSU\\AppData\\Local\\Programs\\Python\\Python39\\lib\\site-packages\\openfl\\component\\aggregator\\aggregator.py#329\u001b\\\u001b[2m329\u001b[0m\u001b]8;;\u001b\\\n"
      ]
     },
     "metadata": {},
     "output_type": "display_data"
    },
    {
     "data": {
      "text/html": [
       "<pre style=\"white-space:pre;overflow-x:auto;line-height:normal;font-family:Menlo,'DejaVu Sans Mono',consolas,'Courier New',monospace\"><span style=\"color: #7fbfbf; text-decoration-color: #7fbfbf\">           </span><span style=\"color: #000080; text-decoration-color: #000080\">INFO    </span> Received the following tasks: <span style=\"font-weight: bold\">[</span><span style=\"color: #008000; text-decoration-color: #008000\">'aggregated_model_validation'</span>, <span style=\"color: #008000; text-decoration-color: #008000\">'train'</span>, <span style=\"color: #008000; text-decoration-color: #008000\">'locally_tuned_model_validation'</span><span style=\"font-weight: bold\">]</span>                 <a href=\"file://C:\\Users\\BHSU\\AppData\\Local\\Programs\\Python\\Python39\\lib\\site-packages\\openfl\\component\\collaborator\\collaborator.py\" target=\"_blank\"><span style=\"color: #7f7f7f; text-decoration-color: #7f7f7f\">collaborator.py</span></a><span style=\"color: #7f7f7f; text-decoration-color: #7f7f7f\">:</span><a href=\"file://C:\\Users\\BHSU\\AppData\\Local\\Programs\\Python\\Python39\\lib\\site-packages\\openfl\\component\\collaborator\\collaborator.py#168\" target=\"_blank\"><span style=\"color: #7f7f7f; text-decoration-color: #7f7f7f\">168</span></a>\n",
       "</pre>\n"
      ],
      "text/plain": [
       "\u001b[2;36m          \u001b[0m\u001b[2;36m \u001b[0m\u001b[34mINFO    \u001b[0m Received the following tasks: \u001b[1m[\u001b[0m\u001b[32m'aggregated_model_validation'\u001b[0m, \u001b[32m'train'\u001b[0m, \u001b[32m'locally_tuned_model_validation'\u001b[0m\u001b[1m]\u001b[0m                 \u001b]8;id=436510;file://C:\\Users\\BHSU\\AppData\\Local\\Programs\\Python\\Python39\\lib\\site-packages\\openfl\\component\\collaborator\\collaborator.py\u001b\\\u001b[2mcollaborator.py\u001b[0m\u001b]8;;\u001b\\\u001b[2m:\u001b[0m\u001b]8;id=119280;file://C:\\Users\\BHSU\\AppData\\Local\\Programs\\Python\\Python39\\lib\\site-packages\\openfl\\component\\collaborator\\collaborator.py#168\u001b\\\u001b[2m168\u001b[0m\u001b]8;;\u001b\\\n"
      ]
     },
     "metadata": {},
     "output_type": "display_data"
    },
    {
     "data": {
      "text/html": [
       "<pre style=\"white-space:pre;overflow-x:auto;line-height:normal;font-family:Menlo,'DejaVu Sans Mono',consolas,'Courier New',monospace\"><span style=\"color: #7fbfbf; text-decoration-color: #7fbfbf\">           </span><span style=\"color: #000080; text-decoration-color: #000080\">INFO    </span> Using TaskRunner subclassing API                                                                                         <a href=\"file://C:\\Users\\BHSU\\AppData\\Local\\Programs\\Python\\Python39\\lib\\site-packages\\openfl\\component\\collaborator\\collaborator.py\" target=\"_blank\"><span style=\"color: #7f7f7f; text-decoration-color: #7f7f7f\">collaborator.py</span></a><span style=\"color: #7f7f7f; text-decoration-color: #7f7f7f\">:</span><a href=\"file://C:\\Users\\BHSU\\AppData\\Local\\Programs\\Python\\Python39\\lib\\site-packages\\openfl\\component\\collaborator\\collaborator.py#253\" target=\"_blank\"><span style=\"color: #7f7f7f; text-decoration-color: #7f7f7f\">253</span></a>\n",
       "</pre>\n"
      ],
      "text/plain": [
       "\u001b[2;36m          \u001b[0m\u001b[2;36m \u001b[0m\u001b[34mINFO    \u001b[0m Using TaskRunner subclassing API                                                                                         \u001b]8;id=121807;file://C:\\Users\\BHSU\\AppData\\Local\\Programs\\Python\\Python39\\lib\\site-packages\\openfl\\component\\collaborator\\collaborator.py\u001b\\\u001b[2mcollaborator.py\u001b[0m\u001b]8;;\u001b\\\u001b[2m:\u001b[0m\u001b]8;id=793916;file://C:\\Users\\BHSU\\AppData\\Local\\Programs\\Python\\Python39\\lib\\site-packages\\openfl\\component\\collaborator\\collaborator.py#253\u001b\\\u001b[2m253\u001b[0m\u001b]8;;\u001b\\\n"
      ]
     },
     "metadata": {},
     "output_type": "display_data"
    },
    {
     "name": "stdout",
     "output_type": "stream",
     "text": [
      "282/282 [==============================] - 0s 516us/step - loss: 0.3690 - accuracy: 0.8972\n"
     ]
    },
    {
     "data": {
      "text/html": [
       "<pre style=\"white-space:pre;overflow-x:auto;line-height:normal;font-family:Menlo,'DejaVu Sans Mono',consolas,'Courier New',monospace\"><span style=\"color: #7fbfbf; text-decoration-color: #7fbfbf\">           </span>METRIC   Round <span style=\"color: #008080; text-decoration-color: #008080; font-weight: bold\">1</span>, collaborator one is sending metric for task aggregated_model_validation: accuracy      <span style=\"color: #008080; text-decoration-color: #008080; font-weight: bold\">0.897222</span>                 <a href=\"file://C:\\Users\\BHSU\\AppData\\Local\\Programs\\Python\\Python39\\lib\\site-packages\\openfl\\component\\collaborator\\collaborator.py\" target=\"_blank\"><span style=\"color: #7f7f7f; text-decoration-color: #7f7f7f\">collaborator.py</span></a><span style=\"color: #7f7f7f; text-decoration-color: #7f7f7f\">:</span><a href=\"file://C:\\Users\\BHSU\\AppData\\Local\\Programs\\Python\\Python39\\lib\\site-packages\\openfl\\component\\collaborator\\collaborator.py#415\" target=\"_blank\"><span style=\"color: #7f7f7f; text-decoration-color: #7f7f7f\">415</span></a>\n",
       "</pre>\n"
      ],
      "text/plain": [
       "\u001b[2;36m          \u001b[0m\u001b[2;36m \u001b[0mMETRIC   Round \u001b[1;36m1\u001b[0m, collaborator one is sending metric for task aggregated_model_validation: accuracy      \u001b[1;36m0.897222\u001b[0m                 \u001b]8;id=595235;file://C:\\Users\\BHSU\\AppData\\Local\\Programs\\Python\\Python39\\lib\\site-packages\\openfl\\component\\collaborator\\collaborator.py\u001b\\\u001b[2mcollaborator.py\u001b[0m\u001b]8;;\u001b\\\u001b[2m:\u001b[0m\u001b]8;id=530960;file://C:\\Users\\BHSU\\AppData\\Local\\Programs\\Python\\Python39\\lib\\site-packages\\openfl\\component\\collaborator\\collaborator.py#415\u001b\\\u001b[2m415\u001b[0m\u001b]8;;\u001b\\\n"
      ]
     },
     "metadata": {},
     "output_type": "display_data"
    },
    {
     "data": {
      "text/html": [
       "<pre style=\"white-space:pre;overflow-x:auto;line-height:normal;font-family:Menlo,'DejaVu Sans Mono',consolas,'Courier New',monospace\"><span style=\"color: #7fbfbf; text-decoration-color: #7fbfbf\">           </span><span style=\"color: #000080; text-decoration-color: #000080\">INFO    </span> Collaborator one is sending task results for aggregated_model_validation, round <span style=\"color: #008080; text-decoration-color: #008080; font-weight: bold\">1</span>                                          <a href=\"file://C:\\Users\\BHSU\\AppData\\Local\\Programs\\Python\\Python39\\lib\\site-packages\\openfl\\component\\aggregator\\aggregator.py\" target=\"_blank\"><span style=\"color: #7f7f7f; text-decoration-color: #7f7f7f\">aggregator.py</span></a><span style=\"color: #7f7f7f; text-decoration-color: #7f7f7f\">:</span><a href=\"file://C:\\Users\\BHSU\\AppData\\Local\\Programs\\Python\\Python39\\lib\\site-packages\\openfl\\component\\aggregator\\aggregator.py#520\" target=\"_blank\"><span style=\"color: #7f7f7f; text-decoration-color: #7f7f7f\">520</span></a>\n",
       "</pre>\n"
      ],
      "text/plain": [
       "\u001b[2;36m          \u001b[0m\u001b[2;36m \u001b[0m\u001b[34mINFO    \u001b[0m Collaborator one is sending task results for aggregated_model_validation, round \u001b[1;36m1\u001b[0m                                          \u001b]8;id=703957;file://C:\\Users\\BHSU\\AppData\\Local\\Programs\\Python\\Python39\\lib\\site-packages\\openfl\\component\\aggregator\\aggregator.py\u001b\\\u001b[2maggregator.py\u001b[0m\u001b]8;;\u001b\\\u001b[2m:\u001b[0m\u001b]8;id=463850;file://C:\\Users\\BHSU\\AppData\\Local\\Programs\\Python\\Python39\\lib\\site-packages\\openfl\\component\\aggregator\\aggregator.py#520\u001b\\\u001b[2m520\u001b[0m\u001b]8;;\u001b\\\n"
      ]
     },
     "metadata": {},
     "output_type": "display_data"
    },
    {
     "data": {
      "text/html": [
       "<pre style=\"white-space:pre;overflow-x:auto;line-height:normal;font-family:Menlo,'DejaVu Sans Mono',consolas,'Courier New',monospace\"><span style=\"color: #7fbfbf; text-decoration-color: #7fbfbf\">           </span>METRIC   Round <span style=\"color: #008080; text-decoration-color: #008080; font-weight: bold\">1</span>, collaborator validate_agg aggregated_model_validation result accuracy: <span style=\"color: #008080; text-decoration-color: #008080; font-weight: bold\">0.897222</span>                                   <a href=\"file://C:\\Users\\BHSU\\AppData\\Local\\Programs\\Python\\Python39\\lib\\site-packages\\openfl\\component\\aggregator\\aggregator.py\" target=\"_blank\"><span style=\"color: #7f7f7f; text-decoration-color: #7f7f7f\">aggregator.py</span></a><span style=\"color: #7f7f7f; text-decoration-color: #7f7f7f\">:</span><a href=\"file://C:\\Users\\BHSU\\AppData\\Local\\Programs\\Python\\Python39\\lib\\site-packages\\openfl\\component\\aggregator\\aggregator.py#559\" target=\"_blank\"><span style=\"color: #7f7f7f; text-decoration-color: #7f7f7f\">559</span></a>\n",
       "</pre>\n"
      ],
      "text/plain": [
       "\u001b[2;36m          \u001b[0m\u001b[2;36m \u001b[0mMETRIC   Round \u001b[1;36m1\u001b[0m, collaborator validate_agg aggregated_model_validation result accuracy: \u001b[1;36m0.897222\u001b[0m                                   \u001b]8;id=836960;file://C:\\Users\\BHSU\\AppData\\Local\\Programs\\Python\\Python39\\lib\\site-packages\\openfl\\component\\aggregator\\aggregator.py\u001b\\\u001b[2maggregator.py\u001b[0m\u001b]8;;\u001b\\\u001b[2m:\u001b[0m\u001b]8;id=846874;file://C:\\Users\\BHSU\\AppData\\Local\\Programs\\Python\\Python39\\lib\\site-packages\\openfl\\component\\aggregator\\aggregator.py#559\u001b\\\u001b[2m559\u001b[0m\u001b]8;;\u001b\\\n"
      ]
     },
     "metadata": {},
     "output_type": "display_data"
    },
    {
     "data": {
      "text/html": [
       "<pre style=\"white-space:pre;overflow-x:auto;line-height:normal;font-family:Menlo,'DejaVu Sans Mono',consolas,'Courier New',monospace\"><span style=\"color: #7fbfbf; text-decoration-color: #7fbfbf\">           </span><span style=\"color: #000080; text-decoration-color: #000080\">INFO    </span> Using TaskRunner subclassing API                                                                                         <a href=\"file://C:\\Users\\BHSU\\AppData\\Local\\Programs\\Python\\Python39\\lib\\site-packages\\openfl\\component\\collaborator\\collaborator.py\" target=\"_blank\"><span style=\"color: #7f7f7f; text-decoration-color: #7f7f7f\">collaborator.py</span></a><span style=\"color: #7f7f7f; text-decoration-color: #7f7f7f\">:</span><a href=\"file://C:\\Users\\BHSU\\AppData\\Local\\Programs\\Python\\Python39\\lib\\site-packages\\openfl\\component\\collaborator\\collaborator.py#253\" target=\"_blank\"><span style=\"color: #7f7f7f; text-decoration-color: #7f7f7f\">253</span></a>\n",
       "</pre>\n"
      ],
      "text/plain": [
       "\u001b[2;36m          \u001b[0m\u001b[2;36m \u001b[0m\u001b[34mINFO    \u001b[0m Using TaskRunner subclassing API                                                                                         \u001b]8;id=803991;file://C:\\Users\\BHSU\\AppData\\Local\\Programs\\Python\\Python39\\lib\\site-packages\\openfl\\component\\collaborator\\collaborator.py\u001b\\\u001b[2mcollaborator.py\u001b[0m\u001b]8;;\u001b\\\u001b[2m:\u001b[0m\u001b]8;id=196933;file://C:\\Users\\BHSU\\AppData\\Local\\Programs\\Python\\Python39\\lib\\site-packages\\openfl\\component\\collaborator\\collaborator.py#253\u001b\\\u001b[2m253\u001b[0m\u001b]8;;\u001b\\\n"
      ]
     },
     "metadata": {},
     "output_type": "display_data"
    },
    {
     "data": {
      "text/html": [
       "<pre style=\"white-space:pre;overflow-x:auto;line-height:normal;font-family:Menlo,'DejaVu Sans Mono',consolas,'Courier New',monospace\"><span style=\"color: #7fbfbf; text-decoration-color: #7fbfbf\">           </span><span style=\"color: #000080; text-decoration-color: #000080\">INFO    </span> Run <span style=\"color: #008080; text-decoration-color: #008080; font-weight: bold\">0</span> epoch of <span style=\"color: #008080; text-decoration-color: #008080; font-weight: bold\">1</span> round                                                                                                    <a href=\"file://C:\\Users\\BHSU\\AppData\\Local\\Programs\\Python\\Python39\\lib\\site-packages\\openfl\\federated\\task\\runner_keras.py\" target=\"_blank\"><span style=\"color: #7f7f7f; text-decoration-color: #7f7f7f\">runner_keras.py</span></a><span style=\"color: #7f7f7f; text-decoration-color: #7f7f7f\">:</span><a href=\"file://C:\\Users\\BHSU\\AppData\\Local\\Programs\\Python\\Python39\\lib\\site-packages\\openfl\\federated\\task\\runner_keras.py#83\" target=\"_blank\"><span style=\"color: #7f7f7f; text-decoration-color: #7f7f7f\">83</span></a>\n",
       "</pre>\n"
      ],
      "text/plain": [
       "\u001b[2;36m          \u001b[0m\u001b[2;36m \u001b[0m\u001b[34mINFO    \u001b[0m Run \u001b[1;36m0\u001b[0m epoch of \u001b[1;36m1\u001b[0m round                                                                                                    \u001b]8;id=21691;file://C:\\Users\\BHSU\\AppData\\Local\\Programs\\Python\\Python39\\lib\\site-packages\\openfl\\federated\\task\\runner_keras.py\u001b\\\u001b[2mrunner_keras.py\u001b[0m\u001b]8;;\u001b\\\u001b[2m:\u001b[0m\u001b]8;id=232714;file://C:\\Users\\BHSU\\AppData\\Local\\Programs\\Python\\Python39\\lib\\site-packages\\openfl\\federated\\task\\runner_keras.py#83\u001b\\\u001b[2m83\u001b[0m\u001b]8;;\u001b\\\n"
      ]
     },
     "metadata": {},
     "output_type": "display_data"
    },
    {
     "name": "stdout",
     "output_type": "stream",
     "text": [
      "657/657 [==============================] - 0s 637us/step - loss: 0.2979 - accuracy: 0.9103\n"
     ]
    },
    {
     "data": {
      "text/html": [
       "<pre style=\"white-space:pre;overflow-x:auto;line-height:normal;font-family:Menlo,'DejaVu Sans Mono',consolas,'Courier New',monospace\"><span style=\"color: #7fbfbf; text-decoration-color: #7fbfbf\">[17:02:17] </span>METRIC   Round <span style=\"color: #008080; text-decoration-color: #008080; font-weight: bold\">1</span>, collaborator one is sending metric for task train: loss        <span style=\"color: #008080; text-decoration-color: #008080; font-weight: bold\">0.297852</span>                                         <a href=\"file://C:\\Users\\BHSU\\AppData\\Local\\Programs\\Python\\Python39\\lib\\site-packages\\openfl\\component\\collaborator\\collaborator.py\" target=\"_blank\"><span style=\"color: #7f7f7f; text-decoration-color: #7f7f7f\">collaborator.py</span></a><span style=\"color: #7f7f7f; text-decoration-color: #7f7f7f\">:</span><a href=\"file://C:\\Users\\BHSU\\AppData\\Local\\Programs\\Python\\Python39\\lib\\site-packages\\openfl\\component\\collaborator\\collaborator.py#415\" target=\"_blank\"><span style=\"color: #7f7f7f; text-decoration-color: #7f7f7f\">415</span></a>\n",
       "</pre>\n"
      ],
      "text/plain": [
       "\u001b[2;36m[17:02:17]\u001b[0m\u001b[2;36m \u001b[0mMETRIC   Round \u001b[1;36m1\u001b[0m, collaborator one is sending metric for task train: loss        \u001b[1;36m0.297852\u001b[0m                                         \u001b]8;id=525205;file://C:\\Users\\BHSU\\AppData\\Local\\Programs\\Python\\Python39\\lib\\site-packages\\openfl\\component\\collaborator\\collaborator.py\u001b\\\u001b[2mcollaborator.py\u001b[0m\u001b]8;;\u001b\\\u001b[2m:\u001b[0m\u001b]8;id=153355;file://C:\\Users\\BHSU\\AppData\\Local\\Programs\\Python\\Python39\\lib\\site-packages\\openfl\\component\\collaborator\\collaborator.py#415\u001b\\\u001b[2m415\u001b[0m\u001b]8;;\u001b\\\n"
      ]
     },
     "metadata": {},
     "output_type": "display_data"
    },
    {
     "data": {
      "text/html": [
       "<pre style=\"white-space:pre;overflow-x:auto;line-height:normal;font-family:Menlo,'DejaVu Sans Mono',consolas,'Courier New',monospace\"><span style=\"color: #7fbfbf; text-decoration-color: #7fbfbf\">           </span><span style=\"color: #000080; text-decoration-color: #000080\">INFO    </span> Collaborator one is sending task results for train, round <span style=\"color: #008080; text-decoration-color: #008080; font-weight: bold\">1</span>                                                                <a href=\"file://C:\\Users\\BHSU\\AppData\\Local\\Programs\\Python\\Python39\\lib\\site-packages\\openfl\\component\\aggregator\\aggregator.py\" target=\"_blank\"><span style=\"color: #7f7f7f; text-decoration-color: #7f7f7f\">aggregator.py</span></a><span style=\"color: #7f7f7f; text-decoration-color: #7f7f7f\">:</span><a href=\"file://C:\\Users\\BHSU\\AppData\\Local\\Programs\\Python\\Python39\\lib\\site-packages\\openfl\\component\\aggregator\\aggregator.py#520\" target=\"_blank\"><span style=\"color: #7f7f7f; text-decoration-color: #7f7f7f\">520</span></a>\n",
       "</pre>\n"
      ],
      "text/plain": [
       "\u001b[2;36m          \u001b[0m\u001b[2;36m \u001b[0m\u001b[34mINFO    \u001b[0m Collaborator one is sending task results for train, round \u001b[1;36m1\u001b[0m                                                                \u001b]8;id=101834;file://C:\\Users\\BHSU\\AppData\\Local\\Programs\\Python\\Python39\\lib\\site-packages\\openfl\\component\\aggregator\\aggregator.py\u001b\\\u001b[2maggregator.py\u001b[0m\u001b]8;;\u001b\\\u001b[2m:\u001b[0m\u001b]8;id=992178;file://C:\\Users\\BHSU\\AppData\\Local\\Programs\\Python\\Python39\\lib\\site-packages\\openfl\\component\\aggregator\\aggregator.py#520\u001b\\\u001b[2m520\u001b[0m\u001b]8;;\u001b\\\n"
      ]
     },
     "metadata": {},
     "output_type": "display_data"
    },
    {
     "data": {
      "text/html": [
       "<pre style=\"white-space:pre;overflow-x:auto;line-height:normal;font-family:Menlo,'DejaVu Sans Mono',consolas,'Courier New',monospace\"><span style=\"color: #7fbfbf; text-decoration-color: #7fbfbf\">           </span>METRIC   Round <span style=\"color: #008080; text-decoration-color: #008080; font-weight: bold\">1</span>, collaborator one train result loss:    <span style=\"color: #008080; text-decoration-color: #008080; font-weight: bold\">0.297852</span>                                                                   <a href=\"file://C:\\Users\\BHSU\\AppData\\Local\\Programs\\Python\\Python39\\lib\\site-packages\\openfl\\component\\aggregator\\aggregator.py\" target=\"_blank\"><span style=\"color: #7f7f7f; text-decoration-color: #7f7f7f\">aggregator.py</span></a><span style=\"color: #7f7f7f; text-decoration-color: #7f7f7f\">:</span><a href=\"file://C:\\Users\\BHSU\\AppData\\Local\\Programs\\Python\\Python39\\lib\\site-packages\\openfl\\component\\aggregator\\aggregator.py#559\" target=\"_blank\"><span style=\"color: #7f7f7f; text-decoration-color: #7f7f7f\">559</span></a>\n",
       "</pre>\n"
      ],
      "text/plain": [
       "\u001b[2;36m          \u001b[0m\u001b[2;36m \u001b[0mMETRIC   Round \u001b[1;36m1\u001b[0m, collaborator one train result loss:    \u001b[1;36m0.297852\u001b[0m                                                                   \u001b]8;id=308943;file://C:\\Users\\BHSU\\AppData\\Local\\Programs\\Python\\Python39\\lib\\site-packages\\openfl\\component\\aggregator\\aggregator.py\u001b\\\u001b[2maggregator.py\u001b[0m\u001b]8;;\u001b\\\u001b[2m:\u001b[0m\u001b]8;id=150650;file://C:\\Users\\BHSU\\AppData\\Local\\Programs\\Python\\Python39\\lib\\site-packages\\openfl\\component\\aggregator\\aggregator.py#559\u001b\\\u001b[2m559\u001b[0m\u001b]8;;\u001b\\\n"
      ]
     },
     "metadata": {},
     "output_type": "display_data"
    },
    {
     "data": {
      "text/html": [
       "<pre style=\"white-space:pre;overflow-x:auto;line-height:normal;font-family:Menlo,'DejaVu Sans Mono',consolas,'Courier New',monospace\"><span style=\"color: #7fbfbf; text-decoration-color: #7fbfbf\">           </span><span style=\"color: #000080; text-decoration-color: #000080\">INFO    </span> Using TaskRunner subclassing API                                                                                         <a href=\"file://C:\\Users\\BHSU\\AppData\\Local\\Programs\\Python\\Python39\\lib\\site-packages\\openfl\\component\\collaborator\\collaborator.py\" target=\"_blank\"><span style=\"color: #7f7f7f; text-decoration-color: #7f7f7f\">collaborator.py</span></a><span style=\"color: #7f7f7f; text-decoration-color: #7f7f7f\">:</span><a href=\"file://C:\\Users\\BHSU\\AppData\\Local\\Programs\\Python\\Python39\\lib\\site-packages\\openfl\\component\\collaborator\\collaborator.py#253\" target=\"_blank\"><span style=\"color: #7f7f7f; text-decoration-color: #7f7f7f\">253</span></a>\n",
       "</pre>\n"
      ],
      "text/plain": [
       "\u001b[2;36m          \u001b[0m\u001b[2;36m \u001b[0m\u001b[34mINFO    \u001b[0m Using TaskRunner subclassing API                                                                                         \u001b]8;id=454343;file://C:\\Users\\BHSU\\AppData\\Local\\Programs\\Python\\Python39\\lib\\site-packages\\openfl\\component\\collaborator\\collaborator.py\u001b\\\u001b[2mcollaborator.py\u001b[0m\u001b]8;;\u001b\\\u001b[2m:\u001b[0m\u001b]8;id=874219;file://C:\\Users\\BHSU\\AppData\\Local\\Programs\\Python\\Python39\\lib\\site-packages\\openfl\\component\\collaborator\\collaborator.py#253\u001b\\\u001b[2m253\u001b[0m\u001b]8;;\u001b\\\n"
      ]
     },
     "metadata": {},
     "output_type": "display_data"
    },
    {
     "name": "stdout",
     "output_type": "stream",
     "text": [
      "282/282 [==============================] - 0s 491us/step - loss: 0.2676 - accuracy: 0.9138\n"
     ]
    },
    {
     "data": {
      "text/html": [
       "<pre style=\"white-space:pre;overflow-x:auto;line-height:normal;font-family:Menlo,'DejaVu Sans Mono',consolas,'Courier New',monospace\"><span style=\"color: #7fbfbf; text-decoration-color: #7fbfbf\">           </span>METRIC   Round <span style=\"color: #008080; text-decoration-color: #008080; font-weight: bold\">1</span>, collaborator one is sending metric for task locally_tuned_model_validation: accuracy   <span style=\"color: #008080; text-decoration-color: #008080; font-weight: bold\">0.913778</span>                 <a href=\"file://C:\\Users\\BHSU\\AppData\\Local\\Programs\\Python\\Python39\\lib\\site-packages\\openfl\\component\\collaborator\\collaborator.py\" target=\"_blank\"><span style=\"color: #7f7f7f; text-decoration-color: #7f7f7f\">collaborator.py</span></a><span style=\"color: #7f7f7f; text-decoration-color: #7f7f7f\">:</span><a href=\"file://C:\\Users\\BHSU\\AppData\\Local\\Programs\\Python\\Python39\\lib\\site-packages\\openfl\\component\\collaborator\\collaborator.py#415\" target=\"_blank\"><span style=\"color: #7f7f7f; text-decoration-color: #7f7f7f\">415</span></a>\n",
       "</pre>\n"
      ],
      "text/plain": [
       "\u001b[2;36m          \u001b[0m\u001b[2;36m \u001b[0mMETRIC   Round \u001b[1;36m1\u001b[0m, collaborator one is sending metric for task locally_tuned_model_validation: accuracy   \u001b[1;36m0.913778\u001b[0m                 \u001b]8;id=751131;file://C:\\Users\\BHSU\\AppData\\Local\\Programs\\Python\\Python39\\lib\\site-packages\\openfl\\component\\collaborator\\collaborator.py\u001b\\\u001b[2mcollaborator.py\u001b[0m\u001b]8;;\u001b\\\u001b[2m:\u001b[0m\u001b]8;id=835691;file://C:\\Users\\BHSU\\AppData\\Local\\Programs\\Python\\Python39\\lib\\site-packages\\openfl\\component\\collaborator\\collaborator.py#415\u001b\\\u001b[2m415\u001b[0m\u001b]8;;\u001b\\\n"
      ]
     },
     "metadata": {},
     "output_type": "display_data"
    },
    {
     "data": {
      "text/html": [
       "<pre style=\"white-space:pre;overflow-x:auto;line-height:normal;font-family:Menlo,'DejaVu Sans Mono',consolas,'Courier New',monospace\"><span style=\"color: #7fbfbf; text-decoration-color: #7fbfbf\">           </span><span style=\"color: #000080; text-decoration-color: #000080\">INFO    </span> Collaborator one is sending task results for locally_tuned_model_validation, round <span style=\"color: #008080; text-decoration-color: #008080; font-weight: bold\">1</span>                                       <a href=\"file://C:\\Users\\BHSU\\AppData\\Local\\Programs\\Python\\Python39\\lib\\site-packages\\openfl\\component\\aggregator\\aggregator.py\" target=\"_blank\"><span style=\"color: #7f7f7f; text-decoration-color: #7f7f7f\">aggregator.py</span></a><span style=\"color: #7f7f7f; text-decoration-color: #7f7f7f\">:</span><a href=\"file://C:\\Users\\BHSU\\AppData\\Local\\Programs\\Python\\Python39\\lib\\site-packages\\openfl\\component\\aggregator\\aggregator.py#520\" target=\"_blank\"><span style=\"color: #7f7f7f; text-decoration-color: #7f7f7f\">520</span></a>\n",
       "</pre>\n"
      ],
      "text/plain": [
       "\u001b[2;36m          \u001b[0m\u001b[2;36m \u001b[0m\u001b[34mINFO    \u001b[0m Collaborator one is sending task results for locally_tuned_model_validation, round \u001b[1;36m1\u001b[0m                                       \u001b]8;id=970217;file://C:\\Users\\BHSU\\AppData\\Local\\Programs\\Python\\Python39\\lib\\site-packages\\openfl\\component\\aggregator\\aggregator.py\u001b\\\u001b[2maggregator.py\u001b[0m\u001b]8;;\u001b\\\u001b[2m:\u001b[0m\u001b]8;id=256627;file://C:\\Users\\BHSU\\AppData\\Local\\Programs\\Python\\Python39\\lib\\site-packages\\openfl\\component\\aggregator\\aggregator.py#520\u001b\\\u001b[2m520\u001b[0m\u001b]8;;\u001b\\\n"
      ]
     },
     "metadata": {},
     "output_type": "display_data"
    },
    {
     "data": {
      "text/html": [
       "<pre style=\"white-space:pre;overflow-x:auto;line-height:normal;font-family:Menlo,'DejaVu Sans Mono',consolas,'Courier New',monospace\"><span style=\"color: #7fbfbf; text-decoration-color: #7fbfbf\">           </span>METRIC   Round <span style=\"color: #008080; text-decoration-color: #008080; font-weight: bold\">1</span>, collaborator validate_local locally_tuned_model_validation result accuracy:    <span style=\"color: #008080; text-decoration-color: #008080; font-weight: bold\">0.913778</span>                           <a href=\"file://C:\\Users\\BHSU\\AppData\\Local\\Programs\\Python\\Python39\\lib\\site-packages\\openfl\\component\\aggregator\\aggregator.py\" target=\"_blank\"><span style=\"color: #7f7f7f; text-decoration-color: #7f7f7f\">aggregator.py</span></a><span style=\"color: #7f7f7f; text-decoration-color: #7f7f7f\">:</span><a href=\"file://C:\\Users\\BHSU\\AppData\\Local\\Programs\\Python\\Python39\\lib\\site-packages\\openfl\\component\\aggregator\\aggregator.py#559\" target=\"_blank\"><span style=\"color: #7f7f7f; text-decoration-color: #7f7f7f\">559</span></a>\n",
       "</pre>\n"
      ],
      "text/plain": [
       "\u001b[2;36m          \u001b[0m\u001b[2;36m \u001b[0mMETRIC   Round \u001b[1;36m1\u001b[0m, collaborator validate_local locally_tuned_model_validation result accuracy:    \u001b[1;36m0.913778\u001b[0m                           \u001b]8;id=473957;file://C:\\Users\\BHSU\\AppData\\Local\\Programs\\Python\\Python39\\lib\\site-packages\\openfl\\component\\aggregator\\aggregator.py\u001b\\\u001b[2maggregator.py\u001b[0m\u001b]8;;\u001b\\\u001b[2m:\u001b[0m\u001b]8;id=217787;file://C:\\Users\\BHSU\\AppData\\Local\\Programs\\Python\\Python39\\lib\\site-packages\\openfl\\component\\aggregator\\aggregator.py#559\u001b\\\u001b[2m559\u001b[0m\u001b]8;;\u001b\\\n"
      ]
     },
     "metadata": {},
     "output_type": "display_data"
    },
    {
     "data": {
      "text/html": [
       "<pre style=\"white-space:pre;overflow-x:auto;line-height:normal;font-family:Menlo,'DejaVu Sans Mono',consolas,'Courier New',monospace\"><span style=\"color: #7fbfbf; text-decoration-color: #7fbfbf\">           </span><span style=\"color: #000080; text-decoration-color: #000080\">INFO    </span> All tasks completed on one for round <span style=\"color: #008080; text-decoration-color: #008080; font-weight: bold\">1</span><span style=\"color: #808000; text-decoration-color: #808000\">...</span>                                                                                <a href=\"file://C:\\Users\\BHSU\\AppData\\Local\\Programs\\Python\\Python39\\lib\\site-packages\\openfl\\component\\collaborator\\collaborator.py\" target=\"_blank\"><span style=\"color: #7f7f7f; text-decoration-color: #7f7f7f\">collaborator.py</span></a><span style=\"color: #7f7f7f; text-decoration-color: #7f7f7f\">:</span><a href=\"file://C:\\Users\\BHSU\\AppData\\Local\\Programs\\Python\\Python39\\lib\\site-packages\\openfl\\component\\collaborator\\collaborator.py#171\" target=\"_blank\"><span style=\"color: #7f7f7f; text-decoration-color: #7f7f7f\">171</span></a>\n",
       "</pre>\n"
      ],
      "text/plain": [
       "\u001b[2;36m          \u001b[0m\u001b[2;36m \u001b[0m\u001b[34mINFO    \u001b[0m All tasks completed on one for round \u001b[1;36m1\u001b[0m\u001b[33m...\u001b[0m                                                                                \u001b]8;id=476024;file://C:\\Users\\BHSU\\AppData\\Local\\Programs\\Python\\Python39\\lib\\site-packages\\openfl\\component\\collaborator\\collaborator.py\u001b\\\u001b[2mcollaborator.py\u001b[0m\u001b]8;;\u001b\\\u001b[2m:\u001b[0m\u001b]8;id=441918;file://C:\\Users\\BHSU\\AppData\\Local\\Programs\\Python\\Python39\\lib\\site-packages\\openfl\\component\\collaborator\\collaborator.py#171\u001b\\\u001b[2m171\u001b[0m\u001b]8;;\u001b\\\n"
      ]
     },
     "metadata": {},
     "output_type": "display_data"
    },
    {
     "data": {
      "text/html": [
       "<pre style=\"white-space:pre;overflow-x:auto;line-height:normal;font-family:Menlo,'DejaVu Sans Mono',consolas,'Courier New',monospace\"><span style=\"color: #7fbfbf; text-decoration-color: #7fbfbf\">           </span><span style=\"color: #000080; text-decoration-color: #000080\">INFO    </span> Waiting for tasks<span style=\"color: #808000; text-decoration-color: #808000\">...</span>                                                                                                     <a href=\"file://C:\\Users\\BHSU\\AppData\\Local\\Programs\\Python\\Python39\\lib\\site-packages\\openfl\\component\\collaborator\\collaborator.py\" target=\"_blank\"><span style=\"color: #7f7f7f; text-decoration-color: #7f7f7f\">collaborator.py</span></a><span style=\"color: #7f7f7f; text-decoration-color: #7f7f7f\">:</span><a href=\"file://C:\\Users\\BHSU\\AppData\\Local\\Programs\\Python\\Python39\\lib\\site-packages\\openfl\\component\\collaborator\\collaborator.py#178\" target=\"_blank\"><span style=\"color: #7f7f7f; text-decoration-color: #7f7f7f\">178</span></a>\n",
       "</pre>\n"
      ],
      "text/plain": [
       "\u001b[2;36m          \u001b[0m\u001b[2;36m \u001b[0m\u001b[34mINFO    \u001b[0m Waiting for tasks\u001b[33m...\u001b[0m                                                                                                     \u001b]8;id=45415;file://C:\\Users\\BHSU\\AppData\\Local\\Programs\\Python\\Python39\\lib\\site-packages\\openfl\\component\\collaborator\\collaborator.py\u001b\\\u001b[2mcollaborator.py\u001b[0m\u001b]8;;\u001b\\\u001b[2m:\u001b[0m\u001b]8;id=748213;file://C:\\Users\\BHSU\\AppData\\Local\\Programs\\Python\\Python39\\lib\\site-packages\\openfl\\component\\collaborator\\collaborator.py#178\u001b\\\u001b[2m178\u001b[0m\u001b]8;;\u001b\\\n"
      ]
     },
     "metadata": {},
     "output_type": "display_data"
    },
    {
     "data": {
      "text/html": [
       "<pre style=\"white-space:pre;overflow-x:auto;line-height:normal;font-family:Menlo,'DejaVu Sans Mono',consolas,'Courier New',monospace\"><span style=\"color: #7fbfbf; text-decoration-color: #7fbfbf\">           </span><span style=\"color: #000080; text-decoration-color: #000080\">INFO    </span> Sending tasks to collaborator two for round <span style=\"color: #008080; text-decoration-color: #008080; font-weight: bold\">1</span>                                                                              <a href=\"file://C:\\Users\\BHSU\\AppData\\Local\\Programs\\Python\\Python39\\lib\\site-packages\\openfl\\component\\aggregator\\aggregator.py\" target=\"_blank\"><span style=\"color: #7f7f7f; text-decoration-color: #7f7f7f\">aggregator.py</span></a><span style=\"color: #7f7f7f; text-decoration-color: #7f7f7f\">:</span><a href=\"file://C:\\Users\\BHSU\\AppData\\Local\\Programs\\Python\\Python39\\lib\\site-packages\\openfl\\component\\aggregator\\aggregator.py#329\" target=\"_blank\"><span style=\"color: #7f7f7f; text-decoration-color: #7f7f7f\">329</span></a>\n",
       "</pre>\n"
      ],
      "text/plain": [
       "\u001b[2;36m          \u001b[0m\u001b[2;36m \u001b[0m\u001b[34mINFO    \u001b[0m Sending tasks to collaborator two for round \u001b[1;36m1\u001b[0m                                                                              \u001b]8;id=734546;file://C:\\Users\\BHSU\\AppData\\Local\\Programs\\Python\\Python39\\lib\\site-packages\\openfl\\component\\aggregator\\aggregator.py\u001b\\\u001b[2maggregator.py\u001b[0m\u001b]8;;\u001b\\\u001b[2m:\u001b[0m\u001b]8;id=623679;file://C:\\Users\\BHSU\\AppData\\Local\\Programs\\Python\\Python39\\lib\\site-packages\\openfl\\component\\aggregator\\aggregator.py#329\u001b\\\u001b[2m329\u001b[0m\u001b]8;;\u001b\\\n"
      ]
     },
     "metadata": {},
     "output_type": "display_data"
    },
    {
     "data": {
      "text/html": [
       "<pre style=\"white-space:pre;overflow-x:auto;line-height:normal;font-family:Menlo,'DejaVu Sans Mono',consolas,'Courier New',monospace\"><span style=\"color: #7fbfbf; text-decoration-color: #7fbfbf\">           </span><span style=\"color: #000080; text-decoration-color: #000080\">INFO    </span> Received the following tasks: <span style=\"font-weight: bold\">[</span><span style=\"color: #008000; text-decoration-color: #008000\">'aggregated_model_validation'</span>, <span style=\"color: #008000; text-decoration-color: #008000\">'train'</span>, <span style=\"color: #008000; text-decoration-color: #008000\">'locally_tuned_model_validation'</span><span style=\"font-weight: bold\">]</span>                 <a href=\"file://C:\\Users\\BHSU\\AppData\\Local\\Programs\\Python\\Python39\\lib\\site-packages\\openfl\\component\\collaborator\\collaborator.py\" target=\"_blank\"><span style=\"color: #7f7f7f; text-decoration-color: #7f7f7f\">collaborator.py</span></a><span style=\"color: #7f7f7f; text-decoration-color: #7f7f7f\">:</span><a href=\"file://C:\\Users\\BHSU\\AppData\\Local\\Programs\\Python\\Python39\\lib\\site-packages\\openfl\\component\\collaborator\\collaborator.py#168\" target=\"_blank\"><span style=\"color: #7f7f7f; text-decoration-color: #7f7f7f\">168</span></a>\n",
       "</pre>\n"
      ],
      "text/plain": [
       "\u001b[2;36m          \u001b[0m\u001b[2;36m \u001b[0m\u001b[34mINFO    \u001b[0m Received the following tasks: \u001b[1m[\u001b[0m\u001b[32m'aggregated_model_validation'\u001b[0m, \u001b[32m'train'\u001b[0m, \u001b[32m'locally_tuned_model_validation'\u001b[0m\u001b[1m]\u001b[0m                 \u001b]8;id=472254;file://C:\\Users\\BHSU\\AppData\\Local\\Programs\\Python\\Python39\\lib\\site-packages\\openfl\\component\\collaborator\\collaborator.py\u001b\\\u001b[2mcollaborator.py\u001b[0m\u001b]8;;\u001b\\\u001b[2m:\u001b[0m\u001b]8;id=803070;file://C:\\Users\\BHSU\\AppData\\Local\\Programs\\Python\\Python39\\lib\\site-packages\\openfl\\component\\collaborator\\collaborator.py#168\u001b\\\u001b[2m168\u001b[0m\u001b]8;;\u001b\\\n"
      ]
     },
     "metadata": {},
     "output_type": "display_data"
    },
    {
     "data": {
      "text/html": [
       "<pre style=\"white-space:pre;overflow-x:auto;line-height:normal;font-family:Menlo,'DejaVu Sans Mono',consolas,'Courier New',monospace\"><span style=\"color: #7fbfbf; text-decoration-color: #7fbfbf\">           </span><span style=\"color: #000080; text-decoration-color: #000080\">INFO    </span> Using TaskRunner subclassing API                                                                                         <a href=\"file://C:\\Users\\BHSU\\AppData\\Local\\Programs\\Python\\Python39\\lib\\site-packages\\openfl\\component\\collaborator\\collaborator.py\" target=\"_blank\"><span style=\"color: #7f7f7f; text-decoration-color: #7f7f7f\">collaborator.py</span></a><span style=\"color: #7f7f7f; text-decoration-color: #7f7f7f\">:</span><a href=\"file://C:\\Users\\BHSU\\AppData\\Local\\Programs\\Python\\Python39\\lib\\site-packages\\openfl\\component\\collaborator\\collaborator.py#253\" target=\"_blank\"><span style=\"color: #7f7f7f; text-decoration-color: #7f7f7f\">253</span></a>\n",
       "</pre>\n"
      ],
      "text/plain": [
       "\u001b[2;36m          \u001b[0m\u001b[2;36m \u001b[0m\u001b[34mINFO    \u001b[0m Using TaskRunner subclassing API                                                                                         \u001b]8;id=113180;file://C:\\Users\\BHSU\\AppData\\Local\\Programs\\Python\\Python39\\lib\\site-packages\\openfl\\component\\collaborator\\collaborator.py\u001b\\\u001b[2mcollaborator.py\u001b[0m\u001b]8;;\u001b\\\u001b[2m:\u001b[0m\u001b]8;id=146367;file://C:\\Users\\BHSU\\AppData\\Local\\Programs\\Python\\Python39\\lib\\site-packages\\openfl\\component\\collaborator\\collaborator.py#253\u001b\\\u001b[2m253\u001b[0m\u001b]8;;\u001b\\\n"
      ]
     },
     "metadata": {},
     "output_type": "display_data"
    },
    {
     "name": "stdout",
     "output_type": "stream",
     "text": [
      "282/282 [==============================] - 0s 498us/step - loss: 0.3785 - accuracy: 0.8933\n"
     ]
    },
    {
     "data": {
      "text/html": [
       "<pre style=\"white-space:pre;overflow-x:auto;line-height:normal;font-family:Menlo,'DejaVu Sans Mono',consolas,'Courier New',monospace\"><span style=\"color: #7fbfbf; text-decoration-color: #7fbfbf\">           </span>METRIC   Round <span style=\"color: #008080; text-decoration-color: #008080; font-weight: bold\">1</span>, collaborator two is sending metric for task aggregated_model_validation: accuracy      <span style=\"color: #008080; text-decoration-color: #008080; font-weight: bold\">0.893333</span>                 <a href=\"file://C:\\Users\\BHSU\\AppData\\Local\\Programs\\Python\\Python39\\lib\\site-packages\\openfl\\component\\collaborator\\collaborator.py\" target=\"_blank\"><span style=\"color: #7f7f7f; text-decoration-color: #7f7f7f\">collaborator.py</span></a><span style=\"color: #7f7f7f; text-decoration-color: #7f7f7f\">:</span><a href=\"file://C:\\Users\\BHSU\\AppData\\Local\\Programs\\Python\\Python39\\lib\\site-packages\\openfl\\component\\collaborator\\collaborator.py#415\" target=\"_blank\"><span style=\"color: #7f7f7f; text-decoration-color: #7f7f7f\">415</span></a>\n",
       "</pre>\n"
      ],
      "text/plain": [
       "\u001b[2;36m          \u001b[0m\u001b[2;36m \u001b[0mMETRIC   Round \u001b[1;36m1\u001b[0m, collaborator two is sending metric for task aggregated_model_validation: accuracy      \u001b[1;36m0.893333\u001b[0m                 \u001b]8;id=100286;file://C:\\Users\\BHSU\\AppData\\Local\\Programs\\Python\\Python39\\lib\\site-packages\\openfl\\component\\collaborator\\collaborator.py\u001b\\\u001b[2mcollaborator.py\u001b[0m\u001b]8;;\u001b\\\u001b[2m:\u001b[0m\u001b]8;id=651686;file://C:\\Users\\BHSU\\AppData\\Local\\Programs\\Python\\Python39\\lib\\site-packages\\openfl\\component\\collaborator\\collaborator.py#415\u001b\\\u001b[2m415\u001b[0m\u001b]8;;\u001b\\\n"
      ]
     },
     "metadata": {},
     "output_type": "display_data"
    },
    {
     "data": {
      "text/html": [
       "<pre style=\"white-space:pre;overflow-x:auto;line-height:normal;font-family:Menlo,'DejaVu Sans Mono',consolas,'Courier New',monospace\"><span style=\"color: #7fbfbf; text-decoration-color: #7fbfbf\">           </span><span style=\"color: #000080; text-decoration-color: #000080\">INFO    </span> Collaborator two is sending task results for aggregated_model_validation, round <span style=\"color: #008080; text-decoration-color: #008080; font-weight: bold\">1</span>                                          <a href=\"file://C:\\Users\\BHSU\\AppData\\Local\\Programs\\Python\\Python39\\lib\\site-packages\\openfl\\component\\aggregator\\aggregator.py\" target=\"_blank\"><span style=\"color: #7f7f7f; text-decoration-color: #7f7f7f\">aggregator.py</span></a><span style=\"color: #7f7f7f; text-decoration-color: #7f7f7f\">:</span><a href=\"file://C:\\Users\\BHSU\\AppData\\Local\\Programs\\Python\\Python39\\lib\\site-packages\\openfl\\component\\aggregator\\aggregator.py#520\" target=\"_blank\"><span style=\"color: #7f7f7f; text-decoration-color: #7f7f7f\">520</span></a>\n",
       "</pre>\n"
      ],
      "text/plain": [
       "\u001b[2;36m          \u001b[0m\u001b[2;36m \u001b[0m\u001b[34mINFO    \u001b[0m Collaborator two is sending task results for aggregated_model_validation, round \u001b[1;36m1\u001b[0m                                          \u001b]8;id=67134;file://C:\\Users\\BHSU\\AppData\\Local\\Programs\\Python\\Python39\\lib\\site-packages\\openfl\\component\\aggregator\\aggregator.py\u001b\\\u001b[2maggregator.py\u001b[0m\u001b]8;;\u001b\\\u001b[2m:\u001b[0m\u001b]8;id=600679;file://C:\\Users\\BHSU\\AppData\\Local\\Programs\\Python\\Python39\\lib\\site-packages\\openfl\\component\\aggregator\\aggregator.py#520\u001b\\\u001b[2m520\u001b[0m\u001b]8;;\u001b\\\n"
      ]
     },
     "metadata": {},
     "output_type": "display_data"
    },
    {
     "data": {
      "text/html": [
       "<pre style=\"white-space:pre;overflow-x:auto;line-height:normal;font-family:Menlo,'DejaVu Sans Mono',consolas,'Courier New',monospace\"><span style=\"color: #7fbfbf; text-decoration-color: #7fbfbf\">           </span>METRIC   Round <span style=\"color: #008080; text-decoration-color: #008080; font-weight: bold\">1</span>, collaborator validate_agg aggregated_model_validation result accuracy: <span style=\"color: #008080; text-decoration-color: #008080; font-weight: bold\">0.893333</span>                                   <a href=\"file://C:\\Users\\BHSU\\AppData\\Local\\Programs\\Python\\Python39\\lib\\site-packages\\openfl\\component\\aggregator\\aggregator.py\" target=\"_blank\"><span style=\"color: #7f7f7f; text-decoration-color: #7f7f7f\">aggregator.py</span></a><span style=\"color: #7f7f7f; text-decoration-color: #7f7f7f\">:</span><a href=\"file://C:\\Users\\BHSU\\AppData\\Local\\Programs\\Python\\Python39\\lib\\site-packages\\openfl\\component\\aggregator\\aggregator.py#559\" target=\"_blank\"><span style=\"color: #7f7f7f; text-decoration-color: #7f7f7f\">559</span></a>\n",
       "</pre>\n"
      ],
      "text/plain": [
       "\u001b[2;36m          \u001b[0m\u001b[2;36m \u001b[0mMETRIC   Round \u001b[1;36m1\u001b[0m, collaborator validate_agg aggregated_model_validation result accuracy: \u001b[1;36m0.893333\u001b[0m                                   \u001b]8;id=932154;file://C:\\Users\\BHSU\\AppData\\Local\\Programs\\Python\\Python39\\lib\\site-packages\\openfl\\component\\aggregator\\aggregator.py\u001b\\\u001b[2maggregator.py\u001b[0m\u001b]8;;\u001b\\\u001b[2m:\u001b[0m\u001b]8;id=816023;file://C:\\Users\\BHSU\\AppData\\Local\\Programs\\Python\\Python39\\lib\\site-packages\\openfl\\component\\aggregator\\aggregator.py#559\u001b\\\u001b[2m559\u001b[0m\u001b]8;;\u001b\\\n"
      ]
     },
     "metadata": {},
     "output_type": "display_data"
    },
    {
     "data": {
      "text/html": [
       "<pre style=\"white-space:pre;overflow-x:auto;line-height:normal;font-family:Menlo,'DejaVu Sans Mono',consolas,'Courier New',monospace\"><span style=\"color: #7fbfbf; text-decoration-color: #7fbfbf\">           </span><span style=\"color: #000080; text-decoration-color: #000080\">INFO    </span> Using TaskRunner subclassing API                                                                                         <a href=\"file://C:\\Users\\BHSU\\AppData\\Local\\Programs\\Python\\Python39\\lib\\site-packages\\openfl\\component\\collaborator\\collaborator.py\" target=\"_blank\"><span style=\"color: #7f7f7f; text-decoration-color: #7f7f7f\">collaborator.py</span></a><span style=\"color: #7f7f7f; text-decoration-color: #7f7f7f\">:</span><a href=\"file://C:\\Users\\BHSU\\AppData\\Local\\Programs\\Python\\Python39\\lib\\site-packages\\openfl\\component\\collaborator\\collaborator.py#253\" target=\"_blank\"><span style=\"color: #7f7f7f; text-decoration-color: #7f7f7f\">253</span></a>\n",
       "</pre>\n"
      ],
      "text/plain": [
       "\u001b[2;36m          \u001b[0m\u001b[2;36m \u001b[0m\u001b[34mINFO    \u001b[0m Using TaskRunner subclassing API                                                                                         \u001b]8;id=929005;file://C:\\Users\\BHSU\\AppData\\Local\\Programs\\Python\\Python39\\lib\\site-packages\\openfl\\component\\collaborator\\collaborator.py\u001b\\\u001b[2mcollaborator.py\u001b[0m\u001b]8;;\u001b\\\u001b[2m:\u001b[0m\u001b]8;id=2954;file://C:\\Users\\BHSU\\AppData\\Local\\Programs\\Python\\Python39\\lib\\site-packages\\openfl\\component\\collaborator\\collaborator.py#253\u001b\\\u001b[2m253\u001b[0m\u001b]8;;\u001b\\\n"
      ]
     },
     "metadata": {},
     "output_type": "display_data"
    },
    {
     "data": {
      "text/html": [
       "<pre style=\"white-space:pre;overflow-x:auto;line-height:normal;font-family:Menlo,'DejaVu Sans Mono',consolas,'Courier New',monospace\"><span style=\"color: #7fbfbf; text-decoration-color: #7fbfbf\">           </span><span style=\"color: #000080; text-decoration-color: #000080\">INFO    </span> Run <span style=\"color: #008080; text-decoration-color: #008080; font-weight: bold\">0</span> epoch of <span style=\"color: #008080; text-decoration-color: #008080; font-weight: bold\">1</span> round                                                                                                    <a href=\"file://C:\\Users\\BHSU\\AppData\\Local\\Programs\\Python\\Python39\\lib\\site-packages\\openfl\\federated\\task\\runner_keras.py\" target=\"_blank\"><span style=\"color: #7f7f7f; text-decoration-color: #7f7f7f\">runner_keras.py</span></a><span style=\"color: #7f7f7f; text-decoration-color: #7f7f7f\">:</span><a href=\"file://C:\\Users\\BHSU\\AppData\\Local\\Programs\\Python\\Python39\\lib\\site-packages\\openfl\\federated\\task\\runner_keras.py#83\" target=\"_blank\"><span style=\"color: #7f7f7f; text-decoration-color: #7f7f7f\">83</span></a>\n",
       "</pre>\n"
      ],
      "text/plain": [
       "\u001b[2;36m          \u001b[0m\u001b[2;36m \u001b[0m\u001b[34mINFO    \u001b[0m Run \u001b[1;36m0\u001b[0m epoch of \u001b[1;36m1\u001b[0m round                                                                                                    \u001b]8;id=685613;file://C:\\Users\\BHSU\\AppData\\Local\\Programs\\Python\\Python39\\lib\\site-packages\\openfl\\federated\\task\\runner_keras.py\u001b\\\u001b[2mrunner_keras.py\u001b[0m\u001b]8;;\u001b\\\u001b[2m:\u001b[0m\u001b]8;id=161911;file://C:\\Users\\BHSU\\AppData\\Local\\Programs\\Python\\Python39\\lib\\site-packages\\openfl\\federated\\task\\runner_keras.py#83\u001b\\\u001b[2m83\u001b[0m\u001b]8;;\u001b\\\n"
      ]
     },
     "metadata": {},
     "output_type": "display_data"
    },
    {
     "name": "stdout",
     "output_type": "stream",
     "text": [
      "657/657 [==============================] - 0s 608us/step - loss: 0.2919 - accuracy: 0.9104\n"
     ]
    },
    {
     "data": {
      "text/html": [
       "<pre style=\"white-space:pre;overflow-x:auto;line-height:normal;font-family:Menlo,'DejaVu Sans Mono',consolas,'Courier New',monospace\"><span style=\"color: #7fbfbf; text-decoration-color: #7fbfbf\">           </span>METRIC   Round <span style=\"color: #008080; text-decoration-color: #008080; font-weight: bold\">1</span>, collaborator two is sending metric for task train: loss        <span style=\"color: #008080; text-decoration-color: #008080; font-weight: bold\">0.291933</span>                                         <a href=\"file://C:\\Users\\BHSU\\AppData\\Local\\Programs\\Python\\Python39\\lib\\site-packages\\openfl\\component\\collaborator\\collaborator.py\" target=\"_blank\"><span style=\"color: #7f7f7f; text-decoration-color: #7f7f7f\">collaborator.py</span></a><span style=\"color: #7f7f7f; text-decoration-color: #7f7f7f\">:</span><a href=\"file://C:\\Users\\BHSU\\AppData\\Local\\Programs\\Python\\Python39\\lib\\site-packages\\openfl\\component\\collaborator\\collaborator.py#415\" target=\"_blank\"><span style=\"color: #7f7f7f; text-decoration-color: #7f7f7f\">415</span></a>\n",
       "</pre>\n"
      ],
      "text/plain": [
       "\u001b[2;36m          \u001b[0m\u001b[2;36m \u001b[0mMETRIC   Round \u001b[1;36m1\u001b[0m, collaborator two is sending metric for task train: loss        \u001b[1;36m0.291933\u001b[0m                                         \u001b]8;id=345704;file://C:\\Users\\BHSU\\AppData\\Local\\Programs\\Python\\Python39\\lib\\site-packages\\openfl\\component\\collaborator\\collaborator.py\u001b\\\u001b[2mcollaborator.py\u001b[0m\u001b]8;;\u001b\\\u001b[2m:\u001b[0m\u001b]8;id=488144;file://C:\\Users\\BHSU\\AppData\\Local\\Programs\\Python\\Python39\\lib\\site-packages\\openfl\\component\\collaborator\\collaborator.py#415\u001b\\\u001b[2m415\u001b[0m\u001b]8;;\u001b\\\n"
      ]
     },
     "metadata": {},
     "output_type": "display_data"
    },
    {
     "data": {
      "text/html": [
       "<pre style=\"white-space:pre;overflow-x:auto;line-height:normal;font-family:Menlo,'DejaVu Sans Mono',consolas,'Courier New',monospace\"><span style=\"color: #7fbfbf; text-decoration-color: #7fbfbf\">           </span><span style=\"color: #000080; text-decoration-color: #000080\">INFO    </span> Collaborator two is sending task results for train, round <span style=\"color: #008080; text-decoration-color: #008080; font-weight: bold\">1</span>                                                                <a href=\"file://C:\\Users\\BHSU\\AppData\\Local\\Programs\\Python\\Python39\\lib\\site-packages\\openfl\\component\\aggregator\\aggregator.py\" target=\"_blank\"><span style=\"color: #7f7f7f; text-decoration-color: #7f7f7f\">aggregator.py</span></a><span style=\"color: #7f7f7f; text-decoration-color: #7f7f7f\">:</span><a href=\"file://C:\\Users\\BHSU\\AppData\\Local\\Programs\\Python\\Python39\\lib\\site-packages\\openfl\\component\\aggregator\\aggregator.py#520\" target=\"_blank\"><span style=\"color: #7f7f7f; text-decoration-color: #7f7f7f\">520</span></a>\n",
       "</pre>\n"
      ],
      "text/plain": [
       "\u001b[2;36m          \u001b[0m\u001b[2;36m \u001b[0m\u001b[34mINFO    \u001b[0m Collaborator two is sending task results for train, round \u001b[1;36m1\u001b[0m                                                                \u001b]8;id=146406;file://C:\\Users\\BHSU\\AppData\\Local\\Programs\\Python\\Python39\\lib\\site-packages\\openfl\\component\\aggregator\\aggregator.py\u001b\\\u001b[2maggregator.py\u001b[0m\u001b]8;;\u001b\\\u001b[2m:\u001b[0m\u001b]8;id=267716;file://C:\\Users\\BHSU\\AppData\\Local\\Programs\\Python\\Python39\\lib\\site-packages\\openfl\\component\\aggregator\\aggregator.py#520\u001b\\\u001b[2m520\u001b[0m\u001b]8;;\u001b\\\n"
      ]
     },
     "metadata": {},
     "output_type": "display_data"
    },
    {
     "data": {
      "text/html": [
       "<pre style=\"white-space:pre;overflow-x:auto;line-height:normal;font-family:Menlo,'DejaVu Sans Mono',consolas,'Courier New',monospace\"><span style=\"color: #7fbfbf; text-decoration-color: #7fbfbf\">           </span>METRIC   Round <span style=\"color: #008080; text-decoration-color: #008080; font-weight: bold\">1</span>, collaborator two train result loss:    <span style=\"color: #008080; text-decoration-color: #008080; font-weight: bold\">0.291933</span>                                                                   <a href=\"file://C:\\Users\\BHSU\\AppData\\Local\\Programs\\Python\\Python39\\lib\\site-packages\\openfl\\component\\aggregator\\aggregator.py\" target=\"_blank\"><span style=\"color: #7f7f7f; text-decoration-color: #7f7f7f\">aggregator.py</span></a><span style=\"color: #7f7f7f; text-decoration-color: #7f7f7f\">:</span><a href=\"file://C:\\Users\\BHSU\\AppData\\Local\\Programs\\Python\\Python39\\lib\\site-packages\\openfl\\component\\aggregator\\aggregator.py#559\" target=\"_blank\"><span style=\"color: #7f7f7f; text-decoration-color: #7f7f7f\">559</span></a>\n",
       "</pre>\n"
      ],
      "text/plain": [
       "\u001b[2;36m          \u001b[0m\u001b[2;36m \u001b[0mMETRIC   Round \u001b[1;36m1\u001b[0m, collaborator two train result loss:    \u001b[1;36m0.291933\u001b[0m                                                                   \u001b]8;id=988551;file://C:\\Users\\BHSU\\AppData\\Local\\Programs\\Python\\Python39\\lib\\site-packages\\openfl\\component\\aggregator\\aggregator.py\u001b\\\u001b[2maggregator.py\u001b[0m\u001b]8;;\u001b\\\u001b[2m:\u001b[0m\u001b]8;id=428183;file://C:\\Users\\BHSU\\AppData\\Local\\Programs\\Python\\Python39\\lib\\site-packages\\openfl\\component\\aggregator\\aggregator.py#559\u001b\\\u001b[2m559\u001b[0m\u001b]8;;\u001b\\\n"
      ]
     },
     "metadata": {},
     "output_type": "display_data"
    },
    {
     "data": {
      "text/html": [
       "<pre style=\"white-space:pre;overflow-x:auto;line-height:normal;font-family:Menlo,'DejaVu Sans Mono',consolas,'Courier New',monospace\"><span style=\"color: #7fbfbf; text-decoration-color: #7fbfbf\">           </span><span style=\"color: #000080; text-decoration-color: #000080\">INFO    </span> Using TaskRunner subclassing API                                                                                         <a href=\"file://C:\\Users\\BHSU\\AppData\\Local\\Programs\\Python\\Python39\\lib\\site-packages\\openfl\\component\\collaborator\\collaborator.py\" target=\"_blank\"><span style=\"color: #7f7f7f; text-decoration-color: #7f7f7f\">collaborator.py</span></a><span style=\"color: #7f7f7f; text-decoration-color: #7f7f7f\">:</span><a href=\"file://C:\\Users\\BHSU\\AppData\\Local\\Programs\\Python\\Python39\\lib\\site-packages\\openfl\\component\\collaborator\\collaborator.py#253\" target=\"_blank\"><span style=\"color: #7f7f7f; text-decoration-color: #7f7f7f\">253</span></a>\n",
       "</pre>\n"
      ],
      "text/plain": [
       "\u001b[2;36m          \u001b[0m\u001b[2;36m \u001b[0m\u001b[34mINFO    \u001b[0m Using TaskRunner subclassing API                                                                                         \u001b]8;id=800958;file://C:\\Users\\BHSU\\AppData\\Local\\Programs\\Python\\Python39\\lib\\site-packages\\openfl\\component\\collaborator\\collaborator.py\u001b\\\u001b[2mcollaborator.py\u001b[0m\u001b]8;;\u001b\\\u001b[2m:\u001b[0m\u001b]8;id=190027;file://C:\\Users\\BHSU\\AppData\\Local\\Programs\\Python\\Python39\\lib\\site-packages\\openfl\\component\\collaborator\\collaborator.py#253\u001b\\\u001b[2m253\u001b[0m\u001b]8;;\u001b\\\n"
      ]
     },
     "metadata": {},
     "output_type": "display_data"
    },
    {
     "name": "stdout",
     "output_type": "stream",
     "text": [
      "282/282 [==============================] - 0s 491us/step - loss: 0.2545 - accuracy: 0.9221\n"
     ]
    },
    {
     "data": {
      "text/html": [
       "<pre style=\"white-space:pre;overflow-x:auto;line-height:normal;font-family:Menlo,'DejaVu Sans Mono',consolas,'Courier New',monospace\"><span style=\"color: #7fbfbf; text-decoration-color: #7fbfbf\">[17:02:18] </span>METRIC   Round <span style=\"color: #008080; text-decoration-color: #008080; font-weight: bold\">1</span>, collaborator two is sending metric for task locally_tuned_model_validation: accuracy   <span style=\"color: #008080; text-decoration-color: #008080; font-weight: bold\">0.922111</span>                 <a href=\"file://C:\\Users\\BHSU\\AppData\\Local\\Programs\\Python\\Python39\\lib\\site-packages\\openfl\\component\\collaborator\\collaborator.py\" target=\"_blank\"><span style=\"color: #7f7f7f; text-decoration-color: #7f7f7f\">collaborator.py</span></a><span style=\"color: #7f7f7f; text-decoration-color: #7f7f7f\">:</span><a href=\"file://C:\\Users\\BHSU\\AppData\\Local\\Programs\\Python\\Python39\\lib\\site-packages\\openfl\\component\\collaborator\\collaborator.py#415\" target=\"_blank\"><span style=\"color: #7f7f7f; text-decoration-color: #7f7f7f\">415</span></a>\n",
       "</pre>\n"
      ],
      "text/plain": [
       "\u001b[2;36m[17:02:18]\u001b[0m\u001b[2;36m \u001b[0mMETRIC   Round \u001b[1;36m1\u001b[0m, collaborator two is sending metric for task locally_tuned_model_validation: accuracy   \u001b[1;36m0.922111\u001b[0m                 \u001b]8;id=483692;file://C:\\Users\\BHSU\\AppData\\Local\\Programs\\Python\\Python39\\lib\\site-packages\\openfl\\component\\collaborator\\collaborator.py\u001b\\\u001b[2mcollaborator.py\u001b[0m\u001b]8;;\u001b\\\u001b[2m:\u001b[0m\u001b]8;id=352710;file://C:\\Users\\BHSU\\AppData\\Local\\Programs\\Python\\Python39\\lib\\site-packages\\openfl\\component\\collaborator\\collaborator.py#415\u001b\\\u001b[2m415\u001b[0m\u001b]8;;\u001b\\\n"
      ]
     },
     "metadata": {},
     "output_type": "display_data"
    },
    {
     "data": {
      "text/html": [
       "<pre style=\"white-space:pre;overflow-x:auto;line-height:normal;font-family:Menlo,'DejaVu Sans Mono',consolas,'Courier New',monospace\"><span style=\"color: #7fbfbf; text-decoration-color: #7fbfbf\">           </span><span style=\"color: #000080; text-decoration-color: #000080\">INFO    </span> Collaborator two is sending task results for locally_tuned_model_validation, round <span style=\"color: #008080; text-decoration-color: #008080; font-weight: bold\">1</span>                                       <a href=\"file://C:\\Users\\BHSU\\AppData\\Local\\Programs\\Python\\Python39\\lib\\site-packages\\openfl\\component\\aggregator\\aggregator.py\" target=\"_blank\"><span style=\"color: #7f7f7f; text-decoration-color: #7f7f7f\">aggregator.py</span></a><span style=\"color: #7f7f7f; text-decoration-color: #7f7f7f\">:</span><a href=\"file://C:\\Users\\BHSU\\AppData\\Local\\Programs\\Python\\Python39\\lib\\site-packages\\openfl\\component\\aggregator\\aggregator.py#520\" target=\"_blank\"><span style=\"color: #7f7f7f; text-decoration-color: #7f7f7f\">520</span></a>\n",
       "</pre>\n"
      ],
      "text/plain": [
       "\u001b[2;36m          \u001b[0m\u001b[2;36m \u001b[0m\u001b[34mINFO    \u001b[0m Collaborator two is sending task results for locally_tuned_model_validation, round \u001b[1;36m1\u001b[0m                                       \u001b]8;id=552178;file://C:\\Users\\BHSU\\AppData\\Local\\Programs\\Python\\Python39\\lib\\site-packages\\openfl\\component\\aggregator\\aggregator.py\u001b\\\u001b[2maggregator.py\u001b[0m\u001b]8;;\u001b\\\u001b[2m:\u001b[0m\u001b]8;id=76924;file://C:\\Users\\BHSU\\AppData\\Local\\Programs\\Python\\Python39\\lib\\site-packages\\openfl\\component\\aggregator\\aggregator.py#520\u001b\\\u001b[2m520\u001b[0m\u001b]8;;\u001b\\\n"
      ]
     },
     "metadata": {},
     "output_type": "display_data"
    },
    {
     "data": {
      "text/html": [
       "<pre style=\"white-space:pre;overflow-x:auto;line-height:normal;font-family:Menlo,'DejaVu Sans Mono',consolas,'Courier New',monospace\"><span style=\"color: #7fbfbf; text-decoration-color: #7fbfbf\">           </span>METRIC   Round <span style=\"color: #008080; text-decoration-color: #008080; font-weight: bold\">1</span>, collaborator validate_local locally_tuned_model_validation result accuracy:    <span style=\"color: #008080; text-decoration-color: #008080; font-weight: bold\">0.922111</span>                           <a href=\"file://C:\\Users\\BHSU\\AppData\\Local\\Programs\\Python\\Python39\\lib\\site-packages\\openfl\\component\\aggregator\\aggregator.py\" target=\"_blank\"><span style=\"color: #7f7f7f; text-decoration-color: #7f7f7f\">aggregator.py</span></a><span style=\"color: #7f7f7f; text-decoration-color: #7f7f7f\">:</span><a href=\"file://C:\\Users\\BHSU\\AppData\\Local\\Programs\\Python\\Python39\\lib\\site-packages\\openfl\\component\\aggregator\\aggregator.py#559\" target=\"_blank\"><span style=\"color: #7f7f7f; text-decoration-color: #7f7f7f\">559</span></a>\n",
       "</pre>\n"
      ],
      "text/plain": [
       "\u001b[2;36m          \u001b[0m\u001b[2;36m \u001b[0mMETRIC   Round \u001b[1;36m1\u001b[0m, collaborator validate_local locally_tuned_model_validation result accuracy:    \u001b[1;36m0.922111\u001b[0m                           \u001b]8;id=141029;file://C:\\Users\\BHSU\\AppData\\Local\\Programs\\Python\\Python39\\lib\\site-packages\\openfl\\component\\aggregator\\aggregator.py\u001b\\\u001b[2maggregator.py\u001b[0m\u001b]8;;\u001b\\\u001b[2m:\u001b[0m\u001b]8;id=116846;file://C:\\Users\\BHSU\\AppData\\Local\\Programs\\Python\\Python39\\lib\\site-packages\\openfl\\component\\aggregator\\aggregator.py#559\u001b\\\u001b[2m559\u001b[0m\u001b]8;;\u001b\\\n"
      ]
     },
     "metadata": {},
     "output_type": "display_data"
    },
    {
     "data": {
      "text/html": [
       "<pre style=\"white-space:pre;overflow-x:auto;line-height:normal;font-family:Menlo,'DejaVu Sans Mono',consolas,'Courier New',monospace\"><span style=\"color: #7fbfbf; text-decoration-color: #7fbfbf\">           </span>METRIC   Round <span style=\"color: #008080; text-decoration-color: #008080; font-weight: bold\">1</span>, aggregator: locally_tuned_model_validation                                                                        <a href=\"file://C:\\Users\\BHSU\\AppData\\Local\\Programs\\Python\\Python39\\lib\\site-packages\\openfl\\component\\aggregator\\aggregator.py\" target=\"_blank\"><span style=\"color: #7f7f7f; text-decoration-color: #7f7f7f\">aggregator.py</span></a><span style=\"color: #7f7f7f; text-decoration-color: #7f7f7f\">:</span><a href=\"file://C:\\Users\\BHSU\\AppData\\Local\\Programs\\Python\\Python39\\lib\\site-packages\\openfl\\component\\aggregator\\aggregator.py#842\" target=\"_blank\"><span style=\"color: #7f7f7f; text-decoration-color: #7f7f7f\">842</span></a>\n",
       "<span style=\"color: #7fbfbf; text-decoration-color: #7fbfbf\">           </span>         <span style=\"font-weight: bold\">&lt;</span><span style=\"color: #ff00ff; text-decoration-color: #ff00ff; font-weight: bold\">openfl.interface.aggregation_functions.weighted_average.WeightedAverage</span><span style=\"color: #000000; text-decoration-color: #000000\"> object at </span><span style=\"color: #008080; text-decoration-color: #008080; font-weight: bold\">0x00000137CCF13D90</span><span style=\"font-weight: bold\">&gt;</span> accuracy:           <span style=\"color: #7f7f7f; text-decoration-color: #7f7f7f\">                 </span>\n",
       "<span style=\"color: #7fbfbf; text-decoration-color: #7fbfbf\">           </span>         <span style=\"color: #008080; text-decoration-color: #008080; font-weight: bold\">0.917944</span>                                                                                                                   <span style=\"color: #7f7f7f; text-decoration-color: #7f7f7f\">                 </span>\n",
       "</pre>\n"
      ],
      "text/plain": [
       "\u001b[2;36m          \u001b[0m\u001b[2;36m \u001b[0mMETRIC   Round \u001b[1;36m1\u001b[0m, aggregator: locally_tuned_model_validation                                                                        \u001b]8;id=486501;file://C:\\Users\\BHSU\\AppData\\Local\\Programs\\Python\\Python39\\lib\\site-packages\\openfl\\component\\aggregator\\aggregator.py\u001b\\\u001b[2maggregator.py\u001b[0m\u001b]8;;\u001b\\\u001b[2m:\u001b[0m\u001b]8;id=978813;file://C:\\Users\\BHSU\\AppData\\Local\\Programs\\Python\\Python39\\lib\\site-packages\\openfl\\component\\aggregator\\aggregator.py#842\u001b\\\u001b[2m842\u001b[0m\u001b]8;;\u001b\\\n",
       "\u001b[2;36m           \u001b[0m         \u001b[1m<\u001b[0m\u001b[1;95mopenfl.interface.aggregation_functions.weighted_average.WeightedAverage\u001b[0m\u001b[39m object at \u001b[0m\u001b[1;36m0x00000137CCF13D90\u001b[0m\u001b[1m>\u001b[0m accuracy:           \u001b[2m                 \u001b[0m\n",
       "\u001b[2;36m           \u001b[0m         \u001b[1;36m0.917944\u001b[0m                                                                                                                   \u001b[2m                 \u001b[0m\n"
      ]
     },
     "metadata": {},
     "output_type": "display_data"
    },
    {
     "data": {
      "text/html": [
       "<pre style=\"white-space:pre;overflow-x:auto;line-height:normal;font-family:Menlo,'DejaVu Sans Mono',consolas,'Courier New',monospace\"><span style=\"color: #7fbfbf; text-decoration-color: #7fbfbf\">           </span>METRIC   Round <span style=\"color: #008080; text-decoration-color: #008080; font-weight: bold\">1</span>, aggregator: train <span style=\"font-weight: bold\">&lt;</span><span style=\"color: #ff00ff; text-decoration-color: #ff00ff; font-weight: bold\">openfl.interface.aggregation_functions.weighted_average.WeightedAverage</span><span style=\"color: #000000; text-decoration-color: #000000\"> object at </span>             <a href=\"file://C:\\Users\\BHSU\\AppData\\Local\\Programs\\Python\\Python39\\lib\\site-packages\\openfl\\component\\aggregator\\aggregator.py\" target=\"_blank\"><span style=\"color: #7f7f7f; text-decoration-color: #7f7f7f\">aggregator.py</span></a><span style=\"color: #7f7f7f; text-decoration-color: #7f7f7f\">:</span><a href=\"file://C:\\Users\\BHSU\\AppData\\Local\\Programs\\Python\\Python39\\lib\\site-packages\\openfl\\component\\aggregator\\aggregator.py#842\" target=\"_blank\"><span style=\"color: #7f7f7f; text-decoration-color: #7f7f7f\">842</span></a>\n",
       "<span style=\"color: #7fbfbf; text-decoration-color: #7fbfbf\">           </span>         <span style=\"color: #008080; text-decoration-color: #008080; font-weight: bold\">0x00000137CCF13D90</span><span style=\"font-weight: bold\">&gt;</span> loss: <span style=\"color: #008080; text-decoration-color: #008080; font-weight: bold\">0.294892</span>                                                                                         <span style=\"color: #7f7f7f; text-decoration-color: #7f7f7f\">                 </span>\n",
       "</pre>\n"
      ],
      "text/plain": [
       "\u001b[2;36m          \u001b[0m\u001b[2;36m \u001b[0mMETRIC   Round \u001b[1;36m1\u001b[0m, aggregator: train \u001b[1m<\u001b[0m\u001b[1;95mopenfl.interface.aggregation_functions.weighted_average.WeightedAverage\u001b[0m\u001b[39m object at \u001b[0m             \u001b]8;id=633777;file://C:\\Users\\BHSU\\AppData\\Local\\Programs\\Python\\Python39\\lib\\site-packages\\openfl\\component\\aggregator\\aggregator.py\u001b\\\u001b[2maggregator.py\u001b[0m\u001b]8;;\u001b\\\u001b[2m:\u001b[0m\u001b]8;id=761326;file://C:\\Users\\BHSU\\AppData\\Local\\Programs\\Python\\Python39\\lib\\site-packages\\openfl\\component\\aggregator\\aggregator.py#842\u001b\\\u001b[2m842\u001b[0m\u001b]8;;\u001b\\\n",
       "\u001b[2;36m           \u001b[0m         \u001b[1;36m0x00000137CCF13D90\u001b[0m\u001b[1m>\u001b[0m loss: \u001b[1;36m0.294892\u001b[0m                                                                                         \u001b[2m                 \u001b[0m\n"
      ]
     },
     "metadata": {},
     "output_type": "display_data"
    },
    {
     "data": {
      "text/html": [
       "<pre style=\"white-space:pre;overflow-x:auto;line-height:normal;font-family:Menlo,'DejaVu Sans Mono',consolas,'Courier New',monospace\"><span style=\"color: #7fbfbf; text-decoration-color: #7fbfbf\">           </span>METRIC   Round <span style=\"color: #008080; text-decoration-color: #008080; font-weight: bold\">1</span>, aggregator: aggregated_model_validation <span style=\"font-weight: bold\">&lt;</span><span style=\"color: #ff00ff; text-decoration-color: #ff00ff; font-weight: bold\">openfl.interface.aggregation_functions.weighted_average.WeightedAverage</span><span style=\"color: #000000; text-decoration-color: #000000\"> </span> <a href=\"file://C:\\Users\\BHSU\\AppData\\Local\\Programs\\Python\\Python39\\lib\\site-packages\\openfl\\component\\aggregator\\aggregator.py\" target=\"_blank\"><span style=\"color: #7f7f7f; text-decoration-color: #7f7f7f\">aggregator.py</span></a><span style=\"color: #7f7f7f; text-decoration-color: #7f7f7f\">:</span><a href=\"file://C:\\Users\\BHSU\\AppData\\Local\\Programs\\Python\\Python39\\lib\\site-packages\\openfl\\component\\aggregator\\aggregator.py#842\" target=\"_blank\"><span style=\"color: #7f7f7f; text-decoration-color: #7f7f7f\">842</span></a>\n",
       "<span style=\"color: #7fbfbf; text-decoration-color: #7fbfbf\">           </span>         <span style=\"color: #000000; text-decoration-color: #000000\">object at </span><span style=\"color: #008080; text-decoration-color: #008080; font-weight: bold\">0x00000137CCF13D90</span><span style=\"font-weight: bold\">&gt;</span> accuracy:       <span style=\"color: #008080; text-decoration-color: #008080; font-weight: bold\">0.895278</span>                                                                     <span style=\"color: #7f7f7f; text-decoration-color: #7f7f7f\">                 </span>\n",
       "</pre>\n"
      ],
      "text/plain": [
       "\u001b[2;36m          \u001b[0m\u001b[2;36m \u001b[0mMETRIC   Round \u001b[1;36m1\u001b[0m, aggregator: aggregated_model_validation \u001b[1m<\u001b[0m\u001b[1;95mopenfl.interface.aggregation_functions.weighted_average.WeightedAverage\u001b[0m\u001b[39m \u001b[0m \u001b]8;id=913718;file://C:\\Users\\BHSU\\AppData\\Local\\Programs\\Python\\Python39\\lib\\site-packages\\openfl\\component\\aggregator\\aggregator.py\u001b\\\u001b[2maggregator.py\u001b[0m\u001b]8;;\u001b\\\u001b[2m:\u001b[0m\u001b]8;id=301269;file://C:\\Users\\BHSU\\AppData\\Local\\Programs\\Python\\Python39\\lib\\site-packages\\openfl\\component\\aggregator\\aggregator.py#842\u001b\\\u001b[2m842\u001b[0m\u001b]8;;\u001b\\\n",
       "\u001b[2;36m           \u001b[0m         \u001b[39mobject at \u001b[0m\u001b[1;36m0x00000137CCF13D90\u001b[0m\u001b[1m>\u001b[0m accuracy:       \u001b[1;36m0.895278\u001b[0m                                                                     \u001b[2m                 \u001b[0m\n"
      ]
     },
     "metadata": {},
     "output_type": "display_data"
    },
    {
     "data": {
      "text/html": [
       "<pre style=\"white-space:pre;overflow-x:auto;line-height:normal;font-family:Menlo,'DejaVu Sans Mono',consolas,'Courier New',monospace\"><span style=\"color: #7fbfbf; text-decoration-color: #7fbfbf\">           </span>METRIC   Round <span style=\"color: #008080; text-decoration-color: #008080; font-weight: bold\">1</span>: saved the best model with score <span style=\"color: #008080; text-decoration-color: #008080; font-weight: bold\">0.895278</span>                                                                          <a href=\"file://C:\\Users\\BHSU\\AppData\\Local\\Programs\\Python\\Python39\\lib\\site-packages\\openfl\\component\\aggregator\\aggregator.py\" target=\"_blank\"><span style=\"color: #7f7f7f; text-decoration-color: #7f7f7f\">aggregator.py</span></a><span style=\"color: #7f7f7f; text-decoration-color: #7f7f7f\">:</span><a href=\"file://C:\\Users\\BHSU\\AppData\\Local\\Programs\\Python\\Python39\\lib\\site-packages\\openfl\\component\\aggregator\\aggregator.py#858\" target=\"_blank\"><span style=\"color: #7f7f7f; text-decoration-color: #7f7f7f\">858</span></a>\n",
       "</pre>\n"
      ],
      "text/plain": [
       "\u001b[2;36m          \u001b[0m\u001b[2;36m \u001b[0mMETRIC   Round \u001b[1;36m1\u001b[0m: saved the best model with score \u001b[1;36m0.895278\u001b[0m                                                                          \u001b]8;id=798738;file://C:\\Users\\BHSU\\AppData\\Local\\Programs\\Python\\Python39\\lib\\site-packages\\openfl\\component\\aggregator\\aggregator.py\u001b\\\u001b[2maggregator.py\u001b[0m\u001b]8;;\u001b\\\u001b[2m:\u001b[0m\u001b]8;id=678614;file://C:\\Users\\BHSU\\AppData\\Local\\Programs\\Python\\Python39\\lib\\site-packages\\openfl\\component\\aggregator\\aggregator.py#858\u001b\\\u001b[2m858\u001b[0m\u001b]8;;\u001b\\\n"
      ]
     },
     "metadata": {},
     "output_type": "display_data"
    },
    {
     "data": {
      "text/html": [
       "<pre style=\"white-space:pre;overflow-x:auto;line-height:normal;font-family:Menlo,'DejaVu Sans Mono',consolas,'Courier New',monospace\"><span style=\"color: #7fbfbf; text-decoration-color: #7fbfbf\">           </span><span style=\"color: #000080; text-decoration-color: #000080\">INFO    </span> Saving round <span style=\"color: #008080; text-decoration-color: #008080; font-weight: bold\">2</span> model<span style=\"color: #808000; text-decoration-color: #808000\">...</span>                                                                                                    <a href=\"file://C:\\Users\\BHSU\\AppData\\Local\\Programs\\Python\\Python39\\lib\\site-packages\\openfl\\component\\aggregator\\aggregator.py\" target=\"_blank\"><span style=\"color: #7f7f7f; text-decoration-color: #7f7f7f\">aggregator.py</span></a><span style=\"color: #7f7f7f; text-decoration-color: #7f7f7f\">:</span><a href=\"file://C:\\Users\\BHSU\\AppData\\Local\\Programs\\Python\\Python39\\lib\\site-packages\\openfl\\component\\aggregator\\aggregator.py#894\" target=\"_blank\"><span style=\"color: #7f7f7f; text-decoration-color: #7f7f7f\">894</span></a>\n",
       "</pre>\n"
      ],
      "text/plain": [
       "\u001b[2;36m          \u001b[0m\u001b[2;36m \u001b[0m\u001b[34mINFO    \u001b[0m Saving round \u001b[1;36m2\u001b[0m model\u001b[33m...\u001b[0m                                                                                                    \u001b]8;id=37392;file://C:\\Users\\BHSU\\AppData\\Local\\Programs\\Python\\Python39\\lib\\site-packages\\openfl\\component\\aggregator\\aggregator.py\u001b\\\u001b[2maggregator.py\u001b[0m\u001b]8;;\u001b\\\u001b[2m:\u001b[0m\u001b]8;id=446997;file://C:\\Users\\BHSU\\AppData\\Local\\Programs\\Python\\Python39\\lib\\site-packages\\openfl\\component\\aggregator\\aggregator.py#894\u001b\\\u001b[2m894\u001b[0m\u001b]8;;\u001b\\\n"
      ]
     },
     "metadata": {},
     "output_type": "display_data"
    },
    {
     "data": {
      "text/html": [
       "<pre style=\"white-space:pre;overflow-x:auto;line-height:normal;font-family:Menlo,'DejaVu Sans Mono',consolas,'Courier New',monospace\"><span style=\"color: #7fbfbf; text-decoration-color: #7fbfbf\">           </span><span style=\"color: #000080; text-decoration-color: #000080\">INFO    </span> Starting round <span style=\"color: #008080; text-decoration-color: #008080; font-weight: bold\">2</span><span style=\"color: #808000; text-decoration-color: #808000\">...</span>                                                                                                        <a href=\"file://C:\\Users\\BHSU\\AppData\\Local\\Programs\\Python\\Python39\\lib\\site-packages\\openfl\\component\\aggregator\\aggregator.py\" target=\"_blank\"><span style=\"color: #7f7f7f; text-decoration-color: #7f7f7f\">aggregator.py</span></a><span style=\"color: #7f7f7f; text-decoration-color: #7f7f7f\">:</span><a href=\"file://C:\\Users\\BHSU\\AppData\\Local\\Programs\\Python\\Python39\\lib\\site-packages\\openfl\\component\\aggregator\\aggregator.py#901\" target=\"_blank\"><span style=\"color: #7f7f7f; text-decoration-color: #7f7f7f\">901</span></a>\n",
       "</pre>\n"
      ],
      "text/plain": [
       "\u001b[2;36m          \u001b[0m\u001b[2;36m \u001b[0m\u001b[34mINFO    \u001b[0m Starting round \u001b[1;36m2\u001b[0m\u001b[33m...\u001b[0m                                                                                                        \u001b]8;id=970440;file://C:\\Users\\BHSU\\AppData\\Local\\Programs\\Python\\Python39\\lib\\site-packages\\openfl\\component\\aggregator\\aggregator.py\u001b\\\u001b[2maggregator.py\u001b[0m\u001b]8;;\u001b\\\u001b[2m:\u001b[0m\u001b]8;id=925529;file://C:\\Users\\BHSU\\AppData\\Local\\Programs\\Python\\Python39\\lib\\site-packages\\openfl\\component\\aggregator\\aggregator.py#901\u001b\\\u001b[2m901\u001b[0m\u001b]8;;\u001b\\\n"
      ]
     },
     "metadata": {},
     "output_type": "display_data"
    },
    {
     "data": {
      "text/html": [
       "<pre style=\"white-space:pre;overflow-x:auto;line-height:normal;font-family:Menlo,'DejaVu Sans Mono',consolas,'Courier New',monospace\"><span style=\"color: #7fbfbf; text-decoration-color: #7fbfbf\">           </span><span style=\"color: #000080; text-decoration-color: #000080\">INFO    </span> All tasks completed on two for round <span style=\"color: #008080; text-decoration-color: #008080; font-weight: bold\">1</span><span style=\"color: #808000; text-decoration-color: #808000\">...</span>                                                                                <a href=\"file://C:\\Users\\BHSU\\AppData\\Local\\Programs\\Python\\Python39\\lib\\site-packages\\openfl\\component\\collaborator\\collaborator.py\" target=\"_blank\"><span style=\"color: #7f7f7f; text-decoration-color: #7f7f7f\">collaborator.py</span></a><span style=\"color: #7f7f7f; text-decoration-color: #7f7f7f\">:</span><a href=\"file://C:\\Users\\BHSU\\AppData\\Local\\Programs\\Python\\Python39\\lib\\site-packages\\openfl\\component\\collaborator\\collaborator.py#171\" target=\"_blank\"><span style=\"color: #7f7f7f; text-decoration-color: #7f7f7f\">171</span></a>\n",
       "</pre>\n"
      ],
      "text/plain": [
       "\u001b[2;36m          \u001b[0m\u001b[2;36m \u001b[0m\u001b[34mINFO    \u001b[0m All tasks completed on two for round \u001b[1;36m1\u001b[0m\u001b[33m...\u001b[0m                                                                                \u001b]8;id=760327;file://C:\\Users\\BHSU\\AppData\\Local\\Programs\\Python\\Python39\\lib\\site-packages\\openfl\\component\\collaborator\\collaborator.py\u001b\\\u001b[2mcollaborator.py\u001b[0m\u001b]8;;\u001b\\\u001b[2m:\u001b[0m\u001b]8;id=239650;file://C:\\Users\\BHSU\\AppData\\Local\\Programs\\Python\\Python39\\lib\\site-packages\\openfl\\component\\collaborator\\collaborator.py#171\u001b\\\u001b[2m171\u001b[0m\u001b]8;;\u001b\\\n"
      ]
     },
     "metadata": {},
     "output_type": "display_data"
    },
    {
     "data": {
      "text/html": [
       "<pre style=\"white-space:pre;overflow-x:auto;line-height:normal;font-family:Menlo,'DejaVu Sans Mono',consolas,'Courier New',monospace\"><span style=\"color: #7fbfbf; text-decoration-color: #7fbfbf\">           </span><span style=\"color: #000080; text-decoration-color: #000080\">INFO    </span> Waiting for tasks<span style=\"color: #808000; text-decoration-color: #808000\">...</span>                                                                                                     <a href=\"file://C:\\Users\\BHSU\\AppData\\Local\\Programs\\Python\\Python39\\lib\\site-packages\\openfl\\component\\collaborator\\collaborator.py\" target=\"_blank\"><span style=\"color: #7f7f7f; text-decoration-color: #7f7f7f\">collaborator.py</span></a><span style=\"color: #7f7f7f; text-decoration-color: #7f7f7f\">:</span><a href=\"file://C:\\Users\\BHSU\\AppData\\Local\\Programs\\Python\\Python39\\lib\\site-packages\\openfl\\component\\collaborator\\collaborator.py#178\" target=\"_blank\"><span style=\"color: #7f7f7f; text-decoration-color: #7f7f7f\">178</span></a>\n",
       "</pre>\n"
      ],
      "text/plain": [
       "\u001b[2;36m          \u001b[0m\u001b[2;36m \u001b[0m\u001b[34mINFO    \u001b[0m Waiting for tasks\u001b[33m...\u001b[0m                                                                                                     \u001b]8;id=340803;file://C:\\Users\\BHSU\\AppData\\Local\\Programs\\Python\\Python39\\lib\\site-packages\\openfl\\component\\collaborator\\collaborator.py\u001b\\\u001b[2mcollaborator.py\u001b[0m\u001b]8;;\u001b\\\u001b[2m:\u001b[0m\u001b]8;id=484584;file://C:\\Users\\BHSU\\AppData\\Local\\Programs\\Python\\Python39\\lib\\site-packages\\openfl\\component\\collaborator\\collaborator.py#178\u001b\\\u001b[2m178\u001b[0m\u001b]8;;\u001b\\\n"
      ]
     },
     "metadata": {},
     "output_type": "display_data"
    },
    {
     "data": {
      "text/html": [
       "<pre style=\"white-space:pre;overflow-x:auto;line-height:normal;font-family:Menlo,'DejaVu Sans Mono',consolas,'Courier New',monospace\"><span style=\"color: #7fbfbf; text-decoration-color: #7fbfbf\">           </span><span style=\"color: #000080; text-decoration-color: #000080\">INFO    </span> Sending tasks to collaborator one for round <span style=\"color: #008080; text-decoration-color: #008080; font-weight: bold\">2</span>                                                                              <a href=\"file://C:\\Users\\BHSU\\AppData\\Local\\Programs\\Python\\Python39\\lib\\site-packages\\openfl\\component\\aggregator\\aggregator.py\" target=\"_blank\"><span style=\"color: #7f7f7f; text-decoration-color: #7f7f7f\">aggregator.py</span></a><span style=\"color: #7f7f7f; text-decoration-color: #7f7f7f\">:</span><a href=\"file://C:\\Users\\BHSU\\AppData\\Local\\Programs\\Python\\Python39\\lib\\site-packages\\openfl\\component\\aggregator\\aggregator.py#329\" target=\"_blank\"><span style=\"color: #7f7f7f; text-decoration-color: #7f7f7f\">329</span></a>\n",
       "</pre>\n"
      ],
      "text/plain": [
       "\u001b[2;36m          \u001b[0m\u001b[2;36m \u001b[0m\u001b[34mINFO    \u001b[0m Sending tasks to collaborator one for round \u001b[1;36m2\u001b[0m                                                                              \u001b]8;id=480015;file://C:\\Users\\BHSU\\AppData\\Local\\Programs\\Python\\Python39\\lib\\site-packages\\openfl\\component\\aggregator\\aggregator.py\u001b\\\u001b[2maggregator.py\u001b[0m\u001b]8;;\u001b\\\u001b[2m:\u001b[0m\u001b]8;id=712409;file://C:\\Users\\BHSU\\AppData\\Local\\Programs\\Python\\Python39\\lib\\site-packages\\openfl\\component\\aggregator\\aggregator.py#329\u001b\\\u001b[2m329\u001b[0m\u001b]8;;\u001b\\\n"
      ]
     },
     "metadata": {},
     "output_type": "display_data"
    },
    {
     "data": {
      "text/html": [
       "<pre style=\"white-space:pre;overflow-x:auto;line-height:normal;font-family:Menlo,'DejaVu Sans Mono',consolas,'Courier New',monospace\"><span style=\"color: #7fbfbf; text-decoration-color: #7fbfbf\">           </span><span style=\"color: #000080; text-decoration-color: #000080\">INFO    </span> Received the following tasks: <span style=\"font-weight: bold\">[</span><span style=\"color: #008000; text-decoration-color: #008000\">'aggregated_model_validation'</span>, <span style=\"color: #008000; text-decoration-color: #008000\">'train'</span>, <span style=\"color: #008000; text-decoration-color: #008000\">'locally_tuned_model_validation'</span><span style=\"font-weight: bold\">]</span>                 <a href=\"file://C:\\Users\\BHSU\\AppData\\Local\\Programs\\Python\\Python39\\lib\\site-packages\\openfl\\component\\collaborator\\collaborator.py\" target=\"_blank\"><span style=\"color: #7f7f7f; text-decoration-color: #7f7f7f\">collaborator.py</span></a><span style=\"color: #7f7f7f; text-decoration-color: #7f7f7f\">:</span><a href=\"file://C:\\Users\\BHSU\\AppData\\Local\\Programs\\Python\\Python39\\lib\\site-packages\\openfl\\component\\collaborator\\collaborator.py#168\" target=\"_blank\"><span style=\"color: #7f7f7f; text-decoration-color: #7f7f7f\">168</span></a>\n",
       "</pre>\n"
      ],
      "text/plain": [
       "\u001b[2;36m          \u001b[0m\u001b[2;36m \u001b[0m\u001b[34mINFO    \u001b[0m Received the following tasks: \u001b[1m[\u001b[0m\u001b[32m'aggregated_model_validation'\u001b[0m, \u001b[32m'train'\u001b[0m, \u001b[32m'locally_tuned_model_validation'\u001b[0m\u001b[1m]\u001b[0m                 \u001b]8;id=387016;file://C:\\Users\\BHSU\\AppData\\Local\\Programs\\Python\\Python39\\lib\\site-packages\\openfl\\component\\collaborator\\collaborator.py\u001b\\\u001b[2mcollaborator.py\u001b[0m\u001b]8;;\u001b\\\u001b[2m:\u001b[0m\u001b]8;id=55477;file://C:\\Users\\BHSU\\AppData\\Local\\Programs\\Python\\Python39\\lib\\site-packages\\openfl\\component\\collaborator\\collaborator.py#168\u001b\\\u001b[2m168\u001b[0m\u001b]8;;\u001b\\\n"
      ]
     },
     "metadata": {},
     "output_type": "display_data"
    },
    {
     "data": {
      "text/html": [
       "<pre style=\"white-space:pre;overflow-x:auto;line-height:normal;font-family:Menlo,'DejaVu Sans Mono',consolas,'Courier New',monospace\"><span style=\"color: #7fbfbf; text-decoration-color: #7fbfbf\">           </span><span style=\"color: #000080; text-decoration-color: #000080\">INFO    </span> Using TaskRunner subclassing API                                                                                         <a href=\"file://C:\\Users\\BHSU\\AppData\\Local\\Programs\\Python\\Python39\\lib\\site-packages\\openfl\\component\\collaborator\\collaborator.py\" target=\"_blank\"><span style=\"color: #7f7f7f; text-decoration-color: #7f7f7f\">collaborator.py</span></a><span style=\"color: #7f7f7f; text-decoration-color: #7f7f7f\">:</span><a href=\"file://C:\\Users\\BHSU\\AppData\\Local\\Programs\\Python\\Python39\\lib\\site-packages\\openfl\\component\\collaborator\\collaborator.py#253\" target=\"_blank\"><span style=\"color: #7f7f7f; text-decoration-color: #7f7f7f\">253</span></a>\n",
       "</pre>\n"
      ],
      "text/plain": [
       "\u001b[2;36m          \u001b[0m\u001b[2;36m \u001b[0m\u001b[34mINFO    \u001b[0m Using TaskRunner subclassing API                                                                                         \u001b]8;id=422883;file://C:\\Users\\BHSU\\AppData\\Local\\Programs\\Python\\Python39\\lib\\site-packages\\openfl\\component\\collaborator\\collaborator.py\u001b\\\u001b[2mcollaborator.py\u001b[0m\u001b]8;;\u001b\\\u001b[2m:\u001b[0m\u001b]8;id=427438;file://C:\\Users\\BHSU\\AppData\\Local\\Programs\\Python\\Python39\\lib\\site-packages\\openfl\\component\\collaborator\\collaborator.py#253\u001b\\\u001b[2m253\u001b[0m\u001b]8;;\u001b\\\n"
      ]
     },
     "metadata": {},
     "output_type": "display_data"
    },
    {
     "name": "stdout",
     "output_type": "stream",
     "text": [
      "282/282 [==============================] - 0s 520us/step - loss: 0.2224 - accuracy: 0.9309\n"
     ]
    },
    {
     "data": {
      "text/html": [
       "<pre style=\"white-space:pre;overflow-x:auto;line-height:normal;font-family:Menlo,'DejaVu Sans Mono',consolas,'Courier New',monospace\"><span style=\"color: #7fbfbf; text-decoration-color: #7fbfbf\">           </span>METRIC   Round <span style=\"color: #008080; text-decoration-color: #008080; font-weight: bold\">2</span>, collaborator one is sending metric for task aggregated_model_validation: accuracy      <span style=\"color: #008080; text-decoration-color: #008080; font-weight: bold\">0.930889</span>                 <a href=\"file://C:\\Users\\BHSU\\AppData\\Local\\Programs\\Python\\Python39\\lib\\site-packages\\openfl\\component\\collaborator\\collaborator.py\" target=\"_blank\"><span style=\"color: #7f7f7f; text-decoration-color: #7f7f7f\">collaborator.py</span></a><span style=\"color: #7f7f7f; text-decoration-color: #7f7f7f\">:</span><a href=\"file://C:\\Users\\BHSU\\AppData\\Local\\Programs\\Python\\Python39\\lib\\site-packages\\openfl\\component\\collaborator\\collaborator.py#415\" target=\"_blank\"><span style=\"color: #7f7f7f; text-decoration-color: #7f7f7f\">415</span></a>\n",
       "</pre>\n"
      ],
      "text/plain": [
       "\u001b[2;36m          \u001b[0m\u001b[2;36m \u001b[0mMETRIC   Round \u001b[1;36m2\u001b[0m, collaborator one is sending metric for task aggregated_model_validation: accuracy      \u001b[1;36m0.930889\u001b[0m                 \u001b]8;id=917929;file://C:\\Users\\BHSU\\AppData\\Local\\Programs\\Python\\Python39\\lib\\site-packages\\openfl\\component\\collaborator\\collaborator.py\u001b\\\u001b[2mcollaborator.py\u001b[0m\u001b]8;;\u001b\\\u001b[2m:\u001b[0m\u001b]8;id=695768;file://C:\\Users\\BHSU\\AppData\\Local\\Programs\\Python\\Python39\\lib\\site-packages\\openfl\\component\\collaborator\\collaborator.py#415\u001b\\\u001b[2m415\u001b[0m\u001b]8;;\u001b\\\n"
      ]
     },
     "metadata": {},
     "output_type": "display_data"
    },
    {
     "data": {
      "text/html": [
       "<pre style=\"white-space:pre;overflow-x:auto;line-height:normal;font-family:Menlo,'DejaVu Sans Mono',consolas,'Courier New',monospace\"><span style=\"color: #7fbfbf; text-decoration-color: #7fbfbf\">           </span><span style=\"color: #000080; text-decoration-color: #000080\">INFO    </span> Collaborator one is sending task results for aggregated_model_validation, round <span style=\"color: #008080; text-decoration-color: #008080; font-weight: bold\">2</span>                                          <a href=\"file://C:\\Users\\BHSU\\AppData\\Local\\Programs\\Python\\Python39\\lib\\site-packages\\openfl\\component\\aggregator\\aggregator.py\" target=\"_blank\"><span style=\"color: #7f7f7f; text-decoration-color: #7f7f7f\">aggregator.py</span></a><span style=\"color: #7f7f7f; text-decoration-color: #7f7f7f\">:</span><a href=\"file://C:\\Users\\BHSU\\AppData\\Local\\Programs\\Python\\Python39\\lib\\site-packages\\openfl\\component\\aggregator\\aggregator.py#520\" target=\"_blank\"><span style=\"color: #7f7f7f; text-decoration-color: #7f7f7f\">520</span></a>\n",
       "</pre>\n"
      ],
      "text/plain": [
       "\u001b[2;36m          \u001b[0m\u001b[2;36m \u001b[0m\u001b[34mINFO    \u001b[0m Collaborator one is sending task results for aggregated_model_validation, round \u001b[1;36m2\u001b[0m                                          \u001b]8;id=390015;file://C:\\Users\\BHSU\\AppData\\Local\\Programs\\Python\\Python39\\lib\\site-packages\\openfl\\component\\aggregator\\aggregator.py\u001b\\\u001b[2maggregator.py\u001b[0m\u001b]8;;\u001b\\\u001b[2m:\u001b[0m\u001b]8;id=11853;file://C:\\Users\\BHSU\\AppData\\Local\\Programs\\Python\\Python39\\lib\\site-packages\\openfl\\component\\aggregator\\aggregator.py#520\u001b\\\u001b[2m520\u001b[0m\u001b]8;;\u001b\\\n"
      ]
     },
     "metadata": {},
     "output_type": "display_data"
    },
    {
     "data": {
      "text/html": [
       "<pre style=\"white-space:pre;overflow-x:auto;line-height:normal;font-family:Menlo,'DejaVu Sans Mono',consolas,'Courier New',monospace\"><span style=\"color: #7fbfbf; text-decoration-color: #7fbfbf\">           </span>METRIC   Round <span style=\"color: #008080; text-decoration-color: #008080; font-weight: bold\">2</span>, collaborator validate_agg aggregated_model_validation result accuracy: <span style=\"color: #008080; text-decoration-color: #008080; font-weight: bold\">0.930889</span>                                   <a href=\"file://C:\\Users\\BHSU\\AppData\\Local\\Programs\\Python\\Python39\\lib\\site-packages\\openfl\\component\\aggregator\\aggregator.py\" target=\"_blank\"><span style=\"color: #7f7f7f; text-decoration-color: #7f7f7f\">aggregator.py</span></a><span style=\"color: #7f7f7f; text-decoration-color: #7f7f7f\">:</span><a href=\"file://C:\\Users\\BHSU\\AppData\\Local\\Programs\\Python\\Python39\\lib\\site-packages\\openfl\\component\\aggregator\\aggregator.py#559\" target=\"_blank\"><span style=\"color: #7f7f7f; text-decoration-color: #7f7f7f\">559</span></a>\n",
       "</pre>\n"
      ],
      "text/plain": [
       "\u001b[2;36m          \u001b[0m\u001b[2;36m \u001b[0mMETRIC   Round \u001b[1;36m2\u001b[0m, collaborator validate_agg aggregated_model_validation result accuracy: \u001b[1;36m0.930889\u001b[0m                                   \u001b]8;id=375019;file://C:\\Users\\BHSU\\AppData\\Local\\Programs\\Python\\Python39\\lib\\site-packages\\openfl\\component\\aggregator\\aggregator.py\u001b\\\u001b[2maggregator.py\u001b[0m\u001b]8;;\u001b\\\u001b[2m:\u001b[0m\u001b]8;id=724587;file://C:\\Users\\BHSU\\AppData\\Local\\Programs\\Python\\Python39\\lib\\site-packages\\openfl\\component\\aggregator\\aggregator.py#559\u001b\\\u001b[2m559\u001b[0m\u001b]8;;\u001b\\\n"
      ]
     },
     "metadata": {},
     "output_type": "display_data"
    },
    {
     "data": {
      "text/html": [
       "<pre style=\"white-space:pre;overflow-x:auto;line-height:normal;font-family:Menlo,'DejaVu Sans Mono',consolas,'Courier New',monospace\"><span style=\"color: #7fbfbf; text-decoration-color: #7fbfbf\">           </span><span style=\"color: #000080; text-decoration-color: #000080\">INFO    </span> Using TaskRunner subclassing API                                                                                         <a href=\"file://C:\\Users\\BHSU\\AppData\\Local\\Programs\\Python\\Python39\\lib\\site-packages\\openfl\\component\\collaborator\\collaborator.py\" target=\"_blank\"><span style=\"color: #7f7f7f; text-decoration-color: #7f7f7f\">collaborator.py</span></a><span style=\"color: #7f7f7f; text-decoration-color: #7f7f7f\">:</span><a href=\"file://C:\\Users\\BHSU\\AppData\\Local\\Programs\\Python\\Python39\\lib\\site-packages\\openfl\\component\\collaborator\\collaborator.py#253\" target=\"_blank\"><span style=\"color: #7f7f7f; text-decoration-color: #7f7f7f\">253</span></a>\n",
       "</pre>\n"
      ],
      "text/plain": [
       "\u001b[2;36m          \u001b[0m\u001b[2;36m \u001b[0m\u001b[34mINFO    \u001b[0m Using TaskRunner subclassing API                                                                                         \u001b]8;id=68744;file://C:\\Users\\BHSU\\AppData\\Local\\Programs\\Python\\Python39\\lib\\site-packages\\openfl\\component\\collaborator\\collaborator.py\u001b\\\u001b[2mcollaborator.py\u001b[0m\u001b]8;;\u001b\\\u001b[2m:\u001b[0m\u001b]8;id=327646;file://C:\\Users\\BHSU\\AppData\\Local\\Programs\\Python\\Python39\\lib\\site-packages\\openfl\\component\\collaborator\\collaborator.py#253\u001b\\\u001b[2m253\u001b[0m\u001b]8;;\u001b\\\n"
      ]
     },
     "metadata": {},
     "output_type": "display_data"
    },
    {
     "data": {
      "text/html": [
       "<pre style=\"white-space:pre;overflow-x:auto;line-height:normal;font-family:Menlo,'DejaVu Sans Mono',consolas,'Courier New',monospace\"><span style=\"color: #7fbfbf; text-decoration-color: #7fbfbf\">           </span><span style=\"color: #000080; text-decoration-color: #000080\">INFO    </span> Run <span style=\"color: #008080; text-decoration-color: #008080; font-weight: bold\">0</span> epoch of <span style=\"color: #008080; text-decoration-color: #008080; font-weight: bold\">2</span> round                                                                                                    <a href=\"file://C:\\Users\\BHSU\\AppData\\Local\\Programs\\Python\\Python39\\lib\\site-packages\\openfl\\federated\\task\\runner_keras.py\" target=\"_blank\"><span style=\"color: #7f7f7f; text-decoration-color: #7f7f7f\">runner_keras.py</span></a><span style=\"color: #7f7f7f; text-decoration-color: #7f7f7f\">:</span><a href=\"file://C:\\Users\\BHSU\\AppData\\Local\\Programs\\Python\\Python39\\lib\\site-packages\\openfl\\federated\\task\\runner_keras.py#83\" target=\"_blank\"><span style=\"color: #7f7f7f; text-decoration-color: #7f7f7f\">83</span></a>\n",
       "</pre>\n"
      ],
      "text/plain": [
       "\u001b[2;36m          \u001b[0m\u001b[2;36m \u001b[0m\u001b[34mINFO    \u001b[0m Run \u001b[1;36m0\u001b[0m epoch of \u001b[1;36m2\u001b[0m round                                                                                                    \u001b]8;id=287133;file://C:\\Users\\BHSU\\AppData\\Local\\Programs\\Python\\Python39\\lib\\site-packages\\openfl\\federated\\task\\runner_keras.py\u001b\\\u001b[2mrunner_keras.py\u001b[0m\u001b]8;;\u001b\\\u001b[2m:\u001b[0m\u001b]8;id=426014;file://C:\\Users\\BHSU\\AppData\\Local\\Programs\\Python\\Python39\\lib\\site-packages\\openfl\\federated\\task\\runner_keras.py#83\u001b\\\u001b[2m83\u001b[0m\u001b]8;;\u001b\\\n"
      ]
     },
     "metadata": {},
     "output_type": "display_data"
    },
    {
     "name": "stdout",
     "output_type": "stream",
     "text": [
      "657/657 [==============================] - 0s 665us/step - loss: 0.2276 - accuracy: 0.9299\n"
     ]
    },
    {
     "data": {
      "text/html": [
       "<pre style=\"white-space:pre;overflow-x:auto;line-height:normal;font-family:Menlo,'DejaVu Sans Mono',consolas,'Courier New',monospace\"><span style=\"color: #7fbfbf; text-decoration-color: #7fbfbf\">           </span>METRIC   Round <span style=\"color: #008080; text-decoration-color: #008080; font-weight: bold\">2</span>, collaborator one is sending metric for task train: loss        <span style=\"color: #008080; text-decoration-color: #008080; font-weight: bold\">0.227604</span>                                         <a href=\"file://C:\\Users\\BHSU\\AppData\\Local\\Programs\\Python\\Python39\\lib\\site-packages\\openfl\\component\\collaborator\\collaborator.py\" target=\"_blank\"><span style=\"color: #7f7f7f; text-decoration-color: #7f7f7f\">collaborator.py</span></a><span style=\"color: #7f7f7f; text-decoration-color: #7f7f7f\">:</span><a href=\"file://C:\\Users\\BHSU\\AppData\\Local\\Programs\\Python\\Python39\\lib\\site-packages\\openfl\\component\\collaborator\\collaborator.py#415\" target=\"_blank\"><span style=\"color: #7f7f7f; text-decoration-color: #7f7f7f\">415</span></a>\n",
       "</pre>\n"
      ],
      "text/plain": [
       "\u001b[2;36m          \u001b[0m\u001b[2;36m \u001b[0mMETRIC   Round \u001b[1;36m2\u001b[0m, collaborator one is sending metric for task train: loss        \u001b[1;36m0.227604\u001b[0m                                         \u001b]8;id=38025;file://C:\\Users\\BHSU\\AppData\\Local\\Programs\\Python\\Python39\\lib\\site-packages\\openfl\\component\\collaborator\\collaborator.py\u001b\\\u001b[2mcollaborator.py\u001b[0m\u001b]8;;\u001b\\\u001b[2m:\u001b[0m\u001b]8;id=289022;file://C:\\Users\\BHSU\\AppData\\Local\\Programs\\Python\\Python39\\lib\\site-packages\\openfl\\component\\collaborator\\collaborator.py#415\u001b\\\u001b[2m415\u001b[0m\u001b]8;;\u001b\\\n"
      ]
     },
     "metadata": {},
     "output_type": "display_data"
    },
    {
     "data": {
      "text/html": [
       "<pre style=\"white-space:pre;overflow-x:auto;line-height:normal;font-family:Menlo,'DejaVu Sans Mono',consolas,'Courier New',monospace\"><span style=\"color: #7fbfbf; text-decoration-color: #7fbfbf\">           </span><span style=\"color: #000080; text-decoration-color: #000080\">INFO    </span> Collaborator one is sending task results for train, round <span style=\"color: #008080; text-decoration-color: #008080; font-weight: bold\">2</span>                                                                <a href=\"file://C:\\Users\\BHSU\\AppData\\Local\\Programs\\Python\\Python39\\lib\\site-packages\\openfl\\component\\aggregator\\aggregator.py\" target=\"_blank\"><span style=\"color: #7f7f7f; text-decoration-color: #7f7f7f\">aggregator.py</span></a><span style=\"color: #7f7f7f; text-decoration-color: #7f7f7f\">:</span><a href=\"file://C:\\Users\\BHSU\\AppData\\Local\\Programs\\Python\\Python39\\lib\\site-packages\\openfl\\component\\aggregator\\aggregator.py#520\" target=\"_blank\"><span style=\"color: #7f7f7f; text-decoration-color: #7f7f7f\">520</span></a>\n",
       "</pre>\n"
      ],
      "text/plain": [
       "\u001b[2;36m          \u001b[0m\u001b[2;36m \u001b[0m\u001b[34mINFO    \u001b[0m Collaborator one is sending task results for train, round \u001b[1;36m2\u001b[0m                                                                \u001b]8;id=849909;file://C:\\Users\\BHSU\\AppData\\Local\\Programs\\Python\\Python39\\lib\\site-packages\\openfl\\component\\aggregator\\aggregator.py\u001b\\\u001b[2maggregator.py\u001b[0m\u001b]8;;\u001b\\\u001b[2m:\u001b[0m\u001b]8;id=444661;file://C:\\Users\\BHSU\\AppData\\Local\\Programs\\Python\\Python39\\lib\\site-packages\\openfl\\component\\aggregator\\aggregator.py#520\u001b\\\u001b[2m520\u001b[0m\u001b]8;;\u001b\\\n"
      ]
     },
     "metadata": {},
     "output_type": "display_data"
    },
    {
     "data": {
      "text/html": [
       "<pre style=\"white-space:pre;overflow-x:auto;line-height:normal;font-family:Menlo,'DejaVu Sans Mono',consolas,'Courier New',monospace\"><span style=\"color: #7fbfbf; text-decoration-color: #7fbfbf\">           </span>METRIC   Round <span style=\"color: #008080; text-decoration-color: #008080; font-weight: bold\">2</span>, collaborator one train result loss:    <span style=\"color: #008080; text-decoration-color: #008080; font-weight: bold\">0.227604</span>                                                                   <a href=\"file://C:\\Users\\BHSU\\AppData\\Local\\Programs\\Python\\Python39\\lib\\site-packages\\openfl\\component\\aggregator\\aggregator.py\" target=\"_blank\"><span style=\"color: #7f7f7f; text-decoration-color: #7f7f7f\">aggregator.py</span></a><span style=\"color: #7f7f7f; text-decoration-color: #7f7f7f\">:</span><a href=\"file://C:\\Users\\BHSU\\AppData\\Local\\Programs\\Python\\Python39\\lib\\site-packages\\openfl\\component\\aggregator\\aggregator.py#559\" target=\"_blank\"><span style=\"color: #7f7f7f; text-decoration-color: #7f7f7f\">559</span></a>\n",
       "</pre>\n"
      ],
      "text/plain": [
       "\u001b[2;36m          \u001b[0m\u001b[2;36m \u001b[0mMETRIC   Round \u001b[1;36m2\u001b[0m, collaborator one train result loss:    \u001b[1;36m0.227604\u001b[0m                                                                   \u001b]8;id=414121;file://C:\\Users\\BHSU\\AppData\\Local\\Programs\\Python\\Python39\\lib\\site-packages\\openfl\\component\\aggregator\\aggregator.py\u001b\\\u001b[2maggregator.py\u001b[0m\u001b]8;;\u001b\\\u001b[2m:\u001b[0m\u001b]8;id=551034;file://C:\\Users\\BHSU\\AppData\\Local\\Programs\\Python\\Python39\\lib\\site-packages\\openfl\\component\\aggregator\\aggregator.py#559\u001b\\\u001b[2m559\u001b[0m\u001b]8;;\u001b\\\n"
      ]
     },
     "metadata": {},
     "output_type": "display_data"
    },
    {
     "data": {
      "text/html": [
       "<pre style=\"white-space:pre;overflow-x:auto;line-height:normal;font-family:Menlo,'DejaVu Sans Mono',consolas,'Courier New',monospace\"><span style=\"color: #7fbfbf; text-decoration-color: #7fbfbf\">           </span><span style=\"color: #000080; text-decoration-color: #000080\">INFO    </span> Using TaskRunner subclassing API                                                                                         <a href=\"file://C:\\Users\\BHSU\\AppData\\Local\\Programs\\Python\\Python39\\lib\\site-packages\\openfl\\component\\collaborator\\collaborator.py\" target=\"_blank\"><span style=\"color: #7f7f7f; text-decoration-color: #7f7f7f\">collaborator.py</span></a><span style=\"color: #7f7f7f; text-decoration-color: #7f7f7f\">:</span><a href=\"file://C:\\Users\\BHSU\\AppData\\Local\\Programs\\Python\\Python39\\lib\\site-packages\\openfl\\component\\collaborator\\collaborator.py#253\" target=\"_blank\"><span style=\"color: #7f7f7f; text-decoration-color: #7f7f7f\">253</span></a>\n",
       "</pre>\n"
      ],
      "text/plain": [
       "\u001b[2;36m          \u001b[0m\u001b[2;36m \u001b[0m\u001b[34mINFO    \u001b[0m Using TaskRunner subclassing API                                                                                         \u001b]8;id=440768;file://C:\\Users\\BHSU\\AppData\\Local\\Programs\\Python\\Python39\\lib\\site-packages\\openfl\\component\\collaborator\\collaborator.py\u001b\\\u001b[2mcollaborator.py\u001b[0m\u001b]8;;\u001b\\\u001b[2m:\u001b[0m\u001b]8;id=156982;file://C:\\Users\\BHSU\\AppData\\Local\\Programs\\Python\\Python39\\lib\\site-packages\\openfl\\component\\collaborator\\collaborator.py#253\u001b\\\u001b[2m253\u001b[0m\u001b]8;;\u001b\\\n"
      ]
     },
     "metadata": {},
     "output_type": "display_data"
    },
    {
     "name": "stdout",
     "output_type": "stream",
     "text": [
      "282/282 [==============================] - 0s 544us/step - loss: 0.1857 - accuracy: 0.9456\n"
     ]
    },
    {
     "data": {
      "text/html": [
       "<pre style=\"white-space:pre;overflow-x:auto;line-height:normal;font-family:Menlo,'DejaVu Sans Mono',consolas,'Courier New',monospace\"><span style=\"color: #7fbfbf; text-decoration-color: #7fbfbf\">[17:02:19] </span>METRIC   Round <span style=\"color: #008080; text-decoration-color: #008080; font-weight: bold\">2</span>, collaborator one is sending metric for task locally_tuned_model_validation: accuracy   <span style=\"color: #008080; text-decoration-color: #008080; font-weight: bold\">0.945556</span>                 <a href=\"file://C:\\Users\\BHSU\\AppData\\Local\\Programs\\Python\\Python39\\lib\\site-packages\\openfl\\component\\collaborator\\collaborator.py\" target=\"_blank\"><span style=\"color: #7f7f7f; text-decoration-color: #7f7f7f\">collaborator.py</span></a><span style=\"color: #7f7f7f; text-decoration-color: #7f7f7f\">:</span><a href=\"file://C:\\Users\\BHSU\\AppData\\Local\\Programs\\Python\\Python39\\lib\\site-packages\\openfl\\component\\collaborator\\collaborator.py#415\" target=\"_blank\"><span style=\"color: #7f7f7f; text-decoration-color: #7f7f7f\">415</span></a>\n",
       "</pre>\n"
      ],
      "text/plain": [
       "\u001b[2;36m[17:02:19]\u001b[0m\u001b[2;36m \u001b[0mMETRIC   Round \u001b[1;36m2\u001b[0m, collaborator one is sending metric for task locally_tuned_model_validation: accuracy   \u001b[1;36m0.945556\u001b[0m                 \u001b]8;id=447736;file://C:\\Users\\BHSU\\AppData\\Local\\Programs\\Python\\Python39\\lib\\site-packages\\openfl\\component\\collaborator\\collaborator.py\u001b\\\u001b[2mcollaborator.py\u001b[0m\u001b]8;;\u001b\\\u001b[2m:\u001b[0m\u001b]8;id=476902;file://C:\\Users\\BHSU\\AppData\\Local\\Programs\\Python\\Python39\\lib\\site-packages\\openfl\\component\\collaborator\\collaborator.py#415\u001b\\\u001b[2m415\u001b[0m\u001b]8;;\u001b\\\n"
      ]
     },
     "metadata": {},
     "output_type": "display_data"
    },
    {
     "data": {
      "text/html": [
       "<pre style=\"white-space:pre;overflow-x:auto;line-height:normal;font-family:Menlo,'DejaVu Sans Mono',consolas,'Courier New',monospace\"><span style=\"color: #7fbfbf; text-decoration-color: #7fbfbf\">           </span><span style=\"color: #000080; text-decoration-color: #000080\">INFO    </span> Collaborator one is sending task results for locally_tuned_model_validation, round <span style=\"color: #008080; text-decoration-color: #008080; font-weight: bold\">2</span>                                       <a href=\"file://C:\\Users\\BHSU\\AppData\\Local\\Programs\\Python\\Python39\\lib\\site-packages\\openfl\\component\\aggregator\\aggregator.py\" target=\"_blank\"><span style=\"color: #7f7f7f; text-decoration-color: #7f7f7f\">aggregator.py</span></a><span style=\"color: #7f7f7f; text-decoration-color: #7f7f7f\">:</span><a href=\"file://C:\\Users\\BHSU\\AppData\\Local\\Programs\\Python\\Python39\\lib\\site-packages\\openfl\\component\\aggregator\\aggregator.py#520\" target=\"_blank\"><span style=\"color: #7f7f7f; text-decoration-color: #7f7f7f\">520</span></a>\n",
       "</pre>\n"
      ],
      "text/plain": [
       "\u001b[2;36m          \u001b[0m\u001b[2;36m \u001b[0m\u001b[34mINFO    \u001b[0m Collaborator one is sending task results for locally_tuned_model_validation, round \u001b[1;36m2\u001b[0m                                       \u001b]8;id=582607;file://C:\\Users\\BHSU\\AppData\\Local\\Programs\\Python\\Python39\\lib\\site-packages\\openfl\\component\\aggregator\\aggregator.py\u001b\\\u001b[2maggregator.py\u001b[0m\u001b]8;;\u001b\\\u001b[2m:\u001b[0m\u001b]8;id=313776;file://C:\\Users\\BHSU\\AppData\\Local\\Programs\\Python\\Python39\\lib\\site-packages\\openfl\\component\\aggregator\\aggregator.py#520\u001b\\\u001b[2m520\u001b[0m\u001b]8;;\u001b\\\n"
      ]
     },
     "metadata": {},
     "output_type": "display_data"
    },
    {
     "data": {
      "text/html": [
       "<pre style=\"white-space:pre;overflow-x:auto;line-height:normal;font-family:Menlo,'DejaVu Sans Mono',consolas,'Courier New',monospace\"><span style=\"color: #7fbfbf; text-decoration-color: #7fbfbf\">           </span>METRIC   Round <span style=\"color: #008080; text-decoration-color: #008080; font-weight: bold\">2</span>, collaborator validate_local locally_tuned_model_validation result accuracy:    <span style=\"color: #008080; text-decoration-color: #008080; font-weight: bold\">0.945556</span>                           <a href=\"file://C:\\Users\\BHSU\\AppData\\Local\\Programs\\Python\\Python39\\lib\\site-packages\\openfl\\component\\aggregator\\aggregator.py\" target=\"_blank\"><span style=\"color: #7f7f7f; text-decoration-color: #7f7f7f\">aggregator.py</span></a><span style=\"color: #7f7f7f; text-decoration-color: #7f7f7f\">:</span><a href=\"file://C:\\Users\\BHSU\\AppData\\Local\\Programs\\Python\\Python39\\lib\\site-packages\\openfl\\component\\aggregator\\aggregator.py#559\" target=\"_blank\"><span style=\"color: #7f7f7f; text-decoration-color: #7f7f7f\">559</span></a>\n",
       "</pre>\n"
      ],
      "text/plain": [
       "\u001b[2;36m          \u001b[0m\u001b[2;36m \u001b[0mMETRIC   Round \u001b[1;36m2\u001b[0m, collaborator validate_local locally_tuned_model_validation result accuracy:    \u001b[1;36m0.945556\u001b[0m                           \u001b]8;id=162522;file://C:\\Users\\BHSU\\AppData\\Local\\Programs\\Python\\Python39\\lib\\site-packages\\openfl\\component\\aggregator\\aggregator.py\u001b\\\u001b[2maggregator.py\u001b[0m\u001b]8;;\u001b\\\u001b[2m:\u001b[0m\u001b]8;id=340177;file://C:\\Users\\BHSU\\AppData\\Local\\Programs\\Python\\Python39\\lib\\site-packages\\openfl\\component\\aggregator\\aggregator.py#559\u001b\\\u001b[2m559\u001b[0m\u001b]8;;\u001b\\\n"
      ]
     },
     "metadata": {},
     "output_type": "display_data"
    },
    {
     "data": {
      "text/html": [
       "<pre style=\"white-space:pre;overflow-x:auto;line-height:normal;font-family:Menlo,'DejaVu Sans Mono',consolas,'Courier New',monospace\"><span style=\"color: #7fbfbf; text-decoration-color: #7fbfbf\">           </span><span style=\"color: #000080; text-decoration-color: #000080\">INFO    </span> All tasks completed on one for round <span style=\"color: #008080; text-decoration-color: #008080; font-weight: bold\">2</span><span style=\"color: #808000; text-decoration-color: #808000\">...</span>                                                                                <a href=\"file://C:\\Users\\BHSU\\AppData\\Local\\Programs\\Python\\Python39\\lib\\site-packages\\openfl\\component\\collaborator\\collaborator.py\" target=\"_blank\"><span style=\"color: #7f7f7f; text-decoration-color: #7f7f7f\">collaborator.py</span></a><span style=\"color: #7f7f7f; text-decoration-color: #7f7f7f\">:</span><a href=\"file://C:\\Users\\BHSU\\AppData\\Local\\Programs\\Python\\Python39\\lib\\site-packages\\openfl\\component\\collaborator\\collaborator.py#171\" target=\"_blank\"><span style=\"color: #7f7f7f; text-decoration-color: #7f7f7f\">171</span></a>\n",
       "</pre>\n"
      ],
      "text/plain": [
       "\u001b[2;36m          \u001b[0m\u001b[2;36m \u001b[0m\u001b[34mINFO    \u001b[0m All tasks completed on one for round \u001b[1;36m2\u001b[0m\u001b[33m...\u001b[0m                                                                                \u001b]8;id=906093;file://C:\\Users\\BHSU\\AppData\\Local\\Programs\\Python\\Python39\\lib\\site-packages\\openfl\\component\\collaborator\\collaborator.py\u001b\\\u001b[2mcollaborator.py\u001b[0m\u001b]8;;\u001b\\\u001b[2m:\u001b[0m\u001b]8;id=574037;file://C:\\Users\\BHSU\\AppData\\Local\\Programs\\Python\\Python39\\lib\\site-packages\\openfl\\component\\collaborator\\collaborator.py#171\u001b\\\u001b[2m171\u001b[0m\u001b]8;;\u001b\\\n"
      ]
     },
     "metadata": {},
     "output_type": "display_data"
    },
    {
     "data": {
      "text/html": [
       "<pre style=\"white-space:pre;overflow-x:auto;line-height:normal;font-family:Menlo,'DejaVu Sans Mono',consolas,'Courier New',monospace\"><span style=\"color: #7fbfbf; text-decoration-color: #7fbfbf\">           </span><span style=\"color: #000080; text-decoration-color: #000080\">INFO    </span> Waiting for tasks<span style=\"color: #808000; text-decoration-color: #808000\">...</span>                                                                                                     <a href=\"file://C:\\Users\\BHSU\\AppData\\Local\\Programs\\Python\\Python39\\lib\\site-packages\\openfl\\component\\collaborator\\collaborator.py\" target=\"_blank\"><span style=\"color: #7f7f7f; text-decoration-color: #7f7f7f\">collaborator.py</span></a><span style=\"color: #7f7f7f; text-decoration-color: #7f7f7f\">:</span><a href=\"file://C:\\Users\\BHSU\\AppData\\Local\\Programs\\Python\\Python39\\lib\\site-packages\\openfl\\component\\collaborator\\collaborator.py#178\" target=\"_blank\"><span style=\"color: #7f7f7f; text-decoration-color: #7f7f7f\">178</span></a>\n",
       "</pre>\n"
      ],
      "text/plain": [
       "\u001b[2;36m          \u001b[0m\u001b[2;36m \u001b[0m\u001b[34mINFO    \u001b[0m Waiting for tasks\u001b[33m...\u001b[0m                                                                                                     \u001b]8;id=3040;file://C:\\Users\\BHSU\\AppData\\Local\\Programs\\Python\\Python39\\lib\\site-packages\\openfl\\component\\collaborator\\collaborator.py\u001b\\\u001b[2mcollaborator.py\u001b[0m\u001b]8;;\u001b\\\u001b[2m:\u001b[0m\u001b]8;id=133765;file://C:\\Users\\BHSU\\AppData\\Local\\Programs\\Python\\Python39\\lib\\site-packages\\openfl\\component\\collaborator\\collaborator.py#178\u001b\\\u001b[2m178\u001b[0m\u001b]8;;\u001b\\\n"
      ]
     },
     "metadata": {},
     "output_type": "display_data"
    },
    {
     "data": {
      "text/html": [
       "<pre style=\"white-space:pre;overflow-x:auto;line-height:normal;font-family:Menlo,'DejaVu Sans Mono',consolas,'Courier New',monospace\"><span style=\"color: #7fbfbf; text-decoration-color: #7fbfbf\">           </span><span style=\"color: #000080; text-decoration-color: #000080\">INFO    </span> Sending tasks to collaborator two for round <span style=\"color: #008080; text-decoration-color: #008080; font-weight: bold\">2</span>                                                                              <a href=\"file://C:\\Users\\BHSU\\AppData\\Local\\Programs\\Python\\Python39\\lib\\site-packages\\openfl\\component\\aggregator\\aggregator.py\" target=\"_blank\"><span style=\"color: #7f7f7f; text-decoration-color: #7f7f7f\">aggregator.py</span></a><span style=\"color: #7f7f7f; text-decoration-color: #7f7f7f\">:</span><a href=\"file://C:\\Users\\BHSU\\AppData\\Local\\Programs\\Python\\Python39\\lib\\site-packages\\openfl\\component\\aggregator\\aggregator.py#329\" target=\"_blank\"><span style=\"color: #7f7f7f; text-decoration-color: #7f7f7f\">329</span></a>\n",
       "</pre>\n"
      ],
      "text/plain": [
       "\u001b[2;36m          \u001b[0m\u001b[2;36m \u001b[0m\u001b[34mINFO    \u001b[0m Sending tasks to collaborator two for round \u001b[1;36m2\u001b[0m                                                                              \u001b]8;id=403094;file://C:\\Users\\BHSU\\AppData\\Local\\Programs\\Python\\Python39\\lib\\site-packages\\openfl\\component\\aggregator\\aggregator.py\u001b\\\u001b[2maggregator.py\u001b[0m\u001b]8;;\u001b\\\u001b[2m:\u001b[0m\u001b]8;id=839521;file://C:\\Users\\BHSU\\AppData\\Local\\Programs\\Python\\Python39\\lib\\site-packages\\openfl\\component\\aggregator\\aggregator.py#329\u001b\\\u001b[2m329\u001b[0m\u001b]8;;\u001b\\\n"
      ]
     },
     "metadata": {},
     "output_type": "display_data"
    },
    {
     "data": {
      "text/html": [
       "<pre style=\"white-space:pre;overflow-x:auto;line-height:normal;font-family:Menlo,'DejaVu Sans Mono',consolas,'Courier New',monospace\"><span style=\"color: #7fbfbf; text-decoration-color: #7fbfbf\">           </span><span style=\"color: #000080; text-decoration-color: #000080\">INFO    </span> Received the following tasks: <span style=\"font-weight: bold\">[</span><span style=\"color: #008000; text-decoration-color: #008000\">'aggregated_model_validation'</span>, <span style=\"color: #008000; text-decoration-color: #008000\">'train'</span>, <span style=\"color: #008000; text-decoration-color: #008000\">'locally_tuned_model_validation'</span><span style=\"font-weight: bold\">]</span>                 <a href=\"file://C:\\Users\\BHSU\\AppData\\Local\\Programs\\Python\\Python39\\lib\\site-packages\\openfl\\component\\collaborator\\collaborator.py\" target=\"_blank\"><span style=\"color: #7f7f7f; text-decoration-color: #7f7f7f\">collaborator.py</span></a><span style=\"color: #7f7f7f; text-decoration-color: #7f7f7f\">:</span><a href=\"file://C:\\Users\\BHSU\\AppData\\Local\\Programs\\Python\\Python39\\lib\\site-packages\\openfl\\component\\collaborator\\collaborator.py#168\" target=\"_blank\"><span style=\"color: #7f7f7f; text-decoration-color: #7f7f7f\">168</span></a>\n",
       "</pre>\n"
      ],
      "text/plain": [
       "\u001b[2;36m          \u001b[0m\u001b[2;36m \u001b[0m\u001b[34mINFO    \u001b[0m Received the following tasks: \u001b[1m[\u001b[0m\u001b[32m'aggregated_model_validation'\u001b[0m, \u001b[32m'train'\u001b[0m, \u001b[32m'locally_tuned_model_validation'\u001b[0m\u001b[1m]\u001b[0m                 \u001b]8;id=597459;file://C:\\Users\\BHSU\\AppData\\Local\\Programs\\Python\\Python39\\lib\\site-packages\\openfl\\component\\collaborator\\collaborator.py\u001b\\\u001b[2mcollaborator.py\u001b[0m\u001b]8;;\u001b\\\u001b[2m:\u001b[0m\u001b]8;id=539212;file://C:\\Users\\BHSU\\AppData\\Local\\Programs\\Python\\Python39\\lib\\site-packages\\openfl\\component\\collaborator\\collaborator.py#168\u001b\\\u001b[2m168\u001b[0m\u001b]8;;\u001b\\\n"
      ]
     },
     "metadata": {},
     "output_type": "display_data"
    },
    {
     "data": {
      "text/html": [
       "<pre style=\"white-space:pre;overflow-x:auto;line-height:normal;font-family:Menlo,'DejaVu Sans Mono',consolas,'Courier New',monospace\"><span style=\"color: #7fbfbf; text-decoration-color: #7fbfbf\">           </span><span style=\"color: #000080; text-decoration-color: #000080\">INFO    </span> Using TaskRunner subclassing API                                                                                         <a href=\"file://C:\\Users\\BHSU\\AppData\\Local\\Programs\\Python\\Python39\\lib\\site-packages\\openfl\\component\\collaborator\\collaborator.py\" target=\"_blank\"><span style=\"color: #7f7f7f; text-decoration-color: #7f7f7f\">collaborator.py</span></a><span style=\"color: #7f7f7f; text-decoration-color: #7f7f7f\">:</span><a href=\"file://C:\\Users\\BHSU\\AppData\\Local\\Programs\\Python\\Python39\\lib\\site-packages\\openfl\\component\\collaborator\\collaborator.py#253\" target=\"_blank\"><span style=\"color: #7f7f7f; text-decoration-color: #7f7f7f\">253</span></a>\n",
       "</pre>\n"
      ],
      "text/plain": [
       "\u001b[2;36m          \u001b[0m\u001b[2;36m \u001b[0m\u001b[34mINFO    \u001b[0m Using TaskRunner subclassing API                                                                                         \u001b]8;id=574966;file://C:\\Users\\BHSU\\AppData\\Local\\Programs\\Python\\Python39\\lib\\site-packages\\openfl\\component\\collaborator\\collaborator.py\u001b\\\u001b[2mcollaborator.py\u001b[0m\u001b]8;;\u001b\\\u001b[2m:\u001b[0m\u001b]8;id=917740;file://C:\\Users\\BHSU\\AppData\\Local\\Programs\\Python\\Python39\\lib\\site-packages\\openfl\\component\\collaborator\\collaborator.py#253\u001b\\\u001b[2m253\u001b[0m\u001b]8;;\u001b\\\n"
      ]
     },
     "metadata": {},
     "output_type": "display_data"
    },
    {
     "name": "stdout",
     "output_type": "stream",
     "text": [
      "282/282 [==============================] - 0s 527us/step - loss: 0.2303 - accuracy: 0.9297\n"
     ]
    },
    {
     "data": {
      "text/html": [
       "<pre style=\"white-space:pre;overflow-x:auto;line-height:normal;font-family:Menlo,'DejaVu Sans Mono',consolas,'Courier New',monospace\"><span style=\"color: #7fbfbf; text-decoration-color: #7fbfbf\">           </span>METRIC   Round <span style=\"color: #008080; text-decoration-color: #008080; font-weight: bold\">2</span>, collaborator two is sending metric for task aggregated_model_validation: accuracy      <span style=\"color: #008080; text-decoration-color: #008080; font-weight: bold\">0.929667</span>                 <a href=\"file://C:\\Users\\BHSU\\AppData\\Local\\Programs\\Python\\Python39\\lib\\site-packages\\openfl\\component\\collaborator\\collaborator.py\" target=\"_blank\"><span style=\"color: #7f7f7f; text-decoration-color: #7f7f7f\">collaborator.py</span></a><span style=\"color: #7f7f7f; text-decoration-color: #7f7f7f\">:</span><a href=\"file://C:\\Users\\BHSU\\AppData\\Local\\Programs\\Python\\Python39\\lib\\site-packages\\openfl\\component\\collaborator\\collaborator.py#415\" target=\"_blank\"><span style=\"color: #7f7f7f; text-decoration-color: #7f7f7f\">415</span></a>\n",
       "</pre>\n"
      ],
      "text/plain": [
       "\u001b[2;36m          \u001b[0m\u001b[2;36m \u001b[0mMETRIC   Round \u001b[1;36m2\u001b[0m, collaborator two is sending metric for task aggregated_model_validation: accuracy      \u001b[1;36m0.929667\u001b[0m                 \u001b]8;id=466396;file://C:\\Users\\BHSU\\AppData\\Local\\Programs\\Python\\Python39\\lib\\site-packages\\openfl\\component\\collaborator\\collaborator.py\u001b\\\u001b[2mcollaborator.py\u001b[0m\u001b]8;;\u001b\\\u001b[2m:\u001b[0m\u001b]8;id=280647;file://C:\\Users\\BHSU\\AppData\\Local\\Programs\\Python\\Python39\\lib\\site-packages\\openfl\\component\\collaborator\\collaborator.py#415\u001b\\\u001b[2m415\u001b[0m\u001b]8;;\u001b\\\n"
      ]
     },
     "metadata": {},
     "output_type": "display_data"
    },
    {
     "data": {
      "text/html": [
       "<pre style=\"white-space:pre;overflow-x:auto;line-height:normal;font-family:Menlo,'DejaVu Sans Mono',consolas,'Courier New',monospace\"><span style=\"color: #7fbfbf; text-decoration-color: #7fbfbf\">           </span><span style=\"color: #000080; text-decoration-color: #000080\">INFO    </span> Collaborator two is sending task results for aggregated_model_validation, round <span style=\"color: #008080; text-decoration-color: #008080; font-weight: bold\">2</span>                                          <a href=\"file://C:\\Users\\BHSU\\AppData\\Local\\Programs\\Python\\Python39\\lib\\site-packages\\openfl\\component\\aggregator\\aggregator.py\" target=\"_blank\"><span style=\"color: #7f7f7f; text-decoration-color: #7f7f7f\">aggregator.py</span></a><span style=\"color: #7f7f7f; text-decoration-color: #7f7f7f\">:</span><a href=\"file://C:\\Users\\BHSU\\AppData\\Local\\Programs\\Python\\Python39\\lib\\site-packages\\openfl\\component\\aggregator\\aggregator.py#520\" target=\"_blank\"><span style=\"color: #7f7f7f; text-decoration-color: #7f7f7f\">520</span></a>\n",
       "</pre>\n"
      ],
      "text/plain": [
       "\u001b[2;36m          \u001b[0m\u001b[2;36m \u001b[0m\u001b[34mINFO    \u001b[0m Collaborator two is sending task results for aggregated_model_validation, round \u001b[1;36m2\u001b[0m                                          \u001b]8;id=339154;file://C:\\Users\\BHSU\\AppData\\Local\\Programs\\Python\\Python39\\lib\\site-packages\\openfl\\component\\aggregator\\aggregator.py\u001b\\\u001b[2maggregator.py\u001b[0m\u001b]8;;\u001b\\\u001b[2m:\u001b[0m\u001b]8;id=401404;file://C:\\Users\\BHSU\\AppData\\Local\\Programs\\Python\\Python39\\lib\\site-packages\\openfl\\component\\aggregator\\aggregator.py#520\u001b\\\u001b[2m520\u001b[0m\u001b]8;;\u001b\\\n"
      ]
     },
     "metadata": {},
     "output_type": "display_data"
    },
    {
     "data": {
      "text/html": [
       "<pre style=\"white-space:pre;overflow-x:auto;line-height:normal;font-family:Menlo,'DejaVu Sans Mono',consolas,'Courier New',monospace\"><span style=\"color: #7fbfbf; text-decoration-color: #7fbfbf\">           </span>METRIC   Round <span style=\"color: #008080; text-decoration-color: #008080; font-weight: bold\">2</span>, collaborator validate_agg aggregated_model_validation result accuracy: <span style=\"color: #008080; text-decoration-color: #008080; font-weight: bold\">0.929667</span>                                   <a href=\"file://C:\\Users\\BHSU\\AppData\\Local\\Programs\\Python\\Python39\\lib\\site-packages\\openfl\\component\\aggregator\\aggregator.py\" target=\"_blank\"><span style=\"color: #7f7f7f; text-decoration-color: #7f7f7f\">aggregator.py</span></a><span style=\"color: #7f7f7f; text-decoration-color: #7f7f7f\">:</span><a href=\"file://C:\\Users\\BHSU\\AppData\\Local\\Programs\\Python\\Python39\\lib\\site-packages\\openfl\\component\\aggregator\\aggregator.py#559\" target=\"_blank\"><span style=\"color: #7f7f7f; text-decoration-color: #7f7f7f\">559</span></a>\n",
       "</pre>\n"
      ],
      "text/plain": [
       "\u001b[2;36m          \u001b[0m\u001b[2;36m \u001b[0mMETRIC   Round \u001b[1;36m2\u001b[0m, collaborator validate_agg aggregated_model_validation result accuracy: \u001b[1;36m0.929667\u001b[0m                                   \u001b]8;id=145224;file://C:\\Users\\BHSU\\AppData\\Local\\Programs\\Python\\Python39\\lib\\site-packages\\openfl\\component\\aggregator\\aggregator.py\u001b\\\u001b[2maggregator.py\u001b[0m\u001b]8;;\u001b\\\u001b[2m:\u001b[0m\u001b]8;id=660238;file://C:\\Users\\BHSU\\AppData\\Local\\Programs\\Python\\Python39\\lib\\site-packages\\openfl\\component\\aggregator\\aggregator.py#559\u001b\\\u001b[2m559\u001b[0m\u001b]8;;\u001b\\\n"
      ]
     },
     "metadata": {},
     "output_type": "display_data"
    },
    {
     "data": {
      "text/html": [
       "<pre style=\"white-space:pre;overflow-x:auto;line-height:normal;font-family:Menlo,'DejaVu Sans Mono',consolas,'Courier New',monospace\"><span style=\"color: #7fbfbf; text-decoration-color: #7fbfbf\">           </span><span style=\"color: #000080; text-decoration-color: #000080\">INFO    </span> Using TaskRunner subclassing API                                                                                         <a href=\"file://C:\\Users\\BHSU\\AppData\\Local\\Programs\\Python\\Python39\\lib\\site-packages\\openfl\\component\\collaborator\\collaborator.py\" target=\"_blank\"><span style=\"color: #7f7f7f; text-decoration-color: #7f7f7f\">collaborator.py</span></a><span style=\"color: #7f7f7f; text-decoration-color: #7f7f7f\">:</span><a href=\"file://C:\\Users\\BHSU\\AppData\\Local\\Programs\\Python\\Python39\\lib\\site-packages\\openfl\\component\\collaborator\\collaborator.py#253\" target=\"_blank\"><span style=\"color: #7f7f7f; text-decoration-color: #7f7f7f\">253</span></a>\n",
       "</pre>\n"
      ],
      "text/plain": [
       "\u001b[2;36m          \u001b[0m\u001b[2;36m \u001b[0m\u001b[34mINFO    \u001b[0m Using TaskRunner subclassing API                                                                                         \u001b]8;id=12948;file://C:\\Users\\BHSU\\AppData\\Local\\Programs\\Python\\Python39\\lib\\site-packages\\openfl\\component\\collaborator\\collaborator.py\u001b\\\u001b[2mcollaborator.py\u001b[0m\u001b]8;;\u001b\\\u001b[2m:\u001b[0m\u001b]8;id=167929;file://C:\\Users\\BHSU\\AppData\\Local\\Programs\\Python\\Python39\\lib\\site-packages\\openfl\\component\\collaborator\\collaborator.py#253\u001b\\\u001b[2m253\u001b[0m\u001b]8;;\u001b\\\n"
      ]
     },
     "metadata": {},
     "output_type": "display_data"
    },
    {
     "data": {
      "text/html": [
       "<pre style=\"white-space:pre;overflow-x:auto;line-height:normal;font-family:Menlo,'DejaVu Sans Mono',consolas,'Courier New',monospace\"><span style=\"color: #7fbfbf; text-decoration-color: #7fbfbf\">           </span><span style=\"color: #000080; text-decoration-color: #000080\">INFO    </span> Run <span style=\"color: #008080; text-decoration-color: #008080; font-weight: bold\">0</span> epoch of <span style=\"color: #008080; text-decoration-color: #008080; font-weight: bold\">2</span> round                                                                                                    <a href=\"file://C:\\Users\\BHSU\\AppData\\Local\\Programs\\Python\\Python39\\lib\\site-packages\\openfl\\federated\\task\\runner_keras.py\" target=\"_blank\"><span style=\"color: #7f7f7f; text-decoration-color: #7f7f7f\">runner_keras.py</span></a><span style=\"color: #7f7f7f; text-decoration-color: #7f7f7f\">:</span><a href=\"file://C:\\Users\\BHSU\\AppData\\Local\\Programs\\Python\\Python39\\lib\\site-packages\\openfl\\federated\\task\\runner_keras.py#83\" target=\"_blank\"><span style=\"color: #7f7f7f; text-decoration-color: #7f7f7f\">83</span></a>\n",
       "</pre>\n"
      ],
      "text/plain": [
       "\u001b[2;36m          \u001b[0m\u001b[2;36m \u001b[0m\u001b[34mINFO    \u001b[0m Run \u001b[1;36m0\u001b[0m epoch of \u001b[1;36m2\u001b[0m round                                                                                                    \u001b]8;id=722343;file://C:\\Users\\BHSU\\AppData\\Local\\Programs\\Python\\Python39\\lib\\site-packages\\openfl\\federated\\task\\runner_keras.py\u001b\\\u001b[2mrunner_keras.py\u001b[0m\u001b]8;;\u001b\\\u001b[2m:\u001b[0m\u001b]8;id=149155;file://C:\\Users\\BHSU\\AppData\\Local\\Programs\\Python\\Python39\\lib\\site-packages\\openfl\\federated\\task\\runner_keras.py#83\u001b\\\u001b[2m83\u001b[0m\u001b]8;;\u001b\\\n"
      ]
     },
     "metadata": {},
     "output_type": "display_data"
    },
    {
     "name": "stdout",
     "output_type": "stream",
     "text": [
      "657/657 [==============================] - 0s 645us/step - loss: 0.2189 - accuracy: 0.9334\n"
     ]
    },
    {
     "data": {
      "text/html": [
       "<pre style=\"white-space:pre;overflow-x:auto;line-height:normal;font-family:Menlo,'DejaVu Sans Mono',consolas,'Courier New',monospace\"><span style=\"color: #7fbfbf; text-decoration-color: #7fbfbf\">           </span>METRIC   Round <span style=\"color: #008080; text-decoration-color: #008080; font-weight: bold\">2</span>, collaborator two is sending metric for task train: loss        <span style=\"color: #008080; text-decoration-color: #008080; font-weight: bold\">0.218894</span>                                         <a href=\"file://C:\\Users\\BHSU\\AppData\\Local\\Programs\\Python\\Python39\\lib\\site-packages\\openfl\\component\\collaborator\\collaborator.py\" target=\"_blank\"><span style=\"color: #7f7f7f; text-decoration-color: #7f7f7f\">collaborator.py</span></a><span style=\"color: #7f7f7f; text-decoration-color: #7f7f7f\">:</span><a href=\"file://C:\\Users\\BHSU\\AppData\\Local\\Programs\\Python\\Python39\\lib\\site-packages\\openfl\\component\\collaborator\\collaborator.py#415\" target=\"_blank\"><span style=\"color: #7f7f7f; text-decoration-color: #7f7f7f\">415</span></a>\n",
       "</pre>\n"
      ],
      "text/plain": [
       "\u001b[2;36m          \u001b[0m\u001b[2;36m \u001b[0mMETRIC   Round \u001b[1;36m2\u001b[0m, collaborator two is sending metric for task train: loss        \u001b[1;36m0.218894\u001b[0m                                         \u001b]8;id=969443;file://C:\\Users\\BHSU\\AppData\\Local\\Programs\\Python\\Python39\\lib\\site-packages\\openfl\\component\\collaborator\\collaborator.py\u001b\\\u001b[2mcollaborator.py\u001b[0m\u001b]8;;\u001b\\\u001b[2m:\u001b[0m\u001b]8;id=455631;file://C:\\Users\\BHSU\\AppData\\Local\\Programs\\Python\\Python39\\lib\\site-packages\\openfl\\component\\collaborator\\collaborator.py#415\u001b\\\u001b[2m415\u001b[0m\u001b]8;;\u001b\\\n"
      ]
     },
     "metadata": {},
     "output_type": "display_data"
    },
    {
     "data": {
      "text/html": [
       "<pre style=\"white-space:pre;overflow-x:auto;line-height:normal;font-family:Menlo,'DejaVu Sans Mono',consolas,'Courier New',monospace\"><span style=\"color: #7fbfbf; text-decoration-color: #7fbfbf\">           </span><span style=\"color: #000080; text-decoration-color: #000080\">INFO    </span> Collaborator two is sending task results for train, round <span style=\"color: #008080; text-decoration-color: #008080; font-weight: bold\">2</span>                                                                <a href=\"file://C:\\Users\\BHSU\\AppData\\Local\\Programs\\Python\\Python39\\lib\\site-packages\\openfl\\component\\aggregator\\aggregator.py\" target=\"_blank\"><span style=\"color: #7f7f7f; text-decoration-color: #7f7f7f\">aggregator.py</span></a><span style=\"color: #7f7f7f; text-decoration-color: #7f7f7f\">:</span><a href=\"file://C:\\Users\\BHSU\\AppData\\Local\\Programs\\Python\\Python39\\lib\\site-packages\\openfl\\component\\aggregator\\aggregator.py#520\" target=\"_blank\"><span style=\"color: #7f7f7f; text-decoration-color: #7f7f7f\">520</span></a>\n",
       "</pre>\n"
      ],
      "text/plain": [
       "\u001b[2;36m          \u001b[0m\u001b[2;36m \u001b[0m\u001b[34mINFO    \u001b[0m Collaborator two is sending task results for train, round \u001b[1;36m2\u001b[0m                                                                \u001b]8;id=456741;file://C:\\Users\\BHSU\\AppData\\Local\\Programs\\Python\\Python39\\lib\\site-packages\\openfl\\component\\aggregator\\aggregator.py\u001b\\\u001b[2maggregator.py\u001b[0m\u001b]8;;\u001b\\\u001b[2m:\u001b[0m\u001b]8;id=394290;file://C:\\Users\\BHSU\\AppData\\Local\\Programs\\Python\\Python39\\lib\\site-packages\\openfl\\component\\aggregator\\aggregator.py#520\u001b\\\u001b[2m520\u001b[0m\u001b]8;;\u001b\\\n"
      ]
     },
     "metadata": {},
     "output_type": "display_data"
    },
    {
     "data": {
      "text/html": [
       "<pre style=\"white-space:pre;overflow-x:auto;line-height:normal;font-family:Menlo,'DejaVu Sans Mono',consolas,'Courier New',monospace\"><span style=\"color: #7fbfbf; text-decoration-color: #7fbfbf\">           </span>METRIC   Round <span style=\"color: #008080; text-decoration-color: #008080; font-weight: bold\">2</span>, collaborator two train result loss:    <span style=\"color: #008080; text-decoration-color: #008080; font-weight: bold\">0.218894</span>                                                                   <a href=\"file://C:\\Users\\BHSU\\AppData\\Local\\Programs\\Python\\Python39\\lib\\site-packages\\openfl\\component\\aggregator\\aggregator.py\" target=\"_blank\"><span style=\"color: #7f7f7f; text-decoration-color: #7f7f7f\">aggregator.py</span></a><span style=\"color: #7f7f7f; text-decoration-color: #7f7f7f\">:</span><a href=\"file://C:\\Users\\BHSU\\AppData\\Local\\Programs\\Python\\Python39\\lib\\site-packages\\openfl\\component\\aggregator\\aggregator.py#559\" target=\"_blank\"><span style=\"color: #7f7f7f; text-decoration-color: #7f7f7f\">559</span></a>\n",
       "</pre>\n"
      ],
      "text/plain": [
       "\u001b[2;36m          \u001b[0m\u001b[2;36m \u001b[0mMETRIC   Round \u001b[1;36m2\u001b[0m, collaborator two train result loss:    \u001b[1;36m0.218894\u001b[0m                                                                   \u001b]8;id=439282;file://C:\\Users\\BHSU\\AppData\\Local\\Programs\\Python\\Python39\\lib\\site-packages\\openfl\\component\\aggregator\\aggregator.py\u001b\\\u001b[2maggregator.py\u001b[0m\u001b]8;;\u001b\\\u001b[2m:\u001b[0m\u001b]8;id=276396;file://C:\\Users\\BHSU\\AppData\\Local\\Programs\\Python\\Python39\\lib\\site-packages\\openfl\\component\\aggregator\\aggregator.py#559\u001b\\\u001b[2m559\u001b[0m\u001b]8;;\u001b\\\n"
      ]
     },
     "metadata": {},
     "output_type": "display_data"
    },
    {
     "data": {
      "text/html": [
       "<pre style=\"white-space:pre;overflow-x:auto;line-height:normal;font-family:Menlo,'DejaVu Sans Mono',consolas,'Courier New',monospace\"><span style=\"color: #7fbfbf; text-decoration-color: #7fbfbf\">           </span><span style=\"color: #000080; text-decoration-color: #000080\">INFO    </span> Using TaskRunner subclassing API                                                                                         <a href=\"file://C:\\Users\\BHSU\\AppData\\Local\\Programs\\Python\\Python39\\lib\\site-packages\\openfl\\component\\collaborator\\collaborator.py\" target=\"_blank\"><span style=\"color: #7f7f7f; text-decoration-color: #7f7f7f\">collaborator.py</span></a><span style=\"color: #7f7f7f; text-decoration-color: #7f7f7f\">:</span><a href=\"file://C:\\Users\\BHSU\\AppData\\Local\\Programs\\Python\\Python39\\lib\\site-packages\\openfl\\component\\collaborator\\collaborator.py#253\" target=\"_blank\"><span style=\"color: #7f7f7f; text-decoration-color: #7f7f7f\">253</span></a>\n",
       "</pre>\n"
      ],
      "text/plain": [
       "\u001b[2;36m          \u001b[0m\u001b[2;36m \u001b[0m\u001b[34mINFO    \u001b[0m Using TaskRunner subclassing API                                                                                         \u001b]8;id=637973;file://C:\\Users\\BHSU\\AppData\\Local\\Programs\\Python\\Python39\\lib\\site-packages\\openfl\\component\\collaborator\\collaborator.py\u001b\\\u001b[2mcollaborator.py\u001b[0m\u001b]8;;\u001b\\\u001b[2m:\u001b[0m\u001b]8;id=553932;file://C:\\Users\\BHSU\\AppData\\Local\\Programs\\Python\\Python39\\lib\\site-packages\\openfl\\component\\collaborator\\collaborator.py#253\u001b\\\u001b[2m253\u001b[0m\u001b]8;;\u001b\\\n"
      ]
     },
     "metadata": {},
     "output_type": "display_data"
    },
    {
     "name": "stdout",
     "output_type": "stream",
     "text": [
      "282/282 [==============================] - 0s 495us/step - loss: 0.2690 - accuracy: 0.9169\n"
     ]
    },
    {
     "data": {
      "text/html": [
       "<pre style=\"white-space:pre;overflow-x:auto;line-height:normal;font-family:Menlo,'DejaVu Sans Mono',consolas,'Courier New',monospace\"><span style=\"color: #7fbfbf; text-decoration-color: #7fbfbf\">           </span>METRIC   Round <span style=\"color: #008080; text-decoration-color: #008080; font-weight: bold\">2</span>, collaborator two is sending metric for task locally_tuned_model_validation: accuracy   <span style=\"color: #008080; text-decoration-color: #008080; font-weight: bold\">0.916889</span>                 <a href=\"file://C:\\Users\\BHSU\\AppData\\Local\\Programs\\Python\\Python39\\lib\\site-packages\\openfl\\component\\collaborator\\collaborator.py\" target=\"_blank\"><span style=\"color: #7f7f7f; text-decoration-color: #7f7f7f\">collaborator.py</span></a><span style=\"color: #7f7f7f; text-decoration-color: #7f7f7f\">:</span><a href=\"file://C:\\Users\\BHSU\\AppData\\Local\\Programs\\Python\\Python39\\lib\\site-packages\\openfl\\component\\collaborator\\collaborator.py#415\" target=\"_blank\"><span style=\"color: #7f7f7f; text-decoration-color: #7f7f7f\">415</span></a>\n",
       "</pre>\n"
      ],
      "text/plain": [
       "\u001b[2;36m          \u001b[0m\u001b[2;36m \u001b[0mMETRIC   Round \u001b[1;36m2\u001b[0m, collaborator two is sending metric for task locally_tuned_model_validation: accuracy   \u001b[1;36m0.916889\u001b[0m                 \u001b]8;id=854552;file://C:\\Users\\BHSU\\AppData\\Local\\Programs\\Python\\Python39\\lib\\site-packages\\openfl\\component\\collaborator\\collaborator.py\u001b\\\u001b[2mcollaborator.py\u001b[0m\u001b]8;;\u001b\\\u001b[2m:\u001b[0m\u001b]8;id=461318;file://C:\\Users\\BHSU\\AppData\\Local\\Programs\\Python\\Python39\\lib\\site-packages\\openfl\\component\\collaborator\\collaborator.py#415\u001b\\\u001b[2m415\u001b[0m\u001b]8;;\u001b\\\n"
      ]
     },
     "metadata": {},
     "output_type": "display_data"
    },
    {
     "data": {
      "text/html": [
       "<pre style=\"white-space:pre;overflow-x:auto;line-height:normal;font-family:Menlo,'DejaVu Sans Mono',consolas,'Courier New',monospace\"><span style=\"color: #7fbfbf; text-decoration-color: #7fbfbf\">           </span><span style=\"color: #000080; text-decoration-color: #000080\">INFO    </span> Collaborator two is sending task results for locally_tuned_model_validation, round <span style=\"color: #008080; text-decoration-color: #008080; font-weight: bold\">2</span>                                       <a href=\"file://C:\\Users\\BHSU\\AppData\\Local\\Programs\\Python\\Python39\\lib\\site-packages\\openfl\\component\\aggregator\\aggregator.py\" target=\"_blank\"><span style=\"color: #7f7f7f; text-decoration-color: #7f7f7f\">aggregator.py</span></a><span style=\"color: #7f7f7f; text-decoration-color: #7f7f7f\">:</span><a href=\"file://C:\\Users\\BHSU\\AppData\\Local\\Programs\\Python\\Python39\\lib\\site-packages\\openfl\\component\\aggregator\\aggregator.py#520\" target=\"_blank\"><span style=\"color: #7f7f7f; text-decoration-color: #7f7f7f\">520</span></a>\n",
       "</pre>\n"
      ],
      "text/plain": [
       "\u001b[2;36m          \u001b[0m\u001b[2;36m \u001b[0m\u001b[34mINFO    \u001b[0m Collaborator two is sending task results for locally_tuned_model_validation, round \u001b[1;36m2\u001b[0m                                       \u001b]8;id=624756;file://C:\\Users\\BHSU\\AppData\\Local\\Programs\\Python\\Python39\\lib\\site-packages\\openfl\\component\\aggregator\\aggregator.py\u001b\\\u001b[2maggregator.py\u001b[0m\u001b]8;;\u001b\\\u001b[2m:\u001b[0m\u001b]8;id=918202;file://C:\\Users\\BHSU\\AppData\\Local\\Programs\\Python\\Python39\\lib\\site-packages\\openfl\\component\\aggregator\\aggregator.py#520\u001b\\\u001b[2m520\u001b[0m\u001b]8;;\u001b\\\n"
      ]
     },
     "metadata": {},
     "output_type": "display_data"
    },
    {
     "data": {
      "text/html": [
       "<pre style=\"white-space:pre;overflow-x:auto;line-height:normal;font-family:Menlo,'DejaVu Sans Mono',consolas,'Courier New',monospace\"><span style=\"color: #7fbfbf; text-decoration-color: #7fbfbf\">           </span>METRIC   Round <span style=\"color: #008080; text-decoration-color: #008080; font-weight: bold\">2</span>, collaborator validate_local locally_tuned_model_validation result accuracy:    <span style=\"color: #008080; text-decoration-color: #008080; font-weight: bold\">0.916889</span>                           <a href=\"file://C:\\Users\\BHSU\\AppData\\Local\\Programs\\Python\\Python39\\lib\\site-packages\\openfl\\component\\aggregator\\aggregator.py\" target=\"_blank\"><span style=\"color: #7f7f7f; text-decoration-color: #7f7f7f\">aggregator.py</span></a><span style=\"color: #7f7f7f; text-decoration-color: #7f7f7f\">:</span><a href=\"file://C:\\Users\\BHSU\\AppData\\Local\\Programs\\Python\\Python39\\lib\\site-packages\\openfl\\component\\aggregator\\aggregator.py#559\" target=\"_blank\"><span style=\"color: #7f7f7f; text-decoration-color: #7f7f7f\">559</span></a>\n",
       "</pre>\n"
      ],
      "text/plain": [
       "\u001b[2;36m          \u001b[0m\u001b[2;36m \u001b[0mMETRIC   Round \u001b[1;36m2\u001b[0m, collaborator validate_local locally_tuned_model_validation result accuracy:    \u001b[1;36m0.916889\u001b[0m                           \u001b]8;id=594705;file://C:\\Users\\BHSU\\AppData\\Local\\Programs\\Python\\Python39\\lib\\site-packages\\openfl\\component\\aggregator\\aggregator.py\u001b\\\u001b[2maggregator.py\u001b[0m\u001b]8;;\u001b\\\u001b[2m:\u001b[0m\u001b]8;id=885199;file://C:\\Users\\BHSU\\AppData\\Local\\Programs\\Python\\Python39\\lib\\site-packages\\openfl\\component\\aggregator\\aggregator.py#559\u001b\\\u001b[2m559\u001b[0m\u001b]8;;\u001b\\\n"
      ]
     },
     "metadata": {},
     "output_type": "display_data"
    },
    {
     "data": {
      "text/html": [
       "<pre style=\"white-space:pre;overflow-x:auto;line-height:normal;font-family:Menlo,'DejaVu Sans Mono',consolas,'Courier New',monospace\"><span style=\"color: #7fbfbf; text-decoration-color: #7fbfbf\">           </span>METRIC   Round <span style=\"color: #008080; text-decoration-color: #008080; font-weight: bold\">2</span>, aggregator: locally_tuned_model_validation                                                                        <a href=\"file://C:\\Users\\BHSU\\AppData\\Local\\Programs\\Python\\Python39\\lib\\site-packages\\openfl\\component\\aggregator\\aggregator.py\" target=\"_blank\"><span style=\"color: #7f7f7f; text-decoration-color: #7f7f7f\">aggregator.py</span></a><span style=\"color: #7f7f7f; text-decoration-color: #7f7f7f\">:</span><a href=\"file://C:\\Users\\BHSU\\AppData\\Local\\Programs\\Python\\Python39\\lib\\site-packages\\openfl\\component\\aggregator\\aggregator.py#842\" target=\"_blank\"><span style=\"color: #7f7f7f; text-decoration-color: #7f7f7f\">842</span></a>\n",
       "<span style=\"color: #7fbfbf; text-decoration-color: #7fbfbf\">           </span>         <span style=\"font-weight: bold\">&lt;</span><span style=\"color: #ff00ff; text-decoration-color: #ff00ff; font-weight: bold\">openfl.interface.aggregation_functions.weighted_average.WeightedAverage</span><span style=\"color: #000000; text-decoration-color: #000000\"> object at </span><span style=\"color: #008080; text-decoration-color: #008080; font-weight: bold\">0x00000137CCF13D90</span><span style=\"font-weight: bold\">&gt;</span> accuracy:           <span style=\"color: #7f7f7f; text-decoration-color: #7f7f7f\">                 </span>\n",
       "<span style=\"color: #7fbfbf; text-decoration-color: #7fbfbf\">           </span>         <span style=\"color: #008080; text-decoration-color: #008080; font-weight: bold\">0.931222</span>                                                                                                                   <span style=\"color: #7f7f7f; text-decoration-color: #7f7f7f\">                 </span>\n",
       "</pre>\n"
      ],
      "text/plain": [
       "\u001b[2;36m          \u001b[0m\u001b[2;36m \u001b[0mMETRIC   Round \u001b[1;36m2\u001b[0m, aggregator: locally_tuned_model_validation                                                                        \u001b]8;id=289630;file://C:\\Users\\BHSU\\AppData\\Local\\Programs\\Python\\Python39\\lib\\site-packages\\openfl\\component\\aggregator\\aggregator.py\u001b\\\u001b[2maggregator.py\u001b[0m\u001b]8;;\u001b\\\u001b[2m:\u001b[0m\u001b]8;id=59607;file://C:\\Users\\BHSU\\AppData\\Local\\Programs\\Python\\Python39\\lib\\site-packages\\openfl\\component\\aggregator\\aggregator.py#842\u001b\\\u001b[2m842\u001b[0m\u001b]8;;\u001b\\\n",
       "\u001b[2;36m           \u001b[0m         \u001b[1m<\u001b[0m\u001b[1;95mopenfl.interface.aggregation_functions.weighted_average.WeightedAverage\u001b[0m\u001b[39m object at \u001b[0m\u001b[1;36m0x00000137CCF13D90\u001b[0m\u001b[1m>\u001b[0m accuracy:           \u001b[2m                 \u001b[0m\n",
       "\u001b[2;36m           \u001b[0m         \u001b[1;36m0.931222\u001b[0m                                                                                                                   \u001b[2m                 \u001b[0m\n"
      ]
     },
     "metadata": {},
     "output_type": "display_data"
    },
    {
     "data": {
      "text/html": [
       "<pre style=\"white-space:pre;overflow-x:auto;line-height:normal;font-family:Menlo,'DejaVu Sans Mono',consolas,'Courier New',monospace\"><span style=\"color: #7fbfbf; text-decoration-color: #7fbfbf\">           </span>METRIC   Round <span style=\"color: #008080; text-decoration-color: #008080; font-weight: bold\">2</span>, aggregator: train <span style=\"font-weight: bold\">&lt;</span><span style=\"color: #ff00ff; text-decoration-color: #ff00ff; font-weight: bold\">openfl.interface.aggregation_functions.weighted_average.WeightedAverage</span><span style=\"color: #000000; text-decoration-color: #000000\"> object at </span>             <a href=\"file://C:\\Users\\BHSU\\AppData\\Local\\Programs\\Python\\Python39\\lib\\site-packages\\openfl\\component\\aggregator\\aggregator.py\" target=\"_blank\"><span style=\"color: #7f7f7f; text-decoration-color: #7f7f7f\">aggregator.py</span></a><span style=\"color: #7f7f7f; text-decoration-color: #7f7f7f\">:</span><a href=\"file://C:\\Users\\BHSU\\AppData\\Local\\Programs\\Python\\Python39\\lib\\site-packages\\openfl\\component\\aggregator\\aggregator.py#842\" target=\"_blank\"><span style=\"color: #7f7f7f; text-decoration-color: #7f7f7f\">842</span></a>\n",
       "<span style=\"color: #7fbfbf; text-decoration-color: #7fbfbf\">           </span>         <span style=\"color: #008080; text-decoration-color: #008080; font-weight: bold\">0x00000137CCF13D90</span><span style=\"font-weight: bold\">&gt;</span> loss: <span style=\"color: #008080; text-decoration-color: #008080; font-weight: bold\">0.223249</span>                                                                                         <span style=\"color: #7f7f7f; text-decoration-color: #7f7f7f\">                 </span>\n",
       "</pre>\n"
      ],
      "text/plain": [
       "\u001b[2;36m          \u001b[0m\u001b[2;36m \u001b[0mMETRIC   Round \u001b[1;36m2\u001b[0m, aggregator: train \u001b[1m<\u001b[0m\u001b[1;95mopenfl.interface.aggregation_functions.weighted_average.WeightedAverage\u001b[0m\u001b[39m object at \u001b[0m             \u001b]8;id=302499;file://C:\\Users\\BHSU\\AppData\\Local\\Programs\\Python\\Python39\\lib\\site-packages\\openfl\\component\\aggregator\\aggregator.py\u001b\\\u001b[2maggregator.py\u001b[0m\u001b]8;;\u001b\\\u001b[2m:\u001b[0m\u001b]8;id=127040;file://C:\\Users\\BHSU\\AppData\\Local\\Programs\\Python\\Python39\\lib\\site-packages\\openfl\\component\\aggregator\\aggregator.py#842\u001b\\\u001b[2m842\u001b[0m\u001b]8;;\u001b\\\n",
       "\u001b[2;36m           \u001b[0m         \u001b[1;36m0x00000137CCF13D90\u001b[0m\u001b[1m>\u001b[0m loss: \u001b[1;36m0.223249\u001b[0m                                                                                         \u001b[2m                 \u001b[0m\n"
      ]
     },
     "metadata": {},
     "output_type": "display_data"
    },
    {
     "data": {
      "text/html": [
       "<pre style=\"white-space:pre;overflow-x:auto;line-height:normal;font-family:Menlo,'DejaVu Sans Mono',consolas,'Courier New',monospace\"><span style=\"color: #7fbfbf; text-decoration-color: #7fbfbf\">[17:02:20] </span>METRIC   Round <span style=\"color: #008080; text-decoration-color: #008080; font-weight: bold\">2</span>, aggregator: aggregated_model_validation <span style=\"font-weight: bold\">&lt;</span><span style=\"color: #ff00ff; text-decoration-color: #ff00ff; font-weight: bold\">openfl.interface.aggregation_functions.weighted_average.WeightedAverage</span><span style=\"color: #000000; text-decoration-color: #000000\"> </span> <a href=\"file://C:\\Users\\BHSU\\AppData\\Local\\Programs\\Python\\Python39\\lib\\site-packages\\openfl\\component\\aggregator\\aggregator.py\" target=\"_blank\"><span style=\"color: #7f7f7f; text-decoration-color: #7f7f7f\">aggregator.py</span></a><span style=\"color: #7f7f7f; text-decoration-color: #7f7f7f\">:</span><a href=\"file://C:\\Users\\BHSU\\AppData\\Local\\Programs\\Python\\Python39\\lib\\site-packages\\openfl\\component\\aggregator\\aggregator.py#842\" target=\"_blank\"><span style=\"color: #7f7f7f; text-decoration-color: #7f7f7f\">842</span></a>\n",
       "<span style=\"color: #7fbfbf; text-decoration-color: #7fbfbf\">           </span>         <span style=\"color: #000000; text-decoration-color: #000000\">object at </span><span style=\"color: #008080; text-decoration-color: #008080; font-weight: bold\">0x00000137CCF13D90</span><span style=\"font-weight: bold\">&gt;</span> accuracy:       <span style=\"color: #008080; text-decoration-color: #008080; font-weight: bold\">0.930278</span>                                                                     <span style=\"color: #7f7f7f; text-decoration-color: #7f7f7f\">                 </span>\n",
       "</pre>\n"
      ],
      "text/plain": [
       "\u001b[2;36m[17:02:20]\u001b[0m\u001b[2;36m \u001b[0mMETRIC   Round \u001b[1;36m2\u001b[0m, aggregator: aggregated_model_validation \u001b[1m<\u001b[0m\u001b[1;95mopenfl.interface.aggregation_functions.weighted_average.WeightedAverage\u001b[0m\u001b[39m \u001b[0m \u001b]8;id=373714;file://C:\\Users\\BHSU\\AppData\\Local\\Programs\\Python\\Python39\\lib\\site-packages\\openfl\\component\\aggregator\\aggregator.py\u001b\\\u001b[2maggregator.py\u001b[0m\u001b]8;;\u001b\\\u001b[2m:\u001b[0m\u001b]8;id=806216;file://C:\\Users\\BHSU\\AppData\\Local\\Programs\\Python\\Python39\\lib\\site-packages\\openfl\\component\\aggregator\\aggregator.py#842\u001b\\\u001b[2m842\u001b[0m\u001b]8;;\u001b\\\n",
       "\u001b[2;36m           \u001b[0m         \u001b[39mobject at \u001b[0m\u001b[1;36m0x00000137CCF13D90\u001b[0m\u001b[1m>\u001b[0m accuracy:       \u001b[1;36m0.930278\u001b[0m                                                                     \u001b[2m                 \u001b[0m\n"
      ]
     },
     "metadata": {},
     "output_type": "display_data"
    },
    {
     "data": {
      "text/html": [
       "<pre style=\"white-space:pre;overflow-x:auto;line-height:normal;font-family:Menlo,'DejaVu Sans Mono',consolas,'Courier New',monospace\"><span style=\"color: #7fbfbf; text-decoration-color: #7fbfbf\">           </span>METRIC   Round <span style=\"color: #008080; text-decoration-color: #008080; font-weight: bold\">2</span>: saved the best model with score <span style=\"color: #008080; text-decoration-color: #008080; font-weight: bold\">0.930278</span>                                                                          <a href=\"file://C:\\Users\\BHSU\\AppData\\Local\\Programs\\Python\\Python39\\lib\\site-packages\\openfl\\component\\aggregator\\aggregator.py\" target=\"_blank\"><span style=\"color: #7f7f7f; text-decoration-color: #7f7f7f\">aggregator.py</span></a><span style=\"color: #7f7f7f; text-decoration-color: #7f7f7f\">:</span><a href=\"file://C:\\Users\\BHSU\\AppData\\Local\\Programs\\Python\\Python39\\lib\\site-packages\\openfl\\component\\aggregator\\aggregator.py#858\" target=\"_blank\"><span style=\"color: #7f7f7f; text-decoration-color: #7f7f7f\">858</span></a>\n",
       "</pre>\n"
      ],
      "text/plain": [
       "\u001b[2;36m          \u001b[0m\u001b[2;36m \u001b[0mMETRIC   Round \u001b[1;36m2\u001b[0m: saved the best model with score \u001b[1;36m0.930278\u001b[0m                                                                          \u001b]8;id=419165;file://C:\\Users\\BHSU\\AppData\\Local\\Programs\\Python\\Python39\\lib\\site-packages\\openfl\\component\\aggregator\\aggregator.py\u001b\\\u001b[2maggregator.py\u001b[0m\u001b]8;;\u001b\\\u001b[2m:\u001b[0m\u001b]8;id=63107;file://C:\\Users\\BHSU\\AppData\\Local\\Programs\\Python\\Python39\\lib\\site-packages\\openfl\\component\\aggregator\\aggregator.py#858\u001b\\\u001b[2m858\u001b[0m\u001b]8;;\u001b\\\n"
      ]
     },
     "metadata": {},
     "output_type": "display_data"
    },
    {
     "data": {
      "text/html": [
       "<pre style=\"white-space:pre;overflow-x:auto;line-height:normal;font-family:Menlo,'DejaVu Sans Mono',consolas,'Courier New',monospace\"><span style=\"color: #7fbfbf; text-decoration-color: #7fbfbf\">           </span><span style=\"color: #000080; text-decoration-color: #000080\">INFO    </span> Saving round <span style=\"color: #008080; text-decoration-color: #008080; font-weight: bold\">3</span> model<span style=\"color: #808000; text-decoration-color: #808000\">...</span>                                                                                                    <a href=\"file://C:\\Users\\BHSU\\AppData\\Local\\Programs\\Python\\Python39\\lib\\site-packages\\openfl\\component\\aggregator\\aggregator.py\" target=\"_blank\"><span style=\"color: #7f7f7f; text-decoration-color: #7f7f7f\">aggregator.py</span></a><span style=\"color: #7f7f7f; text-decoration-color: #7f7f7f\">:</span><a href=\"file://C:\\Users\\BHSU\\AppData\\Local\\Programs\\Python\\Python39\\lib\\site-packages\\openfl\\component\\aggregator\\aggregator.py#894\" target=\"_blank\"><span style=\"color: #7f7f7f; text-decoration-color: #7f7f7f\">894</span></a>\n",
       "</pre>\n"
      ],
      "text/plain": [
       "\u001b[2;36m          \u001b[0m\u001b[2;36m \u001b[0m\u001b[34mINFO    \u001b[0m Saving round \u001b[1;36m3\u001b[0m model\u001b[33m...\u001b[0m                                                                                                    \u001b]8;id=88690;file://C:\\Users\\BHSU\\AppData\\Local\\Programs\\Python\\Python39\\lib\\site-packages\\openfl\\component\\aggregator\\aggregator.py\u001b\\\u001b[2maggregator.py\u001b[0m\u001b]8;;\u001b\\\u001b[2m:\u001b[0m\u001b]8;id=547057;file://C:\\Users\\BHSU\\AppData\\Local\\Programs\\Python\\Python39\\lib\\site-packages\\openfl\\component\\aggregator\\aggregator.py#894\u001b\\\u001b[2m894\u001b[0m\u001b]8;;\u001b\\\n"
      ]
     },
     "metadata": {},
     "output_type": "display_data"
    },
    {
     "data": {
      "text/html": [
       "<pre style=\"white-space:pre;overflow-x:auto;line-height:normal;font-family:Menlo,'DejaVu Sans Mono',consolas,'Courier New',monospace\"><span style=\"color: #7fbfbf; text-decoration-color: #7fbfbf\">           </span><span style=\"color: #000080; text-decoration-color: #000080\">INFO    </span> Starting round <span style=\"color: #008080; text-decoration-color: #008080; font-weight: bold\">3</span><span style=\"color: #808000; text-decoration-color: #808000\">...</span>                                                                                                        <a href=\"file://C:\\Users\\BHSU\\AppData\\Local\\Programs\\Python\\Python39\\lib\\site-packages\\openfl\\component\\aggregator\\aggregator.py\" target=\"_blank\"><span style=\"color: #7f7f7f; text-decoration-color: #7f7f7f\">aggregator.py</span></a><span style=\"color: #7f7f7f; text-decoration-color: #7f7f7f\">:</span><a href=\"file://C:\\Users\\BHSU\\AppData\\Local\\Programs\\Python\\Python39\\lib\\site-packages\\openfl\\component\\aggregator\\aggregator.py#901\" target=\"_blank\"><span style=\"color: #7f7f7f; text-decoration-color: #7f7f7f\">901</span></a>\n",
       "</pre>\n"
      ],
      "text/plain": [
       "\u001b[2;36m          \u001b[0m\u001b[2;36m \u001b[0m\u001b[34mINFO    \u001b[0m Starting round \u001b[1;36m3\u001b[0m\u001b[33m...\u001b[0m                                                                                                        \u001b]8;id=927341;file://C:\\Users\\BHSU\\AppData\\Local\\Programs\\Python\\Python39\\lib\\site-packages\\openfl\\component\\aggregator\\aggregator.py\u001b\\\u001b[2maggregator.py\u001b[0m\u001b]8;;\u001b\\\u001b[2m:\u001b[0m\u001b]8;id=654716;file://C:\\Users\\BHSU\\AppData\\Local\\Programs\\Python\\Python39\\lib\\site-packages\\openfl\\component\\aggregator\\aggregator.py#901\u001b\\\u001b[2m901\u001b[0m\u001b]8;;\u001b\\\n"
      ]
     },
     "metadata": {},
     "output_type": "display_data"
    },
    {
     "data": {
      "text/html": [
       "<pre style=\"white-space:pre;overflow-x:auto;line-height:normal;font-family:Menlo,'DejaVu Sans Mono',consolas,'Courier New',monospace\"><span style=\"color: #7fbfbf; text-decoration-color: #7fbfbf\">           </span><span style=\"color: #000080; text-decoration-color: #000080\">INFO    </span> All tasks completed on two for round <span style=\"color: #008080; text-decoration-color: #008080; font-weight: bold\">2</span><span style=\"color: #808000; text-decoration-color: #808000\">...</span>                                                                                <a href=\"file://C:\\Users\\BHSU\\AppData\\Local\\Programs\\Python\\Python39\\lib\\site-packages\\openfl\\component\\collaborator\\collaborator.py\" target=\"_blank\"><span style=\"color: #7f7f7f; text-decoration-color: #7f7f7f\">collaborator.py</span></a><span style=\"color: #7f7f7f; text-decoration-color: #7f7f7f\">:</span><a href=\"file://C:\\Users\\BHSU\\AppData\\Local\\Programs\\Python\\Python39\\lib\\site-packages\\openfl\\component\\collaborator\\collaborator.py#171\" target=\"_blank\"><span style=\"color: #7f7f7f; text-decoration-color: #7f7f7f\">171</span></a>\n",
       "</pre>\n"
      ],
      "text/plain": [
       "\u001b[2;36m          \u001b[0m\u001b[2;36m \u001b[0m\u001b[34mINFO    \u001b[0m All tasks completed on two for round \u001b[1;36m2\u001b[0m\u001b[33m...\u001b[0m                                                                                \u001b]8;id=275174;file://C:\\Users\\BHSU\\AppData\\Local\\Programs\\Python\\Python39\\lib\\site-packages\\openfl\\component\\collaborator\\collaborator.py\u001b\\\u001b[2mcollaborator.py\u001b[0m\u001b]8;;\u001b\\\u001b[2m:\u001b[0m\u001b]8;id=516;file://C:\\Users\\BHSU\\AppData\\Local\\Programs\\Python\\Python39\\lib\\site-packages\\openfl\\component\\collaborator\\collaborator.py#171\u001b\\\u001b[2m171\u001b[0m\u001b]8;;\u001b\\\n"
      ]
     },
     "metadata": {},
     "output_type": "display_data"
    },
    {
     "data": {
      "text/html": [
       "<pre style=\"white-space:pre;overflow-x:auto;line-height:normal;font-family:Menlo,'DejaVu Sans Mono',consolas,'Courier New',monospace\"><span style=\"color: #7fbfbf; text-decoration-color: #7fbfbf\">           </span><span style=\"color: #000080; text-decoration-color: #000080\">INFO    </span> Waiting for tasks<span style=\"color: #808000; text-decoration-color: #808000\">...</span>                                                                                                     <a href=\"file://C:\\Users\\BHSU\\AppData\\Local\\Programs\\Python\\Python39\\lib\\site-packages\\openfl\\component\\collaborator\\collaborator.py\" target=\"_blank\"><span style=\"color: #7f7f7f; text-decoration-color: #7f7f7f\">collaborator.py</span></a><span style=\"color: #7f7f7f; text-decoration-color: #7f7f7f\">:</span><a href=\"file://C:\\Users\\BHSU\\AppData\\Local\\Programs\\Python\\Python39\\lib\\site-packages\\openfl\\component\\collaborator\\collaborator.py#178\" target=\"_blank\"><span style=\"color: #7f7f7f; text-decoration-color: #7f7f7f\">178</span></a>\n",
       "</pre>\n"
      ],
      "text/plain": [
       "\u001b[2;36m          \u001b[0m\u001b[2;36m \u001b[0m\u001b[34mINFO    \u001b[0m Waiting for tasks\u001b[33m...\u001b[0m                                                                                                     \u001b]8;id=826905;file://C:\\Users\\BHSU\\AppData\\Local\\Programs\\Python\\Python39\\lib\\site-packages\\openfl\\component\\collaborator\\collaborator.py\u001b\\\u001b[2mcollaborator.py\u001b[0m\u001b]8;;\u001b\\\u001b[2m:\u001b[0m\u001b]8;id=284143;file://C:\\Users\\BHSU\\AppData\\Local\\Programs\\Python\\Python39\\lib\\site-packages\\openfl\\component\\collaborator\\collaborator.py#178\u001b\\\u001b[2m178\u001b[0m\u001b]8;;\u001b\\\n"
      ]
     },
     "metadata": {},
     "output_type": "display_data"
    },
    {
     "data": {
      "text/html": [
       "<pre style=\"white-space:pre;overflow-x:auto;line-height:normal;font-family:Menlo,'DejaVu Sans Mono',consolas,'Courier New',monospace\"><span style=\"color: #7fbfbf; text-decoration-color: #7fbfbf\">           </span><span style=\"color: #000080; text-decoration-color: #000080\">INFO    </span> Sending tasks to collaborator one for round <span style=\"color: #008080; text-decoration-color: #008080; font-weight: bold\">3</span>                                                                              <a href=\"file://C:\\Users\\BHSU\\AppData\\Local\\Programs\\Python\\Python39\\lib\\site-packages\\openfl\\component\\aggregator\\aggregator.py\" target=\"_blank\"><span style=\"color: #7f7f7f; text-decoration-color: #7f7f7f\">aggregator.py</span></a><span style=\"color: #7f7f7f; text-decoration-color: #7f7f7f\">:</span><a href=\"file://C:\\Users\\BHSU\\AppData\\Local\\Programs\\Python\\Python39\\lib\\site-packages\\openfl\\component\\aggregator\\aggregator.py#329\" target=\"_blank\"><span style=\"color: #7f7f7f; text-decoration-color: #7f7f7f\">329</span></a>\n",
       "</pre>\n"
      ],
      "text/plain": [
       "\u001b[2;36m          \u001b[0m\u001b[2;36m \u001b[0m\u001b[34mINFO    \u001b[0m Sending tasks to collaborator one for round \u001b[1;36m3\u001b[0m                                                                              \u001b]8;id=139225;file://C:\\Users\\BHSU\\AppData\\Local\\Programs\\Python\\Python39\\lib\\site-packages\\openfl\\component\\aggregator\\aggregator.py\u001b\\\u001b[2maggregator.py\u001b[0m\u001b]8;;\u001b\\\u001b[2m:\u001b[0m\u001b]8;id=459576;file://C:\\Users\\BHSU\\AppData\\Local\\Programs\\Python\\Python39\\lib\\site-packages\\openfl\\component\\aggregator\\aggregator.py#329\u001b\\\u001b[2m329\u001b[0m\u001b]8;;\u001b\\\n"
      ]
     },
     "metadata": {},
     "output_type": "display_data"
    },
    {
     "data": {
      "text/html": [
       "<pre style=\"white-space:pre;overflow-x:auto;line-height:normal;font-family:Menlo,'DejaVu Sans Mono',consolas,'Courier New',monospace\"><span style=\"color: #7fbfbf; text-decoration-color: #7fbfbf\">           </span><span style=\"color: #000080; text-decoration-color: #000080\">INFO    </span> Received the following tasks: <span style=\"font-weight: bold\">[</span><span style=\"color: #008000; text-decoration-color: #008000\">'aggregated_model_validation'</span>, <span style=\"color: #008000; text-decoration-color: #008000\">'train'</span>, <span style=\"color: #008000; text-decoration-color: #008000\">'locally_tuned_model_validation'</span><span style=\"font-weight: bold\">]</span>                 <a href=\"file://C:\\Users\\BHSU\\AppData\\Local\\Programs\\Python\\Python39\\lib\\site-packages\\openfl\\component\\collaborator\\collaborator.py\" target=\"_blank\"><span style=\"color: #7f7f7f; text-decoration-color: #7f7f7f\">collaborator.py</span></a><span style=\"color: #7f7f7f; text-decoration-color: #7f7f7f\">:</span><a href=\"file://C:\\Users\\BHSU\\AppData\\Local\\Programs\\Python\\Python39\\lib\\site-packages\\openfl\\component\\collaborator\\collaborator.py#168\" target=\"_blank\"><span style=\"color: #7f7f7f; text-decoration-color: #7f7f7f\">168</span></a>\n",
       "</pre>\n"
      ],
      "text/plain": [
       "\u001b[2;36m          \u001b[0m\u001b[2;36m \u001b[0m\u001b[34mINFO    \u001b[0m Received the following tasks: \u001b[1m[\u001b[0m\u001b[32m'aggregated_model_validation'\u001b[0m, \u001b[32m'train'\u001b[0m, \u001b[32m'locally_tuned_model_validation'\u001b[0m\u001b[1m]\u001b[0m                 \u001b]8;id=237051;file://C:\\Users\\BHSU\\AppData\\Local\\Programs\\Python\\Python39\\lib\\site-packages\\openfl\\component\\collaborator\\collaborator.py\u001b\\\u001b[2mcollaborator.py\u001b[0m\u001b]8;;\u001b\\\u001b[2m:\u001b[0m\u001b]8;id=803815;file://C:\\Users\\BHSU\\AppData\\Local\\Programs\\Python\\Python39\\lib\\site-packages\\openfl\\component\\collaborator\\collaborator.py#168\u001b\\\u001b[2m168\u001b[0m\u001b]8;;\u001b\\\n"
      ]
     },
     "metadata": {},
     "output_type": "display_data"
    },
    {
     "data": {
      "text/html": [
       "<pre style=\"white-space:pre;overflow-x:auto;line-height:normal;font-family:Menlo,'DejaVu Sans Mono',consolas,'Courier New',monospace\"><span style=\"color: #7fbfbf; text-decoration-color: #7fbfbf\">           </span><span style=\"color: #000080; text-decoration-color: #000080\">INFO    </span> Using TaskRunner subclassing API                                                                                         <a href=\"file://C:\\Users\\BHSU\\AppData\\Local\\Programs\\Python\\Python39\\lib\\site-packages\\openfl\\component\\collaborator\\collaborator.py\" target=\"_blank\"><span style=\"color: #7f7f7f; text-decoration-color: #7f7f7f\">collaborator.py</span></a><span style=\"color: #7f7f7f; text-decoration-color: #7f7f7f\">:</span><a href=\"file://C:\\Users\\BHSU\\AppData\\Local\\Programs\\Python\\Python39\\lib\\site-packages\\openfl\\component\\collaborator\\collaborator.py#253\" target=\"_blank\"><span style=\"color: #7f7f7f; text-decoration-color: #7f7f7f\">253</span></a>\n",
       "</pre>\n"
      ],
      "text/plain": [
       "\u001b[2;36m          \u001b[0m\u001b[2;36m \u001b[0m\u001b[34mINFO    \u001b[0m Using TaskRunner subclassing API                                                                                         \u001b]8;id=444664;file://C:\\Users\\BHSU\\AppData\\Local\\Programs\\Python\\Python39\\lib\\site-packages\\openfl\\component\\collaborator\\collaborator.py\u001b\\\u001b[2mcollaborator.py\u001b[0m\u001b]8;;\u001b\\\u001b[2m:\u001b[0m\u001b]8;id=191589;file://C:\\Users\\BHSU\\AppData\\Local\\Programs\\Python\\Python39\\lib\\site-packages\\openfl\\component\\collaborator\\collaborator.py#253\u001b\\\u001b[2m253\u001b[0m\u001b]8;;\u001b\\\n"
      ]
     },
     "metadata": {},
     "output_type": "display_data"
    },
    {
     "name": "stdout",
     "output_type": "stream",
     "text": [
      "282/282 [==============================] - 0s 548us/step - loss: 0.1894 - accuracy: 0.9441\n"
     ]
    },
    {
     "data": {
      "text/html": [
       "<pre style=\"white-space:pre;overflow-x:auto;line-height:normal;font-family:Menlo,'DejaVu Sans Mono',consolas,'Courier New',monospace\"><span style=\"color: #7fbfbf; text-decoration-color: #7fbfbf\">           </span>METRIC   Round <span style=\"color: #008080; text-decoration-color: #008080; font-weight: bold\">3</span>, collaborator one is sending metric for task aggregated_model_validation: accuracy      <span style=\"color: #008080; text-decoration-color: #008080; font-weight: bold\">0.944111</span>                 <a href=\"file://C:\\Users\\BHSU\\AppData\\Local\\Programs\\Python\\Python39\\lib\\site-packages\\openfl\\component\\collaborator\\collaborator.py\" target=\"_blank\"><span style=\"color: #7f7f7f; text-decoration-color: #7f7f7f\">collaborator.py</span></a><span style=\"color: #7f7f7f; text-decoration-color: #7f7f7f\">:</span><a href=\"file://C:\\Users\\BHSU\\AppData\\Local\\Programs\\Python\\Python39\\lib\\site-packages\\openfl\\component\\collaborator\\collaborator.py#415\" target=\"_blank\"><span style=\"color: #7f7f7f; text-decoration-color: #7f7f7f\">415</span></a>\n",
       "</pre>\n"
      ],
      "text/plain": [
       "\u001b[2;36m          \u001b[0m\u001b[2;36m \u001b[0mMETRIC   Round \u001b[1;36m3\u001b[0m, collaborator one is sending metric for task aggregated_model_validation: accuracy      \u001b[1;36m0.944111\u001b[0m                 \u001b]8;id=794765;file://C:\\Users\\BHSU\\AppData\\Local\\Programs\\Python\\Python39\\lib\\site-packages\\openfl\\component\\collaborator\\collaborator.py\u001b\\\u001b[2mcollaborator.py\u001b[0m\u001b]8;;\u001b\\\u001b[2m:\u001b[0m\u001b]8;id=452818;file://C:\\Users\\BHSU\\AppData\\Local\\Programs\\Python\\Python39\\lib\\site-packages\\openfl\\component\\collaborator\\collaborator.py#415\u001b\\\u001b[2m415\u001b[0m\u001b]8;;\u001b\\\n"
      ]
     },
     "metadata": {},
     "output_type": "display_data"
    },
    {
     "data": {
      "text/html": [
       "<pre style=\"white-space:pre;overflow-x:auto;line-height:normal;font-family:Menlo,'DejaVu Sans Mono',consolas,'Courier New',monospace\"><span style=\"color: #7fbfbf; text-decoration-color: #7fbfbf\">           </span><span style=\"color: #000080; text-decoration-color: #000080\">INFO    </span> Collaborator one is sending task results for aggregated_model_validation, round <span style=\"color: #008080; text-decoration-color: #008080; font-weight: bold\">3</span>                                          <a href=\"file://C:\\Users\\BHSU\\AppData\\Local\\Programs\\Python\\Python39\\lib\\site-packages\\openfl\\component\\aggregator\\aggregator.py\" target=\"_blank\"><span style=\"color: #7f7f7f; text-decoration-color: #7f7f7f\">aggregator.py</span></a><span style=\"color: #7f7f7f; text-decoration-color: #7f7f7f\">:</span><a href=\"file://C:\\Users\\BHSU\\AppData\\Local\\Programs\\Python\\Python39\\lib\\site-packages\\openfl\\component\\aggregator\\aggregator.py#520\" target=\"_blank\"><span style=\"color: #7f7f7f; text-decoration-color: #7f7f7f\">520</span></a>\n",
       "</pre>\n"
      ],
      "text/plain": [
       "\u001b[2;36m          \u001b[0m\u001b[2;36m \u001b[0m\u001b[34mINFO    \u001b[0m Collaborator one is sending task results for aggregated_model_validation, round \u001b[1;36m3\u001b[0m                                          \u001b]8;id=775374;file://C:\\Users\\BHSU\\AppData\\Local\\Programs\\Python\\Python39\\lib\\site-packages\\openfl\\component\\aggregator\\aggregator.py\u001b\\\u001b[2maggregator.py\u001b[0m\u001b]8;;\u001b\\\u001b[2m:\u001b[0m\u001b]8;id=499806;file://C:\\Users\\BHSU\\AppData\\Local\\Programs\\Python\\Python39\\lib\\site-packages\\openfl\\component\\aggregator\\aggregator.py#520\u001b\\\u001b[2m520\u001b[0m\u001b]8;;\u001b\\\n"
      ]
     },
     "metadata": {},
     "output_type": "display_data"
    },
    {
     "data": {
      "text/html": [
       "<pre style=\"white-space:pre;overflow-x:auto;line-height:normal;font-family:Menlo,'DejaVu Sans Mono',consolas,'Courier New',monospace\"><span style=\"color: #7fbfbf; text-decoration-color: #7fbfbf\">           </span>METRIC   Round <span style=\"color: #008080; text-decoration-color: #008080; font-weight: bold\">3</span>, collaborator validate_agg aggregated_model_validation result accuracy: <span style=\"color: #008080; text-decoration-color: #008080; font-weight: bold\">0.944111</span>                                   <a href=\"file://C:\\Users\\BHSU\\AppData\\Local\\Programs\\Python\\Python39\\lib\\site-packages\\openfl\\component\\aggregator\\aggregator.py\" target=\"_blank\"><span style=\"color: #7f7f7f; text-decoration-color: #7f7f7f\">aggregator.py</span></a><span style=\"color: #7f7f7f; text-decoration-color: #7f7f7f\">:</span><a href=\"file://C:\\Users\\BHSU\\AppData\\Local\\Programs\\Python\\Python39\\lib\\site-packages\\openfl\\component\\aggregator\\aggregator.py#559\" target=\"_blank\"><span style=\"color: #7f7f7f; text-decoration-color: #7f7f7f\">559</span></a>\n",
       "</pre>\n"
      ],
      "text/plain": [
       "\u001b[2;36m          \u001b[0m\u001b[2;36m \u001b[0mMETRIC   Round \u001b[1;36m3\u001b[0m, collaborator validate_agg aggregated_model_validation result accuracy: \u001b[1;36m0.944111\u001b[0m                                   \u001b]8;id=593326;file://C:\\Users\\BHSU\\AppData\\Local\\Programs\\Python\\Python39\\lib\\site-packages\\openfl\\component\\aggregator\\aggregator.py\u001b\\\u001b[2maggregator.py\u001b[0m\u001b]8;;\u001b\\\u001b[2m:\u001b[0m\u001b]8;id=919844;file://C:\\Users\\BHSU\\AppData\\Local\\Programs\\Python\\Python39\\lib\\site-packages\\openfl\\component\\aggregator\\aggregator.py#559\u001b\\\u001b[2m559\u001b[0m\u001b]8;;\u001b\\\n"
      ]
     },
     "metadata": {},
     "output_type": "display_data"
    },
    {
     "data": {
      "text/html": [
       "<pre style=\"white-space:pre;overflow-x:auto;line-height:normal;font-family:Menlo,'DejaVu Sans Mono',consolas,'Courier New',monospace\"><span style=\"color: #7fbfbf; text-decoration-color: #7fbfbf\">           </span><span style=\"color: #000080; text-decoration-color: #000080\">INFO    </span> Using TaskRunner subclassing API                                                                                         <a href=\"file://C:\\Users\\BHSU\\AppData\\Local\\Programs\\Python\\Python39\\lib\\site-packages\\openfl\\component\\collaborator\\collaborator.py\" target=\"_blank\"><span style=\"color: #7f7f7f; text-decoration-color: #7f7f7f\">collaborator.py</span></a><span style=\"color: #7f7f7f; text-decoration-color: #7f7f7f\">:</span><a href=\"file://C:\\Users\\BHSU\\AppData\\Local\\Programs\\Python\\Python39\\lib\\site-packages\\openfl\\component\\collaborator\\collaborator.py#253\" target=\"_blank\"><span style=\"color: #7f7f7f; text-decoration-color: #7f7f7f\">253</span></a>\n",
       "</pre>\n"
      ],
      "text/plain": [
       "\u001b[2;36m          \u001b[0m\u001b[2;36m \u001b[0m\u001b[34mINFO    \u001b[0m Using TaskRunner subclassing API                                                                                         \u001b]8;id=926297;file://C:\\Users\\BHSU\\AppData\\Local\\Programs\\Python\\Python39\\lib\\site-packages\\openfl\\component\\collaborator\\collaborator.py\u001b\\\u001b[2mcollaborator.py\u001b[0m\u001b]8;;\u001b\\\u001b[2m:\u001b[0m\u001b]8;id=486707;file://C:\\Users\\BHSU\\AppData\\Local\\Programs\\Python\\Python39\\lib\\site-packages\\openfl\\component\\collaborator\\collaborator.py#253\u001b\\\u001b[2m253\u001b[0m\u001b]8;;\u001b\\\n"
      ]
     },
     "metadata": {},
     "output_type": "display_data"
    },
    {
     "data": {
      "text/html": [
       "<pre style=\"white-space:pre;overflow-x:auto;line-height:normal;font-family:Menlo,'DejaVu Sans Mono',consolas,'Courier New',monospace\"><span style=\"color: #7fbfbf; text-decoration-color: #7fbfbf\">           </span><span style=\"color: #000080; text-decoration-color: #000080\">INFO    </span> Run <span style=\"color: #008080; text-decoration-color: #008080; font-weight: bold\">0</span> epoch of <span style=\"color: #008080; text-decoration-color: #008080; font-weight: bold\">3</span> round                                                                                                    <a href=\"file://C:\\Users\\BHSU\\AppData\\Local\\Programs\\Python\\Python39\\lib\\site-packages\\openfl\\federated\\task\\runner_keras.py\" target=\"_blank\"><span style=\"color: #7f7f7f; text-decoration-color: #7f7f7f\">runner_keras.py</span></a><span style=\"color: #7f7f7f; text-decoration-color: #7f7f7f\">:</span><a href=\"file://C:\\Users\\BHSU\\AppData\\Local\\Programs\\Python\\Python39\\lib\\site-packages\\openfl\\federated\\task\\runner_keras.py#83\" target=\"_blank\"><span style=\"color: #7f7f7f; text-decoration-color: #7f7f7f\">83</span></a>\n",
       "</pre>\n"
      ],
      "text/plain": [
       "\u001b[2;36m          \u001b[0m\u001b[2;36m \u001b[0m\u001b[34mINFO    \u001b[0m Run \u001b[1;36m0\u001b[0m epoch of \u001b[1;36m3\u001b[0m round                                                                                                    \u001b]8;id=100785;file://C:\\Users\\BHSU\\AppData\\Local\\Programs\\Python\\Python39\\lib\\site-packages\\openfl\\federated\\task\\runner_keras.py\u001b\\\u001b[2mrunner_keras.py\u001b[0m\u001b]8;;\u001b\\\u001b[2m:\u001b[0m\u001b]8;id=9610;file://C:\\Users\\BHSU\\AppData\\Local\\Programs\\Python\\Python39\\lib\\site-packages\\openfl\\federated\\task\\runner_keras.py#83\u001b\\\u001b[2m83\u001b[0m\u001b]8;;\u001b\\\n"
      ]
     },
     "metadata": {},
     "output_type": "display_data"
    },
    {
     "name": "stdout",
     "output_type": "stream",
     "text": [
      "657/657 [==============================] - 0s 636us/step - loss: 0.1914 - accuracy: 0.9400\n"
     ]
    },
    {
     "data": {
      "text/html": [
       "<pre style=\"white-space:pre;overflow-x:auto;line-height:normal;font-family:Menlo,'DejaVu Sans Mono',consolas,'Courier New',monospace\"><span style=\"color: #7fbfbf; text-decoration-color: #7fbfbf\">           </span>METRIC   Round <span style=\"color: #008080; text-decoration-color: #008080; font-weight: bold\">3</span>, collaborator one is sending metric for task train: loss        <span style=\"color: #008080; text-decoration-color: #008080; font-weight: bold\">0.191405</span>                                         <a href=\"file://C:\\Users\\BHSU\\AppData\\Local\\Programs\\Python\\Python39\\lib\\site-packages\\openfl\\component\\collaborator\\collaborator.py\" target=\"_blank\"><span style=\"color: #7f7f7f; text-decoration-color: #7f7f7f\">collaborator.py</span></a><span style=\"color: #7f7f7f; text-decoration-color: #7f7f7f\">:</span><a href=\"file://C:\\Users\\BHSU\\AppData\\Local\\Programs\\Python\\Python39\\lib\\site-packages\\openfl\\component\\collaborator\\collaborator.py#415\" target=\"_blank\"><span style=\"color: #7f7f7f; text-decoration-color: #7f7f7f\">415</span></a>\n",
       "</pre>\n"
      ],
      "text/plain": [
       "\u001b[2;36m          \u001b[0m\u001b[2;36m \u001b[0mMETRIC   Round \u001b[1;36m3\u001b[0m, collaborator one is sending metric for task train: loss        \u001b[1;36m0.191405\u001b[0m                                         \u001b]8;id=268342;file://C:\\Users\\BHSU\\AppData\\Local\\Programs\\Python\\Python39\\lib\\site-packages\\openfl\\component\\collaborator\\collaborator.py\u001b\\\u001b[2mcollaborator.py\u001b[0m\u001b]8;;\u001b\\\u001b[2m:\u001b[0m\u001b]8;id=195229;file://C:\\Users\\BHSU\\AppData\\Local\\Programs\\Python\\Python39\\lib\\site-packages\\openfl\\component\\collaborator\\collaborator.py#415\u001b\\\u001b[2m415\u001b[0m\u001b]8;;\u001b\\\n"
      ]
     },
     "metadata": {},
     "output_type": "display_data"
    },
    {
     "data": {
      "text/html": [
       "<pre style=\"white-space:pre;overflow-x:auto;line-height:normal;font-family:Menlo,'DejaVu Sans Mono',consolas,'Courier New',monospace\"><span style=\"color: #7fbfbf; text-decoration-color: #7fbfbf\">           </span><span style=\"color: #000080; text-decoration-color: #000080\">INFO    </span> Collaborator one is sending task results for train, round <span style=\"color: #008080; text-decoration-color: #008080; font-weight: bold\">3</span>                                                                <a href=\"file://C:\\Users\\BHSU\\AppData\\Local\\Programs\\Python\\Python39\\lib\\site-packages\\openfl\\component\\aggregator\\aggregator.py\" target=\"_blank\"><span style=\"color: #7f7f7f; text-decoration-color: #7f7f7f\">aggregator.py</span></a><span style=\"color: #7f7f7f; text-decoration-color: #7f7f7f\">:</span><a href=\"file://C:\\Users\\BHSU\\AppData\\Local\\Programs\\Python\\Python39\\lib\\site-packages\\openfl\\component\\aggregator\\aggregator.py#520\" target=\"_blank\"><span style=\"color: #7f7f7f; text-decoration-color: #7f7f7f\">520</span></a>\n",
       "</pre>\n"
      ],
      "text/plain": [
       "\u001b[2;36m          \u001b[0m\u001b[2;36m \u001b[0m\u001b[34mINFO    \u001b[0m Collaborator one is sending task results for train, round \u001b[1;36m3\u001b[0m                                                                \u001b]8;id=685123;file://C:\\Users\\BHSU\\AppData\\Local\\Programs\\Python\\Python39\\lib\\site-packages\\openfl\\component\\aggregator\\aggregator.py\u001b\\\u001b[2maggregator.py\u001b[0m\u001b]8;;\u001b\\\u001b[2m:\u001b[0m\u001b]8;id=101333;file://C:\\Users\\BHSU\\AppData\\Local\\Programs\\Python\\Python39\\lib\\site-packages\\openfl\\component\\aggregator\\aggregator.py#520\u001b\\\u001b[2m520\u001b[0m\u001b]8;;\u001b\\\n"
      ]
     },
     "metadata": {},
     "output_type": "display_data"
    },
    {
     "data": {
      "text/html": [
       "<pre style=\"white-space:pre;overflow-x:auto;line-height:normal;font-family:Menlo,'DejaVu Sans Mono',consolas,'Courier New',monospace\"><span style=\"color: #7fbfbf; text-decoration-color: #7fbfbf\">           </span>METRIC   Round <span style=\"color: #008080; text-decoration-color: #008080; font-weight: bold\">3</span>, collaborator one train result loss:    <span style=\"color: #008080; text-decoration-color: #008080; font-weight: bold\">0.191405</span>                                                                   <a href=\"file://C:\\Users\\BHSU\\AppData\\Local\\Programs\\Python\\Python39\\lib\\site-packages\\openfl\\component\\aggregator\\aggregator.py\" target=\"_blank\"><span style=\"color: #7f7f7f; text-decoration-color: #7f7f7f\">aggregator.py</span></a><span style=\"color: #7f7f7f; text-decoration-color: #7f7f7f\">:</span><a href=\"file://C:\\Users\\BHSU\\AppData\\Local\\Programs\\Python\\Python39\\lib\\site-packages\\openfl\\component\\aggregator\\aggregator.py#559\" target=\"_blank\"><span style=\"color: #7f7f7f; text-decoration-color: #7f7f7f\">559</span></a>\n",
       "</pre>\n"
      ],
      "text/plain": [
       "\u001b[2;36m          \u001b[0m\u001b[2;36m \u001b[0mMETRIC   Round \u001b[1;36m3\u001b[0m, collaborator one train result loss:    \u001b[1;36m0.191405\u001b[0m                                                                   \u001b]8;id=260723;file://C:\\Users\\BHSU\\AppData\\Local\\Programs\\Python\\Python39\\lib\\site-packages\\openfl\\component\\aggregator\\aggregator.py\u001b\\\u001b[2maggregator.py\u001b[0m\u001b]8;;\u001b\\\u001b[2m:\u001b[0m\u001b]8;id=96613;file://C:\\Users\\BHSU\\AppData\\Local\\Programs\\Python\\Python39\\lib\\site-packages\\openfl\\component\\aggregator\\aggregator.py#559\u001b\\\u001b[2m559\u001b[0m\u001b]8;;\u001b\\\n"
      ]
     },
     "metadata": {},
     "output_type": "display_data"
    },
    {
     "data": {
      "text/html": [
       "<pre style=\"white-space:pre;overflow-x:auto;line-height:normal;font-family:Menlo,'DejaVu Sans Mono',consolas,'Courier New',monospace\"><span style=\"color: #7fbfbf; text-decoration-color: #7fbfbf\">           </span><span style=\"color: #000080; text-decoration-color: #000080\">INFO    </span> Using TaskRunner subclassing API                                                                                         <a href=\"file://C:\\Users\\BHSU\\AppData\\Local\\Programs\\Python\\Python39\\lib\\site-packages\\openfl\\component\\collaborator\\collaborator.py\" target=\"_blank\"><span style=\"color: #7f7f7f; text-decoration-color: #7f7f7f\">collaborator.py</span></a><span style=\"color: #7f7f7f; text-decoration-color: #7f7f7f\">:</span><a href=\"file://C:\\Users\\BHSU\\AppData\\Local\\Programs\\Python\\Python39\\lib\\site-packages\\openfl\\component\\collaborator\\collaborator.py#253\" target=\"_blank\"><span style=\"color: #7f7f7f; text-decoration-color: #7f7f7f\">253</span></a>\n",
       "</pre>\n"
      ],
      "text/plain": [
       "\u001b[2;36m          \u001b[0m\u001b[2;36m \u001b[0m\u001b[34mINFO    \u001b[0m Using TaskRunner subclassing API                                                                                         \u001b]8;id=478340;file://C:\\Users\\BHSU\\AppData\\Local\\Programs\\Python\\Python39\\lib\\site-packages\\openfl\\component\\collaborator\\collaborator.py\u001b\\\u001b[2mcollaborator.py\u001b[0m\u001b]8;;\u001b\\\u001b[2m:\u001b[0m\u001b]8;id=198384;file://C:\\Users\\BHSU\\AppData\\Local\\Programs\\Python\\Python39\\lib\\site-packages\\openfl\\component\\collaborator\\collaborator.py#253\u001b\\\u001b[2m253\u001b[0m\u001b]8;;\u001b\\\n"
      ]
     },
     "metadata": {},
     "output_type": "display_data"
    },
    {
     "name": "stdout",
     "output_type": "stream",
     "text": [
      "282/282 [==============================] - 0s 491us/step - loss: 0.1859 - accuracy: 0.9403\n"
     ]
    },
    {
     "data": {
      "text/html": [
       "<pre style=\"white-space:pre;overflow-x:auto;line-height:normal;font-family:Menlo,'DejaVu Sans Mono',consolas,'Courier New',monospace\"><span style=\"color: #7fbfbf; text-decoration-color: #7fbfbf\">           </span>METRIC   Round <span style=\"color: #008080; text-decoration-color: #008080; font-weight: bold\">3</span>, collaborator one is sending metric for task locally_tuned_model_validation: accuracy   <span style=\"color: #008080; text-decoration-color: #008080; font-weight: bold\">0.940333</span>                 <a href=\"file://C:\\Users\\BHSU\\AppData\\Local\\Programs\\Python\\Python39\\lib\\site-packages\\openfl\\component\\collaborator\\collaborator.py\" target=\"_blank\"><span style=\"color: #7f7f7f; text-decoration-color: #7f7f7f\">collaborator.py</span></a><span style=\"color: #7f7f7f; text-decoration-color: #7f7f7f\">:</span><a href=\"file://C:\\Users\\BHSU\\AppData\\Local\\Programs\\Python\\Python39\\lib\\site-packages\\openfl\\component\\collaborator\\collaborator.py#415\" target=\"_blank\"><span style=\"color: #7f7f7f; text-decoration-color: #7f7f7f\">415</span></a>\n",
       "</pre>\n"
      ],
      "text/plain": [
       "\u001b[2;36m          \u001b[0m\u001b[2;36m \u001b[0mMETRIC   Round \u001b[1;36m3\u001b[0m, collaborator one is sending metric for task locally_tuned_model_validation: accuracy   \u001b[1;36m0.940333\u001b[0m                 \u001b]8;id=818745;file://C:\\Users\\BHSU\\AppData\\Local\\Programs\\Python\\Python39\\lib\\site-packages\\openfl\\component\\collaborator\\collaborator.py\u001b\\\u001b[2mcollaborator.py\u001b[0m\u001b]8;;\u001b\\\u001b[2m:\u001b[0m\u001b]8;id=931286;file://C:\\Users\\BHSU\\AppData\\Local\\Programs\\Python\\Python39\\lib\\site-packages\\openfl\\component\\collaborator\\collaborator.py#415\u001b\\\u001b[2m415\u001b[0m\u001b]8;;\u001b\\\n"
      ]
     },
     "metadata": {},
     "output_type": "display_data"
    },
    {
     "data": {
      "text/html": [
       "<pre style=\"white-space:pre;overflow-x:auto;line-height:normal;font-family:Menlo,'DejaVu Sans Mono',consolas,'Courier New',monospace\"><span style=\"color: #7fbfbf; text-decoration-color: #7fbfbf\">           </span><span style=\"color: #000080; text-decoration-color: #000080\">INFO    </span> Collaborator one is sending task results for locally_tuned_model_validation, round <span style=\"color: #008080; text-decoration-color: #008080; font-weight: bold\">3</span>                                       <a href=\"file://C:\\Users\\BHSU\\AppData\\Local\\Programs\\Python\\Python39\\lib\\site-packages\\openfl\\component\\aggregator\\aggregator.py\" target=\"_blank\"><span style=\"color: #7f7f7f; text-decoration-color: #7f7f7f\">aggregator.py</span></a><span style=\"color: #7f7f7f; text-decoration-color: #7f7f7f\">:</span><a href=\"file://C:\\Users\\BHSU\\AppData\\Local\\Programs\\Python\\Python39\\lib\\site-packages\\openfl\\component\\aggregator\\aggregator.py#520\" target=\"_blank\"><span style=\"color: #7f7f7f; text-decoration-color: #7f7f7f\">520</span></a>\n",
       "</pre>\n"
      ],
      "text/plain": [
       "\u001b[2;36m          \u001b[0m\u001b[2;36m \u001b[0m\u001b[34mINFO    \u001b[0m Collaborator one is sending task results for locally_tuned_model_validation, round \u001b[1;36m3\u001b[0m                                       \u001b]8;id=606158;file://C:\\Users\\BHSU\\AppData\\Local\\Programs\\Python\\Python39\\lib\\site-packages\\openfl\\component\\aggregator\\aggregator.py\u001b\\\u001b[2maggregator.py\u001b[0m\u001b]8;;\u001b\\\u001b[2m:\u001b[0m\u001b]8;id=324984;file://C:\\Users\\BHSU\\AppData\\Local\\Programs\\Python\\Python39\\lib\\site-packages\\openfl\\component\\aggregator\\aggregator.py#520\u001b\\\u001b[2m520\u001b[0m\u001b]8;;\u001b\\\n"
      ]
     },
     "metadata": {},
     "output_type": "display_data"
    },
    {
     "data": {
      "text/html": [
       "<pre style=\"white-space:pre;overflow-x:auto;line-height:normal;font-family:Menlo,'DejaVu Sans Mono',consolas,'Courier New',monospace\"><span style=\"color: #7fbfbf; text-decoration-color: #7fbfbf\">           </span>METRIC   Round <span style=\"color: #008080; text-decoration-color: #008080; font-weight: bold\">3</span>, collaborator validate_local locally_tuned_model_validation result accuracy:    <span style=\"color: #008080; text-decoration-color: #008080; font-weight: bold\">0.940333</span>                           <a href=\"file://C:\\Users\\BHSU\\AppData\\Local\\Programs\\Python\\Python39\\lib\\site-packages\\openfl\\component\\aggregator\\aggregator.py\" target=\"_blank\"><span style=\"color: #7f7f7f; text-decoration-color: #7f7f7f\">aggregator.py</span></a><span style=\"color: #7f7f7f; text-decoration-color: #7f7f7f\">:</span><a href=\"file://C:\\Users\\BHSU\\AppData\\Local\\Programs\\Python\\Python39\\lib\\site-packages\\openfl\\component\\aggregator\\aggregator.py#559\" target=\"_blank\"><span style=\"color: #7f7f7f; text-decoration-color: #7f7f7f\">559</span></a>\n",
       "</pre>\n"
      ],
      "text/plain": [
       "\u001b[2;36m          \u001b[0m\u001b[2;36m \u001b[0mMETRIC   Round \u001b[1;36m3\u001b[0m, collaborator validate_local locally_tuned_model_validation result accuracy:    \u001b[1;36m0.940333\u001b[0m                           \u001b]8;id=821920;file://C:\\Users\\BHSU\\AppData\\Local\\Programs\\Python\\Python39\\lib\\site-packages\\openfl\\component\\aggregator\\aggregator.py\u001b\\\u001b[2maggregator.py\u001b[0m\u001b]8;;\u001b\\\u001b[2m:\u001b[0m\u001b]8;id=402913;file://C:\\Users\\BHSU\\AppData\\Local\\Programs\\Python\\Python39\\lib\\site-packages\\openfl\\component\\aggregator\\aggregator.py#559\u001b\\\u001b[2m559\u001b[0m\u001b]8;;\u001b\\\n"
      ]
     },
     "metadata": {},
     "output_type": "display_data"
    },
    {
     "data": {
      "text/html": [
       "<pre style=\"white-space:pre;overflow-x:auto;line-height:normal;font-family:Menlo,'DejaVu Sans Mono',consolas,'Courier New',monospace\"><span style=\"color: #7fbfbf; text-decoration-color: #7fbfbf\">           </span><span style=\"color: #000080; text-decoration-color: #000080\">INFO    </span> All tasks completed on one for round <span style=\"color: #008080; text-decoration-color: #008080; font-weight: bold\">3</span><span style=\"color: #808000; text-decoration-color: #808000\">...</span>                                                                                <a href=\"file://C:\\Users\\BHSU\\AppData\\Local\\Programs\\Python\\Python39\\lib\\site-packages\\openfl\\component\\collaborator\\collaborator.py\" target=\"_blank\"><span style=\"color: #7f7f7f; text-decoration-color: #7f7f7f\">collaborator.py</span></a><span style=\"color: #7f7f7f; text-decoration-color: #7f7f7f\">:</span><a href=\"file://C:\\Users\\BHSU\\AppData\\Local\\Programs\\Python\\Python39\\lib\\site-packages\\openfl\\component\\collaborator\\collaborator.py#171\" target=\"_blank\"><span style=\"color: #7f7f7f; text-decoration-color: #7f7f7f\">171</span></a>\n",
       "</pre>\n"
      ],
      "text/plain": [
       "\u001b[2;36m          \u001b[0m\u001b[2;36m \u001b[0m\u001b[34mINFO    \u001b[0m All tasks completed on one for round \u001b[1;36m3\u001b[0m\u001b[33m...\u001b[0m                                                                                \u001b]8;id=11267;file://C:\\Users\\BHSU\\AppData\\Local\\Programs\\Python\\Python39\\lib\\site-packages\\openfl\\component\\collaborator\\collaborator.py\u001b\\\u001b[2mcollaborator.py\u001b[0m\u001b]8;;\u001b\\\u001b[2m:\u001b[0m\u001b]8;id=970521;file://C:\\Users\\BHSU\\AppData\\Local\\Programs\\Python\\Python39\\lib\\site-packages\\openfl\\component\\collaborator\\collaborator.py#171\u001b\\\u001b[2m171\u001b[0m\u001b]8;;\u001b\\\n"
      ]
     },
     "metadata": {},
     "output_type": "display_data"
    },
    {
     "data": {
      "text/html": [
       "<pre style=\"white-space:pre;overflow-x:auto;line-height:normal;font-family:Menlo,'DejaVu Sans Mono',consolas,'Courier New',monospace\"><span style=\"color: #7fbfbf; text-decoration-color: #7fbfbf\">           </span><span style=\"color: #000080; text-decoration-color: #000080\">INFO    </span> Waiting for tasks<span style=\"color: #808000; text-decoration-color: #808000\">...</span>                                                                                                     <a href=\"file://C:\\Users\\BHSU\\AppData\\Local\\Programs\\Python\\Python39\\lib\\site-packages\\openfl\\component\\collaborator\\collaborator.py\" target=\"_blank\"><span style=\"color: #7f7f7f; text-decoration-color: #7f7f7f\">collaborator.py</span></a><span style=\"color: #7f7f7f; text-decoration-color: #7f7f7f\">:</span><a href=\"file://C:\\Users\\BHSU\\AppData\\Local\\Programs\\Python\\Python39\\lib\\site-packages\\openfl\\component\\collaborator\\collaborator.py#178\" target=\"_blank\"><span style=\"color: #7f7f7f; text-decoration-color: #7f7f7f\">178</span></a>\n",
       "</pre>\n"
      ],
      "text/plain": [
       "\u001b[2;36m          \u001b[0m\u001b[2;36m \u001b[0m\u001b[34mINFO    \u001b[0m Waiting for tasks\u001b[33m...\u001b[0m                                                                                                     \u001b]8;id=641569;file://C:\\Users\\BHSU\\AppData\\Local\\Programs\\Python\\Python39\\lib\\site-packages\\openfl\\component\\collaborator\\collaborator.py\u001b\\\u001b[2mcollaborator.py\u001b[0m\u001b]8;;\u001b\\\u001b[2m:\u001b[0m\u001b]8;id=9091;file://C:\\Users\\BHSU\\AppData\\Local\\Programs\\Python\\Python39\\lib\\site-packages\\openfl\\component\\collaborator\\collaborator.py#178\u001b\\\u001b[2m178\u001b[0m\u001b]8;;\u001b\\\n"
      ]
     },
     "metadata": {},
     "output_type": "display_data"
    },
    {
     "data": {
      "text/html": [
       "<pre style=\"white-space:pre;overflow-x:auto;line-height:normal;font-family:Menlo,'DejaVu Sans Mono',consolas,'Courier New',monospace\"><span style=\"color: #7fbfbf; text-decoration-color: #7fbfbf\">           </span><span style=\"color: #000080; text-decoration-color: #000080\">INFO    </span> Sending tasks to collaborator two for round <span style=\"color: #008080; text-decoration-color: #008080; font-weight: bold\">3</span>                                                                              <a href=\"file://C:\\Users\\BHSU\\AppData\\Local\\Programs\\Python\\Python39\\lib\\site-packages\\openfl\\component\\aggregator\\aggregator.py\" target=\"_blank\"><span style=\"color: #7f7f7f; text-decoration-color: #7f7f7f\">aggregator.py</span></a><span style=\"color: #7f7f7f; text-decoration-color: #7f7f7f\">:</span><a href=\"file://C:\\Users\\BHSU\\AppData\\Local\\Programs\\Python\\Python39\\lib\\site-packages\\openfl\\component\\aggregator\\aggregator.py#329\" target=\"_blank\"><span style=\"color: #7f7f7f; text-decoration-color: #7f7f7f\">329</span></a>\n",
       "</pre>\n"
      ],
      "text/plain": [
       "\u001b[2;36m          \u001b[0m\u001b[2;36m \u001b[0m\u001b[34mINFO    \u001b[0m Sending tasks to collaborator two for round \u001b[1;36m3\u001b[0m                                                                              \u001b]8;id=570127;file://C:\\Users\\BHSU\\AppData\\Local\\Programs\\Python\\Python39\\lib\\site-packages\\openfl\\component\\aggregator\\aggregator.py\u001b\\\u001b[2maggregator.py\u001b[0m\u001b]8;;\u001b\\\u001b[2m:\u001b[0m\u001b]8;id=543009;file://C:\\Users\\BHSU\\AppData\\Local\\Programs\\Python\\Python39\\lib\\site-packages\\openfl\\component\\aggregator\\aggregator.py#329\u001b\\\u001b[2m329\u001b[0m\u001b]8;;\u001b\\\n"
      ]
     },
     "metadata": {},
     "output_type": "display_data"
    },
    {
     "data": {
      "text/html": [
       "<pre style=\"white-space:pre;overflow-x:auto;line-height:normal;font-family:Menlo,'DejaVu Sans Mono',consolas,'Courier New',monospace\"><span style=\"color: #7fbfbf; text-decoration-color: #7fbfbf\">           </span><span style=\"color: #000080; text-decoration-color: #000080\">INFO    </span> Received the following tasks: <span style=\"font-weight: bold\">[</span><span style=\"color: #008000; text-decoration-color: #008000\">'aggregated_model_validation'</span>, <span style=\"color: #008000; text-decoration-color: #008000\">'train'</span>, <span style=\"color: #008000; text-decoration-color: #008000\">'locally_tuned_model_validation'</span><span style=\"font-weight: bold\">]</span>                 <a href=\"file://C:\\Users\\BHSU\\AppData\\Local\\Programs\\Python\\Python39\\lib\\site-packages\\openfl\\component\\collaborator\\collaborator.py\" target=\"_blank\"><span style=\"color: #7f7f7f; text-decoration-color: #7f7f7f\">collaborator.py</span></a><span style=\"color: #7f7f7f; text-decoration-color: #7f7f7f\">:</span><a href=\"file://C:\\Users\\BHSU\\AppData\\Local\\Programs\\Python\\Python39\\lib\\site-packages\\openfl\\component\\collaborator\\collaborator.py#168\" target=\"_blank\"><span style=\"color: #7f7f7f; text-decoration-color: #7f7f7f\">168</span></a>\n",
       "</pre>\n"
      ],
      "text/plain": [
       "\u001b[2;36m          \u001b[0m\u001b[2;36m \u001b[0m\u001b[34mINFO    \u001b[0m Received the following tasks: \u001b[1m[\u001b[0m\u001b[32m'aggregated_model_validation'\u001b[0m, \u001b[32m'train'\u001b[0m, \u001b[32m'locally_tuned_model_validation'\u001b[0m\u001b[1m]\u001b[0m                 \u001b]8;id=461978;file://C:\\Users\\BHSU\\AppData\\Local\\Programs\\Python\\Python39\\lib\\site-packages\\openfl\\component\\collaborator\\collaborator.py\u001b\\\u001b[2mcollaborator.py\u001b[0m\u001b]8;;\u001b\\\u001b[2m:\u001b[0m\u001b]8;id=105057;file://C:\\Users\\BHSU\\AppData\\Local\\Programs\\Python\\Python39\\lib\\site-packages\\openfl\\component\\collaborator\\collaborator.py#168\u001b\\\u001b[2m168\u001b[0m\u001b]8;;\u001b\\\n"
      ]
     },
     "metadata": {},
     "output_type": "display_data"
    },
    {
     "data": {
      "text/html": [
       "<pre style=\"white-space:pre;overflow-x:auto;line-height:normal;font-family:Menlo,'DejaVu Sans Mono',consolas,'Courier New',monospace\"><span style=\"color: #7fbfbf; text-decoration-color: #7fbfbf\">           </span><span style=\"color: #000080; text-decoration-color: #000080\">INFO    </span> Using TaskRunner subclassing API                                                                                         <a href=\"file://C:\\Users\\BHSU\\AppData\\Local\\Programs\\Python\\Python39\\lib\\site-packages\\openfl\\component\\collaborator\\collaborator.py\" target=\"_blank\"><span style=\"color: #7f7f7f; text-decoration-color: #7f7f7f\">collaborator.py</span></a><span style=\"color: #7f7f7f; text-decoration-color: #7f7f7f\">:</span><a href=\"file://C:\\Users\\BHSU\\AppData\\Local\\Programs\\Python\\Python39\\lib\\site-packages\\openfl\\component\\collaborator\\collaborator.py#253\" target=\"_blank\"><span style=\"color: #7f7f7f; text-decoration-color: #7f7f7f\">253</span></a>\n",
       "</pre>\n"
      ],
      "text/plain": [
       "\u001b[2;36m          \u001b[0m\u001b[2;36m \u001b[0m\u001b[34mINFO    \u001b[0m Using TaskRunner subclassing API                                                                                         \u001b]8;id=364353;file://C:\\Users\\BHSU\\AppData\\Local\\Programs\\Python\\Python39\\lib\\site-packages\\openfl\\component\\collaborator\\collaborator.py\u001b\\\u001b[2mcollaborator.py\u001b[0m\u001b]8;;\u001b\\\u001b[2m:\u001b[0m\u001b]8;id=568555;file://C:\\Users\\BHSU\\AppData\\Local\\Programs\\Python\\Python39\\lib\\site-packages\\openfl\\component\\collaborator\\collaborator.py#253\u001b\\\u001b[2m253\u001b[0m\u001b]8;;\u001b\\\n"
      ]
     },
     "metadata": {},
     "output_type": "display_data"
    },
    {
     "name": "stdout",
     "output_type": "stream",
     "text": [
      "282/282 [==============================] - 0s 498us/step - loss: 0.2016 - accuracy: 0.9402\n"
     ]
    },
    {
     "data": {
      "text/html": [
       "<pre style=\"white-space:pre;overflow-x:auto;line-height:normal;font-family:Menlo,'DejaVu Sans Mono',consolas,'Courier New',monospace\"><span style=\"color: #7fbfbf; text-decoration-color: #7fbfbf\">[17:02:21] </span>METRIC   Round <span style=\"color: #008080; text-decoration-color: #008080; font-weight: bold\">3</span>, collaborator two is sending metric for task aggregated_model_validation: accuracy      <span style=\"color: #008080; text-decoration-color: #008080; font-weight: bold\">0.940222</span>                 <a href=\"file://C:\\Users\\BHSU\\AppData\\Local\\Programs\\Python\\Python39\\lib\\site-packages\\openfl\\component\\collaborator\\collaborator.py\" target=\"_blank\"><span style=\"color: #7f7f7f; text-decoration-color: #7f7f7f\">collaborator.py</span></a><span style=\"color: #7f7f7f; text-decoration-color: #7f7f7f\">:</span><a href=\"file://C:\\Users\\BHSU\\AppData\\Local\\Programs\\Python\\Python39\\lib\\site-packages\\openfl\\component\\collaborator\\collaborator.py#415\" target=\"_blank\"><span style=\"color: #7f7f7f; text-decoration-color: #7f7f7f\">415</span></a>\n",
       "</pre>\n"
      ],
      "text/plain": [
       "\u001b[2;36m[17:02:21]\u001b[0m\u001b[2;36m \u001b[0mMETRIC   Round \u001b[1;36m3\u001b[0m, collaborator two is sending metric for task aggregated_model_validation: accuracy      \u001b[1;36m0.940222\u001b[0m                 \u001b]8;id=188085;file://C:\\Users\\BHSU\\AppData\\Local\\Programs\\Python\\Python39\\lib\\site-packages\\openfl\\component\\collaborator\\collaborator.py\u001b\\\u001b[2mcollaborator.py\u001b[0m\u001b]8;;\u001b\\\u001b[2m:\u001b[0m\u001b]8;id=758068;file://C:\\Users\\BHSU\\AppData\\Local\\Programs\\Python\\Python39\\lib\\site-packages\\openfl\\component\\collaborator\\collaborator.py#415\u001b\\\u001b[2m415\u001b[0m\u001b]8;;\u001b\\\n"
      ]
     },
     "metadata": {},
     "output_type": "display_data"
    },
    {
     "data": {
      "text/html": [
       "<pre style=\"white-space:pre;overflow-x:auto;line-height:normal;font-family:Menlo,'DejaVu Sans Mono',consolas,'Courier New',monospace\"><span style=\"color: #7fbfbf; text-decoration-color: #7fbfbf\">           </span><span style=\"color: #000080; text-decoration-color: #000080\">INFO    </span> Collaborator two is sending task results for aggregated_model_validation, round <span style=\"color: #008080; text-decoration-color: #008080; font-weight: bold\">3</span>                                          <a href=\"file://C:\\Users\\BHSU\\AppData\\Local\\Programs\\Python\\Python39\\lib\\site-packages\\openfl\\component\\aggregator\\aggregator.py\" target=\"_blank\"><span style=\"color: #7f7f7f; text-decoration-color: #7f7f7f\">aggregator.py</span></a><span style=\"color: #7f7f7f; text-decoration-color: #7f7f7f\">:</span><a href=\"file://C:\\Users\\BHSU\\AppData\\Local\\Programs\\Python\\Python39\\lib\\site-packages\\openfl\\component\\aggregator\\aggregator.py#520\" target=\"_blank\"><span style=\"color: #7f7f7f; text-decoration-color: #7f7f7f\">520</span></a>\n",
       "</pre>\n"
      ],
      "text/plain": [
       "\u001b[2;36m          \u001b[0m\u001b[2;36m \u001b[0m\u001b[34mINFO    \u001b[0m Collaborator two is sending task results for aggregated_model_validation, round \u001b[1;36m3\u001b[0m                                          \u001b]8;id=123018;file://C:\\Users\\BHSU\\AppData\\Local\\Programs\\Python\\Python39\\lib\\site-packages\\openfl\\component\\aggregator\\aggregator.py\u001b\\\u001b[2maggregator.py\u001b[0m\u001b]8;;\u001b\\\u001b[2m:\u001b[0m\u001b]8;id=82929;file://C:\\Users\\BHSU\\AppData\\Local\\Programs\\Python\\Python39\\lib\\site-packages\\openfl\\component\\aggregator\\aggregator.py#520\u001b\\\u001b[2m520\u001b[0m\u001b]8;;\u001b\\\n"
      ]
     },
     "metadata": {},
     "output_type": "display_data"
    },
    {
     "data": {
      "text/html": [
       "<pre style=\"white-space:pre;overflow-x:auto;line-height:normal;font-family:Menlo,'DejaVu Sans Mono',consolas,'Courier New',monospace\"><span style=\"color: #7fbfbf; text-decoration-color: #7fbfbf\">           </span>METRIC   Round <span style=\"color: #008080; text-decoration-color: #008080; font-weight: bold\">3</span>, collaborator validate_agg aggregated_model_validation result accuracy: <span style=\"color: #008080; text-decoration-color: #008080; font-weight: bold\">0.940222</span>                                   <a href=\"file://C:\\Users\\BHSU\\AppData\\Local\\Programs\\Python\\Python39\\lib\\site-packages\\openfl\\component\\aggregator\\aggregator.py\" target=\"_blank\"><span style=\"color: #7f7f7f; text-decoration-color: #7f7f7f\">aggregator.py</span></a><span style=\"color: #7f7f7f; text-decoration-color: #7f7f7f\">:</span><a href=\"file://C:\\Users\\BHSU\\AppData\\Local\\Programs\\Python\\Python39\\lib\\site-packages\\openfl\\component\\aggregator\\aggregator.py#559\" target=\"_blank\"><span style=\"color: #7f7f7f; text-decoration-color: #7f7f7f\">559</span></a>\n",
       "</pre>\n"
      ],
      "text/plain": [
       "\u001b[2;36m          \u001b[0m\u001b[2;36m \u001b[0mMETRIC   Round \u001b[1;36m3\u001b[0m, collaborator validate_agg aggregated_model_validation result accuracy: \u001b[1;36m0.940222\u001b[0m                                   \u001b]8;id=356775;file://C:\\Users\\BHSU\\AppData\\Local\\Programs\\Python\\Python39\\lib\\site-packages\\openfl\\component\\aggregator\\aggregator.py\u001b\\\u001b[2maggregator.py\u001b[0m\u001b]8;;\u001b\\\u001b[2m:\u001b[0m\u001b]8;id=393279;file://C:\\Users\\BHSU\\AppData\\Local\\Programs\\Python\\Python39\\lib\\site-packages\\openfl\\component\\aggregator\\aggregator.py#559\u001b\\\u001b[2m559\u001b[0m\u001b]8;;\u001b\\\n"
      ]
     },
     "metadata": {},
     "output_type": "display_data"
    },
    {
     "data": {
      "text/html": [
       "<pre style=\"white-space:pre;overflow-x:auto;line-height:normal;font-family:Menlo,'DejaVu Sans Mono',consolas,'Courier New',monospace\"><span style=\"color: #7fbfbf; text-decoration-color: #7fbfbf\">           </span><span style=\"color: #000080; text-decoration-color: #000080\">INFO    </span> Using TaskRunner subclassing API                                                                                         <a href=\"file://C:\\Users\\BHSU\\AppData\\Local\\Programs\\Python\\Python39\\lib\\site-packages\\openfl\\component\\collaborator\\collaborator.py\" target=\"_blank\"><span style=\"color: #7f7f7f; text-decoration-color: #7f7f7f\">collaborator.py</span></a><span style=\"color: #7f7f7f; text-decoration-color: #7f7f7f\">:</span><a href=\"file://C:\\Users\\BHSU\\AppData\\Local\\Programs\\Python\\Python39\\lib\\site-packages\\openfl\\component\\collaborator\\collaborator.py#253\" target=\"_blank\"><span style=\"color: #7f7f7f; text-decoration-color: #7f7f7f\">253</span></a>\n",
       "</pre>\n"
      ],
      "text/plain": [
       "\u001b[2;36m          \u001b[0m\u001b[2;36m \u001b[0m\u001b[34mINFO    \u001b[0m Using TaskRunner subclassing API                                                                                         \u001b]8;id=24180;file://C:\\Users\\BHSU\\AppData\\Local\\Programs\\Python\\Python39\\lib\\site-packages\\openfl\\component\\collaborator\\collaborator.py\u001b\\\u001b[2mcollaborator.py\u001b[0m\u001b]8;;\u001b\\\u001b[2m:\u001b[0m\u001b]8;id=971623;file://C:\\Users\\BHSU\\AppData\\Local\\Programs\\Python\\Python39\\lib\\site-packages\\openfl\\component\\collaborator\\collaborator.py#253\u001b\\\u001b[2m253\u001b[0m\u001b]8;;\u001b\\\n"
      ]
     },
     "metadata": {},
     "output_type": "display_data"
    },
    {
     "data": {
      "text/html": [
       "<pre style=\"white-space:pre;overflow-x:auto;line-height:normal;font-family:Menlo,'DejaVu Sans Mono',consolas,'Courier New',monospace\"><span style=\"color: #7fbfbf; text-decoration-color: #7fbfbf\">           </span><span style=\"color: #000080; text-decoration-color: #000080\">INFO    </span> Run <span style=\"color: #008080; text-decoration-color: #008080; font-weight: bold\">0</span> epoch of <span style=\"color: #008080; text-decoration-color: #008080; font-weight: bold\">3</span> round                                                                                                    <a href=\"file://C:\\Users\\BHSU\\AppData\\Local\\Programs\\Python\\Python39\\lib\\site-packages\\openfl\\federated\\task\\runner_keras.py\" target=\"_blank\"><span style=\"color: #7f7f7f; text-decoration-color: #7f7f7f\">runner_keras.py</span></a><span style=\"color: #7f7f7f; text-decoration-color: #7f7f7f\">:</span><a href=\"file://C:\\Users\\BHSU\\AppData\\Local\\Programs\\Python\\Python39\\lib\\site-packages\\openfl\\federated\\task\\runner_keras.py#83\" target=\"_blank\"><span style=\"color: #7f7f7f; text-decoration-color: #7f7f7f\">83</span></a>\n",
       "</pre>\n"
      ],
      "text/plain": [
       "\u001b[2;36m          \u001b[0m\u001b[2;36m \u001b[0m\u001b[34mINFO    \u001b[0m Run \u001b[1;36m0\u001b[0m epoch of \u001b[1;36m3\u001b[0m round                                                                                                    \u001b]8;id=884216;file://C:\\Users\\BHSU\\AppData\\Local\\Programs\\Python\\Python39\\lib\\site-packages\\openfl\\federated\\task\\runner_keras.py\u001b\\\u001b[2mrunner_keras.py\u001b[0m\u001b]8;;\u001b\\\u001b[2m:\u001b[0m\u001b]8;id=21626;file://C:\\Users\\BHSU\\AppData\\Local\\Programs\\Python\\Python39\\lib\\site-packages\\openfl\\federated\\task\\runner_keras.py#83\u001b\\\u001b[2m83\u001b[0m\u001b]8;;\u001b\\\n"
      ]
     },
     "metadata": {},
     "output_type": "display_data"
    },
    {
     "name": "stdout",
     "output_type": "stream",
     "text": [
      "657/657 [==============================] - 0s 633us/step - loss: 0.1842 - accuracy: 0.9424\n"
     ]
    },
    {
     "data": {
      "text/html": [
       "<pre style=\"white-space:pre;overflow-x:auto;line-height:normal;font-family:Menlo,'DejaVu Sans Mono',consolas,'Courier New',monospace\"><span style=\"color: #7fbfbf; text-decoration-color: #7fbfbf\">           </span>METRIC   Round <span style=\"color: #008080; text-decoration-color: #008080; font-weight: bold\">3</span>, collaborator two is sending metric for task train: loss        <span style=\"color: #008080; text-decoration-color: #008080; font-weight: bold\">0.184193</span>                                         <a href=\"file://C:\\Users\\BHSU\\AppData\\Local\\Programs\\Python\\Python39\\lib\\site-packages\\openfl\\component\\collaborator\\collaborator.py\" target=\"_blank\"><span style=\"color: #7f7f7f; text-decoration-color: #7f7f7f\">collaborator.py</span></a><span style=\"color: #7f7f7f; text-decoration-color: #7f7f7f\">:</span><a href=\"file://C:\\Users\\BHSU\\AppData\\Local\\Programs\\Python\\Python39\\lib\\site-packages\\openfl\\component\\collaborator\\collaborator.py#415\" target=\"_blank\"><span style=\"color: #7f7f7f; text-decoration-color: #7f7f7f\">415</span></a>\n",
       "</pre>\n"
      ],
      "text/plain": [
       "\u001b[2;36m          \u001b[0m\u001b[2;36m \u001b[0mMETRIC   Round \u001b[1;36m3\u001b[0m, collaborator two is sending metric for task train: loss        \u001b[1;36m0.184193\u001b[0m                                         \u001b]8;id=50412;file://C:\\Users\\BHSU\\AppData\\Local\\Programs\\Python\\Python39\\lib\\site-packages\\openfl\\component\\collaborator\\collaborator.py\u001b\\\u001b[2mcollaborator.py\u001b[0m\u001b]8;;\u001b\\\u001b[2m:\u001b[0m\u001b]8;id=750361;file://C:\\Users\\BHSU\\AppData\\Local\\Programs\\Python\\Python39\\lib\\site-packages\\openfl\\component\\collaborator\\collaborator.py#415\u001b\\\u001b[2m415\u001b[0m\u001b]8;;\u001b\\\n"
      ]
     },
     "metadata": {},
     "output_type": "display_data"
    },
    {
     "data": {
      "text/html": [
       "<pre style=\"white-space:pre;overflow-x:auto;line-height:normal;font-family:Menlo,'DejaVu Sans Mono',consolas,'Courier New',monospace\"><span style=\"color: #7fbfbf; text-decoration-color: #7fbfbf\">           </span><span style=\"color: #000080; text-decoration-color: #000080\">INFO    </span> Collaborator two is sending task results for train, round <span style=\"color: #008080; text-decoration-color: #008080; font-weight: bold\">3</span>                                                                <a href=\"file://C:\\Users\\BHSU\\AppData\\Local\\Programs\\Python\\Python39\\lib\\site-packages\\openfl\\component\\aggregator\\aggregator.py\" target=\"_blank\"><span style=\"color: #7f7f7f; text-decoration-color: #7f7f7f\">aggregator.py</span></a><span style=\"color: #7f7f7f; text-decoration-color: #7f7f7f\">:</span><a href=\"file://C:\\Users\\BHSU\\AppData\\Local\\Programs\\Python\\Python39\\lib\\site-packages\\openfl\\component\\aggregator\\aggregator.py#520\" target=\"_blank\"><span style=\"color: #7f7f7f; text-decoration-color: #7f7f7f\">520</span></a>\n",
       "</pre>\n"
      ],
      "text/plain": [
       "\u001b[2;36m          \u001b[0m\u001b[2;36m \u001b[0m\u001b[34mINFO    \u001b[0m Collaborator two is sending task results for train, round \u001b[1;36m3\u001b[0m                                                                \u001b]8;id=680670;file://C:\\Users\\BHSU\\AppData\\Local\\Programs\\Python\\Python39\\lib\\site-packages\\openfl\\component\\aggregator\\aggregator.py\u001b\\\u001b[2maggregator.py\u001b[0m\u001b]8;;\u001b\\\u001b[2m:\u001b[0m\u001b]8;id=504612;file://C:\\Users\\BHSU\\AppData\\Local\\Programs\\Python\\Python39\\lib\\site-packages\\openfl\\component\\aggregator\\aggregator.py#520\u001b\\\u001b[2m520\u001b[0m\u001b]8;;\u001b\\\n"
      ]
     },
     "metadata": {},
     "output_type": "display_data"
    },
    {
     "data": {
      "text/html": [
       "<pre style=\"white-space:pre;overflow-x:auto;line-height:normal;font-family:Menlo,'DejaVu Sans Mono',consolas,'Courier New',monospace\"><span style=\"color: #7fbfbf; text-decoration-color: #7fbfbf\">           </span>METRIC   Round <span style=\"color: #008080; text-decoration-color: #008080; font-weight: bold\">3</span>, collaborator two train result loss:    <span style=\"color: #008080; text-decoration-color: #008080; font-weight: bold\">0.184193</span>                                                                   <a href=\"file://C:\\Users\\BHSU\\AppData\\Local\\Programs\\Python\\Python39\\lib\\site-packages\\openfl\\component\\aggregator\\aggregator.py\" target=\"_blank\"><span style=\"color: #7f7f7f; text-decoration-color: #7f7f7f\">aggregator.py</span></a><span style=\"color: #7f7f7f; text-decoration-color: #7f7f7f\">:</span><a href=\"file://C:\\Users\\BHSU\\AppData\\Local\\Programs\\Python\\Python39\\lib\\site-packages\\openfl\\component\\aggregator\\aggregator.py#559\" target=\"_blank\"><span style=\"color: #7f7f7f; text-decoration-color: #7f7f7f\">559</span></a>\n",
       "</pre>\n"
      ],
      "text/plain": [
       "\u001b[2;36m          \u001b[0m\u001b[2;36m \u001b[0mMETRIC   Round \u001b[1;36m3\u001b[0m, collaborator two train result loss:    \u001b[1;36m0.184193\u001b[0m                                                                   \u001b]8;id=528250;file://C:\\Users\\BHSU\\AppData\\Local\\Programs\\Python\\Python39\\lib\\site-packages\\openfl\\component\\aggregator\\aggregator.py\u001b\\\u001b[2maggregator.py\u001b[0m\u001b]8;;\u001b\\\u001b[2m:\u001b[0m\u001b]8;id=663437;file://C:\\Users\\BHSU\\AppData\\Local\\Programs\\Python\\Python39\\lib\\site-packages\\openfl\\component\\aggregator\\aggregator.py#559\u001b\\\u001b[2m559\u001b[0m\u001b]8;;\u001b\\\n"
      ]
     },
     "metadata": {},
     "output_type": "display_data"
    },
    {
     "data": {
      "text/html": [
       "<pre style=\"white-space:pre;overflow-x:auto;line-height:normal;font-family:Menlo,'DejaVu Sans Mono',consolas,'Courier New',monospace\"><span style=\"color: #7fbfbf; text-decoration-color: #7fbfbf\">           </span><span style=\"color: #000080; text-decoration-color: #000080\">INFO    </span> Using TaskRunner subclassing API                                                                                         <a href=\"file://C:\\Users\\BHSU\\AppData\\Local\\Programs\\Python\\Python39\\lib\\site-packages\\openfl\\component\\collaborator\\collaborator.py\" target=\"_blank\"><span style=\"color: #7f7f7f; text-decoration-color: #7f7f7f\">collaborator.py</span></a><span style=\"color: #7f7f7f; text-decoration-color: #7f7f7f\">:</span><a href=\"file://C:\\Users\\BHSU\\AppData\\Local\\Programs\\Python\\Python39\\lib\\site-packages\\openfl\\component\\collaborator\\collaborator.py#253\" target=\"_blank\"><span style=\"color: #7f7f7f; text-decoration-color: #7f7f7f\">253</span></a>\n",
       "</pre>\n"
      ],
      "text/plain": [
       "\u001b[2;36m          \u001b[0m\u001b[2;36m \u001b[0m\u001b[34mINFO    \u001b[0m Using TaskRunner subclassing API                                                                                         \u001b]8;id=462939;file://C:\\Users\\BHSU\\AppData\\Local\\Programs\\Python\\Python39\\lib\\site-packages\\openfl\\component\\collaborator\\collaborator.py\u001b\\\u001b[2mcollaborator.py\u001b[0m\u001b]8;;\u001b\\\u001b[2m:\u001b[0m\u001b]8;id=670207;file://C:\\Users\\BHSU\\AppData\\Local\\Programs\\Python\\Python39\\lib\\site-packages\\openfl\\component\\collaborator\\collaborator.py#253\u001b\\\u001b[2m253\u001b[0m\u001b]8;;\u001b\\\n"
      ]
     },
     "metadata": {},
     "output_type": "display_data"
    },
    {
     "name": "stdout",
     "output_type": "stream",
     "text": [
      "282/282 [==============================] - 0s 488us/step - loss: 0.2052 - accuracy: 0.9406\n"
     ]
    },
    {
     "data": {
      "text/html": [
       "<pre style=\"white-space:pre;overflow-x:auto;line-height:normal;font-family:Menlo,'DejaVu Sans Mono',consolas,'Courier New',monospace\"><span style=\"color: #7fbfbf; text-decoration-color: #7fbfbf\">           </span>METRIC   Round <span style=\"color: #008080; text-decoration-color: #008080; font-weight: bold\">3</span>, collaborator two is sending metric for task locally_tuned_model_validation: accuracy   <span style=\"color: #008080; text-decoration-color: #008080; font-weight: bold\">0.940556</span>                 <a href=\"file://C:\\Users\\BHSU\\AppData\\Local\\Programs\\Python\\Python39\\lib\\site-packages\\openfl\\component\\collaborator\\collaborator.py\" target=\"_blank\"><span style=\"color: #7f7f7f; text-decoration-color: #7f7f7f\">collaborator.py</span></a><span style=\"color: #7f7f7f; text-decoration-color: #7f7f7f\">:</span><a href=\"file://C:\\Users\\BHSU\\AppData\\Local\\Programs\\Python\\Python39\\lib\\site-packages\\openfl\\component\\collaborator\\collaborator.py#415\" target=\"_blank\"><span style=\"color: #7f7f7f; text-decoration-color: #7f7f7f\">415</span></a>\n",
       "</pre>\n"
      ],
      "text/plain": [
       "\u001b[2;36m          \u001b[0m\u001b[2;36m \u001b[0mMETRIC   Round \u001b[1;36m3\u001b[0m, collaborator two is sending metric for task locally_tuned_model_validation: accuracy   \u001b[1;36m0.940556\u001b[0m                 \u001b]8;id=337103;file://C:\\Users\\BHSU\\AppData\\Local\\Programs\\Python\\Python39\\lib\\site-packages\\openfl\\component\\collaborator\\collaborator.py\u001b\\\u001b[2mcollaborator.py\u001b[0m\u001b]8;;\u001b\\\u001b[2m:\u001b[0m\u001b]8;id=347308;file://C:\\Users\\BHSU\\AppData\\Local\\Programs\\Python\\Python39\\lib\\site-packages\\openfl\\component\\collaborator\\collaborator.py#415\u001b\\\u001b[2m415\u001b[0m\u001b]8;;\u001b\\\n"
      ]
     },
     "metadata": {},
     "output_type": "display_data"
    },
    {
     "data": {
      "text/html": [
       "<pre style=\"white-space:pre;overflow-x:auto;line-height:normal;font-family:Menlo,'DejaVu Sans Mono',consolas,'Courier New',monospace\"><span style=\"color: #7fbfbf; text-decoration-color: #7fbfbf\">           </span><span style=\"color: #000080; text-decoration-color: #000080\">INFO    </span> Collaborator two is sending task results for locally_tuned_model_validation, round <span style=\"color: #008080; text-decoration-color: #008080; font-weight: bold\">3</span>                                       <a href=\"file://C:\\Users\\BHSU\\AppData\\Local\\Programs\\Python\\Python39\\lib\\site-packages\\openfl\\component\\aggregator\\aggregator.py\" target=\"_blank\"><span style=\"color: #7f7f7f; text-decoration-color: #7f7f7f\">aggregator.py</span></a><span style=\"color: #7f7f7f; text-decoration-color: #7f7f7f\">:</span><a href=\"file://C:\\Users\\BHSU\\AppData\\Local\\Programs\\Python\\Python39\\lib\\site-packages\\openfl\\component\\aggregator\\aggregator.py#520\" target=\"_blank\"><span style=\"color: #7f7f7f; text-decoration-color: #7f7f7f\">520</span></a>\n",
       "</pre>\n"
      ],
      "text/plain": [
       "\u001b[2;36m          \u001b[0m\u001b[2;36m \u001b[0m\u001b[34mINFO    \u001b[0m Collaborator two is sending task results for locally_tuned_model_validation, round \u001b[1;36m3\u001b[0m                                       \u001b]8;id=398150;file://C:\\Users\\BHSU\\AppData\\Local\\Programs\\Python\\Python39\\lib\\site-packages\\openfl\\component\\aggregator\\aggregator.py\u001b\\\u001b[2maggregator.py\u001b[0m\u001b]8;;\u001b\\\u001b[2m:\u001b[0m\u001b]8;id=820126;file://C:\\Users\\BHSU\\AppData\\Local\\Programs\\Python\\Python39\\lib\\site-packages\\openfl\\component\\aggregator\\aggregator.py#520\u001b\\\u001b[2m520\u001b[0m\u001b]8;;\u001b\\\n"
      ]
     },
     "metadata": {},
     "output_type": "display_data"
    },
    {
     "data": {
      "text/html": [
       "<pre style=\"white-space:pre;overflow-x:auto;line-height:normal;font-family:Menlo,'DejaVu Sans Mono',consolas,'Courier New',monospace\"><span style=\"color: #7fbfbf; text-decoration-color: #7fbfbf\">           </span>METRIC   Round <span style=\"color: #008080; text-decoration-color: #008080; font-weight: bold\">3</span>, collaborator validate_local locally_tuned_model_validation result accuracy:    <span style=\"color: #008080; text-decoration-color: #008080; font-weight: bold\">0.940556</span>                           <a href=\"file://C:\\Users\\BHSU\\AppData\\Local\\Programs\\Python\\Python39\\lib\\site-packages\\openfl\\component\\aggregator\\aggregator.py\" target=\"_blank\"><span style=\"color: #7f7f7f; text-decoration-color: #7f7f7f\">aggregator.py</span></a><span style=\"color: #7f7f7f; text-decoration-color: #7f7f7f\">:</span><a href=\"file://C:\\Users\\BHSU\\AppData\\Local\\Programs\\Python\\Python39\\lib\\site-packages\\openfl\\component\\aggregator\\aggregator.py#559\" target=\"_blank\"><span style=\"color: #7f7f7f; text-decoration-color: #7f7f7f\">559</span></a>\n",
       "</pre>\n"
      ],
      "text/plain": [
       "\u001b[2;36m          \u001b[0m\u001b[2;36m \u001b[0mMETRIC   Round \u001b[1;36m3\u001b[0m, collaborator validate_local locally_tuned_model_validation result accuracy:    \u001b[1;36m0.940556\u001b[0m                           \u001b]8;id=946127;file://C:\\Users\\BHSU\\AppData\\Local\\Programs\\Python\\Python39\\lib\\site-packages\\openfl\\component\\aggregator\\aggregator.py\u001b\\\u001b[2maggregator.py\u001b[0m\u001b]8;;\u001b\\\u001b[2m:\u001b[0m\u001b]8;id=825095;file://C:\\Users\\BHSU\\AppData\\Local\\Programs\\Python\\Python39\\lib\\site-packages\\openfl\\component\\aggregator\\aggregator.py#559\u001b\\\u001b[2m559\u001b[0m\u001b]8;;\u001b\\\n"
      ]
     },
     "metadata": {},
     "output_type": "display_data"
    },
    {
     "data": {
      "text/html": [
       "<pre style=\"white-space:pre;overflow-x:auto;line-height:normal;font-family:Menlo,'DejaVu Sans Mono',consolas,'Courier New',monospace\"><span style=\"color: #7fbfbf; text-decoration-color: #7fbfbf\">           </span>METRIC   Round <span style=\"color: #008080; text-decoration-color: #008080; font-weight: bold\">3</span>, aggregator: locally_tuned_model_validation                                                                        <a href=\"file://C:\\Users\\BHSU\\AppData\\Local\\Programs\\Python\\Python39\\lib\\site-packages\\openfl\\component\\aggregator\\aggregator.py\" target=\"_blank\"><span style=\"color: #7f7f7f; text-decoration-color: #7f7f7f\">aggregator.py</span></a><span style=\"color: #7f7f7f; text-decoration-color: #7f7f7f\">:</span><a href=\"file://C:\\Users\\BHSU\\AppData\\Local\\Programs\\Python\\Python39\\lib\\site-packages\\openfl\\component\\aggregator\\aggregator.py#842\" target=\"_blank\"><span style=\"color: #7f7f7f; text-decoration-color: #7f7f7f\">842</span></a>\n",
       "<span style=\"color: #7fbfbf; text-decoration-color: #7fbfbf\">           </span>         <span style=\"font-weight: bold\">&lt;</span><span style=\"color: #ff00ff; text-decoration-color: #ff00ff; font-weight: bold\">openfl.interface.aggregation_functions.weighted_average.WeightedAverage</span><span style=\"color: #000000; text-decoration-color: #000000\"> object at </span><span style=\"color: #008080; text-decoration-color: #008080; font-weight: bold\">0x00000137CCF13D90</span><span style=\"font-weight: bold\">&gt;</span> accuracy:           <span style=\"color: #7f7f7f; text-decoration-color: #7f7f7f\">                 </span>\n",
       "<span style=\"color: #7fbfbf; text-decoration-color: #7fbfbf\">           </span>         <span style=\"color: #008080; text-decoration-color: #008080; font-weight: bold\">0.940444</span>                                                                                                                   <span style=\"color: #7f7f7f; text-decoration-color: #7f7f7f\">                 </span>\n",
       "</pre>\n"
      ],
      "text/plain": [
       "\u001b[2;36m          \u001b[0m\u001b[2;36m \u001b[0mMETRIC   Round \u001b[1;36m3\u001b[0m, aggregator: locally_tuned_model_validation                                                                        \u001b]8;id=200058;file://C:\\Users\\BHSU\\AppData\\Local\\Programs\\Python\\Python39\\lib\\site-packages\\openfl\\component\\aggregator\\aggregator.py\u001b\\\u001b[2maggregator.py\u001b[0m\u001b]8;;\u001b\\\u001b[2m:\u001b[0m\u001b]8;id=914610;file://C:\\Users\\BHSU\\AppData\\Local\\Programs\\Python\\Python39\\lib\\site-packages\\openfl\\component\\aggregator\\aggregator.py#842\u001b\\\u001b[2m842\u001b[0m\u001b]8;;\u001b\\\n",
       "\u001b[2;36m           \u001b[0m         \u001b[1m<\u001b[0m\u001b[1;95mopenfl.interface.aggregation_functions.weighted_average.WeightedAverage\u001b[0m\u001b[39m object at \u001b[0m\u001b[1;36m0x00000137CCF13D90\u001b[0m\u001b[1m>\u001b[0m accuracy:           \u001b[2m                 \u001b[0m\n",
       "\u001b[2;36m           \u001b[0m         \u001b[1;36m0.940444\u001b[0m                                                                                                                   \u001b[2m                 \u001b[0m\n"
      ]
     },
     "metadata": {},
     "output_type": "display_data"
    },
    {
     "data": {
      "text/html": [
       "<pre style=\"white-space:pre;overflow-x:auto;line-height:normal;font-family:Menlo,'DejaVu Sans Mono',consolas,'Courier New',monospace\"><span style=\"color: #7fbfbf; text-decoration-color: #7fbfbf\">           </span>METRIC   Round <span style=\"color: #008080; text-decoration-color: #008080; font-weight: bold\">3</span>, aggregator: train <span style=\"font-weight: bold\">&lt;</span><span style=\"color: #ff00ff; text-decoration-color: #ff00ff; font-weight: bold\">openfl.interface.aggregation_functions.weighted_average.WeightedAverage</span><span style=\"color: #000000; text-decoration-color: #000000\"> object at </span>             <a href=\"file://C:\\Users\\BHSU\\AppData\\Local\\Programs\\Python\\Python39\\lib\\site-packages\\openfl\\component\\aggregator\\aggregator.py\" target=\"_blank\"><span style=\"color: #7f7f7f; text-decoration-color: #7f7f7f\">aggregator.py</span></a><span style=\"color: #7f7f7f; text-decoration-color: #7f7f7f\">:</span><a href=\"file://C:\\Users\\BHSU\\AppData\\Local\\Programs\\Python\\Python39\\lib\\site-packages\\openfl\\component\\aggregator\\aggregator.py#842\" target=\"_blank\"><span style=\"color: #7f7f7f; text-decoration-color: #7f7f7f\">842</span></a>\n",
       "<span style=\"color: #7fbfbf; text-decoration-color: #7fbfbf\">           </span>         <span style=\"color: #008080; text-decoration-color: #008080; font-weight: bold\">0x00000137CCF13D90</span><span style=\"font-weight: bold\">&gt;</span> loss: <span style=\"color: #008080; text-decoration-color: #008080; font-weight: bold\">0.187799</span>                                                                                         <span style=\"color: #7f7f7f; text-decoration-color: #7f7f7f\">                 </span>\n",
       "</pre>\n"
      ],
      "text/plain": [
       "\u001b[2;36m          \u001b[0m\u001b[2;36m \u001b[0mMETRIC   Round \u001b[1;36m3\u001b[0m, aggregator: train \u001b[1m<\u001b[0m\u001b[1;95mopenfl.interface.aggregation_functions.weighted_average.WeightedAverage\u001b[0m\u001b[39m object at \u001b[0m             \u001b]8;id=953468;file://C:\\Users\\BHSU\\AppData\\Local\\Programs\\Python\\Python39\\lib\\site-packages\\openfl\\component\\aggregator\\aggregator.py\u001b\\\u001b[2maggregator.py\u001b[0m\u001b]8;;\u001b\\\u001b[2m:\u001b[0m\u001b]8;id=714187;file://C:\\Users\\BHSU\\AppData\\Local\\Programs\\Python\\Python39\\lib\\site-packages\\openfl\\component\\aggregator\\aggregator.py#842\u001b\\\u001b[2m842\u001b[0m\u001b]8;;\u001b\\\n",
       "\u001b[2;36m           \u001b[0m         \u001b[1;36m0x00000137CCF13D90\u001b[0m\u001b[1m>\u001b[0m loss: \u001b[1;36m0.187799\u001b[0m                                                                                         \u001b[2m                 \u001b[0m\n"
      ]
     },
     "metadata": {},
     "output_type": "display_data"
    },
    {
     "data": {
      "text/html": [
       "<pre style=\"white-space:pre;overflow-x:auto;line-height:normal;font-family:Menlo,'DejaVu Sans Mono',consolas,'Courier New',monospace\"><span style=\"color: #7fbfbf; text-decoration-color: #7fbfbf\">           </span>METRIC   Round <span style=\"color: #008080; text-decoration-color: #008080; font-weight: bold\">3</span>, aggregator: aggregated_model_validation <span style=\"font-weight: bold\">&lt;</span><span style=\"color: #ff00ff; text-decoration-color: #ff00ff; font-weight: bold\">openfl.interface.aggregation_functions.weighted_average.WeightedAverage</span><span style=\"color: #000000; text-decoration-color: #000000\"> </span> <a href=\"file://C:\\Users\\BHSU\\AppData\\Local\\Programs\\Python\\Python39\\lib\\site-packages\\openfl\\component\\aggregator\\aggregator.py\" target=\"_blank\"><span style=\"color: #7f7f7f; text-decoration-color: #7f7f7f\">aggregator.py</span></a><span style=\"color: #7f7f7f; text-decoration-color: #7f7f7f\">:</span><a href=\"file://C:\\Users\\BHSU\\AppData\\Local\\Programs\\Python\\Python39\\lib\\site-packages\\openfl\\component\\aggregator\\aggregator.py#842\" target=\"_blank\"><span style=\"color: #7f7f7f; text-decoration-color: #7f7f7f\">842</span></a>\n",
       "<span style=\"color: #7fbfbf; text-decoration-color: #7fbfbf\">           </span>         <span style=\"color: #000000; text-decoration-color: #000000\">object at </span><span style=\"color: #008080; text-decoration-color: #008080; font-weight: bold\">0x00000137CCF13D90</span><span style=\"font-weight: bold\">&gt;</span> accuracy:       <span style=\"color: #008080; text-decoration-color: #008080; font-weight: bold\">0.942167</span>                                                                     <span style=\"color: #7f7f7f; text-decoration-color: #7f7f7f\">                 </span>\n",
       "</pre>\n"
      ],
      "text/plain": [
       "\u001b[2;36m          \u001b[0m\u001b[2;36m \u001b[0mMETRIC   Round \u001b[1;36m3\u001b[0m, aggregator: aggregated_model_validation \u001b[1m<\u001b[0m\u001b[1;95mopenfl.interface.aggregation_functions.weighted_average.WeightedAverage\u001b[0m\u001b[39m \u001b[0m \u001b]8;id=901380;file://C:\\Users\\BHSU\\AppData\\Local\\Programs\\Python\\Python39\\lib\\site-packages\\openfl\\component\\aggregator\\aggregator.py\u001b\\\u001b[2maggregator.py\u001b[0m\u001b]8;;\u001b\\\u001b[2m:\u001b[0m\u001b]8;id=904775;file://C:\\Users\\BHSU\\AppData\\Local\\Programs\\Python\\Python39\\lib\\site-packages\\openfl\\component\\aggregator\\aggregator.py#842\u001b\\\u001b[2m842\u001b[0m\u001b]8;;\u001b\\\n",
       "\u001b[2;36m           \u001b[0m         \u001b[39mobject at \u001b[0m\u001b[1;36m0x00000137CCF13D90\u001b[0m\u001b[1m>\u001b[0m accuracy:       \u001b[1;36m0.942167\u001b[0m                                                                     \u001b[2m                 \u001b[0m\n"
      ]
     },
     "metadata": {},
     "output_type": "display_data"
    },
    {
     "data": {
      "text/html": [
       "<pre style=\"white-space:pre;overflow-x:auto;line-height:normal;font-family:Menlo,'DejaVu Sans Mono',consolas,'Courier New',monospace\"><span style=\"color: #7fbfbf; text-decoration-color: #7fbfbf\">           </span>METRIC   Round <span style=\"color: #008080; text-decoration-color: #008080; font-weight: bold\">3</span>: saved the best model with score <span style=\"color: #008080; text-decoration-color: #008080; font-weight: bold\">0.942167</span>                                                                          <a href=\"file://C:\\Users\\BHSU\\AppData\\Local\\Programs\\Python\\Python39\\lib\\site-packages\\openfl\\component\\aggregator\\aggregator.py\" target=\"_blank\"><span style=\"color: #7f7f7f; text-decoration-color: #7f7f7f\">aggregator.py</span></a><span style=\"color: #7f7f7f; text-decoration-color: #7f7f7f\">:</span><a href=\"file://C:\\Users\\BHSU\\AppData\\Local\\Programs\\Python\\Python39\\lib\\site-packages\\openfl\\component\\aggregator\\aggregator.py#858\" target=\"_blank\"><span style=\"color: #7f7f7f; text-decoration-color: #7f7f7f\">858</span></a>\n",
       "</pre>\n"
      ],
      "text/plain": [
       "\u001b[2;36m          \u001b[0m\u001b[2;36m \u001b[0mMETRIC   Round \u001b[1;36m3\u001b[0m: saved the best model with score \u001b[1;36m0.942167\u001b[0m                                                                          \u001b]8;id=493795;file://C:\\Users\\BHSU\\AppData\\Local\\Programs\\Python\\Python39\\lib\\site-packages\\openfl\\component\\aggregator\\aggregator.py\u001b\\\u001b[2maggregator.py\u001b[0m\u001b]8;;\u001b\\\u001b[2m:\u001b[0m\u001b]8;id=179897;file://C:\\Users\\BHSU\\AppData\\Local\\Programs\\Python\\Python39\\lib\\site-packages\\openfl\\component\\aggregator\\aggregator.py#858\u001b\\\u001b[2m858\u001b[0m\u001b]8;;\u001b\\\n"
      ]
     },
     "metadata": {},
     "output_type": "display_data"
    },
    {
     "data": {
      "text/html": [
       "<pre style=\"white-space:pre;overflow-x:auto;line-height:normal;font-family:Menlo,'DejaVu Sans Mono',consolas,'Courier New',monospace\"><span style=\"color: #7fbfbf; text-decoration-color: #7fbfbf\">           </span><span style=\"color: #000080; text-decoration-color: #000080\">INFO    </span> Saving round <span style=\"color: #008080; text-decoration-color: #008080; font-weight: bold\">4</span> model<span style=\"color: #808000; text-decoration-color: #808000\">...</span>                                                                                                    <a href=\"file://C:\\Users\\BHSU\\AppData\\Local\\Programs\\Python\\Python39\\lib\\site-packages\\openfl\\component\\aggregator\\aggregator.py\" target=\"_blank\"><span style=\"color: #7f7f7f; text-decoration-color: #7f7f7f\">aggregator.py</span></a><span style=\"color: #7f7f7f; text-decoration-color: #7f7f7f\">:</span><a href=\"file://C:\\Users\\BHSU\\AppData\\Local\\Programs\\Python\\Python39\\lib\\site-packages\\openfl\\component\\aggregator\\aggregator.py#894\" target=\"_blank\"><span style=\"color: #7f7f7f; text-decoration-color: #7f7f7f\">894</span></a>\n",
       "</pre>\n"
      ],
      "text/plain": [
       "\u001b[2;36m          \u001b[0m\u001b[2;36m \u001b[0m\u001b[34mINFO    \u001b[0m Saving round \u001b[1;36m4\u001b[0m model\u001b[33m...\u001b[0m                                                                                                    \u001b]8;id=212085;file://C:\\Users\\BHSU\\AppData\\Local\\Programs\\Python\\Python39\\lib\\site-packages\\openfl\\component\\aggregator\\aggregator.py\u001b\\\u001b[2maggregator.py\u001b[0m\u001b]8;;\u001b\\\u001b[2m:\u001b[0m\u001b]8;id=248726;file://C:\\Users\\BHSU\\AppData\\Local\\Programs\\Python\\Python39\\lib\\site-packages\\openfl\\component\\aggregator\\aggregator.py#894\u001b\\\u001b[2m894\u001b[0m\u001b]8;;\u001b\\\n"
      ]
     },
     "metadata": {},
     "output_type": "display_data"
    },
    {
     "data": {
      "text/html": [
       "<pre style=\"white-space:pre;overflow-x:auto;line-height:normal;font-family:Menlo,'DejaVu Sans Mono',consolas,'Courier New',monospace\"><span style=\"color: #7fbfbf; text-decoration-color: #7fbfbf\">           </span><span style=\"color: #000080; text-decoration-color: #000080\">INFO    </span> Starting round <span style=\"color: #008080; text-decoration-color: #008080; font-weight: bold\">4</span><span style=\"color: #808000; text-decoration-color: #808000\">...</span>                                                                                                        <a href=\"file://C:\\Users\\BHSU\\AppData\\Local\\Programs\\Python\\Python39\\lib\\site-packages\\openfl\\component\\aggregator\\aggregator.py\" target=\"_blank\"><span style=\"color: #7f7f7f; text-decoration-color: #7f7f7f\">aggregator.py</span></a><span style=\"color: #7f7f7f; text-decoration-color: #7f7f7f\">:</span><a href=\"file://C:\\Users\\BHSU\\AppData\\Local\\Programs\\Python\\Python39\\lib\\site-packages\\openfl\\component\\aggregator\\aggregator.py#901\" target=\"_blank\"><span style=\"color: #7f7f7f; text-decoration-color: #7f7f7f\">901</span></a>\n",
       "</pre>\n"
      ],
      "text/plain": [
       "\u001b[2;36m          \u001b[0m\u001b[2;36m \u001b[0m\u001b[34mINFO    \u001b[0m Starting round \u001b[1;36m4\u001b[0m\u001b[33m...\u001b[0m                                                                                                        \u001b]8;id=804440;file://C:\\Users\\BHSU\\AppData\\Local\\Programs\\Python\\Python39\\lib\\site-packages\\openfl\\component\\aggregator\\aggregator.py\u001b\\\u001b[2maggregator.py\u001b[0m\u001b]8;;\u001b\\\u001b[2m:\u001b[0m\u001b]8;id=75310;file://C:\\Users\\BHSU\\AppData\\Local\\Programs\\Python\\Python39\\lib\\site-packages\\openfl\\component\\aggregator\\aggregator.py#901\u001b\\\u001b[2m901\u001b[0m\u001b]8;;\u001b\\\n"
      ]
     },
     "metadata": {},
     "output_type": "display_data"
    },
    {
     "data": {
      "text/html": [
       "<pre style=\"white-space:pre;overflow-x:auto;line-height:normal;font-family:Menlo,'DejaVu Sans Mono',consolas,'Courier New',monospace\"><span style=\"color: #7fbfbf; text-decoration-color: #7fbfbf\">           </span><span style=\"color: #000080; text-decoration-color: #000080\">INFO    </span> All tasks completed on two for round <span style=\"color: #008080; text-decoration-color: #008080; font-weight: bold\">3</span><span style=\"color: #808000; text-decoration-color: #808000\">...</span>                                                                                <a href=\"file://C:\\Users\\BHSU\\AppData\\Local\\Programs\\Python\\Python39\\lib\\site-packages\\openfl\\component\\collaborator\\collaborator.py\" target=\"_blank\"><span style=\"color: #7f7f7f; text-decoration-color: #7f7f7f\">collaborator.py</span></a><span style=\"color: #7f7f7f; text-decoration-color: #7f7f7f\">:</span><a href=\"file://C:\\Users\\BHSU\\AppData\\Local\\Programs\\Python\\Python39\\lib\\site-packages\\openfl\\component\\collaborator\\collaborator.py#171\" target=\"_blank\"><span style=\"color: #7f7f7f; text-decoration-color: #7f7f7f\">171</span></a>\n",
       "</pre>\n"
      ],
      "text/plain": [
       "\u001b[2;36m          \u001b[0m\u001b[2;36m \u001b[0m\u001b[34mINFO    \u001b[0m All tasks completed on two for round \u001b[1;36m3\u001b[0m\u001b[33m...\u001b[0m                                                                                \u001b]8;id=336545;file://C:\\Users\\BHSU\\AppData\\Local\\Programs\\Python\\Python39\\lib\\site-packages\\openfl\\component\\collaborator\\collaborator.py\u001b\\\u001b[2mcollaborator.py\u001b[0m\u001b]8;;\u001b\\\u001b[2m:\u001b[0m\u001b]8;id=371244;file://C:\\Users\\BHSU\\AppData\\Local\\Programs\\Python\\Python39\\lib\\site-packages\\openfl\\component\\collaborator\\collaborator.py#171\u001b\\\u001b[2m171\u001b[0m\u001b]8;;\u001b\\\n"
      ]
     },
     "metadata": {},
     "output_type": "display_data"
    },
    {
     "data": {
      "text/html": [
       "<pre style=\"white-space:pre;overflow-x:auto;line-height:normal;font-family:Menlo,'DejaVu Sans Mono',consolas,'Courier New',monospace\"><span style=\"color: #7fbfbf; text-decoration-color: #7fbfbf\">           </span><span style=\"color: #000080; text-decoration-color: #000080\">INFO    </span> Waiting for tasks<span style=\"color: #808000; text-decoration-color: #808000\">...</span>                                                                                                     <a href=\"file://C:\\Users\\BHSU\\AppData\\Local\\Programs\\Python\\Python39\\lib\\site-packages\\openfl\\component\\collaborator\\collaborator.py\" target=\"_blank\"><span style=\"color: #7f7f7f; text-decoration-color: #7f7f7f\">collaborator.py</span></a><span style=\"color: #7f7f7f; text-decoration-color: #7f7f7f\">:</span><a href=\"file://C:\\Users\\BHSU\\AppData\\Local\\Programs\\Python\\Python39\\lib\\site-packages\\openfl\\component\\collaborator\\collaborator.py#178\" target=\"_blank\"><span style=\"color: #7f7f7f; text-decoration-color: #7f7f7f\">178</span></a>\n",
       "</pre>\n"
      ],
      "text/plain": [
       "\u001b[2;36m          \u001b[0m\u001b[2;36m \u001b[0m\u001b[34mINFO    \u001b[0m Waiting for tasks\u001b[33m...\u001b[0m                                                                                                     \u001b]8;id=309477;file://C:\\Users\\BHSU\\AppData\\Local\\Programs\\Python\\Python39\\lib\\site-packages\\openfl\\component\\collaborator\\collaborator.py\u001b\\\u001b[2mcollaborator.py\u001b[0m\u001b]8;;\u001b\\\u001b[2m:\u001b[0m\u001b]8;id=24553;file://C:\\Users\\BHSU\\AppData\\Local\\Programs\\Python\\Python39\\lib\\site-packages\\openfl\\component\\collaborator\\collaborator.py#178\u001b\\\u001b[2m178\u001b[0m\u001b]8;;\u001b\\\n"
      ]
     },
     "metadata": {},
     "output_type": "display_data"
    },
    {
     "data": {
      "text/html": [
       "<pre style=\"white-space:pre;overflow-x:auto;line-height:normal;font-family:Menlo,'DejaVu Sans Mono',consolas,'Courier New',monospace\"><span style=\"color: #7fbfbf; text-decoration-color: #7fbfbf\">           </span><span style=\"color: #000080; text-decoration-color: #000080\">INFO    </span> Sending tasks to collaborator one for round <span style=\"color: #008080; text-decoration-color: #008080; font-weight: bold\">4</span>                                                                              <a href=\"file://C:\\Users\\BHSU\\AppData\\Local\\Programs\\Python\\Python39\\lib\\site-packages\\openfl\\component\\aggregator\\aggregator.py\" target=\"_blank\"><span style=\"color: #7f7f7f; text-decoration-color: #7f7f7f\">aggregator.py</span></a><span style=\"color: #7f7f7f; text-decoration-color: #7f7f7f\">:</span><a href=\"file://C:\\Users\\BHSU\\AppData\\Local\\Programs\\Python\\Python39\\lib\\site-packages\\openfl\\component\\aggregator\\aggregator.py#329\" target=\"_blank\"><span style=\"color: #7f7f7f; text-decoration-color: #7f7f7f\">329</span></a>\n",
       "</pre>\n"
      ],
      "text/plain": [
       "\u001b[2;36m          \u001b[0m\u001b[2;36m \u001b[0m\u001b[34mINFO    \u001b[0m Sending tasks to collaborator one for round \u001b[1;36m4\u001b[0m                                                                              \u001b]8;id=363069;file://C:\\Users\\BHSU\\AppData\\Local\\Programs\\Python\\Python39\\lib\\site-packages\\openfl\\component\\aggregator\\aggregator.py\u001b\\\u001b[2maggregator.py\u001b[0m\u001b]8;;\u001b\\\u001b[2m:\u001b[0m\u001b]8;id=13278;file://C:\\Users\\BHSU\\AppData\\Local\\Programs\\Python\\Python39\\lib\\site-packages\\openfl\\component\\aggregator\\aggregator.py#329\u001b\\\u001b[2m329\u001b[0m\u001b]8;;\u001b\\\n"
      ]
     },
     "metadata": {},
     "output_type": "display_data"
    },
    {
     "data": {
      "text/html": [
       "<pre style=\"white-space:pre;overflow-x:auto;line-height:normal;font-family:Menlo,'DejaVu Sans Mono',consolas,'Courier New',monospace\"><span style=\"color: #7fbfbf; text-decoration-color: #7fbfbf\">           </span><span style=\"color: #000080; text-decoration-color: #000080\">INFO    </span> Received the following tasks: <span style=\"font-weight: bold\">[</span><span style=\"color: #008000; text-decoration-color: #008000\">'aggregated_model_validation'</span>, <span style=\"color: #008000; text-decoration-color: #008000\">'train'</span>, <span style=\"color: #008000; text-decoration-color: #008000\">'locally_tuned_model_validation'</span><span style=\"font-weight: bold\">]</span>                 <a href=\"file://C:\\Users\\BHSU\\AppData\\Local\\Programs\\Python\\Python39\\lib\\site-packages\\openfl\\component\\collaborator\\collaborator.py\" target=\"_blank\"><span style=\"color: #7f7f7f; text-decoration-color: #7f7f7f\">collaborator.py</span></a><span style=\"color: #7f7f7f; text-decoration-color: #7f7f7f\">:</span><a href=\"file://C:\\Users\\BHSU\\AppData\\Local\\Programs\\Python\\Python39\\lib\\site-packages\\openfl\\component\\collaborator\\collaborator.py#168\" target=\"_blank\"><span style=\"color: #7f7f7f; text-decoration-color: #7f7f7f\">168</span></a>\n",
       "</pre>\n"
      ],
      "text/plain": [
       "\u001b[2;36m          \u001b[0m\u001b[2;36m \u001b[0m\u001b[34mINFO    \u001b[0m Received the following tasks: \u001b[1m[\u001b[0m\u001b[32m'aggregated_model_validation'\u001b[0m, \u001b[32m'train'\u001b[0m, \u001b[32m'locally_tuned_model_validation'\u001b[0m\u001b[1m]\u001b[0m                 \u001b]8;id=867394;file://C:\\Users\\BHSU\\AppData\\Local\\Programs\\Python\\Python39\\lib\\site-packages\\openfl\\component\\collaborator\\collaborator.py\u001b\\\u001b[2mcollaborator.py\u001b[0m\u001b]8;;\u001b\\\u001b[2m:\u001b[0m\u001b]8;id=669675;file://C:\\Users\\BHSU\\AppData\\Local\\Programs\\Python\\Python39\\lib\\site-packages\\openfl\\component\\collaborator\\collaborator.py#168\u001b\\\u001b[2m168\u001b[0m\u001b]8;;\u001b\\\n"
      ]
     },
     "metadata": {},
     "output_type": "display_data"
    },
    {
     "data": {
      "text/html": [
       "<pre style=\"white-space:pre;overflow-x:auto;line-height:normal;font-family:Menlo,'DejaVu Sans Mono',consolas,'Courier New',monospace\"><span style=\"color: #7fbfbf; text-decoration-color: #7fbfbf\">           </span><span style=\"color: #000080; text-decoration-color: #000080\">INFO    </span> Using TaskRunner subclassing API                                                                                         <a href=\"file://C:\\Users\\BHSU\\AppData\\Local\\Programs\\Python\\Python39\\lib\\site-packages\\openfl\\component\\collaborator\\collaborator.py\" target=\"_blank\"><span style=\"color: #7f7f7f; text-decoration-color: #7f7f7f\">collaborator.py</span></a><span style=\"color: #7f7f7f; text-decoration-color: #7f7f7f\">:</span><a href=\"file://C:\\Users\\BHSU\\AppData\\Local\\Programs\\Python\\Python39\\lib\\site-packages\\openfl\\component\\collaborator\\collaborator.py#253\" target=\"_blank\"><span style=\"color: #7f7f7f; text-decoration-color: #7f7f7f\">253</span></a>\n",
       "</pre>\n"
      ],
      "text/plain": [
       "\u001b[2;36m          \u001b[0m\u001b[2;36m \u001b[0m\u001b[34mINFO    \u001b[0m Using TaskRunner subclassing API                                                                                         \u001b]8;id=910611;file://C:\\Users\\BHSU\\AppData\\Local\\Programs\\Python\\Python39\\lib\\site-packages\\openfl\\component\\collaborator\\collaborator.py\u001b\\\u001b[2mcollaborator.py\u001b[0m\u001b]8;;\u001b\\\u001b[2m:\u001b[0m\u001b]8;id=539600;file://C:\\Users\\BHSU\\AppData\\Local\\Programs\\Python\\Python39\\lib\\site-packages\\openfl\\component\\collaborator\\collaborator.py#253\u001b\\\u001b[2m253\u001b[0m\u001b]8;;\u001b\\\n"
      ]
     },
     "metadata": {},
     "output_type": "display_data"
    },
    {
     "name": "stdout",
     "output_type": "stream",
     "text": [
      "282/282 [==============================] - 0s 555us/step - loss: 0.1530 - accuracy: 0.9546\n"
     ]
    },
    {
     "data": {
      "text/html": [
       "<pre style=\"white-space:pre;overflow-x:auto;line-height:normal;font-family:Menlo,'DejaVu Sans Mono',consolas,'Courier New',monospace\"><span style=\"color: #7fbfbf; text-decoration-color: #7fbfbf\">[17:02:22] </span>METRIC   Round <span style=\"color: #008080; text-decoration-color: #008080; font-weight: bold\">4</span>, collaborator one is sending metric for task aggregated_model_validation: accuracy      <span style=\"color: #008080; text-decoration-color: #008080; font-weight: bold\">0.954556</span>                 <a href=\"file://C:\\Users\\BHSU\\AppData\\Local\\Programs\\Python\\Python39\\lib\\site-packages\\openfl\\component\\collaborator\\collaborator.py\" target=\"_blank\"><span style=\"color: #7f7f7f; text-decoration-color: #7f7f7f\">collaborator.py</span></a><span style=\"color: #7f7f7f; text-decoration-color: #7f7f7f\">:</span><a href=\"file://C:\\Users\\BHSU\\AppData\\Local\\Programs\\Python\\Python39\\lib\\site-packages\\openfl\\component\\collaborator\\collaborator.py#415\" target=\"_blank\"><span style=\"color: #7f7f7f; text-decoration-color: #7f7f7f\">415</span></a>\n",
       "</pre>\n"
      ],
      "text/plain": [
       "\u001b[2;36m[17:02:22]\u001b[0m\u001b[2;36m \u001b[0mMETRIC   Round \u001b[1;36m4\u001b[0m, collaborator one is sending metric for task aggregated_model_validation: accuracy      \u001b[1;36m0.954556\u001b[0m                 \u001b]8;id=826756;file://C:\\Users\\BHSU\\AppData\\Local\\Programs\\Python\\Python39\\lib\\site-packages\\openfl\\component\\collaborator\\collaborator.py\u001b\\\u001b[2mcollaborator.py\u001b[0m\u001b]8;;\u001b\\\u001b[2m:\u001b[0m\u001b]8;id=587308;file://C:\\Users\\BHSU\\AppData\\Local\\Programs\\Python\\Python39\\lib\\site-packages\\openfl\\component\\collaborator\\collaborator.py#415\u001b\\\u001b[2m415\u001b[0m\u001b]8;;\u001b\\\n"
      ]
     },
     "metadata": {},
     "output_type": "display_data"
    },
    {
     "data": {
      "text/html": [
       "<pre style=\"white-space:pre;overflow-x:auto;line-height:normal;font-family:Menlo,'DejaVu Sans Mono',consolas,'Courier New',monospace\"><span style=\"color: #7fbfbf; text-decoration-color: #7fbfbf\">           </span><span style=\"color: #000080; text-decoration-color: #000080\">INFO    </span> Collaborator one is sending task results for aggregated_model_validation, round <span style=\"color: #008080; text-decoration-color: #008080; font-weight: bold\">4</span>                                          <a href=\"file://C:\\Users\\BHSU\\AppData\\Local\\Programs\\Python\\Python39\\lib\\site-packages\\openfl\\component\\aggregator\\aggregator.py\" target=\"_blank\"><span style=\"color: #7f7f7f; text-decoration-color: #7f7f7f\">aggregator.py</span></a><span style=\"color: #7f7f7f; text-decoration-color: #7f7f7f\">:</span><a href=\"file://C:\\Users\\BHSU\\AppData\\Local\\Programs\\Python\\Python39\\lib\\site-packages\\openfl\\component\\aggregator\\aggregator.py#520\" target=\"_blank\"><span style=\"color: #7f7f7f; text-decoration-color: #7f7f7f\">520</span></a>\n",
       "</pre>\n"
      ],
      "text/plain": [
       "\u001b[2;36m          \u001b[0m\u001b[2;36m \u001b[0m\u001b[34mINFO    \u001b[0m Collaborator one is sending task results for aggregated_model_validation, round \u001b[1;36m4\u001b[0m                                          \u001b]8;id=868999;file://C:\\Users\\BHSU\\AppData\\Local\\Programs\\Python\\Python39\\lib\\site-packages\\openfl\\component\\aggregator\\aggregator.py\u001b\\\u001b[2maggregator.py\u001b[0m\u001b]8;;\u001b\\\u001b[2m:\u001b[0m\u001b]8;id=400092;file://C:\\Users\\BHSU\\AppData\\Local\\Programs\\Python\\Python39\\lib\\site-packages\\openfl\\component\\aggregator\\aggregator.py#520\u001b\\\u001b[2m520\u001b[0m\u001b]8;;\u001b\\\n"
      ]
     },
     "metadata": {},
     "output_type": "display_data"
    },
    {
     "data": {
      "text/html": [
       "<pre style=\"white-space:pre;overflow-x:auto;line-height:normal;font-family:Menlo,'DejaVu Sans Mono',consolas,'Courier New',monospace\"><span style=\"color: #7fbfbf; text-decoration-color: #7fbfbf\">           </span>METRIC   Round <span style=\"color: #008080; text-decoration-color: #008080; font-weight: bold\">4</span>, collaborator validate_agg aggregated_model_validation result accuracy: <span style=\"color: #008080; text-decoration-color: #008080; font-weight: bold\">0.954556</span>                                   <a href=\"file://C:\\Users\\BHSU\\AppData\\Local\\Programs\\Python\\Python39\\lib\\site-packages\\openfl\\component\\aggregator\\aggregator.py\" target=\"_blank\"><span style=\"color: #7f7f7f; text-decoration-color: #7f7f7f\">aggregator.py</span></a><span style=\"color: #7f7f7f; text-decoration-color: #7f7f7f\">:</span><a href=\"file://C:\\Users\\BHSU\\AppData\\Local\\Programs\\Python\\Python39\\lib\\site-packages\\openfl\\component\\aggregator\\aggregator.py#559\" target=\"_blank\"><span style=\"color: #7f7f7f; text-decoration-color: #7f7f7f\">559</span></a>\n",
       "</pre>\n"
      ],
      "text/plain": [
       "\u001b[2;36m          \u001b[0m\u001b[2;36m \u001b[0mMETRIC   Round \u001b[1;36m4\u001b[0m, collaborator validate_agg aggregated_model_validation result accuracy: \u001b[1;36m0.954556\u001b[0m                                   \u001b]8;id=853517;file://C:\\Users\\BHSU\\AppData\\Local\\Programs\\Python\\Python39\\lib\\site-packages\\openfl\\component\\aggregator\\aggregator.py\u001b\\\u001b[2maggregator.py\u001b[0m\u001b]8;;\u001b\\\u001b[2m:\u001b[0m\u001b]8;id=823295;file://C:\\Users\\BHSU\\AppData\\Local\\Programs\\Python\\Python39\\lib\\site-packages\\openfl\\component\\aggregator\\aggregator.py#559\u001b\\\u001b[2m559\u001b[0m\u001b]8;;\u001b\\\n"
      ]
     },
     "metadata": {},
     "output_type": "display_data"
    },
    {
     "data": {
      "text/html": [
       "<pre style=\"white-space:pre;overflow-x:auto;line-height:normal;font-family:Menlo,'DejaVu Sans Mono',consolas,'Courier New',monospace\"><span style=\"color: #7fbfbf; text-decoration-color: #7fbfbf\">           </span><span style=\"color: #000080; text-decoration-color: #000080\">INFO    </span> Using TaskRunner subclassing API                                                                                         <a href=\"file://C:\\Users\\BHSU\\AppData\\Local\\Programs\\Python\\Python39\\lib\\site-packages\\openfl\\component\\collaborator\\collaborator.py\" target=\"_blank\"><span style=\"color: #7f7f7f; text-decoration-color: #7f7f7f\">collaborator.py</span></a><span style=\"color: #7f7f7f; text-decoration-color: #7f7f7f\">:</span><a href=\"file://C:\\Users\\BHSU\\AppData\\Local\\Programs\\Python\\Python39\\lib\\site-packages\\openfl\\component\\collaborator\\collaborator.py#253\" target=\"_blank\"><span style=\"color: #7f7f7f; text-decoration-color: #7f7f7f\">253</span></a>\n",
       "</pre>\n"
      ],
      "text/plain": [
       "\u001b[2;36m          \u001b[0m\u001b[2;36m \u001b[0m\u001b[34mINFO    \u001b[0m Using TaskRunner subclassing API                                                                                         \u001b]8;id=804388;file://C:\\Users\\BHSU\\AppData\\Local\\Programs\\Python\\Python39\\lib\\site-packages\\openfl\\component\\collaborator\\collaborator.py\u001b\\\u001b[2mcollaborator.py\u001b[0m\u001b]8;;\u001b\\\u001b[2m:\u001b[0m\u001b]8;id=349282;file://C:\\Users\\BHSU\\AppData\\Local\\Programs\\Python\\Python39\\lib\\site-packages\\openfl\\component\\collaborator\\collaborator.py#253\u001b\\\u001b[2m253\u001b[0m\u001b]8;;\u001b\\\n"
      ]
     },
     "metadata": {},
     "output_type": "display_data"
    },
    {
     "data": {
      "text/html": [
       "<pre style=\"white-space:pre;overflow-x:auto;line-height:normal;font-family:Menlo,'DejaVu Sans Mono',consolas,'Courier New',monospace\"><span style=\"color: #7fbfbf; text-decoration-color: #7fbfbf\">           </span><span style=\"color: #000080; text-decoration-color: #000080\">INFO    </span> Run <span style=\"color: #008080; text-decoration-color: #008080; font-weight: bold\">0</span> epoch of <span style=\"color: #008080; text-decoration-color: #008080; font-weight: bold\">4</span> round                                                                                                    <a href=\"file://C:\\Users\\BHSU\\AppData\\Local\\Programs\\Python\\Python39\\lib\\site-packages\\openfl\\federated\\task\\runner_keras.py\" target=\"_blank\"><span style=\"color: #7f7f7f; text-decoration-color: #7f7f7f\">runner_keras.py</span></a><span style=\"color: #7f7f7f; text-decoration-color: #7f7f7f\">:</span><a href=\"file://C:\\Users\\BHSU\\AppData\\Local\\Programs\\Python\\Python39\\lib\\site-packages\\openfl\\federated\\task\\runner_keras.py#83\" target=\"_blank\"><span style=\"color: #7f7f7f; text-decoration-color: #7f7f7f\">83</span></a>\n",
       "</pre>\n"
      ],
      "text/plain": [
       "\u001b[2;36m          \u001b[0m\u001b[2;36m \u001b[0m\u001b[34mINFO    \u001b[0m Run \u001b[1;36m0\u001b[0m epoch of \u001b[1;36m4\u001b[0m round                                                                                                    \u001b]8;id=660372;file://C:\\Users\\BHSU\\AppData\\Local\\Programs\\Python\\Python39\\lib\\site-packages\\openfl\\federated\\task\\runner_keras.py\u001b\\\u001b[2mrunner_keras.py\u001b[0m\u001b]8;;\u001b\\\u001b[2m:\u001b[0m\u001b]8;id=70565;file://C:\\Users\\BHSU\\AppData\\Local\\Programs\\Python\\Python39\\lib\\site-packages\\openfl\\federated\\task\\runner_keras.py#83\u001b\\\u001b[2m83\u001b[0m\u001b]8;;\u001b\\\n"
      ]
     },
     "metadata": {},
     "output_type": "display_data"
    },
    {
     "name": "stdout",
     "output_type": "stream",
     "text": [
      "657/657 [==============================] - 0s 660us/step - loss: 0.1652 - accuracy: 0.9505\n"
     ]
    },
    {
     "data": {
      "text/html": [
       "<pre style=\"white-space:pre;overflow-x:auto;line-height:normal;font-family:Menlo,'DejaVu Sans Mono',consolas,'Courier New',monospace\"><span style=\"color: #7fbfbf; text-decoration-color: #7fbfbf\">           </span>METRIC   Round <span style=\"color: #008080; text-decoration-color: #008080; font-weight: bold\">4</span>, collaborator one is sending metric for task train: loss        <span style=\"color: #008080; text-decoration-color: #008080; font-weight: bold\">0.165235</span>                                         <a href=\"file://C:\\Users\\BHSU\\AppData\\Local\\Programs\\Python\\Python39\\lib\\site-packages\\openfl\\component\\collaborator\\collaborator.py\" target=\"_blank\"><span style=\"color: #7f7f7f; text-decoration-color: #7f7f7f\">collaborator.py</span></a><span style=\"color: #7f7f7f; text-decoration-color: #7f7f7f\">:</span><a href=\"file://C:\\Users\\BHSU\\AppData\\Local\\Programs\\Python\\Python39\\lib\\site-packages\\openfl\\component\\collaborator\\collaborator.py#415\" target=\"_blank\"><span style=\"color: #7f7f7f; text-decoration-color: #7f7f7f\">415</span></a>\n",
       "</pre>\n"
      ],
      "text/plain": [
       "\u001b[2;36m          \u001b[0m\u001b[2;36m \u001b[0mMETRIC   Round \u001b[1;36m4\u001b[0m, collaborator one is sending metric for task train: loss        \u001b[1;36m0.165235\u001b[0m                                         \u001b]8;id=316052;file://C:\\Users\\BHSU\\AppData\\Local\\Programs\\Python\\Python39\\lib\\site-packages\\openfl\\component\\collaborator\\collaborator.py\u001b\\\u001b[2mcollaborator.py\u001b[0m\u001b]8;;\u001b\\\u001b[2m:\u001b[0m\u001b]8;id=51282;file://C:\\Users\\BHSU\\AppData\\Local\\Programs\\Python\\Python39\\lib\\site-packages\\openfl\\component\\collaborator\\collaborator.py#415\u001b\\\u001b[2m415\u001b[0m\u001b]8;;\u001b\\\n"
      ]
     },
     "metadata": {},
     "output_type": "display_data"
    },
    {
     "data": {
      "text/html": [
       "<pre style=\"white-space:pre;overflow-x:auto;line-height:normal;font-family:Menlo,'DejaVu Sans Mono',consolas,'Courier New',monospace\"><span style=\"color: #7fbfbf; text-decoration-color: #7fbfbf\">           </span><span style=\"color: #000080; text-decoration-color: #000080\">INFO    </span> Collaborator one is sending task results for train, round <span style=\"color: #008080; text-decoration-color: #008080; font-weight: bold\">4</span>                                                                <a href=\"file://C:\\Users\\BHSU\\AppData\\Local\\Programs\\Python\\Python39\\lib\\site-packages\\openfl\\component\\aggregator\\aggregator.py\" target=\"_blank\"><span style=\"color: #7f7f7f; text-decoration-color: #7f7f7f\">aggregator.py</span></a><span style=\"color: #7f7f7f; text-decoration-color: #7f7f7f\">:</span><a href=\"file://C:\\Users\\BHSU\\AppData\\Local\\Programs\\Python\\Python39\\lib\\site-packages\\openfl\\component\\aggregator\\aggregator.py#520\" target=\"_blank\"><span style=\"color: #7f7f7f; text-decoration-color: #7f7f7f\">520</span></a>\n",
       "</pre>\n"
      ],
      "text/plain": [
       "\u001b[2;36m          \u001b[0m\u001b[2;36m \u001b[0m\u001b[34mINFO    \u001b[0m Collaborator one is sending task results for train, round \u001b[1;36m4\u001b[0m                                                                \u001b]8;id=291838;file://C:\\Users\\BHSU\\AppData\\Local\\Programs\\Python\\Python39\\lib\\site-packages\\openfl\\component\\aggregator\\aggregator.py\u001b\\\u001b[2maggregator.py\u001b[0m\u001b]8;;\u001b\\\u001b[2m:\u001b[0m\u001b]8;id=34418;file://C:\\Users\\BHSU\\AppData\\Local\\Programs\\Python\\Python39\\lib\\site-packages\\openfl\\component\\aggregator\\aggregator.py#520\u001b\\\u001b[2m520\u001b[0m\u001b]8;;\u001b\\\n"
      ]
     },
     "metadata": {},
     "output_type": "display_data"
    },
    {
     "data": {
      "text/html": [
       "<pre style=\"white-space:pre;overflow-x:auto;line-height:normal;font-family:Menlo,'DejaVu Sans Mono',consolas,'Courier New',monospace\"><span style=\"color: #7fbfbf; text-decoration-color: #7fbfbf\">           </span>METRIC   Round <span style=\"color: #008080; text-decoration-color: #008080; font-weight: bold\">4</span>, collaborator one train result loss:    <span style=\"color: #008080; text-decoration-color: #008080; font-weight: bold\">0.165235</span>                                                                   <a href=\"file://C:\\Users\\BHSU\\AppData\\Local\\Programs\\Python\\Python39\\lib\\site-packages\\openfl\\component\\aggregator\\aggregator.py\" target=\"_blank\"><span style=\"color: #7f7f7f; text-decoration-color: #7f7f7f\">aggregator.py</span></a><span style=\"color: #7f7f7f; text-decoration-color: #7f7f7f\">:</span><a href=\"file://C:\\Users\\BHSU\\AppData\\Local\\Programs\\Python\\Python39\\lib\\site-packages\\openfl\\component\\aggregator\\aggregator.py#559\" target=\"_blank\"><span style=\"color: #7f7f7f; text-decoration-color: #7f7f7f\">559</span></a>\n",
       "</pre>\n"
      ],
      "text/plain": [
       "\u001b[2;36m          \u001b[0m\u001b[2;36m \u001b[0mMETRIC   Round \u001b[1;36m4\u001b[0m, collaborator one train result loss:    \u001b[1;36m0.165235\u001b[0m                                                                   \u001b]8;id=854097;file://C:\\Users\\BHSU\\AppData\\Local\\Programs\\Python\\Python39\\lib\\site-packages\\openfl\\component\\aggregator\\aggregator.py\u001b\\\u001b[2maggregator.py\u001b[0m\u001b]8;;\u001b\\\u001b[2m:\u001b[0m\u001b]8;id=101528;file://C:\\Users\\BHSU\\AppData\\Local\\Programs\\Python\\Python39\\lib\\site-packages\\openfl\\component\\aggregator\\aggregator.py#559\u001b\\\u001b[2m559\u001b[0m\u001b]8;;\u001b\\\n"
      ]
     },
     "metadata": {},
     "output_type": "display_data"
    },
    {
     "data": {
      "text/html": [
       "<pre style=\"white-space:pre;overflow-x:auto;line-height:normal;font-family:Menlo,'DejaVu Sans Mono',consolas,'Courier New',monospace\"><span style=\"color: #7fbfbf; text-decoration-color: #7fbfbf\">           </span><span style=\"color: #000080; text-decoration-color: #000080\">INFO    </span> Using TaskRunner subclassing API                                                                                         <a href=\"file://C:\\Users\\BHSU\\AppData\\Local\\Programs\\Python\\Python39\\lib\\site-packages\\openfl\\component\\collaborator\\collaborator.py\" target=\"_blank\"><span style=\"color: #7f7f7f; text-decoration-color: #7f7f7f\">collaborator.py</span></a><span style=\"color: #7f7f7f; text-decoration-color: #7f7f7f\">:</span><a href=\"file://C:\\Users\\BHSU\\AppData\\Local\\Programs\\Python\\Python39\\lib\\site-packages\\openfl\\component\\collaborator\\collaborator.py#253\" target=\"_blank\"><span style=\"color: #7f7f7f; text-decoration-color: #7f7f7f\">253</span></a>\n",
       "</pre>\n"
      ],
      "text/plain": [
       "\u001b[2;36m          \u001b[0m\u001b[2;36m \u001b[0m\u001b[34mINFO    \u001b[0m Using TaskRunner subclassing API                                                                                         \u001b]8;id=902614;file://C:\\Users\\BHSU\\AppData\\Local\\Programs\\Python\\Python39\\lib\\site-packages\\openfl\\component\\collaborator\\collaborator.py\u001b\\\u001b[2mcollaborator.py\u001b[0m\u001b]8;;\u001b\\\u001b[2m:\u001b[0m\u001b]8;id=833647;file://C:\\Users\\BHSU\\AppData\\Local\\Programs\\Python\\Python39\\lib\\site-packages\\openfl\\component\\collaborator\\collaborator.py#253\u001b\\\u001b[2m253\u001b[0m\u001b]8;;\u001b\\\n"
      ]
     },
     "metadata": {},
     "output_type": "display_data"
    },
    {
     "name": "stdout",
     "output_type": "stream",
     "text": [
      "282/282 [==============================] - 0s 516us/step - loss: 0.1482 - accuracy: 0.9553\n"
     ]
    },
    {
     "data": {
      "text/html": [
       "<pre style=\"white-space:pre;overflow-x:auto;line-height:normal;font-family:Menlo,'DejaVu Sans Mono',consolas,'Courier New',monospace\"><span style=\"color: #7fbfbf; text-decoration-color: #7fbfbf\">           </span>METRIC   Round <span style=\"color: #008080; text-decoration-color: #008080; font-weight: bold\">4</span>, collaborator one is sending metric for task locally_tuned_model_validation: accuracy   <span style=\"color: #008080; text-decoration-color: #008080; font-weight: bold\">0.955333</span>                 <a href=\"file://C:\\Users\\BHSU\\AppData\\Local\\Programs\\Python\\Python39\\lib\\site-packages\\openfl\\component\\collaborator\\collaborator.py\" target=\"_blank\"><span style=\"color: #7f7f7f; text-decoration-color: #7f7f7f\">collaborator.py</span></a><span style=\"color: #7f7f7f; text-decoration-color: #7f7f7f\">:</span><a href=\"file://C:\\Users\\BHSU\\AppData\\Local\\Programs\\Python\\Python39\\lib\\site-packages\\openfl\\component\\collaborator\\collaborator.py#415\" target=\"_blank\"><span style=\"color: #7f7f7f; text-decoration-color: #7f7f7f\">415</span></a>\n",
       "</pre>\n"
      ],
      "text/plain": [
       "\u001b[2;36m          \u001b[0m\u001b[2;36m \u001b[0mMETRIC   Round \u001b[1;36m4\u001b[0m, collaborator one is sending metric for task locally_tuned_model_validation: accuracy   \u001b[1;36m0.955333\u001b[0m                 \u001b]8;id=678703;file://C:\\Users\\BHSU\\AppData\\Local\\Programs\\Python\\Python39\\lib\\site-packages\\openfl\\component\\collaborator\\collaborator.py\u001b\\\u001b[2mcollaborator.py\u001b[0m\u001b]8;;\u001b\\\u001b[2m:\u001b[0m\u001b]8;id=128148;file://C:\\Users\\BHSU\\AppData\\Local\\Programs\\Python\\Python39\\lib\\site-packages\\openfl\\component\\collaborator\\collaborator.py#415\u001b\\\u001b[2m415\u001b[0m\u001b]8;;\u001b\\\n"
      ]
     },
     "metadata": {},
     "output_type": "display_data"
    },
    {
     "data": {
      "text/html": [
       "<pre style=\"white-space:pre;overflow-x:auto;line-height:normal;font-family:Menlo,'DejaVu Sans Mono',consolas,'Courier New',monospace\"><span style=\"color: #7fbfbf; text-decoration-color: #7fbfbf\">           </span><span style=\"color: #000080; text-decoration-color: #000080\">INFO    </span> Collaborator one is sending task results for locally_tuned_model_validation, round <span style=\"color: #008080; text-decoration-color: #008080; font-weight: bold\">4</span>                                       <a href=\"file://C:\\Users\\BHSU\\AppData\\Local\\Programs\\Python\\Python39\\lib\\site-packages\\openfl\\component\\aggregator\\aggregator.py\" target=\"_blank\"><span style=\"color: #7f7f7f; text-decoration-color: #7f7f7f\">aggregator.py</span></a><span style=\"color: #7f7f7f; text-decoration-color: #7f7f7f\">:</span><a href=\"file://C:\\Users\\BHSU\\AppData\\Local\\Programs\\Python\\Python39\\lib\\site-packages\\openfl\\component\\aggregator\\aggregator.py#520\" target=\"_blank\"><span style=\"color: #7f7f7f; text-decoration-color: #7f7f7f\">520</span></a>\n",
       "</pre>\n"
      ],
      "text/plain": [
       "\u001b[2;36m          \u001b[0m\u001b[2;36m \u001b[0m\u001b[34mINFO    \u001b[0m Collaborator one is sending task results for locally_tuned_model_validation, round \u001b[1;36m4\u001b[0m                                       \u001b]8;id=255997;file://C:\\Users\\BHSU\\AppData\\Local\\Programs\\Python\\Python39\\lib\\site-packages\\openfl\\component\\aggregator\\aggregator.py\u001b\\\u001b[2maggregator.py\u001b[0m\u001b]8;;\u001b\\\u001b[2m:\u001b[0m\u001b]8;id=700263;file://C:\\Users\\BHSU\\AppData\\Local\\Programs\\Python\\Python39\\lib\\site-packages\\openfl\\component\\aggregator\\aggregator.py#520\u001b\\\u001b[2m520\u001b[0m\u001b]8;;\u001b\\\n"
      ]
     },
     "metadata": {},
     "output_type": "display_data"
    },
    {
     "data": {
      "text/html": [
       "<pre style=\"white-space:pre;overflow-x:auto;line-height:normal;font-family:Menlo,'DejaVu Sans Mono',consolas,'Courier New',monospace\"><span style=\"color: #7fbfbf; text-decoration-color: #7fbfbf\">           </span>METRIC   Round <span style=\"color: #008080; text-decoration-color: #008080; font-weight: bold\">4</span>, collaborator validate_local locally_tuned_model_validation result accuracy:    <span style=\"color: #008080; text-decoration-color: #008080; font-weight: bold\">0.955333</span>                           <a href=\"file://C:\\Users\\BHSU\\AppData\\Local\\Programs\\Python\\Python39\\lib\\site-packages\\openfl\\component\\aggregator\\aggregator.py\" target=\"_blank\"><span style=\"color: #7f7f7f; text-decoration-color: #7f7f7f\">aggregator.py</span></a><span style=\"color: #7f7f7f; text-decoration-color: #7f7f7f\">:</span><a href=\"file://C:\\Users\\BHSU\\AppData\\Local\\Programs\\Python\\Python39\\lib\\site-packages\\openfl\\component\\aggregator\\aggregator.py#559\" target=\"_blank\"><span style=\"color: #7f7f7f; text-decoration-color: #7f7f7f\">559</span></a>\n",
       "</pre>\n"
      ],
      "text/plain": [
       "\u001b[2;36m          \u001b[0m\u001b[2;36m \u001b[0mMETRIC   Round \u001b[1;36m4\u001b[0m, collaborator validate_local locally_tuned_model_validation result accuracy:    \u001b[1;36m0.955333\u001b[0m                           \u001b]8;id=753142;file://C:\\Users\\BHSU\\AppData\\Local\\Programs\\Python\\Python39\\lib\\site-packages\\openfl\\component\\aggregator\\aggregator.py\u001b\\\u001b[2maggregator.py\u001b[0m\u001b]8;;\u001b\\\u001b[2m:\u001b[0m\u001b]8;id=461283;file://C:\\Users\\BHSU\\AppData\\Local\\Programs\\Python\\Python39\\lib\\site-packages\\openfl\\component\\aggregator\\aggregator.py#559\u001b\\\u001b[2m559\u001b[0m\u001b]8;;\u001b\\\n"
      ]
     },
     "metadata": {},
     "output_type": "display_data"
    },
    {
     "data": {
      "text/html": [
       "<pre style=\"white-space:pre;overflow-x:auto;line-height:normal;font-family:Menlo,'DejaVu Sans Mono',consolas,'Courier New',monospace\"><span style=\"color: #7fbfbf; text-decoration-color: #7fbfbf\">           </span><span style=\"color: #000080; text-decoration-color: #000080\">INFO    </span> All tasks completed on one for round <span style=\"color: #008080; text-decoration-color: #008080; font-weight: bold\">4</span><span style=\"color: #808000; text-decoration-color: #808000\">...</span>                                                                                <a href=\"file://C:\\Users\\BHSU\\AppData\\Local\\Programs\\Python\\Python39\\lib\\site-packages\\openfl\\component\\collaborator\\collaborator.py\" target=\"_blank\"><span style=\"color: #7f7f7f; text-decoration-color: #7f7f7f\">collaborator.py</span></a><span style=\"color: #7f7f7f; text-decoration-color: #7f7f7f\">:</span><a href=\"file://C:\\Users\\BHSU\\AppData\\Local\\Programs\\Python\\Python39\\lib\\site-packages\\openfl\\component\\collaborator\\collaborator.py#171\" target=\"_blank\"><span style=\"color: #7f7f7f; text-decoration-color: #7f7f7f\">171</span></a>\n",
       "</pre>\n"
      ],
      "text/plain": [
       "\u001b[2;36m          \u001b[0m\u001b[2;36m \u001b[0m\u001b[34mINFO    \u001b[0m All tasks completed on one for round \u001b[1;36m4\u001b[0m\u001b[33m...\u001b[0m                                                                                \u001b]8;id=823365;file://C:\\Users\\BHSU\\AppData\\Local\\Programs\\Python\\Python39\\lib\\site-packages\\openfl\\component\\collaborator\\collaborator.py\u001b\\\u001b[2mcollaborator.py\u001b[0m\u001b]8;;\u001b\\\u001b[2m:\u001b[0m\u001b]8;id=93663;file://C:\\Users\\BHSU\\AppData\\Local\\Programs\\Python\\Python39\\lib\\site-packages\\openfl\\component\\collaborator\\collaborator.py#171\u001b\\\u001b[2m171\u001b[0m\u001b]8;;\u001b\\\n"
      ]
     },
     "metadata": {},
     "output_type": "display_data"
    },
    {
     "data": {
      "text/html": [
       "<pre style=\"white-space:pre;overflow-x:auto;line-height:normal;font-family:Menlo,'DejaVu Sans Mono',consolas,'Courier New',monospace\"><span style=\"color: #7fbfbf; text-decoration-color: #7fbfbf\">           </span><span style=\"color: #000080; text-decoration-color: #000080\">INFO    </span> Waiting for tasks<span style=\"color: #808000; text-decoration-color: #808000\">...</span>                                                                                                     <a href=\"file://C:\\Users\\BHSU\\AppData\\Local\\Programs\\Python\\Python39\\lib\\site-packages\\openfl\\component\\collaborator\\collaborator.py\" target=\"_blank\"><span style=\"color: #7f7f7f; text-decoration-color: #7f7f7f\">collaborator.py</span></a><span style=\"color: #7f7f7f; text-decoration-color: #7f7f7f\">:</span><a href=\"file://C:\\Users\\BHSU\\AppData\\Local\\Programs\\Python\\Python39\\lib\\site-packages\\openfl\\component\\collaborator\\collaborator.py#178\" target=\"_blank\"><span style=\"color: #7f7f7f; text-decoration-color: #7f7f7f\">178</span></a>\n",
       "</pre>\n"
      ],
      "text/plain": [
       "\u001b[2;36m          \u001b[0m\u001b[2;36m \u001b[0m\u001b[34mINFO    \u001b[0m Waiting for tasks\u001b[33m...\u001b[0m                                                                                                     \u001b]8;id=356300;file://C:\\Users\\BHSU\\AppData\\Local\\Programs\\Python\\Python39\\lib\\site-packages\\openfl\\component\\collaborator\\collaborator.py\u001b\\\u001b[2mcollaborator.py\u001b[0m\u001b]8;;\u001b\\\u001b[2m:\u001b[0m\u001b]8;id=871955;file://C:\\Users\\BHSU\\AppData\\Local\\Programs\\Python\\Python39\\lib\\site-packages\\openfl\\component\\collaborator\\collaborator.py#178\u001b\\\u001b[2m178\u001b[0m\u001b]8;;\u001b\\\n"
      ]
     },
     "metadata": {},
     "output_type": "display_data"
    },
    {
     "data": {
      "text/html": [
       "<pre style=\"white-space:pre;overflow-x:auto;line-height:normal;font-family:Menlo,'DejaVu Sans Mono',consolas,'Courier New',monospace\"><span style=\"color: #7fbfbf; text-decoration-color: #7fbfbf\">           </span><span style=\"color: #000080; text-decoration-color: #000080\">INFO    </span> Sending tasks to collaborator two for round <span style=\"color: #008080; text-decoration-color: #008080; font-weight: bold\">4</span>                                                                              <a href=\"file://C:\\Users\\BHSU\\AppData\\Local\\Programs\\Python\\Python39\\lib\\site-packages\\openfl\\component\\aggregator\\aggregator.py\" target=\"_blank\"><span style=\"color: #7f7f7f; text-decoration-color: #7f7f7f\">aggregator.py</span></a><span style=\"color: #7f7f7f; text-decoration-color: #7f7f7f\">:</span><a href=\"file://C:\\Users\\BHSU\\AppData\\Local\\Programs\\Python\\Python39\\lib\\site-packages\\openfl\\component\\aggregator\\aggregator.py#329\" target=\"_blank\"><span style=\"color: #7f7f7f; text-decoration-color: #7f7f7f\">329</span></a>\n",
       "</pre>\n"
      ],
      "text/plain": [
       "\u001b[2;36m          \u001b[0m\u001b[2;36m \u001b[0m\u001b[34mINFO    \u001b[0m Sending tasks to collaborator two for round \u001b[1;36m4\u001b[0m                                                                              \u001b]8;id=94126;file://C:\\Users\\BHSU\\AppData\\Local\\Programs\\Python\\Python39\\lib\\site-packages\\openfl\\component\\aggregator\\aggregator.py\u001b\\\u001b[2maggregator.py\u001b[0m\u001b]8;;\u001b\\\u001b[2m:\u001b[0m\u001b]8;id=503410;file://C:\\Users\\BHSU\\AppData\\Local\\Programs\\Python\\Python39\\lib\\site-packages\\openfl\\component\\aggregator\\aggregator.py#329\u001b\\\u001b[2m329\u001b[0m\u001b]8;;\u001b\\\n"
      ]
     },
     "metadata": {},
     "output_type": "display_data"
    },
    {
     "data": {
      "text/html": [
       "<pre style=\"white-space:pre;overflow-x:auto;line-height:normal;font-family:Menlo,'DejaVu Sans Mono',consolas,'Courier New',monospace\"><span style=\"color: #7fbfbf; text-decoration-color: #7fbfbf\">           </span><span style=\"color: #000080; text-decoration-color: #000080\">INFO    </span> Received the following tasks: <span style=\"font-weight: bold\">[</span><span style=\"color: #008000; text-decoration-color: #008000\">'aggregated_model_validation'</span>, <span style=\"color: #008000; text-decoration-color: #008000\">'train'</span>, <span style=\"color: #008000; text-decoration-color: #008000\">'locally_tuned_model_validation'</span><span style=\"font-weight: bold\">]</span>                 <a href=\"file://C:\\Users\\BHSU\\AppData\\Local\\Programs\\Python\\Python39\\lib\\site-packages\\openfl\\component\\collaborator\\collaborator.py\" target=\"_blank\"><span style=\"color: #7f7f7f; text-decoration-color: #7f7f7f\">collaborator.py</span></a><span style=\"color: #7f7f7f; text-decoration-color: #7f7f7f\">:</span><a href=\"file://C:\\Users\\BHSU\\AppData\\Local\\Programs\\Python\\Python39\\lib\\site-packages\\openfl\\component\\collaborator\\collaborator.py#168\" target=\"_blank\"><span style=\"color: #7f7f7f; text-decoration-color: #7f7f7f\">168</span></a>\n",
       "</pre>\n"
      ],
      "text/plain": [
       "\u001b[2;36m          \u001b[0m\u001b[2;36m \u001b[0m\u001b[34mINFO    \u001b[0m Received the following tasks: \u001b[1m[\u001b[0m\u001b[32m'aggregated_model_validation'\u001b[0m, \u001b[32m'train'\u001b[0m, \u001b[32m'locally_tuned_model_validation'\u001b[0m\u001b[1m]\u001b[0m                 \u001b]8;id=758827;file://C:\\Users\\BHSU\\AppData\\Local\\Programs\\Python\\Python39\\lib\\site-packages\\openfl\\component\\collaborator\\collaborator.py\u001b\\\u001b[2mcollaborator.py\u001b[0m\u001b]8;;\u001b\\\u001b[2m:\u001b[0m\u001b]8;id=597838;file://C:\\Users\\BHSU\\AppData\\Local\\Programs\\Python\\Python39\\lib\\site-packages\\openfl\\component\\collaborator\\collaborator.py#168\u001b\\\u001b[2m168\u001b[0m\u001b]8;;\u001b\\\n"
      ]
     },
     "metadata": {},
     "output_type": "display_data"
    },
    {
     "data": {
      "text/html": [
       "<pre style=\"white-space:pre;overflow-x:auto;line-height:normal;font-family:Menlo,'DejaVu Sans Mono',consolas,'Courier New',monospace\"><span style=\"color: #7fbfbf; text-decoration-color: #7fbfbf\">           </span><span style=\"color: #000080; text-decoration-color: #000080\">INFO    </span> Using TaskRunner subclassing API                                                                                         <a href=\"file://C:\\Users\\BHSU\\AppData\\Local\\Programs\\Python\\Python39\\lib\\site-packages\\openfl\\component\\collaborator\\collaborator.py\" target=\"_blank\"><span style=\"color: #7f7f7f; text-decoration-color: #7f7f7f\">collaborator.py</span></a><span style=\"color: #7f7f7f; text-decoration-color: #7f7f7f\">:</span><a href=\"file://C:\\Users\\BHSU\\AppData\\Local\\Programs\\Python\\Python39\\lib\\site-packages\\openfl\\component\\collaborator\\collaborator.py#253\" target=\"_blank\"><span style=\"color: #7f7f7f; text-decoration-color: #7f7f7f\">253</span></a>\n",
       "</pre>\n"
      ],
      "text/plain": [
       "\u001b[2;36m          \u001b[0m\u001b[2;36m \u001b[0m\u001b[34mINFO    \u001b[0m Using TaskRunner subclassing API                                                                                         \u001b]8;id=690047;file://C:\\Users\\BHSU\\AppData\\Local\\Programs\\Python\\Python39\\lib\\site-packages\\openfl\\component\\collaborator\\collaborator.py\u001b\\\u001b[2mcollaborator.py\u001b[0m\u001b]8;;\u001b\\\u001b[2m:\u001b[0m\u001b]8;id=900979;file://C:\\Users\\BHSU\\AppData\\Local\\Programs\\Python\\Python39\\lib\\site-packages\\openfl\\component\\collaborator\\collaborator.py#253\u001b\\\u001b[2m253\u001b[0m\u001b]8;;\u001b\\\n"
      ]
     },
     "metadata": {},
     "output_type": "display_data"
    },
    {
     "name": "stdout",
     "output_type": "stream",
     "text": [
      "282/282 [==============================] - 0s 512us/step - loss: 0.1667 - accuracy: 0.9522\n"
     ]
    },
    {
     "data": {
      "text/html": [
       "<pre style=\"white-space:pre;overflow-x:auto;line-height:normal;font-family:Menlo,'DejaVu Sans Mono',consolas,'Courier New',monospace\"><span style=\"color: #7fbfbf; text-decoration-color: #7fbfbf\">           </span>METRIC   Round <span style=\"color: #008080; text-decoration-color: #008080; font-weight: bold\">4</span>, collaborator two is sending metric for task aggregated_model_validation: accuracy      <span style=\"color: #008080; text-decoration-color: #008080; font-weight: bold\">0.952222</span>                 <a href=\"file://C:\\Users\\BHSU\\AppData\\Local\\Programs\\Python\\Python39\\lib\\site-packages\\openfl\\component\\collaborator\\collaborator.py\" target=\"_blank\"><span style=\"color: #7f7f7f; text-decoration-color: #7f7f7f\">collaborator.py</span></a><span style=\"color: #7f7f7f; text-decoration-color: #7f7f7f\">:</span><a href=\"file://C:\\Users\\BHSU\\AppData\\Local\\Programs\\Python\\Python39\\lib\\site-packages\\openfl\\component\\collaborator\\collaborator.py#415\" target=\"_blank\"><span style=\"color: #7f7f7f; text-decoration-color: #7f7f7f\">415</span></a>\n",
       "</pre>\n"
      ],
      "text/plain": [
       "\u001b[2;36m          \u001b[0m\u001b[2;36m \u001b[0mMETRIC   Round \u001b[1;36m4\u001b[0m, collaborator two is sending metric for task aggregated_model_validation: accuracy      \u001b[1;36m0.952222\u001b[0m                 \u001b]8;id=918784;file://C:\\Users\\BHSU\\AppData\\Local\\Programs\\Python\\Python39\\lib\\site-packages\\openfl\\component\\collaborator\\collaborator.py\u001b\\\u001b[2mcollaborator.py\u001b[0m\u001b]8;;\u001b\\\u001b[2m:\u001b[0m\u001b]8;id=217011;file://C:\\Users\\BHSU\\AppData\\Local\\Programs\\Python\\Python39\\lib\\site-packages\\openfl\\component\\collaborator\\collaborator.py#415\u001b\\\u001b[2m415\u001b[0m\u001b]8;;\u001b\\\n"
      ]
     },
     "metadata": {},
     "output_type": "display_data"
    },
    {
     "data": {
      "text/html": [
       "<pre style=\"white-space:pre;overflow-x:auto;line-height:normal;font-family:Menlo,'DejaVu Sans Mono',consolas,'Courier New',monospace\"><span style=\"color: #7fbfbf; text-decoration-color: #7fbfbf\">           </span><span style=\"color: #000080; text-decoration-color: #000080\">INFO    </span> Collaborator two is sending task results for aggregated_model_validation, round <span style=\"color: #008080; text-decoration-color: #008080; font-weight: bold\">4</span>                                          <a href=\"file://C:\\Users\\BHSU\\AppData\\Local\\Programs\\Python\\Python39\\lib\\site-packages\\openfl\\component\\aggregator\\aggregator.py\" target=\"_blank\"><span style=\"color: #7f7f7f; text-decoration-color: #7f7f7f\">aggregator.py</span></a><span style=\"color: #7f7f7f; text-decoration-color: #7f7f7f\">:</span><a href=\"file://C:\\Users\\BHSU\\AppData\\Local\\Programs\\Python\\Python39\\lib\\site-packages\\openfl\\component\\aggregator\\aggregator.py#520\" target=\"_blank\"><span style=\"color: #7f7f7f; text-decoration-color: #7f7f7f\">520</span></a>\n",
       "</pre>\n"
      ],
      "text/plain": [
       "\u001b[2;36m          \u001b[0m\u001b[2;36m \u001b[0m\u001b[34mINFO    \u001b[0m Collaborator two is sending task results for aggregated_model_validation, round \u001b[1;36m4\u001b[0m                                          \u001b]8;id=311678;file://C:\\Users\\BHSU\\AppData\\Local\\Programs\\Python\\Python39\\lib\\site-packages\\openfl\\component\\aggregator\\aggregator.py\u001b\\\u001b[2maggregator.py\u001b[0m\u001b]8;;\u001b\\\u001b[2m:\u001b[0m\u001b]8;id=120873;file://C:\\Users\\BHSU\\AppData\\Local\\Programs\\Python\\Python39\\lib\\site-packages\\openfl\\component\\aggregator\\aggregator.py#520\u001b\\\u001b[2m520\u001b[0m\u001b]8;;\u001b\\\n"
      ]
     },
     "metadata": {},
     "output_type": "display_data"
    },
    {
     "data": {
      "text/html": [
       "<pre style=\"white-space:pre;overflow-x:auto;line-height:normal;font-family:Menlo,'DejaVu Sans Mono',consolas,'Courier New',monospace\"><span style=\"color: #7fbfbf; text-decoration-color: #7fbfbf\">           </span>METRIC   Round <span style=\"color: #008080; text-decoration-color: #008080; font-weight: bold\">4</span>, collaborator validate_agg aggregated_model_validation result accuracy: <span style=\"color: #008080; text-decoration-color: #008080; font-weight: bold\">0.952222</span>                                   <a href=\"file://C:\\Users\\BHSU\\AppData\\Local\\Programs\\Python\\Python39\\lib\\site-packages\\openfl\\component\\aggregator\\aggregator.py\" target=\"_blank\"><span style=\"color: #7f7f7f; text-decoration-color: #7f7f7f\">aggregator.py</span></a><span style=\"color: #7f7f7f; text-decoration-color: #7f7f7f\">:</span><a href=\"file://C:\\Users\\BHSU\\AppData\\Local\\Programs\\Python\\Python39\\lib\\site-packages\\openfl\\component\\aggregator\\aggregator.py#559\" target=\"_blank\"><span style=\"color: #7f7f7f; text-decoration-color: #7f7f7f\">559</span></a>\n",
       "</pre>\n"
      ],
      "text/plain": [
       "\u001b[2;36m          \u001b[0m\u001b[2;36m \u001b[0mMETRIC   Round \u001b[1;36m4\u001b[0m, collaborator validate_agg aggregated_model_validation result accuracy: \u001b[1;36m0.952222\u001b[0m                                   \u001b]8;id=114529;file://C:\\Users\\BHSU\\AppData\\Local\\Programs\\Python\\Python39\\lib\\site-packages\\openfl\\component\\aggregator\\aggregator.py\u001b\\\u001b[2maggregator.py\u001b[0m\u001b]8;;\u001b\\\u001b[2m:\u001b[0m\u001b]8;id=169720;file://C:\\Users\\BHSU\\AppData\\Local\\Programs\\Python\\Python39\\lib\\site-packages\\openfl\\component\\aggregator\\aggregator.py#559\u001b\\\u001b[2m559\u001b[0m\u001b]8;;\u001b\\\n"
      ]
     },
     "metadata": {},
     "output_type": "display_data"
    },
    {
     "data": {
      "text/html": [
       "<pre style=\"white-space:pre;overflow-x:auto;line-height:normal;font-family:Menlo,'DejaVu Sans Mono',consolas,'Courier New',monospace\"><span style=\"color: #7fbfbf; text-decoration-color: #7fbfbf\">           </span><span style=\"color: #000080; text-decoration-color: #000080\">INFO    </span> Using TaskRunner subclassing API                                                                                         <a href=\"file://C:\\Users\\BHSU\\AppData\\Local\\Programs\\Python\\Python39\\lib\\site-packages\\openfl\\component\\collaborator\\collaborator.py\" target=\"_blank\"><span style=\"color: #7f7f7f; text-decoration-color: #7f7f7f\">collaborator.py</span></a><span style=\"color: #7f7f7f; text-decoration-color: #7f7f7f\">:</span><a href=\"file://C:\\Users\\BHSU\\AppData\\Local\\Programs\\Python\\Python39\\lib\\site-packages\\openfl\\component\\collaborator\\collaborator.py#253\" target=\"_blank\"><span style=\"color: #7f7f7f; text-decoration-color: #7f7f7f\">253</span></a>\n",
       "</pre>\n"
      ],
      "text/plain": [
       "\u001b[2;36m          \u001b[0m\u001b[2;36m \u001b[0m\u001b[34mINFO    \u001b[0m Using TaskRunner subclassing API                                                                                         \u001b]8;id=944567;file://C:\\Users\\BHSU\\AppData\\Local\\Programs\\Python\\Python39\\lib\\site-packages\\openfl\\component\\collaborator\\collaborator.py\u001b\\\u001b[2mcollaborator.py\u001b[0m\u001b]8;;\u001b\\\u001b[2m:\u001b[0m\u001b]8;id=916519;file://C:\\Users\\BHSU\\AppData\\Local\\Programs\\Python\\Python39\\lib\\site-packages\\openfl\\component\\collaborator\\collaborator.py#253\u001b\\\u001b[2m253\u001b[0m\u001b]8;;\u001b\\\n"
      ]
     },
     "metadata": {},
     "output_type": "display_data"
    },
    {
     "data": {
      "text/html": [
       "<pre style=\"white-space:pre;overflow-x:auto;line-height:normal;font-family:Menlo,'DejaVu Sans Mono',consolas,'Courier New',monospace\"><span style=\"color: #7fbfbf; text-decoration-color: #7fbfbf\">           </span><span style=\"color: #000080; text-decoration-color: #000080\">INFO    </span> Run <span style=\"color: #008080; text-decoration-color: #008080; font-weight: bold\">0</span> epoch of <span style=\"color: #008080; text-decoration-color: #008080; font-weight: bold\">4</span> round                                                                                                    <a href=\"file://C:\\Users\\BHSU\\AppData\\Local\\Programs\\Python\\Python39\\lib\\site-packages\\openfl\\federated\\task\\runner_keras.py\" target=\"_blank\"><span style=\"color: #7f7f7f; text-decoration-color: #7f7f7f\">runner_keras.py</span></a><span style=\"color: #7f7f7f; text-decoration-color: #7f7f7f\">:</span><a href=\"file://C:\\Users\\BHSU\\AppData\\Local\\Programs\\Python\\Python39\\lib\\site-packages\\openfl\\federated\\task\\runner_keras.py#83\" target=\"_blank\"><span style=\"color: #7f7f7f; text-decoration-color: #7f7f7f\">83</span></a>\n",
       "</pre>\n"
      ],
      "text/plain": [
       "\u001b[2;36m          \u001b[0m\u001b[2;36m \u001b[0m\u001b[34mINFO    \u001b[0m Run \u001b[1;36m0\u001b[0m epoch of \u001b[1;36m4\u001b[0m round                                                                                                    \u001b]8;id=25044;file://C:\\Users\\BHSU\\AppData\\Local\\Programs\\Python\\Python39\\lib\\site-packages\\openfl\\federated\\task\\runner_keras.py\u001b\\\u001b[2mrunner_keras.py\u001b[0m\u001b]8;;\u001b\\\u001b[2m:\u001b[0m\u001b]8;id=266213;file://C:\\Users\\BHSU\\AppData\\Local\\Programs\\Python\\Python39\\lib\\site-packages\\openfl\\federated\\task\\runner_keras.py#83\u001b\\\u001b[2m83\u001b[0m\u001b]8;;\u001b\\\n"
      ]
     },
     "metadata": {},
     "output_type": "display_data"
    },
    {
     "name": "stdout",
     "output_type": "stream",
     "text": [
      "657/657 [==============================] - 0s 648us/step - loss: 0.1558 - accuracy: 0.9501\n"
     ]
    },
    {
     "data": {
      "text/html": [
       "<pre style=\"white-space:pre;overflow-x:auto;line-height:normal;font-family:Menlo,'DejaVu Sans Mono',consolas,'Courier New',monospace\"><span style=\"color: #7fbfbf; text-decoration-color: #7fbfbf\">[17:02:23] </span>METRIC   Round <span style=\"color: #008080; text-decoration-color: #008080; font-weight: bold\">4</span>, collaborator two is sending metric for task train: loss        <span style=\"color: #008080; text-decoration-color: #008080; font-weight: bold\">0.155789</span>                                         <a href=\"file://C:\\Users\\BHSU\\AppData\\Local\\Programs\\Python\\Python39\\lib\\site-packages\\openfl\\component\\collaborator\\collaborator.py\" target=\"_blank\"><span style=\"color: #7f7f7f; text-decoration-color: #7f7f7f\">collaborator.py</span></a><span style=\"color: #7f7f7f; text-decoration-color: #7f7f7f\">:</span><a href=\"file://C:\\Users\\BHSU\\AppData\\Local\\Programs\\Python\\Python39\\lib\\site-packages\\openfl\\component\\collaborator\\collaborator.py#415\" target=\"_blank\"><span style=\"color: #7f7f7f; text-decoration-color: #7f7f7f\">415</span></a>\n",
       "</pre>\n"
      ],
      "text/plain": [
       "\u001b[2;36m[17:02:23]\u001b[0m\u001b[2;36m \u001b[0mMETRIC   Round \u001b[1;36m4\u001b[0m, collaborator two is sending metric for task train: loss        \u001b[1;36m0.155789\u001b[0m                                         \u001b]8;id=779568;file://C:\\Users\\BHSU\\AppData\\Local\\Programs\\Python\\Python39\\lib\\site-packages\\openfl\\component\\collaborator\\collaborator.py\u001b\\\u001b[2mcollaborator.py\u001b[0m\u001b]8;;\u001b\\\u001b[2m:\u001b[0m\u001b]8;id=804633;file://C:\\Users\\BHSU\\AppData\\Local\\Programs\\Python\\Python39\\lib\\site-packages\\openfl\\component\\collaborator\\collaborator.py#415\u001b\\\u001b[2m415\u001b[0m\u001b]8;;\u001b\\\n"
      ]
     },
     "metadata": {},
     "output_type": "display_data"
    },
    {
     "data": {
      "text/html": [
       "<pre style=\"white-space:pre;overflow-x:auto;line-height:normal;font-family:Menlo,'DejaVu Sans Mono',consolas,'Courier New',monospace\"><span style=\"color: #7fbfbf; text-decoration-color: #7fbfbf\">           </span><span style=\"color: #000080; text-decoration-color: #000080\">INFO    </span> Collaborator two is sending task results for train, round <span style=\"color: #008080; text-decoration-color: #008080; font-weight: bold\">4</span>                                                                <a href=\"file://C:\\Users\\BHSU\\AppData\\Local\\Programs\\Python\\Python39\\lib\\site-packages\\openfl\\component\\aggregator\\aggregator.py\" target=\"_blank\"><span style=\"color: #7f7f7f; text-decoration-color: #7f7f7f\">aggregator.py</span></a><span style=\"color: #7f7f7f; text-decoration-color: #7f7f7f\">:</span><a href=\"file://C:\\Users\\BHSU\\AppData\\Local\\Programs\\Python\\Python39\\lib\\site-packages\\openfl\\component\\aggregator\\aggregator.py#520\" target=\"_blank\"><span style=\"color: #7f7f7f; text-decoration-color: #7f7f7f\">520</span></a>\n",
       "</pre>\n"
      ],
      "text/plain": [
       "\u001b[2;36m          \u001b[0m\u001b[2;36m \u001b[0m\u001b[34mINFO    \u001b[0m Collaborator two is sending task results for train, round \u001b[1;36m4\u001b[0m                                                                \u001b]8;id=812990;file://C:\\Users\\BHSU\\AppData\\Local\\Programs\\Python\\Python39\\lib\\site-packages\\openfl\\component\\aggregator\\aggregator.py\u001b\\\u001b[2maggregator.py\u001b[0m\u001b]8;;\u001b\\\u001b[2m:\u001b[0m\u001b]8;id=801566;file://C:\\Users\\BHSU\\AppData\\Local\\Programs\\Python\\Python39\\lib\\site-packages\\openfl\\component\\aggregator\\aggregator.py#520\u001b\\\u001b[2m520\u001b[0m\u001b]8;;\u001b\\\n"
      ]
     },
     "metadata": {},
     "output_type": "display_data"
    },
    {
     "data": {
      "text/html": [
       "<pre style=\"white-space:pre;overflow-x:auto;line-height:normal;font-family:Menlo,'DejaVu Sans Mono',consolas,'Courier New',monospace\"><span style=\"color: #7fbfbf; text-decoration-color: #7fbfbf\">           </span>METRIC   Round <span style=\"color: #008080; text-decoration-color: #008080; font-weight: bold\">4</span>, collaborator two train result loss:    <span style=\"color: #008080; text-decoration-color: #008080; font-weight: bold\">0.155789</span>                                                                   <a href=\"file://C:\\Users\\BHSU\\AppData\\Local\\Programs\\Python\\Python39\\lib\\site-packages\\openfl\\component\\aggregator\\aggregator.py\" target=\"_blank\"><span style=\"color: #7f7f7f; text-decoration-color: #7f7f7f\">aggregator.py</span></a><span style=\"color: #7f7f7f; text-decoration-color: #7f7f7f\">:</span><a href=\"file://C:\\Users\\BHSU\\AppData\\Local\\Programs\\Python\\Python39\\lib\\site-packages\\openfl\\component\\aggregator\\aggregator.py#559\" target=\"_blank\"><span style=\"color: #7f7f7f; text-decoration-color: #7f7f7f\">559</span></a>\n",
       "</pre>\n"
      ],
      "text/plain": [
       "\u001b[2;36m          \u001b[0m\u001b[2;36m \u001b[0mMETRIC   Round \u001b[1;36m4\u001b[0m, collaborator two train result loss:    \u001b[1;36m0.155789\u001b[0m                                                                   \u001b]8;id=201494;file://C:\\Users\\BHSU\\AppData\\Local\\Programs\\Python\\Python39\\lib\\site-packages\\openfl\\component\\aggregator\\aggregator.py\u001b\\\u001b[2maggregator.py\u001b[0m\u001b]8;;\u001b\\\u001b[2m:\u001b[0m\u001b]8;id=928443;file://C:\\Users\\BHSU\\AppData\\Local\\Programs\\Python\\Python39\\lib\\site-packages\\openfl\\component\\aggregator\\aggregator.py#559\u001b\\\u001b[2m559\u001b[0m\u001b]8;;\u001b\\\n"
      ]
     },
     "metadata": {},
     "output_type": "display_data"
    },
    {
     "data": {
      "text/html": [
       "<pre style=\"white-space:pre;overflow-x:auto;line-height:normal;font-family:Menlo,'DejaVu Sans Mono',consolas,'Courier New',monospace\"><span style=\"color: #7fbfbf; text-decoration-color: #7fbfbf\">           </span><span style=\"color: #000080; text-decoration-color: #000080\">INFO    </span> Using TaskRunner subclassing API                                                                                         <a href=\"file://C:\\Users\\BHSU\\AppData\\Local\\Programs\\Python\\Python39\\lib\\site-packages\\openfl\\component\\collaborator\\collaborator.py\" target=\"_blank\"><span style=\"color: #7f7f7f; text-decoration-color: #7f7f7f\">collaborator.py</span></a><span style=\"color: #7f7f7f; text-decoration-color: #7f7f7f\">:</span><a href=\"file://C:\\Users\\BHSU\\AppData\\Local\\Programs\\Python\\Python39\\lib\\site-packages\\openfl\\component\\collaborator\\collaborator.py#253\" target=\"_blank\"><span style=\"color: #7f7f7f; text-decoration-color: #7f7f7f\">253</span></a>\n",
       "</pre>\n"
      ],
      "text/plain": [
       "\u001b[2;36m          \u001b[0m\u001b[2;36m \u001b[0m\u001b[34mINFO    \u001b[0m Using TaskRunner subclassing API                                                                                         \u001b]8;id=39276;file://C:\\Users\\BHSU\\AppData\\Local\\Programs\\Python\\Python39\\lib\\site-packages\\openfl\\component\\collaborator\\collaborator.py\u001b\\\u001b[2mcollaborator.py\u001b[0m\u001b]8;;\u001b\\\u001b[2m:\u001b[0m\u001b]8;id=604007;file://C:\\Users\\BHSU\\AppData\\Local\\Programs\\Python\\Python39\\lib\\site-packages\\openfl\\component\\collaborator\\collaborator.py#253\u001b\\\u001b[2m253\u001b[0m\u001b]8;;\u001b\\\n"
      ]
     },
     "metadata": {},
     "output_type": "display_data"
    },
    {
     "name": "stdout",
     "output_type": "stream",
     "text": [
      "282/282 [==============================] - 0s 534us/step - loss: 0.1610 - accuracy: 0.9532\n"
     ]
    },
    {
     "data": {
      "text/html": [
       "<pre style=\"white-space:pre;overflow-x:auto;line-height:normal;font-family:Menlo,'DejaVu Sans Mono',consolas,'Courier New',monospace\"><span style=\"color: #7fbfbf; text-decoration-color: #7fbfbf\">           </span>METRIC   Round <span style=\"color: #008080; text-decoration-color: #008080; font-weight: bold\">4</span>, collaborator two is sending metric for task locally_tuned_model_validation: accuracy   <span style=\"color: #008080; text-decoration-color: #008080; font-weight: bold\">0.953222</span>                 <a href=\"file://C:\\Users\\BHSU\\AppData\\Local\\Programs\\Python\\Python39\\lib\\site-packages\\openfl\\component\\collaborator\\collaborator.py\" target=\"_blank\"><span style=\"color: #7f7f7f; text-decoration-color: #7f7f7f\">collaborator.py</span></a><span style=\"color: #7f7f7f; text-decoration-color: #7f7f7f\">:</span><a href=\"file://C:\\Users\\BHSU\\AppData\\Local\\Programs\\Python\\Python39\\lib\\site-packages\\openfl\\component\\collaborator\\collaborator.py#415\" target=\"_blank\"><span style=\"color: #7f7f7f; text-decoration-color: #7f7f7f\">415</span></a>\n",
       "</pre>\n"
      ],
      "text/plain": [
       "\u001b[2;36m          \u001b[0m\u001b[2;36m \u001b[0mMETRIC   Round \u001b[1;36m4\u001b[0m, collaborator two is sending metric for task locally_tuned_model_validation: accuracy   \u001b[1;36m0.953222\u001b[0m                 \u001b]8;id=233499;file://C:\\Users\\BHSU\\AppData\\Local\\Programs\\Python\\Python39\\lib\\site-packages\\openfl\\component\\collaborator\\collaborator.py\u001b\\\u001b[2mcollaborator.py\u001b[0m\u001b]8;;\u001b\\\u001b[2m:\u001b[0m\u001b]8;id=100688;file://C:\\Users\\BHSU\\AppData\\Local\\Programs\\Python\\Python39\\lib\\site-packages\\openfl\\component\\collaborator\\collaborator.py#415\u001b\\\u001b[2m415\u001b[0m\u001b]8;;\u001b\\\n"
      ]
     },
     "metadata": {},
     "output_type": "display_data"
    },
    {
     "data": {
      "text/html": [
       "<pre style=\"white-space:pre;overflow-x:auto;line-height:normal;font-family:Menlo,'DejaVu Sans Mono',consolas,'Courier New',monospace\"><span style=\"color: #7fbfbf; text-decoration-color: #7fbfbf\">           </span><span style=\"color: #000080; text-decoration-color: #000080\">INFO    </span> Collaborator two is sending task results for locally_tuned_model_validation, round <span style=\"color: #008080; text-decoration-color: #008080; font-weight: bold\">4</span>                                       <a href=\"file://C:\\Users\\BHSU\\AppData\\Local\\Programs\\Python\\Python39\\lib\\site-packages\\openfl\\component\\aggregator\\aggregator.py\" target=\"_blank\"><span style=\"color: #7f7f7f; text-decoration-color: #7f7f7f\">aggregator.py</span></a><span style=\"color: #7f7f7f; text-decoration-color: #7f7f7f\">:</span><a href=\"file://C:\\Users\\BHSU\\AppData\\Local\\Programs\\Python\\Python39\\lib\\site-packages\\openfl\\component\\aggregator\\aggregator.py#520\" target=\"_blank\"><span style=\"color: #7f7f7f; text-decoration-color: #7f7f7f\">520</span></a>\n",
       "</pre>\n"
      ],
      "text/plain": [
       "\u001b[2;36m          \u001b[0m\u001b[2;36m \u001b[0m\u001b[34mINFO    \u001b[0m Collaborator two is sending task results for locally_tuned_model_validation, round \u001b[1;36m4\u001b[0m                                       \u001b]8;id=430802;file://C:\\Users\\BHSU\\AppData\\Local\\Programs\\Python\\Python39\\lib\\site-packages\\openfl\\component\\aggregator\\aggregator.py\u001b\\\u001b[2maggregator.py\u001b[0m\u001b]8;;\u001b\\\u001b[2m:\u001b[0m\u001b]8;id=578761;file://C:\\Users\\BHSU\\AppData\\Local\\Programs\\Python\\Python39\\lib\\site-packages\\openfl\\component\\aggregator\\aggregator.py#520\u001b\\\u001b[2m520\u001b[0m\u001b]8;;\u001b\\\n"
      ]
     },
     "metadata": {},
     "output_type": "display_data"
    },
    {
     "data": {
      "text/html": [
       "<pre style=\"white-space:pre;overflow-x:auto;line-height:normal;font-family:Menlo,'DejaVu Sans Mono',consolas,'Courier New',monospace\"><span style=\"color: #7fbfbf; text-decoration-color: #7fbfbf\">           </span>METRIC   Round <span style=\"color: #008080; text-decoration-color: #008080; font-weight: bold\">4</span>, collaborator validate_local locally_tuned_model_validation result accuracy:    <span style=\"color: #008080; text-decoration-color: #008080; font-weight: bold\">0.953222</span>                           <a href=\"file://C:\\Users\\BHSU\\AppData\\Local\\Programs\\Python\\Python39\\lib\\site-packages\\openfl\\component\\aggregator\\aggregator.py\" target=\"_blank\"><span style=\"color: #7f7f7f; text-decoration-color: #7f7f7f\">aggregator.py</span></a><span style=\"color: #7f7f7f; text-decoration-color: #7f7f7f\">:</span><a href=\"file://C:\\Users\\BHSU\\AppData\\Local\\Programs\\Python\\Python39\\lib\\site-packages\\openfl\\component\\aggregator\\aggregator.py#559\" target=\"_blank\"><span style=\"color: #7f7f7f; text-decoration-color: #7f7f7f\">559</span></a>\n",
       "</pre>\n"
      ],
      "text/plain": [
       "\u001b[2;36m          \u001b[0m\u001b[2;36m \u001b[0mMETRIC   Round \u001b[1;36m4\u001b[0m, collaborator validate_local locally_tuned_model_validation result accuracy:    \u001b[1;36m0.953222\u001b[0m                           \u001b]8;id=369405;file://C:\\Users\\BHSU\\AppData\\Local\\Programs\\Python\\Python39\\lib\\site-packages\\openfl\\component\\aggregator\\aggregator.py\u001b\\\u001b[2maggregator.py\u001b[0m\u001b]8;;\u001b\\\u001b[2m:\u001b[0m\u001b]8;id=899774;file://C:\\Users\\BHSU\\AppData\\Local\\Programs\\Python\\Python39\\lib\\site-packages\\openfl\\component\\aggregator\\aggregator.py#559\u001b\\\u001b[2m559\u001b[0m\u001b]8;;\u001b\\\n"
      ]
     },
     "metadata": {},
     "output_type": "display_data"
    },
    {
     "data": {
      "text/html": [
       "<pre style=\"white-space:pre;overflow-x:auto;line-height:normal;font-family:Menlo,'DejaVu Sans Mono',consolas,'Courier New',monospace\"><span style=\"color: #7fbfbf; text-decoration-color: #7fbfbf\">           </span>METRIC   Round <span style=\"color: #008080; text-decoration-color: #008080; font-weight: bold\">4</span>, aggregator: locally_tuned_model_validation                                                                        <a href=\"file://C:\\Users\\BHSU\\AppData\\Local\\Programs\\Python\\Python39\\lib\\site-packages\\openfl\\component\\aggregator\\aggregator.py\" target=\"_blank\"><span style=\"color: #7f7f7f; text-decoration-color: #7f7f7f\">aggregator.py</span></a><span style=\"color: #7f7f7f; text-decoration-color: #7f7f7f\">:</span><a href=\"file://C:\\Users\\BHSU\\AppData\\Local\\Programs\\Python\\Python39\\lib\\site-packages\\openfl\\component\\aggregator\\aggregator.py#842\" target=\"_blank\"><span style=\"color: #7f7f7f; text-decoration-color: #7f7f7f\">842</span></a>\n",
       "<span style=\"color: #7fbfbf; text-decoration-color: #7fbfbf\">           </span>         <span style=\"font-weight: bold\">&lt;</span><span style=\"color: #ff00ff; text-decoration-color: #ff00ff; font-weight: bold\">openfl.interface.aggregation_functions.weighted_average.WeightedAverage</span><span style=\"color: #000000; text-decoration-color: #000000\"> object at </span><span style=\"color: #008080; text-decoration-color: #008080; font-weight: bold\">0x00000137CCF13D90</span><span style=\"font-weight: bold\">&gt;</span> accuracy:           <span style=\"color: #7f7f7f; text-decoration-color: #7f7f7f\">                 </span>\n",
       "<span style=\"color: #7fbfbf; text-decoration-color: #7fbfbf\">           </span>         <span style=\"color: #008080; text-decoration-color: #008080; font-weight: bold\">0.954278</span>                                                                                                                   <span style=\"color: #7f7f7f; text-decoration-color: #7f7f7f\">                 </span>\n",
       "</pre>\n"
      ],
      "text/plain": [
       "\u001b[2;36m          \u001b[0m\u001b[2;36m \u001b[0mMETRIC   Round \u001b[1;36m4\u001b[0m, aggregator: locally_tuned_model_validation                                                                        \u001b]8;id=383321;file://C:\\Users\\BHSU\\AppData\\Local\\Programs\\Python\\Python39\\lib\\site-packages\\openfl\\component\\aggregator\\aggregator.py\u001b\\\u001b[2maggregator.py\u001b[0m\u001b]8;;\u001b\\\u001b[2m:\u001b[0m\u001b]8;id=412603;file://C:\\Users\\BHSU\\AppData\\Local\\Programs\\Python\\Python39\\lib\\site-packages\\openfl\\component\\aggregator\\aggregator.py#842\u001b\\\u001b[2m842\u001b[0m\u001b]8;;\u001b\\\n",
       "\u001b[2;36m           \u001b[0m         \u001b[1m<\u001b[0m\u001b[1;95mopenfl.interface.aggregation_functions.weighted_average.WeightedAverage\u001b[0m\u001b[39m object at \u001b[0m\u001b[1;36m0x00000137CCF13D90\u001b[0m\u001b[1m>\u001b[0m accuracy:           \u001b[2m                 \u001b[0m\n",
       "\u001b[2;36m           \u001b[0m         \u001b[1;36m0.954278\u001b[0m                                                                                                                   \u001b[2m                 \u001b[0m\n"
      ]
     },
     "metadata": {},
     "output_type": "display_data"
    },
    {
     "data": {
      "text/html": [
       "<pre style=\"white-space:pre;overflow-x:auto;line-height:normal;font-family:Menlo,'DejaVu Sans Mono',consolas,'Courier New',monospace\"><span style=\"color: #7fbfbf; text-decoration-color: #7fbfbf\">           </span>METRIC   Round <span style=\"color: #008080; text-decoration-color: #008080; font-weight: bold\">4</span>, aggregator: train <span style=\"font-weight: bold\">&lt;</span><span style=\"color: #ff00ff; text-decoration-color: #ff00ff; font-weight: bold\">openfl.interface.aggregation_functions.weighted_average.WeightedAverage</span><span style=\"color: #000000; text-decoration-color: #000000\"> object at </span>             <a href=\"file://C:\\Users\\BHSU\\AppData\\Local\\Programs\\Python\\Python39\\lib\\site-packages\\openfl\\component\\aggregator\\aggregator.py\" target=\"_blank\"><span style=\"color: #7f7f7f; text-decoration-color: #7f7f7f\">aggregator.py</span></a><span style=\"color: #7f7f7f; text-decoration-color: #7f7f7f\">:</span><a href=\"file://C:\\Users\\BHSU\\AppData\\Local\\Programs\\Python\\Python39\\lib\\site-packages\\openfl\\component\\aggregator\\aggregator.py#842\" target=\"_blank\"><span style=\"color: #7f7f7f; text-decoration-color: #7f7f7f\">842</span></a>\n",
       "<span style=\"color: #7fbfbf; text-decoration-color: #7fbfbf\">           </span>         <span style=\"color: #008080; text-decoration-color: #008080; font-weight: bold\">0x00000137CCF13D90</span><span style=\"font-weight: bold\">&gt;</span> loss: <span style=\"color: #008080; text-decoration-color: #008080; font-weight: bold\">0.160512</span>                                                                                         <span style=\"color: #7f7f7f; text-decoration-color: #7f7f7f\">                 </span>\n",
       "</pre>\n"
      ],
      "text/plain": [
       "\u001b[2;36m          \u001b[0m\u001b[2;36m \u001b[0mMETRIC   Round \u001b[1;36m4\u001b[0m, aggregator: train \u001b[1m<\u001b[0m\u001b[1;95mopenfl.interface.aggregation_functions.weighted_average.WeightedAverage\u001b[0m\u001b[39m object at \u001b[0m             \u001b]8;id=124508;file://C:\\Users\\BHSU\\AppData\\Local\\Programs\\Python\\Python39\\lib\\site-packages\\openfl\\component\\aggregator\\aggregator.py\u001b\\\u001b[2maggregator.py\u001b[0m\u001b]8;;\u001b\\\u001b[2m:\u001b[0m\u001b]8;id=827904;file://C:\\Users\\BHSU\\AppData\\Local\\Programs\\Python\\Python39\\lib\\site-packages\\openfl\\component\\aggregator\\aggregator.py#842\u001b\\\u001b[2m842\u001b[0m\u001b]8;;\u001b\\\n",
       "\u001b[2;36m           \u001b[0m         \u001b[1;36m0x00000137CCF13D90\u001b[0m\u001b[1m>\u001b[0m loss: \u001b[1;36m0.160512\u001b[0m                                                                                         \u001b[2m                 \u001b[0m\n"
      ]
     },
     "metadata": {},
     "output_type": "display_data"
    },
    {
     "data": {
      "text/html": [
       "<pre style=\"white-space:pre;overflow-x:auto;line-height:normal;font-family:Menlo,'DejaVu Sans Mono',consolas,'Courier New',monospace\"><span style=\"color: #7fbfbf; text-decoration-color: #7fbfbf\">           </span>METRIC   Round <span style=\"color: #008080; text-decoration-color: #008080; font-weight: bold\">4</span>, aggregator: aggregated_model_validation <span style=\"font-weight: bold\">&lt;</span><span style=\"color: #ff00ff; text-decoration-color: #ff00ff; font-weight: bold\">openfl.interface.aggregation_functions.weighted_average.WeightedAverage</span><span style=\"color: #000000; text-decoration-color: #000000\"> </span> <a href=\"file://C:\\Users\\BHSU\\AppData\\Local\\Programs\\Python\\Python39\\lib\\site-packages\\openfl\\component\\aggregator\\aggregator.py\" target=\"_blank\"><span style=\"color: #7f7f7f; text-decoration-color: #7f7f7f\">aggregator.py</span></a><span style=\"color: #7f7f7f; text-decoration-color: #7f7f7f\">:</span><a href=\"file://C:\\Users\\BHSU\\AppData\\Local\\Programs\\Python\\Python39\\lib\\site-packages\\openfl\\component\\aggregator\\aggregator.py#842\" target=\"_blank\"><span style=\"color: #7f7f7f; text-decoration-color: #7f7f7f\">842</span></a>\n",
       "<span style=\"color: #7fbfbf; text-decoration-color: #7fbfbf\">           </span>         <span style=\"color: #000000; text-decoration-color: #000000\">object at </span><span style=\"color: #008080; text-decoration-color: #008080; font-weight: bold\">0x00000137CCF13D90</span><span style=\"font-weight: bold\">&gt;</span> accuracy:       <span style=\"color: #008080; text-decoration-color: #008080; font-weight: bold\">0.953389</span>                                                                     <span style=\"color: #7f7f7f; text-decoration-color: #7f7f7f\">                 </span>\n",
       "</pre>\n"
      ],
      "text/plain": [
       "\u001b[2;36m          \u001b[0m\u001b[2;36m \u001b[0mMETRIC   Round \u001b[1;36m4\u001b[0m, aggregator: aggregated_model_validation \u001b[1m<\u001b[0m\u001b[1;95mopenfl.interface.aggregation_functions.weighted_average.WeightedAverage\u001b[0m\u001b[39m \u001b[0m \u001b]8;id=363332;file://C:\\Users\\BHSU\\AppData\\Local\\Programs\\Python\\Python39\\lib\\site-packages\\openfl\\component\\aggregator\\aggregator.py\u001b\\\u001b[2maggregator.py\u001b[0m\u001b]8;;\u001b\\\u001b[2m:\u001b[0m\u001b]8;id=127154;file://C:\\Users\\BHSU\\AppData\\Local\\Programs\\Python\\Python39\\lib\\site-packages\\openfl\\component\\aggregator\\aggregator.py#842\u001b\\\u001b[2m842\u001b[0m\u001b]8;;\u001b\\\n",
       "\u001b[2;36m           \u001b[0m         \u001b[39mobject at \u001b[0m\u001b[1;36m0x00000137CCF13D90\u001b[0m\u001b[1m>\u001b[0m accuracy:       \u001b[1;36m0.953389\u001b[0m                                                                     \u001b[2m                 \u001b[0m\n"
      ]
     },
     "metadata": {},
     "output_type": "display_data"
    },
    {
     "data": {
      "text/html": [
       "<pre style=\"white-space:pre;overflow-x:auto;line-height:normal;font-family:Menlo,'DejaVu Sans Mono',consolas,'Courier New',monospace\"><span style=\"color: #7fbfbf; text-decoration-color: #7fbfbf\">           </span>METRIC   Round <span style=\"color: #008080; text-decoration-color: #008080; font-weight: bold\">4</span>: saved the best model with score <span style=\"color: #008080; text-decoration-color: #008080; font-weight: bold\">0.953389</span>                                                                          <a href=\"file://C:\\Users\\BHSU\\AppData\\Local\\Programs\\Python\\Python39\\lib\\site-packages\\openfl\\component\\aggregator\\aggregator.py\" target=\"_blank\"><span style=\"color: #7f7f7f; text-decoration-color: #7f7f7f\">aggregator.py</span></a><span style=\"color: #7f7f7f; text-decoration-color: #7f7f7f\">:</span><a href=\"file://C:\\Users\\BHSU\\AppData\\Local\\Programs\\Python\\Python39\\lib\\site-packages\\openfl\\component\\aggregator\\aggregator.py#858\" target=\"_blank\"><span style=\"color: #7f7f7f; text-decoration-color: #7f7f7f\">858</span></a>\n",
       "</pre>\n"
      ],
      "text/plain": [
       "\u001b[2;36m          \u001b[0m\u001b[2;36m \u001b[0mMETRIC   Round \u001b[1;36m4\u001b[0m: saved the best model with score \u001b[1;36m0.953389\u001b[0m                                                                          \u001b]8;id=293222;file://C:\\Users\\BHSU\\AppData\\Local\\Programs\\Python\\Python39\\lib\\site-packages\\openfl\\component\\aggregator\\aggregator.py\u001b\\\u001b[2maggregator.py\u001b[0m\u001b]8;;\u001b\\\u001b[2m:\u001b[0m\u001b]8;id=616598;file://C:\\Users\\BHSU\\AppData\\Local\\Programs\\Python\\Python39\\lib\\site-packages\\openfl\\component\\aggregator\\aggregator.py#858\u001b\\\u001b[2m858\u001b[0m\u001b]8;;\u001b\\\n"
      ]
     },
     "metadata": {},
     "output_type": "display_data"
    },
    {
     "data": {
      "text/html": [
       "<pre style=\"white-space:pre;overflow-x:auto;line-height:normal;font-family:Menlo,'DejaVu Sans Mono',consolas,'Courier New',monospace\"><span style=\"color: #7fbfbf; text-decoration-color: #7fbfbf\">           </span><span style=\"color: #000080; text-decoration-color: #000080\">INFO    </span> Saving round <span style=\"color: #008080; text-decoration-color: #008080; font-weight: bold\">5</span> model<span style=\"color: #808000; text-decoration-color: #808000\">...</span>                                                                                                    <a href=\"file://C:\\Users\\BHSU\\AppData\\Local\\Programs\\Python\\Python39\\lib\\site-packages\\openfl\\component\\aggregator\\aggregator.py\" target=\"_blank\"><span style=\"color: #7f7f7f; text-decoration-color: #7f7f7f\">aggregator.py</span></a><span style=\"color: #7f7f7f; text-decoration-color: #7f7f7f\">:</span><a href=\"file://C:\\Users\\BHSU\\AppData\\Local\\Programs\\Python\\Python39\\lib\\site-packages\\openfl\\component\\aggregator\\aggregator.py#894\" target=\"_blank\"><span style=\"color: #7f7f7f; text-decoration-color: #7f7f7f\">894</span></a>\n",
       "</pre>\n"
      ],
      "text/plain": [
       "\u001b[2;36m          \u001b[0m\u001b[2;36m \u001b[0m\u001b[34mINFO    \u001b[0m Saving round \u001b[1;36m5\u001b[0m model\u001b[33m...\u001b[0m                                                                                                    \u001b]8;id=769561;file://C:\\Users\\BHSU\\AppData\\Local\\Programs\\Python\\Python39\\lib\\site-packages\\openfl\\component\\aggregator\\aggregator.py\u001b\\\u001b[2maggregator.py\u001b[0m\u001b]8;;\u001b\\\u001b[2m:\u001b[0m\u001b]8;id=681006;file://C:\\Users\\BHSU\\AppData\\Local\\Programs\\Python\\Python39\\lib\\site-packages\\openfl\\component\\aggregator\\aggregator.py#894\u001b\\\u001b[2m894\u001b[0m\u001b]8;;\u001b\\\n"
      ]
     },
     "metadata": {},
     "output_type": "display_data"
    },
    {
     "data": {
      "text/html": [
       "<pre style=\"white-space:pre;overflow-x:auto;line-height:normal;font-family:Menlo,'DejaVu Sans Mono',consolas,'Courier New',monospace\"><span style=\"color: #7fbfbf; text-decoration-color: #7fbfbf\">           </span><span style=\"color: #000080; text-decoration-color: #000080\">INFO    </span> Experiment Completed. Cleaning up<span style=\"color: #808000; text-decoration-color: #808000\">...</span>                                                                                       <a href=\"file://C:\\Users\\BHSU\\AppData\\Local\\Programs\\Python\\Python39\\lib\\site-packages\\openfl\\component\\aggregator\\aggregator.py\" target=\"_blank\"><span style=\"color: #7f7f7f; text-decoration-color: #7f7f7f\">aggregator.py</span></a><span style=\"color: #7f7f7f; text-decoration-color: #7f7f7f\">:</span><a href=\"file://C:\\Users\\BHSU\\AppData\\Local\\Programs\\Python\\Python39\\lib\\site-packages\\openfl\\component\\aggregator\\aggregator.py#899\" target=\"_blank\"><span style=\"color: #7f7f7f; text-decoration-color: #7f7f7f\">899</span></a>\n",
       "</pre>\n"
      ],
      "text/plain": [
       "\u001b[2;36m          \u001b[0m\u001b[2;36m \u001b[0m\u001b[34mINFO    \u001b[0m Experiment Completed. Cleaning up\u001b[33m...\u001b[0m                                                                                       \u001b]8;id=972969;file://C:\\Users\\BHSU\\AppData\\Local\\Programs\\Python\\Python39\\lib\\site-packages\\openfl\\component\\aggregator\\aggregator.py\u001b\\\u001b[2maggregator.py\u001b[0m\u001b]8;;\u001b\\\u001b[2m:\u001b[0m\u001b]8;id=96927;file://C:\\Users\\BHSU\\AppData\\Local\\Programs\\Python\\Python39\\lib\\site-packages\\openfl\\component\\aggregator\\aggregator.py#899\u001b\\\u001b[2m899\u001b[0m\u001b]8;;\u001b\\\n"
      ]
     },
     "metadata": {},
     "output_type": "display_data"
    },
    {
     "data": {
      "text/html": [
       "<pre style=\"white-space:pre;overflow-x:auto;line-height:normal;font-family:Menlo,'DejaVu Sans Mono',consolas,'Courier New',monospace\"><span style=\"color: #7fbfbf; text-decoration-color: #7fbfbf\">           </span><span style=\"color: #000080; text-decoration-color: #000080\">INFO    </span> All tasks completed on two for round <span style=\"color: #008080; text-decoration-color: #008080; font-weight: bold\">4</span><span style=\"color: #808000; text-decoration-color: #808000\">...</span>                                                                                <a href=\"file://C:\\Users\\BHSU\\AppData\\Local\\Programs\\Python\\Python39\\lib\\site-packages\\openfl\\component\\collaborator\\collaborator.py\" target=\"_blank\"><span style=\"color: #7f7f7f; text-decoration-color: #7f7f7f\">collaborator.py</span></a><span style=\"color: #7f7f7f; text-decoration-color: #7f7f7f\">:</span><a href=\"file://C:\\Users\\BHSU\\AppData\\Local\\Programs\\Python\\Python39\\lib\\site-packages\\openfl\\component\\collaborator\\collaborator.py#171\" target=\"_blank\"><span style=\"color: #7f7f7f; text-decoration-color: #7f7f7f\">171</span></a>\n",
       "</pre>\n"
      ],
      "text/plain": [
       "\u001b[2;36m          \u001b[0m\u001b[2;36m \u001b[0m\u001b[34mINFO    \u001b[0m All tasks completed on two for round \u001b[1;36m4\u001b[0m\u001b[33m...\u001b[0m                                                                                \u001b]8;id=434588;file://C:\\Users\\BHSU\\AppData\\Local\\Programs\\Python\\Python39\\lib\\site-packages\\openfl\\component\\collaborator\\collaborator.py\u001b\\\u001b[2mcollaborator.py\u001b[0m\u001b]8;;\u001b\\\u001b[2m:\u001b[0m\u001b]8;id=283381;file://C:\\Users\\BHSU\\AppData\\Local\\Programs\\Python\\Python39\\lib\\site-packages\\openfl\\component\\collaborator\\collaborator.py#171\u001b\\\u001b[2m171\u001b[0m\u001b]8;;\u001b\\\n"
      ]
     },
     "metadata": {},
     "output_type": "display_data"
    }
   ],
   "source": [
    "#Run experiment, return trained FederatedModel\n",
    "final_fl_model = fx.run_experiment(collaborators,override_config={'aggregator.settings.rounds_to_train':5})"
   ]
  },
  {
   "cell_type": "code",
   "execution_count": 22,
   "id": "b1375074-5c51-4581-b784-05d3aafae7bf",
   "metadata": {},
   "outputs": [],
   "source": [
    "#Save final model and load into keras\n",
    "final_fl_model.save_native('final_model')\n",
    "model = tf.keras.models.load_model('./final_model')"
   ]
  },
  {
   "cell_type": "code",
   "execution_count": 23,
   "id": "ab5abf57-124a-4776-8470-1981916add3f",
   "metadata": {},
   "outputs": [
    {
     "name": "stdout",
     "output_type": "stream",
     "text": [
      "313/313 [==============================] - 0s 503us/step - loss: 0.1310 - accuracy: 0.9606\n"
     ]
    },
    {
     "data": {
      "text/plain": [
       "[0.13097089529037476, 0.9606000185012817]"
      ]
     },
     "execution_count": 23,
     "metadata": {},
     "output_type": "execute_result"
    }
   ],
   "source": [
    "#Test the final model on our test set\n",
    "model.evaluate(test_images,test_labels)"
   ]
  }
 ],
 "metadata": {
  "kernelspec": {
   "display_name": "Python 3 (ipykernel)",
   "language": "python",
   "name": "python3"
  },
  "language_info": {
   "codemirror_mode": {
    "name": "ipython",
    "version": 3
   },
   "file_extension": ".py",
   "mimetype": "text/x-python",
   "name": "python",
   "nbconvert_exporter": "python",
   "pygments_lexer": "ipython3",
   "version": "3.9.10"
  }
 },
 "nbformat": 4,
 "nbformat_minor": 5
}
