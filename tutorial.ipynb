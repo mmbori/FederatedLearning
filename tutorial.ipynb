{
 "cells": [
  {
   "cell_type": "code",
   "execution_count": 1,
   "id": "2c360b45-e83e-4017-b5a6-d59183b3458f",
   "metadata": {},
   "outputs": [],
   "source": [
    "import numpy as np\n",
    "import tensorflow as tf\n",
    "import tensorflow.keras as keras\n",
    "from tensorflow.keras import backend as K\n",
    "from tensorflow.keras import Sequential\n",
    "from tensorflow.keras.layers import Conv2D, Flatten, Dense\n",
    "from tensorflow.keras.utils import to_categorical\n",
    "from tensorflow.keras.datasets import mnist"
   ]
  },
  {
   "cell_type": "code",
   "execution_count": 2,
   "id": "eb0cdc3d-f8f5-4805-bfd8-ca49fd8f5960",
   "metadata": {},
   "outputs": [],
   "source": [
    "import openfl.native as fx\n",
    "from openfl.federated import FederatedModel,FederatedDataSet"
   ]
  },
  {
   "cell_type": "code",
   "execution_count": 3,
   "id": "98c6fe34-fcf6-4b9b-8228-88ca9b64f530",
   "metadata": {},
   "outputs": [
    {
     "name": "stdout",
     "output_type": "stream",
     "text": [
      "We are using Tensorflow version 2.8.4\n",
      "Intel-optimizations (DNNL) enabled: False\n"
     ]
    }
   ],
   "source": [
    "def test_intel_tensorflow() :\n",
    "    import tensorflow as tf\n",
    "    print(\"We are using Tensorflow version {}\".format(tf.__version__))\n",
    "    \n",
    "    major_version = int(tf.__version__.split(\".\")[0])\n",
    "    if major_version >= 2 :\n",
    "        from tensorflow.python.util import _pywrap_util_port\n",
    "        print(\"Intel-optimizations (DNNL) enabled:\", _pywrap_util_port.IsMklEnabled())\n",
    "    else :\n",
    "        print(\"Intel-optimizations  (DNNL) enabled:\")\n",
    "\n",
    "test_intel_tensorflow()"
   ]
  },
  {
   "cell_type": "code",
   "execution_count": 4,
   "id": "a29b6213-48d5-4cb6-b45c-597d728a8733",
   "metadata": {},
   "outputs": [
    {
     "name": "stdout",
     "output_type": "stream",
     "text": [
      "Creating Workspace Directories\n",
      "Creating Workspace Templates\n",
      "Successfully installed packages from C:\\Users\\BHSU\\.local\\workspace/requirements.txt.\n",
      "\n",
      "New workspace directory structure:\n",
      "workspace\n",
      "├── .workspace\n",
      "├── agg_to_col_one_signed_cert.zip\n",
      "├── agg_to_col_two_signed_cert.zip\n",
      "├── cert\n",
      "├── data\n",
      "├── final_model\n",
      "│   ├── assets\n",
      "│   ├── keras_metadata.pb\n",
      "│   ├── saved_model.pb\n",
      "│   └── variables\n",
      "│       ├── variables.data-00000-of-00001\n",
      "│       └── variables.index\n",
      "├── logs\n",
      "│   └── tensorboard\n",
      "│       ├── events.out.tfevents.1681111804.DESKTOP-8R9A5NI\n",
      "│       ├── events.out.tfevents.1681342139.DESKTOP-8R9A5NI\n",
      "│       └── events.out.tfevents.1681350384.DESKTOP-8R9A5NI\n",
      "├── plan\n",
      "│   ├── cols.yaml\n",
      "│   ├── data.yaml\n",
      "│   ├── defaults\n",
      "│   └── plan.yaml\n",
      "├── requirements.txt\n",
      "├── save\n",
      "│   ├── keras_cnn_mnist_best.pbuf\n",
      "│   ├── keras_cnn_mnist_init.pbuf\n",
      "│   └── keras_cnn_mnist_last.pbuf\n",
      "└── src\n",
      "    ├── keras_cnn.py\n",
      "    ├── mnist_utils.py\n",
      "    ├── tfmnist_inmemory.py\n",
      "    └── __init__.py\n",
      "\n",
      "10 directories, 22 files\n",
      "Setting Up Certificate Authority...\n",
      "\n",
      "1.  Create Root CA\n",
      "1.1 Create Directories\n",
      "1.2 Create Database\n",
      "1.3 Create CA Request and Certificate\n",
      "2.  Create Signing Certificate\n",
      "2.1 Create Directories\n",
      "2.2 Create Database\n",
      "2.3 Create Signing Certificate CSR\n",
      "2.4 Sign Signing Certificate CSR\n",
      "3   Create Certificate Chain\n",
      "\n",
      "Done.\n",
      "Creating AGGREGATOR certificate key pair with following settings: CN=\u001b[31mdesktop-8r9a5ni\u001b[0m, SAN=\u001b[31mDNS:desktop-8r9a5ni\u001b[0m\n",
      "  Writing AGGREGATOR certificate key pair to: \u001b[32mD:\\Jupyter\\OpenFL\\cert/server\u001b[0m\n",
      "The CSR Hash for file \u001b[32mserver/agg_desktop-8r9a5ni.csr\u001b[0m = \u001b[31m6f6119d84f0107f09ecfc50bb0e32e0b65f4e19bbfecb0606fd689af16aa878e09e187478e611664e261b0ec393e2310\u001b[0m\n",
      " Signing AGGREGATOR certificate\n",
      "Creating COLLABORATOR certificate key pair with following settings: CN=\u001b[31mone\u001b[0m, SAN=\u001b[31mDNS:one\u001b[0m\n",
      "  Moving COLLABORATOR certificate to: \u001b[32mD:\\Jupyter\\OpenFL\\cert/col_one\u001b[0m\n",
      "The CSR Hash for file \u001b[32mcol_one.csr\u001b[0m = \u001b[31m6e3dcbd1d2f3315b76d37be2e33ed8ec400a4a232cea3ed422b3ca78d4577525d6615f26db7adfa30de076b639e597ee\u001b[0m\n",
      " Signing COLLABORATOR certificate\n",
      "\n",
      "Registering \u001b[32mone\u001b[0m in \u001b[32mC:\\Users\\BHSU\\.local\\workspace\\plan\\cols.yaml\u001b[0m\n",
      "Creating COLLABORATOR certificate key pair with following settings: CN=\u001b[31mtwo\u001b[0m, SAN=\u001b[31mDNS:two\u001b[0m\n",
      "  Moving COLLABORATOR certificate to: \u001b[32mD:\\Jupyter\\OpenFL\\cert/col_two\u001b[0m\n",
      "The CSR Hash for file \u001b[32mcol_two.csr\u001b[0m = \u001b[31m6d06698a309320665487790f2de17cae067198beb64eb36f3ccd8f9cfee1b84d7cd03282095ac3edbaa09247b52479a4\u001b[0m\n",
      " Signing COLLABORATOR certificate\n",
      "\n",
      "Registering \u001b[32mtwo\u001b[0m in \u001b[32mC:\\Users\\BHSU\\.local\\workspace\\plan\\cols.yaml\u001b[0m\n"
     ]
    }
   ],
   "source": [
    "fx.init('keras_cnn_mnist')"
   ]
  },
  {
   "cell_type": "code",
   "execution_count": 5,
   "id": "966b7b7b-4a4b-4dc4-84cc-079435a2b7fa",
   "metadata": {},
   "outputs": [],
   "source": [
    "#Import and process training, validation, and test images/labels\n",
    "\n",
    "# Set the ratio of validation imgs, can't be 0.0\n",
    "VALID_PERCENT = 0.3\n",
    "\n",
    "(X_train, y_train), (X_test, y_test) = mnist.load_data()\n",
    "split_on = int((1 - VALID_PERCENT) * len(X_train))\n",
    "\n",
    "train_images = X_train[0:split_on,:,:]\n",
    "train_labels = to_categorical(y_train)[0:split_on,:]\n",
    "\n",
    "valid_images = X_train[split_on:,:,:]\n",
    "valid_labels = to_categorical(y_train)[split_on:,:]\n",
    "\n",
    "test_images = X_test\n",
    "test_labels = to_categorical(y_test)"
   ]
  },
  {
   "cell_type": "code",
   "execution_count": 6,
   "id": "ae95e9d5-86dc-4c4e-8fcc-996b3464189c",
   "metadata": {},
   "outputs": [],
   "source": [
    "def preprocess(images):\n",
    "    #Normalize\n",
    "    images = (images / 255) - 0.5\n",
    "    #Flatten\n",
    "    images = images.reshape((-1, 784))\n",
    "    return images\n",
    "\n",
    "# Preprocess the images.\n",
    "train_images = preprocess(train_images)\n",
    "valid_images = preprocess(valid_images)\n",
    "test_images = preprocess(test_images)\n",
    "\n",
    "feature_shape = train_images.shape[1]\n",
    "classes = 10\n",
    "\n",
    "fl_data = FederatedDataSet(train_images,train_labels,valid_images,valid_labels,batch_size=32,num_classes=classes)\n",
    "\n",
    "def build_model(feature_shape,classes):\n",
    "    #Defines the MNIST model\n",
    "    model = Sequential()\n",
    "    model.add(Dense(64, input_shape=feature_shape, activation='relu'))\n",
    "    model.add(Dense(64, activation='relu'))\n",
    "    model.add(Dense(classes, activation='softmax'))\n",
    "    \n",
    "    model.compile(optimizer='adam',loss='categorical_crossentropy',metrics=['accuracy'],)\n",
    "    return model"
   ]
  },
  {
   "cell_type": "code",
   "execution_count": 7,
   "id": "72d85eba-e4c8-442d-be68-01ce26f8e9e9",
   "metadata": {},
   "outputs": [],
   "source": [
    "#Create a federated model using the build model function and dataset\n",
    "fl_model = FederatedModel(build_model,data_loader=fl_data)"
   ]
  },
  {
   "cell_type": "code",
   "execution_count": 8,
   "id": "9df0db61-12d9-4445-96a2-ce2d414cf107",
   "metadata": {},
   "outputs": [],
   "source": [
    "collaborator_models = fl_model.setup(num_collaborators=2)\n",
    "collaborators = {'one':collaborator_models[0],'two':collaborator_models[1]}#, 'three':collaborator_models[2]}"
   ]
  },
  {
   "cell_type": "code",
   "execution_count": 9,
   "id": "b411ccb9-6007-4927-8503-e75546e547b3",
   "metadata": {},
   "outputs": [
    {
     "name": "stdout",
     "output_type": "stream",
     "text": [
      "{\n",
      "    \"aggregator.settings.best_state_path\": \"save/keras_cnn_mnist_best.pbuf\",\n",
      "    \"aggregator.settings.db_store_rounds\": 2,\n",
      "    \"aggregator.settings.init_state_path\": \"save/keras_cnn_mnist_init.pbuf\",\n",
      "    \"aggregator.settings.last_state_path\": \"save/keras_cnn_mnist_last.pbuf\",\n",
      "    \"aggregator.settings.rounds_to_train\": 10,\n",
      "    \"aggregator.settings.write_logs\": true,\n",
      "    \"aggregator.template\": \"openfl.component.Aggregator\",\n",
      "    \"assigner.settings.task_groups.0.name\": \"train_and_validate\",\n",
      "    \"assigner.settings.task_groups.0.percentage\": 1.0,\n",
      "    \"assigner.settings.task_groups.0.tasks.0\": \"aggregated_model_validation\",\n",
      "    \"assigner.settings.task_groups.0.tasks.1\": \"train\",\n",
      "    \"assigner.settings.task_groups.0.tasks.2\": \"locally_tuned_model_validation\",\n",
      "    \"assigner.template\": \"openfl.component.RandomGroupedAssigner\",\n",
      "    \"collaborator.settings.db_store_rounds\": 1,\n",
      "    \"collaborator.settings.delta_updates\": false,\n",
      "    \"collaborator.settings.opt_treatment\": \"RESET\",\n",
      "    \"collaborator.template\": \"openfl.component.Collaborator\",\n",
      "    \"compression_pipeline.settings\": {},\n",
      "    \"compression_pipeline.template\": \"openfl.pipelines.NoCompressionPipeline\",\n",
      "    \"data_loader.settings.batch_size\": 256,\n",
      "    \"data_loader.settings.collaborator_count\": 2,\n",
      "    \"data_loader.settings.data_group_name\": \"mnist\",\n",
      "    \"data_loader.template\": \"src.tfmnist_inmemory.TensorFlowMNISTInMemory\",\n",
      "    \"network.settings.agg_addr\": \"DESKTOP-8R9A5NI\",\n",
      "    \"network.settings.agg_port\": 60628,\n",
      "    \"network.settings.cert_folder\": \"cert\",\n",
      "    \"network.settings.client_reconnect_interval\": 5,\n",
      "    \"network.settings.disable_client_auth\": false,\n",
      "    \"network.settings.hash_salt\": \"auto\",\n",
      "    \"network.settings.tls\": true,\n",
      "    \"network.template\": \"openfl.federation.Network\",\n",
      "    \"task_runner.settings\": {},\n",
      "    \"task_runner.template\": \"src.keras_cnn.KerasCNN\",\n",
      "    \"tasks.aggregated_model_validation.function\": \"validate\",\n",
      "    \"tasks.aggregated_model_validation.kwargs.apply\": \"global\",\n",
      "    \"tasks.aggregated_model_validation.kwargs.batch_size\": 32,\n",
      "    \"tasks.aggregated_model_validation.kwargs.metrics.0\": \"accuracy\",\n",
      "    \"tasks.locally_tuned_model_validation.function\": \"validate\",\n",
      "    \"tasks.locally_tuned_model_validation.kwargs.apply\": \"local\",\n",
      "    \"tasks.locally_tuned_model_validation.kwargs.batch_size\": 32,\n",
      "    \"tasks.locally_tuned_model_validation.kwargs.metrics.0\": \"accuracy\",\n",
      "    \"tasks.settings\": {},\n",
      "    \"tasks.train.function\": \"train\",\n",
      "    \"tasks.train.kwargs.batch_size\": 32,\n",
      "    \"tasks.train.kwargs.epochs\": 1,\n",
      "    \"tasks.train.kwargs.metrics.0\": \"loss\"\n",
      "}\n"
     ]
    }
   ],
   "source": [
    "#Get the current values of the plan. Each of these can be overridden\n",
    "print(fx.get_plan())"
   ]
  },
  {
   "cell_type": "code",
   "execution_count": 10,
   "id": "540dde08-6310-4a9f-b5c2-b45e174943b7",
   "metadata": {},
   "outputs": [
    {
     "data": {
      "text/html": [
       "<pre style=\"white-space:pre;overflow-x:auto;line-height:normal;font-family:Menlo,'DejaVu Sans Mono',consolas,'Courier New',monospace\"><span style=\"color: #7fbfbf; text-decoration-color: #7fbfbf\">[09:22:33] </span><span style=\"color: #000080; text-decoration-color: #000080\">INFO    </span> Updating aggregator.settings.rounds_to_train to <span style=\"color: #008080; text-decoration-color: #008080; font-weight: bold\">5</span><span style=\"color: #808000; text-decoration-color: #808000\">...</span>                                                                           <a href=\"file://C:\\Users\\BHSU\\AppData\\Local\\Programs\\Python\\Python39\\lib\\site-packages\\openfl\\native\\native.py\" target=\"_blank\"><span style=\"color: #7f7f7f; text-decoration-color: #7f7f7f\">native.py</span></a><span style=\"color: #7f7f7f; text-decoration-color: #7f7f7f\">:</span><a href=\"file://C:\\Users\\BHSU\\AppData\\Local\\Programs\\Python\\Python39\\lib\\site-packages\\openfl\\native\\native.py#102\" target=\"_blank\"><span style=\"color: #7f7f7f; text-decoration-color: #7f7f7f\">102</span></a>\n",
       "</pre>\n"
      ],
      "text/plain": [
       "\u001b[2;36m[09:22:33]\u001b[0m\u001b[2;36m \u001b[0m\u001b[34mINFO    \u001b[0m Updating aggregator.settings.rounds_to_train to \u001b[1;36m5\u001b[0m\u001b[33m...\u001b[0m                                                                           \u001b]8;id=951704;file://C:\\Users\\BHSU\\AppData\\Local\\Programs\\Python\\Python39\\lib\\site-packages\\openfl\\native\\native.py\u001b\\\u001b[2mnative.py\u001b[0m\u001b]8;;\u001b\\\u001b[2m:\u001b[0m\u001b]8;id=521735;file://C:\\Users\\BHSU\\AppData\\Local\\Programs\\Python\\Python39\\lib\\site-packages\\openfl\\native\\native.py#102\u001b\\\u001b[2m102\u001b[0m\u001b]8;;\u001b\\\n"
      ]
     },
     "metadata": {},
     "output_type": "display_data"
    },
    {
     "data": {
      "text/html": [
       "<pre style=\"white-space:pre;overflow-x:auto;line-height:normal;font-family:Menlo,'DejaVu Sans Mono',consolas,'Courier New',monospace\"><span style=\"color: #7fbfbf; text-decoration-color: #7fbfbf\">           </span><span style=\"color: #000080; text-decoration-color: #000080\">INFO    </span> FL-Plan hash is <span style=\"color: #000080; text-decoration-color: #000080\">3038ce92442cac7666b80fc10e51468e5e5adcc0b61540dc858ee7d85c8b0c885c2cc942842464f636d17c74cb36ced1</span>                 <a href=\"file://C:\\Users\\BHSU\\AppData\\Local\\Programs\\Python\\Python39\\lib\\site-packages\\openfl\\federated\\plan\\plan.py\" target=\"_blank\"><span style=\"color: #7f7f7f; text-decoration-color: #7f7f7f\">plan.py</span></a><span style=\"color: #7f7f7f; text-decoration-color: #7f7f7f\">:</span><a href=\"file://C:\\Users\\BHSU\\AppData\\Local\\Programs\\Python\\Python39\\lib\\site-packages\\openfl\\federated\\plan\\plan.py#235\" target=\"_blank\"><span style=\"color: #7f7f7f; text-decoration-color: #7f7f7f\">235</span></a>\n",
       "</pre>\n"
      ],
      "text/plain": [
       "\u001b[2;36m          \u001b[0m\u001b[2;36m \u001b[0m\u001b[34mINFO    \u001b[0m FL-Plan hash is \u001b[34m3038ce92442cac7666b80fc10e51468e5e5adcc0b61540dc858ee7d85c8b0c885c2cc942842464f636d17c74cb36ced1\u001b[0m                 \u001b]8;id=156592;file://C:\\Users\\BHSU\\AppData\\Local\\Programs\\Python\\Python39\\lib\\site-packages\\openfl\\federated\\plan\\plan.py\u001b\\\u001b[2mplan.py\u001b[0m\u001b]8;;\u001b\\\u001b[2m:\u001b[0m\u001b]8;id=969074;file://C:\\Users\\BHSU\\AppData\\Local\\Programs\\Python\\Python39\\lib\\site-packages\\openfl\\federated\\plan\\plan.py#235\u001b\\\u001b[2m235\u001b[0m\u001b]8;;\u001b\\\n"
      ]
     },
     "metadata": {},
     "output_type": "display_data"
    },
    {
     "data": {
      "text/html": [
       "<pre style=\"white-space:pre;overflow-x:auto;line-height:normal;font-family:Menlo,'DejaVu Sans Mono',consolas,'Courier New',monospace\"><span style=\"color: #7fbfbf; text-decoration-color: #7fbfbf\">           </span><span style=\"color: #000080; text-decoration-color: #000080\">INFO    </span> Building <span style=\"color: #800000; text-decoration-color: #800000\">🡆</span> Object <span style=\"color: #800000; text-decoration-color: #800000\">NoCompressionPipeline</span> from <span style=\"color: #800000; text-decoration-color: #800000\">openfl.pipelines</span> Module.                                                            <a href=\"file://C:\\Users\\BHSU\\AppData\\Local\\Programs\\Python\\Python39\\lib\\site-packages\\openfl\\federated\\plan\\plan.py\" target=\"_blank\"><span style=\"color: #7f7f7f; text-decoration-color: #7f7f7f\">plan.py</span></a><span style=\"color: #7f7f7f; text-decoration-color: #7f7f7f\">:</span><a href=\"file://C:\\Users\\BHSU\\AppData\\Local\\Programs\\Python\\Python39\\lib\\site-packages\\openfl\\federated\\plan\\plan.py#171\" target=\"_blank\"><span style=\"color: #7f7f7f; text-decoration-color: #7f7f7f\">171</span></a>\n",
       "</pre>\n"
      ],
      "text/plain": [
       "\u001b[2;36m          \u001b[0m\u001b[2;36m \u001b[0m\u001b[34mINFO    \u001b[0m Building \u001b[31m🡆\u001b[0m Object \u001b[31mNoCompressionPipeline\u001b[0m from \u001b[31mopenfl.pipelines\u001b[0m Module.                                                            \u001b]8;id=971272;file://C:\\Users\\BHSU\\AppData\\Local\\Programs\\Python\\Python39\\lib\\site-packages\\openfl\\federated\\plan\\plan.py\u001b\\\u001b[2mplan.py\u001b[0m\u001b]8;;\u001b\\\u001b[2m:\u001b[0m\u001b]8;id=839358;file://C:\\Users\\BHSU\\AppData\\Local\\Programs\\Python\\Python39\\lib\\site-packages\\openfl\\federated\\plan\\plan.py#171\u001b\\\u001b[2m171\u001b[0m\u001b]8;;\u001b\\\n"
      ]
     },
     "metadata": {},
     "output_type": "display_data"
    },
    {
     "data": {
      "text/html": [
       "<pre style=\"white-space:pre;overflow-x:auto;line-height:normal;font-family:Menlo,'DejaVu Sans Mono',consolas,'Courier New',monospace\"><span style=\"color: #7fbfbf; text-decoration-color: #7fbfbf\">           </span><span style=\"color: #000080; text-decoration-color: #000080\">INFO    </span> Creating Initial Weights File    🠆 save/keras_cnn_mnist_init.pbuf                                                              <a href=\"file://C:\\Users\\BHSU\\AppData\\Local\\Programs\\Python\\Python39\\lib\\site-packages\\openfl\\native\\native.py\" target=\"_blank\"><span style=\"color: #7f7f7f; text-decoration-color: #7f7f7f\">native.py</span></a><span style=\"color: #7f7f7f; text-decoration-color: #7f7f7f\">:</span><a href=\"file://C:\\Users\\BHSU\\AppData\\Local\\Programs\\Python\\Python39\\lib\\site-packages\\openfl\\native\\native.py#277\" target=\"_blank\"><span style=\"color: #7f7f7f; text-decoration-color: #7f7f7f\">277</span></a>\n",
       "</pre>\n"
      ],
      "text/plain": [
       "\u001b[2;36m          \u001b[0m\u001b[2;36m \u001b[0m\u001b[34mINFO    \u001b[0m Creating Initial Weights File    🠆 save/keras_cnn_mnist_init.pbuf                                                              \u001b]8;id=478911;file://C:\\Users\\BHSU\\AppData\\Local\\Programs\\Python\\Python39\\lib\\site-packages\\openfl\\native\\native.py\u001b\\\u001b[2mnative.py\u001b[0m\u001b]8;;\u001b\\\u001b[2m:\u001b[0m\u001b]8;id=893331;file://C:\\Users\\BHSU\\AppData\\Local\\Programs\\Python\\Python39\\lib\\site-packages\\openfl\\native\\native.py#277\u001b\\\u001b[2m277\u001b[0m\u001b]8;;\u001b\\\n"
      ]
     },
     "metadata": {},
     "output_type": "display_data"
    },
    {
     "data": {
      "text/html": [
       "<pre style=\"white-space:pre;overflow-x:auto;line-height:normal;font-family:Menlo,'DejaVu Sans Mono',consolas,'Courier New',monospace\"><span style=\"color: #7fbfbf; text-decoration-color: #7fbfbf\">           </span><span style=\"color: #000080; text-decoration-color: #000080\">INFO    </span> Starting Experiment<span style=\"color: #808000; text-decoration-color: #808000\">...</span>                                                                                                         <a href=\"file://C:\\Users\\BHSU\\AppData\\Local\\Programs\\Python\\Python39\\lib\\site-packages\\openfl\\native\\native.py\" target=\"_blank\"><span style=\"color: #7f7f7f; text-decoration-color: #7f7f7f\">native.py</span></a><span style=\"color: #7f7f7f; text-decoration-color: #7f7f7f\">:</span><a href=\"file://C:\\Users\\BHSU\\AppData\\Local\\Programs\\Python\\Python39\\lib\\site-packages\\openfl\\native\\native.py#281\" target=\"_blank\"><span style=\"color: #7f7f7f; text-decoration-color: #7f7f7f\">281</span></a>\n",
       "</pre>\n"
      ],
      "text/plain": [
       "\u001b[2;36m          \u001b[0m\u001b[2;36m \u001b[0m\u001b[34mINFO    \u001b[0m Starting Experiment\u001b[33m...\u001b[0m                                                                                                         \u001b]8;id=466922;file://C:\\Users\\BHSU\\AppData\\Local\\Programs\\Python\\Python39\\lib\\site-packages\\openfl\\native\\native.py\u001b\\\u001b[2mnative.py\u001b[0m\u001b]8;;\u001b\\\u001b[2m:\u001b[0m\u001b]8;id=585571;file://C:\\Users\\BHSU\\AppData\\Local\\Programs\\Python\\Python39\\lib\\site-packages\\openfl\\native\\native.py#281\u001b\\\u001b[2m281\u001b[0m\u001b]8;;\u001b\\\n"
      ]
     },
     "metadata": {},
     "output_type": "display_data"
    },
    {
     "data": {
      "text/html": [
       "<pre style=\"white-space:pre;overflow-x:auto;line-height:normal;font-family:Menlo,'DejaVu Sans Mono',consolas,'Courier New',monospace\"><span style=\"color: #7fbfbf; text-decoration-color: #7fbfbf\">           </span><span style=\"color: #000080; text-decoration-color: #000080\">INFO    </span> Building <span style=\"color: #800000; text-decoration-color: #800000\">🡆</span> Object <span style=\"color: #800000; text-decoration-color: #800000\">RandomGroupedAssigner</span> from <span style=\"color: #800000; text-decoration-color: #800000\">openfl.component</span> Module.                                                            <a href=\"file://C:\\Users\\BHSU\\AppData\\Local\\Programs\\Python\\Python39\\lib\\site-packages\\openfl\\federated\\plan\\plan.py\" target=\"_blank\"><span style=\"color: #7f7f7f; text-decoration-color: #7f7f7f\">plan.py</span></a><span style=\"color: #7f7f7f; text-decoration-color: #7f7f7f\">:</span><a href=\"file://C:\\Users\\BHSU\\AppData\\Local\\Programs\\Python\\Python39\\lib\\site-packages\\openfl\\federated\\plan\\plan.py#171\" target=\"_blank\"><span style=\"color: #7f7f7f; text-decoration-color: #7f7f7f\">171</span></a>\n",
       "</pre>\n"
      ],
      "text/plain": [
       "\u001b[2;36m          \u001b[0m\u001b[2;36m \u001b[0m\u001b[34mINFO    \u001b[0m Building \u001b[31m🡆\u001b[0m Object \u001b[31mRandomGroupedAssigner\u001b[0m from \u001b[31mopenfl.component\u001b[0m Module.                                                            \u001b]8;id=771746;file://C:\\Users\\BHSU\\AppData\\Local\\Programs\\Python\\Python39\\lib\\site-packages\\openfl\\federated\\plan\\plan.py\u001b\\\u001b[2mplan.py\u001b[0m\u001b]8;;\u001b\\\u001b[2m:\u001b[0m\u001b]8;id=525184;file://C:\\Users\\BHSU\\AppData\\Local\\Programs\\Python\\Python39\\lib\\site-packages\\openfl\\federated\\plan\\plan.py#171\u001b\\\u001b[2m171\u001b[0m\u001b]8;;\u001b\\\n"
      ]
     },
     "metadata": {},
     "output_type": "display_data"
    },
    {
     "data": {
      "text/html": [
       "<pre style=\"white-space:pre;overflow-x:auto;line-height:normal;font-family:Menlo,'DejaVu Sans Mono',consolas,'Courier New',monospace\"><span style=\"color: #7fbfbf; text-decoration-color: #7fbfbf\">           </span><span style=\"color: #000080; text-decoration-color: #000080\">INFO    </span> Building <span style=\"color: #800000; text-decoration-color: #800000\">🡆</span> Object <span style=\"color: #800000; text-decoration-color: #800000\">CutoffTimeBasedStragglerHandling</span> from <span style=\"color: #800000; text-decoration-color: #800000\">openfl.component.straggler_handling_functions</span> Module.                    <a href=\"file://C:\\Users\\BHSU\\AppData\\Local\\Programs\\Python\\Python39\\lib\\site-packages\\openfl\\federated\\plan\\plan.py\" target=\"_blank\"><span style=\"color: #7f7f7f; text-decoration-color: #7f7f7f\">plan.py</span></a><span style=\"color: #7f7f7f; text-decoration-color: #7f7f7f\">:</span><a href=\"file://C:\\Users\\BHSU\\AppData\\Local\\Programs\\Python\\Python39\\lib\\site-packages\\openfl\\federated\\plan\\plan.py#171\" target=\"_blank\"><span style=\"color: #7f7f7f; text-decoration-color: #7f7f7f\">171</span></a>\n",
       "</pre>\n"
      ],
      "text/plain": [
       "\u001b[2;36m          \u001b[0m\u001b[2;36m \u001b[0m\u001b[34mINFO    \u001b[0m Building \u001b[31m🡆\u001b[0m Object \u001b[31mCutoffTimeBasedStragglerHandling\u001b[0m from \u001b[31mopenfl.component.straggler_handling_functions\u001b[0m Module.                    \u001b]8;id=941938;file://C:\\Users\\BHSU\\AppData\\Local\\Programs\\Python\\Python39\\lib\\site-packages\\openfl\\federated\\plan\\plan.py\u001b\\\u001b[2mplan.py\u001b[0m\u001b]8;;\u001b\\\u001b[2m:\u001b[0m\u001b]8;id=11028;file://C:\\Users\\BHSU\\AppData\\Local\\Programs\\Python\\Python39\\lib\\site-packages\\openfl\\federated\\plan\\plan.py#171\u001b\\\u001b[2m171\u001b[0m\u001b]8;;\u001b\\\n"
      ]
     },
     "metadata": {},
     "output_type": "display_data"
    },
    {
     "data": {
      "text/html": [
       "<pre style=\"white-space:pre;overflow-x:auto;line-height:normal;font-family:Menlo,'DejaVu Sans Mono',consolas,'Courier New',monospace\"><span style=\"color: #7fbfbf; text-decoration-color: #7fbfbf\">           </span><span style=\"color: #000080; text-decoration-color: #000080\">INFO    </span> Building <span style=\"color: #800000; text-decoration-color: #800000\">🡆</span> Object <span style=\"color: #800000; text-decoration-color: #800000\">Aggregator</span> from <span style=\"color: #800000; text-decoration-color: #800000\">openfl.component</span> Module.                                                                       <a href=\"file://C:\\Users\\BHSU\\AppData\\Local\\Programs\\Python\\Python39\\lib\\site-packages\\openfl\\federated\\plan\\plan.py\" target=\"_blank\"><span style=\"color: #7f7f7f; text-decoration-color: #7f7f7f\">plan.py</span></a><span style=\"color: #7f7f7f; text-decoration-color: #7f7f7f\">:</span><a href=\"file://C:\\Users\\BHSU\\AppData\\Local\\Programs\\Python\\Python39\\lib\\site-packages\\openfl\\federated\\plan\\plan.py#171\" target=\"_blank\"><span style=\"color: #7f7f7f; text-decoration-color: #7f7f7f\">171</span></a>\n",
       "</pre>\n"
      ],
      "text/plain": [
       "\u001b[2;36m          \u001b[0m\u001b[2;36m \u001b[0m\u001b[34mINFO    \u001b[0m Building \u001b[31m🡆\u001b[0m Object \u001b[31mAggregator\u001b[0m from \u001b[31mopenfl.component\u001b[0m Module.                                                                       \u001b]8;id=950525;file://C:\\Users\\BHSU\\AppData\\Local\\Programs\\Python\\Python39\\lib\\site-packages\\openfl\\federated\\plan\\plan.py\u001b\\\u001b[2mplan.py\u001b[0m\u001b]8;;\u001b\\\u001b[2m:\u001b[0m\u001b]8;id=364139;file://C:\\Users\\BHSU\\AppData\\Local\\Programs\\Python\\Python39\\lib\\site-packages\\openfl\\federated\\plan\\plan.py#171\u001b\\\u001b[2m171\u001b[0m\u001b]8;;\u001b\\\n"
      ]
     },
     "metadata": {},
     "output_type": "display_data"
    },
    {
     "data": {
      "text/html": [
       "<pre style=\"white-space:pre;overflow-x:auto;line-height:normal;font-family:Menlo,'DejaVu Sans Mono',consolas,'Courier New',monospace\"><span style=\"color: #7fbfbf; text-decoration-color: #7fbfbf\">           </span><span style=\"color: #000080; text-decoration-color: #000080\">INFO    </span> Building <span style=\"color: #800000; text-decoration-color: #800000\">🡆</span> Object <span style=\"color: #800000; text-decoration-color: #800000\">Collaborator</span> from <span style=\"color: #800000; text-decoration-color: #800000\">openfl.component</span> Module.                                                                     <a href=\"file://C:\\Users\\BHSU\\AppData\\Local\\Programs\\Python\\Python39\\lib\\site-packages\\openfl\\federated\\plan\\plan.py\" target=\"_blank\"><span style=\"color: #7f7f7f; text-decoration-color: #7f7f7f\">plan.py</span></a><span style=\"color: #7f7f7f; text-decoration-color: #7f7f7f\">:</span><a href=\"file://C:\\Users\\BHSU\\AppData\\Local\\Programs\\Python\\Python39\\lib\\site-packages\\openfl\\federated\\plan\\plan.py#171\" target=\"_blank\"><span style=\"color: #7f7f7f; text-decoration-color: #7f7f7f\">171</span></a>\n",
       "</pre>\n"
      ],
      "text/plain": [
       "\u001b[2;36m          \u001b[0m\u001b[2;36m \u001b[0m\u001b[34mINFO    \u001b[0m Building \u001b[31m🡆\u001b[0m Object \u001b[31mCollaborator\u001b[0m from \u001b[31mopenfl.component\u001b[0m Module.                                                                     \u001b]8;id=446686;file://C:\\Users\\BHSU\\AppData\\Local\\Programs\\Python\\Python39\\lib\\site-packages\\openfl\\federated\\plan\\plan.py\u001b\\\u001b[2mplan.py\u001b[0m\u001b]8;;\u001b\\\u001b[2m:\u001b[0m\u001b]8;id=971997;file://C:\\Users\\BHSU\\AppData\\Local\\Programs\\Python\\Python39\\lib\\site-packages\\openfl\\federated\\plan\\plan.py#171\u001b\\\u001b[2m171\u001b[0m\u001b]8;;\u001b\\\n"
      ]
     },
     "metadata": {},
     "output_type": "display_data"
    },
    {
     "data": {
      "text/html": [
       "<pre style=\"white-space:pre;overflow-x:auto;line-height:normal;font-family:Menlo,'DejaVu Sans Mono',consolas,'Courier New',monospace\"><span style=\"color: #7fbfbf; text-decoration-color: #7fbfbf\">           </span><span style=\"color: #000080; text-decoration-color: #000080\">INFO    </span> Building <span style=\"color: #800000; text-decoration-color: #800000\">🡆</span> Object <span style=\"color: #800000; text-decoration-color: #800000\">Collaborator</span> from <span style=\"color: #800000; text-decoration-color: #800000\">openfl.component</span> Module.                                                                     <a href=\"file://C:\\Users\\BHSU\\AppData\\Local\\Programs\\Python\\Python39\\lib\\site-packages\\openfl\\federated\\plan\\plan.py\" target=\"_blank\"><span style=\"color: #7f7f7f; text-decoration-color: #7f7f7f\">plan.py</span></a><span style=\"color: #7f7f7f; text-decoration-color: #7f7f7f\">:</span><a href=\"file://C:\\Users\\BHSU\\AppData\\Local\\Programs\\Python\\Python39\\lib\\site-packages\\openfl\\federated\\plan\\plan.py#171\" target=\"_blank\"><span style=\"color: #7f7f7f; text-decoration-color: #7f7f7f\">171</span></a>\n",
       "</pre>\n"
      ],
      "text/plain": [
       "\u001b[2;36m          \u001b[0m\u001b[2;36m \u001b[0m\u001b[34mINFO    \u001b[0m Building \u001b[31m🡆\u001b[0m Object \u001b[31mCollaborator\u001b[0m from \u001b[31mopenfl.component\u001b[0m Module.                                                                     \u001b]8;id=166559;file://C:\\Users\\BHSU\\AppData\\Local\\Programs\\Python\\Python39\\lib\\site-packages\\openfl\\federated\\plan\\plan.py\u001b\\\u001b[2mplan.py\u001b[0m\u001b]8;;\u001b\\\u001b[2m:\u001b[0m\u001b]8;id=57094;file://C:\\Users\\BHSU\\AppData\\Local\\Programs\\Python\\Python39\\lib\\site-packages\\openfl\\federated\\plan\\plan.py#171\u001b\\\u001b[2m171\u001b[0m\u001b]8;;\u001b\\\n"
      ]
     },
     "metadata": {},
     "output_type": "display_data"
    },
    {
     "data": {
      "text/html": [
       "<pre style=\"white-space:pre;overflow-x:auto;line-height:normal;font-family:Menlo,'DejaVu Sans Mono',consolas,'Courier New',monospace\"><span style=\"color: #7fbfbf; text-decoration-color: #7fbfbf\">           </span><span style=\"color: #000080; text-decoration-color: #000080\">INFO    </span> Waiting for tasks<span style=\"color: #808000; text-decoration-color: #808000\">...</span>                                                                                                     <a href=\"file://C:\\Users\\BHSU\\AppData\\Local\\Programs\\Python\\Python39\\lib\\site-packages\\openfl\\component\\collaborator\\collaborator.py\" target=\"_blank\"><span style=\"color: #7f7f7f; text-decoration-color: #7f7f7f\">collaborator.py</span></a><span style=\"color: #7f7f7f; text-decoration-color: #7f7f7f\">:</span><a href=\"file://C:\\Users\\BHSU\\AppData\\Local\\Programs\\Python\\Python39\\lib\\site-packages\\openfl\\component\\collaborator\\collaborator.py#178\" target=\"_blank\"><span style=\"color: #7f7f7f; text-decoration-color: #7f7f7f\">178</span></a>\n",
       "</pre>\n"
      ],
      "text/plain": [
       "\u001b[2;36m          \u001b[0m\u001b[2;36m \u001b[0m\u001b[34mINFO    \u001b[0m Waiting for tasks\u001b[33m...\u001b[0m                                                                                                     \u001b]8;id=723165;file://C:\\Users\\BHSU\\AppData\\Local\\Programs\\Python\\Python39\\lib\\site-packages\\openfl\\component\\collaborator\\collaborator.py\u001b\\\u001b[2mcollaborator.py\u001b[0m\u001b]8;;\u001b\\\u001b[2m:\u001b[0m\u001b]8;id=593634;file://C:\\Users\\BHSU\\AppData\\Local\\Programs\\Python\\Python39\\lib\\site-packages\\openfl\\component\\collaborator\\collaborator.py#178\u001b\\\u001b[2m178\u001b[0m\u001b]8;;\u001b\\\n"
      ]
     },
     "metadata": {},
     "output_type": "display_data"
    },
    {
     "data": {
      "text/html": [
       "<pre style=\"white-space:pre;overflow-x:auto;line-height:normal;font-family:Menlo,'DejaVu Sans Mono',consolas,'Courier New',monospace\"><span style=\"color: #7fbfbf; text-decoration-color: #7fbfbf\">           </span><span style=\"color: #000080; text-decoration-color: #000080\">INFO    </span> Sending tasks to collaborator one for round <span style=\"color: #008080; text-decoration-color: #008080; font-weight: bold\">0</span>                                                                              <a href=\"file://C:\\Users\\BHSU\\AppData\\Local\\Programs\\Python\\Python39\\lib\\site-packages\\openfl\\component\\aggregator\\aggregator.py\" target=\"_blank\"><span style=\"color: #7f7f7f; text-decoration-color: #7f7f7f\">aggregator.py</span></a><span style=\"color: #7f7f7f; text-decoration-color: #7f7f7f\">:</span><a href=\"file://C:\\Users\\BHSU\\AppData\\Local\\Programs\\Python\\Python39\\lib\\site-packages\\openfl\\component\\aggregator\\aggregator.py#329\" target=\"_blank\"><span style=\"color: #7f7f7f; text-decoration-color: #7f7f7f\">329</span></a>\n",
       "</pre>\n"
      ],
      "text/plain": [
       "\u001b[2;36m          \u001b[0m\u001b[2;36m \u001b[0m\u001b[34mINFO    \u001b[0m Sending tasks to collaborator one for round \u001b[1;36m0\u001b[0m                                                                              \u001b]8;id=904974;file://C:\\Users\\BHSU\\AppData\\Local\\Programs\\Python\\Python39\\lib\\site-packages\\openfl\\component\\aggregator\\aggregator.py\u001b\\\u001b[2maggregator.py\u001b[0m\u001b]8;;\u001b\\\u001b[2m:\u001b[0m\u001b]8;id=95680;file://C:\\Users\\BHSU\\AppData\\Local\\Programs\\Python\\Python39\\lib\\site-packages\\openfl\\component\\aggregator\\aggregator.py#329\u001b\\\u001b[2m329\u001b[0m\u001b]8;;\u001b\\\n"
      ]
     },
     "metadata": {},
     "output_type": "display_data"
    },
    {
     "data": {
      "text/html": [
       "<pre style=\"white-space:pre;overflow-x:auto;line-height:normal;font-family:Menlo,'DejaVu Sans Mono',consolas,'Courier New',monospace\"><span style=\"color: #7fbfbf; text-decoration-color: #7fbfbf\">           </span><span style=\"color: #000080; text-decoration-color: #000080\">INFO    </span> Received the following tasks: <span style=\"font-weight: bold\">[</span><span style=\"color: #008000; text-decoration-color: #008000\">'aggregated_model_validation'</span>, <span style=\"color: #008000; text-decoration-color: #008000\">'train'</span>, <span style=\"color: #008000; text-decoration-color: #008000\">'locally_tuned_model_validation'</span><span style=\"font-weight: bold\">]</span>                 <a href=\"file://C:\\Users\\BHSU\\AppData\\Local\\Programs\\Python\\Python39\\lib\\site-packages\\openfl\\component\\collaborator\\collaborator.py\" target=\"_blank\"><span style=\"color: #7f7f7f; text-decoration-color: #7f7f7f\">collaborator.py</span></a><span style=\"color: #7f7f7f; text-decoration-color: #7f7f7f\">:</span><a href=\"file://C:\\Users\\BHSU\\AppData\\Local\\Programs\\Python\\Python39\\lib\\site-packages\\openfl\\component\\collaborator\\collaborator.py#168\" target=\"_blank\"><span style=\"color: #7f7f7f; text-decoration-color: #7f7f7f\">168</span></a>\n",
       "</pre>\n"
      ],
      "text/plain": [
       "\u001b[2;36m          \u001b[0m\u001b[2;36m \u001b[0m\u001b[34mINFO    \u001b[0m Received the following tasks: \u001b[1m[\u001b[0m\u001b[32m'aggregated_model_validation'\u001b[0m, \u001b[32m'train'\u001b[0m, \u001b[32m'locally_tuned_model_validation'\u001b[0m\u001b[1m]\u001b[0m                 \u001b]8;id=475848;file://C:\\Users\\BHSU\\AppData\\Local\\Programs\\Python\\Python39\\lib\\site-packages\\openfl\\component\\collaborator\\collaborator.py\u001b\\\u001b[2mcollaborator.py\u001b[0m\u001b]8;;\u001b\\\u001b[2m:\u001b[0m\u001b]8;id=714259;file://C:\\Users\\BHSU\\AppData\\Local\\Programs\\Python\\Python39\\lib\\site-packages\\openfl\\component\\collaborator\\collaborator.py#168\u001b\\\u001b[2m168\u001b[0m\u001b]8;;\u001b\\\n"
      ]
     },
     "metadata": {},
     "output_type": "display_data"
    },
    {
     "data": {
      "text/html": [
       "<pre style=\"white-space:pre;overflow-x:auto;line-height:normal;font-family:Menlo,'DejaVu Sans Mono',consolas,'Courier New',monospace\"><span style=\"color: #7fbfbf; text-decoration-color: #7fbfbf\">           </span><span style=\"color: #000080; text-decoration-color: #000080\">INFO    </span> Using TaskRunner subclassing API                                                                                         <a href=\"file://C:\\Users\\BHSU\\AppData\\Local\\Programs\\Python\\Python39\\lib\\site-packages\\openfl\\component\\collaborator\\collaborator.py\" target=\"_blank\"><span style=\"color: #7f7f7f; text-decoration-color: #7f7f7f\">collaborator.py</span></a><span style=\"color: #7f7f7f; text-decoration-color: #7f7f7f\">:</span><a href=\"file://C:\\Users\\BHSU\\AppData\\Local\\Programs\\Python\\Python39\\lib\\site-packages\\openfl\\component\\collaborator\\collaborator.py#253\" target=\"_blank\"><span style=\"color: #7f7f7f; text-decoration-color: #7f7f7f\">253</span></a>\n",
       "</pre>\n"
      ],
      "text/plain": [
       "\u001b[2;36m          \u001b[0m\u001b[2;36m \u001b[0m\u001b[34mINFO    \u001b[0m Using TaskRunner subclassing API                                                                                         \u001b]8;id=710174;file://C:\\Users\\BHSU\\AppData\\Local\\Programs\\Python\\Python39\\lib\\site-packages\\openfl\\component\\collaborator\\collaborator.py\u001b\\\u001b[2mcollaborator.py\u001b[0m\u001b]8;;\u001b\\\u001b[2m:\u001b[0m\u001b]8;id=572715;file://C:\\Users\\BHSU\\AppData\\Local\\Programs\\Python\\Python39\\lib\\site-packages\\openfl\\component\\collaborator\\collaborator.py#253\u001b\\\u001b[2m253\u001b[0m\u001b]8;;\u001b\\\n"
      ]
     },
     "metadata": {},
     "output_type": "display_data"
    },
    {
     "name": "stdout",
     "output_type": "stream",
     "text": [
      "282/282 [==============================] - 1s 3ms/step - loss: 2.3283 - accuracy: 0.1287\n"
     ]
    },
    {
     "data": {
      "text/html": [
       "<pre style=\"white-space:pre;overflow-x:auto;line-height:normal;font-family:Menlo,'DejaVu Sans Mono',consolas,'Courier New',monospace\"><span style=\"color: #7fbfbf; text-decoration-color: #7fbfbf\">[09:22:34] </span>METRIC   Round <span style=\"color: #008080; text-decoration-color: #008080; font-weight: bold\">0</span>, collaborator one is sending metric for task aggregated_model_validation: accuracy      <span style=\"color: #008080; text-decoration-color: #008080; font-weight: bold\">0.128667</span>                 <a href=\"file://C:\\Users\\BHSU\\AppData\\Local\\Programs\\Python\\Python39\\lib\\site-packages\\openfl\\component\\collaborator\\collaborator.py\" target=\"_blank\"><span style=\"color: #7f7f7f; text-decoration-color: #7f7f7f\">collaborator.py</span></a><span style=\"color: #7f7f7f; text-decoration-color: #7f7f7f\">:</span><a href=\"file://C:\\Users\\BHSU\\AppData\\Local\\Programs\\Python\\Python39\\lib\\site-packages\\openfl\\component\\collaborator\\collaborator.py#415\" target=\"_blank\"><span style=\"color: #7f7f7f; text-decoration-color: #7f7f7f\">415</span></a>\n",
       "</pre>\n"
      ],
      "text/plain": [
       "\u001b[2;36m[09:22:34]\u001b[0m\u001b[2;36m \u001b[0mMETRIC   Round \u001b[1;36m0\u001b[0m, collaborator one is sending metric for task aggregated_model_validation: accuracy      \u001b[1;36m0.128667\u001b[0m                 \u001b]8;id=107682;file://C:\\Users\\BHSU\\AppData\\Local\\Programs\\Python\\Python39\\lib\\site-packages\\openfl\\component\\collaborator\\collaborator.py\u001b\\\u001b[2mcollaborator.py\u001b[0m\u001b]8;;\u001b\\\u001b[2m:\u001b[0m\u001b]8;id=45353;file://C:\\Users\\BHSU\\AppData\\Local\\Programs\\Python\\Python39\\lib\\site-packages\\openfl\\component\\collaborator\\collaborator.py#415\u001b\\\u001b[2m415\u001b[0m\u001b]8;;\u001b\\\n"
      ]
     },
     "metadata": {},
     "output_type": "display_data"
    },
    {
     "data": {
      "text/html": [
       "<pre style=\"white-space:pre;overflow-x:auto;line-height:normal;font-family:Menlo,'DejaVu Sans Mono',consolas,'Courier New',monospace\"><span style=\"color: #7fbfbf; text-decoration-color: #7fbfbf\">           </span><span style=\"color: #000080; text-decoration-color: #000080\">INFO    </span> Collaborator one is sending task results for aggregated_model_validation, round <span style=\"color: #008080; text-decoration-color: #008080; font-weight: bold\">0</span>                                          <a href=\"file://C:\\Users\\BHSU\\AppData\\Local\\Programs\\Python\\Python39\\lib\\site-packages\\openfl\\component\\aggregator\\aggregator.py\" target=\"_blank\"><span style=\"color: #7f7f7f; text-decoration-color: #7f7f7f\">aggregator.py</span></a><span style=\"color: #7f7f7f; text-decoration-color: #7f7f7f\">:</span><a href=\"file://C:\\Users\\BHSU\\AppData\\Local\\Programs\\Python\\Python39\\lib\\site-packages\\openfl\\component\\aggregator\\aggregator.py#520\" target=\"_blank\"><span style=\"color: #7f7f7f; text-decoration-color: #7f7f7f\">520</span></a>\n",
       "</pre>\n"
      ],
      "text/plain": [
       "\u001b[2;36m          \u001b[0m\u001b[2;36m \u001b[0m\u001b[34mINFO    \u001b[0m Collaborator one is sending task results for aggregated_model_validation, round \u001b[1;36m0\u001b[0m                                          \u001b]8;id=11590;file://C:\\Users\\BHSU\\AppData\\Local\\Programs\\Python\\Python39\\lib\\site-packages\\openfl\\component\\aggregator\\aggregator.py\u001b\\\u001b[2maggregator.py\u001b[0m\u001b]8;;\u001b\\\u001b[2m:\u001b[0m\u001b]8;id=470531;file://C:\\Users\\BHSU\\AppData\\Local\\Programs\\Python\\Python39\\lib\\site-packages\\openfl\\component\\aggregator\\aggregator.py#520\u001b\\\u001b[2m520\u001b[0m\u001b]8;;\u001b\\\n"
      ]
     },
     "metadata": {},
     "output_type": "display_data"
    },
    {
     "data": {
      "text/html": [
       "<pre style=\"white-space:pre;overflow-x:auto;line-height:normal;font-family:Menlo,'DejaVu Sans Mono',consolas,'Courier New',monospace\"><span style=\"color: #7fbfbf; text-decoration-color: #7fbfbf\">           </span>METRIC   Round <span style=\"color: #008080; text-decoration-color: #008080; font-weight: bold\">0</span>, collaborator validate_agg aggregated_model_validation result accuracy: <span style=\"color: #008080; text-decoration-color: #008080; font-weight: bold\">0.128667</span>                                   <a href=\"file://C:\\Users\\BHSU\\AppData\\Local\\Programs\\Python\\Python39\\lib\\site-packages\\openfl\\component\\aggregator\\aggregator.py\" target=\"_blank\"><span style=\"color: #7f7f7f; text-decoration-color: #7f7f7f\">aggregator.py</span></a><span style=\"color: #7f7f7f; text-decoration-color: #7f7f7f\">:</span><a href=\"file://C:\\Users\\BHSU\\AppData\\Local\\Programs\\Python\\Python39\\lib\\site-packages\\openfl\\component\\aggregator\\aggregator.py#559\" target=\"_blank\"><span style=\"color: #7f7f7f; text-decoration-color: #7f7f7f\">559</span></a>\n",
       "</pre>\n"
      ],
      "text/plain": [
       "\u001b[2;36m          \u001b[0m\u001b[2;36m \u001b[0mMETRIC   Round \u001b[1;36m0\u001b[0m, collaborator validate_agg aggregated_model_validation result accuracy: \u001b[1;36m0.128667\u001b[0m                                   \u001b]8;id=12251;file://C:\\Users\\BHSU\\AppData\\Local\\Programs\\Python\\Python39\\lib\\site-packages\\openfl\\component\\aggregator\\aggregator.py\u001b\\\u001b[2maggregator.py\u001b[0m\u001b]8;;\u001b\\\u001b[2m:\u001b[0m\u001b]8;id=685591;file://C:\\Users\\BHSU\\AppData\\Local\\Programs\\Python\\Python39\\lib\\site-packages\\openfl\\component\\aggregator\\aggregator.py#559\u001b\\\u001b[2m559\u001b[0m\u001b]8;;\u001b\\\n"
      ]
     },
     "metadata": {},
     "output_type": "display_data"
    },
    {
     "data": {
      "text/html": [
       "<pre style=\"white-space:pre;overflow-x:auto;line-height:normal;font-family:Menlo,'DejaVu Sans Mono',consolas,'Courier New',monospace\"><span style=\"color: #7fbfbf; text-decoration-color: #7fbfbf\">           </span><span style=\"color: #000080; text-decoration-color: #000080\">INFO    </span> Using TaskRunner subclassing API                                                                                         <a href=\"file://C:\\Users\\BHSU\\AppData\\Local\\Programs\\Python\\Python39\\lib\\site-packages\\openfl\\component\\collaborator\\collaborator.py\" target=\"_blank\"><span style=\"color: #7f7f7f; text-decoration-color: #7f7f7f\">collaborator.py</span></a><span style=\"color: #7f7f7f; text-decoration-color: #7f7f7f\">:</span><a href=\"file://C:\\Users\\BHSU\\AppData\\Local\\Programs\\Python\\Python39\\lib\\site-packages\\openfl\\component\\collaborator\\collaborator.py#253\" target=\"_blank\"><span style=\"color: #7f7f7f; text-decoration-color: #7f7f7f\">253</span></a>\n",
       "</pre>\n"
      ],
      "text/plain": [
       "\u001b[2;36m          \u001b[0m\u001b[2;36m \u001b[0m\u001b[34mINFO    \u001b[0m Using TaskRunner subclassing API                                                                                         \u001b]8;id=798045;file://C:\\Users\\BHSU\\AppData\\Local\\Programs\\Python\\Python39\\lib\\site-packages\\openfl\\component\\collaborator\\collaborator.py\u001b\\\u001b[2mcollaborator.py\u001b[0m\u001b]8;;\u001b\\\u001b[2m:\u001b[0m\u001b]8;id=527736;file://C:\\Users\\BHSU\\AppData\\Local\\Programs\\Python\\Python39\\lib\\site-packages\\openfl\\component\\collaborator\\collaborator.py#253\u001b\\\u001b[2m253\u001b[0m\u001b]8;;\u001b\\\n"
      ]
     },
     "metadata": {},
     "output_type": "display_data"
    },
    {
     "data": {
      "text/html": [
       "<pre style=\"white-space:pre;overflow-x:auto;line-height:normal;font-family:Menlo,'DejaVu Sans Mono',consolas,'Courier New',monospace\"><span style=\"color: #7fbfbf; text-decoration-color: #7fbfbf\">           </span><span style=\"color: #000080; text-decoration-color: #000080\">INFO    </span> Run <span style=\"color: #008080; text-decoration-color: #008080; font-weight: bold\">0</span> epoch of <span style=\"color: #008080; text-decoration-color: #008080; font-weight: bold\">0</span> round                                                                                                    <a href=\"file://C:\\Users\\BHSU\\AppData\\Local\\Programs\\Python\\Python39\\lib\\site-packages\\openfl\\federated\\task\\runner_keras.py\" target=\"_blank\"><span style=\"color: #7f7f7f; text-decoration-color: #7f7f7f\">runner_keras.py</span></a><span style=\"color: #7f7f7f; text-decoration-color: #7f7f7f\">:</span><a href=\"file://C:\\Users\\BHSU\\AppData\\Local\\Programs\\Python\\Python39\\lib\\site-packages\\openfl\\federated\\task\\runner_keras.py#83\" target=\"_blank\"><span style=\"color: #7f7f7f; text-decoration-color: #7f7f7f\">83</span></a>\n",
       "</pre>\n"
      ],
      "text/plain": [
       "\u001b[2;36m          \u001b[0m\u001b[2;36m \u001b[0m\u001b[34mINFO    \u001b[0m Run \u001b[1;36m0\u001b[0m epoch of \u001b[1;36m0\u001b[0m round                                                                                                    \u001b]8;id=489492;file://C:\\Users\\BHSU\\AppData\\Local\\Programs\\Python\\Python39\\lib\\site-packages\\openfl\\federated\\task\\runner_keras.py\u001b\\\u001b[2mrunner_keras.py\u001b[0m\u001b]8;;\u001b\\\u001b[2m:\u001b[0m\u001b]8;id=121432;file://C:\\Users\\BHSU\\AppData\\Local\\Programs\\Python\\Python39\\lib\\site-packages\\openfl\\federated\\task\\runner_keras.py#83\u001b\\\u001b[2m83\u001b[0m\u001b]8;;\u001b\\\n"
      ]
     },
     "metadata": {},
     "output_type": "display_data"
    },
    {
     "name": "stdout",
     "output_type": "stream",
     "text": [
      "657/657 [==============================] - 1s 692us/step - loss: 0.5339 - accuracy: 0.8372\n"
     ]
    },
    {
     "data": {
      "text/html": [
       "<pre style=\"white-space:pre;overflow-x:auto;line-height:normal;font-family:Menlo,'DejaVu Sans Mono',consolas,'Courier New',monospace\"><span style=\"color: #7fbfbf; text-decoration-color: #7fbfbf\">[09:22:35] </span>METRIC   Round <span style=\"color: #008080; text-decoration-color: #008080; font-weight: bold\">0</span>, collaborator one is sending metric for task train: loss        <span style=\"color: #008080; text-decoration-color: #008080; font-weight: bold\">0.533861</span>                                         <a href=\"file://C:\\Users\\BHSU\\AppData\\Local\\Programs\\Python\\Python39\\lib\\site-packages\\openfl\\component\\collaborator\\collaborator.py\" target=\"_blank\"><span style=\"color: #7f7f7f; text-decoration-color: #7f7f7f\">collaborator.py</span></a><span style=\"color: #7f7f7f; text-decoration-color: #7f7f7f\">:</span><a href=\"file://C:\\Users\\BHSU\\AppData\\Local\\Programs\\Python\\Python39\\lib\\site-packages\\openfl\\component\\collaborator\\collaborator.py#415\" target=\"_blank\"><span style=\"color: #7f7f7f; text-decoration-color: #7f7f7f\">415</span></a>\n",
       "</pre>\n"
      ],
      "text/plain": [
       "\u001b[2;36m[09:22:35]\u001b[0m\u001b[2;36m \u001b[0mMETRIC   Round \u001b[1;36m0\u001b[0m, collaborator one is sending metric for task train: loss        \u001b[1;36m0.533861\u001b[0m                                         \u001b]8;id=83090;file://C:\\Users\\BHSU\\AppData\\Local\\Programs\\Python\\Python39\\lib\\site-packages\\openfl\\component\\collaborator\\collaborator.py\u001b\\\u001b[2mcollaborator.py\u001b[0m\u001b]8;;\u001b\\\u001b[2m:\u001b[0m\u001b]8;id=833251;file://C:\\Users\\BHSU\\AppData\\Local\\Programs\\Python\\Python39\\lib\\site-packages\\openfl\\component\\collaborator\\collaborator.py#415\u001b\\\u001b[2m415\u001b[0m\u001b]8;;\u001b\\\n"
      ]
     },
     "metadata": {},
     "output_type": "display_data"
    },
    {
     "data": {
      "text/html": [
       "<pre style=\"white-space:pre;overflow-x:auto;line-height:normal;font-family:Menlo,'DejaVu Sans Mono',consolas,'Courier New',monospace\"><span style=\"color: #7fbfbf; text-decoration-color: #7fbfbf\">           </span><span style=\"color: #000080; text-decoration-color: #000080\">INFO    </span> Collaborator one is sending task results for train, round <span style=\"color: #008080; text-decoration-color: #008080; font-weight: bold\">0</span>                                                                <a href=\"file://C:\\Users\\BHSU\\AppData\\Local\\Programs\\Python\\Python39\\lib\\site-packages\\openfl\\component\\aggregator\\aggregator.py\" target=\"_blank\"><span style=\"color: #7f7f7f; text-decoration-color: #7f7f7f\">aggregator.py</span></a><span style=\"color: #7f7f7f; text-decoration-color: #7f7f7f\">:</span><a href=\"file://C:\\Users\\BHSU\\AppData\\Local\\Programs\\Python\\Python39\\lib\\site-packages\\openfl\\component\\aggregator\\aggregator.py#520\" target=\"_blank\"><span style=\"color: #7f7f7f; text-decoration-color: #7f7f7f\">520</span></a>\n",
       "</pre>\n"
      ],
      "text/plain": [
       "\u001b[2;36m          \u001b[0m\u001b[2;36m \u001b[0m\u001b[34mINFO    \u001b[0m Collaborator one is sending task results for train, round \u001b[1;36m0\u001b[0m                                                                \u001b]8;id=352691;file://C:\\Users\\BHSU\\AppData\\Local\\Programs\\Python\\Python39\\lib\\site-packages\\openfl\\component\\aggregator\\aggregator.py\u001b\\\u001b[2maggregator.py\u001b[0m\u001b]8;;\u001b\\\u001b[2m:\u001b[0m\u001b]8;id=115180;file://C:\\Users\\BHSU\\AppData\\Local\\Programs\\Python\\Python39\\lib\\site-packages\\openfl\\component\\aggregator\\aggregator.py#520\u001b\\\u001b[2m520\u001b[0m\u001b]8;;\u001b\\\n"
      ]
     },
     "metadata": {},
     "output_type": "display_data"
    },
    {
     "data": {
      "text/html": [
       "<pre style=\"white-space:pre;overflow-x:auto;line-height:normal;font-family:Menlo,'DejaVu Sans Mono',consolas,'Courier New',monospace\"><span style=\"color: #7fbfbf; text-decoration-color: #7fbfbf\">           </span>METRIC   Round <span style=\"color: #008080; text-decoration-color: #008080; font-weight: bold\">0</span>, collaborator one train result loss:    <span style=\"color: #008080; text-decoration-color: #008080; font-weight: bold\">0.533861</span>                                                                   <a href=\"file://C:\\Users\\BHSU\\AppData\\Local\\Programs\\Python\\Python39\\lib\\site-packages\\openfl\\component\\aggregator\\aggregator.py\" target=\"_blank\"><span style=\"color: #7f7f7f; text-decoration-color: #7f7f7f\">aggregator.py</span></a><span style=\"color: #7f7f7f; text-decoration-color: #7f7f7f\">:</span><a href=\"file://C:\\Users\\BHSU\\AppData\\Local\\Programs\\Python\\Python39\\lib\\site-packages\\openfl\\component\\aggregator\\aggregator.py#559\" target=\"_blank\"><span style=\"color: #7f7f7f; text-decoration-color: #7f7f7f\">559</span></a>\n",
       "</pre>\n"
      ],
      "text/plain": [
       "\u001b[2;36m          \u001b[0m\u001b[2;36m \u001b[0mMETRIC   Round \u001b[1;36m0\u001b[0m, collaborator one train result loss:    \u001b[1;36m0.533861\u001b[0m                                                                   \u001b]8;id=275563;file://C:\\Users\\BHSU\\AppData\\Local\\Programs\\Python\\Python39\\lib\\site-packages\\openfl\\component\\aggregator\\aggregator.py\u001b\\\u001b[2maggregator.py\u001b[0m\u001b]8;;\u001b\\\u001b[2m:\u001b[0m\u001b]8;id=371643;file://C:\\Users\\BHSU\\AppData\\Local\\Programs\\Python\\Python39\\lib\\site-packages\\openfl\\component\\aggregator\\aggregator.py#559\u001b\\\u001b[2m559\u001b[0m\u001b]8;;\u001b\\\n"
      ]
     },
     "metadata": {},
     "output_type": "display_data"
    },
    {
     "data": {
      "text/html": [
       "<pre style=\"white-space:pre;overflow-x:auto;line-height:normal;font-family:Menlo,'DejaVu Sans Mono',consolas,'Courier New',monospace\"><span style=\"color: #7fbfbf; text-decoration-color: #7fbfbf\">           </span><span style=\"color: #000080; text-decoration-color: #000080\">INFO    </span> Using TaskRunner subclassing API                                                                                         <a href=\"file://C:\\Users\\BHSU\\AppData\\Local\\Programs\\Python\\Python39\\lib\\site-packages\\openfl\\component\\collaborator\\collaborator.py\" target=\"_blank\"><span style=\"color: #7f7f7f; text-decoration-color: #7f7f7f\">collaborator.py</span></a><span style=\"color: #7f7f7f; text-decoration-color: #7f7f7f\">:</span><a href=\"file://C:\\Users\\BHSU\\AppData\\Local\\Programs\\Python\\Python39\\lib\\site-packages\\openfl\\component\\collaborator\\collaborator.py#253\" target=\"_blank\"><span style=\"color: #7f7f7f; text-decoration-color: #7f7f7f\">253</span></a>\n",
       "</pre>\n"
      ],
      "text/plain": [
       "\u001b[2;36m          \u001b[0m\u001b[2;36m \u001b[0m\u001b[34mINFO    \u001b[0m Using TaskRunner subclassing API                                                                                         \u001b]8;id=623760;file://C:\\Users\\BHSU\\AppData\\Local\\Programs\\Python\\Python39\\lib\\site-packages\\openfl\\component\\collaborator\\collaborator.py\u001b\\\u001b[2mcollaborator.py\u001b[0m\u001b]8;;\u001b\\\u001b[2m:\u001b[0m\u001b]8;id=592386;file://C:\\Users\\BHSU\\AppData\\Local\\Programs\\Python\\Python39\\lib\\site-packages\\openfl\\component\\collaborator\\collaborator.py#253\u001b\\\u001b[2m253\u001b[0m\u001b]8;;\u001b\\\n"
      ]
     },
     "metadata": {},
     "output_type": "display_data"
    },
    {
     "name": "stdout",
     "output_type": "stream",
     "text": [
      "282/282 [==============================] - 0s 566us/step - loss: 0.3343 - accuracy: 0.8959\n"
     ]
    },
    {
     "data": {
      "text/html": [
       "<pre style=\"white-space:pre;overflow-x:auto;line-height:normal;font-family:Menlo,'DejaVu Sans Mono',consolas,'Courier New',monospace\"><span style=\"color: #7fbfbf; text-decoration-color: #7fbfbf\">           </span>METRIC   Round <span style=\"color: #008080; text-decoration-color: #008080; font-weight: bold\">0</span>, collaborator one is sending metric for task locally_tuned_model_validation: accuracy   <span style=\"color: #008080; text-decoration-color: #008080; font-weight: bold\">0.895889</span>                 <a href=\"file://C:\\Users\\BHSU\\AppData\\Local\\Programs\\Python\\Python39\\lib\\site-packages\\openfl\\component\\collaborator\\collaborator.py\" target=\"_blank\"><span style=\"color: #7f7f7f; text-decoration-color: #7f7f7f\">collaborator.py</span></a><span style=\"color: #7f7f7f; text-decoration-color: #7f7f7f\">:</span><a href=\"file://C:\\Users\\BHSU\\AppData\\Local\\Programs\\Python\\Python39\\lib\\site-packages\\openfl\\component\\collaborator\\collaborator.py#415\" target=\"_blank\"><span style=\"color: #7f7f7f; text-decoration-color: #7f7f7f\">415</span></a>\n",
       "</pre>\n"
      ],
      "text/plain": [
       "\u001b[2;36m          \u001b[0m\u001b[2;36m \u001b[0mMETRIC   Round \u001b[1;36m0\u001b[0m, collaborator one is sending metric for task locally_tuned_model_validation: accuracy   \u001b[1;36m0.895889\u001b[0m                 \u001b]8;id=687237;file://C:\\Users\\BHSU\\AppData\\Local\\Programs\\Python\\Python39\\lib\\site-packages\\openfl\\component\\collaborator\\collaborator.py\u001b\\\u001b[2mcollaborator.py\u001b[0m\u001b]8;;\u001b\\\u001b[2m:\u001b[0m\u001b]8;id=694458;file://C:\\Users\\BHSU\\AppData\\Local\\Programs\\Python\\Python39\\lib\\site-packages\\openfl\\component\\collaborator\\collaborator.py#415\u001b\\\u001b[2m415\u001b[0m\u001b]8;;\u001b\\\n"
      ]
     },
     "metadata": {},
     "output_type": "display_data"
    },
    {
     "data": {
      "text/html": [
       "<pre style=\"white-space:pre;overflow-x:auto;line-height:normal;font-family:Menlo,'DejaVu Sans Mono',consolas,'Courier New',monospace\"><span style=\"color: #7fbfbf; text-decoration-color: #7fbfbf\">           </span><span style=\"color: #000080; text-decoration-color: #000080\">INFO    </span> Collaborator one is sending task results for locally_tuned_model_validation, round <span style=\"color: #008080; text-decoration-color: #008080; font-weight: bold\">0</span>                                       <a href=\"file://C:\\Users\\BHSU\\AppData\\Local\\Programs\\Python\\Python39\\lib\\site-packages\\openfl\\component\\aggregator\\aggregator.py\" target=\"_blank\"><span style=\"color: #7f7f7f; text-decoration-color: #7f7f7f\">aggregator.py</span></a><span style=\"color: #7f7f7f; text-decoration-color: #7f7f7f\">:</span><a href=\"file://C:\\Users\\BHSU\\AppData\\Local\\Programs\\Python\\Python39\\lib\\site-packages\\openfl\\component\\aggregator\\aggregator.py#520\" target=\"_blank\"><span style=\"color: #7f7f7f; text-decoration-color: #7f7f7f\">520</span></a>\n",
       "</pre>\n"
      ],
      "text/plain": [
       "\u001b[2;36m          \u001b[0m\u001b[2;36m \u001b[0m\u001b[34mINFO    \u001b[0m Collaborator one is sending task results for locally_tuned_model_validation, round \u001b[1;36m0\u001b[0m                                       \u001b]8;id=553962;file://C:\\Users\\BHSU\\AppData\\Local\\Programs\\Python\\Python39\\lib\\site-packages\\openfl\\component\\aggregator\\aggregator.py\u001b\\\u001b[2maggregator.py\u001b[0m\u001b]8;;\u001b\\\u001b[2m:\u001b[0m\u001b]8;id=694671;file://C:\\Users\\BHSU\\AppData\\Local\\Programs\\Python\\Python39\\lib\\site-packages\\openfl\\component\\aggregator\\aggregator.py#520\u001b\\\u001b[2m520\u001b[0m\u001b]8;;\u001b\\\n"
      ]
     },
     "metadata": {},
     "output_type": "display_data"
    },
    {
     "data": {
      "text/html": [
       "<pre style=\"white-space:pre;overflow-x:auto;line-height:normal;font-family:Menlo,'DejaVu Sans Mono',consolas,'Courier New',monospace\"><span style=\"color: #7fbfbf; text-decoration-color: #7fbfbf\">           </span>METRIC   Round <span style=\"color: #008080; text-decoration-color: #008080; font-weight: bold\">0</span>, collaborator validate_local locally_tuned_model_validation result accuracy:    <span style=\"color: #008080; text-decoration-color: #008080; font-weight: bold\">0.895889</span>                           <a href=\"file://C:\\Users\\BHSU\\AppData\\Local\\Programs\\Python\\Python39\\lib\\site-packages\\openfl\\component\\aggregator\\aggregator.py\" target=\"_blank\"><span style=\"color: #7f7f7f; text-decoration-color: #7f7f7f\">aggregator.py</span></a><span style=\"color: #7f7f7f; text-decoration-color: #7f7f7f\">:</span><a href=\"file://C:\\Users\\BHSU\\AppData\\Local\\Programs\\Python\\Python39\\lib\\site-packages\\openfl\\component\\aggregator\\aggregator.py#559\" target=\"_blank\"><span style=\"color: #7f7f7f; text-decoration-color: #7f7f7f\">559</span></a>\n",
       "</pre>\n"
      ],
      "text/plain": [
       "\u001b[2;36m          \u001b[0m\u001b[2;36m \u001b[0mMETRIC   Round \u001b[1;36m0\u001b[0m, collaborator validate_local locally_tuned_model_validation result accuracy:    \u001b[1;36m0.895889\u001b[0m                           \u001b]8;id=955474;file://C:\\Users\\BHSU\\AppData\\Local\\Programs\\Python\\Python39\\lib\\site-packages\\openfl\\component\\aggregator\\aggregator.py\u001b\\\u001b[2maggregator.py\u001b[0m\u001b]8;;\u001b\\\u001b[2m:\u001b[0m\u001b]8;id=121018;file://C:\\Users\\BHSU\\AppData\\Local\\Programs\\Python\\Python39\\lib\\site-packages\\openfl\\component\\aggregator\\aggregator.py#559\u001b\\\u001b[2m559\u001b[0m\u001b]8;;\u001b\\\n"
      ]
     },
     "metadata": {},
     "output_type": "display_data"
    },
    {
     "data": {
      "text/html": [
       "<pre style=\"white-space:pre;overflow-x:auto;line-height:normal;font-family:Menlo,'DejaVu Sans Mono',consolas,'Courier New',monospace\"><span style=\"color: #7fbfbf; text-decoration-color: #7fbfbf\">           </span><span style=\"color: #000080; text-decoration-color: #000080\">INFO    </span> All tasks completed on one for round <span style=\"color: #008080; text-decoration-color: #008080; font-weight: bold\">0</span><span style=\"color: #808000; text-decoration-color: #808000\">...</span>                                                                                <a href=\"file://C:\\Users\\BHSU\\AppData\\Local\\Programs\\Python\\Python39\\lib\\site-packages\\openfl\\component\\collaborator\\collaborator.py\" target=\"_blank\"><span style=\"color: #7f7f7f; text-decoration-color: #7f7f7f\">collaborator.py</span></a><span style=\"color: #7f7f7f; text-decoration-color: #7f7f7f\">:</span><a href=\"file://C:\\Users\\BHSU\\AppData\\Local\\Programs\\Python\\Python39\\lib\\site-packages\\openfl\\component\\collaborator\\collaborator.py#171\" target=\"_blank\"><span style=\"color: #7f7f7f; text-decoration-color: #7f7f7f\">171</span></a>\n",
       "</pre>\n"
      ],
      "text/plain": [
       "\u001b[2;36m          \u001b[0m\u001b[2;36m \u001b[0m\u001b[34mINFO    \u001b[0m All tasks completed on one for round \u001b[1;36m0\u001b[0m\u001b[33m...\u001b[0m                                                                                \u001b]8;id=750302;file://C:\\Users\\BHSU\\AppData\\Local\\Programs\\Python\\Python39\\lib\\site-packages\\openfl\\component\\collaborator\\collaborator.py\u001b\\\u001b[2mcollaborator.py\u001b[0m\u001b]8;;\u001b\\\u001b[2m:\u001b[0m\u001b]8;id=549492;file://C:\\Users\\BHSU\\AppData\\Local\\Programs\\Python\\Python39\\lib\\site-packages\\openfl\\component\\collaborator\\collaborator.py#171\u001b\\\u001b[2m171\u001b[0m\u001b]8;;\u001b\\\n"
      ]
     },
     "metadata": {},
     "output_type": "display_data"
    },
    {
     "data": {
      "text/html": [
       "<pre style=\"white-space:pre;overflow-x:auto;line-height:normal;font-family:Menlo,'DejaVu Sans Mono',consolas,'Courier New',monospace\"><span style=\"color: #7fbfbf; text-decoration-color: #7fbfbf\">           </span><span style=\"color: #000080; text-decoration-color: #000080\">INFO    </span> Waiting for tasks<span style=\"color: #808000; text-decoration-color: #808000\">...</span>                                                                                                     <a href=\"file://C:\\Users\\BHSU\\AppData\\Local\\Programs\\Python\\Python39\\lib\\site-packages\\openfl\\component\\collaborator\\collaborator.py\" target=\"_blank\"><span style=\"color: #7f7f7f; text-decoration-color: #7f7f7f\">collaborator.py</span></a><span style=\"color: #7f7f7f; text-decoration-color: #7f7f7f\">:</span><a href=\"file://C:\\Users\\BHSU\\AppData\\Local\\Programs\\Python\\Python39\\lib\\site-packages\\openfl\\component\\collaborator\\collaborator.py#178\" target=\"_blank\"><span style=\"color: #7f7f7f; text-decoration-color: #7f7f7f\">178</span></a>\n",
       "</pre>\n"
      ],
      "text/plain": [
       "\u001b[2;36m          \u001b[0m\u001b[2;36m \u001b[0m\u001b[34mINFO    \u001b[0m Waiting for tasks\u001b[33m...\u001b[0m                                                                                                     \u001b]8;id=10283;file://C:\\Users\\BHSU\\AppData\\Local\\Programs\\Python\\Python39\\lib\\site-packages\\openfl\\component\\collaborator\\collaborator.py\u001b\\\u001b[2mcollaborator.py\u001b[0m\u001b]8;;\u001b\\\u001b[2m:\u001b[0m\u001b]8;id=740083;file://C:\\Users\\BHSU\\AppData\\Local\\Programs\\Python\\Python39\\lib\\site-packages\\openfl\\component\\collaborator\\collaborator.py#178\u001b\\\u001b[2m178\u001b[0m\u001b]8;;\u001b\\\n"
      ]
     },
     "metadata": {},
     "output_type": "display_data"
    },
    {
     "data": {
      "text/html": [
       "<pre style=\"white-space:pre;overflow-x:auto;line-height:normal;font-family:Menlo,'DejaVu Sans Mono',consolas,'Courier New',monospace\"><span style=\"color: #7fbfbf; text-decoration-color: #7fbfbf\">           </span><span style=\"color: #000080; text-decoration-color: #000080\">INFO    </span> Sending tasks to collaborator two for round <span style=\"color: #008080; text-decoration-color: #008080; font-weight: bold\">0</span>                                                                              <a href=\"file://C:\\Users\\BHSU\\AppData\\Local\\Programs\\Python\\Python39\\lib\\site-packages\\openfl\\component\\aggregator\\aggregator.py\" target=\"_blank\"><span style=\"color: #7f7f7f; text-decoration-color: #7f7f7f\">aggregator.py</span></a><span style=\"color: #7f7f7f; text-decoration-color: #7f7f7f\">:</span><a href=\"file://C:\\Users\\BHSU\\AppData\\Local\\Programs\\Python\\Python39\\lib\\site-packages\\openfl\\component\\aggregator\\aggregator.py#329\" target=\"_blank\"><span style=\"color: #7f7f7f; text-decoration-color: #7f7f7f\">329</span></a>\n",
       "</pre>\n"
      ],
      "text/plain": [
       "\u001b[2;36m          \u001b[0m\u001b[2;36m \u001b[0m\u001b[34mINFO    \u001b[0m Sending tasks to collaborator two for round \u001b[1;36m0\u001b[0m                                                                              \u001b]8;id=385352;file://C:\\Users\\BHSU\\AppData\\Local\\Programs\\Python\\Python39\\lib\\site-packages\\openfl\\component\\aggregator\\aggregator.py\u001b\\\u001b[2maggregator.py\u001b[0m\u001b]8;;\u001b\\\u001b[2m:\u001b[0m\u001b]8;id=793852;file://C:\\Users\\BHSU\\AppData\\Local\\Programs\\Python\\Python39\\lib\\site-packages\\openfl\\component\\aggregator\\aggregator.py#329\u001b\\\u001b[2m329\u001b[0m\u001b]8;;\u001b\\\n"
      ]
     },
     "metadata": {},
     "output_type": "display_data"
    },
    {
     "data": {
      "text/html": [
       "<pre style=\"white-space:pre;overflow-x:auto;line-height:normal;font-family:Menlo,'DejaVu Sans Mono',consolas,'Courier New',monospace\"><span style=\"color: #7fbfbf; text-decoration-color: #7fbfbf\">           </span><span style=\"color: #000080; text-decoration-color: #000080\">INFO    </span> Received the following tasks: <span style=\"font-weight: bold\">[</span><span style=\"color: #008000; text-decoration-color: #008000\">'aggregated_model_validation'</span>, <span style=\"color: #008000; text-decoration-color: #008000\">'train'</span>, <span style=\"color: #008000; text-decoration-color: #008000\">'locally_tuned_model_validation'</span><span style=\"font-weight: bold\">]</span>                 <a href=\"file://C:\\Users\\BHSU\\AppData\\Local\\Programs\\Python\\Python39\\lib\\site-packages\\openfl\\component\\collaborator\\collaborator.py\" target=\"_blank\"><span style=\"color: #7f7f7f; text-decoration-color: #7f7f7f\">collaborator.py</span></a><span style=\"color: #7f7f7f; text-decoration-color: #7f7f7f\">:</span><a href=\"file://C:\\Users\\BHSU\\AppData\\Local\\Programs\\Python\\Python39\\lib\\site-packages\\openfl\\component\\collaborator\\collaborator.py#168\" target=\"_blank\"><span style=\"color: #7f7f7f; text-decoration-color: #7f7f7f\">168</span></a>\n",
       "</pre>\n"
      ],
      "text/plain": [
       "\u001b[2;36m          \u001b[0m\u001b[2;36m \u001b[0m\u001b[34mINFO    \u001b[0m Received the following tasks: \u001b[1m[\u001b[0m\u001b[32m'aggregated_model_validation'\u001b[0m, \u001b[32m'train'\u001b[0m, \u001b[32m'locally_tuned_model_validation'\u001b[0m\u001b[1m]\u001b[0m                 \u001b]8;id=27285;file://C:\\Users\\BHSU\\AppData\\Local\\Programs\\Python\\Python39\\lib\\site-packages\\openfl\\component\\collaborator\\collaborator.py\u001b\\\u001b[2mcollaborator.py\u001b[0m\u001b]8;;\u001b\\\u001b[2m:\u001b[0m\u001b]8;id=50753;file://C:\\Users\\BHSU\\AppData\\Local\\Programs\\Python\\Python39\\lib\\site-packages\\openfl\\component\\collaborator\\collaborator.py#168\u001b\\\u001b[2m168\u001b[0m\u001b]8;;\u001b\\\n"
      ]
     },
     "metadata": {},
     "output_type": "display_data"
    },
    {
     "data": {
      "text/html": [
       "<pre style=\"white-space:pre;overflow-x:auto;line-height:normal;font-family:Menlo,'DejaVu Sans Mono',consolas,'Courier New',monospace\"><span style=\"color: #7fbfbf; text-decoration-color: #7fbfbf\">           </span><span style=\"color: #000080; text-decoration-color: #000080\">INFO    </span> Using TaskRunner subclassing API                                                                                         <a href=\"file://C:\\Users\\BHSU\\AppData\\Local\\Programs\\Python\\Python39\\lib\\site-packages\\openfl\\component\\collaborator\\collaborator.py\" target=\"_blank\"><span style=\"color: #7f7f7f; text-decoration-color: #7f7f7f\">collaborator.py</span></a><span style=\"color: #7f7f7f; text-decoration-color: #7f7f7f\">:</span><a href=\"file://C:\\Users\\BHSU\\AppData\\Local\\Programs\\Python\\Python39\\lib\\site-packages\\openfl\\component\\collaborator\\collaborator.py#253\" target=\"_blank\"><span style=\"color: #7f7f7f; text-decoration-color: #7f7f7f\">253</span></a>\n",
       "</pre>\n"
      ],
      "text/plain": [
       "\u001b[2;36m          \u001b[0m\u001b[2;36m \u001b[0m\u001b[34mINFO    \u001b[0m Using TaskRunner subclassing API                                                                                         \u001b]8;id=175067;file://C:\\Users\\BHSU\\AppData\\Local\\Programs\\Python\\Python39\\lib\\site-packages\\openfl\\component\\collaborator\\collaborator.py\u001b\\\u001b[2mcollaborator.py\u001b[0m\u001b]8;;\u001b\\\u001b[2m:\u001b[0m\u001b]8;id=581813;file://C:\\Users\\BHSU\\AppData\\Local\\Programs\\Python\\Python39\\lib\\site-packages\\openfl\\component\\collaborator\\collaborator.py#253\u001b\\\u001b[2m253\u001b[0m\u001b]8;;\u001b\\\n"
      ]
     },
     "metadata": {},
     "output_type": "display_data"
    },
    {
     "name": "stdout",
     "output_type": "stream",
     "text": [
      "282/282 [==============================] - 0s 602us/step - loss: 2.3303 - accuracy: 0.1271\n"
     ]
    },
    {
     "data": {
      "text/html": [
       "<pre style=\"white-space:pre;overflow-x:auto;line-height:normal;font-family:Menlo,'DejaVu Sans Mono',consolas,'Courier New',monospace\"><span style=\"color: #7fbfbf; text-decoration-color: #7fbfbf\">           </span>METRIC   Round <span style=\"color: #008080; text-decoration-color: #008080; font-weight: bold\">0</span>, collaborator two is sending metric for task aggregated_model_validation: accuracy      <span style=\"color: #008080; text-decoration-color: #008080; font-weight: bold\">0.127111</span>                 <a href=\"file://C:\\Users\\BHSU\\AppData\\Local\\Programs\\Python\\Python39\\lib\\site-packages\\openfl\\component\\collaborator\\collaborator.py\" target=\"_blank\"><span style=\"color: #7f7f7f; text-decoration-color: #7f7f7f\">collaborator.py</span></a><span style=\"color: #7f7f7f; text-decoration-color: #7f7f7f\">:</span><a href=\"file://C:\\Users\\BHSU\\AppData\\Local\\Programs\\Python\\Python39\\lib\\site-packages\\openfl\\component\\collaborator\\collaborator.py#415\" target=\"_blank\"><span style=\"color: #7f7f7f; text-decoration-color: #7f7f7f\">415</span></a>\n",
       "</pre>\n"
      ],
      "text/plain": [
       "\u001b[2;36m          \u001b[0m\u001b[2;36m \u001b[0mMETRIC   Round \u001b[1;36m0\u001b[0m, collaborator two is sending metric for task aggregated_model_validation: accuracy      \u001b[1;36m0.127111\u001b[0m                 \u001b]8;id=864090;file://C:\\Users\\BHSU\\AppData\\Local\\Programs\\Python\\Python39\\lib\\site-packages\\openfl\\component\\collaborator\\collaborator.py\u001b\\\u001b[2mcollaborator.py\u001b[0m\u001b]8;;\u001b\\\u001b[2m:\u001b[0m\u001b]8;id=575919;file://C:\\Users\\BHSU\\AppData\\Local\\Programs\\Python\\Python39\\lib\\site-packages\\openfl\\component\\collaborator\\collaborator.py#415\u001b\\\u001b[2m415\u001b[0m\u001b]8;;\u001b\\\n"
      ]
     },
     "metadata": {},
     "output_type": "display_data"
    },
    {
     "data": {
      "text/html": [
       "<pre style=\"white-space:pre;overflow-x:auto;line-height:normal;font-family:Menlo,'DejaVu Sans Mono',consolas,'Courier New',monospace\"><span style=\"color: #7fbfbf; text-decoration-color: #7fbfbf\">           </span><span style=\"color: #000080; text-decoration-color: #000080\">INFO    </span> Collaborator two is sending task results for aggregated_model_validation, round <span style=\"color: #008080; text-decoration-color: #008080; font-weight: bold\">0</span>                                          <a href=\"file://C:\\Users\\BHSU\\AppData\\Local\\Programs\\Python\\Python39\\lib\\site-packages\\openfl\\component\\aggregator\\aggregator.py\" target=\"_blank\"><span style=\"color: #7f7f7f; text-decoration-color: #7f7f7f\">aggregator.py</span></a><span style=\"color: #7f7f7f; text-decoration-color: #7f7f7f\">:</span><a href=\"file://C:\\Users\\BHSU\\AppData\\Local\\Programs\\Python\\Python39\\lib\\site-packages\\openfl\\component\\aggregator\\aggregator.py#520\" target=\"_blank\"><span style=\"color: #7f7f7f; text-decoration-color: #7f7f7f\">520</span></a>\n",
       "</pre>\n"
      ],
      "text/plain": [
       "\u001b[2;36m          \u001b[0m\u001b[2;36m \u001b[0m\u001b[34mINFO    \u001b[0m Collaborator two is sending task results for aggregated_model_validation, round \u001b[1;36m0\u001b[0m                                          \u001b]8;id=71665;file://C:\\Users\\BHSU\\AppData\\Local\\Programs\\Python\\Python39\\lib\\site-packages\\openfl\\component\\aggregator\\aggregator.py\u001b\\\u001b[2maggregator.py\u001b[0m\u001b]8;;\u001b\\\u001b[2m:\u001b[0m\u001b]8;id=210378;file://C:\\Users\\BHSU\\AppData\\Local\\Programs\\Python\\Python39\\lib\\site-packages\\openfl\\component\\aggregator\\aggregator.py#520\u001b\\\u001b[2m520\u001b[0m\u001b]8;;\u001b\\\n"
      ]
     },
     "metadata": {},
     "output_type": "display_data"
    },
    {
     "data": {
      "text/html": [
       "<pre style=\"white-space:pre;overflow-x:auto;line-height:normal;font-family:Menlo,'DejaVu Sans Mono',consolas,'Courier New',monospace\"><span style=\"color: #7fbfbf; text-decoration-color: #7fbfbf\">           </span>METRIC   Round <span style=\"color: #008080; text-decoration-color: #008080; font-weight: bold\">0</span>, collaborator validate_agg aggregated_model_validation result accuracy: <span style=\"color: #008080; text-decoration-color: #008080; font-weight: bold\">0.127111</span>                                   <a href=\"file://C:\\Users\\BHSU\\AppData\\Local\\Programs\\Python\\Python39\\lib\\site-packages\\openfl\\component\\aggregator\\aggregator.py\" target=\"_blank\"><span style=\"color: #7f7f7f; text-decoration-color: #7f7f7f\">aggregator.py</span></a><span style=\"color: #7f7f7f; text-decoration-color: #7f7f7f\">:</span><a href=\"file://C:\\Users\\BHSU\\AppData\\Local\\Programs\\Python\\Python39\\lib\\site-packages\\openfl\\component\\aggregator\\aggregator.py#559\" target=\"_blank\"><span style=\"color: #7f7f7f; text-decoration-color: #7f7f7f\">559</span></a>\n",
       "</pre>\n"
      ],
      "text/plain": [
       "\u001b[2;36m          \u001b[0m\u001b[2;36m \u001b[0mMETRIC   Round \u001b[1;36m0\u001b[0m, collaborator validate_agg aggregated_model_validation result accuracy: \u001b[1;36m0.127111\u001b[0m                                   \u001b]8;id=48346;file://C:\\Users\\BHSU\\AppData\\Local\\Programs\\Python\\Python39\\lib\\site-packages\\openfl\\component\\aggregator\\aggregator.py\u001b\\\u001b[2maggregator.py\u001b[0m\u001b]8;;\u001b\\\u001b[2m:\u001b[0m\u001b]8;id=126231;file://C:\\Users\\BHSU\\AppData\\Local\\Programs\\Python\\Python39\\lib\\site-packages\\openfl\\component\\aggregator\\aggregator.py#559\u001b\\\u001b[2m559\u001b[0m\u001b]8;;\u001b\\\n"
      ]
     },
     "metadata": {},
     "output_type": "display_data"
    },
    {
     "data": {
      "text/html": [
       "<pre style=\"white-space:pre;overflow-x:auto;line-height:normal;font-family:Menlo,'DejaVu Sans Mono',consolas,'Courier New',monospace\"><span style=\"color: #7fbfbf; text-decoration-color: #7fbfbf\">           </span><span style=\"color: #000080; text-decoration-color: #000080\">INFO    </span> Using TaskRunner subclassing API                                                                                         <a href=\"file://C:\\Users\\BHSU\\AppData\\Local\\Programs\\Python\\Python39\\lib\\site-packages\\openfl\\component\\collaborator\\collaborator.py\" target=\"_blank\"><span style=\"color: #7f7f7f; text-decoration-color: #7f7f7f\">collaborator.py</span></a><span style=\"color: #7f7f7f; text-decoration-color: #7f7f7f\">:</span><a href=\"file://C:\\Users\\BHSU\\AppData\\Local\\Programs\\Python\\Python39\\lib\\site-packages\\openfl\\component\\collaborator\\collaborator.py#253\" target=\"_blank\"><span style=\"color: #7f7f7f; text-decoration-color: #7f7f7f\">253</span></a>\n",
       "</pre>\n"
      ],
      "text/plain": [
       "\u001b[2;36m          \u001b[0m\u001b[2;36m \u001b[0m\u001b[34mINFO    \u001b[0m Using TaskRunner subclassing API                                                                                         \u001b]8;id=746512;file://C:\\Users\\BHSU\\AppData\\Local\\Programs\\Python\\Python39\\lib\\site-packages\\openfl\\component\\collaborator\\collaborator.py\u001b\\\u001b[2mcollaborator.py\u001b[0m\u001b]8;;\u001b\\\u001b[2m:\u001b[0m\u001b]8;id=813201;file://C:\\Users\\BHSU\\AppData\\Local\\Programs\\Python\\Python39\\lib\\site-packages\\openfl\\component\\collaborator\\collaborator.py#253\u001b\\\u001b[2m253\u001b[0m\u001b]8;;\u001b\\\n"
      ]
     },
     "metadata": {},
     "output_type": "display_data"
    },
    {
     "data": {
      "text/html": [
       "<pre style=\"white-space:pre;overflow-x:auto;line-height:normal;font-family:Menlo,'DejaVu Sans Mono',consolas,'Courier New',monospace\"><span style=\"color: #7fbfbf; text-decoration-color: #7fbfbf\">           </span><span style=\"color: #000080; text-decoration-color: #000080\">INFO    </span> Run <span style=\"color: #008080; text-decoration-color: #008080; font-weight: bold\">0</span> epoch of <span style=\"color: #008080; text-decoration-color: #008080; font-weight: bold\">0</span> round                                                                                                    <a href=\"file://C:\\Users\\BHSU\\AppData\\Local\\Programs\\Python\\Python39\\lib\\site-packages\\openfl\\federated\\task\\runner_keras.py\" target=\"_blank\"><span style=\"color: #7f7f7f; text-decoration-color: #7f7f7f\">runner_keras.py</span></a><span style=\"color: #7f7f7f; text-decoration-color: #7f7f7f\">:</span><a href=\"file://C:\\Users\\BHSU\\AppData\\Local\\Programs\\Python\\Python39\\lib\\site-packages\\openfl\\federated\\task\\runner_keras.py#83\" target=\"_blank\"><span style=\"color: #7f7f7f; text-decoration-color: #7f7f7f\">83</span></a>\n",
       "</pre>\n"
      ],
      "text/plain": [
       "\u001b[2;36m          \u001b[0m\u001b[2;36m \u001b[0m\u001b[34mINFO    \u001b[0m Run \u001b[1;36m0\u001b[0m epoch of \u001b[1;36m0\u001b[0m round                                                                                                    \u001b]8;id=981238;file://C:\\Users\\BHSU\\AppData\\Local\\Programs\\Python\\Python39\\lib\\site-packages\\openfl\\federated\\task\\runner_keras.py\u001b\\\u001b[2mrunner_keras.py\u001b[0m\u001b]8;;\u001b\\\u001b[2m:\u001b[0m\u001b]8;id=962385;file://C:\\Users\\BHSU\\AppData\\Local\\Programs\\Python\\Python39\\lib\\site-packages\\openfl\\federated\\task\\runner_keras.py#83\u001b\\\u001b[2m83\u001b[0m\u001b]8;;\u001b\\\n"
      ]
     },
     "metadata": {},
     "output_type": "display_data"
    },
    {
     "name": "stdout",
     "output_type": "stream",
     "text": [
      "657/657 [==============================] - 1s 657us/step - loss: 0.5112 - accuracy: 0.8479\n"
     ]
    },
    {
     "data": {
      "text/html": [
       "<pre style=\"white-space:pre;overflow-x:auto;line-height:normal;font-family:Menlo,'DejaVu Sans Mono',consolas,'Courier New',monospace\"><span style=\"color: #7fbfbf; text-decoration-color: #7fbfbf\">[09:22:36] </span>METRIC   Round <span style=\"color: #008080; text-decoration-color: #008080; font-weight: bold\">0</span>, collaborator two is sending metric for task train: loss        <span style=\"color: #008080; text-decoration-color: #008080; font-weight: bold\">0.511241</span>                                         <a href=\"file://C:\\Users\\BHSU\\AppData\\Local\\Programs\\Python\\Python39\\lib\\site-packages\\openfl\\component\\collaborator\\collaborator.py\" target=\"_blank\"><span style=\"color: #7f7f7f; text-decoration-color: #7f7f7f\">collaborator.py</span></a><span style=\"color: #7f7f7f; text-decoration-color: #7f7f7f\">:</span><a href=\"file://C:\\Users\\BHSU\\AppData\\Local\\Programs\\Python\\Python39\\lib\\site-packages\\openfl\\component\\collaborator\\collaborator.py#415\" target=\"_blank\"><span style=\"color: #7f7f7f; text-decoration-color: #7f7f7f\">415</span></a>\n",
       "</pre>\n"
      ],
      "text/plain": [
       "\u001b[2;36m[09:22:36]\u001b[0m\u001b[2;36m \u001b[0mMETRIC   Round \u001b[1;36m0\u001b[0m, collaborator two is sending metric for task train: loss        \u001b[1;36m0.511241\u001b[0m                                         \u001b]8;id=364832;file://C:\\Users\\BHSU\\AppData\\Local\\Programs\\Python\\Python39\\lib\\site-packages\\openfl\\component\\collaborator\\collaborator.py\u001b\\\u001b[2mcollaborator.py\u001b[0m\u001b]8;;\u001b\\\u001b[2m:\u001b[0m\u001b]8;id=587642;file://C:\\Users\\BHSU\\AppData\\Local\\Programs\\Python\\Python39\\lib\\site-packages\\openfl\\component\\collaborator\\collaborator.py#415\u001b\\\u001b[2m415\u001b[0m\u001b]8;;\u001b\\\n"
      ]
     },
     "metadata": {},
     "output_type": "display_data"
    },
    {
     "data": {
      "text/html": [
       "<pre style=\"white-space:pre;overflow-x:auto;line-height:normal;font-family:Menlo,'DejaVu Sans Mono',consolas,'Courier New',monospace\"><span style=\"color: #7fbfbf; text-decoration-color: #7fbfbf\">           </span><span style=\"color: #000080; text-decoration-color: #000080\">INFO    </span> Collaborator two is sending task results for train, round <span style=\"color: #008080; text-decoration-color: #008080; font-weight: bold\">0</span>                                                                <a href=\"file://C:\\Users\\BHSU\\AppData\\Local\\Programs\\Python\\Python39\\lib\\site-packages\\openfl\\component\\aggregator\\aggregator.py\" target=\"_blank\"><span style=\"color: #7f7f7f; text-decoration-color: #7f7f7f\">aggregator.py</span></a><span style=\"color: #7f7f7f; text-decoration-color: #7f7f7f\">:</span><a href=\"file://C:\\Users\\BHSU\\AppData\\Local\\Programs\\Python\\Python39\\lib\\site-packages\\openfl\\component\\aggregator\\aggregator.py#520\" target=\"_blank\"><span style=\"color: #7f7f7f; text-decoration-color: #7f7f7f\">520</span></a>\n",
       "</pre>\n"
      ],
      "text/plain": [
       "\u001b[2;36m          \u001b[0m\u001b[2;36m \u001b[0m\u001b[34mINFO    \u001b[0m Collaborator two is sending task results for train, round \u001b[1;36m0\u001b[0m                                                                \u001b]8;id=849101;file://C:\\Users\\BHSU\\AppData\\Local\\Programs\\Python\\Python39\\lib\\site-packages\\openfl\\component\\aggregator\\aggregator.py\u001b\\\u001b[2maggregator.py\u001b[0m\u001b]8;;\u001b\\\u001b[2m:\u001b[0m\u001b]8;id=809829;file://C:\\Users\\BHSU\\AppData\\Local\\Programs\\Python\\Python39\\lib\\site-packages\\openfl\\component\\aggregator\\aggregator.py#520\u001b\\\u001b[2m520\u001b[0m\u001b]8;;\u001b\\\n"
      ]
     },
     "metadata": {},
     "output_type": "display_data"
    },
    {
     "data": {
      "text/html": [
       "<pre style=\"white-space:pre;overflow-x:auto;line-height:normal;font-family:Menlo,'DejaVu Sans Mono',consolas,'Courier New',monospace\"><span style=\"color: #7fbfbf; text-decoration-color: #7fbfbf\">           </span>METRIC   Round <span style=\"color: #008080; text-decoration-color: #008080; font-weight: bold\">0</span>, collaborator two train result loss:    <span style=\"color: #008080; text-decoration-color: #008080; font-weight: bold\">0.511241</span>                                                                   <a href=\"file://C:\\Users\\BHSU\\AppData\\Local\\Programs\\Python\\Python39\\lib\\site-packages\\openfl\\component\\aggregator\\aggregator.py\" target=\"_blank\"><span style=\"color: #7f7f7f; text-decoration-color: #7f7f7f\">aggregator.py</span></a><span style=\"color: #7f7f7f; text-decoration-color: #7f7f7f\">:</span><a href=\"file://C:\\Users\\BHSU\\AppData\\Local\\Programs\\Python\\Python39\\lib\\site-packages\\openfl\\component\\aggregator\\aggregator.py#559\" target=\"_blank\"><span style=\"color: #7f7f7f; text-decoration-color: #7f7f7f\">559</span></a>\n",
       "</pre>\n"
      ],
      "text/plain": [
       "\u001b[2;36m          \u001b[0m\u001b[2;36m \u001b[0mMETRIC   Round \u001b[1;36m0\u001b[0m, collaborator two train result loss:    \u001b[1;36m0.511241\u001b[0m                                                                   \u001b]8;id=376841;file://C:\\Users\\BHSU\\AppData\\Local\\Programs\\Python\\Python39\\lib\\site-packages\\openfl\\component\\aggregator\\aggregator.py\u001b\\\u001b[2maggregator.py\u001b[0m\u001b]8;;\u001b\\\u001b[2m:\u001b[0m\u001b]8;id=730469;file://C:\\Users\\BHSU\\AppData\\Local\\Programs\\Python\\Python39\\lib\\site-packages\\openfl\\component\\aggregator\\aggregator.py#559\u001b\\\u001b[2m559\u001b[0m\u001b]8;;\u001b\\\n"
      ]
     },
     "metadata": {},
     "output_type": "display_data"
    },
    {
     "data": {
      "text/html": [
       "<pre style=\"white-space:pre;overflow-x:auto;line-height:normal;font-family:Menlo,'DejaVu Sans Mono',consolas,'Courier New',monospace\"><span style=\"color: #7fbfbf; text-decoration-color: #7fbfbf\">           </span><span style=\"color: #000080; text-decoration-color: #000080\">INFO    </span> Using TaskRunner subclassing API                                                                                         <a href=\"file://C:\\Users\\BHSU\\AppData\\Local\\Programs\\Python\\Python39\\lib\\site-packages\\openfl\\component\\collaborator\\collaborator.py\" target=\"_blank\"><span style=\"color: #7f7f7f; text-decoration-color: #7f7f7f\">collaborator.py</span></a><span style=\"color: #7f7f7f; text-decoration-color: #7f7f7f\">:</span><a href=\"file://C:\\Users\\BHSU\\AppData\\Local\\Programs\\Python\\Python39\\lib\\site-packages\\openfl\\component\\collaborator\\collaborator.py#253\" target=\"_blank\"><span style=\"color: #7f7f7f; text-decoration-color: #7f7f7f\">253</span></a>\n",
       "</pre>\n"
      ],
      "text/plain": [
       "\u001b[2;36m          \u001b[0m\u001b[2;36m \u001b[0m\u001b[34mINFO    \u001b[0m Using TaskRunner subclassing API                                                                                         \u001b]8;id=954275;file://C:\\Users\\BHSU\\AppData\\Local\\Programs\\Python\\Python39\\lib\\site-packages\\openfl\\component\\collaborator\\collaborator.py\u001b\\\u001b[2mcollaborator.py\u001b[0m\u001b]8;;\u001b\\\u001b[2m:\u001b[0m\u001b]8;id=159350;file://C:\\Users\\BHSU\\AppData\\Local\\Programs\\Python\\Python39\\lib\\site-packages\\openfl\\component\\collaborator\\collaborator.py#253\u001b\\\u001b[2m253\u001b[0m\u001b]8;;\u001b\\\n"
      ]
     },
     "metadata": {},
     "output_type": "display_data"
    },
    {
     "name": "stdout",
     "output_type": "stream",
     "text": [
      "282/282 [==============================] - 0s 555us/step - loss: 0.3191 - accuracy: 0.9046\n"
     ]
    },
    {
     "data": {
      "text/html": [
       "<pre style=\"white-space:pre;overflow-x:auto;line-height:normal;font-family:Menlo,'DejaVu Sans Mono',consolas,'Courier New',monospace\"><span style=\"color: #7fbfbf; text-decoration-color: #7fbfbf\">           </span>METRIC   Round <span style=\"color: #008080; text-decoration-color: #008080; font-weight: bold\">0</span>, collaborator two is sending metric for task locally_tuned_model_validation: accuracy   <span style=\"color: #008080; text-decoration-color: #008080; font-weight: bold\">0.904556</span>                 <a href=\"file://C:\\Users\\BHSU\\AppData\\Local\\Programs\\Python\\Python39\\lib\\site-packages\\openfl\\component\\collaborator\\collaborator.py\" target=\"_blank\"><span style=\"color: #7f7f7f; text-decoration-color: #7f7f7f\">collaborator.py</span></a><span style=\"color: #7f7f7f; text-decoration-color: #7f7f7f\">:</span><a href=\"file://C:\\Users\\BHSU\\AppData\\Local\\Programs\\Python\\Python39\\lib\\site-packages\\openfl\\component\\collaborator\\collaborator.py#415\" target=\"_blank\"><span style=\"color: #7f7f7f; text-decoration-color: #7f7f7f\">415</span></a>\n",
       "</pre>\n"
      ],
      "text/plain": [
       "\u001b[2;36m          \u001b[0m\u001b[2;36m \u001b[0mMETRIC   Round \u001b[1;36m0\u001b[0m, collaborator two is sending metric for task locally_tuned_model_validation: accuracy   \u001b[1;36m0.904556\u001b[0m                 \u001b]8;id=677859;file://C:\\Users\\BHSU\\AppData\\Local\\Programs\\Python\\Python39\\lib\\site-packages\\openfl\\component\\collaborator\\collaborator.py\u001b\\\u001b[2mcollaborator.py\u001b[0m\u001b]8;;\u001b\\\u001b[2m:\u001b[0m\u001b]8;id=885335;file://C:\\Users\\BHSU\\AppData\\Local\\Programs\\Python\\Python39\\lib\\site-packages\\openfl\\component\\collaborator\\collaborator.py#415\u001b\\\u001b[2m415\u001b[0m\u001b]8;;\u001b\\\n"
      ]
     },
     "metadata": {},
     "output_type": "display_data"
    },
    {
     "data": {
      "text/html": [
       "<pre style=\"white-space:pre;overflow-x:auto;line-height:normal;font-family:Menlo,'DejaVu Sans Mono',consolas,'Courier New',monospace\"><span style=\"color: #7fbfbf; text-decoration-color: #7fbfbf\">           </span><span style=\"color: #000080; text-decoration-color: #000080\">INFO    </span> Collaborator two is sending task results for locally_tuned_model_validation, round <span style=\"color: #008080; text-decoration-color: #008080; font-weight: bold\">0</span>                                       <a href=\"file://C:\\Users\\BHSU\\AppData\\Local\\Programs\\Python\\Python39\\lib\\site-packages\\openfl\\component\\aggregator\\aggregator.py\" target=\"_blank\"><span style=\"color: #7f7f7f; text-decoration-color: #7f7f7f\">aggregator.py</span></a><span style=\"color: #7f7f7f; text-decoration-color: #7f7f7f\">:</span><a href=\"file://C:\\Users\\BHSU\\AppData\\Local\\Programs\\Python\\Python39\\lib\\site-packages\\openfl\\component\\aggregator\\aggregator.py#520\" target=\"_blank\"><span style=\"color: #7f7f7f; text-decoration-color: #7f7f7f\">520</span></a>\n",
       "</pre>\n"
      ],
      "text/plain": [
       "\u001b[2;36m          \u001b[0m\u001b[2;36m \u001b[0m\u001b[34mINFO    \u001b[0m Collaborator two is sending task results for locally_tuned_model_validation, round \u001b[1;36m0\u001b[0m                                       \u001b]8;id=289725;file://C:\\Users\\BHSU\\AppData\\Local\\Programs\\Python\\Python39\\lib\\site-packages\\openfl\\component\\aggregator\\aggregator.py\u001b\\\u001b[2maggregator.py\u001b[0m\u001b]8;;\u001b\\\u001b[2m:\u001b[0m\u001b]8;id=571357;file://C:\\Users\\BHSU\\AppData\\Local\\Programs\\Python\\Python39\\lib\\site-packages\\openfl\\component\\aggregator\\aggregator.py#520\u001b\\\u001b[2m520\u001b[0m\u001b]8;;\u001b\\\n"
      ]
     },
     "metadata": {},
     "output_type": "display_data"
    },
    {
     "data": {
      "text/html": [
       "<pre style=\"white-space:pre;overflow-x:auto;line-height:normal;font-family:Menlo,'DejaVu Sans Mono',consolas,'Courier New',monospace\"><span style=\"color: #7fbfbf; text-decoration-color: #7fbfbf\">           </span>METRIC   Round <span style=\"color: #008080; text-decoration-color: #008080; font-weight: bold\">0</span>, collaborator validate_local locally_tuned_model_validation result accuracy:    <span style=\"color: #008080; text-decoration-color: #008080; font-weight: bold\">0.904556</span>                           <a href=\"file://C:\\Users\\BHSU\\AppData\\Local\\Programs\\Python\\Python39\\lib\\site-packages\\openfl\\component\\aggregator\\aggregator.py\" target=\"_blank\"><span style=\"color: #7f7f7f; text-decoration-color: #7f7f7f\">aggregator.py</span></a><span style=\"color: #7f7f7f; text-decoration-color: #7f7f7f\">:</span><a href=\"file://C:\\Users\\BHSU\\AppData\\Local\\Programs\\Python\\Python39\\lib\\site-packages\\openfl\\component\\aggregator\\aggregator.py#559\" target=\"_blank\"><span style=\"color: #7f7f7f; text-decoration-color: #7f7f7f\">559</span></a>\n",
       "</pre>\n"
      ],
      "text/plain": [
       "\u001b[2;36m          \u001b[0m\u001b[2;36m \u001b[0mMETRIC   Round \u001b[1;36m0\u001b[0m, collaborator validate_local locally_tuned_model_validation result accuracy:    \u001b[1;36m0.904556\u001b[0m                           \u001b]8;id=953146;file://C:\\Users\\BHSU\\AppData\\Local\\Programs\\Python\\Python39\\lib\\site-packages\\openfl\\component\\aggregator\\aggregator.py\u001b\\\u001b[2maggregator.py\u001b[0m\u001b]8;;\u001b\\\u001b[2m:\u001b[0m\u001b]8;id=4006;file://C:\\Users\\BHSU\\AppData\\Local\\Programs\\Python\\Python39\\lib\\site-packages\\openfl\\component\\aggregator\\aggregator.py#559\u001b\\\u001b[2m559\u001b[0m\u001b]8;;\u001b\\\n"
      ]
     },
     "metadata": {},
     "output_type": "display_data"
    },
    {
     "data": {
      "text/html": [
       "<pre style=\"white-space:pre;overflow-x:auto;line-height:normal;font-family:Menlo,'DejaVu Sans Mono',consolas,'Courier New',monospace\"><span style=\"color: #7fbfbf; text-decoration-color: #7fbfbf\">           </span>METRIC   Round <span style=\"color: #008080; text-decoration-color: #008080; font-weight: bold\">0</span>, aggregator: locally_tuned_model_validation                                                                        <a href=\"file://C:\\Users\\BHSU\\AppData\\Local\\Programs\\Python\\Python39\\lib\\site-packages\\openfl\\component\\aggregator\\aggregator.py\" target=\"_blank\"><span style=\"color: #7f7f7f; text-decoration-color: #7f7f7f\">aggregator.py</span></a><span style=\"color: #7f7f7f; text-decoration-color: #7f7f7f\">:</span><a href=\"file://C:\\Users\\BHSU\\AppData\\Local\\Programs\\Python\\Python39\\lib\\site-packages\\openfl\\component\\aggregator\\aggregator.py#842\" target=\"_blank\"><span style=\"color: #7f7f7f; text-decoration-color: #7f7f7f\">842</span></a>\n",
       "<span style=\"color: #7fbfbf; text-decoration-color: #7fbfbf\">           </span>         <span style=\"font-weight: bold\">&lt;</span><span style=\"color: #ff00ff; text-decoration-color: #ff00ff; font-weight: bold\">openfl.interface.aggregation_functions.weighted_average.WeightedAverage</span><span style=\"color: #000000; text-decoration-color: #000000\"> object at </span><span style=\"color: #008080; text-decoration-color: #008080; font-weight: bold\">0x0000020F55654AC0</span><span style=\"font-weight: bold\">&gt;</span> accuracy:           <span style=\"color: #7f7f7f; text-decoration-color: #7f7f7f\">                 </span>\n",
       "<span style=\"color: #7fbfbf; text-decoration-color: #7fbfbf\">           </span>         <span style=\"color: #008080; text-decoration-color: #008080; font-weight: bold\">0.900222</span>                                                                                                                   <span style=\"color: #7f7f7f; text-decoration-color: #7f7f7f\">                 </span>\n",
       "</pre>\n"
      ],
      "text/plain": [
       "\u001b[2;36m          \u001b[0m\u001b[2;36m \u001b[0mMETRIC   Round \u001b[1;36m0\u001b[0m, aggregator: locally_tuned_model_validation                                                                        \u001b]8;id=975483;file://C:\\Users\\BHSU\\AppData\\Local\\Programs\\Python\\Python39\\lib\\site-packages\\openfl\\component\\aggregator\\aggregator.py\u001b\\\u001b[2maggregator.py\u001b[0m\u001b]8;;\u001b\\\u001b[2m:\u001b[0m\u001b]8;id=178359;file://C:\\Users\\BHSU\\AppData\\Local\\Programs\\Python\\Python39\\lib\\site-packages\\openfl\\component\\aggregator\\aggregator.py#842\u001b\\\u001b[2m842\u001b[0m\u001b]8;;\u001b\\\n",
       "\u001b[2;36m           \u001b[0m         \u001b[1m<\u001b[0m\u001b[1;95mopenfl.interface.aggregation_functions.weighted_average.WeightedAverage\u001b[0m\u001b[39m object at \u001b[0m\u001b[1;36m0x0000020F55654AC0\u001b[0m\u001b[1m>\u001b[0m accuracy:           \u001b[2m                 \u001b[0m\n",
       "\u001b[2;36m           \u001b[0m         \u001b[1;36m0.900222\u001b[0m                                                                                                                   \u001b[2m                 \u001b[0m\n"
      ]
     },
     "metadata": {},
     "output_type": "display_data"
    },
    {
     "data": {
      "text/html": [
       "<pre style=\"white-space:pre;overflow-x:auto;line-height:normal;font-family:Menlo,'DejaVu Sans Mono',consolas,'Courier New',monospace\"><span style=\"color: #7fbfbf; text-decoration-color: #7fbfbf\">           </span>METRIC   Round <span style=\"color: #008080; text-decoration-color: #008080; font-weight: bold\">0</span>, aggregator: aggregated_model_validation <span style=\"font-weight: bold\">&lt;</span><span style=\"color: #ff00ff; text-decoration-color: #ff00ff; font-weight: bold\">openfl.interface.aggregation_functions.weighted_average.WeightedAverage</span><span style=\"color: #000000; text-decoration-color: #000000\"> </span> <a href=\"file://C:\\Users\\BHSU\\AppData\\Local\\Programs\\Python\\Python39\\lib\\site-packages\\openfl\\component\\aggregator\\aggregator.py\" target=\"_blank\"><span style=\"color: #7f7f7f; text-decoration-color: #7f7f7f\">aggregator.py</span></a><span style=\"color: #7f7f7f; text-decoration-color: #7f7f7f\">:</span><a href=\"file://C:\\Users\\BHSU\\AppData\\Local\\Programs\\Python\\Python39\\lib\\site-packages\\openfl\\component\\aggregator\\aggregator.py#842\" target=\"_blank\"><span style=\"color: #7f7f7f; text-decoration-color: #7f7f7f\">842</span></a>\n",
       "<span style=\"color: #7fbfbf; text-decoration-color: #7fbfbf\">           </span>         <span style=\"color: #000000; text-decoration-color: #000000\">object at </span><span style=\"color: #008080; text-decoration-color: #008080; font-weight: bold\">0x0000020F55654AC0</span><span style=\"font-weight: bold\">&gt;</span> accuracy:       <span style=\"color: #008080; text-decoration-color: #008080; font-weight: bold\">0.127889</span>                                                                     <span style=\"color: #7f7f7f; text-decoration-color: #7f7f7f\">                 </span>\n",
       "</pre>\n"
      ],
      "text/plain": [
       "\u001b[2;36m          \u001b[0m\u001b[2;36m \u001b[0mMETRIC   Round \u001b[1;36m0\u001b[0m, aggregator: aggregated_model_validation \u001b[1m<\u001b[0m\u001b[1;95mopenfl.interface.aggregation_functions.weighted_average.WeightedAverage\u001b[0m\u001b[39m \u001b[0m \u001b]8;id=812166;file://C:\\Users\\BHSU\\AppData\\Local\\Programs\\Python\\Python39\\lib\\site-packages\\openfl\\component\\aggregator\\aggregator.py\u001b\\\u001b[2maggregator.py\u001b[0m\u001b]8;;\u001b\\\u001b[2m:\u001b[0m\u001b]8;id=668972;file://C:\\Users\\BHSU\\AppData\\Local\\Programs\\Python\\Python39\\lib\\site-packages\\openfl\\component\\aggregator\\aggregator.py#842\u001b\\\u001b[2m842\u001b[0m\u001b]8;;\u001b\\\n",
       "\u001b[2;36m           \u001b[0m         \u001b[39mobject at \u001b[0m\u001b[1;36m0x0000020F55654AC0\u001b[0m\u001b[1m>\u001b[0m accuracy:       \u001b[1;36m0.127889\u001b[0m                                                                     \u001b[2m                 \u001b[0m\n"
      ]
     },
     "metadata": {},
     "output_type": "display_data"
    },
    {
     "data": {
      "text/html": [
       "<pre style=\"white-space:pre;overflow-x:auto;line-height:normal;font-family:Menlo,'DejaVu Sans Mono',consolas,'Courier New',monospace\"><span style=\"color: #7fbfbf; text-decoration-color: #7fbfbf\">           </span>METRIC   Round <span style=\"color: #008080; text-decoration-color: #008080; font-weight: bold\">0</span>: saved the best model with score <span style=\"color: #008080; text-decoration-color: #008080; font-weight: bold\">0.127889</span>                                                                          <a href=\"file://C:\\Users\\BHSU\\AppData\\Local\\Programs\\Python\\Python39\\lib\\site-packages\\openfl\\component\\aggregator\\aggregator.py\" target=\"_blank\"><span style=\"color: #7f7f7f; text-decoration-color: #7f7f7f\">aggregator.py</span></a><span style=\"color: #7f7f7f; text-decoration-color: #7f7f7f\">:</span><a href=\"file://C:\\Users\\BHSU\\AppData\\Local\\Programs\\Python\\Python39\\lib\\site-packages\\openfl\\component\\aggregator\\aggregator.py#858\" target=\"_blank\"><span style=\"color: #7f7f7f; text-decoration-color: #7f7f7f\">858</span></a>\n",
       "</pre>\n"
      ],
      "text/plain": [
       "\u001b[2;36m          \u001b[0m\u001b[2;36m \u001b[0mMETRIC   Round \u001b[1;36m0\u001b[0m: saved the best model with score \u001b[1;36m0.127889\u001b[0m                                                                          \u001b]8;id=429168;file://C:\\Users\\BHSU\\AppData\\Local\\Programs\\Python\\Python39\\lib\\site-packages\\openfl\\component\\aggregator\\aggregator.py\u001b\\\u001b[2maggregator.py\u001b[0m\u001b]8;;\u001b\\\u001b[2m:\u001b[0m\u001b]8;id=90903;file://C:\\Users\\BHSU\\AppData\\Local\\Programs\\Python\\Python39\\lib\\site-packages\\openfl\\component\\aggregator\\aggregator.py#858\u001b\\\u001b[2m858\u001b[0m\u001b]8;;\u001b\\\n"
      ]
     },
     "metadata": {},
     "output_type": "display_data"
    },
    {
     "data": {
      "text/html": [
       "<pre style=\"white-space:pre;overflow-x:auto;line-height:normal;font-family:Menlo,'DejaVu Sans Mono',consolas,'Courier New',monospace\"><span style=\"color: #7fbfbf; text-decoration-color: #7fbfbf\">           </span>METRIC   Round <span style=\"color: #008080; text-decoration-color: #008080; font-weight: bold\">0</span>, aggregator: train <span style=\"font-weight: bold\">&lt;</span><span style=\"color: #ff00ff; text-decoration-color: #ff00ff; font-weight: bold\">openfl.interface.aggregation_functions.weighted_average.WeightedAverage</span><span style=\"color: #000000; text-decoration-color: #000000\"> object at </span>             <a href=\"file://C:\\Users\\BHSU\\AppData\\Local\\Programs\\Python\\Python39\\lib\\site-packages\\openfl\\component\\aggregator\\aggregator.py\" target=\"_blank\"><span style=\"color: #7f7f7f; text-decoration-color: #7f7f7f\">aggregator.py</span></a><span style=\"color: #7f7f7f; text-decoration-color: #7f7f7f\">:</span><a href=\"file://C:\\Users\\BHSU\\AppData\\Local\\Programs\\Python\\Python39\\lib\\site-packages\\openfl\\component\\aggregator\\aggregator.py#842\" target=\"_blank\"><span style=\"color: #7f7f7f; text-decoration-color: #7f7f7f\">842</span></a>\n",
       "<span style=\"color: #7fbfbf; text-decoration-color: #7fbfbf\">           </span>         <span style=\"color: #008080; text-decoration-color: #008080; font-weight: bold\">0x0000020F55654AC0</span><span style=\"font-weight: bold\">&gt;</span> loss: <span style=\"color: #008080; text-decoration-color: #008080; font-weight: bold\">0.522551</span>                                                                                         <span style=\"color: #7f7f7f; text-decoration-color: #7f7f7f\">                 </span>\n",
       "</pre>\n"
      ],
      "text/plain": [
       "\u001b[2;36m          \u001b[0m\u001b[2;36m \u001b[0mMETRIC   Round \u001b[1;36m0\u001b[0m, aggregator: train \u001b[1m<\u001b[0m\u001b[1;95mopenfl.interface.aggregation_functions.weighted_average.WeightedAverage\u001b[0m\u001b[39m object at \u001b[0m             \u001b]8;id=570109;file://C:\\Users\\BHSU\\AppData\\Local\\Programs\\Python\\Python39\\lib\\site-packages\\openfl\\component\\aggregator\\aggregator.py\u001b\\\u001b[2maggregator.py\u001b[0m\u001b]8;;\u001b\\\u001b[2m:\u001b[0m\u001b]8;id=693944;file://C:\\Users\\BHSU\\AppData\\Local\\Programs\\Python\\Python39\\lib\\site-packages\\openfl\\component\\aggregator\\aggregator.py#842\u001b\\\u001b[2m842\u001b[0m\u001b]8;;\u001b\\\n",
       "\u001b[2;36m           \u001b[0m         \u001b[1;36m0x0000020F55654AC0\u001b[0m\u001b[1m>\u001b[0m loss: \u001b[1;36m0.522551\u001b[0m                                                                                         \u001b[2m                 \u001b[0m\n"
      ]
     },
     "metadata": {},
     "output_type": "display_data"
    },
    {
     "data": {
      "text/html": [
       "<pre style=\"white-space:pre;overflow-x:auto;line-height:normal;font-family:Menlo,'DejaVu Sans Mono',consolas,'Courier New',monospace\"><span style=\"color: #7fbfbf; text-decoration-color: #7fbfbf\">           </span><span style=\"color: #000080; text-decoration-color: #000080\">INFO    </span> Saving round <span style=\"color: #008080; text-decoration-color: #008080; font-weight: bold\">1</span> model<span style=\"color: #808000; text-decoration-color: #808000\">...</span>                                                                                                    <a href=\"file://C:\\Users\\BHSU\\AppData\\Local\\Programs\\Python\\Python39\\lib\\site-packages\\openfl\\component\\aggregator\\aggregator.py\" target=\"_blank\"><span style=\"color: #7f7f7f; text-decoration-color: #7f7f7f\">aggregator.py</span></a><span style=\"color: #7f7f7f; text-decoration-color: #7f7f7f\">:</span><a href=\"file://C:\\Users\\BHSU\\AppData\\Local\\Programs\\Python\\Python39\\lib\\site-packages\\openfl\\component\\aggregator\\aggregator.py#894\" target=\"_blank\"><span style=\"color: #7f7f7f; text-decoration-color: #7f7f7f\">894</span></a>\n",
       "</pre>\n"
      ],
      "text/plain": [
       "\u001b[2;36m          \u001b[0m\u001b[2;36m \u001b[0m\u001b[34mINFO    \u001b[0m Saving round \u001b[1;36m1\u001b[0m model\u001b[33m...\u001b[0m                                                                                                    \u001b]8;id=454981;file://C:\\Users\\BHSU\\AppData\\Local\\Programs\\Python\\Python39\\lib\\site-packages\\openfl\\component\\aggregator\\aggregator.py\u001b\\\u001b[2maggregator.py\u001b[0m\u001b]8;;\u001b\\\u001b[2m:\u001b[0m\u001b]8;id=316602;file://C:\\Users\\BHSU\\AppData\\Local\\Programs\\Python\\Python39\\lib\\site-packages\\openfl\\component\\aggregator\\aggregator.py#894\u001b\\\u001b[2m894\u001b[0m\u001b]8;;\u001b\\\n"
      ]
     },
     "metadata": {},
     "output_type": "display_data"
    },
    {
     "data": {
      "text/html": [
       "<pre style=\"white-space:pre;overflow-x:auto;line-height:normal;font-family:Menlo,'DejaVu Sans Mono',consolas,'Courier New',monospace\"><span style=\"color: #7fbfbf; text-decoration-color: #7fbfbf\">           </span><span style=\"color: #000080; text-decoration-color: #000080\">INFO    </span> Starting round <span style=\"color: #008080; text-decoration-color: #008080; font-weight: bold\">1</span><span style=\"color: #808000; text-decoration-color: #808000\">...</span>                                                                                                        <a href=\"file://C:\\Users\\BHSU\\AppData\\Local\\Programs\\Python\\Python39\\lib\\site-packages\\openfl\\component\\aggregator\\aggregator.py\" target=\"_blank\"><span style=\"color: #7f7f7f; text-decoration-color: #7f7f7f\">aggregator.py</span></a><span style=\"color: #7f7f7f; text-decoration-color: #7f7f7f\">:</span><a href=\"file://C:\\Users\\BHSU\\AppData\\Local\\Programs\\Python\\Python39\\lib\\site-packages\\openfl\\component\\aggregator\\aggregator.py#901\" target=\"_blank\"><span style=\"color: #7f7f7f; text-decoration-color: #7f7f7f\">901</span></a>\n",
       "</pre>\n"
      ],
      "text/plain": [
       "\u001b[2;36m          \u001b[0m\u001b[2;36m \u001b[0m\u001b[34mINFO    \u001b[0m Starting round \u001b[1;36m1\u001b[0m\u001b[33m...\u001b[0m                                                                                                        \u001b]8;id=861523;file://C:\\Users\\BHSU\\AppData\\Local\\Programs\\Python\\Python39\\lib\\site-packages\\openfl\\component\\aggregator\\aggregator.py\u001b\\\u001b[2maggregator.py\u001b[0m\u001b]8;;\u001b\\\u001b[2m:\u001b[0m\u001b]8;id=788334;file://C:\\Users\\BHSU\\AppData\\Local\\Programs\\Python\\Python39\\lib\\site-packages\\openfl\\component\\aggregator\\aggregator.py#901\u001b\\\u001b[2m901\u001b[0m\u001b]8;;\u001b\\\n"
      ]
     },
     "metadata": {},
     "output_type": "display_data"
    },
    {
     "data": {
      "text/html": [
       "<pre style=\"white-space:pre;overflow-x:auto;line-height:normal;font-family:Menlo,'DejaVu Sans Mono',consolas,'Courier New',monospace\"><span style=\"color: #7fbfbf; text-decoration-color: #7fbfbf\">           </span><span style=\"color: #000080; text-decoration-color: #000080\">INFO    </span> All tasks completed on two for round <span style=\"color: #008080; text-decoration-color: #008080; font-weight: bold\">0</span><span style=\"color: #808000; text-decoration-color: #808000\">...</span>                                                                                <a href=\"file://C:\\Users\\BHSU\\AppData\\Local\\Programs\\Python\\Python39\\lib\\site-packages\\openfl\\component\\collaborator\\collaborator.py\" target=\"_blank\"><span style=\"color: #7f7f7f; text-decoration-color: #7f7f7f\">collaborator.py</span></a><span style=\"color: #7f7f7f; text-decoration-color: #7f7f7f\">:</span><a href=\"file://C:\\Users\\BHSU\\AppData\\Local\\Programs\\Python\\Python39\\lib\\site-packages\\openfl\\component\\collaborator\\collaborator.py#171\" target=\"_blank\"><span style=\"color: #7f7f7f; text-decoration-color: #7f7f7f\">171</span></a>\n",
       "</pre>\n"
      ],
      "text/plain": [
       "\u001b[2;36m          \u001b[0m\u001b[2;36m \u001b[0m\u001b[34mINFO    \u001b[0m All tasks completed on two for round \u001b[1;36m0\u001b[0m\u001b[33m...\u001b[0m                                                                                \u001b]8;id=109575;file://C:\\Users\\BHSU\\AppData\\Local\\Programs\\Python\\Python39\\lib\\site-packages\\openfl\\component\\collaborator\\collaborator.py\u001b\\\u001b[2mcollaborator.py\u001b[0m\u001b]8;;\u001b\\\u001b[2m:\u001b[0m\u001b]8;id=836521;file://C:\\Users\\BHSU\\AppData\\Local\\Programs\\Python\\Python39\\lib\\site-packages\\openfl\\component\\collaborator\\collaborator.py#171\u001b\\\u001b[2m171\u001b[0m\u001b]8;;\u001b\\\n"
      ]
     },
     "metadata": {},
     "output_type": "display_data"
    },
    {
     "data": {
      "text/html": [
       "<pre style=\"white-space:pre;overflow-x:auto;line-height:normal;font-family:Menlo,'DejaVu Sans Mono',consolas,'Courier New',monospace\"><span style=\"color: #7fbfbf; text-decoration-color: #7fbfbf\">           </span><span style=\"color: #000080; text-decoration-color: #000080\">INFO    </span> Waiting for tasks<span style=\"color: #808000; text-decoration-color: #808000\">...</span>                                                                                                     <a href=\"file://C:\\Users\\BHSU\\AppData\\Local\\Programs\\Python\\Python39\\lib\\site-packages\\openfl\\component\\collaborator\\collaborator.py\" target=\"_blank\"><span style=\"color: #7f7f7f; text-decoration-color: #7f7f7f\">collaborator.py</span></a><span style=\"color: #7f7f7f; text-decoration-color: #7f7f7f\">:</span><a href=\"file://C:\\Users\\BHSU\\AppData\\Local\\Programs\\Python\\Python39\\lib\\site-packages\\openfl\\component\\collaborator\\collaborator.py#178\" target=\"_blank\"><span style=\"color: #7f7f7f; text-decoration-color: #7f7f7f\">178</span></a>\n",
       "</pre>\n"
      ],
      "text/plain": [
       "\u001b[2;36m          \u001b[0m\u001b[2;36m \u001b[0m\u001b[34mINFO    \u001b[0m Waiting for tasks\u001b[33m...\u001b[0m                                                                                                     \u001b]8;id=611863;file://C:\\Users\\BHSU\\AppData\\Local\\Programs\\Python\\Python39\\lib\\site-packages\\openfl\\component\\collaborator\\collaborator.py\u001b\\\u001b[2mcollaborator.py\u001b[0m\u001b]8;;\u001b\\\u001b[2m:\u001b[0m\u001b]8;id=699318;file://C:\\Users\\BHSU\\AppData\\Local\\Programs\\Python\\Python39\\lib\\site-packages\\openfl\\component\\collaborator\\collaborator.py#178\u001b\\\u001b[2m178\u001b[0m\u001b]8;;\u001b\\\n"
      ]
     },
     "metadata": {},
     "output_type": "display_data"
    },
    {
     "data": {
      "text/html": [
       "<pre style=\"white-space:pre;overflow-x:auto;line-height:normal;font-family:Menlo,'DejaVu Sans Mono',consolas,'Courier New',monospace\"><span style=\"color: #7fbfbf; text-decoration-color: #7fbfbf\">           </span><span style=\"color: #000080; text-decoration-color: #000080\">INFO    </span> Sending tasks to collaborator one for round <span style=\"color: #008080; text-decoration-color: #008080; font-weight: bold\">1</span>                                                                              <a href=\"file://C:\\Users\\BHSU\\AppData\\Local\\Programs\\Python\\Python39\\lib\\site-packages\\openfl\\component\\aggregator\\aggregator.py\" target=\"_blank\"><span style=\"color: #7f7f7f; text-decoration-color: #7f7f7f\">aggregator.py</span></a><span style=\"color: #7f7f7f; text-decoration-color: #7f7f7f\">:</span><a href=\"file://C:\\Users\\BHSU\\AppData\\Local\\Programs\\Python\\Python39\\lib\\site-packages\\openfl\\component\\aggregator\\aggregator.py#329\" target=\"_blank\"><span style=\"color: #7f7f7f; text-decoration-color: #7f7f7f\">329</span></a>\n",
       "</pre>\n"
      ],
      "text/plain": [
       "\u001b[2;36m          \u001b[0m\u001b[2;36m \u001b[0m\u001b[34mINFO    \u001b[0m Sending tasks to collaborator one for round \u001b[1;36m1\u001b[0m                                                                              \u001b]8;id=377375;file://C:\\Users\\BHSU\\AppData\\Local\\Programs\\Python\\Python39\\lib\\site-packages\\openfl\\component\\aggregator\\aggregator.py\u001b\\\u001b[2maggregator.py\u001b[0m\u001b]8;;\u001b\\\u001b[2m:\u001b[0m\u001b]8;id=726489;file://C:\\Users\\BHSU\\AppData\\Local\\Programs\\Python\\Python39\\lib\\site-packages\\openfl\\component\\aggregator\\aggregator.py#329\u001b\\\u001b[2m329\u001b[0m\u001b]8;;\u001b\\\n"
      ]
     },
     "metadata": {},
     "output_type": "display_data"
    },
    {
     "data": {
      "text/html": [
       "<pre style=\"white-space:pre;overflow-x:auto;line-height:normal;font-family:Menlo,'DejaVu Sans Mono',consolas,'Courier New',monospace\"><span style=\"color: #7fbfbf; text-decoration-color: #7fbfbf\">           </span><span style=\"color: #000080; text-decoration-color: #000080\">INFO    </span> Received the following tasks: <span style=\"font-weight: bold\">[</span><span style=\"color: #008000; text-decoration-color: #008000\">'aggregated_model_validation'</span>, <span style=\"color: #008000; text-decoration-color: #008000\">'train'</span>, <span style=\"color: #008000; text-decoration-color: #008000\">'locally_tuned_model_validation'</span><span style=\"font-weight: bold\">]</span>                 <a href=\"file://C:\\Users\\BHSU\\AppData\\Local\\Programs\\Python\\Python39\\lib\\site-packages\\openfl\\component\\collaborator\\collaborator.py\" target=\"_blank\"><span style=\"color: #7f7f7f; text-decoration-color: #7f7f7f\">collaborator.py</span></a><span style=\"color: #7f7f7f; text-decoration-color: #7f7f7f\">:</span><a href=\"file://C:\\Users\\BHSU\\AppData\\Local\\Programs\\Python\\Python39\\lib\\site-packages\\openfl\\component\\collaborator\\collaborator.py#168\" target=\"_blank\"><span style=\"color: #7f7f7f; text-decoration-color: #7f7f7f\">168</span></a>\n",
       "</pre>\n"
      ],
      "text/plain": [
       "\u001b[2;36m          \u001b[0m\u001b[2;36m \u001b[0m\u001b[34mINFO    \u001b[0m Received the following tasks: \u001b[1m[\u001b[0m\u001b[32m'aggregated_model_validation'\u001b[0m, \u001b[32m'train'\u001b[0m, \u001b[32m'locally_tuned_model_validation'\u001b[0m\u001b[1m]\u001b[0m                 \u001b]8;id=864548;file://C:\\Users\\BHSU\\AppData\\Local\\Programs\\Python\\Python39\\lib\\site-packages\\openfl\\component\\collaborator\\collaborator.py\u001b\\\u001b[2mcollaborator.py\u001b[0m\u001b]8;;\u001b\\\u001b[2m:\u001b[0m\u001b]8;id=529228;file://C:\\Users\\BHSU\\AppData\\Local\\Programs\\Python\\Python39\\lib\\site-packages\\openfl\\component\\collaborator\\collaborator.py#168\u001b\\\u001b[2m168\u001b[0m\u001b]8;;\u001b\\\n"
      ]
     },
     "metadata": {},
     "output_type": "display_data"
    },
    {
     "data": {
      "text/html": [
       "<pre style=\"white-space:pre;overflow-x:auto;line-height:normal;font-family:Menlo,'DejaVu Sans Mono',consolas,'Courier New',monospace\"><span style=\"color: #7fbfbf; text-decoration-color: #7fbfbf\">           </span><span style=\"color: #000080; text-decoration-color: #000080\">INFO    </span> Using TaskRunner subclassing API                                                                                         <a href=\"file://C:\\Users\\BHSU\\AppData\\Local\\Programs\\Python\\Python39\\lib\\site-packages\\openfl\\component\\collaborator\\collaborator.py\" target=\"_blank\"><span style=\"color: #7f7f7f; text-decoration-color: #7f7f7f\">collaborator.py</span></a><span style=\"color: #7f7f7f; text-decoration-color: #7f7f7f\">:</span><a href=\"file://C:\\Users\\BHSU\\AppData\\Local\\Programs\\Python\\Python39\\lib\\site-packages\\openfl\\component\\collaborator\\collaborator.py#253\" target=\"_blank\"><span style=\"color: #7f7f7f; text-decoration-color: #7f7f7f\">253</span></a>\n",
       "</pre>\n"
      ],
      "text/plain": [
       "\u001b[2;36m          \u001b[0m\u001b[2;36m \u001b[0m\u001b[34mINFO    \u001b[0m Using TaskRunner subclassing API                                                                                         \u001b]8;id=279769;file://C:\\Users\\BHSU\\AppData\\Local\\Programs\\Python\\Python39\\lib\\site-packages\\openfl\\component\\collaborator\\collaborator.py\u001b\\\u001b[2mcollaborator.py\u001b[0m\u001b]8;;\u001b\\\u001b[2m:\u001b[0m\u001b]8;id=932990;file://C:\\Users\\BHSU\\AppData\\Local\\Programs\\Python\\Python39\\lib\\site-packages\\openfl\\component\\collaborator\\collaborator.py#253\u001b\\\u001b[2m253\u001b[0m\u001b]8;;\u001b\\\n"
      ]
     },
     "metadata": {},
     "output_type": "display_data"
    },
    {
     "name": "stdout",
     "output_type": "stream",
     "text": [
      "282/282 [==============================] - 0s 544us/step - loss: 0.3800 - accuracy: 0.8787\n"
     ]
    },
    {
     "data": {
      "text/html": [
       "<pre style=\"white-space:pre;overflow-x:auto;line-height:normal;font-family:Menlo,'DejaVu Sans Mono',consolas,'Courier New',monospace\"><span style=\"color: #7fbfbf; text-decoration-color: #7fbfbf\">           </span>METRIC   Round <span style=\"color: #008080; text-decoration-color: #008080; font-weight: bold\">1</span>, collaborator one is sending metric for task aggregated_model_validation: accuracy      <span style=\"color: #008080; text-decoration-color: #008080; font-weight: bold\">0.878667</span>                 <a href=\"file://C:\\Users\\BHSU\\AppData\\Local\\Programs\\Python\\Python39\\lib\\site-packages\\openfl\\component\\collaborator\\collaborator.py\" target=\"_blank\"><span style=\"color: #7f7f7f; text-decoration-color: #7f7f7f\">collaborator.py</span></a><span style=\"color: #7f7f7f; text-decoration-color: #7f7f7f\">:</span><a href=\"file://C:\\Users\\BHSU\\AppData\\Local\\Programs\\Python\\Python39\\lib\\site-packages\\openfl\\component\\collaborator\\collaborator.py#415\" target=\"_blank\"><span style=\"color: #7f7f7f; text-decoration-color: #7f7f7f\">415</span></a>\n",
       "</pre>\n"
      ],
      "text/plain": [
       "\u001b[2;36m          \u001b[0m\u001b[2;36m \u001b[0mMETRIC   Round \u001b[1;36m1\u001b[0m, collaborator one is sending metric for task aggregated_model_validation: accuracy      \u001b[1;36m0.878667\u001b[0m                 \u001b]8;id=653542;file://C:\\Users\\BHSU\\AppData\\Local\\Programs\\Python\\Python39\\lib\\site-packages\\openfl\\component\\collaborator\\collaborator.py\u001b\\\u001b[2mcollaborator.py\u001b[0m\u001b]8;;\u001b\\\u001b[2m:\u001b[0m\u001b]8;id=613191;file://C:\\Users\\BHSU\\AppData\\Local\\Programs\\Python\\Python39\\lib\\site-packages\\openfl\\component\\collaborator\\collaborator.py#415\u001b\\\u001b[2m415\u001b[0m\u001b]8;;\u001b\\\n"
      ]
     },
     "metadata": {},
     "output_type": "display_data"
    },
    {
     "data": {
      "text/html": [
       "<pre style=\"white-space:pre;overflow-x:auto;line-height:normal;font-family:Menlo,'DejaVu Sans Mono',consolas,'Courier New',monospace\"><span style=\"color: #7fbfbf; text-decoration-color: #7fbfbf\">           </span><span style=\"color: #000080; text-decoration-color: #000080\">INFO    </span> Collaborator one is sending task results for aggregated_model_validation, round <span style=\"color: #008080; text-decoration-color: #008080; font-weight: bold\">1</span>                                          <a href=\"file://C:\\Users\\BHSU\\AppData\\Local\\Programs\\Python\\Python39\\lib\\site-packages\\openfl\\component\\aggregator\\aggregator.py\" target=\"_blank\"><span style=\"color: #7f7f7f; text-decoration-color: #7f7f7f\">aggregator.py</span></a><span style=\"color: #7f7f7f; text-decoration-color: #7f7f7f\">:</span><a href=\"file://C:\\Users\\BHSU\\AppData\\Local\\Programs\\Python\\Python39\\lib\\site-packages\\openfl\\component\\aggregator\\aggregator.py#520\" target=\"_blank\"><span style=\"color: #7f7f7f; text-decoration-color: #7f7f7f\">520</span></a>\n",
       "</pre>\n"
      ],
      "text/plain": [
       "\u001b[2;36m          \u001b[0m\u001b[2;36m \u001b[0m\u001b[34mINFO    \u001b[0m Collaborator one is sending task results for aggregated_model_validation, round \u001b[1;36m1\u001b[0m                                          \u001b]8;id=742089;file://C:\\Users\\BHSU\\AppData\\Local\\Programs\\Python\\Python39\\lib\\site-packages\\openfl\\component\\aggregator\\aggregator.py\u001b\\\u001b[2maggregator.py\u001b[0m\u001b]8;;\u001b\\\u001b[2m:\u001b[0m\u001b]8;id=195945;file://C:\\Users\\BHSU\\AppData\\Local\\Programs\\Python\\Python39\\lib\\site-packages\\openfl\\component\\aggregator\\aggregator.py#520\u001b\\\u001b[2m520\u001b[0m\u001b]8;;\u001b\\\n"
      ]
     },
     "metadata": {},
     "output_type": "display_data"
    },
    {
     "data": {
      "text/html": [
       "<pre style=\"white-space:pre;overflow-x:auto;line-height:normal;font-family:Menlo,'DejaVu Sans Mono',consolas,'Courier New',monospace\"><span style=\"color: #7fbfbf; text-decoration-color: #7fbfbf\">           </span>METRIC   Round <span style=\"color: #008080; text-decoration-color: #008080; font-weight: bold\">1</span>, collaborator validate_agg aggregated_model_validation result accuracy: <span style=\"color: #008080; text-decoration-color: #008080; font-weight: bold\">0.878667</span>                                   <a href=\"file://C:\\Users\\BHSU\\AppData\\Local\\Programs\\Python\\Python39\\lib\\site-packages\\openfl\\component\\aggregator\\aggregator.py\" target=\"_blank\"><span style=\"color: #7f7f7f; text-decoration-color: #7f7f7f\">aggregator.py</span></a><span style=\"color: #7f7f7f; text-decoration-color: #7f7f7f\">:</span><a href=\"file://C:\\Users\\BHSU\\AppData\\Local\\Programs\\Python\\Python39\\lib\\site-packages\\openfl\\component\\aggregator\\aggregator.py#559\" target=\"_blank\"><span style=\"color: #7f7f7f; text-decoration-color: #7f7f7f\">559</span></a>\n",
       "</pre>\n"
      ],
      "text/plain": [
       "\u001b[2;36m          \u001b[0m\u001b[2;36m \u001b[0mMETRIC   Round \u001b[1;36m1\u001b[0m, collaborator validate_agg aggregated_model_validation result accuracy: \u001b[1;36m0.878667\u001b[0m                                   \u001b]8;id=436268;file://C:\\Users\\BHSU\\AppData\\Local\\Programs\\Python\\Python39\\lib\\site-packages\\openfl\\component\\aggregator\\aggregator.py\u001b\\\u001b[2maggregator.py\u001b[0m\u001b]8;;\u001b\\\u001b[2m:\u001b[0m\u001b]8;id=515168;file://C:\\Users\\BHSU\\AppData\\Local\\Programs\\Python\\Python39\\lib\\site-packages\\openfl\\component\\aggregator\\aggregator.py#559\u001b\\\u001b[2m559\u001b[0m\u001b]8;;\u001b\\\n"
      ]
     },
     "metadata": {},
     "output_type": "display_data"
    },
    {
     "data": {
      "text/html": [
       "<pre style=\"white-space:pre;overflow-x:auto;line-height:normal;font-family:Menlo,'DejaVu Sans Mono',consolas,'Courier New',monospace\"><span style=\"color: #7fbfbf; text-decoration-color: #7fbfbf\">           </span><span style=\"color: #000080; text-decoration-color: #000080\">INFO    </span> Using TaskRunner subclassing API                                                                                         <a href=\"file://C:\\Users\\BHSU\\AppData\\Local\\Programs\\Python\\Python39\\lib\\site-packages\\openfl\\component\\collaborator\\collaborator.py\" target=\"_blank\"><span style=\"color: #7f7f7f; text-decoration-color: #7f7f7f\">collaborator.py</span></a><span style=\"color: #7f7f7f; text-decoration-color: #7f7f7f\">:</span><a href=\"file://C:\\Users\\BHSU\\AppData\\Local\\Programs\\Python\\Python39\\lib\\site-packages\\openfl\\component\\collaborator\\collaborator.py#253\" target=\"_blank\"><span style=\"color: #7f7f7f; text-decoration-color: #7f7f7f\">253</span></a>\n",
       "</pre>\n"
      ],
      "text/plain": [
       "\u001b[2;36m          \u001b[0m\u001b[2;36m \u001b[0m\u001b[34mINFO    \u001b[0m Using TaskRunner subclassing API                                                                                         \u001b]8;id=739026;file://C:\\Users\\BHSU\\AppData\\Local\\Programs\\Python\\Python39\\lib\\site-packages\\openfl\\component\\collaborator\\collaborator.py\u001b\\\u001b[2mcollaborator.py\u001b[0m\u001b]8;;\u001b\\\u001b[2m:\u001b[0m\u001b]8;id=902677;file://C:\\Users\\BHSU\\AppData\\Local\\Programs\\Python\\Python39\\lib\\site-packages\\openfl\\component\\collaborator\\collaborator.py#253\u001b\\\u001b[2m253\u001b[0m\u001b]8;;\u001b\\\n"
      ]
     },
     "metadata": {},
     "output_type": "display_data"
    },
    {
     "data": {
      "text/html": [
       "<pre style=\"white-space:pre;overflow-x:auto;line-height:normal;font-family:Menlo,'DejaVu Sans Mono',consolas,'Courier New',monospace\"><span style=\"color: #7fbfbf; text-decoration-color: #7fbfbf\">           </span><span style=\"color: #000080; text-decoration-color: #000080\">INFO    </span> Run <span style=\"color: #008080; text-decoration-color: #008080; font-weight: bold\">0</span> epoch of <span style=\"color: #008080; text-decoration-color: #008080; font-weight: bold\">1</span> round                                                                                                    <a href=\"file://C:\\Users\\BHSU\\AppData\\Local\\Programs\\Python\\Python39\\lib\\site-packages\\openfl\\federated\\task\\runner_keras.py\" target=\"_blank\"><span style=\"color: #7f7f7f; text-decoration-color: #7f7f7f\">runner_keras.py</span></a><span style=\"color: #7f7f7f; text-decoration-color: #7f7f7f\">:</span><a href=\"file://C:\\Users\\BHSU\\AppData\\Local\\Programs\\Python\\Python39\\lib\\site-packages\\openfl\\federated\\task\\runner_keras.py#83\" target=\"_blank\"><span style=\"color: #7f7f7f; text-decoration-color: #7f7f7f\">83</span></a>\n",
       "</pre>\n"
      ],
      "text/plain": [
       "\u001b[2;36m          \u001b[0m\u001b[2;36m \u001b[0m\u001b[34mINFO    \u001b[0m Run \u001b[1;36m0\u001b[0m epoch of \u001b[1;36m1\u001b[0m round                                                                                                    \u001b]8;id=580955;file://C:\\Users\\BHSU\\AppData\\Local\\Programs\\Python\\Python39\\lib\\site-packages\\openfl\\federated\\task\\runner_keras.py\u001b\\\u001b[2mrunner_keras.py\u001b[0m\u001b]8;;\u001b\\\u001b[2m:\u001b[0m\u001b]8;id=895205;file://C:\\Users\\BHSU\\AppData\\Local\\Programs\\Python\\Python39\\lib\\site-packages\\openfl\\federated\\task\\runner_keras.py#83\u001b\\\u001b[2m83\u001b[0m\u001b]8;;\u001b\\\n"
      ]
     },
     "metadata": {},
     "output_type": "display_data"
    },
    {
     "name": "stdout",
     "output_type": "stream",
     "text": [
      "657/657 [==============================] - 0s 654us/step - loss: 0.3133 - accuracy: 0.9055\n"
     ]
    },
    {
     "data": {
      "text/html": [
       "<pre style=\"white-space:pre;overflow-x:auto;line-height:normal;font-family:Menlo,'DejaVu Sans Mono',consolas,'Courier New',monospace\"><span style=\"color: #7fbfbf; text-decoration-color: #7fbfbf\">[09:22:37] </span>METRIC   Round <span style=\"color: #008080; text-decoration-color: #008080; font-weight: bold\">1</span>, collaborator one is sending metric for task train: loss        <span style=\"color: #008080; text-decoration-color: #008080; font-weight: bold\">0.313251</span>                                         <a href=\"file://C:\\Users\\BHSU\\AppData\\Local\\Programs\\Python\\Python39\\lib\\site-packages\\openfl\\component\\collaborator\\collaborator.py\" target=\"_blank\"><span style=\"color: #7f7f7f; text-decoration-color: #7f7f7f\">collaborator.py</span></a><span style=\"color: #7f7f7f; text-decoration-color: #7f7f7f\">:</span><a href=\"file://C:\\Users\\BHSU\\AppData\\Local\\Programs\\Python\\Python39\\lib\\site-packages\\openfl\\component\\collaborator\\collaborator.py#415\" target=\"_blank\"><span style=\"color: #7f7f7f; text-decoration-color: #7f7f7f\">415</span></a>\n",
       "</pre>\n"
      ],
      "text/plain": [
       "\u001b[2;36m[09:22:37]\u001b[0m\u001b[2;36m \u001b[0mMETRIC   Round \u001b[1;36m1\u001b[0m, collaborator one is sending metric for task train: loss        \u001b[1;36m0.313251\u001b[0m                                         \u001b]8;id=741710;file://C:\\Users\\BHSU\\AppData\\Local\\Programs\\Python\\Python39\\lib\\site-packages\\openfl\\component\\collaborator\\collaborator.py\u001b\\\u001b[2mcollaborator.py\u001b[0m\u001b]8;;\u001b\\\u001b[2m:\u001b[0m\u001b]8;id=873072;file://C:\\Users\\BHSU\\AppData\\Local\\Programs\\Python\\Python39\\lib\\site-packages\\openfl\\component\\collaborator\\collaborator.py#415\u001b\\\u001b[2m415\u001b[0m\u001b]8;;\u001b\\\n"
      ]
     },
     "metadata": {},
     "output_type": "display_data"
    },
    {
     "data": {
      "text/html": [
       "<pre style=\"white-space:pre;overflow-x:auto;line-height:normal;font-family:Menlo,'DejaVu Sans Mono',consolas,'Courier New',monospace\"><span style=\"color: #7fbfbf; text-decoration-color: #7fbfbf\">           </span><span style=\"color: #000080; text-decoration-color: #000080\">INFO    </span> Collaborator one is sending task results for train, round <span style=\"color: #008080; text-decoration-color: #008080; font-weight: bold\">1</span>                                                                <a href=\"file://C:\\Users\\BHSU\\AppData\\Local\\Programs\\Python\\Python39\\lib\\site-packages\\openfl\\component\\aggregator\\aggregator.py\" target=\"_blank\"><span style=\"color: #7f7f7f; text-decoration-color: #7f7f7f\">aggregator.py</span></a><span style=\"color: #7f7f7f; text-decoration-color: #7f7f7f\">:</span><a href=\"file://C:\\Users\\BHSU\\AppData\\Local\\Programs\\Python\\Python39\\lib\\site-packages\\openfl\\component\\aggregator\\aggregator.py#520\" target=\"_blank\"><span style=\"color: #7f7f7f; text-decoration-color: #7f7f7f\">520</span></a>\n",
       "</pre>\n"
      ],
      "text/plain": [
       "\u001b[2;36m          \u001b[0m\u001b[2;36m \u001b[0m\u001b[34mINFO    \u001b[0m Collaborator one is sending task results for train, round \u001b[1;36m1\u001b[0m                                                                \u001b]8;id=385458;file://C:\\Users\\BHSU\\AppData\\Local\\Programs\\Python\\Python39\\lib\\site-packages\\openfl\\component\\aggregator\\aggregator.py\u001b\\\u001b[2maggregator.py\u001b[0m\u001b]8;;\u001b\\\u001b[2m:\u001b[0m\u001b]8;id=48917;file://C:\\Users\\BHSU\\AppData\\Local\\Programs\\Python\\Python39\\lib\\site-packages\\openfl\\component\\aggregator\\aggregator.py#520\u001b\\\u001b[2m520\u001b[0m\u001b]8;;\u001b\\\n"
      ]
     },
     "metadata": {},
     "output_type": "display_data"
    },
    {
     "data": {
      "text/html": [
       "<pre style=\"white-space:pre;overflow-x:auto;line-height:normal;font-family:Menlo,'DejaVu Sans Mono',consolas,'Courier New',monospace\"><span style=\"color: #7fbfbf; text-decoration-color: #7fbfbf\">           </span>METRIC   Round <span style=\"color: #008080; text-decoration-color: #008080; font-weight: bold\">1</span>, collaborator one train result loss:    <span style=\"color: #008080; text-decoration-color: #008080; font-weight: bold\">0.313251</span>                                                                   <a href=\"file://C:\\Users\\BHSU\\AppData\\Local\\Programs\\Python\\Python39\\lib\\site-packages\\openfl\\component\\aggregator\\aggregator.py\" target=\"_blank\"><span style=\"color: #7f7f7f; text-decoration-color: #7f7f7f\">aggregator.py</span></a><span style=\"color: #7f7f7f; text-decoration-color: #7f7f7f\">:</span><a href=\"file://C:\\Users\\BHSU\\AppData\\Local\\Programs\\Python\\Python39\\lib\\site-packages\\openfl\\component\\aggregator\\aggregator.py#559\" target=\"_blank\"><span style=\"color: #7f7f7f; text-decoration-color: #7f7f7f\">559</span></a>\n",
       "</pre>\n"
      ],
      "text/plain": [
       "\u001b[2;36m          \u001b[0m\u001b[2;36m \u001b[0mMETRIC   Round \u001b[1;36m1\u001b[0m, collaborator one train result loss:    \u001b[1;36m0.313251\u001b[0m                                                                   \u001b]8;id=770069;file://C:\\Users\\BHSU\\AppData\\Local\\Programs\\Python\\Python39\\lib\\site-packages\\openfl\\component\\aggregator\\aggregator.py\u001b\\\u001b[2maggregator.py\u001b[0m\u001b]8;;\u001b\\\u001b[2m:\u001b[0m\u001b]8;id=818248;file://C:\\Users\\BHSU\\AppData\\Local\\Programs\\Python\\Python39\\lib\\site-packages\\openfl\\component\\aggregator\\aggregator.py#559\u001b\\\u001b[2m559\u001b[0m\u001b]8;;\u001b\\\n"
      ]
     },
     "metadata": {},
     "output_type": "display_data"
    },
    {
     "data": {
      "text/html": [
       "<pre style=\"white-space:pre;overflow-x:auto;line-height:normal;font-family:Menlo,'DejaVu Sans Mono',consolas,'Courier New',monospace\"><span style=\"color: #7fbfbf; text-decoration-color: #7fbfbf\">           </span><span style=\"color: #000080; text-decoration-color: #000080\">INFO    </span> Using TaskRunner subclassing API                                                                                         <a href=\"file://C:\\Users\\BHSU\\AppData\\Local\\Programs\\Python\\Python39\\lib\\site-packages\\openfl\\component\\collaborator\\collaborator.py\" target=\"_blank\"><span style=\"color: #7f7f7f; text-decoration-color: #7f7f7f\">collaborator.py</span></a><span style=\"color: #7f7f7f; text-decoration-color: #7f7f7f\">:</span><a href=\"file://C:\\Users\\BHSU\\AppData\\Local\\Programs\\Python\\Python39\\lib\\site-packages\\openfl\\component\\collaborator\\collaborator.py#253\" target=\"_blank\"><span style=\"color: #7f7f7f; text-decoration-color: #7f7f7f\">253</span></a>\n",
       "</pre>\n"
      ],
      "text/plain": [
       "\u001b[2;36m          \u001b[0m\u001b[2;36m \u001b[0m\u001b[34mINFO    \u001b[0m Using TaskRunner subclassing API                                                                                         \u001b]8;id=160811;file://C:\\Users\\BHSU\\AppData\\Local\\Programs\\Python\\Python39\\lib\\site-packages\\openfl\\component\\collaborator\\collaborator.py\u001b\\\u001b[2mcollaborator.py\u001b[0m\u001b]8;;\u001b\\\u001b[2m:\u001b[0m\u001b]8;id=601013;file://C:\\Users\\BHSU\\AppData\\Local\\Programs\\Python\\Python39\\lib\\site-packages\\openfl\\component\\collaborator\\collaborator.py#253\u001b\\\u001b[2m253\u001b[0m\u001b]8;;\u001b\\\n"
      ]
     },
     "metadata": {},
     "output_type": "display_data"
    },
    {
     "name": "stdout",
     "output_type": "stream",
     "text": [
      "282/282 [==============================] - 0s 580us/step - loss: 0.2846 - accuracy: 0.9103\n"
     ]
    },
    {
     "data": {
      "text/html": [
       "<pre style=\"white-space:pre;overflow-x:auto;line-height:normal;font-family:Menlo,'DejaVu Sans Mono',consolas,'Courier New',monospace\"><span style=\"color: #7fbfbf; text-decoration-color: #7fbfbf\">           </span>METRIC   Round <span style=\"color: #008080; text-decoration-color: #008080; font-weight: bold\">1</span>, collaborator one is sending metric for task locally_tuned_model_validation: accuracy   <span style=\"color: #008080; text-decoration-color: #008080; font-weight: bold\">0.910333</span>                 <a href=\"file://C:\\Users\\BHSU\\AppData\\Local\\Programs\\Python\\Python39\\lib\\site-packages\\openfl\\component\\collaborator\\collaborator.py\" target=\"_blank\"><span style=\"color: #7f7f7f; text-decoration-color: #7f7f7f\">collaborator.py</span></a><span style=\"color: #7f7f7f; text-decoration-color: #7f7f7f\">:</span><a href=\"file://C:\\Users\\BHSU\\AppData\\Local\\Programs\\Python\\Python39\\lib\\site-packages\\openfl\\component\\collaborator\\collaborator.py#415\" target=\"_blank\"><span style=\"color: #7f7f7f; text-decoration-color: #7f7f7f\">415</span></a>\n",
       "</pre>\n"
      ],
      "text/plain": [
       "\u001b[2;36m          \u001b[0m\u001b[2;36m \u001b[0mMETRIC   Round \u001b[1;36m1\u001b[0m, collaborator one is sending metric for task locally_tuned_model_validation: accuracy   \u001b[1;36m0.910333\u001b[0m                 \u001b]8;id=62961;file://C:\\Users\\BHSU\\AppData\\Local\\Programs\\Python\\Python39\\lib\\site-packages\\openfl\\component\\collaborator\\collaborator.py\u001b\\\u001b[2mcollaborator.py\u001b[0m\u001b]8;;\u001b\\\u001b[2m:\u001b[0m\u001b]8;id=466001;file://C:\\Users\\BHSU\\AppData\\Local\\Programs\\Python\\Python39\\lib\\site-packages\\openfl\\component\\collaborator\\collaborator.py#415\u001b\\\u001b[2m415\u001b[0m\u001b]8;;\u001b\\\n"
      ]
     },
     "metadata": {},
     "output_type": "display_data"
    },
    {
     "data": {
      "text/html": [
       "<pre style=\"white-space:pre;overflow-x:auto;line-height:normal;font-family:Menlo,'DejaVu Sans Mono',consolas,'Courier New',monospace\"><span style=\"color: #7fbfbf; text-decoration-color: #7fbfbf\">           </span><span style=\"color: #000080; text-decoration-color: #000080\">INFO    </span> Collaborator one is sending task results for locally_tuned_model_validation, round <span style=\"color: #008080; text-decoration-color: #008080; font-weight: bold\">1</span>                                       <a href=\"file://C:\\Users\\BHSU\\AppData\\Local\\Programs\\Python\\Python39\\lib\\site-packages\\openfl\\component\\aggregator\\aggregator.py\" target=\"_blank\"><span style=\"color: #7f7f7f; text-decoration-color: #7f7f7f\">aggregator.py</span></a><span style=\"color: #7f7f7f; text-decoration-color: #7f7f7f\">:</span><a href=\"file://C:\\Users\\BHSU\\AppData\\Local\\Programs\\Python\\Python39\\lib\\site-packages\\openfl\\component\\aggregator\\aggregator.py#520\" target=\"_blank\"><span style=\"color: #7f7f7f; text-decoration-color: #7f7f7f\">520</span></a>\n",
       "</pre>\n"
      ],
      "text/plain": [
       "\u001b[2;36m          \u001b[0m\u001b[2;36m \u001b[0m\u001b[34mINFO    \u001b[0m Collaborator one is sending task results for locally_tuned_model_validation, round \u001b[1;36m1\u001b[0m                                       \u001b]8;id=794133;file://C:\\Users\\BHSU\\AppData\\Local\\Programs\\Python\\Python39\\lib\\site-packages\\openfl\\component\\aggregator\\aggregator.py\u001b\\\u001b[2maggregator.py\u001b[0m\u001b]8;;\u001b\\\u001b[2m:\u001b[0m\u001b]8;id=169652;file://C:\\Users\\BHSU\\AppData\\Local\\Programs\\Python\\Python39\\lib\\site-packages\\openfl\\component\\aggregator\\aggregator.py#520\u001b\\\u001b[2m520\u001b[0m\u001b]8;;\u001b\\\n"
      ]
     },
     "metadata": {},
     "output_type": "display_data"
    },
    {
     "data": {
      "text/html": [
       "<pre style=\"white-space:pre;overflow-x:auto;line-height:normal;font-family:Menlo,'DejaVu Sans Mono',consolas,'Courier New',monospace\"><span style=\"color: #7fbfbf; text-decoration-color: #7fbfbf\">           </span>METRIC   Round <span style=\"color: #008080; text-decoration-color: #008080; font-weight: bold\">1</span>, collaborator validate_local locally_tuned_model_validation result accuracy:    <span style=\"color: #008080; text-decoration-color: #008080; font-weight: bold\">0.910333</span>                           <a href=\"file://C:\\Users\\BHSU\\AppData\\Local\\Programs\\Python\\Python39\\lib\\site-packages\\openfl\\component\\aggregator\\aggregator.py\" target=\"_blank\"><span style=\"color: #7f7f7f; text-decoration-color: #7f7f7f\">aggregator.py</span></a><span style=\"color: #7f7f7f; text-decoration-color: #7f7f7f\">:</span><a href=\"file://C:\\Users\\BHSU\\AppData\\Local\\Programs\\Python\\Python39\\lib\\site-packages\\openfl\\component\\aggregator\\aggregator.py#559\" target=\"_blank\"><span style=\"color: #7f7f7f; text-decoration-color: #7f7f7f\">559</span></a>\n",
       "</pre>\n"
      ],
      "text/plain": [
       "\u001b[2;36m          \u001b[0m\u001b[2;36m \u001b[0mMETRIC   Round \u001b[1;36m1\u001b[0m, collaborator validate_local locally_tuned_model_validation result accuracy:    \u001b[1;36m0.910333\u001b[0m                           \u001b]8;id=105183;file://C:\\Users\\BHSU\\AppData\\Local\\Programs\\Python\\Python39\\lib\\site-packages\\openfl\\component\\aggregator\\aggregator.py\u001b\\\u001b[2maggregator.py\u001b[0m\u001b]8;;\u001b\\\u001b[2m:\u001b[0m\u001b]8;id=771009;file://C:\\Users\\BHSU\\AppData\\Local\\Programs\\Python\\Python39\\lib\\site-packages\\openfl\\component\\aggregator\\aggregator.py#559\u001b\\\u001b[2m559\u001b[0m\u001b]8;;\u001b\\\n"
      ]
     },
     "metadata": {},
     "output_type": "display_data"
    },
    {
     "data": {
      "text/html": [
       "<pre style=\"white-space:pre;overflow-x:auto;line-height:normal;font-family:Menlo,'DejaVu Sans Mono',consolas,'Courier New',monospace\"><span style=\"color: #7fbfbf; text-decoration-color: #7fbfbf\">           </span><span style=\"color: #000080; text-decoration-color: #000080\">INFO    </span> All tasks completed on one for round <span style=\"color: #008080; text-decoration-color: #008080; font-weight: bold\">1</span><span style=\"color: #808000; text-decoration-color: #808000\">...</span>                                                                                <a href=\"file://C:\\Users\\BHSU\\AppData\\Local\\Programs\\Python\\Python39\\lib\\site-packages\\openfl\\component\\collaborator\\collaborator.py\" target=\"_blank\"><span style=\"color: #7f7f7f; text-decoration-color: #7f7f7f\">collaborator.py</span></a><span style=\"color: #7f7f7f; text-decoration-color: #7f7f7f\">:</span><a href=\"file://C:\\Users\\BHSU\\AppData\\Local\\Programs\\Python\\Python39\\lib\\site-packages\\openfl\\component\\collaborator\\collaborator.py#171\" target=\"_blank\"><span style=\"color: #7f7f7f; text-decoration-color: #7f7f7f\">171</span></a>\n",
       "</pre>\n"
      ],
      "text/plain": [
       "\u001b[2;36m          \u001b[0m\u001b[2;36m \u001b[0m\u001b[34mINFO    \u001b[0m All tasks completed on one for round \u001b[1;36m1\u001b[0m\u001b[33m...\u001b[0m                                                                                \u001b]8;id=688307;file://C:\\Users\\BHSU\\AppData\\Local\\Programs\\Python\\Python39\\lib\\site-packages\\openfl\\component\\collaborator\\collaborator.py\u001b\\\u001b[2mcollaborator.py\u001b[0m\u001b]8;;\u001b\\\u001b[2m:\u001b[0m\u001b]8;id=470776;file://C:\\Users\\BHSU\\AppData\\Local\\Programs\\Python\\Python39\\lib\\site-packages\\openfl\\component\\collaborator\\collaborator.py#171\u001b\\\u001b[2m171\u001b[0m\u001b]8;;\u001b\\\n"
      ]
     },
     "metadata": {},
     "output_type": "display_data"
    },
    {
     "data": {
      "text/html": [
       "<pre style=\"white-space:pre;overflow-x:auto;line-height:normal;font-family:Menlo,'DejaVu Sans Mono',consolas,'Courier New',monospace\"><span style=\"color: #7fbfbf; text-decoration-color: #7fbfbf\">           </span><span style=\"color: #000080; text-decoration-color: #000080\">INFO    </span> Waiting for tasks<span style=\"color: #808000; text-decoration-color: #808000\">...</span>                                                                                                     <a href=\"file://C:\\Users\\BHSU\\AppData\\Local\\Programs\\Python\\Python39\\lib\\site-packages\\openfl\\component\\collaborator\\collaborator.py\" target=\"_blank\"><span style=\"color: #7f7f7f; text-decoration-color: #7f7f7f\">collaborator.py</span></a><span style=\"color: #7f7f7f; text-decoration-color: #7f7f7f\">:</span><a href=\"file://C:\\Users\\BHSU\\AppData\\Local\\Programs\\Python\\Python39\\lib\\site-packages\\openfl\\component\\collaborator\\collaborator.py#178\" target=\"_blank\"><span style=\"color: #7f7f7f; text-decoration-color: #7f7f7f\">178</span></a>\n",
       "</pre>\n"
      ],
      "text/plain": [
       "\u001b[2;36m          \u001b[0m\u001b[2;36m \u001b[0m\u001b[34mINFO    \u001b[0m Waiting for tasks\u001b[33m...\u001b[0m                                                                                                     \u001b]8;id=445437;file://C:\\Users\\BHSU\\AppData\\Local\\Programs\\Python\\Python39\\lib\\site-packages\\openfl\\component\\collaborator\\collaborator.py\u001b\\\u001b[2mcollaborator.py\u001b[0m\u001b]8;;\u001b\\\u001b[2m:\u001b[0m\u001b]8;id=10165;file://C:\\Users\\BHSU\\AppData\\Local\\Programs\\Python\\Python39\\lib\\site-packages\\openfl\\component\\collaborator\\collaborator.py#178\u001b\\\u001b[2m178\u001b[0m\u001b]8;;\u001b\\\n"
      ]
     },
     "metadata": {},
     "output_type": "display_data"
    },
    {
     "data": {
      "text/html": [
       "<pre style=\"white-space:pre;overflow-x:auto;line-height:normal;font-family:Menlo,'DejaVu Sans Mono',consolas,'Courier New',monospace\"><span style=\"color: #7fbfbf; text-decoration-color: #7fbfbf\">           </span><span style=\"color: #000080; text-decoration-color: #000080\">INFO    </span> Sending tasks to collaborator two for round <span style=\"color: #008080; text-decoration-color: #008080; font-weight: bold\">1</span>                                                                              <a href=\"file://C:\\Users\\BHSU\\AppData\\Local\\Programs\\Python\\Python39\\lib\\site-packages\\openfl\\component\\aggregator\\aggregator.py\" target=\"_blank\"><span style=\"color: #7f7f7f; text-decoration-color: #7f7f7f\">aggregator.py</span></a><span style=\"color: #7f7f7f; text-decoration-color: #7f7f7f\">:</span><a href=\"file://C:\\Users\\BHSU\\AppData\\Local\\Programs\\Python\\Python39\\lib\\site-packages\\openfl\\component\\aggregator\\aggregator.py#329\" target=\"_blank\"><span style=\"color: #7f7f7f; text-decoration-color: #7f7f7f\">329</span></a>\n",
       "</pre>\n"
      ],
      "text/plain": [
       "\u001b[2;36m          \u001b[0m\u001b[2;36m \u001b[0m\u001b[34mINFO    \u001b[0m Sending tasks to collaborator two for round \u001b[1;36m1\u001b[0m                                                                              \u001b]8;id=641028;file://C:\\Users\\BHSU\\AppData\\Local\\Programs\\Python\\Python39\\lib\\site-packages\\openfl\\component\\aggregator\\aggregator.py\u001b\\\u001b[2maggregator.py\u001b[0m\u001b]8;;\u001b\\\u001b[2m:\u001b[0m\u001b]8;id=425665;file://C:\\Users\\BHSU\\AppData\\Local\\Programs\\Python\\Python39\\lib\\site-packages\\openfl\\component\\aggregator\\aggregator.py#329\u001b\\\u001b[2m329\u001b[0m\u001b]8;;\u001b\\\n"
      ]
     },
     "metadata": {},
     "output_type": "display_data"
    },
    {
     "data": {
      "text/html": [
       "<pre style=\"white-space:pre;overflow-x:auto;line-height:normal;font-family:Menlo,'DejaVu Sans Mono',consolas,'Courier New',monospace\"><span style=\"color: #7fbfbf; text-decoration-color: #7fbfbf\">           </span><span style=\"color: #000080; text-decoration-color: #000080\">INFO    </span> Received the following tasks: <span style=\"font-weight: bold\">[</span><span style=\"color: #008000; text-decoration-color: #008000\">'aggregated_model_validation'</span>, <span style=\"color: #008000; text-decoration-color: #008000\">'train'</span>, <span style=\"color: #008000; text-decoration-color: #008000\">'locally_tuned_model_validation'</span><span style=\"font-weight: bold\">]</span>                 <a href=\"file://C:\\Users\\BHSU\\AppData\\Local\\Programs\\Python\\Python39\\lib\\site-packages\\openfl\\component\\collaborator\\collaborator.py\" target=\"_blank\"><span style=\"color: #7f7f7f; text-decoration-color: #7f7f7f\">collaborator.py</span></a><span style=\"color: #7f7f7f; text-decoration-color: #7f7f7f\">:</span><a href=\"file://C:\\Users\\BHSU\\AppData\\Local\\Programs\\Python\\Python39\\lib\\site-packages\\openfl\\component\\collaborator\\collaborator.py#168\" target=\"_blank\"><span style=\"color: #7f7f7f; text-decoration-color: #7f7f7f\">168</span></a>\n",
       "</pre>\n"
      ],
      "text/plain": [
       "\u001b[2;36m          \u001b[0m\u001b[2;36m \u001b[0m\u001b[34mINFO    \u001b[0m Received the following tasks: \u001b[1m[\u001b[0m\u001b[32m'aggregated_model_validation'\u001b[0m, \u001b[32m'train'\u001b[0m, \u001b[32m'locally_tuned_model_validation'\u001b[0m\u001b[1m]\u001b[0m                 \u001b]8;id=52565;file://C:\\Users\\BHSU\\AppData\\Local\\Programs\\Python\\Python39\\lib\\site-packages\\openfl\\component\\collaborator\\collaborator.py\u001b\\\u001b[2mcollaborator.py\u001b[0m\u001b]8;;\u001b\\\u001b[2m:\u001b[0m\u001b]8;id=577066;file://C:\\Users\\BHSU\\AppData\\Local\\Programs\\Python\\Python39\\lib\\site-packages\\openfl\\component\\collaborator\\collaborator.py#168\u001b\\\u001b[2m168\u001b[0m\u001b]8;;\u001b\\\n"
      ]
     },
     "metadata": {},
     "output_type": "display_data"
    },
    {
     "data": {
      "text/html": [
       "<pre style=\"white-space:pre;overflow-x:auto;line-height:normal;font-family:Menlo,'DejaVu Sans Mono',consolas,'Courier New',monospace\"><span style=\"color: #7fbfbf; text-decoration-color: #7fbfbf\">           </span><span style=\"color: #000080; text-decoration-color: #000080\">INFO    </span> Using TaskRunner subclassing API                                                                                         <a href=\"file://C:\\Users\\BHSU\\AppData\\Local\\Programs\\Python\\Python39\\lib\\site-packages\\openfl\\component\\collaborator\\collaborator.py\" target=\"_blank\"><span style=\"color: #7f7f7f; text-decoration-color: #7f7f7f\">collaborator.py</span></a><span style=\"color: #7f7f7f; text-decoration-color: #7f7f7f\">:</span><a href=\"file://C:\\Users\\BHSU\\AppData\\Local\\Programs\\Python\\Python39\\lib\\site-packages\\openfl\\component\\collaborator\\collaborator.py#253\" target=\"_blank\"><span style=\"color: #7f7f7f; text-decoration-color: #7f7f7f\">253</span></a>\n",
       "</pre>\n"
      ],
      "text/plain": [
       "\u001b[2;36m          \u001b[0m\u001b[2;36m \u001b[0m\u001b[34mINFO    \u001b[0m Using TaskRunner subclassing API                                                                                         \u001b]8;id=493367;file://C:\\Users\\BHSU\\AppData\\Local\\Programs\\Python\\Python39\\lib\\site-packages\\openfl\\component\\collaborator\\collaborator.py\u001b\\\u001b[2mcollaborator.py\u001b[0m\u001b]8;;\u001b\\\u001b[2m:\u001b[0m\u001b]8;id=38964;file://C:\\Users\\BHSU\\AppData\\Local\\Programs\\Python\\Python39\\lib\\site-packages\\openfl\\component\\collaborator\\collaborator.py#253\u001b\\\u001b[2m253\u001b[0m\u001b]8;;\u001b\\\n"
      ]
     },
     "metadata": {},
     "output_type": "display_data"
    },
    {
     "name": "stdout",
     "output_type": "stream",
     "text": [
      "282/282 [==============================] - 0s 505us/step - loss: 0.3894 - accuracy: 0.8834\n"
     ]
    },
    {
     "data": {
      "text/html": [
       "<pre style=\"white-space:pre;overflow-x:auto;line-height:normal;font-family:Menlo,'DejaVu Sans Mono',consolas,'Courier New',monospace\"><span style=\"color: #7fbfbf; text-decoration-color: #7fbfbf\">           </span>METRIC   Round <span style=\"color: #008080; text-decoration-color: #008080; font-weight: bold\">1</span>, collaborator two is sending metric for task aggregated_model_validation: accuracy      <span style=\"color: #008080; text-decoration-color: #008080; font-weight: bold\">0.883444</span>                 <a href=\"file://C:\\Users\\BHSU\\AppData\\Local\\Programs\\Python\\Python39\\lib\\site-packages\\openfl\\component\\collaborator\\collaborator.py\" target=\"_blank\"><span style=\"color: #7f7f7f; text-decoration-color: #7f7f7f\">collaborator.py</span></a><span style=\"color: #7f7f7f; text-decoration-color: #7f7f7f\">:</span><a href=\"file://C:\\Users\\BHSU\\AppData\\Local\\Programs\\Python\\Python39\\lib\\site-packages\\openfl\\component\\collaborator\\collaborator.py#415\" target=\"_blank\"><span style=\"color: #7f7f7f; text-decoration-color: #7f7f7f\">415</span></a>\n",
       "</pre>\n"
      ],
      "text/plain": [
       "\u001b[2;36m          \u001b[0m\u001b[2;36m \u001b[0mMETRIC   Round \u001b[1;36m1\u001b[0m, collaborator two is sending metric for task aggregated_model_validation: accuracy      \u001b[1;36m0.883444\u001b[0m                 \u001b]8;id=26430;file://C:\\Users\\BHSU\\AppData\\Local\\Programs\\Python\\Python39\\lib\\site-packages\\openfl\\component\\collaborator\\collaborator.py\u001b\\\u001b[2mcollaborator.py\u001b[0m\u001b]8;;\u001b\\\u001b[2m:\u001b[0m\u001b]8;id=778715;file://C:\\Users\\BHSU\\AppData\\Local\\Programs\\Python\\Python39\\lib\\site-packages\\openfl\\component\\collaborator\\collaborator.py#415\u001b\\\u001b[2m415\u001b[0m\u001b]8;;\u001b\\\n"
      ]
     },
     "metadata": {},
     "output_type": "display_data"
    },
    {
     "data": {
      "text/html": [
       "<pre style=\"white-space:pre;overflow-x:auto;line-height:normal;font-family:Menlo,'DejaVu Sans Mono',consolas,'Courier New',monospace\"><span style=\"color: #7fbfbf; text-decoration-color: #7fbfbf\">           </span><span style=\"color: #000080; text-decoration-color: #000080\">INFO    </span> Collaborator two is sending task results for aggregated_model_validation, round <span style=\"color: #008080; text-decoration-color: #008080; font-weight: bold\">1</span>                                          <a href=\"file://C:\\Users\\BHSU\\AppData\\Local\\Programs\\Python\\Python39\\lib\\site-packages\\openfl\\component\\aggregator\\aggregator.py\" target=\"_blank\"><span style=\"color: #7f7f7f; text-decoration-color: #7f7f7f\">aggregator.py</span></a><span style=\"color: #7f7f7f; text-decoration-color: #7f7f7f\">:</span><a href=\"file://C:\\Users\\BHSU\\AppData\\Local\\Programs\\Python\\Python39\\lib\\site-packages\\openfl\\component\\aggregator\\aggregator.py#520\" target=\"_blank\"><span style=\"color: #7f7f7f; text-decoration-color: #7f7f7f\">520</span></a>\n",
       "</pre>\n"
      ],
      "text/plain": [
       "\u001b[2;36m          \u001b[0m\u001b[2;36m \u001b[0m\u001b[34mINFO    \u001b[0m Collaborator two is sending task results for aggregated_model_validation, round \u001b[1;36m1\u001b[0m                                          \u001b]8;id=48504;file://C:\\Users\\BHSU\\AppData\\Local\\Programs\\Python\\Python39\\lib\\site-packages\\openfl\\component\\aggregator\\aggregator.py\u001b\\\u001b[2maggregator.py\u001b[0m\u001b]8;;\u001b\\\u001b[2m:\u001b[0m\u001b]8;id=213341;file://C:\\Users\\BHSU\\AppData\\Local\\Programs\\Python\\Python39\\lib\\site-packages\\openfl\\component\\aggregator\\aggregator.py#520\u001b\\\u001b[2m520\u001b[0m\u001b]8;;\u001b\\\n"
      ]
     },
     "metadata": {},
     "output_type": "display_data"
    },
    {
     "data": {
      "text/html": [
       "<pre style=\"white-space:pre;overflow-x:auto;line-height:normal;font-family:Menlo,'DejaVu Sans Mono',consolas,'Courier New',monospace\"><span style=\"color: #7fbfbf; text-decoration-color: #7fbfbf\">           </span>METRIC   Round <span style=\"color: #008080; text-decoration-color: #008080; font-weight: bold\">1</span>, collaborator validate_agg aggregated_model_validation result accuracy: <span style=\"color: #008080; text-decoration-color: #008080; font-weight: bold\">0.883444</span>                                   <a href=\"file://C:\\Users\\BHSU\\AppData\\Local\\Programs\\Python\\Python39\\lib\\site-packages\\openfl\\component\\aggregator\\aggregator.py\" target=\"_blank\"><span style=\"color: #7f7f7f; text-decoration-color: #7f7f7f\">aggregator.py</span></a><span style=\"color: #7f7f7f; text-decoration-color: #7f7f7f\">:</span><a href=\"file://C:\\Users\\BHSU\\AppData\\Local\\Programs\\Python\\Python39\\lib\\site-packages\\openfl\\component\\aggregator\\aggregator.py#559\" target=\"_blank\"><span style=\"color: #7f7f7f; text-decoration-color: #7f7f7f\">559</span></a>\n",
       "</pre>\n"
      ],
      "text/plain": [
       "\u001b[2;36m          \u001b[0m\u001b[2;36m \u001b[0mMETRIC   Round \u001b[1;36m1\u001b[0m, collaborator validate_agg aggregated_model_validation result accuracy: \u001b[1;36m0.883444\u001b[0m                                   \u001b]8;id=206754;file://C:\\Users\\BHSU\\AppData\\Local\\Programs\\Python\\Python39\\lib\\site-packages\\openfl\\component\\aggregator\\aggregator.py\u001b\\\u001b[2maggregator.py\u001b[0m\u001b]8;;\u001b\\\u001b[2m:\u001b[0m\u001b]8;id=451542;file://C:\\Users\\BHSU\\AppData\\Local\\Programs\\Python\\Python39\\lib\\site-packages\\openfl\\component\\aggregator\\aggregator.py#559\u001b\\\u001b[2m559\u001b[0m\u001b]8;;\u001b\\\n"
      ]
     },
     "metadata": {},
     "output_type": "display_data"
    },
    {
     "data": {
      "text/html": [
       "<pre style=\"white-space:pre;overflow-x:auto;line-height:normal;font-family:Menlo,'DejaVu Sans Mono',consolas,'Courier New',monospace\"><span style=\"color: #7fbfbf; text-decoration-color: #7fbfbf\">           </span><span style=\"color: #000080; text-decoration-color: #000080\">INFO    </span> Using TaskRunner subclassing API                                                                                         <a href=\"file://C:\\Users\\BHSU\\AppData\\Local\\Programs\\Python\\Python39\\lib\\site-packages\\openfl\\component\\collaborator\\collaborator.py\" target=\"_blank\"><span style=\"color: #7f7f7f; text-decoration-color: #7f7f7f\">collaborator.py</span></a><span style=\"color: #7f7f7f; text-decoration-color: #7f7f7f\">:</span><a href=\"file://C:\\Users\\BHSU\\AppData\\Local\\Programs\\Python\\Python39\\lib\\site-packages\\openfl\\component\\collaborator\\collaborator.py#253\" target=\"_blank\"><span style=\"color: #7f7f7f; text-decoration-color: #7f7f7f\">253</span></a>\n",
       "</pre>\n"
      ],
      "text/plain": [
       "\u001b[2;36m          \u001b[0m\u001b[2;36m \u001b[0m\u001b[34mINFO    \u001b[0m Using TaskRunner subclassing API                                                                                         \u001b]8;id=380818;file://C:\\Users\\BHSU\\AppData\\Local\\Programs\\Python\\Python39\\lib\\site-packages\\openfl\\component\\collaborator\\collaborator.py\u001b\\\u001b[2mcollaborator.py\u001b[0m\u001b]8;;\u001b\\\u001b[2m:\u001b[0m\u001b]8;id=528023;file://C:\\Users\\BHSU\\AppData\\Local\\Programs\\Python\\Python39\\lib\\site-packages\\openfl\\component\\collaborator\\collaborator.py#253\u001b\\\u001b[2m253\u001b[0m\u001b]8;;\u001b\\\n"
      ]
     },
     "metadata": {},
     "output_type": "display_data"
    },
    {
     "data": {
      "text/html": [
       "<pre style=\"white-space:pre;overflow-x:auto;line-height:normal;font-family:Menlo,'DejaVu Sans Mono',consolas,'Courier New',monospace\"><span style=\"color: #7fbfbf; text-decoration-color: #7fbfbf\">           </span><span style=\"color: #000080; text-decoration-color: #000080\">INFO    </span> Run <span style=\"color: #008080; text-decoration-color: #008080; font-weight: bold\">0</span> epoch of <span style=\"color: #008080; text-decoration-color: #008080; font-weight: bold\">1</span> round                                                                                                    <a href=\"file://C:\\Users\\BHSU\\AppData\\Local\\Programs\\Python\\Python39\\lib\\site-packages\\openfl\\federated\\task\\runner_keras.py\" target=\"_blank\"><span style=\"color: #7f7f7f; text-decoration-color: #7f7f7f\">runner_keras.py</span></a><span style=\"color: #7f7f7f; text-decoration-color: #7f7f7f\">:</span><a href=\"file://C:\\Users\\BHSU\\AppData\\Local\\Programs\\Python\\Python39\\lib\\site-packages\\openfl\\federated\\task\\runner_keras.py#83\" target=\"_blank\"><span style=\"color: #7f7f7f; text-decoration-color: #7f7f7f\">83</span></a>\n",
       "</pre>\n"
      ],
      "text/plain": [
       "\u001b[2;36m          \u001b[0m\u001b[2;36m \u001b[0m\u001b[34mINFO    \u001b[0m Run \u001b[1;36m0\u001b[0m epoch of \u001b[1;36m1\u001b[0m round                                                                                                    \u001b]8;id=403226;file://C:\\Users\\BHSU\\AppData\\Local\\Programs\\Python\\Python39\\lib\\site-packages\\openfl\\federated\\task\\runner_keras.py\u001b\\\u001b[2mrunner_keras.py\u001b[0m\u001b]8;;\u001b\\\u001b[2m:\u001b[0m\u001b]8;id=965602;file://C:\\Users\\BHSU\\AppData\\Local\\Programs\\Python\\Python39\\lib\\site-packages\\openfl\\federated\\task\\runner_keras.py#83\u001b\\\u001b[2m83\u001b[0m\u001b]8;;\u001b\\\n"
      ]
     },
     "metadata": {},
     "output_type": "display_data"
    },
    {
     "name": "stdout",
     "output_type": "stream",
     "text": [
      "657/657 [==============================] - 0s 634us/step - loss: 0.3020 - accuracy: 0.9087\n"
     ]
    },
    {
     "data": {
      "text/html": [
       "<pre style=\"white-space:pre;overflow-x:auto;line-height:normal;font-family:Menlo,'DejaVu Sans Mono',consolas,'Courier New',monospace\"><span style=\"color: #7fbfbf; text-decoration-color: #7fbfbf\">[09:22:38] </span>METRIC   Round <span style=\"color: #008080; text-decoration-color: #008080; font-weight: bold\">1</span>, collaborator two is sending metric for task train: loss        <span style=\"color: #008080; text-decoration-color: #008080; font-weight: bold\">0.302023</span>                                         <a href=\"file://C:\\Users\\BHSU\\AppData\\Local\\Programs\\Python\\Python39\\lib\\site-packages\\openfl\\component\\collaborator\\collaborator.py\" target=\"_blank\"><span style=\"color: #7f7f7f; text-decoration-color: #7f7f7f\">collaborator.py</span></a><span style=\"color: #7f7f7f; text-decoration-color: #7f7f7f\">:</span><a href=\"file://C:\\Users\\BHSU\\AppData\\Local\\Programs\\Python\\Python39\\lib\\site-packages\\openfl\\component\\collaborator\\collaborator.py#415\" target=\"_blank\"><span style=\"color: #7f7f7f; text-decoration-color: #7f7f7f\">415</span></a>\n",
       "</pre>\n"
      ],
      "text/plain": [
       "\u001b[2;36m[09:22:38]\u001b[0m\u001b[2;36m \u001b[0mMETRIC   Round \u001b[1;36m1\u001b[0m, collaborator two is sending metric for task train: loss        \u001b[1;36m0.302023\u001b[0m                                         \u001b]8;id=116587;file://C:\\Users\\BHSU\\AppData\\Local\\Programs\\Python\\Python39\\lib\\site-packages\\openfl\\component\\collaborator\\collaborator.py\u001b\\\u001b[2mcollaborator.py\u001b[0m\u001b]8;;\u001b\\\u001b[2m:\u001b[0m\u001b]8;id=379675;file://C:\\Users\\BHSU\\AppData\\Local\\Programs\\Python\\Python39\\lib\\site-packages\\openfl\\component\\collaborator\\collaborator.py#415\u001b\\\u001b[2m415\u001b[0m\u001b]8;;\u001b\\\n"
      ]
     },
     "metadata": {},
     "output_type": "display_data"
    },
    {
     "data": {
      "text/html": [
       "<pre style=\"white-space:pre;overflow-x:auto;line-height:normal;font-family:Menlo,'DejaVu Sans Mono',consolas,'Courier New',monospace\"><span style=\"color: #7fbfbf; text-decoration-color: #7fbfbf\">           </span><span style=\"color: #000080; text-decoration-color: #000080\">INFO    </span> Collaborator two is sending task results for train, round <span style=\"color: #008080; text-decoration-color: #008080; font-weight: bold\">1</span>                                                                <a href=\"file://C:\\Users\\BHSU\\AppData\\Local\\Programs\\Python\\Python39\\lib\\site-packages\\openfl\\component\\aggregator\\aggregator.py\" target=\"_blank\"><span style=\"color: #7f7f7f; text-decoration-color: #7f7f7f\">aggregator.py</span></a><span style=\"color: #7f7f7f; text-decoration-color: #7f7f7f\">:</span><a href=\"file://C:\\Users\\BHSU\\AppData\\Local\\Programs\\Python\\Python39\\lib\\site-packages\\openfl\\component\\aggregator\\aggregator.py#520\" target=\"_blank\"><span style=\"color: #7f7f7f; text-decoration-color: #7f7f7f\">520</span></a>\n",
       "</pre>\n"
      ],
      "text/plain": [
       "\u001b[2;36m          \u001b[0m\u001b[2;36m \u001b[0m\u001b[34mINFO    \u001b[0m Collaborator two is sending task results for train, round \u001b[1;36m1\u001b[0m                                                                \u001b]8;id=911061;file://C:\\Users\\BHSU\\AppData\\Local\\Programs\\Python\\Python39\\lib\\site-packages\\openfl\\component\\aggregator\\aggregator.py\u001b\\\u001b[2maggregator.py\u001b[0m\u001b]8;;\u001b\\\u001b[2m:\u001b[0m\u001b]8;id=612199;file://C:\\Users\\BHSU\\AppData\\Local\\Programs\\Python\\Python39\\lib\\site-packages\\openfl\\component\\aggregator\\aggregator.py#520\u001b\\\u001b[2m520\u001b[0m\u001b]8;;\u001b\\\n"
      ]
     },
     "metadata": {},
     "output_type": "display_data"
    },
    {
     "data": {
      "text/html": [
       "<pre style=\"white-space:pre;overflow-x:auto;line-height:normal;font-family:Menlo,'DejaVu Sans Mono',consolas,'Courier New',monospace\"><span style=\"color: #7fbfbf; text-decoration-color: #7fbfbf\">           </span>METRIC   Round <span style=\"color: #008080; text-decoration-color: #008080; font-weight: bold\">1</span>, collaborator two train result loss:    <span style=\"color: #008080; text-decoration-color: #008080; font-weight: bold\">0.302023</span>                                                                   <a href=\"file://C:\\Users\\BHSU\\AppData\\Local\\Programs\\Python\\Python39\\lib\\site-packages\\openfl\\component\\aggregator\\aggregator.py\" target=\"_blank\"><span style=\"color: #7f7f7f; text-decoration-color: #7f7f7f\">aggregator.py</span></a><span style=\"color: #7f7f7f; text-decoration-color: #7f7f7f\">:</span><a href=\"file://C:\\Users\\BHSU\\AppData\\Local\\Programs\\Python\\Python39\\lib\\site-packages\\openfl\\component\\aggregator\\aggregator.py#559\" target=\"_blank\"><span style=\"color: #7f7f7f; text-decoration-color: #7f7f7f\">559</span></a>\n",
       "</pre>\n"
      ],
      "text/plain": [
       "\u001b[2;36m          \u001b[0m\u001b[2;36m \u001b[0mMETRIC   Round \u001b[1;36m1\u001b[0m, collaborator two train result loss:    \u001b[1;36m0.302023\u001b[0m                                                                   \u001b]8;id=628183;file://C:\\Users\\BHSU\\AppData\\Local\\Programs\\Python\\Python39\\lib\\site-packages\\openfl\\component\\aggregator\\aggregator.py\u001b\\\u001b[2maggregator.py\u001b[0m\u001b]8;;\u001b\\\u001b[2m:\u001b[0m\u001b]8;id=18215;file://C:\\Users\\BHSU\\AppData\\Local\\Programs\\Python\\Python39\\lib\\site-packages\\openfl\\component\\aggregator\\aggregator.py#559\u001b\\\u001b[2m559\u001b[0m\u001b]8;;\u001b\\\n"
      ]
     },
     "metadata": {},
     "output_type": "display_data"
    },
    {
     "data": {
      "text/html": [
       "<pre style=\"white-space:pre;overflow-x:auto;line-height:normal;font-family:Menlo,'DejaVu Sans Mono',consolas,'Courier New',monospace\"><span style=\"color: #7fbfbf; text-decoration-color: #7fbfbf\">           </span><span style=\"color: #000080; text-decoration-color: #000080\">INFO    </span> Using TaskRunner subclassing API                                                                                         <a href=\"file://C:\\Users\\BHSU\\AppData\\Local\\Programs\\Python\\Python39\\lib\\site-packages\\openfl\\component\\collaborator\\collaborator.py\" target=\"_blank\"><span style=\"color: #7f7f7f; text-decoration-color: #7f7f7f\">collaborator.py</span></a><span style=\"color: #7f7f7f; text-decoration-color: #7f7f7f\">:</span><a href=\"file://C:\\Users\\BHSU\\AppData\\Local\\Programs\\Python\\Python39\\lib\\site-packages\\openfl\\component\\collaborator\\collaborator.py#253\" target=\"_blank\"><span style=\"color: #7f7f7f; text-decoration-color: #7f7f7f\">253</span></a>\n",
       "</pre>\n"
      ],
      "text/plain": [
       "\u001b[2;36m          \u001b[0m\u001b[2;36m \u001b[0m\u001b[34mINFO    \u001b[0m Using TaskRunner subclassing API                                                                                         \u001b]8;id=890211;file://C:\\Users\\BHSU\\AppData\\Local\\Programs\\Python\\Python39\\lib\\site-packages\\openfl\\component\\collaborator\\collaborator.py\u001b\\\u001b[2mcollaborator.py\u001b[0m\u001b]8;;\u001b\\\u001b[2m:\u001b[0m\u001b]8;id=842941;file://C:\\Users\\BHSU\\AppData\\Local\\Programs\\Python\\Python39\\lib\\site-packages\\openfl\\component\\collaborator\\collaborator.py#253\u001b\\\u001b[2m253\u001b[0m\u001b]8;;\u001b\\\n"
      ]
     },
     "metadata": {},
     "output_type": "display_data"
    },
    {
     "name": "stdout",
     "output_type": "stream",
     "text": [
      "282/282 [==============================] - 0s 516us/step - loss: 0.2764 - accuracy: 0.9189\n"
     ]
    },
    {
     "data": {
      "text/html": [
       "<pre style=\"white-space:pre;overflow-x:auto;line-height:normal;font-family:Menlo,'DejaVu Sans Mono',consolas,'Courier New',monospace\"><span style=\"color: #7fbfbf; text-decoration-color: #7fbfbf\">           </span>METRIC   Round <span style=\"color: #008080; text-decoration-color: #008080; font-weight: bold\">1</span>, collaborator two is sending metric for task locally_tuned_model_validation: accuracy   <span style=\"color: #008080; text-decoration-color: #008080; font-weight: bold\">0.918889</span>                 <a href=\"file://C:\\Users\\BHSU\\AppData\\Local\\Programs\\Python\\Python39\\lib\\site-packages\\openfl\\component\\collaborator\\collaborator.py\" target=\"_blank\"><span style=\"color: #7f7f7f; text-decoration-color: #7f7f7f\">collaborator.py</span></a><span style=\"color: #7f7f7f; text-decoration-color: #7f7f7f\">:</span><a href=\"file://C:\\Users\\BHSU\\AppData\\Local\\Programs\\Python\\Python39\\lib\\site-packages\\openfl\\component\\collaborator\\collaborator.py#415\" target=\"_blank\"><span style=\"color: #7f7f7f; text-decoration-color: #7f7f7f\">415</span></a>\n",
       "</pre>\n"
      ],
      "text/plain": [
       "\u001b[2;36m          \u001b[0m\u001b[2;36m \u001b[0mMETRIC   Round \u001b[1;36m1\u001b[0m, collaborator two is sending metric for task locally_tuned_model_validation: accuracy   \u001b[1;36m0.918889\u001b[0m                 \u001b]8;id=700978;file://C:\\Users\\BHSU\\AppData\\Local\\Programs\\Python\\Python39\\lib\\site-packages\\openfl\\component\\collaborator\\collaborator.py\u001b\\\u001b[2mcollaborator.py\u001b[0m\u001b]8;;\u001b\\\u001b[2m:\u001b[0m\u001b]8;id=524148;file://C:\\Users\\BHSU\\AppData\\Local\\Programs\\Python\\Python39\\lib\\site-packages\\openfl\\component\\collaborator\\collaborator.py#415\u001b\\\u001b[2m415\u001b[0m\u001b]8;;\u001b\\\n"
      ]
     },
     "metadata": {},
     "output_type": "display_data"
    },
    {
     "data": {
      "text/html": [
       "<pre style=\"white-space:pre;overflow-x:auto;line-height:normal;font-family:Menlo,'DejaVu Sans Mono',consolas,'Courier New',monospace\"><span style=\"color: #7fbfbf; text-decoration-color: #7fbfbf\">           </span><span style=\"color: #000080; text-decoration-color: #000080\">INFO    </span> Collaborator two is sending task results for locally_tuned_model_validation, round <span style=\"color: #008080; text-decoration-color: #008080; font-weight: bold\">1</span>                                       <a href=\"file://C:\\Users\\BHSU\\AppData\\Local\\Programs\\Python\\Python39\\lib\\site-packages\\openfl\\component\\aggregator\\aggregator.py\" target=\"_blank\"><span style=\"color: #7f7f7f; text-decoration-color: #7f7f7f\">aggregator.py</span></a><span style=\"color: #7f7f7f; text-decoration-color: #7f7f7f\">:</span><a href=\"file://C:\\Users\\BHSU\\AppData\\Local\\Programs\\Python\\Python39\\lib\\site-packages\\openfl\\component\\aggregator\\aggregator.py#520\" target=\"_blank\"><span style=\"color: #7f7f7f; text-decoration-color: #7f7f7f\">520</span></a>\n",
       "</pre>\n"
      ],
      "text/plain": [
       "\u001b[2;36m          \u001b[0m\u001b[2;36m \u001b[0m\u001b[34mINFO    \u001b[0m Collaborator two is sending task results for locally_tuned_model_validation, round \u001b[1;36m1\u001b[0m                                       \u001b]8;id=845666;file://C:\\Users\\BHSU\\AppData\\Local\\Programs\\Python\\Python39\\lib\\site-packages\\openfl\\component\\aggregator\\aggregator.py\u001b\\\u001b[2maggregator.py\u001b[0m\u001b]8;;\u001b\\\u001b[2m:\u001b[0m\u001b]8;id=751552;file://C:\\Users\\BHSU\\AppData\\Local\\Programs\\Python\\Python39\\lib\\site-packages\\openfl\\component\\aggregator\\aggregator.py#520\u001b\\\u001b[2m520\u001b[0m\u001b]8;;\u001b\\\n"
      ]
     },
     "metadata": {},
     "output_type": "display_data"
    },
    {
     "data": {
      "text/html": [
       "<pre style=\"white-space:pre;overflow-x:auto;line-height:normal;font-family:Menlo,'DejaVu Sans Mono',consolas,'Courier New',monospace\"><span style=\"color: #7fbfbf; text-decoration-color: #7fbfbf\">           </span>METRIC   Round <span style=\"color: #008080; text-decoration-color: #008080; font-weight: bold\">1</span>, collaborator validate_local locally_tuned_model_validation result accuracy:    <span style=\"color: #008080; text-decoration-color: #008080; font-weight: bold\">0.918889</span>                           <a href=\"file://C:\\Users\\BHSU\\AppData\\Local\\Programs\\Python\\Python39\\lib\\site-packages\\openfl\\component\\aggregator\\aggregator.py\" target=\"_blank\"><span style=\"color: #7f7f7f; text-decoration-color: #7f7f7f\">aggregator.py</span></a><span style=\"color: #7f7f7f; text-decoration-color: #7f7f7f\">:</span><a href=\"file://C:\\Users\\BHSU\\AppData\\Local\\Programs\\Python\\Python39\\lib\\site-packages\\openfl\\component\\aggregator\\aggregator.py#559\" target=\"_blank\"><span style=\"color: #7f7f7f; text-decoration-color: #7f7f7f\">559</span></a>\n",
       "</pre>\n"
      ],
      "text/plain": [
       "\u001b[2;36m          \u001b[0m\u001b[2;36m \u001b[0mMETRIC   Round \u001b[1;36m1\u001b[0m, collaborator validate_local locally_tuned_model_validation result accuracy:    \u001b[1;36m0.918889\u001b[0m                           \u001b]8;id=808556;file://C:\\Users\\BHSU\\AppData\\Local\\Programs\\Python\\Python39\\lib\\site-packages\\openfl\\component\\aggregator\\aggregator.py\u001b\\\u001b[2maggregator.py\u001b[0m\u001b]8;;\u001b\\\u001b[2m:\u001b[0m\u001b]8;id=419844;file://C:\\Users\\BHSU\\AppData\\Local\\Programs\\Python\\Python39\\lib\\site-packages\\openfl\\component\\aggregator\\aggregator.py#559\u001b\\\u001b[2m559\u001b[0m\u001b]8;;\u001b\\\n"
      ]
     },
     "metadata": {},
     "output_type": "display_data"
    },
    {
     "data": {
      "text/html": [
       "<pre style=\"white-space:pre;overflow-x:auto;line-height:normal;font-family:Menlo,'DejaVu Sans Mono',consolas,'Courier New',monospace\"><span style=\"color: #7fbfbf; text-decoration-color: #7fbfbf\">           </span>METRIC   Round <span style=\"color: #008080; text-decoration-color: #008080; font-weight: bold\">1</span>, aggregator: locally_tuned_model_validation                                                                        <a href=\"file://C:\\Users\\BHSU\\AppData\\Local\\Programs\\Python\\Python39\\lib\\site-packages\\openfl\\component\\aggregator\\aggregator.py\" target=\"_blank\"><span style=\"color: #7f7f7f; text-decoration-color: #7f7f7f\">aggregator.py</span></a><span style=\"color: #7f7f7f; text-decoration-color: #7f7f7f\">:</span><a href=\"file://C:\\Users\\BHSU\\AppData\\Local\\Programs\\Python\\Python39\\lib\\site-packages\\openfl\\component\\aggregator\\aggregator.py#842\" target=\"_blank\"><span style=\"color: #7f7f7f; text-decoration-color: #7f7f7f\">842</span></a>\n",
       "<span style=\"color: #7fbfbf; text-decoration-color: #7fbfbf\">           </span>         <span style=\"font-weight: bold\">&lt;</span><span style=\"color: #ff00ff; text-decoration-color: #ff00ff; font-weight: bold\">openfl.interface.aggregation_functions.weighted_average.WeightedAverage</span><span style=\"color: #000000; text-decoration-color: #000000\"> object at </span><span style=\"color: #008080; text-decoration-color: #008080; font-weight: bold\">0x0000020F55654AC0</span><span style=\"font-weight: bold\">&gt;</span> accuracy:           <span style=\"color: #7f7f7f; text-decoration-color: #7f7f7f\">                 </span>\n",
       "<span style=\"color: #7fbfbf; text-decoration-color: #7fbfbf\">           </span>         <span style=\"color: #008080; text-decoration-color: #008080; font-weight: bold\">0.914611</span>                                                                                                                   <span style=\"color: #7f7f7f; text-decoration-color: #7f7f7f\">                 </span>\n",
       "</pre>\n"
      ],
      "text/plain": [
       "\u001b[2;36m          \u001b[0m\u001b[2;36m \u001b[0mMETRIC   Round \u001b[1;36m1\u001b[0m, aggregator: locally_tuned_model_validation                                                                        \u001b]8;id=278300;file://C:\\Users\\BHSU\\AppData\\Local\\Programs\\Python\\Python39\\lib\\site-packages\\openfl\\component\\aggregator\\aggregator.py\u001b\\\u001b[2maggregator.py\u001b[0m\u001b]8;;\u001b\\\u001b[2m:\u001b[0m\u001b]8;id=985401;file://C:\\Users\\BHSU\\AppData\\Local\\Programs\\Python\\Python39\\lib\\site-packages\\openfl\\component\\aggregator\\aggregator.py#842\u001b\\\u001b[2m842\u001b[0m\u001b]8;;\u001b\\\n",
       "\u001b[2;36m           \u001b[0m         \u001b[1m<\u001b[0m\u001b[1;95mopenfl.interface.aggregation_functions.weighted_average.WeightedAverage\u001b[0m\u001b[39m object at \u001b[0m\u001b[1;36m0x0000020F55654AC0\u001b[0m\u001b[1m>\u001b[0m accuracy:           \u001b[2m                 \u001b[0m\n",
       "\u001b[2;36m           \u001b[0m         \u001b[1;36m0.914611\u001b[0m                                                                                                                   \u001b[2m                 \u001b[0m\n"
      ]
     },
     "metadata": {},
     "output_type": "display_data"
    },
    {
     "data": {
      "text/html": [
       "<pre style=\"white-space:pre;overflow-x:auto;line-height:normal;font-family:Menlo,'DejaVu Sans Mono',consolas,'Courier New',monospace\"><span style=\"color: #7fbfbf; text-decoration-color: #7fbfbf\">           </span>METRIC   Round <span style=\"color: #008080; text-decoration-color: #008080; font-weight: bold\">1</span>, aggregator: aggregated_model_validation <span style=\"font-weight: bold\">&lt;</span><span style=\"color: #ff00ff; text-decoration-color: #ff00ff; font-weight: bold\">openfl.interface.aggregation_functions.weighted_average.WeightedAverage</span><span style=\"color: #000000; text-decoration-color: #000000\"> </span> <a href=\"file://C:\\Users\\BHSU\\AppData\\Local\\Programs\\Python\\Python39\\lib\\site-packages\\openfl\\component\\aggregator\\aggregator.py\" target=\"_blank\"><span style=\"color: #7f7f7f; text-decoration-color: #7f7f7f\">aggregator.py</span></a><span style=\"color: #7f7f7f; text-decoration-color: #7f7f7f\">:</span><a href=\"file://C:\\Users\\BHSU\\AppData\\Local\\Programs\\Python\\Python39\\lib\\site-packages\\openfl\\component\\aggregator\\aggregator.py#842\" target=\"_blank\"><span style=\"color: #7f7f7f; text-decoration-color: #7f7f7f\">842</span></a>\n",
       "<span style=\"color: #7fbfbf; text-decoration-color: #7fbfbf\">           </span>         <span style=\"color: #000000; text-decoration-color: #000000\">object at </span><span style=\"color: #008080; text-decoration-color: #008080; font-weight: bold\">0x0000020F55654AC0</span><span style=\"font-weight: bold\">&gt;</span> accuracy:       <span style=\"color: #008080; text-decoration-color: #008080; font-weight: bold\">0.881056</span>                                                                     <span style=\"color: #7f7f7f; text-decoration-color: #7f7f7f\">                 </span>\n",
       "</pre>\n"
      ],
      "text/plain": [
       "\u001b[2;36m          \u001b[0m\u001b[2;36m \u001b[0mMETRIC   Round \u001b[1;36m1\u001b[0m, aggregator: aggregated_model_validation \u001b[1m<\u001b[0m\u001b[1;95mopenfl.interface.aggregation_functions.weighted_average.WeightedAverage\u001b[0m\u001b[39m \u001b[0m \u001b]8;id=880342;file://C:\\Users\\BHSU\\AppData\\Local\\Programs\\Python\\Python39\\lib\\site-packages\\openfl\\component\\aggregator\\aggregator.py\u001b\\\u001b[2maggregator.py\u001b[0m\u001b]8;;\u001b\\\u001b[2m:\u001b[0m\u001b]8;id=908579;file://C:\\Users\\BHSU\\AppData\\Local\\Programs\\Python\\Python39\\lib\\site-packages\\openfl\\component\\aggregator\\aggregator.py#842\u001b\\\u001b[2m842\u001b[0m\u001b]8;;\u001b\\\n",
       "\u001b[2;36m           \u001b[0m         \u001b[39mobject at \u001b[0m\u001b[1;36m0x0000020F55654AC0\u001b[0m\u001b[1m>\u001b[0m accuracy:       \u001b[1;36m0.881056\u001b[0m                                                                     \u001b[2m                 \u001b[0m\n"
      ]
     },
     "metadata": {},
     "output_type": "display_data"
    },
    {
     "data": {
      "text/html": [
       "<pre style=\"white-space:pre;overflow-x:auto;line-height:normal;font-family:Menlo,'DejaVu Sans Mono',consolas,'Courier New',monospace\"><span style=\"color: #7fbfbf; text-decoration-color: #7fbfbf\">           </span>METRIC   Round <span style=\"color: #008080; text-decoration-color: #008080; font-weight: bold\">1</span>: saved the best model with score <span style=\"color: #008080; text-decoration-color: #008080; font-weight: bold\">0.881056</span>                                                                          <a href=\"file://C:\\Users\\BHSU\\AppData\\Local\\Programs\\Python\\Python39\\lib\\site-packages\\openfl\\component\\aggregator\\aggregator.py\" target=\"_blank\"><span style=\"color: #7f7f7f; text-decoration-color: #7f7f7f\">aggregator.py</span></a><span style=\"color: #7f7f7f; text-decoration-color: #7f7f7f\">:</span><a href=\"file://C:\\Users\\BHSU\\AppData\\Local\\Programs\\Python\\Python39\\lib\\site-packages\\openfl\\component\\aggregator\\aggregator.py#858\" target=\"_blank\"><span style=\"color: #7f7f7f; text-decoration-color: #7f7f7f\">858</span></a>\n",
       "</pre>\n"
      ],
      "text/plain": [
       "\u001b[2;36m          \u001b[0m\u001b[2;36m \u001b[0mMETRIC   Round \u001b[1;36m1\u001b[0m: saved the best model with score \u001b[1;36m0.881056\u001b[0m                                                                          \u001b]8;id=739022;file://C:\\Users\\BHSU\\AppData\\Local\\Programs\\Python\\Python39\\lib\\site-packages\\openfl\\component\\aggregator\\aggregator.py\u001b\\\u001b[2maggregator.py\u001b[0m\u001b]8;;\u001b\\\u001b[2m:\u001b[0m\u001b]8;id=719186;file://C:\\Users\\BHSU\\AppData\\Local\\Programs\\Python\\Python39\\lib\\site-packages\\openfl\\component\\aggregator\\aggregator.py#858\u001b\\\u001b[2m858\u001b[0m\u001b]8;;\u001b\\\n"
      ]
     },
     "metadata": {},
     "output_type": "display_data"
    },
    {
     "data": {
      "text/html": [
       "<pre style=\"white-space:pre;overflow-x:auto;line-height:normal;font-family:Menlo,'DejaVu Sans Mono',consolas,'Courier New',monospace\"><span style=\"color: #7fbfbf; text-decoration-color: #7fbfbf\">           </span>METRIC   Round <span style=\"color: #008080; text-decoration-color: #008080; font-weight: bold\">1</span>, aggregator: train <span style=\"font-weight: bold\">&lt;</span><span style=\"color: #ff00ff; text-decoration-color: #ff00ff; font-weight: bold\">openfl.interface.aggregation_functions.weighted_average.WeightedAverage</span><span style=\"color: #000000; text-decoration-color: #000000\"> object at </span>             <a href=\"file://C:\\Users\\BHSU\\AppData\\Local\\Programs\\Python\\Python39\\lib\\site-packages\\openfl\\component\\aggregator\\aggregator.py\" target=\"_blank\"><span style=\"color: #7f7f7f; text-decoration-color: #7f7f7f\">aggregator.py</span></a><span style=\"color: #7f7f7f; text-decoration-color: #7f7f7f\">:</span><a href=\"file://C:\\Users\\BHSU\\AppData\\Local\\Programs\\Python\\Python39\\lib\\site-packages\\openfl\\component\\aggregator\\aggregator.py#842\" target=\"_blank\"><span style=\"color: #7f7f7f; text-decoration-color: #7f7f7f\">842</span></a>\n",
       "<span style=\"color: #7fbfbf; text-decoration-color: #7fbfbf\">           </span>         <span style=\"color: #008080; text-decoration-color: #008080; font-weight: bold\">0x0000020F55654AC0</span><span style=\"font-weight: bold\">&gt;</span> loss: <span style=\"color: #008080; text-decoration-color: #008080; font-weight: bold\">0.307637</span>                                                                                         <span style=\"color: #7f7f7f; text-decoration-color: #7f7f7f\">                 </span>\n",
       "</pre>\n"
      ],
      "text/plain": [
       "\u001b[2;36m          \u001b[0m\u001b[2;36m \u001b[0mMETRIC   Round \u001b[1;36m1\u001b[0m, aggregator: train \u001b[1m<\u001b[0m\u001b[1;95mopenfl.interface.aggregation_functions.weighted_average.WeightedAverage\u001b[0m\u001b[39m object at \u001b[0m             \u001b]8;id=609846;file://C:\\Users\\BHSU\\AppData\\Local\\Programs\\Python\\Python39\\lib\\site-packages\\openfl\\component\\aggregator\\aggregator.py\u001b\\\u001b[2maggregator.py\u001b[0m\u001b]8;;\u001b\\\u001b[2m:\u001b[0m\u001b]8;id=409082;file://C:\\Users\\BHSU\\AppData\\Local\\Programs\\Python\\Python39\\lib\\site-packages\\openfl\\component\\aggregator\\aggregator.py#842\u001b\\\u001b[2m842\u001b[0m\u001b]8;;\u001b\\\n",
       "\u001b[2;36m           \u001b[0m         \u001b[1;36m0x0000020F55654AC0\u001b[0m\u001b[1m>\u001b[0m loss: \u001b[1;36m0.307637\u001b[0m                                                                                         \u001b[2m                 \u001b[0m\n"
      ]
     },
     "metadata": {},
     "output_type": "display_data"
    },
    {
     "data": {
      "text/html": [
       "<pre style=\"white-space:pre;overflow-x:auto;line-height:normal;font-family:Menlo,'DejaVu Sans Mono',consolas,'Courier New',monospace\"><span style=\"color: #7fbfbf; text-decoration-color: #7fbfbf\">           </span><span style=\"color: #000080; text-decoration-color: #000080\">INFO    </span> Saving round <span style=\"color: #008080; text-decoration-color: #008080; font-weight: bold\">2</span> model<span style=\"color: #808000; text-decoration-color: #808000\">...</span>                                                                                                    <a href=\"file://C:\\Users\\BHSU\\AppData\\Local\\Programs\\Python\\Python39\\lib\\site-packages\\openfl\\component\\aggregator\\aggregator.py\" target=\"_blank\"><span style=\"color: #7f7f7f; text-decoration-color: #7f7f7f\">aggregator.py</span></a><span style=\"color: #7f7f7f; text-decoration-color: #7f7f7f\">:</span><a href=\"file://C:\\Users\\BHSU\\AppData\\Local\\Programs\\Python\\Python39\\lib\\site-packages\\openfl\\component\\aggregator\\aggregator.py#894\" target=\"_blank\"><span style=\"color: #7f7f7f; text-decoration-color: #7f7f7f\">894</span></a>\n",
       "</pre>\n"
      ],
      "text/plain": [
       "\u001b[2;36m          \u001b[0m\u001b[2;36m \u001b[0m\u001b[34mINFO    \u001b[0m Saving round \u001b[1;36m2\u001b[0m model\u001b[33m...\u001b[0m                                                                                                    \u001b]8;id=172142;file://C:\\Users\\BHSU\\AppData\\Local\\Programs\\Python\\Python39\\lib\\site-packages\\openfl\\component\\aggregator\\aggregator.py\u001b\\\u001b[2maggregator.py\u001b[0m\u001b]8;;\u001b\\\u001b[2m:\u001b[0m\u001b]8;id=585100;file://C:\\Users\\BHSU\\AppData\\Local\\Programs\\Python\\Python39\\lib\\site-packages\\openfl\\component\\aggregator\\aggregator.py#894\u001b\\\u001b[2m894\u001b[0m\u001b]8;;\u001b\\\n"
      ]
     },
     "metadata": {},
     "output_type": "display_data"
    },
    {
     "data": {
      "text/html": [
       "<pre style=\"white-space:pre;overflow-x:auto;line-height:normal;font-family:Menlo,'DejaVu Sans Mono',consolas,'Courier New',monospace\"><span style=\"color: #7fbfbf; text-decoration-color: #7fbfbf\">           </span><span style=\"color: #000080; text-decoration-color: #000080\">INFO    </span> Starting round <span style=\"color: #008080; text-decoration-color: #008080; font-weight: bold\">2</span><span style=\"color: #808000; text-decoration-color: #808000\">...</span>                                                                                                        <a href=\"file://C:\\Users\\BHSU\\AppData\\Local\\Programs\\Python\\Python39\\lib\\site-packages\\openfl\\component\\aggregator\\aggregator.py\" target=\"_blank\"><span style=\"color: #7f7f7f; text-decoration-color: #7f7f7f\">aggregator.py</span></a><span style=\"color: #7f7f7f; text-decoration-color: #7f7f7f\">:</span><a href=\"file://C:\\Users\\BHSU\\AppData\\Local\\Programs\\Python\\Python39\\lib\\site-packages\\openfl\\component\\aggregator\\aggregator.py#901\" target=\"_blank\"><span style=\"color: #7f7f7f; text-decoration-color: #7f7f7f\">901</span></a>\n",
       "</pre>\n"
      ],
      "text/plain": [
       "\u001b[2;36m          \u001b[0m\u001b[2;36m \u001b[0m\u001b[34mINFO    \u001b[0m Starting round \u001b[1;36m2\u001b[0m\u001b[33m...\u001b[0m                                                                                                        \u001b]8;id=284805;file://C:\\Users\\BHSU\\AppData\\Local\\Programs\\Python\\Python39\\lib\\site-packages\\openfl\\component\\aggregator\\aggregator.py\u001b\\\u001b[2maggregator.py\u001b[0m\u001b]8;;\u001b\\\u001b[2m:\u001b[0m\u001b]8;id=595337;file://C:\\Users\\BHSU\\AppData\\Local\\Programs\\Python\\Python39\\lib\\site-packages\\openfl\\component\\aggregator\\aggregator.py#901\u001b\\\u001b[2m901\u001b[0m\u001b]8;;\u001b\\\n"
      ]
     },
     "metadata": {},
     "output_type": "display_data"
    },
    {
     "data": {
      "text/html": [
       "<pre style=\"white-space:pre;overflow-x:auto;line-height:normal;font-family:Menlo,'DejaVu Sans Mono',consolas,'Courier New',monospace\"><span style=\"color: #7fbfbf; text-decoration-color: #7fbfbf\">           </span><span style=\"color: #000080; text-decoration-color: #000080\">INFO    </span> All tasks completed on two for round <span style=\"color: #008080; text-decoration-color: #008080; font-weight: bold\">1</span><span style=\"color: #808000; text-decoration-color: #808000\">...</span>                                                                                <a href=\"file://C:\\Users\\BHSU\\AppData\\Local\\Programs\\Python\\Python39\\lib\\site-packages\\openfl\\component\\collaborator\\collaborator.py\" target=\"_blank\"><span style=\"color: #7f7f7f; text-decoration-color: #7f7f7f\">collaborator.py</span></a><span style=\"color: #7f7f7f; text-decoration-color: #7f7f7f\">:</span><a href=\"file://C:\\Users\\BHSU\\AppData\\Local\\Programs\\Python\\Python39\\lib\\site-packages\\openfl\\component\\collaborator\\collaborator.py#171\" target=\"_blank\"><span style=\"color: #7f7f7f; text-decoration-color: #7f7f7f\">171</span></a>\n",
       "</pre>\n"
      ],
      "text/plain": [
       "\u001b[2;36m          \u001b[0m\u001b[2;36m \u001b[0m\u001b[34mINFO    \u001b[0m All tasks completed on two for round \u001b[1;36m1\u001b[0m\u001b[33m...\u001b[0m                                                                                \u001b]8;id=132667;file://C:\\Users\\BHSU\\AppData\\Local\\Programs\\Python\\Python39\\lib\\site-packages\\openfl\\component\\collaborator\\collaborator.py\u001b\\\u001b[2mcollaborator.py\u001b[0m\u001b]8;;\u001b\\\u001b[2m:\u001b[0m\u001b]8;id=105462;file://C:\\Users\\BHSU\\AppData\\Local\\Programs\\Python\\Python39\\lib\\site-packages\\openfl\\component\\collaborator\\collaborator.py#171\u001b\\\u001b[2m171\u001b[0m\u001b]8;;\u001b\\\n"
      ]
     },
     "metadata": {},
     "output_type": "display_data"
    },
    {
     "data": {
      "text/html": [
       "<pre style=\"white-space:pre;overflow-x:auto;line-height:normal;font-family:Menlo,'DejaVu Sans Mono',consolas,'Courier New',monospace\"><span style=\"color: #7fbfbf; text-decoration-color: #7fbfbf\">           </span><span style=\"color: #000080; text-decoration-color: #000080\">INFO    </span> Waiting for tasks<span style=\"color: #808000; text-decoration-color: #808000\">...</span>                                                                                                     <a href=\"file://C:\\Users\\BHSU\\AppData\\Local\\Programs\\Python\\Python39\\lib\\site-packages\\openfl\\component\\collaborator\\collaborator.py\" target=\"_blank\"><span style=\"color: #7f7f7f; text-decoration-color: #7f7f7f\">collaborator.py</span></a><span style=\"color: #7f7f7f; text-decoration-color: #7f7f7f\">:</span><a href=\"file://C:\\Users\\BHSU\\AppData\\Local\\Programs\\Python\\Python39\\lib\\site-packages\\openfl\\component\\collaborator\\collaborator.py#178\" target=\"_blank\"><span style=\"color: #7f7f7f; text-decoration-color: #7f7f7f\">178</span></a>\n",
       "</pre>\n"
      ],
      "text/plain": [
       "\u001b[2;36m          \u001b[0m\u001b[2;36m \u001b[0m\u001b[34mINFO    \u001b[0m Waiting for tasks\u001b[33m...\u001b[0m                                                                                                     \u001b]8;id=878598;file://C:\\Users\\BHSU\\AppData\\Local\\Programs\\Python\\Python39\\lib\\site-packages\\openfl\\component\\collaborator\\collaborator.py\u001b\\\u001b[2mcollaborator.py\u001b[0m\u001b]8;;\u001b\\\u001b[2m:\u001b[0m\u001b]8;id=304073;file://C:\\Users\\BHSU\\AppData\\Local\\Programs\\Python\\Python39\\lib\\site-packages\\openfl\\component\\collaborator\\collaborator.py#178\u001b\\\u001b[2m178\u001b[0m\u001b]8;;\u001b\\\n"
      ]
     },
     "metadata": {},
     "output_type": "display_data"
    },
    {
     "data": {
      "text/html": [
       "<pre style=\"white-space:pre;overflow-x:auto;line-height:normal;font-family:Menlo,'DejaVu Sans Mono',consolas,'Courier New',monospace\"><span style=\"color: #7fbfbf; text-decoration-color: #7fbfbf\">           </span><span style=\"color: #000080; text-decoration-color: #000080\">INFO    </span> Sending tasks to collaborator one for round <span style=\"color: #008080; text-decoration-color: #008080; font-weight: bold\">2</span>                                                                              <a href=\"file://C:\\Users\\BHSU\\AppData\\Local\\Programs\\Python\\Python39\\lib\\site-packages\\openfl\\component\\aggregator\\aggregator.py\" target=\"_blank\"><span style=\"color: #7f7f7f; text-decoration-color: #7f7f7f\">aggregator.py</span></a><span style=\"color: #7f7f7f; text-decoration-color: #7f7f7f\">:</span><a href=\"file://C:\\Users\\BHSU\\AppData\\Local\\Programs\\Python\\Python39\\lib\\site-packages\\openfl\\component\\aggregator\\aggregator.py#329\" target=\"_blank\"><span style=\"color: #7f7f7f; text-decoration-color: #7f7f7f\">329</span></a>\n",
       "</pre>\n"
      ],
      "text/plain": [
       "\u001b[2;36m          \u001b[0m\u001b[2;36m \u001b[0m\u001b[34mINFO    \u001b[0m Sending tasks to collaborator one for round \u001b[1;36m2\u001b[0m                                                                              \u001b]8;id=513640;file://C:\\Users\\BHSU\\AppData\\Local\\Programs\\Python\\Python39\\lib\\site-packages\\openfl\\component\\aggregator\\aggregator.py\u001b\\\u001b[2maggregator.py\u001b[0m\u001b]8;;\u001b\\\u001b[2m:\u001b[0m\u001b]8;id=574053;file://C:\\Users\\BHSU\\AppData\\Local\\Programs\\Python\\Python39\\lib\\site-packages\\openfl\\component\\aggregator\\aggregator.py#329\u001b\\\u001b[2m329\u001b[0m\u001b]8;;\u001b\\\n"
      ]
     },
     "metadata": {},
     "output_type": "display_data"
    },
    {
     "data": {
      "text/html": [
       "<pre style=\"white-space:pre;overflow-x:auto;line-height:normal;font-family:Menlo,'DejaVu Sans Mono',consolas,'Courier New',monospace\"><span style=\"color: #7fbfbf; text-decoration-color: #7fbfbf\">           </span><span style=\"color: #000080; text-decoration-color: #000080\">INFO    </span> Received the following tasks: <span style=\"font-weight: bold\">[</span><span style=\"color: #008000; text-decoration-color: #008000\">'aggregated_model_validation'</span>, <span style=\"color: #008000; text-decoration-color: #008000\">'train'</span>, <span style=\"color: #008000; text-decoration-color: #008000\">'locally_tuned_model_validation'</span><span style=\"font-weight: bold\">]</span>                 <a href=\"file://C:\\Users\\BHSU\\AppData\\Local\\Programs\\Python\\Python39\\lib\\site-packages\\openfl\\component\\collaborator\\collaborator.py\" target=\"_blank\"><span style=\"color: #7f7f7f; text-decoration-color: #7f7f7f\">collaborator.py</span></a><span style=\"color: #7f7f7f; text-decoration-color: #7f7f7f\">:</span><a href=\"file://C:\\Users\\BHSU\\AppData\\Local\\Programs\\Python\\Python39\\lib\\site-packages\\openfl\\component\\collaborator\\collaborator.py#168\" target=\"_blank\"><span style=\"color: #7f7f7f; text-decoration-color: #7f7f7f\">168</span></a>\n",
       "</pre>\n"
      ],
      "text/plain": [
       "\u001b[2;36m          \u001b[0m\u001b[2;36m \u001b[0m\u001b[34mINFO    \u001b[0m Received the following tasks: \u001b[1m[\u001b[0m\u001b[32m'aggregated_model_validation'\u001b[0m, \u001b[32m'train'\u001b[0m, \u001b[32m'locally_tuned_model_validation'\u001b[0m\u001b[1m]\u001b[0m                 \u001b]8;id=931038;file://C:\\Users\\BHSU\\AppData\\Local\\Programs\\Python\\Python39\\lib\\site-packages\\openfl\\component\\collaborator\\collaborator.py\u001b\\\u001b[2mcollaborator.py\u001b[0m\u001b]8;;\u001b\\\u001b[2m:\u001b[0m\u001b]8;id=459452;file://C:\\Users\\BHSU\\AppData\\Local\\Programs\\Python\\Python39\\lib\\site-packages\\openfl\\component\\collaborator\\collaborator.py#168\u001b\\\u001b[2m168\u001b[0m\u001b]8;;\u001b\\\n"
      ]
     },
     "metadata": {},
     "output_type": "display_data"
    },
    {
     "data": {
      "text/html": [
       "<pre style=\"white-space:pre;overflow-x:auto;line-height:normal;font-family:Menlo,'DejaVu Sans Mono',consolas,'Courier New',monospace\"><span style=\"color: #7fbfbf; text-decoration-color: #7fbfbf\">           </span><span style=\"color: #000080; text-decoration-color: #000080\">INFO    </span> Using TaskRunner subclassing API                                                                                         <a href=\"file://C:\\Users\\BHSU\\AppData\\Local\\Programs\\Python\\Python39\\lib\\site-packages\\openfl\\component\\collaborator\\collaborator.py\" target=\"_blank\"><span style=\"color: #7f7f7f; text-decoration-color: #7f7f7f\">collaborator.py</span></a><span style=\"color: #7f7f7f; text-decoration-color: #7f7f7f\">:</span><a href=\"file://C:\\Users\\BHSU\\AppData\\Local\\Programs\\Python\\Python39\\lib\\site-packages\\openfl\\component\\collaborator\\collaborator.py#253\" target=\"_blank\"><span style=\"color: #7f7f7f; text-decoration-color: #7f7f7f\">253</span></a>\n",
       "</pre>\n"
      ],
      "text/plain": [
       "\u001b[2;36m          \u001b[0m\u001b[2;36m \u001b[0m\u001b[34mINFO    \u001b[0m Using TaskRunner subclassing API                                                                                         \u001b]8;id=932852;file://C:\\Users\\BHSU\\AppData\\Local\\Programs\\Python\\Python39\\lib\\site-packages\\openfl\\component\\collaborator\\collaborator.py\u001b\\\u001b[2mcollaborator.py\u001b[0m\u001b]8;;\u001b\\\u001b[2m:\u001b[0m\u001b]8;id=612935;file://C:\\Users\\BHSU\\AppData\\Local\\Programs\\Python\\Python39\\lib\\site-packages\\openfl\\component\\collaborator\\collaborator.py#253\u001b\\\u001b[2m253\u001b[0m\u001b]8;;\u001b\\\n"
      ]
     },
     "metadata": {},
     "output_type": "display_data"
    },
    {
     "name": "stdout",
     "output_type": "stream",
     "text": [
      "282/282 [==============================] - 0s 594us/step - loss: 0.2353 - accuracy: 0.9293\n"
     ]
    },
    {
     "data": {
      "text/html": [
       "<pre style=\"white-space:pre;overflow-x:auto;line-height:normal;font-family:Menlo,'DejaVu Sans Mono',consolas,'Courier New',monospace\"><span style=\"color: #7fbfbf; text-decoration-color: #7fbfbf\">           </span>METRIC   Round <span style=\"color: #008080; text-decoration-color: #008080; font-weight: bold\">2</span>, collaborator one is sending metric for task aggregated_model_validation: accuracy      <span style=\"color: #008080; text-decoration-color: #008080; font-weight: bold\">0.929333</span>                 <a href=\"file://C:\\Users\\BHSU\\AppData\\Local\\Programs\\Python\\Python39\\lib\\site-packages\\openfl\\component\\collaborator\\collaborator.py\" target=\"_blank\"><span style=\"color: #7f7f7f; text-decoration-color: #7f7f7f\">collaborator.py</span></a><span style=\"color: #7f7f7f; text-decoration-color: #7f7f7f\">:</span><a href=\"file://C:\\Users\\BHSU\\AppData\\Local\\Programs\\Python\\Python39\\lib\\site-packages\\openfl\\component\\collaborator\\collaborator.py#415\" target=\"_blank\"><span style=\"color: #7f7f7f; text-decoration-color: #7f7f7f\">415</span></a>\n",
       "</pre>\n"
      ],
      "text/plain": [
       "\u001b[2;36m          \u001b[0m\u001b[2;36m \u001b[0mMETRIC   Round \u001b[1;36m2\u001b[0m, collaborator one is sending metric for task aggregated_model_validation: accuracy      \u001b[1;36m0.929333\u001b[0m                 \u001b]8;id=683443;file://C:\\Users\\BHSU\\AppData\\Local\\Programs\\Python\\Python39\\lib\\site-packages\\openfl\\component\\collaborator\\collaborator.py\u001b\\\u001b[2mcollaborator.py\u001b[0m\u001b]8;;\u001b\\\u001b[2m:\u001b[0m\u001b]8;id=454671;file://C:\\Users\\BHSU\\AppData\\Local\\Programs\\Python\\Python39\\lib\\site-packages\\openfl\\component\\collaborator\\collaborator.py#415\u001b\\\u001b[2m415\u001b[0m\u001b]8;;\u001b\\\n"
      ]
     },
     "metadata": {},
     "output_type": "display_data"
    },
    {
     "data": {
      "text/html": [
       "<pre style=\"white-space:pre;overflow-x:auto;line-height:normal;font-family:Menlo,'DejaVu Sans Mono',consolas,'Courier New',monospace\"><span style=\"color: #7fbfbf; text-decoration-color: #7fbfbf\">           </span><span style=\"color: #000080; text-decoration-color: #000080\">INFO    </span> Collaborator one is sending task results for aggregated_model_validation, round <span style=\"color: #008080; text-decoration-color: #008080; font-weight: bold\">2</span>                                          <a href=\"file://C:\\Users\\BHSU\\AppData\\Local\\Programs\\Python\\Python39\\lib\\site-packages\\openfl\\component\\aggregator\\aggregator.py\" target=\"_blank\"><span style=\"color: #7f7f7f; text-decoration-color: #7f7f7f\">aggregator.py</span></a><span style=\"color: #7f7f7f; text-decoration-color: #7f7f7f\">:</span><a href=\"file://C:\\Users\\BHSU\\AppData\\Local\\Programs\\Python\\Python39\\lib\\site-packages\\openfl\\component\\aggregator\\aggregator.py#520\" target=\"_blank\"><span style=\"color: #7f7f7f; text-decoration-color: #7f7f7f\">520</span></a>\n",
       "</pre>\n"
      ],
      "text/plain": [
       "\u001b[2;36m          \u001b[0m\u001b[2;36m \u001b[0m\u001b[34mINFO    \u001b[0m Collaborator one is sending task results for aggregated_model_validation, round \u001b[1;36m2\u001b[0m                                          \u001b]8;id=888033;file://C:\\Users\\BHSU\\AppData\\Local\\Programs\\Python\\Python39\\lib\\site-packages\\openfl\\component\\aggregator\\aggregator.py\u001b\\\u001b[2maggregator.py\u001b[0m\u001b]8;;\u001b\\\u001b[2m:\u001b[0m\u001b]8;id=18108;file://C:\\Users\\BHSU\\AppData\\Local\\Programs\\Python\\Python39\\lib\\site-packages\\openfl\\component\\aggregator\\aggregator.py#520\u001b\\\u001b[2m520\u001b[0m\u001b]8;;\u001b\\\n"
      ]
     },
     "metadata": {},
     "output_type": "display_data"
    },
    {
     "data": {
      "text/html": [
       "<pre style=\"white-space:pre;overflow-x:auto;line-height:normal;font-family:Menlo,'DejaVu Sans Mono',consolas,'Courier New',monospace\"><span style=\"color: #7fbfbf; text-decoration-color: #7fbfbf\">           </span>METRIC   Round <span style=\"color: #008080; text-decoration-color: #008080; font-weight: bold\">2</span>, collaborator validate_agg aggregated_model_validation result accuracy: <span style=\"color: #008080; text-decoration-color: #008080; font-weight: bold\">0.929333</span>                                   <a href=\"file://C:\\Users\\BHSU\\AppData\\Local\\Programs\\Python\\Python39\\lib\\site-packages\\openfl\\component\\aggregator\\aggregator.py\" target=\"_blank\"><span style=\"color: #7f7f7f; text-decoration-color: #7f7f7f\">aggregator.py</span></a><span style=\"color: #7f7f7f; text-decoration-color: #7f7f7f\">:</span><a href=\"file://C:\\Users\\BHSU\\AppData\\Local\\Programs\\Python\\Python39\\lib\\site-packages\\openfl\\component\\aggregator\\aggregator.py#559\" target=\"_blank\"><span style=\"color: #7f7f7f; text-decoration-color: #7f7f7f\">559</span></a>\n",
       "</pre>\n"
      ],
      "text/plain": [
       "\u001b[2;36m          \u001b[0m\u001b[2;36m \u001b[0mMETRIC   Round \u001b[1;36m2\u001b[0m, collaborator validate_agg aggregated_model_validation result accuracy: \u001b[1;36m0.929333\u001b[0m                                   \u001b]8;id=129491;file://C:\\Users\\BHSU\\AppData\\Local\\Programs\\Python\\Python39\\lib\\site-packages\\openfl\\component\\aggregator\\aggregator.py\u001b\\\u001b[2maggregator.py\u001b[0m\u001b]8;;\u001b\\\u001b[2m:\u001b[0m\u001b]8;id=262855;file://C:\\Users\\BHSU\\AppData\\Local\\Programs\\Python\\Python39\\lib\\site-packages\\openfl\\component\\aggregator\\aggregator.py#559\u001b\\\u001b[2m559\u001b[0m\u001b]8;;\u001b\\\n"
      ]
     },
     "metadata": {},
     "output_type": "display_data"
    },
    {
     "data": {
      "text/html": [
       "<pre style=\"white-space:pre;overflow-x:auto;line-height:normal;font-family:Menlo,'DejaVu Sans Mono',consolas,'Courier New',monospace\"><span style=\"color: #7fbfbf; text-decoration-color: #7fbfbf\">           </span><span style=\"color: #000080; text-decoration-color: #000080\">INFO    </span> Using TaskRunner subclassing API                                                                                         <a href=\"file://C:\\Users\\BHSU\\AppData\\Local\\Programs\\Python\\Python39\\lib\\site-packages\\openfl\\component\\collaborator\\collaborator.py\" target=\"_blank\"><span style=\"color: #7f7f7f; text-decoration-color: #7f7f7f\">collaborator.py</span></a><span style=\"color: #7f7f7f; text-decoration-color: #7f7f7f\">:</span><a href=\"file://C:\\Users\\BHSU\\AppData\\Local\\Programs\\Python\\Python39\\lib\\site-packages\\openfl\\component\\collaborator\\collaborator.py#253\" target=\"_blank\"><span style=\"color: #7f7f7f; text-decoration-color: #7f7f7f\">253</span></a>\n",
       "</pre>\n"
      ],
      "text/plain": [
       "\u001b[2;36m          \u001b[0m\u001b[2;36m \u001b[0m\u001b[34mINFO    \u001b[0m Using TaskRunner subclassing API                                                                                         \u001b]8;id=170692;file://C:\\Users\\BHSU\\AppData\\Local\\Programs\\Python\\Python39\\lib\\site-packages\\openfl\\component\\collaborator\\collaborator.py\u001b\\\u001b[2mcollaborator.py\u001b[0m\u001b]8;;\u001b\\\u001b[2m:\u001b[0m\u001b]8;id=92482;file://C:\\Users\\BHSU\\AppData\\Local\\Programs\\Python\\Python39\\lib\\site-packages\\openfl\\component\\collaborator\\collaborator.py#253\u001b\\\u001b[2m253\u001b[0m\u001b]8;;\u001b\\\n"
      ]
     },
     "metadata": {},
     "output_type": "display_data"
    },
    {
     "data": {
      "text/html": [
       "<pre style=\"white-space:pre;overflow-x:auto;line-height:normal;font-family:Menlo,'DejaVu Sans Mono',consolas,'Courier New',monospace\"><span style=\"color: #7fbfbf; text-decoration-color: #7fbfbf\">           </span><span style=\"color: #000080; text-decoration-color: #000080\">INFO    </span> Run <span style=\"color: #008080; text-decoration-color: #008080; font-weight: bold\">0</span> epoch of <span style=\"color: #008080; text-decoration-color: #008080; font-weight: bold\">2</span> round                                                                                                    <a href=\"file://C:\\Users\\BHSU\\AppData\\Local\\Programs\\Python\\Python39\\lib\\site-packages\\openfl\\federated\\task\\runner_keras.py\" target=\"_blank\"><span style=\"color: #7f7f7f; text-decoration-color: #7f7f7f\">runner_keras.py</span></a><span style=\"color: #7f7f7f; text-decoration-color: #7f7f7f\">:</span><a href=\"file://C:\\Users\\BHSU\\AppData\\Local\\Programs\\Python\\Python39\\lib\\site-packages\\openfl\\federated\\task\\runner_keras.py#83\" target=\"_blank\"><span style=\"color: #7f7f7f; text-decoration-color: #7f7f7f\">83</span></a>\n",
       "</pre>\n"
      ],
      "text/plain": [
       "\u001b[2;36m          \u001b[0m\u001b[2;36m \u001b[0m\u001b[34mINFO    \u001b[0m Run \u001b[1;36m0\u001b[0m epoch of \u001b[1;36m2\u001b[0m round                                                                                                    \u001b]8;id=125447;file://C:\\Users\\BHSU\\AppData\\Local\\Programs\\Python\\Python39\\lib\\site-packages\\openfl\\federated\\task\\runner_keras.py\u001b\\\u001b[2mrunner_keras.py\u001b[0m\u001b]8;;\u001b\\\u001b[2m:\u001b[0m\u001b]8;id=645532;file://C:\\Users\\BHSU\\AppData\\Local\\Programs\\Python\\Python39\\lib\\site-packages\\openfl\\federated\\task\\runner_keras.py#83\u001b\\\u001b[2m83\u001b[0m\u001b]8;;\u001b\\\n"
      ]
     },
     "metadata": {},
     "output_type": "display_data"
    },
    {
     "name": "stdout",
     "output_type": "stream",
     "text": [
      "657/657 [==============================] - 0s 643us/step - loss: 0.2380 - accuracy: 0.9262\n"
     ]
    },
    {
     "data": {
      "text/html": [
       "<pre style=\"white-space:pre;overflow-x:auto;line-height:normal;font-family:Menlo,'DejaVu Sans Mono',consolas,'Courier New',monospace\"><span style=\"color: #7fbfbf; text-decoration-color: #7fbfbf\">[09:22:39] </span>METRIC   Round <span style=\"color: #008080; text-decoration-color: #008080; font-weight: bold\">2</span>, collaborator one is sending metric for task train: loss        <span style=\"color: #008080; text-decoration-color: #008080; font-weight: bold\">0.238044</span>                                         <a href=\"file://C:\\Users\\BHSU\\AppData\\Local\\Programs\\Python\\Python39\\lib\\site-packages\\openfl\\component\\collaborator\\collaborator.py\" target=\"_blank\"><span style=\"color: #7f7f7f; text-decoration-color: #7f7f7f\">collaborator.py</span></a><span style=\"color: #7f7f7f; text-decoration-color: #7f7f7f\">:</span><a href=\"file://C:\\Users\\BHSU\\AppData\\Local\\Programs\\Python\\Python39\\lib\\site-packages\\openfl\\component\\collaborator\\collaborator.py#415\" target=\"_blank\"><span style=\"color: #7f7f7f; text-decoration-color: #7f7f7f\">415</span></a>\n",
       "</pre>\n"
      ],
      "text/plain": [
       "\u001b[2;36m[09:22:39]\u001b[0m\u001b[2;36m \u001b[0mMETRIC   Round \u001b[1;36m2\u001b[0m, collaborator one is sending metric for task train: loss        \u001b[1;36m0.238044\u001b[0m                                         \u001b]8;id=914366;file://C:\\Users\\BHSU\\AppData\\Local\\Programs\\Python\\Python39\\lib\\site-packages\\openfl\\component\\collaborator\\collaborator.py\u001b\\\u001b[2mcollaborator.py\u001b[0m\u001b]8;;\u001b\\\u001b[2m:\u001b[0m\u001b]8;id=70579;file://C:\\Users\\BHSU\\AppData\\Local\\Programs\\Python\\Python39\\lib\\site-packages\\openfl\\component\\collaborator\\collaborator.py#415\u001b\\\u001b[2m415\u001b[0m\u001b]8;;\u001b\\\n"
      ]
     },
     "metadata": {},
     "output_type": "display_data"
    },
    {
     "data": {
      "text/html": [
       "<pre style=\"white-space:pre;overflow-x:auto;line-height:normal;font-family:Menlo,'DejaVu Sans Mono',consolas,'Courier New',monospace\"><span style=\"color: #7fbfbf; text-decoration-color: #7fbfbf\">           </span><span style=\"color: #000080; text-decoration-color: #000080\">INFO    </span> Collaborator one is sending task results for train, round <span style=\"color: #008080; text-decoration-color: #008080; font-weight: bold\">2</span>                                                                <a href=\"file://C:\\Users\\BHSU\\AppData\\Local\\Programs\\Python\\Python39\\lib\\site-packages\\openfl\\component\\aggregator\\aggregator.py\" target=\"_blank\"><span style=\"color: #7f7f7f; text-decoration-color: #7f7f7f\">aggregator.py</span></a><span style=\"color: #7f7f7f; text-decoration-color: #7f7f7f\">:</span><a href=\"file://C:\\Users\\BHSU\\AppData\\Local\\Programs\\Python\\Python39\\lib\\site-packages\\openfl\\component\\aggregator\\aggregator.py#520\" target=\"_blank\"><span style=\"color: #7f7f7f; text-decoration-color: #7f7f7f\">520</span></a>\n",
       "</pre>\n"
      ],
      "text/plain": [
       "\u001b[2;36m          \u001b[0m\u001b[2;36m \u001b[0m\u001b[34mINFO    \u001b[0m Collaborator one is sending task results for train, round \u001b[1;36m2\u001b[0m                                                                \u001b]8;id=746062;file://C:\\Users\\BHSU\\AppData\\Local\\Programs\\Python\\Python39\\lib\\site-packages\\openfl\\component\\aggregator\\aggregator.py\u001b\\\u001b[2maggregator.py\u001b[0m\u001b]8;;\u001b\\\u001b[2m:\u001b[0m\u001b]8;id=932478;file://C:\\Users\\BHSU\\AppData\\Local\\Programs\\Python\\Python39\\lib\\site-packages\\openfl\\component\\aggregator\\aggregator.py#520\u001b\\\u001b[2m520\u001b[0m\u001b]8;;\u001b\\\n"
      ]
     },
     "metadata": {},
     "output_type": "display_data"
    },
    {
     "data": {
      "text/html": [
       "<pre style=\"white-space:pre;overflow-x:auto;line-height:normal;font-family:Menlo,'DejaVu Sans Mono',consolas,'Courier New',monospace\"><span style=\"color: #7fbfbf; text-decoration-color: #7fbfbf\">           </span>METRIC   Round <span style=\"color: #008080; text-decoration-color: #008080; font-weight: bold\">2</span>, collaborator one train result loss:    <span style=\"color: #008080; text-decoration-color: #008080; font-weight: bold\">0.238044</span>                                                                   <a href=\"file://C:\\Users\\BHSU\\AppData\\Local\\Programs\\Python\\Python39\\lib\\site-packages\\openfl\\component\\aggregator\\aggregator.py\" target=\"_blank\"><span style=\"color: #7f7f7f; text-decoration-color: #7f7f7f\">aggregator.py</span></a><span style=\"color: #7f7f7f; text-decoration-color: #7f7f7f\">:</span><a href=\"file://C:\\Users\\BHSU\\AppData\\Local\\Programs\\Python\\Python39\\lib\\site-packages\\openfl\\component\\aggregator\\aggregator.py#559\" target=\"_blank\"><span style=\"color: #7f7f7f; text-decoration-color: #7f7f7f\">559</span></a>\n",
       "</pre>\n"
      ],
      "text/plain": [
       "\u001b[2;36m          \u001b[0m\u001b[2;36m \u001b[0mMETRIC   Round \u001b[1;36m2\u001b[0m, collaborator one train result loss:    \u001b[1;36m0.238044\u001b[0m                                                                   \u001b]8;id=139217;file://C:\\Users\\BHSU\\AppData\\Local\\Programs\\Python\\Python39\\lib\\site-packages\\openfl\\component\\aggregator\\aggregator.py\u001b\\\u001b[2maggregator.py\u001b[0m\u001b]8;;\u001b\\\u001b[2m:\u001b[0m\u001b]8;id=932839;file://C:\\Users\\BHSU\\AppData\\Local\\Programs\\Python\\Python39\\lib\\site-packages\\openfl\\component\\aggregator\\aggregator.py#559\u001b\\\u001b[2m559\u001b[0m\u001b]8;;\u001b\\\n"
      ]
     },
     "metadata": {},
     "output_type": "display_data"
    },
    {
     "data": {
      "text/html": [
       "<pre style=\"white-space:pre;overflow-x:auto;line-height:normal;font-family:Menlo,'DejaVu Sans Mono',consolas,'Courier New',monospace\"><span style=\"color: #7fbfbf; text-decoration-color: #7fbfbf\">           </span><span style=\"color: #000080; text-decoration-color: #000080\">INFO    </span> Using TaskRunner subclassing API                                                                                         <a href=\"file://C:\\Users\\BHSU\\AppData\\Local\\Programs\\Python\\Python39\\lib\\site-packages\\openfl\\component\\collaborator\\collaborator.py\" target=\"_blank\"><span style=\"color: #7f7f7f; text-decoration-color: #7f7f7f\">collaborator.py</span></a><span style=\"color: #7f7f7f; text-decoration-color: #7f7f7f\">:</span><a href=\"file://C:\\Users\\BHSU\\AppData\\Local\\Programs\\Python\\Python39\\lib\\site-packages\\openfl\\component\\collaborator\\collaborator.py#253\" target=\"_blank\"><span style=\"color: #7f7f7f; text-decoration-color: #7f7f7f\">253</span></a>\n",
       "</pre>\n"
      ],
      "text/plain": [
       "\u001b[2;36m          \u001b[0m\u001b[2;36m \u001b[0m\u001b[34mINFO    \u001b[0m Using TaskRunner subclassing API                                                                                         \u001b]8;id=108084;file://C:\\Users\\BHSU\\AppData\\Local\\Programs\\Python\\Python39\\lib\\site-packages\\openfl\\component\\collaborator\\collaborator.py\u001b\\\u001b[2mcollaborator.py\u001b[0m\u001b]8;;\u001b\\\u001b[2m:\u001b[0m\u001b]8;id=675554;file://C:\\Users\\BHSU\\AppData\\Local\\Programs\\Python\\Python39\\lib\\site-packages\\openfl\\component\\collaborator\\collaborator.py#253\u001b\\\u001b[2m253\u001b[0m\u001b]8;;\u001b\\\n"
      ]
     },
     "metadata": {},
     "output_type": "display_data"
    },
    {
     "name": "stdout",
     "output_type": "stream",
     "text": [
      "282/282 [==============================] - 0s 552us/step - loss: 0.2053 - accuracy: 0.9360\n"
     ]
    },
    {
     "data": {
      "text/html": [
       "<pre style=\"white-space:pre;overflow-x:auto;line-height:normal;font-family:Menlo,'DejaVu Sans Mono',consolas,'Courier New',monospace\"><span style=\"color: #7fbfbf; text-decoration-color: #7fbfbf\">           </span>METRIC   Round <span style=\"color: #008080; text-decoration-color: #008080; font-weight: bold\">2</span>, collaborator one is sending metric for task locally_tuned_model_validation: accuracy   <span style=\"color: #008080; text-decoration-color: #008080; font-weight: bold\">0.936000</span>                 <a href=\"file://C:\\Users\\BHSU\\AppData\\Local\\Programs\\Python\\Python39\\lib\\site-packages\\openfl\\component\\collaborator\\collaborator.py\" target=\"_blank\"><span style=\"color: #7f7f7f; text-decoration-color: #7f7f7f\">collaborator.py</span></a><span style=\"color: #7f7f7f; text-decoration-color: #7f7f7f\">:</span><a href=\"file://C:\\Users\\BHSU\\AppData\\Local\\Programs\\Python\\Python39\\lib\\site-packages\\openfl\\component\\collaborator\\collaborator.py#415\" target=\"_blank\"><span style=\"color: #7f7f7f; text-decoration-color: #7f7f7f\">415</span></a>\n",
       "</pre>\n"
      ],
      "text/plain": [
       "\u001b[2;36m          \u001b[0m\u001b[2;36m \u001b[0mMETRIC   Round \u001b[1;36m2\u001b[0m, collaborator one is sending metric for task locally_tuned_model_validation: accuracy   \u001b[1;36m0.936000\u001b[0m                 \u001b]8;id=557367;file://C:\\Users\\BHSU\\AppData\\Local\\Programs\\Python\\Python39\\lib\\site-packages\\openfl\\component\\collaborator\\collaborator.py\u001b\\\u001b[2mcollaborator.py\u001b[0m\u001b]8;;\u001b\\\u001b[2m:\u001b[0m\u001b]8;id=182231;file://C:\\Users\\BHSU\\AppData\\Local\\Programs\\Python\\Python39\\lib\\site-packages\\openfl\\component\\collaborator\\collaborator.py#415\u001b\\\u001b[2m415\u001b[0m\u001b]8;;\u001b\\\n"
      ]
     },
     "metadata": {},
     "output_type": "display_data"
    },
    {
     "data": {
      "text/html": [
       "<pre style=\"white-space:pre;overflow-x:auto;line-height:normal;font-family:Menlo,'DejaVu Sans Mono',consolas,'Courier New',monospace\"><span style=\"color: #7fbfbf; text-decoration-color: #7fbfbf\">           </span><span style=\"color: #000080; text-decoration-color: #000080\">INFO    </span> Collaborator one is sending task results for locally_tuned_model_validation, round <span style=\"color: #008080; text-decoration-color: #008080; font-weight: bold\">2</span>                                       <a href=\"file://C:\\Users\\BHSU\\AppData\\Local\\Programs\\Python\\Python39\\lib\\site-packages\\openfl\\component\\aggregator\\aggregator.py\" target=\"_blank\"><span style=\"color: #7f7f7f; text-decoration-color: #7f7f7f\">aggregator.py</span></a><span style=\"color: #7f7f7f; text-decoration-color: #7f7f7f\">:</span><a href=\"file://C:\\Users\\BHSU\\AppData\\Local\\Programs\\Python\\Python39\\lib\\site-packages\\openfl\\component\\aggregator\\aggregator.py#520\" target=\"_blank\"><span style=\"color: #7f7f7f; text-decoration-color: #7f7f7f\">520</span></a>\n",
       "</pre>\n"
      ],
      "text/plain": [
       "\u001b[2;36m          \u001b[0m\u001b[2;36m \u001b[0m\u001b[34mINFO    \u001b[0m Collaborator one is sending task results for locally_tuned_model_validation, round \u001b[1;36m2\u001b[0m                                       \u001b]8;id=312145;file://C:\\Users\\BHSU\\AppData\\Local\\Programs\\Python\\Python39\\lib\\site-packages\\openfl\\component\\aggregator\\aggregator.py\u001b\\\u001b[2maggregator.py\u001b[0m\u001b]8;;\u001b\\\u001b[2m:\u001b[0m\u001b]8;id=585478;file://C:\\Users\\BHSU\\AppData\\Local\\Programs\\Python\\Python39\\lib\\site-packages\\openfl\\component\\aggregator\\aggregator.py#520\u001b\\\u001b[2m520\u001b[0m\u001b]8;;\u001b\\\n"
      ]
     },
     "metadata": {},
     "output_type": "display_data"
    },
    {
     "data": {
      "text/html": [
       "<pre style=\"white-space:pre;overflow-x:auto;line-height:normal;font-family:Menlo,'DejaVu Sans Mono',consolas,'Courier New',monospace\"><span style=\"color: #7fbfbf; text-decoration-color: #7fbfbf\">           </span>METRIC   Round <span style=\"color: #008080; text-decoration-color: #008080; font-weight: bold\">2</span>, collaborator validate_local locally_tuned_model_validation result accuracy:    <span style=\"color: #008080; text-decoration-color: #008080; font-weight: bold\">0.936000</span>                           <a href=\"file://C:\\Users\\BHSU\\AppData\\Local\\Programs\\Python\\Python39\\lib\\site-packages\\openfl\\component\\aggregator\\aggregator.py\" target=\"_blank\"><span style=\"color: #7f7f7f; text-decoration-color: #7f7f7f\">aggregator.py</span></a><span style=\"color: #7f7f7f; text-decoration-color: #7f7f7f\">:</span><a href=\"file://C:\\Users\\BHSU\\AppData\\Local\\Programs\\Python\\Python39\\lib\\site-packages\\openfl\\component\\aggregator\\aggregator.py#559\" target=\"_blank\"><span style=\"color: #7f7f7f; text-decoration-color: #7f7f7f\">559</span></a>\n",
       "</pre>\n"
      ],
      "text/plain": [
       "\u001b[2;36m          \u001b[0m\u001b[2;36m \u001b[0mMETRIC   Round \u001b[1;36m2\u001b[0m, collaborator validate_local locally_tuned_model_validation result accuracy:    \u001b[1;36m0.936000\u001b[0m                           \u001b]8;id=997829;file://C:\\Users\\BHSU\\AppData\\Local\\Programs\\Python\\Python39\\lib\\site-packages\\openfl\\component\\aggregator\\aggregator.py\u001b\\\u001b[2maggregator.py\u001b[0m\u001b]8;;\u001b\\\u001b[2m:\u001b[0m\u001b]8;id=977777;file://C:\\Users\\BHSU\\AppData\\Local\\Programs\\Python\\Python39\\lib\\site-packages\\openfl\\component\\aggregator\\aggregator.py#559\u001b\\\u001b[2m559\u001b[0m\u001b]8;;\u001b\\\n"
      ]
     },
     "metadata": {},
     "output_type": "display_data"
    },
    {
     "data": {
      "text/html": [
       "<pre style=\"white-space:pre;overflow-x:auto;line-height:normal;font-family:Menlo,'DejaVu Sans Mono',consolas,'Courier New',monospace\"><span style=\"color: #7fbfbf; text-decoration-color: #7fbfbf\">           </span><span style=\"color: #000080; text-decoration-color: #000080\">INFO    </span> All tasks completed on one for round <span style=\"color: #008080; text-decoration-color: #008080; font-weight: bold\">2</span><span style=\"color: #808000; text-decoration-color: #808000\">...</span>                                                                                <a href=\"file://C:\\Users\\BHSU\\AppData\\Local\\Programs\\Python\\Python39\\lib\\site-packages\\openfl\\component\\collaborator\\collaborator.py\" target=\"_blank\"><span style=\"color: #7f7f7f; text-decoration-color: #7f7f7f\">collaborator.py</span></a><span style=\"color: #7f7f7f; text-decoration-color: #7f7f7f\">:</span><a href=\"file://C:\\Users\\BHSU\\AppData\\Local\\Programs\\Python\\Python39\\lib\\site-packages\\openfl\\component\\collaborator\\collaborator.py#171\" target=\"_blank\"><span style=\"color: #7f7f7f; text-decoration-color: #7f7f7f\">171</span></a>\n",
       "</pre>\n"
      ],
      "text/plain": [
       "\u001b[2;36m          \u001b[0m\u001b[2;36m \u001b[0m\u001b[34mINFO    \u001b[0m All tasks completed on one for round \u001b[1;36m2\u001b[0m\u001b[33m...\u001b[0m                                                                                \u001b]8;id=955835;file://C:\\Users\\BHSU\\AppData\\Local\\Programs\\Python\\Python39\\lib\\site-packages\\openfl\\component\\collaborator\\collaborator.py\u001b\\\u001b[2mcollaborator.py\u001b[0m\u001b]8;;\u001b\\\u001b[2m:\u001b[0m\u001b]8;id=519662;file://C:\\Users\\BHSU\\AppData\\Local\\Programs\\Python\\Python39\\lib\\site-packages\\openfl\\component\\collaborator\\collaborator.py#171\u001b\\\u001b[2m171\u001b[0m\u001b]8;;\u001b\\\n"
      ]
     },
     "metadata": {},
     "output_type": "display_data"
    },
    {
     "data": {
      "text/html": [
       "<pre style=\"white-space:pre;overflow-x:auto;line-height:normal;font-family:Menlo,'DejaVu Sans Mono',consolas,'Courier New',monospace\"><span style=\"color: #7fbfbf; text-decoration-color: #7fbfbf\">           </span><span style=\"color: #000080; text-decoration-color: #000080\">INFO    </span> Waiting for tasks<span style=\"color: #808000; text-decoration-color: #808000\">...</span>                                                                                                     <a href=\"file://C:\\Users\\BHSU\\AppData\\Local\\Programs\\Python\\Python39\\lib\\site-packages\\openfl\\component\\collaborator\\collaborator.py\" target=\"_blank\"><span style=\"color: #7f7f7f; text-decoration-color: #7f7f7f\">collaborator.py</span></a><span style=\"color: #7f7f7f; text-decoration-color: #7f7f7f\">:</span><a href=\"file://C:\\Users\\BHSU\\AppData\\Local\\Programs\\Python\\Python39\\lib\\site-packages\\openfl\\component\\collaborator\\collaborator.py#178\" target=\"_blank\"><span style=\"color: #7f7f7f; text-decoration-color: #7f7f7f\">178</span></a>\n",
       "</pre>\n"
      ],
      "text/plain": [
       "\u001b[2;36m          \u001b[0m\u001b[2;36m \u001b[0m\u001b[34mINFO    \u001b[0m Waiting for tasks\u001b[33m...\u001b[0m                                                                                                     \u001b]8;id=140529;file://C:\\Users\\BHSU\\AppData\\Local\\Programs\\Python\\Python39\\lib\\site-packages\\openfl\\component\\collaborator\\collaborator.py\u001b\\\u001b[2mcollaborator.py\u001b[0m\u001b]8;;\u001b\\\u001b[2m:\u001b[0m\u001b]8;id=553021;file://C:\\Users\\BHSU\\AppData\\Local\\Programs\\Python\\Python39\\lib\\site-packages\\openfl\\component\\collaborator\\collaborator.py#178\u001b\\\u001b[2m178\u001b[0m\u001b]8;;\u001b\\\n"
      ]
     },
     "metadata": {},
     "output_type": "display_data"
    },
    {
     "data": {
      "text/html": [
       "<pre style=\"white-space:pre;overflow-x:auto;line-height:normal;font-family:Menlo,'DejaVu Sans Mono',consolas,'Courier New',monospace\"><span style=\"color: #7fbfbf; text-decoration-color: #7fbfbf\">           </span><span style=\"color: #000080; text-decoration-color: #000080\">INFO    </span> Sending tasks to collaborator two for round <span style=\"color: #008080; text-decoration-color: #008080; font-weight: bold\">2</span>                                                                              <a href=\"file://C:\\Users\\BHSU\\AppData\\Local\\Programs\\Python\\Python39\\lib\\site-packages\\openfl\\component\\aggregator\\aggregator.py\" target=\"_blank\"><span style=\"color: #7f7f7f; text-decoration-color: #7f7f7f\">aggregator.py</span></a><span style=\"color: #7f7f7f; text-decoration-color: #7f7f7f\">:</span><a href=\"file://C:\\Users\\BHSU\\AppData\\Local\\Programs\\Python\\Python39\\lib\\site-packages\\openfl\\component\\aggregator\\aggregator.py#329\" target=\"_blank\"><span style=\"color: #7f7f7f; text-decoration-color: #7f7f7f\">329</span></a>\n",
       "</pre>\n"
      ],
      "text/plain": [
       "\u001b[2;36m          \u001b[0m\u001b[2;36m \u001b[0m\u001b[34mINFO    \u001b[0m Sending tasks to collaborator two for round \u001b[1;36m2\u001b[0m                                                                              \u001b]8;id=518803;file://C:\\Users\\BHSU\\AppData\\Local\\Programs\\Python\\Python39\\lib\\site-packages\\openfl\\component\\aggregator\\aggregator.py\u001b\\\u001b[2maggregator.py\u001b[0m\u001b]8;;\u001b\\\u001b[2m:\u001b[0m\u001b]8;id=452965;file://C:\\Users\\BHSU\\AppData\\Local\\Programs\\Python\\Python39\\lib\\site-packages\\openfl\\component\\aggregator\\aggregator.py#329\u001b\\\u001b[2m329\u001b[0m\u001b]8;;\u001b\\\n"
      ]
     },
     "metadata": {},
     "output_type": "display_data"
    },
    {
     "data": {
      "text/html": [
       "<pre style=\"white-space:pre;overflow-x:auto;line-height:normal;font-family:Menlo,'DejaVu Sans Mono',consolas,'Courier New',monospace\"><span style=\"color: #7fbfbf; text-decoration-color: #7fbfbf\">           </span><span style=\"color: #000080; text-decoration-color: #000080\">INFO    </span> Received the following tasks: <span style=\"font-weight: bold\">[</span><span style=\"color: #008000; text-decoration-color: #008000\">'aggregated_model_validation'</span>, <span style=\"color: #008000; text-decoration-color: #008000\">'train'</span>, <span style=\"color: #008000; text-decoration-color: #008000\">'locally_tuned_model_validation'</span><span style=\"font-weight: bold\">]</span>                 <a href=\"file://C:\\Users\\BHSU\\AppData\\Local\\Programs\\Python\\Python39\\lib\\site-packages\\openfl\\component\\collaborator\\collaborator.py\" target=\"_blank\"><span style=\"color: #7f7f7f; text-decoration-color: #7f7f7f\">collaborator.py</span></a><span style=\"color: #7f7f7f; text-decoration-color: #7f7f7f\">:</span><a href=\"file://C:\\Users\\BHSU\\AppData\\Local\\Programs\\Python\\Python39\\lib\\site-packages\\openfl\\component\\collaborator\\collaborator.py#168\" target=\"_blank\"><span style=\"color: #7f7f7f; text-decoration-color: #7f7f7f\">168</span></a>\n",
       "</pre>\n"
      ],
      "text/plain": [
       "\u001b[2;36m          \u001b[0m\u001b[2;36m \u001b[0m\u001b[34mINFO    \u001b[0m Received the following tasks: \u001b[1m[\u001b[0m\u001b[32m'aggregated_model_validation'\u001b[0m, \u001b[32m'train'\u001b[0m, \u001b[32m'locally_tuned_model_validation'\u001b[0m\u001b[1m]\u001b[0m                 \u001b]8;id=518910;file://C:\\Users\\BHSU\\AppData\\Local\\Programs\\Python\\Python39\\lib\\site-packages\\openfl\\component\\collaborator\\collaborator.py\u001b\\\u001b[2mcollaborator.py\u001b[0m\u001b]8;;\u001b\\\u001b[2m:\u001b[0m\u001b]8;id=490389;file://C:\\Users\\BHSU\\AppData\\Local\\Programs\\Python\\Python39\\lib\\site-packages\\openfl\\component\\collaborator\\collaborator.py#168\u001b\\\u001b[2m168\u001b[0m\u001b]8;;\u001b\\\n"
      ]
     },
     "metadata": {},
     "output_type": "display_data"
    },
    {
     "data": {
      "text/html": [
       "<pre style=\"white-space:pre;overflow-x:auto;line-height:normal;font-family:Menlo,'DejaVu Sans Mono',consolas,'Courier New',monospace\"><span style=\"color: #7fbfbf; text-decoration-color: #7fbfbf\">           </span><span style=\"color: #000080; text-decoration-color: #000080\">INFO    </span> Using TaskRunner subclassing API                                                                                         <a href=\"file://C:\\Users\\BHSU\\AppData\\Local\\Programs\\Python\\Python39\\lib\\site-packages\\openfl\\component\\collaborator\\collaborator.py\" target=\"_blank\"><span style=\"color: #7f7f7f; text-decoration-color: #7f7f7f\">collaborator.py</span></a><span style=\"color: #7f7f7f; text-decoration-color: #7f7f7f\">:</span><a href=\"file://C:\\Users\\BHSU\\AppData\\Local\\Programs\\Python\\Python39\\lib\\site-packages\\openfl\\component\\collaborator\\collaborator.py#253\" target=\"_blank\"><span style=\"color: #7f7f7f; text-decoration-color: #7f7f7f\">253</span></a>\n",
       "</pre>\n"
      ],
      "text/plain": [
       "\u001b[2;36m          \u001b[0m\u001b[2;36m \u001b[0m\u001b[34mINFO    \u001b[0m Using TaskRunner subclassing API                                                                                         \u001b]8;id=200942;file://C:\\Users\\BHSU\\AppData\\Local\\Programs\\Python\\Python39\\lib\\site-packages\\openfl\\component\\collaborator\\collaborator.py\u001b\\\u001b[2mcollaborator.py\u001b[0m\u001b]8;;\u001b\\\u001b[2m:\u001b[0m\u001b]8;id=777121;file://C:\\Users\\BHSU\\AppData\\Local\\Programs\\Python\\Python39\\lib\\site-packages\\openfl\\component\\collaborator\\collaborator.py#253\u001b\\\u001b[2m253\u001b[0m\u001b]8;;\u001b\\\n"
      ]
     },
     "metadata": {},
     "output_type": "display_data"
    },
    {
     "name": "stdout",
     "output_type": "stream",
     "text": [
      "282/282 [==============================] - 0s 548us/step - loss: 0.2507 - accuracy: 0.9260\n"
     ]
    },
    {
     "data": {
      "text/html": [
       "<pre style=\"white-space:pre;overflow-x:auto;line-height:normal;font-family:Menlo,'DejaVu Sans Mono',consolas,'Courier New',monospace\"><span style=\"color: #7fbfbf; text-decoration-color: #7fbfbf\">           </span>METRIC   Round <span style=\"color: #008080; text-decoration-color: #008080; font-weight: bold\">2</span>, collaborator two is sending metric for task aggregated_model_validation: accuracy      <span style=\"color: #008080; text-decoration-color: #008080; font-weight: bold\">0.926000</span>                 <a href=\"file://C:\\Users\\BHSU\\AppData\\Local\\Programs\\Python\\Python39\\lib\\site-packages\\openfl\\component\\collaborator\\collaborator.py\" target=\"_blank\"><span style=\"color: #7f7f7f; text-decoration-color: #7f7f7f\">collaborator.py</span></a><span style=\"color: #7f7f7f; text-decoration-color: #7f7f7f\">:</span><a href=\"file://C:\\Users\\BHSU\\AppData\\Local\\Programs\\Python\\Python39\\lib\\site-packages\\openfl\\component\\collaborator\\collaborator.py#415\" target=\"_blank\"><span style=\"color: #7f7f7f; text-decoration-color: #7f7f7f\">415</span></a>\n",
       "</pre>\n"
      ],
      "text/plain": [
       "\u001b[2;36m          \u001b[0m\u001b[2;36m \u001b[0mMETRIC   Round \u001b[1;36m2\u001b[0m, collaborator two is sending metric for task aggregated_model_validation: accuracy      \u001b[1;36m0.926000\u001b[0m                 \u001b]8;id=361586;file://C:\\Users\\BHSU\\AppData\\Local\\Programs\\Python\\Python39\\lib\\site-packages\\openfl\\component\\collaborator\\collaborator.py\u001b\\\u001b[2mcollaborator.py\u001b[0m\u001b]8;;\u001b\\\u001b[2m:\u001b[0m\u001b]8;id=124059;file://C:\\Users\\BHSU\\AppData\\Local\\Programs\\Python\\Python39\\lib\\site-packages\\openfl\\component\\collaborator\\collaborator.py#415\u001b\\\u001b[2m415\u001b[0m\u001b]8;;\u001b\\\n"
      ]
     },
     "metadata": {},
     "output_type": "display_data"
    },
    {
     "data": {
      "text/html": [
       "<pre style=\"white-space:pre;overflow-x:auto;line-height:normal;font-family:Menlo,'DejaVu Sans Mono',consolas,'Courier New',monospace\"><span style=\"color: #7fbfbf; text-decoration-color: #7fbfbf\">           </span><span style=\"color: #000080; text-decoration-color: #000080\">INFO    </span> Collaborator two is sending task results for aggregated_model_validation, round <span style=\"color: #008080; text-decoration-color: #008080; font-weight: bold\">2</span>                                          <a href=\"file://C:\\Users\\BHSU\\AppData\\Local\\Programs\\Python\\Python39\\lib\\site-packages\\openfl\\component\\aggregator\\aggregator.py\" target=\"_blank\"><span style=\"color: #7f7f7f; text-decoration-color: #7f7f7f\">aggregator.py</span></a><span style=\"color: #7f7f7f; text-decoration-color: #7f7f7f\">:</span><a href=\"file://C:\\Users\\BHSU\\AppData\\Local\\Programs\\Python\\Python39\\lib\\site-packages\\openfl\\component\\aggregator\\aggregator.py#520\" target=\"_blank\"><span style=\"color: #7f7f7f; text-decoration-color: #7f7f7f\">520</span></a>\n",
       "</pre>\n"
      ],
      "text/plain": [
       "\u001b[2;36m          \u001b[0m\u001b[2;36m \u001b[0m\u001b[34mINFO    \u001b[0m Collaborator two is sending task results for aggregated_model_validation, round \u001b[1;36m2\u001b[0m                                          \u001b]8;id=512951;file://C:\\Users\\BHSU\\AppData\\Local\\Programs\\Python\\Python39\\lib\\site-packages\\openfl\\component\\aggregator\\aggregator.py\u001b\\\u001b[2maggregator.py\u001b[0m\u001b]8;;\u001b\\\u001b[2m:\u001b[0m\u001b]8;id=187099;file://C:\\Users\\BHSU\\AppData\\Local\\Programs\\Python\\Python39\\lib\\site-packages\\openfl\\component\\aggregator\\aggregator.py#520\u001b\\\u001b[2m520\u001b[0m\u001b]8;;\u001b\\\n"
      ]
     },
     "metadata": {},
     "output_type": "display_data"
    },
    {
     "data": {
      "text/html": [
       "<pre style=\"white-space:pre;overflow-x:auto;line-height:normal;font-family:Menlo,'DejaVu Sans Mono',consolas,'Courier New',monospace\"><span style=\"color: #7fbfbf; text-decoration-color: #7fbfbf\">           </span>METRIC   Round <span style=\"color: #008080; text-decoration-color: #008080; font-weight: bold\">2</span>, collaborator validate_agg aggregated_model_validation result accuracy: <span style=\"color: #008080; text-decoration-color: #008080; font-weight: bold\">0.926000</span>                                   <a href=\"file://C:\\Users\\BHSU\\AppData\\Local\\Programs\\Python\\Python39\\lib\\site-packages\\openfl\\component\\aggregator\\aggregator.py\" target=\"_blank\"><span style=\"color: #7f7f7f; text-decoration-color: #7f7f7f\">aggregator.py</span></a><span style=\"color: #7f7f7f; text-decoration-color: #7f7f7f\">:</span><a href=\"file://C:\\Users\\BHSU\\AppData\\Local\\Programs\\Python\\Python39\\lib\\site-packages\\openfl\\component\\aggregator\\aggregator.py#559\" target=\"_blank\"><span style=\"color: #7f7f7f; text-decoration-color: #7f7f7f\">559</span></a>\n",
       "</pre>\n"
      ],
      "text/plain": [
       "\u001b[2;36m          \u001b[0m\u001b[2;36m \u001b[0mMETRIC   Round \u001b[1;36m2\u001b[0m, collaborator validate_agg aggregated_model_validation result accuracy: \u001b[1;36m0.926000\u001b[0m                                   \u001b]8;id=522915;file://C:\\Users\\BHSU\\AppData\\Local\\Programs\\Python\\Python39\\lib\\site-packages\\openfl\\component\\aggregator\\aggregator.py\u001b\\\u001b[2maggregator.py\u001b[0m\u001b]8;;\u001b\\\u001b[2m:\u001b[0m\u001b]8;id=525179;file://C:\\Users\\BHSU\\AppData\\Local\\Programs\\Python\\Python39\\lib\\site-packages\\openfl\\component\\aggregator\\aggregator.py#559\u001b\\\u001b[2m559\u001b[0m\u001b]8;;\u001b\\\n"
      ]
     },
     "metadata": {},
     "output_type": "display_data"
    },
    {
     "data": {
      "text/html": [
       "<pre style=\"white-space:pre;overflow-x:auto;line-height:normal;font-family:Menlo,'DejaVu Sans Mono',consolas,'Courier New',monospace\"><span style=\"color: #7fbfbf; text-decoration-color: #7fbfbf\">           </span><span style=\"color: #000080; text-decoration-color: #000080\">INFO    </span> Using TaskRunner subclassing API                                                                                         <a href=\"file://C:\\Users\\BHSU\\AppData\\Local\\Programs\\Python\\Python39\\lib\\site-packages\\openfl\\component\\collaborator\\collaborator.py\" target=\"_blank\"><span style=\"color: #7f7f7f; text-decoration-color: #7f7f7f\">collaborator.py</span></a><span style=\"color: #7f7f7f; text-decoration-color: #7f7f7f\">:</span><a href=\"file://C:\\Users\\BHSU\\AppData\\Local\\Programs\\Python\\Python39\\lib\\site-packages\\openfl\\component\\collaborator\\collaborator.py#253\" target=\"_blank\"><span style=\"color: #7f7f7f; text-decoration-color: #7f7f7f\">253</span></a>\n",
       "</pre>\n"
      ],
      "text/plain": [
       "\u001b[2;36m          \u001b[0m\u001b[2;36m \u001b[0m\u001b[34mINFO    \u001b[0m Using TaskRunner subclassing API                                                                                         \u001b]8;id=244364;file://C:\\Users\\BHSU\\AppData\\Local\\Programs\\Python\\Python39\\lib\\site-packages\\openfl\\component\\collaborator\\collaborator.py\u001b\\\u001b[2mcollaborator.py\u001b[0m\u001b]8;;\u001b\\\u001b[2m:\u001b[0m\u001b]8;id=975386;file://C:\\Users\\BHSU\\AppData\\Local\\Programs\\Python\\Python39\\lib\\site-packages\\openfl\\component\\collaborator\\collaborator.py#253\u001b\\\u001b[2m253\u001b[0m\u001b]8;;\u001b\\\n"
      ]
     },
     "metadata": {},
     "output_type": "display_data"
    },
    {
     "data": {
      "text/html": [
       "<pre style=\"white-space:pre;overflow-x:auto;line-height:normal;font-family:Menlo,'DejaVu Sans Mono',consolas,'Courier New',monospace\"><span style=\"color: #7fbfbf; text-decoration-color: #7fbfbf\">           </span><span style=\"color: #000080; text-decoration-color: #000080\">INFO    </span> Run <span style=\"color: #008080; text-decoration-color: #008080; font-weight: bold\">0</span> epoch of <span style=\"color: #008080; text-decoration-color: #008080; font-weight: bold\">2</span> round                                                                                                    <a href=\"file://C:\\Users\\BHSU\\AppData\\Local\\Programs\\Python\\Python39\\lib\\site-packages\\openfl\\federated\\task\\runner_keras.py\" target=\"_blank\"><span style=\"color: #7f7f7f; text-decoration-color: #7f7f7f\">runner_keras.py</span></a><span style=\"color: #7f7f7f; text-decoration-color: #7f7f7f\">:</span><a href=\"file://C:\\Users\\BHSU\\AppData\\Local\\Programs\\Python\\Python39\\lib\\site-packages\\openfl\\federated\\task\\runner_keras.py#83\" target=\"_blank\"><span style=\"color: #7f7f7f; text-decoration-color: #7f7f7f\">83</span></a>\n",
       "</pre>\n"
      ],
      "text/plain": [
       "\u001b[2;36m          \u001b[0m\u001b[2;36m \u001b[0m\u001b[34mINFO    \u001b[0m Run \u001b[1;36m0\u001b[0m epoch of \u001b[1;36m2\u001b[0m round                                                                                                    \u001b]8;id=527047;file://C:\\Users\\BHSU\\AppData\\Local\\Programs\\Python\\Python39\\lib\\site-packages\\openfl\\federated\\task\\runner_keras.py\u001b\\\u001b[2mrunner_keras.py\u001b[0m\u001b]8;;\u001b\\\u001b[2m:\u001b[0m\u001b]8;id=291346;file://C:\\Users\\BHSU\\AppData\\Local\\Programs\\Python\\Python39\\lib\\site-packages\\openfl\\federated\\task\\runner_keras.py#83\u001b\\\u001b[2m83\u001b[0m\u001b]8;;\u001b\\\n"
      ]
     },
     "metadata": {},
     "output_type": "display_data"
    },
    {
     "name": "stdout",
     "output_type": "stream",
     "text": [
      "657/657 [==============================] - 0s 649us/step - loss: 0.2262 - accuracy: 0.9307\n"
     ]
    },
    {
     "data": {
      "text/html": [
       "<pre style=\"white-space:pre;overflow-x:auto;line-height:normal;font-family:Menlo,'DejaVu Sans Mono',consolas,'Courier New',monospace\"><span style=\"color: #7fbfbf; text-decoration-color: #7fbfbf\">           </span>METRIC   Round <span style=\"color: #008080; text-decoration-color: #008080; font-weight: bold\">2</span>, collaborator two is sending metric for task train: loss        <span style=\"color: #008080; text-decoration-color: #008080; font-weight: bold\">0.226175</span>                                         <a href=\"file://C:\\Users\\BHSU\\AppData\\Local\\Programs\\Python\\Python39\\lib\\site-packages\\openfl\\component\\collaborator\\collaborator.py\" target=\"_blank\"><span style=\"color: #7f7f7f; text-decoration-color: #7f7f7f\">collaborator.py</span></a><span style=\"color: #7f7f7f; text-decoration-color: #7f7f7f\">:</span><a href=\"file://C:\\Users\\BHSU\\AppData\\Local\\Programs\\Python\\Python39\\lib\\site-packages\\openfl\\component\\collaborator\\collaborator.py#415\" target=\"_blank\"><span style=\"color: #7f7f7f; text-decoration-color: #7f7f7f\">415</span></a>\n",
       "</pre>\n"
      ],
      "text/plain": [
       "\u001b[2;36m          \u001b[0m\u001b[2;36m \u001b[0mMETRIC   Round \u001b[1;36m2\u001b[0m, collaborator two is sending metric for task train: loss        \u001b[1;36m0.226175\u001b[0m                                         \u001b]8;id=790771;file://C:\\Users\\BHSU\\AppData\\Local\\Programs\\Python\\Python39\\lib\\site-packages\\openfl\\component\\collaborator\\collaborator.py\u001b\\\u001b[2mcollaborator.py\u001b[0m\u001b]8;;\u001b\\\u001b[2m:\u001b[0m\u001b]8;id=298057;file://C:\\Users\\BHSU\\AppData\\Local\\Programs\\Python\\Python39\\lib\\site-packages\\openfl\\component\\collaborator\\collaborator.py#415\u001b\\\u001b[2m415\u001b[0m\u001b]8;;\u001b\\\n"
      ]
     },
     "metadata": {},
     "output_type": "display_data"
    },
    {
     "data": {
      "text/html": [
       "<pre style=\"white-space:pre;overflow-x:auto;line-height:normal;font-family:Menlo,'DejaVu Sans Mono',consolas,'Courier New',monospace\"><span style=\"color: #7fbfbf; text-decoration-color: #7fbfbf\">           </span><span style=\"color: #000080; text-decoration-color: #000080\">INFO    </span> Collaborator two is sending task results for train, round <span style=\"color: #008080; text-decoration-color: #008080; font-weight: bold\">2</span>                                                                <a href=\"file://C:\\Users\\BHSU\\AppData\\Local\\Programs\\Python\\Python39\\lib\\site-packages\\openfl\\component\\aggregator\\aggregator.py\" target=\"_blank\"><span style=\"color: #7f7f7f; text-decoration-color: #7f7f7f\">aggregator.py</span></a><span style=\"color: #7f7f7f; text-decoration-color: #7f7f7f\">:</span><a href=\"file://C:\\Users\\BHSU\\AppData\\Local\\Programs\\Python\\Python39\\lib\\site-packages\\openfl\\component\\aggregator\\aggregator.py#520\" target=\"_blank\"><span style=\"color: #7f7f7f; text-decoration-color: #7f7f7f\">520</span></a>\n",
       "</pre>\n"
      ],
      "text/plain": [
       "\u001b[2;36m          \u001b[0m\u001b[2;36m \u001b[0m\u001b[34mINFO    \u001b[0m Collaborator two is sending task results for train, round \u001b[1;36m2\u001b[0m                                                                \u001b]8;id=8586;file://C:\\Users\\BHSU\\AppData\\Local\\Programs\\Python\\Python39\\lib\\site-packages\\openfl\\component\\aggregator\\aggregator.py\u001b\\\u001b[2maggregator.py\u001b[0m\u001b]8;;\u001b\\\u001b[2m:\u001b[0m\u001b]8;id=564765;file://C:\\Users\\BHSU\\AppData\\Local\\Programs\\Python\\Python39\\lib\\site-packages\\openfl\\component\\aggregator\\aggregator.py#520\u001b\\\u001b[2m520\u001b[0m\u001b]8;;\u001b\\\n"
      ]
     },
     "metadata": {},
     "output_type": "display_data"
    },
    {
     "data": {
      "text/html": [
       "<pre style=\"white-space:pre;overflow-x:auto;line-height:normal;font-family:Menlo,'DejaVu Sans Mono',consolas,'Courier New',monospace\"><span style=\"color: #7fbfbf; text-decoration-color: #7fbfbf\">           </span>METRIC   Round <span style=\"color: #008080; text-decoration-color: #008080; font-weight: bold\">2</span>, collaborator two train result loss:    <span style=\"color: #008080; text-decoration-color: #008080; font-weight: bold\">0.226175</span>                                                                   <a href=\"file://C:\\Users\\BHSU\\AppData\\Local\\Programs\\Python\\Python39\\lib\\site-packages\\openfl\\component\\aggregator\\aggregator.py\" target=\"_blank\"><span style=\"color: #7f7f7f; text-decoration-color: #7f7f7f\">aggregator.py</span></a><span style=\"color: #7f7f7f; text-decoration-color: #7f7f7f\">:</span><a href=\"file://C:\\Users\\BHSU\\AppData\\Local\\Programs\\Python\\Python39\\lib\\site-packages\\openfl\\component\\aggregator\\aggregator.py#559\" target=\"_blank\"><span style=\"color: #7f7f7f; text-decoration-color: #7f7f7f\">559</span></a>\n",
       "</pre>\n"
      ],
      "text/plain": [
       "\u001b[2;36m          \u001b[0m\u001b[2;36m \u001b[0mMETRIC   Round \u001b[1;36m2\u001b[0m, collaborator two train result loss:    \u001b[1;36m0.226175\u001b[0m                                                                   \u001b]8;id=816466;file://C:\\Users\\BHSU\\AppData\\Local\\Programs\\Python\\Python39\\lib\\site-packages\\openfl\\component\\aggregator\\aggregator.py\u001b\\\u001b[2maggregator.py\u001b[0m\u001b]8;;\u001b\\\u001b[2m:\u001b[0m\u001b]8;id=252743;file://C:\\Users\\BHSU\\AppData\\Local\\Programs\\Python\\Python39\\lib\\site-packages\\openfl\\component\\aggregator\\aggregator.py#559\u001b\\\u001b[2m559\u001b[0m\u001b]8;;\u001b\\\n"
      ]
     },
     "metadata": {},
     "output_type": "display_data"
    },
    {
     "data": {
      "text/html": [
       "<pre style=\"white-space:pre;overflow-x:auto;line-height:normal;font-family:Menlo,'DejaVu Sans Mono',consolas,'Courier New',monospace\"><span style=\"color: #7fbfbf; text-decoration-color: #7fbfbf\">           </span><span style=\"color: #000080; text-decoration-color: #000080\">INFO    </span> Using TaskRunner subclassing API                                                                                         <a href=\"file://C:\\Users\\BHSU\\AppData\\Local\\Programs\\Python\\Python39\\lib\\site-packages\\openfl\\component\\collaborator\\collaborator.py\" target=\"_blank\"><span style=\"color: #7f7f7f; text-decoration-color: #7f7f7f\">collaborator.py</span></a><span style=\"color: #7f7f7f; text-decoration-color: #7f7f7f\">:</span><a href=\"file://C:\\Users\\BHSU\\AppData\\Local\\Programs\\Python\\Python39\\lib\\site-packages\\openfl\\component\\collaborator\\collaborator.py#253\" target=\"_blank\"><span style=\"color: #7f7f7f; text-decoration-color: #7f7f7f\">253</span></a>\n",
       "</pre>\n"
      ],
      "text/plain": [
       "\u001b[2;36m          \u001b[0m\u001b[2;36m \u001b[0m\u001b[34mINFO    \u001b[0m Using TaskRunner subclassing API                                                                                         \u001b]8;id=676831;file://C:\\Users\\BHSU\\AppData\\Local\\Programs\\Python\\Python39\\lib\\site-packages\\openfl\\component\\collaborator\\collaborator.py\u001b\\\u001b[2mcollaborator.py\u001b[0m\u001b]8;;\u001b\\\u001b[2m:\u001b[0m\u001b]8;id=471245;file://C:\\Users\\BHSU\\AppData\\Local\\Programs\\Python\\Python39\\lib\\site-packages\\openfl\\component\\collaborator\\collaborator.py#253\u001b\\\u001b[2m253\u001b[0m\u001b]8;;\u001b\\\n"
      ]
     },
     "metadata": {},
     "output_type": "display_data"
    },
    {
     "name": "stdout",
     "output_type": "stream",
     "text": [
      "282/282 [==============================] - 0s 534us/step - loss: 0.2386 - accuracy: 0.9320\n"
     ]
    },
    {
     "data": {
      "text/html": [
       "<pre style=\"white-space:pre;overflow-x:auto;line-height:normal;font-family:Menlo,'DejaVu Sans Mono',consolas,'Courier New',monospace\"><span style=\"color: #7fbfbf; text-decoration-color: #7fbfbf\">[09:22:40] </span>METRIC   Round <span style=\"color: #008080; text-decoration-color: #008080; font-weight: bold\">2</span>, collaborator two is sending metric for task locally_tuned_model_validation: accuracy   <span style=\"color: #008080; text-decoration-color: #008080; font-weight: bold\">0.932000</span>                 <a href=\"file://C:\\Users\\BHSU\\AppData\\Local\\Programs\\Python\\Python39\\lib\\site-packages\\openfl\\component\\collaborator\\collaborator.py\" target=\"_blank\"><span style=\"color: #7f7f7f; text-decoration-color: #7f7f7f\">collaborator.py</span></a><span style=\"color: #7f7f7f; text-decoration-color: #7f7f7f\">:</span><a href=\"file://C:\\Users\\BHSU\\AppData\\Local\\Programs\\Python\\Python39\\lib\\site-packages\\openfl\\component\\collaborator\\collaborator.py#415\" target=\"_blank\"><span style=\"color: #7f7f7f; text-decoration-color: #7f7f7f\">415</span></a>\n",
       "</pre>\n"
      ],
      "text/plain": [
       "\u001b[2;36m[09:22:40]\u001b[0m\u001b[2;36m \u001b[0mMETRIC   Round \u001b[1;36m2\u001b[0m, collaborator two is sending metric for task locally_tuned_model_validation: accuracy   \u001b[1;36m0.932000\u001b[0m                 \u001b]8;id=646610;file://C:\\Users\\BHSU\\AppData\\Local\\Programs\\Python\\Python39\\lib\\site-packages\\openfl\\component\\collaborator\\collaborator.py\u001b\\\u001b[2mcollaborator.py\u001b[0m\u001b]8;;\u001b\\\u001b[2m:\u001b[0m\u001b]8;id=645655;file://C:\\Users\\BHSU\\AppData\\Local\\Programs\\Python\\Python39\\lib\\site-packages\\openfl\\component\\collaborator\\collaborator.py#415\u001b\\\u001b[2m415\u001b[0m\u001b]8;;\u001b\\\n"
      ]
     },
     "metadata": {},
     "output_type": "display_data"
    },
    {
     "data": {
      "text/html": [
       "<pre style=\"white-space:pre;overflow-x:auto;line-height:normal;font-family:Menlo,'DejaVu Sans Mono',consolas,'Courier New',monospace\"><span style=\"color: #7fbfbf; text-decoration-color: #7fbfbf\">           </span><span style=\"color: #000080; text-decoration-color: #000080\">INFO    </span> Collaborator two is sending task results for locally_tuned_model_validation, round <span style=\"color: #008080; text-decoration-color: #008080; font-weight: bold\">2</span>                                       <a href=\"file://C:\\Users\\BHSU\\AppData\\Local\\Programs\\Python\\Python39\\lib\\site-packages\\openfl\\component\\aggregator\\aggregator.py\" target=\"_blank\"><span style=\"color: #7f7f7f; text-decoration-color: #7f7f7f\">aggregator.py</span></a><span style=\"color: #7f7f7f; text-decoration-color: #7f7f7f\">:</span><a href=\"file://C:\\Users\\BHSU\\AppData\\Local\\Programs\\Python\\Python39\\lib\\site-packages\\openfl\\component\\aggregator\\aggregator.py#520\" target=\"_blank\"><span style=\"color: #7f7f7f; text-decoration-color: #7f7f7f\">520</span></a>\n",
       "</pre>\n"
      ],
      "text/plain": [
       "\u001b[2;36m          \u001b[0m\u001b[2;36m \u001b[0m\u001b[34mINFO    \u001b[0m Collaborator two is sending task results for locally_tuned_model_validation, round \u001b[1;36m2\u001b[0m                                       \u001b]8;id=623512;file://C:\\Users\\BHSU\\AppData\\Local\\Programs\\Python\\Python39\\lib\\site-packages\\openfl\\component\\aggregator\\aggregator.py\u001b\\\u001b[2maggregator.py\u001b[0m\u001b]8;;\u001b\\\u001b[2m:\u001b[0m\u001b]8;id=824166;file://C:\\Users\\BHSU\\AppData\\Local\\Programs\\Python\\Python39\\lib\\site-packages\\openfl\\component\\aggregator\\aggregator.py#520\u001b\\\u001b[2m520\u001b[0m\u001b]8;;\u001b\\\n"
      ]
     },
     "metadata": {},
     "output_type": "display_data"
    },
    {
     "data": {
      "text/html": [
       "<pre style=\"white-space:pre;overflow-x:auto;line-height:normal;font-family:Menlo,'DejaVu Sans Mono',consolas,'Courier New',monospace\"><span style=\"color: #7fbfbf; text-decoration-color: #7fbfbf\">           </span>METRIC   Round <span style=\"color: #008080; text-decoration-color: #008080; font-weight: bold\">2</span>, collaborator validate_local locally_tuned_model_validation result accuracy:    <span style=\"color: #008080; text-decoration-color: #008080; font-weight: bold\">0.932000</span>                           <a href=\"file://C:\\Users\\BHSU\\AppData\\Local\\Programs\\Python\\Python39\\lib\\site-packages\\openfl\\component\\aggregator\\aggregator.py\" target=\"_blank\"><span style=\"color: #7f7f7f; text-decoration-color: #7f7f7f\">aggregator.py</span></a><span style=\"color: #7f7f7f; text-decoration-color: #7f7f7f\">:</span><a href=\"file://C:\\Users\\BHSU\\AppData\\Local\\Programs\\Python\\Python39\\lib\\site-packages\\openfl\\component\\aggregator\\aggregator.py#559\" target=\"_blank\"><span style=\"color: #7f7f7f; text-decoration-color: #7f7f7f\">559</span></a>\n",
       "</pre>\n"
      ],
      "text/plain": [
       "\u001b[2;36m          \u001b[0m\u001b[2;36m \u001b[0mMETRIC   Round \u001b[1;36m2\u001b[0m, collaborator validate_local locally_tuned_model_validation result accuracy:    \u001b[1;36m0.932000\u001b[0m                           \u001b]8;id=17224;file://C:\\Users\\BHSU\\AppData\\Local\\Programs\\Python\\Python39\\lib\\site-packages\\openfl\\component\\aggregator\\aggregator.py\u001b\\\u001b[2maggregator.py\u001b[0m\u001b]8;;\u001b\\\u001b[2m:\u001b[0m\u001b]8;id=425300;file://C:\\Users\\BHSU\\AppData\\Local\\Programs\\Python\\Python39\\lib\\site-packages\\openfl\\component\\aggregator\\aggregator.py#559\u001b\\\u001b[2m559\u001b[0m\u001b]8;;\u001b\\\n"
      ]
     },
     "metadata": {},
     "output_type": "display_data"
    },
    {
     "data": {
      "text/html": [
       "<pre style=\"white-space:pre;overflow-x:auto;line-height:normal;font-family:Menlo,'DejaVu Sans Mono',consolas,'Courier New',monospace\"><span style=\"color: #7fbfbf; text-decoration-color: #7fbfbf\">           </span>METRIC   Round <span style=\"color: #008080; text-decoration-color: #008080; font-weight: bold\">2</span>, aggregator: locally_tuned_model_validation                                                                        <a href=\"file://C:\\Users\\BHSU\\AppData\\Local\\Programs\\Python\\Python39\\lib\\site-packages\\openfl\\component\\aggregator\\aggregator.py\" target=\"_blank\"><span style=\"color: #7f7f7f; text-decoration-color: #7f7f7f\">aggregator.py</span></a><span style=\"color: #7f7f7f; text-decoration-color: #7f7f7f\">:</span><a href=\"file://C:\\Users\\BHSU\\AppData\\Local\\Programs\\Python\\Python39\\lib\\site-packages\\openfl\\component\\aggregator\\aggregator.py#842\" target=\"_blank\"><span style=\"color: #7f7f7f; text-decoration-color: #7f7f7f\">842</span></a>\n",
       "<span style=\"color: #7fbfbf; text-decoration-color: #7fbfbf\">           </span>         <span style=\"font-weight: bold\">&lt;</span><span style=\"color: #ff00ff; text-decoration-color: #ff00ff; font-weight: bold\">openfl.interface.aggregation_functions.weighted_average.WeightedAverage</span><span style=\"color: #000000; text-decoration-color: #000000\"> object at </span><span style=\"color: #008080; text-decoration-color: #008080; font-weight: bold\">0x0000020F55654AC0</span><span style=\"font-weight: bold\">&gt;</span> accuracy:           <span style=\"color: #7f7f7f; text-decoration-color: #7f7f7f\">                 </span>\n",
       "<span style=\"color: #7fbfbf; text-decoration-color: #7fbfbf\">           </span>         <span style=\"color: #008080; text-decoration-color: #008080; font-weight: bold\">0.934000</span>                                                                                                                   <span style=\"color: #7f7f7f; text-decoration-color: #7f7f7f\">                 </span>\n",
       "</pre>\n"
      ],
      "text/plain": [
       "\u001b[2;36m          \u001b[0m\u001b[2;36m \u001b[0mMETRIC   Round \u001b[1;36m2\u001b[0m, aggregator: locally_tuned_model_validation                                                                        \u001b]8;id=133014;file://C:\\Users\\BHSU\\AppData\\Local\\Programs\\Python\\Python39\\lib\\site-packages\\openfl\\component\\aggregator\\aggregator.py\u001b\\\u001b[2maggregator.py\u001b[0m\u001b]8;;\u001b\\\u001b[2m:\u001b[0m\u001b]8;id=744588;file://C:\\Users\\BHSU\\AppData\\Local\\Programs\\Python\\Python39\\lib\\site-packages\\openfl\\component\\aggregator\\aggregator.py#842\u001b\\\u001b[2m842\u001b[0m\u001b]8;;\u001b\\\n",
       "\u001b[2;36m           \u001b[0m         \u001b[1m<\u001b[0m\u001b[1;95mopenfl.interface.aggregation_functions.weighted_average.WeightedAverage\u001b[0m\u001b[39m object at \u001b[0m\u001b[1;36m0x0000020F55654AC0\u001b[0m\u001b[1m>\u001b[0m accuracy:           \u001b[2m                 \u001b[0m\n",
       "\u001b[2;36m           \u001b[0m         \u001b[1;36m0.934000\u001b[0m                                                                                                                   \u001b[2m                 \u001b[0m\n"
      ]
     },
     "metadata": {},
     "output_type": "display_data"
    },
    {
     "data": {
      "text/html": [
       "<pre style=\"white-space:pre;overflow-x:auto;line-height:normal;font-family:Menlo,'DejaVu Sans Mono',consolas,'Courier New',monospace\"><span style=\"color: #7fbfbf; text-decoration-color: #7fbfbf\">           </span>METRIC   Round <span style=\"color: #008080; text-decoration-color: #008080; font-weight: bold\">2</span>, aggregator: aggregated_model_validation <span style=\"font-weight: bold\">&lt;</span><span style=\"color: #ff00ff; text-decoration-color: #ff00ff; font-weight: bold\">openfl.interface.aggregation_functions.weighted_average.WeightedAverage</span><span style=\"color: #000000; text-decoration-color: #000000\"> </span> <a href=\"file://C:\\Users\\BHSU\\AppData\\Local\\Programs\\Python\\Python39\\lib\\site-packages\\openfl\\component\\aggregator\\aggregator.py\" target=\"_blank\"><span style=\"color: #7f7f7f; text-decoration-color: #7f7f7f\">aggregator.py</span></a><span style=\"color: #7f7f7f; text-decoration-color: #7f7f7f\">:</span><a href=\"file://C:\\Users\\BHSU\\AppData\\Local\\Programs\\Python\\Python39\\lib\\site-packages\\openfl\\component\\aggregator\\aggregator.py#842\" target=\"_blank\"><span style=\"color: #7f7f7f; text-decoration-color: #7f7f7f\">842</span></a>\n",
       "<span style=\"color: #7fbfbf; text-decoration-color: #7fbfbf\">           </span>         <span style=\"color: #000000; text-decoration-color: #000000\">object at </span><span style=\"color: #008080; text-decoration-color: #008080; font-weight: bold\">0x0000020F55654AC0</span><span style=\"font-weight: bold\">&gt;</span> accuracy:       <span style=\"color: #008080; text-decoration-color: #008080; font-weight: bold\">0.927667</span>                                                                     <span style=\"color: #7f7f7f; text-decoration-color: #7f7f7f\">                 </span>\n",
       "</pre>\n"
      ],
      "text/plain": [
       "\u001b[2;36m          \u001b[0m\u001b[2;36m \u001b[0mMETRIC   Round \u001b[1;36m2\u001b[0m, aggregator: aggregated_model_validation \u001b[1m<\u001b[0m\u001b[1;95mopenfl.interface.aggregation_functions.weighted_average.WeightedAverage\u001b[0m\u001b[39m \u001b[0m \u001b]8;id=147126;file://C:\\Users\\BHSU\\AppData\\Local\\Programs\\Python\\Python39\\lib\\site-packages\\openfl\\component\\aggregator\\aggregator.py\u001b\\\u001b[2maggregator.py\u001b[0m\u001b]8;;\u001b\\\u001b[2m:\u001b[0m\u001b]8;id=324775;file://C:\\Users\\BHSU\\AppData\\Local\\Programs\\Python\\Python39\\lib\\site-packages\\openfl\\component\\aggregator\\aggregator.py#842\u001b\\\u001b[2m842\u001b[0m\u001b]8;;\u001b\\\n",
       "\u001b[2;36m           \u001b[0m         \u001b[39mobject at \u001b[0m\u001b[1;36m0x0000020F55654AC0\u001b[0m\u001b[1m>\u001b[0m accuracy:       \u001b[1;36m0.927667\u001b[0m                                                                     \u001b[2m                 \u001b[0m\n"
      ]
     },
     "metadata": {},
     "output_type": "display_data"
    },
    {
     "data": {
      "text/html": [
       "<pre style=\"white-space:pre;overflow-x:auto;line-height:normal;font-family:Menlo,'DejaVu Sans Mono',consolas,'Courier New',monospace\"><span style=\"color: #7fbfbf; text-decoration-color: #7fbfbf\">           </span>METRIC   Round <span style=\"color: #008080; text-decoration-color: #008080; font-weight: bold\">2</span>: saved the best model with score <span style=\"color: #008080; text-decoration-color: #008080; font-weight: bold\">0.927667</span>                                                                          <a href=\"file://C:\\Users\\BHSU\\AppData\\Local\\Programs\\Python\\Python39\\lib\\site-packages\\openfl\\component\\aggregator\\aggregator.py\" target=\"_blank\"><span style=\"color: #7f7f7f; text-decoration-color: #7f7f7f\">aggregator.py</span></a><span style=\"color: #7f7f7f; text-decoration-color: #7f7f7f\">:</span><a href=\"file://C:\\Users\\BHSU\\AppData\\Local\\Programs\\Python\\Python39\\lib\\site-packages\\openfl\\component\\aggregator\\aggregator.py#858\" target=\"_blank\"><span style=\"color: #7f7f7f; text-decoration-color: #7f7f7f\">858</span></a>\n",
       "</pre>\n"
      ],
      "text/plain": [
       "\u001b[2;36m          \u001b[0m\u001b[2;36m \u001b[0mMETRIC   Round \u001b[1;36m2\u001b[0m: saved the best model with score \u001b[1;36m0.927667\u001b[0m                                                                          \u001b]8;id=845611;file://C:\\Users\\BHSU\\AppData\\Local\\Programs\\Python\\Python39\\lib\\site-packages\\openfl\\component\\aggregator\\aggregator.py\u001b\\\u001b[2maggregator.py\u001b[0m\u001b]8;;\u001b\\\u001b[2m:\u001b[0m\u001b]8;id=194619;file://C:\\Users\\BHSU\\AppData\\Local\\Programs\\Python\\Python39\\lib\\site-packages\\openfl\\component\\aggregator\\aggregator.py#858\u001b\\\u001b[2m858\u001b[0m\u001b]8;;\u001b\\\n"
      ]
     },
     "metadata": {},
     "output_type": "display_data"
    },
    {
     "data": {
      "text/html": [
       "<pre style=\"white-space:pre;overflow-x:auto;line-height:normal;font-family:Menlo,'DejaVu Sans Mono',consolas,'Courier New',monospace\"><span style=\"color: #7fbfbf; text-decoration-color: #7fbfbf\">           </span>METRIC   Round <span style=\"color: #008080; text-decoration-color: #008080; font-weight: bold\">2</span>, aggregator: train <span style=\"font-weight: bold\">&lt;</span><span style=\"color: #ff00ff; text-decoration-color: #ff00ff; font-weight: bold\">openfl.interface.aggregation_functions.weighted_average.WeightedAverage</span><span style=\"color: #000000; text-decoration-color: #000000\"> object at </span>             <a href=\"file://C:\\Users\\BHSU\\AppData\\Local\\Programs\\Python\\Python39\\lib\\site-packages\\openfl\\component\\aggregator\\aggregator.py\" target=\"_blank\"><span style=\"color: #7f7f7f; text-decoration-color: #7f7f7f\">aggregator.py</span></a><span style=\"color: #7f7f7f; text-decoration-color: #7f7f7f\">:</span><a href=\"file://C:\\Users\\BHSU\\AppData\\Local\\Programs\\Python\\Python39\\lib\\site-packages\\openfl\\component\\aggregator\\aggregator.py#842\" target=\"_blank\"><span style=\"color: #7f7f7f; text-decoration-color: #7f7f7f\">842</span></a>\n",
       "<span style=\"color: #7fbfbf; text-decoration-color: #7fbfbf\">           </span>         <span style=\"color: #008080; text-decoration-color: #008080; font-weight: bold\">0x0000020F55654AC0</span><span style=\"font-weight: bold\">&gt;</span> loss: <span style=\"color: #008080; text-decoration-color: #008080; font-weight: bold\">0.232109</span>                                                                                         <span style=\"color: #7f7f7f; text-decoration-color: #7f7f7f\">                 </span>\n",
       "</pre>\n"
      ],
      "text/plain": [
       "\u001b[2;36m          \u001b[0m\u001b[2;36m \u001b[0mMETRIC   Round \u001b[1;36m2\u001b[0m, aggregator: train \u001b[1m<\u001b[0m\u001b[1;95mopenfl.interface.aggregation_functions.weighted_average.WeightedAverage\u001b[0m\u001b[39m object at \u001b[0m             \u001b]8;id=460654;file://C:\\Users\\BHSU\\AppData\\Local\\Programs\\Python\\Python39\\lib\\site-packages\\openfl\\component\\aggregator\\aggregator.py\u001b\\\u001b[2maggregator.py\u001b[0m\u001b]8;;\u001b\\\u001b[2m:\u001b[0m\u001b]8;id=644664;file://C:\\Users\\BHSU\\AppData\\Local\\Programs\\Python\\Python39\\lib\\site-packages\\openfl\\component\\aggregator\\aggregator.py#842\u001b\\\u001b[2m842\u001b[0m\u001b]8;;\u001b\\\n",
       "\u001b[2;36m           \u001b[0m         \u001b[1;36m0x0000020F55654AC0\u001b[0m\u001b[1m>\u001b[0m loss: \u001b[1;36m0.232109\u001b[0m                                                                                         \u001b[2m                 \u001b[0m\n"
      ]
     },
     "metadata": {},
     "output_type": "display_data"
    },
    {
     "data": {
      "text/html": [
       "<pre style=\"white-space:pre;overflow-x:auto;line-height:normal;font-family:Menlo,'DejaVu Sans Mono',consolas,'Courier New',monospace\"><span style=\"color: #7fbfbf; text-decoration-color: #7fbfbf\">           </span><span style=\"color: #000080; text-decoration-color: #000080\">INFO    </span> Saving round <span style=\"color: #008080; text-decoration-color: #008080; font-weight: bold\">3</span> model<span style=\"color: #808000; text-decoration-color: #808000\">...</span>                                                                                                    <a href=\"file://C:\\Users\\BHSU\\AppData\\Local\\Programs\\Python\\Python39\\lib\\site-packages\\openfl\\component\\aggregator\\aggregator.py\" target=\"_blank\"><span style=\"color: #7f7f7f; text-decoration-color: #7f7f7f\">aggregator.py</span></a><span style=\"color: #7f7f7f; text-decoration-color: #7f7f7f\">:</span><a href=\"file://C:\\Users\\BHSU\\AppData\\Local\\Programs\\Python\\Python39\\lib\\site-packages\\openfl\\component\\aggregator\\aggregator.py#894\" target=\"_blank\"><span style=\"color: #7f7f7f; text-decoration-color: #7f7f7f\">894</span></a>\n",
       "</pre>\n"
      ],
      "text/plain": [
       "\u001b[2;36m          \u001b[0m\u001b[2;36m \u001b[0m\u001b[34mINFO    \u001b[0m Saving round \u001b[1;36m3\u001b[0m model\u001b[33m...\u001b[0m                                                                                                    \u001b]8;id=471325;file://C:\\Users\\BHSU\\AppData\\Local\\Programs\\Python\\Python39\\lib\\site-packages\\openfl\\component\\aggregator\\aggregator.py\u001b\\\u001b[2maggregator.py\u001b[0m\u001b]8;;\u001b\\\u001b[2m:\u001b[0m\u001b]8;id=649449;file://C:\\Users\\BHSU\\AppData\\Local\\Programs\\Python\\Python39\\lib\\site-packages\\openfl\\component\\aggregator\\aggregator.py#894\u001b\\\u001b[2m894\u001b[0m\u001b]8;;\u001b\\\n"
      ]
     },
     "metadata": {},
     "output_type": "display_data"
    },
    {
     "data": {
      "text/html": [
       "<pre style=\"white-space:pre;overflow-x:auto;line-height:normal;font-family:Menlo,'DejaVu Sans Mono',consolas,'Courier New',monospace\"><span style=\"color: #7fbfbf; text-decoration-color: #7fbfbf\">           </span><span style=\"color: #000080; text-decoration-color: #000080\">INFO    </span> Starting round <span style=\"color: #008080; text-decoration-color: #008080; font-weight: bold\">3</span><span style=\"color: #808000; text-decoration-color: #808000\">...</span>                                                                                                        <a href=\"file://C:\\Users\\BHSU\\AppData\\Local\\Programs\\Python\\Python39\\lib\\site-packages\\openfl\\component\\aggregator\\aggregator.py\" target=\"_blank\"><span style=\"color: #7f7f7f; text-decoration-color: #7f7f7f\">aggregator.py</span></a><span style=\"color: #7f7f7f; text-decoration-color: #7f7f7f\">:</span><a href=\"file://C:\\Users\\BHSU\\AppData\\Local\\Programs\\Python\\Python39\\lib\\site-packages\\openfl\\component\\aggregator\\aggregator.py#901\" target=\"_blank\"><span style=\"color: #7f7f7f; text-decoration-color: #7f7f7f\">901</span></a>\n",
       "</pre>\n"
      ],
      "text/plain": [
       "\u001b[2;36m          \u001b[0m\u001b[2;36m \u001b[0m\u001b[34mINFO    \u001b[0m Starting round \u001b[1;36m3\u001b[0m\u001b[33m...\u001b[0m                                                                                                        \u001b]8;id=457207;file://C:\\Users\\BHSU\\AppData\\Local\\Programs\\Python\\Python39\\lib\\site-packages\\openfl\\component\\aggregator\\aggregator.py\u001b\\\u001b[2maggregator.py\u001b[0m\u001b]8;;\u001b\\\u001b[2m:\u001b[0m\u001b]8;id=177499;file://C:\\Users\\BHSU\\AppData\\Local\\Programs\\Python\\Python39\\lib\\site-packages\\openfl\\component\\aggregator\\aggregator.py#901\u001b\\\u001b[2m901\u001b[0m\u001b]8;;\u001b\\\n"
      ]
     },
     "metadata": {},
     "output_type": "display_data"
    },
    {
     "data": {
      "text/html": [
       "<pre style=\"white-space:pre;overflow-x:auto;line-height:normal;font-family:Menlo,'DejaVu Sans Mono',consolas,'Courier New',monospace\"><span style=\"color: #7fbfbf; text-decoration-color: #7fbfbf\">           </span><span style=\"color: #000080; text-decoration-color: #000080\">INFO    </span> All tasks completed on two for round <span style=\"color: #008080; text-decoration-color: #008080; font-weight: bold\">2</span><span style=\"color: #808000; text-decoration-color: #808000\">...</span>                                                                                <a href=\"file://C:\\Users\\BHSU\\AppData\\Local\\Programs\\Python\\Python39\\lib\\site-packages\\openfl\\component\\collaborator\\collaborator.py\" target=\"_blank\"><span style=\"color: #7f7f7f; text-decoration-color: #7f7f7f\">collaborator.py</span></a><span style=\"color: #7f7f7f; text-decoration-color: #7f7f7f\">:</span><a href=\"file://C:\\Users\\BHSU\\AppData\\Local\\Programs\\Python\\Python39\\lib\\site-packages\\openfl\\component\\collaborator\\collaborator.py#171\" target=\"_blank\"><span style=\"color: #7f7f7f; text-decoration-color: #7f7f7f\">171</span></a>\n",
       "</pre>\n"
      ],
      "text/plain": [
       "\u001b[2;36m          \u001b[0m\u001b[2;36m \u001b[0m\u001b[34mINFO    \u001b[0m All tasks completed on two for round \u001b[1;36m2\u001b[0m\u001b[33m...\u001b[0m                                                                                \u001b]8;id=25901;file://C:\\Users\\BHSU\\AppData\\Local\\Programs\\Python\\Python39\\lib\\site-packages\\openfl\\component\\collaborator\\collaborator.py\u001b\\\u001b[2mcollaborator.py\u001b[0m\u001b]8;;\u001b\\\u001b[2m:\u001b[0m\u001b]8;id=236046;file://C:\\Users\\BHSU\\AppData\\Local\\Programs\\Python\\Python39\\lib\\site-packages\\openfl\\component\\collaborator\\collaborator.py#171\u001b\\\u001b[2m171\u001b[0m\u001b]8;;\u001b\\\n"
      ]
     },
     "metadata": {},
     "output_type": "display_data"
    },
    {
     "data": {
      "text/html": [
       "<pre style=\"white-space:pre;overflow-x:auto;line-height:normal;font-family:Menlo,'DejaVu Sans Mono',consolas,'Courier New',monospace\"><span style=\"color: #7fbfbf; text-decoration-color: #7fbfbf\">           </span><span style=\"color: #000080; text-decoration-color: #000080\">INFO    </span> Waiting for tasks<span style=\"color: #808000; text-decoration-color: #808000\">...</span>                                                                                                     <a href=\"file://C:\\Users\\BHSU\\AppData\\Local\\Programs\\Python\\Python39\\lib\\site-packages\\openfl\\component\\collaborator\\collaborator.py\" target=\"_blank\"><span style=\"color: #7f7f7f; text-decoration-color: #7f7f7f\">collaborator.py</span></a><span style=\"color: #7f7f7f; text-decoration-color: #7f7f7f\">:</span><a href=\"file://C:\\Users\\BHSU\\AppData\\Local\\Programs\\Python\\Python39\\lib\\site-packages\\openfl\\component\\collaborator\\collaborator.py#178\" target=\"_blank\"><span style=\"color: #7f7f7f; text-decoration-color: #7f7f7f\">178</span></a>\n",
       "</pre>\n"
      ],
      "text/plain": [
       "\u001b[2;36m          \u001b[0m\u001b[2;36m \u001b[0m\u001b[34mINFO    \u001b[0m Waiting for tasks\u001b[33m...\u001b[0m                                                                                                     \u001b]8;id=531047;file://C:\\Users\\BHSU\\AppData\\Local\\Programs\\Python\\Python39\\lib\\site-packages\\openfl\\component\\collaborator\\collaborator.py\u001b\\\u001b[2mcollaborator.py\u001b[0m\u001b]8;;\u001b\\\u001b[2m:\u001b[0m\u001b]8;id=416820;file://C:\\Users\\BHSU\\AppData\\Local\\Programs\\Python\\Python39\\lib\\site-packages\\openfl\\component\\collaborator\\collaborator.py#178\u001b\\\u001b[2m178\u001b[0m\u001b]8;;\u001b\\\n"
      ]
     },
     "metadata": {},
     "output_type": "display_data"
    },
    {
     "data": {
      "text/html": [
       "<pre style=\"white-space:pre;overflow-x:auto;line-height:normal;font-family:Menlo,'DejaVu Sans Mono',consolas,'Courier New',monospace\"><span style=\"color: #7fbfbf; text-decoration-color: #7fbfbf\">           </span><span style=\"color: #000080; text-decoration-color: #000080\">INFO    </span> Sending tasks to collaborator one for round <span style=\"color: #008080; text-decoration-color: #008080; font-weight: bold\">3</span>                                                                              <a href=\"file://C:\\Users\\BHSU\\AppData\\Local\\Programs\\Python\\Python39\\lib\\site-packages\\openfl\\component\\aggregator\\aggregator.py\" target=\"_blank\"><span style=\"color: #7f7f7f; text-decoration-color: #7f7f7f\">aggregator.py</span></a><span style=\"color: #7f7f7f; text-decoration-color: #7f7f7f\">:</span><a href=\"file://C:\\Users\\BHSU\\AppData\\Local\\Programs\\Python\\Python39\\lib\\site-packages\\openfl\\component\\aggregator\\aggregator.py#329\" target=\"_blank\"><span style=\"color: #7f7f7f; text-decoration-color: #7f7f7f\">329</span></a>\n",
       "</pre>\n"
      ],
      "text/plain": [
       "\u001b[2;36m          \u001b[0m\u001b[2;36m \u001b[0m\u001b[34mINFO    \u001b[0m Sending tasks to collaborator one for round \u001b[1;36m3\u001b[0m                                                                              \u001b]8;id=653457;file://C:\\Users\\BHSU\\AppData\\Local\\Programs\\Python\\Python39\\lib\\site-packages\\openfl\\component\\aggregator\\aggregator.py\u001b\\\u001b[2maggregator.py\u001b[0m\u001b]8;;\u001b\\\u001b[2m:\u001b[0m\u001b]8;id=25216;file://C:\\Users\\BHSU\\AppData\\Local\\Programs\\Python\\Python39\\lib\\site-packages\\openfl\\component\\aggregator\\aggregator.py#329\u001b\\\u001b[2m329\u001b[0m\u001b]8;;\u001b\\\n"
      ]
     },
     "metadata": {},
     "output_type": "display_data"
    },
    {
     "data": {
      "text/html": [
       "<pre style=\"white-space:pre;overflow-x:auto;line-height:normal;font-family:Menlo,'DejaVu Sans Mono',consolas,'Courier New',monospace\"><span style=\"color: #7fbfbf; text-decoration-color: #7fbfbf\">           </span><span style=\"color: #000080; text-decoration-color: #000080\">INFO    </span> Received the following tasks: <span style=\"font-weight: bold\">[</span><span style=\"color: #008000; text-decoration-color: #008000\">'aggregated_model_validation'</span>, <span style=\"color: #008000; text-decoration-color: #008000\">'train'</span>, <span style=\"color: #008000; text-decoration-color: #008000\">'locally_tuned_model_validation'</span><span style=\"font-weight: bold\">]</span>                 <a href=\"file://C:\\Users\\BHSU\\AppData\\Local\\Programs\\Python\\Python39\\lib\\site-packages\\openfl\\component\\collaborator\\collaborator.py\" target=\"_blank\"><span style=\"color: #7f7f7f; text-decoration-color: #7f7f7f\">collaborator.py</span></a><span style=\"color: #7f7f7f; text-decoration-color: #7f7f7f\">:</span><a href=\"file://C:\\Users\\BHSU\\AppData\\Local\\Programs\\Python\\Python39\\lib\\site-packages\\openfl\\component\\collaborator\\collaborator.py#168\" target=\"_blank\"><span style=\"color: #7f7f7f; text-decoration-color: #7f7f7f\">168</span></a>\n",
       "</pre>\n"
      ],
      "text/plain": [
       "\u001b[2;36m          \u001b[0m\u001b[2;36m \u001b[0m\u001b[34mINFO    \u001b[0m Received the following tasks: \u001b[1m[\u001b[0m\u001b[32m'aggregated_model_validation'\u001b[0m, \u001b[32m'train'\u001b[0m, \u001b[32m'locally_tuned_model_validation'\u001b[0m\u001b[1m]\u001b[0m                 \u001b]8;id=421475;file://C:\\Users\\BHSU\\AppData\\Local\\Programs\\Python\\Python39\\lib\\site-packages\\openfl\\component\\collaborator\\collaborator.py\u001b\\\u001b[2mcollaborator.py\u001b[0m\u001b]8;;\u001b\\\u001b[2m:\u001b[0m\u001b]8;id=704742;file://C:\\Users\\BHSU\\AppData\\Local\\Programs\\Python\\Python39\\lib\\site-packages\\openfl\\component\\collaborator\\collaborator.py#168\u001b\\\u001b[2m168\u001b[0m\u001b]8;;\u001b\\\n"
      ]
     },
     "metadata": {},
     "output_type": "display_data"
    },
    {
     "data": {
      "text/html": [
       "<pre style=\"white-space:pre;overflow-x:auto;line-height:normal;font-family:Menlo,'DejaVu Sans Mono',consolas,'Courier New',monospace\"><span style=\"color: #7fbfbf; text-decoration-color: #7fbfbf\">           </span><span style=\"color: #000080; text-decoration-color: #000080\">INFO    </span> Using TaskRunner subclassing API                                                                                         <a href=\"file://C:\\Users\\BHSU\\AppData\\Local\\Programs\\Python\\Python39\\lib\\site-packages\\openfl\\component\\collaborator\\collaborator.py\" target=\"_blank\"><span style=\"color: #7f7f7f; text-decoration-color: #7f7f7f\">collaborator.py</span></a><span style=\"color: #7f7f7f; text-decoration-color: #7f7f7f\">:</span><a href=\"file://C:\\Users\\BHSU\\AppData\\Local\\Programs\\Python\\Python39\\lib\\site-packages\\openfl\\component\\collaborator\\collaborator.py#253\" target=\"_blank\"><span style=\"color: #7f7f7f; text-decoration-color: #7f7f7f\">253</span></a>\n",
       "</pre>\n"
      ],
      "text/plain": [
       "\u001b[2;36m          \u001b[0m\u001b[2;36m \u001b[0m\u001b[34mINFO    \u001b[0m Using TaskRunner subclassing API                                                                                         \u001b]8;id=160992;file://C:\\Users\\BHSU\\AppData\\Local\\Programs\\Python\\Python39\\lib\\site-packages\\openfl\\component\\collaborator\\collaborator.py\u001b\\\u001b[2mcollaborator.py\u001b[0m\u001b]8;;\u001b\\\u001b[2m:\u001b[0m\u001b]8;id=257458;file://C:\\Users\\BHSU\\AppData\\Local\\Programs\\Python\\Python39\\lib\\site-packages\\openfl\\component\\collaborator\\collaborator.py#253\u001b\\\u001b[2m253\u001b[0m\u001b]8;;\u001b\\\n"
      ]
     },
     "metadata": {},
     "output_type": "display_data"
    },
    {
     "name": "stdout",
     "output_type": "stream",
     "text": [
      "282/282 [==============================] - 0s 591us/step - loss: 0.1964 - accuracy: 0.9404\n"
     ]
    },
    {
     "data": {
      "text/html": [
       "<pre style=\"white-space:pre;overflow-x:auto;line-height:normal;font-family:Menlo,'DejaVu Sans Mono',consolas,'Courier New',monospace\"><span style=\"color: #7fbfbf; text-decoration-color: #7fbfbf\">           </span>METRIC   Round <span style=\"color: #008080; text-decoration-color: #008080; font-weight: bold\">3</span>, collaborator one is sending metric for task aggregated_model_validation: accuracy      <span style=\"color: #008080; text-decoration-color: #008080; font-weight: bold\">0.940444</span>                 <a href=\"file://C:\\Users\\BHSU\\AppData\\Local\\Programs\\Python\\Python39\\lib\\site-packages\\openfl\\component\\collaborator\\collaborator.py\" target=\"_blank\"><span style=\"color: #7f7f7f; text-decoration-color: #7f7f7f\">collaborator.py</span></a><span style=\"color: #7f7f7f; text-decoration-color: #7f7f7f\">:</span><a href=\"file://C:\\Users\\BHSU\\AppData\\Local\\Programs\\Python\\Python39\\lib\\site-packages\\openfl\\component\\collaborator\\collaborator.py#415\" target=\"_blank\"><span style=\"color: #7f7f7f; text-decoration-color: #7f7f7f\">415</span></a>\n",
       "</pre>\n"
      ],
      "text/plain": [
       "\u001b[2;36m          \u001b[0m\u001b[2;36m \u001b[0mMETRIC   Round \u001b[1;36m3\u001b[0m, collaborator one is sending metric for task aggregated_model_validation: accuracy      \u001b[1;36m0.940444\u001b[0m                 \u001b]8;id=391646;file://C:\\Users\\BHSU\\AppData\\Local\\Programs\\Python\\Python39\\lib\\site-packages\\openfl\\component\\collaborator\\collaborator.py\u001b\\\u001b[2mcollaborator.py\u001b[0m\u001b]8;;\u001b\\\u001b[2m:\u001b[0m\u001b]8;id=717100;file://C:\\Users\\BHSU\\AppData\\Local\\Programs\\Python\\Python39\\lib\\site-packages\\openfl\\component\\collaborator\\collaborator.py#415\u001b\\\u001b[2m415\u001b[0m\u001b]8;;\u001b\\\n"
      ]
     },
     "metadata": {},
     "output_type": "display_data"
    },
    {
     "data": {
      "text/html": [
       "<pre style=\"white-space:pre;overflow-x:auto;line-height:normal;font-family:Menlo,'DejaVu Sans Mono',consolas,'Courier New',monospace\"><span style=\"color: #7fbfbf; text-decoration-color: #7fbfbf\">           </span><span style=\"color: #000080; text-decoration-color: #000080\">INFO    </span> Collaborator one is sending task results for aggregated_model_validation, round <span style=\"color: #008080; text-decoration-color: #008080; font-weight: bold\">3</span>                                          <a href=\"file://C:\\Users\\BHSU\\AppData\\Local\\Programs\\Python\\Python39\\lib\\site-packages\\openfl\\component\\aggregator\\aggregator.py\" target=\"_blank\"><span style=\"color: #7f7f7f; text-decoration-color: #7f7f7f\">aggregator.py</span></a><span style=\"color: #7f7f7f; text-decoration-color: #7f7f7f\">:</span><a href=\"file://C:\\Users\\BHSU\\AppData\\Local\\Programs\\Python\\Python39\\lib\\site-packages\\openfl\\component\\aggregator\\aggregator.py#520\" target=\"_blank\"><span style=\"color: #7f7f7f; text-decoration-color: #7f7f7f\">520</span></a>\n",
       "</pre>\n"
      ],
      "text/plain": [
       "\u001b[2;36m          \u001b[0m\u001b[2;36m \u001b[0m\u001b[34mINFO    \u001b[0m Collaborator one is sending task results for aggregated_model_validation, round \u001b[1;36m3\u001b[0m                                          \u001b]8;id=61397;file://C:\\Users\\BHSU\\AppData\\Local\\Programs\\Python\\Python39\\lib\\site-packages\\openfl\\component\\aggregator\\aggregator.py\u001b\\\u001b[2maggregator.py\u001b[0m\u001b]8;;\u001b\\\u001b[2m:\u001b[0m\u001b]8;id=398652;file://C:\\Users\\BHSU\\AppData\\Local\\Programs\\Python\\Python39\\lib\\site-packages\\openfl\\component\\aggregator\\aggregator.py#520\u001b\\\u001b[2m520\u001b[0m\u001b]8;;\u001b\\\n"
      ]
     },
     "metadata": {},
     "output_type": "display_data"
    },
    {
     "data": {
      "text/html": [
       "<pre style=\"white-space:pre;overflow-x:auto;line-height:normal;font-family:Menlo,'DejaVu Sans Mono',consolas,'Courier New',monospace\"><span style=\"color: #7fbfbf; text-decoration-color: #7fbfbf\">           </span>METRIC   Round <span style=\"color: #008080; text-decoration-color: #008080; font-weight: bold\">3</span>, collaborator validate_agg aggregated_model_validation result accuracy: <span style=\"color: #008080; text-decoration-color: #008080; font-weight: bold\">0.940444</span>                                   <a href=\"file://C:\\Users\\BHSU\\AppData\\Local\\Programs\\Python\\Python39\\lib\\site-packages\\openfl\\component\\aggregator\\aggregator.py\" target=\"_blank\"><span style=\"color: #7f7f7f; text-decoration-color: #7f7f7f\">aggregator.py</span></a><span style=\"color: #7f7f7f; text-decoration-color: #7f7f7f\">:</span><a href=\"file://C:\\Users\\BHSU\\AppData\\Local\\Programs\\Python\\Python39\\lib\\site-packages\\openfl\\component\\aggregator\\aggregator.py#559\" target=\"_blank\"><span style=\"color: #7f7f7f; text-decoration-color: #7f7f7f\">559</span></a>\n",
       "</pre>\n"
      ],
      "text/plain": [
       "\u001b[2;36m          \u001b[0m\u001b[2;36m \u001b[0mMETRIC   Round \u001b[1;36m3\u001b[0m, collaborator validate_agg aggregated_model_validation result accuracy: \u001b[1;36m0.940444\u001b[0m                                   \u001b]8;id=243554;file://C:\\Users\\BHSU\\AppData\\Local\\Programs\\Python\\Python39\\lib\\site-packages\\openfl\\component\\aggregator\\aggregator.py\u001b\\\u001b[2maggregator.py\u001b[0m\u001b]8;;\u001b\\\u001b[2m:\u001b[0m\u001b]8;id=669391;file://C:\\Users\\BHSU\\AppData\\Local\\Programs\\Python\\Python39\\lib\\site-packages\\openfl\\component\\aggregator\\aggregator.py#559\u001b\\\u001b[2m559\u001b[0m\u001b]8;;\u001b\\\n"
      ]
     },
     "metadata": {},
     "output_type": "display_data"
    },
    {
     "data": {
      "text/html": [
       "<pre style=\"white-space:pre;overflow-x:auto;line-height:normal;font-family:Menlo,'DejaVu Sans Mono',consolas,'Courier New',monospace\"><span style=\"color: #7fbfbf; text-decoration-color: #7fbfbf\">           </span><span style=\"color: #000080; text-decoration-color: #000080\">INFO    </span> Using TaskRunner subclassing API                                                                                         <a href=\"file://C:\\Users\\BHSU\\AppData\\Local\\Programs\\Python\\Python39\\lib\\site-packages\\openfl\\component\\collaborator\\collaborator.py\" target=\"_blank\"><span style=\"color: #7f7f7f; text-decoration-color: #7f7f7f\">collaborator.py</span></a><span style=\"color: #7f7f7f; text-decoration-color: #7f7f7f\">:</span><a href=\"file://C:\\Users\\BHSU\\AppData\\Local\\Programs\\Python\\Python39\\lib\\site-packages\\openfl\\component\\collaborator\\collaborator.py#253\" target=\"_blank\"><span style=\"color: #7f7f7f; text-decoration-color: #7f7f7f\">253</span></a>\n",
       "</pre>\n"
      ],
      "text/plain": [
       "\u001b[2;36m          \u001b[0m\u001b[2;36m \u001b[0m\u001b[34mINFO    \u001b[0m Using TaskRunner subclassing API                                                                                         \u001b]8;id=286452;file://C:\\Users\\BHSU\\AppData\\Local\\Programs\\Python\\Python39\\lib\\site-packages\\openfl\\component\\collaborator\\collaborator.py\u001b\\\u001b[2mcollaborator.py\u001b[0m\u001b]8;;\u001b\\\u001b[2m:\u001b[0m\u001b]8;id=161239;file://C:\\Users\\BHSU\\AppData\\Local\\Programs\\Python\\Python39\\lib\\site-packages\\openfl\\component\\collaborator\\collaborator.py#253\u001b\\\u001b[2m253\u001b[0m\u001b]8;;\u001b\\\n"
      ]
     },
     "metadata": {},
     "output_type": "display_data"
    },
    {
     "data": {
      "text/html": [
       "<pre style=\"white-space:pre;overflow-x:auto;line-height:normal;font-family:Menlo,'DejaVu Sans Mono',consolas,'Courier New',monospace\"><span style=\"color: #7fbfbf; text-decoration-color: #7fbfbf\">           </span><span style=\"color: #000080; text-decoration-color: #000080\">INFO    </span> Run <span style=\"color: #008080; text-decoration-color: #008080; font-weight: bold\">0</span> epoch of <span style=\"color: #008080; text-decoration-color: #008080; font-weight: bold\">3</span> round                                                                                                    <a href=\"file://C:\\Users\\BHSU\\AppData\\Local\\Programs\\Python\\Python39\\lib\\site-packages\\openfl\\federated\\task\\runner_keras.py\" target=\"_blank\"><span style=\"color: #7f7f7f; text-decoration-color: #7f7f7f\">runner_keras.py</span></a><span style=\"color: #7f7f7f; text-decoration-color: #7f7f7f\">:</span><a href=\"file://C:\\Users\\BHSU\\AppData\\Local\\Programs\\Python\\Python39\\lib\\site-packages\\openfl\\federated\\task\\runner_keras.py#83\" target=\"_blank\"><span style=\"color: #7f7f7f; text-decoration-color: #7f7f7f\">83</span></a>\n",
       "</pre>\n"
      ],
      "text/plain": [
       "\u001b[2;36m          \u001b[0m\u001b[2;36m \u001b[0m\u001b[34mINFO    \u001b[0m Run \u001b[1;36m0\u001b[0m epoch of \u001b[1;36m3\u001b[0m round                                                                                                    \u001b]8;id=935090;file://C:\\Users\\BHSU\\AppData\\Local\\Programs\\Python\\Python39\\lib\\site-packages\\openfl\\federated\\task\\runner_keras.py\u001b\\\u001b[2mrunner_keras.py\u001b[0m\u001b]8;;\u001b\\\u001b[2m:\u001b[0m\u001b]8;id=474364;file://C:\\Users\\BHSU\\AppData\\Local\\Programs\\Python\\Python39\\lib\\site-packages\\openfl\\federated\\task\\runner_keras.py#83\u001b\\\u001b[2m83\u001b[0m\u001b]8;;\u001b\\\n"
      ]
     },
     "metadata": {},
     "output_type": "display_data"
    },
    {
     "name": "stdout",
     "output_type": "stream",
     "text": [
      "657/657 [==============================] - 0s 633us/step - loss: 0.1953 - accuracy: 0.9402\n"
     ]
    },
    {
     "data": {
      "text/html": [
       "<pre style=\"white-space:pre;overflow-x:auto;line-height:normal;font-family:Menlo,'DejaVu Sans Mono',consolas,'Courier New',monospace\"><span style=\"color: #7fbfbf; text-decoration-color: #7fbfbf\">[09:22:41] </span>METRIC   Round <span style=\"color: #008080; text-decoration-color: #008080; font-weight: bold\">3</span>, collaborator one is sending metric for task train: loss        <span style=\"color: #008080; text-decoration-color: #008080; font-weight: bold\">0.195324</span>                                         <a href=\"file://C:\\Users\\BHSU\\AppData\\Local\\Programs\\Python\\Python39\\lib\\site-packages\\openfl\\component\\collaborator\\collaborator.py\" target=\"_blank\"><span style=\"color: #7f7f7f; text-decoration-color: #7f7f7f\">collaborator.py</span></a><span style=\"color: #7f7f7f; text-decoration-color: #7f7f7f\">:</span><a href=\"file://C:\\Users\\BHSU\\AppData\\Local\\Programs\\Python\\Python39\\lib\\site-packages\\openfl\\component\\collaborator\\collaborator.py#415\" target=\"_blank\"><span style=\"color: #7f7f7f; text-decoration-color: #7f7f7f\">415</span></a>\n",
       "</pre>\n"
      ],
      "text/plain": [
       "\u001b[2;36m[09:22:41]\u001b[0m\u001b[2;36m \u001b[0mMETRIC   Round \u001b[1;36m3\u001b[0m, collaborator one is sending metric for task train: loss        \u001b[1;36m0.195324\u001b[0m                                         \u001b]8;id=722278;file://C:\\Users\\BHSU\\AppData\\Local\\Programs\\Python\\Python39\\lib\\site-packages\\openfl\\component\\collaborator\\collaborator.py\u001b\\\u001b[2mcollaborator.py\u001b[0m\u001b]8;;\u001b\\\u001b[2m:\u001b[0m\u001b]8;id=447320;file://C:\\Users\\BHSU\\AppData\\Local\\Programs\\Python\\Python39\\lib\\site-packages\\openfl\\component\\collaborator\\collaborator.py#415\u001b\\\u001b[2m415\u001b[0m\u001b]8;;\u001b\\\n"
      ]
     },
     "metadata": {},
     "output_type": "display_data"
    },
    {
     "data": {
      "text/html": [
       "<pre style=\"white-space:pre;overflow-x:auto;line-height:normal;font-family:Menlo,'DejaVu Sans Mono',consolas,'Courier New',monospace\"><span style=\"color: #7fbfbf; text-decoration-color: #7fbfbf\">           </span><span style=\"color: #000080; text-decoration-color: #000080\">INFO    </span> Collaborator one is sending task results for train, round <span style=\"color: #008080; text-decoration-color: #008080; font-weight: bold\">3</span>                                                                <a href=\"file://C:\\Users\\BHSU\\AppData\\Local\\Programs\\Python\\Python39\\lib\\site-packages\\openfl\\component\\aggregator\\aggregator.py\" target=\"_blank\"><span style=\"color: #7f7f7f; text-decoration-color: #7f7f7f\">aggregator.py</span></a><span style=\"color: #7f7f7f; text-decoration-color: #7f7f7f\">:</span><a href=\"file://C:\\Users\\BHSU\\AppData\\Local\\Programs\\Python\\Python39\\lib\\site-packages\\openfl\\component\\aggregator\\aggregator.py#520\" target=\"_blank\"><span style=\"color: #7f7f7f; text-decoration-color: #7f7f7f\">520</span></a>\n",
       "</pre>\n"
      ],
      "text/plain": [
       "\u001b[2;36m          \u001b[0m\u001b[2;36m \u001b[0m\u001b[34mINFO    \u001b[0m Collaborator one is sending task results for train, round \u001b[1;36m3\u001b[0m                                                                \u001b]8;id=856650;file://C:\\Users\\BHSU\\AppData\\Local\\Programs\\Python\\Python39\\lib\\site-packages\\openfl\\component\\aggregator\\aggregator.py\u001b\\\u001b[2maggregator.py\u001b[0m\u001b]8;;\u001b\\\u001b[2m:\u001b[0m\u001b]8;id=589553;file://C:\\Users\\BHSU\\AppData\\Local\\Programs\\Python\\Python39\\lib\\site-packages\\openfl\\component\\aggregator\\aggregator.py#520\u001b\\\u001b[2m520\u001b[0m\u001b]8;;\u001b\\\n"
      ]
     },
     "metadata": {},
     "output_type": "display_data"
    },
    {
     "data": {
      "text/html": [
       "<pre style=\"white-space:pre;overflow-x:auto;line-height:normal;font-family:Menlo,'DejaVu Sans Mono',consolas,'Courier New',monospace\"><span style=\"color: #7fbfbf; text-decoration-color: #7fbfbf\">           </span>METRIC   Round <span style=\"color: #008080; text-decoration-color: #008080; font-weight: bold\">3</span>, collaborator one train result loss:    <span style=\"color: #008080; text-decoration-color: #008080; font-weight: bold\">0.195324</span>                                                                   <a href=\"file://C:\\Users\\BHSU\\AppData\\Local\\Programs\\Python\\Python39\\lib\\site-packages\\openfl\\component\\aggregator\\aggregator.py\" target=\"_blank\"><span style=\"color: #7f7f7f; text-decoration-color: #7f7f7f\">aggregator.py</span></a><span style=\"color: #7f7f7f; text-decoration-color: #7f7f7f\">:</span><a href=\"file://C:\\Users\\BHSU\\AppData\\Local\\Programs\\Python\\Python39\\lib\\site-packages\\openfl\\component\\aggregator\\aggregator.py#559\" target=\"_blank\"><span style=\"color: #7f7f7f; text-decoration-color: #7f7f7f\">559</span></a>\n",
       "</pre>\n"
      ],
      "text/plain": [
       "\u001b[2;36m          \u001b[0m\u001b[2;36m \u001b[0mMETRIC   Round \u001b[1;36m3\u001b[0m, collaborator one train result loss:    \u001b[1;36m0.195324\u001b[0m                                                                   \u001b]8;id=605238;file://C:\\Users\\BHSU\\AppData\\Local\\Programs\\Python\\Python39\\lib\\site-packages\\openfl\\component\\aggregator\\aggregator.py\u001b\\\u001b[2maggregator.py\u001b[0m\u001b]8;;\u001b\\\u001b[2m:\u001b[0m\u001b]8;id=502302;file://C:\\Users\\BHSU\\AppData\\Local\\Programs\\Python\\Python39\\lib\\site-packages\\openfl\\component\\aggregator\\aggregator.py#559\u001b\\\u001b[2m559\u001b[0m\u001b]8;;\u001b\\\n"
      ]
     },
     "metadata": {},
     "output_type": "display_data"
    },
    {
     "data": {
      "text/html": [
       "<pre style=\"white-space:pre;overflow-x:auto;line-height:normal;font-family:Menlo,'DejaVu Sans Mono',consolas,'Courier New',monospace\"><span style=\"color: #7fbfbf; text-decoration-color: #7fbfbf\">           </span><span style=\"color: #000080; text-decoration-color: #000080\">INFO    </span> Using TaskRunner subclassing API                                                                                         <a href=\"file://C:\\Users\\BHSU\\AppData\\Local\\Programs\\Python\\Python39\\lib\\site-packages\\openfl\\component\\collaborator\\collaborator.py\" target=\"_blank\"><span style=\"color: #7f7f7f; text-decoration-color: #7f7f7f\">collaborator.py</span></a><span style=\"color: #7f7f7f; text-decoration-color: #7f7f7f\">:</span><a href=\"file://C:\\Users\\BHSU\\AppData\\Local\\Programs\\Python\\Python39\\lib\\site-packages\\openfl\\component\\collaborator\\collaborator.py#253\" target=\"_blank\"><span style=\"color: #7f7f7f; text-decoration-color: #7f7f7f\">253</span></a>\n",
       "</pre>\n"
      ],
      "text/plain": [
       "\u001b[2;36m          \u001b[0m\u001b[2;36m \u001b[0m\u001b[34mINFO    \u001b[0m Using TaskRunner subclassing API                                                                                         \u001b]8;id=485557;file://C:\\Users\\BHSU\\AppData\\Local\\Programs\\Python\\Python39\\lib\\site-packages\\openfl\\component\\collaborator\\collaborator.py\u001b\\\u001b[2mcollaborator.py\u001b[0m\u001b]8;;\u001b\\\u001b[2m:\u001b[0m\u001b]8;id=604051;file://C:\\Users\\BHSU\\AppData\\Local\\Programs\\Python\\Python39\\lib\\site-packages\\openfl\\component\\collaborator\\collaborator.py#253\u001b\\\u001b[2m253\u001b[0m\u001b]8;;\u001b\\\n"
      ]
     },
     "metadata": {},
     "output_type": "display_data"
    },
    {
     "name": "stdout",
     "output_type": "stream",
     "text": [
      "282/282 [==============================] - 0s 498us/step - loss: 0.1855 - accuracy: 0.9421\n"
     ]
    },
    {
     "data": {
      "text/html": [
       "<pre style=\"white-space:pre;overflow-x:auto;line-height:normal;font-family:Menlo,'DejaVu Sans Mono',consolas,'Courier New',monospace\"><span style=\"color: #7fbfbf; text-decoration-color: #7fbfbf\">           </span>METRIC   Round <span style=\"color: #008080; text-decoration-color: #008080; font-weight: bold\">3</span>, collaborator one is sending metric for task locally_tuned_model_validation: accuracy   <span style=\"color: #008080; text-decoration-color: #008080; font-weight: bold\">0.942111</span>                 <a href=\"file://C:\\Users\\BHSU\\AppData\\Local\\Programs\\Python\\Python39\\lib\\site-packages\\openfl\\component\\collaborator\\collaborator.py\" target=\"_blank\"><span style=\"color: #7f7f7f; text-decoration-color: #7f7f7f\">collaborator.py</span></a><span style=\"color: #7f7f7f; text-decoration-color: #7f7f7f\">:</span><a href=\"file://C:\\Users\\BHSU\\AppData\\Local\\Programs\\Python\\Python39\\lib\\site-packages\\openfl\\component\\collaborator\\collaborator.py#415\" target=\"_blank\"><span style=\"color: #7f7f7f; text-decoration-color: #7f7f7f\">415</span></a>\n",
       "</pre>\n"
      ],
      "text/plain": [
       "\u001b[2;36m          \u001b[0m\u001b[2;36m \u001b[0mMETRIC   Round \u001b[1;36m3\u001b[0m, collaborator one is sending metric for task locally_tuned_model_validation: accuracy   \u001b[1;36m0.942111\u001b[0m                 \u001b]8;id=102861;file://C:\\Users\\BHSU\\AppData\\Local\\Programs\\Python\\Python39\\lib\\site-packages\\openfl\\component\\collaborator\\collaborator.py\u001b\\\u001b[2mcollaborator.py\u001b[0m\u001b]8;;\u001b\\\u001b[2m:\u001b[0m\u001b]8;id=823070;file://C:\\Users\\BHSU\\AppData\\Local\\Programs\\Python\\Python39\\lib\\site-packages\\openfl\\component\\collaborator\\collaborator.py#415\u001b\\\u001b[2m415\u001b[0m\u001b]8;;\u001b\\\n"
      ]
     },
     "metadata": {},
     "output_type": "display_data"
    },
    {
     "data": {
      "text/html": [
       "<pre style=\"white-space:pre;overflow-x:auto;line-height:normal;font-family:Menlo,'DejaVu Sans Mono',consolas,'Courier New',monospace\"><span style=\"color: #7fbfbf; text-decoration-color: #7fbfbf\">           </span><span style=\"color: #000080; text-decoration-color: #000080\">INFO    </span> Collaborator one is sending task results for locally_tuned_model_validation, round <span style=\"color: #008080; text-decoration-color: #008080; font-weight: bold\">3</span>                                       <a href=\"file://C:\\Users\\BHSU\\AppData\\Local\\Programs\\Python\\Python39\\lib\\site-packages\\openfl\\component\\aggregator\\aggregator.py\" target=\"_blank\"><span style=\"color: #7f7f7f; text-decoration-color: #7f7f7f\">aggregator.py</span></a><span style=\"color: #7f7f7f; text-decoration-color: #7f7f7f\">:</span><a href=\"file://C:\\Users\\BHSU\\AppData\\Local\\Programs\\Python\\Python39\\lib\\site-packages\\openfl\\component\\aggregator\\aggregator.py#520\" target=\"_blank\"><span style=\"color: #7f7f7f; text-decoration-color: #7f7f7f\">520</span></a>\n",
       "</pre>\n"
      ],
      "text/plain": [
       "\u001b[2;36m          \u001b[0m\u001b[2;36m \u001b[0m\u001b[34mINFO    \u001b[0m Collaborator one is sending task results for locally_tuned_model_validation, round \u001b[1;36m3\u001b[0m                                       \u001b]8;id=538589;file://C:\\Users\\BHSU\\AppData\\Local\\Programs\\Python\\Python39\\lib\\site-packages\\openfl\\component\\aggregator\\aggregator.py\u001b\\\u001b[2maggregator.py\u001b[0m\u001b]8;;\u001b\\\u001b[2m:\u001b[0m\u001b]8;id=278217;file://C:\\Users\\BHSU\\AppData\\Local\\Programs\\Python\\Python39\\lib\\site-packages\\openfl\\component\\aggregator\\aggregator.py#520\u001b\\\u001b[2m520\u001b[0m\u001b]8;;\u001b\\\n"
      ]
     },
     "metadata": {},
     "output_type": "display_data"
    },
    {
     "data": {
      "text/html": [
       "<pre style=\"white-space:pre;overflow-x:auto;line-height:normal;font-family:Menlo,'DejaVu Sans Mono',consolas,'Courier New',monospace\"><span style=\"color: #7fbfbf; text-decoration-color: #7fbfbf\">           </span>METRIC   Round <span style=\"color: #008080; text-decoration-color: #008080; font-weight: bold\">3</span>, collaborator validate_local locally_tuned_model_validation result accuracy:    <span style=\"color: #008080; text-decoration-color: #008080; font-weight: bold\">0.942111</span>                           <a href=\"file://C:\\Users\\BHSU\\AppData\\Local\\Programs\\Python\\Python39\\lib\\site-packages\\openfl\\component\\aggregator\\aggregator.py\" target=\"_blank\"><span style=\"color: #7f7f7f; text-decoration-color: #7f7f7f\">aggregator.py</span></a><span style=\"color: #7f7f7f; text-decoration-color: #7f7f7f\">:</span><a href=\"file://C:\\Users\\BHSU\\AppData\\Local\\Programs\\Python\\Python39\\lib\\site-packages\\openfl\\component\\aggregator\\aggregator.py#559\" target=\"_blank\"><span style=\"color: #7f7f7f; text-decoration-color: #7f7f7f\">559</span></a>\n",
       "</pre>\n"
      ],
      "text/plain": [
       "\u001b[2;36m          \u001b[0m\u001b[2;36m \u001b[0mMETRIC   Round \u001b[1;36m3\u001b[0m, collaborator validate_local locally_tuned_model_validation result accuracy:    \u001b[1;36m0.942111\u001b[0m                           \u001b]8;id=308107;file://C:\\Users\\BHSU\\AppData\\Local\\Programs\\Python\\Python39\\lib\\site-packages\\openfl\\component\\aggregator\\aggregator.py\u001b\\\u001b[2maggregator.py\u001b[0m\u001b]8;;\u001b\\\u001b[2m:\u001b[0m\u001b]8;id=653959;file://C:\\Users\\BHSU\\AppData\\Local\\Programs\\Python\\Python39\\lib\\site-packages\\openfl\\component\\aggregator\\aggregator.py#559\u001b\\\u001b[2m559\u001b[0m\u001b]8;;\u001b\\\n"
      ]
     },
     "metadata": {},
     "output_type": "display_data"
    },
    {
     "data": {
      "text/html": [
       "<pre style=\"white-space:pre;overflow-x:auto;line-height:normal;font-family:Menlo,'DejaVu Sans Mono',consolas,'Courier New',monospace\"><span style=\"color: #7fbfbf; text-decoration-color: #7fbfbf\">           </span><span style=\"color: #000080; text-decoration-color: #000080\">INFO    </span> All tasks completed on one for round <span style=\"color: #008080; text-decoration-color: #008080; font-weight: bold\">3</span><span style=\"color: #808000; text-decoration-color: #808000\">...</span>                                                                                <a href=\"file://C:\\Users\\BHSU\\AppData\\Local\\Programs\\Python\\Python39\\lib\\site-packages\\openfl\\component\\collaborator\\collaborator.py\" target=\"_blank\"><span style=\"color: #7f7f7f; text-decoration-color: #7f7f7f\">collaborator.py</span></a><span style=\"color: #7f7f7f; text-decoration-color: #7f7f7f\">:</span><a href=\"file://C:\\Users\\BHSU\\AppData\\Local\\Programs\\Python\\Python39\\lib\\site-packages\\openfl\\component\\collaborator\\collaborator.py#171\" target=\"_blank\"><span style=\"color: #7f7f7f; text-decoration-color: #7f7f7f\">171</span></a>\n",
       "</pre>\n"
      ],
      "text/plain": [
       "\u001b[2;36m          \u001b[0m\u001b[2;36m \u001b[0m\u001b[34mINFO    \u001b[0m All tasks completed on one for round \u001b[1;36m3\u001b[0m\u001b[33m...\u001b[0m                                                                                \u001b]8;id=46975;file://C:\\Users\\BHSU\\AppData\\Local\\Programs\\Python\\Python39\\lib\\site-packages\\openfl\\component\\collaborator\\collaborator.py\u001b\\\u001b[2mcollaborator.py\u001b[0m\u001b]8;;\u001b\\\u001b[2m:\u001b[0m\u001b]8;id=270293;file://C:\\Users\\BHSU\\AppData\\Local\\Programs\\Python\\Python39\\lib\\site-packages\\openfl\\component\\collaborator\\collaborator.py#171\u001b\\\u001b[2m171\u001b[0m\u001b]8;;\u001b\\\n"
      ]
     },
     "metadata": {},
     "output_type": "display_data"
    },
    {
     "data": {
      "text/html": [
       "<pre style=\"white-space:pre;overflow-x:auto;line-height:normal;font-family:Menlo,'DejaVu Sans Mono',consolas,'Courier New',monospace\"><span style=\"color: #7fbfbf; text-decoration-color: #7fbfbf\">           </span><span style=\"color: #000080; text-decoration-color: #000080\">INFO    </span> Waiting for tasks<span style=\"color: #808000; text-decoration-color: #808000\">...</span>                                                                                                     <a href=\"file://C:\\Users\\BHSU\\AppData\\Local\\Programs\\Python\\Python39\\lib\\site-packages\\openfl\\component\\collaborator\\collaborator.py\" target=\"_blank\"><span style=\"color: #7f7f7f; text-decoration-color: #7f7f7f\">collaborator.py</span></a><span style=\"color: #7f7f7f; text-decoration-color: #7f7f7f\">:</span><a href=\"file://C:\\Users\\BHSU\\AppData\\Local\\Programs\\Python\\Python39\\lib\\site-packages\\openfl\\component\\collaborator\\collaborator.py#178\" target=\"_blank\"><span style=\"color: #7f7f7f; text-decoration-color: #7f7f7f\">178</span></a>\n",
       "</pre>\n"
      ],
      "text/plain": [
       "\u001b[2;36m          \u001b[0m\u001b[2;36m \u001b[0m\u001b[34mINFO    \u001b[0m Waiting for tasks\u001b[33m...\u001b[0m                                                                                                     \u001b]8;id=315168;file://C:\\Users\\BHSU\\AppData\\Local\\Programs\\Python\\Python39\\lib\\site-packages\\openfl\\component\\collaborator\\collaborator.py\u001b\\\u001b[2mcollaborator.py\u001b[0m\u001b]8;;\u001b\\\u001b[2m:\u001b[0m\u001b]8;id=944946;file://C:\\Users\\BHSU\\AppData\\Local\\Programs\\Python\\Python39\\lib\\site-packages\\openfl\\component\\collaborator\\collaborator.py#178\u001b\\\u001b[2m178\u001b[0m\u001b]8;;\u001b\\\n"
      ]
     },
     "metadata": {},
     "output_type": "display_data"
    },
    {
     "data": {
      "text/html": [
       "<pre style=\"white-space:pre;overflow-x:auto;line-height:normal;font-family:Menlo,'DejaVu Sans Mono',consolas,'Courier New',monospace\"><span style=\"color: #7fbfbf; text-decoration-color: #7fbfbf\">           </span><span style=\"color: #000080; text-decoration-color: #000080\">INFO    </span> Sending tasks to collaborator two for round <span style=\"color: #008080; text-decoration-color: #008080; font-weight: bold\">3</span>                                                                              <a href=\"file://C:\\Users\\BHSU\\AppData\\Local\\Programs\\Python\\Python39\\lib\\site-packages\\openfl\\component\\aggregator\\aggregator.py\" target=\"_blank\"><span style=\"color: #7f7f7f; text-decoration-color: #7f7f7f\">aggregator.py</span></a><span style=\"color: #7f7f7f; text-decoration-color: #7f7f7f\">:</span><a href=\"file://C:\\Users\\BHSU\\AppData\\Local\\Programs\\Python\\Python39\\lib\\site-packages\\openfl\\component\\aggregator\\aggregator.py#329\" target=\"_blank\"><span style=\"color: #7f7f7f; text-decoration-color: #7f7f7f\">329</span></a>\n",
       "</pre>\n"
      ],
      "text/plain": [
       "\u001b[2;36m          \u001b[0m\u001b[2;36m \u001b[0m\u001b[34mINFO    \u001b[0m Sending tasks to collaborator two for round \u001b[1;36m3\u001b[0m                                                                              \u001b]8;id=749595;file://C:\\Users\\BHSU\\AppData\\Local\\Programs\\Python\\Python39\\lib\\site-packages\\openfl\\component\\aggregator\\aggregator.py\u001b\\\u001b[2maggregator.py\u001b[0m\u001b]8;;\u001b\\\u001b[2m:\u001b[0m\u001b]8;id=616334;file://C:\\Users\\BHSU\\AppData\\Local\\Programs\\Python\\Python39\\lib\\site-packages\\openfl\\component\\aggregator\\aggregator.py#329\u001b\\\u001b[2m329\u001b[0m\u001b]8;;\u001b\\\n"
      ]
     },
     "metadata": {},
     "output_type": "display_data"
    },
    {
     "data": {
      "text/html": [
       "<pre style=\"white-space:pre;overflow-x:auto;line-height:normal;font-family:Menlo,'DejaVu Sans Mono',consolas,'Courier New',monospace\"><span style=\"color: #7fbfbf; text-decoration-color: #7fbfbf\">           </span><span style=\"color: #000080; text-decoration-color: #000080\">INFO    </span> Received the following tasks: <span style=\"font-weight: bold\">[</span><span style=\"color: #008000; text-decoration-color: #008000\">'aggregated_model_validation'</span>, <span style=\"color: #008000; text-decoration-color: #008000\">'train'</span>, <span style=\"color: #008000; text-decoration-color: #008000\">'locally_tuned_model_validation'</span><span style=\"font-weight: bold\">]</span>                 <a href=\"file://C:\\Users\\BHSU\\AppData\\Local\\Programs\\Python\\Python39\\lib\\site-packages\\openfl\\component\\collaborator\\collaborator.py\" target=\"_blank\"><span style=\"color: #7f7f7f; text-decoration-color: #7f7f7f\">collaborator.py</span></a><span style=\"color: #7f7f7f; text-decoration-color: #7f7f7f\">:</span><a href=\"file://C:\\Users\\BHSU\\AppData\\Local\\Programs\\Python\\Python39\\lib\\site-packages\\openfl\\component\\collaborator\\collaborator.py#168\" target=\"_blank\"><span style=\"color: #7f7f7f; text-decoration-color: #7f7f7f\">168</span></a>\n",
       "</pre>\n"
      ],
      "text/plain": [
       "\u001b[2;36m          \u001b[0m\u001b[2;36m \u001b[0m\u001b[34mINFO    \u001b[0m Received the following tasks: \u001b[1m[\u001b[0m\u001b[32m'aggregated_model_validation'\u001b[0m, \u001b[32m'train'\u001b[0m, \u001b[32m'locally_tuned_model_validation'\u001b[0m\u001b[1m]\u001b[0m                 \u001b]8;id=667494;file://C:\\Users\\BHSU\\AppData\\Local\\Programs\\Python\\Python39\\lib\\site-packages\\openfl\\component\\collaborator\\collaborator.py\u001b\\\u001b[2mcollaborator.py\u001b[0m\u001b]8;;\u001b\\\u001b[2m:\u001b[0m\u001b]8;id=740963;file://C:\\Users\\BHSU\\AppData\\Local\\Programs\\Python\\Python39\\lib\\site-packages\\openfl\\component\\collaborator\\collaborator.py#168\u001b\\\u001b[2m168\u001b[0m\u001b]8;;\u001b\\\n"
      ]
     },
     "metadata": {},
     "output_type": "display_data"
    },
    {
     "data": {
      "text/html": [
       "<pre style=\"white-space:pre;overflow-x:auto;line-height:normal;font-family:Menlo,'DejaVu Sans Mono',consolas,'Courier New',monospace\"><span style=\"color: #7fbfbf; text-decoration-color: #7fbfbf\">           </span><span style=\"color: #000080; text-decoration-color: #000080\">INFO    </span> Using TaskRunner subclassing API                                                                                         <a href=\"file://C:\\Users\\BHSU\\AppData\\Local\\Programs\\Python\\Python39\\lib\\site-packages\\openfl\\component\\collaborator\\collaborator.py\" target=\"_blank\"><span style=\"color: #7f7f7f; text-decoration-color: #7f7f7f\">collaborator.py</span></a><span style=\"color: #7f7f7f; text-decoration-color: #7f7f7f\">:</span><a href=\"file://C:\\Users\\BHSU\\AppData\\Local\\Programs\\Python\\Python39\\lib\\site-packages\\openfl\\component\\collaborator\\collaborator.py#253\" target=\"_blank\"><span style=\"color: #7f7f7f; text-decoration-color: #7f7f7f\">253</span></a>\n",
       "</pre>\n"
      ],
      "text/plain": [
       "\u001b[2;36m          \u001b[0m\u001b[2;36m \u001b[0m\u001b[34mINFO    \u001b[0m Using TaskRunner subclassing API                                                                                         \u001b]8;id=780808;file://C:\\Users\\BHSU\\AppData\\Local\\Programs\\Python\\Python39\\lib\\site-packages\\openfl\\component\\collaborator\\collaborator.py\u001b\\\u001b[2mcollaborator.py\u001b[0m\u001b]8;;\u001b\\\u001b[2m:\u001b[0m\u001b]8;id=252267;file://C:\\Users\\BHSU\\AppData\\Local\\Programs\\Python\\Python39\\lib\\site-packages\\openfl\\component\\collaborator\\collaborator.py#253\u001b\\\u001b[2m253\u001b[0m\u001b]8;;\u001b\\\n"
      ]
     },
     "metadata": {},
     "output_type": "display_data"
    },
    {
     "name": "stdout",
     "output_type": "stream",
     "text": [
      "282/282 [==============================] - 0s 502us/step - loss: 0.2131 - accuracy: 0.9361\n"
     ]
    },
    {
     "data": {
      "text/html": [
       "<pre style=\"white-space:pre;overflow-x:auto;line-height:normal;font-family:Menlo,'DejaVu Sans Mono',consolas,'Courier New',monospace\"><span style=\"color: #7fbfbf; text-decoration-color: #7fbfbf\">           </span>METRIC   Round <span style=\"color: #008080; text-decoration-color: #008080; font-weight: bold\">3</span>, collaborator two is sending metric for task aggregated_model_validation: accuracy      <span style=\"color: #008080; text-decoration-color: #008080; font-weight: bold\">0.936111</span>                 <a href=\"file://C:\\Users\\BHSU\\AppData\\Local\\Programs\\Python\\Python39\\lib\\site-packages\\openfl\\component\\collaborator\\collaborator.py\" target=\"_blank\"><span style=\"color: #7f7f7f; text-decoration-color: #7f7f7f\">collaborator.py</span></a><span style=\"color: #7f7f7f; text-decoration-color: #7f7f7f\">:</span><a href=\"file://C:\\Users\\BHSU\\AppData\\Local\\Programs\\Python\\Python39\\lib\\site-packages\\openfl\\component\\collaborator\\collaborator.py#415\" target=\"_blank\"><span style=\"color: #7f7f7f; text-decoration-color: #7f7f7f\">415</span></a>\n",
       "</pre>\n"
      ],
      "text/plain": [
       "\u001b[2;36m          \u001b[0m\u001b[2;36m \u001b[0mMETRIC   Round \u001b[1;36m3\u001b[0m, collaborator two is sending metric for task aggregated_model_validation: accuracy      \u001b[1;36m0.936111\u001b[0m                 \u001b]8;id=760014;file://C:\\Users\\BHSU\\AppData\\Local\\Programs\\Python\\Python39\\lib\\site-packages\\openfl\\component\\collaborator\\collaborator.py\u001b\\\u001b[2mcollaborator.py\u001b[0m\u001b]8;;\u001b\\\u001b[2m:\u001b[0m\u001b]8;id=202418;file://C:\\Users\\BHSU\\AppData\\Local\\Programs\\Python\\Python39\\lib\\site-packages\\openfl\\component\\collaborator\\collaborator.py#415\u001b\\\u001b[2m415\u001b[0m\u001b]8;;\u001b\\\n"
      ]
     },
     "metadata": {},
     "output_type": "display_data"
    },
    {
     "data": {
      "text/html": [
       "<pre style=\"white-space:pre;overflow-x:auto;line-height:normal;font-family:Menlo,'DejaVu Sans Mono',consolas,'Courier New',monospace\"><span style=\"color: #7fbfbf; text-decoration-color: #7fbfbf\">           </span><span style=\"color: #000080; text-decoration-color: #000080\">INFO    </span> Collaborator two is sending task results for aggregated_model_validation, round <span style=\"color: #008080; text-decoration-color: #008080; font-weight: bold\">3</span>                                          <a href=\"file://C:\\Users\\BHSU\\AppData\\Local\\Programs\\Python\\Python39\\lib\\site-packages\\openfl\\component\\aggregator\\aggregator.py\" target=\"_blank\"><span style=\"color: #7f7f7f; text-decoration-color: #7f7f7f\">aggregator.py</span></a><span style=\"color: #7f7f7f; text-decoration-color: #7f7f7f\">:</span><a href=\"file://C:\\Users\\BHSU\\AppData\\Local\\Programs\\Python\\Python39\\lib\\site-packages\\openfl\\component\\aggregator\\aggregator.py#520\" target=\"_blank\"><span style=\"color: #7f7f7f; text-decoration-color: #7f7f7f\">520</span></a>\n",
       "</pre>\n"
      ],
      "text/plain": [
       "\u001b[2;36m          \u001b[0m\u001b[2;36m \u001b[0m\u001b[34mINFO    \u001b[0m Collaborator two is sending task results for aggregated_model_validation, round \u001b[1;36m3\u001b[0m                                          \u001b]8;id=841459;file://C:\\Users\\BHSU\\AppData\\Local\\Programs\\Python\\Python39\\lib\\site-packages\\openfl\\component\\aggregator\\aggregator.py\u001b\\\u001b[2maggregator.py\u001b[0m\u001b]8;;\u001b\\\u001b[2m:\u001b[0m\u001b]8;id=531425;file://C:\\Users\\BHSU\\AppData\\Local\\Programs\\Python\\Python39\\lib\\site-packages\\openfl\\component\\aggregator\\aggregator.py#520\u001b\\\u001b[2m520\u001b[0m\u001b]8;;\u001b\\\n"
      ]
     },
     "metadata": {},
     "output_type": "display_data"
    },
    {
     "data": {
      "text/html": [
       "<pre style=\"white-space:pre;overflow-x:auto;line-height:normal;font-family:Menlo,'DejaVu Sans Mono',consolas,'Courier New',monospace\"><span style=\"color: #7fbfbf; text-decoration-color: #7fbfbf\">           </span>METRIC   Round <span style=\"color: #008080; text-decoration-color: #008080; font-weight: bold\">3</span>, collaborator validate_agg aggregated_model_validation result accuracy: <span style=\"color: #008080; text-decoration-color: #008080; font-weight: bold\">0.936111</span>                                   <a href=\"file://C:\\Users\\BHSU\\AppData\\Local\\Programs\\Python\\Python39\\lib\\site-packages\\openfl\\component\\aggregator\\aggregator.py\" target=\"_blank\"><span style=\"color: #7f7f7f; text-decoration-color: #7f7f7f\">aggregator.py</span></a><span style=\"color: #7f7f7f; text-decoration-color: #7f7f7f\">:</span><a href=\"file://C:\\Users\\BHSU\\AppData\\Local\\Programs\\Python\\Python39\\lib\\site-packages\\openfl\\component\\aggregator\\aggregator.py#559\" target=\"_blank\"><span style=\"color: #7f7f7f; text-decoration-color: #7f7f7f\">559</span></a>\n",
       "</pre>\n"
      ],
      "text/plain": [
       "\u001b[2;36m          \u001b[0m\u001b[2;36m \u001b[0mMETRIC   Round \u001b[1;36m3\u001b[0m, collaborator validate_agg aggregated_model_validation result accuracy: \u001b[1;36m0.936111\u001b[0m                                   \u001b]8;id=216942;file://C:\\Users\\BHSU\\AppData\\Local\\Programs\\Python\\Python39\\lib\\site-packages\\openfl\\component\\aggregator\\aggregator.py\u001b\\\u001b[2maggregator.py\u001b[0m\u001b]8;;\u001b\\\u001b[2m:\u001b[0m\u001b]8;id=270952;file://C:\\Users\\BHSU\\AppData\\Local\\Programs\\Python\\Python39\\lib\\site-packages\\openfl\\component\\aggregator\\aggregator.py#559\u001b\\\u001b[2m559\u001b[0m\u001b]8;;\u001b\\\n"
      ]
     },
     "metadata": {},
     "output_type": "display_data"
    },
    {
     "data": {
      "text/html": [
       "<pre style=\"white-space:pre;overflow-x:auto;line-height:normal;font-family:Menlo,'DejaVu Sans Mono',consolas,'Courier New',monospace\"><span style=\"color: #7fbfbf; text-decoration-color: #7fbfbf\">           </span><span style=\"color: #000080; text-decoration-color: #000080\">INFO    </span> Using TaskRunner subclassing API                                                                                         <a href=\"file://C:\\Users\\BHSU\\AppData\\Local\\Programs\\Python\\Python39\\lib\\site-packages\\openfl\\component\\collaborator\\collaborator.py\" target=\"_blank\"><span style=\"color: #7f7f7f; text-decoration-color: #7f7f7f\">collaborator.py</span></a><span style=\"color: #7f7f7f; text-decoration-color: #7f7f7f\">:</span><a href=\"file://C:\\Users\\BHSU\\AppData\\Local\\Programs\\Python\\Python39\\lib\\site-packages\\openfl\\component\\collaborator\\collaborator.py#253\" target=\"_blank\"><span style=\"color: #7f7f7f; text-decoration-color: #7f7f7f\">253</span></a>\n",
       "</pre>\n"
      ],
      "text/plain": [
       "\u001b[2;36m          \u001b[0m\u001b[2;36m \u001b[0m\u001b[34mINFO    \u001b[0m Using TaskRunner subclassing API                                                                                         \u001b]8;id=886905;file://C:\\Users\\BHSU\\AppData\\Local\\Programs\\Python\\Python39\\lib\\site-packages\\openfl\\component\\collaborator\\collaborator.py\u001b\\\u001b[2mcollaborator.py\u001b[0m\u001b]8;;\u001b\\\u001b[2m:\u001b[0m\u001b]8;id=916198;file://C:\\Users\\BHSU\\AppData\\Local\\Programs\\Python\\Python39\\lib\\site-packages\\openfl\\component\\collaborator\\collaborator.py#253\u001b\\\u001b[2m253\u001b[0m\u001b]8;;\u001b\\\n"
      ]
     },
     "metadata": {},
     "output_type": "display_data"
    },
    {
     "data": {
      "text/html": [
       "<pre style=\"white-space:pre;overflow-x:auto;line-height:normal;font-family:Menlo,'DejaVu Sans Mono',consolas,'Courier New',monospace\"><span style=\"color: #7fbfbf; text-decoration-color: #7fbfbf\">           </span><span style=\"color: #000080; text-decoration-color: #000080\">INFO    </span> Run <span style=\"color: #008080; text-decoration-color: #008080; font-weight: bold\">0</span> epoch of <span style=\"color: #008080; text-decoration-color: #008080; font-weight: bold\">3</span> round                                                                                                    <a href=\"file://C:\\Users\\BHSU\\AppData\\Local\\Programs\\Python\\Python39\\lib\\site-packages\\openfl\\federated\\task\\runner_keras.py\" target=\"_blank\"><span style=\"color: #7f7f7f; text-decoration-color: #7f7f7f\">runner_keras.py</span></a><span style=\"color: #7f7f7f; text-decoration-color: #7f7f7f\">:</span><a href=\"file://C:\\Users\\BHSU\\AppData\\Local\\Programs\\Python\\Python39\\lib\\site-packages\\openfl\\federated\\task\\runner_keras.py#83\" target=\"_blank\"><span style=\"color: #7f7f7f; text-decoration-color: #7f7f7f\">83</span></a>\n",
       "</pre>\n"
      ],
      "text/plain": [
       "\u001b[2;36m          \u001b[0m\u001b[2;36m \u001b[0m\u001b[34mINFO    \u001b[0m Run \u001b[1;36m0\u001b[0m epoch of \u001b[1;36m3\u001b[0m round                                                                                                    \u001b]8;id=735425;file://C:\\Users\\BHSU\\AppData\\Local\\Programs\\Python\\Python39\\lib\\site-packages\\openfl\\federated\\task\\runner_keras.py\u001b\\\u001b[2mrunner_keras.py\u001b[0m\u001b]8;;\u001b\\\u001b[2m:\u001b[0m\u001b]8;id=422662;file://C:\\Users\\BHSU\\AppData\\Local\\Programs\\Python\\Python39\\lib\\site-packages\\openfl\\federated\\task\\runner_keras.py#83\u001b\\\u001b[2m83\u001b[0m\u001b]8;;\u001b\\\n"
      ]
     },
     "metadata": {},
     "output_type": "display_data"
    },
    {
     "name": "stdout",
     "output_type": "stream",
     "text": [
      "657/657 [==============================] - 0s 613us/step - loss: 0.1872 - accuracy: 0.9422\n"
     ]
    },
    {
     "data": {
      "text/html": [
       "<pre style=\"white-space:pre;overflow-x:auto;line-height:normal;font-family:Menlo,'DejaVu Sans Mono',consolas,'Courier New',monospace\"><span style=\"color: #7fbfbf; text-decoration-color: #7fbfbf\">           </span>METRIC   Round <span style=\"color: #008080; text-decoration-color: #008080; font-weight: bold\">3</span>, collaborator two is sending metric for task train: loss        <span style=\"color: #008080; text-decoration-color: #008080; font-weight: bold\">0.187194</span>                                         <a href=\"file://C:\\Users\\BHSU\\AppData\\Local\\Programs\\Python\\Python39\\lib\\site-packages\\openfl\\component\\collaborator\\collaborator.py\" target=\"_blank\"><span style=\"color: #7f7f7f; text-decoration-color: #7f7f7f\">collaborator.py</span></a><span style=\"color: #7f7f7f; text-decoration-color: #7f7f7f\">:</span><a href=\"file://C:\\Users\\BHSU\\AppData\\Local\\Programs\\Python\\Python39\\lib\\site-packages\\openfl\\component\\collaborator\\collaborator.py#415\" target=\"_blank\"><span style=\"color: #7f7f7f; text-decoration-color: #7f7f7f\">415</span></a>\n",
       "</pre>\n"
      ],
      "text/plain": [
       "\u001b[2;36m          \u001b[0m\u001b[2;36m \u001b[0mMETRIC   Round \u001b[1;36m3\u001b[0m, collaborator two is sending metric for task train: loss        \u001b[1;36m0.187194\u001b[0m                                         \u001b]8;id=31210;file://C:\\Users\\BHSU\\AppData\\Local\\Programs\\Python\\Python39\\lib\\site-packages\\openfl\\component\\collaborator\\collaborator.py\u001b\\\u001b[2mcollaborator.py\u001b[0m\u001b]8;;\u001b\\\u001b[2m:\u001b[0m\u001b]8;id=493479;file://C:\\Users\\BHSU\\AppData\\Local\\Programs\\Python\\Python39\\lib\\site-packages\\openfl\\component\\collaborator\\collaborator.py#415\u001b\\\u001b[2m415\u001b[0m\u001b]8;;\u001b\\\n"
      ]
     },
     "metadata": {},
     "output_type": "display_data"
    },
    {
     "data": {
      "text/html": [
       "<pre style=\"white-space:pre;overflow-x:auto;line-height:normal;font-family:Menlo,'DejaVu Sans Mono',consolas,'Courier New',monospace\"><span style=\"color: #7fbfbf; text-decoration-color: #7fbfbf\">           </span><span style=\"color: #000080; text-decoration-color: #000080\">INFO    </span> Collaborator two is sending task results for train, round <span style=\"color: #008080; text-decoration-color: #008080; font-weight: bold\">3</span>                                                                <a href=\"file://C:\\Users\\BHSU\\AppData\\Local\\Programs\\Python\\Python39\\lib\\site-packages\\openfl\\component\\aggregator\\aggregator.py\" target=\"_blank\"><span style=\"color: #7f7f7f; text-decoration-color: #7f7f7f\">aggregator.py</span></a><span style=\"color: #7f7f7f; text-decoration-color: #7f7f7f\">:</span><a href=\"file://C:\\Users\\BHSU\\AppData\\Local\\Programs\\Python\\Python39\\lib\\site-packages\\openfl\\component\\aggregator\\aggregator.py#520\" target=\"_blank\"><span style=\"color: #7f7f7f; text-decoration-color: #7f7f7f\">520</span></a>\n",
       "</pre>\n"
      ],
      "text/plain": [
       "\u001b[2;36m          \u001b[0m\u001b[2;36m \u001b[0m\u001b[34mINFO    \u001b[0m Collaborator two is sending task results for train, round \u001b[1;36m3\u001b[0m                                                                \u001b]8;id=736721;file://C:\\Users\\BHSU\\AppData\\Local\\Programs\\Python\\Python39\\lib\\site-packages\\openfl\\component\\aggregator\\aggregator.py\u001b\\\u001b[2maggregator.py\u001b[0m\u001b]8;;\u001b\\\u001b[2m:\u001b[0m\u001b]8;id=225743;file://C:\\Users\\BHSU\\AppData\\Local\\Programs\\Python\\Python39\\lib\\site-packages\\openfl\\component\\aggregator\\aggregator.py#520\u001b\\\u001b[2m520\u001b[0m\u001b]8;;\u001b\\\n"
      ]
     },
     "metadata": {},
     "output_type": "display_data"
    },
    {
     "data": {
      "text/html": [
       "<pre style=\"white-space:pre;overflow-x:auto;line-height:normal;font-family:Menlo,'DejaVu Sans Mono',consolas,'Courier New',monospace\"><span style=\"color: #7fbfbf; text-decoration-color: #7fbfbf\">           </span>METRIC   Round <span style=\"color: #008080; text-decoration-color: #008080; font-weight: bold\">3</span>, collaborator two train result loss:    <span style=\"color: #008080; text-decoration-color: #008080; font-weight: bold\">0.187194</span>                                                                   <a href=\"file://C:\\Users\\BHSU\\AppData\\Local\\Programs\\Python\\Python39\\lib\\site-packages\\openfl\\component\\aggregator\\aggregator.py\" target=\"_blank\"><span style=\"color: #7f7f7f; text-decoration-color: #7f7f7f\">aggregator.py</span></a><span style=\"color: #7f7f7f; text-decoration-color: #7f7f7f\">:</span><a href=\"file://C:\\Users\\BHSU\\AppData\\Local\\Programs\\Python\\Python39\\lib\\site-packages\\openfl\\component\\aggregator\\aggregator.py#559\" target=\"_blank\"><span style=\"color: #7f7f7f; text-decoration-color: #7f7f7f\">559</span></a>\n",
       "</pre>\n"
      ],
      "text/plain": [
       "\u001b[2;36m          \u001b[0m\u001b[2;36m \u001b[0mMETRIC   Round \u001b[1;36m3\u001b[0m, collaborator two train result loss:    \u001b[1;36m0.187194\u001b[0m                                                                   \u001b]8;id=44386;file://C:\\Users\\BHSU\\AppData\\Local\\Programs\\Python\\Python39\\lib\\site-packages\\openfl\\component\\aggregator\\aggregator.py\u001b\\\u001b[2maggregator.py\u001b[0m\u001b]8;;\u001b\\\u001b[2m:\u001b[0m\u001b]8;id=195016;file://C:\\Users\\BHSU\\AppData\\Local\\Programs\\Python\\Python39\\lib\\site-packages\\openfl\\component\\aggregator\\aggregator.py#559\u001b\\\u001b[2m559\u001b[0m\u001b]8;;\u001b\\\n"
      ]
     },
     "metadata": {},
     "output_type": "display_data"
    },
    {
     "data": {
      "text/html": [
       "<pre style=\"white-space:pre;overflow-x:auto;line-height:normal;font-family:Menlo,'DejaVu Sans Mono',consolas,'Courier New',monospace\"><span style=\"color: #7fbfbf; text-decoration-color: #7fbfbf\">           </span><span style=\"color: #000080; text-decoration-color: #000080\">INFO    </span> Using TaskRunner subclassing API                                                                                         <a href=\"file://C:\\Users\\BHSU\\AppData\\Local\\Programs\\Python\\Python39\\lib\\site-packages\\openfl\\component\\collaborator\\collaborator.py\" target=\"_blank\"><span style=\"color: #7f7f7f; text-decoration-color: #7f7f7f\">collaborator.py</span></a><span style=\"color: #7f7f7f; text-decoration-color: #7f7f7f\">:</span><a href=\"file://C:\\Users\\BHSU\\AppData\\Local\\Programs\\Python\\Python39\\lib\\site-packages\\openfl\\component\\collaborator\\collaborator.py#253\" target=\"_blank\"><span style=\"color: #7f7f7f; text-decoration-color: #7f7f7f\">253</span></a>\n",
       "</pre>\n"
      ],
      "text/plain": [
       "\u001b[2;36m          \u001b[0m\u001b[2;36m \u001b[0m\u001b[34mINFO    \u001b[0m Using TaskRunner subclassing API                                                                                         \u001b]8;id=635069;file://C:\\Users\\BHSU\\AppData\\Local\\Programs\\Python\\Python39\\lib\\site-packages\\openfl\\component\\collaborator\\collaborator.py\u001b\\\u001b[2mcollaborator.py\u001b[0m\u001b]8;;\u001b\\\u001b[2m:\u001b[0m\u001b]8;id=304949;file://C:\\Users\\BHSU\\AppData\\Local\\Programs\\Python\\Python39\\lib\\site-packages\\openfl\\component\\collaborator\\collaborator.py#253\u001b\\\u001b[2m253\u001b[0m\u001b]8;;\u001b\\\n"
      ]
     },
     "metadata": {},
     "output_type": "display_data"
    },
    {
     "name": "stdout",
     "output_type": "stream",
     "text": [
      "282/282 [==============================] - 0s 484us/step - loss: 0.1923 - accuracy: 0.9434\n"
     ]
    },
    {
     "data": {
      "text/html": [
       "<pre style=\"white-space:pre;overflow-x:auto;line-height:normal;font-family:Menlo,'DejaVu Sans Mono',consolas,'Courier New',monospace\"><span style=\"color: #7fbfbf; text-decoration-color: #7fbfbf\">[09:22:42] </span>METRIC   Round <span style=\"color: #008080; text-decoration-color: #008080; font-weight: bold\">3</span>, collaborator two is sending metric for task locally_tuned_model_validation: accuracy   <span style=\"color: #008080; text-decoration-color: #008080; font-weight: bold\">0.943444</span>                 <a href=\"file://C:\\Users\\BHSU\\AppData\\Local\\Programs\\Python\\Python39\\lib\\site-packages\\openfl\\component\\collaborator\\collaborator.py\" target=\"_blank\"><span style=\"color: #7f7f7f; text-decoration-color: #7f7f7f\">collaborator.py</span></a><span style=\"color: #7f7f7f; text-decoration-color: #7f7f7f\">:</span><a href=\"file://C:\\Users\\BHSU\\AppData\\Local\\Programs\\Python\\Python39\\lib\\site-packages\\openfl\\component\\collaborator\\collaborator.py#415\" target=\"_blank\"><span style=\"color: #7f7f7f; text-decoration-color: #7f7f7f\">415</span></a>\n",
       "</pre>\n"
      ],
      "text/plain": [
       "\u001b[2;36m[09:22:42]\u001b[0m\u001b[2;36m \u001b[0mMETRIC   Round \u001b[1;36m3\u001b[0m, collaborator two is sending metric for task locally_tuned_model_validation: accuracy   \u001b[1;36m0.943444\u001b[0m                 \u001b]8;id=809410;file://C:\\Users\\BHSU\\AppData\\Local\\Programs\\Python\\Python39\\lib\\site-packages\\openfl\\component\\collaborator\\collaborator.py\u001b\\\u001b[2mcollaborator.py\u001b[0m\u001b]8;;\u001b\\\u001b[2m:\u001b[0m\u001b]8;id=736576;file://C:\\Users\\BHSU\\AppData\\Local\\Programs\\Python\\Python39\\lib\\site-packages\\openfl\\component\\collaborator\\collaborator.py#415\u001b\\\u001b[2m415\u001b[0m\u001b]8;;\u001b\\\n"
      ]
     },
     "metadata": {},
     "output_type": "display_data"
    },
    {
     "data": {
      "text/html": [
       "<pre style=\"white-space:pre;overflow-x:auto;line-height:normal;font-family:Menlo,'DejaVu Sans Mono',consolas,'Courier New',monospace\"><span style=\"color: #7fbfbf; text-decoration-color: #7fbfbf\">           </span><span style=\"color: #000080; text-decoration-color: #000080\">INFO    </span> Collaborator two is sending task results for locally_tuned_model_validation, round <span style=\"color: #008080; text-decoration-color: #008080; font-weight: bold\">3</span>                                       <a href=\"file://C:\\Users\\BHSU\\AppData\\Local\\Programs\\Python\\Python39\\lib\\site-packages\\openfl\\component\\aggregator\\aggregator.py\" target=\"_blank\"><span style=\"color: #7f7f7f; text-decoration-color: #7f7f7f\">aggregator.py</span></a><span style=\"color: #7f7f7f; text-decoration-color: #7f7f7f\">:</span><a href=\"file://C:\\Users\\BHSU\\AppData\\Local\\Programs\\Python\\Python39\\lib\\site-packages\\openfl\\component\\aggregator\\aggregator.py#520\" target=\"_blank\"><span style=\"color: #7f7f7f; text-decoration-color: #7f7f7f\">520</span></a>\n",
       "</pre>\n"
      ],
      "text/plain": [
       "\u001b[2;36m          \u001b[0m\u001b[2;36m \u001b[0m\u001b[34mINFO    \u001b[0m Collaborator two is sending task results for locally_tuned_model_validation, round \u001b[1;36m3\u001b[0m                                       \u001b]8;id=75138;file://C:\\Users\\BHSU\\AppData\\Local\\Programs\\Python\\Python39\\lib\\site-packages\\openfl\\component\\aggregator\\aggregator.py\u001b\\\u001b[2maggregator.py\u001b[0m\u001b]8;;\u001b\\\u001b[2m:\u001b[0m\u001b]8;id=542350;file://C:\\Users\\BHSU\\AppData\\Local\\Programs\\Python\\Python39\\lib\\site-packages\\openfl\\component\\aggregator\\aggregator.py#520\u001b\\\u001b[2m520\u001b[0m\u001b]8;;\u001b\\\n"
      ]
     },
     "metadata": {},
     "output_type": "display_data"
    },
    {
     "data": {
      "text/html": [
       "<pre style=\"white-space:pre;overflow-x:auto;line-height:normal;font-family:Menlo,'DejaVu Sans Mono',consolas,'Courier New',monospace\"><span style=\"color: #7fbfbf; text-decoration-color: #7fbfbf\">           </span>METRIC   Round <span style=\"color: #008080; text-decoration-color: #008080; font-weight: bold\">3</span>, collaborator validate_local locally_tuned_model_validation result accuracy:    <span style=\"color: #008080; text-decoration-color: #008080; font-weight: bold\">0.943444</span>                           <a href=\"file://C:\\Users\\BHSU\\AppData\\Local\\Programs\\Python\\Python39\\lib\\site-packages\\openfl\\component\\aggregator\\aggregator.py\" target=\"_blank\"><span style=\"color: #7f7f7f; text-decoration-color: #7f7f7f\">aggregator.py</span></a><span style=\"color: #7f7f7f; text-decoration-color: #7f7f7f\">:</span><a href=\"file://C:\\Users\\BHSU\\AppData\\Local\\Programs\\Python\\Python39\\lib\\site-packages\\openfl\\component\\aggregator\\aggregator.py#559\" target=\"_blank\"><span style=\"color: #7f7f7f; text-decoration-color: #7f7f7f\">559</span></a>\n",
       "</pre>\n"
      ],
      "text/plain": [
       "\u001b[2;36m          \u001b[0m\u001b[2;36m \u001b[0mMETRIC   Round \u001b[1;36m3\u001b[0m, collaborator validate_local locally_tuned_model_validation result accuracy:    \u001b[1;36m0.943444\u001b[0m                           \u001b]8;id=170111;file://C:\\Users\\BHSU\\AppData\\Local\\Programs\\Python\\Python39\\lib\\site-packages\\openfl\\component\\aggregator\\aggregator.py\u001b\\\u001b[2maggregator.py\u001b[0m\u001b]8;;\u001b\\\u001b[2m:\u001b[0m\u001b]8;id=830180;file://C:\\Users\\BHSU\\AppData\\Local\\Programs\\Python\\Python39\\lib\\site-packages\\openfl\\component\\aggregator\\aggregator.py#559\u001b\\\u001b[2m559\u001b[0m\u001b]8;;\u001b\\\n"
      ]
     },
     "metadata": {},
     "output_type": "display_data"
    },
    {
     "data": {
      "text/html": [
       "<pre style=\"white-space:pre;overflow-x:auto;line-height:normal;font-family:Menlo,'DejaVu Sans Mono',consolas,'Courier New',monospace\"><span style=\"color: #7fbfbf; text-decoration-color: #7fbfbf\">           </span>METRIC   Round <span style=\"color: #008080; text-decoration-color: #008080; font-weight: bold\">3</span>, aggregator: locally_tuned_model_validation                                                                        <a href=\"file://C:\\Users\\BHSU\\AppData\\Local\\Programs\\Python\\Python39\\lib\\site-packages\\openfl\\component\\aggregator\\aggregator.py\" target=\"_blank\"><span style=\"color: #7f7f7f; text-decoration-color: #7f7f7f\">aggregator.py</span></a><span style=\"color: #7f7f7f; text-decoration-color: #7f7f7f\">:</span><a href=\"file://C:\\Users\\BHSU\\AppData\\Local\\Programs\\Python\\Python39\\lib\\site-packages\\openfl\\component\\aggregator\\aggregator.py#842\" target=\"_blank\"><span style=\"color: #7f7f7f; text-decoration-color: #7f7f7f\">842</span></a>\n",
       "<span style=\"color: #7fbfbf; text-decoration-color: #7fbfbf\">           </span>         <span style=\"font-weight: bold\">&lt;</span><span style=\"color: #ff00ff; text-decoration-color: #ff00ff; font-weight: bold\">openfl.interface.aggregation_functions.weighted_average.WeightedAverage</span><span style=\"color: #000000; text-decoration-color: #000000\"> object at </span><span style=\"color: #008080; text-decoration-color: #008080; font-weight: bold\">0x0000020F55654AC0</span><span style=\"font-weight: bold\">&gt;</span> accuracy:           <span style=\"color: #7f7f7f; text-decoration-color: #7f7f7f\">                 </span>\n",
       "<span style=\"color: #7fbfbf; text-decoration-color: #7fbfbf\">           </span>         <span style=\"color: #008080; text-decoration-color: #008080; font-weight: bold\">0.942778</span>                                                                                                                   <span style=\"color: #7f7f7f; text-decoration-color: #7f7f7f\">                 </span>\n",
       "</pre>\n"
      ],
      "text/plain": [
       "\u001b[2;36m          \u001b[0m\u001b[2;36m \u001b[0mMETRIC   Round \u001b[1;36m3\u001b[0m, aggregator: locally_tuned_model_validation                                                                        \u001b]8;id=619909;file://C:\\Users\\BHSU\\AppData\\Local\\Programs\\Python\\Python39\\lib\\site-packages\\openfl\\component\\aggregator\\aggregator.py\u001b\\\u001b[2maggregator.py\u001b[0m\u001b]8;;\u001b\\\u001b[2m:\u001b[0m\u001b]8;id=110478;file://C:\\Users\\BHSU\\AppData\\Local\\Programs\\Python\\Python39\\lib\\site-packages\\openfl\\component\\aggregator\\aggregator.py#842\u001b\\\u001b[2m842\u001b[0m\u001b]8;;\u001b\\\n",
       "\u001b[2;36m           \u001b[0m         \u001b[1m<\u001b[0m\u001b[1;95mopenfl.interface.aggregation_functions.weighted_average.WeightedAverage\u001b[0m\u001b[39m object at \u001b[0m\u001b[1;36m0x0000020F55654AC0\u001b[0m\u001b[1m>\u001b[0m accuracy:           \u001b[2m                 \u001b[0m\n",
       "\u001b[2;36m           \u001b[0m         \u001b[1;36m0.942778\u001b[0m                                                                                                                   \u001b[2m                 \u001b[0m\n"
      ]
     },
     "metadata": {},
     "output_type": "display_data"
    },
    {
     "data": {
      "text/html": [
       "<pre style=\"white-space:pre;overflow-x:auto;line-height:normal;font-family:Menlo,'DejaVu Sans Mono',consolas,'Courier New',monospace\"><span style=\"color: #7fbfbf; text-decoration-color: #7fbfbf\">           </span>METRIC   Round <span style=\"color: #008080; text-decoration-color: #008080; font-weight: bold\">3</span>, aggregator: aggregated_model_validation <span style=\"font-weight: bold\">&lt;</span><span style=\"color: #ff00ff; text-decoration-color: #ff00ff; font-weight: bold\">openfl.interface.aggregation_functions.weighted_average.WeightedAverage</span><span style=\"color: #000000; text-decoration-color: #000000\"> </span> <a href=\"file://C:\\Users\\BHSU\\AppData\\Local\\Programs\\Python\\Python39\\lib\\site-packages\\openfl\\component\\aggregator\\aggregator.py\" target=\"_blank\"><span style=\"color: #7f7f7f; text-decoration-color: #7f7f7f\">aggregator.py</span></a><span style=\"color: #7f7f7f; text-decoration-color: #7f7f7f\">:</span><a href=\"file://C:\\Users\\BHSU\\AppData\\Local\\Programs\\Python\\Python39\\lib\\site-packages\\openfl\\component\\aggregator\\aggregator.py#842\" target=\"_blank\"><span style=\"color: #7f7f7f; text-decoration-color: #7f7f7f\">842</span></a>\n",
       "<span style=\"color: #7fbfbf; text-decoration-color: #7fbfbf\">           </span>         <span style=\"color: #000000; text-decoration-color: #000000\">object at </span><span style=\"color: #008080; text-decoration-color: #008080; font-weight: bold\">0x0000020F55654AC0</span><span style=\"font-weight: bold\">&gt;</span> accuracy:       <span style=\"color: #008080; text-decoration-color: #008080; font-weight: bold\">0.938278</span>                                                                     <span style=\"color: #7f7f7f; text-decoration-color: #7f7f7f\">                 </span>\n",
       "</pre>\n"
      ],
      "text/plain": [
       "\u001b[2;36m          \u001b[0m\u001b[2;36m \u001b[0mMETRIC   Round \u001b[1;36m3\u001b[0m, aggregator: aggregated_model_validation \u001b[1m<\u001b[0m\u001b[1;95mopenfl.interface.aggregation_functions.weighted_average.WeightedAverage\u001b[0m\u001b[39m \u001b[0m \u001b]8;id=494359;file://C:\\Users\\BHSU\\AppData\\Local\\Programs\\Python\\Python39\\lib\\site-packages\\openfl\\component\\aggregator\\aggregator.py\u001b\\\u001b[2maggregator.py\u001b[0m\u001b]8;;\u001b\\\u001b[2m:\u001b[0m\u001b]8;id=794840;file://C:\\Users\\BHSU\\AppData\\Local\\Programs\\Python\\Python39\\lib\\site-packages\\openfl\\component\\aggregator\\aggregator.py#842\u001b\\\u001b[2m842\u001b[0m\u001b]8;;\u001b\\\n",
       "\u001b[2;36m           \u001b[0m         \u001b[39mobject at \u001b[0m\u001b[1;36m0x0000020F55654AC0\u001b[0m\u001b[1m>\u001b[0m accuracy:       \u001b[1;36m0.938278\u001b[0m                                                                     \u001b[2m                 \u001b[0m\n"
      ]
     },
     "metadata": {},
     "output_type": "display_data"
    },
    {
     "data": {
      "text/html": [
       "<pre style=\"white-space:pre;overflow-x:auto;line-height:normal;font-family:Menlo,'DejaVu Sans Mono',consolas,'Courier New',monospace\"><span style=\"color: #7fbfbf; text-decoration-color: #7fbfbf\">           </span>METRIC   Round <span style=\"color: #008080; text-decoration-color: #008080; font-weight: bold\">3</span>: saved the best model with score <span style=\"color: #008080; text-decoration-color: #008080; font-weight: bold\">0.938278</span>                                                                          <a href=\"file://C:\\Users\\BHSU\\AppData\\Local\\Programs\\Python\\Python39\\lib\\site-packages\\openfl\\component\\aggregator\\aggregator.py\" target=\"_blank\"><span style=\"color: #7f7f7f; text-decoration-color: #7f7f7f\">aggregator.py</span></a><span style=\"color: #7f7f7f; text-decoration-color: #7f7f7f\">:</span><a href=\"file://C:\\Users\\BHSU\\AppData\\Local\\Programs\\Python\\Python39\\lib\\site-packages\\openfl\\component\\aggregator\\aggregator.py#858\" target=\"_blank\"><span style=\"color: #7f7f7f; text-decoration-color: #7f7f7f\">858</span></a>\n",
       "</pre>\n"
      ],
      "text/plain": [
       "\u001b[2;36m          \u001b[0m\u001b[2;36m \u001b[0mMETRIC   Round \u001b[1;36m3\u001b[0m: saved the best model with score \u001b[1;36m0.938278\u001b[0m                                                                          \u001b]8;id=102091;file://C:\\Users\\BHSU\\AppData\\Local\\Programs\\Python\\Python39\\lib\\site-packages\\openfl\\component\\aggregator\\aggregator.py\u001b\\\u001b[2maggregator.py\u001b[0m\u001b]8;;\u001b\\\u001b[2m:\u001b[0m\u001b]8;id=196161;file://C:\\Users\\BHSU\\AppData\\Local\\Programs\\Python\\Python39\\lib\\site-packages\\openfl\\component\\aggregator\\aggregator.py#858\u001b\\\u001b[2m858\u001b[0m\u001b]8;;\u001b\\\n"
      ]
     },
     "metadata": {},
     "output_type": "display_data"
    },
    {
     "data": {
      "text/html": [
       "<pre style=\"white-space:pre;overflow-x:auto;line-height:normal;font-family:Menlo,'DejaVu Sans Mono',consolas,'Courier New',monospace\"><span style=\"color: #7fbfbf; text-decoration-color: #7fbfbf\">           </span>METRIC   Round <span style=\"color: #008080; text-decoration-color: #008080; font-weight: bold\">3</span>, aggregator: train <span style=\"font-weight: bold\">&lt;</span><span style=\"color: #ff00ff; text-decoration-color: #ff00ff; font-weight: bold\">openfl.interface.aggregation_functions.weighted_average.WeightedAverage</span><span style=\"color: #000000; text-decoration-color: #000000\"> object at </span>             <a href=\"file://C:\\Users\\BHSU\\AppData\\Local\\Programs\\Python\\Python39\\lib\\site-packages\\openfl\\component\\aggregator\\aggregator.py\" target=\"_blank\"><span style=\"color: #7f7f7f; text-decoration-color: #7f7f7f\">aggregator.py</span></a><span style=\"color: #7f7f7f; text-decoration-color: #7f7f7f\">:</span><a href=\"file://C:\\Users\\BHSU\\AppData\\Local\\Programs\\Python\\Python39\\lib\\site-packages\\openfl\\component\\aggregator\\aggregator.py#842\" target=\"_blank\"><span style=\"color: #7f7f7f; text-decoration-color: #7f7f7f\">842</span></a>\n",
       "<span style=\"color: #7fbfbf; text-decoration-color: #7fbfbf\">           </span>         <span style=\"color: #008080; text-decoration-color: #008080; font-weight: bold\">0x0000020F55654AC0</span><span style=\"font-weight: bold\">&gt;</span> loss: <span style=\"color: #008080; text-decoration-color: #008080; font-weight: bold\">0.191259</span>                                                                                         <span style=\"color: #7f7f7f; text-decoration-color: #7f7f7f\">                 </span>\n",
       "</pre>\n"
      ],
      "text/plain": [
       "\u001b[2;36m          \u001b[0m\u001b[2;36m \u001b[0mMETRIC   Round \u001b[1;36m3\u001b[0m, aggregator: train \u001b[1m<\u001b[0m\u001b[1;95mopenfl.interface.aggregation_functions.weighted_average.WeightedAverage\u001b[0m\u001b[39m object at \u001b[0m             \u001b]8;id=547505;file://C:\\Users\\BHSU\\AppData\\Local\\Programs\\Python\\Python39\\lib\\site-packages\\openfl\\component\\aggregator\\aggregator.py\u001b\\\u001b[2maggregator.py\u001b[0m\u001b]8;;\u001b\\\u001b[2m:\u001b[0m\u001b]8;id=540421;file://C:\\Users\\BHSU\\AppData\\Local\\Programs\\Python\\Python39\\lib\\site-packages\\openfl\\component\\aggregator\\aggregator.py#842\u001b\\\u001b[2m842\u001b[0m\u001b]8;;\u001b\\\n",
       "\u001b[2;36m           \u001b[0m         \u001b[1;36m0x0000020F55654AC0\u001b[0m\u001b[1m>\u001b[0m loss: \u001b[1;36m0.191259\u001b[0m                                                                                         \u001b[2m                 \u001b[0m\n"
      ]
     },
     "metadata": {},
     "output_type": "display_data"
    },
    {
     "data": {
      "text/html": [
       "<pre style=\"white-space:pre;overflow-x:auto;line-height:normal;font-family:Menlo,'DejaVu Sans Mono',consolas,'Courier New',monospace\"><span style=\"color: #7fbfbf; text-decoration-color: #7fbfbf\">           </span><span style=\"color: #000080; text-decoration-color: #000080\">INFO    </span> Saving round <span style=\"color: #008080; text-decoration-color: #008080; font-weight: bold\">4</span> model<span style=\"color: #808000; text-decoration-color: #808000\">...</span>                                                                                                    <a href=\"file://C:\\Users\\BHSU\\AppData\\Local\\Programs\\Python\\Python39\\lib\\site-packages\\openfl\\component\\aggregator\\aggregator.py\" target=\"_blank\"><span style=\"color: #7f7f7f; text-decoration-color: #7f7f7f\">aggregator.py</span></a><span style=\"color: #7f7f7f; text-decoration-color: #7f7f7f\">:</span><a href=\"file://C:\\Users\\BHSU\\AppData\\Local\\Programs\\Python\\Python39\\lib\\site-packages\\openfl\\component\\aggregator\\aggregator.py#894\" target=\"_blank\"><span style=\"color: #7f7f7f; text-decoration-color: #7f7f7f\">894</span></a>\n",
       "</pre>\n"
      ],
      "text/plain": [
       "\u001b[2;36m          \u001b[0m\u001b[2;36m \u001b[0m\u001b[34mINFO    \u001b[0m Saving round \u001b[1;36m4\u001b[0m model\u001b[33m...\u001b[0m                                                                                                    \u001b]8;id=533101;file://C:\\Users\\BHSU\\AppData\\Local\\Programs\\Python\\Python39\\lib\\site-packages\\openfl\\component\\aggregator\\aggregator.py\u001b\\\u001b[2maggregator.py\u001b[0m\u001b]8;;\u001b\\\u001b[2m:\u001b[0m\u001b]8;id=526244;file://C:\\Users\\BHSU\\AppData\\Local\\Programs\\Python\\Python39\\lib\\site-packages\\openfl\\component\\aggregator\\aggregator.py#894\u001b\\\u001b[2m894\u001b[0m\u001b]8;;\u001b\\\n"
      ]
     },
     "metadata": {},
     "output_type": "display_data"
    },
    {
     "data": {
      "text/html": [
       "<pre style=\"white-space:pre;overflow-x:auto;line-height:normal;font-family:Menlo,'DejaVu Sans Mono',consolas,'Courier New',monospace\"><span style=\"color: #7fbfbf; text-decoration-color: #7fbfbf\">           </span><span style=\"color: #000080; text-decoration-color: #000080\">INFO    </span> Starting round <span style=\"color: #008080; text-decoration-color: #008080; font-weight: bold\">4</span><span style=\"color: #808000; text-decoration-color: #808000\">...</span>                                                                                                        <a href=\"file://C:\\Users\\BHSU\\AppData\\Local\\Programs\\Python\\Python39\\lib\\site-packages\\openfl\\component\\aggregator\\aggregator.py\" target=\"_blank\"><span style=\"color: #7f7f7f; text-decoration-color: #7f7f7f\">aggregator.py</span></a><span style=\"color: #7f7f7f; text-decoration-color: #7f7f7f\">:</span><a href=\"file://C:\\Users\\BHSU\\AppData\\Local\\Programs\\Python\\Python39\\lib\\site-packages\\openfl\\component\\aggregator\\aggregator.py#901\" target=\"_blank\"><span style=\"color: #7f7f7f; text-decoration-color: #7f7f7f\">901</span></a>\n",
       "</pre>\n"
      ],
      "text/plain": [
       "\u001b[2;36m          \u001b[0m\u001b[2;36m \u001b[0m\u001b[34mINFO    \u001b[0m Starting round \u001b[1;36m4\u001b[0m\u001b[33m...\u001b[0m                                                                                                        \u001b]8;id=360499;file://C:\\Users\\BHSU\\AppData\\Local\\Programs\\Python\\Python39\\lib\\site-packages\\openfl\\component\\aggregator\\aggregator.py\u001b\\\u001b[2maggregator.py\u001b[0m\u001b]8;;\u001b\\\u001b[2m:\u001b[0m\u001b]8;id=378698;file://C:\\Users\\BHSU\\AppData\\Local\\Programs\\Python\\Python39\\lib\\site-packages\\openfl\\component\\aggregator\\aggregator.py#901\u001b\\\u001b[2m901\u001b[0m\u001b]8;;\u001b\\\n"
      ]
     },
     "metadata": {},
     "output_type": "display_data"
    },
    {
     "data": {
      "text/html": [
       "<pre style=\"white-space:pre;overflow-x:auto;line-height:normal;font-family:Menlo,'DejaVu Sans Mono',consolas,'Courier New',monospace\"><span style=\"color: #7fbfbf; text-decoration-color: #7fbfbf\">           </span><span style=\"color: #000080; text-decoration-color: #000080\">INFO    </span> All tasks completed on two for round <span style=\"color: #008080; text-decoration-color: #008080; font-weight: bold\">3</span><span style=\"color: #808000; text-decoration-color: #808000\">...</span>                                                                                <a href=\"file://C:\\Users\\BHSU\\AppData\\Local\\Programs\\Python\\Python39\\lib\\site-packages\\openfl\\component\\collaborator\\collaborator.py\" target=\"_blank\"><span style=\"color: #7f7f7f; text-decoration-color: #7f7f7f\">collaborator.py</span></a><span style=\"color: #7f7f7f; text-decoration-color: #7f7f7f\">:</span><a href=\"file://C:\\Users\\BHSU\\AppData\\Local\\Programs\\Python\\Python39\\lib\\site-packages\\openfl\\component\\collaborator\\collaborator.py#171\" target=\"_blank\"><span style=\"color: #7f7f7f; text-decoration-color: #7f7f7f\">171</span></a>\n",
       "</pre>\n"
      ],
      "text/plain": [
       "\u001b[2;36m          \u001b[0m\u001b[2;36m \u001b[0m\u001b[34mINFO    \u001b[0m All tasks completed on two for round \u001b[1;36m3\u001b[0m\u001b[33m...\u001b[0m                                                                                \u001b]8;id=642536;file://C:\\Users\\BHSU\\AppData\\Local\\Programs\\Python\\Python39\\lib\\site-packages\\openfl\\component\\collaborator\\collaborator.py\u001b\\\u001b[2mcollaborator.py\u001b[0m\u001b]8;;\u001b\\\u001b[2m:\u001b[0m\u001b]8;id=155610;file://C:\\Users\\BHSU\\AppData\\Local\\Programs\\Python\\Python39\\lib\\site-packages\\openfl\\component\\collaborator\\collaborator.py#171\u001b\\\u001b[2m171\u001b[0m\u001b]8;;\u001b\\\n"
      ]
     },
     "metadata": {},
     "output_type": "display_data"
    },
    {
     "data": {
      "text/html": [
       "<pre style=\"white-space:pre;overflow-x:auto;line-height:normal;font-family:Menlo,'DejaVu Sans Mono',consolas,'Courier New',monospace\"><span style=\"color: #7fbfbf; text-decoration-color: #7fbfbf\">           </span><span style=\"color: #000080; text-decoration-color: #000080\">INFO    </span> Waiting for tasks<span style=\"color: #808000; text-decoration-color: #808000\">...</span>                                                                                                     <a href=\"file://C:\\Users\\BHSU\\AppData\\Local\\Programs\\Python\\Python39\\lib\\site-packages\\openfl\\component\\collaborator\\collaborator.py\" target=\"_blank\"><span style=\"color: #7f7f7f; text-decoration-color: #7f7f7f\">collaborator.py</span></a><span style=\"color: #7f7f7f; text-decoration-color: #7f7f7f\">:</span><a href=\"file://C:\\Users\\BHSU\\AppData\\Local\\Programs\\Python\\Python39\\lib\\site-packages\\openfl\\component\\collaborator\\collaborator.py#178\" target=\"_blank\"><span style=\"color: #7f7f7f; text-decoration-color: #7f7f7f\">178</span></a>\n",
       "</pre>\n"
      ],
      "text/plain": [
       "\u001b[2;36m          \u001b[0m\u001b[2;36m \u001b[0m\u001b[34mINFO    \u001b[0m Waiting for tasks\u001b[33m...\u001b[0m                                                                                                     \u001b]8;id=393736;file://C:\\Users\\BHSU\\AppData\\Local\\Programs\\Python\\Python39\\lib\\site-packages\\openfl\\component\\collaborator\\collaborator.py\u001b\\\u001b[2mcollaborator.py\u001b[0m\u001b]8;;\u001b\\\u001b[2m:\u001b[0m\u001b]8;id=886102;file://C:\\Users\\BHSU\\AppData\\Local\\Programs\\Python\\Python39\\lib\\site-packages\\openfl\\component\\collaborator\\collaborator.py#178\u001b\\\u001b[2m178\u001b[0m\u001b]8;;\u001b\\\n"
      ]
     },
     "metadata": {},
     "output_type": "display_data"
    },
    {
     "data": {
      "text/html": [
       "<pre style=\"white-space:pre;overflow-x:auto;line-height:normal;font-family:Menlo,'DejaVu Sans Mono',consolas,'Courier New',monospace\"><span style=\"color: #7fbfbf; text-decoration-color: #7fbfbf\">           </span><span style=\"color: #000080; text-decoration-color: #000080\">INFO    </span> Sending tasks to collaborator one for round <span style=\"color: #008080; text-decoration-color: #008080; font-weight: bold\">4</span>                                                                              <a href=\"file://C:\\Users\\BHSU\\AppData\\Local\\Programs\\Python\\Python39\\lib\\site-packages\\openfl\\component\\aggregator\\aggregator.py\" target=\"_blank\"><span style=\"color: #7f7f7f; text-decoration-color: #7f7f7f\">aggregator.py</span></a><span style=\"color: #7f7f7f; text-decoration-color: #7f7f7f\">:</span><a href=\"file://C:\\Users\\BHSU\\AppData\\Local\\Programs\\Python\\Python39\\lib\\site-packages\\openfl\\component\\aggregator\\aggregator.py#329\" target=\"_blank\"><span style=\"color: #7f7f7f; text-decoration-color: #7f7f7f\">329</span></a>\n",
       "</pre>\n"
      ],
      "text/plain": [
       "\u001b[2;36m          \u001b[0m\u001b[2;36m \u001b[0m\u001b[34mINFO    \u001b[0m Sending tasks to collaborator one for round \u001b[1;36m4\u001b[0m                                                                              \u001b]8;id=193599;file://C:\\Users\\BHSU\\AppData\\Local\\Programs\\Python\\Python39\\lib\\site-packages\\openfl\\component\\aggregator\\aggregator.py\u001b\\\u001b[2maggregator.py\u001b[0m\u001b]8;;\u001b\\\u001b[2m:\u001b[0m\u001b]8;id=864967;file://C:\\Users\\BHSU\\AppData\\Local\\Programs\\Python\\Python39\\lib\\site-packages\\openfl\\component\\aggregator\\aggregator.py#329\u001b\\\u001b[2m329\u001b[0m\u001b]8;;\u001b\\\n"
      ]
     },
     "metadata": {},
     "output_type": "display_data"
    },
    {
     "data": {
      "text/html": [
       "<pre style=\"white-space:pre;overflow-x:auto;line-height:normal;font-family:Menlo,'DejaVu Sans Mono',consolas,'Courier New',monospace\"><span style=\"color: #7fbfbf; text-decoration-color: #7fbfbf\">           </span><span style=\"color: #000080; text-decoration-color: #000080\">INFO    </span> Received the following tasks: <span style=\"font-weight: bold\">[</span><span style=\"color: #008000; text-decoration-color: #008000\">'aggregated_model_validation'</span>, <span style=\"color: #008000; text-decoration-color: #008000\">'train'</span>, <span style=\"color: #008000; text-decoration-color: #008000\">'locally_tuned_model_validation'</span><span style=\"font-weight: bold\">]</span>                 <a href=\"file://C:\\Users\\BHSU\\AppData\\Local\\Programs\\Python\\Python39\\lib\\site-packages\\openfl\\component\\collaborator\\collaborator.py\" target=\"_blank\"><span style=\"color: #7f7f7f; text-decoration-color: #7f7f7f\">collaborator.py</span></a><span style=\"color: #7f7f7f; text-decoration-color: #7f7f7f\">:</span><a href=\"file://C:\\Users\\BHSU\\AppData\\Local\\Programs\\Python\\Python39\\lib\\site-packages\\openfl\\component\\collaborator\\collaborator.py#168\" target=\"_blank\"><span style=\"color: #7f7f7f; text-decoration-color: #7f7f7f\">168</span></a>\n",
       "</pre>\n"
      ],
      "text/plain": [
       "\u001b[2;36m          \u001b[0m\u001b[2;36m \u001b[0m\u001b[34mINFO    \u001b[0m Received the following tasks: \u001b[1m[\u001b[0m\u001b[32m'aggregated_model_validation'\u001b[0m, \u001b[32m'train'\u001b[0m, \u001b[32m'locally_tuned_model_validation'\u001b[0m\u001b[1m]\u001b[0m                 \u001b]8;id=210184;file://C:\\Users\\BHSU\\AppData\\Local\\Programs\\Python\\Python39\\lib\\site-packages\\openfl\\component\\collaborator\\collaborator.py\u001b\\\u001b[2mcollaborator.py\u001b[0m\u001b]8;;\u001b\\\u001b[2m:\u001b[0m\u001b]8;id=608614;file://C:\\Users\\BHSU\\AppData\\Local\\Programs\\Python\\Python39\\lib\\site-packages\\openfl\\component\\collaborator\\collaborator.py#168\u001b\\\u001b[2m168\u001b[0m\u001b]8;;\u001b\\\n"
      ]
     },
     "metadata": {},
     "output_type": "display_data"
    },
    {
     "data": {
      "text/html": [
       "<pre style=\"white-space:pre;overflow-x:auto;line-height:normal;font-family:Menlo,'DejaVu Sans Mono',consolas,'Courier New',monospace\"><span style=\"color: #7fbfbf; text-decoration-color: #7fbfbf\">           </span><span style=\"color: #000080; text-decoration-color: #000080\">INFO    </span> Using TaskRunner subclassing API                                                                                         <a href=\"file://C:\\Users\\BHSU\\AppData\\Local\\Programs\\Python\\Python39\\lib\\site-packages\\openfl\\component\\collaborator\\collaborator.py\" target=\"_blank\"><span style=\"color: #7f7f7f; text-decoration-color: #7f7f7f\">collaborator.py</span></a><span style=\"color: #7f7f7f; text-decoration-color: #7f7f7f\">:</span><a href=\"file://C:\\Users\\BHSU\\AppData\\Local\\Programs\\Python\\Python39\\lib\\site-packages\\openfl\\component\\collaborator\\collaborator.py#253\" target=\"_blank\"><span style=\"color: #7f7f7f; text-decoration-color: #7f7f7f\">253</span></a>\n",
       "</pre>\n"
      ],
      "text/plain": [
       "\u001b[2;36m          \u001b[0m\u001b[2;36m \u001b[0m\u001b[34mINFO    \u001b[0m Using TaskRunner subclassing API                                                                                         \u001b]8;id=571814;file://C:\\Users\\BHSU\\AppData\\Local\\Programs\\Python\\Python39\\lib\\site-packages\\openfl\\component\\collaborator\\collaborator.py\u001b\\\u001b[2mcollaborator.py\u001b[0m\u001b]8;;\u001b\\\u001b[2m:\u001b[0m\u001b]8;id=219034;file://C:\\Users\\BHSU\\AppData\\Local\\Programs\\Python\\Python39\\lib\\site-packages\\openfl\\component\\collaborator\\collaborator.py#253\u001b\\\u001b[2m253\u001b[0m\u001b]8;;\u001b\\\n"
      ]
     },
     "metadata": {},
     "output_type": "display_data"
    },
    {
     "name": "stdout",
     "output_type": "stream",
     "text": [
      "282/282 [==============================] - 0s 527us/step - loss: 0.1590 - accuracy: 0.9523\n"
     ]
    },
    {
     "data": {
      "text/html": [
       "<pre style=\"white-space:pre;overflow-x:auto;line-height:normal;font-family:Menlo,'DejaVu Sans Mono',consolas,'Courier New',monospace\"><span style=\"color: #7fbfbf; text-decoration-color: #7fbfbf\">           </span>METRIC   Round <span style=\"color: #008080; text-decoration-color: #008080; font-weight: bold\">4</span>, collaborator one is sending metric for task aggregated_model_validation: accuracy      <span style=\"color: #008080; text-decoration-color: #008080; font-weight: bold\">0.952333</span>                 <a href=\"file://C:\\Users\\BHSU\\AppData\\Local\\Programs\\Python\\Python39\\lib\\site-packages\\openfl\\component\\collaborator\\collaborator.py\" target=\"_blank\"><span style=\"color: #7f7f7f; text-decoration-color: #7f7f7f\">collaborator.py</span></a><span style=\"color: #7f7f7f; text-decoration-color: #7f7f7f\">:</span><a href=\"file://C:\\Users\\BHSU\\AppData\\Local\\Programs\\Python\\Python39\\lib\\site-packages\\openfl\\component\\collaborator\\collaborator.py#415\" target=\"_blank\"><span style=\"color: #7f7f7f; text-decoration-color: #7f7f7f\">415</span></a>\n",
       "</pre>\n"
      ],
      "text/plain": [
       "\u001b[2;36m          \u001b[0m\u001b[2;36m \u001b[0mMETRIC   Round \u001b[1;36m4\u001b[0m, collaborator one is sending metric for task aggregated_model_validation: accuracy      \u001b[1;36m0.952333\u001b[0m                 \u001b]8;id=436893;file://C:\\Users\\BHSU\\AppData\\Local\\Programs\\Python\\Python39\\lib\\site-packages\\openfl\\component\\collaborator\\collaborator.py\u001b\\\u001b[2mcollaborator.py\u001b[0m\u001b]8;;\u001b\\\u001b[2m:\u001b[0m\u001b]8;id=93328;file://C:\\Users\\BHSU\\AppData\\Local\\Programs\\Python\\Python39\\lib\\site-packages\\openfl\\component\\collaborator\\collaborator.py#415\u001b\\\u001b[2m415\u001b[0m\u001b]8;;\u001b\\\n"
      ]
     },
     "metadata": {},
     "output_type": "display_data"
    },
    {
     "data": {
      "text/html": [
       "<pre style=\"white-space:pre;overflow-x:auto;line-height:normal;font-family:Menlo,'DejaVu Sans Mono',consolas,'Courier New',monospace\"><span style=\"color: #7fbfbf; text-decoration-color: #7fbfbf\">           </span><span style=\"color: #000080; text-decoration-color: #000080\">INFO    </span> Collaborator one is sending task results for aggregated_model_validation, round <span style=\"color: #008080; text-decoration-color: #008080; font-weight: bold\">4</span>                                          <a href=\"file://C:\\Users\\BHSU\\AppData\\Local\\Programs\\Python\\Python39\\lib\\site-packages\\openfl\\component\\aggregator\\aggregator.py\" target=\"_blank\"><span style=\"color: #7f7f7f; text-decoration-color: #7f7f7f\">aggregator.py</span></a><span style=\"color: #7f7f7f; text-decoration-color: #7f7f7f\">:</span><a href=\"file://C:\\Users\\BHSU\\AppData\\Local\\Programs\\Python\\Python39\\lib\\site-packages\\openfl\\component\\aggregator\\aggregator.py#520\" target=\"_blank\"><span style=\"color: #7f7f7f; text-decoration-color: #7f7f7f\">520</span></a>\n",
       "</pre>\n"
      ],
      "text/plain": [
       "\u001b[2;36m          \u001b[0m\u001b[2;36m \u001b[0m\u001b[34mINFO    \u001b[0m Collaborator one is sending task results for aggregated_model_validation, round \u001b[1;36m4\u001b[0m                                          \u001b]8;id=670381;file://C:\\Users\\BHSU\\AppData\\Local\\Programs\\Python\\Python39\\lib\\site-packages\\openfl\\component\\aggregator\\aggregator.py\u001b\\\u001b[2maggregator.py\u001b[0m\u001b]8;;\u001b\\\u001b[2m:\u001b[0m\u001b]8;id=430491;file://C:\\Users\\BHSU\\AppData\\Local\\Programs\\Python\\Python39\\lib\\site-packages\\openfl\\component\\aggregator\\aggregator.py#520\u001b\\\u001b[2m520\u001b[0m\u001b]8;;\u001b\\\n"
      ]
     },
     "metadata": {},
     "output_type": "display_data"
    },
    {
     "data": {
      "text/html": [
       "<pre style=\"white-space:pre;overflow-x:auto;line-height:normal;font-family:Menlo,'DejaVu Sans Mono',consolas,'Courier New',monospace\"><span style=\"color: #7fbfbf; text-decoration-color: #7fbfbf\">           </span>METRIC   Round <span style=\"color: #008080; text-decoration-color: #008080; font-weight: bold\">4</span>, collaborator validate_agg aggregated_model_validation result accuracy: <span style=\"color: #008080; text-decoration-color: #008080; font-weight: bold\">0.952333</span>                                   <a href=\"file://C:\\Users\\BHSU\\AppData\\Local\\Programs\\Python\\Python39\\lib\\site-packages\\openfl\\component\\aggregator\\aggregator.py\" target=\"_blank\"><span style=\"color: #7f7f7f; text-decoration-color: #7f7f7f\">aggregator.py</span></a><span style=\"color: #7f7f7f; text-decoration-color: #7f7f7f\">:</span><a href=\"file://C:\\Users\\BHSU\\AppData\\Local\\Programs\\Python\\Python39\\lib\\site-packages\\openfl\\component\\aggregator\\aggregator.py#559\" target=\"_blank\"><span style=\"color: #7f7f7f; text-decoration-color: #7f7f7f\">559</span></a>\n",
       "</pre>\n"
      ],
      "text/plain": [
       "\u001b[2;36m          \u001b[0m\u001b[2;36m \u001b[0mMETRIC   Round \u001b[1;36m4\u001b[0m, collaborator validate_agg aggregated_model_validation result accuracy: \u001b[1;36m0.952333\u001b[0m                                   \u001b]8;id=997937;file://C:\\Users\\BHSU\\AppData\\Local\\Programs\\Python\\Python39\\lib\\site-packages\\openfl\\component\\aggregator\\aggregator.py\u001b\\\u001b[2maggregator.py\u001b[0m\u001b]8;;\u001b\\\u001b[2m:\u001b[0m\u001b]8;id=776761;file://C:\\Users\\BHSU\\AppData\\Local\\Programs\\Python\\Python39\\lib\\site-packages\\openfl\\component\\aggregator\\aggregator.py#559\u001b\\\u001b[2m559\u001b[0m\u001b]8;;\u001b\\\n"
      ]
     },
     "metadata": {},
     "output_type": "display_data"
    },
    {
     "data": {
      "text/html": [
       "<pre style=\"white-space:pre;overflow-x:auto;line-height:normal;font-family:Menlo,'DejaVu Sans Mono',consolas,'Courier New',monospace\"><span style=\"color: #7fbfbf; text-decoration-color: #7fbfbf\">           </span><span style=\"color: #000080; text-decoration-color: #000080\">INFO    </span> Using TaskRunner subclassing API                                                                                         <a href=\"file://C:\\Users\\BHSU\\AppData\\Local\\Programs\\Python\\Python39\\lib\\site-packages\\openfl\\component\\collaborator\\collaborator.py\" target=\"_blank\"><span style=\"color: #7f7f7f; text-decoration-color: #7f7f7f\">collaborator.py</span></a><span style=\"color: #7f7f7f; text-decoration-color: #7f7f7f\">:</span><a href=\"file://C:\\Users\\BHSU\\AppData\\Local\\Programs\\Python\\Python39\\lib\\site-packages\\openfl\\component\\collaborator\\collaborator.py#253\" target=\"_blank\"><span style=\"color: #7f7f7f; text-decoration-color: #7f7f7f\">253</span></a>\n",
       "</pre>\n"
      ],
      "text/plain": [
       "\u001b[2;36m          \u001b[0m\u001b[2;36m \u001b[0m\u001b[34mINFO    \u001b[0m Using TaskRunner subclassing API                                                                                         \u001b]8;id=900277;file://C:\\Users\\BHSU\\AppData\\Local\\Programs\\Python\\Python39\\lib\\site-packages\\openfl\\component\\collaborator\\collaborator.py\u001b\\\u001b[2mcollaborator.py\u001b[0m\u001b]8;;\u001b\\\u001b[2m:\u001b[0m\u001b]8;id=389037;file://C:\\Users\\BHSU\\AppData\\Local\\Programs\\Python\\Python39\\lib\\site-packages\\openfl\\component\\collaborator\\collaborator.py#253\u001b\\\u001b[2m253\u001b[0m\u001b]8;;\u001b\\\n"
      ]
     },
     "metadata": {},
     "output_type": "display_data"
    },
    {
     "data": {
      "text/html": [
       "<pre style=\"white-space:pre;overflow-x:auto;line-height:normal;font-family:Menlo,'DejaVu Sans Mono',consolas,'Courier New',monospace\"><span style=\"color: #7fbfbf; text-decoration-color: #7fbfbf\">           </span><span style=\"color: #000080; text-decoration-color: #000080\">INFO    </span> Run <span style=\"color: #008080; text-decoration-color: #008080; font-weight: bold\">0</span> epoch of <span style=\"color: #008080; text-decoration-color: #008080; font-weight: bold\">4</span> round                                                                                                    <a href=\"file://C:\\Users\\BHSU\\AppData\\Local\\Programs\\Python\\Python39\\lib\\site-packages\\openfl\\federated\\task\\runner_keras.py\" target=\"_blank\"><span style=\"color: #7f7f7f; text-decoration-color: #7f7f7f\">runner_keras.py</span></a><span style=\"color: #7f7f7f; text-decoration-color: #7f7f7f\">:</span><a href=\"file://C:\\Users\\BHSU\\AppData\\Local\\Programs\\Python\\Python39\\lib\\site-packages\\openfl\\federated\\task\\runner_keras.py#83\" target=\"_blank\"><span style=\"color: #7f7f7f; text-decoration-color: #7f7f7f\">83</span></a>\n",
       "</pre>\n"
      ],
      "text/plain": [
       "\u001b[2;36m          \u001b[0m\u001b[2;36m \u001b[0m\u001b[34mINFO    \u001b[0m Run \u001b[1;36m0\u001b[0m epoch of \u001b[1;36m4\u001b[0m round                                                                                                    \u001b]8;id=866916;file://C:\\Users\\BHSU\\AppData\\Local\\Programs\\Python\\Python39\\lib\\site-packages\\openfl\\federated\\task\\runner_keras.py\u001b\\\u001b[2mrunner_keras.py\u001b[0m\u001b]8;;\u001b\\\u001b[2m:\u001b[0m\u001b]8;id=379154;file://C:\\Users\\BHSU\\AppData\\Local\\Programs\\Python\\Python39\\lib\\site-packages\\openfl\\federated\\task\\runner_keras.py#83\u001b\\\u001b[2m83\u001b[0m\u001b]8;;\u001b\\\n"
      ]
     },
     "metadata": {},
     "output_type": "display_data"
    },
    {
     "name": "stdout",
     "output_type": "stream",
     "text": [
      "657/657 [==============================] - 0s 649us/step - loss: 0.1678 - accuracy: 0.9484\n"
     ]
    },
    {
     "data": {
      "text/html": [
       "<pre style=\"white-space:pre;overflow-x:auto;line-height:normal;font-family:Menlo,'DejaVu Sans Mono',consolas,'Courier New',monospace\"><span style=\"color: #7fbfbf; text-decoration-color: #7fbfbf\">           </span>METRIC   Round <span style=\"color: #008080; text-decoration-color: #008080; font-weight: bold\">4</span>, collaborator one is sending metric for task train: loss        <span style=\"color: #008080; text-decoration-color: #008080; font-weight: bold\">0.167751</span>                                         <a href=\"file://C:\\Users\\BHSU\\AppData\\Local\\Programs\\Python\\Python39\\lib\\site-packages\\openfl\\component\\collaborator\\collaborator.py\" target=\"_blank\"><span style=\"color: #7f7f7f; text-decoration-color: #7f7f7f\">collaborator.py</span></a><span style=\"color: #7f7f7f; text-decoration-color: #7f7f7f\">:</span><a href=\"file://C:\\Users\\BHSU\\AppData\\Local\\Programs\\Python\\Python39\\lib\\site-packages\\openfl\\component\\collaborator\\collaborator.py#415\" target=\"_blank\"><span style=\"color: #7f7f7f; text-decoration-color: #7f7f7f\">415</span></a>\n",
       "</pre>\n"
      ],
      "text/plain": [
       "\u001b[2;36m          \u001b[0m\u001b[2;36m \u001b[0mMETRIC   Round \u001b[1;36m4\u001b[0m, collaborator one is sending metric for task train: loss        \u001b[1;36m0.167751\u001b[0m                                         \u001b]8;id=956998;file://C:\\Users\\BHSU\\AppData\\Local\\Programs\\Python\\Python39\\lib\\site-packages\\openfl\\component\\collaborator\\collaborator.py\u001b\\\u001b[2mcollaborator.py\u001b[0m\u001b]8;;\u001b\\\u001b[2m:\u001b[0m\u001b]8;id=300410;file://C:\\Users\\BHSU\\AppData\\Local\\Programs\\Python\\Python39\\lib\\site-packages\\openfl\\component\\collaborator\\collaborator.py#415\u001b\\\u001b[2m415\u001b[0m\u001b]8;;\u001b\\\n"
      ]
     },
     "metadata": {},
     "output_type": "display_data"
    },
    {
     "data": {
      "text/html": [
       "<pre style=\"white-space:pre;overflow-x:auto;line-height:normal;font-family:Menlo,'DejaVu Sans Mono',consolas,'Courier New',monospace\"><span style=\"color: #7fbfbf; text-decoration-color: #7fbfbf\">           </span><span style=\"color: #000080; text-decoration-color: #000080\">INFO    </span> Collaborator one is sending task results for train, round <span style=\"color: #008080; text-decoration-color: #008080; font-weight: bold\">4</span>                                                                <a href=\"file://C:\\Users\\BHSU\\AppData\\Local\\Programs\\Python\\Python39\\lib\\site-packages\\openfl\\component\\aggregator\\aggregator.py\" target=\"_blank\"><span style=\"color: #7f7f7f; text-decoration-color: #7f7f7f\">aggregator.py</span></a><span style=\"color: #7f7f7f; text-decoration-color: #7f7f7f\">:</span><a href=\"file://C:\\Users\\BHSU\\AppData\\Local\\Programs\\Python\\Python39\\lib\\site-packages\\openfl\\component\\aggregator\\aggregator.py#520\" target=\"_blank\"><span style=\"color: #7f7f7f; text-decoration-color: #7f7f7f\">520</span></a>\n",
       "</pre>\n"
      ],
      "text/plain": [
       "\u001b[2;36m          \u001b[0m\u001b[2;36m \u001b[0m\u001b[34mINFO    \u001b[0m Collaborator one is sending task results for train, round \u001b[1;36m4\u001b[0m                                                                \u001b]8;id=200428;file://C:\\Users\\BHSU\\AppData\\Local\\Programs\\Python\\Python39\\lib\\site-packages\\openfl\\component\\aggregator\\aggregator.py\u001b\\\u001b[2maggregator.py\u001b[0m\u001b]8;;\u001b\\\u001b[2m:\u001b[0m\u001b]8;id=499419;file://C:\\Users\\BHSU\\AppData\\Local\\Programs\\Python\\Python39\\lib\\site-packages\\openfl\\component\\aggregator\\aggregator.py#520\u001b\\\u001b[2m520\u001b[0m\u001b]8;;\u001b\\\n"
      ]
     },
     "metadata": {},
     "output_type": "display_data"
    },
    {
     "data": {
      "text/html": [
       "<pre style=\"white-space:pre;overflow-x:auto;line-height:normal;font-family:Menlo,'DejaVu Sans Mono',consolas,'Courier New',monospace\"><span style=\"color: #7fbfbf; text-decoration-color: #7fbfbf\">           </span>METRIC   Round <span style=\"color: #008080; text-decoration-color: #008080; font-weight: bold\">4</span>, collaborator one train result loss:    <span style=\"color: #008080; text-decoration-color: #008080; font-weight: bold\">0.167751</span>                                                                   <a href=\"file://C:\\Users\\BHSU\\AppData\\Local\\Programs\\Python\\Python39\\lib\\site-packages\\openfl\\component\\aggregator\\aggregator.py\" target=\"_blank\"><span style=\"color: #7f7f7f; text-decoration-color: #7f7f7f\">aggregator.py</span></a><span style=\"color: #7f7f7f; text-decoration-color: #7f7f7f\">:</span><a href=\"file://C:\\Users\\BHSU\\AppData\\Local\\Programs\\Python\\Python39\\lib\\site-packages\\openfl\\component\\aggregator\\aggregator.py#559\" target=\"_blank\"><span style=\"color: #7f7f7f; text-decoration-color: #7f7f7f\">559</span></a>\n",
       "</pre>\n"
      ],
      "text/plain": [
       "\u001b[2;36m          \u001b[0m\u001b[2;36m \u001b[0mMETRIC   Round \u001b[1;36m4\u001b[0m, collaborator one train result loss:    \u001b[1;36m0.167751\u001b[0m                                                                   \u001b]8;id=225215;file://C:\\Users\\BHSU\\AppData\\Local\\Programs\\Python\\Python39\\lib\\site-packages\\openfl\\component\\aggregator\\aggregator.py\u001b\\\u001b[2maggregator.py\u001b[0m\u001b]8;;\u001b\\\u001b[2m:\u001b[0m\u001b]8;id=636561;file://C:\\Users\\BHSU\\AppData\\Local\\Programs\\Python\\Python39\\lib\\site-packages\\openfl\\component\\aggregator\\aggregator.py#559\u001b\\\u001b[2m559\u001b[0m\u001b]8;;\u001b\\\n"
      ]
     },
     "metadata": {},
     "output_type": "display_data"
    },
    {
     "data": {
      "text/html": [
       "<pre style=\"white-space:pre;overflow-x:auto;line-height:normal;font-family:Menlo,'DejaVu Sans Mono',consolas,'Courier New',monospace\"><span style=\"color: #7fbfbf; text-decoration-color: #7fbfbf\">           </span><span style=\"color: #000080; text-decoration-color: #000080\">INFO    </span> Using TaskRunner subclassing API                                                                                         <a href=\"file://C:\\Users\\BHSU\\AppData\\Local\\Programs\\Python\\Python39\\lib\\site-packages\\openfl\\component\\collaborator\\collaborator.py\" target=\"_blank\"><span style=\"color: #7f7f7f; text-decoration-color: #7f7f7f\">collaborator.py</span></a><span style=\"color: #7f7f7f; text-decoration-color: #7f7f7f\">:</span><a href=\"file://C:\\Users\\BHSU\\AppData\\Local\\Programs\\Python\\Python39\\lib\\site-packages\\openfl\\component\\collaborator\\collaborator.py#253\" target=\"_blank\"><span style=\"color: #7f7f7f; text-decoration-color: #7f7f7f\">253</span></a>\n",
       "</pre>\n"
      ],
      "text/plain": [
       "\u001b[2;36m          \u001b[0m\u001b[2;36m \u001b[0m\u001b[34mINFO    \u001b[0m Using TaskRunner subclassing API                                                                                         \u001b]8;id=175664;file://C:\\Users\\BHSU\\AppData\\Local\\Programs\\Python\\Python39\\lib\\site-packages\\openfl\\component\\collaborator\\collaborator.py\u001b\\\u001b[2mcollaborator.py\u001b[0m\u001b]8;;\u001b\\\u001b[2m:\u001b[0m\u001b]8;id=169787;file://C:\\Users\\BHSU\\AppData\\Local\\Programs\\Python\\Python39\\lib\\site-packages\\openfl\\component\\collaborator\\collaborator.py#253\u001b\\\u001b[2m253\u001b[0m\u001b]8;;\u001b\\\n"
      ]
     },
     "metadata": {},
     "output_type": "display_data"
    },
    {
     "name": "stdout",
     "output_type": "stream",
     "text": [
      "282/282 [==============================] - 0s 512us/step - loss: 0.1656 - accuracy: 0.9491\n"
     ]
    },
    {
     "data": {
      "text/html": [
       "<pre style=\"white-space:pre;overflow-x:auto;line-height:normal;font-family:Menlo,'DejaVu Sans Mono',consolas,'Courier New',monospace\"><span style=\"color: #7fbfbf; text-decoration-color: #7fbfbf\">           </span>METRIC   Round <span style=\"color: #008080; text-decoration-color: #008080; font-weight: bold\">4</span>, collaborator one is sending metric for task locally_tuned_model_validation: accuracy   <span style=\"color: #008080; text-decoration-color: #008080; font-weight: bold\">0.949111</span>                 <a href=\"file://C:\\Users\\BHSU\\AppData\\Local\\Programs\\Python\\Python39\\lib\\site-packages\\openfl\\component\\collaborator\\collaborator.py\" target=\"_blank\"><span style=\"color: #7f7f7f; text-decoration-color: #7f7f7f\">collaborator.py</span></a><span style=\"color: #7f7f7f; text-decoration-color: #7f7f7f\">:</span><a href=\"file://C:\\Users\\BHSU\\AppData\\Local\\Programs\\Python\\Python39\\lib\\site-packages\\openfl\\component\\collaborator\\collaborator.py#415\" target=\"_blank\"><span style=\"color: #7f7f7f; text-decoration-color: #7f7f7f\">415</span></a>\n",
       "</pre>\n"
      ],
      "text/plain": [
       "\u001b[2;36m          \u001b[0m\u001b[2;36m \u001b[0mMETRIC   Round \u001b[1;36m4\u001b[0m, collaborator one is sending metric for task locally_tuned_model_validation: accuracy   \u001b[1;36m0.949111\u001b[0m                 \u001b]8;id=620969;file://C:\\Users\\BHSU\\AppData\\Local\\Programs\\Python\\Python39\\lib\\site-packages\\openfl\\component\\collaborator\\collaborator.py\u001b\\\u001b[2mcollaborator.py\u001b[0m\u001b]8;;\u001b\\\u001b[2m:\u001b[0m\u001b]8;id=421918;file://C:\\Users\\BHSU\\AppData\\Local\\Programs\\Python\\Python39\\lib\\site-packages\\openfl\\component\\collaborator\\collaborator.py#415\u001b\\\u001b[2m415\u001b[0m\u001b]8;;\u001b\\\n"
      ]
     },
     "metadata": {},
     "output_type": "display_data"
    },
    {
     "data": {
      "text/html": [
       "<pre style=\"white-space:pre;overflow-x:auto;line-height:normal;font-family:Menlo,'DejaVu Sans Mono',consolas,'Courier New',monospace\"><span style=\"color: #7fbfbf; text-decoration-color: #7fbfbf\">           </span><span style=\"color: #000080; text-decoration-color: #000080\">INFO    </span> Collaborator one is sending task results for locally_tuned_model_validation, round <span style=\"color: #008080; text-decoration-color: #008080; font-weight: bold\">4</span>                                       <a href=\"file://C:\\Users\\BHSU\\AppData\\Local\\Programs\\Python\\Python39\\lib\\site-packages\\openfl\\component\\aggregator\\aggregator.py\" target=\"_blank\"><span style=\"color: #7f7f7f; text-decoration-color: #7f7f7f\">aggregator.py</span></a><span style=\"color: #7f7f7f; text-decoration-color: #7f7f7f\">:</span><a href=\"file://C:\\Users\\BHSU\\AppData\\Local\\Programs\\Python\\Python39\\lib\\site-packages\\openfl\\component\\aggregator\\aggregator.py#520\" target=\"_blank\"><span style=\"color: #7f7f7f; text-decoration-color: #7f7f7f\">520</span></a>\n",
       "</pre>\n"
      ],
      "text/plain": [
       "\u001b[2;36m          \u001b[0m\u001b[2;36m \u001b[0m\u001b[34mINFO    \u001b[0m Collaborator one is sending task results for locally_tuned_model_validation, round \u001b[1;36m4\u001b[0m                                       \u001b]8;id=701584;file://C:\\Users\\BHSU\\AppData\\Local\\Programs\\Python\\Python39\\lib\\site-packages\\openfl\\component\\aggregator\\aggregator.py\u001b\\\u001b[2maggregator.py\u001b[0m\u001b]8;;\u001b\\\u001b[2m:\u001b[0m\u001b]8;id=222094;file://C:\\Users\\BHSU\\AppData\\Local\\Programs\\Python\\Python39\\lib\\site-packages\\openfl\\component\\aggregator\\aggregator.py#520\u001b\\\u001b[2m520\u001b[0m\u001b]8;;\u001b\\\n"
      ]
     },
     "metadata": {},
     "output_type": "display_data"
    },
    {
     "data": {
      "text/html": [
       "<pre style=\"white-space:pre;overflow-x:auto;line-height:normal;font-family:Menlo,'DejaVu Sans Mono',consolas,'Courier New',monospace\"><span style=\"color: #7fbfbf; text-decoration-color: #7fbfbf\">           </span>METRIC   Round <span style=\"color: #008080; text-decoration-color: #008080; font-weight: bold\">4</span>, collaborator validate_local locally_tuned_model_validation result accuracy:    <span style=\"color: #008080; text-decoration-color: #008080; font-weight: bold\">0.949111</span>                           <a href=\"file://C:\\Users\\BHSU\\AppData\\Local\\Programs\\Python\\Python39\\lib\\site-packages\\openfl\\component\\aggregator\\aggregator.py\" target=\"_blank\"><span style=\"color: #7f7f7f; text-decoration-color: #7f7f7f\">aggregator.py</span></a><span style=\"color: #7f7f7f; text-decoration-color: #7f7f7f\">:</span><a href=\"file://C:\\Users\\BHSU\\AppData\\Local\\Programs\\Python\\Python39\\lib\\site-packages\\openfl\\component\\aggregator\\aggregator.py#559\" target=\"_blank\"><span style=\"color: #7f7f7f; text-decoration-color: #7f7f7f\">559</span></a>\n",
       "</pre>\n"
      ],
      "text/plain": [
       "\u001b[2;36m          \u001b[0m\u001b[2;36m \u001b[0mMETRIC   Round \u001b[1;36m4\u001b[0m, collaborator validate_local locally_tuned_model_validation result accuracy:    \u001b[1;36m0.949111\u001b[0m                           \u001b]8;id=932167;file://C:\\Users\\BHSU\\AppData\\Local\\Programs\\Python\\Python39\\lib\\site-packages\\openfl\\component\\aggregator\\aggregator.py\u001b\\\u001b[2maggregator.py\u001b[0m\u001b]8;;\u001b\\\u001b[2m:\u001b[0m\u001b]8;id=355407;file://C:\\Users\\BHSU\\AppData\\Local\\Programs\\Python\\Python39\\lib\\site-packages\\openfl\\component\\aggregator\\aggregator.py#559\u001b\\\u001b[2m559\u001b[0m\u001b]8;;\u001b\\\n"
      ]
     },
     "metadata": {},
     "output_type": "display_data"
    },
    {
     "data": {
      "text/html": [
       "<pre style=\"white-space:pre;overflow-x:auto;line-height:normal;font-family:Menlo,'DejaVu Sans Mono',consolas,'Courier New',monospace\"><span style=\"color: #7fbfbf; text-decoration-color: #7fbfbf\">[09:22:43] </span><span style=\"color: #000080; text-decoration-color: #000080\">INFO    </span> All tasks completed on one for round <span style=\"color: #008080; text-decoration-color: #008080; font-weight: bold\">4</span><span style=\"color: #808000; text-decoration-color: #808000\">...</span>                                                                                <a href=\"file://C:\\Users\\BHSU\\AppData\\Local\\Programs\\Python\\Python39\\lib\\site-packages\\openfl\\component\\collaborator\\collaborator.py\" target=\"_blank\"><span style=\"color: #7f7f7f; text-decoration-color: #7f7f7f\">collaborator.py</span></a><span style=\"color: #7f7f7f; text-decoration-color: #7f7f7f\">:</span><a href=\"file://C:\\Users\\BHSU\\AppData\\Local\\Programs\\Python\\Python39\\lib\\site-packages\\openfl\\component\\collaborator\\collaborator.py#171\" target=\"_blank\"><span style=\"color: #7f7f7f; text-decoration-color: #7f7f7f\">171</span></a>\n",
       "</pre>\n"
      ],
      "text/plain": [
       "\u001b[2;36m[09:22:43]\u001b[0m\u001b[2;36m \u001b[0m\u001b[34mINFO    \u001b[0m All tasks completed on one for round \u001b[1;36m4\u001b[0m\u001b[33m...\u001b[0m                                                                                \u001b]8;id=519882;file://C:\\Users\\BHSU\\AppData\\Local\\Programs\\Python\\Python39\\lib\\site-packages\\openfl\\component\\collaborator\\collaborator.py\u001b\\\u001b[2mcollaborator.py\u001b[0m\u001b]8;;\u001b\\\u001b[2m:\u001b[0m\u001b]8;id=603247;file://C:\\Users\\BHSU\\AppData\\Local\\Programs\\Python\\Python39\\lib\\site-packages\\openfl\\component\\collaborator\\collaborator.py#171\u001b\\\u001b[2m171\u001b[0m\u001b]8;;\u001b\\\n"
      ]
     },
     "metadata": {},
     "output_type": "display_data"
    },
    {
     "data": {
      "text/html": [
       "<pre style=\"white-space:pre;overflow-x:auto;line-height:normal;font-family:Menlo,'DejaVu Sans Mono',consolas,'Courier New',monospace\"><span style=\"color: #7fbfbf; text-decoration-color: #7fbfbf\">           </span><span style=\"color: #000080; text-decoration-color: #000080\">INFO    </span> Waiting for tasks<span style=\"color: #808000; text-decoration-color: #808000\">...</span>                                                                                                     <a href=\"file://C:\\Users\\BHSU\\AppData\\Local\\Programs\\Python\\Python39\\lib\\site-packages\\openfl\\component\\collaborator\\collaborator.py\" target=\"_blank\"><span style=\"color: #7f7f7f; text-decoration-color: #7f7f7f\">collaborator.py</span></a><span style=\"color: #7f7f7f; text-decoration-color: #7f7f7f\">:</span><a href=\"file://C:\\Users\\BHSU\\AppData\\Local\\Programs\\Python\\Python39\\lib\\site-packages\\openfl\\component\\collaborator\\collaborator.py#178\" target=\"_blank\"><span style=\"color: #7f7f7f; text-decoration-color: #7f7f7f\">178</span></a>\n",
       "</pre>\n"
      ],
      "text/plain": [
       "\u001b[2;36m          \u001b[0m\u001b[2;36m \u001b[0m\u001b[34mINFO    \u001b[0m Waiting for tasks\u001b[33m...\u001b[0m                                                                                                     \u001b]8;id=68152;file://C:\\Users\\BHSU\\AppData\\Local\\Programs\\Python\\Python39\\lib\\site-packages\\openfl\\component\\collaborator\\collaborator.py\u001b\\\u001b[2mcollaborator.py\u001b[0m\u001b]8;;\u001b\\\u001b[2m:\u001b[0m\u001b]8;id=670870;file://C:\\Users\\BHSU\\AppData\\Local\\Programs\\Python\\Python39\\lib\\site-packages\\openfl\\component\\collaborator\\collaborator.py#178\u001b\\\u001b[2m178\u001b[0m\u001b]8;;\u001b\\\n"
      ]
     },
     "metadata": {},
     "output_type": "display_data"
    },
    {
     "data": {
      "text/html": [
       "<pre style=\"white-space:pre;overflow-x:auto;line-height:normal;font-family:Menlo,'DejaVu Sans Mono',consolas,'Courier New',monospace\"><span style=\"color: #7fbfbf; text-decoration-color: #7fbfbf\">           </span><span style=\"color: #000080; text-decoration-color: #000080\">INFO    </span> Sending tasks to collaborator two for round <span style=\"color: #008080; text-decoration-color: #008080; font-weight: bold\">4</span>                                                                              <a href=\"file://C:\\Users\\BHSU\\AppData\\Local\\Programs\\Python\\Python39\\lib\\site-packages\\openfl\\component\\aggregator\\aggregator.py\" target=\"_blank\"><span style=\"color: #7f7f7f; text-decoration-color: #7f7f7f\">aggregator.py</span></a><span style=\"color: #7f7f7f; text-decoration-color: #7f7f7f\">:</span><a href=\"file://C:\\Users\\BHSU\\AppData\\Local\\Programs\\Python\\Python39\\lib\\site-packages\\openfl\\component\\aggregator\\aggregator.py#329\" target=\"_blank\"><span style=\"color: #7f7f7f; text-decoration-color: #7f7f7f\">329</span></a>\n",
       "</pre>\n"
      ],
      "text/plain": [
       "\u001b[2;36m          \u001b[0m\u001b[2;36m \u001b[0m\u001b[34mINFO    \u001b[0m Sending tasks to collaborator two for round \u001b[1;36m4\u001b[0m                                                                              \u001b]8;id=545755;file://C:\\Users\\BHSU\\AppData\\Local\\Programs\\Python\\Python39\\lib\\site-packages\\openfl\\component\\aggregator\\aggregator.py\u001b\\\u001b[2maggregator.py\u001b[0m\u001b]8;;\u001b\\\u001b[2m:\u001b[0m\u001b]8;id=359802;file://C:\\Users\\BHSU\\AppData\\Local\\Programs\\Python\\Python39\\lib\\site-packages\\openfl\\component\\aggregator\\aggregator.py#329\u001b\\\u001b[2m329\u001b[0m\u001b]8;;\u001b\\\n"
      ]
     },
     "metadata": {},
     "output_type": "display_data"
    },
    {
     "data": {
      "text/html": [
       "<pre style=\"white-space:pre;overflow-x:auto;line-height:normal;font-family:Menlo,'DejaVu Sans Mono',consolas,'Courier New',monospace\"><span style=\"color: #7fbfbf; text-decoration-color: #7fbfbf\">           </span><span style=\"color: #000080; text-decoration-color: #000080\">INFO    </span> Received the following tasks: <span style=\"font-weight: bold\">[</span><span style=\"color: #008000; text-decoration-color: #008000\">'aggregated_model_validation'</span>, <span style=\"color: #008000; text-decoration-color: #008000\">'train'</span>, <span style=\"color: #008000; text-decoration-color: #008000\">'locally_tuned_model_validation'</span><span style=\"font-weight: bold\">]</span>                 <a href=\"file://C:\\Users\\BHSU\\AppData\\Local\\Programs\\Python\\Python39\\lib\\site-packages\\openfl\\component\\collaborator\\collaborator.py\" target=\"_blank\"><span style=\"color: #7f7f7f; text-decoration-color: #7f7f7f\">collaborator.py</span></a><span style=\"color: #7f7f7f; text-decoration-color: #7f7f7f\">:</span><a href=\"file://C:\\Users\\BHSU\\AppData\\Local\\Programs\\Python\\Python39\\lib\\site-packages\\openfl\\component\\collaborator\\collaborator.py#168\" target=\"_blank\"><span style=\"color: #7f7f7f; text-decoration-color: #7f7f7f\">168</span></a>\n",
       "</pre>\n"
      ],
      "text/plain": [
       "\u001b[2;36m          \u001b[0m\u001b[2;36m \u001b[0m\u001b[34mINFO    \u001b[0m Received the following tasks: \u001b[1m[\u001b[0m\u001b[32m'aggregated_model_validation'\u001b[0m, \u001b[32m'train'\u001b[0m, \u001b[32m'locally_tuned_model_validation'\u001b[0m\u001b[1m]\u001b[0m                 \u001b]8;id=674580;file://C:\\Users\\BHSU\\AppData\\Local\\Programs\\Python\\Python39\\lib\\site-packages\\openfl\\component\\collaborator\\collaborator.py\u001b\\\u001b[2mcollaborator.py\u001b[0m\u001b]8;;\u001b\\\u001b[2m:\u001b[0m\u001b]8;id=753192;file://C:\\Users\\BHSU\\AppData\\Local\\Programs\\Python\\Python39\\lib\\site-packages\\openfl\\component\\collaborator\\collaborator.py#168\u001b\\\u001b[2m168\u001b[0m\u001b]8;;\u001b\\\n"
      ]
     },
     "metadata": {},
     "output_type": "display_data"
    },
    {
     "data": {
      "text/html": [
       "<pre style=\"white-space:pre;overflow-x:auto;line-height:normal;font-family:Menlo,'DejaVu Sans Mono',consolas,'Courier New',monospace\"><span style=\"color: #7fbfbf; text-decoration-color: #7fbfbf\">           </span><span style=\"color: #000080; text-decoration-color: #000080\">INFO    </span> Using TaskRunner subclassing API                                                                                         <a href=\"file://C:\\Users\\BHSU\\AppData\\Local\\Programs\\Python\\Python39\\lib\\site-packages\\openfl\\component\\collaborator\\collaborator.py\" target=\"_blank\"><span style=\"color: #7f7f7f; text-decoration-color: #7f7f7f\">collaborator.py</span></a><span style=\"color: #7f7f7f; text-decoration-color: #7f7f7f\">:</span><a href=\"file://C:\\Users\\BHSU\\AppData\\Local\\Programs\\Python\\Python39\\lib\\site-packages\\openfl\\component\\collaborator\\collaborator.py#253\" target=\"_blank\"><span style=\"color: #7f7f7f; text-decoration-color: #7f7f7f\">253</span></a>\n",
       "</pre>\n"
      ],
      "text/plain": [
       "\u001b[2;36m          \u001b[0m\u001b[2;36m \u001b[0m\u001b[34mINFO    \u001b[0m Using TaskRunner subclassing API                                                                                         \u001b]8;id=415107;file://C:\\Users\\BHSU\\AppData\\Local\\Programs\\Python\\Python39\\lib\\site-packages\\openfl\\component\\collaborator\\collaborator.py\u001b\\\u001b[2mcollaborator.py\u001b[0m\u001b]8;;\u001b\\\u001b[2m:\u001b[0m\u001b]8;id=394110;file://C:\\Users\\BHSU\\AppData\\Local\\Programs\\Python\\Python39\\lib\\site-packages\\openfl\\component\\collaborator\\collaborator.py#253\u001b\\\u001b[2m253\u001b[0m\u001b]8;;\u001b\\\n"
      ]
     },
     "metadata": {},
     "output_type": "display_data"
    },
    {
     "name": "stdout",
     "output_type": "stream",
     "text": [
      "282/282 [==============================] - 0s 523us/step - loss: 0.1764 - accuracy: 0.9471\n"
     ]
    },
    {
     "data": {
      "text/html": [
       "<pre style=\"white-space:pre;overflow-x:auto;line-height:normal;font-family:Menlo,'DejaVu Sans Mono',consolas,'Courier New',monospace\"><span style=\"color: #7fbfbf; text-decoration-color: #7fbfbf\">           </span>METRIC   Round <span style=\"color: #008080; text-decoration-color: #008080; font-weight: bold\">4</span>, collaborator two is sending metric for task aggregated_model_validation: accuracy      <span style=\"color: #008080; text-decoration-color: #008080; font-weight: bold\">0.947111</span>                 <a href=\"file://C:\\Users\\BHSU\\AppData\\Local\\Programs\\Python\\Python39\\lib\\site-packages\\openfl\\component\\collaborator\\collaborator.py\" target=\"_blank\"><span style=\"color: #7f7f7f; text-decoration-color: #7f7f7f\">collaborator.py</span></a><span style=\"color: #7f7f7f; text-decoration-color: #7f7f7f\">:</span><a href=\"file://C:\\Users\\BHSU\\AppData\\Local\\Programs\\Python\\Python39\\lib\\site-packages\\openfl\\component\\collaborator\\collaborator.py#415\" target=\"_blank\"><span style=\"color: #7f7f7f; text-decoration-color: #7f7f7f\">415</span></a>\n",
       "</pre>\n"
      ],
      "text/plain": [
       "\u001b[2;36m          \u001b[0m\u001b[2;36m \u001b[0mMETRIC   Round \u001b[1;36m4\u001b[0m, collaborator two is sending metric for task aggregated_model_validation: accuracy      \u001b[1;36m0.947111\u001b[0m                 \u001b]8;id=844165;file://C:\\Users\\BHSU\\AppData\\Local\\Programs\\Python\\Python39\\lib\\site-packages\\openfl\\component\\collaborator\\collaborator.py\u001b\\\u001b[2mcollaborator.py\u001b[0m\u001b]8;;\u001b\\\u001b[2m:\u001b[0m\u001b]8;id=562845;file://C:\\Users\\BHSU\\AppData\\Local\\Programs\\Python\\Python39\\lib\\site-packages\\openfl\\component\\collaborator\\collaborator.py#415\u001b\\\u001b[2m415\u001b[0m\u001b]8;;\u001b\\\n"
      ]
     },
     "metadata": {},
     "output_type": "display_data"
    },
    {
     "data": {
      "text/html": [
       "<pre style=\"white-space:pre;overflow-x:auto;line-height:normal;font-family:Menlo,'DejaVu Sans Mono',consolas,'Courier New',monospace\"><span style=\"color: #7fbfbf; text-decoration-color: #7fbfbf\">           </span><span style=\"color: #000080; text-decoration-color: #000080\">INFO    </span> Collaborator two is sending task results for aggregated_model_validation, round <span style=\"color: #008080; text-decoration-color: #008080; font-weight: bold\">4</span>                                          <a href=\"file://C:\\Users\\BHSU\\AppData\\Local\\Programs\\Python\\Python39\\lib\\site-packages\\openfl\\component\\aggregator\\aggregator.py\" target=\"_blank\"><span style=\"color: #7f7f7f; text-decoration-color: #7f7f7f\">aggregator.py</span></a><span style=\"color: #7f7f7f; text-decoration-color: #7f7f7f\">:</span><a href=\"file://C:\\Users\\BHSU\\AppData\\Local\\Programs\\Python\\Python39\\lib\\site-packages\\openfl\\component\\aggregator\\aggregator.py#520\" target=\"_blank\"><span style=\"color: #7f7f7f; text-decoration-color: #7f7f7f\">520</span></a>\n",
       "</pre>\n"
      ],
      "text/plain": [
       "\u001b[2;36m          \u001b[0m\u001b[2;36m \u001b[0m\u001b[34mINFO    \u001b[0m Collaborator two is sending task results for aggregated_model_validation, round \u001b[1;36m4\u001b[0m                                          \u001b]8;id=217614;file://C:\\Users\\BHSU\\AppData\\Local\\Programs\\Python\\Python39\\lib\\site-packages\\openfl\\component\\aggregator\\aggregator.py\u001b\\\u001b[2maggregator.py\u001b[0m\u001b]8;;\u001b\\\u001b[2m:\u001b[0m\u001b]8;id=952153;file://C:\\Users\\BHSU\\AppData\\Local\\Programs\\Python\\Python39\\lib\\site-packages\\openfl\\component\\aggregator\\aggregator.py#520\u001b\\\u001b[2m520\u001b[0m\u001b]8;;\u001b\\\n"
      ]
     },
     "metadata": {},
     "output_type": "display_data"
    },
    {
     "data": {
      "text/html": [
       "<pre style=\"white-space:pre;overflow-x:auto;line-height:normal;font-family:Menlo,'DejaVu Sans Mono',consolas,'Courier New',monospace\"><span style=\"color: #7fbfbf; text-decoration-color: #7fbfbf\">           </span>METRIC   Round <span style=\"color: #008080; text-decoration-color: #008080; font-weight: bold\">4</span>, collaborator validate_agg aggregated_model_validation result accuracy: <span style=\"color: #008080; text-decoration-color: #008080; font-weight: bold\">0.947111</span>                                   <a href=\"file://C:\\Users\\BHSU\\AppData\\Local\\Programs\\Python\\Python39\\lib\\site-packages\\openfl\\component\\aggregator\\aggregator.py\" target=\"_blank\"><span style=\"color: #7f7f7f; text-decoration-color: #7f7f7f\">aggregator.py</span></a><span style=\"color: #7f7f7f; text-decoration-color: #7f7f7f\">:</span><a href=\"file://C:\\Users\\BHSU\\AppData\\Local\\Programs\\Python\\Python39\\lib\\site-packages\\openfl\\component\\aggregator\\aggregator.py#559\" target=\"_blank\"><span style=\"color: #7f7f7f; text-decoration-color: #7f7f7f\">559</span></a>\n",
       "</pre>\n"
      ],
      "text/plain": [
       "\u001b[2;36m          \u001b[0m\u001b[2;36m \u001b[0mMETRIC   Round \u001b[1;36m4\u001b[0m, collaborator validate_agg aggregated_model_validation result accuracy: \u001b[1;36m0.947111\u001b[0m                                   \u001b]8;id=425570;file://C:\\Users\\BHSU\\AppData\\Local\\Programs\\Python\\Python39\\lib\\site-packages\\openfl\\component\\aggregator\\aggregator.py\u001b\\\u001b[2maggregator.py\u001b[0m\u001b]8;;\u001b\\\u001b[2m:\u001b[0m\u001b]8;id=111435;file://C:\\Users\\BHSU\\AppData\\Local\\Programs\\Python\\Python39\\lib\\site-packages\\openfl\\component\\aggregator\\aggregator.py#559\u001b\\\u001b[2m559\u001b[0m\u001b]8;;\u001b\\\n"
      ]
     },
     "metadata": {},
     "output_type": "display_data"
    },
    {
     "data": {
      "text/html": [
       "<pre style=\"white-space:pre;overflow-x:auto;line-height:normal;font-family:Menlo,'DejaVu Sans Mono',consolas,'Courier New',monospace\"><span style=\"color: #7fbfbf; text-decoration-color: #7fbfbf\">           </span><span style=\"color: #000080; text-decoration-color: #000080\">INFO    </span> Using TaskRunner subclassing API                                                                                         <a href=\"file://C:\\Users\\BHSU\\AppData\\Local\\Programs\\Python\\Python39\\lib\\site-packages\\openfl\\component\\collaborator\\collaborator.py\" target=\"_blank\"><span style=\"color: #7f7f7f; text-decoration-color: #7f7f7f\">collaborator.py</span></a><span style=\"color: #7f7f7f; text-decoration-color: #7f7f7f\">:</span><a href=\"file://C:\\Users\\BHSU\\AppData\\Local\\Programs\\Python\\Python39\\lib\\site-packages\\openfl\\component\\collaborator\\collaborator.py#253\" target=\"_blank\"><span style=\"color: #7f7f7f; text-decoration-color: #7f7f7f\">253</span></a>\n",
       "</pre>\n"
      ],
      "text/plain": [
       "\u001b[2;36m          \u001b[0m\u001b[2;36m \u001b[0m\u001b[34mINFO    \u001b[0m Using TaskRunner subclassing API                                                                                         \u001b]8;id=454092;file://C:\\Users\\BHSU\\AppData\\Local\\Programs\\Python\\Python39\\lib\\site-packages\\openfl\\component\\collaborator\\collaborator.py\u001b\\\u001b[2mcollaborator.py\u001b[0m\u001b]8;;\u001b\\\u001b[2m:\u001b[0m\u001b]8;id=882388;file://C:\\Users\\BHSU\\AppData\\Local\\Programs\\Python\\Python39\\lib\\site-packages\\openfl\\component\\collaborator\\collaborator.py#253\u001b\\\u001b[2m253\u001b[0m\u001b]8;;\u001b\\\n"
      ]
     },
     "metadata": {},
     "output_type": "display_data"
    },
    {
     "data": {
      "text/html": [
       "<pre style=\"white-space:pre;overflow-x:auto;line-height:normal;font-family:Menlo,'DejaVu Sans Mono',consolas,'Courier New',monospace\"><span style=\"color: #7fbfbf; text-decoration-color: #7fbfbf\">           </span><span style=\"color: #000080; text-decoration-color: #000080\">INFO    </span> Run <span style=\"color: #008080; text-decoration-color: #008080; font-weight: bold\">0</span> epoch of <span style=\"color: #008080; text-decoration-color: #008080; font-weight: bold\">4</span> round                                                                                                    <a href=\"file://C:\\Users\\BHSU\\AppData\\Local\\Programs\\Python\\Python39\\lib\\site-packages\\openfl\\federated\\task\\runner_keras.py\" target=\"_blank\"><span style=\"color: #7f7f7f; text-decoration-color: #7f7f7f\">runner_keras.py</span></a><span style=\"color: #7f7f7f; text-decoration-color: #7f7f7f\">:</span><a href=\"file://C:\\Users\\BHSU\\AppData\\Local\\Programs\\Python\\Python39\\lib\\site-packages\\openfl\\federated\\task\\runner_keras.py#83\" target=\"_blank\"><span style=\"color: #7f7f7f; text-decoration-color: #7f7f7f\">83</span></a>\n",
       "</pre>\n"
      ],
      "text/plain": [
       "\u001b[2;36m          \u001b[0m\u001b[2;36m \u001b[0m\u001b[34mINFO    \u001b[0m Run \u001b[1;36m0\u001b[0m epoch of \u001b[1;36m4\u001b[0m round                                                                                                    \u001b]8;id=11682;file://C:\\Users\\BHSU\\AppData\\Local\\Programs\\Python\\Python39\\lib\\site-packages\\openfl\\federated\\task\\runner_keras.py\u001b\\\u001b[2mrunner_keras.py\u001b[0m\u001b]8;;\u001b\\\u001b[2m:\u001b[0m\u001b]8;id=369751;file://C:\\Users\\BHSU\\AppData\\Local\\Programs\\Python\\Python39\\lib\\site-packages\\openfl\\federated\\task\\runner_keras.py#83\u001b\\\u001b[2m83\u001b[0m\u001b]8;;\u001b\\\n"
      ]
     },
     "metadata": {},
     "output_type": "display_data"
    },
    {
     "name": "stdout",
     "output_type": "stream",
     "text": [
      "657/657 [==============================] - 0s 665us/step - loss: 0.1605 - accuracy: 0.9511\n"
     ]
    },
    {
     "data": {
      "text/html": [
       "<pre style=\"white-space:pre;overflow-x:auto;line-height:normal;font-family:Menlo,'DejaVu Sans Mono',consolas,'Courier New',monospace\"><span style=\"color: #7fbfbf; text-decoration-color: #7fbfbf\">           </span>METRIC   Round <span style=\"color: #008080; text-decoration-color: #008080; font-weight: bold\">4</span>, collaborator two is sending metric for task train: loss        <span style=\"color: #008080; text-decoration-color: #008080; font-weight: bold\">0.160450</span>                                         <a href=\"file://C:\\Users\\BHSU\\AppData\\Local\\Programs\\Python\\Python39\\lib\\site-packages\\openfl\\component\\collaborator\\collaborator.py\" target=\"_blank\"><span style=\"color: #7f7f7f; text-decoration-color: #7f7f7f\">collaborator.py</span></a><span style=\"color: #7f7f7f; text-decoration-color: #7f7f7f\">:</span><a href=\"file://C:\\Users\\BHSU\\AppData\\Local\\Programs\\Python\\Python39\\lib\\site-packages\\openfl\\component\\collaborator\\collaborator.py#415\" target=\"_blank\"><span style=\"color: #7f7f7f; text-decoration-color: #7f7f7f\">415</span></a>\n",
       "</pre>\n"
      ],
      "text/plain": [
       "\u001b[2;36m          \u001b[0m\u001b[2;36m \u001b[0mMETRIC   Round \u001b[1;36m4\u001b[0m, collaborator two is sending metric for task train: loss        \u001b[1;36m0.160450\u001b[0m                                         \u001b]8;id=164124;file://C:\\Users\\BHSU\\AppData\\Local\\Programs\\Python\\Python39\\lib\\site-packages\\openfl\\component\\collaborator\\collaborator.py\u001b\\\u001b[2mcollaborator.py\u001b[0m\u001b]8;;\u001b\\\u001b[2m:\u001b[0m\u001b]8;id=595884;file://C:\\Users\\BHSU\\AppData\\Local\\Programs\\Python\\Python39\\lib\\site-packages\\openfl\\component\\collaborator\\collaborator.py#415\u001b\\\u001b[2m415\u001b[0m\u001b]8;;\u001b\\\n"
      ]
     },
     "metadata": {},
     "output_type": "display_data"
    },
    {
     "data": {
      "text/html": [
       "<pre style=\"white-space:pre;overflow-x:auto;line-height:normal;font-family:Menlo,'DejaVu Sans Mono',consolas,'Courier New',monospace\"><span style=\"color: #7fbfbf; text-decoration-color: #7fbfbf\">           </span><span style=\"color: #000080; text-decoration-color: #000080\">INFO    </span> Collaborator two is sending task results for train, round <span style=\"color: #008080; text-decoration-color: #008080; font-weight: bold\">4</span>                                                                <a href=\"file://C:\\Users\\BHSU\\AppData\\Local\\Programs\\Python\\Python39\\lib\\site-packages\\openfl\\component\\aggregator\\aggregator.py\" target=\"_blank\"><span style=\"color: #7f7f7f; text-decoration-color: #7f7f7f\">aggregator.py</span></a><span style=\"color: #7f7f7f; text-decoration-color: #7f7f7f\">:</span><a href=\"file://C:\\Users\\BHSU\\AppData\\Local\\Programs\\Python\\Python39\\lib\\site-packages\\openfl\\component\\aggregator\\aggregator.py#520\" target=\"_blank\"><span style=\"color: #7f7f7f; text-decoration-color: #7f7f7f\">520</span></a>\n",
       "</pre>\n"
      ],
      "text/plain": [
       "\u001b[2;36m          \u001b[0m\u001b[2;36m \u001b[0m\u001b[34mINFO    \u001b[0m Collaborator two is sending task results for train, round \u001b[1;36m4\u001b[0m                                                                \u001b]8;id=281977;file://C:\\Users\\BHSU\\AppData\\Local\\Programs\\Python\\Python39\\lib\\site-packages\\openfl\\component\\aggregator\\aggregator.py\u001b\\\u001b[2maggregator.py\u001b[0m\u001b]8;;\u001b\\\u001b[2m:\u001b[0m\u001b]8;id=966442;file://C:\\Users\\BHSU\\AppData\\Local\\Programs\\Python\\Python39\\lib\\site-packages\\openfl\\component\\aggregator\\aggregator.py#520\u001b\\\u001b[2m520\u001b[0m\u001b]8;;\u001b\\\n"
      ]
     },
     "metadata": {},
     "output_type": "display_data"
    },
    {
     "data": {
      "text/html": [
       "<pre style=\"white-space:pre;overflow-x:auto;line-height:normal;font-family:Menlo,'DejaVu Sans Mono',consolas,'Courier New',monospace\"><span style=\"color: #7fbfbf; text-decoration-color: #7fbfbf\">           </span>METRIC   Round <span style=\"color: #008080; text-decoration-color: #008080; font-weight: bold\">4</span>, collaborator two train result loss:    <span style=\"color: #008080; text-decoration-color: #008080; font-weight: bold\">0.160450</span>                                                                   <a href=\"file://C:\\Users\\BHSU\\AppData\\Local\\Programs\\Python\\Python39\\lib\\site-packages\\openfl\\component\\aggregator\\aggregator.py\" target=\"_blank\"><span style=\"color: #7f7f7f; text-decoration-color: #7f7f7f\">aggregator.py</span></a><span style=\"color: #7f7f7f; text-decoration-color: #7f7f7f\">:</span><a href=\"file://C:\\Users\\BHSU\\AppData\\Local\\Programs\\Python\\Python39\\lib\\site-packages\\openfl\\component\\aggregator\\aggregator.py#559\" target=\"_blank\"><span style=\"color: #7f7f7f; text-decoration-color: #7f7f7f\">559</span></a>\n",
       "</pre>\n"
      ],
      "text/plain": [
       "\u001b[2;36m          \u001b[0m\u001b[2;36m \u001b[0mMETRIC   Round \u001b[1;36m4\u001b[0m, collaborator two train result loss:    \u001b[1;36m0.160450\u001b[0m                                                                   \u001b]8;id=194094;file://C:\\Users\\BHSU\\AppData\\Local\\Programs\\Python\\Python39\\lib\\site-packages\\openfl\\component\\aggregator\\aggregator.py\u001b\\\u001b[2maggregator.py\u001b[0m\u001b]8;;\u001b\\\u001b[2m:\u001b[0m\u001b]8;id=984090;file://C:\\Users\\BHSU\\AppData\\Local\\Programs\\Python\\Python39\\lib\\site-packages\\openfl\\component\\aggregator\\aggregator.py#559\u001b\\\u001b[2m559\u001b[0m\u001b]8;;\u001b\\\n"
      ]
     },
     "metadata": {},
     "output_type": "display_data"
    },
    {
     "data": {
      "text/html": [
       "<pre style=\"white-space:pre;overflow-x:auto;line-height:normal;font-family:Menlo,'DejaVu Sans Mono',consolas,'Courier New',monospace\"><span style=\"color: #7fbfbf; text-decoration-color: #7fbfbf\">           </span><span style=\"color: #000080; text-decoration-color: #000080\">INFO    </span> Using TaskRunner subclassing API                                                                                         <a href=\"file://C:\\Users\\BHSU\\AppData\\Local\\Programs\\Python\\Python39\\lib\\site-packages\\openfl\\component\\collaborator\\collaborator.py\" target=\"_blank\"><span style=\"color: #7f7f7f; text-decoration-color: #7f7f7f\">collaborator.py</span></a><span style=\"color: #7f7f7f; text-decoration-color: #7f7f7f\">:</span><a href=\"file://C:\\Users\\BHSU\\AppData\\Local\\Programs\\Python\\Python39\\lib\\site-packages\\openfl\\component\\collaborator\\collaborator.py#253\" target=\"_blank\"><span style=\"color: #7f7f7f; text-decoration-color: #7f7f7f\">253</span></a>\n",
       "</pre>\n"
      ],
      "text/plain": [
       "\u001b[2;36m          \u001b[0m\u001b[2;36m \u001b[0m\u001b[34mINFO    \u001b[0m Using TaskRunner subclassing API                                                                                         \u001b]8;id=255663;file://C:\\Users\\BHSU\\AppData\\Local\\Programs\\Python\\Python39\\lib\\site-packages\\openfl\\component\\collaborator\\collaborator.py\u001b\\\u001b[2mcollaborator.py\u001b[0m\u001b]8;;\u001b\\\u001b[2m:\u001b[0m\u001b]8;id=906788;file://C:\\Users\\BHSU\\AppData\\Local\\Programs\\Python\\Python39\\lib\\site-packages\\openfl\\component\\collaborator\\collaborator.py#253\u001b\\\u001b[2m253\u001b[0m\u001b]8;;\u001b\\\n"
      ]
     },
     "metadata": {},
     "output_type": "display_data"
    },
    {
     "name": "stdout",
     "output_type": "stream",
     "text": [
      "282/282 [==============================] - 0s 502us/step - loss: 0.1824 - accuracy: 0.9451\n"
     ]
    },
    {
     "data": {
      "text/html": [
       "<pre style=\"white-space:pre;overflow-x:auto;line-height:normal;font-family:Menlo,'DejaVu Sans Mono',consolas,'Courier New',monospace\"><span style=\"color: #7fbfbf; text-decoration-color: #7fbfbf\">           </span>METRIC   Round <span style=\"color: #008080; text-decoration-color: #008080; font-weight: bold\">4</span>, collaborator two is sending metric for task locally_tuned_model_validation: accuracy   <span style=\"color: #008080; text-decoration-color: #008080; font-weight: bold\">0.945111</span>                 <a href=\"file://C:\\Users\\BHSU\\AppData\\Local\\Programs\\Python\\Python39\\lib\\site-packages\\openfl\\component\\collaborator\\collaborator.py\" target=\"_blank\"><span style=\"color: #7f7f7f; text-decoration-color: #7f7f7f\">collaborator.py</span></a><span style=\"color: #7f7f7f; text-decoration-color: #7f7f7f\">:</span><a href=\"file://C:\\Users\\BHSU\\AppData\\Local\\Programs\\Python\\Python39\\lib\\site-packages\\openfl\\component\\collaborator\\collaborator.py#415\" target=\"_blank\"><span style=\"color: #7f7f7f; text-decoration-color: #7f7f7f\">415</span></a>\n",
       "</pre>\n"
      ],
      "text/plain": [
       "\u001b[2;36m          \u001b[0m\u001b[2;36m \u001b[0mMETRIC   Round \u001b[1;36m4\u001b[0m, collaborator two is sending metric for task locally_tuned_model_validation: accuracy   \u001b[1;36m0.945111\u001b[0m                 \u001b]8;id=428449;file://C:\\Users\\BHSU\\AppData\\Local\\Programs\\Python\\Python39\\lib\\site-packages\\openfl\\component\\collaborator\\collaborator.py\u001b\\\u001b[2mcollaborator.py\u001b[0m\u001b]8;;\u001b\\\u001b[2m:\u001b[0m\u001b]8;id=425637;file://C:\\Users\\BHSU\\AppData\\Local\\Programs\\Python\\Python39\\lib\\site-packages\\openfl\\component\\collaborator\\collaborator.py#415\u001b\\\u001b[2m415\u001b[0m\u001b]8;;\u001b\\\n"
      ]
     },
     "metadata": {},
     "output_type": "display_data"
    },
    {
     "data": {
      "text/html": [
       "<pre style=\"white-space:pre;overflow-x:auto;line-height:normal;font-family:Menlo,'DejaVu Sans Mono',consolas,'Courier New',monospace\"><span style=\"color: #7fbfbf; text-decoration-color: #7fbfbf\">           </span><span style=\"color: #000080; text-decoration-color: #000080\">INFO    </span> Collaborator two is sending task results for locally_tuned_model_validation, round <span style=\"color: #008080; text-decoration-color: #008080; font-weight: bold\">4</span>                                       <a href=\"file://C:\\Users\\BHSU\\AppData\\Local\\Programs\\Python\\Python39\\lib\\site-packages\\openfl\\component\\aggregator\\aggregator.py\" target=\"_blank\"><span style=\"color: #7f7f7f; text-decoration-color: #7f7f7f\">aggregator.py</span></a><span style=\"color: #7f7f7f; text-decoration-color: #7f7f7f\">:</span><a href=\"file://C:\\Users\\BHSU\\AppData\\Local\\Programs\\Python\\Python39\\lib\\site-packages\\openfl\\component\\aggregator\\aggregator.py#520\" target=\"_blank\"><span style=\"color: #7f7f7f; text-decoration-color: #7f7f7f\">520</span></a>\n",
       "</pre>\n"
      ],
      "text/plain": [
       "\u001b[2;36m          \u001b[0m\u001b[2;36m \u001b[0m\u001b[34mINFO    \u001b[0m Collaborator two is sending task results for locally_tuned_model_validation, round \u001b[1;36m4\u001b[0m                                       \u001b]8;id=339231;file://C:\\Users\\BHSU\\AppData\\Local\\Programs\\Python\\Python39\\lib\\site-packages\\openfl\\component\\aggregator\\aggregator.py\u001b\\\u001b[2maggregator.py\u001b[0m\u001b]8;;\u001b\\\u001b[2m:\u001b[0m\u001b]8;id=394444;file://C:\\Users\\BHSU\\AppData\\Local\\Programs\\Python\\Python39\\lib\\site-packages\\openfl\\component\\aggregator\\aggregator.py#520\u001b\\\u001b[2m520\u001b[0m\u001b]8;;\u001b\\\n"
      ]
     },
     "metadata": {},
     "output_type": "display_data"
    },
    {
     "data": {
      "text/html": [
       "<pre style=\"white-space:pre;overflow-x:auto;line-height:normal;font-family:Menlo,'DejaVu Sans Mono',consolas,'Courier New',monospace\"><span style=\"color: #7fbfbf; text-decoration-color: #7fbfbf\">           </span>METRIC   Round <span style=\"color: #008080; text-decoration-color: #008080; font-weight: bold\">4</span>, collaborator validate_local locally_tuned_model_validation result accuracy:    <span style=\"color: #008080; text-decoration-color: #008080; font-weight: bold\">0.945111</span>                           <a href=\"file://C:\\Users\\BHSU\\AppData\\Local\\Programs\\Python\\Python39\\lib\\site-packages\\openfl\\component\\aggregator\\aggregator.py\" target=\"_blank\"><span style=\"color: #7f7f7f; text-decoration-color: #7f7f7f\">aggregator.py</span></a><span style=\"color: #7f7f7f; text-decoration-color: #7f7f7f\">:</span><a href=\"file://C:\\Users\\BHSU\\AppData\\Local\\Programs\\Python\\Python39\\lib\\site-packages\\openfl\\component\\aggregator\\aggregator.py#559\" target=\"_blank\"><span style=\"color: #7f7f7f; text-decoration-color: #7f7f7f\">559</span></a>\n",
       "</pre>\n"
      ],
      "text/plain": [
       "\u001b[2;36m          \u001b[0m\u001b[2;36m \u001b[0mMETRIC   Round \u001b[1;36m4\u001b[0m, collaborator validate_local locally_tuned_model_validation result accuracy:    \u001b[1;36m0.945111\u001b[0m                           \u001b]8;id=943385;file://C:\\Users\\BHSU\\AppData\\Local\\Programs\\Python\\Python39\\lib\\site-packages\\openfl\\component\\aggregator\\aggregator.py\u001b\\\u001b[2maggregator.py\u001b[0m\u001b]8;;\u001b\\\u001b[2m:\u001b[0m\u001b]8;id=169371;file://C:\\Users\\BHSU\\AppData\\Local\\Programs\\Python\\Python39\\lib\\site-packages\\openfl\\component\\aggregator\\aggregator.py#559\u001b\\\u001b[2m559\u001b[0m\u001b]8;;\u001b\\\n"
      ]
     },
     "metadata": {},
     "output_type": "display_data"
    },
    {
     "data": {
      "text/html": [
       "<pre style=\"white-space:pre;overflow-x:auto;line-height:normal;font-family:Menlo,'DejaVu Sans Mono',consolas,'Courier New',monospace\"><span style=\"color: #7fbfbf; text-decoration-color: #7fbfbf\">           </span>METRIC   Round <span style=\"color: #008080; text-decoration-color: #008080; font-weight: bold\">4</span>, aggregator: locally_tuned_model_validation                                                                        <a href=\"file://C:\\Users\\BHSU\\AppData\\Local\\Programs\\Python\\Python39\\lib\\site-packages\\openfl\\component\\aggregator\\aggregator.py\" target=\"_blank\"><span style=\"color: #7f7f7f; text-decoration-color: #7f7f7f\">aggregator.py</span></a><span style=\"color: #7f7f7f; text-decoration-color: #7f7f7f\">:</span><a href=\"file://C:\\Users\\BHSU\\AppData\\Local\\Programs\\Python\\Python39\\lib\\site-packages\\openfl\\component\\aggregator\\aggregator.py#842\" target=\"_blank\"><span style=\"color: #7f7f7f; text-decoration-color: #7f7f7f\">842</span></a>\n",
       "<span style=\"color: #7fbfbf; text-decoration-color: #7fbfbf\">           </span>         <span style=\"font-weight: bold\">&lt;</span><span style=\"color: #ff00ff; text-decoration-color: #ff00ff; font-weight: bold\">openfl.interface.aggregation_functions.weighted_average.WeightedAverage</span><span style=\"color: #000000; text-decoration-color: #000000\"> object at </span><span style=\"color: #008080; text-decoration-color: #008080; font-weight: bold\">0x0000020F55654AC0</span><span style=\"font-weight: bold\">&gt;</span> accuracy:           <span style=\"color: #7f7f7f; text-decoration-color: #7f7f7f\">                 </span>\n",
       "<span style=\"color: #7fbfbf; text-decoration-color: #7fbfbf\">           </span>         <span style=\"color: #008080; text-decoration-color: #008080; font-weight: bold\">0.947111</span>                                                                                                                   <span style=\"color: #7f7f7f; text-decoration-color: #7f7f7f\">                 </span>\n",
       "</pre>\n"
      ],
      "text/plain": [
       "\u001b[2;36m          \u001b[0m\u001b[2;36m \u001b[0mMETRIC   Round \u001b[1;36m4\u001b[0m, aggregator: locally_tuned_model_validation                                                                        \u001b]8;id=186656;file://C:\\Users\\BHSU\\AppData\\Local\\Programs\\Python\\Python39\\lib\\site-packages\\openfl\\component\\aggregator\\aggregator.py\u001b\\\u001b[2maggregator.py\u001b[0m\u001b]8;;\u001b\\\u001b[2m:\u001b[0m\u001b]8;id=123824;file://C:\\Users\\BHSU\\AppData\\Local\\Programs\\Python\\Python39\\lib\\site-packages\\openfl\\component\\aggregator\\aggregator.py#842\u001b\\\u001b[2m842\u001b[0m\u001b]8;;\u001b\\\n",
       "\u001b[2;36m           \u001b[0m         \u001b[1m<\u001b[0m\u001b[1;95mopenfl.interface.aggregation_functions.weighted_average.WeightedAverage\u001b[0m\u001b[39m object at \u001b[0m\u001b[1;36m0x0000020F55654AC0\u001b[0m\u001b[1m>\u001b[0m accuracy:           \u001b[2m                 \u001b[0m\n",
       "\u001b[2;36m           \u001b[0m         \u001b[1;36m0.947111\u001b[0m                                                                                                                   \u001b[2m                 \u001b[0m\n"
      ]
     },
     "metadata": {},
     "output_type": "display_data"
    },
    {
     "data": {
      "text/html": [
       "<pre style=\"white-space:pre;overflow-x:auto;line-height:normal;font-family:Menlo,'DejaVu Sans Mono',consolas,'Courier New',monospace\"><span style=\"color: #7fbfbf; text-decoration-color: #7fbfbf\">           </span>METRIC   Round <span style=\"color: #008080; text-decoration-color: #008080; font-weight: bold\">4</span>, aggregator: aggregated_model_validation <span style=\"font-weight: bold\">&lt;</span><span style=\"color: #ff00ff; text-decoration-color: #ff00ff; font-weight: bold\">openfl.interface.aggregation_functions.weighted_average.WeightedAverage</span><span style=\"color: #000000; text-decoration-color: #000000\"> </span> <a href=\"file://C:\\Users\\BHSU\\AppData\\Local\\Programs\\Python\\Python39\\lib\\site-packages\\openfl\\component\\aggregator\\aggregator.py\" target=\"_blank\"><span style=\"color: #7f7f7f; text-decoration-color: #7f7f7f\">aggregator.py</span></a><span style=\"color: #7f7f7f; text-decoration-color: #7f7f7f\">:</span><a href=\"file://C:\\Users\\BHSU\\AppData\\Local\\Programs\\Python\\Python39\\lib\\site-packages\\openfl\\component\\aggregator\\aggregator.py#842\" target=\"_blank\"><span style=\"color: #7f7f7f; text-decoration-color: #7f7f7f\">842</span></a>\n",
       "<span style=\"color: #7fbfbf; text-decoration-color: #7fbfbf\">           </span>         <span style=\"color: #000000; text-decoration-color: #000000\">object at </span><span style=\"color: #008080; text-decoration-color: #008080; font-weight: bold\">0x0000020F55654AC0</span><span style=\"font-weight: bold\">&gt;</span> accuracy:       <span style=\"color: #008080; text-decoration-color: #008080; font-weight: bold\">0.949722</span>                                                                     <span style=\"color: #7f7f7f; text-decoration-color: #7f7f7f\">                 </span>\n",
       "</pre>\n"
      ],
      "text/plain": [
       "\u001b[2;36m          \u001b[0m\u001b[2;36m \u001b[0mMETRIC   Round \u001b[1;36m4\u001b[0m, aggregator: aggregated_model_validation \u001b[1m<\u001b[0m\u001b[1;95mopenfl.interface.aggregation_functions.weighted_average.WeightedAverage\u001b[0m\u001b[39m \u001b[0m \u001b]8;id=122236;file://C:\\Users\\BHSU\\AppData\\Local\\Programs\\Python\\Python39\\lib\\site-packages\\openfl\\component\\aggregator\\aggregator.py\u001b\\\u001b[2maggregator.py\u001b[0m\u001b]8;;\u001b\\\u001b[2m:\u001b[0m\u001b]8;id=11089;file://C:\\Users\\BHSU\\AppData\\Local\\Programs\\Python\\Python39\\lib\\site-packages\\openfl\\component\\aggregator\\aggregator.py#842\u001b\\\u001b[2m842\u001b[0m\u001b]8;;\u001b\\\n",
       "\u001b[2;36m           \u001b[0m         \u001b[39mobject at \u001b[0m\u001b[1;36m0x0000020F55654AC0\u001b[0m\u001b[1m>\u001b[0m accuracy:       \u001b[1;36m0.949722\u001b[0m                                                                     \u001b[2m                 \u001b[0m\n"
      ]
     },
     "metadata": {},
     "output_type": "display_data"
    },
    {
     "data": {
      "text/html": [
       "<pre style=\"white-space:pre;overflow-x:auto;line-height:normal;font-family:Menlo,'DejaVu Sans Mono',consolas,'Courier New',monospace\"><span style=\"color: #7fbfbf; text-decoration-color: #7fbfbf\">           </span>METRIC   Round <span style=\"color: #008080; text-decoration-color: #008080; font-weight: bold\">4</span>: saved the best model with score <span style=\"color: #008080; text-decoration-color: #008080; font-weight: bold\">0.949722</span>                                                                          <a href=\"file://C:\\Users\\BHSU\\AppData\\Local\\Programs\\Python\\Python39\\lib\\site-packages\\openfl\\component\\aggregator\\aggregator.py\" target=\"_blank\"><span style=\"color: #7f7f7f; text-decoration-color: #7f7f7f\">aggregator.py</span></a><span style=\"color: #7f7f7f; text-decoration-color: #7f7f7f\">:</span><a href=\"file://C:\\Users\\BHSU\\AppData\\Local\\Programs\\Python\\Python39\\lib\\site-packages\\openfl\\component\\aggregator\\aggregator.py#858\" target=\"_blank\"><span style=\"color: #7f7f7f; text-decoration-color: #7f7f7f\">858</span></a>\n",
       "</pre>\n"
      ],
      "text/plain": [
       "\u001b[2;36m          \u001b[0m\u001b[2;36m \u001b[0mMETRIC   Round \u001b[1;36m4\u001b[0m: saved the best model with score \u001b[1;36m0.949722\u001b[0m                                                                          \u001b]8;id=705127;file://C:\\Users\\BHSU\\AppData\\Local\\Programs\\Python\\Python39\\lib\\site-packages\\openfl\\component\\aggregator\\aggregator.py\u001b\\\u001b[2maggregator.py\u001b[0m\u001b]8;;\u001b\\\u001b[2m:\u001b[0m\u001b]8;id=167227;file://C:\\Users\\BHSU\\AppData\\Local\\Programs\\Python\\Python39\\lib\\site-packages\\openfl\\component\\aggregator\\aggregator.py#858\u001b\\\u001b[2m858\u001b[0m\u001b]8;;\u001b\\\n"
      ]
     },
     "metadata": {},
     "output_type": "display_data"
    },
    {
     "data": {
      "text/html": [
       "<pre style=\"white-space:pre;overflow-x:auto;line-height:normal;font-family:Menlo,'DejaVu Sans Mono',consolas,'Courier New',monospace\"><span style=\"color: #7fbfbf; text-decoration-color: #7fbfbf\">           </span>METRIC   Round <span style=\"color: #008080; text-decoration-color: #008080; font-weight: bold\">4</span>, aggregator: train <span style=\"font-weight: bold\">&lt;</span><span style=\"color: #ff00ff; text-decoration-color: #ff00ff; font-weight: bold\">openfl.interface.aggregation_functions.weighted_average.WeightedAverage</span><span style=\"color: #000000; text-decoration-color: #000000\"> object at </span>             <a href=\"file://C:\\Users\\BHSU\\AppData\\Local\\Programs\\Python\\Python39\\lib\\site-packages\\openfl\\component\\aggregator\\aggregator.py\" target=\"_blank\"><span style=\"color: #7f7f7f; text-decoration-color: #7f7f7f\">aggregator.py</span></a><span style=\"color: #7f7f7f; text-decoration-color: #7f7f7f\">:</span><a href=\"file://C:\\Users\\BHSU\\AppData\\Local\\Programs\\Python\\Python39\\lib\\site-packages\\openfl\\component\\aggregator\\aggregator.py#842\" target=\"_blank\"><span style=\"color: #7f7f7f; text-decoration-color: #7f7f7f\">842</span></a>\n",
       "<span style=\"color: #7fbfbf; text-decoration-color: #7fbfbf\">           </span>         <span style=\"color: #008080; text-decoration-color: #008080; font-weight: bold\">0x0000020F55654AC0</span><span style=\"font-weight: bold\">&gt;</span> loss: <span style=\"color: #008080; text-decoration-color: #008080; font-weight: bold\">0.164100</span>                                                                                         <span style=\"color: #7f7f7f; text-decoration-color: #7f7f7f\">                 </span>\n",
       "</pre>\n"
      ],
      "text/plain": [
       "\u001b[2;36m          \u001b[0m\u001b[2;36m \u001b[0mMETRIC   Round \u001b[1;36m4\u001b[0m, aggregator: train \u001b[1m<\u001b[0m\u001b[1;95mopenfl.interface.aggregation_functions.weighted_average.WeightedAverage\u001b[0m\u001b[39m object at \u001b[0m             \u001b]8;id=314281;file://C:\\Users\\BHSU\\AppData\\Local\\Programs\\Python\\Python39\\lib\\site-packages\\openfl\\component\\aggregator\\aggregator.py\u001b\\\u001b[2maggregator.py\u001b[0m\u001b]8;;\u001b\\\u001b[2m:\u001b[0m\u001b]8;id=144731;file://C:\\Users\\BHSU\\AppData\\Local\\Programs\\Python\\Python39\\lib\\site-packages\\openfl\\component\\aggregator\\aggregator.py#842\u001b\\\u001b[2m842\u001b[0m\u001b]8;;\u001b\\\n",
       "\u001b[2;36m           \u001b[0m         \u001b[1;36m0x0000020F55654AC0\u001b[0m\u001b[1m>\u001b[0m loss: \u001b[1;36m0.164100\u001b[0m                                                                                         \u001b[2m                 \u001b[0m\n"
      ]
     },
     "metadata": {},
     "output_type": "display_data"
    },
    {
     "data": {
      "text/html": [
       "<pre style=\"white-space:pre;overflow-x:auto;line-height:normal;font-family:Menlo,'DejaVu Sans Mono',consolas,'Courier New',monospace\"><span style=\"color: #7fbfbf; text-decoration-color: #7fbfbf\">           </span><span style=\"color: #000080; text-decoration-color: #000080\">INFO    </span> Saving round <span style=\"color: #008080; text-decoration-color: #008080; font-weight: bold\">5</span> model<span style=\"color: #808000; text-decoration-color: #808000\">...</span>                                                                                                    <a href=\"file://C:\\Users\\BHSU\\AppData\\Local\\Programs\\Python\\Python39\\lib\\site-packages\\openfl\\component\\aggregator\\aggregator.py\" target=\"_blank\"><span style=\"color: #7f7f7f; text-decoration-color: #7f7f7f\">aggregator.py</span></a><span style=\"color: #7f7f7f; text-decoration-color: #7f7f7f\">:</span><a href=\"file://C:\\Users\\BHSU\\AppData\\Local\\Programs\\Python\\Python39\\lib\\site-packages\\openfl\\component\\aggregator\\aggregator.py#894\" target=\"_blank\"><span style=\"color: #7f7f7f; text-decoration-color: #7f7f7f\">894</span></a>\n",
       "</pre>\n"
      ],
      "text/plain": [
       "\u001b[2;36m          \u001b[0m\u001b[2;36m \u001b[0m\u001b[34mINFO    \u001b[0m Saving round \u001b[1;36m5\u001b[0m model\u001b[33m...\u001b[0m                                                                                                    \u001b]8;id=786025;file://C:\\Users\\BHSU\\AppData\\Local\\Programs\\Python\\Python39\\lib\\site-packages\\openfl\\component\\aggregator\\aggregator.py\u001b\\\u001b[2maggregator.py\u001b[0m\u001b]8;;\u001b\\\u001b[2m:\u001b[0m\u001b]8;id=950271;file://C:\\Users\\BHSU\\AppData\\Local\\Programs\\Python\\Python39\\lib\\site-packages\\openfl\\component\\aggregator\\aggregator.py#894\u001b\\\u001b[2m894\u001b[0m\u001b]8;;\u001b\\\n"
      ]
     },
     "metadata": {},
     "output_type": "display_data"
    },
    {
     "data": {
      "text/html": [
       "<pre style=\"white-space:pre;overflow-x:auto;line-height:normal;font-family:Menlo,'DejaVu Sans Mono',consolas,'Courier New',monospace\"><span style=\"color: #7fbfbf; text-decoration-color: #7fbfbf\">           </span><span style=\"color: #000080; text-decoration-color: #000080\">INFO    </span> Experiment Completed. Cleaning up<span style=\"color: #808000; text-decoration-color: #808000\">...</span>                                                                                       <a href=\"file://C:\\Users\\BHSU\\AppData\\Local\\Programs\\Python\\Python39\\lib\\site-packages\\openfl\\component\\aggregator\\aggregator.py\" target=\"_blank\"><span style=\"color: #7f7f7f; text-decoration-color: #7f7f7f\">aggregator.py</span></a><span style=\"color: #7f7f7f; text-decoration-color: #7f7f7f\">:</span><a href=\"file://C:\\Users\\BHSU\\AppData\\Local\\Programs\\Python\\Python39\\lib\\site-packages\\openfl\\component\\aggregator\\aggregator.py#899\" target=\"_blank\"><span style=\"color: #7f7f7f; text-decoration-color: #7f7f7f\">899</span></a>\n",
       "</pre>\n"
      ],
      "text/plain": [
       "\u001b[2;36m          \u001b[0m\u001b[2;36m \u001b[0m\u001b[34mINFO    \u001b[0m Experiment Completed. Cleaning up\u001b[33m...\u001b[0m                                                                                       \u001b]8;id=34648;file://C:\\Users\\BHSU\\AppData\\Local\\Programs\\Python\\Python39\\lib\\site-packages\\openfl\\component\\aggregator\\aggregator.py\u001b\\\u001b[2maggregator.py\u001b[0m\u001b]8;;\u001b\\\u001b[2m:\u001b[0m\u001b]8;id=133699;file://C:\\Users\\BHSU\\AppData\\Local\\Programs\\Python\\Python39\\lib\\site-packages\\openfl\\component\\aggregator\\aggregator.py#899\u001b\\\u001b[2m899\u001b[0m\u001b]8;;\u001b\\\n"
      ]
     },
     "metadata": {},
     "output_type": "display_data"
    },
    {
     "data": {
      "text/html": [
       "<pre style=\"white-space:pre;overflow-x:auto;line-height:normal;font-family:Menlo,'DejaVu Sans Mono',consolas,'Courier New',monospace\"><span style=\"color: #7fbfbf; text-decoration-color: #7fbfbf\">           </span><span style=\"color: #000080; text-decoration-color: #000080\">INFO    </span> All tasks completed on two for round <span style=\"color: #008080; text-decoration-color: #008080; font-weight: bold\">4</span><span style=\"color: #808000; text-decoration-color: #808000\">...</span>                                                                                <a href=\"file://C:\\Users\\BHSU\\AppData\\Local\\Programs\\Python\\Python39\\lib\\site-packages\\openfl\\component\\collaborator\\collaborator.py\" target=\"_blank\"><span style=\"color: #7f7f7f; text-decoration-color: #7f7f7f\">collaborator.py</span></a><span style=\"color: #7f7f7f; text-decoration-color: #7f7f7f\">:</span><a href=\"file://C:\\Users\\BHSU\\AppData\\Local\\Programs\\Python\\Python39\\lib\\site-packages\\openfl\\component\\collaborator\\collaborator.py#171\" target=\"_blank\"><span style=\"color: #7f7f7f; text-decoration-color: #7f7f7f\">171</span></a>\n",
       "</pre>\n"
      ],
      "text/plain": [
       "\u001b[2;36m          \u001b[0m\u001b[2;36m \u001b[0m\u001b[34mINFO    \u001b[0m All tasks completed on two for round \u001b[1;36m4\u001b[0m\u001b[33m...\u001b[0m                                                                                \u001b]8;id=941157;file://C:\\Users\\BHSU\\AppData\\Local\\Programs\\Python\\Python39\\lib\\site-packages\\openfl\\component\\collaborator\\collaborator.py\u001b\\\u001b[2mcollaborator.py\u001b[0m\u001b]8;;\u001b\\\u001b[2m:\u001b[0m\u001b]8;id=237932;file://C:\\Users\\BHSU\\AppData\\Local\\Programs\\Python\\Python39\\lib\\site-packages\\openfl\\component\\collaborator\\collaborator.py#171\u001b\\\u001b[2m171\u001b[0m\u001b]8;;\u001b\\\n"
      ]
     },
     "metadata": {},
     "output_type": "display_data"
    }
   ],
   "source": [
    "#Run experiment, return trained FederatedModel\n",
    "final_fl_model = fx.run_experiment(collaborators,override_config={'aggregator.settings.rounds_to_train':5})"
   ]
  },
  {
   "cell_type": "code",
   "execution_count": 11,
   "id": "a450e09e-84ab-4474-8346-da4c353a47f7",
   "metadata": {},
   "outputs": [],
   "source": [
    "#Save final model and load into keras\n",
    "final_fl_model.save_native('final_model')\n",
    "model = tf.keras.models.load_model('./final_model')"
   ]
  },
  {
   "cell_type": "code",
   "execution_count": 12,
   "id": "01560ca5-54ec-42a4-ad0d-7177d3522757",
   "metadata": {},
   "outputs": [
    {
     "name": "stdout",
     "output_type": "stream",
     "text": [
      "313/313 [==============================] - 0s 465us/step - loss: 0.1400 - accuracy: 0.9565\n"
     ]
    },
    {
     "data": {
      "text/plain": [
       "[0.1399891972541809, 0.9564999938011169]"
      ]
     },
     "execution_count": 12,
     "metadata": {},
     "output_type": "execute_result"
    }
   ],
   "source": [
    "#Test the final model on our test set\n",
    "model.evaluate(test_images,test_labels)"
   ]
  },
  {
   "cell_type": "code",
   "execution_count": null,
   "id": "12ed88f2-f9ac-4c8f-bfca-10e85222e6ee",
   "metadata": {},
   "outputs": [],
   "source": []
  },
  {
   "cell_type": "code",
   "execution_count": 13,
   "id": "33a3449b-e9dc-4ba6-9bd3-5aa1a8f8afa9",
   "metadata": {},
   "outputs": [],
   "source": [
    "collaborator_models = fl_model.setup(num_collaborators=2)\n",
    "collaborators = {'one':collaborator_models[0],'two':collaborator_models[1]}#, 'three':collaborator_models[2]}"
   ]
  },
  {
   "cell_type": "code",
   "execution_count": 14,
   "id": "c3bc35ba-936e-4fd0-951d-3b749c285852",
   "metadata": {},
   "outputs": [
    {
     "name": "stdout",
     "output_type": "stream",
     "text": [
      "Original training data size: 42000\n",
      "Original validation data size: 18000\n",
      "\n",
      "Collaborator one's training data size: 21000\n",
      "Collaborator one's validation data size: 9000\n",
      "\n",
      "Collaborator two's training data size: 21000\n",
      "Collaborator two's validation data size: 9000\n",
      "\n"
     ]
    }
   ],
   "source": [
    "#Original MNIST dataset\n",
    "print(f'Original training data size: {len(train_images)}')\n",
    "print(f'Original validation data size: {len(valid_images)}\\n')\n",
    "\n",
    "#Collaborator one's data\n",
    "print(f'Collaborator one\\'s training data size: {len(collaborator_models[0].data_loader.X_train)}')\n",
    "print(f'Collaborator one\\'s validation data size: {len(collaborator_models[0].data_loader.X_valid)}\\n')\n",
    "\n",
    "#Collaborator two's data\n",
    "print(f'Collaborator two\\'s training data size: {len(collaborator_models[1].data_loader.X_train)}')\n",
    "print(f'Collaborator two\\'s validation data size: {len(collaborator_models[1].data_loader.X_valid)}\\n')\n",
    "\n",
    "#Collaborator three's data\n",
    "#print(f'Collaborator three\\'s training data size: {len(collaborator_models[2].data_loader.X_train)}')\n",
    "#print(f'Collaborator three\\'s validation data size: {len(collaborator_models[2].data_loader.X_valid)}')"
   ]
  },
  {
   "cell_type": "code",
   "execution_count": 15,
   "id": "fb204a9d-a1de-4550-825e-6c7c0a733a42",
   "metadata": {},
   "outputs": [
    {
     "name": "stdout",
     "output_type": "stream",
     "text": [
      "{\n",
      "    \"aggregator.settings.best_state_path\": \"save/keras_cnn_mnist_best.pbuf\",\n",
      "    \"aggregator.settings.db_store_rounds\": 2,\n",
      "    \"aggregator.settings.init_state_path\": \"save/keras_cnn_mnist_init.pbuf\",\n",
      "    \"aggregator.settings.last_state_path\": \"save/keras_cnn_mnist_last.pbuf\",\n",
      "    \"aggregator.settings.rounds_to_train\": 10,\n",
      "    \"aggregator.settings.write_logs\": true,\n",
      "    \"aggregator.template\": \"openfl.component.Aggregator\",\n",
      "    \"assigner.settings.task_groups.0.name\": \"train_and_validate\",\n",
      "    \"assigner.settings.task_groups.0.percentage\": 1.0,\n",
      "    \"assigner.settings.task_groups.0.tasks.0\": \"aggregated_model_validation\",\n",
      "    \"assigner.settings.task_groups.0.tasks.1\": \"train\",\n",
      "    \"assigner.settings.task_groups.0.tasks.2\": \"locally_tuned_model_validation\",\n",
      "    \"assigner.template\": \"openfl.component.RandomGroupedAssigner\",\n",
      "    \"collaborator.settings.db_store_rounds\": 1,\n",
      "    \"collaborator.settings.delta_updates\": false,\n",
      "    \"collaborator.settings.opt_treatment\": \"RESET\",\n",
      "    \"collaborator.template\": \"openfl.component.Collaborator\",\n",
      "    \"compression_pipeline.settings\": {},\n",
      "    \"compression_pipeline.template\": \"openfl.pipelines.NoCompressionPipeline\",\n",
      "    \"data_loader.settings.batch_size\": 256,\n",
      "    \"data_loader.settings.collaborator_count\": 2,\n",
      "    \"data_loader.settings.data_group_name\": \"mnist\",\n",
      "    \"data_loader.template\": \"src.tfmnist_inmemory.TensorFlowMNISTInMemory\",\n",
      "    \"network.settings.agg_addr\": \"DESKTOP-8R9A5NI\",\n",
      "    \"network.settings.agg_port\": 60628,\n",
      "    \"network.settings.cert_folder\": \"cert\",\n",
      "    \"network.settings.client_reconnect_interval\": 5,\n",
      "    \"network.settings.disable_client_auth\": false,\n",
      "    \"network.settings.hash_salt\": \"auto\",\n",
      "    \"network.settings.tls\": true,\n",
      "    \"network.template\": \"openfl.federation.Network\",\n",
      "    \"task_runner.settings\": {},\n",
      "    \"task_runner.template\": \"src.keras_cnn.KerasCNN\",\n",
      "    \"tasks.aggregated_model_validation.function\": \"validate\",\n",
      "    \"tasks.aggregated_model_validation.kwargs.apply\": \"global\",\n",
      "    \"tasks.aggregated_model_validation.kwargs.batch_size\": 32,\n",
      "    \"tasks.aggregated_model_validation.kwargs.metrics.0\": \"accuracy\",\n",
      "    \"tasks.locally_tuned_model_validation.function\": \"validate\",\n",
      "    \"tasks.locally_tuned_model_validation.kwargs.apply\": \"local\",\n",
      "    \"tasks.locally_tuned_model_validation.kwargs.batch_size\": 32,\n",
      "    \"tasks.locally_tuned_model_validation.kwargs.metrics.0\": \"accuracy\",\n",
      "    \"tasks.settings\": {},\n",
      "    \"tasks.train.function\": \"train\",\n",
      "    \"tasks.train.kwargs.batch_size\": 32,\n",
      "    \"tasks.train.kwargs.epochs\": 1,\n",
      "    \"tasks.train.kwargs.metrics.0\": \"loss\"\n",
      "}\n"
     ]
    }
   ],
   "source": [
    "#Get the current values of the plan. Each of these can be overridden\n",
    "print(fx.get_plan())"
   ]
  },
  {
   "cell_type": "code",
   "execution_count": 16,
   "id": "599bf430-40ca-498b-905b-3ea194634a12",
   "metadata": {},
   "outputs": [
    {
     "data": {
      "text/html": [
       "<pre style=\"white-space:pre;overflow-x:auto;line-height:normal;font-family:Menlo,'DejaVu Sans Mono',consolas,'Courier New',monospace\"><span style=\"color: #7fbfbf; text-decoration-color: #7fbfbf\">[09:22:44] </span><span style=\"color: #000080; text-decoration-color: #000080\">INFO    </span> Updating aggregator.settings.rounds_to_train to <span style=\"color: #008080; text-decoration-color: #008080; font-weight: bold\">5</span><span style=\"color: #808000; text-decoration-color: #808000\">...</span>                                                                           <a href=\"file://C:\\Users\\BHSU\\AppData\\Local\\Programs\\Python\\Python39\\lib\\site-packages\\openfl\\native\\native.py\" target=\"_blank\"><span style=\"color: #7f7f7f; text-decoration-color: #7f7f7f\">native.py</span></a><span style=\"color: #7f7f7f; text-decoration-color: #7f7f7f\">:</span><a href=\"file://C:\\Users\\BHSU\\AppData\\Local\\Programs\\Python\\Python39\\lib\\site-packages\\openfl\\native\\native.py#102\" target=\"_blank\"><span style=\"color: #7f7f7f; text-decoration-color: #7f7f7f\">102</span></a>\n",
       "</pre>\n"
      ],
      "text/plain": [
       "\u001b[2;36m[09:22:44]\u001b[0m\u001b[2;36m \u001b[0m\u001b[34mINFO    \u001b[0m Updating aggregator.settings.rounds_to_train to \u001b[1;36m5\u001b[0m\u001b[33m...\u001b[0m                                                                           \u001b]8;id=595350;file://C:\\Users\\BHSU\\AppData\\Local\\Programs\\Python\\Python39\\lib\\site-packages\\openfl\\native\\native.py\u001b\\\u001b[2mnative.py\u001b[0m\u001b]8;;\u001b\\\u001b[2m:\u001b[0m\u001b]8;id=630738;file://C:\\Users\\BHSU\\AppData\\Local\\Programs\\Python\\Python39\\lib\\site-packages\\openfl\\native\\native.py#102\u001b\\\u001b[2m102\u001b[0m\u001b]8;;\u001b\\\n"
      ]
     },
     "metadata": {},
     "output_type": "display_data"
    },
    {
     "data": {
      "text/html": [
       "<pre style=\"white-space:pre;overflow-x:auto;line-height:normal;font-family:Menlo,'DejaVu Sans Mono',consolas,'Courier New',monospace\"><span style=\"color: #7fbfbf; text-decoration-color: #7fbfbf\">           </span><span style=\"color: #000080; text-decoration-color: #000080\">INFO    </span> FL-Plan hash is <span style=\"color: #000080; text-decoration-color: #000080\">3038ce92442cac7666b80fc10e51468e5e5adcc0b61540dc858ee7d85c8b0c885c2cc942842464f636d17c74cb36ced1</span>                 <a href=\"file://C:\\Users\\BHSU\\AppData\\Local\\Programs\\Python\\Python39\\lib\\site-packages\\openfl\\federated\\plan\\plan.py\" target=\"_blank\"><span style=\"color: #7f7f7f; text-decoration-color: #7f7f7f\">plan.py</span></a><span style=\"color: #7f7f7f; text-decoration-color: #7f7f7f\">:</span><a href=\"file://C:\\Users\\BHSU\\AppData\\Local\\Programs\\Python\\Python39\\lib\\site-packages\\openfl\\federated\\plan\\plan.py#235\" target=\"_blank\"><span style=\"color: #7f7f7f; text-decoration-color: #7f7f7f\">235</span></a>\n",
       "</pre>\n"
      ],
      "text/plain": [
       "\u001b[2;36m          \u001b[0m\u001b[2;36m \u001b[0m\u001b[34mINFO    \u001b[0m FL-Plan hash is \u001b[34m3038ce92442cac7666b80fc10e51468e5e5adcc0b61540dc858ee7d85c8b0c885c2cc942842464f636d17c74cb36ced1\u001b[0m                 \u001b]8;id=518029;file://C:\\Users\\BHSU\\AppData\\Local\\Programs\\Python\\Python39\\lib\\site-packages\\openfl\\federated\\plan\\plan.py\u001b\\\u001b[2mplan.py\u001b[0m\u001b]8;;\u001b\\\u001b[2m:\u001b[0m\u001b]8;id=333641;file://C:\\Users\\BHSU\\AppData\\Local\\Programs\\Python\\Python39\\lib\\site-packages\\openfl\\federated\\plan\\plan.py#235\u001b\\\u001b[2m235\u001b[0m\u001b]8;;\u001b\\\n"
      ]
     },
     "metadata": {},
     "output_type": "display_data"
    },
    {
     "data": {
      "text/html": [
       "<pre style=\"white-space:pre;overflow-x:auto;line-height:normal;font-family:Menlo,'DejaVu Sans Mono',consolas,'Courier New',monospace\"><span style=\"color: #7fbfbf; text-decoration-color: #7fbfbf\">           </span><span style=\"color: #000080; text-decoration-color: #000080\">INFO    </span> Building <span style=\"color: #800000; text-decoration-color: #800000\">🡆</span> Object <span style=\"color: #800000; text-decoration-color: #800000\">NoCompressionPipeline</span> from <span style=\"color: #800000; text-decoration-color: #800000\">openfl.pipelines</span> Module.                                                            <a href=\"file://C:\\Users\\BHSU\\AppData\\Local\\Programs\\Python\\Python39\\lib\\site-packages\\openfl\\federated\\plan\\plan.py\" target=\"_blank\"><span style=\"color: #7f7f7f; text-decoration-color: #7f7f7f\">plan.py</span></a><span style=\"color: #7f7f7f; text-decoration-color: #7f7f7f\">:</span><a href=\"file://C:\\Users\\BHSU\\AppData\\Local\\Programs\\Python\\Python39\\lib\\site-packages\\openfl\\federated\\plan\\plan.py#171\" target=\"_blank\"><span style=\"color: #7f7f7f; text-decoration-color: #7f7f7f\">171</span></a>\n",
       "</pre>\n"
      ],
      "text/plain": [
       "\u001b[2;36m          \u001b[0m\u001b[2;36m \u001b[0m\u001b[34mINFO    \u001b[0m Building \u001b[31m🡆\u001b[0m Object \u001b[31mNoCompressionPipeline\u001b[0m from \u001b[31mopenfl.pipelines\u001b[0m Module.                                                            \u001b]8;id=496502;file://C:\\Users\\BHSU\\AppData\\Local\\Programs\\Python\\Python39\\lib\\site-packages\\openfl\\federated\\plan\\plan.py\u001b\\\u001b[2mplan.py\u001b[0m\u001b]8;;\u001b\\\u001b[2m:\u001b[0m\u001b]8;id=97534;file://C:\\Users\\BHSU\\AppData\\Local\\Programs\\Python\\Python39\\lib\\site-packages\\openfl\\federated\\plan\\plan.py#171\u001b\\\u001b[2m171\u001b[0m\u001b]8;;\u001b\\\n"
      ]
     },
     "metadata": {},
     "output_type": "display_data"
    },
    {
     "data": {
      "text/html": [
       "<pre style=\"white-space:pre;overflow-x:auto;line-height:normal;font-family:Menlo,'DejaVu Sans Mono',consolas,'Courier New',monospace\"><span style=\"color: #7fbfbf; text-decoration-color: #7fbfbf\">           </span><span style=\"color: #000080; text-decoration-color: #000080\">INFO    </span> Creating Initial Weights File    🠆 save/keras_cnn_mnist_init.pbuf                                                              <a href=\"file://C:\\Users\\BHSU\\AppData\\Local\\Programs\\Python\\Python39\\lib\\site-packages\\openfl\\native\\native.py\" target=\"_blank\"><span style=\"color: #7f7f7f; text-decoration-color: #7f7f7f\">native.py</span></a><span style=\"color: #7f7f7f; text-decoration-color: #7f7f7f\">:</span><a href=\"file://C:\\Users\\BHSU\\AppData\\Local\\Programs\\Python\\Python39\\lib\\site-packages\\openfl\\native\\native.py#277\" target=\"_blank\"><span style=\"color: #7f7f7f; text-decoration-color: #7f7f7f\">277</span></a>\n",
       "</pre>\n"
      ],
      "text/plain": [
       "\u001b[2;36m          \u001b[0m\u001b[2;36m \u001b[0m\u001b[34mINFO    \u001b[0m Creating Initial Weights File    🠆 save/keras_cnn_mnist_init.pbuf                                                              \u001b]8;id=823726;file://C:\\Users\\BHSU\\AppData\\Local\\Programs\\Python\\Python39\\lib\\site-packages\\openfl\\native\\native.py\u001b\\\u001b[2mnative.py\u001b[0m\u001b]8;;\u001b\\\u001b[2m:\u001b[0m\u001b]8;id=76846;file://C:\\Users\\BHSU\\AppData\\Local\\Programs\\Python\\Python39\\lib\\site-packages\\openfl\\native\\native.py#277\u001b\\\u001b[2m277\u001b[0m\u001b]8;;\u001b\\\n"
      ]
     },
     "metadata": {},
     "output_type": "display_data"
    },
    {
     "data": {
      "text/html": [
       "<pre style=\"white-space:pre;overflow-x:auto;line-height:normal;font-family:Menlo,'DejaVu Sans Mono',consolas,'Courier New',monospace\"><span style=\"color: #7fbfbf; text-decoration-color: #7fbfbf\">           </span><span style=\"color: #000080; text-decoration-color: #000080\">INFO    </span> Starting Experiment<span style=\"color: #808000; text-decoration-color: #808000\">...</span>                                                                                                         <a href=\"file://C:\\Users\\BHSU\\AppData\\Local\\Programs\\Python\\Python39\\lib\\site-packages\\openfl\\native\\native.py\" target=\"_blank\"><span style=\"color: #7f7f7f; text-decoration-color: #7f7f7f\">native.py</span></a><span style=\"color: #7f7f7f; text-decoration-color: #7f7f7f\">:</span><a href=\"file://C:\\Users\\BHSU\\AppData\\Local\\Programs\\Python\\Python39\\lib\\site-packages\\openfl\\native\\native.py#281\" target=\"_blank\"><span style=\"color: #7f7f7f; text-decoration-color: #7f7f7f\">281</span></a>\n",
       "</pre>\n"
      ],
      "text/plain": [
       "\u001b[2;36m          \u001b[0m\u001b[2;36m \u001b[0m\u001b[34mINFO    \u001b[0m Starting Experiment\u001b[33m...\u001b[0m                                                                                                         \u001b]8;id=205470;file://C:\\Users\\BHSU\\AppData\\Local\\Programs\\Python\\Python39\\lib\\site-packages\\openfl\\native\\native.py\u001b\\\u001b[2mnative.py\u001b[0m\u001b]8;;\u001b\\\u001b[2m:\u001b[0m\u001b]8;id=497598;file://C:\\Users\\BHSU\\AppData\\Local\\Programs\\Python\\Python39\\lib\\site-packages\\openfl\\native\\native.py#281\u001b\\\u001b[2m281\u001b[0m\u001b]8;;\u001b\\\n"
      ]
     },
     "metadata": {},
     "output_type": "display_data"
    },
    {
     "data": {
      "text/html": [
       "<pre style=\"white-space:pre;overflow-x:auto;line-height:normal;font-family:Menlo,'DejaVu Sans Mono',consolas,'Courier New',monospace\"><span style=\"color: #7fbfbf; text-decoration-color: #7fbfbf\">           </span><span style=\"color: #000080; text-decoration-color: #000080\">INFO    </span> Building <span style=\"color: #800000; text-decoration-color: #800000\">🡆</span> Object <span style=\"color: #800000; text-decoration-color: #800000\">RandomGroupedAssigner</span> from <span style=\"color: #800000; text-decoration-color: #800000\">openfl.component</span> Module.                                                            <a href=\"file://C:\\Users\\BHSU\\AppData\\Local\\Programs\\Python\\Python39\\lib\\site-packages\\openfl\\federated\\plan\\plan.py\" target=\"_blank\"><span style=\"color: #7f7f7f; text-decoration-color: #7f7f7f\">plan.py</span></a><span style=\"color: #7f7f7f; text-decoration-color: #7f7f7f\">:</span><a href=\"file://C:\\Users\\BHSU\\AppData\\Local\\Programs\\Python\\Python39\\lib\\site-packages\\openfl\\federated\\plan\\plan.py#171\" target=\"_blank\"><span style=\"color: #7f7f7f; text-decoration-color: #7f7f7f\">171</span></a>\n",
       "</pre>\n"
      ],
      "text/plain": [
       "\u001b[2;36m          \u001b[0m\u001b[2;36m \u001b[0m\u001b[34mINFO    \u001b[0m Building \u001b[31m🡆\u001b[0m Object \u001b[31mRandomGroupedAssigner\u001b[0m from \u001b[31mopenfl.component\u001b[0m Module.                                                            \u001b]8;id=62657;file://C:\\Users\\BHSU\\AppData\\Local\\Programs\\Python\\Python39\\lib\\site-packages\\openfl\\federated\\plan\\plan.py\u001b\\\u001b[2mplan.py\u001b[0m\u001b]8;;\u001b\\\u001b[2m:\u001b[0m\u001b]8;id=920787;file://C:\\Users\\BHSU\\AppData\\Local\\Programs\\Python\\Python39\\lib\\site-packages\\openfl\\federated\\plan\\plan.py#171\u001b\\\u001b[2m171\u001b[0m\u001b]8;;\u001b\\\n"
      ]
     },
     "metadata": {},
     "output_type": "display_data"
    },
    {
     "data": {
      "text/html": [
       "<pre style=\"white-space:pre;overflow-x:auto;line-height:normal;font-family:Menlo,'DejaVu Sans Mono',consolas,'Courier New',monospace\"><span style=\"color: #7fbfbf; text-decoration-color: #7fbfbf\">           </span><span style=\"color: #000080; text-decoration-color: #000080\">INFO    </span> Building <span style=\"color: #800000; text-decoration-color: #800000\">🡆</span> Object <span style=\"color: #800000; text-decoration-color: #800000\">CutoffTimeBasedStragglerHandling</span> from <span style=\"color: #800000; text-decoration-color: #800000\">openfl.component.straggler_handling_functions</span> Module.                    <a href=\"file://C:\\Users\\BHSU\\AppData\\Local\\Programs\\Python\\Python39\\lib\\site-packages\\openfl\\federated\\plan\\plan.py\" target=\"_blank\"><span style=\"color: #7f7f7f; text-decoration-color: #7f7f7f\">plan.py</span></a><span style=\"color: #7f7f7f; text-decoration-color: #7f7f7f\">:</span><a href=\"file://C:\\Users\\BHSU\\AppData\\Local\\Programs\\Python\\Python39\\lib\\site-packages\\openfl\\federated\\plan\\plan.py#171\" target=\"_blank\"><span style=\"color: #7f7f7f; text-decoration-color: #7f7f7f\">171</span></a>\n",
       "</pre>\n"
      ],
      "text/plain": [
       "\u001b[2;36m          \u001b[0m\u001b[2;36m \u001b[0m\u001b[34mINFO    \u001b[0m Building \u001b[31m🡆\u001b[0m Object \u001b[31mCutoffTimeBasedStragglerHandling\u001b[0m from \u001b[31mopenfl.component.straggler_handling_functions\u001b[0m Module.                    \u001b]8;id=474031;file://C:\\Users\\BHSU\\AppData\\Local\\Programs\\Python\\Python39\\lib\\site-packages\\openfl\\federated\\plan\\plan.py\u001b\\\u001b[2mplan.py\u001b[0m\u001b]8;;\u001b\\\u001b[2m:\u001b[0m\u001b]8;id=650294;file://C:\\Users\\BHSU\\AppData\\Local\\Programs\\Python\\Python39\\lib\\site-packages\\openfl\\federated\\plan\\plan.py#171\u001b\\\u001b[2m171\u001b[0m\u001b]8;;\u001b\\\n"
      ]
     },
     "metadata": {},
     "output_type": "display_data"
    },
    {
     "data": {
      "text/html": [
       "<pre style=\"white-space:pre;overflow-x:auto;line-height:normal;font-family:Menlo,'DejaVu Sans Mono',consolas,'Courier New',monospace\"><span style=\"color: #7fbfbf; text-decoration-color: #7fbfbf\">           </span><span style=\"color: #000080; text-decoration-color: #000080\">INFO    </span> Building <span style=\"color: #800000; text-decoration-color: #800000\">🡆</span> Object <span style=\"color: #800000; text-decoration-color: #800000\">Aggregator</span> from <span style=\"color: #800000; text-decoration-color: #800000\">openfl.component</span> Module.                                                                       <a href=\"file://C:\\Users\\BHSU\\AppData\\Local\\Programs\\Python\\Python39\\lib\\site-packages\\openfl\\federated\\plan\\plan.py\" target=\"_blank\"><span style=\"color: #7f7f7f; text-decoration-color: #7f7f7f\">plan.py</span></a><span style=\"color: #7f7f7f; text-decoration-color: #7f7f7f\">:</span><a href=\"file://C:\\Users\\BHSU\\AppData\\Local\\Programs\\Python\\Python39\\lib\\site-packages\\openfl\\federated\\plan\\plan.py#171\" target=\"_blank\"><span style=\"color: #7f7f7f; text-decoration-color: #7f7f7f\">171</span></a>\n",
       "</pre>\n"
      ],
      "text/plain": [
       "\u001b[2;36m          \u001b[0m\u001b[2;36m \u001b[0m\u001b[34mINFO    \u001b[0m Building \u001b[31m🡆\u001b[0m Object \u001b[31mAggregator\u001b[0m from \u001b[31mopenfl.component\u001b[0m Module.                                                                       \u001b]8;id=194593;file://C:\\Users\\BHSU\\AppData\\Local\\Programs\\Python\\Python39\\lib\\site-packages\\openfl\\federated\\plan\\plan.py\u001b\\\u001b[2mplan.py\u001b[0m\u001b]8;;\u001b\\\u001b[2m:\u001b[0m\u001b]8;id=457349;file://C:\\Users\\BHSU\\AppData\\Local\\Programs\\Python\\Python39\\lib\\site-packages\\openfl\\federated\\plan\\plan.py#171\u001b\\\u001b[2m171\u001b[0m\u001b]8;;\u001b\\\n"
      ]
     },
     "metadata": {},
     "output_type": "display_data"
    },
    {
     "data": {
      "text/html": [
       "<pre style=\"white-space:pre;overflow-x:auto;line-height:normal;font-family:Menlo,'DejaVu Sans Mono',consolas,'Courier New',monospace\"><span style=\"color: #7fbfbf; text-decoration-color: #7fbfbf\">           </span><span style=\"color: #000080; text-decoration-color: #000080\">INFO    </span> Building <span style=\"color: #800000; text-decoration-color: #800000\">🡆</span> Object <span style=\"color: #800000; text-decoration-color: #800000\">Collaborator</span> from <span style=\"color: #800000; text-decoration-color: #800000\">openfl.component</span> Module.                                                                     <a href=\"file://C:\\Users\\BHSU\\AppData\\Local\\Programs\\Python\\Python39\\lib\\site-packages\\openfl\\federated\\plan\\plan.py\" target=\"_blank\"><span style=\"color: #7f7f7f; text-decoration-color: #7f7f7f\">plan.py</span></a><span style=\"color: #7f7f7f; text-decoration-color: #7f7f7f\">:</span><a href=\"file://C:\\Users\\BHSU\\AppData\\Local\\Programs\\Python\\Python39\\lib\\site-packages\\openfl\\federated\\plan\\plan.py#171\" target=\"_blank\"><span style=\"color: #7f7f7f; text-decoration-color: #7f7f7f\">171</span></a>\n",
       "</pre>\n"
      ],
      "text/plain": [
       "\u001b[2;36m          \u001b[0m\u001b[2;36m \u001b[0m\u001b[34mINFO    \u001b[0m Building \u001b[31m🡆\u001b[0m Object \u001b[31mCollaborator\u001b[0m from \u001b[31mopenfl.component\u001b[0m Module.                                                                     \u001b]8;id=887105;file://C:\\Users\\BHSU\\AppData\\Local\\Programs\\Python\\Python39\\lib\\site-packages\\openfl\\federated\\plan\\plan.py\u001b\\\u001b[2mplan.py\u001b[0m\u001b]8;;\u001b\\\u001b[2m:\u001b[0m\u001b]8;id=958617;file://C:\\Users\\BHSU\\AppData\\Local\\Programs\\Python\\Python39\\lib\\site-packages\\openfl\\federated\\plan\\plan.py#171\u001b\\\u001b[2m171\u001b[0m\u001b]8;;\u001b\\\n"
      ]
     },
     "metadata": {},
     "output_type": "display_data"
    },
    {
     "data": {
      "text/html": [
       "<pre style=\"white-space:pre;overflow-x:auto;line-height:normal;font-family:Menlo,'DejaVu Sans Mono',consolas,'Courier New',monospace\"><span style=\"color: #7fbfbf; text-decoration-color: #7fbfbf\">           </span><span style=\"color: #000080; text-decoration-color: #000080\">INFO    </span> Building <span style=\"color: #800000; text-decoration-color: #800000\">🡆</span> Object <span style=\"color: #800000; text-decoration-color: #800000\">Collaborator</span> from <span style=\"color: #800000; text-decoration-color: #800000\">openfl.component</span> Module.                                                                     <a href=\"file://C:\\Users\\BHSU\\AppData\\Local\\Programs\\Python\\Python39\\lib\\site-packages\\openfl\\federated\\plan\\plan.py\" target=\"_blank\"><span style=\"color: #7f7f7f; text-decoration-color: #7f7f7f\">plan.py</span></a><span style=\"color: #7f7f7f; text-decoration-color: #7f7f7f\">:</span><a href=\"file://C:\\Users\\BHSU\\AppData\\Local\\Programs\\Python\\Python39\\lib\\site-packages\\openfl\\federated\\plan\\plan.py#171\" target=\"_blank\"><span style=\"color: #7f7f7f; text-decoration-color: #7f7f7f\">171</span></a>\n",
       "</pre>\n"
      ],
      "text/plain": [
       "\u001b[2;36m          \u001b[0m\u001b[2;36m \u001b[0m\u001b[34mINFO    \u001b[0m Building \u001b[31m🡆\u001b[0m Object \u001b[31mCollaborator\u001b[0m from \u001b[31mopenfl.component\u001b[0m Module.                                                                     \u001b]8;id=547138;file://C:\\Users\\BHSU\\AppData\\Local\\Programs\\Python\\Python39\\lib\\site-packages\\openfl\\federated\\plan\\plan.py\u001b\\\u001b[2mplan.py\u001b[0m\u001b]8;;\u001b\\\u001b[2m:\u001b[0m\u001b]8;id=535982;file://C:\\Users\\BHSU\\AppData\\Local\\Programs\\Python\\Python39\\lib\\site-packages\\openfl\\federated\\plan\\plan.py#171\u001b\\\u001b[2m171\u001b[0m\u001b]8;;\u001b\\\n"
      ]
     },
     "metadata": {},
     "output_type": "display_data"
    },
    {
     "data": {
      "text/html": [
       "<pre style=\"white-space:pre;overflow-x:auto;line-height:normal;font-family:Menlo,'DejaVu Sans Mono',consolas,'Courier New',monospace\"><span style=\"color: #7fbfbf; text-decoration-color: #7fbfbf\">           </span><span style=\"color: #000080; text-decoration-color: #000080\">INFO    </span> Waiting for tasks<span style=\"color: #808000; text-decoration-color: #808000\">...</span>                                                                                                     <a href=\"file://C:\\Users\\BHSU\\AppData\\Local\\Programs\\Python\\Python39\\lib\\site-packages\\openfl\\component\\collaborator\\collaborator.py\" target=\"_blank\"><span style=\"color: #7f7f7f; text-decoration-color: #7f7f7f\">collaborator.py</span></a><span style=\"color: #7f7f7f; text-decoration-color: #7f7f7f\">:</span><a href=\"file://C:\\Users\\BHSU\\AppData\\Local\\Programs\\Python\\Python39\\lib\\site-packages\\openfl\\component\\collaborator\\collaborator.py#178\" target=\"_blank\"><span style=\"color: #7f7f7f; text-decoration-color: #7f7f7f\">178</span></a>\n",
       "</pre>\n"
      ],
      "text/plain": [
       "\u001b[2;36m          \u001b[0m\u001b[2;36m \u001b[0m\u001b[34mINFO    \u001b[0m Waiting for tasks\u001b[33m...\u001b[0m                                                                                                     \u001b]8;id=854475;file://C:\\Users\\BHSU\\AppData\\Local\\Programs\\Python\\Python39\\lib\\site-packages\\openfl\\component\\collaborator\\collaborator.py\u001b\\\u001b[2mcollaborator.py\u001b[0m\u001b]8;;\u001b\\\u001b[2m:\u001b[0m\u001b]8;id=689476;file://C:\\Users\\BHSU\\AppData\\Local\\Programs\\Python\\Python39\\lib\\site-packages\\openfl\\component\\collaborator\\collaborator.py#178\u001b\\\u001b[2m178\u001b[0m\u001b]8;;\u001b\\\n"
      ]
     },
     "metadata": {},
     "output_type": "display_data"
    },
    {
     "data": {
      "text/html": [
       "<pre style=\"white-space:pre;overflow-x:auto;line-height:normal;font-family:Menlo,'DejaVu Sans Mono',consolas,'Courier New',monospace\"><span style=\"color: #7fbfbf; text-decoration-color: #7fbfbf\">           </span><span style=\"color: #000080; text-decoration-color: #000080\">INFO    </span> Sending tasks to collaborator one for round <span style=\"color: #008080; text-decoration-color: #008080; font-weight: bold\">0</span>                                                                              <a href=\"file://C:\\Users\\BHSU\\AppData\\Local\\Programs\\Python\\Python39\\lib\\site-packages\\openfl\\component\\aggregator\\aggregator.py\" target=\"_blank\"><span style=\"color: #7f7f7f; text-decoration-color: #7f7f7f\">aggregator.py</span></a><span style=\"color: #7f7f7f; text-decoration-color: #7f7f7f\">:</span><a href=\"file://C:\\Users\\BHSU\\AppData\\Local\\Programs\\Python\\Python39\\lib\\site-packages\\openfl\\component\\aggregator\\aggregator.py#329\" target=\"_blank\"><span style=\"color: #7f7f7f; text-decoration-color: #7f7f7f\">329</span></a>\n",
       "</pre>\n"
      ],
      "text/plain": [
       "\u001b[2;36m          \u001b[0m\u001b[2;36m \u001b[0m\u001b[34mINFO    \u001b[0m Sending tasks to collaborator one for round \u001b[1;36m0\u001b[0m                                                                              \u001b]8;id=538920;file://C:\\Users\\BHSU\\AppData\\Local\\Programs\\Python\\Python39\\lib\\site-packages\\openfl\\component\\aggregator\\aggregator.py\u001b\\\u001b[2maggregator.py\u001b[0m\u001b]8;;\u001b\\\u001b[2m:\u001b[0m\u001b]8;id=231103;file://C:\\Users\\BHSU\\AppData\\Local\\Programs\\Python\\Python39\\lib\\site-packages\\openfl\\component\\aggregator\\aggregator.py#329\u001b\\\u001b[2m329\u001b[0m\u001b]8;;\u001b\\\n"
      ]
     },
     "metadata": {},
     "output_type": "display_data"
    },
    {
     "data": {
      "text/html": [
       "<pre style=\"white-space:pre;overflow-x:auto;line-height:normal;font-family:Menlo,'DejaVu Sans Mono',consolas,'Courier New',monospace\"><span style=\"color: #7fbfbf; text-decoration-color: #7fbfbf\">           </span><span style=\"color: #000080; text-decoration-color: #000080\">INFO    </span> Received the following tasks: <span style=\"font-weight: bold\">[</span><span style=\"color: #008000; text-decoration-color: #008000\">'aggregated_model_validation'</span>, <span style=\"color: #008000; text-decoration-color: #008000\">'train'</span>, <span style=\"color: #008000; text-decoration-color: #008000\">'locally_tuned_model_validation'</span><span style=\"font-weight: bold\">]</span>                 <a href=\"file://C:\\Users\\BHSU\\AppData\\Local\\Programs\\Python\\Python39\\lib\\site-packages\\openfl\\component\\collaborator\\collaborator.py\" target=\"_blank\"><span style=\"color: #7f7f7f; text-decoration-color: #7f7f7f\">collaborator.py</span></a><span style=\"color: #7f7f7f; text-decoration-color: #7f7f7f\">:</span><a href=\"file://C:\\Users\\BHSU\\AppData\\Local\\Programs\\Python\\Python39\\lib\\site-packages\\openfl\\component\\collaborator\\collaborator.py#168\" target=\"_blank\"><span style=\"color: #7f7f7f; text-decoration-color: #7f7f7f\">168</span></a>\n",
       "</pre>\n"
      ],
      "text/plain": [
       "\u001b[2;36m          \u001b[0m\u001b[2;36m \u001b[0m\u001b[34mINFO    \u001b[0m Received the following tasks: \u001b[1m[\u001b[0m\u001b[32m'aggregated_model_validation'\u001b[0m, \u001b[32m'train'\u001b[0m, \u001b[32m'locally_tuned_model_validation'\u001b[0m\u001b[1m]\u001b[0m                 \u001b]8;id=336966;file://C:\\Users\\BHSU\\AppData\\Local\\Programs\\Python\\Python39\\lib\\site-packages\\openfl\\component\\collaborator\\collaborator.py\u001b\\\u001b[2mcollaborator.py\u001b[0m\u001b]8;;\u001b\\\u001b[2m:\u001b[0m\u001b]8;id=422480;file://C:\\Users\\BHSU\\AppData\\Local\\Programs\\Python\\Python39\\lib\\site-packages\\openfl\\component\\collaborator\\collaborator.py#168\u001b\\\u001b[2m168\u001b[0m\u001b]8;;\u001b\\\n"
      ]
     },
     "metadata": {},
     "output_type": "display_data"
    },
    {
     "data": {
      "text/html": [
       "<pre style=\"white-space:pre;overflow-x:auto;line-height:normal;font-family:Menlo,'DejaVu Sans Mono',consolas,'Courier New',monospace\"><span style=\"color: #7fbfbf; text-decoration-color: #7fbfbf\">           </span><span style=\"color: #000080; text-decoration-color: #000080\">INFO    </span> Using TaskRunner subclassing API                                                                                         <a href=\"file://C:\\Users\\BHSU\\AppData\\Local\\Programs\\Python\\Python39\\lib\\site-packages\\openfl\\component\\collaborator\\collaborator.py\" target=\"_blank\"><span style=\"color: #7f7f7f; text-decoration-color: #7f7f7f\">collaborator.py</span></a><span style=\"color: #7f7f7f; text-decoration-color: #7f7f7f\">:</span><a href=\"file://C:\\Users\\BHSU\\AppData\\Local\\Programs\\Python\\Python39\\lib\\site-packages\\openfl\\component\\collaborator\\collaborator.py#253\" target=\"_blank\"><span style=\"color: #7f7f7f; text-decoration-color: #7f7f7f\">253</span></a>\n",
       "</pre>\n"
      ],
      "text/plain": [
       "\u001b[2;36m          \u001b[0m\u001b[2;36m \u001b[0m\u001b[34mINFO    \u001b[0m Using TaskRunner subclassing API                                                                                         \u001b]8;id=770159;file://C:\\Users\\BHSU\\AppData\\Local\\Programs\\Python\\Python39\\lib\\site-packages\\openfl\\component\\collaborator\\collaborator.py\u001b\\\u001b[2mcollaborator.py\u001b[0m\u001b]8;;\u001b\\\u001b[2m:\u001b[0m\u001b]8;id=449314;file://C:\\Users\\BHSU\\AppData\\Local\\Programs\\Python\\Python39\\lib\\site-packages\\openfl\\component\\collaborator\\collaborator.py#253\u001b\\\u001b[2m253\u001b[0m\u001b]8;;\u001b\\\n"
      ]
     },
     "metadata": {},
     "output_type": "display_data"
    },
    {
     "name": "stdout",
     "output_type": "stream",
     "text": [
      "282/282 [==============================] - 0s 527us/step - loss: 2.3943 - accuracy: 0.0533\n"
     ]
    },
    {
     "data": {
      "text/html": [
       "<pre style=\"white-space:pre;overflow-x:auto;line-height:normal;font-family:Menlo,'DejaVu Sans Mono',consolas,'Courier New',monospace\"><span style=\"color: #7fbfbf; text-decoration-color: #7fbfbf\">[09:22:45] </span>METRIC   Round <span style=\"color: #008080; text-decoration-color: #008080; font-weight: bold\">0</span>, collaborator one is sending metric for task aggregated_model_validation: accuracy      <span style=\"color: #008080; text-decoration-color: #008080; font-weight: bold\">0.053333</span>                 <a href=\"file://C:\\Users\\BHSU\\AppData\\Local\\Programs\\Python\\Python39\\lib\\site-packages\\openfl\\component\\collaborator\\collaborator.py\" target=\"_blank\"><span style=\"color: #7f7f7f; text-decoration-color: #7f7f7f\">collaborator.py</span></a><span style=\"color: #7f7f7f; text-decoration-color: #7f7f7f\">:</span><a href=\"file://C:\\Users\\BHSU\\AppData\\Local\\Programs\\Python\\Python39\\lib\\site-packages\\openfl\\component\\collaborator\\collaborator.py#415\" target=\"_blank\"><span style=\"color: #7f7f7f; text-decoration-color: #7f7f7f\">415</span></a>\n",
       "</pre>\n"
      ],
      "text/plain": [
       "\u001b[2;36m[09:22:45]\u001b[0m\u001b[2;36m \u001b[0mMETRIC   Round \u001b[1;36m0\u001b[0m, collaborator one is sending metric for task aggregated_model_validation: accuracy      \u001b[1;36m0.053333\u001b[0m                 \u001b]8;id=299603;file://C:\\Users\\BHSU\\AppData\\Local\\Programs\\Python\\Python39\\lib\\site-packages\\openfl\\component\\collaborator\\collaborator.py\u001b\\\u001b[2mcollaborator.py\u001b[0m\u001b]8;;\u001b\\\u001b[2m:\u001b[0m\u001b]8;id=340670;file://C:\\Users\\BHSU\\AppData\\Local\\Programs\\Python\\Python39\\lib\\site-packages\\openfl\\component\\collaborator\\collaborator.py#415\u001b\\\u001b[2m415\u001b[0m\u001b]8;;\u001b\\\n"
      ]
     },
     "metadata": {},
     "output_type": "display_data"
    },
    {
     "data": {
      "text/html": [
       "<pre style=\"white-space:pre;overflow-x:auto;line-height:normal;font-family:Menlo,'DejaVu Sans Mono',consolas,'Courier New',monospace\"><span style=\"color: #7fbfbf; text-decoration-color: #7fbfbf\">           </span><span style=\"color: #000080; text-decoration-color: #000080\">INFO    </span> Collaborator one is sending task results for aggregated_model_validation, round <span style=\"color: #008080; text-decoration-color: #008080; font-weight: bold\">0</span>                                          <a href=\"file://C:\\Users\\BHSU\\AppData\\Local\\Programs\\Python\\Python39\\lib\\site-packages\\openfl\\component\\aggregator\\aggregator.py\" target=\"_blank\"><span style=\"color: #7f7f7f; text-decoration-color: #7f7f7f\">aggregator.py</span></a><span style=\"color: #7f7f7f; text-decoration-color: #7f7f7f\">:</span><a href=\"file://C:\\Users\\BHSU\\AppData\\Local\\Programs\\Python\\Python39\\lib\\site-packages\\openfl\\component\\aggregator\\aggregator.py#520\" target=\"_blank\"><span style=\"color: #7f7f7f; text-decoration-color: #7f7f7f\">520</span></a>\n",
       "</pre>\n"
      ],
      "text/plain": [
       "\u001b[2;36m          \u001b[0m\u001b[2;36m \u001b[0m\u001b[34mINFO    \u001b[0m Collaborator one is sending task results for aggregated_model_validation, round \u001b[1;36m0\u001b[0m                                          \u001b]8;id=947420;file://C:\\Users\\BHSU\\AppData\\Local\\Programs\\Python\\Python39\\lib\\site-packages\\openfl\\component\\aggregator\\aggregator.py\u001b\\\u001b[2maggregator.py\u001b[0m\u001b]8;;\u001b\\\u001b[2m:\u001b[0m\u001b]8;id=846033;file://C:\\Users\\BHSU\\AppData\\Local\\Programs\\Python\\Python39\\lib\\site-packages\\openfl\\component\\aggregator\\aggregator.py#520\u001b\\\u001b[2m520\u001b[0m\u001b]8;;\u001b\\\n"
      ]
     },
     "metadata": {},
     "output_type": "display_data"
    },
    {
     "data": {
      "text/html": [
       "<pre style=\"white-space:pre;overflow-x:auto;line-height:normal;font-family:Menlo,'DejaVu Sans Mono',consolas,'Courier New',monospace\"><span style=\"color: #7fbfbf; text-decoration-color: #7fbfbf\">           </span>METRIC   Round <span style=\"color: #008080; text-decoration-color: #008080; font-weight: bold\">0</span>, collaborator validate_agg aggregated_model_validation result accuracy: <span style=\"color: #008080; text-decoration-color: #008080; font-weight: bold\">0.053333</span>                                   <a href=\"file://C:\\Users\\BHSU\\AppData\\Local\\Programs\\Python\\Python39\\lib\\site-packages\\openfl\\component\\aggregator\\aggregator.py\" target=\"_blank\"><span style=\"color: #7f7f7f; text-decoration-color: #7f7f7f\">aggregator.py</span></a><span style=\"color: #7f7f7f; text-decoration-color: #7f7f7f\">:</span><a href=\"file://C:\\Users\\BHSU\\AppData\\Local\\Programs\\Python\\Python39\\lib\\site-packages\\openfl\\component\\aggregator\\aggregator.py#559\" target=\"_blank\"><span style=\"color: #7f7f7f; text-decoration-color: #7f7f7f\">559</span></a>\n",
       "</pre>\n"
      ],
      "text/plain": [
       "\u001b[2;36m          \u001b[0m\u001b[2;36m \u001b[0mMETRIC   Round \u001b[1;36m0\u001b[0m, collaborator validate_agg aggregated_model_validation result accuracy: \u001b[1;36m0.053333\u001b[0m                                   \u001b]8;id=676530;file://C:\\Users\\BHSU\\AppData\\Local\\Programs\\Python\\Python39\\lib\\site-packages\\openfl\\component\\aggregator\\aggregator.py\u001b\\\u001b[2maggregator.py\u001b[0m\u001b]8;;\u001b\\\u001b[2m:\u001b[0m\u001b]8;id=993081;file://C:\\Users\\BHSU\\AppData\\Local\\Programs\\Python\\Python39\\lib\\site-packages\\openfl\\component\\aggregator\\aggregator.py#559\u001b\\\u001b[2m559\u001b[0m\u001b]8;;\u001b\\\n"
      ]
     },
     "metadata": {},
     "output_type": "display_data"
    },
    {
     "data": {
      "text/html": [
       "<pre style=\"white-space:pre;overflow-x:auto;line-height:normal;font-family:Menlo,'DejaVu Sans Mono',consolas,'Courier New',monospace\"><span style=\"color: #7fbfbf; text-decoration-color: #7fbfbf\">           </span><span style=\"color: #000080; text-decoration-color: #000080\">INFO    </span> Using TaskRunner subclassing API                                                                                         <a href=\"file://C:\\Users\\BHSU\\AppData\\Local\\Programs\\Python\\Python39\\lib\\site-packages\\openfl\\component\\collaborator\\collaborator.py\" target=\"_blank\"><span style=\"color: #7f7f7f; text-decoration-color: #7f7f7f\">collaborator.py</span></a><span style=\"color: #7f7f7f; text-decoration-color: #7f7f7f\">:</span><a href=\"file://C:\\Users\\BHSU\\AppData\\Local\\Programs\\Python\\Python39\\lib\\site-packages\\openfl\\component\\collaborator\\collaborator.py#253\" target=\"_blank\"><span style=\"color: #7f7f7f; text-decoration-color: #7f7f7f\">253</span></a>\n",
       "</pre>\n"
      ],
      "text/plain": [
       "\u001b[2;36m          \u001b[0m\u001b[2;36m \u001b[0m\u001b[34mINFO    \u001b[0m Using TaskRunner subclassing API                                                                                         \u001b]8;id=906466;file://C:\\Users\\BHSU\\AppData\\Local\\Programs\\Python\\Python39\\lib\\site-packages\\openfl\\component\\collaborator\\collaborator.py\u001b\\\u001b[2mcollaborator.py\u001b[0m\u001b]8;;\u001b\\\u001b[2m:\u001b[0m\u001b]8;id=958632;file://C:\\Users\\BHSU\\AppData\\Local\\Programs\\Python\\Python39\\lib\\site-packages\\openfl\\component\\collaborator\\collaborator.py#253\u001b\\\u001b[2m253\u001b[0m\u001b]8;;\u001b\\\n"
      ]
     },
     "metadata": {},
     "output_type": "display_data"
    },
    {
     "data": {
      "text/html": [
       "<pre style=\"white-space:pre;overflow-x:auto;line-height:normal;font-family:Menlo,'DejaVu Sans Mono',consolas,'Courier New',monospace\"><span style=\"color: #7fbfbf; text-decoration-color: #7fbfbf\">           </span><span style=\"color: #000080; text-decoration-color: #000080\">INFO    </span> Run <span style=\"color: #008080; text-decoration-color: #008080; font-weight: bold\">0</span> epoch of <span style=\"color: #008080; text-decoration-color: #008080; font-weight: bold\">0</span> round                                                                                                    <a href=\"file://C:\\Users\\BHSU\\AppData\\Local\\Programs\\Python\\Python39\\lib\\site-packages\\openfl\\federated\\task\\runner_keras.py\" target=\"_blank\"><span style=\"color: #7f7f7f; text-decoration-color: #7f7f7f\">runner_keras.py</span></a><span style=\"color: #7f7f7f; text-decoration-color: #7f7f7f\">:</span><a href=\"file://C:\\Users\\BHSU\\AppData\\Local\\Programs\\Python\\Python39\\lib\\site-packages\\openfl\\federated\\task\\runner_keras.py#83\" target=\"_blank\"><span style=\"color: #7f7f7f; text-decoration-color: #7f7f7f\">83</span></a>\n",
       "</pre>\n"
      ],
      "text/plain": [
       "\u001b[2;36m          \u001b[0m\u001b[2;36m \u001b[0m\u001b[34mINFO    \u001b[0m Run \u001b[1;36m0\u001b[0m epoch of \u001b[1;36m0\u001b[0m round                                                                                                    \u001b]8;id=397045;file://C:\\Users\\BHSU\\AppData\\Local\\Programs\\Python\\Python39\\lib\\site-packages\\openfl\\federated\\task\\runner_keras.py\u001b\\\u001b[2mrunner_keras.py\u001b[0m\u001b]8;;\u001b\\\u001b[2m:\u001b[0m\u001b]8;id=458533;file://C:\\Users\\BHSU\\AppData\\Local\\Programs\\Python\\Python39\\lib\\site-packages\\openfl\\federated\\task\\runner_keras.py#83\u001b\\\u001b[2m83\u001b[0m\u001b]8;;\u001b\\\n"
      ]
     },
     "metadata": {},
     "output_type": "display_data"
    },
    {
     "name": "stdout",
     "output_type": "stream",
     "text": [
      "657/657 [==============================] - 1s 652us/step - loss: 0.5306 - accuracy: 0.8402\n"
     ]
    },
    {
     "data": {
      "text/html": [
       "<pre style=\"white-space:pre;overflow-x:auto;line-height:normal;font-family:Menlo,'DejaVu Sans Mono',consolas,'Courier New',monospace\"><span style=\"color: #7fbfbf; text-decoration-color: #7fbfbf\">           </span>METRIC   Round <span style=\"color: #008080; text-decoration-color: #008080; font-weight: bold\">0</span>, collaborator one is sending metric for task train: loss        <span style=\"color: #008080; text-decoration-color: #008080; font-weight: bold\">0.530634</span>                                         <a href=\"file://C:\\Users\\BHSU\\AppData\\Local\\Programs\\Python\\Python39\\lib\\site-packages\\openfl\\component\\collaborator\\collaborator.py\" target=\"_blank\"><span style=\"color: #7f7f7f; text-decoration-color: #7f7f7f\">collaborator.py</span></a><span style=\"color: #7f7f7f; text-decoration-color: #7f7f7f\">:</span><a href=\"file://C:\\Users\\BHSU\\AppData\\Local\\Programs\\Python\\Python39\\lib\\site-packages\\openfl\\component\\collaborator\\collaborator.py#415\" target=\"_blank\"><span style=\"color: #7f7f7f; text-decoration-color: #7f7f7f\">415</span></a>\n",
       "</pre>\n"
      ],
      "text/plain": [
       "\u001b[2;36m          \u001b[0m\u001b[2;36m \u001b[0mMETRIC   Round \u001b[1;36m0\u001b[0m, collaborator one is sending metric for task train: loss        \u001b[1;36m0.530634\u001b[0m                                         \u001b]8;id=821174;file://C:\\Users\\BHSU\\AppData\\Local\\Programs\\Python\\Python39\\lib\\site-packages\\openfl\\component\\collaborator\\collaborator.py\u001b\\\u001b[2mcollaborator.py\u001b[0m\u001b]8;;\u001b\\\u001b[2m:\u001b[0m\u001b]8;id=530268;file://C:\\Users\\BHSU\\AppData\\Local\\Programs\\Python\\Python39\\lib\\site-packages\\openfl\\component\\collaborator\\collaborator.py#415\u001b\\\u001b[2m415\u001b[0m\u001b]8;;\u001b\\\n"
      ]
     },
     "metadata": {},
     "output_type": "display_data"
    },
    {
     "data": {
      "text/html": [
       "<pre style=\"white-space:pre;overflow-x:auto;line-height:normal;font-family:Menlo,'DejaVu Sans Mono',consolas,'Courier New',monospace\"><span style=\"color: #7fbfbf; text-decoration-color: #7fbfbf\">           </span><span style=\"color: #000080; text-decoration-color: #000080\">INFO    </span> Collaborator one is sending task results for train, round <span style=\"color: #008080; text-decoration-color: #008080; font-weight: bold\">0</span>                                                                <a href=\"file://C:\\Users\\BHSU\\AppData\\Local\\Programs\\Python\\Python39\\lib\\site-packages\\openfl\\component\\aggregator\\aggregator.py\" target=\"_blank\"><span style=\"color: #7f7f7f; text-decoration-color: #7f7f7f\">aggregator.py</span></a><span style=\"color: #7f7f7f; text-decoration-color: #7f7f7f\">:</span><a href=\"file://C:\\Users\\BHSU\\AppData\\Local\\Programs\\Python\\Python39\\lib\\site-packages\\openfl\\component\\aggregator\\aggregator.py#520\" target=\"_blank\"><span style=\"color: #7f7f7f; text-decoration-color: #7f7f7f\">520</span></a>\n",
       "</pre>\n"
      ],
      "text/plain": [
       "\u001b[2;36m          \u001b[0m\u001b[2;36m \u001b[0m\u001b[34mINFO    \u001b[0m Collaborator one is sending task results for train, round \u001b[1;36m0\u001b[0m                                                                \u001b]8;id=575947;file://C:\\Users\\BHSU\\AppData\\Local\\Programs\\Python\\Python39\\lib\\site-packages\\openfl\\component\\aggregator\\aggregator.py\u001b\\\u001b[2maggregator.py\u001b[0m\u001b]8;;\u001b\\\u001b[2m:\u001b[0m\u001b]8;id=806408;file://C:\\Users\\BHSU\\AppData\\Local\\Programs\\Python\\Python39\\lib\\site-packages\\openfl\\component\\aggregator\\aggregator.py#520\u001b\\\u001b[2m520\u001b[0m\u001b]8;;\u001b\\\n"
      ]
     },
     "metadata": {},
     "output_type": "display_data"
    },
    {
     "data": {
      "text/html": [
       "<pre style=\"white-space:pre;overflow-x:auto;line-height:normal;font-family:Menlo,'DejaVu Sans Mono',consolas,'Courier New',monospace\"><span style=\"color: #7fbfbf; text-decoration-color: #7fbfbf\">           </span>METRIC   Round <span style=\"color: #008080; text-decoration-color: #008080; font-weight: bold\">0</span>, collaborator one train result loss:    <span style=\"color: #008080; text-decoration-color: #008080; font-weight: bold\">0.530634</span>                                                                   <a href=\"file://C:\\Users\\BHSU\\AppData\\Local\\Programs\\Python\\Python39\\lib\\site-packages\\openfl\\component\\aggregator\\aggregator.py\" target=\"_blank\"><span style=\"color: #7f7f7f; text-decoration-color: #7f7f7f\">aggregator.py</span></a><span style=\"color: #7f7f7f; text-decoration-color: #7f7f7f\">:</span><a href=\"file://C:\\Users\\BHSU\\AppData\\Local\\Programs\\Python\\Python39\\lib\\site-packages\\openfl\\component\\aggregator\\aggregator.py#559\" target=\"_blank\"><span style=\"color: #7f7f7f; text-decoration-color: #7f7f7f\">559</span></a>\n",
       "</pre>\n"
      ],
      "text/plain": [
       "\u001b[2;36m          \u001b[0m\u001b[2;36m \u001b[0mMETRIC   Round \u001b[1;36m0\u001b[0m, collaborator one train result loss:    \u001b[1;36m0.530634\u001b[0m                                                                   \u001b]8;id=982247;file://C:\\Users\\BHSU\\AppData\\Local\\Programs\\Python\\Python39\\lib\\site-packages\\openfl\\component\\aggregator\\aggregator.py\u001b\\\u001b[2maggregator.py\u001b[0m\u001b]8;;\u001b\\\u001b[2m:\u001b[0m\u001b]8;id=29544;file://C:\\Users\\BHSU\\AppData\\Local\\Programs\\Python\\Python39\\lib\\site-packages\\openfl\\component\\aggregator\\aggregator.py#559\u001b\\\u001b[2m559\u001b[0m\u001b]8;;\u001b\\\n"
      ]
     },
     "metadata": {},
     "output_type": "display_data"
    },
    {
     "data": {
      "text/html": [
       "<pre style=\"white-space:pre;overflow-x:auto;line-height:normal;font-family:Menlo,'DejaVu Sans Mono',consolas,'Courier New',monospace\"><span style=\"color: #7fbfbf; text-decoration-color: #7fbfbf\">           </span><span style=\"color: #000080; text-decoration-color: #000080\">INFO    </span> Using TaskRunner subclassing API                                                                                         <a href=\"file://C:\\Users\\BHSU\\AppData\\Local\\Programs\\Python\\Python39\\lib\\site-packages\\openfl\\component\\collaborator\\collaborator.py\" target=\"_blank\"><span style=\"color: #7f7f7f; text-decoration-color: #7f7f7f\">collaborator.py</span></a><span style=\"color: #7f7f7f; text-decoration-color: #7f7f7f\">:</span><a href=\"file://C:\\Users\\BHSU\\AppData\\Local\\Programs\\Python\\Python39\\lib\\site-packages\\openfl\\component\\collaborator\\collaborator.py#253\" target=\"_blank\"><span style=\"color: #7f7f7f; text-decoration-color: #7f7f7f\">253</span></a>\n",
       "</pre>\n"
      ],
      "text/plain": [
       "\u001b[2;36m          \u001b[0m\u001b[2;36m \u001b[0m\u001b[34mINFO    \u001b[0m Using TaskRunner subclassing API                                                                                         \u001b]8;id=341948;file://C:\\Users\\BHSU\\AppData\\Local\\Programs\\Python\\Python39\\lib\\site-packages\\openfl\\component\\collaborator\\collaborator.py\u001b\\\u001b[2mcollaborator.py\u001b[0m\u001b]8;;\u001b\\\u001b[2m:\u001b[0m\u001b]8;id=969712;file://C:\\Users\\BHSU\\AppData\\Local\\Programs\\Python\\Python39\\lib\\site-packages\\openfl\\component\\collaborator\\collaborator.py#253\u001b\\\u001b[2m253\u001b[0m\u001b]8;;\u001b\\\n"
      ]
     },
     "metadata": {},
     "output_type": "display_data"
    },
    {
     "name": "stdout",
     "output_type": "stream",
     "text": [
      "282/282 [==============================] - 0s 509us/step - loss: 0.3148 - accuracy: 0.9007\n"
     ]
    },
    {
     "data": {
      "text/html": [
       "<pre style=\"white-space:pre;overflow-x:auto;line-height:normal;font-family:Menlo,'DejaVu Sans Mono',consolas,'Courier New',monospace\"><span style=\"color: #7fbfbf; text-decoration-color: #7fbfbf\">           </span>METRIC   Round <span style=\"color: #008080; text-decoration-color: #008080; font-weight: bold\">0</span>, collaborator one is sending metric for task locally_tuned_model_validation: accuracy   <span style=\"color: #008080; text-decoration-color: #008080; font-weight: bold\">0.900667</span>                 <a href=\"file://C:\\Users\\BHSU\\AppData\\Local\\Programs\\Python\\Python39\\lib\\site-packages\\openfl\\component\\collaborator\\collaborator.py\" target=\"_blank\"><span style=\"color: #7f7f7f; text-decoration-color: #7f7f7f\">collaborator.py</span></a><span style=\"color: #7f7f7f; text-decoration-color: #7f7f7f\">:</span><a href=\"file://C:\\Users\\BHSU\\AppData\\Local\\Programs\\Python\\Python39\\lib\\site-packages\\openfl\\component\\collaborator\\collaborator.py#415\" target=\"_blank\"><span style=\"color: #7f7f7f; text-decoration-color: #7f7f7f\">415</span></a>\n",
       "</pre>\n"
      ],
      "text/plain": [
       "\u001b[2;36m          \u001b[0m\u001b[2;36m \u001b[0mMETRIC   Round \u001b[1;36m0\u001b[0m, collaborator one is sending metric for task locally_tuned_model_validation: accuracy   \u001b[1;36m0.900667\u001b[0m                 \u001b]8;id=570442;file://C:\\Users\\BHSU\\AppData\\Local\\Programs\\Python\\Python39\\lib\\site-packages\\openfl\\component\\collaborator\\collaborator.py\u001b\\\u001b[2mcollaborator.py\u001b[0m\u001b]8;;\u001b\\\u001b[2m:\u001b[0m\u001b]8;id=321166;file://C:\\Users\\BHSU\\AppData\\Local\\Programs\\Python\\Python39\\lib\\site-packages\\openfl\\component\\collaborator\\collaborator.py#415\u001b\\\u001b[2m415\u001b[0m\u001b]8;;\u001b\\\n"
      ]
     },
     "metadata": {},
     "output_type": "display_data"
    },
    {
     "data": {
      "text/html": [
       "<pre style=\"white-space:pre;overflow-x:auto;line-height:normal;font-family:Menlo,'DejaVu Sans Mono',consolas,'Courier New',monospace\"><span style=\"color: #7fbfbf; text-decoration-color: #7fbfbf\">           </span><span style=\"color: #000080; text-decoration-color: #000080\">INFO    </span> Collaborator one is sending task results for locally_tuned_model_validation, round <span style=\"color: #008080; text-decoration-color: #008080; font-weight: bold\">0</span>                                       <a href=\"file://C:\\Users\\BHSU\\AppData\\Local\\Programs\\Python\\Python39\\lib\\site-packages\\openfl\\component\\aggregator\\aggregator.py\" target=\"_blank\"><span style=\"color: #7f7f7f; text-decoration-color: #7f7f7f\">aggregator.py</span></a><span style=\"color: #7f7f7f; text-decoration-color: #7f7f7f\">:</span><a href=\"file://C:\\Users\\BHSU\\AppData\\Local\\Programs\\Python\\Python39\\lib\\site-packages\\openfl\\component\\aggregator\\aggregator.py#520\" target=\"_blank\"><span style=\"color: #7f7f7f; text-decoration-color: #7f7f7f\">520</span></a>\n",
       "</pre>\n"
      ],
      "text/plain": [
       "\u001b[2;36m          \u001b[0m\u001b[2;36m \u001b[0m\u001b[34mINFO    \u001b[0m Collaborator one is sending task results for locally_tuned_model_validation, round \u001b[1;36m0\u001b[0m                                       \u001b]8;id=199843;file://C:\\Users\\BHSU\\AppData\\Local\\Programs\\Python\\Python39\\lib\\site-packages\\openfl\\component\\aggregator\\aggregator.py\u001b\\\u001b[2maggregator.py\u001b[0m\u001b]8;;\u001b\\\u001b[2m:\u001b[0m\u001b]8;id=644291;file://C:\\Users\\BHSU\\AppData\\Local\\Programs\\Python\\Python39\\lib\\site-packages\\openfl\\component\\aggregator\\aggregator.py#520\u001b\\\u001b[2m520\u001b[0m\u001b]8;;\u001b\\\n"
      ]
     },
     "metadata": {},
     "output_type": "display_data"
    },
    {
     "data": {
      "text/html": [
       "<pre style=\"white-space:pre;overflow-x:auto;line-height:normal;font-family:Menlo,'DejaVu Sans Mono',consolas,'Courier New',monospace\"><span style=\"color: #7fbfbf; text-decoration-color: #7fbfbf\">           </span>METRIC   Round <span style=\"color: #008080; text-decoration-color: #008080; font-weight: bold\">0</span>, collaborator validate_local locally_tuned_model_validation result accuracy:    <span style=\"color: #008080; text-decoration-color: #008080; font-weight: bold\">0.900667</span>                           <a href=\"file://C:\\Users\\BHSU\\AppData\\Local\\Programs\\Python\\Python39\\lib\\site-packages\\openfl\\component\\aggregator\\aggregator.py\" target=\"_blank\"><span style=\"color: #7f7f7f; text-decoration-color: #7f7f7f\">aggregator.py</span></a><span style=\"color: #7f7f7f; text-decoration-color: #7f7f7f\">:</span><a href=\"file://C:\\Users\\BHSU\\AppData\\Local\\Programs\\Python\\Python39\\lib\\site-packages\\openfl\\component\\aggregator\\aggregator.py#559\" target=\"_blank\"><span style=\"color: #7f7f7f; text-decoration-color: #7f7f7f\">559</span></a>\n",
       "</pre>\n"
      ],
      "text/plain": [
       "\u001b[2;36m          \u001b[0m\u001b[2;36m \u001b[0mMETRIC   Round \u001b[1;36m0\u001b[0m, collaborator validate_local locally_tuned_model_validation result accuracy:    \u001b[1;36m0.900667\u001b[0m                           \u001b]8;id=463644;file://C:\\Users\\BHSU\\AppData\\Local\\Programs\\Python\\Python39\\lib\\site-packages\\openfl\\component\\aggregator\\aggregator.py\u001b\\\u001b[2maggregator.py\u001b[0m\u001b]8;;\u001b\\\u001b[2m:\u001b[0m\u001b]8;id=740548;file://C:\\Users\\BHSU\\AppData\\Local\\Programs\\Python\\Python39\\lib\\site-packages\\openfl\\component\\aggregator\\aggregator.py#559\u001b\\\u001b[2m559\u001b[0m\u001b]8;;\u001b\\\n"
      ]
     },
     "metadata": {},
     "output_type": "display_data"
    },
    {
     "data": {
      "text/html": [
       "<pre style=\"white-space:pre;overflow-x:auto;line-height:normal;font-family:Menlo,'DejaVu Sans Mono',consolas,'Courier New',monospace\"><span style=\"color: #7fbfbf; text-decoration-color: #7fbfbf\">           </span><span style=\"color: #000080; text-decoration-color: #000080\">INFO    </span> All tasks completed on one for round <span style=\"color: #008080; text-decoration-color: #008080; font-weight: bold\">0</span><span style=\"color: #808000; text-decoration-color: #808000\">...</span>                                                                                <a href=\"file://C:\\Users\\BHSU\\AppData\\Local\\Programs\\Python\\Python39\\lib\\site-packages\\openfl\\component\\collaborator\\collaborator.py\" target=\"_blank\"><span style=\"color: #7f7f7f; text-decoration-color: #7f7f7f\">collaborator.py</span></a><span style=\"color: #7f7f7f; text-decoration-color: #7f7f7f\">:</span><a href=\"file://C:\\Users\\BHSU\\AppData\\Local\\Programs\\Python\\Python39\\lib\\site-packages\\openfl\\component\\collaborator\\collaborator.py#171\" target=\"_blank\"><span style=\"color: #7f7f7f; text-decoration-color: #7f7f7f\">171</span></a>\n",
       "</pre>\n"
      ],
      "text/plain": [
       "\u001b[2;36m          \u001b[0m\u001b[2;36m \u001b[0m\u001b[34mINFO    \u001b[0m All tasks completed on one for round \u001b[1;36m0\u001b[0m\u001b[33m...\u001b[0m                                                                                \u001b]8;id=862817;file://C:\\Users\\BHSU\\AppData\\Local\\Programs\\Python\\Python39\\lib\\site-packages\\openfl\\component\\collaborator\\collaborator.py\u001b\\\u001b[2mcollaborator.py\u001b[0m\u001b]8;;\u001b\\\u001b[2m:\u001b[0m\u001b]8;id=798676;file://C:\\Users\\BHSU\\AppData\\Local\\Programs\\Python\\Python39\\lib\\site-packages\\openfl\\component\\collaborator\\collaborator.py#171\u001b\\\u001b[2m171\u001b[0m\u001b]8;;\u001b\\\n"
      ]
     },
     "metadata": {},
     "output_type": "display_data"
    },
    {
     "data": {
      "text/html": [
       "<pre style=\"white-space:pre;overflow-x:auto;line-height:normal;font-family:Menlo,'DejaVu Sans Mono',consolas,'Courier New',monospace\"><span style=\"color: #7fbfbf; text-decoration-color: #7fbfbf\">           </span><span style=\"color: #000080; text-decoration-color: #000080\">INFO    </span> Waiting for tasks<span style=\"color: #808000; text-decoration-color: #808000\">...</span>                                                                                                     <a href=\"file://C:\\Users\\BHSU\\AppData\\Local\\Programs\\Python\\Python39\\lib\\site-packages\\openfl\\component\\collaborator\\collaborator.py\" target=\"_blank\"><span style=\"color: #7f7f7f; text-decoration-color: #7f7f7f\">collaborator.py</span></a><span style=\"color: #7f7f7f; text-decoration-color: #7f7f7f\">:</span><a href=\"file://C:\\Users\\BHSU\\AppData\\Local\\Programs\\Python\\Python39\\lib\\site-packages\\openfl\\component\\collaborator\\collaborator.py#178\" target=\"_blank\"><span style=\"color: #7f7f7f; text-decoration-color: #7f7f7f\">178</span></a>\n",
       "</pre>\n"
      ],
      "text/plain": [
       "\u001b[2;36m          \u001b[0m\u001b[2;36m \u001b[0m\u001b[34mINFO    \u001b[0m Waiting for tasks\u001b[33m...\u001b[0m                                                                                                     \u001b]8;id=750710;file://C:\\Users\\BHSU\\AppData\\Local\\Programs\\Python\\Python39\\lib\\site-packages\\openfl\\component\\collaborator\\collaborator.py\u001b\\\u001b[2mcollaborator.py\u001b[0m\u001b]8;;\u001b\\\u001b[2m:\u001b[0m\u001b]8;id=277983;file://C:\\Users\\BHSU\\AppData\\Local\\Programs\\Python\\Python39\\lib\\site-packages\\openfl\\component\\collaborator\\collaborator.py#178\u001b\\\u001b[2m178\u001b[0m\u001b]8;;\u001b\\\n"
      ]
     },
     "metadata": {},
     "output_type": "display_data"
    },
    {
     "data": {
      "text/html": [
       "<pre style=\"white-space:pre;overflow-x:auto;line-height:normal;font-family:Menlo,'DejaVu Sans Mono',consolas,'Courier New',monospace\"><span style=\"color: #7fbfbf; text-decoration-color: #7fbfbf\">           </span><span style=\"color: #000080; text-decoration-color: #000080\">INFO    </span> Sending tasks to collaborator two for round <span style=\"color: #008080; text-decoration-color: #008080; font-weight: bold\">0</span>                                                                              <a href=\"file://C:\\Users\\BHSU\\AppData\\Local\\Programs\\Python\\Python39\\lib\\site-packages\\openfl\\component\\aggregator\\aggregator.py\" target=\"_blank\"><span style=\"color: #7f7f7f; text-decoration-color: #7f7f7f\">aggregator.py</span></a><span style=\"color: #7f7f7f; text-decoration-color: #7f7f7f\">:</span><a href=\"file://C:\\Users\\BHSU\\AppData\\Local\\Programs\\Python\\Python39\\lib\\site-packages\\openfl\\component\\aggregator\\aggregator.py#329\" target=\"_blank\"><span style=\"color: #7f7f7f; text-decoration-color: #7f7f7f\">329</span></a>\n",
       "</pre>\n"
      ],
      "text/plain": [
       "\u001b[2;36m          \u001b[0m\u001b[2;36m \u001b[0m\u001b[34mINFO    \u001b[0m Sending tasks to collaborator two for round \u001b[1;36m0\u001b[0m                                                                              \u001b]8;id=213640;file://C:\\Users\\BHSU\\AppData\\Local\\Programs\\Python\\Python39\\lib\\site-packages\\openfl\\component\\aggregator\\aggregator.py\u001b\\\u001b[2maggregator.py\u001b[0m\u001b]8;;\u001b\\\u001b[2m:\u001b[0m\u001b]8;id=312853;file://C:\\Users\\BHSU\\AppData\\Local\\Programs\\Python\\Python39\\lib\\site-packages\\openfl\\component\\aggregator\\aggregator.py#329\u001b\\\u001b[2m329\u001b[0m\u001b]8;;\u001b\\\n"
      ]
     },
     "metadata": {},
     "output_type": "display_data"
    },
    {
     "data": {
      "text/html": [
       "<pre style=\"white-space:pre;overflow-x:auto;line-height:normal;font-family:Menlo,'DejaVu Sans Mono',consolas,'Courier New',monospace\"><span style=\"color: #7fbfbf; text-decoration-color: #7fbfbf\">           </span><span style=\"color: #000080; text-decoration-color: #000080\">INFO    </span> Received the following tasks: <span style=\"font-weight: bold\">[</span><span style=\"color: #008000; text-decoration-color: #008000\">'aggregated_model_validation'</span>, <span style=\"color: #008000; text-decoration-color: #008000\">'train'</span>, <span style=\"color: #008000; text-decoration-color: #008000\">'locally_tuned_model_validation'</span><span style=\"font-weight: bold\">]</span>                 <a href=\"file://C:\\Users\\BHSU\\AppData\\Local\\Programs\\Python\\Python39\\lib\\site-packages\\openfl\\component\\collaborator\\collaborator.py\" target=\"_blank\"><span style=\"color: #7f7f7f; text-decoration-color: #7f7f7f\">collaborator.py</span></a><span style=\"color: #7f7f7f; text-decoration-color: #7f7f7f\">:</span><a href=\"file://C:\\Users\\BHSU\\AppData\\Local\\Programs\\Python\\Python39\\lib\\site-packages\\openfl\\component\\collaborator\\collaborator.py#168\" target=\"_blank\"><span style=\"color: #7f7f7f; text-decoration-color: #7f7f7f\">168</span></a>\n",
       "</pre>\n"
      ],
      "text/plain": [
       "\u001b[2;36m          \u001b[0m\u001b[2;36m \u001b[0m\u001b[34mINFO    \u001b[0m Received the following tasks: \u001b[1m[\u001b[0m\u001b[32m'aggregated_model_validation'\u001b[0m, \u001b[32m'train'\u001b[0m, \u001b[32m'locally_tuned_model_validation'\u001b[0m\u001b[1m]\u001b[0m                 \u001b]8;id=782797;file://C:\\Users\\BHSU\\AppData\\Local\\Programs\\Python\\Python39\\lib\\site-packages\\openfl\\component\\collaborator\\collaborator.py\u001b\\\u001b[2mcollaborator.py\u001b[0m\u001b]8;;\u001b\\\u001b[2m:\u001b[0m\u001b]8;id=540363;file://C:\\Users\\BHSU\\AppData\\Local\\Programs\\Python\\Python39\\lib\\site-packages\\openfl\\component\\collaborator\\collaborator.py#168\u001b\\\u001b[2m168\u001b[0m\u001b]8;;\u001b\\\n"
      ]
     },
     "metadata": {},
     "output_type": "display_data"
    },
    {
     "data": {
      "text/html": [
       "<pre style=\"white-space:pre;overflow-x:auto;line-height:normal;font-family:Menlo,'DejaVu Sans Mono',consolas,'Courier New',monospace\"><span style=\"color: #7fbfbf; text-decoration-color: #7fbfbf\">           </span><span style=\"color: #000080; text-decoration-color: #000080\">INFO    </span> Using TaskRunner subclassing API                                                                                         <a href=\"file://C:\\Users\\BHSU\\AppData\\Local\\Programs\\Python\\Python39\\lib\\site-packages\\openfl\\component\\collaborator\\collaborator.py\" target=\"_blank\"><span style=\"color: #7f7f7f; text-decoration-color: #7f7f7f\">collaborator.py</span></a><span style=\"color: #7f7f7f; text-decoration-color: #7f7f7f\">:</span><a href=\"file://C:\\Users\\BHSU\\AppData\\Local\\Programs\\Python\\Python39\\lib\\site-packages\\openfl\\component\\collaborator\\collaborator.py#253\" target=\"_blank\"><span style=\"color: #7f7f7f; text-decoration-color: #7f7f7f\">253</span></a>\n",
       "</pre>\n"
      ],
      "text/plain": [
       "\u001b[2;36m          \u001b[0m\u001b[2;36m \u001b[0m\u001b[34mINFO    \u001b[0m Using TaskRunner subclassing API                                                                                         \u001b]8;id=250890;file://C:\\Users\\BHSU\\AppData\\Local\\Programs\\Python\\Python39\\lib\\site-packages\\openfl\\component\\collaborator\\collaborator.py\u001b\\\u001b[2mcollaborator.py\u001b[0m\u001b]8;;\u001b\\\u001b[2m:\u001b[0m\u001b]8;id=745086;file://C:\\Users\\BHSU\\AppData\\Local\\Programs\\Python\\Python39\\lib\\site-packages\\openfl\\component\\collaborator\\collaborator.py#253\u001b\\\u001b[2m253\u001b[0m\u001b]8;;\u001b\\\n"
      ]
     },
     "metadata": {},
     "output_type": "display_data"
    },
    {
     "name": "stdout",
     "output_type": "stream",
     "text": [
      "282/282 [==============================] - 0s 591us/step - loss: 2.3912 - accuracy: 0.0544\n"
     ]
    },
    {
     "data": {
      "text/html": [
       "<pre style=\"white-space:pre;overflow-x:auto;line-height:normal;font-family:Menlo,'DejaVu Sans Mono',consolas,'Courier New',monospace\"><span style=\"color: #7fbfbf; text-decoration-color: #7fbfbf\">[09:22:46] </span>METRIC   Round <span style=\"color: #008080; text-decoration-color: #008080; font-weight: bold\">0</span>, collaborator two is sending metric for task aggregated_model_validation: accuracy      <span style=\"color: #008080; text-decoration-color: #008080; font-weight: bold\">0.054444</span>                 <a href=\"file://C:\\Users\\BHSU\\AppData\\Local\\Programs\\Python\\Python39\\lib\\site-packages\\openfl\\component\\collaborator\\collaborator.py\" target=\"_blank\"><span style=\"color: #7f7f7f; text-decoration-color: #7f7f7f\">collaborator.py</span></a><span style=\"color: #7f7f7f; text-decoration-color: #7f7f7f\">:</span><a href=\"file://C:\\Users\\BHSU\\AppData\\Local\\Programs\\Python\\Python39\\lib\\site-packages\\openfl\\component\\collaborator\\collaborator.py#415\" target=\"_blank\"><span style=\"color: #7f7f7f; text-decoration-color: #7f7f7f\">415</span></a>\n",
       "</pre>\n"
      ],
      "text/plain": [
       "\u001b[2;36m[09:22:46]\u001b[0m\u001b[2;36m \u001b[0mMETRIC   Round \u001b[1;36m0\u001b[0m, collaborator two is sending metric for task aggregated_model_validation: accuracy      \u001b[1;36m0.054444\u001b[0m                 \u001b]8;id=350460;file://C:\\Users\\BHSU\\AppData\\Local\\Programs\\Python\\Python39\\lib\\site-packages\\openfl\\component\\collaborator\\collaborator.py\u001b\\\u001b[2mcollaborator.py\u001b[0m\u001b]8;;\u001b\\\u001b[2m:\u001b[0m\u001b]8;id=220970;file://C:\\Users\\BHSU\\AppData\\Local\\Programs\\Python\\Python39\\lib\\site-packages\\openfl\\component\\collaborator\\collaborator.py#415\u001b\\\u001b[2m415\u001b[0m\u001b]8;;\u001b\\\n"
      ]
     },
     "metadata": {},
     "output_type": "display_data"
    },
    {
     "data": {
      "text/html": [
       "<pre style=\"white-space:pre;overflow-x:auto;line-height:normal;font-family:Menlo,'DejaVu Sans Mono',consolas,'Courier New',monospace\"><span style=\"color: #7fbfbf; text-decoration-color: #7fbfbf\">           </span><span style=\"color: #000080; text-decoration-color: #000080\">INFO    </span> Collaborator two is sending task results for aggregated_model_validation, round <span style=\"color: #008080; text-decoration-color: #008080; font-weight: bold\">0</span>                                          <a href=\"file://C:\\Users\\BHSU\\AppData\\Local\\Programs\\Python\\Python39\\lib\\site-packages\\openfl\\component\\aggregator\\aggregator.py\" target=\"_blank\"><span style=\"color: #7f7f7f; text-decoration-color: #7f7f7f\">aggregator.py</span></a><span style=\"color: #7f7f7f; text-decoration-color: #7f7f7f\">:</span><a href=\"file://C:\\Users\\BHSU\\AppData\\Local\\Programs\\Python\\Python39\\lib\\site-packages\\openfl\\component\\aggregator\\aggregator.py#520\" target=\"_blank\"><span style=\"color: #7f7f7f; text-decoration-color: #7f7f7f\">520</span></a>\n",
       "</pre>\n"
      ],
      "text/plain": [
       "\u001b[2;36m          \u001b[0m\u001b[2;36m \u001b[0m\u001b[34mINFO    \u001b[0m Collaborator two is sending task results for aggregated_model_validation, round \u001b[1;36m0\u001b[0m                                          \u001b]8;id=151387;file://C:\\Users\\BHSU\\AppData\\Local\\Programs\\Python\\Python39\\lib\\site-packages\\openfl\\component\\aggregator\\aggregator.py\u001b\\\u001b[2maggregator.py\u001b[0m\u001b]8;;\u001b\\\u001b[2m:\u001b[0m\u001b]8;id=28899;file://C:\\Users\\BHSU\\AppData\\Local\\Programs\\Python\\Python39\\lib\\site-packages\\openfl\\component\\aggregator\\aggregator.py#520\u001b\\\u001b[2m520\u001b[0m\u001b]8;;\u001b\\\n"
      ]
     },
     "metadata": {},
     "output_type": "display_data"
    },
    {
     "data": {
      "text/html": [
       "<pre style=\"white-space:pre;overflow-x:auto;line-height:normal;font-family:Menlo,'DejaVu Sans Mono',consolas,'Courier New',monospace\"><span style=\"color: #7fbfbf; text-decoration-color: #7fbfbf\">           </span>METRIC   Round <span style=\"color: #008080; text-decoration-color: #008080; font-weight: bold\">0</span>, collaborator validate_agg aggregated_model_validation result accuracy: <span style=\"color: #008080; text-decoration-color: #008080; font-weight: bold\">0.054444</span>                                   <a href=\"file://C:\\Users\\BHSU\\AppData\\Local\\Programs\\Python\\Python39\\lib\\site-packages\\openfl\\component\\aggregator\\aggregator.py\" target=\"_blank\"><span style=\"color: #7f7f7f; text-decoration-color: #7f7f7f\">aggregator.py</span></a><span style=\"color: #7f7f7f; text-decoration-color: #7f7f7f\">:</span><a href=\"file://C:\\Users\\BHSU\\AppData\\Local\\Programs\\Python\\Python39\\lib\\site-packages\\openfl\\component\\aggregator\\aggregator.py#559\" target=\"_blank\"><span style=\"color: #7f7f7f; text-decoration-color: #7f7f7f\">559</span></a>\n",
       "</pre>\n"
      ],
      "text/plain": [
       "\u001b[2;36m          \u001b[0m\u001b[2;36m \u001b[0mMETRIC   Round \u001b[1;36m0\u001b[0m, collaborator validate_agg aggregated_model_validation result accuracy: \u001b[1;36m0.054444\u001b[0m                                   \u001b]8;id=861685;file://C:\\Users\\BHSU\\AppData\\Local\\Programs\\Python\\Python39\\lib\\site-packages\\openfl\\component\\aggregator\\aggregator.py\u001b\\\u001b[2maggregator.py\u001b[0m\u001b]8;;\u001b\\\u001b[2m:\u001b[0m\u001b]8;id=225685;file://C:\\Users\\BHSU\\AppData\\Local\\Programs\\Python\\Python39\\lib\\site-packages\\openfl\\component\\aggregator\\aggregator.py#559\u001b\\\u001b[2m559\u001b[0m\u001b]8;;\u001b\\\n"
      ]
     },
     "metadata": {},
     "output_type": "display_data"
    },
    {
     "data": {
      "text/html": [
       "<pre style=\"white-space:pre;overflow-x:auto;line-height:normal;font-family:Menlo,'DejaVu Sans Mono',consolas,'Courier New',monospace\"><span style=\"color: #7fbfbf; text-decoration-color: #7fbfbf\">           </span><span style=\"color: #000080; text-decoration-color: #000080\">INFO    </span> Using TaskRunner subclassing API                                                                                         <a href=\"file://C:\\Users\\BHSU\\AppData\\Local\\Programs\\Python\\Python39\\lib\\site-packages\\openfl\\component\\collaborator\\collaborator.py\" target=\"_blank\"><span style=\"color: #7f7f7f; text-decoration-color: #7f7f7f\">collaborator.py</span></a><span style=\"color: #7f7f7f; text-decoration-color: #7f7f7f\">:</span><a href=\"file://C:\\Users\\BHSU\\AppData\\Local\\Programs\\Python\\Python39\\lib\\site-packages\\openfl\\component\\collaborator\\collaborator.py#253\" target=\"_blank\"><span style=\"color: #7f7f7f; text-decoration-color: #7f7f7f\">253</span></a>\n",
       "</pre>\n"
      ],
      "text/plain": [
       "\u001b[2;36m          \u001b[0m\u001b[2;36m \u001b[0m\u001b[34mINFO    \u001b[0m Using TaskRunner subclassing API                                                                                         \u001b]8;id=360442;file://C:\\Users\\BHSU\\AppData\\Local\\Programs\\Python\\Python39\\lib\\site-packages\\openfl\\component\\collaborator\\collaborator.py\u001b\\\u001b[2mcollaborator.py\u001b[0m\u001b]8;;\u001b\\\u001b[2m:\u001b[0m\u001b]8;id=895212;file://C:\\Users\\BHSU\\AppData\\Local\\Programs\\Python\\Python39\\lib\\site-packages\\openfl\\component\\collaborator\\collaborator.py#253\u001b\\\u001b[2m253\u001b[0m\u001b]8;;\u001b\\\n"
      ]
     },
     "metadata": {},
     "output_type": "display_data"
    },
    {
     "data": {
      "text/html": [
       "<pre style=\"white-space:pre;overflow-x:auto;line-height:normal;font-family:Menlo,'DejaVu Sans Mono',consolas,'Courier New',monospace\"><span style=\"color: #7fbfbf; text-decoration-color: #7fbfbf\">           </span><span style=\"color: #000080; text-decoration-color: #000080\">INFO    </span> Run <span style=\"color: #008080; text-decoration-color: #008080; font-weight: bold\">0</span> epoch of <span style=\"color: #008080; text-decoration-color: #008080; font-weight: bold\">0</span> round                                                                                                    <a href=\"file://C:\\Users\\BHSU\\AppData\\Local\\Programs\\Python\\Python39\\lib\\site-packages\\openfl\\federated\\task\\runner_keras.py\" target=\"_blank\"><span style=\"color: #7f7f7f; text-decoration-color: #7f7f7f\">runner_keras.py</span></a><span style=\"color: #7f7f7f; text-decoration-color: #7f7f7f\">:</span><a href=\"file://C:\\Users\\BHSU\\AppData\\Local\\Programs\\Python\\Python39\\lib\\site-packages\\openfl\\federated\\task\\runner_keras.py#83\" target=\"_blank\"><span style=\"color: #7f7f7f; text-decoration-color: #7f7f7f\">83</span></a>\n",
       "</pre>\n"
      ],
      "text/plain": [
       "\u001b[2;36m          \u001b[0m\u001b[2;36m \u001b[0m\u001b[34mINFO    \u001b[0m Run \u001b[1;36m0\u001b[0m epoch of \u001b[1;36m0\u001b[0m round                                                                                                    \u001b]8;id=143890;file://C:\\Users\\BHSU\\AppData\\Local\\Programs\\Python\\Python39\\lib\\site-packages\\openfl\\federated\\task\\runner_keras.py\u001b\\\u001b[2mrunner_keras.py\u001b[0m\u001b]8;;\u001b\\\u001b[2m:\u001b[0m\u001b]8;id=480600;file://C:\\Users\\BHSU\\AppData\\Local\\Programs\\Python\\Python39\\lib\\site-packages\\openfl\\federated\\task\\runner_keras.py#83\u001b\\\u001b[2m83\u001b[0m\u001b]8;;\u001b\\\n"
      ]
     },
     "metadata": {},
     "output_type": "display_data"
    },
    {
     "name": "stdout",
     "output_type": "stream",
     "text": [
      "657/657 [==============================] - 1s 709us/step - loss: 0.5090 - accuracy: 0.8484\n"
     ]
    },
    {
     "data": {
      "text/html": [
       "<pre style=\"white-space:pre;overflow-x:auto;line-height:normal;font-family:Menlo,'DejaVu Sans Mono',consolas,'Courier New',monospace\"><span style=\"color: #7fbfbf; text-decoration-color: #7fbfbf\">           </span>METRIC   Round <span style=\"color: #008080; text-decoration-color: #008080; font-weight: bold\">0</span>, collaborator two is sending metric for task train: loss        <span style=\"color: #008080; text-decoration-color: #008080; font-weight: bold\">0.508956</span>                                         <a href=\"file://C:\\Users\\BHSU\\AppData\\Local\\Programs\\Python\\Python39\\lib\\site-packages\\openfl\\component\\collaborator\\collaborator.py\" target=\"_blank\"><span style=\"color: #7f7f7f; text-decoration-color: #7f7f7f\">collaborator.py</span></a><span style=\"color: #7f7f7f; text-decoration-color: #7f7f7f\">:</span><a href=\"file://C:\\Users\\BHSU\\AppData\\Local\\Programs\\Python\\Python39\\lib\\site-packages\\openfl\\component\\collaborator\\collaborator.py#415\" target=\"_blank\"><span style=\"color: #7f7f7f; text-decoration-color: #7f7f7f\">415</span></a>\n",
       "</pre>\n"
      ],
      "text/plain": [
       "\u001b[2;36m          \u001b[0m\u001b[2;36m \u001b[0mMETRIC   Round \u001b[1;36m0\u001b[0m, collaborator two is sending metric for task train: loss        \u001b[1;36m0.508956\u001b[0m                                         \u001b]8;id=305085;file://C:\\Users\\BHSU\\AppData\\Local\\Programs\\Python\\Python39\\lib\\site-packages\\openfl\\component\\collaborator\\collaborator.py\u001b\\\u001b[2mcollaborator.py\u001b[0m\u001b]8;;\u001b\\\u001b[2m:\u001b[0m\u001b]8;id=85485;file://C:\\Users\\BHSU\\AppData\\Local\\Programs\\Python\\Python39\\lib\\site-packages\\openfl\\component\\collaborator\\collaborator.py#415\u001b\\\u001b[2m415\u001b[0m\u001b]8;;\u001b\\\n"
      ]
     },
     "metadata": {},
     "output_type": "display_data"
    },
    {
     "data": {
      "text/html": [
       "<pre style=\"white-space:pre;overflow-x:auto;line-height:normal;font-family:Menlo,'DejaVu Sans Mono',consolas,'Courier New',monospace\"><span style=\"color: #7fbfbf; text-decoration-color: #7fbfbf\">           </span><span style=\"color: #000080; text-decoration-color: #000080\">INFO    </span> Collaborator two is sending task results for train, round <span style=\"color: #008080; text-decoration-color: #008080; font-weight: bold\">0</span>                                                                <a href=\"file://C:\\Users\\BHSU\\AppData\\Local\\Programs\\Python\\Python39\\lib\\site-packages\\openfl\\component\\aggregator\\aggregator.py\" target=\"_blank\"><span style=\"color: #7f7f7f; text-decoration-color: #7f7f7f\">aggregator.py</span></a><span style=\"color: #7f7f7f; text-decoration-color: #7f7f7f\">:</span><a href=\"file://C:\\Users\\BHSU\\AppData\\Local\\Programs\\Python\\Python39\\lib\\site-packages\\openfl\\component\\aggregator\\aggregator.py#520\" target=\"_blank\"><span style=\"color: #7f7f7f; text-decoration-color: #7f7f7f\">520</span></a>\n",
       "</pre>\n"
      ],
      "text/plain": [
       "\u001b[2;36m          \u001b[0m\u001b[2;36m \u001b[0m\u001b[34mINFO    \u001b[0m Collaborator two is sending task results for train, round \u001b[1;36m0\u001b[0m                                                                \u001b]8;id=312482;file://C:\\Users\\BHSU\\AppData\\Local\\Programs\\Python\\Python39\\lib\\site-packages\\openfl\\component\\aggregator\\aggregator.py\u001b\\\u001b[2maggregator.py\u001b[0m\u001b]8;;\u001b\\\u001b[2m:\u001b[0m\u001b]8;id=347909;file://C:\\Users\\BHSU\\AppData\\Local\\Programs\\Python\\Python39\\lib\\site-packages\\openfl\\component\\aggregator\\aggregator.py#520\u001b\\\u001b[2m520\u001b[0m\u001b]8;;\u001b\\\n"
      ]
     },
     "metadata": {},
     "output_type": "display_data"
    },
    {
     "data": {
      "text/html": [
       "<pre style=\"white-space:pre;overflow-x:auto;line-height:normal;font-family:Menlo,'DejaVu Sans Mono',consolas,'Courier New',monospace\"><span style=\"color: #7fbfbf; text-decoration-color: #7fbfbf\">           </span>METRIC   Round <span style=\"color: #008080; text-decoration-color: #008080; font-weight: bold\">0</span>, collaborator two train result loss:    <span style=\"color: #008080; text-decoration-color: #008080; font-weight: bold\">0.508956</span>                                                                   <a href=\"file://C:\\Users\\BHSU\\AppData\\Local\\Programs\\Python\\Python39\\lib\\site-packages\\openfl\\component\\aggregator\\aggregator.py\" target=\"_blank\"><span style=\"color: #7f7f7f; text-decoration-color: #7f7f7f\">aggregator.py</span></a><span style=\"color: #7f7f7f; text-decoration-color: #7f7f7f\">:</span><a href=\"file://C:\\Users\\BHSU\\AppData\\Local\\Programs\\Python\\Python39\\lib\\site-packages\\openfl\\component\\aggregator\\aggregator.py#559\" target=\"_blank\"><span style=\"color: #7f7f7f; text-decoration-color: #7f7f7f\">559</span></a>\n",
       "</pre>\n"
      ],
      "text/plain": [
       "\u001b[2;36m          \u001b[0m\u001b[2;36m \u001b[0mMETRIC   Round \u001b[1;36m0\u001b[0m, collaborator two train result loss:    \u001b[1;36m0.508956\u001b[0m                                                                   \u001b]8;id=526346;file://C:\\Users\\BHSU\\AppData\\Local\\Programs\\Python\\Python39\\lib\\site-packages\\openfl\\component\\aggregator\\aggregator.py\u001b\\\u001b[2maggregator.py\u001b[0m\u001b]8;;\u001b\\\u001b[2m:\u001b[0m\u001b]8;id=97986;file://C:\\Users\\BHSU\\AppData\\Local\\Programs\\Python\\Python39\\lib\\site-packages\\openfl\\component\\aggregator\\aggregator.py#559\u001b\\\u001b[2m559\u001b[0m\u001b]8;;\u001b\\\n"
      ]
     },
     "metadata": {},
     "output_type": "display_data"
    },
    {
     "data": {
      "text/html": [
       "<pre style=\"white-space:pre;overflow-x:auto;line-height:normal;font-family:Menlo,'DejaVu Sans Mono',consolas,'Courier New',monospace\"><span style=\"color: #7fbfbf; text-decoration-color: #7fbfbf\">           </span><span style=\"color: #000080; text-decoration-color: #000080\">INFO    </span> Using TaskRunner subclassing API                                                                                         <a href=\"file://C:\\Users\\BHSU\\AppData\\Local\\Programs\\Python\\Python39\\lib\\site-packages\\openfl\\component\\collaborator\\collaborator.py\" target=\"_blank\"><span style=\"color: #7f7f7f; text-decoration-color: #7f7f7f\">collaborator.py</span></a><span style=\"color: #7f7f7f; text-decoration-color: #7f7f7f\">:</span><a href=\"file://C:\\Users\\BHSU\\AppData\\Local\\Programs\\Python\\Python39\\lib\\site-packages\\openfl\\component\\collaborator\\collaborator.py#253\" target=\"_blank\"><span style=\"color: #7f7f7f; text-decoration-color: #7f7f7f\">253</span></a>\n",
       "</pre>\n"
      ],
      "text/plain": [
       "\u001b[2;36m          \u001b[0m\u001b[2;36m \u001b[0m\u001b[34mINFO    \u001b[0m Using TaskRunner subclassing API                                                                                         \u001b]8;id=468348;file://C:\\Users\\BHSU\\AppData\\Local\\Programs\\Python\\Python39\\lib\\site-packages\\openfl\\component\\collaborator\\collaborator.py\u001b\\\u001b[2mcollaborator.py\u001b[0m\u001b]8;;\u001b\\\u001b[2m:\u001b[0m\u001b]8;id=676173;file://C:\\Users\\BHSU\\AppData\\Local\\Programs\\Python\\Python39\\lib\\site-packages\\openfl\\component\\collaborator\\collaborator.py#253\u001b\\\u001b[2m253\u001b[0m\u001b]8;;\u001b\\\n"
      ]
     },
     "metadata": {},
     "output_type": "display_data"
    },
    {
     "name": "stdout",
     "output_type": "stream",
     "text": [
      "282/282 [==============================] - 0s 512us/step - loss: 0.3059 - accuracy: 0.9063\n"
     ]
    },
    {
     "data": {
      "text/html": [
       "<pre style=\"white-space:pre;overflow-x:auto;line-height:normal;font-family:Menlo,'DejaVu Sans Mono',consolas,'Courier New',monospace\"><span style=\"color: #7fbfbf; text-decoration-color: #7fbfbf\">[09:22:47] </span>METRIC   Round <span style=\"color: #008080; text-decoration-color: #008080; font-weight: bold\">0</span>, collaborator two is sending metric for task locally_tuned_model_validation: accuracy   <span style=\"color: #008080; text-decoration-color: #008080; font-weight: bold\">0.906333</span>                 <a href=\"file://C:\\Users\\BHSU\\AppData\\Local\\Programs\\Python\\Python39\\lib\\site-packages\\openfl\\component\\collaborator\\collaborator.py\" target=\"_blank\"><span style=\"color: #7f7f7f; text-decoration-color: #7f7f7f\">collaborator.py</span></a><span style=\"color: #7f7f7f; text-decoration-color: #7f7f7f\">:</span><a href=\"file://C:\\Users\\BHSU\\AppData\\Local\\Programs\\Python\\Python39\\lib\\site-packages\\openfl\\component\\collaborator\\collaborator.py#415\" target=\"_blank\"><span style=\"color: #7f7f7f; text-decoration-color: #7f7f7f\">415</span></a>\n",
       "</pre>\n"
      ],
      "text/plain": [
       "\u001b[2;36m[09:22:47]\u001b[0m\u001b[2;36m \u001b[0mMETRIC   Round \u001b[1;36m0\u001b[0m, collaborator two is sending metric for task locally_tuned_model_validation: accuracy   \u001b[1;36m0.906333\u001b[0m                 \u001b]8;id=661365;file://C:\\Users\\BHSU\\AppData\\Local\\Programs\\Python\\Python39\\lib\\site-packages\\openfl\\component\\collaborator\\collaborator.py\u001b\\\u001b[2mcollaborator.py\u001b[0m\u001b]8;;\u001b\\\u001b[2m:\u001b[0m\u001b]8;id=579905;file://C:\\Users\\BHSU\\AppData\\Local\\Programs\\Python\\Python39\\lib\\site-packages\\openfl\\component\\collaborator\\collaborator.py#415\u001b\\\u001b[2m415\u001b[0m\u001b]8;;\u001b\\\n"
      ]
     },
     "metadata": {},
     "output_type": "display_data"
    },
    {
     "data": {
      "text/html": [
       "<pre style=\"white-space:pre;overflow-x:auto;line-height:normal;font-family:Menlo,'DejaVu Sans Mono',consolas,'Courier New',monospace\"><span style=\"color: #7fbfbf; text-decoration-color: #7fbfbf\">           </span><span style=\"color: #000080; text-decoration-color: #000080\">INFO    </span> Collaborator two is sending task results for locally_tuned_model_validation, round <span style=\"color: #008080; text-decoration-color: #008080; font-weight: bold\">0</span>                                       <a href=\"file://C:\\Users\\BHSU\\AppData\\Local\\Programs\\Python\\Python39\\lib\\site-packages\\openfl\\component\\aggregator\\aggregator.py\" target=\"_blank\"><span style=\"color: #7f7f7f; text-decoration-color: #7f7f7f\">aggregator.py</span></a><span style=\"color: #7f7f7f; text-decoration-color: #7f7f7f\">:</span><a href=\"file://C:\\Users\\BHSU\\AppData\\Local\\Programs\\Python\\Python39\\lib\\site-packages\\openfl\\component\\aggregator\\aggregator.py#520\" target=\"_blank\"><span style=\"color: #7f7f7f; text-decoration-color: #7f7f7f\">520</span></a>\n",
       "</pre>\n"
      ],
      "text/plain": [
       "\u001b[2;36m          \u001b[0m\u001b[2;36m \u001b[0m\u001b[34mINFO    \u001b[0m Collaborator two is sending task results for locally_tuned_model_validation, round \u001b[1;36m0\u001b[0m                                       \u001b]8;id=982308;file://C:\\Users\\BHSU\\AppData\\Local\\Programs\\Python\\Python39\\lib\\site-packages\\openfl\\component\\aggregator\\aggregator.py\u001b\\\u001b[2maggregator.py\u001b[0m\u001b]8;;\u001b\\\u001b[2m:\u001b[0m\u001b]8;id=486048;file://C:\\Users\\BHSU\\AppData\\Local\\Programs\\Python\\Python39\\lib\\site-packages\\openfl\\component\\aggregator\\aggregator.py#520\u001b\\\u001b[2m520\u001b[0m\u001b]8;;\u001b\\\n"
      ]
     },
     "metadata": {},
     "output_type": "display_data"
    },
    {
     "data": {
      "text/html": [
       "<pre style=\"white-space:pre;overflow-x:auto;line-height:normal;font-family:Menlo,'DejaVu Sans Mono',consolas,'Courier New',monospace\"><span style=\"color: #7fbfbf; text-decoration-color: #7fbfbf\">           </span>METRIC   Round <span style=\"color: #008080; text-decoration-color: #008080; font-weight: bold\">0</span>, collaborator validate_local locally_tuned_model_validation result accuracy:    <span style=\"color: #008080; text-decoration-color: #008080; font-weight: bold\">0.906333</span>                           <a href=\"file://C:\\Users\\BHSU\\AppData\\Local\\Programs\\Python\\Python39\\lib\\site-packages\\openfl\\component\\aggregator\\aggregator.py\" target=\"_blank\"><span style=\"color: #7f7f7f; text-decoration-color: #7f7f7f\">aggregator.py</span></a><span style=\"color: #7f7f7f; text-decoration-color: #7f7f7f\">:</span><a href=\"file://C:\\Users\\BHSU\\AppData\\Local\\Programs\\Python\\Python39\\lib\\site-packages\\openfl\\component\\aggregator\\aggregator.py#559\" target=\"_blank\"><span style=\"color: #7f7f7f; text-decoration-color: #7f7f7f\">559</span></a>\n",
       "</pre>\n"
      ],
      "text/plain": [
       "\u001b[2;36m          \u001b[0m\u001b[2;36m \u001b[0mMETRIC   Round \u001b[1;36m0\u001b[0m, collaborator validate_local locally_tuned_model_validation result accuracy:    \u001b[1;36m0.906333\u001b[0m                           \u001b]8;id=701761;file://C:\\Users\\BHSU\\AppData\\Local\\Programs\\Python\\Python39\\lib\\site-packages\\openfl\\component\\aggregator\\aggregator.py\u001b\\\u001b[2maggregator.py\u001b[0m\u001b]8;;\u001b\\\u001b[2m:\u001b[0m\u001b]8;id=820417;file://C:\\Users\\BHSU\\AppData\\Local\\Programs\\Python\\Python39\\lib\\site-packages\\openfl\\component\\aggregator\\aggregator.py#559\u001b\\\u001b[2m559\u001b[0m\u001b]8;;\u001b\\\n"
      ]
     },
     "metadata": {},
     "output_type": "display_data"
    },
    {
     "data": {
      "text/html": [
       "<pre style=\"white-space:pre;overflow-x:auto;line-height:normal;font-family:Menlo,'DejaVu Sans Mono',consolas,'Courier New',monospace\"><span style=\"color: #7fbfbf; text-decoration-color: #7fbfbf\">           </span>METRIC   Round <span style=\"color: #008080; text-decoration-color: #008080; font-weight: bold\">0</span>, aggregator: locally_tuned_model_validation                                                                        <a href=\"file://C:\\Users\\BHSU\\AppData\\Local\\Programs\\Python\\Python39\\lib\\site-packages\\openfl\\component\\aggregator\\aggregator.py\" target=\"_blank\"><span style=\"color: #7f7f7f; text-decoration-color: #7f7f7f\">aggregator.py</span></a><span style=\"color: #7f7f7f; text-decoration-color: #7f7f7f\">:</span><a href=\"file://C:\\Users\\BHSU\\AppData\\Local\\Programs\\Python\\Python39\\lib\\site-packages\\openfl\\component\\aggregator\\aggregator.py#842\" target=\"_blank\"><span style=\"color: #7f7f7f; text-decoration-color: #7f7f7f\">842</span></a>\n",
       "<span style=\"color: #7fbfbf; text-decoration-color: #7fbfbf\">           </span>         <span style=\"font-weight: bold\">&lt;</span><span style=\"color: #ff00ff; text-decoration-color: #ff00ff; font-weight: bold\">openfl.interface.aggregation_functions.weighted_average.WeightedAverage</span><span style=\"color: #000000; text-decoration-color: #000000\"> object at </span><span style=\"color: #008080; text-decoration-color: #008080; font-weight: bold\">0x0000020F55654AC0</span><span style=\"font-weight: bold\">&gt;</span> accuracy:           <span style=\"color: #7f7f7f; text-decoration-color: #7f7f7f\">                 </span>\n",
       "<span style=\"color: #7fbfbf; text-decoration-color: #7fbfbf\">           </span>         <span style=\"color: #008080; text-decoration-color: #008080; font-weight: bold\">0.903500</span>                                                                                                                   <span style=\"color: #7f7f7f; text-decoration-color: #7f7f7f\">                 </span>\n",
       "</pre>\n"
      ],
      "text/plain": [
       "\u001b[2;36m          \u001b[0m\u001b[2;36m \u001b[0mMETRIC   Round \u001b[1;36m0\u001b[0m, aggregator: locally_tuned_model_validation                                                                        \u001b]8;id=105098;file://C:\\Users\\BHSU\\AppData\\Local\\Programs\\Python\\Python39\\lib\\site-packages\\openfl\\component\\aggregator\\aggregator.py\u001b\\\u001b[2maggregator.py\u001b[0m\u001b]8;;\u001b\\\u001b[2m:\u001b[0m\u001b]8;id=801386;file://C:\\Users\\BHSU\\AppData\\Local\\Programs\\Python\\Python39\\lib\\site-packages\\openfl\\component\\aggregator\\aggregator.py#842\u001b\\\u001b[2m842\u001b[0m\u001b]8;;\u001b\\\n",
       "\u001b[2;36m           \u001b[0m         \u001b[1m<\u001b[0m\u001b[1;95mopenfl.interface.aggregation_functions.weighted_average.WeightedAverage\u001b[0m\u001b[39m object at \u001b[0m\u001b[1;36m0x0000020F55654AC0\u001b[0m\u001b[1m>\u001b[0m accuracy:           \u001b[2m                 \u001b[0m\n",
       "\u001b[2;36m           \u001b[0m         \u001b[1;36m0.903500\u001b[0m                                                                                                                   \u001b[2m                 \u001b[0m\n"
      ]
     },
     "metadata": {},
     "output_type": "display_data"
    },
    {
     "data": {
      "text/html": [
       "<pre style=\"white-space:pre;overflow-x:auto;line-height:normal;font-family:Menlo,'DejaVu Sans Mono',consolas,'Courier New',monospace\"><span style=\"color: #7fbfbf; text-decoration-color: #7fbfbf\">           </span>METRIC   Round <span style=\"color: #008080; text-decoration-color: #008080; font-weight: bold\">0</span>, aggregator: aggregated_model_validation <span style=\"font-weight: bold\">&lt;</span><span style=\"color: #ff00ff; text-decoration-color: #ff00ff; font-weight: bold\">openfl.interface.aggregation_functions.weighted_average.WeightedAverage</span><span style=\"color: #000000; text-decoration-color: #000000\"> </span> <a href=\"file://C:\\Users\\BHSU\\AppData\\Local\\Programs\\Python\\Python39\\lib\\site-packages\\openfl\\component\\aggregator\\aggregator.py\" target=\"_blank\"><span style=\"color: #7f7f7f; text-decoration-color: #7f7f7f\">aggregator.py</span></a><span style=\"color: #7f7f7f; text-decoration-color: #7f7f7f\">:</span><a href=\"file://C:\\Users\\BHSU\\AppData\\Local\\Programs\\Python\\Python39\\lib\\site-packages\\openfl\\component\\aggregator\\aggregator.py#842\" target=\"_blank\"><span style=\"color: #7f7f7f; text-decoration-color: #7f7f7f\">842</span></a>\n",
       "<span style=\"color: #7fbfbf; text-decoration-color: #7fbfbf\">           </span>         <span style=\"color: #000000; text-decoration-color: #000000\">object at </span><span style=\"color: #008080; text-decoration-color: #008080; font-weight: bold\">0x0000020F55654AC0</span><span style=\"font-weight: bold\">&gt;</span> accuracy:       <span style=\"color: #008080; text-decoration-color: #008080; font-weight: bold\">0.053889</span>                                                                     <span style=\"color: #7f7f7f; text-decoration-color: #7f7f7f\">                 </span>\n",
       "</pre>\n"
      ],
      "text/plain": [
       "\u001b[2;36m          \u001b[0m\u001b[2;36m \u001b[0mMETRIC   Round \u001b[1;36m0\u001b[0m, aggregator: aggregated_model_validation \u001b[1m<\u001b[0m\u001b[1;95mopenfl.interface.aggregation_functions.weighted_average.WeightedAverage\u001b[0m\u001b[39m \u001b[0m \u001b]8;id=683475;file://C:\\Users\\BHSU\\AppData\\Local\\Programs\\Python\\Python39\\lib\\site-packages\\openfl\\component\\aggregator\\aggregator.py\u001b\\\u001b[2maggregator.py\u001b[0m\u001b]8;;\u001b\\\u001b[2m:\u001b[0m\u001b]8;id=259029;file://C:\\Users\\BHSU\\AppData\\Local\\Programs\\Python\\Python39\\lib\\site-packages\\openfl\\component\\aggregator\\aggregator.py#842\u001b\\\u001b[2m842\u001b[0m\u001b]8;;\u001b\\\n",
       "\u001b[2;36m           \u001b[0m         \u001b[39mobject at \u001b[0m\u001b[1;36m0x0000020F55654AC0\u001b[0m\u001b[1m>\u001b[0m accuracy:       \u001b[1;36m0.053889\u001b[0m                                                                     \u001b[2m                 \u001b[0m\n"
      ]
     },
     "metadata": {},
     "output_type": "display_data"
    },
    {
     "data": {
      "text/html": [
       "<pre style=\"white-space:pre;overflow-x:auto;line-height:normal;font-family:Menlo,'DejaVu Sans Mono',consolas,'Courier New',monospace\"><span style=\"color: #7fbfbf; text-decoration-color: #7fbfbf\">           </span>METRIC   Round <span style=\"color: #008080; text-decoration-color: #008080; font-weight: bold\">0</span>: saved the best model with score <span style=\"color: #008080; text-decoration-color: #008080; font-weight: bold\">0.053889</span>                                                                          <a href=\"file://C:\\Users\\BHSU\\AppData\\Local\\Programs\\Python\\Python39\\lib\\site-packages\\openfl\\component\\aggregator\\aggregator.py\" target=\"_blank\"><span style=\"color: #7f7f7f; text-decoration-color: #7f7f7f\">aggregator.py</span></a><span style=\"color: #7f7f7f; text-decoration-color: #7f7f7f\">:</span><a href=\"file://C:\\Users\\BHSU\\AppData\\Local\\Programs\\Python\\Python39\\lib\\site-packages\\openfl\\component\\aggregator\\aggregator.py#858\" target=\"_blank\"><span style=\"color: #7f7f7f; text-decoration-color: #7f7f7f\">858</span></a>\n",
       "</pre>\n"
      ],
      "text/plain": [
       "\u001b[2;36m          \u001b[0m\u001b[2;36m \u001b[0mMETRIC   Round \u001b[1;36m0\u001b[0m: saved the best model with score \u001b[1;36m0.053889\u001b[0m                                                                          \u001b]8;id=779307;file://C:\\Users\\BHSU\\AppData\\Local\\Programs\\Python\\Python39\\lib\\site-packages\\openfl\\component\\aggregator\\aggregator.py\u001b\\\u001b[2maggregator.py\u001b[0m\u001b]8;;\u001b\\\u001b[2m:\u001b[0m\u001b]8;id=694491;file://C:\\Users\\BHSU\\AppData\\Local\\Programs\\Python\\Python39\\lib\\site-packages\\openfl\\component\\aggregator\\aggregator.py#858\u001b\\\u001b[2m858\u001b[0m\u001b]8;;\u001b\\\n"
      ]
     },
     "metadata": {},
     "output_type": "display_data"
    },
    {
     "data": {
      "text/html": [
       "<pre style=\"white-space:pre;overflow-x:auto;line-height:normal;font-family:Menlo,'DejaVu Sans Mono',consolas,'Courier New',monospace\"><span style=\"color: #7fbfbf; text-decoration-color: #7fbfbf\">           </span>METRIC   Round <span style=\"color: #008080; text-decoration-color: #008080; font-weight: bold\">0</span>, aggregator: train <span style=\"font-weight: bold\">&lt;</span><span style=\"color: #ff00ff; text-decoration-color: #ff00ff; font-weight: bold\">openfl.interface.aggregation_functions.weighted_average.WeightedAverage</span><span style=\"color: #000000; text-decoration-color: #000000\"> object at </span>             <a href=\"file://C:\\Users\\BHSU\\AppData\\Local\\Programs\\Python\\Python39\\lib\\site-packages\\openfl\\component\\aggregator\\aggregator.py\" target=\"_blank\"><span style=\"color: #7f7f7f; text-decoration-color: #7f7f7f\">aggregator.py</span></a><span style=\"color: #7f7f7f; text-decoration-color: #7f7f7f\">:</span><a href=\"file://C:\\Users\\BHSU\\AppData\\Local\\Programs\\Python\\Python39\\lib\\site-packages\\openfl\\component\\aggregator\\aggregator.py#842\" target=\"_blank\"><span style=\"color: #7f7f7f; text-decoration-color: #7f7f7f\">842</span></a>\n",
       "<span style=\"color: #7fbfbf; text-decoration-color: #7fbfbf\">           </span>         <span style=\"color: #008080; text-decoration-color: #008080; font-weight: bold\">0x0000020F55654AC0</span><span style=\"font-weight: bold\">&gt;</span> loss: <span style=\"color: #008080; text-decoration-color: #008080; font-weight: bold\">0.519795</span>                                                                                         <span style=\"color: #7f7f7f; text-decoration-color: #7f7f7f\">                 </span>\n",
       "</pre>\n"
      ],
      "text/plain": [
       "\u001b[2;36m          \u001b[0m\u001b[2;36m \u001b[0mMETRIC   Round \u001b[1;36m0\u001b[0m, aggregator: train \u001b[1m<\u001b[0m\u001b[1;95mopenfl.interface.aggregation_functions.weighted_average.WeightedAverage\u001b[0m\u001b[39m object at \u001b[0m             \u001b]8;id=317650;file://C:\\Users\\BHSU\\AppData\\Local\\Programs\\Python\\Python39\\lib\\site-packages\\openfl\\component\\aggregator\\aggregator.py\u001b\\\u001b[2maggregator.py\u001b[0m\u001b]8;;\u001b\\\u001b[2m:\u001b[0m\u001b]8;id=771171;file://C:\\Users\\BHSU\\AppData\\Local\\Programs\\Python\\Python39\\lib\\site-packages\\openfl\\component\\aggregator\\aggregator.py#842\u001b\\\u001b[2m842\u001b[0m\u001b]8;;\u001b\\\n",
       "\u001b[2;36m           \u001b[0m         \u001b[1;36m0x0000020F55654AC0\u001b[0m\u001b[1m>\u001b[0m loss: \u001b[1;36m0.519795\u001b[0m                                                                                         \u001b[2m                 \u001b[0m\n"
      ]
     },
     "metadata": {},
     "output_type": "display_data"
    },
    {
     "data": {
      "text/html": [
       "<pre style=\"white-space:pre;overflow-x:auto;line-height:normal;font-family:Menlo,'DejaVu Sans Mono',consolas,'Courier New',monospace\"><span style=\"color: #7fbfbf; text-decoration-color: #7fbfbf\">           </span><span style=\"color: #000080; text-decoration-color: #000080\">INFO    </span> Saving round <span style=\"color: #008080; text-decoration-color: #008080; font-weight: bold\">1</span> model<span style=\"color: #808000; text-decoration-color: #808000\">...</span>                                                                                                    <a href=\"file://C:\\Users\\BHSU\\AppData\\Local\\Programs\\Python\\Python39\\lib\\site-packages\\openfl\\component\\aggregator\\aggregator.py\" target=\"_blank\"><span style=\"color: #7f7f7f; text-decoration-color: #7f7f7f\">aggregator.py</span></a><span style=\"color: #7f7f7f; text-decoration-color: #7f7f7f\">:</span><a href=\"file://C:\\Users\\BHSU\\AppData\\Local\\Programs\\Python\\Python39\\lib\\site-packages\\openfl\\component\\aggregator\\aggregator.py#894\" target=\"_blank\"><span style=\"color: #7f7f7f; text-decoration-color: #7f7f7f\">894</span></a>\n",
       "</pre>\n"
      ],
      "text/plain": [
       "\u001b[2;36m          \u001b[0m\u001b[2;36m \u001b[0m\u001b[34mINFO    \u001b[0m Saving round \u001b[1;36m1\u001b[0m model\u001b[33m...\u001b[0m                                                                                                    \u001b]8;id=572991;file://C:\\Users\\BHSU\\AppData\\Local\\Programs\\Python\\Python39\\lib\\site-packages\\openfl\\component\\aggregator\\aggregator.py\u001b\\\u001b[2maggregator.py\u001b[0m\u001b]8;;\u001b\\\u001b[2m:\u001b[0m\u001b]8;id=277980;file://C:\\Users\\BHSU\\AppData\\Local\\Programs\\Python\\Python39\\lib\\site-packages\\openfl\\component\\aggregator\\aggregator.py#894\u001b\\\u001b[2m894\u001b[0m\u001b]8;;\u001b\\\n"
      ]
     },
     "metadata": {},
     "output_type": "display_data"
    },
    {
     "data": {
      "text/html": [
       "<pre style=\"white-space:pre;overflow-x:auto;line-height:normal;font-family:Menlo,'DejaVu Sans Mono',consolas,'Courier New',monospace\"><span style=\"color: #7fbfbf; text-decoration-color: #7fbfbf\">           </span><span style=\"color: #000080; text-decoration-color: #000080\">INFO    </span> Starting round <span style=\"color: #008080; text-decoration-color: #008080; font-weight: bold\">1</span><span style=\"color: #808000; text-decoration-color: #808000\">...</span>                                                                                                        <a href=\"file://C:\\Users\\BHSU\\AppData\\Local\\Programs\\Python\\Python39\\lib\\site-packages\\openfl\\component\\aggregator\\aggregator.py\" target=\"_blank\"><span style=\"color: #7f7f7f; text-decoration-color: #7f7f7f\">aggregator.py</span></a><span style=\"color: #7f7f7f; text-decoration-color: #7f7f7f\">:</span><a href=\"file://C:\\Users\\BHSU\\AppData\\Local\\Programs\\Python\\Python39\\lib\\site-packages\\openfl\\component\\aggregator\\aggregator.py#901\" target=\"_blank\"><span style=\"color: #7f7f7f; text-decoration-color: #7f7f7f\">901</span></a>\n",
       "</pre>\n"
      ],
      "text/plain": [
       "\u001b[2;36m          \u001b[0m\u001b[2;36m \u001b[0m\u001b[34mINFO    \u001b[0m Starting round \u001b[1;36m1\u001b[0m\u001b[33m...\u001b[0m                                                                                                        \u001b]8;id=578089;file://C:\\Users\\BHSU\\AppData\\Local\\Programs\\Python\\Python39\\lib\\site-packages\\openfl\\component\\aggregator\\aggregator.py\u001b\\\u001b[2maggregator.py\u001b[0m\u001b]8;;\u001b\\\u001b[2m:\u001b[0m\u001b]8;id=648496;file://C:\\Users\\BHSU\\AppData\\Local\\Programs\\Python\\Python39\\lib\\site-packages\\openfl\\component\\aggregator\\aggregator.py#901\u001b\\\u001b[2m901\u001b[0m\u001b]8;;\u001b\\\n"
      ]
     },
     "metadata": {},
     "output_type": "display_data"
    },
    {
     "data": {
      "text/html": [
       "<pre style=\"white-space:pre;overflow-x:auto;line-height:normal;font-family:Menlo,'DejaVu Sans Mono',consolas,'Courier New',monospace\"><span style=\"color: #7fbfbf; text-decoration-color: #7fbfbf\">           </span><span style=\"color: #000080; text-decoration-color: #000080\">INFO    </span> All tasks completed on two for round <span style=\"color: #008080; text-decoration-color: #008080; font-weight: bold\">0</span><span style=\"color: #808000; text-decoration-color: #808000\">...</span>                                                                                <a href=\"file://C:\\Users\\BHSU\\AppData\\Local\\Programs\\Python\\Python39\\lib\\site-packages\\openfl\\component\\collaborator\\collaborator.py\" target=\"_blank\"><span style=\"color: #7f7f7f; text-decoration-color: #7f7f7f\">collaborator.py</span></a><span style=\"color: #7f7f7f; text-decoration-color: #7f7f7f\">:</span><a href=\"file://C:\\Users\\BHSU\\AppData\\Local\\Programs\\Python\\Python39\\lib\\site-packages\\openfl\\component\\collaborator\\collaborator.py#171\" target=\"_blank\"><span style=\"color: #7f7f7f; text-decoration-color: #7f7f7f\">171</span></a>\n",
       "</pre>\n"
      ],
      "text/plain": [
       "\u001b[2;36m          \u001b[0m\u001b[2;36m \u001b[0m\u001b[34mINFO    \u001b[0m All tasks completed on two for round \u001b[1;36m0\u001b[0m\u001b[33m...\u001b[0m                                                                                \u001b]8;id=994793;file://C:\\Users\\BHSU\\AppData\\Local\\Programs\\Python\\Python39\\lib\\site-packages\\openfl\\component\\collaborator\\collaborator.py\u001b\\\u001b[2mcollaborator.py\u001b[0m\u001b]8;;\u001b\\\u001b[2m:\u001b[0m\u001b]8;id=490968;file://C:\\Users\\BHSU\\AppData\\Local\\Programs\\Python\\Python39\\lib\\site-packages\\openfl\\component\\collaborator\\collaborator.py#171\u001b\\\u001b[2m171\u001b[0m\u001b]8;;\u001b\\\n"
      ]
     },
     "metadata": {},
     "output_type": "display_data"
    },
    {
     "data": {
      "text/html": [
       "<pre style=\"white-space:pre;overflow-x:auto;line-height:normal;font-family:Menlo,'DejaVu Sans Mono',consolas,'Courier New',monospace\"><span style=\"color: #7fbfbf; text-decoration-color: #7fbfbf\">           </span><span style=\"color: #000080; text-decoration-color: #000080\">INFO    </span> Waiting for tasks<span style=\"color: #808000; text-decoration-color: #808000\">...</span>                                                                                                     <a href=\"file://C:\\Users\\BHSU\\AppData\\Local\\Programs\\Python\\Python39\\lib\\site-packages\\openfl\\component\\collaborator\\collaborator.py\" target=\"_blank\"><span style=\"color: #7f7f7f; text-decoration-color: #7f7f7f\">collaborator.py</span></a><span style=\"color: #7f7f7f; text-decoration-color: #7f7f7f\">:</span><a href=\"file://C:\\Users\\BHSU\\AppData\\Local\\Programs\\Python\\Python39\\lib\\site-packages\\openfl\\component\\collaborator\\collaborator.py#178\" target=\"_blank\"><span style=\"color: #7f7f7f; text-decoration-color: #7f7f7f\">178</span></a>\n",
       "</pre>\n"
      ],
      "text/plain": [
       "\u001b[2;36m          \u001b[0m\u001b[2;36m \u001b[0m\u001b[34mINFO    \u001b[0m Waiting for tasks\u001b[33m...\u001b[0m                                                                                                     \u001b]8;id=888893;file://C:\\Users\\BHSU\\AppData\\Local\\Programs\\Python\\Python39\\lib\\site-packages\\openfl\\component\\collaborator\\collaborator.py\u001b\\\u001b[2mcollaborator.py\u001b[0m\u001b]8;;\u001b\\\u001b[2m:\u001b[0m\u001b]8;id=509816;file://C:\\Users\\BHSU\\AppData\\Local\\Programs\\Python\\Python39\\lib\\site-packages\\openfl\\component\\collaborator\\collaborator.py#178\u001b\\\u001b[2m178\u001b[0m\u001b]8;;\u001b\\\n"
      ]
     },
     "metadata": {},
     "output_type": "display_data"
    },
    {
     "data": {
      "text/html": [
       "<pre style=\"white-space:pre;overflow-x:auto;line-height:normal;font-family:Menlo,'DejaVu Sans Mono',consolas,'Courier New',monospace\"><span style=\"color: #7fbfbf; text-decoration-color: #7fbfbf\">           </span><span style=\"color: #000080; text-decoration-color: #000080\">INFO    </span> Sending tasks to collaborator one for round <span style=\"color: #008080; text-decoration-color: #008080; font-weight: bold\">1</span>                                                                              <a href=\"file://C:\\Users\\BHSU\\AppData\\Local\\Programs\\Python\\Python39\\lib\\site-packages\\openfl\\component\\aggregator\\aggregator.py\" target=\"_blank\"><span style=\"color: #7f7f7f; text-decoration-color: #7f7f7f\">aggregator.py</span></a><span style=\"color: #7f7f7f; text-decoration-color: #7f7f7f\">:</span><a href=\"file://C:\\Users\\BHSU\\AppData\\Local\\Programs\\Python\\Python39\\lib\\site-packages\\openfl\\component\\aggregator\\aggregator.py#329\" target=\"_blank\"><span style=\"color: #7f7f7f; text-decoration-color: #7f7f7f\">329</span></a>\n",
       "</pre>\n"
      ],
      "text/plain": [
       "\u001b[2;36m          \u001b[0m\u001b[2;36m \u001b[0m\u001b[34mINFO    \u001b[0m Sending tasks to collaborator one for round \u001b[1;36m1\u001b[0m                                                                              \u001b]8;id=741393;file://C:\\Users\\BHSU\\AppData\\Local\\Programs\\Python\\Python39\\lib\\site-packages\\openfl\\component\\aggregator\\aggregator.py\u001b\\\u001b[2maggregator.py\u001b[0m\u001b]8;;\u001b\\\u001b[2m:\u001b[0m\u001b]8;id=464605;file://C:\\Users\\BHSU\\AppData\\Local\\Programs\\Python\\Python39\\lib\\site-packages\\openfl\\component\\aggregator\\aggregator.py#329\u001b\\\u001b[2m329\u001b[0m\u001b]8;;\u001b\\\n"
      ]
     },
     "metadata": {},
     "output_type": "display_data"
    },
    {
     "data": {
      "text/html": [
       "<pre style=\"white-space:pre;overflow-x:auto;line-height:normal;font-family:Menlo,'DejaVu Sans Mono',consolas,'Courier New',monospace\"><span style=\"color: #7fbfbf; text-decoration-color: #7fbfbf\">           </span><span style=\"color: #000080; text-decoration-color: #000080\">INFO    </span> Received the following tasks: <span style=\"font-weight: bold\">[</span><span style=\"color: #008000; text-decoration-color: #008000\">'aggregated_model_validation'</span>, <span style=\"color: #008000; text-decoration-color: #008000\">'train'</span>, <span style=\"color: #008000; text-decoration-color: #008000\">'locally_tuned_model_validation'</span><span style=\"font-weight: bold\">]</span>                 <a href=\"file://C:\\Users\\BHSU\\AppData\\Local\\Programs\\Python\\Python39\\lib\\site-packages\\openfl\\component\\collaborator\\collaborator.py\" target=\"_blank\"><span style=\"color: #7f7f7f; text-decoration-color: #7f7f7f\">collaborator.py</span></a><span style=\"color: #7f7f7f; text-decoration-color: #7f7f7f\">:</span><a href=\"file://C:\\Users\\BHSU\\AppData\\Local\\Programs\\Python\\Python39\\lib\\site-packages\\openfl\\component\\collaborator\\collaborator.py#168\" target=\"_blank\"><span style=\"color: #7f7f7f; text-decoration-color: #7f7f7f\">168</span></a>\n",
       "</pre>\n"
      ],
      "text/plain": [
       "\u001b[2;36m          \u001b[0m\u001b[2;36m \u001b[0m\u001b[34mINFO    \u001b[0m Received the following tasks: \u001b[1m[\u001b[0m\u001b[32m'aggregated_model_validation'\u001b[0m, \u001b[32m'train'\u001b[0m, \u001b[32m'locally_tuned_model_validation'\u001b[0m\u001b[1m]\u001b[0m                 \u001b]8;id=845215;file://C:\\Users\\BHSU\\AppData\\Local\\Programs\\Python\\Python39\\lib\\site-packages\\openfl\\component\\collaborator\\collaborator.py\u001b\\\u001b[2mcollaborator.py\u001b[0m\u001b]8;;\u001b\\\u001b[2m:\u001b[0m\u001b]8;id=465419;file://C:\\Users\\BHSU\\AppData\\Local\\Programs\\Python\\Python39\\lib\\site-packages\\openfl\\component\\collaborator\\collaborator.py#168\u001b\\\u001b[2m168\u001b[0m\u001b]8;;\u001b\\\n"
      ]
     },
     "metadata": {},
     "output_type": "display_data"
    },
    {
     "data": {
      "text/html": [
       "<pre style=\"white-space:pre;overflow-x:auto;line-height:normal;font-family:Menlo,'DejaVu Sans Mono',consolas,'Courier New',monospace\"><span style=\"color: #7fbfbf; text-decoration-color: #7fbfbf\">           </span><span style=\"color: #000080; text-decoration-color: #000080\">INFO    </span> Using TaskRunner subclassing API                                                                                         <a href=\"file://C:\\Users\\BHSU\\AppData\\Local\\Programs\\Python\\Python39\\lib\\site-packages\\openfl\\component\\collaborator\\collaborator.py\" target=\"_blank\"><span style=\"color: #7f7f7f; text-decoration-color: #7f7f7f\">collaborator.py</span></a><span style=\"color: #7f7f7f; text-decoration-color: #7f7f7f\">:</span><a href=\"file://C:\\Users\\BHSU\\AppData\\Local\\Programs\\Python\\Python39\\lib\\site-packages\\openfl\\component\\collaborator\\collaborator.py#253\" target=\"_blank\"><span style=\"color: #7f7f7f; text-decoration-color: #7f7f7f\">253</span></a>\n",
       "</pre>\n"
      ],
      "text/plain": [
       "\u001b[2;36m          \u001b[0m\u001b[2;36m \u001b[0m\u001b[34mINFO    \u001b[0m Using TaskRunner subclassing API                                                                                         \u001b]8;id=402800;file://C:\\Users\\BHSU\\AppData\\Local\\Programs\\Python\\Python39\\lib\\site-packages\\openfl\\component\\collaborator\\collaborator.py\u001b\\\u001b[2mcollaborator.py\u001b[0m\u001b]8;;\u001b\\\u001b[2m:\u001b[0m\u001b]8;id=887042;file://C:\\Users\\BHSU\\AppData\\Local\\Programs\\Python\\Python39\\lib\\site-packages\\openfl\\component\\collaborator\\collaborator.py#253\u001b\\\u001b[2m253\u001b[0m\u001b]8;;\u001b\\\n"
      ]
     },
     "metadata": {},
     "output_type": "display_data"
    },
    {
     "name": "stdout",
     "output_type": "stream",
     "text": [
      "282/282 [==============================] - 0s 527us/step - loss: 0.3407 - accuracy: 0.8949\n"
     ]
    },
    {
     "data": {
      "text/html": [
       "<pre style=\"white-space:pre;overflow-x:auto;line-height:normal;font-family:Menlo,'DejaVu Sans Mono',consolas,'Courier New',monospace\"><span style=\"color: #7fbfbf; text-decoration-color: #7fbfbf\">           </span>METRIC   Round <span style=\"color: #008080; text-decoration-color: #008080; font-weight: bold\">1</span>, collaborator one is sending metric for task aggregated_model_validation: accuracy      <span style=\"color: #008080; text-decoration-color: #008080; font-weight: bold\">0.894889</span>                 <a href=\"file://C:\\Users\\BHSU\\AppData\\Local\\Programs\\Python\\Python39\\lib\\site-packages\\openfl\\component\\collaborator\\collaborator.py\" target=\"_blank\"><span style=\"color: #7f7f7f; text-decoration-color: #7f7f7f\">collaborator.py</span></a><span style=\"color: #7f7f7f; text-decoration-color: #7f7f7f\">:</span><a href=\"file://C:\\Users\\BHSU\\AppData\\Local\\Programs\\Python\\Python39\\lib\\site-packages\\openfl\\component\\collaborator\\collaborator.py#415\" target=\"_blank\"><span style=\"color: #7f7f7f; text-decoration-color: #7f7f7f\">415</span></a>\n",
       "</pre>\n"
      ],
      "text/plain": [
       "\u001b[2;36m          \u001b[0m\u001b[2;36m \u001b[0mMETRIC   Round \u001b[1;36m1\u001b[0m, collaborator one is sending metric for task aggregated_model_validation: accuracy      \u001b[1;36m0.894889\u001b[0m                 \u001b]8;id=129082;file://C:\\Users\\BHSU\\AppData\\Local\\Programs\\Python\\Python39\\lib\\site-packages\\openfl\\component\\collaborator\\collaborator.py\u001b\\\u001b[2mcollaborator.py\u001b[0m\u001b]8;;\u001b\\\u001b[2m:\u001b[0m\u001b]8;id=904378;file://C:\\Users\\BHSU\\AppData\\Local\\Programs\\Python\\Python39\\lib\\site-packages\\openfl\\component\\collaborator\\collaborator.py#415\u001b\\\u001b[2m415\u001b[0m\u001b]8;;\u001b\\\n"
      ]
     },
     "metadata": {},
     "output_type": "display_data"
    },
    {
     "data": {
      "text/html": [
       "<pre style=\"white-space:pre;overflow-x:auto;line-height:normal;font-family:Menlo,'DejaVu Sans Mono',consolas,'Courier New',monospace\"><span style=\"color: #7fbfbf; text-decoration-color: #7fbfbf\">           </span><span style=\"color: #000080; text-decoration-color: #000080\">INFO    </span> Collaborator one is sending task results for aggregated_model_validation, round <span style=\"color: #008080; text-decoration-color: #008080; font-weight: bold\">1</span>                                          <a href=\"file://C:\\Users\\BHSU\\AppData\\Local\\Programs\\Python\\Python39\\lib\\site-packages\\openfl\\component\\aggregator\\aggregator.py\" target=\"_blank\"><span style=\"color: #7f7f7f; text-decoration-color: #7f7f7f\">aggregator.py</span></a><span style=\"color: #7f7f7f; text-decoration-color: #7f7f7f\">:</span><a href=\"file://C:\\Users\\BHSU\\AppData\\Local\\Programs\\Python\\Python39\\lib\\site-packages\\openfl\\component\\aggregator\\aggregator.py#520\" target=\"_blank\"><span style=\"color: #7f7f7f; text-decoration-color: #7f7f7f\">520</span></a>\n",
       "</pre>\n"
      ],
      "text/plain": [
       "\u001b[2;36m          \u001b[0m\u001b[2;36m \u001b[0m\u001b[34mINFO    \u001b[0m Collaborator one is sending task results for aggregated_model_validation, round \u001b[1;36m1\u001b[0m                                          \u001b]8;id=486832;file://C:\\Users\\BHSU\\AppData\\Local\\Programs\\Python\\Python39\\lib\\site-packages\\openfl\\component\\aggregator\\aggregator.py\u001b\\\u001b[2maggregator.py\u001b[0m\u001b]8;;\u001b\\\u001b[2m:\u001b[0m\u001b]8;id=992265;file://C:\\Users\\BHSU\\AppData\\Local\\Programs\\Python\\Python39\\lib\\site-packages\\openfl\\component\\aggregator\\aggregator.py#520\u001b\\\u001b[2m520\u001b[0m\u001b]8;;\u001b\\\n"
      ]
     },
     "metadata": {},
     "output_type": "display_data"
    },
    {
     "data": {
      "text/html": [
       "<pre style=\"white-space:pre;overflow-x:auto;line-height:normal;font-family:Menlo,'DejaVu Sans Mono',consolas,'Courier New',monospace\"><span style=\"color: #7fbfbf; text-decoration-color: #7fbfbf\">           </span>METRIC   Round <span style=\"color: #008080; text-decoration-color: #008080; font-weight: bold\">1</span>, collaborator validate_agg aggregated_model_validation result accuracy: <span style=\"color: #008080; text-decoration-color: #008080; font-weight: bold\">0.894889</span>                                   <a href=\"file://C:\\Users\\BHSU\\AppData\\Local\\Programs\\Python\\Python39\\lib\\site-packages\\openfl\\component\\aggregator\\aggregator.py\" target=\"_blank\"><span style=\"color: #7f7f7f; text-decoration-color: #7f7f7f\">aggregator.py</span></a><span style=\"color: #7f7f7f; text-decoration-color: #7f7f7f\">:</span><a href=\"file://C:\\Users\\BHSU\\AppData\\Local\\Programs\\Python\\Python39\\lib\\site-packages\\openfl\\component\\aggregator\\aggregator.py#559\" target=\"_blank\"><span style=\"color: #7f7f7f; text-decoration-color: #7f7f7f\">559</span></a>\n",
       "</pre>\n"
      ],
      "text/plain": [
       "\u001b[2;36m          \u001b[0m\u001b[2;36m \u001b[0mMETRIC   Round \u001b[1;36m1\u001b[0m, collaborator validate_agg aggregated_model_validation result accuracy: \u001b[1;36m0.894889\u001b[0m                                   \u001b]8;id=835158;file://C:\\Users\\BHSU\\AppData\\Local\\Programs\\Python\\Python39\\lib\\site-packages\\openfl\\component\\aggregator\\aggregator.py\u001b\\\u001b[2maggregator.py\u001b[0m\u001b]8;;\u001b\\\u001b[2m:\u001b[0m\u001b]8;id=694309;file://C:\\Users\\BHSU\\AppData\\Local\\Programs\\Python\\Python39\\lib\\site-packages\\openfl\\component\\aggregator\\aggregator.py#559\u001b\\\u001b[2m559\u001b[0m\u001b]8;;\u001b\\\n"
      ]
     },
     "metadata": {},
     "output_type": "display_data"
    },
    {
     "data": {
      "text/html": [
       "<pre style=\"white-space:pre;overflow-x:auto;line-height:normal;font-family:Menlo,'DejaVu Sans Mono',consolas,'Courier New',monospace\"><span style=\"color: #7fbfbf; text-decoration-color: #7fbfbf\">           </span><span style=\"color: #000080; text-decoration-color: #000080\">INFO    </span> Using TaskRunner subclassing API                                                                                         <a href=\"file://C:\\Users\\BHSU\\AppData\\Local\\Programs\\Python\\Python39\\lib\\site-packages\\openfl\\component\\collaborator\\collaborator.py\" target=\"_blank\"><span style=\"color: #7f7f7f; text-decoration-color: #7f7f7f\">collaborator.py</span></a><span style=\"color: #7f7f7f; text-decoration-color: #7f7f7f\">:</span><a href=\"file://C:\\Users\\BHSU\\AppData\\Local\\Programs\\Python\\Python39\\lib\\site-packages\\openfl\\component\\collaborator\\collaborator.py#253\" target=\"_blank\"><span style=\"color: #7f7f7f; text-decoration-color: #7f7f7f\">253</span></a>\n",
       "</pre>\n"
      ],
      "text/plain": [
       "\u001b[2;36m          \u001b[0m\u001b[2;36m \u001b[0m\u001b[34mINFO    \u001b[0m Using TaskRunner subclassing API                                                                                         \u001b]8;id=18573;file://C:\\Users\\BHSU\\AppData\\Local\\Programs\\Python\\Python39\\lib\\site-packages\\openfl\\component\\collaborator\\collaborator.py\u001b\\\u001b[2mcollaborator.py\u001b[0m\u001b]8;;\u001b\\\u001b[2m:\u001b[0m\u001b]8;id=818833;file://C:\\Users\\BHSU\\AppData\\Local\\Programs\\Python\\Python39\\lib\\site-packages\\openfl\\component\\collaborator\\collaborator.py#253\u001b\\\u001b[2m253\u001b[0m\u001b]8;;\u001b\\\n"
      ]
     },
     "metadata": {},
     "output_type": "display_data"
    },
    {
     "data": {
      "text/html": [
       "<pre style=\"white-space:pre;overflow-x:auto;line-height:normal;font-family:Menlo,'DejaVu Sans Mono',consolas,'Courier New',monospace\"><span style=\"color: #7fbfbf; text-decoration-color: #7fbfbf\">           </span><span style=\"color: #000080; text-decoration-color: #000080\">INFO    </span> Run <span style=\"color: #008080; text-decoration-color: #008080; font-weight: bold\">0</span> epoch of <span style=\"color: #008080; text-decoration-color: #008080; font-weight: bold\">1</span> round                                                                                                    <a href=\"file://C:\\Users\\BHSU\\AppData\\Local\\Programs\\Python\\Python39\\lib\\site-packages\\openfl\\federated\\task\\runner_keras.py\" target=\"_blank\"><span style=\"color: #7f7f7f; text-decoration-color: #7f7f7f\">runner_keras.py</span></a><span style=\"color: #7f7f7f; text-decoration-color: #7f7f7f\">:</span><a href=\"file://C:\\Users\\BHSU\\AppData\\Local\\Programs\\Python\\Python39\\lib\\site-packages\\openfl\\federated\\task\\runner_keras.py#83\" target=\"_blank\"><span style=\"color: #7f7f7f; text-decoration-color: #7f7f7f\">83</span></a>\n",
       "</pre>\n"
      ],
      "text/plain": [
       "\u001b[2;36m          \u001b[0m\u001b[2;36m \u001b[0m\u001b[34mINFO    \u001b[0m Run \u001b[1;36m0\u001b[0m epoch of \u001b[1;36m1\u001b[0m round                                                                                                    \u001b]8;id=288277;file://C:\\Users\\BHSU\\AppData\\Local\\Programs\\Python\\Python39\\lib\\site-packages\\openfl\\federated\\task\\runner_keras.py\u001b\\\u001b[2mrunner_keras.py\u001b[0m\u001b]8;;\u001b\\\u001b[2m:\u001b[0m\u001b]8;id=454023;file://C:\\Users\\BHSU\\AppData\\Local\\Programs\\Python\\Python39\\lib\\site-packages\\openfl\\federated\\task\\runner_keras.py#83\u001b\\\u001b[2m83\u001b[0m\u001b]8;;\u001b\\\n"
      ]
     },
     "metadata": {},
     "output_type": "display_data"
    },
    {
     "name": "stdout",
     "output_type": "stream",
     "text": [
      "657/657 [==============================] - 0s 643us/step - loss: 0.2959 - accuracy: 0.9109\n"
     ]
    },
    {
     "data": {
      "text/html": [
       "<pre style=\"white-space:pre;overflow-x:auto;line-height:normal;font-family:Menlo,'DejaVu Sans Mono',consolas,'Courier New',monospace\"><span style=\"color: #7fbfbf; text-decoration-color: #7fbfbf\">           </span>METRIC   Round <span style=\"color: #008080; text-decoration-color: #008080; font-weight: bold\">1</span>, collaborator one is sending metric for task train: loss        <span style=\"color: #008080; text-decoration-color: #008080; font-weight: bold\">0.295865</span>                                         <a href=\"file://C:\\Users\\BHSU\\AppData\\Local\\Programs\\Python\\Python39\\lib\\site-packages\\openfl\\component\\collaborator\\collaborator.py\" target=\"_blank\"><span style=\"color: #7f7f7f; text-decoration-color: #7f7f7f\">collaborator.py</span></a><span style=\"color: #7f7f7f; text-decoration-color: #7f7f7f\">:</span><a href=\"file://C:\\Users\\BHSU\\AppData\\Local\\Programs\\Python\\Python39\\lib\\site-packages\\openfl\\component\\collaborator\\collaborator.py#415\" target=\"_blank\"><span style=\"color: #7f7f7f; text-decoration-color: #7f7f7f\">415</span></a>\n",
       "</pre>\n"
      ],
      "text/plain": [
       "\u001b[2;36m          \u001b[0m\u001b[2;36m \u001b[0mMETRIC   Round \u001b[1;36m1\u001b[0m, collaborator one is sending metric for task train: loss        \u001b[1;36m0.295865\u001b[0m                                         \u001b]8;id=20803;file://C:\\Users\\BHSU\\AppData\\Local\\Programs\\Python\\Python39\\lib\\site-packages\\openfl\\component\\collaborator\\collaborator.py\u001b\\\u001b[2mcollaborator.py\u001b[0m\u001b]8;;\u001b\\\u001b[2m:\u001b[0m\u001b]8;id=743859;file://C:\\Users\\BHSU\\AppData\\Local\\Programs\\Python\\Python39\\lib\\site-packages\\openfl\\component\\collaborator\\collaborator.py#415\u001b\\\u001b[2m415\u001b[0m\u001b]8;;\u001b\\\n"
      ]
     },
     "metadata": {},
     "output_type": "display_data"
    },
    {
     "data": {
      "text/html": [
       "<pre style=\"white-space:pre;overflow-x:auto;line-height:normal;font-family:Menlo,'DejaVu Sans Mono',consolas,'Courier New',monospace\"><span style=\"color: #7fbfbf; text-decoration-color: #7fbfbf\">           </span><span style=\"color: #000080; text-decoration-color: #000080\">INFO    </span> Collaborator one is sending task results for train, round <span style=\"color: #008080; text-decoration-color: #008080; font-weight: bold\">1</span>                                                                <a href=\"file://C:\\Users\\BHSU\\AppData\\Local\\Programs\\Python\\Python39\\lib\\site-packages\\openfl\\component\\aggregator\\aggregator.py\" target=\"_blank\"><span style=\"color: #7f7f7f; text-decoration-color: #7f7f7f\">aggregator.py</span></a><span style=\"color: #7f7f7f; text-decoration-color: #7f7f7f\">:</span><a href=\"file://C:\\Users\\BHSU\\AppData\\Local\\Programs\\Python\\Python39\\lib\\site-packages\\openfl\\component\\aggregator\\aggregator.py#520\" target=\"_blank\"><span style=\"color: #7f7f7f; text-decoration-color: #7f7f7f\">520</span></a>\n",
       "</pre>\n"
      ],
      "text/plain": [
       "\u001b[2;36m          \u001b[0m\u001b[2;36m \u001b[0m\u001b[34mINFO    \u001b[0m Collaborator one is sending task results for train, round \u001b[1;36m1\u001b[0m                                                                \u001b]8;id=987727;file://C:\\Users\\BHSU\\AppData\\Local\\Programs\\Python\\Python39\\lib\\site-packages\\openfl\\component\\aggregator\\aggregator.py\u001b\\\u001b[2maggregator.py\u001b[0m\u001b]8;;\u001b\\\u001b[2m:\u001b[0m\u001b]8;id=692317;file://C:\\Users\\BHSU\\AppData\\Local\\Programs\\Python\\Python39\\lib\\site-packages\\openfl\\component\\aggregator\\aggregator.py#520\u001b\\\u001b[2m520\u001b[0m\u001b]8;;\u001b\\\n"
      ]
     },
     "metadata": {},
     "output_type": "display_data"
    },
    {
     "data": {
      "text/html": [
       "<pre style=\"white-space:pre;overflow-x:auto;line-height:normal;font-family:Menlo,'DejaVu Sans Mono',consolas,'Courier New',monospace\"><span style=\"color: #7fbfbf; text-decoration-color: #7fbfbf\">           </span>METRIC   Round <span style=\"color: #008080; text-decoration-color: #008080; font-weight: bold\">1</span>, collaborator one train result loss:    <span style=\"color: #008080; text-decoration-color: #008080; font-weight: bold\">0.295865</span>                                                                   <a href=\"file://C:\\Users\\BHSU\\AppData\\Local\\Programs\\Python\\Python39\\lib\\site-packages\\openfl\\component\\aggregator\\aggregator.py\" target=\"_blank\"><span style=\"color: #7f7f7f; text-decoration-color: #7f7f7f\">aggregator.py</span></a><span style=\"color: #7f7f7f; text-decoration-color: #7f7f7f\">:</span><a href=\"file://C:\\Users\\BHSU\\AppData\\Local\\Programs\\Python\\Python39\\lib\\site-packages\\openfl\\component\\aggregator\\aggregator.py#559\" target=\"_blank\"><span style=\"color: #7f7f7f; text-decoration-color: #7f7f7f\">559</span></a>\n",
       "</pre>\n"
      ],
      "text/plain": [
       "\u001b[2;36m          \u001b[0m\u001b[2;36m \u001b[0mMETRIC   Round \u001b[1;36m1\u001b[0m, collaborator one train result loss:    \u001b[1;36m0.295865\u001b[0m                                                                   \u001b]8;id=295058;file://C:\\Users\\BHSU\\AppData\\Local\\Programs\\Python\\Python39\\lib\\site-packages\\openfl\\component\\aggregator\\aggregator.py\u001b\\\u001b[2maggregator.py\u001b[0m\u001b]8;;\u001b\\\u001b[2m:\u001b[0m\u001b]8;id=218564;file://C:\\Users\\BHSU\\AppData\\Local\\Programs\\Python\\Python39\\lib\\site-packages\\openfl\\component\\aggregator\\aggregator.py#559\u001b\\\u001b[2m559\u001b[0m\u001b]8;;\u001b\\\n"
      ]
     },
     "metadata": {},
     "output_type": "display_data"
    },
    {
     "data": {
      "text/html": [
       "<pre style=\"white-space:pre;overflow-x:auto;line-height:normal;font-family:Menlo,'DejaVu Sans Mono',consolas,'Courier New',monospace\"><span style=\"color: #7fbfbf; text-decoration-color: #7fbfbf\">           </span><span style=\"color: #000080; text-decoration-color: #000080\">INFO    </span> Using TaskRunner subclassing API                                                                                         <a href=\"file://C:\\Users\\BHSU\\AppData\\Local\\Programs\\Python\\Python39\\lib\\site-packages\\openfl\\component\\collaborator\\collaborator.py\" target=\"_blank\"><span style=\"color: #7f7f7f; text-decoration-color: #7f7f7f\">collaborator.py</span></a><span style=\"color: #7f7f7f; text-decoration-color: #7f7f7f\">:</span><a href=\"file://C:\\Users\\BHSU\\AppData\\Local\\Programs\\Python\\Python39\\lib\\site-packages\\openfl\\component\\collaborator\\collaborator.py#253\" target=\"_blank\"><span style=\"color: #7f7f7f; text-decoration-color: #7f7f7f\">253</span></a>\n",
       "</pre>\n"
      ],
      "text/plain": [
       "\u001b[2;36m          \u001b[0m\u001b[2;36m \u001b[0m\u001b[34mINFO    \u001b[0m Using TaskRunner subclassing API                                                                                         \u001b]8;id=427825;file://C:\\Users\\BHSU\\AppData\\Local\\Programs\\Python\\Python39\\lib\\site-packages\\openfl\\component\\collaborator\\collaborator.py\u001b\\\u001b[2mcollaborator.py\u001b[0m\u001b]8;;\u001b\\\u001b[2m:\u001b[0m\u001b]8;id=126830;file://C:\\Users\\BHSU\\AppData\\Local\\Programs\\Python\\Python39\\lib\\site-packages\\openfl\\component\\collaborator\\collaborator.py#253\u001b\\\u001b[2m253\u001b[0m\u001b]8;;\u001b\\\n"
      ]
     },
     "metadata": {},
     "output_type": "display_data"
    },
    {
     "name": "stdout",
     "output_type": "stream",
     "text": [
      "282/282 [==============================] - 0s 537us/step - loss: 0.2751 - accuracy: 0.9107\n"
     ]
    },
    {
     "data": {
      "text/html": [
       "<pre style=\"white-space:pre;overflow-x:auto;line-height:normal;font-family:Menlo,'DejaVu Sans Mono',consolas,'Courier New',monospace\"><span style=\"color: #7fbfbf; text-decoration-color: #7fbfbf\">           </span>METRIC   Round <span style=\"color: #008080; text-decoration-color: #008080; font-weight: bold\">1</span>, collaborator one is sending metric for task locally_tuned_model_validation: accuracy   <span style=\"color: #008080; text-decoration-color: #008080; font-weight: bold\">0.910667</span>                 <a href=\"file://C:\\Users\\BHSU\\AppData\\Local\\Programs\\Python\\Python39\\lib\\site-packages\\openfl\\component\\collaborator\\collaborator.py\" target=\"_blank\"><span style=\"color: #7f7f7f; text-decoration-color: #7f7f7f\">collaborator.py</span></a><span style=\"color: #7f7f7f; text-decoration-color: #7f7f7f\">:</span><a href=\"file://C:\\Users\\BHSU\\AppData\\Local\\Programs\\Python\\Python39\\lib\\site-packages\\openfl\\component\\collaborator\\collaborator.py#415\" target=\"_blank\"><span style=\"color: #7f7f7f; text-decoration-color: #7f7f7f\">415</span></a>\n",
       "</pre>\n"
      ],
      "text/plain": [
       "\u001b[2;36m          \u001b[0m\u001b[2;36m \u001b[0mMETRIC   Round \u001b[1;36m1\u001b[0m, collaborator one is sending metric for task locally_tuned_model_validation: accuracy   \u001b[1;36m0.910667\u001b[0m                 \u001b]8;id=774149;file://C:\\Users\\BHSU\\AppData\\Local\\Programs\\Python\\Python39\\lib\\site-packages\\openfl\\component\\collaborator\\collaborator.py\u001b\\\u001b[2mcollaborator.py\u001b[0m\u001b]8;;\u001b\\\u001b[2m:\u001b[0m\u001b]8;id=455892;file://C:\\Users\\BHSU\\AppData\\Local\\Programs\\Python\\Python39\\lib\\site-packages\\openfl\\component\\collaborator\\collaborator.py#415\u001b\\\u001b[2m415\u001b[0m\u001b]8;;\u001b\\\n"
      ]
     },
     "metadata": {},
     "output_type": "display_data"
    },
    {
     "data": {
      "text/html": [
       "<pre style=\"white-space:pre;overflow-x:auto;line-height:normal;font-family:Menlo,'DejaVu Sans Mono',consolas,'Courier New',monospace\"><span style=\"color: #7fbfbf; text-decoration-color: #7fbfbf\">           </span><span style=\"color: #000080; text-decoration-color: #000080\">INFO    </span> Collaborator one is sending task results for locally_tuned_model_validation, round <span style=\"color: #008080; text-decoration-color: #008080; font-weight: bold\">1</span>                                       <a href=\"file://C:\\Users\\BHSU\\AppData\\Local\\Programs\\Python\\Python39\\lib\\site-packages\\openfl\\component\\aggregator\\aggregator.py\" target=\"_blank\"><span style=\"color: #7f7f7f; text-decoration-color: #7f7f7f\">aggregator.py</span></a><span style=\"color: #7f7f7f; text-decoration-color: #7f7f7f\">:</span><a href=\"file://C:\\Users\\BHSU\\AppData\\Local\\Programs\\Python\\Python39\\lib\\site-packages\\openfl\\component\\aggregator\\aggregator.py#520\" target=\"_blank\"><span style=\"color: #7f7f7f; text-decoration-color: #7f7f7f\">520</span></a>\n",
       "</pre>\n"
      ],
      "text/plain": [
       "\u001b[2;36m          \u001b[0m\u001b[2;36m \u001b[0m\u001b[34mINFO    \u001b[0m Collaborator one is sending task results for locally_tuned_model_validation, round \u001b[1;36m1\u001b[0m                                       \u001b]8;id=862976;file://C:\\Users\\BHSU\\AppData\\Local\\Programs\\Python\\Python39\\lib\\site-packages\\openfl\\component\\aggregator\\aggregator.py\u001b\\\u001b[2maggregator.py\u001b[0m\u001b]8;;\u001b\\\u001b[2m:\u001b[0m\u001b]8;id=706669;file://C:\\Users\\BHSU\\AppData\\Local\\Programs\\Python\\Python39\\lib\\site-packages\\openfl\\component\\aggregator\\aggregator.py#520\u001b\\\u001b[2m520\u001b[0m\u001b]8;;\u001b\\\n"
      ]
     },
     "metadata": {},
     "output_type": "display_data"
    },
    {
     "data": {
      "text/html": [
       "<pre style=\"white-space:pre;overflow-x:auto;line-height:normal;font-family:Menlo,'DejaVu Sans Mono',consolas,'Courier New',monospace\"><span style=\"color: #7fbfbf; text-decoration-color: #7fbfbf\">           </span>METRIC   Round <span style=\"color: #008080; text-decoration-color: #008080; font-weight: bold\">1</span>, collaborator validate_local locally_tuned_model_validation result accuracy:    <span style=\"color: #008080; text-decoration-color: #008080; font-weight: bold\">0.910667</span>                           <a href=\"file://C:\\Users\\BHSU\\AppData\\Local\\Programs\\Python\\Python39\\lib\\site-packages\\openfl\\component\\aggregator\\aggregator.py\" target=\"_blank\"><span style=\"color: #7f7f7f; text-decoration-color: #7f7f7f\">aggregator.py</span></a><span style=\"color: #7f7f7f; text-decoration-color: #7f7f7f\">:</span><a href=\"file://C:\\Users\\BHSU\\AppData\\Local\\Programs\\Python\\Python39\\lib\\site-packages\\openfl\\component\\aggregator\\aggregator.py#559\" target=\"_blank\"><span style=\"color: #7f7f7f; text-decoration-color: #7f7f7f\">559</span></a>\n",
       "</pre>\n"
      ],
      "text/plain": [
       "\u001b[2;36m          \u001b[0m\u001b[2;36m \u001b[0mMETRIC   Round \u001b[1;36m1\u001b[0m, collaborator validate_local locally_tuned_model_validation result accuracy:    \u001b[1;36m0.910667\u001b[0m                           \u001b]8;id=396362;file://C:\\Users\\BHSU\\AppData\\Local\\Programs\\Python\\Python39\\lib\\site-packages\\openfl\\component\\aggregator\\aggregator.py\u001b\\\u001b[2maggregator.py\u001b[0m\u001b]8;;\u001b\\\u001b[2m:\u001b[0m\u001b]8;id=134374;file://C:\\Users\\BHSU\\AppData\\Local\\Programs\\Python\\Python39\\lib\\site-packages\\openfl\\component\\aggregator\\aggregator.py#559\u001b\\\u001b[2m559\u001b[0m\u001b]8;;\u001b\\\n"
      ]
     },
     "metadata": {},
     "output_type": "display_data"
    },
    {
     "data": {
      "text/html": [
       "<pre style=\"white-space:pre;overflow-x:auto;line-height:normal;font-family:Menlo,'DejaVu Sans Mono',consolas,'Courier New',monospace\"><span style=\"color: #7fbfbf; text-decoration-color: #7fbfbf\">           </span><span style=\"color: #000080; text-decoration-color: #000080\">INFO    </span> All tasks completed on one for round <span style=\"color: #008080; text-decoration-color: #008080; font-weight: bold\">1</span><span style=\"color: #808000; text-decoration-color: #808000\">...</span>                                                                                <a href=\"file://C:\\Users\\BHSU\\AppData\\Local\\Programs\\Python\\Python39\\lib\\site-packages\\openfl\\component\\collaborator\\collaborator.py\" target=\"_blank\"><span style=\"color: #7f7f7f; text-decoration-color: #7f7f7f\">collaborator.py</span></a><span style=\"color: #7f7f7f; text-decoration-color: #7f7f7f\">:</span><a href=\"file://C:\\Users\\BHSU\\AppData\\Local\\Programs\\Python\\Python39\\lib\\site-packages\\openfl\\component\\collaborator\\collaborator.py#171\" target=\"_blank\"><span style=\"color: #7f7f7f; text-decoration-color: #7f7f7f\">171</span></a>\n",
       "</pre>\n"
      ],
      "text/plain": [
       "\u001b[2;36m          \u001b[0m\u001b[2;36m \u001b[0m\u001b[34mINFO    \u001b[0m All tasks completed on one for round \u001b[1;36m1\u001b[0m\u001b[33m...\u001b[0m                                                                                \u001b]8;id=915187;file://C:\\Users\\BHSU\\AppData\\Local\\Programs\\Python\\Python39\\lib\\site-packages\\openfl\\component\\collaborator\\collaborator.py\u001b\\\u001b[2mcollaborator.py\u001b[0m\u001b]8;;\u001b\\\u001b[2m:\u001b[0m\u001b]8;id=198781;file://C:\\Users\\BHSU\\AppData\\Local\\Programs\\Python\\Python39\\lib\\site-packages\\openfl\\component\\collaborator\\collaborator.py#171\u001b\\\u001b[2m171\u001b[0m\u001b]8;;\u001b\\\n"
      ]
     },
     "metadata": {},
     "output_type": "display_data"
    },
    {
     "data": {
      "text/html": [
       "<pre style=\"white-space:pre;overflow-x:auto;line-height:normal;font-family:Menlo,'DejaVu Sans Mono',consolas,'Courier New',monospace\"><span style=\"color: #7fbfbf; text-decoration-color: #7fbfbf\">           </span><span style=\"color: #000080; text-decoration-color: #000080\">INFO    </span> Waiting for tasks<span style=\"color: #808000; text-decoration-color: #808000\">...</span>                                                                                                     <a href=\"file://C:\\Users\\BHSU\\AppData\\Local\\Programs\\Python\\Python39\\lib\\site-packages\\openfl\\component\\collaborator\\collaborator.py\" target=\"_blank\"><span style=\"color: #7f7f7f; text-decoration-color: #7f7f7f\">collaborator.py</span></a><span style=\"color: #7f7f7f; text-decoration-color: #7f7f7f\">:</span><a href=\"file://C:\\Users\\BHSU\\AppData\\Local\\Programs\\Python\\Python39\\lib\\site-packages\\openfl\\component\\collaborator\\collaborator.py#178\" target=\"_blank\"><span style=\"color: #7f7f7f; text-decoration-color: #7f7f7f\">178</span></a>\n",
       "</pre>\n"
      ],
      "text/plain": [
       "\u001b[2;36m          \u001b[0m\u001b[2;36m \u001b[0m\u001b[34mINFO    \u001b[0m Waiting for tasks\u001b[33m...\u001b[0m                                                                                                     \u001b]8;id=556929;file://C:\\Users\\BHSU\\AppData\\Local\\Programs\\Python\\Python39\\lib\\site-packages\\openfl\\component\\collaborator\\collaborator.py\u001b\\\u001b[2mcollaborator.py\u001b[0m\u001b]8;;\u001b\\\u001b[2m:\u001b[0m\u001b]8;id=642112;file://C:\\Users\\BHSU\\AppData\\Local\\Programs\\Python\\Python39\\lib\\site-packages\\openfl\\component\\collaborator\\collaborator.py#178\u001b\\\u001b[2m178\u001b[0m\u001b]8;;\u001b\\\n"
      ]
     },
     "metadata": {},
     "output_type": "display_data"
    },
    {
     "data": {
      "text/html": [
       "<pre style=\"white-space:pre;overflow-x:auto;line-height:normal;font-family:Menlo,'DejaVu Sans Mono',consolas,'Courier New',monospace\"><span style=\"color: #7fbfbf; text-decoration-color: #7fbfbf\">           </span><span style=\"color: #000080; text-decoration-color: #000080\">INFO    </span> Sending tasks to collaborator two for round <span style=\"color: #008080; text-decoration-color: #008080; font-weight: bold\">1</span>                                                                              <a href=\"file://C:\\Users\\BHSU\\AppData\\Local\\Programs\\Python\\Python39\\lib\\site-packages\\openfl\\component\\aggregator\\aggregator.py\" target=\"_blank\"><span style=\"color: #7f7f7f; text-decoration-color: #7f7f7f\">aggregator.py</span></a><span style=\"color: #7f7f7f; text-decoration-color: #7f7f7f\">:</span><a href=\"file://C:\\Users\\BHSU\\AppData\\Local\\Programs\\Python\\Python39\\lib\\site-packages\\openfl\\component\\aggregator\\aggregator.py#329\" target=\"_blank\"><span style=\"color: #7f7f7f; text-decoration-color: #7f7f7f\">329</span></a>\n",
       "</pre>\n"
      ],
      "text/plain": [
       "\u001b[2;36m          \u001b[0m\u001b[2;36m \u001b[0m\u001b[34mINFO    \u001b[0m Sending tasks to collaborator two for round \u001b[1;36m1\u001b[0m                                                                              \u001b]8;id=617512;file://C:\\Users\\BHSU\\AppData\\Local\\Programs\\Python\\Python39\\lib\\site-packages\\openfl\\component\\aggregator\\aggregator.py\u001b\\\u001b[2maggregator.py\u001b[0m\u001b]8;;\u001b\\\u001b[2m:\u001b[0m\u001b]8;id=467108;file://C:\\Users\\BHSU\\AppData\\Local\\Programs\\Python\\Python39\\lib\\site-packages\\openfl\\component\\aggregator\\aggregator.py#329\u001b\\\u001b[2m329\u001b[0m\u001b]8;;\u001b\\\n"
      ]
     },
     "metadata": {},
     "output_type": "display_data"
    },
    {
     "data": {
      "text/html": [
       "<pre style=\"white-space:pre;overflow-x:auto;line-height:normal;font-family:Menlo,'DejaVu Sans Mono',consolas,'Courier New',monospace\"><span style=\"color: #7fbfbf; text-decoration-color: #7fbfbf\">           </span><span style=\"color: #000080; text-decoration-color: #000080\">INFO    </span> Received the following tasks: <span style=\"font-weight: bold\">[</span><span style=\"color: #008000; text-decoration-color: #008000\">'aggregated_model_validation'</span>, <span style=\"color: #008000; text-decoration-color: #008000\">'train'</span>, <span style=\"color: #008000; text-decoration-color: #008000\">'locally_tuned_model_validation'</span><span style=\"font-weight: bold\">]</span>                 <a href=\"file://C:\\Users\\BHSU\\AppData\\Local\\Programs\\Python\\Python39\\lib\\site-packages\\openfl\\component\\collaborator\\collaborator.py\" target=\"_blank\"><span style=\"color: #7f7f7f; text-decoration-color: #7f7f7f\">collaborator.py</span></a><span style=\"color: #7f7f7f; text-decoration-color: #7f7f7f\">:</span><a href=\"file://C:\\Users\\BHSU\\AppData\\Local\\Programs\\Python\\Python39\\lib\\site-packages\\openfl\\component\\collaborator\\collaborator.py#168\" target=\"_blank\"><span style=\"color: #7f7f7f; text-decoration-color: #7f7f7f\">168</span></a>\n",
       "</pre>\n"
      ],
      "text/plain": [
       "\u001b[2;36m          \u001b[0m\u001b[2;36m \u001b[0m\u001b[34mINFO    \u001b[0m Received the following tasks: \u001b[1m[\u001b[0m\u001b[32m'aggregated_model_validation'\u001b[0m, \u001b[32m'train'\u001b[0m, \u001b[32m'locally_tuned_model_validation'\u001b[0m\u001b[1m]\u001b[0m                 \u001b]8;id=599415;file://C:\\Users\\BHSU\\AppData\\Local\\Programs\\Python\\Python39\\lib\\site-packages\\openfl\\component\\collaborator\\collaborator.py\u001b\\\u001b[2mcollaborator.py\u001b[0m\u001b]8;;\u001b\\\u001b[2m:\u001b[0m\u001b]8;id=178925;file://C:\\Users\\BHSU\\AppData\\Local\\Programs\\Python\\Python39\\lib\\site-packages\\openfl\\component\\collaborator\\collaborator.py#168\u001b\\\u001b[2m168\u001b[0m\u001b]8;;\u001b\\\n"
      ]
     },
     "metadata": {},
     "output_type": "display_data"
    },
    {
     "data": {
      "text/html": [
       "<pre style=\"white-space:pre;overflow-x:auto;line-height:normal;font-family:Menlo,'DejaVu Sans Mono',consolas,'Courier New',monospace\"><span style=\"color: #7fbfbf; text-decoration-color: #7fbfbf\">[09:22:48] </span><span style=\"color: #000080; text-decoration-color: #000080\">INFO    </span> Using TaskRunner subclassing API                                                                                         <a href=\"file://C:\\Users\\BHSU\\AppData\\Local\\Programs\\Python\\Python39\\lib\\site-packages\\openfl\\component\\collaborator\\collaborator.py\" target=\"_blank\"><span style=\"color: #7f7f7f; text-decoration-color: #7f7f7f\">collaborator.py</span></a><span style=\"color: #7f7f7f; text-decoration-color: #7f7f7f\">:</span><a href=\"file://C:\\Users\\BHSU\\AppData\\Local\\Programs\\Python\\Python39\\lib\\site-packages\\openfl\\component\\collaborator\\collaborator.py#253\" target=\"_blank\"><span style=\"color: #7f7f7f; text-decoration-color: #7f7f7f\">253</span></a>\n",
       "</pre>\n"
      ],
      "text/plain": [
       "\u001b[2;36m[09:22:48]\u001b[0m\u001b[2;36m \u001b[0m\u001b[34mINFO    \u001b[0m Using TaskRunner subclassing API                                                                                         \u001b]8;id=415600;file://C:\\Users\\BHSU\\AppData\\Local\\Programs\\Python\\Python39\\lib\\site-packages\\openfl\\component\\collaborator\\collaborator.py\u001b\\\u001b[2mcollaborator.py\u001b[0m\u001b]8;;\u001b\\\u001b[2m:\u001b[0m\u001b]8;id=612896;file://C:\\Users\\BHSU\\AppData\\Local\\Programs\\Python\\Python39\\lib\\site-packages\\openfl\\component\\collaborator\\collaborator.py#253\u001b\\\u001b[2m253\u001b[0m\u001b]8;;\u001b\\\n"
      ]
     },
     "metadata": {},
     "output_type": "display_data"
    },
    {
     "name": "stdout",
     "output_type": "stream",
     "text": [
      "282/282 [==============================] - 0s 523us/step - loss: 0.3534 - accuracy: 0.8914\n"
     ]
    },
    {
     "data": {
      "text/html": [
       "<pre style=\"white-space:pre;overflow-x:auto;line-height:normal;font-family:Menlo,'DejaVu Sans Mono',consolas,'Courier New',monospace\"><span style=\"color: #7fbfbf; text-decoration-color: #7fbfbf\">           </span>METRIC   Round <span style=\"color: #008080; text-decoration-color: #008080; font-weight: bold\">1</span>, collaborator two is sending metric for task aggregated_model_validation: accuracy      <span style=\"color: #008080; text-decoration-color: #008080; font-weight: bold\">0.891444</span>                 <a href=\"file://C:\\Users\\BHSU\\AppData\\Local\\Programs\\Python\\Python39\\lib\\site-packages\\openfl\\component\\collaborator\\collaborator.py\" target=\"_blank\"><span style=\"color: #7f7f7f; text-decoration-color: #7f7f7f\">collaborator.py</span></a><span style=\"color: #7f7f7f; text-decoration-color: #7f7f7f\">:</span><a href=\"file://C:\\Users\\BHSU\\AppData\\Local\\Programs\\Python\\Python39\\lib\\site-packages\\openfl\\component\\collaborator\\collaborator.py#415\" target=\"_blank\"><span style=\"color: #7f7f7f; text-decoration-color: #7f7f7f\">415</span></a>\n",
       "</pre>\n"
      ],
      "text/plain": [
       "\u001b[2;36m          \u001b[0m\u001b[2;36m \u001b[0mMETRIC   Round \u001b[1;36m1\u001b[0m, collaborator two is sending metric for task aggregated_model_validation: accuracy      \u001b[1;36m0.891444\u001b[0m                 \u001b]8;id=68505;file://C:\\Users\\BHSU\\AppData\\Local\\Programs\\Python\\Python39\\lib\\site-packages\\openfl\\component\\collaborator\\collaborator.py\u001b\\\u001b[2mcollaborator.py\u001b[0m\u001b]8;;\u001b\\\u001b[2m:\u001b[0m\u001b]8;id=409887;file://C:\\Users\\BHSU\\AppData\\Local\\Programs\\Python\\Python39\\lib\\site-packages\\openfl\\component\\collaborator\\collaborator.py#415\u001b\\\u001b[2m415\u001b[0m\u001b]8;;\u001b\\\n"
      ]
     },
     "metadata": {},
     "output_type": "display_data"
    },
    {
     "data": {
      "text/html": [
       "<pre style=\"white-space:pre;overflow-x:auto;line-height:normal;font-family:Menlo,'DejaVu Sans Mono',consolas,'Courier New',monospace\"><span style=\"color: #7fbfbf; text-decoration-color: #7fbfbf\">           </span><span style=\"color: #000080; text-decoration-color: #000080\">INFO    </span> Collaborator two is sending task results for aggregated_model_validation, round <span style=\"color: #008080; text-decoration-color: #008080; font-weight: bold\">1</span>                                          <a href=\"file://C:\\Users\\BHSU\\AppData\\Local\\Programs\\Python\\Python39\\lib\\site-packages\\openfl\\component\\aggregator\\aggregator.py\" target=\"_blank\"><span style=\"color: #7f7f7f; text-decoration-color: #7f7f7f\">aggregator.py</span></a><span style=\"color: #7f7f7f; text-decoration-color: #7f7f7f\">:</span><a href=\"file://C:\\Users\\BHSU\\AppData\\Local\\Programs\\Python\\Python39\\lib\\site-packages\\openfl\\component\\aggregator\\aggregator.py#520\" target=\"_blank\"><span style=\"color: #7f7f7f; text-decoration-color: #7f7f7f\">520</span></a>\n",
       "</pre>\n"
      ],
      "text/plain": [
       "\u001b[2;36m          \u001b[0m\u001b[2;36m \u001b[0m\u001b[34mINFO    \u001b[0m Collaborator two is sending task results for aggregated_model_validation, round \u001b[1;36m1\u001b[0m                                          \u001b]8;id=431105;file://C:\\Users\\BHSU\\AppData\\Local\\Programs\\Python\\Python39\\lib\\site-packages\\openfl\\component\\aggregator\\aggregator.py\u001b\\\u001b[2maggregator.py\u001b[0m\u001b]8;;\u001b\\\u001b[2m:\u001b[0m\u001b]8;id=199230;file://C:\\Users\\BHSU\\AppData\\Local\\Programs\\Python\\Python39\\lib\\site-packages\\openfl\\component\\aggregator\\aggregator.py#520\u001b\\\u001b[2m520\u001b[0m\u001b]8;;\u001b\\\n"
      ]
     },
     "metadata": {},
     "output_type": "display_data"
    },
    {
     "data": {
      "text/html": [
       "<pre style=\"white-space:pre;overflow-x:auto;line-height:normal;font-family:Menlo,'DejaVu Sans Mono',consolas,'Courier New',monospace\"><span style=\"color: #7fbfbf; text-decoration-color: #7fbfbf\">           </span>METRIC   Round <span style=\"color: #008080; text-decoration-color: #008080; font-weight: bold\">1</span>, collaborator validate_agg aggregated_model_validation result accuracy: <span style=\"color: #008080; text-decoration-color: #008080; font-weight: bold\">0.891444</span>                                   <a href=\"file://C:\\Users\\BHSU\\AppData\\Local\\Programs\\Python\\Python39\\lib\\site-packages\\openfl\\component\\aggregator\\aggregator.py\" target=\"_blank\"><span style=\"color: #7f7f7f; text-decoration-color: #7f7f7f\">aggregator.py</span></a><span style=\"color: #7f7f7f; text-decoration-color: #7f7f7f\">:</span><a href=\"file://C:\\Users\\BHSU\\AppData\\Local\\Programs\\Python\\Python39\\lib\\site-packages\\openfl\\component\\aggregator\\aggregator.py#559\" target=\"_blank\"><span style=\"color: #7f7f7f; text-decoration-color: #7f7f7f\">559</span></a>\n",
       "</pre>\n"
      ],
      "text/plain": [
       "\u001b[2;36m          \u001b[0m\u001b[2;36m \u001b[0mMETRIC   Round \u001b[1;36m1\u001b[0m, collaborator validate_agg aggregated_model_validation result accuracy: \u001b[1;36m0.891444\u001b[0m                                   \u001b]8;id=993581;file://C:\\Users\\BHSU\\AppData\\Local\\Programs\\Python\\Python39\\lib\\site-packages\\openfl\\component\\aggregator\\aggregator.py\u001b\\\u001b[2maggregator.py\u001b[0m\u001b]8;;\u001b\\\u001b[2m:\u001b[0m\u001b]8;id=651366;file://C:\\Users\\BHSU\\AppData\\Local\\Programs\\Python\\Python39\\lib\\site-packages\\openfl\\component\\aggregator\\aggregator.py#559\u001b\\\u001b[2m559\u001b[0m\u001b]8;;\u001b\\\n"
      ]
     },
     "metadata": {},
     "output_type": "display_data"
    },
    {
     "data": {
      "text/html": [
       "<pre style=\"white-space:pre;overflow-x:auto;line-height:normal;font-family:Menlo,'DejaVu Sans Mono',consolas,'Courier New',monospace\"><span style=\"color: #7fbfbf; text-decoration-color: #7fbfbf\">           </span><span style=\"color: #000080; text-decoration-color: #000080\">INFO    </span> Using TaskRunner subclassing API                                                                                         <a href=\"file://C:\\Users\\BHSU\\AppData\\Local\\Programs\\Python\\Python39\\lib\\site-packages\\openfl\\component\\collaborator\\collaborator.py\" target=\"_blank\"><span style=\"color: #7f7f7f; text-decoration-color: #7f7f7f\">collaborator.py</span></a><span style=\"color: #7f7f7f; text-decoration-color: #7f7f7f\">:</span><a href=\"file://C:\\Users\\BHSU\\AppData\\Local\\Programs\\Python\\Python39\\lib\\site-packages\\openfl\\component\\collaborator\\collaborator.py#253\" target=\"_blank\"><span style=\"color: #7f7f7f; text-decoration-color: #7f7f7f\">253</span></a>\n",
       "</pre>\n"
      ],
      "text/plain": [
       "\u001b[2;36m          \u001b[0m\u001b[2;36m \u001b[0m\u001b[34mINFO    \u001b[0m Using TaskRunner subclassing API                                                                                         \u001b]8;id=524058;file://C:\\Users\\BHSU\\AppData\\Local\\Programs\\Python\\Python39\\lib\\site-packages\\openfl\\component\\collaborator\\collaborator.py\u001b\\\u001b[2mcollaborator.py\u001b[0m\u001b]8;;\u001b\\\u001b[2m:\u001b[0m\u001b]8;id=517784;file://C:\\Users\\BHSU\\AppData\\Local\\Programs\\Python\\Python39\\lib\\site-packages\\openfl\\component\\collaborator\\collaborator.py#253\u001b\\\u001b[2m253\u001b[0m\u001b]8;;\u001b\\\n"
      ]
     },
     "metadata": {},
     "output_type": "display_data"
    },
    {
     "data": {
      "text/html": [
       "<pre style=\"white-space:pre;overflow-x:auto;line-height:normal;font-family:Menlo,'DejaVu Sans Mono',consolas,'Courier New',monospace\"><span style=\"color: #7fbfbf; text-decoration-color: #7fbfbf\">           </span><span style=\"color: #000080; text-decoration-color: #000080\">INFO    </span> Run <span style=\"color: #008080; text-decoration-color: #008080; font-weight: bold\">0</span> epoch of <span style=\"color: #008080; text-decoration-color: #008080; font-weight: bold\">1</span> round                                                                                                    <a href=\"file://C:\\Users\\BHSU\\AppData\\Local\\Programs\\Python\\Python39\\lib\\site-packages\\openfl\\federated\\task\\runner_keras.py\" target=\"_blank\"><span style=\"color: #7f7f7f; text-decoration-color: #7f7f7f\">runner_keras.py</span></a><span style=\"color: #7f7f7f; text-decoration-color: #7f7f7f\">:</span><a href=\"file://C:\\Users\\BHSU\\AppData\\Local\\Programs\\Python\\Python39\\lib\\site-packages\\openfl\\federated\\task\\runner_keras.py#83\" target=\"_blank\"><span style=\"color: #7f7f7f; text-decoration-color: #7f7f7f\">83</span></a>\n",
       "</pre>\n"
      ],
      "text/plain": [
       "\u001b[2;36m          \u001b[0m\u001b[2;36m \u001b[0m\u001b[34mINFO    \u001b[0m Run \u001b[1;36m0\u001b[0m epoch of \u001b[1;36m1\u001b[0m round                                                                                                    \u001b]8;id=246966;file://C:\\Users\\BHSU\\AppData\\Local\\Programs\\Python\\Python39\\lib\\site-packages\\openfl\\federated\\task\\runner_keras.py\u001b\\\u001b[2mrunner_keras.py\u001b[0m\u001b]8;;\u001b\\\u001b[2m:\u001b[0m\u001b]8;id=543760;file://C:\\Users\\BHSU\\AppData\\Local\\Programs\\Python\\Python39\\lib\\site-packages\\openfl\\federated\\task\\runner_keras.py#83\u001b\\\u001b[2m83\u001b[0m\u001b]8;;\u001b\\\n"
      ]
     },
     "metadata": {},
     "output_type": "display_data"
    },
    {
     "name": "stdout",
     "output_type": "stream",
     "text": [
      "657/657 [==============================] - 0s 648us/step - loss: 0.2817 - accuracy: 0.9140\n"
     ]
    },
    {
     "data": {
      "text/html": [
       "<pre style=\"white-space:pre;overflow-x:auto;line-height:normal;font-family:Menlo,'DejaVu Sans Mono',consolas,'Courier New',monospace\"><span style=\"color: #7fbfbf; text-decoration-color: #7fbfbf\">           </span>METRIC   Round <span style=\"color: #008080; text-decoration-color: #008080; font-weight: bold\">1</span>, collaborator two is sending metric for task train: loss        <span style=\"color: #008080; text-decoration-color: #008080; font-weight: bold\">0.281715</span>                                         <a href=\"file://C:\\Users\\BHSU\\AppData\\Local\\Programs\\Python\\Python39\\lib\\site-packages\\openfl\\component\\collaborator\\collaborator.py\" target=\"_blank\"><span style=\"color: #7f7f7f; text-decoration-color: #7f7f7f\">collaborator.py</span></a><span style=\"color: #7f7f7f; text-decoration-color: #7f7f7f\">:</span><a href=\"file://C:\\Users\\BHSU\\AppData\\Local\\Programs\\Python\\Python39\\lib\\site-packages\\openfl\\component\\collaborator\\collaborator.py#415\" target=\"_blank\"><span style=\"color: #7f7f7f; text-decoration-color: #7f7f7f\">415</span></a>\n",
       "</pre>\n"
      ],
      "text/plain": [
       "\u001b[2;36m          \u001b[0m\u001b[2;36m \u001b[0mMETRIC   Round \u001b[1;36m1\u001b[0m, collaborator two is sending metric for task train: loss        \u001b[1;36m0.281715\u001b[0m                                         \u001b]8;id=985567;file://C:\\Users\\BHSU\\AppData\\Local\\Programs\\Python\\Python39\\lib\\site-packages\\openfl\\component\\collaborator\\collaborator.py\u001b\\\u001b[2mcollaborator.py\u001b[0m\u001b]8;;\u001b\\\u001b[2m:\u001b[0m\u001b]8;id=410340;file://C:\\Users\\BHSU\\AppData\\Local\\Programs\\Python\\Python39\\lib\\site-packages\\openfl\\component\\collaborator\\collaborator.py#415\u001b\\\u001b[2m415\u001b[0m\u001b]8;;\u001b\\\n"
      ]
     },
     "metadata": {},
     "output_type": "display_data"
    },
    {
     "data": {
      "text/html": [
       "<pre style=\"white-space:pre;overflow-x:auto;line-height:normal;font-family:Menlo,'DejaVu Sans Mono',consolas,'Courier New',monospace\"><span style=\"color: #7fbfbf; text-decoration-color: #7fbfbf\">           </span><span style=\"color: #000080; text-decoration-color: #000080\">INFO    </span> Collaborator two is sending task results for train, round <span style=\"color: #008080; text-decoration-color: #008080; font-weight: bold\">1</span>                                                                <a href=\"file://C:\\Users\\BHSU\\AppData\\Local\\Programs\\Python\\Python39\\lib\\site-packages\\openfl\\component\\aggregator\\aggregator.py\" target=\"_blank\"><span style=\"color: #7f7f7f; text-decoration-color: #7f7f7f\">aggregator.py</span></a><span style=\"color: #7f7f7f; text-decoration-color: #7f7f7f\">:</span><a href=\"file://C:\\Users\\BHSU\\AppData\\Local\\Programs\\Python\\Python39\\lib\\site-packages\\openfl\\component\\aggregator\\aggregator.py#520\" target=\"_blank\"><span style=\"color: #7f7f7f; text-decoration-color: #7f7f7f\">520</span></a>\n",
       "</pre>\n"
      ],
      "text/plain": [
       "\u001b[2;36m          \u001b[0m\u001b[2;36m \u001b[0m\u001b[34mINFO    \u001b[0m Collaborator two is sending task results for train, round \u001b[1;36m1\u001b[0m                                                                \u001b]8;id=405790;file://C:\\Users\\BHSU\\AppData\\Local\\Programs\\Python\\Python39\\lib\\site-packages\\openfl\\component\\aggregator\\aggregator.py\u001b\\\u001b[2maggregator.py\u001b[0m\u001b]8;;\u001b\\\u001b[2m:\u001b[0m\u001b]8;id=743482;file://C:\\Users\\BHSU\\AppData\\Local\\Programs\\Python\\Python39\\lib\\site-packages\\openfl\\component\\aggregator\\aggregator.py#520\u001b\\\u001b[2m520\u001b[0m\u001b]8;;\u001b\\\n"
      ]
     },
     "metadata": {},
     "output_type": "display_data"
    },
    {
     "data": {
      "text/html": [
       "<pre style=\"white-space:pre;overflow-x:auto;line-height:normal;font-family:Menlo,'DejaVu Sans Mono',consolas,'Courier New',monospace\"><span style=\"color: #7fbfbf; text-decoration-color: #7fbfbf\">           </span>METRIC   Round <span style=\"color: #008080; text-decoration-color: #008080; font-weight: bold\">1</span>, collaborator two train result loss:    <span style=\"color: #008080; text-decoration-color: #008080; font-weight: bold\">0.281715</span>                                                                   <a href=\"file://C:\\Users\\BHSU\\AppData\\Local\\Programs\\Python\\Python39\\lib\\site-packages\\openfl\\component\\aggregator\\aggregator.py\" target=\"_blank\"><span style=\"color: #7f7f7f; text-decoration-color: #7f7f7f\">aggregator.py</span></a><span style=\"color: #7f7f7f; text-decoration-color: #7f7f7f\">:</span><a href=\"file://C:\\Users\\BHSU\\AppData\\Local\\Programs\\Python\\Python39\\lib\\site-packages\\openfl\\component\\aggregator\\aggregator.py#559\" target=\"_blank\"><span style=\"color: #7f7f7f; text-decoration-color: #7f7f7f\">559</span></a>\n",
       "</pre>\n"
      ],
      "text/plain": [
       "\u001b[2;36m          \u001b[0m\u001b[2;36m \u001b[0mMETRIC   Round \u001b[1;36m1\u001b[0m, collaborator two train result loss:    \u001b[1;36m0.281715\u001b[0m                                                                   \u001b]8;id=732200;file://C:\\Users\\BHSU\\AppData\\Local\\Programs\\Python\\Python39\\lib\\site-packages\\openfl\\component\\aggregator\\aggregator.py\u001b\\\u001b[2maggregator.py\u001b[0m\u001b]8;;\u001b\\\u001b[2m:\u001b[0m\u001b]8;id=656416;file://C:\\Users\\BHSU\\AppData\\Local\\Programs\\Python\\Python39\\lib\\site-packages\\openfl\\component\\aggregator\\aggregator.py#559\u001b\\\u001b[2m559\u001b[0m\u001b]8;;\u001b\\\n"
      ]
     },
     "metadata": {},
     "output_type": "display_data"
    },
    {
     "data": {
      "text/html": [
       "<pre style=\"white-space:pre;overflow-x:auto;line-height:normal;font-family:Menlo,'DejaVu Sans Mono',consolas,'Courier New',monospace\"><span style=\"color: #7fbfbf; text-decoration-color: #7fbfbf\">           </span><span style=\"color: #000080; text-decoration-color: #000080\">INFO    </span> Using TaskRunner subclassing API                                                                                         <a href=\"file://C:\\Users\\BHSU\\AppData\\Local\\Programs\\Python\\Python39\\lib\\site-packages\\openfl\\component\\collaborator\\collaborator.py\" target=\"_blank\"><span style=\"color: #7f7f7f; text-decoration-color: #7f7f7f\">collaborator.py</span></a><span style=\"color: #7f7f7f; text-decoration-color: #7f7f7f\">:</span><a href=\"file://C:\\Users\\BHSU\\AppData\\Local\\Programs\\Python\\Python39\\lib\\site-packages\\openfl\\component\\collaborator\\collaborator.py#253\" target=\"_blank\"><span style=\"color: #7f7f7f; text-decoration-color: #7f7f7f\">253</span></a>\n",
       "</pre>\n"
      ],
      "text/plain": [
       "\u001b[2;36m          \u001b[0m\u001b[2;36m \u001b[0m\u001b[34mINFO    \u001b[0m Using TaskRunner subclassing API                                                                                         \u001b]8;id=330580;file://C:\\Users\\BHSU\\AppData\\Local\\Programs\\Python\\Python39\\lib\\site-packages\\openfl\\component\\collaborator\\collaborator.py\u001b\\\u001b[2mcollaborator.py\u001b[0m\u001b]8;;\u001b\\\u001b[2m:\u001b[0m\u001b]8;id=156141;file://C:\\Users\\BHSU\\AppData\\Local\\Programs\\Python\\Python39\\lib\\site-packages\\openfl\\component\\collaborator\\collaborator.py#253\u001b\\\u001b[2m253\u001b[0m\u001b]8;;\u001b\\\n"
      ]
     },
     "metadata": {},
     "output_type": "display_data"
    },
    {
     "name": "stdout",
     "output_type": "stream",
     "text": [
      "282/282 [==============================] - 0s 534us/step - loss: 0.2715 - accuracy: 0.9193\n"
     ]
    },
    {
     "data": {
      "text/html": [
       "<pre style=\"white-space:pre;overflow-x:auto;line-height:normal;font-family:Menlo,'DejaVu Sans Mono',consolas,'Courier New',monospace\"><span style=\"color: #7fbfbf; text-decoration-color: #7fbfbf\">           </span>METRIC   Round <span style=\"color: #008080; text-decoration-color: #008080; font-weight: bold\">1</span>, collaborator two is sending metric for task locally_tuned_model_validation: accuracy   <span style=\"color: #008080; text-decoration-color: #008080; font-weight: bold\">0.919333</span>                 <a href=\"file://C:\\Users\\BHSU\\AppData\\Local\\Programs\\Python\\Python39\\lib\\site-packages\\openfl\\component\\collaborator\\collaborator.py\" target=\"_blank\"><span style=\"color: #7f7f7f; text-decoration-color: #7f7f7f\">collaborator.py</span></a><span style=\"color: #7f7f7f; text-decoration-color: #7f7f7f\">:</span><a href=\"file://C:\\Users\\BHSU\\AppData\\Local\\Programs\\Python\\Python39\\lib\\site-packages\\openfl\\component\\collaborator\\collaborator.py#415\" target=\"_blank\"><span style=\"color: #7f7f7f; text-decoration-color: #7f7f7f\">415</span></a>\n",
       "</pre>\n"
      ],
      "text/plain": [
       "\u001b[2;36m          \u001b[0m\u001b[2;36m \u001b[0mMETRIC   Round \u001b[1;36m1\u001b[0m, collaborator two is sending metric for task locally_tuned_model_validation: accuracy   \u001b[1;36m0.919333\u001b[0m                 \u001b]8;id=619039;file://C:\\Users\\BHSU\\AppData\\Local\\Programs\\Python\\Python39\\lib\\site-packages\\openfl\\component\\collaborator\\collaborator.py\u001b\\\u001b[2mcollaborator.py\u001b[0m\u001b]8;;\u001b\\\u001b[2m:\u001b[0m\u001b]8;id=983232;file://C:\\Users\\BHSU\\AppData\\Local\\Programs\\Python\\Python39\\lib\\site-packages\\openfl\\component\\collaborator\\collaborator.py#415\u001b\\\u001b[2m415\u001b[0m\u001b]8;;\u001b\\\n"
      ]
     },
     "metadata": {},
     "output_type": "display_data"
    },
    {
     "data": {
      "text/html": [
       "<pre style=\"white-space:pre;overflow-x:auto;line-height:normal;font-family:Menlo,'DejaVu Sans Mono',consolas,'Courier New',monospace\"><span style=\"color: #7fbfbf; text-decoration-color: #7fbfbf\">           </span><span style=\"color: #000080; text-decoration-color: #000080\">INFO    </span> Collaborator two is sending task results for locally_tuned_model_validation, round <span style=\"color: #008080; text-decoration-color: #008080; font-weight: bold\">1</span>                                       <a href=\"file://C:\\Users\\BHSU\\AppData\\Local\\Programs\\Python\\Python39\\lib\\site-packages\\openfl\\component\\aggregator\\aggregator.py\" target=\"_blank\"><span style=\"color: #7f7f7f; text-decoration-color: #7f7f7f\">aggregator.py</span></a><span style=\"color: #7f7f7f; text-decoration-color: #7f7f7f\">:</span><a href=\"file://C:\\Users\\BHSU\\AppData\\Local\\Programs\\Python\\Python39\\lib\\site-packages\\openfl\\component\\aggregator\\aggregator.py#520\" target=\"_blank\"><span style=\"color: #7f7f7f; text-decoration-color: #7f7f7f\">520</span></a>\n",
       "</pre>\n"
      ],
      "text/plain": [
       "\u001b[2;36m          \u001b[0m\u001b[2;36m \u001b[0m\u001b[34mINFO    \u001b[0m Collaborator two is sending task results for locally_tuned_model_validation, round \u001b[1;36m1\u001b[0m                                       \u001b]8;id=789579;file://C:\\Users\\BHSU\\AppData\\Local\\Programs\\Python\\Python39\\lib\\site-packages\\openfl\\component\\aggregator\\aggregator.py\u001b\\\u001b[2maggregator.py\u001b[0m\u001b]8;;\u001b\\\u001b[2m:\u001b[0m\u001b]8;id=716918;file://C:\\Users\\BHSU\\AppData\\Local\\Programs\\Python\\Python39\\lib\\site-packages\\openfl\\component\\aggregator\\aggregator.py#520\u001b\\\u001b[2m520\u001b[0m\u001b]8;;\u001b\\\n"
      ]
     },
     "metadata": {},
     "output_type": "display_data"
    },
    {
     "data": {
      "text/html": [
       "<pre style=\"white-space:pre;overflow-x:auto;line-height:normal;font-family:Menlo,'DejaVu Sans Mono',consolas,'Courier New',monospace\"><span style=\"color: #7fbfbf; text-decoration-color: #7fbfbf\">           </span>METRIC   Round <span style=\"color: #008080; text-decoration-color: #008080; font-weight: bold\">1</span>, collaborator validate_local locally_tuned_model_validation result accuracy:    <span style=\"color: #008080; text-decoration-color: #008080; font-weight: bold\">0.919333</span>                           <a href=\"file://C:\\Users\\BHSU\\AppData\\Local\\Programs\\Python\\Python39\\lib\\site-packages\\openfl\\component\\aggregator\\aggregator.py\" target=\"_blank\"><span style=\"color: #7f7f7f; text-decoration-color: #7f7f7f\">aggregator.py</span></a><span style=\"color: #7f7f7f; text-decoration-color: #7f7f7f\">:</span><a href=\"file://C:\\Users\\BHSU\\AppData\\Local\\Programs\\Python\\Python39\\lib\\site-packages\\openfl\\component\\aggregator\\aggregator.py#559\" target=\"_blank\"><span style=\"color: #7f7f7f; text-decoration-color: #7f7f7f\">559</span></a>\n",
       "</pre>\n"
      ],
      "text/plain": [
       "\u001b[2;36m          \u001b[0m\u001b[2;36m \u001b[0mMETRIC   Round \u001b[1;36m1\u001b[0m, collaborator validate_local locally_tuned_model_validation result accuracy:    \u001b[1;36m0.919333\u001b[0m                           \u001b]8;id=930779;file://C:\\Users\\BHSU\\AppData\\Local\\Programs\\Python\\Python39\\lib\\site-packages\\openfl\\component\\aggregator\\aggregator.py\u001b\\\u001b[2maggregator.py\u001b[0m\u001b]8;;\u001b\\\u001b[2m:\u001b[0m\u001b]8;id=474781;file://C:\\Users\\BHSU\\AppData\\Local\\Programs\\Python\\Python39\\lib\\site-packages\\openfl\\component\\aggregator\\aggregator.py#559\u001b\\\u001b[2m559\u001b[0m\u001b]8;;\u001b\\\n"
      ]
     },
     "metadata": {},
     "output_type": "display_data"
    },
    {
     "data": {
      "text/html": [
       "<pre style=\"white-space:pre;overflow-x:auto;line-height:normal;font-family:Menlo,'DejaVu Sans Mono',consolas,'Courier New',monospace\"><span style=\"color: #7fbfbf; text-decoration-color: #7fbfbf\">           </span>METRIC   Round <span style=\"color: #008080; text-decoration-color: #008080; font-weight: bold\">1</span>, aggregator: locally_tuned_model_validation                                                                        <a href=\"file://C:\\Users\\BHSU\\AppData\\Local\\Programs\\Python\\Python39\\lib\\site-packages\\openfl\\component\\aggregator\\aggregator.py\" target=\"_blank\"><span style=\"color: #7f7f7f; text-decoration-color: #7f7f7f\">aggregator.py</span></a><span style=\"color: #7f7f7f; text-decoration-color: #7f7f7f\">:</span><a href=\"file://C:\\Users\\BHSU\\AppData\\Local\\Programs\\Python\\Python39\\lib\\site-packages\\openfl\\component\\aggregator\\aggregator.py#842\" target=\"_blank\"><span style=\"color: #7f7f7f; text-decoration-color: #7f7f7f\">842</span></a>\n",
       "<span style=\"color: #7fbfbf; text-decoration-color: #7fbfbf\">           </span>         <span style=\"font-weight: bold\">&lt;</span><span style=\"color: #ff00ff; text-decoration-color: #ff00ff; font-weight: bold\">openfl.interface.aggregation_functions.weighted_average.WeightedAverage</span><span style=\"color: #000000; text-decoration-color: #000000\"> object at </span><span style=\"color: #008080; text-decoration-color: #008080; font-weight: bold\">0x0000020F55654AC0</span><span style=\"font-weight: bold\">&gt;</span> accuracy:           <span style=\"color: #7f7f7f; text-decoration-color: #7f7f7f\">                 </span>\n",
       "<span style=\"color: #7fbfbf; text-decoration-color: #7fbfbf\">           </span>         <span style=\"color: #008080; text-decoration-color: #008080; font-weight: bold\">0.915000</span>                                                                                                                   <span style=\"color: #7f7f7f; text-decoration-color: #7f7f7f\">                 </span>\n",
       "</pre>\n"
      ],
      "text/plain": [
       "\u001b[2;36m          \u001b[0m\u001b[2;36m \u001b[0mMETRIC   Round \u001b[1;36m1\u001b[0m, aggregator: locally_tuned_model_validation                                                                        \u001b]8;id=526102;file://C:\\Users\\BHSU\\AppData\\Local\\Programs\\Python\\Python39\\lib\\site-packages\\openfl\\component\\aggregator\\aggregator.py\u001b\\\u001b[2maggregator.py\u001b[0m\u001b]8;;\u001b\\\u001b[2m:\u001b[0m\u001b]8;id=763791;file://C:\\Users\\BHSU\\AppData\\Local\\Programs\\Python\\Python39\\lib\\site-packages\\openfl\\component\\aggregator\\aggregator.py#842\u001b\\\u001b[2m842\u001b[0m\u001b]8;;\u001b\\\n",
       "\u001b[2;36m           \u001b[0m         \u001b[1m<\u001b[0m\u001b[1;95mopenfl.interface.aggregation_functions.weighted_average.WeightedAverage\u001b[0m\u001b[39m object at \u001b[0m\u001b[1;36m0x0000020F55654AC0\u001b[0m\u001b[1m>\u001b[0m accuracy:           \u001b[2m                 \u001b[0m\n",
       "\u001b[2;36m           \u001b[0m         \u001b[1;36m0.915000\u001b[0m                                                                                                                   \u001b[2m                 \u001b[0m\n"
      ]
     },
     "metadata": {},
     "output_type": "display_data"
    },
    {
     "data": {
      "text/html": [
       "<pre style=\"white-space:pre;overflow-x:auto;line-height:normal;font-family:Menlo,'DejaVu Sans Mono',consolas,'Courier New',monospace\"><span style=\"color: #7fbfbf; text-decoration-color: #7fbfbf\">           </span>METRIC   Round <span style=\"color: #008080; text-decoration-color: #008080; font-weight: bold\">1</span>, aggregator: aggregated_model_validation <span style=\"font-weight: bold\">&lt;</span><span style=\"color: #ff00ff; text-decoration-color: #ff00ff; font-weight: bold\">openfl.interface.aggregation_functions.weighted_average.WeightedAverage</span><span style=\"color: #000000; text-decoration-color: #000000\"> </span> <a href=\"file://C:\\Users\\BHSU\\AppData\\Local\\Programs\\Python\\Python39\\lib\\site-packages\\openfl\\component\\aggregator\\aggregator.py\" target=\"_blank\"><span style=\"color: #7f7f7f; text-decoration-color: #7f7f7f\">aggregator.py</span></a><span style=\"color: #7f7f7f; text-decoration-color: #7f7f7f\">:</span><a href=\"file://C:\\Users\\BHSU\\AppData\\Local\\Programs\\Python\\Python39\\lib\\site-packages\\openfl\\component\\aggregator\\aggregator.py#842\" target=\"_blank\"><span style=\"color: #7f7f7f; text-decoration-color: #7f7f7f\">842</span></a>\n",
       "<span style=\"color: #7fbfbf; text-decoration-color: #7fbfbf\">           </span>         <span style=\"color: #000000; text-decoration-color: #000000\">object at </span><span style=\"color: #008080; text-decoration-color: #008080; font-weight: bold\">0x0000020F55654AC0</span><span style=\"font-weight: bold\">&gt;</span> accuracy:       <span style=\"color: #008080; text-decoration-color: #008080; font-weight: bold\">0.893167</span>                                                                     <span style=\"color: #7f7f7f; text-decoration-color: #7f7f7f\">                 </span>\n",
       "</pre>\n"
      ],
      "text/plain": [
       "\u001b[2;36m          \u001b[0m\u001b[2;36m \u001b[0mMETRIC   Round \u001b[1;36m1\u001b[0m, aggregator: aggregated_model_validation \u001b[1m<\u001b[0m\u001b[1;95mopenfl.interface.aggregation_functions.weighted_average.WeightedAverage\u001b[0m\u001b[39m \u001b[0m \u001b]8;id=320529;file://C:\\Users\\BHSU\\AppData\\Local\\Programs\\Python\\Python39\\lib\\site-packages\\openfl\\component\\aggregator\\aggregator.py\u001b\\\u001b[2maggregator.py\u001b[0m\u001b]8;;\u001b\\\u001b[2m:\u001b[0m\u001b]8;id=145986;file://C:\\Users\\BHSU\\AppData\\Local\\Programs\\Python\\Python39\\lib\\site-packages\\openfl\\component\\aggregator\\aggregator.py#842\u001b\\\u001b[2m842\u001b[0m\u001b]8;;\u001b\\\n",
       "\u001b[2;36m           \u001b[0m         \u001b[39mobject at \u001b[0m\u001b[1;36m0x0000020F55654AC0\u001b[0m\u001b[1m>\u001b[0m accuracy:       \u001b[1;36m0.893167\u001b[0m                                                                     \u001b[2m                 \u001b[0m\n"
      ]
     },
     "metadata": {},
     "output_type": "display_data"
    },
    {
     "data": {
      "text/html": [
       "<pre style=\"white-space:pre;overflow-x:auto;line-height:normal;font-family:Menlo,'DejaVu Sans Mono',consolas,'Courier New',monospace\"><span style=\"color: #7fbfbf; text-decoration-color: #7fbfbf\">           </span>METRIC   Round <span style=\"color: #008080; text-decoration-color: #008080; font-weight: bold\">1</span>: saved the best model with score <span style=\"color: #008080; text-decoration-color: #008080; font-weight: bold\">0.893167</span>                                                                          <a href=\"file://C:\\Users\\BHSU\\AppData\\Local\\Programs\\Python\\Python39\\lib\\site-packages\\openfl\\component\\aggregator\\aggregator.py\" target=\"_blank\"><span style=\"color: #7f7f7f; text-decoration-color: #7f7f7f\">aggregator.py</span></a><span style=\"color: #7f7f7f; text-decoration-color: #7f7f7f\">:</span><a href=\"file://C:\\Users\\BHSU\\AppData\\Local\\Programs\\Python\\Python39\\lib\\site-packages\\openfl\\component\\aggregator\\aggregator.py#858\" target=\"_blank\"><span style=\"color: #7f7f7f; text-decoration-color: #7f7f7f\">858</span></a>\n",
       "</pre>\n"
      ],
      "text/plain": [
       "\u001b[2;36m          \u001b[0m\u001b[2;36m \u001b[0mMETRIC   Round \u001b[1;36m1\u001b[0m: saved the best model with score \u001b[1;36m0.893167\u001b[0m                                                                          \u001b]8;id=362780;file://C:\\Users\\BHSU\\AppData\\Local\\Programs\\Python\\Python39\\lib\\site-packages\\openfl\\component\\aggregator\\aggregator.py\u001b\\\u001b[2maggregator.py\u001b[0m\u001b]8;;\u001b\\\u001b[2m:\u001b[0m\u001b]8;id=511818;file://C:\\Users\\BHSU\\AppData\\Local\\Programs\\Python\\Python39\\lib\\site-packages\\openfl\\component\\aggregator\\aggregator.py#858\u001b\\\u001b[2m858\u001b[0m\u001b]8;;\u001b\\\n"
      ]
     },
     "metadata": {},
     "output_type": "display_data"
    },
    {
     "data": {
      "text/html": [
       "<pre style=\"white-space:pre;overflow-x:auto;line-height:normal;font-family:Menlo,'DejaVu Sans Mono',consolas,'Courier New',monospace\"><span style=\"color: #7fbfbf; text-decoration-color: #7fbfbf\">           </span>METRIC   Round <span style=\"color: #008080; text-decoration-color: #008080; font-weight: bold\">1</span>, aggregator: train <span style=\"font-weight: bold\">&lt;</span><span style=\"color: #ff00ff; text-decoration-color: #ff00ff; font-weight: bold\">openfl.interface.aggregation_functions.weighted_average.WeightedAverage</span><span style=\"color: #000000; text-decoration-color: #000000\"> object at </span>             <a href=\"file://C:\\Users\\BHSU\\AppData\\Local\\Programs\\Python\\Python39\\lib\\site-packages\\openfl\\component\\aggregator\\aggregator.py\" target=\"_blank\"><span style=\"color: #7f7f7f; text-decoration-color: #7f7f7f\">aggregator.py</span></a><span style=\"color: #7f7f7f; text-decoration-color: #7f7f7f\">:</span><a href=\"file://C:\\Users\\BHSU\\AppData\\Local\\Programs\\Python\\Python39\\lib\\site-packages\\openfl\\component\\aggregator\\aggregator.py#842\" target=\"_blank\"><span style=\"color: #7f7f7f; text-decoration-color: #7f7f7f\">842</span></a>\n",
       "<span style=\"color: #7fbfbf; text-decoration-color: #7fbfbf\">           </span>         <span style=\"color: #008080; text-decoration-color: #008080; font-weight: bold\">0x0000020F55654AC0</span><span style=\"font-weight: bold\">&gt;</span> loss: <span style=\"color: #008080; text-decoration-color: #008080; font-weight: bold\">0.288790</span>                                                                                         <span style=\"color: #7f7f7f; text-decoration-color: #7f7f7f\">                 </span>\n",
       "</pre>\n"
      ],
      "text/plain": [
       "\u001b[2;36m          \u001b[0m\u001b[2;36m \u001b[0mMETRIC   Round \u001b[1;36m1\u001b[0m, aggregator: train \u001b[1m<\u001b[0m\u001b[1;95mopenfl.interface.aggregation_functions.weighted_average.WeightedAverage\u001b[0m\u001b[39m object at \u001b[0m             \u001b]8;id=770658;file://C:\\Users\\BHSU\\AppData\\Local\\Programs\\Python\\Python39\\lib\\site-packages\\openfl\\component\\aggregator\\aggregator.py\u001b\\\u001b[2maggregator.py\u001b[0m\u001b]8;;\u001b\\\u001b[2m:\u001b[0m\u001b]8;id=225188;file://C:\\Users\\BHSU\\AppData\\Local\\Programs\\Python\\Python39\\lib\\site-packages\\openfl\\component\\aggregator\\aggregator.py#842\u001b\\\u001b[2m842\u001b[0m\u001b]8;;\u001b\\\n",
       "\u001b[2;36m           \u001b[0m         \u001b[1;36m0x0000020F55654AC0\u001b[0m\u001b[1m>\u001b[0m loss: \u001b[1;36m0.288790\u001b[0m                                                                                         \u001b[2m                 \u001b[0m\n"
      ]
     },
     "metadata": {},
     "output_type": "display_data"
    },
    {
     "data": {
      "text/html": [
       "<pre style=\"white-space:pre;overflow-x:auto;line-height:normal;font-family:Menlo,'DejaVu Sans Mono',consolas,'Courier New',monospace\"><span style=\"color: #7fbfbf; text-decoration-color: #7fbfbf\">           </span><span style=\"color: #000080; text-decoration-color: #000080\">INFO    </span> Saving round <span style=\"color: #008080; text-decoration-color: #008080; font-weight: bold\">2</span> model<span style=\"color: #808000; text-decoration-color: #808000\">...</span>                                                                                                    <a href=\"file://C:\\Users\\BHSU\\AppData\\Local\\Programs\\Python\\Python39\\lib\\site-packages\\openfl\\component\\aggregator\\aggregator.py\" target=\"_blank\"><span style=\"color: #7f7f7f; text-decoration-color: #7f7f7f\">aggregator.py</span></a><span style=\"color: #7f7f7f; text-decoration-color: #7f7f7f\">:</span><a href=\"file://C:\\Users\\BHSU\\AppData\\Local\\Programs\\Python\\Python39\\lib\\site-packages\\openfl\\component\\aggregator\\aggregator.py#894\" target=\"_blank\"><span style=\"color: #7f7f7f; text-decoration-color: #7f7f7f\">894</span></a>\n",
       "</pre>\n"
      ],
      "text/plain": [
       "\u001b[2;36m          \u001b[0m\u001b[2;36m \u001b[0m\u001b[34mINFO    \u001b[0m Saving round \u001b[1;36m2\u001b[0m model\u001b[33m...\u001b[0m                                                                                                    \u001b]8;id=929651;file://C:\\Users\\BHSU\\AppData\\Local\\Programs\\Python\\Python39\\lib\\site-packages\\openfl\\component\\aggregator\\aggregator.py\u001b\\\u001b[2maggregator.py\u001b[0m\u001b]8;;\u001b\\\u001b[2m:\u001b[0m\u001b]8;id=537143;file://C:\\Users\\BHSU\\AppData\\Local\\Programs\\Python\\Python39\\lib\\site-packages\\openfl\\component\\aggregator\\aggregator.py#894\u001b\\\u001b[2m894\u001b[0m\u001b]8;;\u001b\\\n"
      ]
     },
     "metadata": {},
     "output_type": "display_data"
    },
    {
     "data": {
      "text/html": [
       "<pre style=\"white-space:pre;overflow-x:auto;line-height:normal;font-family:Menlo,'DejaVu Sans Mono',consolas,'Courier New',monospace\"><span style=\"color: #7fbfbf; text-decoration-color: #7fbfbf\">           </span><span style=\"color: #000080; text-decoration-color: #000080\">INFO    </span> Starting round <span style=\"color: #008080; text-decoration-color: #008080; font-weight: bold\">2</span><span style=\"color: #808000; text-decoration-color: #808000\">...</span>                                                                                                        <a href=\"file://C:\\Users\\BHSU\\AppData\\Local\\Programs\\Python\\Python39\\lib\\site-packages\\openfl\\component\\aggregator\\aggregator.py\" target=\"_blank\"><span style=\"color: #7f7f7f; text-decoration-color: #7f7f7f\">aggregator.py</span></a><span style=\"color: #7f7f7f; text-decoration-color: #7f7f7f\">:</span><a href=\"file://C:\\Users\\BHSU\\AppData\\Local\\Programs\\Python\\Python39\\lib\\site-packages\\openfl\\component\\aggregator\\aggregator.py#901\" target=\"_blank\"><span style=\"color: #7f7f7f; text-decoration-color: #7f7f7f\">901</span></a>\n",
       "</pre>\n"
      ],
      "text/plain": [
       "\u001b[2;36m          \u001b[0m\u001b[2;36m \u001b[0m\u001b[34mINFO    \u001b[0m Starting round \u001b[1;36m2\u001b[0m\u001b[33m...\u001b[0m                                                                                                        \u001b]8;id=507528;file://C:\\Users\\BHSU\\AppData\\Local\\Programs\\Python\\Python39\\lib\\site-packages\\openfl\\component\\aggregator\\aggregator.py\u001b\\\u001b[2maggregator.py\u001b[0m\u001b]8;;\u001b\\\u001b[2m:\u001b[0m\u001b]8;id=762784;file://C:\\Users\\BHSU\\AppData\\Local\\Programs\\Python\\Python39\\lib\\site-packages\\openfl\\component\\aggregator\\aggregator.py#901\u001b\\\u001b[2m901\u001b[0m\u001b]8;;\u001b\\\n"
      ]
     },
     "metadata": {},
     "output_type": "display_data"
    },
    {
     "data": {
      "text/html": [
       "<pre style=\"white-space:pre;overflow-x:auto;line-height:normal;font-family:Menlo,'DejaVu Sans Mono',consolas,'Courier New',monospace\"><span style=\"color: #7fbfbf; text-decoration-color: #7fbfbf\">           </span><span style=\"color: #000080; text-decoration-color: #000080\">INFO    </span> All tasks completed on two for round <span style=\"color: #008080; text-decoration-color: #008080; font-weight: bold\">1</span><span style=\"color: #808000; text-decoration-color: #808000\">...</span>                                                                                <a href=\"file://C:\\Users\\BHSU\\AppData\\Local\\Programs\\Python\\Python39\\lib\\site-packages\\openfl\\component\\collaborator\\collaborator.py\" target=\"_blank\"><span style=\"color: #7f7f7f; text-decoration-color: #7f7f7f\">collaborator.py</span></a><span style=\"color: #7f7f7f; text-decoration-color: #7f7f7f\">:</span><a href=\"file://C:\\Users\\BHSU\\AppData\\Local\\Programs\\Python\\Python39\\lib\\site-packages\\openfl\\component\\collaborator\\collaborator.py#171\" target=\"_blank\"><span style=\"color: #7f7f7f; text-decoration-color: #7f7f7f\">171</span></a>\n",
       "</pre>\n"
      ],
      "text/plain": [
       "\u001b[2;36m          \u001b[0m\u001b[2;36m \u001b[0m\u001b[34mINFO    \u001b[0m All tasks completed on two for round \u001b[1;36m1\u001b[0m\u001b[33m...\u001b[0m                                                                                \u001b]8;id=130873;file://C:\\Users\\BHSU\\AppData\\Local\\Programs\\Python\\Python39\\lib\\site-packages\\openfl\\component\\collaborator\\collaborator.py\u001b\\\u001b[2mcollaborator.py\u001b[0m\u001b]8;;\u001b\\\u001b[2m:\u001b[0m\u001b]8;id=369086;file://C:\\Users\\BHSU\\AppData\\Local\\Programs\\Python\\Python39\\lib\\site-packages\\openfl\\component\\collaborator\\collaborator.py#171\u001b\\\u001b[2m171\u001b[0m\u001b]8;;\u001b\\\n"
      ]
     },
     "metadata": {},
     "output_type": "display_data"
    },
    {
     "data": {
      "text/html": [
       "<pre style=\"white-space:pre;overflow-x:auto;line-height:normal;font-family:Menlo,'DejaVu Sans Mono',consolas,'Courier New',monospace\"><span style=\"color: #7fbfbf; text-decoration-color: #7fbfbf\">           </span><span style=\"color: #000080; text-decoration-color: #000080\">INFO    </span> Waiting for tasks<span style=\"color: #808000; text-decoration-color: #808000\">...</span>                                                                                                     <a href=\"file://C:\\Users\\BHSU\\AppData\\Local\\Programs\\Python\\Python39\\lib\\site-packages\\openfl\\component\\collaborator\\collaborator.py\" target=\"_blank\"><span style=\"color: #7f7f7f; text-decoration-color: #7f7f7f\">collaborator.py</span></a><span style=\"color: #7f7f7f; text-decoration-color: #7f7f7f\">:</span><a href=\"file://C:\\Users\\BHSU\\AppData\\Local\\Programs\\Python\\Python39\\lib\\site-packages\\openfl\\component\\collaborator\\collaborator.py#178\" target=\"_blank\"><span style=\"color: #7f7f7f; text-decoration-color: #7f7f7f\">178</span></a>\n",
       "</pre>\n"
      ],
      "text/plain": [
       "\u001b[2;36m          \u001b[0m\u001b[2;36m \u001b[0m\u001b[34mINFO    \u001b[0m Waiting for tasks\u001b[33m...\u001b[0m                                                                                                     \u001b]8;id=489338;file://C:\\Users\\BHSU\\AppData\\Local\\Programs\\Python\\Python39\\lib\\site-packages\\openfl\\component\\collaborator\\collaborator.py\u001b\\\u001b[2mcollaborator.py\u001b[0m\u001b]8;;\u001b\\\u001b[2m:\u001b[0m\u001b]8;id=765123;file://C:\\Users\\BHSU\\AppData\\Local\\Programs\\Python\\Python39\\lib\\site-packages\\openfl\\component\\collaborator\\collaborator.py#178\u001b\\\u001b[2m178\u001b[0m\u001b]8;;\u001b\\\n"
      ]
     },
     "metadata": {},
     "output_type": "display_data"
    },
    {
     "data": {
      "text/html": [
       "<pre style=\"white-space:pre;overflow-x:auto;line-height:normal;font-family:Menlo,'DejaVu Sans Mono',consolas,'Courier New',monospace\"><span style=\"color: #7fbfbf; text-decoration-color: #7fbfbf\">           </span><span style=\"color: #000080; text-decoration-color: #000080\">INFO    </span> Sending tasks to collaborator one for round <span style=\"color: #008080; text-decoration-color: #008080; font-weight: bold\">2</span>                                                                              <a href=\"file://C:\\Users\\BHSU\\AppData\\Local\\Programs\\Python\\Python39\\lib\\site-packages\\openfl\\component\\aggregator\\aggregator.py\" target=\"_blank\"><span style=\"color: #7f7f7f; text-decoration-color: #7f7f7f\">aggregator.py</span></a><span style=\"color: #7f7f7f; text-decoration-color: #7f7f7f\">:</span><a href=\"file://C:\\Users\\BHSU\\AppData\\Local\\Programs\\Python\\Python39\\lib\\site-packages\\openfl\\component\\aggregator\\aggregator.py#329\" target=\"_blank\"><span style=\"color: #7f7f7f; text-decoration-color: #7f7f7f\">329</span></a>\n",
       "</pre>\n"
      ],
      "text/plain": [
       "\u001b[2;36m          \u001b[0m\u001b[2;36m \u001b[0m\u001b[34mINFO    \u001b[0m Sending tasks to collaborator one for round \u001b[1;36m2\u001b[0m                                                                              \u001b]8;id=200048;file://C:\\Users\\BHSU\\AppData\\Local\\Programs\\Python\\Python39\\lib\\site-packages\\openfl\\component\\aggregator\\aggregator.py\u001b\\\u001b[2maggregator.py\u001b[0m\u001b]8;;\u001b\\\u001b[2m:\u001b[0m\u001b]8;id=178321;file://C:\\Users\\BHSU\\AppData\\Local\\Programs\\Python\\Python39\\lib\\site-packages\\openfl\\component\\aggregator\\aggregator.py#329\u001b\\\u001b[2m329\u001b[0m\u001b]8;;\u001b\\\n"
      ]
     },
     "metadata": {},
     "output_type": "display_data"
    },
    {
     "data": {
      "text/html": [
       "<pre style=\"white-space:pre;overflow-x:auto;line-height:normal;font-family:Menlo,'DejaVu Sans Mono',consolas,'Courier New',monospace\"><span style=\"color: #7fbfbf; text-decoration-color: #7fbfbf\">           </span><span style=\"color: #000080; text-decoration-color: #000080\">INFO    </span> Received the following tasks: <span style=\"font-weight: bold\">[</span><span style=\"color: #008000; text-decoration-color: #008000\">'aggregated_model_validation'</span>, <span style=\"color: #008000; text-decoration-color: #008000\">'train'</span>, <span style=\"color: #008000; text-decoration-color: #008000\">'locally_tuned_model_validation'</span><span style=\"font-weight: bold\">]</span>                 <a href=\"file://C:\\Users\\BHSU\\AppData\\Local\\Programs\\Python\\Python39\\lib\\site-packages\\openfl\\component\\collaborator\\collaborator.py\" target=\"_blank\"><span style=\"color: #7f7f7f; text-decoration-color: #7f7f7f\">collaborator.py</span></a><span style=\"color: #7f7f7f; text-decoration-color: #7f7f7f\">:</span><a href=\"file://C:\\Users\\BHSU\\AppData\\Local\\Programs\\Python\\Python39\\lib\\site-packages\\openfl\\component\\collaborator\\collaborator.py#168\" target=\"_blank\"><span style=\"color: #7f7f7f; text-decoration-color: #7f7f7f\">168</span></a>\n",
       "</pre>\n"
      ],
      "text/plain": [
       "\u001b[2;36m          \u001b[0m\u001b[2;36m \u001b[0m\u001b[34mINFO    \u001b[0m Received the following tasks: \u001b[1m[\u001b[0m\u001b[32m'aggregated_model_validation'\u001b[0m, \u001b[32m'train'\u001b[0m, \u001b[32m'locally_tuned_model_validation'\u001b[0m\u001b[1m]\u001b[0m                 \u001b]8;id=431434;file://C:\\Users\\BHSU\\AppData\\Local\\Programs\\Python\\Python39\\lib\\site-packages\\openfl\\component\\collaborator\\collaborator.py\u001b\\\u001b[2mcollaborator.py\u001b[0m\u001b]8;;\u001b\\\u001b[2m:\u001b[0m\u001b]8;id=446531;file://C:\\Users\\BHSU\\AppData\\Local\\Programs\\Python\\Python39\\lib\\site-packages\\openfl\\component\\collaborator\\collaborator.py#168\u001b\\\u001b[2m168\u001b[0m\u001b]8;;\u001b\\\n"
      ]
     },
     "metadata": {},
     "output_type": "display_data"
    },
    {
     "data": {
      "text/html": [
       "<pre style=\"white-space:pre;overflow-x:auto;line-height:normal;font-family:Menlo,'DejaVu Sans Mono',consolas,'Courier New',monospace\"><span style=\"color: #7fbfbf; text-decoration-color: #7fbfbf\">           </span><span style=\"color: #000080; text-decoration-color: #000080\">INFO    </span> Using TaskRunner subclassing API                                                                                         <a href=\"file://C:\\Users\\BHSU\\AppData\\Local\\Programs\\Python\\Python39\\lib\\site-packages\\openfl\\component\\collaborator\\collaborator.py\" target=\"_blank\"><span style=\"color: #7f7f7f; text-decoration-color: #7f7f7f\">collaborator.py</span></a><span style=\"color: #7f7f7f; text-decoration-color: #7f7f7f\">:</span><a href=\"file://C:\\Users\\BHSU\\AppData\\Local\\Programs\\Python\\Python39\\lib\\site-packages\\openfl\\component\\collaborator\\collaborator.py#253\" target=\"_blank\"><span style=\"color: #7f7f7f; text-decoration-color: #7f7f7f\">253</span></a>\n",
       "</pre>\n"
      ],
      "text/plain": [
       "\u001b[2;36m          \u001b[0m\u001b[2;36m \u001b[0m\u001b[34mINFO    \u001b[0m Using TaskRunner subclassing API                                                                                         \u001b]8;id=682568;file://C:\\Users\\BHSU\\AppData\\Local\\Programs\\Python\\Python39\\lib\\site-packages\\openfl\\component\\collaborator\\collaborator.py\u001b\\\u001b[2mcollaborator.py\u001b[0m\u001b]8;;\u001b\\\u001b[2m:\u001b[0m\u001b]8;id=172093;file://C:\\Users\\BHSU\\AppData\\Local\\Programs\\Python\\Python39\\lib\\site-packages\\openfl\\component\\collaborator\\collaborator.py#253\u001b\\\u001b[2m253\u001b[0m\u001b]8;;\u001b\\\n"
      ]
     },
     "metadata": {},
     "output_type": "display_data"
    },
    {
     "name": "stdout",
     "output_type": "stream",
     "text": [
      "282/282 [==============================] - 0s 557us/step - loss: 0.2191 - accuracy: 0.9337\n"
     ]
    },
    {
     "data": {
      "text/html": [
       "<pre style=\"white-space:pre;overflow-x:auto;line-height:normal;font-family:Menlo,'DejaVu Sans Mono',consolas,'Courier New',monospace\"><span style=\"color: #7fbfbf; text-decoration-color: #7fbfbf\">[09:22:49] </span>METRIC   Round <span style=\"color: #008080; text-decoration-color: #008080; font-weight: bold\">2</span>, collaborator one is sending metric for task aggregated_model_validation: accuracy      <span style=\"color: #008080; text-decoration-color: #008080; font-weight: bold\">0.933667</span>                 <a href=\"file://C:\\Users\\BHSU\\AppData\\Local\\Programs\\Python\\Python39\\lib\\site-packages\\openfl\\component\\collaborator\\collaborator.py\" target=\"_blank\"><span style=\"color: #7f7f7f; text-decoration-color: #7f7f7f\">collaborator.py</span></a><span style=\"color: #7f7f7f; text-decoration-color: #7f7f7f\">:</span><a href=\"file://C:\\Users\\BHSU\\AppData\\Local\\Programs\\Python\\Python39\\lib\\site-packages\\openfl\\component\\collaborator\\collaborator.py#415\" target=\"_blank\"><span style=\"color: #7f7f7f; text-decoration-color: #7f7f7f\">415</span></a>\n",
       "</pre>\n"
      ],
      "text/plain": [
       "\u001b[2;36m[09:22:49]\u001b[0m\u001b[2;36m \u001b[0mMETRIC   Round \u001b[1;36m2\u001b[0m, collaborator one is sending metric for task aggregated_model_validation: accuracy      \u001b[1;36m0.933667\u001b[0m                 \u001b]8;id=261893;file://C:\\Users\\BHSU\\AppData\\Local\\Programs\\Python\\Python39\\lib\\site-packages\\openfl\\component\\collaborator\\collaborator.py\u001b\\\u001b[2mcollaborator.py\u001b[0m\u001b]8;;\u001b\\\u001b[2m:\u001b[0m\u001b]8;id=121760;file://C:\\Users\\BHSU\\AppData\\Local\\Programs\\Python\\Python39\\lib\\site-packages\\openfl\\component\\collaborator\\collaborator.py#415\u001b\\\u001b[2m415\u001b[0m\u001b]8;;\u001b\\\n"
      ]
     },
     "metadata": {},
     "output_type": "display_data"
    },
    {
     "data": {
      "text/html": [
       "<pre style=\"white-space:pre;overflow-x:auto;line-height:normal;font-family:Menlo,'DejaVu Sans Mono',consolas,'Courier New',monospace\"><span style=\"color: #7fbfbf; text-decoration-color: #7fbfbf\">           </span><span style=\"color: #000080; text-decoration-color: #000080\">INFO    </span> Collaborator one is sending task results for aggregated_model_validation, round <span style=\"color: #008080; text-decoration-color: #008080; font-weight: bold\">2</span>                                          <a href=\"file://C:\\Users\\BHSU\\AppData\\Local\\Programs\\Python\\Python39\\lib\\site-packages\\openfl\\component\\aggregator\\aggregator.py\" target=\"_blank\"><span style=\"color: #7f7f7f; text-decoration-color: #7f7f7f\">aggregator.py</span></a><span style=\"color: #7f7f7f; text-decoration-color: #7f7f7f\">:</span><a href=\"file://C:\\Users\\BHSU\\AppData\\Local\\Programs\\Python\\Python39\\lib\\site-packages\\openfl\\component\\aggregator\\aggregator.py#520\" target=\"_blank\"><span style=\"color: #7f7f7f; text-decoration-color: #7f7f7f\">520</span></a>\n",
       "</pre>\n"
      ],
      "text/plain": [
       "\u001b[2;36m          \u001b[0m\u001b[2;36m \u001b[0m\u001b[34mINFO    \u001b[0m Collaborator one is sending task results for aggregated_model_validation, round \u001b[1;36m2\u001b[0m                                          \u001b]8;id=363754;file://C:\\Users\\BHSU\\AppData\\Local\\Programs\\Python\\Python39\\lib\\site-packages\\openfl\\component\\aggregator\\aggregator.py\u001b\\\u001b[2maggregator.py\u001b[0m\u001b]8;;\u001b\\\u001b[2m:\u001b[0m\u001b]8;id=243902;file://C:\\Users\\BHSU\\AppData\\Local\\Programs\\Python\\Python39\\lib\\site-packages\\openfl\\component\\aggregator\\aggregator.py#520\u001b\\\u001b[2m520\u001b[0m\u001b]8;;\u001b\\\n"
      ]
     },
     "metadata": {},
     "output_type": "display_data"
    },
    {
     "data": {
      "text/html": [
       "<pre style=\"white-space:pre;overflow-x:auto;line-height:normal;font-family:Menlo,'DejaVu Sans Mono',consolas,'Courier New',monospace\"><span style=\"color: #7fbfbf; text-decoration-color: #7fbfbf\">           </span>METRIC   Round <span style=\"color: #008080; text-decoration-color: #008080; font-weight: bold\">2</span>, collaborator validate_agg aggregated_model_validation result accuracy: <span style=\"color: #008080; text-decoration-color: #008080; font-weight: bold\">0.933667</span>                                   <a href=\"file://C:\\Users\\BHSU\\AppData\\Local\\Programs\\Python\\Python39\\lib\\site-packages\\openfl\\component\\aggregator\\aggregator.py\" target=\"_blank\"><span style=\"color: #7f7f7f; text-decoration-color: #7f7f7f\">aggregator.py</span></a><span style=\"color: #7f7f7f; text-decoration-color: #7f7f7f\">:</span><a href=\"file://C:\\Users\\BHSU\\AppData\\Local\\Programs\\Python\\Python39\\lib\\site-packages\\openfl\\component\\aggregator\\aggregator.py#559\" target=\"_blank\"><span style=\"color: #7f7f7f; text-decoration-color: #7f7f7f\">559</span></a>\n",
       "</pre>\n"
      ],
      "text/plain": [
       "\u001b[2;36m          \u001b[0m\u001b[2;36m \u001b[0mMETRIC   Round \u001b[1;36m2\u001b[0m, collaborator validate_agg aggregated_model_validation result accuracy: \u001b[1;36m0.933667\u001b[0m                                   \u001b]8;id=506107;file://C:\\Users\\BHSU\\AppData\\Local\\Programs\\Python\\Python39\\lib\\site-packages\\openfl\\component\\aggregator\\aggregator.py\u001b\\\u001b[2maggregator.py\u001b[0m\u001b]8;;\u001b\\\u001b[2m:\u001b[0m\u001b]8;id=82145;file://C:\\Users\\BHSU\\AppData\\Local\\Programs\\Python\\Python39\\lib\\site-packages\\openfl\\component\\aggregator\\aggregator.py#559\u001b\\\u001b[2m559\u001b[0m\u001b]8;;\u001b\\\n"
      ]
     },
     "metadata": {},
     "output_type": "display_data"
    },
    {
     "data": {
      "text/html": [
       "<pre style=\"white-space:pre;overflow-x:auto;line-height:normal;font-family:Menlo,'DejaVu Sans Mono',consolas,'Courier New',monospace\"><span style=\"color: #7fbfbf; text-decoration-color: #7fbfbf\">           </span><span style=\"color: #000080; text-decoration-color: #000080\">INFO    </span> Using TaskRunner subclassing API                                                                                         <a href=\"file://C:\\Users\\BHSU\\AppData\\Local\\Programs\\Python\\Python39\\lib\\site-packages\\openfl\\component\\collaborator\\collaborator.py\" target=\"_blank\"><span style=\"color: #7f7f7f; text-decoration-color: #7f7f7f\">collaborator.py</span></a><span style=\"color: #7f7f7f; text-decoration-color: #7f7f7f\">:</span><a href=\"file://C:\\Users\\BHSU\\AppData\\Local\\Programs\\Python\\Python39\\lib\\site-packages\\openfl\\component\\collaborator\\collaborator.py#253\" target=\"_blank\"><span style=\"color: #7f7f7f; text-decoration-color: #7f7f7f\">253</span></a>\n",
       "</pre>\n"
      ],
      "text/plain": [
       "\u001b[2;36m          \u001b[0m\u001b[2;36m \u001b[0m\u001b[34mINFO    \u001b[0m Using TaskRunner subclassing API                                                                                         \u001b]8;id=342147;file://C:\\Users\\BHSU\\AppData\\Local\\Programs\\Python\\Python39\\lib\\site-packages\\openfl\\component\\collaborator\\collaborator.py\u001b\\\u001b[2mcollaborator.py\u001b[0m\u001b]8;;\u001b\\\u001b[2m:\u001b[0m\u001b]8;id=253647;file://C:\\Users\\BHSU\\AppData\\Local\\Programs\\Python\\Python39\\lib\\site-packages\\openfl\\component\\collaborator\\collaborator.py#253\u001b\\\u001b[2m253\u001b[0m\u001b]8;;\u001b\\\n"
      ]
     },
     "metadata": {},
     "output_type": "display_data"
    },
    {
     "data": {
      "text/html": [
       "<pre style=\"white-space:pre;overflow-x:auto;line-height:normal;font-family:Menlo,'DejaVu Sans Mono',consolas,'Courier New',monospace\"><span style=\"color: #7fbfbf; text-decoration-color: #7fbfbf\">           </span><span style=\"color: #000080; text-decoration-color: #000080\">INFO    </span> Run <span style=\"color: #008080; text-decoration-color: #008080; font-weight: bold\">0</span> epoch of <span style=\"color: #008080; text-decoration-color: #008080; font-weight: bold\">2</span> round                                                                                                    <a href=\"file://C:\\Users\\BHSU\\AppData\\Local\\Programs\\Python\\Python39\\lib\\site-packages\\openfl\\federated\\task\\runner_keras.py\" target=\"_blank\"><span style=\"color: #7f7f7f; text-decoration-color: #7f7f7f\">runner_keras.py</span></a><span style=\"color: #7f7f7f; text-decoration-color: #7f7f7f\">:</span><a href=\"file://C:\\Users\\BHSU\\AppData\\Local\\Programs\\Python\\Python39\\lib\\site-packages\\openfl\\federated\\task\\runner_keras.py#83\" target=\"_blank\"><span style=\"color: #7f7f7f; text-decoration-color: #7f7f7f\">83</span></a>\n",
       "</pre>\n"
      ],
      "text/plain": [
       "\u001b[2;36m          \u001b[0m\u001b[2;36m \u001b[0m\u001b[34mINFO    \u001b[0m Run \u001b[1;36m0\u001b[0m epoch of \u001b[1;36m2\u001b[0m round                                                                                                    \u001b]8;id=349455;file://C:\\Users\\BHSU\\AppData\\Local\\Programs\\Python\\Python39\\lib\\site-packages\\openfl\\federated\\task\\runner_keras.py\u001b\\\u001b[2mrunner_keras.py\u001b[0m\u001b]8;;\u001b\\\u001b[2m:\u001b[0m\u001b]8;id=205978;file://C:\\Users\\BHSU\\AppData\\Local\\Programs\\Python\\Python39\\lib\\site-packages\\openfl\\federated\\task\\runner_keras.py#83\u001b\\\u001b[2m83\u001b[0m\u001b]8;;\u001b\\\n"
      ]
     },
     "metadata": {},
     "output_type": "display_data"
    },
    {
     "name": "stdout",
     "output_type": "stream",
     "text": [
      "657/657 [==============================] - 0s 681us/step - loss: 0.2238 - accuracy: 0.9310\n"
     ]
    },
    {
     "data": {
      "text/html": [
       "<pre style=\"white-space:pre;overflow-x:auto;line-height:normal;font-family:Menlo,'DejaVu Sans Mono',consolas,'Courier New',monospace\"><span style=\"color: #7fbfbf; text-decoration-color: #7fbfbf\">           </span>METRIC   Round <span style=\"color: #008080; text-decoration-color: #008080; font-weight: bold\">2</span>, collaborator one is sending metric for task train: loss        <span style=\"color: #008080; text-decoration-color: #008080; font-weight: bold\">0.223777</span>                                         <a href=\"file://C:\\Users\\BHSU\\AppData\\Local\\Programs\\Python\\Python39\\lib\\site-packages\\openfl\\component\\collaborator\\collaborator.py\" target=\"_blank\"><span style=\"color: #7f7f7f; text-decoration-color: #7f7f7f\">collaborator.py</span></a><span style=\"color: #7f7f7f; text-decoration-color: #7f7f7f\">:</span><a href=\"file://C:\\Users\\BHSU\\AppData\\Local\\Programs\\Python\\Python39\\lib\\site-packages\\openfl\\component\\collaborator\\collaborator.py#415\" target=\"_blank\"><span style=\"color: #7f7f7f; text-decoration-color: #7f7f7f\">415</span></a>\n",
       "</pre>\n"
      ],
      "text/plain": [
       "\u001b[2;36m          \u001b[0m\u001b[2;36m \u001b[0mMETRIC   Round \u001b[1;36m2\u001b[0m, collaborator one is sending metric for task train: loss        \u001b[1;36m0.223777\u001b[0m                                         \u001b]8;id=231346;file://C:\\Users\\BHSU\\AppData\\Local\\Programs\\Python\\Python39\\lib\\site-packages\\openfl\\component\\collaborator\\collaborator.py\u001b\\\u001b[2mcollaborator.py\u001b[0m\u001b]8;;\u001b\\\u001b[2m:\u001b[0m\u001b]8;id=421248;file://C:\\Users\\BHSU\\AppData\\Local\\Programs\\Python\\Python39\\lib\\site-packages\\openfl\\component\\collaborator\\collaborator.py#415\u001b\\\u001b[2m415\u001b[0m\u001b]8;;\u001b\\\n"
      ]
     },
     "metadata": {},
     "output_type": "display_data"
    },
    {
     "data": {
      "text/html": [
       "<pre style=\"white-space:pre;overflow-x:auto;line-height:normal;font-family:Menlo,'DejaVu Sans Mono',consolas,'Courier New',monospace\"><span style=\"color: #7fbfbf; text-decoration-color: #7fbfbf\">           </span><span style=\"color: #000080; text-decoration-color: #000080\">INFO    </span> Collaborator one is sending task results for train, round <span style=\"color: #008080; text-decoration-color: #008080; font-weight: bold\">2</span>                                                                <a href=\"file://C:\\Users\\BHSU\\AppData\\Local\\Programs\\Python\\Python39\\lib\\site-packages\\openfl\\component\\aggregator\\aggregator.py\" target=\"_blank\"><span style=\"color: #7f7f7f; text-decoration-color: #7f7f7f\">aggregator.py</span></a><span style=\"color: #7f7f7f; text-decoration-color: #7f7f7f\">:</span><a href=\"file://C:\\Users\\BHSU\\AppData\\Local\\Programs\\Python\\Python39\\lib\\site-packages\\openfl\\component\\aggregator\\aggregator.py#520\" target=\"_blank\"><span style=\"color: #7f7f7f; text-decoration-color: #7f7f7f\">520</span></a>\n",
       "</pre>\n"
      ],
      "text/plain": [
       "\u001b[2;36m          \u001b[0m\u001b[2;36m \u001b[0m\u001b[34mINFO    \u001b[0m Collaborator one is sending task results for train, round \u001b[1;36m2\u001b[0m                                                                \u001b]8;id=235381;file://C:\\Users\\BHSU\\AppData\\Local\\Programs\\Python\\Python39\\lib\\site-packages\\openfl\\component\\aggregator\\aggregator.py\u001b\\\u001b[2maggregator.py\u001b[0m\u001b]8;;\u001b\\\u001b[2m:\u001b[0m\u001b]8;id=877385;file://C:\\Users\\BHSU\\AppData\\Local\\Programs\\Python\\Python39\\lib\\site-packages\\openfl\\component\\aggregator\\aggregator.py#520\u001b\\\u001b[2m520\u001b[0m\u001b]8;;\u001b\\\n"
      ]
     },
     "metadata": {},
     "output_type": "display_data"
    },
    {
     "data": {
      "text/html": [
       "<pre style=\"white-space:pre;overflow-x:auto;line-height:normal;font-family:Menlo,'DejaVu Sans Mono',consolas,'Courier New',monospace\"><span style=\"color: #7fbfbf; text-decoration-color: #7fbfbf\">           </span>METRIC   Round <span style=\"color: #008080; text-decoration-color: #008080; font-weight: bold\">2</span>, collaborator one train result loss:    <span style=\"color: #008080; text-decoration-color: #008080; font-weight: bold\">0.223777</span>                                                                   <a href=\"file://C:\\Users\\BHSU\\AppData\\Local\\Programs\\Python\\Python39\\lib\\site-packages\\openfl\\component\\aggregator\\aggregator.py\" target=\"_blank\"><span style=\"color: #7f7f7f; text-decoration-color: #7f7f7f\">aggregator.py</span></a><span style=\"color: #7f7f7f; text-decoration-color: #7f7f7f\">:</span><a href=\"file://C:\\Users\\BHSU\\AppData\\Local\\Programs\\Python\\Python39\\lib\\site-packages\\openfl\\component\\aggregator\\aggregator.py#559\" target=\"_blank\"><span style=\"color: #7f7f7f; text-decoration-color: #7f7f7f\">559</span></a>\n",
       "</pre>\n"
      ],
      "text/plain": [
       "\u001b[2;36m          \u001b[0m\u001b[2;36m \u001b[0mMETRIC   Round \u001b[1;36m2\u001b[0m, collaborator one train result loss:    \u001b[1;36m0.223777\u001b[0m                                                                   \u001b]8;id=151436;file://C:\\Users\\BHSU\\AppData\\Local\\Programs\\Python\\Python39\\lib\\site-packages\\openfl\\component\\aggregator\\aggregator.py\u001b\\\u001b[2maggregator.py\u001b[0m\u001b]8;;\u001b\\\u001b[2m:\u001b[0m\u001b]8;id=924706;file://C:\\Users\\BHSU\\AppData\\Local\\Programs\\Python\\Python39\\lib\\site-packages\\openfl\\component\\aggregator\\aggregator.py#559\u001b\\\u001b[2m559\u001b[0m\u001b]8;;\u001b\\\n"
      ]
     },
     "metadata": {},
     "output_type": "display_data"
    },
    {
     "data": {
      "text/html": [
       "<pre style=\"white-space:pre;overflow-x:auto;line-height:normal;font-family:Menlo,'DejaVu Sans Mono',consolas,'Courier New',monospace\"><span style=\"color: #7fbfbf; text-decoration-color: #7fbfbf\">           </span><span style=\"color: #000080; text-decoration-color: #000080\">INFO    </span> Using TaskRunner subclassing API                                                                                         <a href=\"file://C:\\Users\\BHSU\\AppData\\Local\\Programs\\Python\\Python39\\lib\\site-packages\\openfl\\component\\collaborator\\collaborator.py\" target=\"_blank\"><span style=\"color: #7f7f7f; text-decoration-color: #7f7f7f\">collaborator.py</span></a><span style=\"color: #7f7f7f; text-decoration-color: #7f7f7f\">:</span><a href=\"file://C:\\Users\\BHSU\\AppData\\Local\\Programs\\Python\\Python39\\lib\\site-packages\\openfl\\component\\collaborator\\collaborator.py#253\" target=\"_blank\"><span style=\"color: #7f7f7f; text-decoration-color: #7f7f7f\">253</span></a>\n",
       "</pre>\n"
      ],
      "text/plain": [
       "\u001b[2;36m          \u001b[0m\u001b[2;36m \u001b[0m\u001b[34mINFO    \u001b[0m Using TaskRunner subclassing API                                                                                         \u001b]8;id=99389;file://C:\\Users\\BHSU\\AppData\\Local\\Programs\\Python\\Python39\\lib\\site-packages\\openfl\\component\\collaborator\\collaborator.py\u001b\\\u001b[2mcollaborator.py\u001b[0m\u001b]8;;\u001b\\\u001b[2m:\u001b[0m\u001b]8;id=402033;file://C:\\Users\\BHSU\\AppData\\Local\\Programs\\Python\\Python39\\lib\\site-packages\\openfl\\component\\collaborator\\collaborator.py#253\u001b\\\u001b[2m253\u001b[0m\u001b]8;;\u001b\\\n"
      ]
     },
     "metadata": {},
     "output_type": "display_data"
    },
    {
     "name": "stdout",
     "output_type": "stream",
     "text": [
      "282/282 [==============================] - 0s 578us/step - loss: 0.1947 - accuracy: 0.9422\n"
     ]
    },
    {
     "data": {
      "text/html": [
       "<pre style=\"white-space:pre;overflow-x:auto;line-height:normal;font-family:Menlo,'DejaVu Sans Mono',consolas,'Courier New',monospace\"><span style=\"color: #7fbfbf; text-decoration-color: #7fbfbf\">           </span>METRIC   Round <span style=\"color: #008080; text-decoration-color: #008080; font-weight: bold\">2</span>, collaborator one is sending metric for task locally_tuned_model_validation: accuracy   <span style=\"color: #008080; text-decoration-color: #008080; font-weight: bold\">0.942222</span>                 <a href=\"file://C:\\Users\\BHSU\\AppData\\Local\\Programs\\Python\\Python39\\lib\\site-packages\\openfl\\component\\collaborator\\collaborator.py\" target=\"_blank\"><span style=\"color: #7f7f7f; text-decoration-color: #7f7f7f\">collaborator.py</span></a><span style=\"color: #7f7f7f; text-decoration-color: #7f7f7f\">:</span><a href=\"file://C:\\Users\\BHSU\\AppData\\Local\\Programs\\Python\\Python39\\lib\\site-packages\\openfl\\component\\collaborator\\collaborator.py#415\" target=\"_blank\"><span style=\"color: #7f7f7f; text-decoration-color: #7f7f7f\">415</span></a>\n",
       "</pre>\n"
      ],
      "text/plain": [
       "\u001b[2;36m          \u001b[0m\u001b[2;36m \u001b[0mMETRIC   Round \u001b[1;36m2\u001b[0m, collaborator one is sending metric for task locally_tuned_model_validation: accuracy   \u001b[1;36m0.942222\u001b[0m                 \u001b]8;id=951456;file://C:\\Users\\BHSU\\AppData\\Local\\Programs\\Python\\Python39\\lib\\site-packages\\openfl\\component\\collaborator\\collaborator.py\u001b\\\u001b[2mcollaborator.py\u001b[0m\u001b]8;;\u001b\\\u001b[2m:\u001b[0m\u001b]8;id=869031;file://C:\\Users\\BHSU\\AppData\\Local\\Programs\\Python\\Python39\\lib\\site-packages\\openfl\\component\\collaborator\\collaborator.py#415\u001b\\\u001b[2m415\u001b[0m\u001b]8;;\u001b\\\n"
      ]
     },
     "metadata": {},
     "output_type": "display_data"
    },
    {
     "data": {
      "text/html": [
       "<pre style=\"white-space:pre;overflow-x:auto;line-height:normal;font-family:Menlo,'DejaVu Sans Mono',consolas,'Courier New',monospace\"><span style=\"color: #7fbfbf; text-decoration-color: #7fbfbf\">           </span><span style=\"color: #000080; text-decoration-color: #000080\">INFO    </span> Collaborator one is sending task results for locally_tuned_model_validation, round <span style=\"color: #008080; text-decoration-color: #008080; font-weight: bold\">2</span>                                       <a href=\"file://C:\\Users\\BHSU\\AppData\\Local\\Programs\\Python\\Python39\\lib\\site-packages\\openfl\\component\\aggregator\\aggregator.py\" target=\"_blank\"><span style=\"color: #7f7f7f; text-decoration-color: #7f7f7f\">aggregator.py</span></a><span style=\"color: #7f7f7f; text-decoration-color: #7f7f7f\">:</span><a href=\"file://C:\\Users\\BHSU\\AppData\\Local\\Programs\\Python\\Python39\\lib\\site-packages\\openfl\\component\\aggregator\\aggregator.py#520\" target=\"_blank\"><span style=\"color: #7f7f7f; text-decoration-color: #7f7f7f\">520</span></a>\n",
       "</pre>\n"
      ],
      "text/plain": [
       "\u001b[2;36m          \u001b[0m\u001b[2;36m \u001b[0m\u001b[34mINFO    \u001b[0m Collaborator one is sending task results for locally_tuned_model_validation, round \u001b[1;36m2\u001b[0m                                       \u001b]8;id=973518;file://C:\\Users\\BHSU\\AppData\\Local\\Programs\\Python\\Python39\\lib\\site-packages\\openfl\\component\\aggregator\\aggregator.py\u001b\\\u001b[2maggregator.py\u001b[0m\u001b]8;;\u001b\\\u001b[2m:\u001b[0m\u001b]8;id=945460;file://C:\\Users\\BHSU\\AppData\\Local\\Programs\\Python\\Python39\\lib\\site-packages\\openfl\\component\\aggregator\\aggregator.py#520\u001b\\\u001b[2m520\u001b[0m\u001b]8;;\u001b\\\n"
      ]
     },
     "metadata": {},
     "output_type": "display_data"
    },
    {
     "data": {
      "text/html": [
       "<pre style=\"white-space:pre;overflow-x:auto;line-height:normal;font-family:Menlo,'DejaVu Sans Mono',consolas,'Courier New',monospace\"><span style=\"color: #7fbfbf; text-decoration-color: #7fbfbf\">           </span>METRIC   Round <span style=\"color: #008080; text-decoration-color: #008080; font-weight: bold\">2</span>, collaborator validate_local locally_tuned_model_validation result accuracy:    <span style=\"color: #008080; text-decoration-color: #008080; font-weight: bold\">0.942222</span>                           <a href=\"file://C:\\Users\\BHSU\\AppData\\Local\\Programs\\Python\\Python39\\lib\\site-packages\\openfl\\component\\aggregator\\aggregator.py\" target=\"_blank\"><span style=\"color: #7f7f7f; text-decoration-color: #7f7f7f\">aggregator.py</span></a><span style=\"color: #7f7f7f; text-decoration-color: #7f7f7f\">:</span><a href=\"file://C:\\Users\\BHSU\\AppData\\Local\\Programs\\Python\\Python39\\lib\\site-packages\\openfl\\component\\aggregator\\aggregator.py#559\" target=\"_blank\"><span style=\"color: #7f7f7f; text-decoration-color: #7f7f7f\">559</span></a>\n",
       "</pre>\n"
      ],
      "text/plain": [
       "\u001b[2;36m          \u001b[0m\u001b[2;36m \u001b[0mMETRIC   Round \u001b[1;36m2\u001b[0m, collaborator validate_local locally_tuned_model_validation result accuracy:    \u001b[1;36m0.942222\u001b[0m                           \u001b]8;id=974023;file://C:\\Users\\BHSU\\AppData\\Local\\Programs\\Python\\Python39\\lib\\site-packages\\openfl\\component\\aggregator\\aggregator.py\u001b\\\u001b[2maggregator.py\u001b[0m\u001b]8;;\u001b\\\u001b[2m:\u001b[0m\u001b]8;id=597841;file://C:\\Users\\BHSU\\AppData\\Local\\Programs\\Python\\Python39\\lib\\site-packages\\openfl\\component\\aggregator\\aggregator.py#559\u001b\\\u001b[2m559\u001b[0m\u001b]8;;\u001b\\\n"
      ]
     },
     "metadata": {},
     "output_type": "display_data"
    },
    {
     "data": {
      "text/html": [
       "<pre style=\"white-space:pre;overflow-x:auto;line-height:normal;font-family:Menlo,'DejaVu Sans Mono',consolas,'Courier New',monospace\"><span style=\"color: #7fbfbf; text-decoration-color: #7fbfbf\">           </span><span style=\"color: #000080; text-decoration-color: #000080\">INFO    </span> All tasks completed on one for round <span style=\"color: #008080; text-decoration-color: #008080; font-weight: bold\">2</span><span style=\"color: #808000; text-decoration-color: #808000\">...</span>                                                                                <a href=\"file://C:\\Users\\BHSU\\AppData\\Local\\Programs\\Python\\Python39\\lib\\site-packages\\openfl\\component\\collaborator\\collaborator.py\" target=\"_blank\"><span style=\"color: #7f7f7f; text-decoration-color: #7f7f7f\">collaborator.py</span></a><span style=\"color: #7f7f7f; text-decoration-color: #7f7f7f\">:</span><a href=\"file://C:\\Users\\BHSU\\AppData\\Local\\Programs\\Python\\Python39\\lib\\site-packages\\openfl\\component\\collaborator\\collaborator.py#171\" target=\"_blank\"><span style=\"color: #7f7f7f; text-decoration-color: #7f7f7f\">171</span></a>\n",
       "</pre>\n"
      ],
      "text/plain": [
       "\u001b[2;36m          \u001b[0m\u001b[2;36m \u001b[0m\u001b[34mINFO    \u001b[0m All tasks completed on one for round \u001b[1;36m2\u001b[0m\u001b[33m...\u001b[0m                                                                                \u001b]8;id=2203;file://C:\\Users\\BHSU\\AppData\\Local\\Programs\\Python\\Python39\\lib\\site-packages\\openfl\\component\\collaborator\\collaborator.py\u001b\\\u001b[2mcollaborator.py\u001b[0m\u001b]8;;\u001b\\\u001b[2m:\u001b[0m\u001b]8;id=603990;file://C:\\Users\\BHSU\\AppData\\Local\\Programs\\Python\\Python39\\lib\\site-packages\\openfl\\component\\collaborator\\collaborator.py#171\u001b\\\u001b[2m171\u001b[0m\u001b]8;;\u001b\\\n"
      ]
     },
     "metadata": {},
     "output_type": "display_data"
    },
    {
     "data": {
      "text/html": [
       "<pre style=\"white-space:pre;overflow-x:auto;line-height:normal;font-family:Menlo,'DejaVu Sans Mono',consolas,'Courier New',monospace\"><span style=\"color: #7fbfbf; text-decoration-color: #7fbfbf\">           </span><span style=\"color: #000080; text-decoration-color: #000080\">INFO    </span> Waiting for tasks<span style=\"color: #808000; text-decoration-color: #808000\">...</span>                                                                                                     <a href=\"file://C:\\Users\\BHSU\\AppData\\Local\\Programs\\Python\\Python39\\lib\\site-packages\\openfl\\component\\collaborator\\collaborator.py\" target=\"_blank\"><span style=\"color: #7f7f7f; text-decoration-color: #7f7f7f\">collaborator.py</span></a><span style=\"color: #7f7f7f; text-decoration-color: #7f7f7f\">:</span><a href=\"file://C:\\Users\\BHSU\\AppData\\Local\\Programs\\Python\\Python39\\lib\\site-packages\\openfl\\component\\collaborator\\collaborator.py#178\" target=\"_blank\"><span style=\"color: #7f7f7f; text-decoration-color: #7f7f7f\">178</span></a>\n",
       "</pre>\n"
      ],
      "text/plain": [
       "\u001b[2;36m          \u001b[0m\u001b[2;36m \u001b[0m\u001b[34mINFO    \u001b[0m Waiting for tasks\u001b[33m...\u001b[0m                                                                                                     \u001b]8;id=519978;file://C:\\Users\\BHSU\\AppData\\Local\\Programs\\Python\\Python39\\lib\\site-packages\\openfl\\component\\collaborator\\collaborator.py\u001b\\\u001b[2mcollaborator.py\u001b[0m\u001b]8;;\u001b\\\u001b[2m:\u001b[0m\u001b]8;id=574031;file://C:\\Users\\BHSU\\AppData\\Local\\Programs\\Python\\Python39\\lib\\site-packages\\openfl\\component\\collaborator\\collaborator.py#178\u001b\\\u001b[2m178\u001b[0m\u001b]8;;\u001b\\\n"
      ]
     },
     "metadata": {},
     "output_type": "display_data"
    },
    {
     "data": {
      "text/html": [
       "<pre style=\"white-space:pre;overflow-x:auto;line-height:normal;font-family:Menlo,'DejaVu Sans Mono',consolas,'Courier New',monospace\"><span style=\"color: #7fbfbf; text-decoration-color: #7fbfbf\">           </span><span style=\"color: #000080; text-decoration-color: #000080\">INFO    </span> Sending tasks to collaborator two for round <span style=\"color: #008080; text-decoration-color: #008080; font-weight: bold\">2</span>                                                                              <a href=\"file://C:\\Users\\BHSU\\AppData\\Local\\Programs\\Python\\Python39\\lib\\site-packages\\openfl\\component\\aggregator\\aggregator.py\" target=\"_blank\"><span style=\"color: #7f7f7f; text-decoration-color: #7f7f7f\">aggregator.py</span></a><span style=\"color: #7f7f7f; text-decoration-color: #7f7f7f\">:</span><a href=\"file://C:\\Users\\BHSU\\AppData\\Local\\Programs\\Python\\Python39\\lib\\site-packages\\openfl\\component\\aggregator\\aggregator.py#329\" target=\"_blank\"><span style=\"color: #7f7f7f; text-decoration-color: #7f7f7f\">329</span></a>\n",
       "</pre>\n"
      ],
      "text/plain": [
       "\u001b[2;36m          \u001b[0m\u001b[2;36m \u001b[0m\u001b[34mINFO    \u001b[0m Sending tasks to collaborator two for round \u001b[1;36m2\u001b[0m                                                                              \u001b]8;id=250957;file://C:\\Users\\BHSU\\AppData\\Local\\Programs\\Python\\Python39\\lib\\site-packages\\openfl\\component\\aggregator\\aggregator.py\u001b\\\u001b[2maggregator.py\u001b[0m\u001b]8;;\u001b\\\u001b[2m:\u001b[0m\u001b]8;id=156045;file://C:\\Users\\BHSU\\AppData\\Local\\Programs\\Python\\Python39\\lib\\site-packages\\openfl\\component\\aggregator\\aggregator.py#329\u001b\\\u001b[2m329\u001b[0m\u001b]8;;\u001b\\\n"
      ]
     },
     "metadata": {},
     "output_type": "display_data"
    },
    {
     "data": {
      "text/html": [
       "<pre style=\"white-space:pre;overflow-x:auto;line-height:normal;font-family:Menlo,'DejaVu Sans Mono',consolas,'Courier New',monospace\"><span style=\"color: #7fbfbf; text-decoration-color: #7fbfbf\">           </span><span style=\"color: #000080; text-decoration-color: #000080\">INFO    </span> Received the following tasks: <span style=\"font-weight: bold\">[</span><span style=\"color: #008000; text-decoration-color: #008000\">'aggregated_model_validation'</span>, <span style=\"color: #008000; text-decoration-color: #008000\">'train'</span>, <span style=\"color: #008000; text-decoration-color: #008000\">'locally_tuned_model_validation'</span><span style=\"font-weight: bold\">]</span>                 <a href=\"file://C:\\Users\\BHSU\\AppData\\Local\\Programs\\Python\\Python39\\lib\\site-packages\\openfl\\component\\collaborator\\collaborator.py\" target=\"_blank\"><span style=\"color: #7f7f7f; text-decoration-color: #7f7f7f\">collaborator.py</span></a><span style=\"color: #7f7f7f; text-decoration-color: #7f7f7f\">:</span><a href=\"file://C:\\Users\\BHSU\\AppData\\Local\\Programs\\Python\\Python39\\lib\\site-packages\\openfl\\component\\collaborator\\collaborator.py#168\" target=\"_blank\"><span style=\"color: #7f7f7f; text-decoration-color: #7f7f7f\">168</span></a>\n",
       "</pre>\n"
      ],
      "text/plain": [
       "\u001b[2;36m          \u001b[0m\u001b[2;36m \u001b[0m\u001b[34mINFO    \u001b[0m Received the following tasks: \u001b[1m[\u001b[0m\u001b[32m'aggregated_model_validation'\u001b[0m, \u001b[32m'train'\u001b[0m, \u001b[32m'locally_tuned_model_validation'\u001b[0m\u001b[1m]\u001b[0m                 \u001b]8;id=896470;file://C:\\Users\\BHSU\\AppData\\Local\\Programs\\Python\\Python39\\lib\\site-packages\\openfl\\component\\collaborator\\collaborator.py\u001b\\\u001b[2mcollaborator.py\u001b[0m\u001b]8;;\u001b\\\u001b[2m:\u001b[0m\u001b]8;id=675297;file://C:\\Users\\BHSU\\AppData\\Local\\Programs\\Python\\Python39\\lib\\site-packages\\openfl\\component\\collaborator\\collaborator.py#168\u001b\\\u001b[2m168\u001b[0m\u001b]8;;\u001b\\\n"
      ]
     },
     "metadata": {},
     "output_type": "display_data"
    },
    {
     "data": {
      "text/html": [
       "<pre style=\"white-space:pre;overflow-x:auto;line-height:normal;font-family:Menlo,'DejaVu Sans Mono',consolas,'Courier New',monospace\"><span style=\"color: #7fbfbf; text-decoration-color: #7fbfbf\">           </span><span style=\"color: #000080; text-decoration-color: #000080\">INFO    </span> Using TaskRunner subclassing API                                                                                         <a href=\"file://C:\\Users\\BHSU\\AppData\\Local\\Programs\\Python\\Python39\\lib\\site-packages\\openfl\\component\\collaborator\\collaborator.py\" target=\"_blank\"><span style=\"color: #7f7f7f; text-decoration-color: #7f7f7f\">collaborator.py</span></a><span style=\"color: #7f7f7f; text-decoration-color: #7f7f7f\">:</span><a href=\"file://C:\\Users\\BHSU\\AppData\\Local\\Programs\\Python\\Python39\\lib\\site-packages\\openfl\\component\\collaborator\\collaborator.py#253\" target=\"_blank\"><span style=\"color: #7f7f7f; text-decoration-color: #7f7f7f\">253</span></a>\n",
       "</pre>\n"
      ],
      "text/plain": [
       "\u001b[2;36m          \u001b[0m\u001b[2;36m \u001b[0m\u001b[34mINFO    \u001b[0m Using TaskRunner subclassing API                                                                                         \u001b]8;id=802143;file://C:\\Users\\BHSU\\AppData\\Local\\Programs\\Python\\Python39\\lib\\site-packages\\openfl\\component\\collaborator\\collaborator.py\u001b\\\u001b[2mcollaborator.py\u001b[0m\u001b]8;;\u001b\\\u001b[2m:\u001b[0m\u001b]8;id=348384;file://C:\\Users\\BHSU\\AppData\\Local\\Programs\\Python\\Python39\\lib\\site-packages\\openfl\\component\\collaborator\\collaborator.py#253\u001b\\\u001b[2m253\u001b[0m\u001b]8;;\u001b\\\n"
      ]
     },
     "metadata": {},
     "output_type": "display_data"
    },
    {
     "name": "stdout",
     "output_type": "stream",
     "text": [
      "282/282 [==============================] - 0s 523us/step - loss: 0.2335 - accuracy: 0.9290\n"
     ]
    },
    {
     "data": {
      "text/html": [
       "<pre style=\"white-space:pre;overflow-x:auto;line-height:normal;font-family:Menlo,'DejaVu Sans Mono',consolas,'Courier New',monospace\"><span style=\"color: #7fbfbf; text-decoration-color: #7fbfbf\">[09:22:50] </span>METRIC   Round <span style=\"color: #008080; text-decoration-color: #008080; font-weight: bold\">2</span>, collaborator two is sending metric for task aggregated_model_validation: accuracy      <span style=\"color: #008080; text-decoration-color: #008080; font-weight: bold\">0.929000</span>                 <a href=\"file://C:\\Users\\BHSU\\AppData\\Local\\Programs\\Python\\Python39\\lib\\site-packages\\openfl\\component\\collaborator\\collaborator.py\" target=\"_blank\"><span style=\"color: #7f7f7f; text-decoration-color: #7f7f7f\">collaborator.py</span></a><span style=\"color: #7f7f7f; text-decoration-color: #7f7f7f\">:</span><a href=\"file://C:\\Users\\BHSU\\AppData\\Local\\Programs\\Python\\Python39\\lib\\site-packages\\openfl\\component\\collaborator\\collaborator.py#415\" target=\"_blank\"><span style=\"color: #7f7f7f; text-decoration-color: #7f7f7f\">415</span></a>\n",
       "</pre>\n"
      ],
      "text/plain": [
       "\u001b[2;36m[09:22:50]\u001b[0m\u001b[2;36m \u001b[0mMETRIC   Round \u001b[1;36m2\u001b[0m, collaborator two is sending metric for task aggregated_model_validation: accuracy      \u001b[1;36m0.929000\u001b[0m                 \u001b]8;id=847481;file://C:\\Users\\BHSU\\AppData\\Local\\Programs\\Python\\Python39\\lib\\site-packages\\openfl\\component\\collaborator\\collaborator.py\u001b\\\u001b[2mcollaborator.py\u001b[0m\u001b]8;;\u001b\\\u001b[2m:\u001b[0m\u001b]8;id=86779;file://C:\\Users\\BHSU\\AppData\\Local\\Programs\\Python\\Python39\\lib\\site-packages\\openfl\\component\\collaborator\\collaborator.py#415\u001b\\\u001b[2m415\u001b[0m\u001b]8;;\u001b\\\n"
      ]
     },
     "metadata": {},
     "output_type": "display_data"
    },
    {
     "data": {
      "text/html": [
       "<pre style=\"white-space:pre;overflow-x:auto;line-height:normal;font-family:Menlo,'DejaVu Sans Mono',consolas,'Courier New',monospace\"><span style=\"color: #7fbfbf; text-decoration-color: #7fbfbf\">           </span><span style=\"color: #000080; text-decoration-color: #000080\">INFO    </span> Collaborator two is sending task results for aggregated_model_validation, round <span style=\"color: #008080; text-decoration-color: #008080; font-weight: bold\">2</span>                                          <a href=\"file://C:\\Users\\BHSU\\AppData\\Local\\Programs\\Python\\Python39\\lib\\site-packages\\openfl\\component\\aggregator\\aggregator.py\" target=\"_blank\"><span style=\"color: #7f7f7f; text-decoration-color: #7f7f7f\">aggregator.py</span></a><span style=\"color: #7f7f7f; text-decoration-color: #7f7f7f\">:</span><a href=\"file://C:\\Users\\BHSU\\AppData\\Local\\Programs\\Python\\Python39\\lib\\site-packages\\openfl\\component\\aggregator\\aggregator.py#520\" target=\"_blank\"><span style=\"color: #7f7f7f; text-decoration-color: #7f7f7f\">520</span></a>\n",
       "</pre>\n"
      ],
      "text/plain": [
       "\u001b[2;36m          \u001b[0m\u001b[2;36m \u001b[0m\u001b[34mINFO    \u001b[0m Collaborator two is sending task results for aggregated_model_validation, round \u001b[1;36m2\u001b[0m                                          \u001b]8;id=896139;file://C:\\Users\\BHSU\\AppData\\Local\\Programs\\Python\\Python39\\lib\\site-packages\\openfl\\component\\aggregator\\aggregator.py\u001b\\\u001b[2maggregator.py\u001b[0m\u001b]8;;\u001b\\\u001b[2m:\u001b[0m\u001b]8;id=837042;file://C:\\Users\\BHSU\\AppData\\Local\\Programs\\Python\\Python39\\lib\\site-packages\\openfl\\component\\aggregator\\aggregator.py#520\u001b\\\u001b[2m520\u001b[0m\u001b]8;;\u001b\\\n"
      ]
     },
     "metadata": {},
     "output_type": "display_data"
    },
    {
     "data": {
      "text/html": [
       "<pre style=\"white-space:pre;overflow-x:auto;line-height:normal;font-family:Menlo,'DejaVu Sans Mono',consolas,'Courier New',monospace\"><span style=\"color: #7fbfbf; text-decoration-color: #7fbfbf\">           </span>METRIC   Round <span style=\"color: #008080; text-decoration-color: #008080; font-weight: bold\">2</span>, collaborator validate_agg aggregated_model_validation result accuracy: <span style=\"color: #008080; text-decoration-color: #008080; font-weight: bold\">0.929000</span>                                   <a href=\"file://C:\\Users\\BHSU\\AppData\\Local\\Programs\\Python\\Python39\\lib\\site-packages\\openfl\\component\\aggregator\\aggregator.py\" target=\"_blank\"><span style=\"color: #7f7f7f; text-decoration-color: #7f7f7f\">aggregator.py</span></a><span style=\"color: #7f7f7f; text-decoration-color: #7f7f7f\">:</span><a href=\"file://C:\\Users\\BHSU\\AppData\\Local\\Programs\\Python\\Python39\\lib\\site-packages\\openfl\\component\\aggregator\\aggregator.py#559\" target=\"_blank\"><span style=\"color: #7f7f7f; text-decoration-color: #7f7f7f\">559</span></a>\n",
       "</pre>\n"
      ],
      "text/plain": [
       "\u001b[2;36m          \u001b[0m\u001b[2;36m \u001b[0mMETRIC   Round \u001b[1;36m2\u001b[0m, collaborator validate_agg aggregated_model_validation result accuracy: \u001b[1;36m0.929000\u001b[0m                                   \u001b]8;id=862076;file://C:\\Users\\BHSU\\AppData\\Local\\Programs\\Python\\Python39\\lib\\site-packages\\openfl\\component\\aggregator\\aggregator.py\u001b\\\u001b[2maggregator.py\u001b[0m\u001b]8;;\u001b\\\u001b[2m:\u001b[0m\u001b]8;id=758257;file://C:\\Users\\BHSU\\AppData\\Local\\Programs\\Python\\Python39\\lib\\site-packages\\openfl\\component\\aggregator\\aggregator.py#559\u001b\\\u001b[2m559\u001b[0m\u001b]8;;\u001b\\\n"
      ]
     },
     "metadata": {},
     "output_type": "display_data"
    },
    {
     "data": {
      "text/html": [
       "<pre style=\"white-space:pre;overflow-x:auto;line-height:normal;font-family:Menlo,'DejaVu Sans Mono',consolas,'Courier New',monospace\"><span style=\"color: #7fbfbf; text-decoration-color: #7fbfbf\">           </span><span style=\"color: #000080; text-decoration-color: #000080\">INFO    </span> Using TaskRunner subclassing API                                                                                         <a href=\"file://C:\\Users\\BHSU\\AppData\\Local\\Programs\\Python\\Python39\\lib\\site-packages\\openfl\\component\\collaborator\\collaborator.py\" target=\"_blank\"><span style=\"color: #7f7f7f; text-decoration-color: #7f7f7f\">collaborator.py</span></a><span style=\"color: #7f7f7f; text-decoration-color: #7f7f7f\">:</span><a href=\"file://C:\\Users\\BHSU\\AppData\\Local\\Programs\\Python\\Python39\\lib\\site-packages\\openfl\\component\\collaborator\\collaborator.py#253\" target=\"_blank\"><span style=\"color: #7f7f7f; text-decoration-color: #7f7f7f\">253</span></a>\n",
       "</pre>\n"
      ],
      "text/plain": [
       "\u001b[2;36m          \u001b[0m\u001b[2;36m \u001b[0m\u001b[34mINFO    \u001b[0m Using TaskRunner subclassing API                                                                                         \u001b]8;id=859519;file://C:\\Users\\BHSU\\AppData\\Local\\Programs\\Python\\Python39\\lib\\site-packages\\openfl\\component\\collaborator\\collaborator.py\u001b\\\u001b[2mcollaborator.py\u001b[0m\u001b]8;;\u001b\\\u001b[2m:\u001b[0m\u001b]8;id=945838;file://C:\\Users\\BHSU\\AppData\\Local\\Programs\\Python\\Python39\\lib\\site-packages\\openfl\\component\\collaborator\\collaborator.py#253\u001b\\\u001b[2m253\u001b[0m\u001b]8;;\u001b\\\n"
      ]
     },
     "metadata": {},
     "output_type": "display_data"
    },
    {
     "data": {
      "text/html": [
       "<pre style=\"white-space:pre;overflow-x:auto;line-height:normal;font-family:Menlo,'DejaVu Sans Mono',consolas,'Courier New',monospace\"><span style=\"color: #7fbfbf; text-decoration-color: #7fbfbf\">           </span><span style=\"color: #000080; text-decoration-color: #000080\">INFO    </span> Run <span style=\"color: #008080; text-decoration-color: #008080; font-weight: bold\">0</span> epoch of <span style=\"color: #008080; text-decoration-color: #008080; font-weight: bold\">2</span> round                                                                                                    <a href=\"file://C:\\Users\\BHSU\\AppData\\Local\\Programs\\Python\\Python39\\lib\\site-packages\\openfl\\federated\\task\\runner_keras.py\" target=\"_blank\"><span style=\"color: #7f7f7f; text-decoration-color: #7f7f7f\">runner_keras.py</span></a><span style=\"color: #7f7f7f; text-decoration-color: #7f7f7f\">:</span><a href=\"file://C:\\Users\\BHSU\\AppData\\Local\\Programs\\Python\\Python39\\lib\\site-packages\\openfl\\federated\\task\\runner_keras.py#83\" target=\"_blank\"><span style=\"color: #7f7f7f; text-decoration-color: #7f7f7f\">83</span></a>\n",
       "</pre>\n"
      ],
      "text/plain": [
       "\u001b[2;36m          \u001b[0m\u001b[2;36m \u001b[0m\u001b[34mINFO    \u001b[0m Run \u001b[1;36m0\u001b[0m epoch of \u001b[1;36m2\u001b[0m round                                                                                                    \u001b]8;id=608477;file://C:\\Users\\BHSU\\AppData\\Local\\Programs\\Python\\Python39\\lib\\site-packages\\openfl\\federated\\task\\runner_keras.py\u001b\\\u001b[2mrunner_keras.py\u001b[0m\u001b]8;;\u001b\\\u001b[2m:\u001b[0m\u001b]8;id=18848;file://C:\\Users\\BHSU\\AppData\\Local\\Programs\\Python\\Python39\\lib\\site-packages\\openfl\\federated\\task\\runner_keras.py#83\u001b\\\u001b[2m83\u001b[0m\u001b]8;;\u001b\\\n"
      ]
     },
     "metadata": {},
     "output_type": "display_data"
    },
    {
     "name": "stdout",
     "output_type": "stream",
     "text": [
      "657/657 [==============================] - 0s 659us/step - loss: 0.2107 - accuracy: 0.9366\n"
     ]
    },
    {
     "data": {
      "text/html": [
       "<pre style=\"white-space:pre;overflow-x:auto;line-height:normal;font-family:Menlo,'DejaVu Sans Mono',consolas,'Courier New',monospace\"><span style=\"color: #7fbfbf; text-decoration-color: #7fbfbf\">           </span>METRIC   Round <span style=\"color: #008080; text-decoration-color: #008080; font-weight: bold\">2</span>, collaborator two is sending metric for task train: loss        <span style=\"color: #008080; text-decoration-color: #008080; font-weight: bold\">0.210742</span>                                         <a href=\"file://C:\\Users\\BHSU\\AppData\\Local\\Programs\\Python\\Python39\\lib\\site-packages\\openfl\\component\\collaborator\\collaborator.py\" target=\"_blank\"><span style=\"color: #7f7f7f; text-decoration-color: #7f7f7f\">collaborator.py</span></a><span style=\"color: #7f7f7f; text-decoration-color: #7f7f7f\">:</span><a href=\"file://C:\\Users\\BHSU\\AppData\\Local\\Programs\\Python\\Python39\\lib\\site-packages\\openfl\\component\\collaborator\\collaborator.py#415\" target=\"_blank\"><span style=\"color: #7f7f7f; text-decoration-color: #7f7f7f\">415</span></a>\n",
       "</pre>\n"
      ],
      "text/plain": [
       "\u001b[2;36m          \u001b[0m\u001b[2;36m \u001b[0mMETRIC   Round \u001b[1;36m2\u001b[0m, collaborator two is sending metric for task train: loss        \u001b[1;36m0.210742\u001b[0m                                         \u001b]8;id=999123;file://C:\\Users\\BHSU\\AppData\\Local\\Programs\\Python\\Python39\\lib\\site-packages\\openfl\\component\\collaborator\\collaborator.py\u001b\\\u001b[2mcollaborator.py\u001b[0m\u001b]8;;\u001b\\\u001b[2m:\u001b[0m\u001b]8;id=225811;file://C:\\Users\\BHSU\\AppData\\Local\\Programs\\Python\\Python39\\lib\\site-packages\\openfl\\component\\collaborator\\collaborator.py#415\u001b\\\u001b[2m415\u001b[0m\u001b]8;;\u001b\\\n"
      ]
     },
     "metadata": {},
     "output_type": "display_data"
    },
    {
     "data": {
      "text/html": [
       "<pre style=\"white-space:pre;overflow-x:auto;line-height:normal;font-family:Menlo,'DejaVu Sans Mono',consolas,'Courier New',monospace\"><span style=\"color: #7fbfbf; text-decoration-color: #7fbfbf\">           </span><span style=\"color: #000080; text-decoration-color: #000080\">INFO    </span> Collaborator two is sending task results for train, round <span style=\"color: #008080; text-decoration-color: #008080; font-weight: bold\">2</span>                                                                <a href=\"file://C:\\Users\\BHSU\\AppData\\Local\\Programs\\Python\\Python39\\lib\\site-packages\\openfl\\component\\aggregator\\aggregator.py\" target=\"_blank\"><span style=\"color: #7f7f7f; text-decoration-color: #7f7f7f\">aggregator.py</span></a><span style=\"color: #7f7f7f; text-decoration-color: #7f7f7f\">:</span><a href=\"file://C:\\Users\\BHSU\\AppData\\Local\\Programs\\Python\\Python39\\lib\\site-packages\\openfl\\component\\aggregator\\aggregator.py#520\" target=\"_blank\"><span style=\"color: #7f7f7f; text-decoration-color: #7f7f7f\">520</span></a>\n",
       "</pre>\n"
      ],
      "text/plain": [
       "\u001b[2;36m          \u001b[0m\u001b[2;36m \u001b[0m\u001b[34mINFO    \u001b[0m Collaborator two is sending task results for train, round \u001b[1;36m2\u001b[0m                                                                \u001b]8;id=722688;file://C:\\Users\\BHSU\\AppData\\Local\\Programs\\Python\\Python39\\lib\\site-packages\\openfl\\component\\aggregator\\aggregator.py\u001b\\\u001b[2maggregator.py\u001b[0m\u001b]8;;\u001b\\\u001b[2m:\u001b[0m\u001b]8;id=7254;file://C:\\Users\\BHSU\\AppData\\Local\\Programs\\Python\\Python39\\lib\\site-packages\\openfl\\component\\aggregator\\aggregator.py#520\u001b\\\u001b[2m520\u001b[0m\u001b]8;;\u001b\\\n"
      ]
     },
     "metadata": {},
     "output_type": "display_data"
    },
    {
     "data": {
      "text/html": [
       "<pre style=\"white-space:pre;overflow-x:auto;line-height:normal;font-family:Menlo,'DejaVu Sans Mono',consolas,'Courier New',monospace\"><span style=\"color: #7fbfbf; text-decoration-color: #7fbfbf\">           </span>METRIC   Round <span style=\"color: #008080; text-decoration-color: #008080; font-weight: bold\">2</span>, collaborator two train result loss:    <span style=\"color: #008080; text-decoration-color: #008080; font-weight: bold\">0.210742</span>                                                                   <a href=\"file://C:\\Users\\BHSU\\AppData\\Local\\Programs\\Python\\Python39\\lib\\site-packages\\openfl\\component\\aggregator\\aggregator.py\" target=\"_blank\"><span style=\"color: #7f7f7f; text-decoration-color: #7f7f7f\">aggregator.py</span></a><span style=\"color: #7f7f7f; text-decoration-color: #7f7f7f\">:</span><a href=\"file://C:\\Users\\BHSU\\AppData\\Local\\Programs\\Python\\Python39\\lib\\site-packages\\openfl\\component\\aggregator\\aggregator.py#559\" target=\"_blank\"><span style=\"color: #7f7f7f; text-decoration-color: #7f7f7f\">559</span></a>\n",
       "</pre>\n"
      ],
      "text/plain": [
       "\u001b[2;36m          \u001b[0m\u001b[2;36m \u001b[0mMETRIC   Round \u001b[1;36m2\u001b[0m, collaborator two train result loss:    \u001b[1;36m0.210742\u001b[0m                                                                   \u001b]8;id=6723;file://C:\\Users\\BHSU\\AppData\\Local\\Programs\\Python\\Python39\\lib\\site-packages\\openfl\\component\\aggregator\\aggregator.py\u001b\\\u001b[2maggregator.py\u001b[0m\u001b]8;;\u001b\\\u001b[2m:\u001b[0m\u001b]8;id=71529;file://C:\\Users\\BHSU\\AppData\\Local\\Programs\\Python\\Python39\\lib\\site-packages\\openfl\\component\\aggregator\\aggregator.py#559\u001b\\\u001b[2m559\u001b[0m\u001b]8;;\u001b\\\n"
      ]
     },
     "metadata": {},
     "output_type": "display_data"
    },
    {
     "data": {
      "text/html": [
       "<pre style=\"white-space:pre;overflow-x:auto;line-height:normal;font-family:Menlo,'DejaVu Sans Mono',consolas,'Courier New',monospace\"><span style=\"color: #7fbfbf; text-decoration-color: #7fbfbf\">           </span><span style=\"color: #000080; text-decoration-color: #000080\">INFO    </span> Using TaskRunner subclassing API                                                                                         <a href=\"file://C:\\Users\\BHSU\\AppData\\Local\\Programs\\Python\\Python39\\lib\\site-packages\\openfl\\component\\collaborator\\collaborator.py\" target=\"_blank\"><span style=\"color: #7f7f7f; text-decoration-color: #7f7f7f\">collaborator.py</span></a><span style=\"color: #7f7f7f; text-decoration-color: #7f7f7f\">:</span><a href=\"file://C:\\Users\\BHSU\\AppData\\Local\\Programs\\Python\\Python39\\lib\\site-packages\\openfl\\component\\collaborator\\collaborator.py#253\" target=\"_blank\"><span style=\"color: #7f7f7f; text-decoration-color: #7f7f7f\">253</span></a>\n",
       "</pre>\n"
      ],
      "text/plain": [
       "\u001b[2;36m          \u001b[0m\u001b[2;36m \u001b[0m\u001b[34mINFO    \u001b[0m Using TaskRunner subclassing API                                                                                         \u001b]8;id=133900;file://C:\\Users\\BHSU\\AppData\\Local\\Programs\\Python\\Python39\\lib\\site-packages\\openfl\\component\\collaborator\\collaborator.py\u001b\\\u001b[2mcollaborator.py\u001b[0m\u001b]8;;\u001b\\\u001b[2m:\u001b[0m\u001b]8;id=489704;file://C:\\Users\\BHSU\\AppData\\Local\\Programs\\Python\\Python39\\lib\\site-packages\\openfl\\component\\collaborator\\collaborator.py#253\u001b\\\u001b[2m253\u001b[0m\u001b]8;;\u001b\\\n"
      ]
     },
     "metadata": {},
     "output_type": "display_data"
    },
    {
     "name": "stdout",
     "output_type": "stream",
     "text": [
      "282/282 [==============================] - 0s 541us/step - loss: 0.2683 - accuracy: 0.9210\n"
     ]
    },
    {
     "data": {
      "text/html": [
       "<pre style=\"white-space:pre;overflow-x:auto;line-height:normal;font-family:Menlo,'DejaVu Sans Mono',consolas,'Courier New',monospace\"><span style=\"color: #7fbfbf; text-decoration-color: #7fbfbf\">           </span>METRIC   Round <span style=\"color: #008080; text-decoration-color: #008080; font-weight: bold\">2</span>, collaborator two is sending metric for task locally_tuned_model_validation: accuracy   <span style=\"color: #008080; text-decoration-color: #008080; font-weight: bold\">0.921000</span>                 <a href=\"file://C:\\Users\\BHSU\\AppData\\Local\\Programs\\Python\\Python39\\lib\\site-packages\\openfl\\component\\collaborator\\collaborator.py\" target=\"_blank\"><span style=\"color: #7f7f7f; text-decoration-color: #7f7f7f\">collaborator.py</span></a><span style=\"color: #7f7f7f; text-decoration-color: #7f7f7f\">:</span><a href=\"file://C:\\Users\\BHSU\\AppData\\Local\\Programs\\Python\\Python39\\lib\\site-packages\\openfl\\component\\collaborator\\collaborator.py#415\" target=\"_blank\"><span style=\"color: #7f7f7f; text-decoration-color: #7f7f7f\">415</span></a>\n",
       "</pre>\n"
      ],
      "text/plain": [
       "\u001b[2;36m          \u001b[0m\u001b[2;36m \u001b[0mMETRIC   Round \u001b[1;36m2\u001b[0m, collaborator two is sending metric for task locally_tuned_model_validation: accuracy   \u001b[1;36m0.921000\u001b[0m                 \u001b]8;id=231;file://C:\\Users\\BHSU\\AppData\\Local\\Programs\\Python\\Python39\\lib\\site-packages\\openfl\\component\\collaborator\\collaborator.py\u001b\\\u001b[2mcollaborator.py\u001b[0m\u001b]8;;\u001b\\\u001b[2m:\u001b[0m\u001b]8;id=372431;file://C:\\Users\\BHSU\\AppData\\Local\\Programs\\Python\\Python39\\lib\\site-packages\\openfl\\component\\collaborator\\collaborator.py#415\u001b\\\u001b[2m415\u001b[0m\u001b]8;;\u001b\\\n"
      ]
     },
     "metadata": {},
     "output_type": "display_data"
    },
    {
     "data": {
      "text/html": [
       "<pre style=\"white-space:pre;overflow-x:auto;line-height:normal;font-family:Menlo,'DejaVu Sans Mono',consolas,'Courier New',monospace\"><span style=\"color: #7fbfbf; text-decoration-color: #7fbfbf\">           </span><span style=\"color: #000080; text-decoration-color: #000080\">INFO    </span> Collaborator two is sending task results for locally_tuned_model_validation, round <span style=\"color: #008080; text-decoration-color: #008080; font-weight: bold\">2</span>                                       <a href=\"file://C:\\Users\\BHSU\\AppData\\Local\\Programs\\Python\\Python39\\lib\\site-packages\\openfl\\component\\aggregator\\aggregator.py\" target=\"_blank\"><span style=\"color: #7f7f7f; text-decoration-color: #7f7f7f\">aggregator.py</span></a><span style=\"color: #7f7f7f; text-decoration-color: #7f7f7f\">:</span><a href=\"file://C:\\Users\\BHSU\\AppData\\Local\\Programs\\Python\\Python39\\lib\\site-packages\\openfl\\component\\aggregator\\aggregator.py#520\" target=\"_blank\"><span style=\"color: #7f7f7f; text-decoration-color: #7f7f7f\">520</span></a>\n",
       "</pre>\n"
      ],
      "text/plain": [
       "\u001b[2;36m          \u001b[0m\u001b[2;36m \u001b[0m\u001b[34mINFO    \u001b[0m Collaborator two is sending task results for locally_tuned_model_validation, round \u001b[1;36m2\u001b[0m                                       \u001b]8;id=194468;file://C:\\Users\\BHSU\\AppData\\Local\\Programs\\Python\\Python39\\lib\\site-packages\\openfl\\component\\aggregator\\aggregator.py\u001b\\\u001b[2maggregator.py\u001b[0m\u001b]8;;\u001b\\\u001b[2m:\u001b[0m\u001b]8;id=418116;file://C:\\Users\\BHSU\\AppData\\Local\\Programs\\Python\\Python39\\lib\\site-packages\\openfl\\component\\aggregator\\aggregator.py#520\u001b\\\u001b[2m520\u001b[0m\u001b]8;;\u001b\\\n"
      ]
     },
     "metadata": {},
     "output_type": "display_data"
    },
    {
     "data": {
      "text/html": [
       "<pre style=\"white-space:pre;overflow-x:auto;line-height:normal;font-family:Menlo,'DejaVu Sans Mono',consolas,'Courier New',monospace\"><span style=\"color: #7fbfbf; text-decoration-color: #7fbfbf\">           </span>METRIC   Round <span style=\"color: #008080; text-decoration-color: #008080; font-weight: bold\">2</span>, collaborator validate_local locally_tuned_model_validation result accuracy:    <span style=\"color: #008080; text-decoration-color: #008080; font-weight: bold\">0.921000</span>                           <a href=\"file://C:\\Users\\BHSU\\AppData\\Local\\Programs\\Python\\Python39\\lib\\site-packages\\openfl\\component\\aggregator\\aggregator.py\" target=\"_blank\"><span style=\"color: #7f7f7f; text-decoration-color: #7f7f7f\">aggregator.py</span></a><span style=\"color: #7f7f7f; text-decoration-color: #7f7f7f\">:</span><a href=\"file://C:\\Users\\BHSU\\AppData\\Local\\Programs\\Python\\Python39\\lib\\site-packages\\openfl\\component\\aggregator\\aggregator.py#559\" target=\"_blank\"><span style=\"color: #7f7f7f; text-decoration-color: #7f7f7f\">559</span></a>\n",
       "</pre>\n"
      ],
      "text/plain": [
       "\u001b[2;36m          \u001b[0m\u001b[2;36m \u001b[0mMETRIC   Round \u001b[1;36m2\u001b[0m, collaborator validate_local locally_tuned_model_validation result accuracy:    \u001b[1;36m0.921000\u001b[0m                           \u001b]8;id=46151;file://C:\\Users\\BHSU\\AppData\\Local\\Programs\\Python\\Python39\\lib\\site-packages\\openfl\\component\\aggregator\\aggregator.py\u001b\\\u001b[2maggregator.py\u001b[0m\u001b]8;;\u001b\\\u001b[2m:\u001b[0m\u001b]8;id=397485;file://C:\\Users\\BHSU\\AppData\\Local\\Programs\\Python\\Python39\\lib\\site-packages\\openfl\\component\\aggregator\\aggregator.py#559\u001b\\\u001b[2m559\u001b[0m\u001b]8;;\u001b\\\n"
      ]
     },
     "metadata": {},
     "output_type": "display_data"
    },
    {
     "data": {
      "text/html": [
       "<pre style=\"white-space:pre;overflow-x:auto;line-height:normal;font-family:Menlo,'DejaVu Sans Mono',consolas,'Courier New',monospace\"><span style=\"color: #7fbfbf; text-decoration-color: #7fbfbf\">           </span>METRIC   Round <span style=\"color: #008080; text-decoration-color: #008080; font-weight: bold\">2</span>, aggregator: locally_tuned_model_validation                                                                        <a href=\"file://C:\\Users\\BHSU\\AppData\\Local\\Programs\\Python\\Python39\\lib\\site-packages\\openfl\\component\\aggregator\\aggregator.py\" target=\"_blank\"><span style=\"color: #7f7f7f; text-decoration-color: #7f7f7f\">aggregator.py</span></a><span style=\"color: #7f7f7f; text-decoration-color: #7f7f7f\">:</span><a href=\"file://C:\\Users\\BHSU\\AppData\\Local\\Programs\\Python\\Python39\\lib\\site-packages\\openfl\\component\\aggregator\\aggregator.py#842\" target=\"_blank\"><span style=\"color: #7f7f7f; text-decoration-color: #7f7f7f\">842</span></a>\n",
       "<span style=\"color: #7fbfbf; text-decoration-color: #7fbfbf\">           </span>         <span style=\"font-weight: bold\">&lt;</span><span style=\"color: #ff00ff; text-decoration-color: #ff00ff; font-weight: bold\">openfl.interface.aggregation_functions.weighted_average.WeightedAverage</span><span style=\"color: #000000; text-decoration-color: #000000\"> object at </span><span style=\"color: #008080; text-decoration-color: #008080; font-weight: bold\">0x0000020F55654AC0</span><span style=\"font-weight: bold\">&gt;</span> accuracy:           <span style=\"color: #7f7f7f; text-decoration-color: #7f7f7f\">                 </span>\n",
       "<span style=\"color: #7fbfbf; text-decoration-color: #7fbfbf\">           </span>         <span style=\"color: #008080; text-decoration-color: #008080; font-weight: bold\">0.931611</span>                                                                                                                   <span style=\"color: #7f7f7f; text-decoration-color: #7f7f7f\">                 </span>\n",
       "</pre>\n"
      ],
      "text/plain": [
       "\u001b[2;36m          \u001b[0m\u001b[2;36m \u001b[0mMETRIC   Round \u001b[1;36m2\u001b[0m, aggregator: locally_tuned_model_validation                                                                        \u001b]8;id=344296;file://C:\\Users\\BHSU\\AppData\\Local\\Programs\\Python\\Python39\\lib\\site-packages\\openfl\\component\\aggregator\\aggregator.py\u001b\\\u001b[2maggregator.py\u001b[0m\u001b]8;;\u001b\\\u001b[2m:\u001b[0m\u001b]8;id=395682;file://C:\\Users\\BHSU\\AppData\\Local\\Programs\\Python\\Python39\\lib\\site-packages\\openfl\\component\\aggregator\\aggregator.py#842\u001b\\\u001b[2m842\u001b[0m\u001b]8;;\u001b\\\n",
       "\u001b[2;36m           \u001b[0m         \u001b[1m<\u001b[0m\u001b[1;95mopenfl.interface.aggregation_functions.weighted_average.WeightedAverage\u001b[0m\u001b[39m object at \u001b[0m\u001b[1;36m0x0000020F55654AC0\u001b[0m\u001b[1m>\u001b[0m accuracy:           \u001b[2m                 \u001b[0m\n",
       "\u001b[2;36m           \u001b[0m         \u001b[1;36m0.931611\u001b[0m                                                                                                                   \u001b[2m                 \u001b[0m\n"
      ]
     },
     "metadata": {},
     "output_type": "display_data"
    },
    {
     "data": {
      "text/html": [
       "<pre style=\"white-space:pre;overflow-x:auto;line-height:normal;font-family:Menlo,'DejaVu Sans Mono',consolas,'Courier New',monospace\"><span style=\"color: #7fbfbf; text-decoration-color: #7fbfbf\">           </span>METRIC   Round <span style=\"color: #008080; text-decoration-color: #008080; font-weight: bold\">2</span>, aggregator: aggregated_model_validation <span style=\"font-weight: bold\">&lt;</span><span style=\"color: #ff00ff; text-decoration-color: #ff00ff; font-weight: bold\">openfl.interface.aggregation_functions.weighted_average.WeightedAverage</span><span style=\"color: #000000; text-decoration-color: #000000\"> </span> <a href=\"file://C:\\Users\\BHSU\\AppData\\Local\\Programs\\Python\\Python39\\lib\\site-packages\\openfl\\component\\aggregator\\aggregator.py\" target=\"_blank\"><span style=\"color: #7f7f7f; text-decoration-color: #7f7f7f\">aggregator.py</span></a><span style=\"color: #7f7f7f; text-decoration-color: #7f7f7f\">:</span><a href=\"file://C:\\Users\\BHSU\\AppData\\Local\\Programs\\Python\\Python39\\lib\\site-packages\\openfl\\component\\aggregator\\aggregator.py#842\" target=\"_blank\"><span style=\"color: #7f7f7f; text-decoration-color: #7f7f7f\">842</span></a>\n",
       "<span style=\"color: #7fbfbf; text-decoration-color: #7fbfbf\">           </span>         <span style=\"color: #000000; text-decoration-color: #000000\">object at </span><span style=\"color: #008080; text-decoration-color: #008080; font-weight: bold\">0x0000020F55654AC0</span><span style=\"font-weight: bold\">&gt;</span> accuracy:       <span style=\"color: #008080; text-decoration-color: #008080; font-weight: bold\">0.931333</span>                                                                     <span style=\"color: #7f7f7f; text-decoration-color: #7f7f7f\">                 </span>\n",
       "</pre>\n"
      ],
      "text/plain": [
       "\u001b[2;36m          \u001b[0m\u001b[2;36m \u001b[0mMETRIC   Round \u001b[1;36m2\u001b[0m, aggregator: aggregated_model_validation \u001b[1m<\u001b[0m\u001b[1;95mopenfl.interface.aggregation_functions.weighted_average.WeightedAverage\u001b[0m\u001b[39m \u001b[0m \u001b]8;id=258564;file://C:\\Users\\BHSU\\AppData\\Local\\Programs\\Python\\Python39\\lib\\site-packages\\openfl\\component\\aggregator\\aggregator.py\u001b\\\u001b[2maggregator.py\u001b[0m\u001b]8;;\u001b\\\u001b[2m:\u001b[0m\u001b]8;id=949944;file://C:\\Users\\BHSU\\AppData\\Local\\Programs\\Python\\Python39\\lib\\site-packages\\openfl\\component\\aggregator\\aggregator.py#842\u001b\\\u001b[2m842\u001b[0m\u001b]8;;\u001b\\\n",
       "\u001b[2;36m           \u001b[0m         \u001b[39mobject at \u001b[0m\u001b[1;36m0x0000020F55654AC0\u001b[0m\u001b[1m>\u001b[0m accuracy:       \u001b[1;36m0.931333\u001b[0m                                                                     \u001b[2m                 \u001b[0m\n"
      ]
     },
     "metadata": {},
     "output_type": "display_data"
    },
    {
     "data": {
      "text/html": [
       "<pre style=\"white-space:pre;overflow-x:auto;line-height:normal;font-family:Menlo,'DejaVu Sans Mono',consolas,'Courier New',monospace\"><span style=\"color: #7fbfbf; text-decoration-color: #7fbfbf\">           </span>METRIC   Round <span style=\"color: #008080; text-decoration-color: #008080; font-weight: bold\">2</span>: saved the best model with score <span style=\"color: #008080; text-decoration-color: #008080; font-weight: bold\">0.931333</span>                                                                          <a href=\"file://C:\\Users\\BHSU\\AppData\\Local\\Programs\\Python\\Python39\\lib\\site-packages\\openfl\\component\\aggregator\\aggregator.py\" target=\"_blank\"><span style=\"color: #7f7f7f; text-decoration-color: #7f7f7f\">aggregator.py</span></a><span style=\"color: #7f7f7f; text-decoration-color: #7f7f7f\">:</span><a href=\"file://C:\\Users\\BHSU\\AppData\\Local\\Programs\\Python\\Python39\\lib\\site-packages\\openfl\\component\\aggregator\\aggregator.py#858\" target=\"_blank\"><span style=\"color: #7f7f7f; text-decoration-color: #7f7f7f\">858</span></a>\n",
       "</pre>\n"
      ],
      "text/plain": [
       "\u001b[2;36m          \u001b[0m\u001b[2;36m \u001b[0mMETRIC   Round \u001b[1;36m2\u001b[0m: saved the best model with score \u001b[1;36m0.931333\u001b[0m                                                                          \u001b]8;id=554491;file://C:\\Users\\BHSU\\AppData\\Local\\Programs\\Python\\Python39\\lib\\site-packages\\openfl\\component\\aggregator\\aggregator.py\u001b\\\u001b[2maggregator.py\u001b[0m\u001b]8;;\u001b\\\u001b[2m:\u001b[0m\u001b]8;id=876215;file://C:\\Users\\BHSU\\AppData\\Local\\Programs\\Python\\Python39\\lib\\site-packages\\openfl\\component\\aggregator\\aggregator.py#858\u001b\\\u001b[2m858\u001b[0m\u001b]8;;\u001b\\\n"
      ]
     },
     "metadata": {},
     "output_type": "display_data"
    },
    {
     "data": {
      "text/html": [
       "<pre style=\"white-space:pre;overflow-x:auto;line-height:normal;font-family:Menlo,'DejaVu Sans Mono',consolas,'Courier New',monospace\"><span style=\"color: #7fbfbf; text-decoration-color: #7fbfbf\">           </span>METRIC   Round <span style=\"color: #008080; text-decoration-color: #008080; font-weight: bold\">2</span>, aggregator: train <span style=\"font-weight: bold\">&lt;</span><span style=\"color: #ff00ff; text-decoration-color: #ff00ff; font-weight: bold\">openfl.interface.aggregation_functions.weighted_average.WeightedAverage</span><span style=\"color: #000000; text-decoration-color: #000000\"> object at </span>             <a href=\"file://C:\\Users\\BHSU\\AppData\\Local\\Programs\\Python\\Python39\\lib\\site-packages\\openfl\\component\\aggregator\\aggregator.py\" target=\"_blank\"><span style=\"color: #7f7f7f; text-decoration-color: #7f7f7f\">aggregator.py</span></a><span style=\"color: #7f7f7f; text-decoration-color: #7f7f7f\">:</span><a href=\"file://C:\\Users\\BHSU\\AppData\\Local\\Programs\\Python\\Python39\\lib\\site-packages\\openfl\\component\\aggregator\\aggregator.py#842\" target=\"_blank\"><span style=\"color: #7f7f7f; text-decoration-color: #7f7f7f\">842</span></a>\n",
       "<span style=\"color: #7fbfbf; text-decoration-color: #7fbfbf\">           </span>         <span style=\"color: #008080; text-decoration-color: #008080; font-weight: bold\">0x0000020F55654AC0</span><span style=\"font-weight: bold\">&gt;</span> loss: <span style=\"color: #008080; text-decoration-color: #008080; font-weight: bold\">0.217259</span>                                                                                         <span style=\"color: #7f7f7f; text-decoration-color: #7f7f7f\">                 </span>\n",
       "</pre>\n"
      ],
      "text/plain": [
       "\u001b[2;36m          \u001b[0m\u001b[2;36m \u001b[0mMETRIC   Round \u001b[1;36m2\u001b[0m, aggregator: train \u001b[1m<\u001b[0m\u001b[1;95mopenfl.interface.aggregation_functions.weighted_average.WeightedAverage\u001b[0m\u001b[39m object at \u001b[0m             \u001b]8;id=516752;file://C:\\Users\\BHSU\\AppData\\Local\\Programs\\Python\\Python39\\lib\\site-packages\\openfl\\component\\aggregator\\aggregator.py\u001b\\\u001b[2maggregator.py\u001b[0m\u001b]8;;\u001b\\\u001b[2m:\u001b[0m\u001b]8;id=388385;file://C:\\Users\\BHSU\\AppData\\Local\\Programs\\Python\\Python39\\lib\\site-packages\\openfl\\component\\aggregator\\aggregator.py#842\u001b\\\u001b[2m842\u001b[0m\u001b]8;;\u001b\\\n",
       "\u001b[2;36m           \u001b[0m         \u001b[1;36m0x0000020F55654AC0\u001b[0m\u001b[1m>\u001b[0m loss: \u001b[1;36m0.217259\u001b[0m                                                                                         \u001b[2m                 \u001b[0m\n"
      ]
     },
     "metadata": {},
     "output_type": "display_data"
    },
    {
     "data": {
      "text/html": [
       "<pre style=\"white-space:pre;overflow-x:auto;line-height:normal;font-family:Menlo,'DejaVu Sans Mono',consolas,'Courier New',monospace\"><span style=\"color: #7fbfbf; text-decoration-color: #7fbfbf\">           </span><span style=\"color: #000080; text-decoration-color: #000080\">INFO    </span> Saving round <span style=\"color: #008080; text-decoration-color: #008080; font-weight: bold\">3</span> model<span style=\"color: #808000; text-decoration-color: #808000\">...</span>                                                                                                    <a href=\"file://C:\\Users\\BHSU\\AppData\\Local\\Programs\\Python\\Python39\\lib\\site-packages\\openfl\\component\\aggregator\\aggregator.py\" target=\"_blank\"><span style=\"color: #7f7f7f; text-decoration-color: #7f7f7f\">aggregator.py</span></a><span style=\"color: #7f7f7f; text-decoration-color: #7f7f7f\">:</span><a href=\"file://C:\\Users\\BHSU\\AppData\\Local\\Programs\\Python\\Python39\\lib\\site-packages\\openfl\\component\\aggregator\\aggregator.py#894\" target=\"_blank\"><span style=\"color: #7f7f7f; text-decoration-color: #7f7f7f\">894</span></a>\n",
       "</pre>\n"
      ],
      "text/plain": [
       "\u001b[2;36m          \u001b[0m\u001b[2;36m \u001b[0m\u001b[34mINFO    \u001b[0m Saving round \u001b[1;36m3\u001b[0m model\u001b[33m...\u001b[0m                                                                                                    \u001b]8;id=432299;file://C:\\Users\\BHSU\\AppData\\Local\\Programs\\Python\\Python39\\lib\\site-packages\\openfl\\component\\aggregator\\aggregator.py\u001b\\\u001b[2maggregator.py\u001b[0m\u001b]8;;\u001b\\\u001b[2m:\u001b[0m\u001b]8;id=691897;file://C:\\Users\\BHSU\\AppData\\Local\\Programs\\Python\\Python39\\lib\\site-packages\\openfl\\component\\aggregator\\aggregator.py#894\u001b\\\u001b[2m894\u001b[0m\u001b]8;;\u001b\\\n"
      ]
     },
     "metadata": {},
     "output_type": "display_data"
    },
    {
     "data": {
      "text/html": [
       "<pre style=\"white-space:pre;overflow-x:auto;line-height:normal;font-family:Menlo,'DejaVu Sans Mono',consolas,'Courier New',monospace\"><span style=\"color: #7fbfbf; text-decoration-color: #7fbfbf\">           </span><span style=\"color: #000080; text-decoration-color: #000080\">INFO    </span> Starting round <span style=\"color: #008080; text-decoration-color: #008080; font-weight: bold\">3</span><span style=\"color: #808000; text-decoration-color: #808000\">...</span>                                                                                                        <a href=\"file://C:\\Users\\BHSU\\AppData\\Local\\Programs\\Python\\Python39\\lib\\site-packages\\openfl\\component\\aggregator\\aggregator.py\" target=\"_blank\"><span style=\"color: #7f7f7f; text-decoration-color: #7f7f7f\">aggregator.py</span></a><span style=\"color: #7f7f7f; text-decoration-color: #7f7f7f\">:</span><a href=\"file://C:\\Users\\BHSU\\AppData\\Local\\Programs\\Python\\Python39\\lib\\site-packages\\openfl\\component\\aggregator\\aggregator.py#901\" target=\"_blank\"><span style=\"color: #7f7f7f; text-decoration-color: #7f7f7f\">901</span></a>\n",
       "</pre>\n"
      ],
      "text/plain": [
       "\u001b[2;36m          \u001b[0m\u001b[2;36m \u001b[0m\u001b[34mINFO    \u001b[0m Starting round \u001b[1;36m3\u001b[0m\u001b[33m...\u001b[0m                                                                                                        \u001b]8;id=949496;file://C:\\Users\\BHSU\\AppData\\Local\\Programs\\Python\\Python39\\lib\\site-packages\\openfl\\component\\aggregator\\aggregator.py\u001b\\\u001b[2maggregator.py\u001b[0m\u001b]8;;\u001b\\\u001b[2m:\u001b[0m\u001b]8;id=140049;file://C:\\Users\\BHSU\\AppData\\Local\\Programs\\Python\\Python39\\lib\\site-packages\\openfl\\component\\aggregator\\aggregator.py#901\u001b\\\u001b[2m901\u001b[0m\u001b]8;;\u001b\\\n"
      ]
     },
     "metadata": {},
     "output_type": "display_data"
    },
    {
     "data": {
      "text/html": [
       "<pre style=\"white-space:pre;overflow-x:auto;line-height:normal;font-family:Menlo,'DejaVu Sans Mono',consolas,'Courier New',monospace\"><span style=\"color: #7fbfbf; text-decoration-color: #7fbfbf\">           </span><span style=\"color: #000080; text-decoration-color: #000080\">INFO    </span> All tasks completed on two for round <span style=\"color: #008080; text-decoration-color: #008080; font-weight: bold\">2</span><span style=\"color: #808000; text-decoration-color: #808000\">...</span>                                                                                <a href=\"file://C:\\Users\\BHSU\\AppData\\Local\\Programs\\Python\\Python39\\lib\\site-packages\\openfl\\component\\collaborator\\collaborator.py\" target=\"_blank\"><span style=\"color: #7f7f7f; text-decoration-color: #7f7f7f\">collaborator.py</span></a><span style=\"color: #7f7f7f; text-decoration-color: #7f7f7f\">:</span><a href=\"file://C:\\Users\\BHSU\\AppData\\Local\\Programs\\Python\\Python39\\lib\\site-packages\\openfl\\component\\collaborator\\collaborator.py#171\" target=\"_blank\"><span style=\"color: #7f7f7f; text-decoration-color: #7f7f7f\">171</span></a>\n",
       "</pre>\n"
      ],
      "text/plain": [
       "\u001b[2;36m          \u001b[0m\u001b[2;36m \u001b[0m\u001b[34mINFO    \u001b[0m All tasks completed on two for round \u001b[1;36m2\u001b[0m\u001b[33m...\u001b[0m                                                                                \u001b]8;id=170453;file://C:\\Users\\BHSU\\AppData\\Local\\Programs\\Python\\Python39\\lib\\site-packages\\openfl\\component\\collaborator\\collaborator.py\u001b\\\u001b[2mcollaborator.py\u001b[0m\u001b]8;;\u001b\\\u001b[2m:\u001b[0m\u001b]8;id=88511;file://C:\\Users\\BHSU\\AppData\\Local\\Programs\\Python\\Python39\\lib\\site-packages\\openfl\\component\\collaborator\\collaborator.py#171\u001b\\\u001b[2m171\u001b[0m\u001b]8;;\u001b\\\n"
      ]
     },
     "metadata": {},
     "output_type": "display_data"
    },
    {
     "data": {
      "text/html": [
       "<pre style=\"white-space:pre;overflow-x:auto;line-height:normal;font-family:Menlo,'DejaVu Sans Mono',consolas,'Courier New',monospace\"><span style=\"color: #7fbfbf; text-decoration-color: #7fbfbf\">           </span><span style=\"color: #000080; text-decoration-color: #000080\">INFO    </span> Waiting for tasks<span style=\"color: #808000; text-decoration-color: #808000\">...</span>                                                                                                     <a href=\"file://C:\\Users\\BHSU\\AppData\\Local\\Programs\\Python\\Python39\\lib\\site-packages\\openfl\\component\\collaborator\\collaborator.py\" target=\"_blank\"><span style=\"color: #7f7f7f; text-decoration-color: #7f7f7f\">collaborator.py</span></a><span style=\"color: #7f7f7f; text-decoration-color: #7f7f7f\">:</span><a href=\"file://C:\\Users\\BHSU\\AppData\\Local\\Programs\\Python\\Python39\\lib\\site-packages\\openfl\\component\\collaborator\\collaborator.py#178\" target=\"_blank\"><span style=\"color: #7f7f7f; text-decoration-color: #7f7f7f\">178</span></a>\n",
       "</pre>\n"
      ],
      "text/plain": [
       "\u001b[2;36m          \u001b[0m\u001b[2;36m \u001b[0m\u001b[34mINFO    \u001b[0m Waiting for tasks\u001b[33m...\u001b[0m                                                                                                     \u001b]8;id=780275;file://C:\\Users\\BHSU\\AppData\\Local\\Programs\\Python\\Python39\\lib\\site-packages\\openfl\\component\\collaborator\\collaborator.py\u001b\\\u001b[2mcollaborator.py\u001b[0m\u001b]8;;\u001b\\\u001b[2m:\u001b[0m\u001b]8;id=153848;file://C:\\Users\\BHSU\\AppData\\Local\\Programs\\Python\\Python39\\lib\\site-packages\\openfl\\component\\collaborator\\collaborator.py#178\u001b\\\u001b[2m178\u001b[0m\u001b]8;;\u001b\\\n"
      ]
     },
     "metadata": {},
     "output_type": "display_data"
    },
    {
     "data": {
      "text/html": [
       "<pre style=\"white-space:pre;overflow-x:auto;line-height:normal;font-family:Menlo,'DejaVu Sans Mono',consolas,'Courier New',monospace\"><span style=\"color: #7fbfbf; text-decoration-color: #7fbfbf\">           </span><span style=\"color: #000080; text-decoration-color: #000080\">INFO    </span> Sending tasks to collaborator one for round <span style=\"color: #008080; text-decoration-color: #008080; font-weight: bold\">3</span>                                                                              <a href=\"file://C:\\Users\\BHSU\\AppData\\Local\\Programs\\Python\\Python39\\lib\\site-packages\\openfl\\component\\aggregator\\aggregator.py\" target=\"_blank\"><span style=\"color: #7f7f7f; text-decoration-color: #7f7f7f\">aggregator.py</span></a><span style=\"color: #7f7f7f; text-decoration-color: #7f7f7f\">:</span><a href=\"file://C:\\Users\\BHSU\\AppData\\Local\\Programs\\Python\\Python39\\lib\\site-packages\\openfl\\component\\aggregator\\aggregator.py#329\" target=\"_blank\"><span style=\"color: #7f7f7f; text-decoration-color: #7f7f7f\">329</span></a>\n",
       "</pre>\n"
      ],
      "text/plain": [
       "\u001b[2;36m          \u001b[0m\u001b[2;36m \u001b[0m\u001b[34mINFO    \u001b[0m Sending tasks to collaborator one for round \u001b[1;36m3\u001b[0m                                                                              \u001b]8;id=129440;file://C:\\Users\\BHSU\\AppData\\Local\\Programs\\Python\\Python39\\lib\\site-packages\\openfl\\component\\aggregator\\aggregator.py\u001b\\\u001b[2maggregator.py\u001b[0m\u001b]8;;\u001b\\\u001b[2m:\u001b[0m\u001b]8;id=34806;file://C:\\Users\\BHSU\\AppData\\Local\\Programs\\Python\\Python39\\lib\\site-packages\\openfl\\component\\aggregator\\aggregator.py#329\u001b\\\u001b[2m329\u001b[0m\u001b]8;;\u001b\\\n"
      ]
     },
     "metadata": {},
     "output_type": "display_data"
    },
    {
     "data": {
      "text/html": [
       "<pre style=\"white-space:pre;overflow-x:auto;line-height:normal;font-family:Menlo,'DejaVu Sans Mono',consolas,'Courier New',monospace\"><span style=\"color: #7fbfbf; text-decoration-color: #7fbfbf\">           </span><span style=\"color: #000080; text-decoration-color: #000080\">INFO    </span> Received the following tasks: <span style=\"font-weight: bold\">[</span><span style=\"color: #008000; text-decoration-color: #008000\">'aggregated_model_validation'</span>, <span style=\"color: #008000; text-decoration-color: #008000\">'train'</span>, <span style=\"color: #008000; text-decoration-color: #008000\">'locally_tuned_model_validation'</span><span style=\"font-weight: bold\">]</span>                 <a href=\"file://C:\\Users\\BHSU\\AppData\\Local\\Programs\\Python\\Python39\\lib\\site-packages\\openfl\\component\\collaborator\\collaborator.py\" target=\"_blank\"><span style=\"color: #7f7f7f; text-decoration-color: #7f7f7f\">collaborator.py</span></a><span style=\"color: #7f7f7f; text-decoration-color: #7f7f7f\">:</span><a href=\"file://C:\\Users\\BHSU\\AppData\\Local\\Programs\\Python\\Python39\\lib\\site-packages\\openfl\\component\\collaborator\\collaborator.py#168\" target=\"_blank\"><span style=\"color: #7f7f7f; text-decoration-color: #7f7f7f\">168</span></a>\n",
       "</pre>\n"
      ],
      "text/plain": [
       "\u001b[2;36m          \u001b[0m\u001b[2;36m \u001b[0m\u001b[34mINFO    \u001b[0m Received the following tasks: \u001b[1m[\u001b[0m\u001b[32m'aggregated_model_validation'\u001b[0m, \u001b[32m'train'\u001b[0m, \u001b[32m'locally_tuned_model_validation'\u001b[0m\u001b[1m]\u001b[0m                 \u001b]8;id=375420;file://C:\\Users\\BHSU\\AppData\\Local\\Programs\\Python\\Python39\\lib\\site-packages\\openfl\\component\\collaborator\\collaborator.py\u001b\\\u001b[2mcollaborator.py\u001b[0m\u001b]8;;\u001b\\\u001b[2m:\u001b[0m\u001b]8;id=874294;file://C:\\Users\\BHSU\\AppData\\Local\\Programs\\Python\\Python39\\lib\\site-packages\\openfl\\component\\collaborator\\collaborator.py#168\u001b\\\u001b[2m168\u001b[0m\u001b]8;;\u001b\\\n"
      ]
     },
     "metadata": {},
     "output_type": "display_data"
    },
    {
     "data": {
      "text/html": [
       "<pre style=\"white-space:pre;overflow-x:auto;line-height:normal;font-family:Menlo,'DejaVu Sans Mono',consolas,'Courier New',monospace\"><span style=\"color: #7fbfbf; text-decoration-color: #7fbfbf\">           </span><span style=\"color: #000080; text-decoration-color: #000080\">INFO    </span> Using TaskRunner subclassing API                                                                                         <a href=\"file://C:\\Users\\BHSU\\AppData\\Local\\Programs\\Python\\Python39\\lib\\site-packages\\openfl\\component\\collaborator\\collaborator.py\" target=\"_blank\"><span style=\"color: #7f7f7f; text-decoration-color: #7f7f7f\">collaborator.py</span></a><span style=\"color: #7f7f7f; text-decoration-color: #7f7f7f\">:</span><a href=\"file://C:\\Users\\BHSU\\AppData\\Local\\Programs\\Python\\Python39\\lib\\site-packages\\openfl\\component\\collaborator\\collaborator.py#253\" target=\"_blank\"><span style=\"color: #7f7f7f; text-decoration-color: #7f7f7f\">253</span></a>\n",
       "</pre>\n"
      ],
      "text/plain": [
       "\u001b[2;36m          \u001b[0m\u001b[2;36m \u001b[0m\u001b[34mINFO    \u001b[0m Using TaskRunner subclassing API                                                                                         \u001b]8;id=95267;file://C:\\Users\\BHSU\\AppData\\Local\\Programs\\Python\\Python39\\lib\\site-packages\\openfl\\component\\collaborator\\collaborator.py\u001b\\\u001b[2mcollaborator.py\u001b[0m\u001b]8;;\u001b\\\u001b[2m:\u001b[0m\u001b]8;id=423038;file://C:\\Users\\BHSU\\AppData\\Local\\Programs\\Python\\Python39\\lib\\site-packages\\openfl\\component\\collaborator\\collaborator.py#253\u001b\\\u001b[2m253\u001b[0m\u001b]8;;\u001b\\\n"
      ]
     },
     "metadata": {},
     "output_type": "display_data"
    },
    {
     "name": "stdout",
     "output_type": "stream",
     "text": [
      "282/282 [==============================] - 0s 555us/step - loss: 0.1944 - accuracy: 0.9426\n"
     ]
    },
    {
     "data": {
      "text/html": [
       "<pre style=\"white-space:pre;overflow-x:auto;line-height:normal;font-family:Menlo,'DejaVu Sans Mono',consolas,'Courier New',monospace\"><span style=\"color: #7fbfbf; text-decoration-color: #7fbfbf\">[09:22:51] </span>METRIC   Round <span style=\"color: #008080; text-decoration-color: #008080; font-weight: bold\">3</span>, collaborator one is sending metric for task aggregated_model_validation: accuracy      <span style=\"color: #008080; text-decoration-color: #008080; font-weight: bold\">0.942556</span>                 <a href=\"file://C:\\Users\\BHSU\\AppData\\Local\\Programs\\Python\\Python39\\lib\\site-packages\\openfl\\component\\collaborator\\collaborator.py\" target=\"_blank\"><span style=\"color: #7f7f7f; text-decoration-color: #7f7f7f\">collaborator.py</span></a><span style=\"color: #7f7f7f; text-decoration-color: #7f7f7f\">:</span><a href=\"file://C:\\Users\\BHSU\\AppData\\Local\\Programs\\Python\\Python39\\lib\\site-packages\\openfl\\component\\collaborator\\collaborator.py#415\" target=\"_blank\"><span style=\"color: #7f7f7f; text-decoration-color: #7f7f7f\">415</span></a>\n",
       "</pre>\n"
      ],
      "text/plain": [
       "\u001b[2;36m[09:22:51]\u001b[0m\u001b[2;36m \u001b[0mMETRIC   Round \u001b[1;36m3\u001b[0m, collaborator one is sending metric for task aggregated_model_validation: accuracy      \u001b[1;36m0.942556\u001b[0m                 \u001b]8;id=620259;file://C:\\Users\\BHSU\\AppData\\Local\\Programs\\Python\\Python39\\lib\\site-packages\\openfl\\component\\collaborator\\collaborator.py\u001b\\\u001b[2mcollaborator.py\u001b[0m\u001b]8;;\u001b\\\u001b[2m:\u001b[0m\u001b]8;id=401913;file://C:\\Users\\BHSU\\AppData\\Local\\Programs\\Python\\Python39\\lib\\site-packages\\openfl\\component\\collaborator\\collaborator.py#415\u001b\\\u001b[2m415\u001b[0m\u001b]8;;\u001b\\\n"
      ]
     },
     "metadata": {},
     "output_type": "display_data"
    },
    {
     "data": {
      "text/html": [
       "<pre style=\"white-space:pre;overflow-x:auto;line-height:normal;font-family:Menlo,'DejaVu Sans Mono',consolas,'Courier New',monospace\"><span style=\"color: #7fbfbf; text-decoration-color: #7fbfbf\">           </span><span style=\"color: #000080; text-decoration-color: #000080\">INFO    </span> Collaborator one is sending task results for aggregated_model_validation, round <span style=\"color: #008080; text-decoration-color: #008080; font-weight: bold\">3</span>                                          <a href=\"file://C:\\Users\\BHSU\\AppData\\Local\\Programs\\Python\\Python39\\lib\\site-packages\\openfl\\component\\aggregator\\aggregator.py\" target=\"_blank\"><span style=\"color: #7f7f7f; text-decoration-color: #7f7f7f\">aggregator.py</span></a><span style=\"color: #7f7f7f; text-decoration-color: #7f7f7f\">:</span><a href=\"file://C:\\Users\\BHSU\\AppData\\Local\\Programs\\Python\\Python39\\lib\\site-packages\\openfl\\component\\aggregator\\aggregator.py#520\" target=\"_blank\"><span style=\"color: #7f7f7f; text-decoration-color: #7f7f7f\">520</span></a>\n",
       "</pre>\n"
      ],
      "text/plain": [
       "\u001b[2;36m          \u001b[0m\u001b[2;36m \u001b[0m\u001b[34mINFO    \u001b[0m Collaborator one is sending task results for aggregated_model_validation, round \u001b[1;36m3\u001b[0m                                          \u001b]8;id=298372;file://C:\\Users\\BHSU\\AppData\\Local\\Programs\\Python\\Python39\\lib\\site-packages\\openfl\\component\\aggregator\\aggregator.py\u001b\\\u001b[2maggregator.py\u001b[0m\u001b]8;;\u001b\\\u001b[2m:\u001b[0m\u001b]8;id=38764;file://C:\\Users\\BHSU\\AppData\\Local\\Programs\\Python\\Python39\\lib\\site-packages\\openfl\\component\\aggregator\\aggregator.py#520\u001b\\\u001b[2m520\u001b[0m\u001b]8;;\u001b\\\n"
      ]
     },
     "metadata": {},
     "output_type": "display_data"
    },
    {
     "data": {
      "text/html": [
       "<pre style=\"white-space:pre;overflow-x:auto;line-height:normal;font-family:Menlo,'DejaVu Sans Mono',consolas,'Courier New',monospace\"><span style=\"color: #7fbfbf; text-decoration-color: #7fbfbf\">           </span>METRIC   Round <span style=\"color: #008080; text-decoration-color: #008080; font-weight: bold\">3</span>, collaborator validate_agg aggregated_model_validation result accuracy: <span style=\"color: #008080; text-decoration-color: #008080; font-weight: bold\">0.942556</span>                                   <a href=\"file://C:\\Users\\BHSU\\AppData\\Local\\Programs\\Python\\Python39\\lib\\site-packages\\openfl\\component\\aggregator\\aggregator.py\" target=\"_blank\"><span style=\"color: #7f7f7f; text-decoration-color: #7f7f7f\">aggregator.py</span></a><span style=\"color: #7f7f7f; text-decoration-color: #7f7f7f\">:</span><a href=\"file://C:\\Users\\BHSU\\AppData\\Local\\Programs\\Python\\Python39\\lib\\site-packages\\openfl\\component\\aggregator\\aggregator.py#559\" target=\"_blank\"><span style=\"color: #7f7f7f; text-decoration-color: #7f7f7f\">559</span></a>\n",
       "</pre>\n"
      ],
      "text/plain": [
       "\u001b[2;36m          \u001b[0m\u001b[2;36m \u001b[0mMETRIC   Round \u001b[1;36m3\u001b[0m, collaborator validate_agg aggregated_model_validation result accuracy: \u001b[1;36m0.942556\u001b[0m                                   \u001b]8;id=645983;file://C:\\Users\\BHSU\\AppData\\Local\\Programs\\Python\\Python39\\lib\\site-packages\\openfl\\component\\aggregator\\aggregator.py\u001b\\\u001b[2maggregator.py\u001b[0m\u001b]8;;\u001b\\\u001b[2m:\u001b[0m\u001b]8;id=870792;file://C:\\Users\\BHSU\\AppData\\Local\\Programs\\Python\\Python39\\lib\\site-packages\\openfl\\component\\aggregator\\aggregator.py#559\u001b\\\u001b[2m559\u001b[0m\u001b]8;;\u001b\\\n"
      ]
     },
     "metadata": {},
     "output_type": "display_data"
    },
    {
     "data": {
      "text/html": [
       "<pre style=\"white-space:pre;overflow-x:auto;line-height:normal;font-family:Menlo,'DejaVu Sans Mono',consolas,'Courier New',monospace\"><span style=\"color: #7fbfbf; text-decoration-color: #7fbfbf\">           </span><span style=\"color: #000080; text-decoration-color: #000080\">INFO    </span> Using TaskRunner subclassing API                                                                                         <a href=\"file://C:\\Users\\BHSU\\AppData\\Local\\Programs\\Python\\Python39\\lib\\site-packages\\openfl\\component\\collaborator\\collaborator.py\" target=\"_blank\"><span style=\"color: #7f7f7f; text-decoration-color: #7f7f7f\">collaborator.py</span></a><span style=\"color: #7f7f7f; text-decoration-color: #7f7f7f\">:</span><a href=\"file://C:\\Users\\BHSU\\AppData\\Local\\Programs\\Python\\Python39\\lib\\site-packages\\openfl\\component\\collaborator\\collaborator.py#253\" target=\"_blank\"><span style=\"color: #7f7f7f; text-decoration-color: #7f7f7f\">253</span></a>\n",
       "</pre>\n"
      ],
      "text/plain": [
       "\u001b[2;36m          \u001b[0m\u001b[2;36m \u001b[0m\u001b[34mINFO    \u001b[0m Using TaskRunner subclassing API                                                                                         \u001b]8;id=687615;file://C:\\Users\\BHSU\\AppData\\Local\\Programs\\Python\\Python39\\lib\\site-packages\\openfl\\component\\collaborator\\collaborator.py\u001b\\\u001b[2mcollaborator.py\u001b[0m\u001b]8;;\u001b\\\u001b[2m:\u001b[0m\u001b]8;id=882428;file://C:\\Users\\BHSU\\AppData\\Local\\Programs\\Python\\Python39\\lib\\site-packages\\openfl\\component\\collaborator\\collaborator.py#253\u001b\\\u001b[2m253\u001b[0m\u001b]8;;\u001b\\\n"
      ]
     },
     "metadata": {},
     "output_type": "display_data"
    },
    {
     "data": {
      "text/html": [
       "<pre style=\"white-space:pre;overflow-x:auto;line-height:normal;font-family:Menlo,'DejaVu Sans Mono',consolas,'Courier New',monospace\"><span style=\"color: #7fbfbf; text-decoration-color: #7fbfbf\">           </span><span style=\"color: #000080; text-decoration-color: #000080\">INFO    </span> Run <span style=\"color: #008080; text-decoration-color: #008080; font-weight: bold\">0</span> epoch of <span style=\"color: #008080; text-decoration-color: #008080; font-weight: bold\">3</span> round                                                                                                    <a href=\"file://C:\\Users\\BHSU\\AppData\\Local\\Programs\\Python\\Python39\\lib\\site-packages\\openfl\\federated\\task\\runner_keras.py\" target=\"_blank\"><span style=\"color: #7f7f7f; text-decoration-color: #7f7f7f\">runner_keras.py</span></a><span style=\"color: #7f7f7f; text-decoration-color: #7f7f7f\">:</span><a href=\"file://C:\\Users\\BHSU\\AppData\\Local\\Programs\\Python\\Python39\\lib\\site-packages\\openfl\\federated\\task\\runner_keras.py#83\" target=\"_blank\"><span style=\"color: #7f7f7f; text-decoration-color: #7f7f7f\">83</span></a>\n",
       "</pre>\n"
      ],
      "text/plain": [
       "\u001b[2;36m          \u001b[0m\u001b[2;36m \u001b[0m\u001b[34mINFO    \u001b[0m Run \u001b[1;36m0\u001b[0m epoch of \u001b[1;36m3\u001b[0m round                                                                                                    \u001b]8;id=529764;file://C:\\Users\\BHSU\\AppData\\Local\\Programs\\Python\\Python39\\lib\\site-packages\\openfl\\federated\\task\\runner_keras.py\u001b\\\u001b[2mrunner_keras.py\u001b[0m\u001b]8;;\u001b\\\u001b[2m:\u001b[0m\u001b]8;id=416256;file://C:\\Users\\BHSU\\AppData\\Local\\Programs\\Python\\Python39\\lib\\site-packages\\openfl\\federated\\task\\runner_keras.py#83\u001b\\\u001b[2m83\u001b[0m\u001b]8;;\u001b\\\n"
      ]
     },
     "metadata": {},
     "output_type": "display_data"
    },
    {
     "name": "stdout",
     "output_type": "stream",
     "text": [
      "657/657 [==============================] - 0s 645us/step - loss: 0.1864 - accuracy: 0.9419\n"
     ]
    },
    {
     "data": {
      "text/html": [
       "<pre style=\"white-space:pre;overflow-x:auto;line-height:normal;font-family:Menlo,'DejaVu Sans Mono',consolas,'Courier New',monospace\"><span style=\"color: #7fbfbf; text-decoration-color: #7fbfbf\">           </span>METRIC   Round <span style=\"color: #008080; text-decoration-color: #008080; font-weight: bold\">3</span>, collaborator one is sending metric for task train: loss        <span style=\"color: #008080; text-decoration-color: #008080; font-weight: bold\">0.186413</span>                                         <a href=\"file://C:\\Users\\BHSU\\AppData\\Local\\Programs\\Python\\Python39\\lib\\site-packages\\openfl\\component\\collaborator\\collaborator.py\" target=\"_blank\"><span style=\"color: #7f7f7f; text-decoration-color: #7f7f7f\">collaborator.py</span></a><span style=\"color: #7f7f7f; text-decoration-color: #7f7f7f\">:</span><a href=\"file://C:\\Users\\BHSU\\AppData\\Local\\Programs\\Python\\Python39\\lib\\site-packages\\openfl\\component\\collaborator\\collaborator.py#415\" target=\"_blank\"><span style=\"color: #7f7f7f; text-decoration-color: #7f7f7f\">415</span></a>\n",
       "</pre>\n"
      ],
      "text/plain": [
       "\u001b[2;36m          \u001b[0m\u001b[2;36m \u001b[0mMETRIC   Round \u001b[1;36m3\u001b[0m, collaborator one is sending metric for task train: loss        \u001b[1;36m0.186413\u001b[0m                                         \u001b]8;id=40527;file://C:\\Users\\BHSU\\AppData\\Local\\Programs\\Python\\Python39\\lib\\site-packages\\openfl\\component\\collaborator\\collaborator.py\u001b\\\u001b[2mcollaborator.py\u001b[0m\u001b]8;;\u001b\\\u001b[2m:\u001b[0m\u001b]8;id=851129;file://C:\\Users\\BHSU\\AppData\\Local\\Programs\\Python\\Python39\\lib\\site-packages\\openfl\\component\\collaborator\\collaborator.py#415\u001b\\\u001b[2m415\u001b[0m\u001b]8;;\u001b\\\n"
      ]
     },
     "metadata": {},
     "output_type": "display_data"
    },
    {
     "data": {
      "text/html": [
       "<pre style=\"white-space:pre;overflow-x:auto;line-height:normal;font-family:Menlo,'DejaVu Sans Mono',consolas,'Courier New',monospace\"><span style=\"color: #7fbfbf; text-decoration-color: #7fbfbf\">           </span><span style=\"color: #000080; text-decoration-color: #000080\">INFO    </span> Collaborator one is sending task results for train, round <span style=\"color: #008080; text-decoration-color: #008080; font-weight: bold\">3</span>                                                                <a href=\"file://C:\\Users\\BHSU\\AppData\\Local\\Programs\\Python\\Python39\\lib\\site-packages\\openfl\\component\\aggregator\\aggregator.py\" target=\"_blank\"><span style=\"color: #7f7f7f; text-decoration-color: #7f7f7f\">aggregator.py</span></a><span style=\"color: #7f7f7f; text-decoration-color: #7f7f7f\">:</span><a href=\"file://C:\\Users\\BHSU\\AppData\\Local\\Programs\\Python\\Python39\\lib\\site-packages\\openfl\\component\\aggregator\\aggregator.py#520\" target=\"_blank\"><span style=\"color: #7f7f7f; text-decoration-color: #7f7f7f\">520</span></a>\n",
       "</pre>\n"
      ],
      "text/plain": [
       "\u001b[2;36m          \u001b[0m\u001b[2;36m \u001b[0m\u001b[34mINFO    \u001b[0m Collaborator one is sending task results for train, round \u001b[1;36m3\u001b[0m                                                                \u001b]8;id=901868;file://C:\\Users\\BHSU\\AppData\\Local\\Programs\\Python\\Python39\\lib\\site-packages\\openfl\\component\\aggregator\\aggregator.py\u001b\\\u001b[2maggregator.py\u001b[0m\u001b]8;;\u001b\\\u001b[2m:\u001b[0m\u001b]8;id=514959;file://C:\\Users\\BHSU\\AppData\\Local\\Programs\\Python\\Python39\\lib\\site-packages\\openfl\\component\\aggregator\\aggregator.py#520\u001b\\\u001b[2m520\u001b[0m\u001b]8;;\u001b\\\n"
      ]
     },
     "metadata": {},
     "output_type": "display_data"
    },
    {
     "data": {
      "text/html": [
       "<pre style=\"white-space:pre;overflow-x:auto;line-height:normal;font-family:Menlo,'DejaVu Sans Mono',consolas,'Courier New',monospace\"><span style=\"color: #7fbfbf; text-decoration-color: #7fbfbf\">           </span>METRIC   Round <span style=\"color: #008080; text-decoration-color: #008080; font-weight: bold\">3</span>, collaborator one train result loss:    <span style=\"color: #008080; text-decoration-color: #008080; font-weight: bold\">0.186413</span>                                                                   <a href=\"file://C:\\Users\\BHSU\\AppData\\Local\\Programs\\Python\\Python39\\lib\\site-packages\\openfl\\component\\aggregator\\aggregator.py\" target=\"_blank\"><span style=\"color: #7f7f7f; text-decoration-color: #7f7f7f\">aggregator.py</span></a><span style=\"color: #7f7f7f; text-decoration-color: #7f7f7f\">:</span><a href=\"file://C:\\Users\\BHSU\\AppData\\Local\\Programs\\Python\\Python39\\lib\\site-packages\\openfl\\component\\aggregator\\aggregator.py#559\" target=\"_blank\"><span style=\"color: #7f7f7f; text-decoration-color: #7f7f7f\">559</span></a>\n",
       "</pre>\n"
      ],
      "text/plain": [
       "\u001b[2;36m          \u001b[0m\u001b[2;36m \u001b[0mMETRIC   Round \u001b[1;36m3\u001b[0m, collaborator one train result loss:    \u001b[1;36m0.186413\u001b[0m                                                                   \u001b]8;id=908621;file://C:\\Users\\BHSU\\AppData\\Local\\Programs\\Python\\Python39\\lib\\site-packages\\openfl\\component\\aggregator\\aggregator.py\u001b\\\u001b[2maggregator.py\u001b[0m\u001b]8;;\u001b\\\u001b[2m:\u001b[0m\u001b]8;id=384964;file://C:\\Users\\BHSU\\AppData\\Local\\Programs\\Python\\Python39\\lib\\site-packages\\openfl\\component\\aggregator\\aggregator.py#559\u001b\\\u001b[2m559\u001b[0m\u001b]8;;\u001b\\\n"
      ]
     },
     "metadata": {},
     "output_type": "display_data"
    },
    {
     "data": {
      "text/html": [
       "<pre style=\"white-space:pre;overflow-x:auto;line-height:normal;font-family:Menlo,'DejaVu Sans Mono',consolas,'Courier New',monospace\"><span style=\"color: #7fbfbf; text-decoration-color: #7fbfbf\">           </span><span style=\"color: #000080; text-decoration-color: #000080\">INFO    </span> Using TaskRunner subclassing API                                                                                         <a href=\"file://C:\\Users\\BHSU\\AppData\\Local\\Programs\\Python\\Python39\\lib\\site-packages\\openfl\\component\\collaborator\\collaborator.py\" target=\"_blank\"><span style=\"color: #7f7f7f; text-decoration-color: #7f7f7f\">collaborator.py</span></a><span style=\"color: #7f7f7f; text-decoration-color: #7f7f7f\">:</span><a href=\"file://C:\\Users\\BHSU\\AppData\\Local\\Programs\\Python\\Python39\\lib\\site-packages\\openfl\\component\\collaborator\\collaborator.py#253\" target=\"_blank\"><span style=\"color: #7f7f7f; text-decoration-color: #7f7f7f\">253</span></a>\n",
       "</pre>\n"
      ],
      "text/plain": [
       "\u001b[2;36m          \u001b[0m\u001b[2;36m \u001b[0m\u001b[34mINFO    \u001b[0m Using TaskRunner subclassing API                                                                                         \u001b]8;id=712103;file://C:\\Users\\BHSU\\AppData\\Local\\Programs\\Python\\Python39\\lib\\site-packages\\openfl\\component\\collaborator\\collaborator.py\u001b\\\u001b[2mcollaborator.py\u001b[0m\u001b]8;;\u001b\\\u001b[2m:\u001b[0m\u001b]8;id=114035;file://C:\\Users\\BHSU\\AppData\\Local\\Programs\\Python\\Python39\\lib\\site-packages\\openfl\\component\\collaborator\\collaborator.py#253\u001b\\\u001b[2m253\u001b[0m\u001b]8;;\u001b\\\n"
      ]
     },
     "metadata": {},
     "output_type": "display_data"
    },
    {
     "name": "stdout",
     "output_type": "stream",
     "text": [
      "282/282 [==============================] - 0s 527us/step - loss: 0.2033 - accuracy: 0.9379\n"
     ]
    },
    {
     "data": {
      "text/html": [
       "<pre style=\"white-space:pre;overflow-x:auto;line-height:normal;font-family:Menlo,'DejaVu Sans Mono',consolas,'Courier New',monospace\"><span style=\"color: #7fbfbf; text-decoration-color: #7fbfbf\">           </span>METRIC   Round <span style=\"color: #008080; text-decoration-color: #008080; font-weight: bold\">3</span>, collaborator one is sending metric for task locally_tuned_model_validation: accuracy   <span style=\"color: #008080; text-decoration-color: #008080; font-weight: bold\">0.937889</span>                 <a href=\"file://C:\\Users\\BHSU\\AppData\\Local\\Programs\\Python\\Python39\\lib\\site-packages\\openfl\\component\\collaborator\\collaborator.py\" target=\"_blank\"><span style=\"color: #7f7f7f; text-decoration-color: #7f7f7f\">collaborator.py</span></a><span style=\"color: #7f7f7f; text-decoration-color: #7f7f7f\">:</span><a href=\"file://C:\\Users\\BHSU\\AppData\\Local\\Programs\\Python\\Python39\\lib\\site-packages\\openfl\\component\\collaborator\\collaborator.py#415\" target=\"_blank\"><span style=\"color: #7f7f7f; text-decoration-color: #7f7f7f\">415</span></a>\n",
       "</pre>\n"
      ],
      "text/plain": [
       "\u001b[2;36m          \u001b[0m\u001b[2;36m \u001b[0mMETRIC   Round \u001b[1;36m3\u001b[0m, collaborator one is sending metric for task locally_tuned_model_validation: accuracy   \u001b[1;36m0.937889\u001b[0m                 \u001b]8;id=570811;file://C:\\Users\\BHSU\\AppData\\Local\\Programs\\Python\\Python39\\lib\\site-packages\\openfl\\component\\collaborator\\collaborator.py\u001b\\\u001b[2mcollaborator.py\u001b[0m\u001b]8;;\u001b\\\u001b[2m:\u001b[0m\u001b]8;id=248757;file://C:\\Users\\BHSU\\AppData\\Local\\Programs\\Python\\Python39\\lib\\site-packages\\openfl\\component\\collaborator\\collaborator.py#415\u001b\\\u001b[2m415\u001b[0m\u001b]8;;\u001b\\\n"
      ]
     },
     "metadata": {},
     "output_type": "display_data"
    },
    {
     "data": {
      "text/html": [
       "<pre style=\"white-space:pre;overflow-x:auto;line-height:normal;font-family:Menlo,'DejaVu Sans Mono',consolas,'Courier New',monospace\"><span style=\"color: #7fbfbf; text-decoration-color: #7fbfbf\">           </span><span style=\"color: #000080; text-decoration-color: #000080\">INFO    </span> Collaborator one is sending task results for locally_tuned_model_validation, round <span style=\"color: #008080; text-decoration-color: #008080; font-weight: bold\">3</span>                                       <a href=\"file://C:\\Users\\BHSU\\AppData\\Local\\Programs\\Python\\Python39\\lib\\site-packages\\openfl\\component\\aggregator\\aggregator.py\" target=\"_blank\"><span style=\"color: #7f7f7f; text-decoration-color: #7f7f7f\">aggregator.py</span></a><span style=\"color: #7f7f7f; text-decoration-color: #7f7f7f\">:</span><a href=\"file://C:\\Users\\BHSU\\AppData\\Local\\Programs\\Python\\Python39\\lib\\site-packages\\openfl\\component\\aggregator\\aggregator.py#520\" target=\"_blank\"><span style=\"color: #7f7f7f; text-decoration-color: #7f7f7f\">520</span></a>\n",
       "</pre>\n"
      ],
      "text/plain": [
       "\u001b[2;36m          \u001b[0m\u001b[2;36m \u001b[0m\u001b[34mINFO    \u001b[0m Collaborator one is sending task results for locally_tuned_model_validation, round \u001b[1;36m3\u001b[0m                                       \u001b]8;id=228310;file://C:\\Users\\BHSU\\AppData\\Local\\Programs\\Python\\Python39\\lib\\site-packages\\openfl\\component\\aggregator\\aggregator.py\u001b\\\u001b[2maggregator.py\u001b[0m\u001b]8;;\u001b\\\u001b[2m:\u001b[0m\u001b]8;id=210227;file://C:\\Users\\BHSU\\AppData\\Local\\Programs\\Python\\Python39\\lib\\site-packages\\openfl\\component\\aggregator\\aggregator.py#520\u001b\\\u001b[2m520\u001b[0m\u001b]8;;\u001b\\\n"
      ]
     },
     "metadata": {},
     "output_type": "display_data"
    },
    {
     "data": {
      "text/html": [
       "<pre style=\"white-space:pre;overflow-x:auto;line-height:normal;font-family:Menlo,'DejaVu Sans Mono',consolas,'Courier New',monospace\"><span style=\"color: #7fbfbf; text-decoration-color: #7fbfbf\">           </span>METRIC   Round <span style=\"color: #008080; text-decoration-color: #008080; font-weight: bold\">3</span>, collaborator validate_local locally_tuned_model_validation result accuracy:    <span style=\"color: #008080; text-decoration-color: #008080; font-weight: bold\">0.937889</span>                           <a href=\"file://C:\\Users\\BHSU\\AppData\\Local\\Programs\\Python\\Python39\\lib\\site-packages\\openfl\\component\\aggregator\\aggregator.py\" target=\"_blank\"><span style=\"color: #7f7f7f; text-decoration-color: #7f7f7f\">aggregator.py</span></a><span style=\"color: #7f7f7f; text-decoration-color: #7f7f7f\">:</span><a href=\"file://C:\\Users\\BHSU\\AppData\\Local\\Programs\\Python\\Python39\\lib\\site-packages\\openfl\\component\\aggregator\\aggregator.py#559\" target=\"_blank\"><span style=\"color: #7f7f7f; text-decoration-color: #7f7f7f\">559</span></a>\n",
       "</pre>\n"
      ],
      "text/plain": [
       "\u001b[2;36m          \u001b[0m\u001b[2;36m \u001b[0mMETRIC   Round \u001b[1;36m3\u001b[0m, collaborator validate_local locally_tuned_model_validation result accuracy:    \u001b[1;36m0.937889\u001b[0m                           \u001b]8;id=997218;file://C:\\Users\\BHSU\\AppData\\Local\\Programs\\Python\\Python39\\lib\\site-packages\\openfl\\component\\aggregator\\aggregator.py\u001b\\\u001b[2maggregator.py\u001b[0m\u001b]8;;\u001b\\\u001b[2m:\u001b[0m\u001b]8;id=607178;file://C:\\Users\\BHSU\\AppData\\Local\\Programs\\Python\\Python39\\lib\\site-packages\\openfl\\component\\aggregator\\aggregator.py#559\u001b\\\u001b[2m559\u001b[0m\u001b]8;;\u001b\\\n"
      ]
     },
     "metadata": {},
     "output_type": "display_data"
    },
    {
     "data": {
      "text/html": [
       "<pre style=\"white-space:pre;overflow-x:auto;line-height:normal;font-family:Menlo,'DejaVu Sans Mono',consolas,'Courier New',monospace\"><span style=\"color: #7fbfbf; text-decoration-color: #7fbfbf\">           </span><span style=\"color: #000080; text-decoration-color: #000080\">INFO    </span> All tasks completed on one for round <span style=\"color: #008080; text-decoration-color: #008080; font-weight: bold\">3</span><span style=\"color: #808000; text-decoration-color: #808000\">...</span>                                                                                <a href=\"file://C:\\Users\\BHSU\\AppData\\Local\\Programs\\Python\\Python39\\lib\\site-packages\\openfl\\component\\collaborator\\collaborator.py\" target=\"_blank\"><span style=\"color: #7f7f7f; text-decoration-color: #7f7f7f\">collaborator.py</span></a><span style=\"color: #7f7f7f; text-decoration-color: #7f7f7f\">:</span><a href=\"file://C:\\Users\\BHSU\\AppData\\Local\\Programs\\Python\\Python39\\lib\\site-packages\\openfl\\component\\collaborator\\collaborator.py#171\" target=\"_blank\"><span style=\"color: #7f7f7f; text-decoration-color: #7f7f7f\">171</span></a>\n",
       "</pre>\n"
      ],
      "text/plain": [
       "\u001b[2;36m          \u001b[0m\u001b[2;36m \u001b[0m\u001b[34mINFO    \u001b[0m All tasks completed on one for round \u001b[1;36m3\u001b[0m\u001b[33m...\u001b[0m                                                                                \u001b]8;id=506121;file://C:\\Users\\BHSU\\AppData\\Local\\Programs\\Python\\Python39\\lib\\site-packages\\openfl\\component\\collaborator\\collaborator.py\u001b\\\u001b[2mcollaborator.py\u001b[0m\u001b]8;;\u001b\\\u001b[2m:\u001b[0m\u001b]8;id=372967;file://C:\\Users\\BHSU\\AppData\\Local\\Programs\\Python\\Python39\\lib\\site-packages\\openfl\\component\\collaborator\\collaborator.py#171\u001b\\\u001b[2m171\u001b[0m\u001b]8;;\u001b\\\n"
      ]
     },
     "metadata": {},
     "output_type": "display_data"
    },
    {
     "data": {
      "text/html": [
       "<pre style=\"white-space:pre;overflow-x:auto;line-height:normal;font-family:Menlo,'DejaVu Sans Mono',consolas,'Courier New',monospace\"><span style=\"color: #7fbfbf; text-decoration-color: #7fbfbf\">           </span><span style=\"color: #000080; text-decoration-color: #000080\">INFO    </span> Waiting for tasks<span style=\"color: #808000; text-decoration-color: #808000\">...</span>                                                                                                     <a href=\"file://C:\\Users\\BHSU\\AppData\\Local\\Programs\\Python\\Python39\\lib\\site-packages\\openfl\\component\\collaborator\\collaborator.py\" target=\"_blank\"><span style=\"color: #7f7f7f; text-decoration-color: #7f7f7f\">collaborator.py</span></a><span style=\"color: #7f7f7f; text-decoration-color: #7f7f7f\">:</span><a href=\"file://C:\\Users\\BHSU\\AppData\\Local\\Programs\\Python\\Python39\\lib\\site-packages\\openfl\\component\\collaborator\\collaborator.py#178\" target=\"_blank\"><span style=\"color: #7f7f7f; text-decoration-color: #7f7f7f\">178</span></a>\n",
       "</pre>\n"
      ],
      "text/plain": [
       "\u001b[2;36m          \u001b[0m\u001b[2;36m \u001b[0m\u001b[34mINFO    \u001b[0m Waiting for tasks\u001b[33m...\u001b[0m                                                                                                     \u001b]8;id=885499;file://C:\\Users\\BHSU\\AppData\\Local\\Programs\\Python\\Python39\\lib\\site-packages\\openfl\\component\\collaborator\\collaborator.py\u001b\\\u001b[2mcollaborator.py\u001b[0m\u001b]8;;\u001b\\\u001b[2m:\u001b[0m\u001b]8;id=906310;file://C:\\Users\\BHSU\\AppData\\Local\\Programs\\Python\\Python39\\lib\\site-packages\\openfl\\component\\collaborator\\collaborator.py#178\u001b\\\u001b[2m178\u001b[0m\u001b]8;;\u001b\\\n"
      ]
     },
     "metadata": {},
     "output_type": "display_data"
    },
    {
     "data": {
      "text/html": [
       "<pre style=\"white-space:pre;overflow-x:auto;line-height:normal;font-family:Menlo,'DejaVu Sans Mono',consolas,'Courier New',monospace\"><span style=\"color: #7fbfbf; text-decoration-color: #7fbfbf\">           </span><span style=\"color: #000080; text-decoration-color: #000080\">INFO    </span> Sending tasks to collaborator two for round <span style=\"color: #008080; text-decoration-color: #008080; font-weight: bold\">3</span>                                                                              <a href=\"file://C:\\Users\\BHSU\\AppData\\Local\\Programs\\Python\\Python39\\lib\\site-packages\\openfl\\component\\aggregator\\aggregator.py\" target=\"_blank\"><span style=\"color: #7f7f7f; text-decoration-color: #7f7f7f\">aggregator.py</span></a><span style=\"color: #7f7f7f; text-decoration-color: #7f7f7f\">:</span><a href=\"file://C:\\Users\\BHSU\\AppData\\Local\\Programs\\Python\\Python39\\lib\\site-packages\\openfl\\component\\aggregator\\aggregator.py#329\" target=\"_blank\"><span style=\"color: #7f7f7f; text-decoration-color: #7f7f7f\">329</span></a>\n",
       "</pre>\n"
      ],
      "text/plain": [
       "\u001b[2;36m          \u001b[0m\u001b[2;36m \u001b[0m\u001b[34mINFO    \u001b[0m Sending tasks to collaborator two for round \u001b[1;36m3\u001b[0m                                                                              \u001b]8;id=746058;file://C:\\Users\\BHSU\\AppData\\Local\\Programs\\Python\\Python39\\lib\\site-packages\\openfl\\component\\aggregator\\aggregator.py\u001b\\\u001b[2maggregator.py\u001b[0m\u001b]8;;\u001b\\\u001b[2m:\u001b[0m\u001b]8;id=965916;file://C:\\Users\\BHSU\\AppData\\Local\\Programs\\Python\\Python39\\lib\\site-packages\\openfl\\component\\aggregator\\aggregator.py#329\u001b\\\u001b[2m329\u001b[0m\u001b]8;;\u001b\\\n"
      ]
     },
     "metadata": {},
     "output_type": "display_data"
    },
    {
     "data": {
      "text/html": [
       "<pre style=\"white-space:pre;overflow-x:auto;line-height:normal;font-family:Menlo,'DejaVu Sans Mono',consolas,'Courier New',monospace\"><span style=\"color: #7fbfbf; text-decoration-color: #7fbfbf\">           </span><span style=\"color: #000080; text-decoration-color: #000080\">INFO    </span> Received the following tasks: <span style=\"font-weight: bold\">[</span><span style=\"color: #008000; text-decoration-color: #008000\">'aggregated_model_validation'</span>, <span style=\"color: #008000; text-decoration-color: #008000\">'train'</span>, <span style=\"color: #008000; text-decoration-color: #008000\">'locally_tuned_model_validation'</span><span style=\"font-weight: bold\">]</span>                 <a href=\"file://C:\\Users\\BHSU\\AppData\\Local\\Programs\\Python\\Python39\\lib\\site-packages\\openfl\\component\\collaborator\\collaborator.py\" target=\"_blank\"><span style=\"color: #7f7f7f; text-decoration-color: #7f7f7f\">collaborator.py</span></a><span style=\"color: #7f7f7f; text-decoration-color: #7f7f7f\">:</span><a href=\"file://C:\\Users\\BHSU\\AppData\\Local\\Programs\\Python\\Python39\\lib\\site-packages\\openfl\\component\\collaborator\\collaborator.py#168\" target=\"_blank\"><span style=\"color: #7f7f7f; text-decoration-color: #7f7f7f\">168</span></a>\n",
       "</pre>\n"
      ],
      "text/plain": [
       "\u001b[2;36m          \u001b[0m\u001b[2;36m \u001b[0m\u001b[34mINFO    \u001b[0m Received the following tasks: \u001b[1m[\u001b[0m\u001b[32m'aggregated_model_validation'\u001b[0m, \u001b[32m'train'\u001b[0m, \u001b[32m'locally_tuned_model_validation'\u001b[0m\u001b[1m]\u001b[0m                 \u001b]8;id=296380;file://C:\\Users\\BHSU\\AppData\\Local\\Programs\\Python\\Python39\\lib\\site-packages\\openfl\\component\\collaborator\\collaborator.py\u001b\\\u001b[2mcollaborator.py\u001b[0m\u001b]8;;\u001b\\\u001b[2m:\u001b[0m\u001b]8;id=797557;file://C:\\Users\\BHSU\\AppData\\Local\\Programs\\Python\\Python39\\lib\\site-packages\\openfl\\component\\collaborator\\collaborator.py#168\u001b\\\u001b[2m168\u001b[0m\u001b]8;;\u001b\\\n"
      ]
     },
     "metadata": {},
     "output_type": "display_data"
    },
    {
     "data": {
      "text/html": [
       "<pre style=\"white-space:pre;overflow-x:auto;line-height:normal;font-family:Menlo,'DejaVu Sans Mono',consolas,'Courier New',monospace\"><span style=\"color: #7fbfbf; text-decoration-color: #7fbfbf\">           </span><span style=\"color: #000080; text-decoration-color: #000080\">INFO    </span> Using TaskRunner subclassing API                                                                                         <a href=\"file://C:\\Users\\BHSU\\AppData\\Local\\Programs\\Python\\Python39\\lib\\site-packages\\openfl\\component\\collaborator\\collaborator.py\" target=\"_blank\"><span style=\"color: #7f7f7f; text-decoration-color: #7f7f7f\">collaborator.py</span></a><span style=\"color: #7f7f7f; text-decoration-color: #7f7f7f\">:</span><a href=\"file://C:\\Users\\BHSU\\AppData\\Local\\Programs\\Python\\Python39\\lib\\site-packages\\openfl\\component\\collaborator\\collaborator.py#253\" target=\"_blank\"><span style=\"color: #7f7f7f; text-decoration-color: #7f7f7f\">253</span></a>\n",
       "</pre>\n"
      ],
      "text/plain": [
       "\u001b[2;36m          \u001b[0m\u001b[2;36m \u001b[0m\u001b[34mINFO    \u001b[0m Using TaskRunner subclassing API                                                                                         \u001b]8;id=427772;file://C:\\Users\\BHSU\\AppData\\Local\\Programs\\Python\\Python39\\lib\\site-packages\\openfl\\component\\collaborator\\collaborator.py\u001b\\\u001b[2mcollaborator.py\u001b[0m\u001b]8;;\u001b\\\u001b[2m:\u001b[0m\u001b]8;id=307067;file://C:\\Users\\BHSU\\AppData\\Local\\Programs\\Python\\Python39\\lib\\site-packages\\openfl\\component\\collaborator\\collaborator.py#253\u001b\\\u001b[2m253\u001b[0m\u001b]8;;\u001b\\\n"
      ]
     },
     "metadata": {},
     "output_type": "display_data"
    },
    {
     "name": "stdout",
     "output_type": "stream",
     "text": [
      "282/282 [==============================] - 0s 495us/step - loss: 0.2112 - accuracy: 0.9371\n"
     ]
    },
    {
     "data": {
      "text/html": [
       "<pre style=\"white-space:pre;overflow-x:auto;line-height:normal;font-family:Menlo,'DejaVu Sans Mono',consolas,'Courier New',monospace\"><span style=\"color: #7fbfbf; text-decoration-color: #7fbfbf\">           </span>METRIC   Round <span style=\"color: #008080; text-decoration-color: #008080; font-weight: bold\">3</span>, collaborator two is sending metric for task aggregated_model_validation: accuracy      <span style=\"color: #008080; text-decoration-color: #008080; font-weight: bold\">0.937111</span>                 <a href=\"file://C:\\Users\\BHSU\\AppData\\Local\\Programs\\Python\\Python39\\lib\\site-packages\\openfl\\component\\collaborator\\collaborator.py\" target=\"_blank\"><span style=\"color: #7f7f7f; text-decoration-color: #7f7f7f\">collaborator.py</span></a><span style=\"color: #7f7f7f; text-decoration-color: #7f7f7f\">:</span><a href=\"file://C:\\Users\\BHSU\\AppData\\Local\\Programs\\Python\\Python39\\lib\\site-packages\\openfl\\component\\collaborator\\collaborator.py#415\" target=\"_blank\"><span style=\"color: #7f7f7f; text-decoration-color: #7f7f7f\">415</span></a>\n",
       "</pre>\n"
      ],
      "text/plain": [
       "\u001b[2;36m          \u001b[0m\u001b[2;36m \u001b[0mMETRIC   Round \u001b[1;36m3\u001b[0m, collaborator two is sending metric for task aggregated_model_validation: accuracy      \u001b[1;36m0.937111\u001b[0m                 \u001b]8;id=331773;file://C:\\Users\\BHSU\\AppData\\Local\\Programs\\Python\\Python39\\lib\\site-packages\\openfl\\component\\collaborator\\collaborator.py\u001b\\\u001b[2mcollaborator.py\u001b[0m\u001b]8;;\u001b\\\u001b[2m:\u001b[0m\u001b]8;id=954217;file://C:\\Users\\BHSU\\AppData\\Local\\Programs\\Python\\Python39\\lib\\site-packages\\openfl\\component\\collaborator\\collaborator.py#415\u001b\\\u001b[2m415\u001b[0m\u001b]8;;\u001b\\\n"
      ]
     },
     "metadata": {},
     "output_type": "display_data"
    },
    {
     "data": {
      "text/html": [
       "<pre style=\"white-space:pre;overflow-x:auto;line-height:normal;font-family:Menlo,'DejaVu Sans Mono',consolas,'Courier New',monospace\"><span style=\"color: #7fbfbf; text-decoration-color: #7fbfbf\">           </span><span style=\"color: #000080; text-decoration-color: #000080\">INFO    </span> Collaborator two is sending task results for aggregated_model_validation, round <span style=\"color: #008080; text-decoration-color: #008080; font-weight: bold\">3</span>                                          <a href=\"file://C:\\Users\\BHSU\\AppData\\Local\\Programs\\Python\\Python39\\lib\\site-packages\\openfl\\component\\aggregator\\aggregator.py\" target=\"_blank\"><span style=\"color: #7f7f7f; text-decoration-color: #7f7f7f\">aggregator.py</span></a><span style=\"color: #7f7f7f; text-decoration-color: #7f7f7f\">:</span><a href=\"file://C:\\Users\\BHSU\\AppData\\Local\\Programs\\Python\\Python39\\lib\\site-packages\\openfl\\component\\aggregator\\aggregator.py#520\" target=\"_blank\"><span style=\"color: #7f7f7f; text-decoration-color: #7f7f7f\">520</span></a>\n",
       "</pre>\n"
      ],
      "text/plain": [
       "\u001b[2;36m          \u001b[0m\u001b[2;36m \u001b[0m\u001b[34mINFO    \u001b[0m Collaborator two is sending task results for aggregated_model_validation, round \u001b[1;36m3\u001b[0m                                          \u001b]8;id=861712;file://C:\\Users\\BHSU\\AppData\\Local\\Programs\\Python\\Python39\\lib\\site-packages\\openfl\\component\\aggregator\\aggregator.py\u001b\\\u001b[2maggregator.py\u001b[0m\u001b]8;;\u001b\\\u001b[2m:\u001b[0m\u001b]8;id=946493;file://C:\\Users\\BHSU\\AppData\\Local\\Programs\\Python\\Python39\\lib\\site-packages\\openfl\\component\\aggregator\\aggregator.py#520\u001b\\\u001b[2m520\u001b[0m\u001b]8;;\u001b\\\n"
      ]
     },
     "metadata": {},
     "output_type": "display_data"
    },
    {
     "data": {
      "text/html": [
       "<pre style=\"white-space:pre;overflow-x:auto;line-height:normal;font-family:Menlo,'DejaVu Sans Mono',consolas,'Courier New',monospace\"><span style=\"color: #7fbfbf; text-decoration-color: #7fbfbf\">           </span>METRIC   Round <span style=\"color: #008080; text-decoration-color: #008080; font-weight: bold\">3</span>, collaborator validate_agg aggregated_model_validation result accuracy: <span style=\"color: #008080; text-decoration-color: #008080; font-weight: bold\">0.937111</span>                                   <a href=\"file://C:\\Users\\BHSU\\AppData\\Local\\Programs\\Python\\Python39\\lib\\site-packages\\openfl\\component\\aggregator\\aggregator.py\" target=\"_blank\"><span style=\"color: #7f7f7f; text-decoration-color: #7f7f7f\">aggregator.py</span></a><span style=\"color: #7f7f7f; text-decoration-color: #7f7f7f\">:</span><a href=\"file://C:\\Users\\BHSU\\AppData\\Local\\Programs\\Python\\Python39\\lib\\site-packages\\openfl\\component\\aggregator\\aggregator.py#559\" target=\"_blank\"><span style=\"color: #7f7f7f; text-decoration-color: #7f7f7f\">559</span></a>\n",
       "</pre>\n"
      ],
      "text/plain": [
       "\u001b[2;36m          \u001b[0m\u001b[2;36m \u001b[0mMETRIC   Round \u001b[1;36m3\u001b[0m, collaborator validate_agg aggregated_model_validation result accuracy: \u001b[1;36m0.937111\u001b[0m                                   \u001b]8;id=407381;file://C:\\Users\\BHSU\\AppData\\Local\\Programs\\Python\\Python39\\lib\\site-packages\\openfl\\component\\aggregator\\aggregator.py\u001b\\\u001b[2maggregator.py\u001b[0m\u001b]8;;\u001b\\\u001b[2m:\u001b[0m\u001b]8;id=412797;file://C:\\Users\\BHSU\\AppData\\Local\\Programs\\Python\\Python39\\lib\\site-packages\\openfl\\component\\aggregator\\aggregator.py#559\u001b\\\u001b[2m559\u001b[0m\u001b]8;;\u001b\\\n"
      ]
     },
     "metadata": {},
     "output_type": "display_data"
    },
    {
     "data": {
      "text/html": [
       "<pre style=\"white-space:pre;overflow-x:auto;line-height:normal;font-family:Menlo,'DejaVu Sans Mono',consolas,'Courier New',monospace\"><span style=\"color: #7fbfbf; text-decoration-color: #7fbfbf\">           </span><span style=\"color: #000080; text-decoration-color: #000080\">INFO    </span> Using TaskRunner subclassing API                                                                                         <a href=\"file://C:\\Users\\BHSU\\AppData\\Local\\Programs\\Python\\Python39\\lib\\site-packages\\openfl\\component\\collaborator\\collaborator.py\" target=\"_blank\"><span style=\"color: #7f7f7f; text-decoration-color: #7f7f7f\">collaborator.py</span></a><span style=\"color: #7f7f7f; text-decoration-color: #7f7f7f\">:</span><a href=\"file://C:\\Users\\BHSU\\AppData\\Local\\Programs\\Python\\Python39\\lib\\site-packages\\openfl\\component\\collaborator\\collaborator.py#253\" target=\"_blank\"><span style=\"color: #7f7f7f; text-decoration-color: #7f7f7f\">253</span></a>\n",
       "</pre>\n"
      ],
      "text/plain": [
       "\u001b[2;36m          \u001b[0m\u001b[2;36m \u001b[0m\u001b[34mINFO    \u001b[0m Using TaskRunner subclassing API                                                                                         \u001b]8;id=81927;file://C:\\Users\\BHSU\\AppData\\Local\\Programs\\Python\\Python39\\lib\\site-packages\\openfl\\component\\collaborator\\collaborator.py\u001b\\\u001b[2mcollaborator.py\u001b[0m\u001b]8;;\u001b\\\u001b[2m:\u001b[0m\u001b]8;id=264709;file://C:\\Users\\BHSU\\AppData\\Local\\Programs\\Python\\Python39\\lib\\site-packages\\openfl\\component\\collaborator\\collaborator.py#253\u001b\\\u001b[2m253\u001b[0m\u001b]8;;\u001b\\\n"
      ]
     },
     "metadata": {},
     "output_type": "display_data"
    },
    {
     "data": {
      "text/html": [
       "<pre style=\"white-space:pre;overflow-x:auto;line-height:normal;font-family:Menlo,'DejaVu Sans Mono',consolas,'Courier New',monospace\"><span style=\"color: #7fbfbf; text-decoration-color: #7fbfbf\">           </span><span style=\"color: #000080; text-decoration-color: #000080\">INFO    </span> Run <span style=\"color: #008080; text-decoration-color: #008080; font-weight: bold\">0</span> epoch of <span style=\"color: #008080; text-decoration-color: #008080; font-weight: bold\">3</span> round                                                                                                    <a href=\"file://C:\\Users\\BHSU\\AppData\\Local\\Programs\\Python\\Python39\\lib\\site-packages\\openfl\\federated\\task\\runner_keras.py\" target=\"_blank\"><span style=\"color: #7f7f7f; text-decoration-color: #7f7f7f\">runner_keras.py</span></a><span style=\"color: #7f7f7f; text-decoration-color: #7f7f7f\">:</span><a href=\"file://C:\\Users\\BHSU\\AppData\\Local\\Programs\\Python\\Python39\\lib\\site-packages\\openfl\\federated\\task\\runner_keras.py#83\" target=\"_blank\"><span style=\"color: #7f7f7f; text-decoration-color: #7f7f7f\">83</span></a>\n",
       "</pre>\n"
      ],
      "text/plain": [
       "\u001b[2;36m          \u001b[0m\u001b[2;36m \u001b[0m\u001b[34mINFO    \u001b[0m Run \u001b[1;36m0\u001b[0m epoch of \u001b[1;36m3\u001b[0m round                                                                                                    \u001b]8;id=848147;file://C:\\Users\\BHSU\\AppData\\Local\\Programs\\Python\\Python39\\lib\\site-packages\\openfl\\federated\\task\\runner_keras.py\u001b\\\u001b[2mrunner_keras.py\u001b[0m\u001b]8;;\u001b\\\u001b[2m:\u001b[0m\u001b]8;id=23836;file://C:\\Users\\BHSU\\AppData\\Local\\Programs\\Python\\Python39\\lib\\site-packages\\openfl\\federated\\task\\runner_keras.py#83\u001b\\\u001b[2m83\u001b[0m\u001b]8;;\u001b\\\n"
      ]
     },
     "metadata": {},
     "output_type": "display_data"
    },
    {
     "name": "stdout",
     "output_type": "stream",
     "text": [
      "657/657 [==============================] - 0s 627us/step - loss: 0.1756 - accuracy: 0.9447\n"
     ]
    },
    {
     "data": {
      "text/html": [
       "<pre style=\"white-space:pre;overflow-x:auto;line-height:normal;font-family:Menlo,'DejaVu Sans Mono',consolas,'Courier New',monospace\"><span style=\"color: #7fbfbf; text-decoration-color: #7fbfbf\">[09:22:52] </span>METRIC   Round <span style=\"color: #008080; text-decoration-color: #008080; font-weight: bold\">3</span>, collaborator two is sending metric for task train: loss        <span style=\"color: #008080; text-decoration-color: #008080; font-weight: bold\">0.175601</span>                                         <a href=\"file://C:\\Users\\BHSU\\AppData\\Local\\Programs\\Python\\Python39\\lib\\site-packages\\openfl\\component\\collaborator\\collaborator.py\" target=\"_blank\"><span style=\"color: #7f7f7f; text-decoration-color: #7f7f7f\">collaborator.py</span></a><span style=\"color: #7f7f7f; text-decoration-color: #7f7f7f\">:</span><a href=\"file://C:\\Users\\BHSU\\AppData\\Local\\Programs\\Python\\Python39\\lib\\site-packages\\openfl\\component\\collaborator\\collaborator.py#415\" target=\"_blank\"><span style=\"color: #7f7f7f; text-decoration-color: #7f7f7f\">415</span></a>\n",
       "</pre>\n"
      ],
      "text/plain": [
       "\u001b[2;36m[09:22:52]\u001b[0m\u001b[2;36m \u001b[0mMETRIC   Round \u001b[1;36m3\u001b[0m, collaborator two is sending metric for task train: loss        \u001b[1;36m0.175601\u001b[0m                                         \u001b]8;id=869896;file://C:\\Users\\BHSU\\AppData\\Local\\Programs\\Python\\Python39\\lib\\site-packages\\openfl\\component\\collaborator\\collaborator.py\u001b\\\u001b[2mcollaborator.py\u001b[0m\u001b]8;;\u001b\\\u001b[2m:\u001b[0m\u001b]8;id=772078;file://C:\\Users\\BHSU\\AppData\\Local\\Programs\\Python\\Python39\\lib\\site-packages\\openfl\\component\\collaborator\\collaborator.py#415\u001b\\\u001b[2m415\u001b[0m\u001b]8;;\u001b\\\n"
      ]
     },
     "metadata": {},
     "output_type": "display_data"
    },
    {
     "data": {
      "text/html": [
       "<pre style=\"white-space:pre;overflow-x:auto;line-height:normal;font-family:Menlo,'DejaVu Sans Mono',consolas,'Courier New',monospace\"><span style=\"color: #7fbfbf; text-decoration-color: #7fbfbf\">           </span><span style=\"color: #000080; text-decoration-color: #000080\">INFO    </span> Collaborator two is sending task results for train, round <span style=\"color: #008080; text-decoration-color: #008080; font-weight: bold\">3</span>                                                                <a href=\"file://C:\\Users\\BHSU\\AppData\\Local\\Programs\\Python\\Python39\\lib\\site-packages\\openfl\\component\\aggregator\\aggregator.py\" target=\"_blank\"><span style=\"color: #7f7f7f; text-decoration-color: #7f7f7f\">aggregator.py</span></a><span style=\"color: #7f7f7f; text-decoration-color: #7f7f7f\">:</span><a href=\"file://C:\\Users\\BHSU\\AppData\\Local\\Programs\\Python\\Python39\\lib\\site-packages\\openfl\\component\\aggregator\\aggregator.py#520\" target=\"_blank\"><span style=\"color: #7f7f7f; text-decoration-color: #7f7f7f\">520</span></a>\n",
       "</pre>\n"
      ],
      "text/plain": [
       "\u001b[2;36m          \u001b[0m\u001b[2;36m \u001b[0m\u001b[34mINFO    \u001b[0m Collaborator two is sending task results for train, round \u001b[1;36m3\u001b[0m                                                                \u001b]8;id=152278;file://C:\\Users\\BHSU\\AppData\\Local\\Programs\\Python\\Python39\\lib\\site-packages\\openfl\\component\\aggregator\\aggregator.py\u001b\\\u001b[2maggregator.py\u001b[0m\u001b]8;;\u001b\\\u001b[2m:\u001b[0m\u001b]8;id=317275;file://C:\\Users\\BHSU\\AppData\\Local\\Programs\\Python\\Python39\\lib\\site-packages\\openfl\\component\\aggregator\\aggregator.py#520\u001b\\\u001b[2m520\u001b[0m\u001b]8;;\u001b\\\n"
      ]
     },
     "metadata": {},
     "output_type": "display_data"
    },
    {
     "data": {
      "text/html": [
       "<pre style=\"white-space:pre;overflow-x:auto;line-height:normal;font-family:Menlo,'DejaVu Sans Mono',consolas,'Courier New',monospace\"><span style=\"color: #7fbfbf; text-decoration-color: #7fbfbf\">           </span>METRIC   Round <span style=\"color: #008080; text-decoration-color: #008080; font-weight: bold\">3</span>, collaborator two train result loss:    <span style=\"color: #008080; text-decoration-color: #008080; font-weight: bold\">0.175601</span>                                                                   <a href=\"file://C:\\Users\\BHSU\\AppData\\Local\\Programs\\Python\\Python39\\lib\\site-packages\\openfl\\component\\aggregator\\aggregator.py\" target=\"_blank\"><span style=\"color: #7f7f7f; text-decoration-color: #7f7f7f\">aggregator.py</span></a><span style=\"color: #7f7f7f; text-decoration-color: #7f7f7f\">:</span><a href=\"file://C:\\Users\\BHSU\\AppData\\Local\\Programs\\Python\\Python39\\lib\\site-packages\\openfl\\component\\aggregator\\aggregator.py#559\" target=\"_blank\"><span style=\"color: #7f7f7f; text-decoration-color: #7f7f7f\">559</span></a>\n",
       "</pre>\n"
      ],
      "text/plain": [
       "\u001b[2;36m          \u001b[0m\u001b[2;36m \u001b[0mMETRIC   Round \u001b[1;36m3\u001b[0m, collaborator two train result loss:    \u001b[1;36m0.175601\u001b[0m                                                                   \u001b]8;id=708796;file://C:\\Users\\BHSU\\AppData\\Local\\Programs\\Python\\Python39\\lib\\site-packages\\openfl\\component\\aggregator\\aggregator.py\u001b\\\u001b[2maggregator.py\u001b[0m\u001b]8;;\u001b\\\u001b[2m:\u001b[0m\u001b]8;id=630138;file://C:\\Users\\BHSU\\AppData\\Local\\Programs\\Python\\Python39\\lib\\site-packages\\openfl\\component\\aggregator\\aggregator.py#559\u001b\\\u001b[2m559\u001b[0m\u001b]8;;\u001b\\\n"
      ]
     },
     "metadata": {},
     "output_type": "display_data"
    },
    {
     "data": {
      "text/html": [
       "<pre style=\"white-space:pre;overflow-x:auto;line-height:normal;font-family:Menlo,'DejaVu Sans Mono',consolas,'Courier New',monospace\"><span style=\"color: #7fbfbf; text-decoration-color: #7fbfbf\">           </span><span style=\"color: #000080; text-decoration-color: #000080\">INFO    </span> Using TaskRunner subclassing API                                                                                         <a href=\"file://C:\\Users\\BHSU\\AppData\\Local\\Programs\\Python\\Python39\\lib\\site-packages\\openfl\\component\\collaborator\\collaborator.py\" target=\"_blank\"><span style=\"color: #7f7f7f; text-decoration-color: #7f7f7f\">collaborator.py</span></a><span style=\"color: #7f7f7f; text-decoration-color: #7f7f7f\">:</span><a href=\"file://C:\\Users\\BHSU\\AppData\\Local\\Programs\\Python\\Python39\\lib\\site-packages\\openfl\\component\\collaborator\\collaborator.py#253\" target=\"_blank\"><span style=\"color: #7f7f7f; text-decoration-color: #7f7f7f\">253</span></a>\n",
       "</pre>\n"
      ],
      "text/plain": [
       "\u001b[2;36m          \u001b[0m\u001b[2;36m \u001b[0m\u001b[34mINFO    \u001b[0m Using TaskRunner subclassing API                                                                                         \u001b]8;id=355370;file://C:\\Users\\BHSU\\AppData\\Local\\Programs\\Python\\Python39\\lib\\site-packages\\openfl\\component\\collaborator\\collaborator.py\u001b\\\u001b[2mcollaborator.py\u001b[0m\u001b]8;;\u001b\\\u001b[2m:\u001b[0m\u001b]8;id=710814;file://C:\\Users\\BHSU\\AppData\\Local\\Programs\\Python\\Python39\\lib\\site-packages\\openfl\\component\\collaborator\\collaborator.py#253\u001b\\\u001b[2m253\u001b[0m\u001b]8;;\u001b\\\n"
      ]
     },
     "metadata": {},
     "output_type": "display_data"
    },
    {
     "name": "stdout",
     "output_type": "stream",
     "text": [
      "282/282 [==============================] - 0s 505us/step - loss: 0.2001 - accuracy: 0.9409\n"
     ]
    },
    {
     "data": {
      "text/html": [
       "<pre style=\"white-space:pre;overflow-x:auto;line-height:normal;font-family:Menlo,'DejaVu Sans Mono',consolas,'Courier New',monospace\"><span style=\"color: #7fbfbf; text-decoration-color: #7fbfbf\">           </span>METRIC   Round <span style=\"color: #008080; text-decoration-color: #008080; font-weight: bold\">3</span>, collaborator two is sending metric for task locally_tuned_model_validation: accuracy   <span style=\"color: #008080; text-decoration-color: #008080; font-weight: bold\">0.940889</span>                 <a href=\"file://C:\\Users\\BHSU\\AppData\\Local\\Programs\\Python\\Python39\\lib\\site-packages\\openfl\\component\\collaborator\\collaborator.py\" target=\"_blank\"><span style=\"color: #7f7f7f; text-decoration-color: #7f7f7f\">collaborator.py</span></a><span style=\"color: #7f7f7f; text-decoration-color: #7f7f7f\">:</span><a href=\"file://C:\\Users\\BHSU\\AppData\\Local\\Programs\\Python\\Python39\\lib\\site-packages\\openfl\\component\\collaborator\\collaborator.py#415\" target=\"_blank\"><span style=\"color: #7f7f7f; text-decoration-color: #7f7f7f\">415</span></a>\n",
       "</pre>\n"
      ],
      "text/plain": [
       "\u001b[2;36m          \u001b[0m\u001b[2;36m \u001b[0mMETRIC   Round \u001b[1;36m3\u001b[0m, collaborator two is sending metric for task locally_tuned_model_validation: accuracy   \u001b[1;36m0.940889\u001b[0m                 \u001b]8;id=254627;file://C:\\Users\\BHSU\\AppData\\Local\\Programs\\Python\\Python39\\lib\\site-packages\\openfl\\component\\collaborator\\collaborator.py\u001b\\\u001b[2mcollaborator.py\u001b[0m\u001b]8;;\u001b\\\u001b[2m:\u001b[0m\u001b]8;id=928396;file://C:\\Users\\BHSU\\AppData\\Local\\Programs\\Python\\Python39\\lib\\site-packages\\openfl\\component\\collaborator\\collaborator.py#415\u001b\\\u001b[2m415\u001b[0m\u001b]8;;\u001b\\\n"
      ]
     },
     "metadata": {},
     "output_type": "display_data"
    },
    {
     "data": {
      "text/html": [
       "<pre style=\"white-space:pre;overflow-x:auto;line-height:normal;font-family:Menlo,'DejaVu Sans Mono',consolas,'Courier New',monospace\"><span style=\"color: #7fbfbf; text-decoration-color: #7fbfbf\">           </span><span style=\"color: #000080; text-decoration-color: #000080\">INFO    </span> Collaborator two is sending task results for locally_tuned_model_validation, round <span style=\"color: #008080; text-decoration-color: #008080; font-weight: bold\">3</span>                                       <a href=\"file://C:\\Users\\BHSU\\AppData\\Local\\Programs\\Python\\Python39\\lib\\site-packages\\openfl\\component\\aggregator\\aggregator.py\" target=\"_blank\"><span style=\"color: #7f7f7f; text-decoration-color: #7f7f7f\">aggregator.py</span></a><span style=\"color: #7f7f7f; text-decoration-color: #7f7f7f\">:</span><a href=\"file://C:\\Users\\BHSU\\AppData\\Local\\Programs\\Python\\Python39\\lib\\site-packages\\openfl\\component\\aggregator\\aggregator.py#520\" target=\"_blank\"><span style=\"color: #7f7f7f; text-decoration-color: #7f7f7f\">520</span></a>\n",
       "</pre>\n"
      ],
      "text/plain": [
       "\u001b[2;36m          \u001b[0m\u001b[2;36m \u001b[0m\u001b[34mINFO    \u001b[0m Collaborator two is sending task results for locally_tuned_model_validation, round \u001b[1;36m3\u001b[0m                                       \u001b]8;id=285422;file://C:\\Users\\BHSU\\AppData\\Local\\Programs\\Python\\Python39\\lib\\site-packages\\openfl\\component\\aggregator\\aggregator.py\u001b\\\u001b[2maggregator.py\u001b[0m\u001b]8;;\u001b\\\u001b[2m:\u001b[0m\u001b]8;id=948739;file://C:\\Users\\BHSU\\AppData\\Local\\Programs\\Python\\Python39\\lib\\site-packages\\openfl\\component\\aggregator\\aggregator.py#520\u001b\\\u001b[2m520\u001b[0m\u001b]8;;\u001b\\\n"
      ]
     },
     "metadata": {},
     "output_type": "display_data"
    },
    {
     "data": {
      "text/html": [
       "<pre style=\"white-space:pre;overflow-x:auto;line-height:normal;font-family:Menlo,'DejaVu Sans Mono',consolas,'Courier New',monospace\"><span style=\"color: #7fbfbf; text-decoration-color: #7fbfbf\">           </span>METRIC   Round <span style=\"color: #008080; text-decoration-color: #008080; font-weight: bold\">3</span>, collaborator validate_local locally_tuned_model_validation result accuracy:    <span style=\"color: #008080; text-decoration-color: #008080; font-weight: bold\">0.940889</span>                           <a href=\"file://C:\\Users\\BHSU\\AppData\\Local\\Programs\\Python\\Python39\\lib\\site-packages\\openfl\\component\\aggregator\\aggregator.py\" target=\"_blank\"><span style=\"color: #7f7f7f; text-decoration-color: #7f7f7f\">aggregator.py</span></a><span style=\"color: #7f7f7f; text-decoration-color: #7f7f7f\">:</span><a href=\"file://C:\\Users\\BHSU\\AppData\\Local\\Programs\\Python\\Python39\\lib\\site-packages\\openfl\\component\\aggregator\\aggregator.py#559\" target=\"_blank\"><span style=\"color: #7f7f7f; text-decoration-color: #7f7f7f\">559</span></a>\n",
       "</pre>\n"
      ],
      "text/plain": [
       "\u001b[2;36m          \u001b[0m\u001b[2;36m \u001b[0mMETRIC   Round \u001b[1;36m3\u001b[0m, collaborator validate_local locally_tuned_model_validation result accuracy:    \u001b[1;36m0.940889\u001b[0m                           \u001b]8;id=707071;file://C:\\Users\\BHSU\\AppData\\Local\\Programs\\Python\\Python39\\lib\\site-packages\\openfl\\component\\aggregator\\aggregator.py\u001b\\\u001b[2maggregator.py\u001b[0m\u001b]8;;\u001b\\\u001b[2m:\u001b[0m\u001b]8;id=190363;file://C:\\Users\\BHSU\\AppData\\Local\\Programs\\Python\\Python39\\lib\\site-packages\\openfl\\component\\aggregator\\aggregator.py#559\u001b\\\u001b[2m559\u001b[0m\u001b]8;;\u001b\\\n"
      ]
     },
     "metadata": {},
     "output_type": "display_data"
    },
    {
     "data": {
      "text/html": [
       "<pre style=\"white-space:pre;overflow-x:auto;line-height:normal;font-family:Menlo,'DejaVu Sans Mono',consolas,'Courier New',monospace\"><span style=\"color: #7fbfbf; text-decoration-color: #7fbfbf\">           </span>METRIC   Round <span style=\"color: #008080; text-decoration-color: #008080; font-weight: bold\">3</span>, aggregator: locally_tuned_model_validation                                                                        <a href=\"file://C:\\Users\\BHSU\\AppData\\Local\\Programs\\Python\\Python39\\lib\\site-packages\\openfl\\component\\aggregator\\aggregator.py\" target=\"_blank\"><span style=\"color: #7f7f7f; text-decoration-color: #7f7f7f\">aggregator.py</span></a><span style=\"color: #7f7f7f; text-decoration-color: #7f7f7f\">:</span><a href=\"file://C:\\Users\\BHSU\\AppData\\Local\\Programs\\Python\\Python39\\lib\\site-packages\\openfl\\component\\aggregator\\aggregator.py#842\" target=\"_blank\"><span style=\"color: #7f7f7f; text-decoration-color: #7f7f7f\">842</span></a>\n",
       "<span style=\"color: #7fbfbf; text-decoration-color: #7fbfbf\">           </span>         <span style=\"font-weight: bold\">&lt;</span><span style=\"color: #ff00ff; text-decoration-color: #ff00ff; font-weight: bold\">openfl.interface.aggregation_functions.weighted_average.WeightedAverage</span><span style=\"color: #000000; text-decoration-color: #000000\"> object at </span><span style=\"color: #008080; text-decoration-color: #008080; font-weight: bold\">0x0000020F55654AC0</span><span style=\"font-weight: bold\">&gt;</span> accuracy:           <span style=\"color: #7f7f7f; text-decoration-color: #7f7f7f\">                 </span>\n",
       "<span style=\"color: #7fbfbf; text-decoration-color: #7fbfbf\">           </span>         <span style=\"color: #008080; text-decoration-color: #008080; font-weight: bold\">0.939389</span>                                                                                                                   <span style=\"color: #7f7f7f; text-decoration-color: #7f7f7f\">                 </span>\n",
       "</pre>\n"
      ],
      "text/plain": [
       "\u001b[2;36m          \u001b[0m\u001b[2;36m \u001b[0mMETRIC   Round \u001b[1;36m3\u001b[0m, aggregator: locally_tuned_model_validation                                                                        \u001b]8;id=272646;file://C:\\Users\\BHSU\\AppData\\Local\\Programs\\Python\\Python39\\lib\\site-packages\\openfl\\component\\aggregator\\aggregator.py\u001b\\\u001b[2maggregator.py\u001b[0m\u001b]8;;\u001b\\\u001b[2m:\u001b[0m\u001b]8;id=182564;file://C:\\Users\\BHSU\\AppData\\Local\\Programs\\Python\\Python39\\lib\\site-packages\\openfl\\component\\aggregator\\aggregator.py#842\u001b\\\u001b[2m842\u001b[0m\u001b]8;;\u001b\\\n",
       "\u001b[2;36m           \u001b[0m         \u001b[1m<\u001b[0m\u001b[1;95mopenfl.interface.aggregation_functions.weighted_average.WeightedAverage\u001b[0m\u001b[39m object at \u001b[0m\u001b[1;36m0x0000020F55654AC0\u001b[0m\u001b[1m>\u001b[0m accuracy:           \u001b[2m                 \u001b[0m\n",
       "\u001b[2;36m           \u001b[0m         \u001b[1;36m0.939389\u001b[0m                                                                                                                   \u001b[2m                 \u001b[0m\n"
      ]
     },
     "metadata": {},
     "output_type": "display_data"
    },
    {
     "data": {
      "text/html": [
       "<pre style=\"white-space:pre;overflow-x:auto;line-height:normal;font-family:Menlo,'DejaVu Sans Mono',consolas,'Courier New',monospace\"><span style=\"color: #7fbfbf; text-decoration-color: #7fbfbf\">           </span>METRIC   Round <span style=\"color: #008080; text-decoration-color: #008080; font-weight: bold\">3</span>, aggregator: aggregated_model_validation <span style=\"font-weight: bold\">&lt;</span><span style=\"color: #ff00ff; text-decoration-color: #ff00ff; font-weight: bold\">openfl.interface.aggregation_functions.weighted_average.WeightedAverage</span><span style=\"color: #000000; text-decoration-color: #000000\"> </span> <a href=\"file://C:\\Users\\BHSU\\AppData\\Local\\Programs\\Python\\Python39\\lib\\site-packages\\openfl\\component\\aggregator\\aggregator.py\" target=\"_blank\"><span style=\"color: #7f7f7f; text-decoration-color: #7f7f7f\">aggregator.py</span></a><span style=\"color: #7f7f7f; text-decoration-color: #7f7f7f\">:</span><a href=\"file://C:\\Users\\BHSU\\AppData\\Local\\Programs\\Python\\Python39\\lib\\site-packages\\openfl\\component\\aggregator\\aggregator.py#842\" target=\"_blank\"><span style=\"color: #7f7f7f; text-decoration-color: #7f7f7f\">842</span></a>\n",
       "<span style=\"color: #7fbfbf; text-decoration-color: #7fbfbf\">           </span>         <span style=\"color: #000000; text-decoration-color: #000000\">object at </span><span style=\"color: #008080; text-decoration-color: #008080; font-weight: bold\">0x0000020F55654AC0</span><span style=\"font-weight: bold\">&gt;</span> accuracy:       <span style=\"color: #008080; text-decoration-color: #008080; font-weight: bold\">0.939833</span>                                                                     <span style=\"color: #7f7f7f; text-decoration-color: #7f7f7f\">                 </span>\n",
       "</pre>\n"
      ],
      "text/plain": [
       "\u001b[2;36m          \u001b[0m\u001b[2;36m \u001b[0mMETRIC   Round \u001b[1;36m3\u001b[0m, aggregator: aggregated_model_validation \u001b[1m<\u001b[0m\u001b[1;95mopenfl.interface.aggregation_functions.weighted_average.WeightedAverage\u001b[0m\u001b[39m \u001b[0m \u001b]8;id=614289;file://C:\\Users\\BHSU\\AppData\\Local\\Programs\\Python\\Python39\\lib\\site-packages\\openfl\\component\\aggregator\\aggregator.py\u001b\\\u001b[2maggregator.py\u001b[0m\u001b]8;;\u001b\\\u001b[2m:\u001b[0m\u001b]8;id=307912;file://C:\\Users\\BHSU\\AppData\\Local\\Programs\\Python\\Python39\\lib\\site-packages\\openfl\\component\\aggregator\\aggregator.py#842\u001b\\\u001b[2m842\u001b[0m\u001b]8;;\u001b\\\n",
       "\u001b[2;36m           \u001b[0m         \u001b[39mobject at \u001b[0m\u001b[1;36m0x0000020F55654AC0\u001b[0m\u001b[1m>\u001b[0m accuracy:       \u001b[1;36m0.939833\u001b[0m                                                                     \u001b[2m                 \u001b[0m\n"
      ]
     },
     "metadata": {},
     "output_type": "display_data"
    },
    {
     "data": {
      "text/html": [
       "<pre style=\"white-space:pre;overflow-x:auto;line-height:normal;font-family:Menlo,'DejaVu Sans Mono',consolas,'Courier New',monospace\"><span style=\"color: #7fbfbf; text-decoration-color: #7fbfbf\">           </span>METRIC   Round <span style=\"color: #008080; text-decoration-color: #008080; font-weight: bold\">3</span>: saved the best model with score <span style=\"color: #008080; text-decoration-color: #008080; font-weight: bold\">0.939833</span>                                                                          <a href=\"file://C:\\Users\\BHSU\\AppData\\Local\\Programs\\Python\\Python39\\lib\\site-packages\\openfl\\component\\aggregator\\aggregator.py\" target=\"_blank\"><span style=\"color: #7f7f7f; text-decoration-color: #7f7f7f\">aggregator.py</span></a><span style=\"color: #7f7f7f; text-decoration-color: #7f7f7f\">:</span><a href=\"file://C:\\Users\\BHSU\\AppData\\Local\\Programs\\Python\\Python39\\lib\\site-packages\\openfl\\component\\aggregator\\aggregator.py#858\" target=\"_blank\"><span style=\"color: #7f7f7f; text-decoration-color: #7f7f7f\">858</span></a>\n",
       "</pre>\n"
      ],
      "text/plain": [
       "\u001b[2;36m          \u001b[0m\u001b[2;36m \u001b[0mMETRIC   Round \u001b[1;36m3\u001b[0m: saved the best model with score \u001b[1;36m0.939833\u001b[0m                                                                          \u001b]8;id=988829;file://C:\\Users\\BHSU\\AppData\\Local\\Programs\\Python\\Python39\\lib\\site-packages\\openfl\\component\\aggregator\\aggregator.py\u001b\\\u001b[2maggregator.py\u001b[0m\u001b]8;;\u001b\\\u001b[2m:\u001b[0m\u001b]8;id=246328;file://C:\\Users\\BHSU\\AppData\\Local\\Programs\\Python\\Python39\\lib\\site-packages\\openfl\\component\\aggregator\\aggregator.py#858\u001b\\\u001b[2m858\u001b[0m\u001b]8;;\u001b\\\n"
      ]
     },
     "metadata": {},
     "output_type": "display_data"
    },
    {
     "data": {
      "text/html": [
       "<pre style=\"white-space:pre;overflow-x:auto;line-height:normal;font-family:Menlo,'DejaVu Sans Mono',consolas,'Courier New',monospace\"><span style=\"color: #7fbfbf; text-decoration-color: #7fbfbf\">           </span>METRIC   Round <span style=\"color: #008080; text-decoration-color: #008080; font-weight: bold\">3</span>, aggregator: train <span style=\"font-weight: bold\">&lt;</span><span style=\"color: #ff00ff; text-decoration-color: #ff00ff; font-weight: bold\">openfl.interface.aggregation_functions.weighted_average.WeightedAverage</span><span style=\"color: #000000; text-decoration-color: #000000\"> object at </span>             <a href=\"file://C:\\Users\\BHSU\\AppData\\Local\\Programs\\Python\\Python39\\lib\\site-packages\\openfl\\component\\aggregator\\aggregator.py\" target=\"_blank\"><span style=\"color: #7f7f7f; text-decoration-color: #7f7f7f\">aggregator.py</span></a><span style=\"color: #7f7f7f; text-decoration-color: #7f7f7f\">:</span><a href=\"file://C:\\Users\\BHSU\\AppData\\Local\\Programs\\Python\\Python39\\lib\\site-packages\\openfl\\component\\aggregator\\aggregator.py#842\" target=\"_blank\"><span style=\"color: #7f7f7f; text-decoration-color: #7f7f7f\">842</span></a>\n",
       "<span style=\"color: #7fbfbf; text-decoration-color: #7fbfbf\">           </span>         <span style=\"color: #008080; text-decoration-color: #008080; font-weight: bold\">0x0000020F55654AC0</span><span style=\"font-weight: bold\">&gt;</span> loss: <span style=\"color: #008080; text-decoration-color: #008080; font-weight: bold\">0.181007</span>                                                                                         <span style=\"color: #7f7f7f; text-decoration-color: #7f7f7f\">                 </span>\n",
       "</pre>\n"
      ],
      "text/plain": [
       "\u001b[2;36m          \u001b[0m\u001b[2;36m \u001b[0mMETRIC   Round \u001b[1;36m3\u001b[0m, aggregator: train \u001b[1m<\u001b[0m\u001b[1;95mopenfl.interface.aggregation_functions.weighted_average.WeightedAverage\u001b[0m\u001b[39m object at \u001b[0m             \u001b]8;id=405934;file://C:\\Users\\BHSU\\AppData\\Local\\Programs\\Python\\Python39\\lib\\site-packages\\openfl\\component\\aggregator\\aggregator.py\u001b\\\u001b[2maggregator.py\u001b[0m\u001b]8;;\u001b\\\u001b[2m:\u001b[0m\u001b]8;id=514148;file://C:\\Users\\BHSU\\AppData\\Local\\Programs\\Python\\Python39\\lib\\site-packages\\openfl\\component\\aggregator\\aggregator.py#842\u001b\\\u001b[2m842\u001b[0m\u001b]8;;\u001b\\\n",
       "\u001b[2;36m           \u001b[0m         \u001b[1;36m0x0000020F55654AC0\u001b[0m\u001b[1m>\u001b[0m loss: \u001b[1;36m0.181007\u001b[0m                                                                                         \u001b[2m                 \u001b[0m\n"
      ]
     },
     "metadata": {},
     "output_type": "display_data"
    },
    {
     "data": {
      "text/html": [
       "<pre style=\"white-space:pre;overflow-x:auto;line-height:normal;font-family:Menlo,'DejaVu Sans Mono',consolas,'Courier New',monospace\"><span style=\"color: #7fbfbf; text-decoration-color: #7fbfbf\">           </span><span style=\"color: #000080; text-decoration-color: #000080\">INFO    </span> Saving round <span style=\"color: #008080; text-decoration-color: #008080; font-weight: bold\">4</span> model<span style=\"color: #808000; text-decoration-color: #808000\">...</span>                                                                                                    <a href=\"file://C:\\Users\\BHSU\\AppData\\Local\\Programs\\Python\\Python39\\lib\\site-packages\\openfl\\component\\aggregator\\aggregator.py\" target=\"_blank\"><span style=\"color: #7f7f7f; text-decoration-color: #7f7f7f\">aggregator.py</span></a><span style=\"color: #7f7f7f; text-decoration-color: #7f7f7f\">:</span><a href=\"file://C:\\Users\\BHSU\\AppData\\Local\\Programs\\Python\\Python39\\lib\\site-packages\\openfl\\component\\aggregator\\aggregator.py#894\" target=\"_blank\"><span style=\"color: #7f7f7f; text-decoration-color: #7f7f7f\">894</span></a>\n",
       "</pre>\n"
      ],
      "text/plain": [
       "\u001b[2;36m          \u001b[0m\u001b[2;36m \u001b[0m\u001b[34mINFO    \u001b[0m Saving round \u001b[1;36m4\u001b[0m model\u001b[33m...\u001b[0m                                                                                                    \u001b]8;id=325135;file://C:\\Users\\BHSU\\AppData\\Local\\Programs\\Python\\Python39\\lib\\site-packages\\openfl\\component\\aggregator\\aggregator.py\u001b\\\u001b[2maggregator.py\u001b[0m\u001b]8;;\u001b\\\u001b[2m:\u001b[0m\u001b]8;id=464241;file://C:\\Users\\BHSU\\AppData\\Local\\Programs\\Python\\Python39\\lib\\site-packages\\openfl\\component\\aggregator\\aggregator.py#894\u001b\\\u001b[2m894\u001b[0m\u001b]8;;\u001b\\\n"
      ]
     },
     "metadata": {},
     "output_type": "display_data"
    },
    {
     "data": {
      "text/html": [
       "<pre style=\"white-space:pre;overflow-x:auto;line-height:normal;font-family:Menlo,'DejaVu Sans Mono',consolas,'Courier New',monospace\"><span style=\"color: #7fbfbf; text-decoration-color: #7fbfbf\">           </span><span style=\"color: #000080; text-decoration-color: #000080\">INFO    </span> Starting round <span style=\"color: #008080; text-decoration-color: #008080; font-weight: bold\">4</span><span style=\"color: #808000; text-decoration-color: #808000\">...</span>                                                                                                        <a href=\"file://C:\\Users\\BHSU\\AppData\\Local\\Programs\\Python\\Python39\\lib\\site-packages\\openfl\\component\\aggregator\\aggregator.py\" target=\"_blank\"><span style=\"color: #7f7f7f; text-decoration-color: #7f7f7f\">aggregator.py</span></a><span style=\"color: #7f7f7f; text-decoration-color: #7f7f7f\">:</span><a href=\"file://C:\\Users\\BHSU\\AppData\\Local\\Programs\\Python\\Python39\\lib\\site-packages\\openfl\\component\\aggregator\\aggregator.py#901\" target=\"_blank\"><span style=\"color: #7f7f7f; text-decoration-color: #7f7f7f\">901</span></a>\n",
       "</pre>\n"
      ],
      "text/plain": [
       "\u001b[2;36m          \u001b[0m\u001b[2;36m \u001b[0m\u001b[34mINFO    \u001b[0m Starting round \u001b[1;36m4\u001b[0m\u001b[33m...\u001b[0m                                                                                                        \u001b]8;id=205041;file://C:\\Users\\BHSU\\AppData\\Local\\Programs\\Python\\Python39\\lib\\site-packages\\openfl\\component\\aggregator\\aggregator.py\u001b\\\u001b[2maggregator.py\u001b[0m\u001b]8;;\u001b\\\u001b[2m:\u001b[0m\u001b]8;id=169323;file://C:\\Users\\BHSU\\AppData\\Local\\Programs\\Python\\Python39\\lib\\site-packages\\openfl\\component\\aggregator\\aggregator.py#901\u001b\\\u001b[2m901\u001b[0m\u001b]8;;\u001b\\\n"
      ]
     },
     "metadata": {},
     "output_type": "display_data"
    },
    {
     "data": {
      "text/html": [
       "<pre style=\"white-space:pre;overflow-x:auto;line-height:normal;font-family:Menlo,'DejaVu Sans Mono',consolas,'Courier New',monospace\"><span style=\"color: #7fbfbf; text-decoration-color: #7fbfbf\">           </span><span style=\"color: #000080; text-decoration-color: #000080\">INFO    </span> All tasks completed on two for round <span style=\"color: #008080; text-decoration-color: #008080; font-weight: bold\">3</span><span style=\"color: #808000; text-decoration-color: #808000\">...</span>                                                                                <a href=\"file://C:\\Users\\BHSU\\AppData\\Local\\Programs\\Python\\Python39\\lib\\site-packages\\openfl\\component\\collaborator\\collaborator.py\" target=\"_blank\"><span style=\"color: #7f7f7f; text-decoration-color: #7f7f7f\">collaborator.py</span></a><span style=\"color: #7f7f7f; text-decoration-color: #7f7f7f\">:</span><a href=\"file://C:\\Users\\BHSU\\AppData\\Local\\Programs\\Python\\Python39\\lib\\site-packages\\openfl\\component\\collaborator\\collaborator.py#171\" target=\"_blank\"><span style=\"color: #7f7f7f; text-decoration-color: #7f7f7f\">171</span></a>\n",
       "</pre>\n"
      ],
      "text/plain": [
       "\u001b[2;36m          \u001b[0m\u001b[2;36m \u001b[0m\u001b[34mINFO    \u001b[0m All tasks completed on two for round \u001b[1;36m3\u001b[0m\u001b[33m...\u001b[0m                                                                                \u001b]8;id=3624;file://C:\\Users\\BHSU\\AppData\\Local\\Programs\\Python\\Python39\\lib\\site-packages\\openfl\\component\\collaborator\\collaborator.py\u001b\\\u001b[2mcollaborator.py\u001b[0m\u001b]8;;\u001b\\\u001b[2m:\u001b[0m\u001b]8;id=753610;file://C:\\Users\\BHSU\\AppData\\Local\\Programs\\Python\\Python39\\lib\\site-packages\\openfl\\component\\collaborator\\collaborator.py#171\u001b\\\u001b[2m171\u001b[0m\u001b]8;;\u001b\\\n"
      ]
     },
     "metadata": {},
     "output_type": "display_data"
    },
    {
     "data": {
      "text/html": [
       "<pre style=\"white-space:pre;overflow-x:auto;line-height:normal;font-family:Menlo,'DejaVu Sans Mono',consolas,'Courier New',monospace\"><span style=\"color: #7fbfbf; text-decoration-color: #7fbfbf\">           </span><span style=\"color: #000080; text-decoration-color: #000080\">INFO    </span> Waiting for tasks<span style=\"color: #808000; text-decoration-color: #808000\">...</span>                                                                                                     <a href=\"file://C:\\Users\\BHSU\\AppData\\Local\\Programs\\Python\\Python39\\lib\\site-packages\\openfl\\component\\collaborator\\collaborator.py\" target=\"_blank\"><span style=\"color: #7f7f7f; text-decoration-color: #7f7f7f\">collaborator.py</span></a><span style=\"color: #7f7f7f; text-decoration-color: #7f7f7f\">:</span><a href=\"file://C:\\Users\\BHSU\\AppData\\Local\\Programs\\Python\\Python39\\lib\\site-packages\\openfl\\component\\collaborator\\collaborator.py#178\" target=\"_blank\"><span style=\"color: #7f7f7f; text-decoration-color: #7f7f7f\">178</span></a>\n",
       "</pre>\n"
      ],
      "text/plain": [
       "\u001b[2;36m          \u001b[0m\u001b[2;36m \u001b[0m\u001b[34mINFO    \u001b[0m Waiting for tasks\u001b[33m...\u001b[0m                                                                                                     \u001b]8;id=54196;file://C:\\Users\\BHSU\\AppData\\Local\\Programs\\Python\\Python39\\lib\\site-packages\\openfl\\component\\collaborator\\collaborator.py\u001b\\\u001b[2mcollaborator.py\u001b[0m\u001b]8;;\u001b\\\u001b[2m:\u001b[0m\u001b]8;id=647195;file://C:\\Users\\BHSU\\AppData\\Local\\Programs\\Python\\Python39\\lib\\site-packages\\openfl\\component\\collaborator\\collaborator.py#178\u001b\\\u001b[2m178\u001b[0m\u001b]8;;\u001b\\\n"
      ]
     },
     "metadata": {},
     "output_type": "display_data"
    },
    {
     "data": {
      "text/html": [
       "<pre style=\"white-space:pre;overflow-x:auto;line-height:normal;font-family:Menlo,'DejaVu Sans Mono',consolas,'Courier New',monospace\"><span style=\"color: #7fbfbf; text-decoration-color: #7fbfbf\">           </span><span style=\"color: #000080; text-decoration-color: #000080\">INFO    </span> Sending tasks to collaborator one for round <span style=\"color: #008080; text-decoration-color: #008080; font-weight: bold\">4</span>                                                                              <a href=\"file://C:\\Users\\BHSU\\AppData\\Local\\Programs\\Python\\Python39\\lib\\site-packages\\openfl\\component\\aggregator\\aggregator.py\" target=\"_blank\"><span style=\"color: #7f7f7f; text-decoration-color: #7f7f7f\">aggregator.py</span></a><span style=\"color: #7f7f7f; text-decoration-color: #7f7f7f\">:</span><a href=\"file://C:\\Users\\BHSU\\AppData\\Local\\Programs\\Python\\Python39\\lib\\site-packages\\openfl\\component\\aggregator\\aggregator.py#329\" target=\"_blank\"><span style=\"color: #7f7f7f; text-decoration-color: #7f7f7f\">329</span></a>\n",
       "</pre>\n"
      ],
      "text/plain": [
       "\u001b[2;36m          \u001b[0m\u001b[2;36m \u001b[0m\u001b[34mINFO    \u001b[0m Sending tasks to collaborator one for round \u001b[1;36m4\u001b[0m                                                                              \u001b]8;id=885752;file://C:\\Users\\BHSU\\AppData\\Local\\Programs\\Python\\Python39\\lib\\site-packages\\openfl\\component\\aggregator\\aggregator.py\u001b\\\u001b[2maggregator.py\u001b[0m\u001b]8;;\u001b\\\u001b[2m:\u001b[0m\u001b]8;id=588273;file://C:\\Users\\BHSU\\AppData\\Local\\Programs\\Python\\Python39\\lib\\site-packages\\openfl\\component\\aggregator\\aggregator.py#329\u001b\\\u001b[2m329\u001b[0m\u001b]8;;\u001b\\\n"
      ]
     },
     "metadata": {},
     "output_type": "display_data"
    },
    {
     "data": {
      "text/html": [
       "<pre style=\"white-space:pre;overflow-x:auto;line-height:normal;font-family:Menlo,'DejaVu Sans Mono',consolas,'Courier New',monospace\"><span style=\"color: #7fbfbf; text-decoration-color: #7fbfbf\">           </span><span style=\"color: #000080; text-decoration-color: #000080\">INFO    </span> Received the following tasks: <span style=\"font-weight: bold\">[</span><span style=\"color: #008000; text-decoration-color: #008000\">'aggregated_model_validation'</span>, <span style=\"color: #008000; text-decoration-color: #008000\">'train'</span>, <span style=\"color: #008000; text-decoration-color: #008000\">'locally_tuned_model_validation'</span><span style=\"font-weight: bold\">]</span>                 <a href=\"file://C:\\Users\\BHSU\\AppData\\Local\\Programs\\Python\\Python39\\lib\\site-packages\\openfl\\component\\collaborator\\collaborator.py\" target=\"_blank\"><span style=\"color: #7f7f7f; text-decoration-color: #7f7f7f\">collaborator.py</span></a><span style=\"color: #7f7f7f; text-decoration-color: #7f7f7f\">:</span><a href=\"file://C:\\Users\\BHSU\\AppData\\Local\\Programs\\Python\\Python39\\lib\\site-packages\\openfl\\component\\collaborator\\collaborator.py#168\" target=\"_blank\"><span style=\"color: #7f7f7f; text-decoration-color: #7f7f7f\">168</span></a>\n",
       "</pre>\n"
      ],
      "text/plain": [
       "\u001b[2;36m          \u001b[0m\u001b[2;36m \u001b[0m\u001b[34mINFO    \u001b[0m Received the following tasks: \u001b[1m[\u001b[0m\u001b[32m'aggregated_model_validation'\u001b[0m, \u001b[32m'train'\u001b[0m, \u001b[32m'locally_tuned_model_validation'\u001b[0m\u001b[1m]\u001b[0m                 \u001b]8;id=576351;file://C:\\Users\\BHSU\\AppData\\Local\\Programs\\Python\\Python39\\lib\\site-packages\\openfl\\component\\collaborator\\collaborator.py\u001b\\\u001b[2mcollaborator.py\u001b[0m\u001b]8;;\u001b\\\u001b[2m:\u001b[0m\u001b]8;id=695971;file://C:\\Users\\BHSU\\AppData\\Local\\Programs\\Python\\Python39\\lib\\site-packages\\openfl\\component\\collaborator\\collaborator.py#168\u001b\\\u001b[2m168\u001b[0m\u001b]8;;\u001b\\\n"
      ]
     },
     "metadata": {},
     "output_type": "display_data"
    },
    {
     "data": {
      "text/html": [
       "<pre style=\"white-space:pre;overflow-x:auto;line-height:normal;font-family:Menlo,'DejaVu Sans Mono',consolas,'Courier New',monospace\"><span style=\"color: #7fbfbf; text-decoration-color: #7fbfbf\">           </span><span style=\"color: #000080; text-decoration-color: #000080\">INFO    </span> Using TaskRunner subclassing API                                                                                         <a href=\"file://C:\\Users\\BHSU\\AppData\\Local\\Programs\\Python\\Python39\\lib\\site-packages\\openfl\\component\\collaborator\\collaborator.py\" target=\"_blank\"><span style=\"color: #7f7f7f; text-decoration-color: #7f7f7f\">collaborator.py</span></a><span style=\"color: #7f7f7f; text-decoration-color: #7f7f7f\">:</span><a href=\"file://C:\\Users\\BHSU\\AppData\\Local\\Programs\\Python\\Python39\\lib\\site-packages\\openfl\\component\\collaborator\\collaborator.py#253\" target=\"_blank\"><span style=\"color: #7f7f7f; text-decoration-color: #7f7f7f\">253</span></a>\n",
       "</pre>\n"
      ],
      "text/plain": [
       "\u001b[2;36m          \u001b[0m\u001b[2;36m \u001b[0m\u001b[34mINFO    \u001b[0m Using TaskRunner subclassing API                                                                                         \u001b]8;id=543356;file://C:\\Users\\BHSU\\AppData\\Local\\Programs\\Python\\Python39\\lib\\site-packages\\openfl\\component\\collaborator\\collaborator.py\u001b\\\u001b[2mcollaborator.py\u001b[0m\u001b]8;;\u001b\\\u001b[2m:\u001b[0m\u001b]8;id=359279;file://C:\\Users\\BHSU\\AppData\\Local\\Programs\\Python\\Python39\\lib\\site-packages\\openfl\\component\\collaborator\\collaborator.py#253\u001b\\\u001b[2m253\u001b[0m\u001b]8;;\u001b\\\n"
      ]
     },
     "metadata": {},
     "output_type": "display_data"
    },
    {
     "name": "stdout",
     "output_type": "stream",
     "text": [
      "282/282 [==============================] - 0s 591us/step - loss: 0.1577 - accuracy: 0.9517\n"
     ]
    },
    {
     "data": {
      "text/html": [
       "<pre style=\"white-space:pre;overflow-x:auto;line-height:normal;font-family:Menlo,'DejaVu Sans Mono',consolas,'Courier New',monospace\"><span style=\"color: #7fbfbf; text-decoration-color: #7fbfbf\">           </span>METRIC   Round <span style=\"color: #008080; text-decoration-color: #008080; font-weight: bold\">4</span>, collaborator one is sending metric for task aggregated_model_validation: accuracy      <span style=\"color: #008080; text-decoration-color: #008080; font-weight: bold\">0.951667</span>                 <a href=\"file://C:\\Users\\BHSU\\AppData\\Local\\Programs\\Python\\Python39\\lib\\site-packages\\openfl\\component\\collaborator\\collaborator.py\" target=\"_blank\"><span style=\"color: #7f7f7f; text-decoration-color: #7f7f7f\">collaborator.py</span></a><span style=\"color: #7f7f7f; text-decoration-color: #7f7f7f\">:</span><a href=\"file://C:\\Users\\BHSU\\AppData\\Local\\Programs\\Python\\Python39\\lib\\site-packages\\openfl\\component\\collaborator\\collaborator.py#415\" target=\"_blank\"><span style=\"color: #7f7f7f; text-decoration-color: #7f7f7f\">415</span></a>\n",
       "</pre>\n"
      ],
      "text/plain": [
       "\u001b[2;36m          \u001b[0m\u001b[2;36m \u001b[0mMETRIC   Round \u001b[1;36m4\u001b[0m, collaborator one is sending metric for task aggregated_model_validation: accuracy      \u001b[1;36m0.951667\u001b[0m                 \u001b]8;id=752828;file://C:\\Users\\BHSU\\AppData\\Local\\Programs\\Python\\Python39\\lib\\site-packages\\openfl\\component\\collaborator\\collaborator.py\u001b\\\u001b[2mcollaborator.py\u001b[0m\u001b]8;;\u001b\\\u001b[2m:\u001b[0m\u001b]8;id=522827;file://C:\\Users\\BHSU\\AppData\\Local\\Programs\\Python\\Python39\\lib\\site-packages\\openfl\\component\\collaborator\\collaborator.py#415\u001b\\\u001b[2m415\u001b[0m\u001b]8;;\u001b\\\n"
      ]
     },
     "metadata": {},
     "output_type": "display_data"
    },
    {
     "data": {
      "text/html": [
       "<pre style=\"white-space:pre;overflow-x:auto;line-height:normal;font-family:Menlo,'DejaVu Sans Mono',consolas,'Courier New',monospace\"><span style=\"color: #7fbfbf; text-decoration-color: #7fbfbf\">           </span><span style=\"color: #000080; text-decoration-color: #000080\">INFO    </span> Collaborator one is sending task results for aggregated_model_validation, round <span style=\"color: #008080; text-decoration-color: #008080; font-weight: bold\">4</span>                                          <a href=\"file://C:\\Users\\BHSU\\AppData\\Local\\Programs\\Python\\Python39\\lib\\site-packages\\openfl\\component\\aggregator\\aggregator.py\" target=\"_blank\"><span style=\"color: #7f7f7f; text-decoration-color: #7f7f7f\">aggregator.py</span></a><span style=\"color: #7f7f7f; text-decoration-color: #7f7f7f\">:</span><a href=\"file://C:\\Users\\BHSU\\AppData\\Local\\Programs\\Python\\Python39\\lib\\site-packages\\openfl\\component\\aggregator\\aggregator.py#520\" target=\"_blank\"><span style=\"color: #7f7f7f; text-decoration-color: #7f7f7f\">520</span></a>\n",
       "</pre>\n"
      ],
      "text/plain": [
       "\u001b[2;36m          \u001b[0m\u001b[2;36m \u001b[0m\u001b[34mINFO    \u001b[0m Collaborator one is sending task results for aggregated_model_validation, round \u001b[1;36m4\u001b[0m                                          \u001b]8;id=722649;file://C:\\Users\\BHSU\\AppData\\Local\\Programs\\Python\\Python39\\lib\\site-packages\\openfl\\component\\aggregator\\aggregator.py\u001b\\\u001b[2maggregator.py\u001b[0m\u001b]8;;\u001b\\\u001b[2m:\u001b[0m\u001b]8;id=88358;file://C:\\Users\\BHSU\\AppData\\Local\\Programs\\Python\\Python39\\lib\\site-packages\\openfl\\component\\aggregator\\aggregator.py#520\u001b\\\u001b[2m520\u001b[0m\u001b]8;;\u001b\\\n"
      ]
     },
     "metadata": {},
     "output_type": "display_data"
    },
    {
     "data": {
      "text/html": [
       "<pre style=\"white-space:pre;overflow-x:auto;line-height:normal;font-family:Menlo,'DejaVu Sans Mono',consolas,'Courier New',monospace\"><span style=\"color: #7fbfbf; text-decoration-color: #7fbfbf\">           </span>METRIC   Round <span style=\"color: #008080; text-decoration-color: #008080; font-weight: bold\">4</span>, collaborator validate_agg aggregated_model_validation result accuracy: <span style=\"color: #008080; text-decoration-color: #008080; font-weight: bold\">0.951667</span>                                   <a href=\"file://C:\\Users\\BHSU\\AppData\\Local\\Programs\\Python\\Python39\\lib\\site-packages\\openfl\\component\\aggregator\\aggregator.py\" target=\"_blank\"><span style=\"color: #7f7f7f; text-decoration-color: #7f7f7f\">aggregator.py</span></a><span style=\"color: #7f7f7f; text-decoration-color: #7f7f7f\">:</span><a href=\"file://C:\\Users\\BHSU\\AppData\\Local\\Programs\\Python\\Python39\\lib\\site-packages\\openfl\\component\\aggregator\\aggregator.py#559\" target=\"_blank\"><span style=\"color: #7f7f7f; text-decoration-color: #7f7f7f\">559</span></a>\n",
       "</pre>\n"
      ],
      "text/plain": [
       "\u001b[2;36m          \u001b[0m\u001b[2;36m \u001b[0mMETRIC   Round \u001b[1;36m4\u001b[0m, collaborator validate_agg aggregated_model_validation result accuracy: \u001b[1;36m0.951667\u001b[0m                                   \u001b]8;id=194942;file://C:\\Users\\BHSU\\AppData\\Local\\Programs\\Python\\Python39\\lib\\site-packages\\openfl\\component\\aggregator\\aggregator.py\u001b\\\u001b[2maggregator.py\u001b[0m\u001b]8;;\u001b\\\u001b[2m:\u001b[0m\u001b]8;id=32892;file://C:\\Users\\BHSU\\AppData\\Local\\Programs\\Python\\Python39\\lib\\site-packages\\openfl\\component\\aggregator\\aggregator.py#559\u001b\\\u001b[2m559\u001b[0m\u001b]8;;\u001b\\\n"
      ]
     },
     "metadata": {},
     "output_type": "display_data"
    },
    {
     "data": {
      "text/html": [
       "<pre style=\"white-space:pre;overflow-x:auto;line-height:normal;font-family:Menlo,'DejaVu Sans Mono',consolas,'Courier New',monospace\"><span style=\"color: #7fbfbf; text-decoration-color: #7fbfbf\">           </span><span style=\"color: #000080; text-decoration-color: #000080\">INFO    </span> Using TaskRunner subclassing API                                                                                         <a href=\"file://C:\\Users\\BHSU\\AppData\\Local\\Programs\\Python\\Python39\\lib\\site-packages\\openfl\\component\\collaborator\\collaborator.py\" target=\"_blank\"><span style=\"color: #7f7f7f; text-decoration-color: #7f7f7f\">collaborator.py</span></a><span style=\"color: #7f7f7f; text-decoration-color: #7f7f7f\">:</span><a href=\"file://C:\\Users\\BHSU\\AppData\\Local\\Programs\\Python\\Python39\\lib\\site-packages\\openfl\\component\\collaborator\\collaborator.py#253\" target=\"_blank\"><span style=\"color: #7f7f7f; text-decoration-color: #7f7f7f\">253</span></a>\n",
       "</pre>\n"
      ],
      "text/plain": [
       "\u001b[2;36m          \u001b[0m\u001b[2;36m \u001b[0m\u001b[34mINFO    \u001b[0m Using TaskRunner subclassing API                                                                                         \u001b]8;id=477381;file://C:\\Users\\BHSU\\AppData\\Local\\Programs\\Python\\Python39\\lib\\site-packages\\openfl\\component\\collaborator\\collaborator.py\u001b\\\u001b[2mcollaborator.py\u001b[0m\u001b]8;;\u001b\\\u001b[2m:\u001b[0m\u001b]8;id=33467;file://C:\\Users\\BHSU\\AppData\\Local\\Programs\\Python\\Python39\\lib\\site-packages\\openfl\\component\\collaborator\\collaborator.py#253\u001b\\\u001b[2m253\u001b[0m\u001b]8;;\u001b\\\n"
      ]
     },
     "metadata": {},
     "output_type": "display_data"
    },
    {
     "data": {
      "text/html": [
       "<pre style=\"white-space:pre;overflow-x:auto;line-height:normal;font-family:Menlo,'DejaVu Sans Mono',consolas,'Courier New',monospace\"><span style=\"color: #7fbfbf; text-decoration-color: #7fbfbf\">           </span><span style=\"color: #000080; text-decoration-color: #000080\">INFO    </span> Run <span style=\"color: #008080; text-decoration-color: #008080; font-weight: bold\">0</span> epoch of <span style=\"color: #008080; text-decoration-color: #008080; font-weight: bold\">4</span> round                                                                                                    <a href=\"file://C:\\Users\\BHSU\\AppData\\Local\\Programs\\Python\\Python39\\lib\\site-packages\\openfl\\federated\\task\\runner_keras.py\" target=\"_blank\"><span style=\"color: #7f7f7f; text-decoration-color: #7f7f7f\">runner_keras.py</span></a><span style=\"color: #7f7f7f; text-decoration-color: #7f7f7f\">:</span><a href=\"file://C:\\Users\\BHSU\\AppData\\Local\\Programs\\Python\\Python39\\lib\\site-packages\\openfl\\federated\\task\\runner_keras.py#83\" target=\"_blank\"><span style=\"color: #7f7f7f; text-decoration-color: #7f7f7f\">83</span></a>\n",
       "</pre>\n"
      ],
      "text/plain": [
       "\u001b[2;36m          \u001b[0m\u001b[2;36m \u001b[0m\u001b[34mINFO    \u001b[0m Run \u001b[1;36m0\u001b[0m epoch of \u001b[1;36m4\u001b[0m round                                                                                                    \u001b]8;id=681410;file://C:\\Users\\BHSU\\AppData\\Local\\Programs\\Python\\Python39\\lib\\site-packages\\openfl\\federated\\task\\runner_keras.py\u001b\\\u001b[2mrunner_keras.py\u001b[0m\u001b]8;;\u001b\\\u001b[2m:\u001b[0m\u001b]8;id=822215;file://C:\\Users\\BHSU\\AppData\\Local\\Programs\\Python\\Python39\\lib\\site-packages\\openfl\\federated\\task\\runner_keras.py#83\u001b\\\u001b[2m83\u001b[0m\u001b]8;;\u001b\\\n"
      ]
     },
     "metadata": {},
     "output_type": "display_data"
    },
    {
     "name": "stdout",
     "output_type": "stream",
     "text": [
      "657/657 [==============================] - 0s 619us/step - loss: 0.1627 - accuracy: 0.9484\n"
     ]
    },
    {
     "data": {
      "text/html": [
       "<pre style=\"white-space:pre;overflow-x:auto;line-height:normal;font-family:Menlo,'DejaVu Sans Mono',consolas,'Courier New',monospace\"><span style=\"color: #7fbfbf; text-decoration-color: #7fbfbf\">[09:22:53] </span>METRIC   Round <span style=\"color: #008080; text-decoration-color: #008080; font-weight: bold\">4</span>, collaborator one is sending metric for task train: loss        <span style=\"color: #008080; text-decoration-color: #008080; font-weight: bold\">0.162688</span>                                         <a href=\"file://C:\\Users\\BHSU\\AppData\\Local\\Programs\\Python\\Python39\\lib\\site-packages\\openfl\\component\\collaborator\\collaborator.py\" target=\"_blank\"><span style=\"color: #7f7f7f; text-decoration-color: #7f7f7f\">collaborator.py</span></a><span style=\"color: #7f7f7f; text-decoration-color: #7f7f7f\">:</span><a href=\"file://C:\\Users\\BHSU\\AppData\\Local\\Programs\\Python\\Python39\\lib\\site-packages\\openfl\\component\\collaborator\\collaborator.py#415\" target=\"_blank\"><span style=\"color: #7f7f7f; text-decoration-color: #7f7f7f\">415</span></a>\n",
       "</pre>\n"
      ],
      "text/plain": [
       "\u001b[2;36m[09:22:53]\u001b[0m\u001b[2;36m \u001b[0mMETRIC   Round \u001b[1;36m4\u001b[0m, collaborator one is sending metric for task train: loss        \u001b[1;36m0.162688\u001b[0m                                         \u001b]8;id=818854;file://C:\\Users\\BHSU\\AppData\\Local\\Programs\\Python\\Python39\\lib\\site-packages\\openfl\\component\\collaborator\\collaborator.py\u001b\\\u001b[2mcollaborator.py\u001b[0m\u001b]8;;\u001b\\\u001b[2m:\u001b[0m\u001b]8;id=97929;file://C:\\Users\\BHSU\\AppData\\Local\\Programs\\Python\\Python39\\lib\\site-packages\\openfl\\component\\collaborator\\collaborator.py#415\u001b\\\u001b[2m415\u001b[0m\u001b]8;;\u001b\\\n"
      ]
     },
     "metadata": {},
     "output_type": "display_data"
    },
    {
     "data": {
      "text/html": [
       "<pre style=\"white-space:pre;overflow-x:auto;line-height:normal;font-family:Menlo,'DejaVu Sans Mono',consolas,'Courier New',monospace\"><span style=\"color: #7fbfbf; text-decoration-color: #7fbfbf\">           </span><span style=\"color: #000080; text-decoration-color: #000080\">INFO    </span> Collaborator one is sending task results for train, round <span style=\"color: #008080; text-decoration-color: #008080; font-weight: bold\">4</span>                                                                <a href=\"file://C:\\Users\\BHSU\\AppData\\Local\\Programs\\Python\\Python39\\lib\\site-packages\\openfl\\component\\aggregator\\aggregator.py\" target=\"_blank\"><span style=\"color: #7f7f7f; text-decoration-color: #7f7f7f\">aggregator.py</span></a><span style=\"color: #7f7f7f; text-decoration-color: #7f7f7f\">:</span><a href=\"file://C:\\Users\\BHSU\\AppData\\Local\\Programs\\Python\\Python39\\lib\\site-packages\\openfl\\component\\aggregator\\aggregator.py#520\" target=\"_blank\"><span style=\"color: #7f7f7f; text-decoration-color: #7f7f7f\">520</span></a>\n",
       "</pre>\n"
      ],
      "text/plain": [
       "\u001b[2;36m          \u001b[0m\u001b[2;36m \u001b[0m\u001b[34mINFO    \u001b[0m Collaborator one is sending task results for train, round \u001b[1;36m4\u001b[0m                                                                \u001b]8;id=963164;file://C:\\Users\\BHSU\\AppData\\Local\\Programs\\Python\\Python39\\lib\\site-packages\\openfl\\component\\aggregator\\aggregator.py\u001b\\\u001b[2maggregator.py\u001b[0m\u001b]8;;\u001b\\\u001b[2m:\u001b[0m\u001b]8;id=38260;file://C:\\Users\\BHSU\\AppData\\Local\\Programs\\Python\\Python39\\lib\\site-packages\\openfl\\component\\aggregator\\aggregator.py#520\u001b\\\u001b[2m520\u001b[0m\u001b]8;;\u001b\\\n"
      ]
     },
     "metadata": {},
     "output_type": "display_data"
    },
    {
     "data": {
      "text/html": [
       "<pre style=\"white-space:pre;overflow-x:auto;line-height:normal;font-family:Menlo,'DejaVu Sans Mono',consolas,'Courier New',monospace\"><span style=\"color: #7fbfbf; text-decoration-color: #7fbfbf\">           </span>METRIC   Round <span style=\"color: #008080; text-decoration-color: #008080; font-weight: bold\">4</span>, collaborator one train result loss:    <span style=\"color: #008080; text-decoration-color: #008080; font-weight: bold\">0.162688</span>                                                                   <a href=\"file://C:\\Users\\BHSU\\AppData\\Local\\Programs\\Python\\Python39\\lib\\site-packages\\openfl\\component\\aggregator\\aggregator.py\" target=\"_blank\"><span style=\"color: #7f7f7f; text-decoration-color: #7f7f7f\">aggregator.py</span></a><span style=\"color: #7f7f7f; text-decoration-color: #7f7f7f\">:</span><a href=\"file://C:\\Users\\BHSU\\AppData\\Local\\Programs\\Python\\Python39\\lib\\site-packages\\openfl\\component\\aggregator\\aggregator.py#559\" target=\"_blank\"><span style=\"color: #7f7f7f; text-decoration-color: #7f7f7f\">559</span></a>\n",
       "</pre>\n"
      ],
      "text/plain": [
       "\u001b[2;36m          \u001b[0m\u001b[2;36m \u001b[0mMETRIC   Round \u001b[1;36m4\u001b[0m, collaborator one train result loss:    \u001b[1;36m0.162688\u001b[0m                                                                   \u001b]8;id=49334;file://C:\\Users\\BHSU\\AppData\\Local\\Programs\\Python\\Python39\\lib\\site-packages\\openfl\\component\\aggregator\\aggregator.py\u001b\\\u001b[2maggregator.py\u001b[0m\u001b]8;;\u001b\\\u001b[2m:\u001b[0m\u001b]8;id=953900;file://C:\\Users\\BHSU\\AppData\\Local\\Programs\\Python\\Python39\\lib\\site-packages\\openfl\\component\\aggregator\\aggregator.py#559\u001b\\\u001b[2m559\u001b[0m\u001b]8;;\u001b\\\n"
      ]
     },
     "metadata": {},
     "output_type": "display_data"
    },
    {
     "data": {
      "text/html": [
       "<pre style=\"white-space:pre;overflow-x:auto;line-height:normal;font-family:Menlo,'DejaVu Sans Mono',consolas,'Courier New',monospace\"><span style=\"color: #7fbfbf; text-decoration-color: #7fbfbf\">           </span><span style=\"color: #000080; text-decoration-color: #000080\">INFO    </span> Using TaskRunner subclassing API                                                                                         <a href=\"file://C:\\Users\\BHSU\\AppData\\Local\\Programs\\Python\\Python39\\lib\\site-packages\\openfl\\component\\collaborator\\collaborator.py\" target=\"_blank\"><span style=\"color: #7f7f7f; text-decoration-color: #7f7f7f\">collaborator.py</span></a><span style=\"color: #7f7f7f; text-decoration-color: #7f7f7f\">:</span><a href=\"file://C:\\Users\\BHSU\\AppData\\Local\\Programs\\Python\\Python39\\lib\\site-packages\\openfl\\component\\collaborator\\collaborator.py#253\" target=\"_blank\"><span style=\"color: #7f7f7f; text-decoration-color: #7f7f7f\">253</span></a>\n",
       "</pre>\n"
      ],
      "text/plain": [
       "\u001b[2;36m          \u001b[0m\u001b[2;36m \u001b[0m\u001b[34mINFO    \u001b[0m Using TaskRunner subclassing API                                                                                         \u001b]8;id=33338;file://C:\\Users\\BHSU\\AppData\\Local\\Programs\\Python\\Python39\\lib\\site-packages\\openfl\\component\\collaborator\\collaborator.py\u001b\\\u001b[2mcollaborator.py\u001b[0m\u001b]8;;\u001b\\\u001b[2m:\u001b[0m\u001b]8;id=375745;file://C:\\Users\\BHSU\\AppData\\Local\\Programs\\Python\\Python39\\lib\\site-packages\\openfl\\component\\collaborator\\collaborator.py#253\u001b\\\u001b[2m253\u001b[0m\u001b]8;;\u001b\\\n"
      ]
     },
     "metadata": {},
     "output_type": "display_data"
    },
    {
     "name": "stdout",
     "output_type": "stream",
     "text": [
      "282/282 [==============================] - 0s 504us/step - loss: 0.1973 - accuracy: 0.9399\n"
     ]
    },
    {
     "data": {
      "text/html": [
       "<pre style=\"white-space:pre;overflow-x:auto;line-height:normal;font-family:Menlo,'DejaVu Sans Mono',consolas,'Courier New',monospace\"><span style=\"color: #7fbfbf; text-decoration-color: #7fbfbf\">           </span>METRIC   Round <span style=\"color: #008080; text-decoration-color: #008080; font-weight: bold\">4</span>, collaborator one is sending metric for task locally_tuned_model_validation: accuracy   <span style=\"color: #008080; text-decoration-color: #008080; font-weight: bold\">0.939889</span>                 <a href=\"file://C:\\Users\\BHSU\\AppData\\Local\\Programs\\Python\\Python39\\lib\\site-packages\\openfl\\component\\collaborator\\collaborator.py\" target=\"_blank\"><span style=\"color: #7f7f7f; text-decoration-color: #7f7f7f\">collaborator.py</span></a><span style=\"color: #7f7f7f; text-decoration-color: #7f7f7f\">:</span><a href=\"file://C:\\Users\\BHSU\\AppData\\Local\\Programs\\Python\\Python39\\lib\\site-packages\\openfl\\component\\collaborator\\collaborator.py#415\" target=\"_blank\"><span style=\"color: #7f7f7f; text-decoration-color: #7f7f7f\">415</span></a>\n",
       "</pre>\n"
      ],
      "text/plain": [
       "\u001b[2;36m          \u001b[0m\u001b[2;36m \u001b[0mMETRIC   Round \u001b[1;36m4\u001b[0m, collaborator one is sending metric for task locally_tuned_model_validation: accuracy   \u001b[1;36m0.939889\u001b[0m                 \u001b]8;id=357305;file://C:\\Users\\BHSU\\AppData\\Local\\Programs\\Python\\Python39\\lib\\site-packages\\openfl\\component\\collaborator\\collaborator.py\u001b\\\u001b[2mcollaborator.py\u001b[0m\u001b]8;;\u001b\\\u001b[2m:\u001b[0m\u001b]8;id=178262;file://C:\\Users\\BHSU\\AppData\\Local\\Programs\\Python\\Python39\\lib\\site-packages\\openfl\\component\\collaborator\\collaborator.py#415\u001b\\\u001b[2m415\u001b[0m\u001b]8;;\u001b\\\n"
      ]
     },
     "metadata": {},
     "output_type": "display_data"
    },
    {
     "data": {
      "text/html": [
       "<pre style=\"white-space:pre;overflow-x:auto;line-height:normal;font-family:Menlo,'DejaVu Sans Mono',consolas,'Courier New',monospace\"><span style=\"color: #7fbfbf; text-decoration-color: #7fbfbf\">           </span><span style=\"color: #000080; text-decoration-color: #000080\">INFO    </span> Collaborator one is sending task results for locally_tuned_model_validation, round <span style=\"color: #008080; text-decoration-color: #008080; font-weight: bold\">4</span>                                       <a href=\"file://C:\\Users\\BHSU\\AppData\\Local\\Programs\\Python\\Python39\\lib\\site-packages\\openfl\\component\\aggregator\\aggregator.py\" target=\"_blank\"><span style=\"color: #7f7f7f; text-decoration-color: #7f7f7f\">aggregator.py</span></a><span style=\"color: #7f7f7f; text-decoration-color: #7f7f7f\">:</span><a href=\"file://C:\\Users\\BHSU\\AppData\\Local\\Programs\\Python\\Python39\\lib\\site-packages\\openfl\\component\\aggregator\\aggregator.py#520\" target=\"_blank\"><span style=\"color: #7f7f7f; text-decoration-color: #7f7f7f\">520</span></a>\n",
       "</pre>\n"
      ],
      "text/plain": [
       "\u001b[2;36m          \u001b[0m\u001b[2;36m \u001b[0m\u001b[34mINFO    \u001b[0m Collaborator one is sending task results for locally_tuned_model_validation, round \u001b[1;36m4\u001b[0m                                       \u001b]8;id=360702;file://C:\\Users\\BHSU\\AppData\\Local\\Programs\\Python\\Python39\\lib\\site-packages\\openfl\\component\\aggregator\\aggregator.py\u001b\\\u001b[2maggregator.py\u001b[0m\u001b]8;;\u001b\\\u001b[2m:\u001b[0m\u001b]8;id=431874;file://C:\\Users\\BHSU\\AppData\\Local\\Programs\\Python\\Python39\\lib\\site-packages\\openfl\\component\\aggregator\\aggregator.py#520\u001b\\\u001b[2m520\u001b[0m\u001b]8;;\u001b\\\n"
      ]
     },
     "metadata": {},
     "output_type": "display_data"
    },
    {
     "data": {
      "text/html": [
       "<pre style=\"white-space:pre;overflow-x:auto;line-height:normal;font-family:Menlo,'DejaVu Sans Mono',consolas,'Courier New',monospace\"><span style=\"color: #7fbfbf; text-decoration-color: #7fbfbf\">           </span>METRIC   Round <span style=\"color: #008080; text-decoration-color: #008080; font-weight: bold\">4</span>, collaborator validate_local locally_tuned_model_validation result accuracy:    <span style=\"color: #008080; text-decoration-color: #008080; font-weight: bold\">0.939889</span>                           <a href=\"file://C:\\Users\\BHSU\\AppData\\Local\\Programs\\Python\\Python39\\lib\\site-packages\\openfl\\component\\aggregator\\aggregator.py\" target=\"_blank\"><span style=\"color: #7f7f7f; text-decoration-color: #7f7f7f\">aggregator.py</span></a><span style=\"color: #7f7f7f; text-decoration-color: #7f7f7f\">:</span><a href=\"file://C:\\Users\\BHSU\\AppData\\Local\\Programs\\Python\\Python39\\lib\\site-packages\\openfl\\component\\aggregator\\aggregator.py#559\" target=\"_blank\"><span style=\"color: #7f7f7f; text-decoration-color: #7f7f7f\">559</span></a>\n",
       "</pre>\n"
      ],
      "text/plain": [
       "\u001b[2;36m          \u001b[0m\u001b[2;36m \u001b[0mMETRIC   Round \u001b[1;36m4\u001b[0m, collaborator validate_local locally_tuned_model_validation result accuracy:    \u001b[1;36m0.939889\u001b[0m                           \u001b]8;id=85913;file://C:\\Users\\BHSU\\AppData\\Local\\Programs\\Python\\Python39\\lib\\site-packages\\openfl\\component\\aggregator\\aggregator.py\u001b\\\u001b[2maggregator.py\u001b[0m\u001b]8;;\u001b\\\u001b[2m:\u001b[0m\u001b]8;id=969744;file://C:\\Users\\BHSU\\AppData\\Local\\Programs\\Python\\Python39\\lib\\site-packages\\openfl\\component\\aggregator\\aggregator.py#559\u001b\\\u001b[2m559\u001b[0m\u001b]8;;\u001b\\\n"
      ]
     },
     "metadata": {},
     "output_type": "display_data"
    },
    {
     "data": {
      "text/html": [
       "<pre style=\"white-space:pre;overflow-x:auto;line-height:normal;font-family:Menlo,'DejaVu Sans Mono',consolas,'Courier New',monospace\"><span style=\"color: #7fbfbf; text-decoration-color: #7fbfbf\">           </span><span style=\"color: #000080; text-decoration-color: #000080\">INFO    </span> All tasks completed on one for round <span style=\"color: #008080; text-decoration-color: #008080; font-weight: bold\">4</span><span style=\"color: #808000; text-decoration-color: #808000\">...</span>                                                                                <a href=\"file://C:\\Users\\BHSU\\AppData\\Local\\Programs\\Python\\Python39\\lib\\site-packages\\openfl\\component\\collaborator\\collaborator.py\" target=\"_blank\"><span style=\"color: #7f7f7f; text-decoration-color: #7f7f7f\">collaborator.py</span></a><span style=\"color: #7f7f7f; text-decoration-color: #7f7f7f\">:</span><a href=\"file://C:\\Users\\BHSU\\AppData\\Local\\Programs\\Python\\Python39\\lib\\site-packages\\openfl\\component\\collaborator\\collaborator.py#171\" target=\"_blank\"><span style=\"color: #7f7f7f; text-decoration-color: #7f7f7f\">171</span></a>\n",
       "</pre>\n"
      ],
      "text/plain": [
       "\u001b[2;36m          \u001b[0m\u001b[2;36m \u001b[0m\u001b[34mINFO    \u001b[0m All tasks completed on one for round \u001b[1;36m4\u001b[0m\u001b[33m...\u001b[0m                                                                                \u001b]8;id=414737;file://C:\\Users\\BHSU\\AppData\\Local\\Programs\\Python\\Python39\\lib\\site-packages\\openfl\\component\\collaborator\\collaborator.py\u001b\\\u001b[2mcollaborator.py\u001b[0m\u001b]8;;\u001b\\\u001b[2m:\u001b[0m\u001b]8;id=133773;file://C:\\Users\\BHSU\\AppData\\Local\\Programs\\Python\\Python39\\lib\\site-packages\\openfl\\component\\collaborator\\collaborator.py#171\u001b\\\u001b[2m171\u001b[0m\u001b]8;;\u001b\\\n"
      ]
     },
     "metadata": {},
     "output_type": "display_data"
    },
    {
     "data": {
      "text/html": [
       "<pre style=\"white-space:pre;overflow-x:auto;line-height:normal;font-family:Menlo,'DejaVu Sans Mono',consolas,'Courier New',monospace\"><span style=\"color: #7fbfbf; text-decoration-color: #7fbfbf\">           </span><span style=\"color: #000080; text-decoration-color: #000080\">INFO    </span> Waiting for tasks<span style=\"color: #808000; text-decoration-color: #808000\">...</span>                                                                                                     <a href=\"file://C:\\Users\\BHSU\\AppData\\Local\\Programs\\Python\\Python39\\lib\\site-packages\\openfl\\component\\collaborator\\collaborator.py\" target=\"_blank\"><span style=\"color: #7f7f7f; text-decoration-color: #7f7f7f\">collaborator.py</span></a><span style=\"color: #7f7f7f; text-decoration-color: #7f7f7f\">:</span><a href=\"file://C:\\Users\\BHSU\\AppData\\Local\\Programs\\Python\\Python39\\lib\\site-packages\\openfl\\component\\collaborator\\collaborator.py#178\" target=\"_blank\"><span style=\"color: #7f7f7f; text-decoration-color: #7f7f7f\">178</span></a>\n",
       "</pre>\n"
      ],
      "text/plain": [
       "\u001b[2;36m          \u001b[0m\u001b[2;36m \u001b[0m\u001b[34mINFO    \u001b[0m Waiting for tasks\u001b[33m...\u001b[0m                                                                                                     \u001b]8;id=129194;file://C:\\Users\\BHSU\\AppData\\Local\\Programs\\Python\\Python39\\lib\\site-packages\\openfl\\component\\collaborator\\collaborator.py\u001b\\\u001b[2mcollaborator.py\u001b[0m\u001b]8;;\u001b\\\u001b[2m:\u001b[0m\u001b]8;id=71654;file://C:\\Users\\BHSU\\AppData\\Local\\Programs\\Python\\Python39\\lib\\site-packages\\openfl\\component\\collaborator\\collaborator.py#178\u001b\\\u001b[2m178\u001b[0m\u001b]8;;\u001b\\\n"
      ]
     },
     "metadata": {},
     "output_type": "display_data"
    },
    {
     "data": {
      "text/html": [
       "<pre style=\"white-space:pre;overflow-x:auto;line-height:normal;font-family:Menlo,'DejaVu Sans Mono',consolas,'Courier New',monospace\"><span style=\"color: #7fbfbf; text-decoration-color: #7fbfbf\">           </span><span style=\"color: #000080; text-decoration-color: #000080\">INFO    </span> Sending tasks to collaborator two for round <span style=\"color: #008080; text-decoration-color: #008080; font-weight: bold\">4</span>                                                                              <a href=\"file://C:\\Users\\BHSU\\AppData\\Local\\Programs\\Python\\Python39\\lib\\site-packages\\openfl\\component\\aggregator\\aggregator.py\" target=\"_blank\"><span style=\"color: #7f7f7f; text-decoration-color: #7f7f7f\">aggregator.py</span></a><span style=\"color: #7f7f7f; text-decoration-color: #7f7f7f\">:</span><a href=\"file://C:\\Users\\BHSU\\AppData\\Local\\Programs\\Python\\Python39\\lib\\site-packages\\openfl\\component\\aggregator\\aggregator.py#329\" target=\"_blank\"><span style=\"color: #7f7f7f; text-decoration-color: #7f7f7f\">329</span></a>\n",
       "</pre>\n"
      ],
      "text/plain": [
       "\u001b[2;36m          \u001b[0m\u001b[2;36m \u001b[0m\u001b[34mINFO    \u001b[0m Sending tasks to collaborator two for round \u001b[1;36m4\u001b[0m                                                                              \u001b]8;id=959240;file://C:\\Users\\BHSU\\AppData\\Local\\Programs\\Python\\Python39\\lib\\site-packages\\openfl\\component\\aggregator\\aggregator.py\u001b\\\u001b[2maggregator.py\u001b[0m\u001b]8;;\u001b\\\u001b[2m:\u001b[0m\u001b]8;id=753716;file://C:\\Users\\BHSU\\AppData\\Local\\Programs\\Python\\Python39\\lib\\site-packages\\openfl\\component\\aggregator\\aggregator.py#329\u001b\\\u001b[2m329\u001b[0m\u001b]8;;\u001b\\\n"
      ]
     },
     "metadata": {},
     "output_type": "display_data"
    },
    {
     "data": {
      "text/html": [
       "<pre style=\"white-space:pre;overflow-x:auto;line-height:normal;font-family:Menlo,'DejaVu Sans Mono',consolas,'Courier New',monospace\"><span style=\"color: #7fbfbf; text-decoration-color: #7fbfbf\">           </span><span style=\"color: #000080; text-decoration-color: #000080\">INFO    </span> Received the following tasks: <span style=\"font-weight: bold\">[</span><span style=\"color: #008000; text-decoration-color: #008000\">'aggregated_model_validation'</span>, <span style=\"color: #008000; text-decoration-color: #008000\">'train'</span>, <span style=\"color: #008000; text-decoration-color: #008000\">'locally_tuned_model_validation'</span><span style=\"font-weight: bold\">]</span>                 <a href=\"file://C:\\Users\\BHSU\\AppData\\Local\\Programs\\Python\\Python39\\lib\\site-packages\\openfl\\component\\collaborator\\collaborator.py\" target=\"_blank\"><span style=\"color: #7f7f7f; text-decoration-color: #7f7f7f\">collaborator.py</span></a><span style=\"color: #7f7f7f; text-decoration-color: #7f7f7f\">:</span><a href=\"file://C:\\Users\\BHSU\\AppData\\Local\\Programs\\Python\\Python39\\lib\\site-packages\\openfl\\component\\collaborator\\collaborator.py#168\" target=\"_blank\"><span style=\"color: #7f7f7f; text-decoration-color: #7f7f7f\">168</span></a>\n",
       "</pre>\n"
      ],
      "text/plain": [
       "\u001b[2;36m          \u001b[0m\u001b[2;36m \u001b[0m\u001b[34mINFO    \u001b[0m Received the following tasks: \u001b[1m[\u001b[0m\u001b[32m'aggregated_model_validation'\u001b[0m, \u001b[32m'train'\u001b[0m, \u001b[32m'locally_tuned_model_validation'\u001b[0m\u001b[1m]\u001b[0m                 \u001b]8;id=287556;file://C:\\Users\\BHSU\\AppData\\Local\\Programs\\Python\\Python39\\lib\\site-packages\\openfl\\component\\collaborator\\collaborator.py\u001b\\\u001b[2mcollaborator.py\u001b[0m\u001b]8;;\u001b\\\u001b[2m:\u001b[0m\u001b]8;id=981242;file://C:\\Users\\BHSU\\AppData\\Local\\Programs\\Python\\Python39\\lib\\site-packages\\openfl\\component\\collaborator\\collaborator.py#168\u001b\\\u001b[2m168\u001b[0m\u001b]8;;\u001b\\\n"
      ]
     },
     "metadata": {},
     "output_type": "display_data"
    },
    {
     "data": {
      "text/html": [
       "<pre style=\"white-space:pre;overflow-x:auto;line-height:normal;font-family:Menlo,'DejaVu Sans Mono',consolas,'Courier New',monospace\"><span style=\"color: #7fbfbf; text-decoration-color: #7fbfbf\">           </span><span style=\"color: #000080; text-decoration-color: #000080\">INFO    </span> Using TaskRunner subclassing API                                                                                         <a href=\"file://C:\\Users\\BHSU\\AppData\\Local\\Programs\\Python\\Python39\\lib\\site-packages\\openfl\\component\\collaborator\\collaborator.py\" target=\"_blank\"><span style=\"color: #7f7f7f; text-decoration-color: #7f7f7f\">collaborator.py</span></a><span style=\"color: #7f7f7f; text-decoration-color: #7f7f7f\">:</span><a href=\"file://C:\\Users\\BHSU\\AppData\\Local\\Programs\\Python\\Python39\\lib\\site-packages\\openfl\\component\\collaborator\\collaborator.py#253\" target=\"_blank\"><span style=\"color: #7f7f7f; text-decoration-color: #7f7f7f\">253</span></a>\n",
       "</pre>\n"
      ],
      "text/plain": [
       "\u001b[2;36m          \u001b[0m\u001b[2;36m \u001b[0m\u001b[34mINFO    \u001b[0m Using TaskRunner subclassing API                                                                                         \u001b]8;id=540347;file://C:\\Users\\BHSU\\AppData\\Local\\Programs\\Python\\Python39\\lib\\site-packages\\openfl\\component\\collaborator\\collaborator.py\u001b\\\u001b[2mcollaborator.py\u001b[0m\u001b]8;;\u001b\\\u001b[2m:\u001b[0m\u001b]8;id=30710;file://C:\\Users\\BHSU\\AppData\\Local\\Programs\\Python\\Python39\\lib\\site-packages\\openfl\\component\\collaborator\\collaborator.py#253\u001b\\\u001b[2m253\u001b[0m\u001b]8;;\u001b\\\n"
      ]
     },
     "metadata": {},
     "output_type": "display_data"
    },
    {
     "name": "stdout",
     "output_type": "stream",
     "text": [
      "282/282 [==============================] - 0s 491us/step - loss: 0.1765 - accuracy: 0.9472\n"
     ]
    },
    {
     "data": {
      "text/html": [
       "<pre style=\"white-space:pre;overflow-x:auto;line-height:normal;font-family:Menlo,'DejaVu Sans Mono',consolas,'Courier New',monospace\"><span style=\"color: #7fbfbf; text-decoration-color: #7fbfbf\">           </span>METRIC   Round <span style=\"color: #008080; text-decoration-color: #008080; font-weight: bold\">4</span>, collaborator two is sending metric for task aggregated_model_validation: accuracy      <span style=\"color: #008080; text-decoration-color: #008080; font-weight: bold\">0.947222</span>                 <a href=\"file://C:\\Users\\BHSU\\AppData\\Local\\Programs\\Python\\Python39\\lib\\site-packages\\openfl\\component\\collaborator\\collaborator.py\" target=\"_blank\"><span style=\"color: #7f7f7f; text-decoration-color: #7f7f7f\">collaborator.py</span></a><span style=\"color: #7f7f7f; text-decoration-color: #7f7f7f\">:</span><a href=\"file://C:\\Users\\BHSU\\AppData\\Local\\Programs\\Python\\Python39\\lib\\site-packages\\openfl\\component\\collaborator\\collaborator.py#415\" target=\"_blank\"><span style=\"color: #7f7f7f; text-decoration-color: #7f7f7f\">415</span></a>\n",
       "</pre>\n"
      ],
      "text/plain": [
       "\u001b[2;36m          \u001b[0m\u001b[2;36m \u001b[0mMETRIC   Round \u001b[1;36m4\u001b[0m, collaborator two is sending metric for task aggregated_model_validation: accuracy      \u001b[1;36m0.947222\u001b[0m                 \u001b]8;id=940120;file://C:\\Users\\BHSU\\AppData\\Local\\Programs\\Python\\Python39\\lib\\site-packages\\openfl\\component\\collaborator\\collaborator.py\u001b\\\u001b[2mcollaborator.py\u001b[0m\u001b]8;;\u001b\\\u001b[2m:\u001b[0m\u001b]8;id=380526;file://C:\\Users\\BHSU\\AppData\\Local\\Programs\\Python\\Python39\\lib\\site-packages\\openfl\\component\\collaborator\\collaborator.py#415\u001b\\\u001b[2m415\u001b[0m\u001b]8;;\u001b\\\n"
      ]
     },
     "metadata": {},
     "output_type": "display_data"
    },
    {
     "data": {
      "text/html": [
       "<pre style=\"white-space:pre;overflow-x:auto;line-height:normal;font-family:Menlo,'DejaVu Sans Mono',consolas,'Courier New',monospace\"><span style=\"color: #7fbfbf; text-decoration-color: #7fbfbf\">           </span><span style=\"color: #000080; text-decoration-color: #000080\">INFO    </span> Collaborator two is sending task results for aggregated_model_validation, round <span style=\"color: #008080; text-decoration-color: #008080; font-weight: bold\">4</span>                                          <a href=\"file://C:\\Users\\BHSU\\AppData\\Local\\Programs\\Python\\Python39\\lib\\site-packages\\openfl\\component\\aggregator\\aggregator.py\" target=\"_blank\"><span style=\"color: #7f7f7f; text-decoration-color: #7f7f7f\">aggregator.py</span></a><span style=\"color: #7f7f7f; text-decoration-color: #7f7f7f\">:</span><a href=\"file://C:\\Users\\BHSU\\AppData\\Local\\Programs\\Python\\Python39\\lib\\site-packages\\openfl\\component\\aggregator\\aggregator.py#520\" target=\"_blank\"><span style=\"color: #7f7f7f; text-decoration-color: #7f7f7f\">520</span></a>\n",
       "</pre>\n"
      ],
      "text/plain": [
       "\u001b[2;36m          \u001b[0m\u001b[2;36m \u001b[0m\u001b[34mINFO    \u001b[0m Collaborator two is sending task results for aggregated_model_validation, round \u001b[1;36m4\u001b[0m                                          \u001b]8;id=750262;file://C:\\Users\\BHSU\\AppData\\Local\\Programs\\Python\\Python39\\lib\\site-packages\\openfl\\component\\aggregator\\aggregator.py\u001b\\\u001b[2maggregator.py\u001b[0m\u001b]8;;\u001b\\\u001b[2m:\u001b[0m\u001b]8;id=719193;file://C:\\Users\\BHSU\\AppData\\Local\\Programs\\Python\\Python39\\lib\\site-packages\\openfl\\component\\aggregator\\aggregator.py#520\u001b\\\u001b[2m520\u001b[0m\u001b]8;;\u001b\\\n"
      ]
     },
     "metadata": {},
     "output_type": "display_data"
    },
    {
     "data": {
      "text/html": [
       "<pre style=\"white-space:pre;overflow-x:auto;line-height:normal;font-family:Menlo,'DejaVu Sans Mono',consolas,'Courier New',monospace\"><span style=\"color: #7fbfbf; text-decoration-color: #7fbfbf\">           </span>METRIC   Round <span style=\"color: #008080; text-decoration-color: #008080; font-weight: bold\">4</span>, collaborator validate_agg aggregated_model_validation result accuracy: <span style=\"color: #008080; text-decoration-color: #008080; font-weight: bold\">0.947222</span>                                   <a href=\"file://C:\\Users\\BHSU\\AppData\\Local\\Programs\\Python\\Python39\\lib\\site-packages\\openfl\\component\\aggregator\\aggregator.py\" target=\"_blank\"><span style=\"color: #7f7f7f; text-decoration-color: #7f7f7f\">aggregator.py</span></a><span style=\"color: #7f7f7f; text-decoration-color: #7f7f7f\">:</span><a href=\"file://C:\\Users\\BHSU\\AppData\\Local\\Programs\\Python\\Python39\\lib\\site-packages\\openfl\\component\\aggregator\\aggregator.py#559\" target=\"_blank\"><span style=\"color: #7f7f7f; text-decoration-color: #7f7f7f\">559</span></a>\n",
       "</pre>\n"
      ],
      "text/plain": [
       "\u001b[2;36m          \u001b[0m\u001b[2;36m \u001b[0mMETRIC   Round \u001b[1;36m4\u001b[0m, collaborator validate_agg aggregated_model_validation result accuracy: \u001b[1;36m0.947222\u001b[0m                                   \u001b]8;id=924772;file://C:\\Users\\BHSU\\AppData\\Local\\Programs\\Python\\Python39\\lib\\site-packages\\openfl\\component\\aggregator\\aggregator.py\u001b\\\u001b[2maggregator.py\u001b[0m\u001b]8;;\u001b\\\u001b[2m:\u001b[0m\u001b]8;id=956797;file://C:\\Users\\BHSU\\AppData\\Local\\Programs\\Python\\Python39\\lib\\site-packages\\openfl\\component\\aggregator\\aggregator.py#559\u001b\\\u001b[2m559\u001b[0m\u001b]8;;\u001b\\\n"
      ]
     },
     "metadata": {},
     "output_type": "display_data"
    },
    {
     "data": {
      "text/html": [
       "<pre style=\"white-space:pre;overflow-x:auto;line-height:normal;font-family:Menlo,'DejaVu Sans Mono',consolas,'Courier New',monospace\"><span style=\"color: #7fbfbf; text-decoration-color: #7fbfbf\">           </span><span style=\"color: #000080; text-decoration-color: #000080\">INFO    </span> Using TaskRunner subclassing API                                                                                         <a href=\"file://C:\\Users\\BHSU\\AppData\\Local\\Programs\\Python\\Python39\\lib\\site-packages\\openfl\\component\\collaborator\\collaborator.py\" target=\"_blank\"><span style=\"color: #7f7f7f; text-decoration-color: #7f7f7f\">collaborator.py</span></a><span style=\"color: #7f7f7f; text-decoration-color: #7f7f7f\">:</span><a href=\"file://C:\\Users\\BHSU\\AppData\\Local\\Programs\\Python\\Python39\\lib\\site-packages\\openfl\\component\\collaborator\\collaborator.py#253\" target=\"_blank\"><span style=\"color: #7f7f7f; text-decoration-color: #7f7f7f\">253</span></a>\n",
       "</pre>\n"
      ],
      "text/plain": [
       "\u001b[2;36m          \u001b[0m\u001b[2;36m \u001b[0m\u001b[34mINFO    \u001b[0m Using TaskRunner subclassing API                                                                                         \u001b]8;id=140035;file://C:\\Users\\BHSU\\AppData\\Local\\Programs\\Python\\Python39\\lib\\site-packages\\openfl\\component\\collaborator\\collaborator.py\u001b\\\u001b[2mcollaborator.py\u001b[0m\u001b]8;;\u001b\\\u001b[2m:\u001b[0m\u001b]8;id=203659;file://C:\\Users\\BHSU\\AppData\\Local\\Programs\\Python\\Python39\\lib\\site-packages\\openfl\\component\\collaborator\\collaborator.py#253\u001b\\\u001b[2m253\u001b[0m\u001b]8;;\u001b\\\n"
      ]
     },
     "metadata": {},
     "output_type": "display_data"
    },
    {
     "data": {
      "text/html": [
       "<pre style=\"white-space:pre;overflow-x:auto;line-height:normal;font-family:Menlo,'DejaVu Sans Mono',consolas,'Courier New',monospace\"><span style=\"color: #7fbfbf; text-decoration-color: #7fbfbf\">           </span><span style=\"color: #000080; text-decoration-color: #000080\">INFO    </span> Run <span style=\"color: #008080; text-decoration-color: #008080; font-weight: bold\">0</span> epoch of <span style=\"color: #008080; text-decoration-color: #008080; font-weight: bold\">4</span> round                                                                                                    <a href=\"file://C:\\Users\\BHSU\\AppData\\Local\\Programs\\Python\\Python39\\lib\\site-packages\\openfl\\federated\\task\\runner_keras.py\" target=\"_blank\"><span style=\"color: #7f7f7f; text-decoration-color: #7f7f7f\">runner_keras.py</span></a><span style=\"color: #7f7f7f; text-decoration-color: #7f7f7f\">:</span><a href=\"file://C:\\Users\\BHSU\\AppData\\Local\\Programs\\Python\\Python39\\lib\\site-packages\\openfl\\federated\\task\\runner_keras.py#83\" target=\"_blank\"><span style=\"color: #7f7f7f; text-decoration-color: #7f7f7f\">83</span></a>\n",
       "</pre>\n"
      ],
      "text/plain": [
       "\u001b[2;36m          \u001b[0m\u001b[2;36m \u001b[0m\u001b[34mINFO    \u001b[0m Run \u001b[1;36m0\u001b[0m epoch of \u001b[1;36m4\u001b[0m round                                                                                                    \u001b]8;id=653354;file://C:\\Users\\BHSU\\AppData\\Local\\Programs\\Python\\Python39\\lib\\site-packages\\openfl\\federated\\task\\runner_keras.py\u001b\\\u001b[2mrunner_keras.py\u001b[0m\u001b]8;;\u001b\\\u001b[2m:\u001b[0m\u001b]8;id=472230;file://C:\\Users\\BHSU\\AppData\\Local\\Programs\\Python\\Python39\\lib\\site-packages\\openfl\\federated\\task\\runner_keras.py#83\u001b\\\u001b[2m83\u001b[0m\u001b]8;;\u001b\\\n"
      ]
     },
     "metadata": {},
     "output_type": "display_data"
    },
    {
     "name": "stdout",
     "output_type": "stream",
     "text": [
      "657/657 [==============================] - 0s 620us/step - loss: 0.1558 - accuracy: 0.9519\n"
     ]
    },
    {
     "data": {
      "text/html": [
       "<pre style=\"white-space:pre;overflow-x:auto;line-height:normal;font-family:Menlo,'DejaVu Sans Mono',consolas,'Courier New',monospace\"><span style=\"color: #7fbfbf; text-decoration-color: #7fbfbf\">[09:22:54] </span>METRIC   Round <span style=\"color: #008080; text-decoration-color: #008080; font-weight: bold\">4</span>, collaborator two is sending metric for task train: loss        <span style=\"color: #008080; text-decoration-color: #008080; font-weight: bold\">0.155760</span>                                         <a href=\"file://C:\\Users\\BHSU\\AppData\\Local\\Programs\\Python\\Python39\\lib\\site-packages\\openfl\\component\\collaborator\\collaborator.py\" target=\"_blank\"><span style=\"color: #7f7f7f; text-decoration-color: #7f7f7f\">collaborator.py</span></a><span style=\"color: #7f7f7f; text-decoration-color: #7f7f7f\">:</span><a href=\"file://C:\\Users\\BHSU\\AppData\\Local\\Programs\\Python\\Python39\\lib\\site-packages\\openfl\\component\\collaborator\\collaborator.py#415\" target=\"_blank\"><span style=\"color: #7f7f7f; text-decoration-color: #7f7f7f\">415</span></a>\n",
       "</pre>\n"
      ],
      "text/plain": [
       "\u001b[2;36m[09:22:54]\u001b[0m\u001b[2;36m \u001b[0mMETRIC   Round \u001b[1;36m4\u001b[0m, collaborator two is sending metric for task train: loss        \u001b[1;36m0.155760\u001b[0m                                         \u001b]8;id=519767;file://C:\\Users\\BHSU\\AppData\\Local\\Programs\\Python\\Python39\\lib\\site-packages\\openfl\\component\\collaborator\\collaborator.py\u001b\\\u001b[2mcollaborator.py\u001b[0m\u001b]8;;\u001b\\\u001b[2m:\u001b[0m\u001b]8;id=476920;file://C:\\Users\\BHSU\\AppData\\Local\\Programs\\Python\\Python39\\lib\\site-packages\\openfl\\component\\collaborator\\collaborator.py#415\u001b\\\u001b[2m415\u001b[0m\u001b]8;;\u001b\\\n"
      ]
     },
     "metadata": {},
     "output_type": "display_data"
    },
    {
     "data": {
      "text/html": [
       "<pre style=\"white-space:pre;overflow-x:auto;line-height:normal;font-family:Menlo,'DejaVu Sans Mono',consolas,'Courier New',monospace\"><span style=\"color: #7fbfbf; text-decoration-color: #7fbfbf\">           </span><span style=\"color: #000080; text-decoration-color: #000080\">INFO    </span> Collaborator two is sending task results for train, round <span style=\"color: #008080; text-decoration-color: #008080; font-weight: bold\">4</span>                                                                <a href=\"file://C:\\Users\\BHSU\\AppData\\Local\\Programs\\Python\\Python39\\lib\\site-packages\\openfl\\component\\aggregator\\aggregator.py\" target=\"_blank\"><span style=\"color: #7f7f7f; text-decoration-color: #7f7f7f\">aggregator.py</span></a><span style=\"color: #7f7f7f; text-decoration-color: #7f7f7f\">:</span><a href=\"file://C:\\Users\\BHSU\\AppData\\Local\\Programs\\Python\\Python39\\lib\\site-packages\\openfl\\component\\aggregator\\aggregator.py#520\" target=\"_blank\"><span style=\"color: #7f7f7f; text-decoration-color: #7f7f7f\">520</span></a>\n",
       "</pre>\n"
      ],
      "text/plain": [
       "\u001b[2;36m          \u001b[0m\u001b[2;36m \u001b[0m\u001b[34mINFO    \u001b[0m Collaborator two is sending task results for train, round \u001b[1;36m4\u001b[0m                                                                \u001b]8;id=889194;file://C:\\Users\\BHSU\\AppData\\Local\\Programs\\Python\\Python39\\lib\\site-packages\\openfl\\component\\aggregator\\aggregator.py\u001b\\\u001b[2maggregator.py\u001b[0m\u001b]8;;\u001b\\\u001b[2m:\u001b[0m\u001b]8;id=415263;file://C:\\Users\\BHSU\\AppData\\Local\\Programs\\Python\\Python39\\lib\\site-packages\\openfl\\component\\aggregator\\aggregator.py#520\u001b\\\u001b[2m520\u001b[0m\u001b]8;;\u001b\\\n"
      ]
     },
     "metadata": {},
     "output_type": "display_data"
    },
    {
     "data": {
      "text/html": [
       "<pre style=\"white-space:pre;overflow-x:auto;line-height:normal;font-family:Menlo,'DejaVu Sans Mono',consolas,'Courier New',monospace\"><span style=\"color: #7fbfbf; text-decoration-color: #7fbfbf\">           </span>METRIC   Round <span style=\"color: #008080; text-decoration-color: #008080; font-weight: bold\">4</span>, collaborator two train result loss:    <span style=\"color: #008080; text-decoration-color: #008080; font-weight: bold\">0.155760</span>                                                                   <a href=\"file://C:\\Users\\BHSU\\AppData\\Local\\Programs\\Python\\Python39\\lib\\site-packages\\openfl\\component\\aggregator\\aggregator.py\" target=\"_blank\"><span style=\"color: #7f7f7f; text-decoration-color: #7f7f7f\">aggregator.py</span></a><span style=\"color: #7f7f7f; text-decoration-color: #7f7f7f\">:</span><a href=\"file://C:\\Users\\BHSU\\AppData\\Local\\Programs\\Python\\Python39\\lib\\site-packages\\openfl\\component\\aggregator\\aggregator.py#559\" target=\"_blank\"><span style=\"color: #7f7f7f; text-decoration-color: #7f7f7f\">559</span></a>\n",
       "</pre>\n"
      ],
      "text/plain": [
       "\u001b[2;36m          \u001b[0m\u001b[2;36m \u001b[0mMETRIC   Round \u001b[1;36m4\u001b[0m, collaborator two train result loss:    \u001b[1;36m0.155760\u001b[0m                                                                   \u001b]8;id=749677;file://C:\\Users\\BHSU\\AppData\\Local\\Programs\\Python\\Python39\\lib\\site-packages\\openfl\\component\\aggregator\\aggregator.py\u001b\\\u001b[2maggregator.py\u001b[0m\u001b]8;;\u001b\\\u001b[2m:\u001b[0m\u001b]8;id=61678;file://C:\\Users\\BHSU\\AppData\\Local\\Programs\\Python\\Python39\\lib\\site-packages\\openfl\\component\\aggregator\\aggregator.py#559\u001b\\\u001b[2m559\u001b[0m\u001b]8;;\u001b\\\n"
      ]
     },
     "metadata": {},
     "output_type": "display_data"
    },
    {
     "data": {
      "text/html": [
       "<pre style=\"white-space:pre;overflow-x:auto;line-height:normal;font-family:Menlo,'DejaVu Sans Mono',consolas,'Courier New',monospace\"><span style=\"color: #7fbfbf; text-decoration-color: #7fbfbf\">           </span><span style=\"color: #000080; text-decoration-color: #000080\">INFO    </span> Using TaskRunner subclassing API                                                                                         <a href=\"file://C:\\Users\\BHSU\\AppData\\Local\\Programs\\Python\\Python39\\lib\\site-packages\\openfl\\component\\collaborator\\collaborator.py\" target=\"_blank\"><span style=\"color: #7f7f7f; text-decoration-color: #7f7f7f\">collaborator.py</span></a><span style=\"color: #7f7f7f; text-decoration-color: #7f7f7f\">:</span><a href=\"file://C:\\Users\\BHSU\\AppData\\Local\\Programs\\Python\\Python39\\lib\\site-packages\\openfl\\component\\collaborator\\collaborator.py#253\" target=\"_blank\"><span style=\"color: #7f7f7f; text-decoration-color: #7f7f7f\">253</span></a>\n",
       "</pre>\n"
      ],
      "text/plain": [
       "\u001b[2;36m          \u001b[0m\u001b[2;36m \u001b[0m\u001b[34mINFO    \u001b[0m Using TaskRunner subclassing API                                                                                         \u001b]8;id=142674;file://C:\\Users\\BHSU\\AppData\\Local\\Programs\\Python\\Python39\\lib\\site-packages\\openfl\\component\\collaborator\\collaborator.py\u001b\\\u001b[2mcollaborator.py\u001b[0m\u001b]8;;\u001b\\\u001b[2m:\u001b[0m\u001b]8;id=149147;file://C:\\Users\\BHSU\\AppData\\Local\\Programs\\Python\\Python39\\lib\\site-packages\\openfl\\component\\collaborator\\collaborator.py#253\u001b\\\u001b[2m253\u001b[0m\u001b]8;;\u001b\\\n"
      ]
     },
     "metadata": {},
     "output_type": "display_data"
    },
    {
     "name": "stdout",
     "output_type": "stream",
     "text": [
      "282/282 [==============================] - 0s 502us/step - loss: 0.1811 - accuracy: 0.9482\n"
     ]
    },
    {
     "data": {
      "text/html": [
       "<pre style=\"white-space:pre;overflow-x:auto;line-height:normal;font-family:Menlo,'DejaVu Sans Mono',consolas,'Courier New',monospace\"><span style=\"color: #7fbfbf; text-decoration-color: #7fbfbf\">           </span>METRIC   Round <span style=\"color: #008080; text-decoration-color: #008080; font-weight: bold\">4</span>, collaborator two is sending metric for task locally_tuned_model_validation: accuracy   <span style=\"color: #008080; text-decoration-color: #008080; font-weight: bold\">0.948222</span>                 <a href=\"file://C:\\Users\\BHSU\\AppData\\Local\\Programs\\Python\\Python39\\lib\\site-packages\\openfl\\component\\collaborator\\collaborator.py\" target=\"_blank\"><span style=\"color: #7f7f7f; text-decoration-color: #7f7f7f\">collaborator.py</span></a><span style=\"color: #7f7f7f; text-decoration-color: #7f7f7f\">:</span><a href=\"file://C:\\Users\\BHSU\\AppData\\Local\\Programs\\Python\\Python39\\lib\\site-packages\\openfl\\component\\collaborator\\collaborator.py#415\" target=\"_blank\"><span style=\"color: #7f7f7f; text-decoration-color: #7f7f7f\">415</span></a>\n",
       "</pre>\n"
      ],
      "text/plain": [
       "\u001b[2;36m          \u001b[0m\u001b[2;36m \u001b[0mMETRIC   Round \u001b[1;36m4\u001b[0m, collaborator two is sending metric for task locally_tuned_model_validation: accuracy   \u001b[1;36m0.948222\u001b[0m                 \u001b]8;id=948812;file://C:\\Users\\BHSU\\AppData\\Local\\Programs\\Python\\Python39\\lib\\site-packages\\openfl\\component\\collaborator\\collaborator.py\u001b\\\u001b[2mcollaborator.py\u001b[0m\u001b]8;;\u001b\\\u001b[2m:\u001b[0m\u001b]8;id=143899;file://C:\\Users\\BHSU\\AppData\\Local\\Programs\\Python\\Python39\\lib\\site-packages\\openfl\\component\\collaborator\\collaborator.py#415\u001b\\\u001b[2m415\u001b[0m\u001b]8;;\u001b\\\n"
      ]
     },
     "metadata": {},
     "output_type": "display_data"
    },
    {
     "data": {
      "text/html": [
       "<pre style=\"white-space:pre;overflow-x:auto;line-height:normal;font-family:Menlo,'DejaVu Sans Mono',consolas,'Courier New',monospace\"><span style=\"color: #7fbfbf; text-decoration-color: #7fbfbf\">           </span><span style=\"color: #000080; text-decoration-color: #000080\">INFO    </span> Collaborator two is sending task results for locally_tuned_model_validation, round <span style=\"color: #008080; text-decoration-color: #008080; font-weight: bold\">4</span>                                       <a href=\"file://C:\\Users\\BHSU\\AppData\\Local\\Programs\\Python\\Python39\\lib\\site-packages\\openfl\\component\\aggregator\\aggregator.py\" target=\"_blank\"><span style=\"color: #7f7f7f; text-decoration-color: #7f7f7f\">aggregator.py</span></a><span style=\"color: #7f7f7f; text-decoration-color: #7f7f7f\">:</span><a href=\"file://C:\\Users\\BHSU\\AppData\\Local\\Programs\\Python\\Python39\\lib\\site-packages\\openfl\\component\\aggregator\\aggregator.py#520\" target=\"_blank\"><span style=\"color: #7f7f7f; text-decoration-color: #7f7f7f\">520</span></a>\n",
       "</pre>\n"
      ],
      "text/plain": [
       "\u001b[2;36m          \u001b[0m\u001b[2;36m \u001b[0m\u001b[34mINFO    \u001b[0m Collaborator two is sending task results for locally_tuned_model_validation, round \u001b[1;36m4\u001b[0m                                       \u001b]8;id=697802;file://C:\\Users\\BHSU\\AppData\\Local\\Programs\\Python\\Python39\\lib\\site-packages\\openfl\\component\\aggregator\\aggregator.py\u001b\\\u001b[2maggregator.py\u001b[0m\u001b]8;;\u001b\\\u001b[2m:\u001b[0m\u001b]8;id=471824;file://C:\\Users\\BHSU\\AppData\\Local\\Programs\\Python\\Python39\\lib\\site-packages\\openfl\\component\\aggregator\\aggregator.py#520\u001b\\\u001b[2m520\u001b[0m\u001b]8;;\u001b\\\n"
      ]
     },
     "metadata": {},
     "output_type": "display_data"
    },
    {
     "data": {
      "text/html": [
       "<pre style=\"white-space:pre;overflow-x:auto;line-height:normal;font-family:Menlo,'DejaVu Sans Mono',consolas,'Courier New',monospace\"><span style=\"color: #7fbfbf; text-decoration-color: #7fbfbf\">           </span>METRIC   Round <span style=\"color: #008080; text-decoration-color: #008080; font-weight: bold\">4</span>, collaborator validate_local locally_tuned_model_validation result accuracy:    <span style=\"color: #008080; text-decoration-color: #008080; font-weight: bold\">0.948222</span>                           <a href=\"file://C:\\Users\\BHSU\\AppData\\Local\\Programs\\Python\\Python39\\lib\\site-packages\\openfl\\component\\aggregator\\aggregator.py\" target=\"_blank\"><span style=\"color: #7f7f7f; text-decoration-color: #7f7f7f\">aggregator.py</span></a><span style=\"color: #7f7f7f; text-decoration-color: #7f7f7f\">:</span><a href=\"file://C:\\Users\\BHSU\\AppData\\Local\\Programs\\Python\\Python39\\lib\\site-packages\\openfl\\component\\aggregator\\aggregator.py#559\" target=\"_blank\"><span style=\"color: #7f7f7f; text-decoration-color: #7f7f7f\">559</span></a>\n",
       "</pre>\n"
      ],
      "text/plain": [
       "\u001b[2;36m          \u001b[0m\u001b[2;36m \u001b[0mMETRIC   Round \u001b[1;36m4\u001b[0m, collaborator validate_local locally_tuned_model_validation result accuracy:    \u001b[1;36m0.948222\u001b[0m                           \u001b]8;id=318528;file://C:\\Users\\BHSU\\AppData\\Local\\Programs\\Python\\Python39\\lib\\site-packages\\openfl\\component\\aggregator\\aggregator.py\u001b\\\u001b[2maggregator.py\u001b[0m\u001b]8;;\u001b\\\u001b[2m:\u001b[0m\u001b]8;id=247605;file://C:\\Users\\BHSU\\AppData\\Local\\Programs\\Python\\Python39\\lib\\site-packages\\openfl\\component\\aggregator\\aggregator.py#559\u001b\\\u001b[2m559\u001b[0m\u001b]8;;\u001b\\\n"
      ]
     },
     "metadata": {},
     "output_type": "display_data"
    },
    {
     "data": {
      "text/html": [
       "<pre style=\"white-space:pre;overflow-x:auto;line-height:normal;font-family:Menlo,'DejaVu Sans Mono',consolas,'Courier New',monospace\"><span style=\"color: #7fbfbf; text-decoration-color: #7fbfbf\">           </span>METRIC   Round <span style=\"color: #008080; text-decoration-color: #008080; font-weight: bold\">4</span>, aggregator: locally_tuned_model_validation                                                                        <a href=\"file://C:\\Users\\BHSU\\AppData\\Local\\Programs\\Python\\Python39\\lib\\site-packages\\openfl\\component\\aggregator\\aggregator.py\" target=\"_blank\"><span style=\"color: #7f7f7f; text-decoration-color: #7f7f7f\">aggregator.py</span></a><span style=\"color: #7f7f7f; text-decoration-color: #7f7f7f\">:</span><a href=\"file://C:\\Users\\BHSU\\AppData\\Local\\Programs\\Python\\Python39\\lib\\site-packages\\openfl\\component\\aggregator\\aggregator.py#842\" target=\"_blank\"><span style=\"color: #7f7f7f; text-decoration-color: #7f7f7f\">842</span></a>\n",
       "<span style=\"color: #7fbfbf; text-decoration-color: #7fbfbf\">           </span>         <span style=\"font-weight: bold\">&lt;</span><span style=\"color: #ff00ff; text-decoration-color: #ff00ff; font-weight: bold\">openfl.interface.aggregation_functions.weighted_average.WeightedAverage</span><span style=\"color: #000000; text-decoration-color: #000000\"> object at </span><span style=\"color: #008080; text-decoration-color: #008080; font-weight: bold\">0x0000020F55654AC0</span><span style=\"font-weight: bold\">&gt;</span> accuracy:           <span style=\"color: #7f7f7f; text-decoration-color: #7f7f7f\">                 </span>\n",
       "<span style=\"color: #7fbfbf; text-decoration-color: #7fbfbf\">           </span>         <span style=\"color: #008080; text-decoration-color: #008080; font-weight: bold\">0.944056</span>                                                                                                                   <span style=\"color: #7f7f7f; text-decoration-color: #7f7f7f\">                 </span>\n",
       "</pre>\n"
      ],
      "text/plain": [
       "\u001b[2;36m          \u001b[0m\u001b[2;36m \u001b[0mMETRIC   Round \u001b[1;36m4\u001b[0m, aggregator: locally_tuned_model_validation                                                                        \u001b]8;id=936351;file://C:\\Users\\BHSU\\AppData\\Local\\Programs\\Python\\Python39\\lib\\site-packages\\openfl\\component\\aggregator\\aggregator.py\u001b\\\u001b[2maggregator.py\u001b[0m\u001b]8;;\u001b\\\u001b[2m:\u001b[0m\u001b]8;id=85193;file://C:\\Users\\BHSU\\AppData\\Local\\Programs\\Python\\Python39\\lib\\site-packages\\openfl\\component\\aggregator\\aggregator.py#842\u001b\\\u001b[2m842\u001b[0m\u001b]8;;\u001b\\\n",
       "\u001b[2;36m           \u001b[0m         \u001b[1m<\u001b[0m\u001b[1;95mopenfl.interface.aggregation_functions.weighted_average.WeightedAverage\u001b[0m\u001b[39m object at \u001b[0m\u001b[1;36m0x0000020F55654AC0\u001b[0m\u001b[1m>\u001b[0m accuracy:           \u001b[2m                 \u001b[0m\n",
       "\u001b[2;36m           \u001b[0m         \u001b[1;36m0.944056\u001b[0m                                                                                                                   \u001b[2m                 \u001b[0m\n"
      ]
     },
     "metadata": {},
     "output_type": "display_data"
    },
    {
     "data": {
      "text/html": [
       "<pre style=\"white-space:pre;overflow-x:auto;line-height:normal;font-family:Menlo,'DejaVu Sans Mono',consolas,'Courier New',monospace\"><span style=\"color: #7fbfbf; text-decoration-color: #7fbfbf\">           </span>METRIC   Round <span style=\"color: #008080; text-decoration-color: #008080; font-weight: bold\">4</span>, aggregator: aggregated_model_validation <span style=\"font-weight: bold\">&lt;</span><span style=\"color: #ff00ff; text-decoration-color: #ff00ff; font-weight: bold\">openfl.interface.aggregation_functions.weighted_average.WeightedAverage</span><span style=\"color: #000000; text-decoration-color: #000000\"> </span> <a href=\"file://C:\\Users\\BHSU\\AppData\\Local\\Programs\\Python\\Python39\\lib\\site-packages\\openfl\\component\\aggregator\\aggregator.py\" target=\"_blank\"><span style=\"color: #7f7f7f; text-decoration-color: #7f7f7f\">aggregator.py</span></a><span style=\"color: #7f7f7f; text-decoration-color: #7f7f7f\">:</span><a href=\"file://C:\\Users\\BHSU\\AppData\\Local\\Programs\\Python\\Python39\\lib\\site-packages\\openfl\\component\\aggregator\\aggregator.py#842\" target=\"_blank\"><span style=\"color: #7f7f7f; text-decoration-color: #7f7f7f\">842</span></a>\n",
       "<span style=\"color: #7fbfbf; text-decoration-color: #7fbfbf\">           </span>         <span style=\"color: #000000; text-decoration-color: #000000\">object at </span><span style=\"color: #008080; text-decoration-color: #008080; font-weight: bold\">0x0000020F55654AC0</span><span style=\"font-weight: bold\">&gt;</span> accuracy:       <span style=\"color: #008080; text-decoration-color: #008080; font-weight: bold\">0.949444</span>                                                                     <span style=\"color: #7f7f7f; text-decoration-color: #7f7f7f\">                 </span>\n",
       "</pre>\n"
      ],
      "text/plain": [
       "\u001b[2;36m          \u001b[0m\u001b[2;36m \u001b[0mMETRIC   Round \u001b[1;36m4\u001b[0m, aggregator: aggregated_model_validation \u001b[1m<\u001b[0m\u001b[1;95mopenfl.interface.aggregation_functions.weighted_average.WeightedAverage\u001b[0m\u001b[39m \u001b[0m \u001b]8;id=584490;file://C:\\Users\\BHSU\\AppData\\Local\\Programs\\Python\\Python39\\lib\\site-packages\\openfl\\component\\aggregator\\aggregator.py\u001b\\\u001b[2maggregator.py\u001b[0m\u001b]8;;\u001b\\\u001b[2m:\u001b[0m\u001b]8;id=395864;file://C:\\Users\\BHSU\\AppData\\Local\\Programs\\Python\\Python39\\lib\\site-packages\\openfl\\component\\aggregator\\aggregator.py#842\u001b\\\u001b[2m842\u001b[0m\u001b]8;;\u001b\\\n",
       "\u001b[2;36m           \u001b[0m         \u001b[39mobject at \u001b[0m\u001b[1;36m0x0000020F55654AC0\u001b[0m\u001b[1m>\u001b[0m accuracy:       \u001b[1;36m0.949444\u001b[0m                                                                     \u001b[2m                 \u001b[0m\n"
      ]
     },
     "metadata": {},
     "output_type": "display_data"
    },
    {
     "data": {
      "text/html": [
       "<pre style=\"white-space:pre;overflow-x:auto;line-height:normal;font-family:Menlo,'DejaVu Sans Mono',consolas,'Courier New',monospace\"><span style=\"color: #7fbfbf; text-decoration-color: #7fbfbf\">           </span>METRIC   Round <span style=\"color: #008080; text-decoration-color: #008080; font-weight: bold\">4</span>: saved the best model with score <span style=\"color: #008080; text-decoration-color: #008080; font-weight: bold\">0.949444</span>                                                                          <a href=\"file://C:\\Users\\BHSU\\AppData\\Local\\Programs\\Python\\Python39\\lib\\site-packages\\openfl\\component\\aggregator\\aggregator.py\" target=\"_blank\"><span style=\"color: #7f7f7f; text-decoration-color: #7f7f7f\">aggregator.py</span></a><span style=\"color: #7f7f7f; text-decoration-color: #7f7f7f\">:</span><a href=\"file://C:\\Users\\BHSU\\AppData\\Local\\Programs\\Python\\Python39\\lib\\site-packages\\openfl\\component\\aggregator\\aggregator.py#858\" target=\"_blank\"><span style=\"color: #7f7f7f; text-decoration-color: #7f7f7f\">858</span></a>\n",
       "</pre>\n"
      ],
      "text/plain": [
       "\u001b[2;36m          \u001b[0m\u001b[2;36m \u001b[0mMETRIC   Round \u001b[1;36m4\u001b[0m: saved the best model with score \u001b[1;36m0.949444\u001b[0m                                                                          \u001b]8;id=828589;file://C:\\Users\\BHSU\\AppData\\Local\\Programs\\Python\\Python39\\lib\\site-packages\\openfl\\component\\aggregator\\aggregator.py\u001b\\\u001b[2maggregator.py\u001b[0m\u001b]8;;\u001b\\\u001b[2m:\u001b[0m\u001b]8;id=158211;file://C:\\Users\\BHSU\\AppData\\Local\\Programs\\Python\\Python39\\lib\\site-packages\\openfl\\component\\aggregator\\aggregator.py#858\u001b\\\u001b[2m858\u001b[0m\u001b]8;;\u001b\\\n"
      ]
     },
     "metadata": {},
     "output_type": "display_data"
    },
    {
     "data": {
      "text/html": [
       "<pre style=\"white-space:pre;overflow-x:auto;line-height:normal;font-family:Menlo,'DejaVu Sans Mono',consolas,'Courier New',monospace\"><span style=\"color: #7fbfbf; text-decoration-color: #7fbfbf\">           </span>METRIC   Round <span style=\"color: #008080; text-decoration-color: #008080; font-weight: bold\">4</span>, aggregator: train <span style=\"font-weight: bold\">&lt;</span><span style=\"color: #ff00ff; text-decoration-color: #ff00ff; font-weight: bold\">openfl.interface.aggregation_functions.weighted_average.WeightedAverage</span><span style=\"color: #000000; text-decoration-color: #000000\"> object at </span>             <a href=\"file://C:\\Users\\BHSU\\AppData\\Local\\Programs\\Python\\Python39\\lib\\site-packages\\openfl\\component\\aggregator\\aggregator.py\" target=\"_blank\"><span style=\"color: #7f7f7f; text-decoration-color: #7f7f7f\">aggregator.py</span></a><span style=\"color: #7f7f7f; text-decoration-color: #7f7f7f\">:</span><a href=\"file://C:\\Users\\BHSU\\AppData\\Local\\Programs\\Python\\Python39\\lib\\site-packages\\openfl\\component\\aggregator\\aggregator.py#842\" target=\"_blank\"><span style=\"color: #7f7f7f; text-decoration-color: #7f7f7f\">842</span></a>\n",
       "<span style=\"color: #7fbfbf; text-decoration-color: #7fbfbf\">           </span>         <span style=\"color: #008080; text-decoration-color: #008080; font-weight: bold\">0x0000020F55654AC0</span><span style=\"font-weight: bold\">&gt;</span> loss: <span style=\"color: #008080; text-decoration-color: #008080; font-weight: bold\">0.159224</span>                                                                                         <span style=\"color: #7f7f7f; text-decoration-color: #7f7f7f\">                 </span>\n",
       "</pre>\n"
      ],
      "text/plain": [
       "\u001b[2;36m          \u001b[0m\u001b[2;36m \u001b[0mMETRIC   Round \u001b[1;36m4\u001b[0m, aggregator: train \u001b[1m<\u001b[0m\u001b[1;95mopenfl.interface.aggregation_functions.weighted_average.WeightedAverage\u001b[0m\u001b[39m object at \u001b[0m             \u001b]8;id=368932;file://C:\\Users\\BHSU\\AppData\\Local\\Programs\\Python\\Python39\\lib\\site-packages\\openfl\\component\\aggregator\\aggregator.py\u001b\\\u001b[2maggregator.py\u001b[0m\u001b]8;;\u001b\\\u001b[2m:\u001b[0m\u001b]8;id=350993;file://C:\\Users\\BHSU\\AppData\\Local\\Programs\\Python\\Python39\\lib\\site-packages\\openfl\\component\\aggregator\\aggregator.py#842\u001b\\\u001b[2m842\u001b[0m\u001b]8;;\u001b\\\n",
       "\u001b[2;36m           \u001b[0m         \u001b[1;36m0x0000020F55654AC0\u001b[0m\u001b[1m>\u001b[0m loss: \u001b[1;36m0.159224\u001b[0m                                                                                         \u001b[2m                 \u001b[0m\n"
      ]
     },
     "metadata": {},
     "output_type": "display_data"
    },
    {
     "data": {
      "text/html": [
       "<pre style=\"white-space:pre;overflow-x:auto;line-height:normal;font-family:Menlo,'DejaVu Sans Mono',consolas,'Courier New',monospace\"><span style=\"color: #7fbfbf; text-decoration-color: #7fbfbf\">           </span><span style=\"color: #000080; text-decoration-color: #000080\">INFO    </span> Saving round <span style=\"color: #008080; text-decoration-color: #008080; font-weight: bold\">5</span> model<span style=\"color: #808000; text-decoration-color: #808000\">...</span>                                                                                                    <a href=\"file://C:\\Users\\BHSU\\AppData\\Local\\Programs\\Python\\Python39\\lib\\site-packages\\openfl\\component\\aggregator\\aggregator.py\" target=\"_blank\"><span style=\"color: #7f7f7f; text-decoration-color: #7f7f7f\">aggregator.py</span></a><span style=\"color: #7f7f7f; text-decoration-color: #7f7f7f\">:</span><a href=\"file://C:\\Users\\BHSU\\AppData\\Local\\Programs\\Python\\Python39\\lib\\site-packages\\openfl\\component\\aggregator\\aggregator.py#894\" target=\"_blank\"><span style=\"color: #7f7f7f; text-decoration-color: #7f7f7f\">894</span></a>\n",
       "</pre>\n"
      ],
      "text/plain": [
       "\u001b[2;36m          \u001b[0m\u001b[2;36m \u001b[0m\u001b[34mINFO    \u001b[0m Saving round \u001b[1;36m5\u001b[0m model\u001b[33m...\u001b[0m                                                                                                    \u001b]8;id=448918;file://C:\\Users\\BHSU\\AppData\\Local\\Programs\\Python\\Python39\\lib\\site-packages\\openfl\\component\\aggregator\\aggregator.py\u001b\\\u001b[2maggregator.py\u001b[0m\u001b]8;;\u001b\\\u001b[2m:\u001b[0m\u001b]8;id=39690;file://C:\\Users\\BHSU\\AppData\\Local\\Programs\\Python\\Python39\\lib\\site-packages\\openfl\\component\\aggregator\\aggregator.py#894\u001b\\\u001b[2m894\u001b[0m\u001b]8;;\u001b\\\n"
      ]
     },
     "metadata": {},
     "output_type": "display_data"
    },
    {
     "data": {
      "text/html": [
       "<pre style=\"white-space:pre;overflow-x:auto;line-height:normal;font-family:Menlo,'DejaVu Sans Mono',consolas,'Courier New',monospace\"><span style=\"color: #7fbfbf; text-decoration-color: #7fbfbf\">           </span><span style=\"color: #000080; text-decoration-color: #000080\">INFO    </span> Experiment Completed. Cleaning up<span style=\"color: #808000; text-decoration-color: #808000\">...</span>                                                                                       <a href=\"file://C:\\Users\\BHSU\\AppData\\Local\\Programs\\Python\\Python39\\lib\\site-packages\\openfl\\component\\aggregator\\aggregator.py\" target=\"_blank\"><span style=\"color: #7f7f7f; text-decoration-color: #7f7f7f\">aggregator.py</span></a><span style=\"color: #7f7f7f; text-decoration-color: #7f7f7f\">:</span><a href=\"file://C:\\Users\\BHSU\\AppData\\Local\\Programs\\Python\\Python39\\lib\\site-packages\\openfl\\component\\aggregator\\aggregator.py#899\" target=\"_blank\"><span style=\"color: #7f7f7f; text-decoration-color: #7f7f7f\">899</span></a>\n",
       "</pre>\n"
      ],
      "text/plain": [
       "\u001b[2;36m          \u001b[0m\u001b[2;36m \u001b[0m\u001b[34mINFO    \u001b[0m Experiment Completed. Cleaning up\u001b[33m...\u001b[0m                                                                                       \u001b]8;id=139202;file://C:\\Users\\BHSU\\AppData\\Local\\Programs\\Python\\Python39\\lib\\site-packages\\openfl\\component\\aggregator\\aggregator.py\u001b\\\u001b[2maggregator.py\u001b[0m\u001b]8;;\u001b\\\u001b[2m:\u001b[0m\u001b]8;id=33304;file://C:\\Users\\BHSU\\AppData\\Local\\Programs\\Python\\Python39\\lib\\site-packages\\openfl\\component\\aggregator\\aggregator.py#899\u001b\\\u001b[2m899\u001b[0m\u001b]8;;\u001b\\\n"
      ]
     },
     "metadata": {},
     "output_type": "display_data"
    },
    {
     "data": {
      "text/html": [
       "<pre style=\"white-space:pre;overflow-x:auto;line-height:normal;font-family:Menlo,'DejaVu Sans Mono',consolas,'Courier New',monospace\"><span style=\"color: #7fbfbf; text-decoration-color: #7fbfbf\">           </span><span style=\"color: #000080; text-decoration-color: #000080\">INFO    </span> All tasks completed on two for round <span style=\"color: #008080; text-decoration-color: #008080; font-weight: bold\">4</span><span style=\"color: #808000; text-decoration-color: #808000\">...</span>                                                                                <a href=\"file://C:\\Users\\BHSU\\AppData\\Local\\Programs\\Python\\Python39\\lib\\site-packages\\openfl\\component\\collaborator\\collaborator.py\" target=\"_blank\"><span style=\"color: #7f7f7f; text-decoration-color: #7f7f7f\">collaborator.py</span></a><span style=\"color: #7f7f7f; text-decoration-color: #7f7f7f\">:</span><a href=\"file://C:\\Users\\BHSU\\AppData\\Local\\Programs\\Python\\Python39\\lib\\site-packages\\openfl\\component\\collaborator\\collaborator.py#171\" target=\"_blank\"><span style=\"color: #7f7f7f; text-decoration-color: #7f7f7f\">171</span></a>\n",
       "</pre>\n"
      ],
      "text/plain": [
       "\u001b[2;36m          \u001b[0m\u001b[2;36m \u001b[0m\u001b[34mINFO    \u001b[0m All tasks completed on two for round \u001b[1;36m4\u001b[0m\u001b[33m...\u001b[0m                                                                                \u001b]8;id=295639;file://C:\\Users\\BHSU\\AppData\\Local\\Programs\\Python\\Python39\\lib\\site-packages\\openfl\\component\\collaborator\\collaborator.py\u001b\\\u001b[2mcollaborator.py\u001b[0m\u001b]8;;\u001b\\\u001b[2m:\u001b[0m\u001b]8;id=440630;file://C:\\Users\\BHSU\\AppData\\Local\\Programs\\Python\\Python39\\lib\\site-packages\\openfl\\component\\collaborator\\collaborator.py#171\u001b\\\u001b[2m171\u001b[0m\u001b]8;;\u001b\\\n"
      ]
     },
     "metadata": {},
     "output_type": "display_data"
    }
   ],
   "source": [
    "#Run experiment, return trained FederatedModel\n",
    "final_fl_model = fx.run_experiment(collaborators,override_config={'aggregator.settings.rounds_to_train':5})"
   ]
  },
  {
   "cell_type": "code",
   "execution_count": 17,
   "id": "b1375074-5c51-4581-b784-05d3aafae7bf",
   "metadata": {},
   "outputs": [],
   "source": [
    "#Save final model and load into keras\n",
    "final_fl_model.save_native('final_model')\n",
    "model = tf.keras.models.load_model('./final_model')"
   ]
  },
  {
   "cell_type": "code",
   "execution_count": 18,
   "id": "ab5abf57-124a-4776-8470-1981916add3f",
   "metadata": {},
   "outputs": [
    {
     "name": "stdout",
     "output_type": "stream",
     "text": [
      "313/313 [==============================] - 0s 478us/step - loss: 0.1381 - accuracy: 0.9577\n"
     ]
    },
    {
     "data": {
      "text/plain": [
       "[0.13806621730327606, 0.9577000141143799]"
      ]
     },
     "execution_count": 18,
     "metadata": {},
     "output_type": "execute_result"
    }
   ],
   "source": [
    "#Test the final model on our test set\n",
    "model.evaluate(test_images,test_labels)"
   ]
  }
 ],
 "metadata": {
  "kernelspec": {
   "display_name": "Python 3 (ipykernel)",
   "language": "python",
   "name": "python3"
  },
  "language_info": {
   "codemirror_mode": {
    "name": "ipython",
    "version": 3
   },
   "file_extension": ".py",
   "mimetype": "text/x-python",
   "name": "python",
   "nbconvert_exporter": "python",
   "pygments_lexer": "ipython3",
   "version": "3.9.10"
  }
 },
 "nbformat": 4,
 "nbformat_minor": 5
}
