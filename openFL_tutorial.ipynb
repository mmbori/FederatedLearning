{
 "cells": [
  {
   "cell_type": "code",
   "execution_count": 5,
   "id": "2c360b45-e83e-4017-b5a6-d59183b3458f",
   "metadata": {},
   "outputs": [],
   "source": [
    "import numpy as np\n",
    "import tensorflow as tf\n",
    "import tensorflow.keras as keras\n",
    "from tensorflow.keras import backend as K\n",
    "from tensorflow.keras import Sequential\n",
    "from tensorflow.keras.layers import Conv2D, Flatten, Dense\n",
    "from tensorflow.keras.utils import to_categorical\n",
    "from tensorflow.keras.datasets import mnist"
   ]
  },
  {
   "cell_type": "code",
   "execution_count": 6,
   "id": "eb0cdc3d-f8f5-4805-bfd8-ca49fd8f5960",
   "metadata": {},
   "outputs": [],
   "source": [
    "import openfl.native as fx\n",
    "from openfl.federated import FederatedModel,FederatedDataSet"
   ]
  },
  {
   "cell_type": "code",
   "execution_count": 7,
   "id": "98c6fe34-fcf6-4b9b-8228-88ca9b64f530",
   "metadata": {},
   "outputs": [
    {
     "name": "stdout",
     "output_type": "stream",
     "text": [
      "We are using Tensorflow version 2.7.0\n",
      "Intel-optimizations (DNNL) enabled: False\n"
     ]
    }
   ],
   "source": [
    "def test_intel_tensorflow() :\n",
    "    import tensorflow as tf\n",
    "    print(\"We are using Tensorflow version {}\".format(tf.__version__))\n",
    "    \n",
    "    major_version = int(tf.__version__.split(\".\")[0])\n",
    "    if major_version >= 2 :\n",
    "        from tensorflow.python.util import _pywrap_util_port\n",
    "        print(\"Intel-optimizations (DNNL) enabled:\", _pywrap_util_port.IsMklEnabled())\n",
    "    else :\n",
    "        print(\"Intel-optimizations  (DNNL) enabled:\")\n",
    "\n",
    "test_intel_tensorflow()"
   ]
  },
  {
   "cell_type": "code",
   "execution_count": 8,
   "id": "a29b6213-48d5-4cb6-b45c-597d728a8733",
   "metadata": {},
   "outputs": [
    {
     "name": "stdout",
     "output_type": "stream",
     "text": [
      "Creating Workspace Directories\n",
      "Creating Workspace Templates\n",
      "Successfully installed packages from C:\\Users\\BHSU\\.local\\workspace/requirements.txt.\n",
      "\n",
      "New workspace directory structure:\n",
      "workspace\n",
      "├── .workspace\n",
      "├── agg_to_col_one_signed_cert.zip\n",
      "├── agg_to_col_two_signed_cert.zip\n",
      "├── cert\n",
      "├── data\n",
      "├── final_model\n",
      "│   ├── assets\n",
      "│   ├── keras_metadata.pb\n",
      "│   ├── saved_model.pb\n",
      "│   └── variables\n",
      "│       ├── variables.data-00000-of-00001\n",
      "│       └── variables.index\n",
      "├── logs\n",
      "│   └── tensorboard\n",
      "│       └── events.out.tfevents.1681111804.DESKTOP-8R9A5NI\n",
      "├── plan\n",
      "│   ├── cols.yaml\n",
      "│   ├── data.yaml\n",
      "│   ├── defaults\n",
      "│   └── plan.yaml\n",
      "├── requirements.txt\n",
      "├── save\n",
      "│   ├── keras_cnn_mnist_best.pbuf\n",
      "│   ├── keras_cnn_mnist_init.pbuf\n",
      "│   └── keras_cnn_mnist_last.pbuf\n",
      "└── src\n",
      "    ├── keras_cnn.py\n",
      "    ├── mnist_utils.py\n",
      "    ├── tfmnist_inmemory.py\n",
      "    └── __init__.py\n",
      "\n",
      "10 directories, 20 files\n",
      "Setting Up Certificate Authority...\n",
      "\n",
      "1.  Create Root CA\n",
      "1.1 Create Directories\n",
      "1.2 Create Database\n",
      "1.3 Create CA Request and Certificate\n",
      "2.  Create Signing Certificate\n",
      "2.1 Create Directories\n",
      "2.2 Create Database\n",
      "2.3 Create Signing Certificate CSR\n",
      "2.4 Sign Signing Certificate CSR\n",
      "3   Create Certificate Chain\n",
      "\n",
      "Done.\n",
      "Creating AGGREGATOR certificate key pair with following settings: CN=\u001b[31mdesktop-8r9a5ni\u001b[0m, SAN=\u001b[31mDNS:desktop-8r9a5ni\u001b[0m\n",
      "  Writing AGGREGATOR certificate key pair to: \u001b[32mD:\\Jupyter\\OpenFL\\cert/server\u001b[0m\n",
      "The CSR Hash for file \u001b[32mserver/agg_desktop-8r9a5ni.csr\u001b[0m = \u001b[31mc0f5b427ef5ff9f57c0cc1c4cf3062133143c7a8809dc5223ff4f17114f49515aaca40a4bb71c81c346d62d9ced99d1d\u001b[0m\n",
      " Signing AGGREGATOR certificate\n",
      "Creating COLLABORATOR certificate key pair with following settings: CN=\u001b[31mone\u001b[0m, SAN=\u001b[31mDNS:one\u001b[0m\n",
      "  Moving COLLABORATOR certificate to: \u001b[32mD:\\Jupyter\\OpenFL\\cert/col_one\u001b[0m\n",
      "The CSR Hash for file \u001b[32mcol_one.csr\u001b[0m = \u001b[31me638808198fcdca86e6d4b2b1eba0d704d4e7ac8c25f2b0b66d52955a7e51573375c43f212f50af2cc8ef34c9541152b\u001b[0m\n",
      " Signing COLLABORATOR certificate\n",
      "\n",
      "Registering \u001b[32mone\u001b[0m in \u001b[32mC:\\Users\\BHSU\\.local\\workspace\\plan\\cols.yaml\u001b[0m\n",
      "Creating COLLABORATOR certificate key pair with following settings: CN=\u001b[31mtwo\u001b[0m, SAN=\u001b[31mDNS:two\u001b[0m\n",
      "  Moving COLLABORATOR certificate to: \u001b[32mD:\\Jupyter\\OpenFL\\cert/col_two\u001b[0m\n",
      "The CSR Hash for file \u001b[32mcol_two.csr\u001b[0m = \u001b[31mf0142aa32979b66d0ca71be24c45766d36842c1630a74c23b896ee55fe014c834eaa63793182575debf87d795d9972be\u001b[0m\n",
      " Signing COLLABORATOR certificate\n",
      "\n",
      "Registering \u001b[32mtwo\u001b[0m in \u001b[32mC:\\Users\\BHSU\\.local\\workspace\\plan\\cols.yaml\u001b[0m\n"
     ]
    }
   ],
   "source": [
    "fx.init('keras_cnn_mnist')"
   ]
  },
  {
   "cell_type": "code",
   "execution_count": 9,
   "id": "966b7b7b-4a4b-4dc4-84cc-079435a2b7fa",
   "metadata": {},
   "outputs": [],
   "source": [
    "#Import and process training, validation, and test images/labels\n",
    "\n",
    "# Set the ratio of validation imgs, can't be 0.0\n",
    "VALID_PERCENT = 0.3\n",
    "\n",
    "(X_train, y_train), (X_test, y_test) = mnist.load_data()\n",
    "split_on = int((1 - VALID_PERCENT) * len(X_train))\n",
    "\n",
    "train_images = X_train[0:split_on,:,:]\n",
    "train_labels = to_categorical(y_train)[0:split_on,:]\n",
    "\n",
    "valid_images = X_train[split_on:,:,:]\n",
    "valid_labels = to_categorical(y_train)[split_on:,:]\n",
    "\n",
    "test_images = X_test\n",
    "test_labels = to_categorical(y_test)\n",
    "\n",
    "def preprocess(images):\n",
    "    #Normalize\n",
    "    images = (images / 255) - 0.5\n",
    "    #Flatten\n",
    "    images = images.reshape((-1, 784))\n",
    "    return images\n",
    "\n",
    "# Preprocess the images.\n",
    "train_images = preprocess(train_images)\n",
    "valid_images = preprocess(valid_images)\n",
    "test_images = preprocess(test_images)\n",
    "\n",
    "feature_shape = train_images.shape[1]\n",
    "classes = 10\n",
    "\n",
    "fl_data = FederatedDataSet(train_images,train_labels,valid_images,valid_labels,batch_size=32,num_classes=classes)\n",
    "\n",
    "def build_model(feature_shape,classes):\n",
    "    #Defines the MNIST model\n",
    "    model = Sequential()\n",
    "    model.add(Dense(64, input_shape=feature_shape, activation='relu'))\n",
    "    model.add(Dense(64, activation='relu'))\n",
    "    model.add(Dense(classes, activation='softmax'))\n",
    "    \n",
    "    model.compile(optimizer='adam',loss='categorical_crossentropy',metrics=['accuracy'],)\n",
    "    return model"
   ]
  },
  {
   "cell_type": "code",
   "execution_count": 10,
   "id": "72d85eba-e4c8-442d-be68-01ce26f8e9e9",
   "metadata": {},
   "outputs": [],
   "source": [
    "#Create a federated model using the build model function and dataset\n",
    "fl_model = FederatedModel(build_model,data_loader=fl_data)"
   ]
  },
  {
   "cell_type": "code",
   "execution_count": 11,
   "id": "33a3449b-e9dc-4ba6-9bd3-5aa1a8f8afa9",
   "metadata": {},
   "outputs": [],
   "source": [
    "collaborator_models = fl_model.setup(num_collaborators=2)\n",
    "collaborators = {'one':collaborator_models[0],'two':collaborator_models[1]}#, 'three':collaborator_models[2]}"
   ]
  },
  {
   "cell_type": "code",
   "execution_count": 12,
   "id": "c3bc35ba-936e-4fd0-951d-3b749c285852",
   "metadata": {},
   "outputs": [
    {
     "name": "stdout",
     "output_type": "stream",
     "text": [
      "Original training data size: 42000\n",
      "Original validation data size: 18000\n",
      "\n",
      "Collaborator one's training data size: 21000\n",
      "Collaborator one's validation data size: 9000\n",
      "\n",
      "Collaborator two's training data size: 21000\n",
      "Collaborator two's validation data size: 9000\n",
      "\n"
     ]
    }
   ],
   "source": [
    "#Original MNIST dataset\n",
    "print(f'Original training data size: {len(train_images)}')\n",
    "print(f'Original validation data size: {len(valid_images)}\\n')\n",
    "\n",
    "#Collaborator one's data\n",
    "print(f'Collaborator one\\'s training data size: {len(collaborator_models[0].data_loader.X_train)}')\n",
    "print(f'Collaborator one\\'s validation data size: {len(collaborator_models[0].data_loader.X_valid)}\\n')\n",
    "\n",
    "#Collaborator two's data\n",
    "print(f'Collaborator two\\'s training data size: {len(collaborator_models[1].data_loader.X_train)}')\n",
    "print(f'Collaborator two\\'s validation data size: {len(collaborator_models[1].data_loader.X_valid)}\\n')\n",
    "\n",
    "#Collaborator three's data\n",
    "#print(f'Collaborator three\\'s training data size: {len(collaborator_models[2].data_loader.X_train)}')\n",
    "#print(f'Collaborator three\\'s validation data size: {len(collaborator_models[2].data_loader.X_valid)}')"
   ]
  },
  {
   "cell_type": "code",
   "execution_count": 11,
   "id": "fb204a9d-a1de-4550-825e-6c7c0a733a42",
   "metadata": {},
   "outputs": [
    {
     "name": "stdout",
     "output_type": "stream",
     "text": [
      "{\n",
      "    \"aggregator.settings.best_state_path\": \"save/keras_cnn_mnist_best.pbuf\",\n",
      "    \"aggregator.settings.db_store_rounds\": 2,\n",
      "    \"aggregator.settings.init_state_path\": \"save/keras_cnn_mnist_init.pbuf\",\n",
      "    \"aggregator.settings.last_state_path\": \"save/keras_cnn_mnist_last.pbuf\",\n",
      "    \"aggregator.settings.rounds_to_train\": 10,\n",
      "    \"aggregator.settings.write_logs\": true,\n",
      "    \"aggregator.template\": \"openfl.component.Aggregator\",\n",
      "    \"assigner.settings.task_groups.0.name\": \"train_and_validate\",\n",
      "    \"assigner.settings.task_groups.0.percentage\": 1.0,\n",
      "    \"assigner.settings.task_groups.0.tasks.0\": \"aggregated_model_validation\",\n",
      "    \"assigner.settings.task_groups.0.tasks.1\": \"train\",\n",
      "    \"assigner.settings.task_groups.0.tasks.2\": \"locally_tuned_model_validation\",\n",
      "    \"assigner.template\": \"openfl.component.RandomGroupedAssigner\",\n",
      "    \"collaborator.settings.db_store_rounds\": 1,\n",
      "    \"collaborator.settings.delta_updates\": false,\n",
      "    \"collaborator.settings.opt_treatment\": \"RESET\",\n",
      "    \"collaborator.template\": \"openfl.component.Collaborator\",\n",
      "    \"compression_pipeline.settings\": {},\n",
      "    \"compression_pipeline.template\": \"openfl.pipelines.NoCompressionPipeline\",\n",
      "    \"data_loader.settings.batch_size\": 256,\n",
      "    \"data_loader.settings.collaborator_count\": 2,\n",
      "    \"data_loader.settings.data_group_name\": \"mnist\",\n",
      "    \"data_loader.template\": \"src.tfmnist_inmemory.TensorFlowMNISTInMemory\",\n",
      "    \"network.settings.agg_addr\": \"DESKTOP-8R9A5NI\",\n",
      "    \"network.settings.agg_port\": 60628,\n",
      "    \"network.settings.cert_folder\": \"cert\",\n",
      "    \"network.settings.client_reconnect_interval\": 5,\n",
      "    \"network.settings.disable_client_auth\": false,\n",
      "    \"network.settings.hash_salt\": \"auto\",\n",
      "    \"network.settings.tls\": true,\n",
      "    \"network.template\": \"openfl.federation.Network\",\n",
      "    \"task_runner.settings\": {},\n",
      "    \"task_runner.template\": \"src.keras_cnn.KerasCNN\",\n",
      "    \"tasks.aggregated_model_validation.function\": \"validate\",\n",
      "    \"tasks.aggregated_model_validation.kwargs.apply\": \"global\",\n",
      "    \"tasks.aggregated_model_validation.kwargs.batch_size\": 32,\n",
      "    \"tasks.aggregated_model_validation.kwargs.metrics.0\": \"accuracy\",\n",
      "    \"tasks.locally_tuned_model_validation.function\": \"validate\",\n",
      "    \"tasks.locally_tuned_model_validation.kwargs.apply\": \"local\",\n",
      "    \"tasks.locally_tuned_model_validation.kwargs.batch_size\": 32,\n",
      "    \"tasks.locally_tuned_model_validation.kwargs.metrics.0\": \"accuracy\",\n",
      "    \"tasks.settings\": {},\n",
      "    \"tasks.train.function\": \"train\",\n",
      "    \"tasks.train.kwargs.batch_size\": 32,\n",
      "    \"tasks.train.kwargs.epochs\": 1,\n",
      "    \"tasks.train.kwargs.metrics.0\": \"loss\"\n",
      "}\n"
     ]
    }
   ],
   "source": [
    "#Get the current values of the plan. Each of these can be overridden\n",
    "print(fx.get_plan())"
   ]
  },
  {
   "cell_type": "code",
   "execution_count": 13,
   "id": "599bf430-40ca-498b-905b-3ea194634a12",
   "metadata": {},
   "outputs": [
    {
     "data": {
      "text/html": [
       "<pre style=\"white-space:pre;overflow-x:auto;line-height:normal;font-family:Menlo,'DejaVu Sans Mono',consolas,'Courier New',monospace\"><span style=\"color: #7fbfbf; text-decoration-color: #7fbfbf\">[08:28:58] </span><span style=\"color: #000080; text-decoration-color: #000080\">INFO    </span> Updating aggregator.settings.rounds_to_train to <span style=\"color: #008080; text-decoration-color: #008080; font-weight: bold\">5</span><span style=\"color: #808000; text-decoration-color: #808000\">...</span>                                                                           <a href=\"file://C:\\Users\\BHSU\\AppData\\Local\\Programs\\Python\\Python39\\lib\\site-packages\\openfl\\native\\native.py\" target=\"_blank\"><span style=\"color: #7f7f7f; text-decoration-color: #7f7f7f\">native.py</span></a><span style=\"color: #7f7f7f; text-decoration-color: #7f7f7f\">:</span><a href=\"file://C:\\Users\\BHSU\\AppData\\Local\\Programs\\Python\\Python39\\lib\\site-packages\\openfl\\native\\native.py#102\" target=\"_blank\"><span style=\"color: #7f7f7f; text-decoration-color: #7f7f7f\">102</span></a>\n",
       "</pre>\n"
      ],
      "text/plain": [
       "\u001b[2;36m[08:28:58]\u001b[0m\u001b[2;36m \u001b[0m\u001b[34mINFO    \u001b[0m Updating aggregator.settings.rounds_to_train to \u001b[1;36m5\u001b[0m\u001b[33m...\u001b[0m                                                                           \u001b]8;id=585913;file://C:\\Users\\BHSU\\AppData\\Local\\Programs\\Python\\Python39\\lib\\site-packages\\openfl\\native\\native.py\u001b\\\u001b[2mnative.py\u001b[0m\u001b]8;;\u001b\\\u001b[2m:\u001b[0m\u001b]8;id=527131;file://C:\\Users\\BHSU\\AppData\\Local\\Programs\\Python\\Python39\\lib\\site-packages\\openfl\\native\\native.py#102\u001b\\\u001b[2m102\u001b[0m\u001b]8;;\u001b\\\n"
      ]
     },
     "metadata": {},
     "output_type": "display_data"
    },
    {
     "data": {
      "text/html": [
       "<pre style=\"white-space:pre;overflow-x:auto;line-height:normal;font-family:Menlo,'DejaVu Sans Mono',consolas,'Courier New',monospace\"><span style=\"color: #7fbfbf; text-decoration-color: #7fbfbf\">           </span><span style=\"color: #000080; text-decoration-color: #000080\">INFO    </span> FL-Plan hash is <span style=\"color: #000080; text-decoration-color: #000080\">3038ce92442cac7666b80fc10e51468e5e5adcc0b61540dc858ee7d85c8b0c885c2cc942842464f636d17c74cb36ced1</span>                 <a href=\"file://C:\\Users\\BHSU\\AppData\\Local\\Programs\\Python\\Python39\\lib\\site-packages\\openfl\\federated\\plan\\plan.py\" target=\"_blank\"><span style=\"color: #7f7f7f; text-decoration-color: #7f7f7f\">plan.py</span></a><span style=\"color: #7f7f7f; text-decoration-color: #7f7f7f\">:</span><a href=\"file://C:\\Users\\BHSU\\AppData\\Local\\Programs\\Python\\Python39\\lib\\site-packages\\openfl\\federated\\plan\\plan.py#235\" target=\"_blank\"><span style=\"color: #7f7f7f; text-decoration-color: #7f7f7f\">235</span></a>\n",
       "</pre>\n"
      ],
      "text/plain": [
       "\u001b[2;36m          \u001b[0m\u001b[2;36m \u001b[0m\u001b[34mINFO    \u001b[0m FL-Plan hash is \u001b[34m3038ce92442cac7666b80fc10e51468e5e5adcc0b61540dc858ee7d85c8b0c885c2cc942842464f636d17c74cb36ced1\u001b[0m                 \u001b]8;id=904765;file://C:\\Users\\BHSU\\AppData\\Local\\Programs\\Python\\Python39\\lib\\site-packages\\openfl\\federated\\plan\\plan.py\u001b\\\u001b[2mplan.py\u001b[0m\u001b]8;;\u001b\\\u001b[2m:\u001b[0m\u001b]8;id=498594;file://C:\\Users\\BHSU\\AppData\\Local\\Programs\\Python\\Python39\\lib\\site-packages\\openfl\\federated\\plan\\plan.py#235\u001b\\\u001b[2m235\u001b[0m\u001b]8;;\u001b\\\n"
      ]
     },
     "metadata": {},
     "output_type": "display_data"
    },
    {
     "data": {
      "text/html": [
       "<pre style=\"white-space:pre;overflow-x:auto;line-height:normal;font-family:Menlo,'DejaVu Sans Mono',consolas,'Courier New',monospace\"><span style=\"color: #7fbfbf; text-decoration-color: #7fbfbf\">           </span><span style=\"color: #000080; text-decoration-color: #000080\">INFO    </span> Building <span style=\"color: #800000; text-decoration-color: #800000\">🡆</span> Object <span style=\"color: #800000; text-decoration-color: #800000\">NoCompressionPipeline</span> from <span style=\"color: #800000; text-decoration-color: #800000\">openfl.pipelines</span> Module.                                                            <a href=\"file://C:\\Users\\BHSU\\AppData\\Local\\Programs\\Python\\Python39\\lib\\site-packages\\openfl\\federated\\plan\\plan.py\" target=\"_blank\"><span style=\"color: #7f7f7f; text-decoration-color: #7f7f7f\">plan.py</span></a><span style=\"color: #7f7f7f; text-decoration-color: #7f7f7f\">:</span><a href=\"file://C:\\Users\\BHSU\\AppData\\Local\\Programs\\Python\\Python39\\lib\\site-packages\\openfl\\federated\\plan\\plan.py#171\" target=\"_blank\"><span style=\"color: #7f7f7f; text-decoration-color: #7f7f7f\">171</span></a>\n",
       "</pre>\n"
      ],
      "text/plain": [
       "\u001b[2;36m          \u001b[0m\u001b[2;36m \u001b[0m\u001b[34mINFO    \u001b[0m Building \u001b[31m🡆\u001b[0m Object \u001b[31mNoCompressionPipeline\u001b[0m from \u001b[31mopenfl.pipelines\u001b[0m Module.                                                            \u001b]8;id=272627;file://C:\\Users\\BHSU\\AppData\\Local\\Programs\\Python\\Python39\\lib\\site-packages\\openfl\\federated\\plan\\plan.py\u001b\\\u001b[2mplan.py\u001b[0m\u001b]8;;\u001b\\\u001b[2m:\u001b[0m\u001b]8;id=240758;file://C:\\Users\\BHSU\\AppData\\Local\\Programs\\Python\\Python39\\lib\\site-packages\\openfl\\federated\\plan\\plan.py#171\u001b\\\u001b[2m171\u001b[0m\u001b]8;;\u001b\\\n"
      ]
     },
     "metadata": {},
     "output_type": "display_data"
    },
    {
     "data": {
      "text/html": [
       "<pre style=\"white-space:pre;overflow-x:auto;line-height:normal;font-family:Menlo,'DejaVu Sans Mono',consolas,'Courier New',monospace\"><span style=\"color: #7fbfbf; text-decoration-color: #7fbfbf\">           </span><span style=\"color: #000080; text-decoration-color: #000080\">INFO    </span> Creating Initial Weights File    🠆 save/keras_cnn_mnist_init.pbuf                                                              <a href=\"file://C:\\Users\\BHSU\\AppData\\Local\\Programs\\Python\\Python39\\lib\\site-packages\\openfl\\native\\native.py\" target=\"_blank\"><span style=\"color: #7f7f7f; text-decoration-color: #7f7f7f\">native.py</span></a><span style=\"color: #7f7f7f; text-decoration-color: #7f7f7f\">:</span><a href=\"file://C:\\Users\\BHSU\\AppData\\Local\\Programs\\Python\\Python39\\lib\\site-packages\\openfl\\native\\native.py#277\" target=\"_blank\"><span style=\"color: #7f7f7f; text-decoration-color: #7f7f7f\">277</span></a>\n",
       "</pre>\n"
      ],
      "text/plain": [
       "\u001b[2;36m          \u001b[0m\u001b[2;36m \u001b[0m\u001b[34mINFO    \u001b[0m Creating Initial Weights File    🠆 save/keras_cnn_mnist_init.pbuf                                                              \u001b]8;id=819738;file://C:\\Users\\BHSU\\AppData\\Local\\Programs\\Python\\Python39\\lib\\site-packages\\openfl\\native\\native.py\u001b\\\u001b[2mnative.py\u001b[0m\u001b]8;;\u001b\\\u001b[2m:\u001b[0m\u001b]8;id=262519;file://C:\\Users\\BHSU\\AppData\\Local\\Programs\\Python\\Python39\\lib\\site-packages\\openfl\\native\\native.py#277\u001b\\\u001b[2m277\u001b[0m\u001b]8;;\u001b\\\n"
      ]
     },
     "metadata": {},
     "output_type": "display_data"
    },
    {
     "data": {
      "text/html": [
       "<pre style=\"white-space:pre;overflow-x:auto;line-height:normal;font-family:Menlo,'DejaVu Sans Mono',consolas,'Courier New',monospace\"><span style=\"color: #7fbfbf; text-decoration-color: #7fbfbf\">           </span><span style=\"color: #000080; text-decoration-color: #000080\">INFO    </span> Starting Experiment<span style=\"color: #808000; text-decoration-color: #808000\">...</span>                                                                                                         <a href=\"file://C:\\Users\\BHSU\\AppData\\Local\\Programs\\Python\\Python39\\lib\\site-packages\\openfl\\native\\native.py\" target=\"_blank\"><span style=\"color: #7f7f7f; text-decoration-color: #7f7f7f\">native.py</span></a><span style=\"color: #7f7f7f; text-decoration-color: #7f7f7f\">:</span><a href=\"file://C:\\Users\\BHSU\\AppData\\Local\\Programs\\Python\\Python39\\lib\\site-packages\\openfl\\native\\native.py#281\" target=\"_blank\"><span style=\"color: #7f7f7f; text-decoration-color: #7f7f7f\">281</span></a>\n",
       "</pre>\n"
      ],
      "text/plain": [
       "\u001b[2;36m          \u001b[0m\u001b[2;36m \u001b[0m\u001b[34mINFO    \u001b[0m Starting Experiment\u001b[33m...\u001b[0m                                                                                                         \u001b]8;id=983012;file://C:\\Users\\BHSU\\AppData\\Local\\Programs\\Python\\Python39\\lib\\site-packages\\openfl\\native\\native.py\u001b\\\u001b[2mnative.py\u001b[0m\u001b]8;;\u001b\\\u001b[2m:\u001b[0m\u001b]8;id=486792;file://C:\\Users\\BHSU\\AppData\\Local\\Programs\\Python\\Python39\\lib\\site-packages\\openfl\\native\\native.py#281\u001b\\\u001b[2m281\u001b[0m\u001b]8;;\u001b\\\n"
      ]
     },
     "metadata": {},
     "output_type": "display_data"
    },
    {
     "data": {
      "text/html": [
       "<pre style=\"white-space:pre;overflow-x:auto;line-height:normal;font-family:Menlo,'DejaVu Sans Mono',consolas,'Courier New',monospace\"><span style=\"color: #7fbfbf; text-decoration-color: #7fbfbf\">           </span><span style=\"color: #000080; text-decoration-color: #000080\">INFO    </span> Building <span style=\"color: #800000; text-decoration-color: #800000\">🡆</span> Object <span style=\"color: #800000; text-decoration-color: #800000\">RandomGroupedAssigner</span> from <span style=\"color: #800000; text-decoration-color: #800000\">openfl.component</span> Module.                                                            <a href=\"file://C:\\Users\\BHSU\\AppData\\Local\\Programs\\Python\\Python39\\lib\\site-packages\\openfl\\federated\\plan\\plan.py\" target=\"_blank\"><span style=\"color: #7f7f7f; text-decoration-color: #7f7f7f\">plan.py</span></a><span style=\"color: #7f7f7f; text-decoration-color: #7f7f7f\">:</span><a href=\"file://C:\\Users\\BHSU\\AppData\\Local\\Programs\\Python\\Python39\\lib\\site-packages\\openfl\\federated\\plan\\plan.py#171\" target=\"_blank\"><span style=\"color: #7f7f7f; text-decoration-color: #7f7f7f\">171</span></a>\n",
       "</pre>\n"
      ],
      "text/plain": [
       "\u001b[2;36m          \u001b[0m\u001b[2;36m \u001b[0m\u001b[34mINFO    \u001b[0m Building \u001b[31m🡆\u001b[0m Object \u001b[31mRandomGroupedAssigner\u001b[0m from \u001b[31mopenfl.component\u001b[0m Module.                                                            \u001b]8;id=993722;file://C:\\Users\\BHSU\\AppData\\Local\\Programs\\Python\\Python39\\lib\\site-packages\\openfl\\federated\\plan\\plan.py\u001b\\\u001b[2mplan.py\u001b[0m\u001b]8;;\u001b\\\u001b[2m:\u001b[0m\u001b]8;id=800626;file://C:\\Users\\BHSU\\AppData\\Local\\Programs\\Python\\Python39\\lib\\site-packages\\openfl\\federated\\plan\\plan.py#171\u001b\\\u001b[2m171\u001b[0m\u001b]8;;\u001b\\\n"
      ]
     },
     "metadata": {},
     "output_type": "display_data"
    },
    {
     "data": {
      "text/html": [
       "<pre style=\"white-space:pre;overflow-x:auto;line-height:normal;font-family:Menlo,'DejaVu Sans Mono',consolas,'Courier New',monospace\"><span style=\"color: #7fbfbf; text-decoration-color: #7fbfbf\">           </span><span style=\"color: #000080; text-decoration-color: #000080\">INFO    </span> Building <span style=\"color: #800000; text-decoration-color: #800000\">🡆</span> Object <span style=\"color: #800000; text-decoration-color: #800000\">CutoffTimeBasedStragglerHandling</span> from <span style=\"color: #800000; text-decoration-color: #800000\">openfl.component.straggler_handling_functions</span> Module.                    <a href=\"file://C:\\Users\\BHSU\\AppData\\Local\\Programs\\Python\\Python39\\lib\\site-packages\\openfl\\federated\\plan\\plan.py\" target=\"_blank\"><span style=\"color: #7f7f7f; text-decoration-color: #7f7f7f\">plan.py</span></a><span style=\"color: #7f7f7f; text-decoration-color: #7f7f7f\">:</span><a href=\"file://C:\\Users\\BHSU\\AppData\\Local\\Programs\\Python\\Python39\\lib\\site-packages\\openfl\\federated\\plan\\plan.py#171\" target=\"_blank\"><span style=\"color: #7f7f7f; text-decoration-color: #7f7f7f\">171</span></a>\n",
       "</pre>\n"
      ],
      "text/plain": [
       "\u001b[2;36m          \u001b[0m\u001b[2;36m \u001b[0m\u001b[34mINFO    \u001b[0m Building \u001b[31m🡆\u001b[0m Object \u001b[31mCutoffTimeBasedStragglerHandling\u001b[0m from \u001b[31mopenfl.component.straggler_handling_functions\u001b[0m Module.                    \u001b]8;id=693165;file://C:\\Users\\BHSU\\AppData\\Local\\Programs\\Python\\Python39\\lib\\site-packages\\openfl\\federated\\plan\\plan.py\u001b\\\u001b[2mplan.py\u001b[0m\u001b]8;;\u001b\\\u001b[2m:\u001b[0m\u001b]8;id=370646;file://C:\\Users\\BHSU\\AppData\\Local\\Programs\\Python\\Python39\\lib\\site-packages\\openfl\\federated\\plan\\plan.py#171\u001b\\\u001b[2m171\u001b[0m\u001b]8;;\u001b\\\n"
      ]
     },
     "metadata": {},
     "output_type": "display_data"
    },
    {
     "data": {
      "text/html": [
       "<pre style=\"white-space:pre;overflow-x:auto;line-height:normal;font-family:Menlo,'DejaVu Sans Mono',consolas,'Courier New',monospace\"><span style=\"color: #7fbfbf; text-decoration-color: #7fbfbf\">           </span><span style=\"color: #000080; text-decoration-color: #000080\">INFO    </span> Building <span style=\"color: #800000; text-decoration-color: #800000\">🡆</span> Object <span style=\"color: #800000; text-decoration-color: #800000\">Aggregator</span> from <span style=\"color: #800000; text-decoration-color: #800000\">openfl.component</span> Module.                                                                       <a href=\"file://C:\\Users\\BHSU\\AppData\\Local\\Programs\\Python\\Python39\\lib\\site-packages\\openfl\\federated\\plan\\plan.py\" target=\"_blank\"><span style=\"color: #7f7f7f; text-decoration-color: #7f7f7f\">plan.py</span></a><span style=\"color: #7f7f7f; text-decoration-color: #7f7f7f\">:</span><a href=\"file://C:\\Users\\BHSU\\AppData\\Local\\Programs\\Python\\Python39\\lib\\site-packages\\openfl\\federated\\plan\\plan.py#171\" target=\"_blank\"><span style=\"color: #7f7f7f; text-decoration-color: #7f7f7f\">171</span></a>\n",
       "</pre>\n"
      ],
      "text/plain": [
       "\u001b[2;36m          \u001b[0m\u001b[2;36m \u001b[0m\u001b[34mINFO    \u001b[0m Building \u001b[31m🡆\u001b[0m Object \u001b[31mAggregator\u001b[0m from \u001b[31mopenfl.component\u001b[0m Module.                                                                       \u001b]8;id=770161;file://C:\\Users\\BHSU\\AppData\\Local\\Programs\\Python\\Python39\\lib\\site-packages\\openfl\\federated\\plan\\plan.py\u001b\\\u001b[2mplan.py\u001b[0m\u001b]8;;\u001b\\\u001b[2m:\u001b[0m\u001b]8;id=685679;file://C:\\Users\\BHSU\\AppData\\Local\\Programs\\Python\\Python39\\lib\\site-packages\\openfl\\federated\\plan\\plan.py#171\u001b\\\u001b[2m171\u001b[0m\u001b]8;;\u001b\\\n"
      ]
     },
     "metadata": {},
     "output_type": "display_data"
    },
    {
     "data": {
      "text/html": [
       "<pre style=\"white-space:pre;overflow-x:auto;line-height:normal;font-family:Menlo,'DejaVu Sans Mono',consolas,'Courier New',monospace\"><span style=\"color: #7fbfbf; text-decoration-color: #7fbfbf\">           </span><span style=\"color: #000080; text-decoration-color: #000080\">INFO    </span> Building <span style=\"color: #800000; text-decoration-color: #800000\">🡆</span> Object <span style=\"color: #800000; text-decoration-color: #800000\">Collaborator</span> from <span style=\"color: #800000; text-decoration-color: #800000\">openfl.component</span> Module.                                                                     <a href=\"file://C:\\Users\\BHSU\\AppData\\Local\\Programs\\Python\\Python39\\lib\\site-packages\\openfl\\federated\\plan\\plan.py\" target=\"_blank\"><span style=\"color: #7f7f7f; text-decoration-color: #7f7f7f\">plan.py</span></a><span style=\"color: #7f7f7f; text-decoration-color: #7f7f7f\">:</span><a href=\"file://C:\\Users\\BHSU\\AppData\\Local\\Programs\\Python\\Python39\\lib\\site-packages\\openfl\\federated\\plan\\plan.py#171\" target=\"_blank\"><span style=\"color: #7f7f7f; text-decoration-color: #7f7f7f\">171</span></a>\n",
       "</pre>\n"
      ],
      "text/plain": [
       "\u001b[2;36m          \u001b[0m\u001b[2;36m \u001b[0m\u001b[34mINFO    \u001b[0m Building \u001b[31m🡆\u001b[0m Object \u001b[31mCollaborator\u001b[0m from \u001b[31mopenfl.component\u001b[0m Module.                                                                     \u001b]8;id=944271;file://C:\\Users\\BHSU\\AppData\\Local\\Programs\\Python\\Python39\\lib\\site-packages\\openfl\\federated\\plan\\plan.py\u001b\\\u001b[2mplan.py\u001b[0m\u001b]8;;\u001b\\\u001b[2m:\u001b[0m\u001b]8;id=671102;file://C:\\Users\\BHSU\\AppData\\Local\\Programs\\Python\\Python39\\lib\\site-packages\\openfl\\federated\\plan\\plan.py#171\u001b\\\u001b[2m171\u001b[0m\u001b]8;;\u001b\\\n"
      ]
     },
     "metadata": {},
     "output_type": "display_data"
    },
    {
     "data": {
      "text/html": [
       "<pre style=\"white-space:pre;overflow-x:auto;line-height:normal;font-family:Menlo,'DejaVu Sans Mono',consolas,'Courier New',monospace\"><span style=\"color: #7fbfbf; text-decoration-color: #7fbfbf\">           </span><span style=\"color: #000080; text-decoration-color: #000080\">INFO    </span> Building <span style=\"color: #800000; text-decoration-color: #800000\">🡆</span> Object <span style=\"color: #800000; text-decoration-color: #800000\">Collaborator</span> from <span style=\"color: #800000; text-decoration-color: #800000\">openfl.component</span> Module.                                                                     <a href=\"file://C:\\Users\\BHSU\\AppData\\Local\\Programs\\Python\\Python39\\lib\\site-packages\\openfl\\federated\\plan\\plan.py\" target=\"_blank\"><span style=\"color: #7f7f7f; text-decoration-color: #7f7f7f\">plan.py</span></a><span style=\"color: #7f7f7f; text-decoration-color: #7f7f7f\">:</span><a href=\"file://C:\\Users\\BHSU\\AppData\\Local\\Programs\\Python\\Python39\\lib\\site-packages\\openfl\\federated\\plan\\plan.py#171\" target=\"_blank\"><span style=\"color: #7f7f7f; text-decoration-color: #7f7f7f\">171</span></a>\n",
       "</pre>\n"
      ],
      "text/plain": [
       "\u001b[2;36m          \u001b[0m\u001b[2;36m \u001b[0m\u001b[34mINFO    \u001b[0m Building \u001b[31m🡆\u001b[0m Object \u001b[31mCollaborator\u001b[0m from \u001b[31mopenfl.component\u001b[0m Module.                                                                     \u001b]8;id=905222;file://C:\\Users\\BHSU\\AppData\\Local\\Programs\\Python\\Python39\\lib\\site-packages\\openfl\\federated\\plan\\plan.py\u001b\\\u001b[2mplan.py\u001b[0m\u001b]8;;\u001b\\\u001b[2m:\u001b[0m\u001b]8;id=104467;file://C:\\Users\\BHSU\\AppData\\Local\\Programs\\Python\\Python39\\lib\\site-packages\\openfl\\federated\\plan\\plan.py#171\u001b\\\u001b[2m171\u001b[0m\u001b]8;;\u001b\\\n"
      ]
     },
     "metadata": {},
     "output_type": "display_data"
    },
    {
     "data": {
      "text/html": [
       "<pre style=\"white-space:pre;overflow-x:auto;line-height:normal;font-family:Menlo,'DejaVu Sans Mono',consolas,'Courier New',monospace\"><span style=\"color: #7fbfbf; text-decoration-color: #7fbfbf\">           </span><span style=\"color: #000080; text-decoration-color: #000080\">INFO    </span> Waiting for tasks<span style=\"color: #808000; text-decoration-color: #808000\">...</span>                                                                                                     <a href=\"file://C:\\Users\\BHSU\\AppData\\Local\\Programs\\Python\\Python39\\lib\\site-packages\\openfl\\component\\collaborator\\collaborator.py\" target=\"_blank\"><span style=\"color: #7f7f7f; text-decoration-color: #7f7f7f\">collaborator.py</span></a><span style=\"color: #7f7f7f; text-decoration-color: #7f7f7f\">:</span><a href=\"file://C:\\Users\\BHSU\\AppData\\Local\\Programs\\Python\\Python39\\lib\\site-packages\\openfl\\component\\collaborator\\collaborator.py#178\" target=\"_blank\"><span style=\"color: #7f7f7f; text-decoration-color: #7f7f7f\">178</span></a>\n",
       "</pre>\n"
      ],
      "text/plain": [
       "\u001b[2;36m          \u001b[0m\u001b[2;36m \u001b[0m\u001b[34mINFO    \u001b[0m Waiting for tasks\u001b[33m...\u001b[0m                                                                                                     \u001b]8;id=252432;file://C:\\Users\\BHSU\\AppData\\Local\\Programs\\Python\\Python39\\lib\\site-packages\\openfl\\component\\collaborator\\collaborator.py\u001b\\\u001b[2mcollaborator.py\u001b[0m\u001b]8;;\u001b\\\u001b[2m:\u001b[0m\u001b]8;id=500787;file://C:\\Users\\BHSU\\AppData\\Local\\Programs\\Python\\Python39\\lib\\site-packages\\openfl\\component\\collaborator\\collaborator.py#178\u001b\\\u001b[2m178\u001b[0m\u001b]8;;\u001b\\\n"
      ]
     },
     "metadata": {},
     "output_type": "display_data"
    },
    {
     "data": {
      "text/html": [
       "<pre style=\"white-space:pre;overflow-x:auto;line-height:normal;font-family:Menlo,'DejaVu Sans Mono',consolas,'Courier New',monospace\"><span style=\"color: #7fbfbf; text-decoration-color: #7fbfbf\">           </span><span style=\"color: #000080; text-decoration-color: #000080\">INFO    </span> Sending tasks to collaborator one for round <span style=\"color: #008080; text-decoration-color: #008080; font-weight: bold\">0</span>                                                                              <a href=\"file://C:\\Users\\BHSU\\AppData\\Local\\Programs\\Python\\Python39\\lib\\site-packages\\openfl\\component\\aggregator\\aggregator.py\" target=\"_blank\"><span style=\"color: #7f7f7f; text-decoration-color: #7f7f7f\">aggregator.py</span></a><span style=\"color: #7f7f7f; text-decoration-color: #7f7f7f\">:</span><a href=\"file://C:\\Users\\BHSU\\AppData\\Local\\Programs\\Python\\Python39\\lib\\site-packages\\openfl\\component\\aggregator\\aggregator.py#329\" target=\"_blank\"><span style=\"color: #7f7f7f; text-decoration-color: #7f7f7f\">329</span></a>\n",
       "</pre>\n"
      ],
      "text/plain": [
       "\u001b[2;36m          \u001b[0m\u001b[2;36m \u001b[0m\u001b[34mINFO    \u001b[0m Sending tasks to collaborator one for round \u001b[1;36m0\u001b[0m                                                                              \u001b]8;id=41868;file://C:\\Users\\BHSU\\AppData\\Local\\Programs\\Python\\Python39\\lib\\site-packages\\openfl\\component\\aggregator\\aggregator.py\u001b\\\u001b[2maggregator.py\u001b[0m\u001b]8;;\u001b\\\u001b[2m:\u001b[0m\u001b]8;id=341929;file://C:\\Users\\BHSU\\AppData\\Local\\Programs\\Python\\Python39\\lib\\site-packages\\openfl\\component\\aggregator\\aggregator.py#329\u001b\\\u001b[2m329\u001b[0m\u001b]8;;\u001b\\\n"
      ]
     },
     "metadata": {},
     "output_type": "display_data"
    },
    {
     "data": {
      "text/html": [
       "<pre style=\"white-space:pre;overflow-x:auto;line-height:normal;font-family:Menlo,'DejaVu Sans Mono',consolas,'Courier New',monospace\"><span style=\"color: #7fbfbf; text-decoration-color: #7fbfbf\">           </span><span style=\"color: #000080; text-decoration-color: #000080\">INFO    </span> Received the following tasks: <span style=\"font-weight: bold\">[</span><span style=\"color: #008000; text-decoration-color: #008000\">'aggregated_model_validation'</span>, <span style=\"color: #008000; text-decoration-color: #008000\">'train'</span>, <span style=\"color: #008000; text-decoration-color: #008000\">'locally_tuned_model_validation'</span><span style=\"font-weight: bold\">]</span>                 <a href=\"file://C:\\Users\\BHSU\\AppData\\Local\\Programs\\Python\\Python39\\lib\\site-packages\\openfl\\component\\collaborator\\collaborator.py\" target=\"_blank\"><span style=\"color: #7f7f7f; text-decoration-color: #7f7f7f\">collaborator.py</span></a><span style=\"color: #7f7f7f; text-decoration-color: #7f7f7f\">:</span><a href=\"file://C:\\Users\\BHSU\\AppData\\Local\\Programs\\Python\\Python39\\lib\\site-packages\\openfl\\component\\collaborator\\collaborator.py#168\" target=\"_blank\"><span style=\"color: #7f7f7f; text-decoration-color: #7f7f7f\">168</span></a>\n",
       "</pre>\n"
      ],
      "text/plain": [
       "\u001b[2;36m          \u001b[0m\u001b[2;36m \u001b[0m\u001b[34mINFO    \u001b[0m Received the following tasks: \u001b[1m[\u001b[0m\u001b[32m'aggregated_model_validation'\u001b[0m, \u001b[32m'train'\u001b[0m, \u001b[32m'locally_tuned_model_validation'\u001b[0m\u001b[1m]\u001b[0m                 \u001b]8;id=622696;file://C:\\Users\\BHSU\\AppData\\Local\\Programs\\Python\\Python39\\lib\\site-packages\\openfl\\component\\collaborator\\collaborator.py\u001b\\\u001b[2mcollaborator.py\u001b[0m\u001b]8;;\u001b\\\u001b[2m:\u001b[0m\u001b]8;id=779696;file://C:\\Users\\BHSU\\AppData\\Local\\Programs\\Python\\Python39\\lib\\site-packages\\openfl\\component\\collaborator\\collaborator.py#168\u001b\\\u001b[2m168\u001b[0m\u001b]8;;\u001b\\\n"
      ]
     },
     "metadata": {},
     "output_type": "display_data"
    },
    {
     "data": {
      "text/html": [
       "<pre style=\"white-space:pre;overflow-x:auto;line-height:normal;font-family:Menlo,'DejaVu Sans Mono',consolas,'Courier New',monospace\"><span style=\"color: #7fbfbf; text-decoration-color: #7fbfbf\">           </span><span style=\"color: #000080; text-decoration-color: #000080\">INFO    </span> Using TaskRunner subclassing API                                                                                         <a href=\"file://C:\\Users\\BHSU\\AppData\\Local\\Programs\\Python\\Python39\\lib\\site-packages\\openfl\\component\\collaborator\\collaborator.py\" target=\"_blank\"><span style=\"color: #7f7f7f; text-decoration-color: #7f7f7f\">collaborator.py</span></a><span style=\"color: #7f7f7f; text-decoration-color: #7f7f7f\">:</span><a href=\"file://C:\\Users\\BHSU\\AppData\\Local\\Programs\\Python\\Python39\\lib\\site-packages\\openfl\\component\\collaborator\\collaborator.py#253\" target=\"_blank\"><span style=\"color: #7f7f7f; text-decoration-color: #7f7f7f\">253</span></a>\n",
       "</pre>\n"
      ],
      "text/plain": [
       "\u001b[2;36m          \u001b[0m\u001b[2;36m \u001b[0m\u001b[34mINFO    \u001b[0m Using TaskRunner subclassing API                                                                                         \u001b]8;id=730318;file://C:\\Users\\BHSU\\AppData\\Local\\Programs\\Python\\Python39\\lib\\site-packages\\openfl\\component\\collaborator\\collaborator.py\u001b\\\u001b[2mcollaborator.py\u001b[0m\u001b]8;;\u001b\\\u001b[2m:\u001b[0m\u001b]8;id=680268;file://C:\\Users\\BHSU\\AppData\\Local\\Programs\\Python\\Python39\\lib\\site-packages\\openfl\\component\\collaborator\\collaborator.py#253\u001b\\\u001b[2m253\u001b[0m\u001b]8;;\u001b\\\n"
      ]
     },
     "metadata": {},
     "output_type": "display_data"
    },
    {
     "name": "stdout",
     "output_type": "stream",
     "text": [
      "WARNING: AutoGraph could not transform <function Model.make_test_function.<locals>.test_function at 0x000002465B54BA60> and will run it as-is.\n",
      "Please report this to the TensorFlow team. When filing the bug, set the verbosity to 10 (on Linux, `export AUTOGRAPH_VERBOSITY=10`) and attach the full output.\n",
      "Cause: closure mismatch, requested ('self', 'step_function'), but source function had ()\n",
      "To silence this warning, decorate the function with @tf.autograph.experimental.do_not_convert\n",
      "282/282 [==============================] - 1s 4ms/step - loss: 2.4680 - accuracy: 0.0701\n"
     ]
    },
    {
     "data": {
      "text/html": [
       "<pre style=\"white-space:pre;overflow-x:auto;line-height:normal;font-family:Menlo,'DejaVu Sans Mono',consolas,'Courier New',monospace\"><span style=\"color: #7fbfbf; text-decoration-color: #7fbfbf\">[08:28:59] </span>METRIC   Round <span style=\"color: #008080; text-decoration-color: #008080; font-weight: bold\">0</span>, collaborator one is sending metric for task aggregated_model_validation: accuracy      <span style=\"color: #008080; text-decoration-color: #008080; font-weight: bold\">0.070111</span>                 <a href=\"file://C:\\Users\\BHSU\\AppData\\Local\\Programs\\Python\\Python39\\lib\\site-packages\\openfl\\component\\collaborator\\collaborator.py\" target=\"_blank\"><span style=\"color: #7f7f7f; text-decoration-color: #7f7f7f\">collaborator.py</span></a><span style=\"color: #7f7f7f; text-decoration-color: #7f7f7f\">:</span><a href=\"file://C:\\Users\\BHSU\\AppData\\Local\\Programs\\Python\\Python39\\lib\\site-packages\\openfl\\component\\collaborator\\collaborator.py#415\" target=\"_blank\"><span style=\"color: #7f7f7f; text-decoration-color: #7f7f7f\">415</span></a>\n",
       "</pre>\n"
      ],
      "text/plain": [
       "\u001b[2;36m[08:28:59]\u001b[0m\u001b[2;36m \u001b[0mMETRIC   Round \u001b[1;36m0\u001b[0m, collaborator one is sending metric for task aggregated_model_validation: accuracy      \u001b[1;36m0.070111\u001b[0m                 \u001b]8;id=531828;file://C:\\Users\\BHSU\\AppData\\Local\\Programs\\Python\\Python39\\lib\\site-packages\\openfl\\component\\collaborator\\collaborator.py\u001b\\\u001b[2mcollaborator.py\u001b[0m\u001b]8;;\u001b\\\u001b[2m:\u001b[0m\u001b]8;id=895417;file://C:\\Users\\BHSU\\AppData\\Local\\Programs\\Python\\Python39\\lib\\site-packages\\openfl\\component\\collaborator\\collaborator.py#415\u001b\\\u001b[2m415\u001b[0m\u001b]8;;\u001b\\\n"
      ]
     },
     "metadata": {},
     "output_type": "display_data"
    },
    {
     "data": {
      "text/html": [
       "<pre style=\"white-space:pre;overflow-x:auto;line-height:normal;font-family:Menlo,'DejaVu Sans Mono',consolas,'Courier New',monospace\"><span style=\"color: #7fbfbf; text-decoration-color: #7fbfbf\">           </span><span style=\"color: #000080; text-decoration-color: #000080\">INFO    </span> Collaborator one is sending task results for aggregated_model_validation, round <span style=\"color: #008080; text-decoration-color: #008080; font-weight: bold\">0</span>                                          <a href=\"file://C:\\Users\\BHSU\\AppData\\Local\\Programs\\Python\\Python39\\lib\\site-packages\\openfl\\component\\aggregator\\aggregator.py\" target=\"_blank\"><span style=\"color: #7f7f7f; text-decoration-color: #7f7f7f\">aggregator.py</span></a><span style=\"color: #7f7f7f; text-decoration-color: #7f7f7f\">:</span><a href=\"file://C:\\Users\\BHSU\\AppData\\Local\\Programs\\Python\\Python39\\lib\\site-packages\\openfl\\component\\aggregator\\aggregator.py#520\" target=\"_blank\"><span style=\"color: #7f7f7f; text-decoration-color: #7f7f7f\">520</span></a>\n",
       "</pre>\n"
      ],
      "text/plain": [
       "\u001b[2;36m          \u001b[0m\u001b[2;36m \u001b[0m\u001b[34mINFO    \u001b[0m Collaborator one is sending task results for aggregated_model_validation, round \u001b[1;36m0\u001b[0m                                          \u001b]8;id=617188;file://C:\\Users\\BHSU\\AppData\\Local\\Programs\\Python\\Python39\\lib\\site-packages\\openfl\\component\\aggregator\\aggregator.py\u001b\\\u001b[2maggregator.py\u001b[0m\u001b]8;;\u001b\\\u001b[2m:\u001b[0m\u001b]8;id=105138;file://C:\\Users\\BHSU\\AppData\\Local\\Programs\\Python\\Python39\\lib\\site-packages\\openfl\\component\\aggregator\\aggregator.py#520\u001b\\\u001b[2m520\u001b[0m\u001b]8;;\u001b\\\n"
      ]
     },
     "metadata": {},
     "output_type": "display_data"
    },
    {
     "data": {
      "text/html": [
       "<pre style=\"white-space:pre;overflow-x:auto;line-height:normal;font-family:Menlo,'DejaVu Sans Mono',consolas,'Courier New',monospace\"><span style=\"color: #7fbfbf; text-decoration-color: #7fbfbf\">           </span>METRIC   Round <span style=\"color: #008080; text-decoration-color: #008080; font-weight: bold\">0</span>, collaborator validate_agg aggregated_model_validation result accuracy: <span style=\"color: #008080; text-decoration-color: #008080; font-weight: bold\">0.070111</span>                                   <a href=\"file://C:\\Users\\BHSU\\AppData\\Local\\Programs\\Python\\Python39\\lib\\site-packages\\openfl\\component\\aggregator\\aggregator.py\" target=\"_blank\"><span style=\"color: #7f7f7f; text-decoration-color: #7f7f7f\">aggregator.py</span></a><span style=\"color: #7f7f7f; text-decoration-color: #7f7f7f\">:</span><a href=\"file://C:\\Users\\BHSU\\AppData\\Local\\Programs\\Python\\Python39\\lib\\site-packages\\openfl\\component\\aggregator\\aggregator.py#559\" target=\"_blank\"><span style=\"color: #7f7f7f; text-decoration-color: #7f7f7f\">559</span></a>\n",
       "</pre>\n"
      ],
      "text/plain": [
       "\u001b[2;36m          \u001b[0m\u001b[2;36m \u001b[0mMETRIC   Round \u001b[1;36m0\u001b[0m, collaborator validate_agg aggregated_model_validation result accuracy: \u001b[1;36m0.070111\u001b[0m                                   \u001b]8;id=929949;file://C:\\Users\\BHSU\\AppData\\Local\\Programs\\Python\\Python39\\lib\\site-packages\\openfl\\component\\aggregator\\aggregator.py\u001b\\\u001b[2maggregator.py\u001b[0m\u001b]8;;\u001b\\\u001b[2m:\u001b[0m\u001b]8;id=512049;file://C:\\Users\\BHSU\\AppData\\Local\\Programs\\Python\\Python39\\lib\\site-packages\\openfl\\component\\aggregator\\aggregator.py#559\u001b\\\u001b[2m559\u001b[0m\u001b]8;;\u001b\\\n"
      ]
     },
     "metadata": {},
     "output_type": "display_data"
    },
    {
     "data": {
      "text/html": [
       "<pre style=\"white-space:pre;overflow-x:auto;line-height:normal;font-family:Menlo,'DejaVu Sans Mono',consolas,'Courier New',monospace\"><span style=\"color: #7fbfbf; text-decoration-color: #7fbfbf\">           </span><span style=\"color: #000080; text-decoration-color: #000080\">INFO    </span> Using TaskRunner subclassing API                                                                                         <a href=\"file://C:\\Users\\BHSU\\AppData\\Local\\Programs\\Python\\Python39\\lib\\site-packages\\openfl\\component\\collaborator\\collaborator.py\" target=\"_blank\"><span style=\"color: #7f7f7f; text-decoration-color: #7f7f7f\">collaborator.py</span></a><span style=\"color: #7f7f7f; text-decoration-color: #7f7f7f\">:</span><a href=\"file://C:\\Users\\BHSU\\AppData\\Local\\Programs\\Python\\Python39\\lib\\site-packages\\openfl\\component\\collaborator\\collaborator.py#253\" target=\"_blank\"><span style=\"color: #7f7f7f; text-decoration-color: #7f7f7f\">253</span></a>\n",
       "</pre>\n"
      ],
      "text/plain": [
       "\u001b[2;36m          \u001b[0m\u001b[2;36m \u001b[0m\u001b[34mINFO    \u001b[0m Using TaskRunner subclassing API                                                                                         \u001b]8;id=276447;file://C:\\Users\\BHSU\\AppData\\Local\\Programs\\Python\\Python39\\lib\\site-packages\\openfl\\component\\collaborator\\collaborator.py\u001b\\\u001b[2mcollaborator.py\u001b[0m\u001b]8;;\u001b\\\u001b[2m:\u001b[0m\u001b]8;id=408145;file://C:\\Users\\BHSU\\AppData\\Local\\Programs\\Python\\Python39\\lib\\site-packages\\openfl\\component\\collaborator\\collaborator.py#253\u001b\\\u001b[2m253\u001b[0m\u001b]8;;\u001b\\\n"
      ]
     },
     "metadata": {},
     "output_type": "display_data"
    },
    {
     "data": {
      "text/html": [
       "<pre style=\"white-space:pre;overflow-x:auto;line-height:normal;font-family:Menlo,'DejaVu Sans Mono',consolas,'Courier New',monospace\"><span style=\"color: #7fbfbf; text-decoration-color: #7fbfbf\">           </span><span style=\"color: #000080; text-decoration-color: #000080\">INFO    </span> Run <span style=\"color: #008080; text-decoration-color: #008080; font-weight: bold\">0</span> epoch of <span style=\"color: #008080; text-decoration-color: #008080; font-weight: bold\">0</span> round                                                                                                    <a href=\"file://C:\\Users\\BHSU\\AppData\\Local\\Programs\\Python\\Python39\\lib\\site-packages\\openfl\\federated\\task\\runner_keras.py\" target=\"_blank\"><span style=\"color: #7f7f7f; text-decoration-color: #7f7f7f\">runner_keras.py</span></a><span style=\"color: #7f7f7f; text-decoration-color: #7f7f7f\">:</span><a href=\"file://C:\\Users\\BHSU\\AppData\\Local\\Programs\\Python\\Python39\\lib\\site-packages\\openfl\\federated\\task\\runner_keras.py#83\" target=\"_blank\"><span style=\"color: #7f7f7f; text-decoration-color: #7f7f7f\">83</span></a>\n",
       "</pre>\n"
      ],
      "text/plain": [
       "\u001b[2;36m          \u001b[0m\u001b[2;36m \u001b[0m\u001b[34mINFO    \u001b[0m Run \u001b[1;36m0\u001b[0m epoch of \u001b[1;36m0\u001b[0m round                                                                                                    \u001b]8;id=956966;file://C:\\Users\\BHSU\\AppData\\Local\\Programs\\Python\\Python39\\lib\\site-packages\\openfl\\federated\\task\\runner_keras.py\u001b\\\u001b[2mrunner_keras.py\u001b[0m\u001b]8;;\u001b\\\u001b[2m:\u001b[0m\u001b]8;id=533364;file://C:\\Users\\BHSU\\AppData\\Local\\Programs\\Python\\Python39\\lib\\site-packages\\openfl\\federated\\task\\runner_keras.py#83\u001b\\\u001b[2m83\u001b[0m\u001b]8;;\u001b\\\n"
      ]
     },
     "metadata": {},
     "output_type": "display_data"
    },
    {
     "name": "stdout",
     "output_type": "stream",
     "text": [
      "WARNING: AutoGraph could not transform <function Model.make_train_function.<locals>.train_function at 0x000002462B065430> and will run it as-is.\n",
      "Please report this to the TensorFlow team. When filing the bug, set the verbosity to 10 (on Linux, `export AUTOGRAPH_VERBOSITY=10`) and attach the full output.\n",
      "Cause: closure mismatch, requested ('self', 'step_function'), but source function had ()\n",
      "To silence this warning, decorate the function with @tf.autograph.experimental.do_not_convert\n",
      "657/657 [==============================] - 1s 619us/step - loss: 0.5630 - accuracy: 0.8316\n"
     ]
    },
    {
     "data": {
      "text/html": [
       "<pre style=\"white-space:pre;overflow-x:auto;line-height:normal;font-family:Menlo,'DejaVu Sans Mono',consolas,'Courier New',monospace\"><span style=\"color: #7fbfbf; text-decoration-color: #7fbfbf\">[08:29:00] </span>METRIC   Round <span style=\"color: #008080; text-decoration-color: #008080; font-weight: bold\">0</span>, collaborator one is sending metric for task train: loss        <span style=\"color: #008080; text-decoration-color: #008080; font-weight: bold\">0.563023</span>                                         <a href=\"file://C:\\Users\\BHSU\\AppData\\Local\\Programs\\Python\\Python39\\lib\\site-packages\\openfl\\component\\collaborator\\collaborator.py\" target=\"_blank\"><span style=\"color: #7f7f7f; text-decoration-color: #7f7f7f\">collaborator.py</span></a><span style=\"color: #7f7f7f; text-decoration-color: #7f7f7f\">:</span><a href=\"file://C:\\Users\\BHSU\\AppData\\Local\\Programs\\Python\\Python39\\lib\\site-packages\\openfl\\component\\collaborator\\collaborator.py#415\" target=\"_blank\"><span style=\"color: #7f7f7f; text-decoration-color: #7f7f7f\">415</span></a>\n",
       "</pre>\n"
      ],
      "text/plain": [
       "\u001b[2;36m[08:29:00]\u001b[0m\u001b[2;36m \u001b[0mMETRIC   Round \u001b[1;36m0\u001b[0m, collaborator one is sending metric for task train: loss        \u001b[1;36m0.563023\u001b[0m                                         \u001b]8;id=475406;file://C:\\Users\\BHSU\\AppData\\Local\\Programs\\Python\\Python39\\lib\\site-packages\\openfl\\component\\collaborator\\collaborator.py\u001b\\\u001b[2mcollaborator.py\u001b[0m\u001b]8;;\u001b\\\u001b[2m:\u001b[0m\u001b]8;id=819466;file://C:\\Users\\BHSU\\AppData\\Local\\Programs\\Python\\Python39\\lib\\site-packages\\openfl\\component\\collaborator\\collaborator.py#415\u001b\\\u001b[2m415\u001b[0m\u001b]8;;\u001b\\\n"
      ]
     },
     "metadata": {},
     "output_type": "display_data"
    },
    {
     "data": {
      "text/html": [
       "<pre style=\"white-space:pre;overflow-x:auto;line-height:normal;font-family:Menlo,'DejaVu Sans Mono',consolas,'Courier New',monospace\"><span style=\"color: #7fbfbf; text-decoration-color: #7fbfbf\">           </span><span style=\"color: #000080; text-decoration-color: #000080\">INFO    </span> Collaborator one is sending task results for train, round <span style=\"color: #008080; text-decoration-color: #008080; font-weight: bold\">0</span>                                                                <a href=\"file://C:\\Users\\BHSU\\AppData\\Local\\Programs\\Python\\Python39\\lib\\site-packages\\openfl\\component\\aggregator\\aggregator.py\" target=\"_blank\"><span style=\"color: #7f7f7f; text-decoration-color: #7f7f7f\">aggregator.py</span></a><span style=\"color: #7f7f7f; text-decoration-color: #7f7f7f\">:</span><a href=\"file://C:\\Users\\BHSU\\AppData\\Local\\Programs\\Python\\Python39\\lib\\site-packages\\openfl\\component\\aggregator\\aggregator.py#520\" target=\"_blank\"><span style=\"color: #7f7f7f; text-decoration-color: #7f7f7f\">520</span></a>\n",
       "</pre>\n"
      ],
      "text/plain": [
       "\u001b[2;36m          \u001b[0m\u001b[2;36m \u001b[0m\u001b[34mINFO    \u001b[0m Collaborator one is sending task results for train, round \u001b[1;36m0\u001b[0m                                                                \u001b]8;id=105316;file://C:\\Users\\BHSU\\AppData\\Local\\Programs\\Python\\Python39\\lib\\site-packages\\openfl\\component\\aggregator\\aggregator.py\u001b\\\u001b[2maggregator.py\u001b[0m\u001b]8;;\u001b\\\u001b[2m:\u001b[0m\u001b]8;id=310745;file://C:\\Users\\BHSU\\AppData\\Local\\Programs\\Python\\Python39\\lib\\site-packages\\openfl\\component\\aggregator\\aggregator.py#520\u001b\\\u001b[2m520\u001b[0m\u001b]8;;\u001b\\\n"
      ]
     },
     "metadata": {},
     "output_type": "display_data"
    },
    {
     "data": {
      "text/html": [
       "<pre style=\"white-space:pre;overflow-x:auto;line-height:normal;font-family:Menlo,'DejaVu Sans Mono',consolas,'Courier New',monospace\"><span style=\"color: #7fbfbf; text-decoration-color: #7fbfbf\">           </span>METRIC   Round <span style=\"color: #008080; text-decoration-color: #008080; font-weight: bold\">0</span>, collaborator one train result loss:    <span style=\"color: #008080; text-decoration-color: #008080; font-weight: bold\">0.563023</span>                                                                   <a href=\"file://C:\\Users\\BHSU\\AppData\\Local\\Programs\\Python\\Python39\\lib\\site-packages\\openfl\\component\\aggregator\\aggregator.py\" target=\"_blank\"><span style=\"color: #7f7f7f; text-decoration-color: #7f7f7f\">aggregator.py</span></a><span style=\"color: #7f7f7f; text-decoration-color: #7f7f7f\">:</span><a href=\"file://C:\\Users\\BHSU\\AppData\\Local\\Programs\\Python\\Python39\\lib\\site-packages\\openfl\\component\\aggregator\\aggregator.py#559\" target=\"_blank\"><span style=\"color: #7f7f7f; text-decoration-color: #7f7f7f\">559</span></a>\n",
       "</pre>\n"
      ],
      "text/plain": [
       "\u001b[2;36m          \u001b[0m\u001b[2;36m \u001b[0mMETRIC   Round \u001b[1;36m0\u001b[0m, collaborator one train result loss:    \u001b[1;36m0.563023\u001b[0m                                                                   \u001b]8;id=232275;file://C:\\Users\\BHSU\\AppData\\Local\\Programs\\Python\\Python39\\lib\\site-packages\\openfl\\component\\aggregator\\aggregator.py\u001b\\\u001b[2maggregator.py\u001b[0m\u001b]8;;\u001b\\\u001b[2m:\u001b[0m\u001b]8;id=220311;file://C:\\Users\\BHSU\\AppData\\Local\\Programs\\Python\\Python39\\lib\\site-packages\\openfl\\component\\aggregator\\aggregator.py#559\u001b\\\u001b[2m559\u001b[0m\u001b]8;;\u001b\\\n"
      ]
     },
     "metadata": {},
     "output_type": "display_data"
    },
    {
     "data": {
      "text/html": [
       "<pre style=\"white-space:pre;overflow-x:auto;line-height:normal;font-family:Menlo,'DejaVu Sans Mono',consolas,'Courier New',monospace\"><span style=\"color: #7fbfbf; text-decoration-color: #7fbfbf\">           </span><span style=\"color: #000080; text-decoration-color: #000080\">INFO    </span> Using TaskRunner subclassing API                                                                                         <a href=\"file://C:\\Users\\BHSU\\AppData\\Local\\Programs\\Python\\Python39\\lib\\site-packages\\openfl\\component\\collaborator\\collaborator.py\" target=\"_blank\"><span style=\"color: #7f7f7f; text-decoration-color: #7f7f7f\">collaborator.py</span></a><span style=\"color: #7f7f7f; text-decoration-color: #7f7f7f\">:</span><a href=\"file://C:\\Users\\BHSU\\AppData\\Local\\Programs\\Python\\Python39\\lib\\site-packages\\openfl\\component\\collaborator\\collaborator.py#253\" target=\"_blank\"><span style=\"color: #7f7f7f; text-decoration-color: #7f7f7f\">253</span></a>\n",
       "</pre>\n"
      ],
      "text/plain": [
       "\u001b[2;36m          \u001b[0m\u001b[2;36m \u001b[0m\u001b[34mINFO    \u001b[0m Using TaskRunner subclassing API                                                                                         \u001b]8;id=60172;file://C:\\Users\\BHSU\\AppData\\Local\\Programs\\Python\\Python39\\lib\\site-packages\\openfl\\component\\collaborator\\collaborator.py\u001b\\\u001b[2mcollaborator.py\u001b[0m\u001b]8;;\u001b\\\u001b[2m:\u001b[0m\u001b]8;id=28554;file://C:\\Users\\BHSU\\AppData\\Local\\Programs\\Python\\Python39\\lib\\site-packages\\openfl\\component\\collaborator\\collaborator.py#253\u001b\\\u001b[2m253\u001b[0m\u001b]8;;\u001b\\\n"
      ]
     },
     "metadata": {},
     "output_type": "display_data"
    },
    {
     "name": "stdout",
     "output_type": "stream",
     "text": [
      "282/282 [==============================] - 0s 505us/step - loss: 0.3587 - accuracy: 0.8864\n"
     ]
    },
    {
     "data": {
      "text/html": [
       "<pre style=\"white-space:pre;overflow-x:auto;line-height:normal;font-family:Menlo,'DejaVu Sans Mono',consolas,'Courier New',monospace\"><span style=\"color: #7fbfbf; text-decoration-color: #7fbfbf\">           </span>METRIC   Round <span style=\"color: #008080; text-decoration-color: #008080; font-weight: bold\">0</span>, collaborator one is sending metric for task locally_tuned_model_validation: accuracy   <span style=\"color: #008080; text-decoration-color: #008080; font-weight: bold\">0.886444</span>                 <a href=\"file://C:\\Users\\BHSU\\AppData\\Local\\Programs\\Python\\Python39\\lib\\site-packages\\openfl\\component\\collaborator\\collaborator.py\" target=\"_blank\"><span style=\"color: #7f7f7f; text-decoration-color: #7f7f7f\">collaborator.py</span></a><span style=\"color: #7f7f7f; text-decoration-color: #7f7f7f\">:</span><a href=\"file://C:\\Users\\BHSU\\AppData\\Local\\Programs\\Python\\Python39\\lib\\site-packages\\openfl\\component\\collaborator\\collaborator.py#415\" target=\"_blank\"><span style=\"color: #7f7f7f; text-decoration-color: #7f7f7f\">415</span></a>\n",
       "</pre>\n"
      ],
      "text/plain": [
       "\u001b[2;36m          \u001b[0m\u001b[2;36m \u001b[0mMETRIC   Round \u001b[1;36m0\u001b[0m, collaborator one is sending metric for task locally_tuned_model_validation: accuracy   \u001b[1;36m0.886444\u001b[0m                 \u001b]8;id=992753;file://C:\\Users\\BHSU\\AppData\\Local\\Programs\\Python\\Python39\\lib\\site-packages\\openfl\\component\\collaborator\\collaborator.py\u001b\\\u001b[2mcollaborator.py\u001b[0m\u001b]8;;\u001b\\\u001b[2m:\u001b[0m\u001b]8;id=302132;file://C:\\Users\\BHSU\\AppData\\Local\\Programs\\Python\\Python39\\lib\\site-packages\\openfl\\component\\collaborator\\collaborator.py#415\u001b\\\u001b[2m415\u001b[0m\u001b]8;;\u001b\\\n"
      ]
     },
     "metadata": {},
     "output_type": "display_data"
    },
    {
     "data": {
      "text/html": [
       "<pre style=\"white-space:pre;overflow-x:auto;line-height:normal;font-family:Menlo,'DejaVu Sans Mono',consolas,'Courier New',monospace\"><span style=\"color: #7fbfbf; text-decoration-color: #7fbfbf\">           </span><span style=\"color: #000080; text-decoration-color: #000080\">INFO    </span> Collaborator one is sending task results for locally_tuned_model_validation, round <span style=\"color: #008080; text-decoration-color: #008080; font-weight: bold\">0</span>                                       <a href=\"file://C:\\Users\\BHSU\\AppData\\Local\\Programs\\Python\\Python39\\lib\\site-packages\\openfl\\component\\aggregator\\aggregator.py\" target=\"_blank\"><span style=\"color: #7f7f7f; text-decoration-color: #7f7f7f\">aggregator.py</span></a><span style=\"color: #7f7f7f; text-decoration-color: #7f7f7f\">:</span><a href=\"file://C:\\Users\\BHSU\\AppData\\Local\\Programs\\Python\\Python39\\lib\\site-packages\\openfl\\component\\aggregator\\aggregator.py#520\" target=\"_blank\"><span style=\"color: #7f7f7f; text-decoration-color: #7f7f7f\">520</span></a>\n",
       "</pre>\n"
      ],
      "text/plain": [
       "\u001b[2;36m          \u001b[0m\u001b[2;36m \u001b[0m\u001b[34mINFO    \u001b[0m Collaborator one is sending task results for locally_tuned_model_validation, round \u001b[1;36m0\u001b[0m                                       \u001b]8;id=401534;file://C:\\Users\\BHSU\\AppData\\Local\\Programs\\Python\\Python39\\lib\\site-packages\\openfl\\component\\aggregator\\aggregator.py\u001b\\\u001b[2maggregator.py\u001b[0m\u001b]8;;\u001b\\\u001b[2m:\u001b[0m\u001b]8;id=550903;file://C:\\Users\\BHSU\\AppData\\Local\\Programs\\Python\\Python39\\lib\\site-packages\\openfl\\component\\aggregator\\aggregator.py#520\u001b\\\u001b[2m520\u001b[0m\u001b]8;;\u001b\\\n"
      ]
     },
     "metadata": {},
     "output_type": "display_data"
    },
    {
     "data": {
      "text/html": [
       "<pre style=\"white-space:pre;overflow-x:auto;line-height:normal;font-family:Menlo,'DejaVu Sans Mono',consolas,'Courier New',monospace\"><span style=\"color: #7fbfbf; text-decoration-color: #7fbfbf\">           </span>METRIC   Round <span style=\"color: #008080; text-decoration-color: #008080; font-weight: bold\">0</span>, collaborator validate_local locally_tuned_model_validation result accuracy:    <span style=\"color: #008080; text-decoration-color: #008080; font-weight: bold\">0.886444</span>                           <a href=\"file://C:\\Users\\BHSU\\AppData\\Local\\Programs\\Python\\Python39\\lib\\site-packages\\openfl\\component\\aggregator\\aggregator.py\" target=\"_blank\"><span style=\"color: #7f7f7f; text-decoration-color: #7f7f7f\">aggregator.py</span></a><span style=\"color: #7f7f7f; text-decoration-color: #7f7f7f\">:</span><a href=\"file://C:\\Users\\BHSU\\AppData\\Local\\Programs\\Python\\Python39\\lib\\site-packages\\openfl\\component\\aggregator\\aggregator.py#559\" target=\"_blank\"><span style=\"color: #7f7f7f; text-decoration-color: #7f7f7f\">559</span></a>\n",
       "</pre>\n"
      ],
      "text/plain": [
       "\u001b[2;36m          \u001b[0m\u001b[2;36m \u001b[0mMETRIC   Round \u001b[1;36m0\u001b[0m, collaborator validate_local locally_tuned_model_validation result accuracy:    \u001b[1;36m0.886444\u001b[0m                           \u001b]8;id=180188;file://C:\\Users\\BHSU\\AppData\\Local\\Programs\\Python\\Python39\\lib\\site-packages\\openfl\\component\\aggregator\\aggregator.py\u001b\\\u001b[2maggregator.py\u001b[0m\u001b]8;;\u001b\\\u001b[2m:\u001b[0m\u001b]8;id=592825;file://C:\\Users\\BHSU\\AppData\\Local\\Programs\\Python\\Python39\\lib\\site-packages\\openfl\\component\\aggregator\\aggregator.py#559\u001b\\\u001b[2m559\u001b[0m\u001b]8;;\u001b\\\n"
      ]
     },
     "metadata": {},
     "output_type": "display_data"
    },
    {
     "data": {
      "text/html": [
       "<pre style=\"white-space:pre;overflow-x:auto;line-height:normal;font-family:Menlo,'DejaVu Sans Mono',consolas,'Courier New',monospace\"><span style=\"color: #7fbfbf; text-decoration-color: #7fbfbf\">           </span><span style=\"color: #000080; text-decoration-color: #000080\">INFO    </span> All tasks completed on one for round <span style=\"color: #008080; text-decoration-color: #008080; font-weight: bold\">0</span><span style=\"color: #808000; text-decoration-color: #808000\">...</span>                                                                                <a href=\"file://C:\\Users\\BHSU\\AppData\\Local\\Programs\\Python\\Python39\\lib\\site-packages\\openfl\\component\\collaborator\\collaborator.py\" target=\"_blank\"><span style=\"color: #7f7f7f; text-decoration-color: #7f7f7f\">collaborator.py</span></a><span style=\"color: #7f7f7f; text-decoration-color: #7f7f7f\">:</span><a href=\"file://C:\\Users\\BHSU\\AppData\\Local\\Programs\\Python\\Python39\\lib\\site-packages\\openfl\\component\\collaborator\\collaborator.py#171\" target=\"_blank\"><span style=\"color: #7f7f7f; text-decoration-color: #7f7f7f\">171</span></a>\n",
       "</pre>\n"
      ],
      "text/plain": [
       "\u001b[2;36m          \u001b[0m\u001b[2;36m \u001b[0m\u001b[34mINFO    \u001b[0m All tasks completed on one for round \u001b[1;36m0\u001b[0m\u001b[33m...\u001b[0m                                                                                \u001b]8;id=339951;file://C:\\Users\\BHSU\\AppData\\Local\\Programs\\Python\\Python39\\lib\\site-packages\\openfl\\component\\collaborator\\collaborator.py\u001b\\\u001b[2mcollaborator.py\u001b[0m\u001b]8;;\u001b\\\u001b[2m:\u001b[0m\u001b]8;id=855578;file://C:\\Users\\BHSU\\AppData\\Local\\Programs\\Python\\Python39\\lib\\site-packages\\openfl\\component\\collaborator\\collaborator.py#171\u001b\\\u001b[2m171\u001b[0m\u001b]8;;\u001b\\\n"
      ]
     },
     "metadata": {},
     "output_type": "display_data"
    },
    {
     "data": {
      "text/html": [
       "<pre style=\"white-space:pre;overflow-x:auto;line-height:normal;font-family:Menlo,'DejaVu Sans Mono',consolas,'Courier New',monospace\"><span style=\"color: #7fbfbf; text-decoration-color: #7fbfbf\">           </span><span style=\"color: #000080; text-decoration-color: #000080\">INFO    </span> Waiting for tasks<span style=\"color: #808000; text-decoration-color: #808000\">...</span>                                                                                                     <a href=\"file://C:\\Users\\BHSU\\AppData\\Local\\Programs\\Python\\Python39\\lib\\site-packages\\openfl\\component\\collaborator\\collaborator.py\" target=\"_blank\"><span style=\"color: #7f7f7f; text-decoration-color: #7f7f7f\">collaborator.py</span></a><span style=\"color: #7f7f7f; text-decoration-color: #7f7f7f\">:</span><a href=\"file://C:\\Users\\BHSU\\AppData\\Local\\Programs\\Python\\Python39\\lib\\site-packages\\openfl\\component\\collaborator\\collaborator.py#178\" target=\"_blank\"><span style=\"color: #7f7f7f; text-decoration-color: #7f7f7f\">178</span></a>\n",
       "</pre>\n"
      ],
      "text/plain": [
       "\u001b[2;36m          \u001b[0m\u001b[2;36m \u001b[0m\u001b[34mINFO    \u001b[0m Waiting for tasks\u001b[33m...\u001b[0m                                                                                                     \u001b]8;id=346724;file://C:\\Users\\BHSU\\AppData\\Local\\Programs\\Python\\Python39\\lib\\site-packages\\openfl\\component\\collaborator\\collaborator.py\u001b\\\u001b[2mcollaborator.py\u001b[0m\u001b]8;;\u001b\\\u001b[2m:\u001b[0m\u001b]8;id=805662;file://C:\\Users\\BHSU\\AppData\\Local\\Programs\\Python\\Python39\\lib\\site-packages\\openfl\\component\\collaborator\\collaborator.py#178\u001b\\\u001b[2m178\u001b[0m\u001b]8;;\u001b\\\n"
      ]
     },
     "metadata": {},
     "output_type": "display_data"
    },
    {
     "data": {
      "text/html": [
       "<pre style=\"white-space:pre;overflow-x:auto;line-height:normal;font-family:Menlo,'DejaVu Sans Mono',consolas,'Courier New',monospace\"><span style=\"color: #7fbfbf; text-decoration-color: #7fbfbf\">           </span><span style=\"color: #000080; text-decoration-color: #000080\">INFO    </span> Sending tasks to collaborator two for round <span style=\"color: #008080; text-decoration-color: #008080; font-weight: bold\">0</span>                                                                              <a href=\"file://C:\\Users\\BHSU\\AppData\\Local\\Programs\\Python\\Python39\\lib\\site-packages\\openfl\\component\\aggregator\\aggregator.py\" target=\"_blank\"><span style=\"color: #7f7f7f; text-decoration-color: #7f7f7f\">aggregator.py</span></a><span style=\"color: #7f7f7f; text-decoration-color: #7f7f7f\">:</span><a href=\"file://C:\\Users\\BHSU\\AppData\\Local\\Programs\\Python\\Python39\\lib\\site-packages\\openfl\\component\\aggregator\\aggregator.py#329\" target=\"_blank\"><span style=\"color: #7f7f7f; text-decoration-color: #7f7f7f\">329</span></a>\n",
       "</pre>\n"
      ],
      "text/plain": [
       "\u001b[2;36m          \u001b[0m\u001b[2;36m \u001b[0m\u001b[34mINFO    \u001b[0m Sending tasks to collaborator two for round \u001b[1;36m0\u001b[0m                                                                              \u001b]8;id=191344;file://C:\\Users\\BHSU\\AppData\\Local\\Programs\\Python\\Python39\\lib\\site-packages\\openfl\\component\\aggregator\\aggregator.py\u001b\\\u001b[2maggregator.py\u001b[0m\u001b]8;;\u001b\\\u001b[2m:\u001b[0m\u001b]8;id=271170;file://C:\\Users\\BHSU\\AppData\\Local\\Programs\\Python\\Python39\\lib\\site-packages\\openfl\\component\\aggregator\\aggregator.py#329\u001b\\\u001b[2m329\u001b[0m\u001b]8;;\u001b\\\n"
      ]
     },
     "metadata": {},
     "output_type": "display_data"
    },
    {
     "data": {
      "text/html": [
       "<pre style=\"white-space:pre;overflow-x:auto;line-height:normal;font-family:Menlo,'DejaVu Sans Mono',consolas,'Courier New',monospace\"><span style=\"color: #7fbfbf; text-decoration-color: #7fbfbf\">           </span><span style=\"color: #000080; text-decoration-color: #000080\">INFO    </span> Received the following tasks: <span style=\"font-weight: bold\">[</span><span style=\"color: #008000; text-decoration-color: #008000\">'aggregated_model_validation'</span>, <span style=\"color: #008000; text-decoration-color: #008000\">'train'</span>, <span style=\"color: #008000; text-decoration-color: #008000\">'locally_tuned_model_validation'</span><span style=\"font-weight: bold\">]</span>                 <a href=\"file://C:\\Users\\BHSU\\AppData\\Local\\Programs\\Python\\Python39\\lib\\site-packages\\openfl\\component\\collaborator\\collaborator.py\" target=\"_blank\"><span style=\"color: #7f7f7f; text-decoration-color: #7f7f7f\">collaborator.py</span></a><span style=\"color: #7f7f7f; text-decoration-color: #7f7f7f\">:</span><a href=\"file://C:\\Users\\BHSU\\AppData\\Local\\Programs\\Python\\Python39\\lib\\site-packages\\openfl\\component\\collaborator\\collaborator.py#168\" target=\"_blank\"><span style=\"color: #7f7f7f; text-decoration-color: #7f7f7f\">168</span></a>\n",
       "</pre>\n"
      ],
      "text/plain": [
       "\u001b[2;36m          \u001b[0m\u001b[2;36m \u001b[0m\u001b[34mINFO    \u001b[0m Received the following tasks: \u001b[1m[\u001b[0m\u001b[32m'aggregated_model_validation'\u001b[0m, \u001b[32m'train'\u001b[0m, \u001b[32m'locally_tuned_model_validation'\u001b[0m\u001b[1m]\u001b[0m                 \u001b]8;id=213773;file://C:\\Users\\BHSU\\AppData\\Local\\Programs\\Python\\Python39\\lib\\site-packages\\openfl\\component\\collaborator\\collaborator.py\u001b\\\u001b[2mcollaborator.py\u001b[0m\u001b]8;;\u001b\\\u001b[2m:\u001b[0m\u001b]8;id=599139;file://C:\\Users\\BHSU\\AppData\\Local\\Programs\\Python\\Python39\\lib\\site-packages\\openfl\\component\\collaborator\\collaborator.py#168\u001b\\\u001b[2m168\u001b[0m\u001b]8;;\u001b\\\n"
      ]
     },
     "metadata": {},
     "output_type": "display_data"
    },
    {
     "data": {
      "text/html": [
       "<pre style=\"white-space:pre;overflow-x:auto;line-height:normal;font-family:Menlo,'DejaVu Sans Mono',consolas,'Courier New',monospace\"><span style=\"color: #7fbfbf; text-decoration-color: #7fbfbf\">           </span><span style=\"color: #000080; text-decoration-color: #000080\">INFO    </span> Using TaskRunner subclassing API                                                                                         <a href=\"file://C:\\Users\\BHSU\\AppData\\Local\\Programs\\Python\\Python39\\lib\\site-packages\\openfl\\component\\collaborator\\collaborator.py\" target=\"_blank\"><span style=\"color: #7f7f7f; text-decoration-color: #7f7f7f\">collaborator.py</span></a><span style=\"color: #7f7f7f; text-decoration-color: #7f7f7f\">:</span><a href=\"file://C:\\Users\\BHSU\\AppData\\Local\\Programs\\Python\\Python39\\lib\\site-packages\\openfl\\component\\collaborator\\collaborator.py#253\" target=\"_blank\"><span style=\"color: #7f7f7f; text-decoration-color: #7f7f7f\">253</span></a>\n",
       "</pre>\n"
      ],
      "text/plain": [
       "\u001b[2;36m          \u001b[0m\u001b[2;36m \u001b[0m\u001b[34mINFO    \u001b[0m Using TaskRunner subclassing API                                                                                         \u001b]8;id=327680;file://C:\\Users\\BHSU\\AppData\\Local\\Programs\\Python\\Python39\\lib\\site-packages\\openfl\\component\\collaborator\\collaborator.py\u001b\\\u001b[2mcollaborator.py\u001b[0m\u001b]8;;\u001b\\\u001b[2m:\u001b[0m\u001b]8;id=826905;file://C:\\Users\\BHSU\\AppData\\Local\\Programs\\Python\\Python39\\lib\\site-packages\\openfl\\component\\collaborator\\collaborator.py#253\u001b\\\u001b[2m253\u001b[0m\u001b]8;;\u001b\\\n"
      ]
     },
     "metadata": {},
     "output_type": "display_data"
    },
    {
     "name": "stdout",
     "output_type": "stream",
     "text": [
      "WARNING: AutoGraph could not transform <function Model.make_test_function.<locals>.test_function at 0x000002462A4D20D0> and will run it as-is.\n",
      "Please report this to the TensorFlow team. When filing the bug, set the verbosity to 10 (on Linux, `export AUTOGRAPH_VERBOSITY=10`) and attach the full output.\n",
      "Cause: closure mismatch, requested ('self', 'step_function'), but source function had ()\n",
      "To silence this warning, decorate the function with @tf.autograph.experimental.do_not_convert\n",
      "282/282 [==============================] - 0s 562us/step - loss: 2.4752 - accuracy: 0.0726\n"
     ]
    },
    {
     "data": {
      "text/html": [
       "<pre style=\"white-space:pre;overflow-x:auto;line-height:normal;font-family:Menlo,'DejaVu Sans Mono',consolas,'Courier New',monospace\"><span style=\"color: #7fbfbf; text-decoration-color: #7fbfbf\">           </span>METRIC   Round <span style=\"color: #008080; text-decoration-color: #008080; font-weight: bold\">0</span>, collaborator two is sending metric for task aggregated_model_validation: accuracy      <span style=\"color: #008080; text-decoration-color: #008080; font-weight: bold\">0.072556</span>                 <a href=\"file://C:\\Users\\BHSU\\AppData\\Local\\Programs\\Python\\Python39\\lib\\site-packages\\openfl\\component\\collaborator\\collaborator.py\" target=\"_blank\"><span style=\"color: #7f7f7f; text-decoration-color: #7f7f7f\">collaborator.py</span></a><span style=\"color: #7f7f7f; text-decoration-color: #7f7f7f\">:</span><a href=\"file://C:\\Users\\BHSU\\AppData\\Local\\Programs\\Python\\Python39\\lib\\site-packages\\openfl\\component\\collaborator\\collaborator.py#415\" target=\"_blank\"><span style=\"color: #7f7f7f; text-decoration-color: #7f7f7f\">415</span></a>\n",
       "</pre>\n"
      ],
      "text/plain": [
       "\u001b[2;36m          \u001b[0m\u001b[2;36m \u001b[0mMETRIC   Round \u001b[1;36m0\u001b[0m, collaborator two is sending metric for task aggregated_model_validation: accuracy      \u001b[1;36m0.072556\u001b[0m                 \u001b]8;id=597626;file://C:\\Users\\BHSU\\AppData\\Local\\Programs\\Python\\Python39\\lib\\site-packages\\openfl\\component\\collaborator\\collaborator.py\u001b\\\u001b[2mcollaborator.py\u001b[0m\u001b]8;;\u001b\\\u001b[2m:\u001b[0m\u001b]8;id=600049;file://C:\\Users\\BHSU\\AppData\\Local\\Programs\\Python\\Python39\\lib\\site-packages\\openfl\\component\\collaborator\\collaborator.py#415\u001b\\\u001b[2m415\u001b[0m\u001b]8;;\u001b\\\n"
      ]
     },
     "metadata": {},
     "output_type": "display_data"
    },
    {
     "data": {
      "text/html": [
       "<pre style=\"white-space:pre;overflow-x:auto;line-height:normal;font-family:Menlo,'DejaVu Sans Mono',consolas,'Courier New',monospace\"><span style=\"color: #7fbfbf; text-decoration-color: #7fbfbf\">           </span><span style=\"color: #000080; text-decoration-color: #000080\">INFO    </span> Collaborator two is sending task results for aggregated_model_validation, round <span style=\"color: #008080; text-decoration-color: #008080; font-weight: bold\">0</span>                                          <a href=\"file://C:\\Users\\BHSU\\AppData\\Local\\Programs\\Python\\Python39\\lib\\site-packages\\openfl\\component\\aggregator\\aggregator.py\" target=\"_blank\"><span style=\"color: #7f7f7f; text-decoration-color: #7f7f7f\">aggregator.py</span></a><span style=\"color: #7f7f7f; text-decoration-color: #7f7f7f\">:</span><a href=\"file://C:\\Users\\BHSU\\AppData\\Local\\Programs\\Python\\Python39\\lib\\site-packages\\openfl\\component\\aggregator\\aggregator.py#520\" target=\"_blank\"><span style=\"color: #7f7f7f; text-decoration-color: #7f7f7f\">520</span></a>\n",
       "</pre>\n"
      ],
      "text/plain": [
       "\u001b[2;36m          \u001b[0m\u001b[2;36m \u001b[0m\u001b[34mINFO    \u001b[0m Collaborator two is sending task results for aggregated_model_validation, round \u001b[1;36m0\u001b[0m                                          \u001b]8;id=621216;file://C:\\Users\\BHSU\\AppData\\Local\\Programs\\Python\\Python39\\lib\\site-packages\\openfl\\component\\aggregator\\aggregator.py\u001b\\\u001b[2maggregator.py\u001b[0m\u001b]8;;\u001b\\\u001b[2m:\u001b[0m\u001b]8;id=579106;file://C:\\Users\\BHSU\\AppData\\Local\\Programs\\Python\\Python39\\lib\\site-packages\\openfl\\component\\aggregator\\aggregator.py#520\u001b\\\u001b[2m520\u001b[0m\u001b]8;;\u001b\\\n"
      ]
     },
     "metadata": {},
     "output_type": "display_data"
    },
    {
     "data": {
      "text/html": [
       "<pre style=\"white-space:pre;overflow-x:auto;line-height:normal;font-family:Menlo,'DejaVu Sans Mono',consolas,'Courier New',monospace\"><span style=\"color: #7fbfbf; text-decoration-color: #7fbfbf\">           </span>METRIC   Round <span style=\"color: #008080; text-decoration-color: #008080; font-weight: bold\">0</span>, collaborator validate_agg aggregated_model_validation result accuracy: <span style=\"color: #008080; text-decoration-color: #008080; font-weight: bold\">0.072556</span>                                   <a href=\"file://C:\\Users\\BHSU\\AppData\\Local\\Programs\\Python\\Python39\\lib\\site-packages\\openfl\\component\\aggregator\\aggregator.py\" target=\"_blank\"><span style=\"color: #7f7f7f; text-decoration-color: #7f7f7f\">aggregator.py</span></a><span style=\"color: #7f7f7f; text-decoration-color: #7f7f7f\">:</span><a href=\"file://C:\\Users\\BHSU\\AppData\\Local\\Programs\\Python\\Python39\\lib\\site-packages\\openfl\\component\\aggregator\\aggregator.py#559\" target=\"_blank\"><span style=\"color: #7f7f7f; text-decoration-color: #7f7f7f\">559</span></a>\n",
       "</pre>\n"
      ],
      "text/plain": [
       "\u001b[2;36m          \u001b[0m\u001b[2;36m \u001b[0mMETRIC   Round \u001b[1;36m0\u001b[0m, collaborator validate_agg aggregated_model_validation result accuracy: \u001b[1;36m0.072556\u001b[0m                                   \u001b]8;id=873898;file://C:\\Users\\BHSU\\AppData\\Local\\Programs\\Python\\Python39\\lib\\site-packages\\openfl\\component\\aggregator\\aggregator.py\u001b\\\u001b[2maggregator.py\u001b[0m\u001b]8;;\u001b\\\u001b[2m:\u001b[0m\u001b]8;id=360891;file://C:\\Users\\BHSU\\AppData\\Local\\Programs\\Python\\Python39\\lib\\site-packages\\openfl\\component\\aggregator\\aggregator.py#559\u001b\\\u001b[2m559\u001b[0m\u001b]8;;\u001b\\\n"
      ]
     },
     "metadata": {},
     "output_type": "display_data"
    },
    {
     "data": {
      "text/html": [
       "<pre style=\"white-space:pre;overflow-x:auto;line-height:normal;font-family:Menlo,'DejaVu Sans Mono',consolas,'Courier New',monospace\"><span style=\"color: #7fbfbf; text-decoration-color: #7fbfbf\">           </span><span style=\"color: #000080; text-decoration-color: #000080\">INFO    </span> Using TaskRunner subclassing API                                                                                         <a href=\"file://C:\\Users\\BHSU\\AppData\\Local\\Programs\\Python\\Python39\\lib\\site-packages\\openfl\\component\\collaborator\\collaborator.py\" target=\"_blank\"><span style=\"color: #7f7f7f; text-decoration-color: #7f7f7f\">collaborator.py</span></a><span style=\"color: #7f7f7f; text-decoration-color: #7f7f7f\">:</span><a href=\"file://C:\\Users\\BHSU\\AppData\\Local\\Programs\\Python\\Python39\\lib\\site-packages\\openfl\\component\\collaborator\\collaborator.py#253\" target=\"_blank\"><span style=\"color: #7f7f7f; text-decoration-color: #7f7f7f\">253</span></a>\n",
       "</pre>\n"
      ],
      "text/plain": [
       "\u001b[2;36m          \u001b[0m\u001b[2;36m \u001b[0m\u001b[34mINFO    \u001b[0m Using TaskRunner subclassing API                                                                                         \u001b]8;id=171679;file://C:\\Users\\BHSU\\AppData\\Local\\Programs\\Python\\Python39\\lib\\site-packages\\openfl\\component\\collaborator\\collaborator.py\u001b\\\u001b[2mcollaborator.py\u001b[0m\u001b]8;;\u001b\\\u001b[2m:\u001b[0m\u001b]8;id=200165;file://C:\\Users\\BHSU\\AppData\\Local\\Programs\\Python\\Python39\\lib\\site-packages\\openfl\\component\\collaborator\\collaborator.py#253\u001b\\\u001b[2m253\u001b[0m\u001b]8;;\u001b\\\n"
      ]
     },
     "metadata": {},
     "output_type": "display_data"
    },
    {
     "data": {
      "text/html": [
       "<pre style=\"white-space:pre;overflow-x:auto;line-height:normal;font-family:Menlo,'DejaVu Sans Mono',consolas,'Courier New',monospace\"><span style=\"color: #7fbfbf; text-decoration-color: #7fbfbf\">           </span><span style=\"color: #000080; text-decoration-color: #000080\">INFO    </span> Run <span style=\"color: #008080; text-decoration-color: #008080; font-weight: bold\">0</span> epoch of <span style=\"color: #008080; text-decoration-color: #008080; font-weight: bold\">0</span> round                                                                                                    <a href=\"file://C:\\Users\\BHSU\\AppData\\Local\\Programs\\Python\\Python39\\lib\\site-packages\\openfl\\federated\\task\\runner_keras.py\" target=\"_blank\"><span style=\"color: #7f7f7f; text-decoration-color: #7f7f7f\">runner_keras.py</span></a><span style=\"color: #7f7f7f; text-decoration-color: #7f7f7f\">:</span><a href=\"file://C:\\Users\\BHSU\\AppData\\Local\\Programs\\Python\\Python39\\lib\\site-packages\\openfl\\federated\\task\\runner_keras.py#83\" target=\"_blank\"><span style=\"color: #7f7f7f; text-decoration-color: #7f7f7f\">83</span></a>\n",
       "</pre>\n"
      ],
      "text/plain": [
       "\u001b[2;36m          \u001b[0m\u001b[2;36m \u001b[0m\u001b[34mINFO    \u001b[0m Run \u001b[1;36m0\u001b[0m epoch of \u001b[1;36m0\u001b[0m round                                                                                                    \u001b]8;id=266194;file://C:\\Users\\BHSU\\AppData\\Local\\Programs\\Python\\Python39\\lib\\site-packages\\openfl\\federated\\task\\runner_keras.py\u001b\\\u001b[2mrunner_keras.py\u001b[0m\u001b]8;;\u001b\\\u001b[2m:\u001b[0m\u001b]8;id=725034;file://C:\\Users\\BHSU\\AppData\\Local\\Programs\\Python\\Python39\\lib\\site-packages\\openfl\\federated\\task\\runner_keras.py#83\u001b\\\u001b[2m83\u001b[0m\u001b]8;;\u001b\\\n"
      ]
     },
     "metadata": {},
     "output_type": "display_data"
    },
    {
     "name": "stdout",
     "output_type": "stream",
     "text": [
      "WARNING: AutoGraph could not transform <function Model.make_train_function.<locals>.train_function at 0x000002467B732670> and will run it as-is.\n",
      "Please report this to the TensorFlow team. When filing the bug, set the verbosity to 10 (on Linux, `export AUTOGRAPH_VERBOSITY=10`) and attach the full output.\n",
      "Cause: closure mismatch, requested ('self', 'step_function'), but source function had ()\n",
      "To silence this warning, decorate the function with @tf.autograph.experimental.do_not_convert\n",
      "657/657 [==============================] - 1s 628us/step - loss: 0.5403 - accuracy: 0.8368\n"
     ]
    },
    {
     "data": {
      "text/html": [
       "<pre style=\"white-space:pre;overflow-x:auto;line-height:normal;font-family:Menlo,'DejaVu Sans Mono',consolas,'Courier New',monospace\"><span style=\"color: #7fbfbf; text-decoration-color: #7fbfbf\">[08:29:01] </span>METRIC   Round <span style=\"color: #008080; text-decoration-color: #008080; font-weight: bold\">0</span>, collaborator two is sending metric for task train: loss        <span style=\"color: #008080; text-decoration-color: #008080; font-weight: bold\">0.540282</span>                                         <a href=\"file://C:\\Users\\BHSU\\AppData\\Local\\Programs\\Python\\Python39\\lib\\site-packages\\openfl\\component\\collaborator\\collaborator.py\" target=\"_blank\"><span style=\"color: #7f7f7f; text-decoration-color: #7f7f7f\">collaborator.py</span></a><span style=\"color: #7f7f7f; text-decoration-color: #7f7f7f\">:</span><a href=\"file://C:\\Users\\BHSU\\AppData\\Local\\Programs\\Python\\Python39\\lib\\site-packages\\openfl\\component\\collaborator\\collaborator.py#415\" target=\"_blank\"><span style=\"color: #7f7f7f; text-decoration-color: #7f7f7f\">415</span></a>\n",
       "</pre>\n"
      ],
      "text/plain": [
       "\u001b[2;36m[08:29:01]\u001b[0m\u001b[2;36m \u001b[0mMETRIC   Round \u001b[1;36m0\u001b[0m, collaborator two is sending metric for task train: loss        \u001b[1;36m0.540282\u001b[0m                                         \u001b]8;id=702671;file://C:\\Users\\BHSU\\AppData\\Local\\Programs\\Python\\Python39\\lib\\site-packages\\openfl\\component\\collaborator\\collaborator.py\u001b\\\u001b[2mcollaborator.py\u001b[0m\u001b]8;;\u001b\\\u001b[2m:\u001b[0m\u001b]8;id=680289;file://C:\\Users\\BHSU\\AppData\\Local\\Programs\\Python\\Python39\\lib\\site-packages\\openfl\\component\\collaborator\\collaborator.py#415\u001b\\\u001b[2m415\u001b[0m\u001b]8;;\u001b\\\n"
      ]
     },
     "metadata": {},
     "output_type": "display_data"
    },
    {
     "data": {
      "text/html": [
       "<pre style=\"white-space:pre;overflow-x:auto;line-height:normal;font-family:Menlo,'DejaVu Sans Mono',consolas,'Courier New',monospace\"><span style=\"color: #7fbfbf; text-decoration-color: #7fbfbf\">           </span><span style=\"color: #000080; text-decoration-color: #000080\">INFO    </span> Collaborator two is sending task results for train, round <span style=\"color: #008080; text-decoration-color: #008080; font-weight: bold\">0</span>                                                                <a href=\"file://C:\\Users\\BHSU\\AppData\\Local\\Programs\\Python\\Python39\\lib\\site-packages\\openfl\\component\\aggregator\\aggregator.py\" target=\"_blank\"><span style=\"color: #7f7f7f; text-decoration-color: #7f7f7f\">aggregator.py</span></a><span style=\"color: #7f7f7f; text-decoration-color: #7f7f7f\">:</span><a href=\"file://C:\\Users\\BHSU\\AppData\\Local\\Programs\\Python\\Python39\\lib\\site-packages\\openfl\\component\\aggregator\\aggregator.py#520\" target=\"_blank\"><span style=\"color: #7f7f7f; text-decoration-color: #7f7f7f\">520</span></a>\n",
       "</pre>\n"
      ],
      "text/plain": [
       "\u001b[2;36m          \u001b[0m\u001b[2;36m \u001b[0m\u001b[34mINFO    \u001b[0m Collaborator two is sending task results for train, round \u001b[1;36m0\u001b[0m                                                                \u001b]8;id=534546;file://C:\\Users\\BHSU\\AppData\\Local\\Programs\\Python\\Python39\\lib\\site-packages\\openfl\\component\\aggregator\\aggregator.py\u001b\\\u001b[2maggregator.py\u001b[0m\u001b]8;;\u001b\\\u001b[2m:\u001b[0m\u001b]8;id=333379;file://C:\\Users\\BHSU\\AppData\\Local\\Programs\\Python\\Python39\\lib\\site-packages\\openfl\\component\\aggregator\\aggregator.py#520\u001b\\\u001b[2m520\u001b[0m\u001b]8;;\u001b\\\n"
      ]
     },
     "metadata": {},
     "output_type": "display_data"
    },
    {
     "data": {
      "text/html": [
       "<pre style=\"white-space:pre;overflow-x:auto;line-height:normal;font-family:Menlo,'DejaVu Sans Mono',consolas,'Courier New',monospace\"><span style=\"color: #7fbfbf; text-decoration-color: #7fbfbf\">           </span>METRIC   Round <span style=\"color: #008080; text-decoration-color: #008080; font-weight: bold\">0</span>, collaborator two train result loss:    <span style=\"color: #008080; text-decoration-color: #008080; font-weight: bold\">0.540282</span>                                                                   <a href=\"file://C:\\Users\\BHSU\\AppData\\Local\\Programs\\Python\\Python39\\lib\\site-packages\\openfl\\component\\aggregator\\aggregator.py\" target=\"_blank\"><span style=\"color: #7f7f7f; text-decoration-color: #7f7f7f\">aggregator.py</span></a><span style=\"color: #7f7f7f; text-decoration-color: #7f7f7f\">:</span><a href=\"file://C:\\Users\\BHSU\\AppData\\Local\\Programs\\Python\\Python39\\lib\\site-packages\\openfl\\component\\aggregator\\aggregator.py#559\" target=\"_blank\"><span style=\"color: #7f7f7f; text-decoration-color: #7f7f7f\">559</span></a>\n",
       "</pre>\n"
      ],
      "text/plain": [
       "\u001b[2;36m          \u001b[0m\u001b[2;36m \u001b[0mMETRIC   Round \u001b[1;36m0\u001b[0m, collaborator two train result loss:    \u001b[1;36m0.540282\u001b[0m                                                                   \u001b]8;id=862728;file://C:\\Users\\BHSU\\AppData\\Local\\Programs\\Python\\Python39\\lib\\site-packages\\openfl\\component\\aggregator\\aggregator.py\u001b\\\u001b[2maggregator.py\u001b[0m\u001b]8;;\u001b\\\u001b[2m:\u001b[0m\u001b]8;id=162025;file://C:\\Users\\BHSU\\AppData\\Local\\Programs\\Python\\Python39\\lib\\site-packages\\openfl\\component\\aggregator\\aggregator.py#559\u001b\\\u001b[2m559\u001b[0m\u001b]8;;\u001b\\\n"
      ]
     },
     "metadata": {},
     "output_type": "display_data"
    },
    {
     "data": {
      "text/html": [
       "<pre style=\"white-space:pre;overflow-x:auto;line-height:normal;font-family:Menlo,'DejaVu Sans Mono',consolas,'Courier New',monospace\"><span style=\"color: #7fbfbf; text-decoration-color: #7fbfbf\">           </span><span style=\"color: #000080; text-decoration-color: #000080\">INFO    </span> Using TaskRunner subclassing API                                                                                         <a href=\"file://C:\\Users\\BHSU\\AppData\\Local\\Programs\\Python\\Python39\\lib\\site-packages\\openfl\\component\\collaborator\\collaborator.py\" target=\"_blank\"><span style=\"color: #7f7f7f; text-decoration-color: #7f7f7f\">collaborator.py</span></a><span style=\"color: #7f7f7f; text-decoration-color: #7f7f7f\">:</span><a href=\"file://C:\\Users\\BHSU\\AppData\\Local\\Programs\\Python\\Python39\\lib\\site-packages\\openfl\\component\\collaborator\\collaborator.py#253\" target=\"_blank\"><span style=\"color: #7f7f7f; text-decoration-color: #7f7f7f\">253</span></a>\n",
       "</pre>\n"
      ],
      "text/plain": [
       "\u001b[2;36m          \u001b[0m\u001b[2;36m \u001b[0m\u001b[34mINFO    \u001b[0m Using TaskRunner subclassing API                                                                                         \u001b]8;id=912551;file://C:\\Users\\BHSU\\AppData\\Local\\Programs\\Python\\Python39\\lib\\site-packages\\openfl\\component\\collaborator\\collaborator.py\u001b\\\u001b[2mcollaborator.py\u001b[0m\u001b]8;;\u001b\\\u001b[2m:\u001b[0m\u001b]8;id=928504;file://C:\\Users\\BHSU\\AppData\\Local\\Programs\\Python\\Python39\\lib\\site-packages\\openfl\\component\\collaborator\\collaborator.py#253\u001b\\\u001b[2m253\u001b[0m\u001b]8;;\u001b\\\n"
      ]
     },
     "metadata": {},
     "output_type": "display_data"
    },
    {
     "name": "stdout",
     "output_type": "stream",
     "text": [
      "282/282 [==============================] - 0s 587us/step - loss: 0.3174 - accuracy: 0.9039\n"
     ]
    },
    {
     "data": {
      "text/html": [
       "<pre style=\"white-space:pre;overflow-x:auto;line-height:normal;font-family:Menlo,'DejaVu Sans Mono',consolas,'Courier New',monospace\"><span style=\"color: #7fbfbf; text-decoration-color: #7fbfbf\">           </span>METRIC   Round <span style=\"color: #008080; text-decoration-color: #008080; font-weight: bold\">0</span>, collaborator two is sending metric for task locally_tuned_model_validation: accuracy   <span style=\"color: #008080; text-decoration-color: #008080; font-weight: bold\">0.903889</span>                 <a href=\"file://C:\\Users\\BHSU\\AppData\\Local\\Programs\\Python\\Python39\\lib\\site-packages\\openfl\\component\\collaborator\\collaborator.py\" target=\"_blank\"><span style=\"color: #7f7f7f; text-decoration-color: #7f7f7f\">collaborator.py</span></a><span style=\"color: #7f7f7f; text-decoration-color: #7f7f7f\">:</span><a href=\"file://C:\\Users\\BHSU\\AppData\\Local\\Programs\\Python\\Python39\\lib\\site-packages\\openfl\\component\\collaborator\\collaborator.py#415\" target=\"_blank\"><span style=\"color: #7f7f7f; text-decoration-color: #7f7f7f\">415</span></a>\n",
       "</pre>\n"
      ],
      "text/plain": [
       "\u001b[2;36m          \u001b[0m\u001b[2;36m \u001b[0mMETRIC   Round \u001b[1;36m0\u001b[0m, collaborator two is sending metric for task locally_tuned_model_validation: accuracy   \u001b[1;36m0.903889\u001b[0m                 \u001b]8;id=451387;file://C:\\Users\\BHSU\\AppData\\Local\\Programs\\Python\\Python39\\lib\\site-packages\\openfl\\component\\collaborator\\collaborator.py\u001b\\\u001b[2mcollaborator.py\u001b[0m\u001b]8;;\u001b\\\u001b[2m:\u001b[0m\u001b]8;id=676391;file://C:\\Users\\BHSU\\AppData\\Local\\Programs\\Python\\Python39\\lib\\site-packages\\openfl\\component\\collaborator\\collaborator.py#415\u001b\\\u001b[2m415\u001b[0m\u001b]8;;\u001b\\\n"
      ]
     },
     "metadata": {},
     "output_type": "display_data"
    },
    {
     "data": {
      "text/html": [
       "<pre style=\"white-space:pre;overflow-x:auto;line-height:normal;font-family:Menlo,'DejaVu Sans Mono',consolas,'Courier New',monospace\"><span style=\"color: #7fbfbf; text-decoration-color: #7fbfbf\">           </span><span style=\"color: #000080; text-decoration-color: #000080\">INFO    </span> Collaborator two is sending task results for locally_tuned_model_validation, round <span style=\"color: #008080; text-decoration-color: #008080; font-weight: bold\">0</span>                                       <a href=\"file://C:\\Users\\BHSU\\AppData\\Local\\Programs\\Python\\Python39\\lib\\site-packages\\openfl\\component\\aggregator\\aggregator.py\" target=\"_blank\"><span style=\"color: #7f7f7f; text-decoration-color: #7f7f7f\">aggregator.py</span></a><span style=\"color: #7f7f7f; text-decoration-color: #7f7f7f\">:</span><a href=\"file://C:\\Users\\BHSU\\AppData\\Local\\Programs\\Python\\Python39\\lib\\site-packages\\openfl\\component\\aggregator\\aggregator.py#520\" target=\"_blank\"><span style=\"color: #7f7f7f; text-decoration-color: #7f7f7f\">520</span></a>\n",
       "</pre>\n"
      ],
      "text/plain": [
       "\u001b[2;36m          \u001b[0m\u001b[2;36m \u001b[0m\u001b[34mINFO    \u001b[0m Collaborator two is sending task results for locally_tuned_model_validation, round \u001b[1;36m0\u001b[0m                                       \u001b]8;id=20290;file://C:\\Users\\BHSU\\AppData\\Local\\Programs\\Python\\Python39\\lib\\site-packages\\openfl\\component\\aggregator\\aggregator.py\u001b\\\u001b[2maggregator.py\u001b[0m\u001b]8;;\u001b\\\u001b[2m:\u001b[0m\u001b]8;id=955541;file://C:\\Users\\BHSU\\AppData\\Local\\Programs\\Python\\Python39\\lib\\site-packages\\openfl\\component\\aggregator\\aggregator.py#520\u001b\\\u001b[2m520\u001b[0m\u001b]8;;\u001b\\\n"
      ]
     },
     "metadata": {},
     "output_type": "display_data"
    },
    {
     "data": {
      "text/html": [
       "<pre style=\"white-space:pre;overflow-x:auto;line-height:normal;font-family:Menlo,'DejaVu Sans Mono',consolas,'Courier New',monospace\"><span style=\"color: #7fbfbf; text-decoration-color: #7fbfbf\">           </span>METRIC   Round <span style=\"color: #008080; text-decoration-color: #008080; font-weight: bold\">0</span>, collaborator validate_local locally_tuned_model_validation result accuracy:    <span style=\"color: #008080; text-decoration-color: #008080; font-weight: bold\">0.903889</span>                           <a href=\"file://C:\\Users\\BHSU\\AppData\\Local\\Programs\\Python\\Python39\\lib\\site-packages\\openfl\\component\\aggregator\\aggregator.py\" target=\"_blank\"><span style=\"color: #7f7f7f; text-decoration-color: #7f7f7f\">aggregator.py</span></a><span style=\"color: #7f7f7f; text-decoration-color: #7f7f7f\">:</span><a href=\"file://C:\\Users\\BHSU\\AppData\\Local\\Programs\\Python\\Python39\\lib\\site-packages\\openfl\\component\\aggregator\\aggregator.py#559\" target=\"_blank\"><span style=\"color: #7f7f7f; text-decoration-color: #7f7f7f\">559</span></a>\n",
       "</pre>\n"
      ],
      "text/plain": [
       "\u001b[2;36m          \u001b[0m\u001b[2;36m \u001b[0mMETRIC   Round \u001b[1;36m0\u001b[0m, collaborator validate_local locally_tuned_model_validation result accuracy:    \u001b[1;36m0.903889\u001b[0m                           \u001b]8;id=882005;file://C:\\Users\\BHSU\\AppData\\Local\\Programs\\Python\\Python39\\lib\\site-packages\\openfl\\component\\aggregator\\aggregator.py\u001b\\\u001b[2maggregator.py\u001b[0m\u001b]8;;\u001b\\\u001b[2m:\u001b[0m\u001b]8;id=764346;file://C:\\Users\\BHSU\\AppData\\Local\\Programs\\Python\\Python39\\lib\\site-packages\\openfl\\component\\aggregator\\aggregator.py#559\u001b\\\u001b[2m559\u001b[0m\u001b]8;;\u001b\\\n"
      ]
     },
     "metadata": {},
     "output_type": "display_data"
    },
    {
     "data": {
      "text/html": [
       "<pre style=\"white-space:pre;overflow-x:auto;line-height:normal;font-family:Menlo,'DejaVu Sans Mono',consolas,'Courier New',monospace\"><span style=\"color: #7fbfbf; text-decoration-color: #7fbfbf\">           </span>METRIC   Round <span style=\"color: #008080; text-decoration-color: #008080; font-weight: bold\">0</span>, aggregator: locally_tuned_model_validation                                                                        <a href=\"file://C:\\Users\\BHSU\\AppData\\Local\\Programs\\Python\\Python39\\lib\\site-packages\\openfl\\component\\aggregator\\aggregator.py\" target=\"_blank\"><span style=\"color: #7f7f7f; text-decoration-color: #7f7f7f\">aggregator.py</span></a><span style=\"color: #7f7f7f; text-decoration-color: #7f7f7f\">:</span><a href=\"file://C:\\Users\\BHSU\\AppData\\Local\\Programs\\Python\\Python39\\lib\\site-packages\\openfl\\component\\aggregator\\aggregator.py#842\" target=\"_blank\"><span style=\"color: #7f7f7f; text-decoration-color: #7f7f7f\">842</span></a>\n",
       "<span style=\"color: #7fbfbf; text-decoration-color: #7fbfbf\">           </span>         <span style=\"font-weight: bold\">&lt;</span><span style=\"color: #ff00ff; text-decoration-color: #ff00ff; font-weight: bold\">openfl.interface.aggregation_functions.weighted_average.WeightedAverage</span><span style=\"color: #000000; text-decoration-color: #000000\"> object at </span><span style=\"color: #008080; text-decoration-color: #008080; font-weight: bold\">0x0000024658124790</span><span style=\"font-weight: bold\">&gt;</span> accuracy:           <span style=\"color: #7f7f7f; text-decoration-color: #7f7f7f\">                 </span>\n",
       "<span style=\"color: #7fbfbf; text-decoration-color: #7fbfbf\">           </span>         <span style=\"color: #008080; text-decoration-color: #008080; font-weight: bold\">0.895167</span>                                                                                                                   <span style=\"color: #7f7f7f; text-decoration-color: #7f7f7f\">                 </span>\n",
       "</pre>\n"
      ],
      "text/plain": [
       "\u001b[2;36m          \u001b[0m\u001b[2;36m \u001b[0mMETRIC   Round \u001b[1;36m0\u001b[0m, aggregator: locally_tuned_model_validation                                                                        \u001b]8;id=845011;file://C:\\Users\\BHSU\\AppData\\Local\\Programs\\Python\\Python39\\lib\\site-packages\\openfl\\component\\aggregator\\aggregator.py\u001b\\\u001b[2maggregator.py\u001b[0m\u001b]8;;\u001b\\\u001b[2m:\u001b[0m\u001b]8;id=609725;file://C:\\Users\\BHSU\\AppData\\Local\\Programs\\Python\\Python39\\lib\\site-packages\\openfl\\component\\aggregator\\aggregator.py#842\u001b\\\u001b[2m842\u001b[0m\u001b]8;;\u001b\\\n",
       "\u001b[2;36m           \u001b[0m         \u001b[1m<\u001b[0m\u001b[1;95mopenfl.interface.aggregation_functions.weighted_average.WeightedAverage\u001b[0m\u001b[39m object at \u001b[0m\u001b[1;36m0x0000024658124790\u001b[0m\u001b[1m>\u001b[0m accuracy:           \u001b[2m                 \u001b[0m\n",
       "\u001b[2;36m           \u001b[0m         \u001b[1;36m0.895167\u001b[0m                                                                                                                   \u001b[2m                 \u001b[0m\n"
      ]
     },
     "metadata": {},
     "output_type": "display_data"
    },
    {
     "data": {
      "text/html": [
       "<pre style=\"white-space:pre;overflow-x:auto;line-height:normal;font-family:Menlo,'DejaVu Sans Mono',consolas,'Courier New',monospace\"><span style=\"color: #7fbfbf; text-decoration-color: #7fbfbf\">           </span>METRIC   Round <span style=\"color: #008080; text-decoration-color: #008080; font-weight: bold\">0</span>, aggregator: aggregated_model_validation <span style=\"font-weight: bold\">&lt;</span><span style=\"color: #ff00ff; text-decoration-color: #ff00ff; font-weight: bold\">openfl.interface.aggregation_functions.weighted_average.WeightedAverage</span><span style=\"color: #000000; text-decoration-color: #000000\"> </span> <a href=\"file://C:\\Users\\BHSU\\AppData\\Local\\Programs\\Python\\Python39\\lib\\site-packages\\openfl\\component\\aggregator\\aggregator.py\" target=\"_blank\"><span style=\"color: #7f7f7f; text-decoration-color: #7f7f7f\">aggregator.py</span></a><span style=\"color: #7f7f7f; text-decoration-color: #7f7f7f\">:</span><a href=\"file://C:\\Users\\BHSU\\AppData\\Local\\Programs\\Python\\Python39\\lib\\site-packages\\openfl\\component\\aggregator\\aggregator.py#842\" target=\"_blank\"><span style=\"color: #7f7f7f; text-decoration-color: #7f7f7f\">842</span></a>\n",
       "<span style=\"color: #7fbfbf; text-decoration-color: #7fbfbf\">           </span>         <span style=\"color: #000000; text-decoration-color: #000000\">object at </span><span style=\"color: #008080; text-decoration-color: #008080; font-weight: bold\">0x0000024658124790</span><span style=\"font-weight: bold\">&gt;</span> accuracy:       <span style=\"color: #008080; text-decoration-color: #008080; font-weight: bold\">0.071333</span>                                                                     <span style=\"color: #7f7f7f; text-decoration-color: #7f7f7f\">                 </span>\n",
       "</pre>\n"
      ],
      "text/plain": [
       "\u001b[2;36m          \u001b[0m\u001b[2;36m \u001b[0mMETRIC   Round \u001b[1;36m0\u001b[0m, aggregator: aggregated_model_validation \u001b[1m<\u001b[0m\u001b[1;95mopenfl.interface.aggregation_functions.weighted_average.WeightedAverage\u001b[0m\u001b[39m \u001b[0m \u001b]8;id=624113;file://C:\\Users\\BHSU\\AppData\\Local\\Programs\\Python\\Python39\\lib\\site-packages\\openfl\\component\\aggregator\\aggregator.py\u001b\\\u001b[2maggregator.py\u001b[0m\u001b]8;;\u001b\\\u001b[2m:\u001b[0m\u001b]8;id=956012;file://C:\\Users\\BHSU\\AppData\\Local\\Programs\\Python\\Python39\\lib\\site-packages\\openfl\\component\\aggregator\\aggregator.py#842\u001b\\\u001b[2m842\u001b[0m\u001b]8;;\u001b\\\n",
       "\u001b[2;36m           \u001b[0m         \u001b[39mobject at \u001b[0m\u001b[1;36m0x0000024658124790\u001b[0m\u001b[1m>\u001b[0m accuracy:       \u001b[1;36m0.071333\u001b[0m                                                                     \u001b[2m                 \u001b[0m\n"
      ]
     },
     "metadata": {},
     "output_type": "display_data"
    },
    {
     "data": {
      "text/html": [
       "<pre style=\"white-space:pre;overflow-x:auto;line-height:normal;font-family:Menlo,'DejaVu Sans Mono',consolas,'Courier New',monospace\"><span style=\"color: #7fbfbf; text-decoration-color: #7fbfbf\">           </span>METRIC   Round <span style=\"color: #008080; text-decoration-color: #008080; font-weight: bold\">0</span>: saved the best model with score <span style=\"color: #008080; text-decoration-color: #008080; font-weight: bold\">0.071333</span>                                                                          <a href=\"file://C:\\Users\\BHSU\\AppData\\Local\\Programs\\Python\\Python39\\lib\\site-packages\\openfl\\component\\aggregator\\aggregator.py\" target=\"_blank\"><span style=\"color: #7f7f7f; text-decoration-color: #7f7f7f\">aggregator.py</span></a><span style=\"color: #7f7f7f; text-decoration-color: #7f7f7f\">:</span><a href=\"file://C:\\Users\\BHSU\\AppData\\Local\\Programs\\Python\\Python39\\lib\\site-packages\\openfl\\component\\aggregator\\aggregator.py#858\" target=\"_blank\"><span style=\"color: #7f7f7f; text-decoration-color: #7f7f7f\">858</span></a>\n",
       "</pre>\n"
      ],
      "text/plain": [
       "\u001b[2;36m          \u001b[0m\u001b[2;36m \u001b[0mMETRIC   Round \u001b[1;36m0\u001b[0m: saved the best model with score \u001b[1;36m0.071333\u001b[0m                                                                          \u001b]8;id=818830;file://C:\\Users\\BHSU\\AppData\\Local\\Programs\\Python\\Python39\\lib\\site-packages\\openfl\\component\\aggregator\\aggregator.py\u001b\\\u001b[2maggregator.py\u001b[0m\u001b]8;;\u001b\\\u001b[2m:\u001b[0m\u001b]8;id=89217;file://C:\\Users\\BHSU\\AppData\\Local\\Programs\\Python\\Python39\\lib\\site-packages\\openfl\\component\\aggregator\\aggregator.py#858\u001b\\\u001b[2m858\u001b[0m\u001b]8;;\u001b\\\n"
      ]
     },
     "metadata": {},
     "output_type": "display_data"
    },
    {
     "data": {
      "text/html": [
       "<pre style=\"white-space:pre;overflow-x:auto;line-height:normal;font-family:Menlo,'DejaVu Sans Mono',consolas,'Courier New',monospace\"><span style=\"color: #7fbfbf; text-decoration-color: #7fbfbf\">           </span>METRIC   Round <span style=\"color: #008080; text-decoration-color: #008080; font-weight: bold\">0</span>, aggregator: train <span style=\"font-weight: bold\">&lt;</span><span style=\"color: #ff00ff; text-decoration-color: #ff00ff; font-weight: bold\">openfl.interface.aggregation_functions.weighted_average.WeightedAverage</span><span style=\"color: #000000; text-decoration-color: #000000\"> object at </span>             <a href=\"file://C:\\Users\\BHSU\\AppData\\Local\\Programs\\Python\\Python39\\lib\\site-packages\\openfl\\component\\aggregator\\aggregator.py\" target=\"_blank\"><span style=\"color: #7f7f7f; text-decoration-color: #7f7f7f\">aggregator.py</span></a><span style=\"color: #7f7f7f; text-decoration-color: #7f7f7f\">:</span><a href=\"file://C:\\Users\\BHSU\\AppData\\Local\\Programs\\Python\\Python39\\lib\\site-packages\\openfl\\component\\aggregator\\aggregator.py#842\" target=\"_blank\"><span style=\"color: #7f7f7f; text-decoration-color: #7f7f7f\">842</span></a>\n",
       "<span style=\"color: #7fbfbf; text-decoration-color: #7fbfbf\">           </span>         <span style=\"color: #008080; text-decoration-color: #008080; font-weight: bold\">0x0000024658124790</span><span style=\"font-weight: bold\">&gt;</span> loss: <span style=\"color: #008080; text-decoration-color: #008080; font-weight: bold\">0.551653</span>                                                                                         <span style=\"color: #7f7f7f; text-decoration-color: #7f7f7f\">                 </span>\n",
       "</pre>\n"
      ],
      "text/plain": [
       "\u001b[2;36m          \u001b[0m\u001b[2;36m \u001b[0mMETRIC   Round \u001b[1;36m0\u001b[0m, aggregator: train \u001b[1m<\u001b[0m\u001b[1;95mopenfl.interface.aggregation_functions.weighted_average.WeightedAverage\u001b[0m\u001b[39m object at \u001b[0m             \u001b]8;id=117998;file://C:\\Users\\BHSU\\AppData\\Local\\Programs\\Python\\Python39\\lib\\site-packages\\openfl\\component\\aggregator\\aggregator.py\u001b\\\u001b[2maggregator.py\u001b[0m\u001b]8;;\u001b\\\u001b[2m:\u001b[0m\u001b]8;id=130205;file://C:\\Users\\BHSU\\AppData\\Local\\Programs\\Python\\Python39\\lib\\site-packages\\openfl\\component\\aggregator\\aggregator.py#842\u001b\\\u001b[2m842\u001b[0m\u001b]8;;\u001b\\\n",
       "\u001b[2;36m           \u001b[0m         \u001b[1;36m0x0000024658124790\u001b[0m\u001b[1m>\u001b[0m loss: \u001b[1;36m0.551653\u001b[0m                                                                                         \u001b[2m                 \u001b[0m\n"
      ]
     },
     "metadata": {},
     "output_type": "display_data"
    },
    {
     "data": {
      "text/html": [
       "<pre style=\"white-space:pre;overflow-x:auto;line-height:normal;font-family:Menlo,'DejaVu Sans Mono',consolas,'Courier New',monospace\"><span style=\"color: #7fbfbf; text-decoration-color: #7fbfbf\">           </span><span style=\"color: #000080; text-decoration-color: #000080\">INFO    </span> Saving round <span style=\"color: #008080; text-decoration-color: #008080; font-weight: bold\">1</span> model<span style=\"color: #808000; text-decoration-color: #808000\">...</span>                                                                                                    <a href=\"file://C:\\Users\\BHSU\\AppData\\Local\\Programs\\Python\\Python39\\lib\\site-packages\\openfl\\component\\aggregator\\aggregator.py\" target=\"_blank\"><span style=\"color: #7f7f7f; text-decoration-color: #7f7f7f\">aggregator.py</span></a><span style=\"color: #7f7f7f; text-decoration-color: #7f7f7f\">:</span><a href=\"file://C:\\Users\\BHSU\\AppData\\Local\\Programs\\Python\\Python39\\lib\\site-packages\\openfl\\component\\aggregator\\aggregator.py#894\" target=\"_blank\"><span style=\"color: #7f7f7f; text-decoration-color: #7f7f7f\">894</span></a>\n",
       "</pre>\n"
      ],
      "text/plain": [
       "\u001b[2;36m          \u001b[0m\u001b[2;36m \u001b[0m\u001b[34mINFO    \u001b[0m Saving round \u001b[1;36m1\u001b[0m model\u001b[33m...\u001b[0m                                                                                                    \u001b]8;id=899749;file://C:\\Users\\BHSU\\AppData\\Local\\Programs\\Python\\Python39\\lib\\site-packages\\openfl\\component\\aggregator\\aggregator.py\u001b\\\u001b[2maggregator.py\u001b[0m\u001b]8;;\u001b\\\u001b[2m:\u001b[0m\u001b]8;id=997795;file://C:\\Users\\BHSU\\AppData\\Local\\Programs\\Python\\Python39\\lib\\site-packages\\openfl\\component\\aggregator\\aggregator.py#894\u001b\\\u001b[2m894\u001b[0m\u001b]8;;\u001b\\\n"
      ]
     },
     "metadata": {},
     "output_type": "display_data"
    },
    {
     "data": {
      "text/html": [
       "<pre style=\"white-space:pre;overflow-x:auto;line-height:normal;font-family:Menlo,'DejaVu Sans Mono',consolas,'Courier New',monospace\"><span style=\"color: #7fbfbf; text-decoration-color: #7fbfbf\">           </span><span style=\"color: #000080; text-decoration-color: #000080\">INFO    </span> Starting round <span style=\"color: #008080; text-decoration-color: #008080; font-weight: bold\">1</span><span style=\"color: #808000; text-decoration-color: #808000\">...</span>                                                                                                        <a href=\"file://C:\\Users\\BHSU\\AppData\\Local\\Programs\\Python\\Python39\\lib\\site-packages\\openfl\\component\\aggregator\\aggregator.py\" target=\"_blank\"><span style=\"color: #7f7f7f; text-decoration-color: #7f7f7f\">aggregator.py</span></a><span style=\"color: #7f7f7f; text-decoration-color: #7f7f7f\">:</span><a href=\"file://C:\\Users\\BHSU\\AppData\\Local\\Programs\\Python\\Python39\\lib\\site-packages\\openfl\\component\\aggregator\\aggregator.py#901\" target=\"_blank\"><span style=\"color: #7f7f7f; text-decoration-color: #7f7f7f\">901</span></a>\n",
       "</pre>\n"
      ],
      "text/plain": [
       "\u001b[2;36m          \u001b[0m\u001b[2;36m \u001b[0m\u001b[34mINFO    \u001b[0m Starting round \u001b[1;36m1\u001b[0m\u001b[33m...\u001b[0m                                                                                                        \u001b]8;id=593915;file://C:\\Users\\BHSU\\AppData\\Local\\Programs\\Python\\Python39\\lib\\site-packages\\openfl\\component\\aggregator\\aggregator.py\u001b\\\u001b[2maggregator.py\u001b[0m\u001b]8;;\u001b\\\u001b[2m:\u001b[0m\u001b]8;id=347303;file://C:\\Users\\BHSU\\AppData\\Local\\Programs\\Python\\Python39\\lib\\site-packages\\openfl\\component\\aggregator\\aggregator.py#901\u001b\\\u001b[2m901\u001b[0m\u001b]8;;\u001b\\\n"
      ]
     },
     "metadata": {},
     "output_type": "display_data"
    },
    {
     "data": {
      "text/html": [
       "<pre style=\"white-space:pre;overflow-x:auto;line-height:normal;font-family:Menlo,'DejaVu Sans Mono',consolas,'Courier New',monospace\"><span style=\"color: #7fbfbf; text-decoration-color: #7fbfbf\">           </span><span style=\"color: #000080; text-decoration-color: #000080\">INFO    </span> All tasks completed on two for round <span style=\"color: #008080; text-decoration-color: #008080; font-weight: bold\">0</span><span style=\"color: #808000; text-decoration-color: #808000\">...</span>                                                                                <a href=\"file://C:\\Users\\BHSU\\AppData\\Local\\Programs\\Python\\Python39\\lib\\site-packages\\openfl\\component\\collaborator\\collaborator.py\" target=\"_blank\"><span style=\"color: #7f7f7f; text-decoration-color: #7f7f7f\">collaborator.py</span></a><span style=\"color: #7f7f7f; text-decoration-color: #7f7f7f\">:</span><a href=\"file://C:\\Users\\BHSU\\AppData\\Local\\Programs\\Python\\Python39\\lib\\site-packages\\openfl\\component\\collaborator\\collaborator.py#171\" target=\"_blank\"><span style=\"color: #7f7f7f; text-decoration-color: #7f7f7f\">171</span></a>\n",
       "</pre>\n"
      ],
      "text/plain": [
       "\u001b[2;36m          \u001b[0m\u001b[2;36m \u001b[0m\u001b[34mINFO    \u001b[0m All tasks completed on two for round \u001b[1;36m0\u001b[0m\u001b[33m...\u001b[0m                                                                                \u001b]8;id=599265;file://C:\\Users\\BHSU\\AppData\\Local\\Programs\\Python\\Python39\\lib\\site-packages\\openfl\\component\\collaborator\\collaborator.py\u001b\\\u001b[2mcollaborator.py\u001b[0m\u001b]8;;\u001b\\\u001b[2m:\u001b[0m\u001b]8;id=739579;file://C:\\Users\\BHSU\\AppData\\Local\\Programs\\Python\\Python39\\lib\\site-packages\\openfl\\component\\collaborator\\collaborator.py#171\u001b\\\u001b[2m171\u001b[0m\u001b]8;;\u001b\\\n"
      ]
     },
     "metadata": {},
     "output_type": "display_data"
    },
    {
     "data": {
      "text/html": [
       "<pre style=\"white-space:pre;overflow-x:auto;line-height:normal;font-family:Menlo,'DejaVu Sans Mono',consolas,'Courier New',monospace\"><span style=\"color: #7fbfbf; text-decoration-color: #7fbfbf\">           </span><span style=\"color: #000080; text-decoration-color: #000080\">INFO    </span> Waiting for tasks<span style=\"color: #808000; text-decoration-color: #808000\">...</span>                                                                                                     <a href=\"file://C:\\Users\\BHSU\\AppData\\Local\\Programs\\Python\\Python39\\lib\\site-packages\\openfl\\component\\collaborator\\collaborator.py\" target=\"_blank\"><span style=\"color: #7f7f7f; text-decoration-color: #7f7f7f\">collaborator.py</span></a><span style=\"color: #7f7f7f; text-decoration-color: #7f7f7f\">:</span><a href=\"file://C:\\Users\\BHSU\\AppData\\Local\\Programs\\Python\\Python39\\lib\\site-packages\\openfl\\component\\collaborator\\collaborator.py#178\" target=\"_blank\"><span style=\"color: #7f7f7f; text-decoration-color: #7f7f7f\">178</span></a>\n",
       "</pre>\n"
      ],
      "text/plain": [
       "\u001b[2;36m          \u001b[0m\u001b[2;36m \u001b[0m\u001b[34mINFO    \u001b[0m Waiting for tasks\u001b[33m...\u001b[0m                                                                                                     \u001b]8;id=629330;file://C:\\Users\\BHSU\\AppData\\Local\\Programs\\Python\\Python39\\lib\\site-packages\\openfl\\component\\collaborator\\collaborator.py\u001b\\\u001b[2mcollaborator.py\u001b[0m\u001b]8;;\u001b\\\u001b[2m:\u001b[0m\u001b]8;id=287002;file://C:\\Users\\BHSU\\AppData\\Local\\Programs\\Python\\Python39\\lib\\site-packages\\openfl\\component\\collaborator\\collaborator.py#178\u001b\\\u001b[2m178\u001b[0m\u001b]8;;\u001b\\\n"
      ]
     },
     "metadata": {},
     "output_type": "display_data"
    },
    {
     "data": {
      "text/html": [
       "<pre style=\"white-space:pre;overflow-x:auto;line-height:normal;font-family:Menlo,'DejaVu Sans Mono',consolas,'Courier New',monospace\"><span style=\"color: #7fbfbf; text-decoration-color: #7fbfbf\">           </span><span style=\"color: #000080; text-decoration-color: #000080\">INFO    </span> Sending tasks to collaborator one for round <span style=\"color: #008080; text-decoration-color: #008080; font-weight: bold\">1</span>                                                                              <a href=\"file://C:\\Users\\BHSU\\AppData\\Local\\Programs\\Python\\Python39\\lib\\site-packages\\openfl\\component\\aggregator\\aggregator.py\" target=\"_blank\"><span style=\"color: #7f7f7f; text-decoration-color: #7f7f7f\">aggregator.py</span></a><span style=\"color: #7f7f7f; text-decoration-color: #7f7f7f\">:</span><a href=\"file://C:\\Users\\BHSU\\AppData\\Local\\Programs\\Python\\Python39\\lib\\site-packages\\openfl\\component\\aggregator\\aggregator.py#329\" target=\"_blank\"><span style=\"color: #7f7f7f; text-decoration-color: #7f7f7f\">329</span></a>\n",
       "</pre>\n"
      ],
      "text/plain": [
       "\u001b[2;36m          \u001b[0m\u001b[2;36m \u001b[0m\u001b[34mINFO    \u001b[0m Sending tasks to collaborator one for round \u001b[1;36m1\u001b[0m                                                                              \u001b]8;id=758824;file://C:\\Users\\BHSU\\AppData\\Local\\Programs\\Python\\Python39\\lib\\site-packages\\openfl\\component\\aggregator\\aggregator.py\u001b\\\u001b[2maggregator.py\u001b[0m\u001b]8;;\u001b\\\u001b[2m:\u001b[0m\u001b]8;id=772534;file://C:\\Users\\BHSU\\AppData\\Local\\Programs\\Python\\Python39\\lib\\site-packages\\openfl\\component\\aggregator\\aggregator.py#329\u001b\\\u001b[2m329\u001b[0m\u001b]8;;\u001b\\\n"
      ]
     },
     "metadata": {},
     "output_type": "display_data"
    },
    {
     "data": {
      "text/html": [
       "<pre style=\"white-space:pre;overflow-x:auto;line-height:normal;font-family:Menlo,'DejaVu Sans Mono',consolas,'Courier New',monospace\"><span style=\"color: #7fbfbf; text-decoration-color: #7fbfbf\">           </span><span style=\"color: #000080; text-decoration-color: #000080\">INFO    </span> Received the following tasks: <span style=\"font-weight: bold\">[</span><span style=\"color: #008000; text-decoration-color: #008000\">'aggregated_model_validation'</span>, <span style=\"color: #008000; text-decoration-color: #008000\">'train'</span>, <span style=\"color: #008000; text-decoration-color: #008000\">'locally_tuned_model_validation'</span><span style=\"font-weight: bold\">]</span>                 <a href=\"file://C:\\Users\\BHSU\\AppData\\Local\\Programs\\Python\\Python39\\lib\\site-packages\\openfl\\component\\collaborator\\collaborator.py\" target=\"_blank\"><span style=\"color: #7f7f7f; text-decoration-color: #7f7f7f\">collaborator.py</span></a><span style=\"color: #7f7f7f; text-decoration-color: #7f7f7f\">:</span><a href=\"file://C:\\Users\\BHSU\\AppData\\Local\\Programs\\Python\\Python39\\lib\\site-packages\\openfl\\component\\collaborator\\collaborator.py#168\" target=\"_blank\"><span style=\"color: #7f7f7f; text-decoration-color: #7f7f7f\">168</span></a>\n",
       "</pre>\n"
      ],
      "text/plain": [
       "\u001b[2;36m          \u001b[0m\u001b[2;36m \u001b[0m\u001b[34mINFO    \u001b[0m Received the following tasks: \u001b[1m[\u001b[0m\u001b[32m'aggregated_model_validation'\u001b[0m, \u001b[32m'train'\u001b[0m, \u001b[32m'locally_tuned_model_validation'\u001b[0m\u001b[1m]\u001b[0m                 \u001b]8;id=875567;file://C:\\Users\\BHSU\\AppData\\Local\\Programs\\Python\\Python39\\lib\\site-packages\\openfl\\component\\collaborator\\collaborator.py\u001b\\\u001b[2mcollaborator.py\u001b[0m\u001b]8;;\u001b\\\u001b[2m:\u001b[0m\u001b]8;id=105619;file://C:\\Users\\BHSU\\AppData\\Local\\Programs\\Python\\Python39\\lib\\site-packages\\openfl\\component\\collaborator\\collaborator.py#168\u001b\\\u001b[2m168\u001b[0m\u001b]8;;\u001b\\\n"
      ]
     },
     "metadata": {},
     "output_type": "display_data"
    },
    {
     "data": {
      "text/html": [
       "<pre style=\"white-space:pre;overflow-x:auto;line-height:normal;font-family:Menlo,'DejaVu Sans Mono',consolas,'Courier New',monospace\"><span style=\"color: #7fbfbf; text-decoration-color: #7fbfbf\">           </span><span style=\"color: #000080; text-decoration-color: #000080\">INFO    </span> Using TaskRunner subclassing API                                                                                         <a href=\"file://C:\\Users\\BHSU\\AppData\\Local\\Programs\\Python\\Python39\\lib\\site-packages\\openfl\\component\\collaborator\\collaborator.py\" target=\"_blank\"><span style=\"color: #7f7f7f; text-decoration-color: #7f7f7f\">collaborator.py</span></a><span style=\"color: #7f7f7f; text-decoration-color: #7f7f7f\">:</span><a href=\"file://C:\\Users\\BHSU\\AppData\\Local\\Programs\\Python\\Python39\\lib\\site-packages\\openfl\\component\\collaborator\\collaborator.py#253\" target=\"_blank\"><span style=\"color: #7f7f7f; text-decoration-color: #7f7f7f\">253</span></a>\n",
       "</pre>\n"
      ],
      "text/plain": [
       "\u001b[2;36m          \u001b[0m\u001b[2;36m \u001b[0m\u001b[34mINFO    \u001b[0m Using TaskRunner subclassing API                                                                                         \u001b]8;id=645979;file://C:\\Users\\BHSU\\AppData\\Local\\Programs\\Python\\Python39\\lib\\site-packages\\openfl\\component\\collaborator\\collaborator.py\u001b\\\u001b[2mcollaborator.py\u001b[0m\u001b]8;;\u001b\\\u001b[2m:\u001b[0m\u001b]8;id=984780;file://C:\\Users\\BHSU\\AppData\\Local\\Programs\\Python\\Python39\\lib\\site-packages\\openfl\\component\\collaborator\\collaborator.py#253\u001b\\\u001b[2m253\u001b[0m\u001b]8;;\u001b\\\n"
      ]
     },
     "metadata": {},
     "output_type": "display_data"
    },
    {
     "name": "stdout",
     "output_type": "stream",
     "text": [
      "282/282 [==============================] - 0s 505us/step - loss: 0.5016 - accuracy: 0.8531\n"
     ]
    },
    {
     "data": {
      "text/html": [
       "<pre style=\"white-space:pre;overflow-x:auto;line-height:normal;font-family:Menlo,'DejaVu Sans Mono',consolas,'Courier New',monospace\"><span style=\"color: #7fbfbf; text-decoration-color: #7fbfbf\">[08:29:02] </span>METRIC   Round <span style=\"color: #008080; text-decoration-color: #008080; font-weight: bold\">1</span>, collaborator one is sending metric for task aggregated_model_validation: accuracy      <span style=\"color: #008080; text-decoration-color: #008080; font-weight: bold\">0.853111</span>                 <a href=\"file://C:\\Users\\BHSU\\AppData\\Local\\Programs\\Python\\Python39\\lib\\site-packages\\openfl\\component\\collaborator\\collaborator.py\" target=\"_blank\"><span style=\"color: #7f7f7f; text-decoration-color: #7f7f7f\">collaborator.py</span></a><span style=\"color: #7f7f7f; text-decoration-color: #7f7f7f\">:</span><a href=\"file://C:\\Users\\BHSU\\AppData\\Local\\Programs\\Python\\Python39\\lib\\site-packages\\openfl\\component\\collaborator\\collaborator.py#415\" target=\"_blank\"><span style=\"color: #7f7f7f; text-decoration-color: #7f7f7f\">415</span></a>\n",
       "</pre>\n"
      ],
      "text/plain": [
       "\u001b[2;36m[08:29:02]\u001b[0m\u001b[2;36m \u001b[0mMETRIC   Round \u001b[1;36m1\u001b[0m, collaborator one is sending metric for task aggregated_model_validation: accuracy      \u001b[1;36m0.853111\u001b[0m                 \u001b]8;id=439983;file://C:\\Users\\BHSU\\AppData\\Local\\Programs\\Python\\Python39\\lib\\site-packages\\openfl\\component\\collaborator\\collaborator.py\u001b\\\u001b[2mcollaborator.py\u001b[0m\u001b]8;;\u001b\\\u001b[2m:\u001b[0m\u001b]8;id=103429;file://C:\\Users\\BHSU\\AppData\\Local\\Programs\\Python\\Python39\\lib\\site-packages\\openfl\\component\\collaborator\\collaborator.py#415\u001b\\\u001b[2m415\u001b[0m\u001b]8;;\u001b\\\n"
      ]
     },
     "metadata": {},
     "output_type": "display_data"
    },
    {
     "data": {
      "text/html": [
       "<pre style=\"white-space:pre;overflow-x:auto;line-height:normal;font-family:Menlo,'DejaVu Sans Mono',consolas,'Courier New',monospace\"><span style=\"color: #7fbfbf; text-decoration-color: #7fbfbf\">           </span><span style=\"color: #000080; text-decoration-color: #000080\">INFO    </span> Collaborator one is sending task results for aggregated_model_validation, round <span style=\"color: #008080; text-decoration-color: #008080; font-weight: bold\">1</span>                                          <a href=\"file://C:\\Users\\BHSU\\AppData\\Local\\Programs\\Python\\Python39\\lib\\site-packages\\openfl\\component\\aggregator\\aggregator.py\" target=\"_blank\"><span style=\"color: #7f7f7f; text-decoration-color: #7f7f7f\">aggregator.py</span></a><span style=\"color: #7f7f7f; text-decoration-color: #7f7f7f\">:</span><a href=\"file://C:\\Users\\BHSU\\AppData\\Local\\Programs\\Python\\Python39\\lib\\site-packages\\openfl\\component\\aggregator\\aggregator.py#520\" target=\"_blank\"><span style=\"color: #7f7f7f; text-decoration-color: #7f7f7f\">520</span></a>\n",
       "</pre>\n"
      ],
      "text/plain": [
       "\u001b[2;36m          \u001b[0m\u001b[2;36m \u001b[0m\u001b[34mINFO    \u001b[0m Collaborator one is sending task results for aggregated_model_validation, round \u001b[1;36m1\u001b[0m                                          \u001b]8;id=216589;file://C:\\Users\\BHSU\\AppData\\Local\\Programs\\Python\\Python39\\lib\\site-packages\\openfl\\component\\aggregator\\aggregator.py\u001b\\\u001b[2maggregator.py\u001b[0m\u001b]8;;\u001b\\\u001b[2m:\u001b[0m\u001b]8;id=389266;file://C:\\Users\\BHSU\\AppData\\Local\\Programs\\Python\\Python39\\lib\\site-packages\\openfl\\component\\aggregator\\aggregator.py#520\u001b\\\u001b[2m520\u001b[0m\u001b]8;;\u001b\\\n"
      ]
     },
     "metadata": {},
     "output_type": "display_data"
    },
    {
     "data": {
      "text/html": [
       "<pre style=\"white-space:pre;overflow-x:auto;line-height:normal;font-family:Menlo,'DejaVu Sans Mono',consolas,'Courier New',monospace\"><span style=\"color: #7fbfbf; text-decoration-color: #7fbfbf\">           </span>METRIC   Round <span style=\"color: #008080; text-decoration-color: #008080; font-weight: bold\">1</span>, collaborator validate_agg aggregated_model_validation result accuracy: <span style=\"color: #008080; text-decoration-color: #008080; font-weight: bold\">0.853111</span>                                   <a href=\"file://C:\\Users\\BHSU\\AppData\\Local\\Programs\\Python\\Python39\\lib\\site-packages\\openfl\\component\\aggregator\\aggregator.py\" target=\"_blank\"><span style=\"color: #7f7f7f; text-decoration-color: #7f7f7f\">aggregator.py</span></a><span style=\"color: #7f7f7f; text-decoration-color: #7f7f7f\">:</span><a href=\"file://C:\\Users\\BHSU\\AppData\\Local\\Programs\\Python\\Python39\\lib\\site-packages\\openfl\\component\\aggregator\\aggregator.py#559\" target=\"_blank\"><span style=\"color: #7f7f7f; text-decoration-color: #7f7f7f\">559</span></a>\n",
       "</pre>\n"
      ],
      "text/plain": [
       "\u001b[2;36m          \u001b[0m\u001b[2;36m \u001b[0mMETRIC   Round \u001b[1;36m1\u001b[0m, collaborator validate_agg aggregated_model_validation result accuracy: \u001b[1;36m0.853111\u001b[0m                                   \u001b]8;id=120782;file://C:\\Users\\BHSU\\AppData\\Local\\Programs\\Python\\Python39\\lib\\site-packages\\openfl\\component\\aggregator\\aggregator.py\u001b\\\u001b[2maggregator.py\u001b[0m\u001b]8;;\u001b\\\u001b[2m:\u001b[0m\u001b]8;id=780656;file://C:\\Users\\BHSU\\AppData\\Local\\Programs\\Python\\Python39\\lib\\site-packages\\openfl\\component\\aggregator\\aggregator.py#559\u001b\\\u001b[2m559\u001b[0m\u001b]8;;\u001b\\\n"
      ]
     },
     "metadata": {},
     "output_type": "display_data"
    },
    {
     "data": {
      "text/html": [
       "<pre style=\"white-space:pre;overflow-x:auto;line-height:normal;font-family:Menlo,'DejaVu Sans Mono',consolas,'Courier New',monospace\"><span style=\"color: #7fbfbf; text-decoration-color: #7fbfbf\">           </span><span style=\"color: #000080; text-decoration-color: #000080\">INFO    </span> Using TaskRunner subclassing API                                                                                         <a href=\"file://C:\\Users\\BHSU\\AppData\\Local\\Programs\\Python\\Python39\\lib\\site-packages\\openfl\\component\\collaborator\\collaborator.py\" target=\"_blank\"><span style=\"color: #7f7f7f; text-decoration-color: #7f7f7f\">collaborator.py</span></a><span style=\"color: #7f7f7f; text-decoration-color: #7f7f7f\">:</span><a href=\"file://C:\\Users\\BHSU\\AppData\\Local\\Programs\\Python\\Python39\\lib\\site-packages\\openfl\\component\\collaborator\\collaborator.py#253\" target=\"_blank\"><span style=\"color: #7f7f7f; text-decoration-color: #7f7f7f\">253</span></a>\n",
       "</pre>\n"
      ],
      "text/plain": [
       "\u001b[2;36m          \u001b[0m\u001b[2;36m \u001b[0m\u001b[34mINFO    \u001b[0m Using TaskRunner subclassing API                                                                                         \u001b]8;id=710140;file://C:\\Users\\BHSU\\AppData\\Local\\Programs\\Python\\Python39\\lib\\site-packages\\openfl\\component\\collaborator\\collaborator.py\u001b\\\u001b[2mcollaborator.py\u001b[0m\u001b]8;;\u001b\\\u001b[2m:\u001b[0m\u001b]8;id=852573;file://C:\\Users\\BHSU\\AppData\\Local\\Programs\\Python\\Python39\\lib\\site-packages\\openfl\\component\\collaborator\\collaborator.py#253\u001b\\\u001b[2m253\u001b[0m\u001b]8;;\u001b\\\n"
      ]
     },
     "metadata": {},
     "output_type": "display_data"
    },
    {
     "data": {
      "text/html": [
       "<pre style=\"white-space:pre;overflow-x:auto;line-height:normal;font-family:Menlo,'DejaVu Sans Mono',consolas,'Courier New',monospace\"><span style=\"color: #7fbfbf; text-decoration-color: #7fbfbf\">           </span><span style=\"color: #000080; text-decoration-color: #000080\">INFO    </span> Run <span style=\"color: #008080; text-decoration-color: #008080; font-weight: bold\">0</span> epoch of <span style=\"color: #008080; text-decoration-color: #008080; font-weight: bold\">1</span> round                                                                                                    <a href=\"file://C:\\Users\\BHSU\\AppData\\Local\\Programs\\Python\\Python39\\lib\\site-packages\\openfl\\federated\\task\\runner_keras.py\" target=\"_blank\"><span style=\"color: #7f7f7f; text-decoration-color: #7f7f7f\">runner_keras.py</span></a><span style=\"color: #7f7f7f; text-decoration-color: #7f7f7f\">:</span><a href=\"file://C:\\Users\\BHSU\\AppData\\Local\\Programs\\Python\\Python39\\lib\\site-packages\\openfl\\federated\\task\\runner_keras.py#83\" target=\"_blank\"><span style=\"color: #7f7f7f; text-decoration-color: #7f7f7f\">83</span></a>\n",
       "</pre>\n"
      ],
      "text/plain": [
       "\u001b[2;36m          \u001b[0m\u001b[2;36m \u001b[0m\u001b[34mINFO    \u001b[0m Run \u001b[1;36m0\u001b[0m epoch of \u001b[1;36m1\u001b[0m round                                                                                                    \u001b]8;id=57957;file://C:\\Users\\BHSU\\AppData\\Local\\Programs\\Python\\Python39\\lib\\site-packages\\openfl\\federated\\task\\runner_keras.py\u001b\\\u001b[2mrunner_keras.py\u001b[0m\u001b]8;;\u001b\\\u001b[2m:\u001b[0m\u001b]8;id=880748;file://C:\\Users\\BHSU\\AppData\\Local\\Programs\\Python\\Python39\\lib\\site-packages\\openfl\\federated\\task\\runner_keras.py#83\u001b\\\u001b[2m83\u001b[0m\u001b]8;;\u001b\\\n"
      ]
     },
     "metadata": {},
     "output_type": "display_data"
    },
    {
     "name": "stdout",
     "output_type": "stream",
     "text": [
      "657/657 [==============================] - 0s 636us/step - loss: 0.3167 - accuracy: 0.9060\n"
     ]
    },
    {
     "data": {
      "text/html": [
       "<pre style=\"white-space:pre;overflow-x:auto;line-height:normal;font-family:Menlo,'DejaVu Sans Mono',consolas,'Courier New',monospace\"><span style=\"color: #7fbfbf; text-decoration-color: #7fbfbf\">           </span>METRIC   Round <span style=\"color: #008080; text-decoration-color: #008080; font-weight: bold\">1</span>, collaborator one is sending metric for task train: loss        <span style=\"color: #008080; text-decoration-color: #008080; font-weight: bold\">0.316690</span>                                         <a href=\"file://C:\\Users\\BHSU\\AppData\\Local\\Programs\\Python\\Python39\\lib\\site-packages\\openfl\\component\\collaborator\\collaborator.py\" target=\"_blank\"><span style=\"color: #7f7f7f; text-decoration-color: #7f7f7f\">collaborator.py</span></a><span style=\"color: #7f7f7f; text-decoration-color: #7f7f7f\">:</span><a href=\"file://C:\\Users\\BHSU\\AppData\\Local\\Programs\\Python\\Python39\\lib\\site-packages\\openfl\\component\\collaborator\\collaborator.py#415\" target=\"_blank\"><span style=\"color: #7f7f7f; text-decoration-color: #7f7f7f\">415</span></a>\n",
       "</pre>\n"
      ],
      "text/plain": [
       "\u001b[2;36m          \u001b[0m\u001b[2;36m \u001b[0mMETRIC   Round \u001b[1;36m1\u001b[0m, collaborator one is sending metric for task train: loss        \u001b[1;36m0.316690\u001b[0m                                         \u001b]8;id=15657;file://C:\\Users\\BHSU\\AppData\\Local\\Programs\\Python\\Python39\\lib\\site-packages\\openfl\\component\\collaborator\\collaborator.py\u001b\\\u001b[2mcollaborator.py\u001b[0m\u001b]8;;\u001b\\\u001b[2m:\u001b[0m\u001b]8;id=456890;file://C:\\Users\\BHSU\\AppData\\Local\\Programs\\Python\\Python39\\lib\\site-packages\\openfl\\component\\collaborator\\collaborator.py#415\u001b\\\u001b[2m415\u001b[0m\u001b]8;;\u001b\\\n"
      ]
     },
     "metadata": {},
     "output_type": "display_data"
    },
    {
     "data": {
      "text/html": [
       "<pre style=\"white-space:pre;overflow-x:auto;line-height:normal;font-family:Menlo,'DejaVu Sans Mono',consolas,'Courier New',monospace\"><span style=\"color: #7fbfbf; text-decoration-color: #7fbfbf\">           </span><span style=\"color: #000080; text-decoration-color: #000080\">INFO    </span> Collaborator one is sending task results for train, round <span style=\"color: #008080; text-decoration-color: #008080; font-weight: bold\">1</span>                                                                <a href=\"file://C:\\Users\\BHSU\\AppData\\Local\\Programs\\Python\\Python39\\lib\\site-packages\\openfl\\component\\aggregator\\aggregator.py\" target=\"_blank\"><span style=\"color: #7f7f7f; text-decoration-color: #7f7f7f\">aggregator.py</span></a><span style=\"color: #7f7f7f; text-decoration-color: #7f7f7f\">:</span><a href=\"file://C:\\Users\\BHSU\\AppData\\Local\\Programs\\Python\\Python39\\lib\\site-packages\\openfl\\component\\aggregator\\aggregator.py#520\" target=\"_blank\"><span style=\"color: #7f7f7f; text-decoration-color: #7f7f7f\">520</span></a>\n",
       "</pre>\n"
      ],
      "text/plain": [
       "\u001b[2;36m          \u001b[0m\u001b[2;36m \u001b[0m\u001b[34mINFO    \u001b[0m Collaborator one is sending task results for train, round \u001b[1;36m1\u001b[0m                                                                \u001b]8;id=112150;file://C:\\Users\\BHSU\\AppData\\Local\\Programs\\Python\\Python39\\lib\\site-packages\\openfl\\component\\aggregator\\aggregator.py\u001b\\\u001b[2maggregator.py\u001b[0m\u001b]8;;\u001b\\\u001b[2m:\u001b[0m\u001b]8;id=701188;file://C:\\Users\\BHSU\\AppData\\Local\\Programs\\Python\\Python39\\lib\\site-packages\\openfl\\component\\aggregator\\aggregator.py#520\u001b\\\u001b[2m520\u001b[0m\u001b]8;;\u001b\\\n"
      ]
     },
     "metadata": {},
     "output_type": "display_data"
    },
    {
     "data": {
      "text/html": [
       "<pre style=\"white-space:pre;overflow-x:auto;line-height:normal;font-family:Menlo,'DejaVu Sans Mono',consolas,'Courier New',monospace\"><span style=\"color: #7fbfbf; text-decoration-color: #7fbfbf\">           </span>METRIC   Round <span style=\"color: #008080; text-decoration-color: #008080; font-weight: bold\">1</span>, collaborator one train result loss:    <span style=\"color: #008080; text-decoration-color: #008080; font-weight: bold\">0.316690</span>                                                                   <a href=\"file://C:\\Users\\BHSU\\AppData\\Local\\Programs\\Python\\Python39\\lib\\site-packages\\openfl\\component\\aggregator\\aggregator.py\" target=\"_blank\"><span style=\"color: #7f7f7f; text-decoration-color: #7f7f7f\">aggregator.py</span></a><span style=\"color: #7f7f7f; text-decoration-color: #7f7f7f\">:</span><a href=\"file://C:\\Users\\BHSU\\AppData\\Local\\Programs\\Python\\Python39\\lib\\site-packages\\openfl\\component\\aggregator\\aggregator.py#559\" target=\"_blank\"><span style=\"color: #7f7f7f; text-decoration-color: #7f7f7f\">559</span></a>\n",
       "</pre>\n"
      ],
      "text/plain": [
       "\u001b[2;36m          \u001b[0m\u001b[2;36m \u001b[0mMETRIC   Round \u001b[1;36m1\u001b[0m, collaborator one train result loss:    \u001b[1;36m0.316690\u001b[0m                                                                   \u001b]8;id=878072;file://C:\\Users\\BHSU\\AppData\\Local\\Programs\\Python\\Python39\\lib\\site-packages\\openfl\\component\\aggregator\\aggregator.py\u001b\\\u001b[2maggregator.py\u001b[0m\u001b]8;;\u001b\\\u001b[2m:\u001b[0m\u001b]8;id=762777;file://C:\\Users\\BHSU\\AppData\\Local\\Programs\\Python\\Python39\\lib\\site-packages\\openfl\\component\\aggregator\\aggregator.py#559\u001b\\\u001b[2m559\u001b[0m\u001b]8;;\u001b\\\n"
      ]
     },
     "metadata": {},
     "output_type": "display_data"
    },
    {
     "data": {
      "text/html": [
       "<pre style=\"white-space:pre;overflow-x:auto;line-height:normal;font-family:Menlo,'DejaVu Sans Mono',consolas,'Courier New',monospace\"><span style=\"color: #7fbfbf; text-decoration-color: #7fbfbf\">           </span><span style=\"color: #000080; text-decoration-color: #000080\">INFO    </span> Using TaskRunner subclassing API                                                                                         <a href=\"file://C:\\Users\\BHSU\\AppData\\Local\\Programs\\Python\\Python39\\lib\\site-packages\\openfl\\component\\collaborator\\collaborator.py\" target=\"_blank\"><span style=\"color: #7f7f7f; text-decoration-color: #7f7f7f\">collaborator.py</span></a><span style=\"color: #7f7f7f; text-decoration-color: #7f7f7f\">:</span><a href=\"file://C:\\Users\\BHSU\\AppData\\Local\\Programs\\Python\\Python39\\lib\\site-packages\\openfl\\component\\collaborator\\collaborator.py#253\" target=\"_blank\"><span style=\"color: #7f7f7f; text-decoration-color: #7f7f7f\">253</span></a>\n",
       "</pre>\n"
      ],
      "text/plain": [
       "\u001b[2;36m          \u001b[0m\u001b[2;36m \u001b[0m\u001b[34mINFO    \u001b[0m Using TaskRunner subclassing API                                                                                         \u001b]8;id=928088;file://C:\\Users\\BHSU\\AppData\\Local\\Programs\\Python\\Python39\\lib\\site-packages\\openfl\\component\\collaborator\\collaborator.py\u001b\\\u001b[2mcollaborator.py\u001b[0m\u001b]8;;\u001b\\\u001b[2m:\u001b[0m\u001b]8;id=588657;file://C:\\Users\\BHSU\\AppData\\Local\\Programs\\Python\\Python39\\lib\\site-packages\\openfl\\component\\collaborator\\collaborator.py#253\u001b\\\u001b[2m253\u001b[0m\u001b]8;;\u001b\\\n"
      ]
     },
     "metadata": {},
     "output_type": "display_data"
    },
    {
     "name": "stdout",
     "output_type": "stream",
     "text": [
      "282/282 [==============================] - 0s 495us/step - loss: 0.3272 - accuracy: 0.8933\n"
     ]
    },
    {
     "data": {
      "text/html": [
       "<pre style=\"white-space:pre;overflow-x:auto;line-height:normal;font-family:Menlo,'DejaVu Sans Mono',consolas,'Courier New',monospace\"><span style=\"color: #7fbfbf; text-decoration-color: #7fbfbf\">           </span>METRIC   Round <span style=\"color: #008080; text-decoration-color: #008080; font-weight: bold\">1</span>, collaborator one is sending metric for task locally_tuned_model_validation: accuracy   <span style=\"color: #008080; text-decoration-color: #008080; font-weight: bold\">0.893333</span>                 <a href=\"file://C:\\Users\\BHSU\\AppData\\Local\\Programs\\Python\\Python39\\lib\\site-packages\\openfl\\component\\collaborator\\collaborator.py\" target=\"_blank\"><span style=\"color: #7f7f7f; text-decoration-color: #7f7f7f\">collaborator.py</span></a><span style=\"color: #7f7f7f; text-decoration-color: #7f7f7f\">:</span><a href=\"file://C:\\Users\\BHSU\\AppData\\Local\\Programs\\Python\\Python39\\lib\\site-packages\\openfl\\component\\collaborator\\collaborator.py#415\" target=\"_blank\"><span style=\"color: #7f7f7f; text-decoration-color: #7f7f7f\">415</span></a>\n",
       "</pre>\n"
      ],
      "text/plain": [
       "\u001b[2;36m          \u001b[0m\u001b[2;36m \u001b[0mMETRIC   Round \u001b[1;36m1\u001b[0m, collaborator one is sending metric for task locally_tuned_model_validation: accuracy   \u001b[1;36m0.893333\u001b[0m                 \u001b]8;id=157441;file://C:\\Users\\BHSU\\AppData\\Local\\Programs\\Python\\Python39\\lib\\site-packages\\openfl\\component\\collaborator\\collaborator.py\u001b\\\u001b[2mcollaborator.py\u001b[0m\u001b]8;;\u001b\\\u001b[2m:\u001b[0m\u001b]8;id=615006;file://C:\\Users\\BHSU\\AppData\\Local\\Programs\\Python\\Python39\\lib\\site-packages\\openfl\\component\\collaborator\\collaborator.py#415\u001b\\\u001b[2m415\u001b[0m\u001b]8;;\u001b\\\n"
      ]
     },
     "metadata": {},
     "output_type": "display_data"
    },
    {
     "data": {
      "text/html": [
       "<pre style=\"white-space:pre;overflow-x:auto;line-height:normal;font-family:Menlo,'DejaVu Sans Mono',consolas,'Courier New',monospace\"><span style=\"color: #7fbfbf; text-decoration-color: #7fbfbf\">           </span><span style=\"color: #000080; text-decoration-color: #000080\">INFO    </span> Collaborator one is sending task results for locally_tuned_model_validation, round <span style=\"color: #008080; text-decoration-color: #008080; font-weight: bold\">1</span>                                       <a href=\"file://C:\\Users\\BHSU\\AppData\\Local\\Programs\\Python\\Python39\\lib\\site-packages\\openfl\\component\\aggregator\\aggregator.py\" target=\"_blank\"><span style=\"color: #7f7f7f; text-decoration-color: #7f7f7f\">aggregator.py</span></a><span style=\"color: #7f7f7f; text-decoration-color: #7f7f7f\">:</span><a href=\"file://C:\\Users\\BHSU\\AppData\\Local\\Programs\\Python\\Python39\\lib\\site-packages\\openfl\\component\\aggregator\\aggregator.py#520\" target=\"_blank\"><span style=\"color: #7f7f7f; text-decoration-color: #7f7f7f\">520</span></a>\n",
       "</pre>\n"
      ],
      "text/plain": [
       "\u001b[2;36m          \u001b[0m\u001b[2;36m \u001b[0m\u001b[34mINFO    \u001b[0m Collaborator one is sending task results for locally_tuned_model_validation, round \u001b[1;36m1\u001b[0m                                       \u001b]8;id=269294;file://C:\\Users\\BHSU\\AppData\\Local\\Programs\\Python\\Python39\\lib\\site-packages\\openfl\\component\\aggregator\\aggregator.py\u001b\\\u001b[2maggregator.py\u001b[0m\u001b]8;;\u001b\\\u001b[2m:\u001b[0m\u001b]8;id=59544;file://C:\\Users\\BHSU\\AppData\\Local\\Programs\\Python\\Python39\\lib\\site-packages\\openfl\\component\\aggregator\\aggregator.py#520\u001b\\\u001b[2m520\u001b[0m\u001b]8;;\u001b\\\n"
      ]
     },
     "metadata": {},
     "output_type": "display_data"
    },
    {
     "data": {
      "text/html": [
       "<pre style=\"white-space:pre;overflow-x:auto;line-height:normal;font-family:Menlo,'DejaVu Sans Mono',consolas,'Courier New',monospace\"><span style=\"color: #7fbfbf; text-decoration-color: #7fbfbf\">           </span>METRIC   Round <span style=\"color: #008080; text-decoration-color: #008080; font-weight: bold\">1</span>, collaborator validate_local locally_tuned_model_validation result accuracy:    <span style=\"color: #008080; text-decoration-color: #008080; font-weight: bold\">0.893333</span>                           <a href=\"file://C:\\Users\\BHSU\\AppData\\Local\\Programs\\Python\\Python39\\lib\\site-packages\\openfl\\component\\aggregator\\aggregator.py\" target=\"_blank\"><span style=\"color: #7f7f7f; text-decoration-color: #7f7f7f\">aggregator.py</span></a><span style=\"color: #7f7f7f; text-decoration-color: #7f7f7f\">:</span><a href=\"file://C:\\Users\\BHSU\\AppData\\Local\\Programs\\Python\\Python39\\lib\\site-packages\\openfl\\component\\aggregator\\aggregator.py#559\" target=\"_blank\"><span style=\"color: #7f7f7f; text-decoration-color: #7f7f7f\">559</span></a>\n",
       "</pre>\n"
      ],
      "text/plain": [
       "\u001b[2;36m          \u001b[0m\u001b[2;36m \u001b[0mMETRIC   Round \u001b[1;36m1\u001b[0m, collaborator validate_local locally_tuned_model_validation result accuracy:    \u001b[1;36m0.893333\u001b[0m                           \u001b]8;id=872694;file://C:\\Users\\BHSU\\AppData\\Local\\Programs\\Python\\Python39\\lib\\site-packages\\openfl\\component\\aggregator\\aggregator.py\u001b\\\u001b[2maggregator.py\u001b[0m\u001b]8;;\u001b\\\u001b[2m:\u001b[0m\u001b]8;id=956028;file://C:\\Users\\BHSU\\AppData\\Local\\Programs\\Python\\Python39\\lib\\site-packages\\openfl\\component\\aggregator\\aggregator.py#559\u001b\\\u001b[2m559\u001b[0m\u001b]8;;\u001b\\\n"
      ]
     },
     "metadata": {},
     "output_type": "display_data"
    },
    {
     "data": {
      "text/html": [
       "<pre style=\"white-space:pre;overflow-x:auto;line-height:normal;font-family:Menlo,'DejaVu Sans Mono',consolas,'Courier New',monospace\"><span style=\"color: #7fbfbf; text-decoration-color: #7fbfbf\">           </span><span style=\"color: #000080; text-decoration-color: #000080\">INFO    </span> All tasks completed on one for round <span style=\"color: #008080; text-decoration-color: #008080; font-weight: bold\">1</span><span style=\"color: #808000; text-decoration-color: #808000\">...</span>                                                                                <a href=\"file://C:\\Users\\BHSU\\AppData\\Local\\Programs\\Python\\Python39\\lib\\site-packages\\openfl\\component\\collaborator\\collaborator.py\" target=\"_blank\"><span style=\"color: #7f7f7f; text-decoration-color: #7f7f7f\">collaborator.py</span></a><span style=\"color: #7f7f7f; text-decoration-color: #7f7f7f\">:</span><a href=\"file://C:\\Users\\BHSU\\AppData\\Local\\Programs\\Python\\Python39\\lib\\site-packages\\openfl\\component\\collaborator\\collaborator.py#171\" target=\"_blank\"><span style=\"color: #7f7f7f; text-decoration-color: #7f7f7f\">171</span></a>\n",
       "</pre>\n"
      ],
      "text/plain": [
       "\u001b[2;36m          \u001b[0m\u001b[2;36m \u001b[0m\u001b[34mINFO    \u001b[0m All tasks completed on one for round \u001b[1;36m1\u001b[0m\u001b[33m...\u001b[0m                                                                                \u001b]8;id=690821;file://C:\\Users\\BHSU\\AppData\\Local\\Programs\\Python\\Python39\\lib\\site-packages\\openfl\\component\\collaborator\\collaborator.py\u001b\\\u001b[2mcollaborator.py\u001b[0m\u001b]8;;\u001b\\\u001b[2m:\u001b[0m\u001b]8;id=779499;file://C:\\Users\\BHSU\\AppData\\Local\\Programs\\Python\\Python39\\lib\\site-packages\\openfl\\component\\collaborator\\collaborator.py#171\u001b\\\u001b[2m171\u001b[0m\u001b]8;;\u001b\\\n"
      ]
     },
     "metadata": {},
     "output_type": "display_data"
    },
    {
     "data": {
      "text/html": [
       "<pre style=\"white-space:pre;overflow-x:auto;line-height:normal;font-family:Menlo,'DejaVu Sans Mono',consolas,'Courier New',monospace\"><span style=\"color: #7fbfbf; text-decoration-color: #7fbfbf\">           </span><span style=\"color: #000080; text-decoration-color: #000080\">INFO    </span> Waiting for tasks<span style=\"color: #808000; text-decoration-color: #808000\">...</span>                                                                                                     <a href=\"file://C:\\Users\\BHSU\\AppData\\Local\\Programs\\Python\\Python39\\lib\\site-packages\\openfl\\component\\collaborator\\collaborator.py\" target=\"_blank\"><span style=\"color: #7f7f7f; text-decoration-color: #7f7f7f\">collaborator.py</span></a><span style=\"color: #7f7f7f; text-decoration-color: #7f7f7f\">:</span><a href=\"file://C:\\Users\\BHSU\\AppData\\Local\\Programs\\Python\\Python39\\lib\\site-packages\\openfl\\component\\collaborator\\collaborator.py#178\" target=\"_blank\"><span style=\"color: #7f7f7f; text-decoration-color: #7f7f7f\">178</span></a>\n",
       "</pre>\n"
      ],
      "text/plain": [
       "\u001b[2;36m          \u001b[0m\u001b[2;36m \u001b[0m\u001b[34mINFO    \u001b[0m Waiting for tasks\u001b[33m...\u001b[0m                                                                                                     \u001b]8;id=116188;file://C:\\Users\\BHSU\\AppData\\Local\\Programs\\Python\\Python39\\lib\\site-packages\\openfl\\component\\collaborator\\collaborator.py\u001b\\\u001b[2mcollaborator.py\u001b[0m\u001b]8;;\u001b\\\u001b[2m:\u001b[0m\u001b]8;id=253621;file://C:\\Users\\BHSU\\AppData\\Local\\Programs\\Python\\Python39\\lib\\site-packages\\openfl\\component\\collaborator\\collaborator.py#178\u001b\\\u001b[2m178\u001b[0m\u001b]8;;\u001b\\\n"
      ]
     },
     "metadata": {},
     "output_type": "display_data"
    },
    {
     "data": {
      "text/html": [
       "<pre style=\"white-space:pre;overflow-x:auto;line-height:normal;font-family:Menlo,'DejaVu Sans Mono',consolas,'Courier New',monospace\"><span style=\"color: #7fbfbf; text-decoration-color: #7fbfbf\">           </span><span style=\"color: #000080; text-decoration-color: #000080\">INFO    </span> Sending tasks to collaborator two for round <span style=\"color: #008080; text-decoration-color: #008080; font-weight: bold\">1</span>                                                                              <a href=\"file://C:\\Users\\BHSU\\AppData\\Local\\Programs\\Python\\Python39\\lib\\site-packages\\openfl\\component\\aggregator\\aggregator.py\" target=\"_blank\"><span style=\"color: #7f7f7f; text-decoration-color: #7f7f7f\">aggregator.py</span></a><span style=\"color: #7f7f7f; text-decoration-color: #7f7f7f\">:</span><a href=\"file://C:\\Users\\BHSU\\AppData\\Local\\Programs\\Python\\Python39\\lib\\site-packages\\openfl\\component\\aggregator\\aggregator.py#329\" target=\"_blank\"><span style=\"color: #7f7f7f; text-decoration-color: #7f7f7f\">329</span></a>\n",
       "</pre>\n"
      ],
      "text/plain": [
       "\u001b[2;36m          \u001b[0m\u001b[2;36m \u001b[0m\u001b[34mINFO    \u001b[0m Sending tasks to collaborator two for round \u001b[1;36m1\u001b[0m                                                                              \u001b]8;id=935085;file://C:\\Users\\BHSU\\AppData\\Local\\Programs\\Python\\Python39\\lib\\site-packages\\openfl\\component\\aggregator\\aggregator.py\u001b\\\u001b[2maggregator.py\u001b[0m\u001b]8;;\u001b\\\u001b[2m:\u001b[0m\u001b]8;id=651059;file://C:\\Users\\BHSU\\AppData\\Local\\Programs\\Python\\Python39\\lib\\site-packages\\openfl\\component\\aggregator\\aggregator.py#329\u001b\\\u001b[2m329\u001b[0m\u001b]8;;\u001b\\\n"
      ]
     },
     "metadata": {},
     "output_type": "display_data"
    },
    {
     "data": {
      "text/html": [
       "<pre style=\"white-space:pre;overflow-x:auto;line-height:normal;font-family:Menlo,'DejaVu Sans Mono',consolas,'Courier New',monospace\"><span style=\"color: #7fbfbf; text-decoration-color: #7fbfbf\">           </span><span style=\"color: #000080; text-decoration-color: #000080\">INFO    </span> Received the following tasks: <span style=\"font-weight: bold\">[</span><span style=\"color: #008000; text-decoration-color: #008000\">'aggregated_model_validation'</span>, <span style=\"color: #008000; text-decoration-color: #008000\">'train'</span>, <span style=\"color: #008000; text-decoration-color: #008000\">'locally_tuned_model_validation'</span><span style=\"font-weight: bold\">]</span>                 <a href=\"file://C:\\Users\\BHSU\\AppData\\Local\\Programs\\Python\\Python39\\lib\\site-packages\\openfl\\component\\collaborator\\collaborator.py\" target=\"_blank\"><span style=\"color: #7f7f7f; text-decoration-color: #7f7f7f\">collaborator.py</span></a><span style=\"color: #7f7f7f; text-decoration-color: #7f7f7f\">:</span><a href=\"file://C:\\Users\\BHSU\\AppData\\Local\\Programs\\Python\\Python39\\lib\\site-packages\\openfl\\component\\collaborator\\collaborator.py#168\" target=\"_blank\"><span style=\"color: #7f7f7f; text-decoration-color: #7f7f7f\">168</span></a>\n",
       "</pre>\n"
      ],
      "text/plain": [
       "\u001b[2;36m          \u001b[0m\u001b[2;36m \u001b[0m\u001b[34mINFO    \u001b[0m Received the following tasks: \u001b[1m[\u001b[0m\u001b[32m'aggregated_model_validation'\u001b[0m, \u001b[32m'train'\u001b[0m, \u001b[32m'locally_tuned_model_validation'\u001b[0m\u001b[1m]\u001b[0m                 \u001b]8;id=647155;file://C:\\Users\\BHSU\\AppData\\Local\\Programs\\Python\\Python39\\lib\\site-packages\\openfl\\component\\collaborator\\collaborator.py\u001b\\\u001b[2mcollaborator.py\u001b[0m\u001b]8;;\u001b\\\u001b[2m:\u001b[0m\u001b]8;id=36105;file://C:\\Users\\BHSU\\AppData\\Local\\Programs\\Python\\Python39\\lib\\site-packages\\openfl\\component\\collaborator\\collaborator.py#168\u001b\\\u001b[2m168\u001b[0m\u001b]8;;\u001b\\\n"
      ]
     },
     "metadata": {},
     "output_type": "display_data"
    },
    {
     "data": {
      "text/html": [
       "<pre style=\"white-space:pre;overflow-x:auto;line-height:normal;font-family:Menlo,'DejaVu Sans Mono',consolas,'Courier New',monospace\"><span style=\"color: #7fbfbf; text-decoration-color: #7fbfbf\">           </span><span style=\"color: #000080; text-decoration-color: #000080\">INFO    </span> Using TaskRunner subclassing API                                                                                         <a href=\"file://C:\\Users\\BHSU\\AppData\\Local\\Programs\\Python\\Python39\\lib\\site-packages\\openfl\\component\\collaborator\\collaborator.py\" target=\"_blank\"><span style=\"color: #7f7f7f; text-decoration-color: #7f7f7f\">collaborator.py</span></a><span style=\"color: #7f7f7f; text-decoration-color: #7f7f7f\">:</span><a href=\"file://C:\\Users\\BHSU\\AppData\\Local\\Programs\\Python\\Python39\\lib\\site-packages\\openfl\\component\\collaborator\\collaborator.py#253\" target=\"_blank\"><span style=\"color: #7f7f7f; text-decoration-color: #7f7f7f\">253</span></a>\n",
       "</pre>\n"
      ],
      "text/plain": [
       "\u001b[2;36m          \u001b[0m\u001b[2;36m \u001b[0m\u001b[34mINFO    \u001b[0m Using TaskRunner subclassing API                                                                                         \u001b]8;id=682473;file://C:\\Users\\BHSU\\AppData\\Local\\Programs\\Python\\Python39\\lib\\site-packages\\openfl\\component\\collaborator\\collaborator.py\u001b\\\u001b[2mcollaborator.py\u001b[0m\u001b]8;;\u001b\\\u001b[2m:\u001b[0m\u001b]8;id=16819;file://C:\\Users\\BHSU\\AppData\\Local\\Programs\\Python\\Python39\\lib\\site-packages\\openfl\\component\\collaborator\\collaborator.py#253\u001b\\\u001b[2m253\u001b[0m\u001b]8;;\u001b\\\n"
      ]
     },
     "metadata": {},
     "output_type": "display_data"
    },
    {
     "name": "stdout",
     "output_type": "stream",
     "text": [
      "282/282 [==============================] - 0s 509us/step - loss: 0.5182 - accuracy: 0.8496\n"
     ]
    },
    {
     "data": {
      "text/html": [
       "<pre style=\"white-space:pre;overflow-x:auto;line-height:normal;font-family:Menlo,'DejaVu Sans Mono',consolas,'Courier New',monospace\"><span style=\"color: #7fbfbf; text-decoration-color: #7fbfbf\">           </span>METRIC   Round <span style=\"color: #008080; text-decoration-color: #008080; font-weight: bold\">1</span>, collaborator two is sending metric for task aggregated_model_validation: accuracy      <span style=\"color: #008080; text-decoration-color: #008080; font-weight: bold\">0.849556</span>                 <a href=\"file://C:\\Users\\BHSU\\AppData\\Local\\Programs\\Python\\Python39\\lib\\site-packages\\openfl\\component\\collaborator\\collaborator.py\" target=\"_blank\"><span style=\"color: #7f7f7f; text-decoration-color: #7f7f7f\">collaborator.py</span></a><span style=\"color: #7f7f7f; text-decoration-color: #7f7f7f\">:</span><a href=\"file://C:\\Users\\BHSU\\AppData\\Local\\Programs\\Python\\Python39\\lib\\site-packages\\openfl\\component\\collaborator\\collaborator.py#415\" target=\"_blank\"><span style=\"color: #7f7f7f; text-decoration-color: #7f7f7f\">415</span></a>\n",
       "</pre>\n"
      ],
      "text/plain": [
       "\u001b[2;36m          \u001b[0m\u001b[2;36m \u001b[0mMETRIC   Round \u001b[1;36m1\u001b[0m, collaborator two is sending metric for task aggregated_model_validation: accuracy      \u001b[1;36m0.849556\u001b[0m                 \u001b]8;id=629655;file://C:\\Users\\BHSU\\AppData\\Local\\Programs\\Python\\Python39\\lib\\site-packages\\openfl\\component\\collaborator\\collaborator.py\u001b\\\u001b[2mcollaborator.py\u001b[0m\u001b]8;;\u001b\\\u001b[2m:\u001b[0m\u001b]8;id=310022;file://C:\\Users\\BHSU\\AppData\\Local\\Programs\\Python\\Python39\\lib\\site-packages\\openfl\\component\\collaborator\\collaborator.py#415\u001b\\\u001b[2m415\u001b[0m\u001b]8;;\u001b\\\n"
      ]
     },
     "metadata": {},
     "output_type": "display_data"
    },
    {
     "data": {
      "text/html": [
       "<pre style=\"white-space:pre;overflow-x:auto;line-height:normal;font-family:Menlo,'DejaVu Sans Mono',consolas,'Courier New',monospace\"><span style=\"color: #7fbfbf; text-decoration-color: #7fbfbf\">           </span><span style=\"color: #000080; text-decoration-color: #000080\">INFO    </span> Collaborator two is sending task results for aggregated_model_validation, round <span style=\"color: #008080; text-decoration-color: #008080; font-weight: bold\">1</span>                                          <a href=\"file://C:\\Users\\BHSU\\AppData\\Local\\Programs\\Python\\Python39\\lib\\site-packages\\openfl\\component\\aggregator\\aggregator.py\" target=\"_blank\"><span style=\"color: #7f7f7f; text-decoration-color: #7f7f7f\">aggregator.py</span></a><span style=\"color: #7f7f7f; text-decoration-color: #7f7f7f\">:</span><a href=\"file://C:\\Users\\BHSU\\AppData\\Local\\Programs\\Python\\Python39\\lib\\site-packages\\openfl\\component\\aggregator\\aggregator.py#520\" target=\"_blank\"><span style=\"color: #7f7f7f; text-decoration-color: #7f7f7f\">520</span></a>\n",
       "</pre>\n"
      ],
      "text/plain": [
       "\u001b[2;36m          \u001b[0m\u001b[2;36m \u001b[0m\u001b[34mINFO    \u001b[0m Collaborator two is sending task results for aggregated_model_validation, round \u001b[1;36m1\u001b[0m                                          \u001b]8;id=529491;file://C:\\Users\\BHSU\\AppData\\Local\\Programs\\Python\\Python39\\lib\\site-packages\\openfl\\component\\aggregator\\aggregator.py\u001b\\\u001b[2maggregator.py\u001b[0m\u001b]8;;\u001b\\\u001b[2m:\u001b[0m\u001b]8;id=427412;file://C:\\Users\\BHSU\\AppData\\Local\\Programs\\Python\\Python39\\lib\\site-packages\\openfl\\component\\aggregator\\aggregator.py#520\u001b\\\u001b[2m520\u001b[0m\u001b]8;;\u001b\\\n"
      ]
     },
     "metadata": {},
     "output_type": "display_data"
    },
    {
     "data": {
      "text/html": [
       "<pre style=\"white-space:pre;overflow-x:auto;line-height:normal;font-family:Menlo,'DejaVu Sans Mono',consolas,'Courier New',monospace\"><span style=\"color: #7fbfbf; text-decoration-color: #7fbfbf\">           </span>METRIC   Round <span style=\"color: #008080; text-decoration-color: #008080; font-weight: bold\">1</span>, collaborator validate_agg aggregated_model_validation result accuracy: <span style=\"color: #008080; text-decoration-color: #008080; font-weight: bold\">0.849556</span>                                   <a href=\"file://C:\\Users\\BHSU\\AppData\\Local\\Programs\\Python\\Python39\\lib\\site-packages\\openfl\\component\\aggregator\\aggregator.py\" target=\"_blank\"><span style=\"color: #7f7f7f; text-decoration-color: #7f7f7f\">aggregator.py</span></a><span style=\"color: #7f7f7f; text-decoration-color: #7f7f7f\">:</span><a href=\"file://C:\\Users\\BHSU\\AppData\\Local\\Programs\\Python\\Python39\\lib\\site-packages\\openfl\\component\\aggregator\\aggregator.py#559\" target=\"_blank\"><span style=\"color: #7f7f7f; text-decoration-color: #7f7f7f\">559</span></a>\n",
       "</pre>\n"
      ],
      "text/plain": [
       "\u001b[2;36m          \u001b[0m\u001b[2;36m \u001b[0mMETRIC   Round \u001b[1;36m1\u001b[0m, collaborator validate_agg aggregated_model_validation result accuracy: \u001b[1;36m0.849556\u001b[0m                                   \u001b]8;id=765806;file://C:\\Users\\BHSU\\AppData\\Local\\Programs\\Python\\Python39\\lib\\site-packages\\openfl\\component\\aggregator\\aggregator.py\u001b\\\u001b[2maggregator.py\u001b[0m\u001b]8;;\u001b\\\u001b[2m:\u001b[0m\u001b]8;id=539402;file://C:\\Users\\BHSU\\AppData\\Local\\Programs\\Python\\Python39\\lib\\site-packages\\openfl\\component\\aggregator\\aggregator.py#559\u001b\\\u001b[2m559\u001b[0m\u001b]8;;\u001b\\\n"
      ]
     },
     "metadata": {},
     "output_type": "display_data"
    },
    {
     "data": {
      "text/html": [
       "<pre style=\"white-space:pre;overflow-x:auto;line-height:normal;font-family:Menlo,'DejaVu Sans Mono',consolas,'Courier New',monospace\"><span style=\"color: #7fbfbf; text-decoration-color: #7fbfbf\">           </span><span style=\"color: #000080; text-decoration-color: #000080\">INFO    </span> Using TaskRunner subclassing API                                                                                         <a href=\"file://C:\\Users\\BHSU\\AppData\\Local\\Programs\\Python\\Python39\\lib\\site-packages\\openfl\\component\\collaborator\\collaborator.py\" target=\"_blank\"><span style=\"color: #7f7f7f; text-decoration-color: #7f7f7f\">collaborator.py</span></a><span style=\"color: #7f7f7f; text-decoration-color: #7f7f7f\">:</span><a href=\"file://C:\\Users\\BHSU\\AppData\\Local\\Programs\\Python\\Python39\\lib\\site-packages\\openfl\\component\\collaborator\\collaborator.py#253\" target=\"_blank\"><span style=\"color: #7f7f7f; text-decoration-color: #7f7f7f\">253</span></a>\n",
       "</pre>\n"
      ],
      "text/plain": [
       "\u001b[2;36m          \u001b[0m\u001b[2;36m \u001b[0m\u001b[34mINFO    \u001b[0m Using TaskRunner subclassing API                                                                                         \u001b]8;id=758971;file://C:\\Users\\BHSU\\AppData\\Local\\Programs\\Python\\Python39\\lib\\site-packages\\openfl\\component\\collaborator\\collaborator.py\u001b\\\u001b[2mcollaborator.py\u001b[0m\u001b]8;;\u001b\\\u001b[2m:\u001b[0m\u001b]8;id=102887;file://C:\\Users\\BHSU\\AppData\\Local\\Programs\\Python\\Python39\\lib\\site-packages\\openfl\\component\\collaborator\\collaborator.py#253\u001b\\\u001b[2m253\u001b[0m\u001b]8;;\u001b\\\n"
      ]
     },
     "metadata": {},
     "output_type": "display_data"
    },
    {
     "data": {
      "text/html": [
       "<pre style=\"white-space:pre;overflow-x:auto;line-height:normal;font-family:Menlo,'DejaVu Sans Mono',consolas,'Courier New',monospace\"><span style=\"color: #7fbfbf; text-decoration-color: #7fbfbf\">           </span><span style=\"color: #000080; text-decoration-color: #000080\">INFO    </span> Run <span style=\"color: #008080; text-decoration-color: #008080; font-weight: bold\">0</span> epoch of <span style=\"color: #008080; text-decoration-color: #008080; font-weight: bold\">1</span> round                                                                                                    <a href=\"file://C:\\Users\\BHSU\\AppData\\Local\\Programs\\Python\\Python39\\lib\\site-packages\\openfl\\federated\\task\\runner_keras.py\" target=\"_blank\"><span style=\"color: #7f7f7f; text-decoration-color: #7f7f7f\">runner_keras.py</span></a><span style=\"color: #7f7f7f; text-decoration-color: #7f7f7f\">:</span><a href=\"file://C:\\Users\\BHSU\\AppData\\Local\\Programs\\Python\\Python39\\lib\\site-packages\\openfl\\federated\\task\\runner_keras.py#83\" target=\"_blank\"><span style=\"color: #7f7f7f; text-decoration-color: #7f7f7f\">83</span></a>\n",
       "</pre>\n"
      ],
      "text/plain": [
       "\u001b[2;36m          \u001b[0m\u001b[2;36m \u001b[0m\u001b[34mINFO    \u001b[0m Run \u001b[1;36m0\u001b[0m epoch of \u001b[1;36m1\u001b[0m round                                                                                                    \u001b]8;id=127338;file://C:\\Users\\BHSU\\AppData\\Local\\Programs\\Python\\Python39\\lib\\site-packages\\openfl\\federated\\task\\runner_keras.py\u001b\\\u001b[2mrunner_keras.py\u001b[0m\u001b]8;;\u001b\\\u001b[2m:\u001b[0m\u001b]8;id=785467;file://C:\\Users\\BHSU\\AppData\\Local\\Programs\\Python\\Python39\\lib\\site-packages\\openfl\\federated\\task\\runner_keras.py#83\u001b\\\u001b[2m83\u001b[0m\u001b]8;;\u001b\\\n"
      ]
     },
     "metadata": {},
     "output_type": "display_data"
    },
    {
     "name": "stdout",
     "output_type": "stream",
     "text": [
      "657/657 [==============================] - 0s 642us/step - loss: 0.3040 - accuracy: 0.9079\n"
     ]
    },
    {
     "data": {
      "text/html": [
       "<pre style=\"white-space:pre;overflow-x:auto;line-height:normal;font-family:Menlo,'DejaVu Sans Mono',consolas,'Courier New',monospace\"><span style=\"color: #7fbfbf; text-decoration-color: #7fbfbf\">[08:29:03] </span>METRIC   Round <span style=\"color: #008080; text-decoration-color: #008080; font-weight: bold\">1</span>, collaborator two is sending metric for task train: loss        <span style=\"color: #008080; text-decoration-color: #008080; font-weight: bold\">0.304012</span>                                         <a href=\"file://C:\\Users\\BHSU\\AppData\\Local\\Programs\\Python\\Python39\\lib\\site-packages\\openfl\\component\\collaborator\\collaborator.py\" target=\"_blank\"><span style=\"color: #7f7f7f; text-decoration-color: #7f7f7f\">collaborator.py</span></a><span style=\"color: #7f7f7f; text-decoration-color: #7f7f7f\">:</span><a href=\"file://C:\\Users\\BHSU\\AppData\\Local\\Programs\\Python\\Python39\\lib\\site-packages\\openfl\\component\\collaborator\\collaborator.py#415\" target=\"_blank\"><span style=\"color: #7f7f7f; text-decoration-color: #7f7f7f\">415</span></a>\n",
       "</pre>\n"
      ],
      "text/plain": [
       "\u001b[2;36m[08:29:03]\u001b[0m\u001b[2;36m \u001b[0mMETRIC   Round \u001b[1;36m1\u001b[0m, collaborator two is sending metric for task train: loss        \u001b[1;36m0.304012\u001b[0m                                         \u001b]8;id=446903;file://C:\\Users\\BHSU\\AppData\\Local\\Programs\\Python\\Python39\\lib\\site-packages\\openfl\\component\\collaborator\\collaborator.py\u001b\\\u001b[2mcollaborator.py\u001b[0m\u001b]8;;\u001b\\\u001b[2m:\u001b[0m\u001b]8;id=806494;file://C:\\Users\\BHSU\\AppData\\Local\\Programs\\Python\\Python39\\lib\\site-packages\\openfl\\component\\collaborator\\collaborator.py#415\u001b\\\u001b[2m415\u001b[0m\u001b]8;;\u001b\\\n"
      ]
     },
     "metadata": {},
     "output_type": "display_data"
    },
    {
     "data": {
      "text/html": [
       "<pre style=\"white-space:pre;overflow-x:auto;line-height:normal;font-family:Menlo,'DejaVu Sans Mono',consolas,'Courier New',monospace\"><span style=\"color: #7fbfbf; text-decoration-color: #7fbfbf\">           </span><span style=\"color: #000080; text-decoration-color: #000080\">INFO    </span> Collaborator two is sending task results for train, round <span style=\"color: #008080; text-decoration-color: #008080; font-weight: bold\">1</span>                                                                <a href=\"file://C:\\Users\\BHSU\\AppData\\Local\\Programs\\Python\\Python39\\lib\\site-packages\\openfl\\component\\aggregator\\aggregator.py\" target=\"_blank\"><span style=\"color: #7f7f7f; text-decoration-color: #7f7f7f\">aggregator.py</span></a><span style=\"color: #7f7f7f; text-decoration-color: #7f7f7f\">:</span><a href=\"file://C:\\Users\\BHSU\\AppData\\Local\\Programs\\Python\\Python39\\lib\\site-packages\\openfl\\component\\aggregator\\aggregator.py#520\" target=\"_blank\"><span style=\"color: #7f7f7f; text-decoration-color: #7f7f7f\">520</span></a>\n",
       "</pre>\n"
      ],
      "text/plain": [
       "\u001b[2;36m          \u001b[0m\u001b[2;36m \u001b[0m\u001b[34mINFO    \u001b[0m Collaborator two is sending task results for train, round \u001b[1;36m1\u001b[0m                                                                \u001b]8;id=394814;file://C:\\Users\\BHSU\\AppData\\Local\\Programs\\Python\\Python39\\lib\\site-packages\\openfl\\component\\aggregator\\aggregator.py\u001b\\\u001b[2maggregator.py\u001b[0m\u001b]8;;\u001b\\\u001b[2m:\u001b[0m\u001b]8;id=136182;file://C:\\Users\\BHSU\\AppData\\Local\\Programs\\Python\\Python39\\lib\\site-packages\\openfl\\component\\aggregator\\aggregator.py#520\u001b\\\u001b[2m520\u001b[0m\u001b]8;;\u001b\\\n"
      ]
     },
     "metadata": {},
     "output_type": "display_data"
    },
    {
     "data": {
      "text/html": [
       "<pre style=\"white-space:pre;overflow-x:auto;line-height:normal;font-family:Menlo,'DejaVu Sans Mono',consolas,'Courier New',monospace\"><span style=\"color: #7fbfbf; text-decoration-color: #7fbfbf\">           </span>METRIC   Round <span style=\"color: #008080; text-decoration-color: #008080; font-weight: bold\">1</span>, collaborator two train result loss:    <span style=\"color: #008080; text-decoration-color: #008080; font-weight: bold\">0.304012</span>                                                                   <a href=\"file://C:\\Users\\BHSU\\AppData\\Local\\Programs\\Python\\Python39\\lib\\site-packages\\openfl\\component\\aggregator\\aggregator.py\" target=\"_blank\"><span style=\"color: #7f7f7f; text-decoration-color: #7f7f7f\">aggregator.py</span></a><span style=\"color: #7f7f7f; text-decoration-color: #7f7f7f\">:</span><a href=\"file://C:\\Users\\BHSU\\AppData\\Local\\Programs\\Python\\Python39\\lib\\site-packages\\openfl\\component\\aggregator\\aggregator.py#559\" target=\"_blank\"><span style=\"color: #7f7f7f; text-decoration-color: #7f7f7f\">559</span></a>\n",
       "</pre>\n"
      ],
      "text/plain": [
       "\u001b[2;36m          \u001b[0m\u001b[2;36m \u001b[0mMETRIC   Round \u001b[1;36m1\u001b[0m, collaborator two train result loss:    \u001b[1;36m0.304012\u001b[0m                                                                   \u001b]8;id=997002;file://C:\\Users\\BHSU\\AppData\\Local\\Programs\\Python\\Python39\\lib\\site-packages\\openfl\\component\\aggregator\\aggregator.py\u001b\\\u001b[2maggregator.py\u001b[0m\u001b]8;;\u001b\\\u001b[2m:\u001b[0m\u001b]8;id=431645;file://C:\\Users\\BHSU\\AppData\\Local\\Programs\\Python\\Python39\\lib\\site-packages\\openfl\\component\\aggregator\\aggregator.py#559\u001b\\\u001b[2m559\u001b[0m\u001b]8;;\u001b\\\n"
      ]
     },
     "metadata": {},
     "output_type": "display_data"
    },
    {
     "data": {
      "text/html": [
       "<pre style=\"white-space:pre;overflow-x:auto;line-height:normal;font-family:Menlo,'DejaVu Sans Mono',consolas,'Courier New',monospace\"><span style=\"color: #7fbfbf; text-decoration-color: #7fbfbf\">           </span><span style=\"color: #000080; text-decoration-color: #000080\">INFO    </span> Using TaskRunner subclassing API                                                                                         <a href=\"file://C:\\Users\\BHSU\\AppData\\Local\\Programs\\Python\\Python39\\lib\\site-packages\\openfl\\component\\collaborator\\collaborator.py\" target=\"_blank\"><span style=\"color: #7f7f7f; text-decoration-color: #7f7f7f\">collaborator.py</span></a><span style=\"color: #7f7f7f; text-decoration-color: #7f7f7f\">:</span><a href=\"file://C:\\Users\\BHSU\\AppData\\Local\\Programs\\Python\\Python39\\lib\\site-packages\\openfl\\component\\collaborator\\collaborator.py#253\" target=\"_blank\"><span style=\"color: #7f7f7f; text-decoration-color: #7f7f7f\">253</span></a>\n",
       "</pre>\n"
      ],
      "text/plain": [
       "\u001b[2;36m          \u001b[0m\u001b[2;36m \u001b[0m\u001b[34mINFO    \u001b[0m Using TaskRunner subclassing API                                                                                         \u001b]8;id=868580;file://C:\\Users\\BHSU\\AppData\\Local\\Programs\\Python\\Python39\\lib\\site-packages\\openfl\\component\\collaborator\\collaborator.py\u001b\\\u001b[2mcollaborator.py\u001b[0m\u001b]8;;\u001b\\\u001b[2m:\u001b[0m\u001b]8;id=765437;file://C:\\Users\\BHSU\\AppData\\Local\\Programs\\Python\\Python39\\lib\\site-packages\\openfl\\component\\collaborator\\collaborator.py#253\u001b\\\u001b[2m253\u001b[0m\u001b]8;;\u001b\\\n"
      ]
     },
     "metadata": {},
     "output_type": "display_data"
    },
    {
     "name": "stdout",
     "output_type": "stream",
     "text": [
      "282/282 [==============================] - 0s 509us/step - loss: 0.2784 - accuracy: 0.9157\n"
     ]
    },
    {
     "data": {
      "text/html": [
       "<pre style=\"white-space:pre;overflow-x:auto;line-height:normal;font-family:Menlo,'DejaVu Sans Mono',consolas,'Courier New',monospace\"><span style=\"color: #7fbfbf; text-decoration-color: #7fbfbf\">           </span>METRIC   Round <span style=\"color: #008080; text-decoration-color: #008080; font-weight: bold\">1</span>, collaborator two is sending metric for task locally_tuned_model_validation: accuracy   <span style=\"color: #008080; text-decoration-color: #008080; font-weight: bold\">0.915667</span>                 <a href=\"file://C:\\Users\\BHSU\\AppData\\Local\\Programs\\Python\\Python39\\lib\\site-packages\\openfl\\component\\collaborator\\collaborator.py\" target=\"_blank\"><span style=\"color: #7f7f7f; text-decoration-color: #7f7f7f\">collaborator.py</span></a><span style=\"color: #7f7f7f; text-decoration-color: #7f7f7f\">:</span><a href=\"file://C:\\Users\\BHSU\\AppData\\Local\\Programs\\Python\\Python39\\lib\\site-packages\\openfl\\component\\collaborator\\collaborator.py#415\" target=\"_blank\"><span style=\"color: #7f7f7f; text-decoration-color: #7f7f7f\">415</span></a>\n",
       "</pre>\n"
      ],
      "text/plain": [
       "\u001b[2;36m          \u001b[0m\u001b[2;36m \u001b[0mMETRIC   Round \u001b[1;36m1\u001b[0m, collaborator two is sending metric for task locally_tuned_model_validation: accuracy   \u001b[1;36m0.915667\u001b[0m                 \u001b]8;id=251376;file://C:\\Users\\BHSU\\AppData\\Local\\Programs\\Python\\Python39\\lib\\site-packages\\openfl\\component\\collaborator\\collaborator.py\u001b\\\u001b[2mcollaborator.py\u001b[0m\u001b]8;;\u001b\\\u001b[2m:\u001b[0m\u001b]8;id=981758;file://C:\\Users\\BHSU\\AppData\\Local\\Programs\\Python\\Python39\\lib\\site-packages\\openfl\\component\\collaborator\\collaborator.py#415\u001b\\\u001b[2m415\u001b[0m\u001b]8;;\u001b\\\n"
      ]
     },
     "metadata": {},
     "output_type": "display_data"
    },
    {
     "data": {
      "text/html": [
       "<pre style=\"white-space:pre;overflow-x:auto;line-height:normal;font-family:Menlo,'DejaVu Sans Mono',consolas,'Courier New',monospace\"><span style=\"color: #7fbfbf; text-decoration-color: #7fbfbf\">           </span><span style=\"color: #000080; text-decoration-color: #000080\">INFO    </span> Collaborator two is sending task results for locally_tuned_model_validation, round <span style=\"color: #008080; text-decoration-color: #008080; font-weight: bold\">1</span>                                       <a href=\"file://C:\\Users\\BHSU\\AppData\\Local\\Programs\\Python\\Python39\\lib\\site-packages\\openfl\\component\\aggregator\\aggregator.py\" target=\"_blank\"><span style=\"color: #7f7f7f; text-decoration-color: #7f7f7f\">aggregator.py</span></a><span style=\"color: #7f7f7f; text-decoration-color: #7f7f7f\">:</span><a href=\"file://C:\\Users\\BHSU\\AppData\\Local\\Programs\\Python\\Python39\\lib\\site-packages\\openfl\\component\\aggregator\\aggregator.py#520\" target=\"_blank\"><span style=\"color: #7f7f7f; text-decoration-color: #7f7f7f\">520</span></a>\n",
       "</pre>\n"
      ],
      "text/plain": [
       "\u001b[2;36m          \u001b[0m\u001b[2;36m \u001b[0m\u001b[34mINFO    \u001b[0m Collaborator two is sending task results for locally_tuned_model_validation, round \u001b[1;36m1\u001b[0m                                       \u001b]8;id=452493;file://C:\\Users\\BHSU\\AppData\\Local\\Programs\\Python\\Python39\\lib\\site-packages\\openfl\\component\\aggregator\\aggregator.py\u001b\\\u001b[2maggregator.py\u001b[0m\u001b]8;;\u001b\\\u001b[2m:\u001b[0m\u001b]8;id=799735;file://C:\\Users\\BHSU\\AppData\\Local\\Programs\\Python\\Python39\\lib\\site-packages\\openfl\\component\\aggregator\\aggregator.py#520\u001b\\\u001b[2m520\u001b[0m\u001b]8;;\u001b\\\n"
      ]
     },
     "metadata": {},
     "output_type": "display_data"
    },
    {
     "data": {
      "text/html": [
       "<pre style=\"white-space:pre;overflow-x:auto;line-height:normal;font-family:Menlo,'DejaVu Sans Mono',consolas,'Courier New',monospace\"><span style=\"color: #7fbfbf; text-decoration-color: #7fbfbf\">           </span>METRIC   Round <span style=\"color: #008080; text-decoration-color: #008080; font-weight: bold\">1</span>, collaborator validate_local locally_tuned_model_validation result accuracy:    <span style=\"color: #008080; text-decoration-color: #008080; font-weight: bold\">0.915667</span>                           <a href=\"file://C:\\Users\\BHSU\\AppData\\Local\\Programs\\Python\\Python39\\lib\\site-packages\\openfl\\component\\aggregator\\aggregator.py\" target=\"_blank\"><span style=\"color: #7f7f7f; text-decoration-color: #7f7f7f\">aggregator.py</span></a><span style=\"color: #7f7f7f; text-decoration-color: #7f7f7f\">:</span><a href=\"file://C:\\Users\\BHSU\\AppData\\Local\\Programs\\Python\\Python39\\lib\\site-packages\\openfl\\component\\aggregator\\aggregator.py#559\" target=\"_blank\"><span style=\"color: #7f7f7f; text-decoration-color: #7f7f7f\">559</span></a>\n",
       "</pre>\n"
      ],
      "text/plain": [
       "\u001b[2;36m          \u001b[0m\u001b[2;36m \u001b[0mMETRIC   Round \u001b[1;36m1\u001b[0m, collaborator validate_local locally_tuned_model_validation result accuracy:    \u001b[1;36m0.915667\u001b[0m                           \u001b]8;id=613024;file://C:\\Users\\BHSU\\AppData\\Local\\Programs\\Python\\Python39\\lib\\site-packages\\openfl\\component\\aggregator\\aggregator.py\u001b\\\u001b[2maggregator.py\u001b[0m\u001b]8;;\u001b\\\u001b[2m:\u001b[0m\u001b]8;id=439858;file://C:\\Users\\BHSU\\AppData\\Local\\Programs\\Python\\Python39\\lib\\site-packages\\openfl\\component\\aggregator\\aggregator.py#559\u001b\\\u001b[2m559\u001b[0m\u001b]8;;\u001b\\\n"
      ]
     },
     "metadata": {},
     "output_type": "display_data"
    },
    {
     "data": {
      "text/html": [
       "<pre style=\"white-space:pre;overflow-x:auto;line-height:normal;font-family:Menlo,'DejaVu Sans Mono',consolas,'Courier New',monospace\"><span style=\"color: #7fbfbf; text-decoration-color: #7fbfbf\">           </span>METRIC   Round <span style=\"color: #008080; text-decoration-color: #008080; font-weight: bold\">1</span>, aggregator: locally_tuned_model_validation                                                                        <a href=\"file://C:\\Users\\BHSU\\AppData\\Local\\Programs\\Python\\Python39\\lib\\site-packages\\openfl\\component\\aggregator\\aggregator.py\" target=\"_blank\"><span style=\"color: #7f7f7f; text-decoration-color: #7f7f7f\">aggregator.py</span></a><span style=\"color: #7f7f7f; text-decoration-color: #7f7f7f\">:</span><a href=\"file://C:\\Users\\BHSU\\AppData\\Local\\Programs\\Python\\Python39\\lib\\site-packages\\openfl\\component\\aggregator\\aggregator.py#842\" target=\"_blank\"><span style=\"color: #7f7f7f; text-decoration-color: #7f7f7f\">842</span></a>\n",
       "<span style=\"color: #7fbfbf; text-decoration-color: #7fbfbf\">           </span>         <span style=\"font-weight: bold\">&lt;</span><span style=\"color: #ff00ff; text-decoration-color: #ff00ff; font-weight: bold\">openfl.interface.aggregation_functions.weighted_average.WeightedAverage</span><span style=\"color: #000000; text-decoration-color: #000000\"> object at </span><span style=\"color: #008080; text-decoration-color: #008080; font-weight: bold\">0x0000024658124790</span><span style=\"font-weight: bold\">&gt;</span> accuracy:           <span style=\"color: #7f7f7f; text-decoration-color: #7f7f7f\">                 </span>\n",
       "<span style=\"color: #7fbfbf; text-decoration-color: #7fbfbf\">           </span>         <span style=\"color: #008080; text-decoration-color: #008080; font-weight: bold\">0.904500</span>                                                                                                                   <span style=\"color: #7f7f7f; text-decoration-color: #7f7f7f\">                 </span>\n",
       "</pre>\n"
      ],
      "text/plain": [
       "\u001b[2;36m          \u001b[0m\u001b[2;36m \u001b[0mMETRIC   Round \u001b[1;36m1\u001b[0m, aggregator: locally_tuned_model_validation                                                                        \u001b]8;id=892282;file://C:\\Users\\BHSU\\AppData\\Local\\Programs\\Python\\Python39\\lib\\site-packages\\openfl\\component\\aggregator\\aggregator.py\u001b\\\u001b[2maggregator.py\u001b[0m\u001b]8;;\u001b\\\u001b[2m:\u001b[0m\u001b]8;id=458592;file://C:\\Users\\BHSU\\AppData\\Local\\Programs\\Python\\Python39\\lib\\site-packages\\openfl\\component\\aggregator\\aggregator.py#842\u001b\\\u001b[2m842\u001b[0m\u001b]8;;\u001b\\\n",
       "\u001b[2;36m           \u001b[0m         \u001b[1m<\u001b[0m\u001b[1;95mopenfl.interface.aggregation_functions.weighted_average.WeightedAverage\u001b[0m\u001b[39m object at \u001b[0m\u001b[1;36m0x0000024658124790\u001b[0m\u001b[1m>\u001b[0m accuracy:           \u001b[2m                 \u001b[0m\n",
       "\u001b[2;36m           \u001b[0m         \u001b[1;36m0.904500\u001b[0m                                                                                                                   \u001b[2m                 \u001b[0m\n"
      ]
     },
     "metadata": {},
     "output_type": "display_data"
    },
    {
     "data": {
      "text/html": [
       "<pre style=\"white-space:pre;overflow-x:auto;line-height:normal;font-family:Menlo,'DejaVu Sans Mono',consolas,'Courier New',monospace\"><span style=\"color: #7fbfbf; text-decoration-color: #7fbfbf\">           </span>METRIC   Round <span style=\"color: #008080; text-decoration-color: #008080; font-weight: bold\">1</span>, aggregator: aggregated_model_validation <span style=\"font-weight: bold\">&lt;</span><span style=\"color: #ff00ff; text-decoration-color: #ff00ff; font-weight: bold\">openfl.interface.aggregation_functions.weighted_average.WeightedAverage</span><span style=\"color: #000000; text-decoration-color: #000000\"> </span> <a href=\"file://C:\\Users\\BHSU\\AppData\\Local\\Programs\\Python\\Python39\\lib\\site-packages\\openfl\\component\\aggregator\\aggregator.py\" target=\"_blank\"><span style=\"color: #7f7f7f; text-decoration-color: #7f7f7f\">aggregator.py</span></a><span style=\"color: #7f7f7f; text-decoration-color: #7f7f7f\">:</span><a href=\"file://C:\\Users\\BHSU\\AppData\\Local\\Programs\\Python\\Python39\\lib\\site-packages\\openfl\\component\\aggregator\\aggregator.py#842\" target=\"_blank\"><span style=\"color: #7f7f7f; text-decoration-color: #7f7f7f\">842</span></a>\n",
       "<span style=\"color: #7fbfbf; text-decoration-color: #7fbfbf\">           </span>         <span style=\"color: #000000; text-decoration-color: #000000\">object at </span><span style=\"color: #008080; text-decoration-color: #008080; font-weight: bold\">0x0000024658124790</span><span style=\"font-weight: bold\">&gt;</span> accuracy:       <span style=\"color: #008080; text-decoration-color: #008080; font-weight: bold\">0.851333</span>                                                                     <span style=\"color: #7f7f7f; text-decoration-color: #7f7f7f\">                 </span>\n",
       "</pre>\n"
      ],
      "text/plain": [
       "\u001b[2;36m          \u001b[0m\u001b[2;36m \u001b[0mMETRIC   Round \u001b[1;36m1\u001b[0m, aggregator: aggregated_model_validation \u001b[1m<\u001b[0m\u001b[1;95mopenfl.interface.aggregation_functions.weighted_average.WeightedAverage\u001b[0m\u001b[39m \u001b[0m \u001b]8;id=564867;file://C:\\Users\\BHSU\\AppData\\Local\\Programs\\Python\\Python39\\lib\\site-packages\\openfl\\component\\aggregator\\aggregator.py\u001b\\\u001b[2maggregator.py\u001b[0m\u001b]8;;\u001b\\\u001b[2m:\u001b[0m\u001b]8;id=592121;file://C:\\Users\\BHSU\\AppData\\Local\\Programs\\Python\\Python39\\lib\\site-packages\\openfl\\component\\aggregator\\aggregator.py#842\u001b\\\u001b[2m842\u001b[0m\u001b]8;;\u001b\\\n",
       "\u001b[2;36m           \u001b[0m         \u001b[39mobject at \u001b[0m\u001b[1;36m0x0000024658124790\u001b[0m\u001b[1m>\u001b[0m accuracy:       \u001b[1;36m0.851333\u001b[0m                                                                     \u001b[2m                 \u001b[0m\n"
      ]
     },
     "metadata": {},
     "output_type": "display_data"
    },
    {
     "data": {
      "text/html": [
       "<pre style=\"white-space:pre;overflow-x:auto;line-height:normal;font-family:Menlo,'DejaVu Sans Mono',consolas,'Courier New',monospace\"><span style=\"color: #7fbfbf; text-decoration-color: #7fbfbf\">           </span>METRIC   Round <span style=\"color: #008080; text-decoration-color: #008080; font-weight: bold\">1</span>: saved the best model with score <span style=\"color: #008080; text-decoration-color: #008080; font-weight: bold\">0.851333</span>                                                                          <a href=\"file://C:\\Users\\BHSU\\AppData\\Local\\Programs\\Python\\Python39\\lib\\site-packages\\openfl\\component\\aggregator\\aggregator.py\" target=\"_blank\"><span style=\"color: #7f7f7f; text-decoration-color: #7f7f7f\">aggregator.py</span></a><span style=\"color: #7f7f7f; text-decoration-color: #7f7f7f\">:</span><a href=\"file://C:\\Users\\BHSU\\AppData\\Local\\Programs\\Python\\Python39\\lib\\site-packages\\openfl\\component\\aggregator\\aggregator.py#858\" target=\"_blank\"><span style=\"color: #7f7f7f; text-decoration-color: #7f7f7f\">858</span></a>\n",
       "</pre>\n"
      ],
      "text/plain": [
       "\u001b[2;36m          \u001b[0m\u001b[2;36m \u001b[0mMETRIC   Round \u001b[1;36m1\u001b[0m: saved the best model with score \u001b[1;36m0.851333\u001b[0m                                                                          \u001b]8;id=997238;file://C:\\Users\\BHSU\\AppData\\Local\\Programs\\Python\\Python39\\lib\\site-packages\\openfl\\component\\aggregator\\aggregator.py\u001b\\\u001b[2maggregator.py\u001b[0m\u001b]8;;\u001b\\\u001b[2m:\u001b[0m\u001b]8;id=870794;file://C:\\Users\\BHSU\\AppData\\Local\\Programs\\Python\\Python39\\lib\\site-packages\\openfl\\component\\aggregator\\aggregator.py#858\u001b\\\u001b[2m858\u001b[0m\u001b]8;;\u001b\\\n"
      ]
     },
     "metadata": {},
     "output_type": "display_data"
    },
    {
     "data": {
      "text/html": [
       "<pre style=\"white-space:pre;overflow-x:auto;line-height:normal;font-family:Menlo,'DejaVu Sans Mono',consolas,'Courier New',monospace\"><span style=\"color: #7fbfbf; text-decoration-color: #7fbfbf\">           </span>METRIC   Round <span style=\"color: #008080; text-decoration-color: #008080; font-weight: bold\">1</span>, aggregator: train <span style=\"font-weight: bold\">&lt;</span><span style=\"color: #ff00ff; text-decoration-color: #ff00ff; font-weight: bold\">openfl.interface.aggregation_functions.weighted_average.WeightedAverage</span><span style=\"color: #000000; text-decoration-color: #000000\"> object at </span>             <a href=\"file://C:\\Users\\BHSU\\AppData\\Local\\Programs\\Python\\Python39\\lib\\site-packages\\openfl\\component\\aggregator\\aggregator.py\" target=\"_blank\"><span style=\"color: #7f7f7f; text-decoration-color: #7f7f7f\">aggregator.py</span></a><span style=\"color: #7f7f7f; text-decoration-color: #7f7f7f\">:</span><a href=\"file://C:\\Users\\BHSU\\AppData\\Local\\Programs\\Python\\Python39\\lib\\site-packages\\openfl\\component\\aggregator\\aggregator.py#842\" target=\"_blank\"><span style=\"color: #7f7f7f; text-decoration-color: #7f7f7f\">842</span></a>\n",
       "<span style=\"color: #7fbfbf; text-decoration-color: #7fbfbf\">           </span>         <span style=\"color: #008080; text-decoration-color: #008080; font-weight: bold\">0x0000024658124790</span><span style=\"font-weight: bold\">&gt;</span> loss: <span style=\"color: #008080; text-decoration-color: #008080; font-weight: bold\">0.310351</span>                                                                                         <span style=\"color: #7f7f7f; text-decoration-color: #7f7f7f\">                 </span>\n",
       "</pre>\n"
      ],
      "text/plain": [
       "\u001b[2;36m          \u001b[0m\u001b[2;36m \u001b[0mMETRIC   Round \u001b[1;36m1\u001b[0m, aggregator: train \u001b[1m<\u001b[0m\u001b[1;95mopenfl.interface.aggregation_functions.weighted_average.WeightedAverage\u001b[0m\u001b[39m object at \u001b[0m             \u001b]8;id=255823;file://C:\\Users\\BHSU\\AppData\\Local\\Programs\\Python\\Python39\\lib\\site-packages\\openfl\\component\\aggregator\\aggregator.py\u001b\\\u001b[2maggregator.py\u001b[0m\u001b]8;;\u001b\\\u001b[2m:\u001b[0m\u001b]8;id=464694;file://C:\\Users\\BHSU\\AppData\\Local\\Programs\\Python\\Python39\\lib\\site-packages\\openfl\\component\\aggregator\\aggregator.py#842\u001b\\\u001b[2m842\u001b[0m\u001b]8;;\u001b\\\n",
       "\u001b[2;36m           \u001b[0m         \u001b[1;36m0x0000024658124790\u001b[0m\u001b[1m>\u001b[0m loss: \u001b[1;36m0.310351\u001b[0m                                                                                         \u001b[2m                 \u001b[0m\n"
      ]
     },
     "metadata": {},
     "output_type": "display_data"
    },
    {
     "data": {
      "text/html": [
       "<pre style=\"white-space:pre;overflow-x:auto;line-height:normal;font-family:Menlo,'DejaVu Sans Mono',consolas,'Courier New',monospace\"><span style=\"color: #7fbfbf; text-decoration-color: #7fbfbf\">           </span><span style=\"color: #000080; text-decoration-color: #000080\">INFO    </span> Saving round <span style=\"color: #008080; text-decoration-color: #008080; font-weight: bold\">2</span> model<span style=\"color: #808000; text-decoration-color: #808000\">...</span>                                                                                                    <a href=\"file://C:\\Users\\BHSU\\AppData\\Local\\Programs\\Python\\Python39\\lib\\site-packages\\openfl\\component\\aggregator\\aggregator.py\" target=\"_blank\"><span style=\"color: #7f7f7f; text-decoration-color: #7f7f7f\">aggregator.py</span></a><span style=\"color: #7f7f7f; text-decoration-color: #7f7f7f\">:</span><a href=\"file://C:\\Users\\BHSU\\AppData\\Local\\Programs\\Python\\Python39\\lib\\site-packages\\openfl\\component\\aggregator\\aggregator.py#894\" target=\"_blank\"><span style=\"color: #7f7f7f; text-decoration-color: #7f7f7f\">894</span></a>\n",
       "</pre>\n"
      ],
      "text/plain": [
       "\u001b[2;36m          \u001b[0m\u001b[2;36m \u001b[0m\u001b[34mINFO    \u001b[0m Saving round \u001b[1;36m2\u001b[0m model\u001b[33m...\u001b[0m                                                                                                    \u001b]8;id=793042;file://C:\\Users\\BHSU\\AppData\\Local\\Programs\\Python\\Python39\\lib\\site-packages\\openfl\\component\\aggregator\\aggregator.py\u001b\\\u001b[2maggregator.py\u001b[0m\u001b]8;;\u001b\\\u001b[2m:\u001b[0m\u001b]8;id=658728;file://C:\\Users\\BHSU\\AppData\\Local\\Programs\\Python\\Python39\\lib\\site-packages\\openfl\\component\\aggregator\\aggregator.py#894\u001b\\\u001b[2m894\u001b[0m\u001b]8;;\u001b\\\n"
      ]
     },
     "metadata": {},
     "output_type": "display_data"
    },
    {
     "data": {
      "text/html": [
       "<pre style=\"white-space:pre;overflow-x:auto;line-height:normal;font-family:Menlo,'DejaVu Sans Mono',consolas,'Courier New',monospace\"><span style=\"color: #7fbfbf; text-decoration-color: #7fbfbf\">           </span><span style=\"color: #000080; text-decoration-color: #000080\">INFO    </span> Starting round <span style=\"color: #008080; text-decoration-color: #008080; font-weight: bold\">2</span><span style=\"color: #808000; text-decoration-color: #808000\">...</span>                                                                                                        <a href=\"file://C:\\Users\\BHSU\\AppData\\Local\\Programs\\Python\\Python39\\lib\\site-packages\\openfl\\component\\aggregator\\aggregator.py\" target=\"_blank\"><span style=\"color: #7f7f7f; text-decoration-color: #7f7f7f\">aggregator.py</span></a><span style=\"color: #7f7f7f; text-decoration-color: #7f7f7f\">:</span><a href=\"file://C:\\Users\\BHSU\\AppData\\Local\\Programs\\Python\\Python39\\lib\\site-packages\\openfl\\component\\aggregator\\aggregator.py#901\" target=\"_blank\"><span style=\"color: #7f7f7f; text-decoration-color: #7f7f7f\">901</span></a>\n",
       "</pre>\n"
      ],
      "text/plain": [
       "\u001b[2;36m          \u001b[0m\u001b[2;36m \u001b[0m\u001b[34mINFO    \u001b[0m Starting round \u001b[1;36m2\u001b[0m\u001b[33m...\u001b[0m                                                                                                        \u001b]8;id=156935;file://C:\\Users\\BHSU\\AppData\\Local\\Programs\\Python\\Python39\\lib\\site-packages\\openfl\\component\\aggregator\\aggregator.py\u001b\\\u001b[2maggregator.py\u001b[0m\u001b]8;;\u001b\\\u001b[2m:\u001b[0m\u001b]8;id=893522;file://C:\\Users\\BHSU\\AppData\\Local\\Programs\\Python\\Python39\\lib\\site-packages\\openfl\\component\\aggregator\\aggregator.py#901\u001b\\\u001b[2m901\u001b[0m\u001b]8;;\u001b\\\n"
      ]
     },
     "metadata": {},
     "output_type": "display_data"
    },
    {
     "data": {
      "text/html": [
       "<pre style=\"white-space:pre;overflow-x:auto;line-height:normal;font-family:Menlo,'DejaVu Sans Mono',consolas,'Courier New',monospace\"><span style=\"color: #7fbfbf; text-decoration-color: #7fbfbf\">           </span><span style=\"color: #000080; text-decoration-color: #000080\">INFO    </span> All tasks completed on two for round <span style=\"color: #008080; text-decoration-color: #008080; font-weight: bold\">1</span><span style=\"color: #808000; text-decoration-color: #808000\">...</span>                                                                                <a href=\"file://C:\\Users\\BHSU\\AppData\\Local\\Programs\\Python\\Python39\\lib\\site-packages\\openfl\\component\\collaborator\\collaborator.py\" target=\"_blank\"><span style=\"color: #7f7f7f; text-decoration-color: #7f7f7f\">collaborator.py</span></a><span style=\"color: #7f7f7f; text-decoration-color: #7f7f7f\">:</span><a href=\"file://C:\\Users\\BHSU\\AppData\\Local\\Programs\\Python\\Python39\\lib\\site-packages\\openfl\\component\\collaborator\\collaborator.py#171\" target=\"_blank\"><span style=\"color: #7f7f7f; text-decoration-color: #7f7f7f\">171</span></a>\n",
       "</pre>\n"
      ],
      "text/plain": [
       "\u001b[2;36m          \u001b[0m\u001b[2;36m \u001b[0m\u001b[34mINFO    \u001b[0m All tasks completed on two for round \u001b[1;36m1\u001b[0m\u001b[33m...\u001b[0m                                                                                \u001b]8;id=201601;file://C:\\Users\\BHSU\\AppData\\Local\\Programs\\Python\\Python39\\lib\\site-packages\\openfl\\component\\collaborator\\collaborator.py\u001b\\\u001b[2mcollaborator.py\u001b[0m\u001b]8;;\u001b\\\u001b[2m:\u001b[0m\u001b]8;id=630703;file://C:\\Users\\BHSU\\AppData\\Local\\Programs\\Python\\Python39\\lib\\site-packages\\openfl\\component\\collaborator\\collaborator.py#171\u001b\\\u001b[2m171\u001b[0m\u001b]8;;\u001b\\\n"
      ]
     },
     "metadata": {},
     "output_type": "display_data"
    },
    {
     "data": {
      "text/html": [
       "<pre style=\"white-space:pre;overflow-x:auto;line-height:normal;font-family:Menlo,'DejaVu Sans Mono',consolas,'Courier New',monospace\"><span style=\"color: #7fbfbf; text-decoration-color: #7fbfbf\">           </span><span style=\"color: #000080; text-decoration-color: #000080\">INFO    </span> Waiting for tasks<span style=\"color: #808000; text-decoration-color: #808000\">...</span>                                                                                                     <a href=\"file://C:\\Users\\BHSU\\AppData\\Local\\Programs\\Python\\Python39\\lib\\site-packages\\openfl\\component\\collaborator\\collaborator.py\" target=\"_blank\"><span style=\"color: #7f7f7f; text-decoration-color: #7f7f7f\">collaborator.py</span></a><span style=\"color: #7f7f7f; text-decoration-color: #7f7f7f\">:</span><a href=\"file://C:\\Users\\BHSU\\AppData\\Local\\Programs\\Python\\Python39\\lib\\site-packages\\openfl\\component\\collaborator\\collaborator.py#178\" target=\"_blank\"><span style=\"color: #7f7f7f; text-decoration-color: #7f7f7f\">178</span></a>\n",
       "</pre>\n"
      ],
      "text/plain": [
       "\u001b[2;36m          \u001b[0m\u001b[2;36m \u001b[0m\u001b[34mINFO    \u001b[0m Waiting for tasks\u001b[33m...\u001b[0m                                                                                                     \u001b]8;id=635229;file://C:\\Users\\BHSU\\AppData\\Local\\Programs\\Python\\Python39\\lib\\site-packages\\openfl\\component\\collaborator\\collaborator.py\u001b\\\u001b[2mcollaborator.py\u001b[0m\u001b]8;;\u001b\\\u001b[2m:\u001b[0m\u001b]8;id=478850;file://C:\\Users\\BHSU\\AppData\\Local\\Programs\\Python\\Python39\\lib\\site-packages\\openfl\\component\\collaborator\\collaborator.py#178\u001b\\\u001b[2m178\u001b[0m\u001b]8;;\u001b\\\n"
      ]
     },
     "metadata": {},
     "output_type": "display_data"
    },
    {
     "data": {
      "text/html": [
       "<pre style=\"white-space:pre;overflow-x:auto;line-height:normal;font-family:Menlo,'DejaVu Sans Mono',consolas,'Courier New',monospace\"><span style=\"color: #7fbfbf; text-decoration-color: #7fbfbf\">           </span><span style=\"color: #000080; text-decoration-color: #000080\">INFO    </span> Sending tasks to collaborator one for round <span style=\"color: #008080; text-decoration-color: #008080; font-weight: bold\">2</span>                                                                              <a href=\"file://C:\\Users\\BHSU\\AppData\\Local\\Programs\\Python\\Python39\\lib\\site-packages\\openfl\\component\\aggregator\\aggregator.py\" target=\"_blank\"><span style=\"color: #7f7f7f; text-decoration-color: #7f7f7f\">aggregator.py</span></a><span style=\"color: #7f7f7f; text-decoration-color: #7f7f7f\">:</span><a href=\"file://C:\\Users\\BHSU\\AppData\\Local\\Programs\\Python\\Python39\\lib\\site-packages\\openfl\\component\\aggregator\\aggregator.py#329\" target=\"_blank\"><span style=\"color: #7f7f7f; text-decoration-color: #7f7f7f\">329</span></a>\n",
       "</pre>\n"
      ],
      "text/plain": [
       "\u001b[2;36m          \u001b[0m\u001b[2;36m \u001b[0m\u001b[34mINFO    \u001b[0m Sending tasks to collaborator one for round \u001b[1;36m2\u001b[0m                                                                              \u001b]8;id=900646;file://C:\\Users\\BHSU\\AppData\\Local\\Programs\\Python\\Python39\\lib\\site-packages\\openfl\\component\\aggregator\\aggregator.py\u001b\\\u001b[2maggregator.py\u001b[0m\u001b]8;;\u001b\\\u001b[2m:\u001b[0m\u001b]8;id=782812;file://C:\\Users\\BHSU\\AppData\\Local\\Programs\\Python\\Python39\\lib\\site-packages\\openfl\\component\\aggregator\\aggregator.py#329\u001b\\\u001b[2m329\u001b[0m\u001b]8;;\u001b\\\n"
      ]
     },
     "metadata": {},
     "output_type": "display_data"
    },
    {
     "data": {
      "text/html": [
       "<pre style=\"white-space:pre;overflow-x:auto;line-height:normal;font-family:Menlo,'DejaVu Sans Mono',consolas,'Courier New',monospace\"><span style=\"color: #7fbfbf; text-decoration-color: #7fbfbf\">           </span><span style=\"color: #000080; text-decoration-color: #000080\">INFO    </span> Received the following tasks: <span style=\"font-weight: bold\">[</span><span style=\"color: #008000; text-decoration-color: #008000\">'aggregated_model_validation'</span>, <span style=\"color: #008000; text-decoration-color: #008000\">'train'</span>, <span style=\"color: #008000; text-decoration-color: #008000\">'locally_tuned_model_validation'</span><span style=\"font-weight: bold\">]</span>                 <a href=\"file://C:\\Users\\BHSU\\AppData\\Local\\Programs\\Python\\Python39\\lib\\site-packages\\openfl\\component\\collaborator\\collaborator.py\" target=\"_blank\"><span style=\"color: #7f7f7f; text-decoration-color: #7f7f7f\">collaborator.py</span></a><span style=\"color: #7f7f7f; text-decoration-color: #7f7f7f\">:</span><a href=\"file://C:\\Users\\BHSU\\AppData\\Local\\Programs\\Python\\Python39\\lib\\site-packages\\openfl\\component\\collaborator\\collaborator.py#168\" target=\"_blank\"><span style=\"color: #7f7f7f; text-decoration-color: #7f7f7f\">168</span></a>\n",
       "</pre>\n"
      ],
      "text/plain": [
       "\u001b[2;36m          \u001b[0m\u001b[2;36m \u001b[0m\u001b[34mINFO    \u001b[0m Received the following tasks: \u001b[1m[\u001b[0m\u001b[32m'aggregated_model_validation'\u001b[0m, \u001b[32m'train'\u001b[0m, \u001b[32m'locally_tuned_model_validation'\u001b[0m\u001b[1m]\u001b[0m                 \u001b]8;id=53867;file://C:\\Users\\BHSU\\AppData\\Local\\Programs\\Python\\Python39\\lib\\site-packages\\openfl\\component\\collaborator\\collaborator.py\u001b\\\u001b[2mcollaborator.py\u001b[0m\u001b]8;;\u001b\\\u001b[2m:\u001b[0m\u001b]8;id=507787;file://C:\\Users\\BHSU\\AppData\\Local\\Programs\\Python\\Python39\\lib\\site-packages\\openfl\\component\\collaborator\\collaborator.py#168\u001b\\\u001b[2m168\u001b[0m\u001b]8;;\u001b\\\n"
      ]
     },
     "metadata": {},
     "output_type": "display_data"
    },
    {
     "data": {
      "text/html": [
       "<pre style=\"white-space:pre;overflow-x:auto;line-height:normal;font-family:Menlo,'DejaVu Sans Mono',consolas,'Courier New',monospace\"><span style=\"color: #7fbfbf; text-decoration-color: #7fbfbf\">           </span><span style=\"color: #000080; text-decoration-color: #000080\">INFO    </span> Using TaskRunner subclassing API                                                                                         <a href=\"file://C:\\Users\\BHSU\\AppData\\Local\\Programs\\Python\\Python39\\lib\\site-packages\\openfl\\component\\collaborator\\collaborator.py\" target=\"_blank\"><span style=\"color: #7f7f7f; text-decoration-color: #7f7f7f\">collaborator.py</span></a><span style=\"color: #7f7f7f; text-decoration-color: #7f7f7f\">:</span><a href=\"file://C:\\Users\\BHSU\\AppData\\Local\\Programs\\Python\\Python39\\lib\\site-packages\\openfl\\component\\collaborator\\collaborator.py#253\" target=\"_blank\"><span style=\"color: #7f7f7f; text-decoration-color: #7f7f7f\">253</span></a>\n",
       "</pre>\n"
      ],
      "text/plain": [
       "\u001b[2;36m          \u001b[0m\u001b[2;36m \u001b[0m\u001b[34mINFO    \u001b[0m Using TaskRunner subclassing API                                                                                         \u001b]8;id=311942;file://C:\\Users\\BHSU\\AppData\\Local\\Programs\\Python\\Python39\\lib\\site-packages\\openfl\\component\\collaborator\\collaborator.py\u001b\\\u001b[2mcollaborator.py\u001b[0m\u001b]8;;\u001b\\\u001b[2m:\u001b[0m\u001b]8;id=79891;file://C:\\Users\\BHSU\\AppData\\Local\\Programs\\Python\\Python39\\lib\\site-packages\\openfl\\component\\collaborator\\collaborator.py#253\u001b\\\u001b[2m253\u001b[0m\u001b]8;;\u001b\\\n"
      ]
     },
     "metadata": {},
     "output_type": "display_data"
    },
    {
     "name": "stdout",
     "output_type": "stream",
     "text": [
      "282/282 [==============================] - 0s 509us/step - loss: 0.2382 - accuracy: 0.9260\n"
     ]
    },
    {
     "data": {
      "text/html": [
       "<pre style=\"white-space:pre;overflow-x:auto;line-height:normal;font-family:Menlo,'DejaVu Sans Mono',consolas,'Courier New',monospace\"><span style=\"color: #7fbfbf; text-decoration-color: #7fbfbf\">           </span>METRIC   Round <span style=\"color: #008080; text-decoration-color: #008080; font-weight: bold\">2</span>, collaborator one is sending metric for task aggregated_model_validation: accuracy      <span style=\"color: #008080; text-decoration-color: #008080; font-weight: bold\">0.926000</span>                 <a href=\"file://C:\\Users\\BHSU\\AppData\\Local\\Programs\\Python\\Python39\\lib\\site-packages\\openfl\\component\\collaborator\\collaborator.py\" target=\"_blank\"><span style=\"color: #7f7f7f; text-decoration-color: #7f7f7f\">collaborator.py</span></a><span style=\"color: #7f7f7f; text-decoration-color: #7f7f7f\">:</span><a href=\"file://C:\\Users\\BHSU\\AppData\\Local\\Programs\\Python\\Python39\\lib\\site-packages\\openfl\\component\\collaborator\\collaborator.py#415\" target=\"_blank\"><span style=\"color: #7f7f7f; text-decoration-color: #7f7f7f\">415</span></a>\n",
       "</pre>\n"
      ],
      "text/plain": [
       "\u001b[2;36m          \u001b[0m\u001b[2;36m \u001b[0mMETRIC   Round \u001b[1;36m2\u001b[0m, collaborator one is sending metric for task aggregated_model_validation: accuracy      \u001b[1;36m0.926000\u001b[0m                 \u001b]8;id=380488;file://C:\\Users\\BHSU\\AppData\\Local\\Programs\\Python\\Python39\\lib\\site-packages\\openfl\\component\\collaborator\\collaborator.py\u001b\\\u001b[2mcollaborator.py\u001b[0m\u001b]8;;\u001b\\\u001b[2m:\u001b[0m\u001b]8;id=874661;file://C:\\Users\\BHSU\\AppData\\Local\\Programs\\Python\\Python39\\lib\\site-packages\\openfl\\component\\collaborator\\collaborator.py#415\u001b\\\u001b[2m415\u001b[0m\u001b]8;;\u001b\\\n"
      ]
     },
     "metadata": {},
     "output_type": "display_data"
    },
    {
     "data": {
      "text/html": [
       "<pre style=\"white-space:pre;overflow-x:auto;line-height:normal;font-family:Menlo,'DejaVu Sans Mono',consolas,'Courier New',monospace\"><span style=\"color: #7fbfbf; text-decoration-color: #7fbfbf\">           </span><span style=\"color: #000080; text-decoration-color: #000080\">INFO    </span> Collaborator one is sending task results for aggregated_model_validation, round <span style=\"color: #008080; text-decoration-color: #008080; font-weight: bold\">2</span>                                          <a href=\"file://C:\\Users\\BHSU\\AppData\\Local\\Programs\\Python\\Python39\\lib\\site-packages\\openfl\\component\\aggregator\\aggregator.py\" target=\"_blank\"><span style=\"color: #7f7f7f; text-decoration-color: #7f7f7f\">aggregator.py</span></a><span style=\"color: #7f7f7f; text-decoration-color: #7f7f7f\">:</span><a href=\"file://C:\\Users\\BHSU\\AppData\\Local\\Programs\\Python\\Python39\\lib\\site-packages\\openfl\\component\\aggregator\\aggregator.py#520\" target=\"_blank\"><span style=\"color: #7f7f7f; text-decoration-color: #7f7f7f\">520</span></a>\n",
       "</pre>\n"
      ],
      "text/plain": [
       "\u001b[2;36m          \u001b[0m\u001b[2;36m \u001b[0m\u001b[34mINFO    \u001b[0m Collaborator one is sending task results for aggregated_model_validation, round \u001b[1;36m2\u001b[0m                                          \u001b]8;id=590341;file://C:\\Users\\BHSU\\AppData\\Local\\Programs\\Python\\Python39\\lib\\site-packages\\openfl\\component\\aggregator\\aggregator.py\u001b\\\u001b[2maggregator.py\u001b[0m\u001b]8;;\u001b\\\u001b[2m:\u001b[0m\u001b]8;id=384485;file://C:\\Users\\BHSU\\AppData\\Local\\Programs\\Python\\Python39\\lib\\site-packages\\openfl\\component\\aggregator\\aggregator.py#520\u001b\\\u001b[2m520\u001b[0m\u001b]8;;\u001b\\\n"
      ]
     },
     "metadata": {},
     "output_type": "display_data"
    },
    {
     "data": {
      "text/html": [
       "<pre style=\"white-space:pre;overflow-x:auto;line-height:normal;font-family:Menlo,'DejaVu Sans Mono',consolas,'Courier New',monospace\"><span style=\"color: #7fbfbf; text-decoration-color: #7fbfbf\">           </span>METRIC   Round <span style=\"color: #008080; text-decoration-color: #008080; font-weight: bold\">2</span>, collaborator validate_agg aggregated_model_validation result accuracy: <span style=\"color: #008080; text-decoration-color: #008080; font-weight: bold\">0.926000</span>                                   <a href=\"file://C:\\Users\\BHSU\\AppData\\Local\\Programs\\Python\\Python39\\lib\\site-packages\\openfl\\component\\aggregator\\aggregator.py\" target=\"_blank\"><span style=\"color: #7f7f7f; text-decoration-color: #7f7f7f\">aggregator.py</span></a><span style=\"color: #7f7f7f; text-decoration-color: #7f7f7f\">:</span><a href=\"file://C:\\Users\\BHSU\\AppData\\Local\\Programs\\Python\\Python39\\lib\\site-packages\\openfl\\component\\aggregator\\aggregator.py#559\" target=\"_blank\"><span style=\"color: #7f7f7f; text-decoration-color: #7f7f7f\">559</span></a>\n",
       "</pre>\n"
      ],
      "text/plain": [
       "\u001b[2;36m          \u001b[0m\u001b[2;36m \u001b[0mMETRIC   Round \u001b[1;36m2\u001b[0m, collaborator validate_agg aggregated_model_validation result accuracy: \u001b[1;36m0.926000\u001b[0m                                   \u001b]8;id=243576;file://C:\\Users\\BHSU\\AppData\\Local\\Programs\\Python\\Python39\\lib\\site-packages\\openfl\\component\\aggregator\\aggregator.py\u001b\\\u001b[2maggregator.py\u001b[0m\u001b]8;;\u001b\\\u001b[2m:\u001b[0m\u001b]8;id=520293;file://C:\\Users\\BHSU\\AppData\\Local\\Programs\\Python\\Python39\\lib\\site-packages\\openfl\\component\\aggregator\\aggregator.py#559\u001b\\\u001b[2m559\u001b[0m\u001b]8;;\u001b\\\n"
      ]
     },
     "metadata": {},
     "output_type": "display_data"
    },
    {
     "data": {
      "text/html": [
       "<pre style=\"white-space:pre;overflow-x:auto;line-height:normal;font-family:Menlo,'DejaVu Sans Mono',consolas,'Courier New',monospace\"><span style=\"color: #7fbfbf; text-decoration-color: #7fbfbf\">           </span><span style=\"color: #000080; text-decoration-color: #000080\">INFO    </span> Using TaskRunner subclassing API                                                                                         <a href=\"file://C:\\Users\\BHSU\\AppData\\Local\\Programs\\Python\\Python39\\lib\\site-packages\\openfl\\component\\collaborator\\collaborator.py\" target=\"_blank\"><span style=\"color: #7f7f7f; text-decoration-color: #7f7f7f\">collaborator.py</span></a><span style=\"color: #7f7f7f; text-decoration-color: #7f7f7f\">:</span><a href=\"file://C:\\Users\\BHSU\\AppData\\Local\\Programs\\Python\\Python39\\lib\\site-packages\\openfl\\component\\collaborator\\collaborator.py#253\" target=\"_blank\"><span style=\"color: #7f7f7f; text-decoration-color: #7f7f7f\">253</span></a>\n",
       "</pre>\n"
      ],
      "text/plain": [
       "\u001b[2;36m          \u001b[0m\u001b[2;36m \u001b[0m\u001b[34mINFO    \u001b[0m Using TaskRunner subclassing API                                                                                         \u001b]8;id=302860;file://C:\\Users\\BHSU\\AppData\\Local\\Programs\\Python\\Python39\\lib\\site-packages\\openfl\\component\\collaborator\\collaborator.py\u001b\\\u001b[2mcollaborator.py\u001b[0m\u001b]8;;\u001b\\\u001b[2m:\u001b[0m\u001b]8;id=792219;file://C:\\Users\\BHSU\\AppData\\Local\\Programs\\Python\\Python39\\lib\\site-packages\\openfl\\component\\collaborator\\collaborator.py#253\u001b\\\u001b[2m253\u001b[0m\u001b]8;;\u001b\\\n"
      ]
     },
     "metadata": {},
     "output_type": "display_data"
    },
    {
     "data": {
      "text/html": [
       "<pre style=\"white-space:pre;overflow-x:auto;line-height:normal;font-family:Menlo,'DejaVu Sans Mono',consolas,'Courier New',monospace\"><span style=\"color: #7fbfbf; text-decoration-color: #7fbfbf\">           </span><span style=\"color: #000080; text-decoration-color: #000080\">INFO    </span> Run <span style=\"color: #008080; text-decoration-color: #008080; font-weight: bold\">0</span> epoch of <span style=\"color: #008080; text-decoration-color: #008080; font-weight: bold\">2</span> round                                                                                                    <a href=\"file://C:\\Users\\BHSU\\AppData\\Local\\Programs\\Python\\Python39\\lib\\site-packages\\openfl\\federated\\task\\runner_keras.py\" target=\"_blank\"><span style=\"color: #7f7f7f; text-decoration-color: #7f7f7f\">runner_keras.py</span></a><span style=\"color: #7f7f7f; text-decoration-color: #7f7f7f\">:</span><a href=\"file://C:\\Users\\BHSU\\AppData\\Local\\Programs\\Python\\Python39\\lib\\site-packages\\openfl\\federated\\task\\runner_keras.py#83\" target=\"_blank\"><span style=\"color: #7f7f7f; text-decoration-color: #7f7f7f\">83</span></a>\n",
       "</pre>\n"
      ],
      "text/plain": [
       "\u001b[2;36m          \u001b[0m\u001b[2;36m \u001b[0m\u001b[34mINFO    \u001b[0m Run \u001b[1;36m0\u001b[0m epoch of \u001b[1;36m2\u001b[0m round                                                                                                    \u001b]8;id=140307;file://C:\\Users\\BHSU\\AppData\\Local\\Programs\\Python\\Python39\\lib\\site-packages\\openfl\\federated\\task\\runner_keras.py\u001b\\\u001b[2mrunner_keras.py\u001b[0m\u001b]8;;\u001b\\\u001b[2m:\u001b[0m\u001b]8;id=257901;file://C:\\Users\\BHSU\\AppData\\Local\\Programs\\Python\\Python39\\lib\\site-packages\\openfl\\federated\\task\\runner_keras.py#83\u001b\\\u001b[2m83\u001b[0m\u001b]8;;\u001b\\\n"
      ]
     },
     "metadata": {},
     "output_type": "display_data"
    },
    {
     "name": "stdout",
     "output_type": "stream",
     "text": [
      "657/657 [==============================] - 0s 662us/step - loss: 0.2429 - accuracy: 0.9267\n"
     ]
    },
    {
     "data": {
      "text/html": [
       "<pre style=\"white-space:pre;overflow-x:auto;line-height:normal;font-family:Menlo,'DejaVu Sans Mono',consolas,'Courier New',monospace\"><span style=\"color: #7fbfbf; text-decoration-color: #7fbfbf\">[08:29:04] </span>METRIC   Round <span style=\"color: #008080; text-decoration-color: #008080; font-weight: bold\">2</span>, collaborator one is sending metric for task train: loss        <span style=\"color: #008080; text-decoration-color: #008080; font-weight: bold\">0.242898</span>                                         <a href=\"file://C:\\Users\\BHSU\\AppData\\Local\\Programs\\Python\\Python39\\lib\\site-packages\\openfl\\component\\collaborator\\collaborator.py\" target=\"_blank\"><span style=\"color: #7f7f7f; text-decoration-color: #7f7f7f\">collaborator.py</span></a><span style=\"color: #7f7f7f; text-decoration-color: #7f7f7f\">:</span><a href=\"file://C:\\Users\\BHSU\\AppData\\Local\\Programs\\Python\\Python39\\lib\\site-packages\\openfl\\component\\collaborator\\collaborator.py#415\" target=\"_blank\"><span style=\"color: #7f7f7f; text-decoration-color: #7f7f7f\">415</span></a>\n",
       "</pre>\n"
      ],
      "text/plain": [
       "\u001b[2;36m[08:29:04]\u001b[0m\u001b[2;36m \u001b[0mMETRIC   Round \u001b[1;36m2\u001b[0m, collaborator one is sending metric for task train: loss        \u001b[1;36m0.242898\u001b[0m                                         \u001b]8;id=992262;file://C:\\Users\\BHSU\\AppData\\Local\\Programs\\Python\\Python39\\lib\\site-packages\\openfl\\component\\collaborator\\collaborator.py\u001b\\\u001b[2mcollaborator.py\u001b[0m\u001b]8;;\u001b\\\u001b[2m:\u001b[0m\u001b]8;id=285677;file://C:\\Users\\BHSU\\AppData\\Local\\Programs\\Python\\Python39\\lib\\site-packages\\openfl\\component\\collaborator\\collaborator.py#415\u001b\\\u001b[2m415\u001b[0m\u001b]8;;\u001b\\\n"
      ]
     },
     "metadata": {},
     "output_type": "display_data"
    },
    {
     "data": {
      "text/html": [
       "<pre style=\"white-space:pre;overflow-x:auto;line-height:normal;font-family:Menlo,'DejaVu Sans Mono',consolas,'Courier New',monospace\"><span style=\"color: #7fbfbf; text-decoration-color: #7fbfbf\">           </span><span style=\"color: #000080; text-decoration-color: #000080\">INFO    </span> Collaborator one is sending task results for train, round <span style=\"color: #008080; text-decoration-color: #008080; font-weight: bold\">2</span>                                                                <a href=\"file://C:\\Users\\BHSU\\AppData\\Local\\Programs\\Python\\Python39\\lib\\site-packages\\openfl\\component\\aggregator\\aggregator.py\" target=\"_blank\"><span style=\"color: #7f7f7f; text-decoration-color: #7f7f7f\">aggregator.py</span></a><span style=\"color: #7f7f7f; text-decoration-color: #7f7f7f\">:</span><a href=\"file://C:\\Users\\BHSU\\AppData\\Local\\Programs\\Python\\Python39\\lib\\site-packages\\openfl\\component\\aggregator\\aggregator.py#520\" target=\"_blank\"><span style=\"color: #7f7f7f; text-decoration-color: #7f7f7f\">520</span></a>\n",
       "</pre>\n"
      ],
      "text/plain": [
       "\u001b[2;36m          \u001b[0m\u001b[2;36m \u001b[0m\u001b[34mINFO    \u001b[0m Collaborator one is sending task results for train, round \u001b[1;36m2\u001b[0m                                                                \u001b]8;id=989614;file://C:\\Users\\BHSU\\AppData\\Local\\Programs\\Python\\Python39\\lib\\site-packages\\openfl\\component\\aggregator\\aggregator.py\u001b\\\u001b[2maggregator.py\u001b[0m\u001b]8;;\u001b\\\u001b[2m:\u001b[0m\u001b]8;id=114507;file://C:\\Users\\BHSU\\AppData\\Local\\Programs\\Python\\Python39\\lib\\site-packages\\openfl\\component\\aggregator\\aggregator.py#520\u001b\\\u001b[2m520\u001b[0m\u001b]8;;\u001b\\\n"
      ]
     },
     "metadata": {},
     "output_type": "display_data"
    },
    {
     "data": {
      "text/html": [
       "<pre style=\"white-space:pre;overflow-x:auto;line-height:normal;font-family:Menlo,'DejaVu Sans Mono',consolas,'Courier New',monospace\"><span style=\"color: #7fbfbf; text-decoration-color: #7fbfbf\">           </span>METRIC   Round <span style=\"color: #008080; text-decoration-color: #008080; font-weight: bold\">2</span>, collaborator one train result loss:    <span style=\"color: #008080; text-decoration-color: #008080; font-weight: bold\">0.242898</span>                                                                   <a href=\"file://C:\\Users\\BHSU\\AppData\\Local\\Programs\\Python\\Python39\\lib\\site-packages\\openfl\\component\\aggregator\\aggregator.py\" target=\"_blank\"><span style=\"color: #7f7f7f; text-decoration-color: #7f7f7f\">aggregator.py</span></a><span style=\"color: #7f7f7f; text-decoration-color: #7f7f7f\">:</span><a href=\"file://C:\\Users\\BHSU\\AppData\\Local\\Programs\\Python\\Python39\\lib\\site-packages\\openfl\\component\\aggregator\\aggregator.py#559\" target=\"_blank\"><span style=\"color: #7f7f7f; text-decoration-color: #7f7f7f\">559</span></a>\n",
       "</pre>\n"
      ],
      "text/plain": [
       "\u001b[2;36m          \u001b[0m\u001b[2;36m \u001b[0mMETRIC   Round \u001b[1;36m2\u001b[0m, collaborator one train result loss:    \u001b[1;36m0.242898\u001b[0m                                                                   \u001b]8;id=53399;file://C:\\Users\\BHSU\\AppData\\Local\\Programs\\Python\\Python39\\lib\\site-packages\\openfl\\component\\aggregator\\aggregator.py\u001b\\\u001b[2maggregator.py\u001b[0m\u001b]8;;\u001b\\\u001b[2m:\u001b[0m\u001b]8;id=9924;file://C:\\Users\\BHSU\\AppData\\Local\\Programs\\Python\\Python39\\lib\\site-packages\\openfl\\component\\aggregator\\aggregator.py#559\u001b\\\u001b[2m559\u001b[0m\u001b]8;;\u001b\\\n"
      ]
     },
     "metadata": {},
     "output_type": "display_data"
    },
    {
     "data": {
      "text/html": [
       "<pre style=\"white-space:pre;overflow-x:auto;line-height:normal;font-family:Menlo,'DejaVu Sans Mono',consolas,'Courier New',monospace\"><span style=\"color: #7fbfbf; text-decoration-color: #7fbfbf\">           </span><span style=\"color: #000080; text-decoration-color: #000080\">INFO    </span> Using TaskRunner subclassing API                                                                                         <a href=\"file://C:\\Users\\BHSU\\AppData\\Local\\Programs\\Python\\Python39\\lib\\site-packages\\openfl\\component\\collaborator\\collaborator.py\" target=\"_blank\"><span style=\"color: #7f7f7f; text-decoration-color: #7f7f7f\">collaborator.py</span></a><span style=\"color: #7f7f7f; text-decoration-color: #7f7f7f\">:</span><a href=\"file://C:\\Users\\BHSU\\AppData\\Local\\Programs\\Python\\Python39\\lib\\site-packages\\openfl\\component\\collaborator\\collaborator.py#253\" target=\"_blank\"><span style=\"color: #7f7f7f; text-decoration-color: #7f7f7f\">253</span></a>\n",
       "</pre>\n"
      ],
      "text/plain": [
       "\u001b[2;36m          \u001b[0m\u001b[2;36m \u001b[0m\u001b[34mINFO    \u001b[0m Using TaskRunner subclassing API                                                                                         \u001b]8;id=486259;file://C:\\Users\\BHSU\\AppData\\Local\\Programs\\Python\\Python39\\lib\\site-packages\\openfl\\component\\collaborator\\collaborator.py\u001b\\\u001b[2mcollaborator.py\u001b[0m\u001b]8;;\u001b\\\u001b[2m:\u001b[0m\u001b]8;id=699372;file://C:\\Users\\BHSU\\AppData\\Local\\Programs\\Python\\Python39\\lib\\site-packages\\openfl\\component\\collaborator\\collaborator.py#253\u001b\\\u001b[2m253\u001b[0m\u001b]8;;\u001b\\\n"
      ]
     },
     "metadata": {},
     "output_type": "display_data"
    },
    {
     "name": "stdout",
     "output_type": "stream",
     "text": [
      "282/282 [==============================] - 0s 523us/step - loss: 0.2174 - accuracy: 0.9326\n"
     ]
    },
    {
     "data": {
      "text/html": [
       "<pre style=\"white-space:pre;overflow-x:auto;line-height:normal;font-family:Menlo,'DejaVu Sans Mono',consolas,'Courier New',monospace\"><span style=\"color: #7fbfbf; text-decoration-color: #7fbfbf\">           </span>METRIC   Round <span style=\"color: #008080; text-decoration-color: #008080; font-weight: bold\">2</span>, collaborator one is sending metric for task locally_tuned_model_validation: accuracy   <span style=\"color: #008080; text-decoration-color: #008080; font-weight: bold\">0.932556</span>                 <a href=\"file://C:\\Users\\BHSU\\AppData\\Local\\Programs\\Python\\Python39\\lib\\site-packages\\openfl\\component\\collaborator\\collaborator.py\" target=\"_blank\"><span style=\"color: #7f7f7f; text-decoration-color: #7f7f7f\">collaborator.py</span></a><span style=\"color: #7f7f7f; text-decoration-color: #7f7f7f\">:</span><a href=\"file://C:\\Users\\BHSU\\AppData\\Local\\Programs\\Python\\Python39\\lib\\site-packages\\openfl\\component\\collaborator\\collaborator.py#415\" target=\"_blank\"><span style=\"color: #7f7f7f; text-decoration-color: #7f7f7f\">415</span></a>\n",
       "</pre>\n"
      ],
      "text/plain": [
       "\u001b[2;36m          \u001b[0m\u001b[2;36m \u001b[0mMETRIC   Round \u001b[1;36m2\u001b[0m, collaborator one is sending metric for task locally_tuned_model_validation: accuracy   \u001b[1;36m0.932556\u001b[0m                 \u001b]8;id=576357;file://C:\\Users\\BHSU\\AppData\\Local\\Programs\\Python\\Python39\\lib\\site-packages\\openfl\\component\\collaborator\\collaborator.py\u001b\\\u001b[2mcollaborator.py\u001b[0m\u001b]8;;\u001b\\\u001b[2m:\u001b[0m\u001b]8;id=967117;file://C:\\Users\\BHSU\\AppData\\Local\\Programs\\Python\\Python39\\lib\\site-packages\\openfl\\component\\collaborator\\collaborator.py#415\u001b\\\u001b[2m415\u001b[0m\u001b]8;;\u001b\\\n"
      ]
     },
     "metadata": {},
     "output_type": "display_data"
    },
    {
     "data": {
      "text/html": [
       "<pre style=\"white-space:pre;overflow-x:auto;line-height:normal;font-family:Menlo,'DejaVu Sans Mono',consolas,'Courier New',monospace\"><span style=\"color: #7fbfbf; text-decoration-color: #7fbfbf\">           </span><span style=\"color: #000080; text-decoration-color: #000080\">INFO    </span> Collaborator one is sending task results for locally_tuned_model_validation, round <span style=\"color: #008080; text-decoration-color: #008080; font-weight: bold\">2</span>                                       <a href=\"file://C:\\Users\\BHSU\\AppData\\Local\\Programs\\Python\\Python39\\lib\\site-packages\\openfl\\component\\aggregator\\aggregator.py\" target=\"_blank\"><span style=\"color: #7f7f7f; text-decoration-color: #7f7f7f\">aggregator.py</span></a><span style=\"color: #7f7f7f; text-decoration-color: #7f7f7f\">:</span><a href=\"file://C:\\Users\\BHSU\\AppData\\Local\\Programs\\Python\\Python39\\lib\\site-packages\\openfl\\component\\aggregator\\aggregator.py#520\" target=\"_blank\"><span style=\"color: #7f7f7f; text-decoration-color: #7f7f7f\">520</span></a>\n",
       "</pre>\n"
      ],
      "text/plain": [
       "\u001b[2;36m          \u001b[0m\u001b[2;36m \u001b[0m\u001b[34mINFO    \u001b[0m Collaborator one is sending task results for locally_tuned_model_validation, round \u001b[1;36m2\u001b[0m                                       \u001b]8;id=295894;file://C:\\Users\\BHSU\\AppData\\Local\\Programs\\Python\\Python39\\lib\\site-packages\\openfl\\component\\aggregator\\aggregator.py\u001b\\\u001b[2maggregator.py\u001b[0m\u001b]8;;\u001b\\\u001b[2m:\u001b[0m\u001b]8;id=869671;file://C:\\Users\\BHSU\\AppData\\Local\\Programs\\Python\\Python39\\lib\\site-packages\\openfl\\component\\aggregator\\aggregator.py#520\u001b\\\u001b[2m520\u001b[0m\u001b]8;;\u001b\\\n"
      ]
     },
     "metadata": {},
     "output_type": "display_data"
    },
    {
     "data": {
      "text/html": [
       "<pre style=\"white-space:pre;overflow-x:auto;line-height:normal;font-family:Menlo,'DejaVu Sans Mono',consolas,'Courier New',monospace\"><span style=\"color: #7fbfbf; text-decoration-color: #7fbfbf\">           </span>METRIC   Round <span style=\"color: #008080; text-decoration-color: #008080; font-weight: bold\">2</span>, collaborator validate_local locally_tuned_model_validation result accuracy:    <span style=\"color: #008080; text-decoration-color: #008080; font-weight: bold\">0.932556</span>                           <a href=\"file://C:\\Users\\BHSU\\AppData\\Local\\Programs\\Python\\Python39\\lib\\site-packages\\openfl\\component\\aggregator\\aggregator.py\" target=\"_blank\"><span style=\"color: #7f7f7f; text-decoration-color: #7f7f7f\">aggregator.py</span></a><span style=\"color: #7f7f7f; text-decoration-color: #7f7f7f\">:</span><a href=\"file://C:\\Users\\BHSU\\AppData\\Local\\Programs\\Python\\Python39\\lib\\site-packages\\openfl\\component\\aggregator\\aggregator.py#559\" target=\"_blank\"><span style=\"color: #7f7f7f; text-decoration-color: #7f7f7f\">559</span></a>\n",
       "</pre>\n"
      ],
      "text/plain": [
       "\u001b[2;36m          \u001b[0m\u001b[2;36m \u001b[0mMETRIC   Round \u001b[1;36m2\u001b[0m, collaborator validate_local locally_tuned_model_validation result accuracy:    \u001b[1;36m0.932556\u001b[0m                           \u001b]8;id=399118;file://C:\\Users\\BHSU\\AppData\\Local\\Programs\\Python\\Python39\\lib\\site-packages\\openfl\\component\\aggregator\\aggregator.py\u001b\\\u001b[2maggregator.py\u001b[0m\u001b]8;;\u001b\\\u001b[2m:\u001b[0m\u001b]8;id=413638;file://C:\\Users\\BHSU\\AppData\\Local\\Programs\\Python\\Python39\\lib\\site-packages\\openfl\\component\\aggregator\\aggregator.py#559\u001b\\\u001b[2m559\u001b[0m\u001b]8;;\u001b\\\n"
      ]
     },
     "metadata": {},
     "output_type": "display_data"
    },
    {
     "data": {
      "text/html": [
       "<pre style=\"white-space:pre;overflow-x:auto;line-height:normal;font-family:Menlo,'DejaVu Sans Mono',consolas,'Courier New',monospace\"><span style=\"color: #7fbfbf; text-decoration-color: #7fbfbf\">           </span><span style=\"color: #000080; text-decoration-color: #000080\">INFO    </span> All tasks completed on one for round <span style=\"color: #008080; text-decoration-color: #008080; font-weight: bold\">2</span><span style=\"color: #808000; text-decoration-color: #808000\">...</span>                                                                                <a href=\"file://C:\\Users\\BHSU\\AppData\\Local\\Programs\\Python\\Python39\\lib\\site-packages\\openfl\\component\\collaborator\\collaborator.py\" target=\"_blank\"><span style=\"color: #7f7f7f; text-decoration-color: #7f7f7f\">collaborator.py</span></a><span style=\"color: #7f7f7f; text-decoration-color: #7f7f7f\">:</span><a href=\"file://C:\\Users\\BHSU\\AppData\\Local\\Programs\\Python\\Python39\\lib\\site-packages\\openfl\\component\\collaborator\\collaborator.py#171\" target=\"_blank\"><span style=\"color: #7f7f7f; text-decoration-color: #7f7f7f\">171</span></a>\n",
       "</pre>\n"
      ],
      "text/plain": [
       "\u001b[2;36m          \u001b[0m\u001b[2;36m \u001b[0m\u001b[34mINFO    \u001b[0m All tasks completed on one for round \u001b[1;36m2\u001b[0m\u001b[33m...\u001b[0m                                                                                \u001b]8;id=629312;file://C:\\Users\\BHSU\\AppData\\Local\\Programs\\Python\\Python39\\lib\\site-packages\\openfl\\component\\collaborator\\collaborator.py\u001b\\\u001b[2mcollaborator.py\u001b[0m\u001b]8;;\u001b\\\u001b[2m:\u001b[0m\u001b]8;id=420442;file://C:\\Users\\BHSU\\AppData\\Local\\Programs\\Python\\Python39\\lib\\site-packages\\openfl\\component\\collaborator\\collaborator.py#171\u001b\\\u001b[2m171\u001b[0m\u001b]8;;\u001b\\\n"
      ]
     },
     "metadata": {},
     "output_type": "display_data"
    },
    {
     "data": {
      "text/html": [
       "<pre style=\"white-space:pre;overflow-x:auto;line-height:normal;font-family:Menlo,'DejaVu Sans Mono',consolas,'Courier New',monospace\"><span style=\"color: #7fbfbf; text-decoration-color: #7fbfbf\">           </span><span style=\"color: #000080; text-decoration-color: #000080\">INFO    </span> Waiting for tasks<span style=\"color: #808000; text-decoration-color: #808000\">...</span>                                                                                                     <a href=\"file://C:\\Users\\BHSU\\AppData\\Local\\Programs\\Python\\Python39\\lib\\site-packages\\openfl\\component\\collaborator\\collaborator.py\" target=\"_blank\"><span style=\"color: #7f7f7f; text-decoration-color: #7f7f7f\">collaborator.py</span></a><span style=\"color: #7f7f7f; text-decoration-color: #7f7f7f\">:</span><a href=\"file://C:\\Users\\BHSU\\AppData\\Local\\Programs\\Python\\Python39\\lib\\site-packages\\openfl\\component\\collaborator\\collaborator.py#178\" target=\"_blank\"><span style=\"color: #7f7f7f; text-decoration-color: #7f7f7f\">178</span></a>\n",
       "</pre>\n"
      ],
      "text/plain": [
       "\u001b[2;36m          \u001b[0m\u001b[2;36m \u001b[0m\u001b[34mINFO    \u001b[0m Waiting for tasks\u001b[33m...\u001b[0m                                                                                                     \u001b]8;id=528151;file://C:\\Users\\BHSU\\AppData\\Local\\Programs\\Python\\Python39\\lib\\site-packages\\openfl\\component\\collaborator\\collaborator.py\u001b\\\u001b[2mcollaborator.py\u001b[0m\u001b]8;;\u001b\\\u001b[2m:\u001b[0m\u001b]8;id=459656;file://C:\\Users\\BHSU\\AppData\\Local\\Programs\\Python\\Python39\\lib\\site-packages\\openfl\\component\\collaborator\\collaborator.py#178\u001b\\\u001b[2m178\u001b[0m\u001b]8;;\u001b\\\n"
      ]
     },
     "metadata": {},
     "output_type": "display_data"
    },
    {
     "data": {
      "text/html": [
       "<pre style=\"white-space:pre;overflow-x:auto;line-height:normal;font-family:Menlo,'DejaVu Sans Mono',consolas,'Courier New',monospace\"><span style=\"color: #7fbfbf; text-decoration-color: #7fbfbf\">           </span><span style=\"color: #000080; text-decoration-color: #000080\">INFO    </span> Sending tasks to collaborator two for round <span style=\"color: #008080; text-decoration-color: #008080; font-weight: bold\">2</span>                                                                              <a href=\"file://C:\\Users\\BHSU\\AppData\\Local\\Programs\\Python\\Python39\\lib\\site-packages\\openfl\\component\\aggregator\\aggregator.py\" target=\"_blank\"><span style=\"color: #7f7f7f; text-decoration-color: #7f7f7f\">aggregator.py</span></a><span style=\"color: #7f7f7f; text-decoration-color: #7f7f7f\">:</span><a href=\"file://C:\\Users\\BHSU\\AppData\\Local\\Programs\\Python\\Python39\\lib\\site-packages\\openfl\\component\\aggregator\\aggregator.py#329\" target=\"_blank\"><span style=\"color: #7f7f7f; text-decoration-color: #7f7f7f\">329</span></a>\n",
       "</pre>\n"
      ],
      "text/plain": [
       "\u001b[2;36m          \u001b[0m\u001b[2;36m \u001b[0m\u001b[34mINFO    \u001b[0m Sending tasks to collaborator two for round \u001b[1;36m2\u001b[0m                                                                              \u001b]8;id=771685;file://C:\\Users\\BHSU\\AppData\\Local\\Programs\\Python\\Python39\\lib\\site-packages\\openfl\\component\\aggregator\\aggregator.py\u001b\\\u001b[2maggregator.py\u001b[0m\u001b]8;;\u001b\\\u001b[2m:\u001b[0m\u001b]8;id=799268;file://C:\\Users\\BHSU\\AppData\\Local\\Programs\\Python\\Python39\\lib\\site-packages\\openfl\\component\\aggregator\\aggregator.py#329\u001b\\\u001b[2m329\u001b[0m\u001b]8;;\u001b\\\n"
      ]
     },
     "metadata": {},
     "output_type": "display_data"
    },
    {
     "data": {
      "text/html": [
       "<pre style=\"white-space:pre;overflow-x:auto;line-height:normal;font-family:Menlo,'DejaVu Sans Mono',consolas,'Courier New',monospace\"><span style=\"color: #7fbfbf; text-decoration-color: #7fbfbf\">           </span><span style=\"color: #000080; text-decoration-color: #000080\">INFO    </span> Received the following tasks: <span style=\"font-weight: bold\">[</span><span style=\"color: #008000; text-decoration-color: #008000\">'aggregated_model_validation'</span>, <span style=\"color: #008000; text-decoration-color: #008000\">'train'</span>, <span style=\"color: #008000; text-decoration-color: #008000\">'locally_tuned_model_validation'</span><span style=\"font-weight: bold\">]</span>                 <a href=\"file://C:\\Users\\BHSU\\AppData\\Local\\Programs\\Python\\Python39\\lib\\site-packages\\openfl\\component\\collaborator\\collaborator.py\" target=\"_blank\"><span style=\"color: #7f7f7f; text-decoration-color: #7f7f7f\">collaborator.py</span></a><span style=\"color: #7f7f7f; text-decoration-color: #7f7f7f\">:</span><a href=\"file://C:\\Users\\BHSU\\AppData\\Local\\Programs\\Python\\Python39\\lib\\site-packages\\openfl\\component\\collaborator\\collaborator.py#168\" target=\"_blank\"><span style=\"color: #7f7f7f; text-decoration-color: #7f7f7f\">168</span></a>\n",
       "</pre>\n"
      ],
      "text/plain": [
       "\u001b[2;36m          \u001b[0m\u001b[2;36m \u001b[0m\u001b[34mINFO    \u001b[0m Received the following tasks: \u001b[1m[\u001b[0m\u001b[32m'aggregated_model_validation'\u001b[0m, \u001b[32m'train'\u001b[0m, \u001b[32m'locally_tuned_model_validation'\u001b[0m\u001b[1m]\u001b[0m                 \u001b]8;id=61110;file://C:\\Users\\BHSU\\AppData\\Local\\Programs\\Python\\Python39\\lib\\site-packages\\openfl\\component\\collaborator\\collaborator.py\u001b\\\u001b[2mcollaborator.py\u001b[0m\u001b]8;;\u001b\\\u001b[2m:\u001b[0m\u001b]8;id=349853;file://C:\\Users\\BHSU\\AppData\\Local\\Programs\\Python\\Python39\\lib\\site-packages\\openfl\\component\\collaborator\\collaborator.py#168\u001b\\\u001b[2m168\u001b[0m\u001b]8;;\u001b\\\n"
      ]
     },
     "metadata": {},
     "output_type": "display_data"
    },
    {
     "data": {
      "text/html": [
       "<pre style=\"white-space:pre;overflow-x:auto;line-height:normal;font-family:Menlo,'DejaVu Sans Mono',consolas,'Courier New',monospace\"><span style=\"color: #7fbfbf; text-decoration-color: #7fbfbf\">           </span><span style=\"color: #000080; text-decoration-color: #000080\">INFO    </span> Using TaskRunner subclassing API                                                                                         <a href=\"file://C:\\Users\\BHSU\\AppData\\Local\\Programs\\Python\\Python39\\lib\\site-packages\\openfl\\component\\collaborator\\collaborator.py\" target=\"_blank\"><span style=\"color: #7f7f7f; text-decoration-color: #7f7f7f\">collaborator.py</span></a><span style=\"color: #7f7f7f; text-decoration-color: #7f7f7f\">:</span><a href=\"file://C:\\Users\\BHSU\\AppData\\Local\\Programs\\Python\\Python39\\lib\\site-packages\\openfl\\component\\collaborator\\collaborator.py#253\" target=\"_blank\"><span style=\"color: #7f7f7f; text-decoration-color: #7f7f7f\">253</span></a>\n",
       "</pre>\n"
      ],
      "text/plain": [
       "\u001b[2;36m          \u001b[0m\u001b[2;36m \u001b[0m\u001b[34mINFO    \u001b[0m Using TaskRunner subclassing API                                                                                         \u001b]8;id=136827;file://C:\\Users\\BHSU\\AppData\\Local\\Programs\\Python\\Python39\\lib\\site-packages\\openfl\\component\\collaborator\\collaborator.py\u001b\\\u001b[2mcollaborator.py\u001b[0m\u001b]8;;\u001b\\\u001b[2m:\u001b[0m\u001b]8;id=477978;file://C:\\Users\\BHSU\\AppData\\Local\\Programs\\Python\\Python39\\lib\\site-packages\\openfl\\component\\collaborator\\collaborator.py#253\u001b\\\u001b[2m253\u001b[0m\u001b]8;;\u001b\\\n"
      ]
     },
     "metadata": {},
     "output_type": "display_data"
    },
    {
     "name": "stdout",
     "output_type": "stream",
     "text": [
      "282/282 [==============================] - 0s 530us/step - loss: 0.2540 - accuracy: 0.9224\n"
     ]
    },
    {
     "data": {
      "text/html": [
       "<pre style=\"white-space:pre;overflow-x:auto;line-height:normal;font-family:Menlo,'DejaVu Sans Mono',consolas,'Courier New',monospace\"><span style=\"color: #7fbfbf; text-decoration-color: #7fbfbf\">           </span>METRIC   Round <span style=\"color: #008080; text-decoration-color: #008080; font-weight: bold\">2</span>, collaborator two is sending metric for task aggregated_model_validation: accuracy      <span style=\"color: #008080; text-decoration-color: #008080; font-weight: bold\">0.922444</span>                 <a href=\"file://C:\\Users\\BHSU\\AppData\\Local\\Programs\\Python\\Python39\\lib\\site-packages\\openfl\\component\\collaborator\\collaborator.py\" target=\"_blank\"><span style=\"color: #7f7f7f; text-decoration-color: #7f7f7f\">collaborator.py</span></a><span style=\"color: #7f7f7f; text-decoration-color: #7f7f7f\">:</span><a href=\"file://C:\\Users\\BHSU\\AppData\\Local\\Programs\\Python\\Python39\\lib\\site-packages\\openfl\\component\\collaborator\\collaborator.py#415\" target=\"_blank\"><span style=\"color: #7f7f7f; text-decoration-color: #7f7f7f\">415</span></a>\n",
       "</pre>\n"
      ],
      "text/plain": [
       "\u001b[2;36m          \u001b[0m\u001b[2;36m \u001b[0mMETRIC   Round \u001b[1;36m2\u001b[0m, collaborator two is sending metric for task aggregated_model_validation: accuracy      \u001b[1;36m0.922444\u001b[0m                 \u001b]8;id=90081;file://C:\\Users\\BHSU\\AppData\\Local\\Programs\\Python\\Python39\\lib\\site-packages\\openfl\\component\\collaborator\\collaborator.py\u001b\\\u001b[2mcollaborator.py\u001b[0m\u001b]8;;\u001b\\\u001b[2m:\u001b[0m\u001b]8;id=451420;file://C:\\Users\\BHSU\\AppData\\Local\\Programs\\Python\\Python39\\lib\\site-packages\\openfl\\component\\collaborator\\collaborator.py#415\u001b\\\u001b[2m415\u001b[0m\u001b]8;;\u001b\\\n"
      ]
     },
     "metadata": {},
     "output_type": "display_data"
    },
    {
     "data": {
      "text/html": [
       "<pre style=\"white-space:pre;overflow-x:auto;line-height:normal;font-family:Menlo,'DejaVu Sans Mono',consolas,'Courier New',monospace\"><span style=\"color: #7fbfbf; text-decoration-color: #7fbfbf\">           </span><span style=\"color: #000080; text-decoration-color: #000080\">INFO    </span> Collaborator two is sending task results for aggregated_model_validation, round <span style=\"color: #008080; text-decoration-color: #008080; font-weight: bold\">2</span>                                          <a href=\"file://C:\\Users\\BHSU\\AppData\\Local\\Programs\\Python\\Python39\\lib\\site-packages\\openfl\\component\\aggregator\\aggregator.py\" target=\"_blank\"><span style=\"color: #7f7f7f; text-decoration-color: #7f7f7f\">aggregator.py</span></a><span style=\"color: #7f7f7f; text-decoration-color: #7f7f7f\">:</span><a href=\"file://C:\\Users\\BHSU\\AppData\\Local\\Programs\\Python\\Python39\\lib\\site-packages\\openfl\\component\\aggregator\\aggregator.py#520\" target=\"_blank\"><span style=\"color: #7f7f7f; text-decoration-color: #7f7f7f\">520</span></a>\n",
       "</pre>\n"
      ],
      "text/plain": [
       "\u001b[2;36m          \u001b[0m\u001b[2;36m \u001b[0m\u001b[34mINFO    \u001b[0m Collaborator two is sending task results for aggregated_model_validation, round \u001b[1;36m2\u001b[0m                                          \u001b]8;id=755000;file://C:\\Users\\BHSU\\AppData\\Local\\Programs\\Python\\Python39\\lib\\site-packages\\openfl\\component\\aggregator\\aggregator.py\u001b\\\u001b[2maggregator.py\u001b[0m\u001b]8;;\u001b\\\u001b[2m:\u001b[0m\u001b]8;id=473561;file://C:\\Users\\BHSU\\AppData\\Local\\Programs\\Python\\Python39\\lib\\site-packages\\openfl\\component\\aggregator\\aggregator.py#520\u001b\\\u001b[2m520\u001b[0m\u001b]8;;\u001b\\\n"
      ]
     },
     "metadata": {},
     "output_type": "display_data"
    },
    {
     "data": {
      "text/html": [
       "<pre style=\"white-space:pre;overflow-x:auto;line-height:normal;font-family:Menlo,'DejaVu Sans Mono',consolas,'Courier New',monospace\"><span style=\"color: #7fbfbf; text-decoration-color: #7fbfbf\">           </span>METRIC   Round <span style=\"color: #008080; text-decoration-color: #008080; font-weight: bold\">2</span>, collaborator validate_agg aggregated_model_validation result accuracy: <span style=\"color: #008080; text-decoration-color: #008080; font-weight: bold\">0.922444</span>                                   <a href=\"file://C:\\Users\\BHSU\\AppData\\Local\\Programs\\Python\\Python39\\lib\\site-packages\\openfl\\component\\aggregator\\aggregator.py\" target=\"_blank\"><span style=\"color: #7f7f7f; text-decoration-color: #7f7f7f\">aggregator.py</span></a><span style=\"color: #7f7f7f; text-decoration-color: #7f7f7f\">:</span><a href=\"file://C:\\Users\\BHSU\\AppData\\Local\\Programs\\Python\\Python39\\lib\\site-packages\\openfl\\component\\aggregator\\aggregator.py#559\" target=\"_blank\"><span style=\"color: #7f7f7f; text-decoration-color: #7f7f7f\">559</span></a>\n",
       "</pre>\n"
      ],
      "text/plain": [
       "\u001b[2;36m          \u001b[0m\u001b[2;36m \u001b[0mMETRIC   Round \u001b[1;36m2\u001b[0m, collaborator validate_agg aggregated_model_validation result accuracy: \u001b[1;36m0.922444\u001b[0m                                   \u001b]8;id=703634;file://C:\\Users\\BHSU\\AppData\\Local\\Programs\\Python\\Python39\\lib\\site-packages\\openfl\\component\\aggregator\\aggregator.py\u001b\\\u001b[2maggregator.py\u001b[0m\u001b]8;;\u001b\\\u001b[2m:\u001b[0m\u001b]8;id=632166;file://C:\\Users\\BHSU\\AppData\\Local\\Programs\\Python\\Python39\\lib\\site-packages\\openfl\\component\\aggregator\\aggregator.py#559\u001b\\\u001b[2m559\u001b[0m\u001b]8;;\u001b\\\n"
      ]
     },
     "metadata": {},
     "output_type": "display_data"
    },
    {
     "data": {
      "text/html": [
       "<pre style=\"white-space:pre;overflow-x:auto;line-height:normal;font-family:Menlo,'DejaVu Sans Mono',consolas,'Courier New',monospace\"><span style=\"color: #7fbfbf; text-decoration-color: #7fbfbf\">           </span><span style=\"color: #000080; text-decoration-color: #000080\">INFO    </span> Using TaskRunner subclassing API                                                                                         <a href=\"file://C:\\Users\\BHSU\\AppData\\Local\\Programs\\Python\\Python39\\lib\\site-packages\\openfl\\component\\collaborator\\collaborator.py\" target=\"_blank\"><span style=\"color: #7f7f7f; text-decoration-color: #7f7f7f\">collaborator.py</span></a><span style=\"color: #7f7f7f; text-decoration-color: #7f7f7f\">:</span><a href=\"file://C:\\Users\\BHSU\\AppData\\Local\\Programs\\Python\\Python39\\lib\\site-packages\\openfl\\component\\collaborator\\collaborator.py#253\" target=\"_blank\"><span style=\"color: #7f7f7f; text-decoration-color: #7f7f7f\">253</span></a>\n",
       "</pre>\n"
      ],
      "text/plain": [
       "\u001b[2;36m          \u001b[0m\u001b[2;36m \u001b[0m\u001b[34mINFO    \u001b[0m Using TaskRunner subclassing API                                                                                         \u001b]8;id=824996;file://C:\\Users\\BHSU\\AppData\\Local\\Programs\\Python\\Python39\\lib\\site-packages\\openfl\\component\\collaborator\\collaborator.py\u001b\\\u001b[2mcollaborator.py\u001b[0m\u001b]8;;\u001b\\\u001b[2m:\u001b[0m\u001b]8;id=619978;file://C:\\Users\\BHSU\\AppData\\Local\\Programs\\Python\\Python39\\lib\\site-packages\\openfl\\component\\collaborator\\collaborator.py#253\u001b\\\u001b[2m253\u001b[0m\u001b]8;;\u001b\\\n"
      ]
     },
     "metadata": {},
     "output_type": "display_data"
    },
    {
     "data": {
      "text/html": [
       "<pre style=\"white-space:pre;overflow-x:auto;line-height:normal;font-family:Menlo,'DejaVu Sans Mono',consolas,'Courier New',monospace\"><span style=\"color: #7fbfbf; text-decoration-color: #7fbfbf\">           </span><span style=\"color: #000080; text-decoration-color: #000080\">INFO    </span> Run <span style=\"color: #008080; text-decoration-color: #008080; font-weight: bold\">0</span> epoch of <span style=\"color: #008080; text-decoration-color: #008080; font-weight: bold\">2</span> round                                                                                                    <a href=\"file://C:\\Users\\BHSU\\AppData\\Local\\Programs\\Python\\Python39\\lib\\site-packages\\openfl\\federated\\task\\runner_keras.py\" target=\"_blank\"><span style=\"color: #7f7f7f; text-decoration-color: #7f7f7f\">runner_keras.py</span></a><span style=\"color: #7f7f7f; text-decoration-color: #7f7f7f\">:</span><a href=\"file://C:\\Users\\BHSU\\AppData\\Local\\Programs\\Python\\Python39\\lib\\site-packages\\openfl\\federated\\task\\runner_keras.py#83\" target=\"_blank\"><span style=\"color: #7f7f7f; text-decoration-color: #7f7f7f\">83</span></a>\n",
       "</pre>\n"
      ],
      "text/plain": [
       "\u001b[2;36m          \u001b[0m\u001b[2;36m \u001b[0m\u001b[34mINFO    \u001b[0m Run \u001b[1;36m0\u001b[0m epoch of \u001b[1;36m2\u001b[0m round                                                                                                    \u001b]8;id=142139;file://C:\\Users\\BHSU\\AppData\\Local\\Programs\\Python\\Python39\\lib\\site-packages\\openfl\\federated\\task\\runner_keras.py\u001b\\\u001b[2mrunner_keras.py\u001b[0m\u001b]8;;\u001b\\\u001b[2m:\u001b[0m\u001b]8;id=663954;file://C:\\Users\\BHSU\\AppData\\Local\\Programs\\Python\\Python39\\lib\\site-packages\\openfl\\federated\\task\\runner_keras.py#83\u001b\\\u001b[2m83\u001b[0m\u001b]8;;\u001b\\\n"
      ]
     },
     "metadata": {},
     "output_type": "display_data"
    },
    {
     "name": "stdout",
     "output_type": "stream",
     "text": [
      "657/657 [==============================] - 0s 620us/step - loss: 0.2259 - accuracy: 0.9303\n"
     ]
    },
    {
     "data": {
      "text/html": [
       "<pre style=\"white-space:pre;overflow-x:auto;line-height:normal;font-family:Menlo,'DejaVu Sans Mono',consolas,'Courier New',monospace\"><span style=\"color: #7fbfbf; text-decoration-color: #7fbfbf\">[08:29:05] </span>METRIC   Round <span style=\"color: #008080; text-decoration-color: #008080; font-weight: bold\">2</span>, collaborator two is sending metric for task train: loss        <span style=\"color: #008080; text-decoration-color: #008080; font-weight: bold\">0.225852</span>                                         <a href=\"file://C:\\Users\\BHSU\\AppData\\Local\\Programs\\Python\\Python39\\lib\\site-packages\\openfl\\component\\collaborator\\collaborator.py\" target=\"_blank\"><span style=\"color: #7f7f7f; text-decoration-color: #7f7f7f\">collaborator.py</span></a><span style=\"color: #7f7f7f; text-decoration-color: #7f7f7f\">:</span><a href=\"file://C:\\Users\\BHSU\\AppData\\Local\\Programs\\Python\\Python39\\lib\\site-packages\\openfl\\component\\collaborator\\collaborator.py#415\" target=\"_blank\"><span style=\"color: #7f7f7f; text-decoration-color: #7f7f7f\">415</span></a>\n",
       "</pre>\n"
      ],
      "text/plain": [
       "\u001b[2;36m[08:29:05]\u001b[0m\u001b[2;36m \u001b[0mMETRIC   Round \u001b[1;36m2\u001b[0m, collaborator two is sending metric for task train: loss        \u001b[1;36m0.225852\u001b[0m                                         \u001b]8;id=827852;file://C:\\Users\\BHSU\\AppData\\Local\\Programs\\Python\\Python39\\lib\\site-packages\\openfl\\component\\collaborator\\collaborator.py\u001b\\\u001b[2mcollaborator.py\u001b[0m\u001b]8;;\u001b\\\u001b[2m:\u001b[0m\u001b]8;id=281452;file://C:\\Users\\BHSU\\AppData\\Local\\Programs\\Python\\Python39\\lib\\site-packages\\openfl\\component\\collaborator\\collaborator.py#415\u001b\\\u001b[2m415\u001b[0m\u001b]8;;\u001b\\\n"
      ]
     },
     "metadata": {},
     "output_type": "display_data"
    },
    {
     "data": {
      "text/html": [
       "<pre style=\"white-space:pre;overflow-x:auto;line-height:normal;font-family:Menlo,'DejaVu Sans Mono',consolas,'Courier New',monospace\"><span style=\"color: #7fbfbf; text-decoration-color: #7fbfbf\">           </span><span style=\"color: #000080; text-decoration-color: #000080\">INFO    </span> Collaborator two is sending task results for train, round <span style=\"color: #008080; text-decoration-color: #008080; font-weight: bold\">2</span>                                                                <a href=\"file://C:\\Users\\BHSU\\AppData\\Local\\Programs\\Python\\Python39\\lib\\site-packages\\openfl\\component\\aggregator\\aggregator.py\" target=\"_blank\"><span style=\"color: #7f7f7f; text-decoration-color: #7f7f7f\">aggregator.py</span></a><span style=\"color: #7f7f7f; text-decoration-color: #7f7f7f\">:</span><a href=\"file://C:\\Users\\BHSU\\AppData\\Local\\Programs\\Python\\Python39\\lib\\site-packages\\openfl\\component\\aggregator\\aggregator.py#520\" target=\"_blank\"><span style=\"color: #7f7f7f; text-decoration-color: #7f7f7f\">520</span></a>\n",
       "</pre>\n"
      ],
      "text/plain": [
       "\u001b[2;36m          \u001b[0m\u001b[2;36m \u001b[0m\u001b[34mINFO    \u001b[0m Collaborator two is sending task results for train, round \u001b[1;36m2\u001b[0m                                                                \u001b]8;id=952927;file://C:\\Users\\BHSU\\AppData\\Local\\Programs\\Python\\Python39\\lib\\site-packages\\openfl\\component\\aggregator\\aggregator.py\u001b\\\u001b[2maggregator.py\u001b[0m\u001b]8;;\u001b\\\u001b[2m:\u001b[0m\u001b]8;id=788447;file://C:\\Users\\BHSU\\AppData\\Local\\Programs\\Python\\Python39\\lib\\site-packages\\openfl\\component\\aggregator\\aggregator.py#520\u001b\\\u001b[2m520\u001b[0m\u001b]8;;\u001b\\\n"
      ]
     },
     "metadata": {},
     "output_type": "display_data"
    },
    {
     "data": {
      "text/html": [
       "<pre style=\"white-space:pre;overflow-x:auto;line-height:normal;font-family:Menlo,'DejaVu Sans Mono',consolas,'Courier New',monospace\"><span style=\"color: #7fbfbf; text-decoration-color: #7fbfbf\">           </span>METRIC   Round <span style=\"color: #008080; text-decoration-color: #008080; font-weight: bold\">2</span>, collaborator two train result loss:    <span style=\"color: #008080; text-decoration-color: #008080; font-weight: bold\">0.225852</span>                                                                   <a href=\"file://C:\\Users\\BHSU\\AppData\\Local\\Programs\\Python\\Python39\\lib\\site-packages\\openfl\\component\\aggregator\\aggregator.py\" target=\"_blank\"><span style=\"color: #7f7f7f; text-decoration-color: #7f7f7f\">aggregator.py</span></a><span style=\"color: #7f7f7f; text-decoration-color: #7f7f7f\">:</span><a href=\"file://C:\\Users\\BHSU\\AppData\\Local\\Programs\\Python\\Python39\\lib\\site-packages\\openfl\\component\\aggregator\\aggregator.py#559\" target=\"_blank\"><span style=\"color: #7f7f7f; text-decoration-color: #7f7f7f\">559</span></a>\n",
       "</pre>\n"
      ],
      "text/plain": [
       "\u001b[2;36m          \u001b[0m\u001b[2;36m \u001b[0mMETRIC   Round \u001b[1;36m2\u001b[0m, collaborator two train result loss:    \u001b[1;36m0.225852\u001b[0m                                                                   \u001b]8;id=25514;file://C:\\Users\\BHSU\\AppData\\Local\\Programs\\Python\\Python39\\lib\\site-packages\\openfl\\component\\aggregator\\aggregator.py\u001b\\\u001b[2maggregator.py\u001b[0m\u001b]8;;\u001b\\\u001b[2m:\u001b[0m\u001b]8;id=735007;file://C:\\Users\\BHSU\\AppData\\Local\\Programs\\Python\\Python39\\lib\\site-packages\\openfl\\component\\aggregator\\aggregator.py#559\u001b\\\u001b[2m559\u001b[0m\u001b]8;;\u001b\\\n"
      ]
     },
     "metadata": {},
     "output_type": "display_data"
    },
    {
     "data": {
      "text/html": [
       "<pre style=\"white-space:pre;overflow-x:auto;line-height:normal;font-family:Menlo,'DejaVu Sans Mono',consolas,'Courier New',monospace\"><span style=\"color: #7fbfbf; text-decoration-color: #7fbfbf\">           </span><span style=\"color: #000080; text-decoration-color: #000080\">INFO    </span> Using TaskRunner subclassing API                                                                                         <a href=\"file://C:\\Users\\BHSU\\AppData\\Local\\Programs\\Python\\Python39\\lib\\site-packages\\openfl\\component\\collaborator\\collaborator.py\" target=\"_blank\"><span style=\"color: #7f7f7f; text-decoration-color: #7f7f7f\">collaborator.py</span></a><span style=\"color: #7f7f7f; text-decoration-color: #7f7f7f\">:</span><a href=\"file://C:\\Users\\BHSU\\AppData\\Local\\Programs\\Python\\Python39\\lib\\site-packages\\openfl\\component\\collaborator\\collaborator.py#253\" target=\"_blank\"><span style=\"color: #7f7f7f; text-decoration-color: #7f7f7f\">253</span></a>\n",
       "</pre>\n"
      ],
      "text/plain": [
       "\u001b[2;36m          \u001b[0m\u001b[2;36m \u001b[0m\u001b[34mINFO    \u001b[0m Using TaskRunner subclassing API                                                                                         \u001b]8;id=468555;file://C:\\Users\\BHSU\\AppData\\Local\\Programs\\Python\\Python39\\lib\\site-packages\\openfl\\component\\collaborator\\collaborator.py\u001b\\\u001b[2mcollaborator.py\u001b[0m\u001b]8;;\u001b\\\u001b[2m:\u001b[0m\u001b]8;id=946105;file://C:\\Users\\BHSU\\AppData\\Local\\Programs\\Python\\Python39\\lib\\site-packages\\openfl\\component\\collaborator\\collaborator.py#253\u001b\\\u001b[2m253\u001b[0m\u001b]8;;\u001b\\\n"
      ]
     },
     "metadata": {},
     "output_type": "display_data"
    },
    {
     "name": "stdout",
     "output_type": "stream",
     "text": [
      "282/282 [==============================] - 0s 480us/step - loss: 0.2404 - accuracy: 0.9293\n"
     ]
    },
    {
     "data": {
      "text/html": [
       "<pre style=\"white-space:pre;overflow-x:auto;line-height:normal;font-family:Menlo,'DejaVu Sans Mono',consolas,'Courier New',monospace\"><span style=\"color: #7fbfbf; text-decoration-color: #7fbfbf\">           </span>METRIC   Round <span style=\"color: #008080; text-decoration-color: #008080; font-weight: bold\">2</span>, collaborator two is sending metric for task locally_tuned_model_validation: accuracy   <span style=\"color: #008080; text-decoration-color: #008080; font-weight: bold\">0.929333</span>                 <a href=\"file://C:\\Users\\BHSU\\AppData\\Local\\Programs\\Python\\Python39\\lib\\site-packages\\openfl\\component\\collaborator\\collaborator.py\" target=\"_blank\"><span style=\"color: #7f7f7f; text-decoration-color: #7f7f7f\">collaborator.py</span></a><span style=\"color: #7f7f7f; text-decoration-color: #7f7f7f\">:</span><a href=\"file://C:\\Users\\BHSU\\AppData\\Local\\Programs\\Python\\Python39\\lib\\site-packages\\openfl\\component\\collaborator\\collaborator.py#415\" target=\"_blank\"><span style=\"color: #7f7f7f; text-decoration-color: #7f7f7f\">415</span></a>\n",
       "</pre>\n"
      ],
      "text/plain": [
       "\u001b[2;36m          \u001b[0m\u001b[2;36m \u001b[0mMETRIC   Round \u001b[1;36m2\u001b[0m, collaborator two is sending metric for task locally_tuned_model_validation: accuracy   \u001b[1;36m0.929333\u001b[0m                 \u001b]8;id=448037;file://C:\\Users\\BHSU\\AppData\\Local\\Programs\\Python\\Python39\\lib\\site-packages\\openfl\\component\\collaborator\\collaborator.py\u001b\\\u001b[2mcollaborator.py\u001b[0m\u001b]8;;\u001b\\\u001b[2m:\u001b[0m\u001b]8;id=723693;file://C:\\Users\\BHSU\\AppData\\Local\\Programs\\Python\\Python39\\lib\\site-packages\\openfl\\component\\collaborator\\collaborator.py#415\u001b\\\u001b[2m415\u001b[0m\u001b]8;;\u001b\\\n"
      ]
     },
     "metadata": {},
     "output_type": "display_data"
    },
    {
     "data": {
      "text/html": [
       "<pre style=\"white-space:pre;overflow-x:auto;line-height:normal;font-family:Menlo,'DejaVu Sans Mono',consolas,'Courier New',monospace\"><span style=\"color: #7fbfbf; text-decoration-color: #7fbfbf\">           </span><span style=\"color: #000080; text-decoration-color: #000080\">INFO    </span> Collaborator two is sending task results for locally_tuned_model_validation, round <span style=\"color: #008080; text-decoration-color: #008080; font-weight: bold\">2</span>                                       <a href=\"file://C:\\Users\\BHSU\\AppData\\Local\\Programs\\Python\\Python39\\lib\\site-packages\\openfl\\component\\aggregator\\aggregator.py\" target=\"_blank\"><span style=\"color: #7f7f7f; text-decoration-color: #7f7f7f\">aggregator.py</span></a><span style=\"color: #7f7f7f; text-decoration-color: #7f7f7f\">:</span><a href=\"file://C:\\Users\\BHSU\\AppData\\Local\\Programs\\Python\\Python39\\lib\\site-packages\\openfl\\component\\aggregator\\aggregator.py#520\" target=\"_blank\"><span style=\"color: #7f7f7f; text-decoration-color: #7f7f7f\">520</span></a>\n",
       "</pre>\n"
      ],
      "text/plain": [
       "\u001b[2;36m          \u001b[0m\u001b[2;36m \u001b[0m\u001b[34mINFO    \u001b[0m Collaborator two is sending task results for locally_tuned_model_validation, round \u001b[1;36m2\u001b[0m                                       \u001b]8;id=382538;file://C:\\Users\\BHSU\\AppData\\Local\\Programs\\Python\\Python39\\lib\\site-packages\\openfl\\component\\aggregator\\aggregator.py\u001b\\\u001b[2maggregator.py\u001b[0m\u001b]8;;\u001b\\\u001b[2m:\u001b[0m\u001b]8;id=38598;file://C:\\Users\\BHSU\\AppData\\Local\\Programs\\Python\\Python39\\lib\\site-packages\\openfl\\component\\aggregator\\aggregator.py#520\u001b\\\u001b[2m520\u001b[0m\u001b]8;;\u001b\\\n"
      ]
     },
     "metadata": {},
     "output_type": "display_data"
    },
    {
     "data": {
      "text/html": [
       "<pre style=\"white-space:pre;overflow-x:auto;line-height:normal;font-family:Menlo,'DejaVu Sans Mono',consolas,'Courier New',monospace\"><span style=\"color: #7fbfbf; text-decoration-color: #7fbfbf\">           </span>METRIC   Round <span style=\"color: #008080; text-decoration-color: #008080; font-weight: bold\">2</span>, collaborator validate_local locally_tuned_model_validation result accuracy:    <span style=\"color: #008080; text-decoration-color: #008080; font-weight: bold\">0.929333</span>                           <a href=\"file://C:\\Users\\BHSU\\AppData\\Local\\Programs\\Python\\Python39\\lib\\site-packages\\openfl\\component\\aggregator\\aggregator.py\" target=\"_blank\"><span style=\"color: #7f7f7f; text-decoration-color: #7f7f7f\">aggregator.py</span></a><span style=\"color: #7f7f7f; text-decoration-color: #7f7f7f\">:</span><a href=\"file://C:\\Users\\BHSU\\AppData\\Local\\Programs\\Python\\Python39\\lib\\site-packages\\openfl\\component\\aggregator\\aggregator.py#559\" target=\"_blank\"><span style=\"color: #7f7f7f; text-decoration-color: #7f7f7f\">559</span></a>\n",
       "</pre>\n"
      ],
      "text/plain": [
       "\u001b[2;36m          \u001b[0m\u001b[2;36m \u001b[0mMETRIC   Round \u001b[1;36m2\u001b[0m, collaborator validate_local locally_tuned_model_validation result accuracy:    \u001b[1;36m0.929333\u001b[0m                           \u001b]8;id=241295;file://C:\\Users\\BHSU\\AppData\\Local\\Programs\\Python\\Python39\\lib\\site-packages\\openfl\\component\\aggregator\\aggregator.py\u001b\\\u001b[2maggregator.py\u001b[0m\u001b]8;;\u001b\\\u001b[2m:\u001b[0m\u001b]8;id=752802;file://C:\\Users\\BHSU\\AppData\\Local\\Programs\\Python\\Python39\\lib\\site-packages\\openfl\\component\\aggregator\\aggregator.py#559\u001b\\\u001b[2m559\u001b[0m\u001b]8;;\u001b\\\n"
      ]
     },
     "metadata": {},
     "output_type": "display_data"
    },
    {
     "data": {
      "text/html": [
       "<pre style=\"white-space:pre;overflow-x:auto;line-height:normal;font-family:Menlo,'DejaVu Sans Mono',consolas,'Courier New',monospace\"><span style=\"color: #7fbfbf; text-decoration-color: #7fbfbf\">           </span>METRIC   Round <span style=\"color: #008080; text-decoration-color: #008080; font-weight: bold\">2</span>, aggregator: locally_tuned_model_validation                                                                        <a href=\"file://C:\\Users\\BHSU\\AppData\\Local\\Programs\\Python\\Python39\\lib\\site-packages\\openfl\\component\\aggregator\\aggregator.py\" target=\"_blank\"><span style=\"color: #7f7f7f; text-decoration-color: #7f7f7f\">aggregator.py</span></a><span style=\"color: #7f7f7f; text-decoration-color: #7f7f7f\">:</span><a href=\"file://C:\\Users\\BHSU\\AppData\\Local\\Programs\\Python\\Python39\\lib\\site-packages\\openfl\\component\\aggregator\\aggregator.py#842\" target=\"_blank\"><span style=\"color: #7f7f7f; text-decoration-color: #7f7f7f\">842</span></a>\n",
       "<span style=\"color: #7fbfbf; text-decoration-color: #7fbfbf\">           </span>         <span style=\"font-weight: bold\">&lt;</span><span style=\"color: #ff00ff; text-decoration-color: #ff00ff; font-weight: bold\">openfl.interface.aggregation_functions.weighted_average.WeightedAverage</span><span style=\"color: #000000; text-decoration-color: #000000\"> object at </span><span style=\"color: #008080; text-decoration-color: #008080; font-weight: bold\">0x0000024658124790</span><span style=\"font-weight: bold\">&gt;</span> accuracy:           <span style=\"color: #7f7f7f; text-decoration-color: #7f7f7f\">                 </span>\n",
       "<span style=\"color: #7fbfbf; text-decoration-color: #7fbfbf\">           </span>         <span style=\"color: #008080; text-decoration-color: #008080; font-weight: bold\">0.930944</span>                                                                                                                   <span style=\"color: #7f7f7f; text-decoration-color: #7f7f7f\">                 </span>\n",
       "</pre>\n"
      ],
      "text/plain": [
       "\u001b[2;36m          \u001b[0m\u001b[2;36m \u001b[0mMETRIC   Round \u001b[1;36m2\u001b[0m, aggregator: locally_tuned_model_validation                                                                        \u001b]8;id=867590;file://C:\\Users\\BHSU\\AppData\\Local\\Programs\\Python\\Python39\\lib\\site-packages\\openfl\\component\\aggregator\\aggregator.py\u001b\\\u001b[2maggregator.py\u001b[0m\u001b]8;;\u001b\\\u001b[2m:\u001b[0m\u001b]8;id=766015;file://C:\\Users\\BHSU\\AppData\\Local\\Programs\\Python\\Python39\\lib\\site-packages\\openfl\\component\\aggregator\\aggregator.py#842\u001b\\\u001b[2m842\u001b[0m\u001b]8;;\u001b\\\n",
       "\u001b[2;36m           \u001b[0m         \u001b[1m<\u001b[0m\u001b[1;95mopenfl.interface.aggregation_functions.weighted_average.WeightedAverage\u001b[0m\u001b[39m object at \u001b[0m\u001b[1;36m0x0000024658124790\u001b[0m\u001b[1m>\u001b[0m accuracy:           \u001b[2m                 \u001b[0m\n",
       "\u001b[2;36m           \u001b[0m         \u001b[1;36m0.930944\u001b[0m                                                                                                                   \u001b[2m                 \u001b[0m\n"
      ]
     },
     "metadata": {},
     "output_type": "display_data"
    },
    {
     "data": {
      "text/html": [
       "<pre style=\"white-space:pre;overflow-x:auto;line-height:normal;font-family:Menlo,'DejaVu Sans Mono',consolas,'Courier New',monospace\"><span style=\"color: #7fbfbf; text-decoration-color: #7fbfbf\">           </span>METRIC   Round <span style=\"color: #008080; text-decoration-color: #008080; font-weight: bold\">2</span>, aggregator: aggregated_model_validation <span style=\"font-weight: bold\">&lt;</span><span style=\"color: #ff00ff; text-decoration-color: #ff00ff; font-weight: bold\">openfl.interface.aggregation_functions.weighted_average.WeightedAverage</span><span style=\"color: #000000; text-decoration-color: #000000\"> </span> <a href=\"file://C:\\Users\\BHSU\\AppData\\Local\\Programs\\Python\\Python39\\lib\\site-packages\\openfl\\component\\aggregator\\aggregator.py\" target=\"_blank\"><span style=\"color: #7f7f7f; text-decoration-color: #7f7f7f\">aggregator.py</span></a><span style=\"color: #7f7f7f; text-decoration-color: #7f7f7f\">:</span><a href=\"file://C:\\Users\\BHSU\\AppData\\Local\\Programs\\Python\\Python39\\lib\\site-packages\\openfl\\component\\aggregator\\aggregator.py#842\" target=\"_blank\"><span style=\"color: #7f7f7f; text-decoration-color: #7f7f7f\">842</span></a>\n",
       "<span style=\"color: #7fbfbf; text-decoration-color: #7fbfbf\">           </span>         <span style=\"color: #000000; text-decoration-color: #000000\">object at </span><span style=\"color: #008080; text-decoration-color: #008080; font-weight: bold\">0x0000024658124790</span><span style=\"font-weight: bold\">&gt;</span> accuracy:       <span style=\"color: #008080; text-decoration-color: #008080; font-weight: bold\">0.924222</span>                                                                     <span style=\"color: #7f7f7f; text-decoration-color: #7f7f7f\">                 </span>\n",
       "</pre>\n"
      ],
      "text/plain": [
       "\u001b[2;36m          \u001b[0m\u001b[2;36m \u001b[0mMETRIC   Round \u001b[1;36m2\u001b[0m, aggregator: aggregated_model_validation \u001b[1m<\u001b[0m\u001b[1;95mopenfl.interface.aggregation_functions.weighted_average.WeightedAverage\u001b[0m\u001b[39m \u001b[0m \u001b]8;id=224056;file://C:\\Users\\BHSU\\AppData\\Local\\Programs\\Python\\Python39\\lib\\site-packages\\openfl\\component\\aggregator\\aggregator.py\u001b\\\u001b[2maggregator.py\u001b[0m\u001b]8;;\u001b\\\u001b[2m:\u001b[0m\u001b]8;id=803264;file://C:\\Users\\BHSU\\AppData\\Local\\Programs\\Python\\Python39\\lib\\site-packages\\openfl\\component\\aggregator\\aggregator.py#842\u001b\\\u001b[2m842\u001b[0m\u001b]8;;\u001b\\\n",
       "\u001b[2;36m           \u001b[0m         \u001b[39mobject at \u001b[0m\u001b[1;36m0x0000024658124790\u001b[0m\u001b[1m>\u001b[0m accuracy:       \u001b[1;36m0.924222\u001b[0m                                                                     \u001b[2m                 \u001b[0m\n"
      ]
     },
     "metadata": {},
     "output_type": "display_data"
    },
    {
     "data": {
      "text/html": [
       "<pre style=\"white-space:pre;overflow-x:auto;line-height:normal;font-family:Menlo,'DejaVu Sans Mono',consolas,'Courier New',monospace\"><span style=\"color: #7fbfbf; text-decoration-color: #7fbfbf\">           </span>METRIC   Round <span style=\"color: #008080; text-decoration-color: #008080; font-weight: bold\">2</span>: saved the best model with score <span style=\"color: #008080; text-decoration-color: #008080; font-weight: bold\">0.924222</span>                                                                          <a href=\"file://C:\\Users\\BHSU\\AppData\\Local\\Programs\\Python\\Python39\\lib\\site-packages\\openfl\\component\\aggregator\\aggregator.py\" target=\"_blank\"><span style=\"color: #7f7f7f; text-decoration-color: #7f7f7f\">aggregator.py</span></a><span style=\"color: #7f7f7f; text-decoration-color: #7f7f7f\">:</span><a href=\"file://C:\\Users\\BHSU\\AppData\\Local\\Programs\\Python\\Python39\\lib\\site-packages\\openfl\\component\\aggregator\\aggregator.py#858\" target=\"_blank\"><span style=\"color: #7f7f7f; text-decoration-color: #7f7f7f\">858</span></a>\n",
       "</pre>\n"
      ],
      "text/plain": [
       "\u001b[2;36m          \u001b[0m\u001b[2;36m \u001b[0mMETRIC   Round \u001b[1;36m2\u001b[0m: saved the best model with score \u001b[1;36m0.924222\u001b[0m                                                                          \u001b]8;id=741284;file://C:\\Users\\BHSU\\AppData\\Local\\Programs\\Python\\Python39\\lib\\site-packages\\openfl\\component\\aggregator\\aggregator.py\u001b\\\u001b[2maggregator.py\u001b[0m\u001b]8;;\u001b\\\u001b[2m:\u001b[0m\u001b]8;id=615217;file://C:\\Users\\BHSU\\AppData\\Local\\Programs\\Python\\Python39\\lib\\site-packages\\openfl\\component\\aggregator\\aggregator.py#858\u001b\\\u001b[2m858\u001b[0m\u001b]8;;\u001b\\\n"
      ]
     },
     "metadata": {},
     "output_type": "display_data"
    },
    {
     "data": {
      "text/html": [
       "<pre style=\"white-space:pre;overflow-x:auto;line-height:normal;font-family:Menlo,'DejaVu Sans Mono',consolas,'Courier New',monospace\"><span style=\"color: #7fbfbf; text-decoration-color: #7fbfbf\">           </span>METRIC   Round <span style=\"color: #008080; text-decoration-color: #008080; font-weight: bold\">2</span>, aggregator: train <span style=\"font-weight: bold\">&lt;</span><span style=\"color: #ff00ff; text-decoration-color: #ff00ff; font-weight: bold\">openfl.interface.aggregation_functions.weighted_average.WeightedAverage</span><span style=\"color: #000000; text-decoration-color: #000000\"> object at </span>             <a href=\"file://C:\\Users\\BHSU\\AppData\\Local\\Programs\\Python\\Python39\\lib\\site-packages\\openfl\\component\\aggregator\\aggregator.py\" target=\"_blank\"><span style=\"color: #7f7f7f; text-decoration-color: #7f7f7f\">aggregator.py</span></a><span style=\"color: #7f7f7f; text-decoration-color: #7f7f7f\">:</span><a href=\"file://C:\\Users\\BHSU\\AppData\\Local\\Programs\\Python\\Python39\\lib\\site-packages\\openfl\\component\\aggregator\\aggregator.py#842\" target=\"_blank\"><span style=\"color: #7f7f7f; text-decoration-color: #7f7f7f\">842</span></a>\n",
       "<span style=\"color: #7fbfbf; text-decoration-color: #7fbfbf\">           </span>         <span style=\"color: #008080; text-decoration-color: #008080; font-weight: bold\">0x0000024658124790</span><span style=\"font-weight: bold\">&gt;</span> loss: <span style=\"color: #008080; text-decoration-color: #008080; font-weight: bold\">0.234375</span>                                                                                         <span style=\"color: #7f7f7f; text-decoration-color: #7f7f7f\">                 </span>\n",
       "</pre>\n"
      ],
      "text/plain": [
       "\u001b[2;36m          \u001b[0m\u001b[2;36m \u001b[0mMETRIC   Round \u001b[1;36m2\u001b[0m, aggregator: train \u001b[1m<\u001b[0m\u001b[1;95mopenfl.interface.aggregation_functions.weighted_average.WeightedAverage\u001b[0m\u001b[39m object at \u001b[0m             \u001b]8;id=617888;file://C:\\Users\\BHSU\\AppData\\Local\\Programs\\Python\\Python39\\lib\\site-packages\\openfl\\component\\aggregator\\aggregator.py\u001b\\\u001b[2maggregator.py\u001b[0m\u001b]8;;\u001b\\\u001b[2m:\u001b[0m\u001b]8;id=449278;file://C:\\Users\\BHSU\\AppData\\Local\\Programs\\Python\\Python39\\lib\\site-packages\\openfl\\component\\aggregator\\aggregator.py#842\u001b\\\u001b[2m842\u001b[0m\u001b]8;;\u001b\\\n",
       "\u001b[2;36m           \u001b[0m         \u001b[1;36m0x0000024658124790\u001b[0m\u001b[1m>\u001b[0m loss: \u001b[1;36m0.234375\u001b[0m                                                                                         \u001b[2m                 \u001b[0m\n"
      ]
     },
     "metadata": {},
     "output_type": "display_data"
    },
    {
     "data": {
      "text/html": [
       "<pre style=\"white-space:pre;overflow-x:auto;line-height:normal;font-family:Menlo,'DejaVu Sans Mono',consolas,'Courier New',monospace\"><span style=\"color: #7fbfbf; text-decoration-color: #7fbfbf\">           </span><span style=\"color: #000080; text-decoration-color: #000080\">INFO    </span> Saving round <span style=\"color: #008080; text-decoration-color: #008080; font-weight: bold\">3</span> model<span style=\"color: #808000; text-decoration-color: #808000\">...</span>                                                                                                    <a href=\"file://C:\\Users\\BHSU\\AppData\\Local\\Programs\\Python\\Python39\\lib\\site-packages\\openfl\\component\\aggregator\\aggregator.py\" target=\"_blank\"><span style=\"color: #7f7f7f; text-decoration-color: #7f7f7f\">aggregator.py</span></a><span style=\"color: #7f7f7f; text-decoration-color: #7f7f7f\">:</span><a href=\"file://C:\\Users\\BHSU\\AppData\\Local\\Programs\\Python\\Python39\\lib\\site-packages\\openfl\\component\\aggregator\\aggregator.py#894\" target=\"_blank\"><span style=\"color: #7f7f7f; text-decoration-color: #7f7f7f\">894</span></a>\n",
       "</pre>\n"
      ],
      "text/plain": [
       "\u001b[2;36m          \u001b[0m\u001b[2;36m \u001b[0m\u001b[34mINFO    \u001b[0m Saving round \u001b[1;36m3\u001b[0m model\u001b[33m...\u001b[0m                                                                                                    \u001b]8;id=513500;file://C:\\Users\\BHSU\\AppData\\Local\\Programs\\Python\\Python39\\lib\\site-packages\\openfl\\component\\aggregator\\aggregator.py\u001b\\\u001b[2maggregator.py\u001b[0m\u001b]8;;\u001b\\\u001b[2m:\u001b[0m\u001b]8;id=565499;file://C:\\Users\\BHSU\\AppData\\Local\\Programs\\Python\\Python39\\lib\\site-packages\\openfl\\component\\aggregator\\aggregator.py#894\u001b\\\u001b[2m894\u001b[0m\u001b]8;;\u001b\\\n"
      ]
     },
     "metadata": {},
     "output_type": "display_data"
    },
    {
     "data": {
      "text/html": [
       "<pre style=\"white-space:pre;overflow-x:auto;line-height:normal;font-family:Menlo,'DejaVu Sans Mono',consolas,'Courier New',monospace\"><span style=\"color: #7fbfbf; text-decoration-color: #7fbfbf\">           </span><span style=\"color: #000080; text-decoration-color: #000080\">INFO    </span> Starting round <span style=\"color: #008080; text-decoration-color: #008080; font-weight: bold\">3</span><span style=\"color: #808000; text-decoration-color: #808000\">...</span>                                                                                                        <a href=\"file://C:\\Users\\BHSU\\AppData\\Local\\Programs\\Python\\Python39\\lib\\site-packages\\openfl\\component\\aggregator\\aggregator.py\" target=\"_blank\"><span style=\"color: #7f7f7f; text-decoration-color: #7f7f7f\">aggregator.py</span></a><span style=\"color: #7f7f7f; text-decoration-color: #7f7f7f\">:</span><a href=\"file://C:\\Users\\BHSU\\AppData\\Local\\Programs\\Python\\Python39\\lib\\site-packages\\openfl\\component\\aggregator\\aggregator.py#901\" target=\"_blank\"><span style=\"color: #7f7f7f; text-decoration-color: #7f7f7f\">901</span></a>\n",
       "</pre>\n"
      ],
      "text/plain": [
       "\u001b[2;36m          \u001b[0m\u001b[2;36m \u001b[0m\u001b[34mINFO    \u001b[0m Starting round \u001b[1;36m3\u001b[0m\u001b[33m...\u001b[0m                                                                                                        \u001b]8;id=799060;file://C:\\Users\\BHSU\\AppData\\Local\\Programs\\Python\\Python39\\lib\\site-packages\\openfl\\component\\aggregator\\aggregator.py\u001b\\\u001b[2maggregator.py\u001b[0m\u001b]8;;\u001b\\\u001b[2m:\u001b[0m\u001b]8;id=109071;file://C:\\Users\\BHSU\\AppData\\Local\\Programs\\Python\\Python39\\lib\\site-packages\\openfl\\component\\aggregator\\aggregator.py#901\u001b\\\u001b[2m901\u001b[0m\u001b]8;;\u001b\\\n"
      ]
     },
     "metadata": {},
     "output_type": "display_data"
    },
    {
     "data": {
      "text/html": [
       "<pre style=\"white-space:pre;overflow-x:auto;line-height:normal;font-family:Menlo,'DejaVu Sans Mono',consolas,'Courier New',monospace\"><span style=\"color: #7fbfbf; text-decoration-color: #7fbfbf\">           </span><span style=\"color: #000080; text-decoration-color: #000080\">INFO    </span> All tasks completed on two for round <span style=\"color: #008080; text-decoration-color: #008080; font-weight: bold\">2</span><span style=\"color: #808000; text-decoration-color: #808000\">...</span>                                                                                <a href=\"file://C:\\Users\\BHSU\\AppData\\Local\\Programs\\Python\\Python39\\lib\\site-packages\\openfl\\component\\collaborator\\collaborator.py\" target=\"_blank\"><span style=\"color: #7f7f7f; text-decoration-color: #7f7f7f\">collaborator.py</span></a><span style=\"color: #7f7f7f; text-decoration-color: #7f7f7f\">:</span><a href=\"file://C:\\Users\\BHSU\\AppData\\Local\\Programs\\Python\\Python39\\lib\\site-packages\\openfl\\component\\collaborator\\collaborator.py#171\" target=\"_blank\"><span style=\"color: #7f7f7f; text-decoration-color: #7f7f7f\">171</span></a>\n",
       "</pre>\n"
      ],
      "text/plain": [
       "\u001b[2;36m          \u001b[0m\u001b[2;36m \u001b[0m\u001b[34mINFO    \u001b[0m All tasks completed on two for round \u001b[1;36m2\u001b[0m\u001b[33m...\u001b[0m                                                                                \u001b]8;id=698773;file://C:\\Users\\BHSU\\AppData\\Local\\Programs\\Python\\Python39\\lib\\site-packages\\openfl\\component\\collaborator\\collaborator.py\u001b\\\u001b[2mcollaborator.py\u001b[0m\u001b]8;;\u001b\\\u001b[2m:\u001b[0m\u001b]8;id=13337;file://C:\\Users\\BHSU\\AppData\\Local\\Programs\\Python\\Python39\\lib\\site-packages\\openfl\\component\\collaborator\\collaborator.py#171\u001b\\\u001b[2m171\u001b[0m\u001b]8;;\u001b\\\n"
      ]
     },
     "metadata": {},
     "output_type": "display_data"
    },
    {
     "data": {
      "text/html": [
       "<pre style=\"white-space:pre;overflow-x:auto;line-height:normal;font-family:Menlo,'DejaVu Sans Mono',consolas,'Courier New',monospace\"><span style=\"color: #7fbfbf; text-decoration-color: #7fbfbf\">           </span><span style=\"color: #000080; text-decoration-color: #000080\">INFO    </span> Waiting for tasks<span style=\"color: #808000; text-decoration-color: #808000\">...</span>                                                                                                     <a href=\"file://C:\\Users\\BHSU\\AppData\\Local\\Programs\\Python\\Python39\\lib\\site-packages\\openfl\\component\\collaborator\\collaborator.py\" target=\"_blank\"><span style=\"color: #7f7f7f; text-decoration-color: #7f7f7f\">collaborator.py</span></a><span style=\"color: #7f7f7f; text-decoration-color: #7f7f7f\">:</span><a href=\"file://C:\\Users\\BHSU\\AppData\\Local\\Programs\\Python\\Python39\\lib\\site-packages\\openfl\\component\\collaborator\\collaborator.py#178\" target=\"_blank\"><span style=\"color: #7f7f7f; text-decoration-color: #7f7f7f\">178</span></a>\n",
       "</pre>\n"
      ],
      "text/plain": [
       "\u001b[2;36m          \u001b[0m\u001b[2;36m \u001b[0m\u001b[34mINFO    \u001b[0m Waiting for tasks\u001b[33m...\u001b[0m                                                                                                     \u001b]8;id=333578;file://C:\\Users\\BHSU\\AppData\\Local\\Programs\\Python\\Python39\\lib\\site-packages\\openfl\\component\\collaborator\\collaborator.py\u001b\\\u001b[2mcollaborator.py\u001b[0m\u001b]8;;\u001b\\\u001b[2m:\u001b[0m\u001b]8;id=842294;file://C:\\Users\\BHSU\\AppData\\Local\\Programs\\Python\\Python39\\lib\\site-packages\\openfl\\component\\collaborator\\collaborator.py#178\u001b\\\u001b[2m178\u001b[0m\u001b]8;;\u001b\\\n"
      ]
     },
     "metadata": {},
     "output_type": "display_data"
    },
    {
     "data": {
      "text/html": [
       "<pre style=\"white-space:pre;overflow-x:auto;line-height:normal;font-family:Menlo,'DejaVu Sans Mono',consolas,'Courier New',monospace\"><span style=\"color: #7fbfbf; text-decoration-color: #7fbfbf\">           </span><span style=\"color: #000080; text-decoration-color: #000080\">INFO    </span> Sending tasks to collaborator one for round <span style=\"color: #008080; text-decoration-color: #008080; font-weight: bold\">3</span>                                                                              <a href=\"file://C:\\Users\\BHSU\\AppData\\Local\\Programs\\Python\\Python39\\lib\\site-packages\\openfl\\component\\aggregator\\aggregator.py\" target=\"_blank\"><span style=\"color: #7f7f7f; text-decoration-color: #7f7f7f\">aggregator.py</span></a><span style=\"color: #7f7f7f; text-decoration-color: #7f7f7f\">:</span><a href=\"file://C:\\Users\\BHSU\\AppData\\Local\\Programs\\Python\\Python39\\lib\\site-packages\\openfl\\component\\aggregator\\aggregator.py#329\" target=\"_blank\"><span style=\"color: #7f7f7f; text-decoration-color: #7f7f7f\">329</span></a>\n",
       "</pre>\n"
      ],
      "text/plain": [
       "\u001b[2;36m          \u001b[0m\u001b[2;36m \u001b[0m\u001b[34mINFO    \u001b[0m Sending tasks to collaborator one for round \u001b[1;36m3\u001b[0m                                                                              \u001b]8;id=147759;file://C:\\Users\\BHSU\\AppData\\Local\\Programs\\Python\\Python39\\lib\\site-packages\\openfl\\component\\aggregator\\aggregator.py\u001b\\\u001b[2maggregator.py\u001b[0m\u001b]8;;\u001b\\\u001b[2m:\u001b[0m\u001b]8;id=3098;file://C:\\Users\\BHSU\\AppData\\Local\\Programs\\Python\\Python39\\lib\\site-packages\\openfl\\component\\aggregator\\aggregator.py#329\u001b\\\u001b[2m329\u001b[0m\u001b]8;;\u001b\\\n"
      ]
     },
     "metadata": {},
     "output_type": "display_data"
    },
    {
     "data": {
      "text/html": [
       "<pre style=\"white-space:pre;overflow-x:auto;line-height:normal;font-family:Menlo,'DejaVu Sans Mono',consolas,'Courier New',monospace\"><span style=\"color: #7fbfbf; text-decoration-color: #7fbfbf\">           </span><span style=\"color: #000080; text-decoration-color: #000080\">INFO    </span> Received the following tasks: <span style=\"font-weight: bold\">[</span><span style=\"color: #008000; text-decoration-color: #008000\">'aggregated_model_validation'</span>, <span style=\"color: #008000; text-decoration-color: #008000\">'train'</span>, <span style=\"color: #008000; text-decoration-color: #008000\">'locally_tuned_model_validation'</span><span style=\"font-weight: bold\">]</span>                 <a href=\"file://C:\\Users\\BHSU\\AppData\\Local\\Programs\\Python\\Python39\\lib\\site-packages\\openfl\\component\\collaborator\\collaborator.py\" target=\"_blank\"><span style=\"color: #7f7f7f; text-decoration-color: #7f7f7f\">collaborator.py</span></a><span style=\"color: #7f7f7f; text-decoration-color: #7f7f7f\">:</span><a href=\"file://C:\\Users\\BHSU\\AppData\\Local\\Programs\\Python\\Python39\\lib\\site-packages\\openfl\\component\\collaborator\\collaborator.py#168\" target=\"_blank\"><span style=\"color: #7f7f7f; text-decoration-color: #7f7f7f\">168</span></a>\n",
       "</pre>\n"
      ],
      "text/plain": [
       "\u001b[2;36m          \u001b[0m\u001b[2;36m \u001b[0m\u001b[34mINFO    \u001b[0m Received the following tasks: \u001b[1m[\u001b[0m\u001b[32m'aggregated_model_validation'\u001b[0m, \u001b[32m'train'\u001b[0m, \u001b[32m'locally_tuned_model_validation'\u001b[0m\u001b[1m]\u001b[0m                 \u001b]8;id=163780;file://C:\\Users\\BHSU\\AppData\\Local\\Programs\\Python\\Python39\\lib\\site-packages\\openfl\\component\\collaborator\\collaborator.py\u001b\\\u001b[2mcollaborator.py\u001b[0m\u001b]8;;\u001b\\\u001b[2m:\u001b[0m\u001b]8;id=738914;file://C:\\Users\\BHSU\\AppData\\Local\\Programs\\Python\\Python39\\lib\\site-packages\\openfl\\component\\collaborator\\collaborator.py#168\u001b\\\u001b[2m168\u001b[0m\u001b]8;;\u001b\\\n"
      ]
     },
     "metadata": {},
     "output_type": "display_data"
    },
    {
     "data": {
      "text/html": [
       "<pre style=\"white-space:pre;overflow-x:auto;line-height:normal;font-family:Menlo,'DejaVu Sans Mono',consolas,'Courier New',monospace\"><span style=\"color: #7fbfbf; text-decoration-color: #7fbfbf\">           </span><span style=\"color: #000080; text-decoration-color: #000080\">INFO    </span> Using TaskRunner subclassing API                                                                                         <a href=\"file://C:\\Users\\BHSU\\AppData\\Local\\Programs\\Python\\Python39\\lib\\site-packages\\openfl\\component\\collaborator\\collaborator.py\" target=\"_blank\"><span style=\"color: #7f7f7f; text-decoration-color: #7f7f7f\">collaborator.py</span></a><span style=\"color: #7f7f7f; text-decoration-color: #7f7f7f\">:</span><a href=\"file://C:\\Users\\BHSU\\AppData\\Local\\Programs\\Python\\Python39\\lib\\site-packages\\openfl\\component\\collaborator\\collaborator.py#253\" target=\"_blank\"><span style=\"color: #7f7f7f; text-decoration-color: #7f7f7f\">253</span></a>\n",
       "</pre>\n"
      ],
      "text/plain": [
       "\u001b[2;36m          \u001b[0m\u001b[2;36m \u001b[0m\u001b[34mINFO    \u001b[0m Using TaskRunner subclassing API                                                                                         \u001b]8;id=56252;file://C:\\Users\\BHSU\\AppData\\Local\\Programs\\Python\\Python39\\lib\\site-packages\\openfl\\component\\collaborator\\collaborator.py\u001b\\\u001b[2mcollaborator.py\u001b[0m\u001b]8;;\u001b\\\u001b[2m:\u001b[0m\u001b]8;id=511832;file://C:\\Users\\BHSU\\AppData\\Local\\Programs\\Python\\Python39\\lib\\site-packages\\openfl\\component\\collaborator\\collaborator.py#253\u001b\\\u001b[2m253\u001b[0m\u001b]8;;\u001b\\\n"
      ]
     },
     "metadata": {},
     "output_type": "display_data"
    },
    {
     "name": "stdout",
     "output_type": "stream",
     "text": [
      "282/282 [==============================] - 0s 488us/step - loss: 0.1983 - accuracy: 0.9393\n"
     ]
    },
    {
     "data": {
      "text/html": [
       "<pre style=\"white-space:pre;overflow-x:auto;line-height:normal;font-family:Menlo,'DejaVu Sans Mono',consolas,'Courier New',monospace\"><span style=\"color: #7fbfbf; text-decoration-color: #7fbfbf\">           </span>METRIC   Round <span style=\"color: #008080; text-decoration-color: #008080; font-weight: bold\">3</span>, collaborator one is sending metric for task aggregated_model_validation: accuracy      <span style=\"color: #008080; text-decoration-color: #008080; font-weight: bold\">0.939333</span>                 <a href=\"file://C:\\Users\\BHSU\\AppData\\Local\\Programs\\Python\\Python39\\lib\\site-packages\\openfl\\component\\collaborator\\collaborator.py\" target=\"_blank\"><span style=\"color: #7f7f7f; text-decoration-color: #7f7f7f\">collaborator.py</span></a><span style=\"color: #7f7f7f; text-decoration-color: #7f7f7f\">:</span><a href=\"file://C:\\Users\\BHSU\\AppData\\Local\\Programs\\Python\\Python39\\lib\\site-packages\\openfl\\component\\collaborator\\collaborator.py#415\" target=\"_blank\"><span style=\"color: #7f7f7f; text-decoration-color: #7f7f7f\">415</span></a>\n",
       "</pre>\n"
      ],
      "text/plain": [
       "\u001b[2;36m          \u001b[0m\u001b[2;36m \u001b[0mMETRIC   Round \u001b[1;36m3\u001b[0m, collaborator one is sending metric for task aggregated_model_validation: accuracy      \u001b[1;36m0.939333\u001b[0m                 \u001b]8;id=56476;file://C:\\Users\\BHSU\\AppData\\Local\\Programs\\Python\\Python39\\lib\\site-packages\\openfl\\component\\collaborator\\collaborator.py\u001b\\\u001b[2mcollaborator.py\u001b[0m\u001b]8;;\u001b\\\u001b[2m:\u001b[0m\u001b]8;id=458495;file://C:\\Users\\BHSU\\AppData\\Local\\Programs\\Python\\Python39\\lib\\site-packages\\openfl\\component\\collaborator\\collaborator.py#415\u001b\\\u001b[2m415\u001b[0m\u001b]8;;\u001b\\\n"
      ]
     },
     "metadata": {},
     "output_type": "display_data"
    },
    {
     "data": {
      "text/html": [
       "<pre style=\"white-space:pre;overflow-x:auto;line-height:normal;font-family:Menlo,'DejaVu Sans Mono',consolas,'Courier New',monospace\"><span style=\"color: #7fbfbf; text-decoration-color: #7fbfbf\">           </span><span style=\"color: #000080; text-decoration-color: #000080\">INFO    </span> Collaborator one is sending task results for aggregated_model_validation, round <span style=\"color: #008080; text-decoration-color: #008080; font-weight: bold\">3</span>                                          <a href=\"file://C:\\Users\\BHSU\\AppData\\Local\\Programs\\Python\\Python39\\lib\\site-packages\\openfl\\component\\aggregator\\aggregator.py\" target=\"_blank\"><span style=\"color: #7f7f7f; text-decoration-color: #7f7f7f\">aggregator.py</span></a><span style=\"color: #7f7f7f; text-decoration-color: #7f7f7f\">:</span><a href=\"file://C:\\Users\\BHSU\\AppData\\Local\\Programs\\Python\\Python39\\lib\\site-packages\\openfl\\component\\aggregator\\aggregator.py#520\" target=\"_blank\"><span style=\"color: #7f7f7f; text-decoration-color: #7f7f7f\">520</span></a>\n",
       "</pre>\n"
      ],
      "text/plain": [
       "\u001b[2;36m          \u001b[0m\u001b[2;36m \u001b[0m\u001b[34mINFO    \u001b[0m Collaborator one is sending task results for aggregated_model_validation, round \u001b[1;36m3\u001b[0m                                          \u001b]8;id=608208;file://C:\\Users\\BHSU\\AppData\\Local\\Programs\\Python\\Python39\\lib\\site-packages\\openfl\\component\\aggregator\\aggregator.py\u001b\\\u001b[2maggregator.py\u001b[0m\u001b]8;;\u001b\\\u001b[2m:\u001b[0m\u001b]8;id=238111;file://C:\\Users\\BHSU\\AppData\\Local\\Programs\\Python\\Python39\\lib\\site-packages\\openfl\\component\\aggregator\\aggregator.py#520\u001b\\\u001b[2m520\u001b[0m\u001b]8;;\u001b\\\n"
      ]
     },
     "metadata": {},
     "output_type": "display_data"
    },
    {
     "data": {
      "text/html": [
       "<pre style=\"white-space:pre;overflow-x:auto;line-height:normal;font-family:Menlo,'DejaVu Sans Mono',consolas,'Courier New',monospace\"><span style=\"color: #7fbfbf; text-decoration-color: #7fbfbf\">           </span>METRIC   Round <span style=\"color: #008080; text-decoration-color: #008080; font-weight: bold\">3</span>, collaborator validate_agg aggregated_model_validation result accuracy: <span style=\"color: #008080; text-decoration-color: #008080; font-weight: bold\">0.939333</span>                                   <a href=\"file://C:\\Users\\BHSU\\AppData\\Local\\Programs\\Python\\Python39\\lib\\site-packages\\openfl\\component\\aggregator\\aggregator.py\" target=\"_blank\"><span style=\"color: #7f7f7f; text-decoration-color: #7f7f7f\">aggregator.py</span></a><span style=\"color: #7f7f7f; text-decoration-color: #7f7f7f\">:</span><a href=\"file://C:\\Users\\BHSU\\AppData\\Local\\Programs\\Python\\Python39\\lib\\site-packages\\openfl\\component\\aggregator\\aggregator.py#559\" target=\"_blank\"><span style=\"color: #7f7f7f; text-decoration-color: #7f7f7f\">559</span></a>\n",
       "</pre>\n"
      ],
      "text/plain": [
       "\u001b[2;36m          \u001b[0m\u001b[2;36m \u001b[0mMETRIC   Round \u001b[1;36m3\u001b[0m, collaborator validate_agg aggregated_model_validation result accuracy: \u001b[1;36m0.939333\u001b[0m                                   \u001b]8;id=591024;file://C:\\Users\\BHSU\\AppData\\Local\\Programs\\Python\\Python39\\lib\\site-packages\\openfl\\component\\aggregator\\aggregator.py\u001b\\\u001b[2maggregator.py\u001b[0m\u001b]8;;\u001b\\\u001b[2m:\u001b[0m\u001b]8;id=771618;file://C:\\Users\\BHSU\\AppData\\Local\\Programs\\Python\\Python39\\lib\\site-packages\\openfl\\component\\aggregator\\aggregator.py#559\u001b\\\u001b[2m559\u001b[0m\u001b]8;;\u001b\\\n"
      ]
     },
     "metadata": {},
     "output_type": "display_data"
    },
    {
     "data": {
      "text/html": [
       "<pre style=\"white-space:pre;overflow-x:auto;line-height:normal;font-family:Menlo,'DejaVu Sans Mono',consolas,'Courier New',monospace\"><span style=\"color: #7fbfbf; text-decoration-color: #7fbfbf\">           </span><span style=\"color: #000080; text-decoration-color: #000080\">INFO    </span> Using TaskRunner subclassing API                                                                                         <a href=\"file://C:\\Users\\BHSU\\AppData\\Local\\Programs\\Python\\Python39\\lib\\site-packages\\openfl\\component\\collaborator\\collaborator.py\" target=\"_blank\"><span style=\"color: #7f7f7f; text-decoration-color: #7f7f7f\">collaborator.py</span></a><span style=\"color: #7f7f7f; text-decoration-color: #7f7f7f\">:</span><a href=\"file://C:\\Users\\BHSU\\AppData\\Local\\Programs\\Python\\Python39\\lib\\site-packages\\openfl\\component\\collaborator\\collaborator.py#253\" target=\"_blank\"><span style=\"color: #7f7f7f; text-decoration-color: #7f7f7f\">253</span></a>\n",
       "</pre>\n"
      ],
      "text/plain": [
       "\u001b[2;36m          \u001b[0m\u001b[2;36m \u001b[0m\u001b[34mINFO    \u001b[0m Using TaskRunner subclassing API                                                                                         \u001b]8;id=608042;file://C:\\Users\\BHSU\\AppData\\Local\\Programs\\Python\\Python39\\lib\\site-packages\\openfl\\component\\collaborator\\collaborator.py\u001b\\\u001b[2mcollaborator.py\u001b[0m\u001b]8;;\u001b\\\u001b[2m:\u001b[0m\u001b]8;id=73426;file://C:\\Users\\BHSU\\AppData\\Local\\Programs\\Python\\Python39\\lib\\site-packages\\openfl\\component\\collaborator\\collaborator.py#253\u001b\\\u001b[2m253\u001b[0m\u001b]8;;\u001b\\\n"
      ]
     },
     "metadata": {},
     "output_type": "display_data"
    },
    {
     "data": {
      "text/html": [
       "<pre style=\"white-space:pre;overflow-x:auto;line-height:normal;font-family:Menlo,'DejaVu Sans Mono',consolas,'Courier New',monospace\"><span style=\"color: #7fbfbf; text-decoration-color: #7fbfbf\">           </span><span style=\"color: #000080; text-decoration-color: #000080\">INFO    </span> Run <span style=\"color: #008080; text-decoration-color: #008080; font-weight: bold\">0</span> epoch of <span style=\"color: #008080; text-decoration-color: #008080; font-weight: bold\">3</span> round                                                                                                    <a href=\"file://C:\\Users\\BHSU\\AppData\\Local\\Programs\\Python\\Python39\\lib\\site-packages\\openfl\\federated\\task\\runner_keras.py\" target=\"_blank\"><span style=\"color: #7f7f7f; text-decoration-color: #7f7f7f\">runner_keras.py</span></a><span style=\"color: #7f7f7f; text-decoration-color: #7f7f7f\">:</span><a href=\"file://C:\\Users\\BHSU\\AppData\\Local\\Programs\\Python\\Python39\\lib\\site-packages\\openfl\\federated\\task\\runner_keras.py#83\" target=\"_blank\"><span style=\"color: #7f7f7f; text-decoration-color: #7f7f7f\">83</span></a>\n",
       "</pre>\n"
      ],
      "text/plain": [
       "\u001b[2;36m          \u001b[0m\u001b[2;36m \u001b[0m\u001b[34mINFO    \u001b[0m Run \u001b[1;36m0\u001b[0m epoch of \u001b[1;36m3\u001b[0m round                                                                                                    \u001b]8;id=963466;file://C:\\Users\\BHSU\\AppData\\Local\\Programs\\Python\\Python39\\lib\\site-packages\\openfl\\federated\\task\\runner_keras.py\u001b\\\u001b[2mrunner_keras.py\u001b[0m\u001b]8;;\u001b\\\u001b[2m:\u001b[0m\u001b]8;id=785670;file://C:\\Users\\BHSU\\AppData\\Local\\Programs\\Python\\Python39\\lib\\site-packages\\openfl\\federated\\task\\runner_keras.py#83\u001b\\\u001b[2m83\u001b[0m\u001b]8;;\u001b\\\n"
      ]
     },
     "metadata": {},
     "output_type": "display_data"
    },
    {
     "name": "stdout",
     "output_type": "stream",
     "text": [
      "657/657 [==============================] - 0s 607us/step - loss: 0.1999 - accuracy: 0.9406\n"
     ]
    },
    {
     "data": {
      "text/html": [
       "<pre style=\"white-space:pre;overflow-x:auto;line-height:normal;font-family:Menlo,'DejaVu Sans Mono',consolas,'Courier New',monospace\"><span style=\"color: #7fbfbf; text-decoration-color: #7fbfbf\">[08:29:06] </span>METRIC   Round <span style=\"color: #008080; text-decoration-color: #008080; font-weight: bold\">3</span>, collaborator one is sending metric for task train: loss        <span style=\"color: #008080; text-decoration-color: #008080; font-weight: bold\">0.199853</span>                                         <a href=\"file://C:\\Users\\BHSU\\AppData\\Local\\Programs\\Python\\Python39\\lib\\site-packages\\openfl\\component\\collaborator\\collaborator.py\" target=\"_blank\"><span style=\"color: #7f7f7f; text-decoration-color: #7f7f7f\">collaborator.py</span></a><span style=\"color: #7f7f7f; text-decoration-color: #7f7f7f\">:</span><a href=\"file://C:\\Users\\BHSU\\AppData\\Local\\Programs\\Python\\Python39\\lib\\site-packages\\openfl\\component\\collaborator\\collaborator.py#415\" target=\"_blank\"><span style=\"color: #7f7f7f; text-decoration-color: #7f7f7f\">415</span></a>\n",
       "</pre>\n"
      ],
      "text/plain": [
       "\u001b[2;36m[08:29:06]\u001b[0m\u001b[2;36m \u001b[0mMETRIC   Round \u001b[1;36m3\u001b[0m, collaborator one is sending metric for task train: loss        \u001b[1;36m0.199853\u001b[0m                                         \u001b]8;id=103844;file://C:\\Users\\BHSU\\AppData\\Local\\Programs\\Python\\Python39\\lib\\site-packages\\openfl\\component\\collaborator\\collaborator.py\u001b\\\u001b[2mcollaborator.py\u001b[0m\u001b]8;;\u001b\\\u001b[2m:\u001b[0m\u001b]8;id=554664;file://C:\\Users\\BHSU\\AppData\\Local\\Programs\\Python\\Python39\\lib\\site-packages\\openfl\\component\\collaborator\\collaborator.py#415\u001b\\\u001b[2m415\u001b[0m\u001b]8;;\u001b\\\n"
      ]
     },
     "metadata": {},
     "output_type": "display_data"
    },
    {
     "data": {
      "text/html": [
       "<pre style=\"white-space:pre;overflow-x:auto;line-height:normal;font-family:Menlo,'DejaVu Sans Mono',consolas,'Courier New',monospace\"><span style=\"color: #7fbfbf; text-decoration-color: #7fbfbf\">           </span><span style=\"color: #000080; text-decoration-color: #000080\">INFO    </span> Collaborator one is sending task results for train, round <span style=\"color: #008080; text-decoration-color: #008080; font-weight: bold\">3</span>                                                                <a href=\"file://C:\\Users\\BHSU\\AppData\\Local\\Programs\\Python\\Python39\\lib\\site-packages\\openfl\\component\\aggregator\\aggregator.py\" target=\"_blank\"><span style=\"color: #7f7f7f; text-decoration-color: #7f7f7f\">aggregator.py</span></a><span style=\"color: #7f7f7f; text-decoration-color: #7f7f7f\">:</span><a href=\"file://C:\\Users\\BHSU\\AppData\\Local\\Programs\\Python\\Python39\\lib\\site-packages\\openfl\\component\\aggregator\\aggregator.py#520\" target=\"_blank\"><span style=\"color: #7f7f7f; text-decoration-color: #7f7f7f\">520</span></a>\n",
       "</pre>\n"
      ],
      "text/plain": [
       "\u001b[2;36m          \u001b[0m\u001b[2;36m \u001b[0m\u001b[34mINFO    \u001b[0m Collaborator one is sending task results for train, round \u001b[1;36m3\u001b[0m                                                                \u001b]8;id=79183;file://C:\\Users\\BHSU\\AppData\\Local\\Programs\\Python\\Python39\\lib\\site-packages\\openfl\\component\\aggregator\\aggregator.py\u001b\\\u001b[2maggregator.py\u001b[0m\u001b]8;;\u001b\\\u001b[2m:\u001b[0m\u001b]8;id=417757;file://C:\\Users\\BHSU\\AppData\\Local\\Programs\\Python\\Python39\\lib\\site-packages\\openfl\\component\\aggregator\\aggregator.py#520\u001b\\\u001b[2m520\u001b[0m\u001b]8;;\u001b\\\n"
      ]
     },
     "metadata": {},
     "output_type": "display_data"
    },
    {
     "data": {
      "text/html": [
       "<pre style=\"white-space:pre;overflow-x:auto;line-height:normal;font-family:Menlo,'DejaVu Sans Mono',consolas,'Courier New',monospace\"><span style=\"color: #7fbfbf; text-decoration-color: #7fbfbf\">           </span>METRIC   Round <span style=\"color: #008080; text-decoration-color: #008080; font-weight: bold\">3</span>, collaborator one train result loss:    <span style=\"color: #008080; text-decoration-color: #008080; font-weight: bold\">0.199853</span>                                                                   <a href=\"file://C:\\Users\\BHSU\\AppData\\Local\\Programs\\Python\\Python39\\lib\\site-packages\\openfl\\component\\aggregator\\aggregator.py\" target=\"_blank\"><span style=\"color: #7f7f7f; text-decoration-color: #7f7f7f\">aggregator.py</span></a><span style=\"color: #7f7f7f; text-decoration-color: #7f7f7f\">:</span><a href=\"file://C:\\Users\\BHSU\\AppData\\Local\\Programs\\Python\\Python39\\lib\\site-packages\\openfl\\component\\aggregator\\aggregator.py#559\" target=\"_blank\"><span style=\"color: #7f7f7f; text-decoration-color: #7f7f7f\">559</span></a>\n",
       "</pre>\n"
      ],
      "text/plain": [
       "\u001b[2;36m          \u001b[0m\u001b[2;36m \u001b[0mMETRIC   Round \u001b[1;36m3\u001b[0m, collaborator one train result loss:    \u001b[1;36m0.199853\u001b[0m                                                                   \u001b]8;id=829037;file://C:\\Users\\BHSU\\AppData\\Local\\Programs\\Python\\Python39\\lib\\site-packages\\openfl\\component\\aggregator\\aggregator.py\u001b\\\u001b[2maggregator.py\u001b[0m\u001b]8;;\u001b\\\u001b[2m:\u001b[0m\u001b]8;id=689451;file://C:\\Users\\BHSU\\AppData\\Local\\Programs\\Python\\Python39\\lib\\site-packages\\openfl\\component\\aggregator\\aggregator.py#559\u001b\\\u001b[2m559\u001b[0m\u001b]8;;\u001b\\\n"
      ]
     },
     "metadata": {},
     "output_type": "display_data"
    },
    {
     "data": {
      "text/html": [
       "<pre style=\"white-space:pre;overflow-x:auto;line-height:normal;font-family:Menlo,'DejaVu Sans Mono',consolas,'Courier New',monospace\"><span style=\"color: #7fbfbf; text-decoration-color: #7fbfbf\">           </span><span style=\"color: #000080; text-decoration-color: #000080\">INFO    </span> Using TaskRunner subclassing API                                                                                         <a href=\"file://C:\\Users\\BHSU\\AppData\\Local\\Programs\\Python\\Python39\\lib\\site-packages\\openfl\\component\\collaborator\\collaborator.py\" target=\"_blank\"><span style=\"color: #7f7f7f; text-decoration-color: #7f7f7f\">collaborator.py</span></a><span style=\"color: #7f7f7f; text-decoration-color: #7f7f7f\">:</span><a href=\"file://C:\\Users\\BHSU\\AppData\\Local\\Programs\\Python\\Python39\\lib\\site-packages\\openfl\\component\\collaborator\\collaborator.py#253\" target=\"_blank\"><span style=\"color: #7f7f7f; text-decoration-color: #7f7f7f\">253</span></a>\n",
       "</pre>\n"
      ],
      "text/plain": [
       "\u001b[2;36m          \u001b[0m\u001b[2;36m \u001b[0m\u001b[34mINFO    \u001b[0m Using TaskRunner subclassing API                                                                                         \u001b]8;id=700172;file://C:\\Users\\BHSU\\AppData\\Local\\Programs\\Python\\Python39\\lib\\site-packages\\openfl\\component\\collaborator\\collaborator.py\u001b\\\u001b[2mcollaborator.py\u001b[0m\u001b]8;;\u001b\\\u001b[2m:\u001b[0m\u001b]8;id=973608;file://C:\\Users\\BHSU\\AppData\\Local\\Programs\\Python\\Python39\\lib\\site-packages\\openfl\\component\\collaborator\\collaborator.py#253\u001b\\\u001b[2m253\u001b[0m\u001b]8;;\u001b\\\n"
      ]
     },
     "metadata": {},
     "output_type": "display_data"
    },
    {
     "name": "stdout",
     "output_type": "stream",
     "text": [
      "282/282 [==============================] - 0s 480us/step - loss: 0.2058 - accuracy: 0.9360\n"
     ]
    },
    {
     "data": {
      "text/html": [
       "<pre style=\"white-space:pre;overflow-x:auto;line-height:normal;font-family:Menlo,'DejaVu Sans Mono',consolas,'Courier New',monospace\"><span style=\"color: #7fbfbf; text-decoration-color: #7fbfbf\">           </span>METRIC   Round <span style=\"color: #008080; text-decoration-color: #008080; font-weight: bold\">3</span>, collaborator one is sending metric for task locally_tuned_model_validation: accuracy   <span style=\"color: #008080; text-decoration-color: #008080; font-weight: bold\">0.936000</span>                 <a href=\"file://C:\\Users\\BHSU\\AppData\\Local\\Programs\\Python\\Python39\\lib\\site-packages\\openfl\\component\\collaborator\\collaborator.py\" target=\"_blank\"><span style=\"color: #7f7f7f; text-decoration-color: #7f7f7f\">collaborator.py</span></a><span style=\"color: #7f7f7f; text-decoration-color: #7f7f7f\">:</span><a href=\"file://C:\\Users\\BHSU\\AppData\\Local\\Programs\\Python\\Python39\\lib\\site-packages\\openfl\\component\\collaborator\\collaborator.py#415\" target=\"_blank\"><span style=\"color: #7f7f7f; text-decoration-color: #7f7f7f\">415</span></a>\n",
       "</pre>\n"
      ],
      "text/plain": [
       "\u001b[2;36m          \u001b[0m\u001b[2;36m \u001b[0mMETRIC   Round \u001b[1;36m3\u001b[0m, collaborator one is sending metric for task locally_tuned_model_validation: accuracy   \u001b[1;36m0.936000\u001b[0m                 \u001b]8;id=753487;file://C:\\Users\\BHSU\\AppData\\Local\\Programs\\Python\\Python39\\lib\\site-packages\\openfl\\component\\collaborator\\collaborator.py\u001b\\\u001b[2mcollaborator.py\u001b[0m\u001b]8;;\u001b\\\u001b[2m:\u001b[0m\u001b]8;id=704811;file://C:\\Users\\BHSU\\AppData\\Local\\Programs\\Python\\Python39\\lib\\site-packages\\openfl\\component\\collaborator\\collaborator.py#415\u001b\\\u001b[2m415\u001b[0m\u001b]8;;\u001b\\\n"
      ]
     },
     "metadata": {},
     "output_type": "display_data"
    },
    {
     "data": {
      "text/html": [
       "<pre style=\"white-space:pre;overflow-x:auto;line-height:normal;font-family:Menlo,'DejaVu Sans Mono',consolas,'Courier New',monospace\"><span style=\"color: #7fbfbf; text-decoration-color: #7fbfbf\">           </span><span style=\"color: #000080; text-decoration-color: #000080\">INFO    </span> Collaborator one is sending task results for locally_tuned_model_validation, round <span style=\"color: #008080; text-decoration-color: #008080; font-weight: bold\">3</span>                                       <a href=\"file://C:\\Users\\BHSU\\AppData\\Local\\Programs\\Python\\Python39\\lib\\site-packages\\openfl\\component\\aggregator\\aggregator.py\" target=\"_blank\"><span style=\"color: #7f7f7f; text-decoration-color: #7f7f7f\">aggregator.py</span></a><span style=\"color: #7f7f7f; text-decoration-color: #7f7f7f\">:</span><a href=\"file://C:\\Users\\BHSU\\AppData\\Local\\Programs\\Python\\Python39\\lib\\site-packages\\openfl\\component\\aggregator\\aggregator.py#520\" target=\"_blank\"><span style=\"color: #7f7f7f; text-decoration-color: #7f7f7f\">520</span></a>\n",
       "</pre>\n"
      ],
      "text/plain": [
       "\u001b[2;36m          \u001b[0m\u001b[2;36m \u001b[0m\u001b[34mINFO    \u001b[0m Collaborator one is sending task results for locally_tuned_model_validation, round \u001b[1;36m3\u001b[0m                                       \u001b]8;id=934536;file://C:\\Users\\BHSU\\AppData\\Local\\Programs\\Python\\Python39\\lib\\site-packages\\openfl\\component\\aggregator\\aggregator.py\u001b\\\u001b[2maggregator.py\u001b[0m\u001b]8;;\u001b\\\u001b[2m:\u001b[0m\u001b]8;id=64695;file://C:\\Users\\BHSU\\AppData\\Local\\Programs\\Python\\Python39\\lib\\site-packages\\openfl\\component\\aggregator\\aggregator.py#520\u001b\\\u001b[2m520\u001b[0m\u001b]8;;\u001b\\\n"
      ]
     },
     "metadata": {},
     "output_type": "display_data"
    },
    {
     "data": {
      "text/html": [
       "<pre style=\"white-space:pre;overflow-x:auto;line-height:normal;font-family:Menlo,'DejaVu Sans Mono',consolas,'Courier New',monospace\"><span style=\"color: #7fbfbf; text-decoration-color: #7fbfbf\">           </span>METRIC   Round <span style=\"color: #008080; text-decoration-color: #008080; font-weight: bold\">3</span>, collaborator validate_local locally_tuned_model_validation result accuracy:    <span style=\"color: #008080; text-decoration-color: #008080; font-weight: bold\">0.936000</span>                           <a href=\"file://C:\\Users\\BHSU\\AppData\\Local\\Programs\\Python\\Python39\\lib\\site-packages\\openfl\\component\\aggregator\\aggregator.py\" target=\"_blank\"><span style=\"color: #7f7f7f; text-decoration-color: #7f7f7f\">aggregator.py</span></a><span style=\"color: #7f7f7f; text-decoration-color: #7f7f7f\">:</span><a href=\"file://C:\\Users\\BHSU\\AppData\\Local\\Programs\\Python\\Python39\\lib\\site-packages\\openfl\\component\\aggregator\\aggregator.py#559\" target=\"_blank\"><span style=\"color: #7f7f7f; text-decoration-color: #7f7f7f\">559</span></a>\n",
       "</pre>\n"
      ],
      "text/plain": [
       "\u001b[2;36m          \u001b[0m\u001b[2;36m \u001b[0mMETRIC   Round \u001b[1;36m3\u001b[0m, collaborator validate_local locally_tuned_model_validation result accuracy:    \u001b[1;36m0.936000\u001b[0m                           \u001b]8;id=40200;file://C:\\Users\\BHSU\\AppData\\Local\\Programs\\Python\\Python39\\lib\\site-packages\\openfl\\component\\aggregator\\aggregator.py\u001b\\\u001b[2maggregator.py\u001b[0m\u001b]8;;\u001b\\\u001b[2m:\u001b[0m\u001b]8;id=891975;file://C:\\Users\\BHSU\\AppData\\Local\\Programs\\Python\\Python39\\lib\\site-packages\\openfl\\component\\aggregator\\aggregator.py#559\u001b\\\u001b[2m559\u001b[0m\u001b]8;;\u001b\\\n"
      ]
     },
     "metadata": {},
     "output_type": "display_data"
    },
    {
     "data": {
      "text/html": [
       "<pre style=\"white-space:pre;overflow-x:auto;line-height:normal;font-family:Menlo,'DejaVu Sans Mono',consolas,'Courier New',monospace\"><span style=\"color: #7fbfbf; text-decoration-color: #7fbfbf\">           </span><span style=\"color: #000080; text-decoration-color: #000080\">INFO    </span> All tasks completed on one for round <span style=\"color: #008080; text-decoration-color: #008080; font-weight: bold\">3</span><span style=\"color: #808000; text-decoration-color: #808000\">...</span>                                                                                <a href=\"file://C:\\Users\\BHSU\\AppData\\Local\\Programs\\Python\\Python39\\lib\\site-packages\\openfl\\component\\collaborator\\collaborator.py\" target=\"_blank\"><span style=\"color: #7f7f7f; text-decoration-color: #7f7f7f\">collaborator.py</span></a><span style=\"color: #7f7f7f; text-decoration-color: #7f7f7f\">:</span><a href=\"file://C:\\Users\\BHSU\\AppData\\Local\\Programs\\Python\\Python39\\lib\\site-packages\\openfl\\component\\collaborator\\collaborator.py#171\" target=\"_blank\"><span style=\"color: #7f7f7f; text-decoration-color: #7f7f7f\">171</span></a>\n",
       "</pre>\n"
      ],
      "text/plain": [
       "\u001b[2;36m          \u001b[0m\u001b[2;36m \u001b[0m\u001b[34mINFO    \u001b[0m All tasks completed on one for round \u001b[1;36m3\u001b[0m\u001b[33m...\u001b[0m                                                                                \u001b]8;id=166976;file://C:\\Users\\BHSU\\AppData\\Local\\Programs\\Python\\Python39\\lib\\site-packages\\openfl\\component\\collaborator\\collaborator.py\u001b\\\u001b[2mcollaborator.py\u001b[0m\u001b]8;;\u001b\\\u001b[2m:\u001b[0m\u001b]8;id=105306;file://C:\\Users\\BHSU\\AppData\\Local\\Programs\\Python\\Python39\\lib\\site-packages\\openfl\\component\\collaborator\\collaborator.py#171\u001b\\\u001b[2m171\u001b[0m\u001b]8;;\u001b\\\n"
      ]
     },
     "metadata": {},
     "output_type": "display_data"
    },
    {
     "data": {
      "text/html": [
       "<pre style=\"white-space:pre;overflow-x:auto;line-height:normal;font-family:Menlo,'DejaVu Sans Mono',consolas,'Courier New',monospace\"><span style=\"color: #7fbfbf; text-decoration-color: #7fbfbf\">           </span><span style=\"color: #000080; text-decoration-color: #000080\">INFO    </span> Waiting for tasks<span style=\"color: #808000; text-decoration-color: #808000\">...</span>                                                                                                     <a href=\"file://C:\\Users\\BHSU\\AppData\\Local\\Programs\\Python\\Python39\\lib\\site-packages\\openfl\\component\\collaborator\\collaborator.py\" target=\"_blank\"><span style=\"color: #7f7f7f; text-decoration-color: #7f7f7f\">collaborator.py</span></a><span style=\"color: #7f7f7f; text-decoration-color: #7f7f7f\">:</span><a href=\"file://C:\\Users\\BHSU\\AppData\\Local\\Programs\\Python\\Python39\\lib\\site-packages\\openfl\\component\\collaborator\\collaborator.py#178\" target=\"_blank\"><span style=\"color: #7f7f7f; text-decoration-color: #7f7f7f\">178</span></a>\n",
       "</pre>\n"
      ],
      "text/plain": [
       "\u001b[2;36m          \u001b[0m\u001b[2;36m \u001b[0m\u001b[34mINFO    \u001b[0m Waiting for tasks\u001b[33m...\u001b[0m                                                                                                     \u001b]8;id=552045;file://C:\\Users\\BHSU\\AppData\\Local\\Programs\\Python\\Python39\\lib\\site-packages\\openfl\\component\\collaborator\\collaborator.py\u001b\\\u001b[2mcollaborator.py\u001b[0m\u001b]8;;\u001b\\\u001b[2m:\u001b[0m\u001b]8;id=833091;file://C:\\Users\\BHSU\\AppData\\Local\\Programs\\Python\\Python39\\lib\\site-packages\\openfl\\component\\collaborator\\collaborator.py#178\u001b\\\u001b[2m178\u001b[0m\u001b]8;;\u001b\\\n"
      ]
     },
     "metadata": {},
     "output_type": "display_data"
    },
    {
     "data": {
      "text/html": [
       "<pre style=\"white-space:pre;overflow-x:auto;line-height:normal;font-family:Menlo,'DejaVu Sans Mono',consolas,'Courier New',monospace\"><span style=\"color: #7fbfbf; text-decoration-color: #7fbfbf\">           </span><span style=\"color: #000080; text-decoration-color: #000080\">INFO    </span> Sending tasks to collaborator two for round <span style=\"color: #008080; text-decoration-color: #008080; font-weight: bold\">3</span>                                                                              <a href=\"file://C:\\Users\\BHSU\\AppData\\Local\\Programs\\Python\\Python39\\lib\\site-packages\\openfl\\component\\aggregator\\aggregator.py\" target=\"_blank\"><span style=\"color: #7f7f7f; text-decoration-color: #7f7f7f\">aggregator.py</span></a><span style=\"color: #7f7f7f; text-decoration-color: #7f7f7f\">:</span><a href=\"file://C:\\Users\\BHSU\\AppData\\Local\\Programs\\Python\\Python39\\lib\\site-packages\\openfl\\component\\aggregator\\aggregator.py#329\" target=\"_blank\"><span style=\"color: #7f7f7f; text-decoration-color: #7f7f7f\">329</span></a>\n",
       "</pre>\n"
      ],
      "text/plain": [
       "\u001b[2;36m          \u001b[0m\u001b[2;36m \u001b[0m\u001b[34mINFO    \u001b[0m Sending tasks to collaborator two for round \u001b[1;36m3\u001b[0m                                                                              \u001b]8;id=40244;file://C:\\Users\\BHSU\\AppData\\Local\\Programs\\Python\\Python39\\lib\\site-packages\\openfl\\component\\aggregator\\aggregator.py\u001b\\\u001b[2maggregator.py\u001b[0m\u001b]8;;\u001b\\\u001b[2m:\u001b[0m\u001b]8;id=741866;file://C:\\Users\\BHSU\\AppData\\Local\\Programs\\Python\\Python39\\lib\\site-packages\\openfl\\component\\aggregator\\aggregator.py#329\u001b\\\u001b[2m329\u001b[0m\u001b]8;;\u001b\\\n"
      ]
     },
     "metadata": {},
     "output_type": "display_data"
    },
    {
     "data": {
      "text/html": [
       "<pre style=\"white-space:pre;overflow-x:auto;line-height:normal;font-family:Menlo,'DejaVu Sans Mono',consolas,'Courier New',monospace\"><span style=\"color: #7fbfbf; text-decoration-color: #7fbfbf\">           </span><span style=\"color: #000080; text-decoration-color: #000080\">INFO    </span> Received the following tasks: <span style=\"font-weight: bold\">[</span><span style=\"color: #008000; text-decoration-color: #008000\">'aggregated_model_validation'</span>, <span style=\"color: #008000; text-decoration-color: #008000\">'train'</span>, <span style=\"color: #008000; text-decoration-color: #008000\">'locally_tuned_model_validation'</span><span style=\"font-weight: bold\">]</span>                 <a href=\"file://C:\\Users\\BHSU\\AppData\\Local\\Programs\\Python\\Python39\\lib\\site-packages\\openfl\\component\\collaborator\\collaborator.py\" target=\"_blank\"><span style=\"color: #7f7f7f; text-decoration-color: #7f7f7f\">collaborator.py</span></a><span style=\"color: #7f7f7f; text-decoration-color: #7f7f7f\">:</span><a href=\"file://C:\\Users\\BHSU\\AppData\\Local\\Programs\\Python\\Python39\\lib\\site-packages\\openfl\\component\\collaborator\\collaborator.py#168\" target=\"_blank\"><span style=\"color: #7f7f7f; text-decoration-color: #7f7f7f\">168</span></a>\n",
       "</pre>\n"
      ],
      "text/plain": [
       "\u001b[2;36m          \u001b[0m\u001b[2;36m \u001b[0m\u001b[34mINFO    \u001b[0m Received the following tasks: \u001b[1m[\u001b[0m\u001b[32m'aggregated_model_validation'\u001b[0m, \u001b[32m'train'\u001b[0m, \u001b[32m'locally_tuned_model_validation'\u001b[0m\u001b[1m]\u001b[0m                 \u001b]8;id=14652;file://C:\\Users\\BHSU\\AppData\\Local\\Programs\\Python\\Python39\\lib\\site-packages\\openfl\\component\\collaborator\\collaborator.py\u001b\\\u001b[2mcollaborator.py\u001b[0m\u001b]8;;\u001b\\\u001b[2m:\u001b[0m\u001b]8;id=516145;file://C:\\Users\\BHSU\\AppData\\Local\\Programs\\Python\\Python39\\lib\\site-packages\\openfl\\component\\collaborator\\collaborator.py#168\u001b\\\u001b[2m168\u001b[0m\u001b]8;;\u001b\\\n"
      ]
     },
     "metadata": {},
     "output_type": "display_data"
    },
    {
     "data": {
      "text/html": [
       "<pre style=\"white-space:pre;overflow-x:auto;line-height:normal;font-family:Menlo,'DejaVu Sans Mono',consolas,'Courier New',monospace\"><span style=\"color: #7fbfbf; text-decoration-color: #7fbfbf\">           </span><span style=\"color: #000080; text-decoration-color: #000080\">INFO    </span> Using TaskRunner subclassing API                                                                                         <a href=\"file://C:\\Users\\BHSU\\AppData\\Local\\Programs\\Python\\Python39\\lib\\site-packages\\openfl\\component\\collaborator\\collaborator.py\" target=\"_blank\"><span style=\"color: #7f7f7f; text-decoration-color: #7f7f7f\">collaborator.py</span></a><span style=\"color: #7f7f7f; text-decoration-color: #7f7f7f\">:</span><a href=\"file://C:\\Users\\BHSU\\AppData\\Local\\Programs\\Python\\Python39\\lib\\site-packages\\openfl\\component\\collaborator\\collaborator.py#253\" target=\"_blank\"><span style=\"color: #7f7f7f; text-decoration-color: #7f7f7f\">253</span></a>\n",
       "</pre>\n"
      ],
      "text/plain": [
       "\u001b[2;36m          \u001b[0m\u001b[2;36m \u001b[0m\u001b[34mINFO    \u001b[0m Using TaskRunner subclassing API                                                                                         \u001b]8;id=375971;file://C:\\Users\\BHSU\\AppData\\Local\\Programs\\Python\\Python39\\lib\\site-packages\\openfl\\component\\collaborator\\collaborator.py\u001b\\\u001b[2mcollaborator.py\u001b[0m\u001b]8;;\u001b\\\u001b[2m:\u001b[0m\u001b]8;id=548550;file://C:\\Users\\BHSU\\AppData\\Local\\Programs\\Python\\Python39\\lib\\site-packages\\openfl\\component\\collaborator\\collaborator.py#253\u001b\\\u001b[2m253\u001b[0m\u001b]8;;\u001b\\\n"
      ]
     },
     "metadata": {},
     "output_type": "display_data"
    },
    {
     "name": "stdout",
     "output_type": "stream",
     "text": [
      "282/282 [==============================] - 0s 514us/step - loss: 0.2112 - accuracy: 0.9367\n"
     ]
    },
    {
     "data": {
      "text/html": [
       "<pre style=\"white-space:pre;overflow-x:auto;line-height:normal;font-family:Menlo,'DejaVu Sans Mono',consolas,'Courier New',monospace\"><span style=\"color: #7fbfbf; text-decoration-color: #7fbfbf\">           </span>METRIC   Round <span style=\"color: #008080; text-decoration-color: #008080; font-weight: bold\">3</span>, collaborator two is sending metric for task aggregated_model_validation: accuracy      <span style=\"color: #008080; text-decoration-color: #008080; font-weight: bold\">0.936667</span>                 <a href=\"file://C:\\Users\\BHSU\\AppData\\Local\\Programs\\Python\\Python39\\lib\\site-packages\\openfl\\component\\collaborator\\collaborator.py\" target=\"_blank\"><span style=\"color: #7f7f7f; text-decoration-color: #7f7f7f\">collaborator.py</span></a><span style=\"color: #7f7f7f; text-decoration-color: #7f7f7f\">:</span><a href=\"file://C:\\Users\\BHSU\\AppData\\Local\\Programs\\Python\\Python39\\lib\\site-packages\\openfl\\component\\collaborator\\collaborator.py#415\" target=\"_blank\"><span style=\"color: #7f7f7f; text-decoration-color: #7f7f7f\">415</span></a>\n",
       "</pre>\n"
      ],
      "text/plain": [
       "\u001b[2;36m          \u001b[0m\u001b[2;36m \u001b[0mMETRIC   Round \u001b[1;36m3\u001b[0m, collaborator two is sending metric for task aggregated_model_validation: accuracy      \u001b[1;36m0.936667\u001b[0m                 \u001b]8;id=438791;file://C:\\Users\\BHSU\\AppData\\Local\\Programs\\Python\\Python39\\lib\\site-packages\\openfl\\component\\collaborator\\collaborator.py\u001b\\\u001b[2mcollaborator.py\u001b[0m\u001b]8;;\u001b\\\u001b[2m:\u001b[0m\u001b]8;id=401663;file://C:\\Users\\BHSU\\AppData\\Local\\Programs\\Python\\Python39\\lib\\site-packages\\openfl\\component\\collaborator\\collaborator.py#415\u001b\\\u001b[2m415\u001b[0m\u001b]8;;\u001b\\\n"
      ]
     },
     "metadata": {},
     "output_type": "display_data"
    },
    {
     "data": {
      "text/html": [
       "<pre style=\"white-space:pre;overflow-x:auto;line-height:normal;font-family:Menlo,'DejaVu Sans Mono',consolas,'Courier New',monospace\"><span style=\"color: #7fbfbf; text-decoration-color: #7fbfbf\">           </span><span style=\"color: #000080; text-decoration-color: #000080\">INFO    </span> Collaborator two is sending task results for aggregated_model_validation, round <span style=\"color: #008080; text-decoration-color: #008080; font-weight: bold\">3</span>                                          <a href=\"file://C:\\Users\\BHSU\\AppData\\Local\\Programs\\Python\\Python39\\lib\\site-packages\\openfl\\component\\aggregator\\aggregator.py\" target=\"_blank\"><span style=\"color: #7f7f7f; text-decoration-color: #7f7f7f\">aggregator.py</span></a><span style=\"color: #7f7f7f; text-decoration-color: #7f7f7f\">:</span><a href=\"file://C:\\Users\\BHSU\\AppData\\Local\\Programs\\Python\\Python39\\lib\\site-packages\\openfl\\component\\aggregator\\aggregator.py#520\" target=\"_blank\"><span style=\"color: #7f7f7f; text-decoration-color: #7f7f7f\">520</span></a>\n",
       "</pre>\n"
      ],
      "text/plain": [
       "\u001b[2;36m          \u001b[0m\u001b[2;36m \u001b[0m\u001b[34mINFO    \u001b[0m Collaborator two is sending task results for aggregated_model_validation, round \u001b[1;36m3\u001b[0m                                          \u001b]8;id=683859;file://C:\\Users\\BHSU\\AppData\\Local\\Programs\\Python\\Python39\\lib\\site-packages\\openfl\\component\\aggregator\\aggregator.py\u001b\\\u001b[2maggregator.py\u001b[0m\u001b]8;;\u001b\\\u001b[2m:\u001b[0m\u001b]8;id=791426;file://C:\\Users\\BHSU\\AppData\\Local\\Programs\\Python\\Python39\\lib\\site-packages\\openfl\\component\\aggregator\\aggregator.py#520\u001b\\\u001b[2m520\u001b[0m\u001b]8;;\u001b\\\n"
      ]
     },
     "metadata": {},
     "output_type": "display_data"
    },
    {
     "data": {
      "text/html": [
       "<pre style=\"white-space:pre;overflow-x:auto;line-height:normal;font-family:Menlo,'DejaVu Sans Mono',consolas,'Courier New',monospace\"><span style=\"color: #7fbfbf; text-decoration-color: #7fbfbf\">           </span>METRIC   Round <span style=\"color: #008080; text-decoration-color: #008080; font-weight: bold\">3</span>, collaborator validate_agg aggregated_model_validation result accuracy: <span style=\"color: #008080; text-decoration-color: #008080; font-weight: bold\">0.936667</span>                                   <a href=\"file://C:\\Users\\BHSU\\AppData\\Local\\Programs\\Python\\Python39\\lib\\site-packages\\openfl\\component\\aggregator\\aggregator.py\" target=\"_blank\"><span style=\"color: #7f7f7f; text-decoration-color: #7f7f7f\">aggregator.py</span></a><span style=\"color: #7f7f7f; text-decoration-color: #7f7f7f\">:</span><a href=\"file://C:\\Users\\BHSU\\AppData\\Local\\Programs\\Python\\Python39\\lib\\site-packages\\openfl\\component\\aggregator\\aggregator.py#559\" target=\"_blank\"><span style=\"color: #7f7f7f; text-decoration-color: #7f7f7f\">559</span></a>\n",
       "</pre>\n"
      ],
      "text/plain": [
       "\u001b[2;36m          \u001b[0m\u001b[2;36m \u001b[0mMETRIC   Round \u001b[1;36m3\u001b[0m, collaborator validate_agg aggregated_model_validation result accuracy: \u001b[1;36m0.936667\u001b[0m                                   \u001b]8;id=791794;file://C:\\Users\\BHSU\\AppData\\Local\\Programs\\Python\\Python39\\lib\\site-packages\\openfl\\component\\aggregator\\aggregator.py\u001b\\\u001b[2maggregator.py\u001b[0m\u001b]8;;\u001b\\\u001b[2m:\u001b[0m\u001b]8;id=607367;file://C:\\Users\\BHSU\\AppData\\Local\\Programs\\Python\\Python39\\lib\\site-packages\\openfl\\component\\aggregator\\aggregator.py#559\u001b\\\u001b[2m559\u001b[0m\u001b]8;;\u001b\\\n"
      ]
     },
     "metadata": {},
     "output_type": "display_data"
    },
    {
     "data": {
      "text/html": [
       "<pre style=\"white-space:pre;overflow-x:auto;line-height:normal;font-family:Menlo,'DejaVu Sans Mono',consolas,'Courier New',monospace\"><span style=\"color: #7fbfbf; text-decoration-color: #7fbfbf\">           </span><span style=\"color: #000080; text-decoration-color: #000080\">INFO    </span> Using TaskRunner subclassing API                                                                                         <a href=\"file://C:\\Users\\BHSU\\AppData\\Local\\Programs\\Python\\Python39\\lib\\site-packages\\openfl\\component\\collaborator\\collaborator.py\" target=\"_blank\"><span style=\"color: #7f7f7f; text-decoration-color: #7f7f7f\">collaborator.py</span></a><span style=\"color: #7f7f7f; text-decoration-color: #7f7f7f\">:</span><a href=\"file://C:\\Users\\BHSU\\AppData\\Local\\Programs\\Python\\Python39\\lib\\site-packages\\openfl\\component\\collaborator\\collaborator.py#253\" target=\"_blank\"><span style=\"color: #7f7f7f; text-decoration-color: #7f7f7f\">253</span></a>\n",
       "</pre>\n"
      ],
      "text/plain": [
       "\u001b[2;36m          \u001b[0m\u001b[2;36m \u001b[0m\u001b[34mINFO    \u001b[0m Using TaskRunner subclassing API                                                                                         \u001b]8;id=372317;file://C:\\Users\\BHSU\\AppData\\Local\\Programs\\Python\\Python39\\lib\\site-packages\\openfl\\component\\collaborator\\collaborator.py\u001b\\\u001b[2mcollaborator.py\u001b[0m\u001b]8;;\u001b\\\u001b[2m:\u001b[0m\u001b]8;id=17213;file://C:\\Users\\BHSU\\AppData\\Local\\Programs\\Python\\Python39\\lib\\site-packages\\openfl\\component\\collaborator\\collaborator.py#253\u001b\\\u001b[2m253\u001b[0m\u001b]8;;\u001b\\\n"
      ]
     },
     "metadata": {},
     "output_type": "display_data"
    },
    {
     "data": {
      "text/html": [
       "<pre style=\"white-space:pre;overflow-x:auto;line-height:normal;font-family:Menlo,'DejaVu Sans Mono',consolas,'Courier New',monospace\"><span style=\"color: #7fbfbf; text-decoration-color: #7fbfbf\">           </span><span style=\"color: #000080; text-decoration-color: #000080\">INFO    </span> Run <span style=\"color: #008080; text-decoration-color: #008080; font-weight: bold\">0</span> epoch of <span style=\"color: #008080; text-decoration-color: #008080; font-weight: bold\">3</span> round                                                                                                    <a href=\"file://C:\\Users\\BHSU\\AppData\\Local\\Programs\\Python\\Python39\\lib\\site-packages\\openfl\\federated\\task\\runner_keras.py\" target=\"_blank\"><span style=\"color: #7f7f7f; text-decoration-color: #7f7f7f\">runner_keras.py</span></a><span style=\"color: #7f7f7f; text-decoration-color: #7f7f7f\">:</span><a href=\"file://C:\\Users\\BHSU\\AppData\\Local\\Programs\\Python\\Python39\\lib\\site-packages\\openfl\\federated\\task\\runner_keras.py#83\" target=\"_blank\"><span style=\"color: #7f7f7f; text-decoration-color: #7f7f7f\">83</span></a>\n",
       "</pre>\n"
      ],
      "text/plain": [
       "\u001b[2;36m          \u001b[0m\u001b[2;36m \u001b[0m\u001b[34mINFO    \u001b[0m Run \u001b[1;36m0\u001b[0m epoch of \u001b[1;36m3\u001b[0m round                                                                                                    \u001b]8;id=635968;file://C:\\Users\\BHSU\\AppData\\Local\\Programs\\Python\\Python39\\lib\\site-packages\\openfl\\federated\\task\\runner_keras.py\u001b\\\u001b[2mrunner_keras.py\u001b[0m\u001b]8;;\u001b\\\u001b[2m:\u001b[0m\u001b]8;id=242579;file://C:\\Users\\BHSU\\AppData\\Local\\Programs\\Python\\Python39\\lib\\site-packages\\openfl\\federated\\task\\runner_keras.py#83\u001b\\\u001b[2m83\u001b[0m\u001b]8;;\u001b\\\n"
      ]
     },
     "metadata": {},
     "output_type": "display_data"
    },
    {
     "name": "stdout",
     "output_type": "stream",
     "text": [
      "657/657 [==============================] - 0s 588us/step - loss: 0.1841 - accuracy: 0.9446\n"
     ]
    },
    {
     "data": {
      "text/html": [
       "<pre style=\"white-space:pre;overflow-x:auto;line-height:normal;font-family:Menlo,'DejaVu Sans Mono',consolas,'Courier New',monospace\"><span style=\"color: #7fbfbf; text-decoration-color: #7fbfbf\">           </span>METRIC   Round <span style=\"color: #008080; text-decoration-color: #008080; font-weight: bold\">3</span>, collaborator two is sending metric for task train: loss        <span style=\"color: #008080; text-decoration-color: #008080; font-weight: bold\">0.184091</span>                                         <a href=\"file://C:\\Users\\BHSU\\AppData\\Local\\Programs\\Python\\Python39\\lib\\site-packages\\openfl\\component\\collaborator\\collaborator.py\" target=\"_blank\"><span style=\"color: #7f7f7f; text-decoration-color: #7f7f7f\">collaborator.py</span></a><span style=\"color: #7f7f7f; text-decoration-color: #7f7f7f\">:</span><a href=\"file://C:\\Users\\BHSU\\AppData\\Local\\Programs\\Python\\Python39\\lib\\site-packages\\openfl\\component\\collaborator\\collaborator.py#415\" target=\"_blank\"><span style=\"color: #7f7f7f; text-decoration-color: #7f7f7f\">415</span></a>\n",
       "</pre>\n"
      ],
      "text/plain": [
       "\u001b[2;36m          \u001b[0m\u001b[2;36m \u001b[0mMETRIC   Round \u001b[1;36m3\u001b[0m, collaborator two is sending metric for task train: loss        \u001b[1;36m0.184091\u001b[0m                                         \u001b]8;id=861417;file://C:\\Users\\BHSU\\AppData\\Local\\Programs\\Python\\Python39\\lib\\site-packages\\openfl\\component\\collaborator\\collaborator.py\u001b\\\u001b[2mcollaborator.py\u001b[0m\u001b]8;;\u001b\\\u001b[2m:\u001b[0m\u001b]8;id=23334;file://C:\\Users\\BHSU\\AppData\\Local\\Programs\\Python\\Python39\\lib\\site-packages\\openfl\\component\\collaborator\\collaborator.py#415\u001b\\\u001b[2m415\u001b[0m\u001b]8;;\u001b\\\n"
      ]
     },
     "metadata": {},
     "output_type": "display_data"
    },
    {
     "data": {
      "text/html": [
       "<pre style=\"white-space:pre;overflow-x:auto;line-height:normal;font-family:Menlo,'DejaVu Sans Mono',consolas,'Courier New',monospace\"><span style=\"color: #7fbfbf; text-decoration-color: #7fbfbf\">           </span><span style=\"color: #000080; text-decoration-color: #000080\">INFO    </span> Collaborator two is sending task results for train, round <span style=\"color: #008080; text-decoration-color: #008080; font-weight: bold\">3</span>                                                                <a href=\"file://C:\\Users\\BHSU\\AppData\\Local\\Programs\\Python\\Python39\\lib\\site-packages\\openfl\\component\\aggregator\\aggregator.py\" target=\"_blank\"><span style=\"color: #7f7f7f; text-decoration-color: #7f7f7f\">aggregator.py</span></a><span style=\"color: #7f7f7f; text-decoration-color: #7f7f7f\">:</span><a href=\"file://C:\\Users\\BHSU\\AppData\\Local\\Programs\\Python\\Python39\\lib\\site-packages\\openfl\\component\\aggregator\\aggregator.py#520\" target=\"_blank\"><span style=\"color: #7f7f7f; text-decoration-color: #7f7f7f\">520</span></a>\n",
       "</pre>\n"
      ],
      "text/plain": [
       "\u001b[2;36m          \u001b[0m\u001b[2;36m \u001b[0m\u001b[34mINFO    \u001b[0m Collaborator two is sending task results for train, round \u001b[1;36m3\u001b[0m                                                                \u001b]8;id=260695;file://C:\\Users\\BHSU\\AppData\\Local\\Programs\\Python\\Python39\\lib\\site-packages\\openfl\\component\\aggregator\\aggregator.py\u001b\\\u001b[2maggregator.py\u001b[0m\u001b]8;;\u001b\\\u001b[2m:\u001b[0m\u001b]8;id=308971;file://C:\\Users\\BHSU\\AppData\\Local\\Programs\\Python\\Python39\\lib\\site-packages\\openfl\\component\\aggregator\\aggregator.py#520\u001b\\\u001b[2m520\u001b[0m\u001b]8;;\u001b\\\n"
      ]
     },
     "metadata": {},
     "output_type": "display_data"
    },
    {
     "data": {
      "text/html": [
       "<pre style=\"white-space:pre;overflow-x:auto;line-height:normal;font-family:Menlo,'DejaVu Sans Mono',consolas,'Courier New',monospace\"><span style=\"color: #7fbfbf; text-decoration-color: #7fbfbf\">           </span>METRIC   Round <span style=\"color: #008080; text-decoration-color: #008080; font-weight: bold\">3</span>, collaborator two train result loss:    <span style=\"color: #008080; text-decoration-color: #008080; font-weight: bold\">0.184091</span>                                                                   <a href=\"file://C:\\Users\\BHSU\\AppData\\Local\\Programs\\Python\\Python39\\lib\\site-packages\\openfl\\component\\aggregator\\aggregator.py\" target=\"_blank\"><span style=\"color: #7f7f7f; text-decoration-color: #7f7f7f\">aggregator.py</span></a><span style=\"color: #7f7f7f; text-decoration-color: #7f7f7f\">:</span><a href=\"file://C:\\Users\\BHSU\\AppData\\Local\\Programs\\Python\\Python39\\lib\\site-packages\\openfl\\component\\aggregator\\aggregator.py#559\" target=\"_blank\"><span style=\"color: #7f7f7f; text-decoration-color: #7f7f7f\">559</span></a>\n",
       "</pre>\n"
      ],
      "text/plain": [
       "\u001b[2;36m          \u001b[0m\u001b[2;36m \u001b[0mMETRIC   Round \u001b[1;36m3\u001b[0m, collaborator two train result loss:    \u001b[1;36m0.184091\u001b[0m                                                                   \u001b]8;id=256430;file://C:\\Users\\BHSU\\AppData\\Local\\Programs\\Python\\Python39\\lib\\site-packages\\openfl\\component\\aggregator\\aggregator.py\u001b\\\u001b[2maggregator.py\u001b[0m\u001b]8;;\u001b\\\u001b[2m:\u001b[0m\u001b]8;id=659521;file://C:\\Users\\BHSU\\AppData\\Local\\Programs\\Python\\Python39\\lib\\site-packages\\openfl\\component\\aggregator\\aggregator.py#559\u001b\\\u001b[2m559\u001b[0m\u001b]8;;\u001b\\\n"
      ]
     },
     "metadata": {},
     "output_type": "display_data"
    },
    {
     "data": {
      "text/html": [
       "<pre style=\"white-space:pre;overflow-x:auto;line-height:normal;font-family:Menlo,'DejaVu Sans Mono',consolas,'Courier New',monospace\"><span style=\"color: #7fbfbf; text-decoration-color: #7fbfbf\">           </span><span style=\"color: #000080; text-decoration-color: #000080\">INFO    </span> Using TaskRunner subclassing API                                                                                         <a href=\"file://C:\\Users\\BHSU\\AppData\\Local\\Programs\\Python\\Python39\\lib\\site-packages\\openfl\\component\\collaborator\\collaborator.py\" target=\"_blank\"><span style=\"color: #7f7f7f; text-decoration-color: #7f7f7f\">collaborator.py</span></a><span style=\"color: #7f7f7f; text-decoration-color: #7f7f7f\">:</span><a href=\"file://C:\\Users\\BHSU\\AppData\\Local\\Programs\\Python\\Python39\\lib\\site-packages\\openfl\\component\\collaborator\\collaborator.py#253\" target=\"_blank\"><span style=\"color: #7f7f7f; text-decoration-color: #7f7f7f\">253</span></a>\n",
       "</pre>\n"
      ],
      "text/plain": [
       "\u001b[2;36m          \u001b[0m\u001b[2;36m \u001b[0m\u001b[34mINFO    \u001b[0m Using TaskRunner subclassing API                                                                                         \u001b]8;id=267358;file://C:\\Users\\BHSU\\AppData\\Local\\Programs\\Python\\Python39\\lib\\site-packages\\openfl\\component\\collaborator\\collaborator.py\u001b\\\u001b[2mcollaborator.py\u001b[0m\u001b]8;;\u001b\\\u001b[2m:\u001b[0m\u001b]8;id=322949;file://C:\\Users\\BHSU\\AppData\\Local\\Programs\\Python\\Python39\\lib\\site-packages\\openfl\\component\\collaborator\\collaborator.py#253\u001b\\\u001b[2m253\u001b[0m\u001b]8;;\u001b\\\n"
      ]
     },
     "metadata": {},
     "output_type": "display_data"
    },
    {
     "name": "stdout",
     "output_type": "stream",
     "text": [
      "282/282 [==============================] - 0s 480us/step - loss: 0.1975 - accuracy: 0.9416\n"
     ]
    },
    {
     "data": {
      "text/html": [
       "<pre style=\"white-space:pre;overflow-x:auto;line-height:normal;font-family:Menlo,'DejaVu Sans Mono',consolas,'Courier New',monospace\"><span style=\"color: #7fbfbf; text-decoration-color: #7fbfbf\">[08:29:07] </span>METRIC   Round <span style=\"color: #008080; text-decoration-color: #008080; font-weight: bold\">3</span>, collaborator two is sending metric for task locally_tuned_model_validation: accuracy   <span style=\"color: #008080; text-decoration-color: #008080; font-weight: bold\">0.941556</span>                 <a href=\"file://C:\\Users\\BHSU\\AppData\\Local\\Programs\\Python\\Python39\\lib\\site-packages\\openfl\\component\\collaborator\\collaborator.py\" target=\"_blank\"><span style=\"color: #7f7f7f; text-decoration-color: #7f7f7f\">collaborator.py</span></a><span style=\"color: #7f7f7f; text-decoration-color: #7f7f7f\">:</span><a href=\"file://C:\\Users\\BHSU\\AppData\\Local\\Programs\\Python\\Python39\\lib\\site-packages\\openfl\\component\\collaborator\\collaborator.py#415\" target=\"_blank\"><span style=\"color: #7f7f7f; text-decoration-color: #7f7f7f\">415</span></a>\n",
       "</pre>\n"
      ],
      "text/plain": [
       "\u001b[2;36m[08:29:07]\u001b[0m\u001b[2;36m \u001b[0mMETRIC   Round \u001b[1;36m3\u001b[0m, collaborator two is sending metric for task locally_tuned_model_validation: accuracy   \u001b[1;36m0.941556\u001b[0m                 \u001b]8;id=529807;file://C:\\Users\\BHSU\\AppData\\Local\\Programs\\Python\\Python39\\lib\\site-packages\\openfl\\component\\collaborator\\collaborator.py\u001b\\\u001b[2mcollaborator.py\u001b[0m\u001b]8;;\u001b\\\u001b[2m:\u001b[0m\u001b]8;id=464645;file://C:\\Users\\BHSU\\AppData\\Local\\Programs\\Python\\Python39\\lib\\site-packages\\openfl\\component\\collaborator\\collaborator.py#415\u001b\\\u001b[2m415\u001b[0m\u001b]8;;\u001b\\\n"
      ]
     },
     "metadata": {},
     "output_type": "display_data"
    },
    {
     "data": {
      "text/html": [
       "<pre style=\"white-space:pre;overflow-x:auto;line-height:normal;font-family:Menlo,'DejaVu Sans Mono',consolas,'Courier New',monospace\"><span style=\"color: #7fbfbf; text-decoration-color: #7fbfbf\">           </span><span style=\"color: #000080; text-decoration-color: #000080\">INFO    </span> Collaborator two is sending task results for locally_tuned_model_validation, round <span style=\"color: #008080; text-decoration-color: #008080; font-weight: bold\">3</span>                                       <a href=\"file://C:\\Users\\BHSU\\AppData\\Local\\Programs\\Python\\Python39\\lib\\site-packages\\openfl\\component\\aggregator\\aggregator.py\" target=\"_blank\"><span style=\"color: #7f7f7f; text-decoration-color: #7f7f7f\">aggregator.py</span></a><span style=\"color: #7f7f7f; text-decoration-color: #7f7f7f\">:</span><a href=\"file://C:\\Users\\BHSU\\AppData\\Local\\Programs\\Python\\Python39\\lib\\site-packages\\openfl\\component\\aggregator\\aggregator.py#520\" target=\"_blank\"><span style=\"color: #7f7f7f; text-decoration-color: #7f7f7f\">520</span></a>\n",
       "</pre>\n"
      ],
      "text/plain": [
       "\u001b[2;36m          \u001b[0m\u001b[2;36m \u001b[0m\u001b[34mINFO    \u001b[0m Collaborator two is sending task results for locally_tuned_model_validation, round \u001b[1;36m3\u001b[0m                                       \u001b]8;id=860946;file://C:\\Users\\BHSU\\AppData\\Local\\Programs\\Python\\Python39\\lib\\site-packages\\openfl\\component\\aggregator\\aggregator.py\u001b\\\u001b[2maggregator.py\u001b[0m\u001b]8;;\u001b\\\u001b[2m:\u001b[0m\u001b]8;id=147442;file://C:\\Users\\BHSU\\AppData\\Local\\Programs\\Python\\Python39\\lib\\site-packages\\openfl\\component\\aggregator\\aggregator.py#520\u001b\\\u001b[2m520\u001b[0m\u001b]8;;\u001b\\\n"
      ]
     },
     "metadata": {},
     "output_type": "display_data"
    },
    {
     "data": {
      "text/html": [
       "<pre style=\"white-space:pre;overflow-x:auto;line-height:normal;font-family:Menlo,'DejaVu Sans Mono',consolas,'Courier New',monospace\"><span style=\"color: #7fbfbf; text-decoration-color: #7fbfbf\">           </span>METRIC   Round <span style=\"color: #008080; text-decoration-color: #008080; font-weight: bold\">3</span>, collaborator validate_local locally_tuned_model_validation result accuracy:    <span style=\"color: #008080; text-decoration-color: #008080; font-weight: bold\">0.941556</span>                           <a href=\"file://C:\\Users\\BHSU\\AppData\\Local\\Programs\\Python\\Python39\\lib\\site-packages\\openfl\\component\\aggregator\\aggregator.py\" target=\"_blank\"><span style=\"color: #7f7f7f; text-decoration-color: #7f7f7f\">aggregator.py</span></a><span style=\"color: #7f7f7f; text-decoration-color: #7f7f7f\">:</span><a href=\"file://C:\\Users\\BHSU\\AppData\\Local\\Programs\\Python\\Python39\\lib\\site-packages\\openfl\\component\\aggregator\\aggregator.py#559\" target=\"_blank\"><span style=\"color: #7f7f7f; text-decoration-color: #7f7f7f\">559</span></a>\n",
       "</pre>\n"
      ],
      "text/plain": [
       "\u001b[2;36m          \u001b[0m\u001b[2;36m \u001b[0mMETRIC   Round \u001b[1;36m3\u001b[0m, collaborator validate_local locally_tuned_model_validation result accuracy:    \u001b[1;36m0.941556\u001b[0m                           \u001b]8;id=133370;file://C:\\Users\\BHSU\\AppData\\Local\\Programs\\Python\\Python39\\lib\\site-packages\\openfl\\component\\aggregator\\aggregator.py\u001b\\\u001b[2maggregator.py\u001b[0m\u001b]8;;\u001b\\\u001b[2m:\u001b[0m\u001b]8;id=55818;file://C:\\Users\\BHSU\\AppData\\Local\\Programs\\Python\\Python39\\lib\\site-packages\\openfl\\component\\aggregator\\aggregator.py#559\u001b\\\u001b[2m559\u001b[0m\u001b]8;;\u001b\\\n"
      ]
     },
     "metadata": {},
     "output_type": "display_data"
    },
    {
     "data": {
      "text/html": [
       "<pre style=\"white-space:pre;overflow-x:auto;line-height:normal;font-family:Menlo,'DejaVu Sans Mono',consolas,'Courier New',monospace\"><span style=\"color: #7fbfbf; text-decoration-color: #7fbfbf\">           </span>METRIC   Round <span style=\"color: #008080; text-decoration-color: #008080; font-weight: bold\">3</span>, aggregator: locally_tuned_model_validation                                                                        <a href=\"file://C:\\Users\\BHSU\\AppData\\Local\\Programs\\Python\\Python39\\lib\\site-packages\\openfl\\component\\aggregator\\aggregator.py\" target=\"_blank\"><span style=\"color: #7f7f7f; text-decoration-color: #7f7f7f\">aggregator.py</span></a><span style=\"color: #7f7f7f; text-decoration-color: #7f7f7f\">:</span><a href=\"file://C:\\Users\\BHSU\\AppData\\Local\\Programs\\Python\\Python39\\lib\\site-packages\\openfl\\component\\aggregator\\aggregator.py#842\" target=\"_blank\"><span style=\"color: #7f7f7f; text-decoration-color: #7f7f7f\">842</span></a>\n",
       "<span style=\"color: #7fbfbf; text-decoration-color: #7fbfbf\">           </span>         <span style=\"font-weight: bold\">&lt;</span><span style=\"color: #ff00ff; text-decoration-color: #ff00ff; font-weight: bold\">openfl.interface.aggregation_functions.weighted_average.WeightedAverage</span><span style=\"color: #000000; text-decoration-color: #000000\"> object at </span><span style=\"color: #008080; text-decoration-color: #008080; font-weight: bold\">0x0000024658124790</span><span style=\"font-weight: bold\">&gt;</span> accuracy:           <span style=\"color: #7f7f7f; text-decoration-color: #7f7f7f\">                 </span>\n",
       "<span style=\"color: #7fbfbf; text-decoration-color: #7fbfbf\">           </span>         <span style=\"color: #008080; text-decoration-color: #008080; font-weight: bold\">0.938778</span>                                                                                                                   <span style=\"color: #7f7f7f; text-decoration-color: #7f7f7f\">                 </span>\n",
       "</pre>\n"
      ],
      "text/plain": [
       "\u001b[2;36m          \u001b[0m\u001b[2;36m \u001b[0mMETRIC   Round \u001b[1;36m3\u001b[0m, aggregator: locally_tuned_model_validation                                                                        \u001b]8;id=661774;file://C:\\Users\\BHSU\\AppData\\Local\\Programs\\Python\\Python39\\lib\\site-packages\\openfl\\component\\aggregator\\aggregator.py\u001b\\\u001b[2maggregator.py\u001b[0m\u001b]8;;\u001b\\\u001b[2m:\u001b[0m\u001b]8;id=772030;file://C:\\Users\\BHSU\\AppData\\Local\\Programs\\Python\\Python39\\lib\\site-packages\\openfl\\component\\aggregator\\aggregator.py#842\u001b\\\u001b[2m842\u001b[0m\u001b]8;;\u001b\\\n",
       "\u001b[2;36m           \u001b[0m         \u001b[1m<\u001b[0m\u001b[1;95mopenfl.interface.aggregation_functions.weighted_average.WeightedAverage\u001b[0m\u001b[39m object at \u001b[0m\u001b[1;36m0x0000024658124790\u001b[0m\u001b[1m>\u001b[0m accuracy:           \u001b[2m                 \u001b[0m\n",
       "\u001b[2;36m           \u001b[0m         \u001b[1;36m0.938778\u001b[0m                                                                                                                   \u001b[2m                 \u001b[0m\n"
      ]
     },
     "metadata": {},
     "output_type": "display_data"
    },
    {
     "data": {
      "text/html": [
       "<pre style=\"white-space:pre;overflow-x:auto;line-height:normal;font-family:Menlo,'DejaVu Sans Mono',consolas,'Courier New',monospace\"><span style=\"color: #7fbfbf; text-decoration-color: #7fbfbf\">           </span>METRIC   Round <span style=\"color: #008080; text-decoration-color: #008080; font-weight: bold\">3</span>, aggregator: aggregated_model_validation <span style=\"font-weight: bold\">&lt;</span><span style=\"color: #ff00ff; text-decoration-color: #ff00ff; font-weight: bold\">openfl.interface.aggregation_functions.weighted_average.WeightedAverage</span><span style=\"color: #000000; text-decoration-color: #000000\"> </span> <a href=\"file://C:\\Users\\BHSU\\AppData\\Local\\Programs\\Python\\Python39\\lib\\site-packages\\openfl\\component\\aggregator\\aggregator.py\" target=\"_blank\"><span style=\"color: #7f7f7f; text-decoration-color: #7f7f7f\">aggregator.py</span></a><span style=\"color: #7f7f7f; text-decoration-color: #7f7f7f\">:</span><a href=\"file://C:\\Users\\BHSU\\AppData\\Local\\Programs\\Python\\Python39\\lib\\site-packages\\openfl\\component\\aggregator\\aggregator.py#842\" target=\"_blank\"><span style=\"color: #7f7f7f; text-decoration-color: #7f7f7f\">842</span></a>\n",
       "<span style=\"color: #7fbfbf; text-decoration-color: #7fbfbf\">           </span>         <span style=\"color: #000000; text-decoration-color: #000000\">object at </span><span style=\"color: #008080; text-decoration-color: #008080; font-weight: bold\">0x0000024658124790</span><span style=\"font-weight: bold\">&gt;</span> accuracy:       <span style=\"color: #008080; text-decoration-color: #008080; font-weight: bold\">0.938000</span>                                                                     <span style=\"color: #7f7f7f; text-decoration-color: #7f7f7f\">                 </span>\n",
       "</pre>\n"
      ],
      "text/plain": [
       "\u001b[2;36m          \u001b[0m\u001b[2;36m \u001b[0mMETRIC   Round \u001b[1;36m3\u001b[0m, aggregator: aggregated_model_validation \u001b[1m<\u001b[0m\u001b[1;95mopenfl.interface.aggregation_functions.weighted_average.WeightedAverage\u001b[0m\u001b[39m \u001b[0m \u001b]8;id=549710;file://C:\\Users\\BHSU\\AppData\\Local\\Programs\\Python\\Python39\\lib\\site-packages\\openfl\\component\\aggregator\\aggregator.py\u001b\\\u001b[2maggregator.py\u001b[0m\u001b]8;;\u001b\\\u001b[2m:\u001b[0m\u001b]8;id=366576;file://C:\\Users\\BHSU\\AppData\\Local\\Programs\\Python\\Python39\\lib\\site-packages\\openfl\\component\\aggregator\\aggregator.py#842\u001b\\\u001b[2m842\u001b[0m\u001b]8;;\u001b\\\n",
       "\u001b[2;36m           \u001b[0m         \u001b[39mobject at \u001b[0m\u001b[1;36m0x0000024658124790\u001b[0m\u001b[1m>\u001b[0m accuracy:       \u001b[1;36m0.938000\u001b[0m                                                                     \u001b[2m                 \u001b[0m\n"
      ]
     },
     "metadata": {},
     "output_type": "display_data"
    },
    {
     "data": {
      "text/html": [
       "<pre style=\"white-space:pre;overflow-x:auto;line-height:normal;font-family:Menlo,'DejaVu Sans Mono',consolas,'Courier New',monospace\"><span style=\"color: #7fbfbf; text-decoration-color: #7fbfbf\">           </span>METRIC   Round <span style=\"color: #008080; text-decoration-color: #008080; font-weight: bold\">3</span>: saved the best model with score <span style=\"color: #008080; text-decoration-color: #008080; font-weight: bold\">0.938000</span>                                                                          <a href=\"file://C:\\Users\\BHSU\\AppData\\Local\\Programs\\Python\\Python39\\lib\\site-packages\\openfl\\component\\aggregator\\aggregator.py\" target=\"_blank\"><span style=\"color: #7f7f7f; text-decoration-color: #7f7f7f\">aggregator.py</span></a><span style=\"color: #7f7f7f; text-decoration-color: #7f7f7f\">:</span><a href=\"file://C:\\Users\\BHSU\\AppData\\Local\\Programs\\Python\\Python39\\lib\\site-packages\\openfl\\component\\aggregator\\aggregator.py#858\" target=\"_blank\"><span style=\"color: #7f7f7f; text-decoration-color: #7f7f7f\">858</span></a>\n",
       "</pre>\n"
      ],
      "text/plain": [
       "\u001b[2;36m          \u001b[0m\u001b[2;36m \u001b[0mMETRIC   Round \u001b[1;36m3\u001b[0m: saved the best model with score \u001b[1;36m0.938000\u001b[0m                                                                          \u001b]8;id=224875;file://C:\\Users\\BHSU\\AppData\\Local\\Programs\\Python\\Python39\\lib\\site-packages\\openfl\\component\\aggregator\\aggregator.py\u001b\\\u001b[2maggregator.py\u001b[0m\u001b]8;;\u001b\\\u001b[2m:\u001b[0m\u001b]8;id=129354;file://C:\\Users\\BHSU\\AppData\\Local\\Programs\\Python\\Python39\\lib\\site-packages\\openfl\\component\\aggregator\\aggregator.py#858\u001b\\\u001b[2m858\u001b[0m\u001b]8;;\u001b\\\n"
      ]
     },
     "metadata": {},
     "output_type": "display_data"
    },
    {
     "data": {
      "text/html": [
       "<pre style=\"white-space:pre;overflow-x:auto;line-height:normal;font-family:Menlo,'DejaVu Sans Mono',consolas,'Courier New',monospace\"><span style=\"color: #7fbfbf; text-decoration-color: #7fbfbf\">           </span>METRIC   Round <span style=\"color: #008080; text-decoration-color: #008080; font-weight: bold\">3</span>, aggregator: train <span style=\"font-weight: bold\">&lt;</span><span style=\"color: #ff00ff; text-decoration-color: #ff00ff; font-weight: bold\">openfl.interface.aggregation_functions.weighted_average.WeightedAverage</span><span style=\"color: #000000; text-decoration-color: #000000\"> object at </span>             <a href=\"file://C:\\Users\\BHSU\\AppData\\Local\\Programs\\Python\\Python39\\lib\\site-packages\\openfl\\component\\aggregator\\aggregator.py\" target=\"_blank\"><span style=\"color: #7f7f7f; text-decoration-color: #7f7f7f\">aggregator.py</span></a><span style=\"color: #7f7f7f; text-decoration-color: #7f7f7f\">:</span><a href=\"file://C:\\Users\\BHSU\\AppData\\Local\\Programs\\Python\\Python39\\lib\\site-packages\\openfl\\component\\aggregator\\aggregator.py#842\" target=\"_blank\"><span style=\"color: #7f7f7f; text-decoration-color: #7f7f7f\">842</span></a>\n",
       "<span style=\"color: #7fbfbf; text-decoration-color: #7fbfbf\">           </span>         <span style=\"color: #008080; text-decoration-color: #008080; font-weight: bold\">0x0000024658124790</span><span style=\"font-weight: bold\">&gt;</span> loss: <span style=\"color: #008080; text-decoration-color: #008080; font-weight: bold\">0.191972</span>                                                                                         <span style=\"color: #7f7f7f; text-decoration-color: #7f7f7f\">                 </span>\n",
       "</pre>\n"
      ],
      "text/plain": [
       "\u001b[2;36m          \u001b[0m\u001b[2;36m \u001b[0mMETRIC   Round \u001b[1;36m3\u001b[0m, aggregator: train \u001b[1m<\u001b[0m\u001b[1;95mopenfl.interface.aggregation_functions.weighted_average.WeightedAverage\u001b[0m\u001b[39m object at \u001b[0m             \u001b]8;id=251800;file://C:\\Users\\BHSU\\AppData\\Local\\Programs\\Python\\Python39\\lib\\site-packages\\openfl\\component\\aggregator\\aggregator.py\u001b\\\u001b[2maggregator.py\u001b[0m\u001b]8;;\u001b\\\u001b[2m:\u001b[0m\u001b]8;id=928874;file://C:\\Users\\BHSU\\AppData\\Local\\Programs\\Python\\Python39\\lib\\site-packages\\openfl\\component\\aggregator\\aggregator.py#842\u001b\\\u001b[2m842\u001b[0m\u001b]8;;\u001b\\\n",
       "\u001b[2;36m           \u001b[0m         \u001b[1;36m0x0000024658124790\u001b[0m\u001b[1m>\u001b[0m loss: \u001b[1;36m0.191972\u001b[0m                                                                                         \u001b[2m                 \u001b[0m\n"
      ]
     },
     "metadata": {},
     "output_type": "display_data"
    },
    {
     "data": {
      "text/html": [
       "<pre style=\"white-space:pre;overflow-x:auto;line-height:normal;font-family:Menlo,'DejaVu Sans Mono',consolas,'Courier New',monospace\"><span style=\"color: #7fbfbf; text-decoration-color: #7fbfbf\">           </span><span style=\"color: #000080; text-decoration-color: #000080\">INFO    </span> Saving round <span style=\"color: #008080; text-decoration-color: #008080; font-weight: bold\">4</span> model<span style=\"color: #808000; text-decoration-color: #808000\">...</span>                                                                                                    <a href=\"file://C:\\Users\\BHSU\\AppData\\Local\\Programs\\Python\\Python39\\lib\\site-packages\\openfl\\component\\aggregator\\aggregator.py\" target=\"_blank\"><span style=\"color: #7f7f7f; text-decoration-color: #7f7f7f\">aggregator.py</span></a><span style=\"color: #7f7f7f; text-decoration-color: #7f7f7f\">:</span><a href=\"file://C:\\Users\\BHSU\\AppData\\Local\\Programs\\Python\\Python39\\lib\\site-packages\\openfl\\component\\aggregator\\aggregator.py#894\" target=\"_blank\"><span style=\"color: #7f7f7f; text-decoration-color: #7f7f7f\">894</span></a>\n",
       "</pre>\n"
      ],
      "text/plain": [
       "\u001b[2;36m          \u001b[0m\u001b[2;36m \u001b[0m\u001b[34mINFO    \u001b[0m Saving round \u001b[1;36m4\u001b[0m model\u001b[33m...\u001b[0m                                                                                                    \u001b]8;id=759979;file://C:\\Users\\BHSU\\AppData\\Local\\Programs\\Python\\Python39\\lib\\site-packages\\openfl\\component\\aggregator\\aggregator.py\u001b\\\u001b[2maggregator.py\u001b[0m\u001b]8;;\u001b\\\u001b[2m:\u001b[0m\u001b]8;id=634294;file://C:\\Users\\BHSU\\AppData\\Local\\Programs\\Python\\Python39\\lib\\site-packages\\openfl\\component\\aggregator\\aggregator.py#894\u001b\\\u001b[2m894\u001b[0m\u001b]8;;\u001b\\\n"
      ]
     },
     "metadata": {},
     "output_type": "display_data"
    },
    {
     "data": {
      "text/html": [
       "<pre style=\"white-space:pre;overflow-x:auto;line-height:normal;font-family:Menlo,'DejaVu Sans Mono',consolas,'Courier New',monospace\"><span style=\"color: #7fbfbf; text-decoration-color: #7fbfbf\">           </span><span style=\"color: #000080; text-decoration-color: #000080\">INFO    </span> Starting round <span style=\"color: #008080; text-decoration-color: #008080; font-weight: bold\">4</span><span style=\"color: #808000; text-decoration-color: #808000\">...</span>                                                                                                        <a href=\"file://C:\\Users\\BHSU\\AppData\\Local\\Programs\\Python\\Python39\\lib\\site-packages\\openfl\\component\\aggregator\\aggregator.py\" target=\"_blank\"><span style=\"color: #7f7f7f; text-decoration-color: #7f7f7f\">aggregator.py</span></a><span style=\"color: #7f7f7f; text-decoration-color: #7f7f7f\">:</span><a href=\"file://C:\\Users\\BHSU\\AppData\\Local\\Programs\\Python\\Python39\\lib\\site-packages\\openfl\\component\\aggregator\\aggregator.py#901\" target=\"_blank\"><span style=\"color: #7f7f7f; text-decoration-color: #7f7f7f\">901</span></a>\n",
       "</pre>\n"
      ],
      "text/plain": [
       "\u001b[2;36m          \u001b[0m\u001b[2;36m \u001b[0m\u001b[34mINFO    \u001b[0m Starting round \u001b[1;36m4\u001b[0m\u001b[33m...\u001b[0m                                                                                                        \u001b]8;id=678349;file://C:\\Users\\BHSU\\AppData\\Local\\Programs\\Python\\Python39\\lib\\site-packages\\openfl\\component\\aggregator\\aggregator.py\u001b\\\u001b[2maggregator.py\u001b[0m\u001b]8;;\u001b\\\u001b[2m:\u001b[0m\u001b]8;id=386611;file://C:\\Users\\BHSU\\AppData\\Local\\Programs\\Python\\Python39\\lib\\site-packages\\openfl\\component\\aggregator\\aggregator.py#901\u001b\\\u001b[2m901\u001b[0m\u001b]8;;\u001b\\\n"
      ]
     },
     "metadata": {},
     "output_type": "display_data"
    },
    {
     "data": {
      "text/html": [
       "<pre style=\"white-space:pre;overflow-x:auto;line-height:normal;font-family:Menlo,'DejaVu Sans Mono',consolas,'Courier New',monospace\"><span style=\"color: #7fbfbf; text-decoration-color: #7fbfbf\">           </span><span style=\"color: #000080; text-decoration-color: #000080\">INFO    </span> All tasks completed on two for round <span style=\"color: #008080; text-decoration-color: #008080; font-weight: bold\">3</span><span style=\"color: #808000; text-decoration-color: #808000\">...</span>                                                                                <a href=\"file://C:\\Users\\BHSU\\AppData\\Local\\Programs\\Python\\Python39\\lib\\site-packages\\openfl\\component\\collaborator\\collaborator.py\" target=\"_blank\"><span style=\"color: #7f7f7f; text-decoration-color: #7f7f7f\">collaborator.py</span></a><span style=\"color: #7f7f7f; text-decoration-color: #7f7f7f\">:</span><a href=\"file://C:\\Users\\BHSU\\AppData\\Local\\Programs\\Python\\Python39\\lib\\site-packages\\openfl\\component\\collaborator\\collaborator.py#171\" target=\"_blank\"><span style=\"color: #7f7f7f; text-decoration-color: #7f7f7f\">171</span></a>\n",
       "</pre>\n"
      ],
      "text/plain": [
       "\u001b[2;36m          \u001b[0m\u001b[2;36m \u001b[0m\u001b[34mINFO    \u001b[0m All tasks completed on two for round \u001b[1;36m3\u001b[0m\u001b[33m...\u001b[0m                                                                                \u001b]8;id=412605;file://C:\\Users\\BHSU\\AppData\\Local\\Programs\\Python\\Python39\\lib\\site-packages\\openfl\\component\\collaborator\\collaborator.py\u001b\\\u001b[2mcollaborator.py\u001b[0m\u001b]8;;\u001b\\\u001b[2m:\u001b[0m\u001b]8;id=100808;file://C:\\Users\\BHSU\\AppData\\Local\\Programs\\Python\\Python39\\lib\\site-packages\\openfl\\component\\collaborator\\collaborator.py#171\u001b\\\u001b[2m171\u001b[0m\u001b]8;;\u001b\\\n"
      ]
     },
     "metadata": {},
     "output_type": "display_data"
    },
    {
     "data": {
      "text/html": [
       "<pre style=\"white-space:pre;overflow-x:auto;line-height:normal;font-family:Menlo,'DejaVu Sans Mono',consolas,'Courier New',monospace\"><span style=\"color: #7fbfbf; text-decoration-color: #7fbfbf\">           </span><span style=\"color: #000080; text-decoration-color: #000080\">INFO    </span> Waiting for tasks<span style=\"color: #808000; text-decoration-color: #808000\">...</span>                                                                                                     <a href=\"file://C:\\Users\\BHSU\\AppData\\Local\\Programs\\Python\\Python39\\lib\\site-packages\\openfl\\component\\collaborator\\collaborator.py\" target=\"_blank\"><span style=\"color: #7f7f7f; text-decoration-color: #7f7f7f\">collaborator.py</span></a><span style=\"color: #7f7f7f; text-decoration-color: #7f7f7f\">:</span><a href=\"file://C:\\Users\\BHSU\\AppData\\Local\\Programs\\Python\\Python39\\lib\\site-packages\\openfl\\component\\collaborator\\collaborator.py#178\" target=\"_blank\"><span style=\"color: #7f7f7f; text-decoration-color: #7f7f7f\">178</span></a>\n",
       "</pre>\n"
      ],
      "text/plain": [
       "\u001b[2;36m          \u001b[0m\u001b[2;36m \u001b[0m\u001b[34mINFO    \u001b[0m Waiting for tasks\u001b[33m...\u001b[0m                                                                                                     \u001b]8;id=582473;file://C:\\Users\\BHSU\\AppData\\Local\\Programs\\Python\\Python39\\lib\\site-packages\\openfl\\component\\collaborator\\collaborator.py\u001b\\\u001b[2mcollaborator.py\u001b[0m\u001b]8;;\u001b\\\u001b[2m:\u001b[0m\u001b]8;id=723169;file://C:\\Users\\BHSU\\AppData\\Local\\Programs\\Python\\Python39\\lib\\site-packages\\openfl\\component\\collaborator\\collaborator.py#178\u001b\\\u001b[2m178\u001b[0m\u001b]8;;\u001b\\\n"
      ]
     },
     "metadata": {},
     "output_type": "display_data"
    },
    {
     "data": {
      "text/html": [
       "<pre style=\"white-space:pre;overflow-x:auto;line-height:normal;font-family:Menlo,'DejaVu Sans Mono',consolas,'Courier New',monospace\"><span style=\"color: #7fbfbf; text-decoration-color: #7fbfbf\">           </span><span style=\"color: #000080; text-decoration-color: #000080\">INFO    </span> Sending tasks to collaborator one for round <span style=\"color: #008080; text-decoration-color: #008080; font-weight: bold\">4</span>                                                                              <a href=\"file://C:\\Users\\BHSU\\AppData\\Local\\Programs\\Python\\Python39\\lib\\site-packages\\openfl\\component\\aggregator\\aggregator.py\" target=\"_blank\"><span style=\"color: #7f7f7f; text-decoration-color: #7f7f7f\">aggregator.py</span></a><span style=\"color: #7f7f7f; text-decoration-color: #7f7f7f\">:</span><a href=\"file://C:\\Users\\BHSU\\AppData\\Local\\Programs\\Python\\Python39\\lib\\site-packages\\openfl\\component\\aggregator\\aggregator.py#329\" target=\"_blank\"><span style=\"color: #7f7f7f; text-decoration-color: #7f7f7f\">329</span></a>\n",
       "</pre>\n"
      ],
      "text/plain": [
       "\u001b[2;36m          \u001b[0m\u001b[2;36m \u001b[0m\u001b[34mINFO    \u001b[0m Sending tasks to collaborator one for round \u001b[1;36m4\u001b[0m                                                                              \u001b]8;id=361448;file://C:\\Users\\BHSU\\AppData\\Local\\Programs\\Python\\Python39\\lib\\site-packages\\openfl\\component\\aggregator\\aggregator.py\u001b\\\u001b[2maggregator.py\u001b[0m\u001b]8;;\u001b\\\u001b[2m:\u001b[0m\u001b]8;id=490928;file://C:\\Users\\BHSU\\AppData\\Local\\Programs\\Python\\Python39\\lib\\site-packages\\openfl\\component\\aggregator\\aggregator.py#329\u001b\\\u001b[2m329\u001b[0m\u001b]8;;\u001b\\\n"
      ]
     },
     "metadata": {},
     "output_type": "display_data"
    },
    {
     "data": {
      "text/html": [
       "<pre style=\"white-space:pre;overflow-x:auto;line-height:normal;font-family:Menlo,'DejaVu Sans Mono',consolas,'Courier New',monospace\"><span style=\"color: #7fbfbf; text-decoration-color: #7fbfbf\">           </span><span style=\"color: #000080; text-decoration-color: #000080\">INFO    </span> Received the following tasks: <span style=\"font-weight: bold\">[</span><span style=\"color: #008000; text-decoration-color: #008000\">'aggregated_model_validation'</span>, <span style=\"color: #008000; text-decoration-color: #008000\">'train'</span>, <span style=\"color: #008000; text-decoration-color: #008000\">'locally_tuned_model_validation'</span><span style=\"font-weight: bold\">]</span>                 <a href=\"file://C:\\Users\\BHSU\\AppData\\Local\\Programs\\Python\\Python39\\lib\\site-packages\\openfl\\component\\collaborator\\collaborator.py\" target=\"_blank\"><span style=\"color: #7f7f7f; text-decoration-color: #7f7f7f\">collaborator.py</span></a><span style=\"color: #7f7f7f; text-decoration-color: #7f7f7f\">:</span><a href=\"file://C:\\Users\\BHSU\\AppData\\Local\\Programs\\Python\\Python39\\lib\\site-packages\\openfl\\component\\collaborator\\collaborator.py#168\" target=\"_blank\"><span style=\"color: #7f7f7f; text-decoration-color: #7f7f7f\">168</span></a>\n",
       "</pre>\n"
      ],
      "text/plain": [
       "\u001b[2;36m          \u001b[0m\u001b[2;36m \u001b[0m\u001b[34mINFO    \u001b[0m Received the following tasks: \u001b[1m[\u001b[0m\u001b[32m'aggregated_model_validation'\u001b[0m, \u001b[32m'train'\u001b[0m, \u001b[32m'locally_tuned_model_validation'\u001b[0m\u001b[1m]\u001b[0m                 \u001b]8;id=533948;file://C:\\Users\\BHSU\\AppData\\Local\\Programs\\Python\\Python39\\lib\\site-packages\\openfl\\component\\collaborator\\collaborator.py\u001b\\\u001b[2mcollaborator.py\u001b[0m\u001b]8;;\u001b\\\u001b[2m:\u001b[0m\u001b]8;id=295568;file://C:\\Users\\BHSU\\AppData\\Local\\Programs\\Python\\Python39\\lib\\site-packages\\openfl\\component\\collaborator\\collaborator.py#168\u001b\\\u001b[2m168\u001b[0m\u001b]8;;\u001b\\\n"
      ]
     },
     "metadata": {},
     "output_type": "display_data"
    },
    {
     "data": {
      "text/html": [
       "<pre style=\"white-space:pre;overflow-x:auto;line-height:normal;font-family:Menlo,'DejaVu Sans Mono',consolas,'Courier New',monospace\"><span style=\"color: #7fbfbf; text-decoration-color: #7fbfbf\">           </span><span style=\"color: #000080; text-decoration-color: #000080\">INFO    </span> Using TaskRunner subclassing API                                                                                         <a href=\"file://C:\\Users\\BHSU\\AppData\\Local\\Programs\\Python\\Python39\\lib\\site-packages\\openfl\\component\\collaborator\\collaborator.py\" target=\"_blank\"><span style=\"color: #7f7f7f; text-decoration-color: #7f7f7f\">collaborator.py</span></a><span style=\"color: #7f7f7f; text-decoration-color: #7f7f7f\">:</span><a href=\"file://C:\\Users\\BHSU\\AppData\\Local\\Programs\\Python\\Python39\\lib\\site-packages\\openfl\\component\\collaborator\\collaborator.py#253\" target=\"_blank\"><span style=\"color: #7f7f7f; text-decoration-color: #7f7f7f\">253</span></a>\n",
       "</pre>\n"
      ],
      "text/plain": [
       "\u001b[2;36m          \u001b[0m\u001b[2;36m \u001b[0m\u001b[34mINFO    \u001b[0m Using TaskRunner subclassing API                                                                                         \u001b]8;id=251668;file://C:\\Users\\BHSU\\AppData\\Local\\Programs\\Python\\Python39\\lib\\site-packages\\openfl\\component\\collaborator\\collaborator.py\u001b\\\u001b[2mcollaborator.py\u001b[0m\u001b]8;;\u001b\\\u001b[2m:\u001b[0m\u001b]8;id=674797;file://C:\\Users\\BHSU\\AppData\\Local\\Programs\\Python\\Python39\\lib\\site-packages\\openfl\\component\\collaborator\\collaborator.py#253\u001b\\\u001b[2m253\u001b[0m\u001b]8;;\u001b\\\n"
      ]
     },
     "metadata": {},
     "output_type": "display_data"
    },
    {
     "name": "stdout",
     "output_type": "stream",
     "text": [
      "282/282 [==============================] - 0s 591us/step - loss: 0.1586 - accuracy: 0.9496\n"
     ]
    },
    {
     "data": {
      "text/html": [
       "<pre style=\"white-space:pre;overflow-x:auto;line-height:normal;font-family:Menlo,'DejaVu Sans Mono',consolas,'Courier New',monospace\"><span style=\"color: #7fbfbf; text-decoration-color: #7fbfbf\">           </span>METRIC   Round <span style=\"color: #008080; text-decoration-color: #008080; font-weight: bold\">4</span>, collaborator one is sending metric for task aggregated_model_validation: accuracy      <span style=\"color: #008080; text-decoration-color: #008080; font-weight: bold\">0.949556</span>                 <a href=\"file://C:\\Users\\BHSU\\AppData\\Local\\Programs\\Python\\Python39\\lib\\site-packages\\openfl\\component\\collaborator\\collaborator.py\" target=\"_blank\"><span style=\"color: #7f7f7f; text-decoration-color: #7f7f7f\">collaborator.py</span></a><span style=\"color: #7f7f7f; text-decoration-color: #7f7f7f\">:</span><a href=\"file://C:\\Users\\BHSU\\AppData\\Local\\Programs\\Python\\Python39\\lib\\site-packages\\openfl\\component\\collaborator\\collaborator.py#415\" target=\"_blank\"><span style=\"color: #7f7f7f; text-decoration-color: #7f7f7f\">415</span></a>\n",
       "</pre>\n"
      ],
      "text/plain": [
       "\u001b[2;36m          \u001b[0m\u001b[2;36m \u001b[0mMETRIC   Round \u001b[1;36m4\u001b[0m, collaborator one is sending metric for task aggregated_model_validation: accuracy      \u001b[1;36m0.949556\u001b[0m                 \u001b]8;id=16021;file://C:\\Users\\BHSU\\AppData\\Local\\Programs\\Python\\Python39\\lib\\site-packages\\openfl\\component\\collaborator\\collaborator.py\u001b\\\u001b[2mcollaborator.py\u001b[0m\u001b]8;;\u001b\\\u001b[2m:\u001b[0m\u001b]8;id=431377;file://C:\\Users\\BHSU\\AppData\\Local\\Programs\\Python\\Python39\\lib\\site-packages\\openfl\\component\\collaborator\\collaborator.py#415\u001b\\\u001b[2m415\u001b[0m\u001b]8;;\u001b\\\n"
      ]
     },
     "metadata": {},
     "output_type": "display_data"
    },
    {
     "data": {
      "text/html": [
       "<pre style=\"white-space:pre;overflow-x:auto;line-height:normal;font-family:Menlo,'DejaVu Sans Mono',consolas,'Courier New',monospace\"><span style=\"color: #7fbfbf; text-decoration-color: #7fbfbf\">           </span><span style=\"color: #000080; text-decoration-color: #000080\">INFO    </span> Collaborator one is sending task results for aggregated_model_validation, round <span style=\"color: #008080; text-decoration-color: #008080; font-weight: bold\">4</span>                                          <a href=\"file://C:\\Users\\BHSU\\AppData\\Local\\Programs\\Python\\Python39\\lib\\site-packages\\openfl\\component\\aggregator\\aggregator.py\" target=\"_blank\"><span style=\"color: #7f7f7f; text-decoration-color: #7f7f7f\">aggregator.py</span></a><span style=\"color: #7f7f7f; text-decoration-color: #7f7f7f\">:</span><a href=\"file://C:\\Users\\BHSU\\AppData\\Local\\Programs\\Python\\Python39\\lib\\site-packages\\openfl\\component\\aggregator\\aggregator.py#520\" target=\"_blank\"><span style=\"color: #7f7f7f; text-decoration-color: #7f7f7f\">520</span></a>\n",
       "</pre>\n"
      ],
      "text/plain": [
       "\u001b[2;36m          \u001b[0m\u001b[2;36m \u001b[0m\u001b[34mINFO    \u001b[0m Collaborator one is sending task results for aggregated_model_validation, round \u001b[1;36m4\u001b[0m                                          \u001b]8;id=20240;file://C:\\Users\\BHSU\\AppData\\Local\\Programs\\Python\\Python39\\lib\\site-packages\\openfl\\component\\aggregator\\aggregator.py\u001b\\\u001b[2maggregator.py\u001b[0m\u001b]8;;\u001b\\\u001b[2m:\u001b[0m\u001b]8;id=877144;file://C:\\Users\\BHSU\\AppData\\Local\\Programs\\Python\\Python39\\lib\\site-packages\\openfl\\component\\aggregator\\aggregator.py#520\u001b\\\u001b[2m520\u001b[0m\u001b]8;;\u001b\\\n"
      ]
     },
     "metadata": {},
     "output_type": "display_data"
    },
    {
     "data": {
      "text/html": [
       "<pre style=\"white-space:pre;overflow-x:auto;line-height:normal;font-family:Menlo,'DejaVu Sans Mono',consolas,'Courier New',monospace\"><span style=\"color: #7fbfbf; text-decoration-color: #7fbfbf\">           </span>METRIC   Round <span style=\"color: #008080; text-decoration-color: #008080; font-weight: bold\">4</span>, collaborator validate_agg aggregated_model_validation result accuracy: <span style=\"color: #008080; text-decoration-color: #008080; font-weight: bold\">0.949556</span>                                   <a href=\"file://C:\\Users\\BHSU\\AppData\\Local\\Programs\\Python\\Python39\\lib\\site-packages\\openfl\\component\\aggregator\\aggregator.py\" target=\"_blank\"><span style=\"color: #7f7f7f; text-decoration-color: #7f7f7f\">aggregator.py</span></a><span style=\"color: #7f7f7f; text-decoration-color: #7f7f7f\">:</span><a href=\"file://C:\\Users\\BHSU\\AppData\\Local\\Programs\\Python\\Python39\\lib\\site-packages\\openfl\\component\\aggregator\\aggregator.py#559\" target=\"_blank\"><span style=\"color: #7f7f7f; text-decoration-color: #7f7f7f\">559</span></a>\n",
       "</pre>\n"
      ],
      "text/plain": [
       "\u001b[2;36m          \u001b[0m\u001b[2;36m \u001b[0mMETRIC   Round \u001b[1;36m4\u001b[0m, collaborator validate_agg aggregated_model_validation result accuracy: \u001b[1;36m0.949556\u001b[0m                                   \u001b]8;id=432769;file://C:\\Users\\BHSU\\AppData\\Local\\Programs\\Python\\Python39\\lib\\site-packages\\openfl\\component\\aggregator\\aggregator.py\u001b\\\u001b[2maggregator.py\u001b[0m\u001b]8;;\u001b\\\u001b[2m:\u001b[0m\u001b]8;id=49565;file://C:\\Users\\BHSU\\AppData\\Local\\Programs\\Python\\Python39\\lib\\site-packages\\openfl\\component\\aggregator\\aggregator.py#559\u001b\\\u001b[2m559\u001b[0m\u001b]8;;\u001b\\\n"
      ]
     },
     "metadata": {},
     "output_type": "display_data"
    },
    {
     "data": {
      "text/html": [
       "<pre style=\"white-space:pre;overflow-x:auto;line-height:normal;font-family:Menlo,'DejaVu Sans Mono',consolas,'Courier New',monospace\"><span style=\"color: #7fbfbf; text-decoration-color: #7fbfbf\">           </span><span style=\"color: #000080; text-decoration-color: #000080\">INFO    </span> Using TaskRunner subclassing API                                                                                         <a href=\"file://C:\\Users\\BHSU\\AppData\\Local\\Programs\\Python\\Python39\\lib\\site-packages\\openfl\\component\\collaborator\\collaborator.py\" target=\"_blank\"><span style=\"color: #7f7f7f; text-decoration-color: #7f7f7f\">collaborator.py</span></a><span style=\"color: #7f7f7f; text-decoration-color: #7f7f7f\">:</span><a href=\"file://C:\\Users\\BHSU\\AppData\\Local\\Programs\\Python\\Python39\\lib\\site-packages\\openfl\\component\\collaborator\\collaborator.py#253\" target=\"_blank\"><span style=\"color: #7f7f7f; text-decoration-color: #7f7f7f\">253</span></a>\n",
       "</pre>\n"
      ],
      "text/plain": [
       "\u001b[2;36m          \u001b[0m\u001b[2;36m \u001b[0m\u001b[34mINFO    \u001b[0m Using TaskRunner subclassing API                                                                                         \u001b]8;id=46110;file://C:\\Users\\BHSU\\AppData\\Local\\Programs\\Python\\Python39\\lib\\site-packages\\openfl\\component\\collaborator\\collaborator.py\u001b\\\u001b[2mcollaborator.py\u001b[0m\u001b]8;;\u001b\\\u001b[2m:\u001b[0m\u001b]8;id=771987;file://C:\\Users\\BHSU\\AppData\\Local\\Programs\\Python\\Python39\\lib\\site-packages\\openfl\\component\\collaborator\\collaborator.py#253\u001b\\\u001b[2m253\u001b[0m\u001b]8;;\u001b\\\n"
      ]
     },
     "metadata": {},
     "output_type": "display_data"
    },
    {
     "data": {
      "text/html": [
       "<pre style=\"white-space:pre;overflow-x:auto;line-height:normal;font-family:Menlo,'DejaVu Sans Mono',consolas,'Courier New',monospace\"><span style=\"color: #7fbfbf; text-decoration-color: #7fbfbf\">           </span><span style=\"color: #000080; text-decoration-color: #000080\">INFO    </span> Run <span style=\"color: #008080; text-decoration-color: #008080; font-weight: bold\">0</span> epoch of <span style=\"color: #008080; text-decoration-color: #008080; font-weight: bold\">4</span> round                                                                                                    <a href=\"file://C:\\Users\\BHSU\\AppData\\Local\\Programs\\Python\\Python39\\lib\\site-packages\\openfl\\federated\\task\\runner_keras.py\" target=\"_blank\"><span style=\"color: #7f7f7f; text-decoration-color: #7f7f7f\">runner_keras.py</span></a><span style=\"color: #7f7f7f; text-decoration-color: #7f7f7f\">:</span><a href=\"file://C:\\Users\\BHSU\\AppData\\Local\\Programs\\Python\\Python39\\lib\\site-packages\\openfl\\federated\\task\\runner_keras.py#83\" target=\"_blank\"><span style=\"color: #7f7f7f; text-decoration-color: #7f7f7f\">83</span></a>\n",
       "</pre>\n"
      ],
      "text/plain": [
       "\u001b[2;36m          \u001b[0m\u001b[2;36m \u001b[0m\u001b[34mINFO    \u001b[0m Run \u001b[1;36m0\u001b[0m epoch of \u001b[1;36m4\u001b[0m round                                                                                                    \u001b]8;id=261754;file://C:\\Users\\BHSU\\AppData\\Local\\Programs\\Python\\Python39\\lib\\site-packages\\openfl\\federated\\task\\runner_keras.py\u001b\\\u001b[2mrunner_keras.py\u001b[0m\u001b]8;;\u001b\\\u001b[2m:\u001b[0m\u001b]8;id=977790;file://C:\\Users\\BHSU\\AppData\\Local\\Programs\\Python\\Python39\\lib\\site-packages\\openfl\\federated\\task\\runner_keras.py#83\u001b\\\u001b[2m83\u001b[0m\u001b]8;;\u001b\\\n"
      ]
     },
     "metadata": {},
     "output_type": "display_data"
    },
    {
     "name": "stdout",
     "output_type": "stream",
     "text": [
      "657/657 [==============================] - 0s 601us/step - loss: 0.1714 - accuracy: 0.9482\n"
     ]
    },
    {
     "data": {
      "text/html": [
       "<pre style=\"white-space:pre;overflow-x:auto;line-height:normal;font-family:Menlo,'DejaVu Sans Mono',consolas,'Courier New',monospace\"><span style=\"color: #7fbfbf; text-decoration-color: #7fbfbf\">           </span>METRIC   Round <span style=\"color: #008080; text-decoration-color: #008080; font-weight: bold\">4</span>, collaborator one is sending metric for task train: loss        <span style=\"color: #008080; text-decoration-color: #008080; font-weight: bold\">0.171378</span>                                         <a href=\"file://C:\\Users\\BHSU\\AppData\\Local\\Programs\\Python\\Python39\\lib\\site-packages\\openfl\\component\\collaborator\\collaborator.py\" target=\"_blank\"><span style=\"color: #7f7f7f; text-decoration-color: #7f7f7f\">collaborator.py</span></a><span style=\"color: #7f7f7f; text-decoration-color: #7f7f7f\">:</span><a href=\"file://C:\\Users\\BHSU\\AppData\\Local\\Programs\\Python\\Python39\\lib\\site-packages\\openfl\\component\\collaborator\\collaborator.py#415\" target=\"_blank\"><span style=\"color: #7f7f7f; text-decoration-color: #7f7f7f\">415</span></a>\n",
       "</pre>\n"
      ],
      "text/plain": [
       "\u001b[2;36m          \u001b[0m\u001b[2;36m \u001b[0mMETRIC   Round \u001b[1;36m4\u001b[0m, collaborator one is sending metric for task train: loss        \u001b[1;36m0.171378\u001b[0m                                         \u001b]8;id=646424;file://C:\\Users\\BHSU\\AppData\\Local\\Programs\\Python\\Python39\\lib\\site-packages\\openfl\\component\\collaborator\\collaborator.py\u001b\\\u001b[2mcollaborator.py\u001b[0m\u001b]8;;\u001b\\\u001b[2m:\u001b[0m\u001b]8;id=322491;file://C:\\Users\\BHSU\\AppData\\Local\\Programs\\Python\\Python39\\lib\\site-packages\\openfl\\component\\collaborator\\collaborator.py#415\u001b\\\u001b[2m415\u001b[0m\u001b]8;;\u001b\\\n"
      ]
     },
     "metadata": {},
     "output_type": "display_data"
    },
    {
     "data": {
      "text/html": [
       "<pre style=\"white-space:pre;overflow-x:auto;line-height:normal;font-family:Menlo,'DejaVu Sans Mono',consolas,'Courier New',monospace\"><span style=\"color: #7fbfbf; text-decoration-color: #7fbfbf\">           </span><span style=\"color: #000080; text-decoration-color: #000080\">INFO    </span> Collaborator one is sending task results for train, round <span style=\"color: #008080; text-decoration-color: #008080; font-weight: bold\">4</span>                                                                <a href=\"file://C:\\Users\\BHSU\\AppData\\Local\\Programs\\Python\\Python39\\lib\\site-packages\\openfl\\component\\aggregator\\aggregator.py\" target=\"_blank\"><span style=\"color: #7f7f7f; text-decoration-color: #7f7f7f\">aggregator.py</span></a><span style=\"color: #7f7f7f; text-decoration-color: #7f7f7f\">:</span><a href=\"file://C:\\Users\\BHSU\\AppData\\Local\\Programs\\Python\\Python39\\lib\\site-packages\\openfl\\component\\aggregator\\aggregator.py#520\" target=\"_blank\"><span style=\"color: #7f7f7f; text-decoration-color: #7f7f7f\">520</span></a>\n",
       "</pre>\n"
      ],
      "text/plain": [
       "\u001b[2;36m          \u001b[0m\u001b[2;36m \u001b[0m\u001b[34mINFO    \u001b[0m Collaborator one is sending task results for train, round \u001b[1;36m4\u001b[0m                                                                \u001b]8;id=623749;file://C:\\Users\\BHSU\\AppData\\Local\\Programs\\Python\\Python39\\lib\\site-packages\\openfl\\component\\aggregator\\aggregator.py\u001b\\\u001b[2maggregator.py\u001b[0m\u001b]8;;\u001b\\\u001b[2m:\u001b[0m\u001b]8;id=41678;file://C:\\Users\\BHSU\\AppData\\Local\\Programs\\Python\\Python39\\lib\\site-packages\\openfl\\component\\aggregator\\aggregator.py#520\u001b\\\u001b[2m520\u001b[0m\u001b]8;;\u001b\\\n"
      ]
     },
     "metadata": {},
     "output_type": "display_data"
    },
    {
     "data": {
      "text/html": [
       "<pre style=\"white-space:pre;overflow-x:auto;line-height:normal;font-family:Menlo,'DejaVu Sans Mono',consolas,'Courier New',monospace\"><span style=\"color: #7fbfbf; text-decoration-color: #7fbfbf\">           </span>METRIC   Round <span style=\"color: #008080; text-decoration-color: #008080; font-weight: bold\">4</span>, collaborator one train result loss:    <span style=\"color: #008080; text-decoration-color: #008080; font-weight: bold\">0.171378</span>                                                                   <a href=\"file://C:\\Users\\BHSU\\AppData\\Local\\Programs\\Python\\Python39\\lib\\site-packages\\openfl\\component\\aggregator\\aggregator.py\" target=\"_blank\"><span style=\"color: #7f7f7f; text-decoration-color: #7f7f7f\">aggregator.py</span></a><span style=\"color: #7f7f7f; text-decoration-color: #7f7f7f\">:</span><a href=\"file://C:\\Users\\BHSU\\AppData\\Local\\Programs\\Python\\Python39\\lib\\site-packages\\openfl\\component\\aggregator\\aggregator.py#559\" target=\"_blank\"><span style=\"color: #7f7f7f; text-decoration-color: #7f7f7f\">559</span></a>\n",
       "</pre>\n"
      ],
      "text/plain": [
       "\u001b[2;36m          \u001b[0m\u001b[2;36m \u001b[0mMETRIC   Round \u001b[1;36m4\u001b[0m, collaborator one train result loss:    \u001b[1;36m0.171378\u001b[0m                                                                   \u001b]8;id=922458;file://C:\\Users\\BHSU\\AppData\\Local\\Programs\\Python\\Python39\\lib\\site-packages\\openfl\\component\\aggregator\\aggregator.py\u001b\\\u001b[2maggregator.py\u001b[0m\u001b]8;;\u001b\\\u001b[2m:\u001b[0m\u001b]8;id=121488;file://C:\\Users\\BHSU\\AppData\\Local\\Programs\\Python\\Python39\\lib\\site-packages\\openfl\\component\\aggregator\\aggregator.py#559\u001b\\\u001b[2m559\u001b[0m\u001b]8;;\u001b\\\n"
      ]
     },
     "metadata": {},
     "output_type": "display_data"
    },
    {
     "data": {
      "text/html": [
       "<pre style=\"white-space:pre;overflow-x:auto;line-height:normal;font-family:Menlo,'DejaVu Sans Mono',consolas,'Courier New',monospace\"><span style=\"color: #7fbfbf; text-decoration-color: #7fbfbf\">           </span><span style=\"color: #000080; text-decoration-color: #000080\">INFO    </span> Using TaskRunner subclassing API                                                                                         <a href=\"file://C:\\Users\\BHSU\\AppData\\Local\\Programs\\Python\\Python39\\lib\\site-packages\\openfl\\component\\collaborator\\collaborator.py\" target=\"_blank\"><span style=\"color: #7f7f7f; text-decoration-color: #7f7f7f\">collaborator.py</span></a><span style=\"color: #7f7f7f; text-decoration-color: #7f7f7f\">:</span><a href=\"file://C:\\Users\\BHSU\\AppData\\Local\\Programs\\Python\\Python39\\lib\\site-packages\\openfl\\component\\collaborator\\collaborator.py#253\" target=\"_blank\"><span style=\"color: #7f7f7f; text-decoration-color: #7f7f7f\">253</span></a>\n",
       "</pre>\n"
      ],
      "text/plain": [
       "\u001b[2;36m          \u001b[0m\u001b[2;36m \u001b[0m\u001b[34mINFO    \u001b[0m Using TaskRunner subclassing API                                                                                         \u001b]8;id=489819;file://C:\\Users\\BHSU\\AppData\\Local\\Programs\\Python\\Python39\\lib\\site-packages\\openfl\\component\\collaborator\\collaborator.py\u001b\\\u001b[2mcollaborator.py\u001b[0m\u001b]8;;\u001b\\\u001b[2m:\u001b[0m\u001b]8;id=155754;file://C:\\Users\\BHSU\\AppData\\Local\\Programs\\Python\\Python39\\lib\\site-packages\\openfl\\component\\collaborator\\collaborator.py#253\u001b\\\u001b[2m253\u001b[0m\u001b]8;;\u001b\\\n"
      ]
     },
     "metadata": {},
     "output_type": "display_data"
    },
    {
     "name": "stdout",
     "output_type": "stream",
     "text": [
      "282/282 [==============================] - 0s 537us/step - loss: 0.1590 - accuracy: 0.9518\n"
     ]
    },
    {
     "data": {
      "text/html": [
       "<pre style=\"white-space:pre;overflow-x:auto;line-height:normal;font-family:Menlo,'DejaVu Sans Mono',consolas,'Courier New',monospace\"><span style=\"color: #7fbfbf; text-decoration-color: #7fbfbf\">[08:29:08] </span>METRIC   Round <span style=\"color: #008080; text-decoration-color: #008080; font-weight: bold\">4</span>, collaborator one is sending metric for task locally_tuned_model_validation: accuracy   <span style=\"color: #008080; text-decoration-color: #008080; font-weight: bold\">0.951778</span>                 <a href=\"file://C:\\Users\\BHSU\\AppData\\Local\\Programs\\Python\\Python39\\lib\\site-packages\\openfl\\component\\collaborator\\collaborator.py\" target=\"_blank\"><span style=\"color: #7f7f7f; text-decoration-color: #7f7f7f\">collaborator.py</span></a><span style=\"color: #7f7f7f; text-decoration-color: #7f7f7f\">:</span><a href=\"file://C:\\Users\\BHSU\\AppData\\Local\\Programs\\Python\\Python39\\lib\\site-packages\\openfl\\component\\collaborator\\collaborator.py#415\" target=\"_blank\"><span style=\"color: #7f7f7f; text-decoration-color: #7f7f7f\">415</span></a>\n",
       "</pre>\n"
      ],
      "text/plain": [
       "\u001b[2;36m[08:29:08]\u001b[0m\u001b[2;36m \u001b[0mMETRIC   Round \u001b[1;36m4\u001b[0m, collaborator one is sending metric for task locally_tuned_model_validation: accuracy   \u001b[1;36m0.951778\u001b[0m                 \u001b]8;id=256163;file://C:\\Users\\BHSU\\AppData\\Local\\Programs\\Python\\Python39\\lib\\site-packages\\openfl\\component\\collaborator\\collaborator.py\u001b\\\u001b[2mcollaborator.py\u001b[0m\u001b]8;;\u001b\\\u001b[2m:\u001b[0m\u001b]8;id=488312;file://C:\\Users\\BHSU\\AppData\\Local\\Programs\\Python\\Python39\\lib\\site-packages\\openfl\\component\\collaborator\\collaborator.py#415\u001b\\\u001b[2m415\u001b[0m\u001b]8;;\u001b\\\n"
      ]
     },
     "metadata": {},
     "output_type": "display_data"
    },
    {
     "data": {
      "text/html": [
       "<pre style=\"white-space:pre;overflow-x:auto;line-height:normal;font-family:Menlo,'DejaVu Sans Mono',consolas,'Courier New',monospace\"><span style=\"color: #7fbfbf; text-decoration-color: #7fbfbf\">           </span><span style=\"color: #000080; text-decoration-color: #000080\">INFO    </span> Collaborator one is sending task results for locally_tuned_model_validation, round <span style=\"color: #008080; text-decoration-color: #008080; font-weight: bold\">4</span>                                       <a href=\"file://C:\\Users\\BHSU\\AppData\\Local\\Programs\\Python\\Python39\\lib\\site-packages\\openfl\\component\\aggregator\\aggregator.py\" target=\"_blank\"><span style=\"color: #7f7f7f; text-decoration-color: #7f7f7f\">aggregator.py</span></a><span style=\"color: #7f7f7f; text-decoration-color: #7f7f7f\">:</span><a href=\"file://C:\\Users\\BHSU\\AppData\\Local\\Programs\\Python\\Python39\\lib\\site-packages\\openfl\\component\\aggregator\\aggregator.py#520\" target=\"_blank\"><span style=\"color: #7f7f7f; text-decoration-color: #7f7f7f\">520</span></a>\n",
       "</pre>\n"
      ],
      "text/plain": [
       "\u001b[2;36m          \u001b[0m\u001b[2;36m \u001b[0m\u001b[34mINFO    \u001b[0m Collaborator one is sending task results for locally_tuned_model_validation, round \u001b[1;36m4\u001b[0m                                       \u001b]8;id=980435;file://C:\\Users\\BHSU\\AppData\\Local\\Programs\\Python\\Python39\\lib\\site-packages\\openfl\\component\\aggregator\\aggregator.py\u001b\\\u001b[2maggregator.py\u001b[0m\u001b]8;;\u001b\\\u001b[2m:\u001b[0m\u001b]8;id=907355;file://C:\\Users\\BHSU\\AppData\\Local\\Programs\\Python\\Python39\\lib\\site-packages\\openfl\\component\\aggregator\\aggregator.py#520\u001b\\\u001b[2m520\u001b[0m\u001b]8;;\u001b\\\n"
      ]
     },
     "metadata": {},
     "output_type": "display_data"
    },
    {
     "data": {
      "text/html": [
       "<pre style=\"white-space:pre;overflow-x:auto;line-height:normal;font-family:Menlo,'DejaVu Sans Mono',consolas,'Courier New',monospace\"><span style=\"color: #7fbfbf; text-decoration-color: #7fbfbf\">           </span>METRIC   Round <span style=\"color: #008080; text-decoration-color: #008080; font-weight: bold\">4</span>, collaborator validate_local locally_tuned_model_validation result accuracy:    <span style=\"color: #008080; text-decoration-color: #008080; font-weight: bold\">0.951778</span>                           <a href=\"file://C:\\Users\\BHSU\\AppData\\Local\\Programs\\Python\\Python39\\lib\\site-packages\\openfl\\component\\aggregator\\aggregator.py\" target=\"_blank\"><span style=\"color: #7f7f7f; text-decoration-color: #7f7f7f\">aggregator.py</span></a><span style=\"color: #7f7f7f; text-decoration-color: #7f7f7f\">:</span><a href=\"file://C:\\Users\\BHSU\\AppData\\Local\\Programs\\Python\\Python39\\lib\\site-packages\\openfl\\component\\aggregator\\aggregator.py#559\" target=\"_blank\"><span style=\"color: #7f7f7f; text-decoration-color: #7f7f7f\">559</span></a>\n",
       "</pre>\n"
      ],
      "text/plain": [
       "\u001b[2;36m          \u001b[0m\u001b[2;36m \u001b[0mMETRIC   Round \u001b[1;36m4\u001b[0m, collaborator validate_local locally_tuned_model_validation result accuracy:    \u001b[1;36m0.951778\u001b[0m                           \u001b]8;id=861322;file://C:\\Users\\BHSU\\AppData\\Local\\Programs\\Python\\Python39\\lib\\site-packages\\openfl\\component\\aggregator\\aggregator.py\u001b\\\u001b[2maggregator.py\u001b[0m\u001b]8;;\u001b\\\u001b[2m:\u001b[0m\u001b]8;id=306063;file://C:\\Users\\BHSU\\AppData\\Local\\Programs\\Python\\Python39\\lib\\site-packages\\openfl\\component\\aggregator\\aggregator.py#559\u001b\\\u001b[2m559\u001b[0m\u001b]8;;\u001b\\\n"
      ]
     },
     "metadata": {},
     "output_type": "display_data"
    },
    {
     "data": {
      "text/html": [
       "<pre style=\"white-space:pre;overflow-x:auto;line-height:normal;font-family:Menlo,'DejaVu Sans Mono',consolas,'Courier New',monospace\"><span style=\"color: #7fbfbf; text-decoration-color: #7fbfbf\">           </span><span style=\"color: #000080; text-decoration-color: #000080\">INFO    </span> All tasks completed on one for round <span style=\"color: #008080; text-decoration-color: #008080; font-weight: bold\">4</span><span style=\"color: #808000; text-decoration-color: #808000\">...</span>                                                                                <a href=\"file://C:\\Users\\BHSU\\AppData\\Local\\Programs\\Python\\Python39\\lib\\site-packages\\openfl\\component\\collaborator\\collaborator.py\" target=\"_blank\"><span style=\"color: #7f7f7f; text-decoration-color: #7f7f7f\">collaborator.py</span></a><span style=\"color: #7f7f7f; text-decoration-color: #7f7f7f\">:</span><a href=\"file://C:\\Users\\BHSU\\AppData\\Local\\Programs\\Python\\Python39\\lib\\site-packages\\openfl\\component\\collaborator\\collaborator.py#171\" target=\"_blank\"><span style=\"color: #7f7f7f; text-decoration-color: #7f7f7f\">171</span></a>\n",
       "</pre>\n"
      ],
      "text/plain": [
       "\u001b[2;36m          \u001b[0m\u001b[2;36m \u001b[0m\u001b[34mINFO    \u001b[0m All tasks completed on one for round \u001b[1;36m4\u001b[0m\u001b[33m...\u001b[0m                                                                                \u001b]8;id=218302;file://C:\\Users\\BHSU\\AppData\\Local\\Programs\\Python\\Python39\\lib\\site-packages\\openfl\\component\\collaborator\\collaborator.py\u001b\\\u001b[2mcollaborator.py\u001b[0m\u001b]8;;\u001b\\\u001b[2m:\u001b[0m\u001b]8;id=224670;file://C:\\Users\\BHSU\\AppData\\Local\\Programs\\Python\\Python39\\lib\\site-packages\\openfl\\component\\collaborator\\collaborator.py#171\u001b\\\u001b[2m171\u001b[0m\u001b]8;;\u001b\\\n"
      ]
     },
     "metadata": {},
     "output_type": "display_data"
    },
    {
     "data": {
      "text/html": [
       "<pre style=\"white-space:pre;overflow-x:auto;line-height:normal;font-family:Menlo,'DejaVu Sans Mono',consolas,'Courier New',monospace\"><span style=\"color: #7fbfbf; text-decoration-color: #7fbfbf\">           </span><span style=\"color: #000080; text-decoration-color: #000080\">INFO    </span> Waiting for tasks<span style=\"color: #808000; text-decoration-color: #808000\">...</span>                                                                                                     <a href=\"file://C:\\Users\\BHSU\\AppData\\Local\\Programs\\Python\\Python39\\lib\\site-packages\\openfl\\component\\collaborator\\collaborator.py\" target=\"_blank\"><span style=\"color: #7f7f7f; text-decoration-color: #7f7f7f\">collaborator.py</span></a><span style=\"color: #7f7f7f; text-decoration-color: #7f7f7f\">:</span><a href=\"file://C:\\Users\\BHSU\\AppData\\Local\\Programs\\Python\\Python39\\lib\\site-packages\\openfl\\component\\collaborator\\collaborator.py#178\" target=\"_blank\"><span style=\"color: #7f7f7f; text-decoration-color: #7f7f7f\">178</span></a>\n",
       "</pre>\n"
      ],
      "text/plain": [
       "\u001b[2;36m          \u001b[0m\u001b[2;36m \u001b[0m\u001b[34mINFO    \u001b[0m Waiting for tasks\u001b[33m...\u001b[0m                                                                                                     \u001b]8;id=574029;file://C:\\Users\\BHSU\\AppData\\Local\\Programs\\Python\\Python39\\lib\\site-packages\\openfl\\component\\collaborator\\collaborator.py\u001b\\\u001b[2mcollaborator.py\u001b[0m\u001b]8;;\u001b\\\u001b[2m:\u001b[0m\u001b]8;id=641128;file://C:\\Users\\BHSU\\AppData\\Local\\Programs\\Python\\Python39\\lib\\site-packages\\openfl\\component\\collaborator\\collaborator.py#178\u001b\\\u001b[2m178\u001b[0m\u001b]8;;\u001b\\\n"
      ]
     },
     "metadata": {},
     "output_type": "display_data"
    },
    {
     "data": {
      "text/html": [
       "<pre style=\"white-space:pre;overflow-x:auto;line-height:normal;font-family:Menlo,'DejaVu Sans Mono',consolas,'Courier New',monospace\"><span style=\"color: #7fbfbf; text-decoration-color: #7fbfbf\">           </span><span style=\"color: #000080; text-decoration-color: #000080\">INFO    </span> Sending tasks to collaborator two for round <span style=\"color: #008080; text-decoration-color: #008080; font-weight: bold\">4</span>                                                                              <a href=\"file://C:\\Users\\BHSU\\AppData\\Local\\Programs\\Python\\Python39\\lib\\site-packages\\openfl\\component\\aggregator\\aggregator.py\" target=\"_blank\"><span style=\"color: #7f7f7f; text-decoration-color: #7f7f7f\">aggregator.py</span></a><span style=\"color: #7f7f7f; text-decoration-color: #7f7f7f\">:</span><a href=\"file://C:\\Users\\BHSU\\AppData\\Local\\Programs\\Python\\Python39\\lib\\site-packages\\openfl\\component\\aggregator\\aggregator.py#329\" target=\"_blank\"><span style=\"color: #7f7f7f; text-decoration-color: #7f7f7f\">329</span></a>\n",
       "</pre>\n"
      ],
      "text/plain": [
       "\u001b[2;36m          \u001b[0m\u001b[2;36m \u001b[0m\u001b[34mINFO    \u001b[0m Sending tasks to collaborator two for round \u001b[1;36m4\u001b[0m                                                                              \u001b]8;id=962190;file://C:\\Users\\BHSU\\AppData\\Local\\Programs\\Python\\Python39\\lib\\site-packages\\openfl\\component\\aggregator\\aggregator.py\u001b\\\u001b[2maggregator.py\u001b[0m\u001b]8;;\u001b\\\u001b[2m:\u001b[0m\u001b]8;id=360124;file://C:\\Users\\BHSU\\AppData\\Local\\Programs\\Python\\Python39\\lib\\site-packages\\openfl\\component\\aggregator\\aggregator.py#329\u001b\\\u001b[2m329\u001b[0m\u001b]8;;\u001b\\\n"
      ]
     },
     "metadata": {},
     "output_type": "display_data"
    },
    {
     "data": {
      "text/html": [
       "<pre style=\"white-space:pre;overflow-x:auto;line-height:normal;font-family:Menlo,'DejaVu Sans Mono',consolas,'Courier New',monospace\"><span style=\"color: #7fbfbf; text-decoration-color: #7fbfbf\">           </span><span style=\"color: #000080; text-decoration-color: #000080\">INFO    </span> Received the following tasks: <span style=\"font-weight: bold\">[</span><span style=\"color: #008000; text-decoration-color: #008000\">'aggregated_model_validation'</span>, <span style=\"color: #008000; text-decoration-color: #008000\">'train'</span>, <span style=\"color: #008000; text-decoration-color: #008000\">'locally_tuned_model_validation'</span><span style=\"font-weight: bold\">]</span>                 <a href=\"file://C:\\Users\\BHSU\\AppData\\Local\\Programs\\Python\\Python39\\lib\\site-packages\\openfl\\component\\collaborator\\collaborator.py\" target=\"_blank\"><span style=\"color: #7f7f7f; text-decoration-color: #7f7f7f\">collaborator.py</span></a><span style=\"color: #7f7f7f; text-decoration-color: #7f7f7f\">:</span><a href=\"file://C:\\Users\\BHSU\\AppData\\Local\\Programs\\Python\\Python39\\lib\\site-packages\\openfl\\component\\collaborator\\collaborator.py#168\" target=\"_blank\"><span style=\"color: #7f7f7f; text-decoration-color: #7f7f7f\">168</span></a>\n",
       "</pre>\n"
      ],
      "text/plain": [
       "\u001b[2;36m          \u001b[0m\u001b[2;36m \u001b[0m\u001b[34mINFO    \u001b[0m Received the following tasks: \u001b[1m[\u001b[0m\u001b[32m'aggregated_model_validation'\u001b[0m, \u001b[32m'train'\u001b[0m, \u001b[32m'locally_tuned_model_validation'\u001b[0m\u001b[1m]\u001b[0m                 \u001b]8;id=37495;file://C:\\Users\\BHSU\\AppData\\Local\\Programs\\Python\\Python39\\lib\\site-packages\\openfl\\component\\collaborator\\collaborator.py\u001b\\\u001b[2mcollaborator.py\u001b[0m\u001b]8;;\u001b\\\u001b[2m:\u001b[0m\u001b]8;id=510042;file://C:\\Users\\BHSU\\AppData\\Local\\Programs\\Python\\Python39\\lib\\site-packages\\openfl\\component\\collaborator\\collaborator.py#168\u001b\\\u001b[2m168\u001b[0m\u001b]8;;\u001b\\\n"
      ]
     },
     "metadata": {},
     "output_type": "display_data"
    },
    {
     "data": {
      "text/html": [
       "<pre style=\"white-space:pre;overflow-x:auto;line-height:normal;font-family:Menlo,'DejaVu Sans Mono',consolas,'Courier New',monospace\"><span style=\"color: #7fbfbf; text-decoration-color: #7fbfbf\">           </span><span style=\"color: #000080; text-decoration-color: #000080\">INFO    </span> Using TaskRunner subclassing API                                                                                         <a href=\"file://C:\\Users\\BHSU\\AppData\\Local\\Programs\\Python\\Python39\\lib\\site-packages\\openfl\\component\\collaborator\\collaborator.py\" target=\"_blank\"><span style=\"color: #7f7f7f; text-decoration-color: #7f7f7f\">collaborator.py</span></a><span style=\"color: #7f7f7f; text-decoration-color: #7f7f7f\">:</span><a href=\"file://C:\\Users\\BHSU\\AppData\\Local\\Programs\\Python\\Python39\\lib\\site-packages\\openfl\\component\\collaborator\\collaborator.py#253\" target=\"_blank\"><span style=\"color: #7f7f7f; text-decoration-color: #7f7f7f\">253</span></a>\n",
       "</pre>\n"
      ],
      "text/plain": [
       "\u001b[2;36m          \u001b[0m\u001b[2;36m \u001b[0m\u001b[34mINFO    \u001b[0m Using TaskRunner subclassing API                                                                                         \u001b]8;id=713934;file://C:\\Users\\BHSU\\AppData\\Local\\Programs\\Python\\Python39\\lib\\site-packages\\openfl\\component\\collaborator\\collaborator.py\u001b\\\u001b[2mcollaborator.py\u001b[0m\u001b]8;;\u001b\\\u001b[2m:\u001b[0m\u001b]8;id=519666;file://C:\\Users\\BHSU\\AppData\\Local\\Programs\\Python\\Python39\\lib\\site-packages\\openfl\\component\\collaborator\\collaborator.py#253\u001b\\\u001b[2m253\u001b[0m\u001b]8;;\u001b\\\n"
      ]
     },
     "metadata": {},
     "output_type": "display_data"
    },
    {
     "name": "stdout",
     "output_type": "stream",
     "text": [
      "282/282 [==============================] - 0s 562us/step - loss: 0.1787 - accuracy: 0.9468\n"
     ]
    },
    {
     "data": {
      "text/html": [
       "<pre style=\"white-space:pre;overflow-x:auto;line-height:normal;font-family:Menlo,'DejaVu Sans Mono',consolas,'Courier New',monospace\"><span style=\"color: #7fbfbf; text-decoration-color: #7fbfbf\">           </span>METRIC   Round <span style=\"color: #008080; text-decoration-color: #008080; font-weight: bold\">4</span>, collaborator two is sending metric for task aggregated_model_validation: accuracy      <span style=\"color: #008080; text-decoration-color: #008080; font-weight: bold\">0.946778</span>                 <a href=\"file://C:\\Users\\BHSU\\AppData\\Local\\Programs\\Python\\Python39\\lib\\site-packages\\openfl\\component\\collaborator\\collaborator.py\" target=\"_blank\"><span style=\"color: #7f7f7f; text-decoration-color: #7f7f7f\">collaborator.py</span></a><span style=\"color: #7f7f7f; text-decoration-color: #7f7f7f\">:</span><a href=\"file://C:\\Users\\BHSU\\AppData\\Local\\Programs\\Python\\Python39\\lib\\site-packages\\openfl\\component\\collaborator\\collaborator.py#415\" target=\"_blank\"><span style=\"color: #7f7f7f; text-decoration-color: #7f7f7f\">415</span></a>\n",
       "</pre>\n"
      ],
      "text/plain": [
       "\u001b[2;36m          \u001b[0m\u001b[2;36m \u001b[0mMETRIC   Round \u001b[1;36m4\u001b[0m, collaborator two is sending metric for task aggregated_model_validation: accuracy      \u001b[1;36m0.946778\u001b[0m                 \u001b]8;id=302291;file://C:\\Users\\BHSU\\AppData\\Local\\Programs\\Python\\Python39\\lib\\site-packages\\openfl\\component\\collaborator\\collaborator.py\u001b\\\u001b[2mcollaborator.py\u001b[0m\u001b]8;;\u001b\\\u001b[2m:\u001b[0m\u001b]8;id=58505;file://C:\\Users\\BHSU\\AppData\\Local\\Programs\\Python\\Python39\\lib\\site-packages\\openfl\\component\\collaborator\\collaborator.py#415\u001b\\\u001b[2m415\u001b[0m\u001b]8;;\u001b\\\n"
      ]
     },
     "metadata": {},
     "output_type": "display_data"
    },
    {
     "data": {
      "text/html": [
       "<pre style=\"white-space:pre;overflow-x:auto;line-height:normal;font-family:Menlo,'DejaVu Sans Mono',consolas,'Courier New',monospace\"><span style=\"color: #7fbfbf; text-decoration-color: #7fbfbf\">           </span><span style=\"color: #000080; text-decoration-color: #000080\">INFO    </span> Collaborator two is sending task results for aggregated_model_validation, round <span style=\"color: #008080; text-decoration-color: #008080; font-weight: bold\">4</span>                                          <a href=\"file://C:\\Users\\BHSU\\AppData\\Local\\Programs\\Python\\Python39\\lib\\site-packages\\openfl\\component\\aggregator\\aggregator.py\" target=\"_blank\"><span style=\"color: #7f7f7f; text-decoration-color: #7f7f7f\">aggregator.py</span></a><span style=\"color: #7f7f7f; text-decoration-color: #7f7f7f\">:</span><a href=\"file://C:\\Users\\BHSU\\AppData\\Local\\Programs\\Python\\Python39\\lib\\site-packages\\openfl\\component\\aggregator\\aggregator.py#520\" target=\"_blank\"><span style=\"color: #7f7f7f; text-decoration-color: #7f7f7f\">520</span></a>\n",
       "</pre>\n"
      ],
      "text/plain": [
       "\u001b[2;36m          \u001b[0m\u001b[2;36m \u001b[0m\u001b[34mINFO    \u001b[0m Collaborator two is sending task results for aggregated_model_validation, round \u001b[1;36m4\u001b[0m                                          \u001b]8;id=713544;file://C:\\Users\\BHSU\\AppData\\Local\\Programs\\Python\\Python39\\lib\\site-packages\\openfl\\component\\aggregator\\aggregator.py\u001b\\\u001b[2maggregator.py\u001b[0m\u001b]8;;\u001b\\\u001b[2m:\u001b[0m\u001b]8;id=466853;file://C:\\Users\\BHSU\\AppData\\Local\\Programs\\Python\\Python39\\lib\\site-packages\\openfl\\component\\aggregator\\aggregator.py#520\u001b\\\u001b[2m520\u001b[0m\u001b]8;;\u001b\\\n"
      ]
     },
     "metadata": {},
     "output_type": "display_data"
    },
    {
     "data": {
      "text/html": [
       "<pre style=\"white-space:pre;overflow-x:auto;line-height:normal;font-family:Menlo,'DejaVu Sans Mono',consolas,'Courier New',monospace\"><span style=\"color: #7fbfbf; text-decoration-color: #7fbfbf\">           </span>METRIC   Round <span style=\"color: #008080; text-decoration-color: #008080; font-weight: bold\">4</span>, collaborator validate_agg aggregated_model_validation result accuracy: <span style=\"color: #008080; text-decoration-color: #008080; font-weight: bold\">0.946778</span>                                   <a href=\"file://C:\\Users\\BHSU\\AppData\\Local\\Programs\\Python\\Python39\\lib\\site-packages\\openfl\\component\\aggregator\\aggregator.py\" target=\"_blank\"><span style=\"color: #7f7f7f; text-decoration-color: #7f7f7f\">aggregator.py</span></a><span style=\"color: #7f7f7f; text-decoration-color: #7f7f7f\">:</span><a href=\"file://C:\\Users\\BHSU\\AppData\\Local\\Programs\\Python\\Python39\\lib\\site-packages\\openfl\\component\\aggregator\\aggregator.py#559\" target=\"_blank\"><span style=\"color: #7f7f7f; text-decoration-color: #7f7f7f\">559</span></a>\n",
       "</pre>\n"
      ],
      "text/plain": [
       "\u001b[2;36m          \u001b[0m\u001b[2;36m \u001b[0mMETRIC   Round \u001b[1;36m4\u001b[0m, collaborator validate_agg aggregated_model_validation result accuracy: \u001b[1;36m0.946778\u001b[0m                                   \u001b]8;id=885540;file://C:\\Users\\BHSU\\AppData\\Local\\Programs\\Python\\Python39\\lib\\site-packages\\openfl\\component\\aggregator\\aggregator.py\u001b\\\u001b[2maggregator.py\u001b[0m\u001b]8;;\u001b\\\u001b[2m:\u001b[0m\u001b]8;id=446682;file://C:\\Users\\BHSU\\AppData\\Local\\Programs\\Python\\Python39\\lib\\site-packages\\openfl\\component\\aggregator\\aggregator.py#559\u001b\\\u001b[2m559\u001b[0m\u001b]8;;\u001b\\\n"
      ]
     },
     "metadata": {},
     "output_type": "display_data"
    },
    {
     "data": {
      "text/html": [
       "<pre style=\"white-space:pre;overflow-x:auto;line-height:normal;font-family:Menlo,'DejaVu Sans Mono',consolas,'Courier New',monospace\"><span style=\"color: #7fbfbf; text-decoration-color: #7fbfbf\">           </span><span style=\"color: #000080; text-decoration-color: #000080\">INFO    </span> Using TaskRunner subclassing API                                                                                         <a href=\"file://C:\\Users\\BHSU\\AppData\\Local\\Programs\\Python\\Python39\\lib\\site-packages\\openfl\\component\\collaborator\\collaborator.py\" target=\"_blank\"><span style=\"color: #7f7f7f; text-decoration-color: #7f7f7f\">collaborator.py</span></a><span style=\"color: #7f7f7f; text-decoration-color: #7f7f7f\">:</span><a href=\"file://C:\\Users\\BHSU\\AppData\\Local\\Programs\\Python\\Python39\\lib\\site-packages\\openfl\\component\\collaborator\\collaborator.py#253\" target=\"_blank\"><span style=\"color: #7f7f7f; text-decoration-color: #7f7f7f\">253</span></a>\n",
       "</pre>\n"
      ],
      "text/plain": [
       "\u001b[2;36m          \u001b[0m\u001b[2;36m \u001b[0m\u001b[34mINFO    \u001b[0m Using TaskRunner subclassing API                                                                                         \u001b]8;id=56570;file://C:\\Users\\BHSU\\AppData\\Local\\Programs\\Python\\Python39\\lib\\site-packages\\openfl\\component\\collaborator\\collaborator.py\u001b\\\u001b[2mcollaborator.py\u001b[0m\u001b]8;;\u001b\\\u001b[2m:\u001b[0m\u001b]8;id=610538;file://C:\\Users\\BHSU\\AppData\\Local\\Programs\\Python\\Python39\\lib\\site-packages\\openfl\\component\\collaborator\\collaborator.py#253\u001b\\\u001b[2m253\u001b[0m\u001b]8;;\u001b\\\n"
      ]
     },
     "metadata": {},
     "output_type": "display_data"
    },
    {
     "data": {
      "text/html": [
       "<pre style=\"white-space:pre;overflow-x:auto;line-height:normal;font-family:Menlo,'DejaVu Sans Mono',consolas,'Courier New',monospace\"><span style=\"color: #7fbfbf; text-decoration-color: #7fbfbf\">           </span><span style=\"color: #000080; text-decoration-color: #000080\">INFO    </span> Run <span style=\"color: #008080; text-decoration-color: #008080; font-weight: bold\">0</span> epoch of <span style=\"color: #008080; text-decoration-color: #008080; font-weight: bold\">4</span> round                                                                                                    <a href=\"file://C:\\Users\\BHSU\\AppData\\Local\\Programs\\Python\\Python39\\lib\\site-packages\\openfl\\federated\\task\\runner_keras.py\" target=\"_blank\"><span style=\"color: #7f7f7f; text-decoration-color: #7f7f7f\">runner_keras.py</span></a><span style=\"color: #7f7f7f; text-decoration-color: #7f7f7f\">:</span><a href=\"file://C:\\Users\\BHSU\\AppData\\Local\\Programs\\Python\\Python39\\lib\\site-packages\\openfl\\federated\\task\\runner_keras.py#83\" target=\"_blank\"><span style=\"color: #7f7f7f; text-decoration-color: #7f7f7f\">83</span></a>\n",
       "</pre>\n"
      ],
      "text/plain": [
       "\u001b[2;36m          \u001b[0m\u001b[2;36m \u001b[0m\u001b[34mINFO    \u001b[0m Run \u001b[1;36m0\u001b[0m epoch of \u001b[1;36m4\u001b[0m round                                                                                                    \u001b]8;id=968791;file://C:\\Users\\BHSU\\AppData\\Local\\Programs\\Python\\Python39\\lib\\site-packages\\openfl\\federated\\task\\runner_keras.py\u001b\\\u001b[2mrunner_keras.py\u001b[0m\u001b]8;;\u001b\\\u001b[2m:\u001b[0m\u001b]8;id=450992;file://C:\\Users\\BHSU\\AppData\\Local\\Programs\\Python\\Python39\\lib\\site-packages\\openfl\\federated\\task\\runner_keras.py#83\u001b\\\u001b[2m83\u001b[0m\u001b]8;;\u001b\\\n"
      ]
     },
     "metadata": {},
     "output_type": "display_data"
    },
    {
     "name": "stdout",
     "output_type": "stream",
     "text": [
      "657/657 [==============================] - 0s 569us/step - loss: 0.1610 - accuracy: 0.9518\n"
     ]
    },
    {
     "data": {
      "text/html": [
       "<pre style=\"white-space:pre;overflow-x:auto;line-height:normal;font-family:Menlo,'DejaVu Sans Mono',consolas,'Courier New',monospace\"><span style=\"color: #7fbfbf; text-decoration-color: #7fbfbf\">           </span>METRIC   Round <span style=\"color: #008080; text-decoration-color: #008080; font-weight: bold\">4</span>, collaborator two is sending metric for task train: loss        <span style=\"color: #008080; text-decoration-color: #008080; font-weight: bold\">0.160957</span>                                         <a href=\"file://C:\\Users\\BHSU\\AppData\\Local\\Programs\\Python\\Python39\\lib\\site-packages\\openfl\\component\\collaborator\\collaborator.py\" target=\"_blank\"><span style=\"color: #7f7f7f; text-decoration-color: #7f7f7f\">collaborator.py</span></a><span style=\"color: #7f7f7f; text-decoration-color: #7f7f7f\">:</span><a href=\"file://C:\\Users\\BHSU\\AppData\\Local\\Programs\\Python\\Python39\\lib\\site-packages\\openfl\\component\\collaborator\\collaborator.py#415\" target=\"_blank\"><span style=\"color: #7f7f7f; text-decoration-color: #7f7f7f\">415</span></a>\n",
       "</pre>\n"
      ],
      "text/plain": [
       "\u001b[2;36m          \u001b[0m\u001b[2;36m \u001b[0mMETRIC   Round \u001b[1;36m4\u001b[0m, collaborator two is sending metric for task train: loss        \u001b[1;36m0.160957\u001b[0m                                         \u001b]8;id=124186;file://C:\\Users\\BHSU\\AppData\\Local\\Programs\\Python\\Python39\\lib\\site-packages\\openfl\\component\\collaborator\\collaborator.py\u001b\\\u001b[2mcollaborator.py\u001b[0m\u001b]8;;\u001b\\\u001b[2m:\u001b[0m\u001b]8;id=465598;file://C:\\Users\\BHSU\\AppData\\Local\\Programs\\Python\\Python39\\lib\\site-packages\\openfl\\component\\collaborator\\collaborator.py#415\u001b\\\u001b[2m415\u001b[0m\u001b]8;;\u001b\\\n"
      ]
     },
     "metadata": {},
     "output_type": "display_data"
    },
    {
     "data": {
      "text/html": [
       "<pre style=\"white-space:pre;overflow-x:auto;line-height:normal;font-family:Menlo,'DejaVu Sans Mono',consolas,'Courier New',monospace\"><span style=\"color: #7fbfbf; text-decoration-color: #7fbfbf\">           </span><span style=\"color: #000080; text-decoration-color: #000080\">INFO    </span> Collaborator two is sending task results for train, round <span style=\"color: #008080; text-decoration-color: #008080; font-weight: bold\">4</span>                                                                <a href=\"file://C:\\Users\\BHSU\\AppData\\Local\\Programs\\Python\\Python39\\lib\\site-packages\\openfl\\component\\aggregator\\aggregator.py\" target=\"_blank\"><span style=\"color: #7f7f7f; text-decoration-color: #7f7f7f\">aggregator.py</span></a><span style=\"color: #7f7f7f; text-decoration-color: #7f7f7f\">:</span><a href=\"file://C:\\Users\\BHSU\\AppData\\Local\\Programs\\Python\\Python39\\lib\\site-packages\\openfl\\component\\aggregator\\aggregator.py#520\" target=\"_blank\"><span style=\"color: #7f7f7f; text-decoration-color: #7f7f7f\">520</span></a>\n",
       "</pre>\n"
      ],
      "text/plain": [
       "\u001b[2;36m          \u001b[0m\u001b[2;36m \u001b[0m\u001b[34mINFO    \u001b[0m Collaborator two is sending task results for train, round \u001b[1;36m4\u001b[0m                                                                \u001b]8;id=814036;file://C:\\Users\\BHSU\\AppData\\Local\\Programs\\Python\\Python39\\lib\\site-packages\\openfl\\component\\aggregator\\aggregator.py\u001b\\\u001b[2maggregator.py\u001b[0m\u001b]8;;\u001b\\\u001b[2m:\u001b[0m\u001b]8;id=264648;file://C:\\Users\\BHSU\\AppData\\Local\\Programs\\Python\\Python39\\lib\\site-packages\\openfl\\component\\aggregator\\aggregator.py#520\u001b\\\u001b[2m520\u001b[0m\u001b]8;;\u001b\\\n"
      ]
     },
     "metadata": {},
     "output_type": "display_data"
    },
    {
     "data": {
      "text/html": [
       "<pre style=\"white-space:pre;overflow-x:auto;line-height:normal;font-family:Menlo,'DejaVu Sans Mono',consolas,'Courier New',monospace\"><span style=\"color: #7fbfbf; text-decoration-color: #7fbfbf\">           </span>METRIC   Round <span style=\"color: #008080; text-decoration-color: #008080; font-weight: bold\">4</span>, collaborator two train result loss:    <span style=\"color: #008080; text-decoration-color: #008080; font-weight: bold\">0.160957</span>                                                                   <a href=\"file://C:\\Users\\BHSU\\AppData\\Local\\Programs\\Python\\Python39\\lib\\site-packages\\openfl\\component\\aggregator\\aggregator.py\" target=\"_blank\"><span style=\"color: #7f7f7f; text-decoration-color: #7f7f7f\">aggregator.py</span></a><span style=\"color: #7f7f7f; text-decoration-color: #7f7f7f\">:</span><a href=\"file://C:\\Users\\BHSU\\AppData\\Local\\Programs\\Python\\Python39\\lib\\site-packages\\openfl\\component\\aggregator\\aggregator.py#559\" target=\"_blank\"><span style=\"color: #7f7f7f; text-decoration-color: #7f7f7f\">559</span></a>\n",
       "</pre>\n"
      ],
      "text/plain": [
       "\u001b[2;36m          \u001b[0m\u001b[2;36m \u001b[0mMETRIC   Round \u001b[1;36m4\u001b[0m, collaborator two train result loss:    \u001b[1;36m0.160957\u001b[0m                                                                   \u001b]8;id=123928;file://C:\\Users\\BHSU\\AppData\\Local\\Programs\\Python\\Python39\\lib\\site-packages\\openfl\\component\\aggregator\\aggregator.py\u001b\\\u001b[2maggregator.py\u001b[0m\u001b]8;;\u001b\\\u001b[2m:\u001b[0m\u001b]8;id=766627;file://C:\\Users\\BHSU\\AppData\\Local\\Programs\\Python\\Python39\\lib\\site-packages\\openfl\\component\\aggregator\\aggregator.py#559\u001b\\\u001b[2m559\u001b[0m\u001b]8;;\u001b\\\n"
      ]
     },
     "metadata": {},
     "output_type": "display_data"
    },
    {
     "data": {
      "text/html": [
       "<pre style=\"white-space:pre;overflow-x:auto;line-height:normal;font-family:Menlo,'DejaVu Sans Mono',consolas,'Courier New',monospace\"><span style=\"color: #7fbfbf; text-decoration-color: #7fbfbf\">           </span><span style=\"color: #000080; text-decoration-color: #000080\">INFO    </span> Using TaskRunner subclassing API                                                                                         <a href=\"file://C:\\Users\\BHSU\\AppData\\Local\\Programs\\Python\\Python39\\lib\\site-packages\\openfl\\component\\collaborator\\collaborator.py\" target=\"_blank\"><span style=\"color: #7f7f7f; text-decoration-color: #7f7f7f\">collaborator.py</span></a><span style=\"color: #7f7f7f; text-decoration-color: #7f7f7f\">:</span><a href=\"file://C:\\Users\\BHSU\\AppData\\Local\\Programs\\Python\\Python39\\lib\\site-packages\\openfl\\component\\collaborator\\collaborator.py#253\" target=\"_blank\"><span style=\"color: #7f7f7f; text-decoration-color: #7f7f7f\">253</span></a>\n",
       "</pre>\n"
      ],
      "text/plain": [
       "\u001b[2;36m          \u001b[0m\u001b[2;36m \u001b[0m\u001b[34mINFO    \u001b[0m Using TaskRunner subclassing API                                                                                         \u001b]8;id=629128;file://C:\\Users\\BHSU\\AppData\\Local\\Programs\\Python\\Python39\\lib\\site-packages\\openfl\\component\\collaborator\\collaborator.py\u001b\\\u001b[2mcollaborator.py\u001b[0m\u001b]8;;\u001b\\\u001b[2m:\u001b[0m\u001b]8;id=752428;file://C:\\Users\\BHSU\\AppData\\Local\\Programs\\Python\\Python39\\lib\\site-packages\\openfl\\component\\collaborator\\collaborator.py#253\u001b\\\u001b[2m253\u001b[0m\u001b]8;;\u001b\\\n"
      ]
     },
     "metadata": {},
     "output_type": "display_data"
    },
    {
     "name": "stdout",
     "output_type": "stream",
     "text": [
      "282/282 [==============================] - 0s 466us/step - loss: 0.1680 - accuracy: 0.9506\n"
     ]
    },
    {
     "data": {
      "text/html": [
       "<pre style=\"white-space:pre;overflow-x:auto;line-height:normal;font-family:Menlo,'DejaVu Sans Mono',consolas,'Courier New',monospace\"><span style=\"color: #7fbfbf; text-decoration-color: #7fbfbf\">           </span>METRIC   Round <span style=\"color: #008080; text-decoration-color: #008080; font-weight: bold\">4</span>, collaborator two is sending metric for task locally_tuned_model_validation: accuracy   <span style=\"color: #008080; text-decoration-color: #008080; font-weight: bold\">0.950556</span>                 <a href=\"file://C:\\Users\\BHSU\\AppData\\Local\\Programs\\Python\\Python39\\lib\\site-packages\\openfl\\component\\collaborator\\collaborator.py\" target=\"_blank\"><span style=\"color: #7f7f7f; text-decoration-color: #7f7f7f\">collaborator.py</span></a><span style=\"color: #7f7f7f; text-decoration-color: #7f7f7f\">:</span><a href=\"file://C:\\Users\\BHSU\\AppData\\Local\\Programs\\Python\\Python39\\lib\\site-packages\\openfl\\component\\collaborator\\collaborator.py#415\" target=\"_blank\"><span style=\"color: #7f7f7f; text-decoration-color: #7f7f7f\">415</span></a>\n",
       "</pre>\n"
      ],
      "text/plain": [
       "\u001b[2;36m          \u001b[0m\u001b[2;36m \u001b[0mMETRIC   Round \u001b[1;36m4\u001b[0m, collaborator two is sending metric for task locally_tuned_model_validation: accuracy   \u001b[1;36m0.950556\u001b[0m                 \u001b]8;id=196194;file://C:\\Users\\BHSU\\AppData\\Local\\Programs\\Python\\Python39\\lib\\site-packages\\openfl\\component\\collaborator\\collaborator.py\u001b\\\u001b[2mcollaborator.py\u001b[0m\u001b]8;;\u001b\\\u001b[2m:\u001b[0m\u001b]8;id=29142;file://C:\\Users\\BHSU\\AppData\\Local\\Programs\\Python\\Python39\\lib\\site-packages\\openfl\\component\\collaborator\\collaborator.py#415\u001b\\\u001b[2m415\u001b[0m\u001b]8;;\u001b\\\n"
      ]
     },
     "metadata": {},
     "output_type": "display_data"
    },
    {
     "data": {
      "text/html": [
       "<pre style=\"white-space:pre;overflow-x:auto;line-height:normal;font-family:Menlo,'DejaVu Sans Mono',consolas,'Courier New',monospace\"><span style=\"color: #7fbfbf; text-decoration-color: #7fbfbf\">           </span><span style=\"color: #000080; text-decoration-color: #000080\">INFO    </span> Collaborator two is sending task results for locally_tuned_model_validation, round <span style=\"color: #008080; text-decoration-color: #008080; font-weight: bold\">4</span>                                       <a href=\"file://C:\\Users\\BHSU\\AppData\\Local\\Programs\\Python\\Python39\\lib\\site-packages\\openfl\\component\\aggregator\\aggregator.py\" target=\"_blank\"><span style=\"color: #7f7f7f; text-decoration-color: #7f7f7f\">aggregator.py</span></a><span style=\"color: #7f7f7f; text-decoration-color: #7f7f7f\">:</span><a href=\"file://C:\\Users\\BHSU\\AppData\\Local\\Programs\\Python\\Python39\\lib\\site-packages\\openfl\\component\\aggregator\\aggregator.py#520\" target=\"_blank\"><span style=\"color: #7f7f7f; text-decoration-color: #7f7f7f\">520</span></a>\n",
       "</pre>\n"
      ],
      "text/plain": [
       "\u001b[2;36m          \u001b[0m\u001b[2;36m \u001b[0m\u001b[34mINFO    \u001b[0m Collaborator two is sending task results for locally_tuned_model_validation, round \u001b[1;36m4\u001b[0m                                       \u001b]8;id=201874;file://C:\\Users\\BHSU\\AppData\\Local\\Programs\\Python\\Python39\\lib\\site-packages\\openfl\\component\\aggregator\\aggregator.py\u001b\\\u001b[2maggregator.py\u001b[0m\u001b]8;;\u001b\\\u001b[2m:\u001b[0m\u001b]8;id=67872;file://C:\\Users\\BHSU\\AppData\\Local\\Programs\\Python\\Python39\\lib\\site-packages\\openfl\\component\\aggregator\\aggregator.py#520\u001b\\\u001b[2m520\u001b[0m\u001b]8;;\u001b\\\n"
      ]
     },
     "metadata": {},
     "output_type": "display_data"
    },
    {
     "data": {
      "text/html": [
       "<pre style=\"white-space:pre;overflow-x:auto;line-height:normal;font-family:Menlo,'DejaVu Sans Mono',consolas,'Courier New',monospace\"><span style=\"color: #7fbfbf; text-decoration-color: #7fbfbf\">           </span>METRIC   Round <span style=\"color: #008080; text-decoration-color: #008080; font-weight: bold\">4</span>, collaborator validate_local locally_tuned_model_validation result accuracy:    <span style=\"color: #008080; text-decoration-color: #008080; font-weight: bold\">0.950556</span>                           <a href=\"file://C:\\Users\\BHSU\\AppData\\Local\\Programs\\Python\\Python39\\lib\\site-packages\\openfl\\component\\aggregator\\aggregator.py\" target=\"_blank\"><span style=\"color: #7f7f7f; text-decoration-color: #7f7f7f\">aggregator.py</span></a><span style=\"color: #7f7f7f; text-decoration-color: #7f7f7f\">:</span><a href=\"file://C:\\Users\\BHSU\\AppData\\Local\\Programs\\Python\\Python39\\lib\\site-packages\\openfl\\component\\aggregator\\aggregator.py#559\" target=\"_blank\"><span style=\"color: #7f7f7f; text-decoration-color: #7f7f7f\">559</span></a>\n",
       "</pre>\n"
      ],
      "text/plain": [
       "\u001b[2;36m          \u001b[0m\u001b[2;36m \u001b[0mMETRIC   Round \u001b[1;36m4\u001b[0m, collaborator validate_local locally_tuned_model_validation result accuracy:    \u001b[1;36m0.950556\u001b[0m                           \u001b]8;id=625229;file://C:\\Users\\BHSU\\AppData\\Local\\Programs\\Python\\Python39\\lib\\site-packages\\openfl\\component\\aggregator\\aggregator.py\u001b\\\u001b[2maggregator.py\u001b[0m\u001b]8;;\u001b\\\u001b[2m:\u001b[0m\u001b]8;id=198777;file://C:\\Users\\BHSU\\AppData\\Local\\Programs\\Python\\Python39\\lib\\site-packages\\openfl\\component\\aggregator\\aggregator.py#559\u001b\\\u001b[2m559\u001b[0m\u001b]8;;\u001b\\\n"
      ]
     },
     "metadata": {},
     "output_type": "display_data"
    },
    {
     "data": {
      "text/html": [
       "<pre style=\"white-space:pre;overflow-x:auto;line-height:normal;font-family:Menlo,'DejaVu Sans Mono',consolas,'Courier New',monospace\"><span style=\"color: #7fbfbf; text-decoration-color: #7fbfbf\">           </span>METRIC   Round <span style=\"color: #008080; text-decoration-color: #008080; font-weight: bold\">4</span>, aggregator: locally_tuned_model_validation                                                                        <a href=\"file://C:\\Users\\BHSU\\AppData\\Local\\Programs\\Python\\Python39\\lib\\site-packages\\openfl\\component\\aggregator\\aggregator.py\" target=\"_blank\"><span style=\"color: #7f7f7f; text-decoration-color: #7f7f7f\">aggregator.py</span></a><span style=\"color: #7f7f7f; text-decoration-color: #7f7f7f\">:</span><a href=\"file://C:\\Users\\BHSU\\AppData\\Local\\Programs\\Python\\Python39\\lib\\site-packages\\openfl\\component\\aggregator\\aggregator.py#842\" target=\"_blank\"><span style=\"color: #7f7f7f; text-decoration-color: #7f7f7f\">842</span></a>\n",
       "<span style=\"color: #7fbfbf; text-decoration-color: #7fbfbf\">           </span>         <span style=\"font-weight: bold\">&lt;</span><span style=\"color: #ff00ff; text-decoration-color: #ff00ff; font-weight: bold\">openfl.interface.aggregation_functions.weighted_average.WeightedAverage</span><span style=\"color: #000000; text-decoration-color: #000000\"> object at </span><span style=\"color: #008080; text-decoration-color: #008080; font-weight: bold\">0x0000024658124790</span><span style=\"font-weight: bold\">&gt;</span> accuracy:           <span style=\"color: #7f7f7f; text-decoration-color: #7f7f7f\">                 </span>\n",
       "<span style=\"color: #7fbfbf; text-decoration-color: #7fbfbf\">           </span>         <span style=\"color: #008080; text-decoration-color: #008080; font-weight: bold\">0.951167</span>                                                                                                                   <span style=\"color: #7f7f7f; text-decoration-color: #7f7f7f\">                 </span>\n",
       "</pre>\n"
      ],
      "text/plain": [
       "\u001b[2;36m          \u001b[0m\u001b[2;36m \u001b[0mMETRIC   Round \u001b[1;36m4\u001b[0m, aggregator: locally_tuned_model_validation                                                                        \u001b]8;id=951916;file://C:\\Users\\BHSU\\AppData\\Local\\Programs\\Python\\Python39\\lib\\site-packages\\openfl\\component\\aggregator\\aggregator.py\u001b\\\u001b[2maggregator.py\u001b[0m\u001b]8;;\u001b\\\u001b[2m:\u001b[0m\u001b]8;id=398925;file://C:\\Users\\BHSU\\AppData\\Local\\Programs\\Python\\Python39\\lib\\site-packages\\openfl\\component\\aggregator\\aggregator.py#842\u001b\\\u001b[2m842\u001b[0m\u001b]8;;\u001b\\\n",
       "\u001b[2;36m           \u001b[0m         \u001b[1m<\u001b[0m\u001b[1;95mopenfl.interface.aggregation_functions.weighted_average.WeightedAverage\u001b[0m\u001b[39m object at \u001b[0m\u001b[1;36m0x0000024658124790\u001b[0m\u001b[1m>\u001b[0m accuracy:           \u001b[2m                 \u001b[0m\n",
       "\u001b[2;36m           \u001b[0m         \u001b[1;36m0.951167\u001b[0m                                                                                                                   \u001b[2m                 \u001b[0m\n"
      ]
     },
     "metadata": {},
     "output_type": "display_data"
    },
    {
     "data": {
      "text/html": [
       "<pre style=\"white-space:pre;overflow-x:auto;line-height:normal;font-family:Menlo,'DejaVu Sans Mono',consolas,'Courier New',monospace\"><span style=\"color: #7fbfbf; text-decoration-color: #7fbfbf\">           </span>METRIC   Round <span style=\"color: #008080; text-decoration-color: #008080; font-weight: bold\">4</span>, aggregator: aggregated_model_validation <span style=\"font-weight: bold\">&lt;</span><span style=\"color: #ff00ff; text-decoration-color: #ff00ff; font-weight: bold\">openfl.interface.aggregation_functions.weighted_average.WeightedAverage</span><span style=\"color: #000000; text-decoration-color: #000000\"> </span> <a href=\"file://C:\\Users\\BHSU\\AppData\\Local\\Programs\\Python\\Python39\\lib\\site-packages\\openfl\\component\\aggregator\\aggregator.py\" target=\"_blank\"><span style=\"color: #7f7f7f; text-decoration-color: #7f7f7f\">aggregator.py</span></a><span style=\"color: #7f7f7f; text-decoration-color: #7f7f7f\">:</span><a href=\"file://C:\\Users\\BHSU\\AppData\\Local\\Programs\\Python\\Python39\\lib\\site-packages\\openfl\\component\\aggregator\\aggregator.py#842\" target=\"_blank\"><span style=\"color: #7f7f7f; text-decoration-color: #7f7f7f\">842</span></a>\n",
       "<span style=\"color: #7fbfbf; text-decoration-color: #7fbfbf\">           </span>         <span style=\"color: #000000; text-decoration-color: #000000\">object at </span><span style=\"color: #008080; text-decoration-color: #008080; font-weight: bold\">0x0000024658124790</span><span style=\"font-weight: bold\">&gt;</span> accuracy:       <span style=\"color: #008080; text-decoration-color: #008080; font-weight: bold\">0.948167</span>                                                                     <span style=\"color: #7f7f7f; text-decoration-color: #7f7f7f\">                 </span>\n",
       "</pre>\n"
      ],
      "text/plain": [
       "\u001b[2;36m          \u001b[0m\u001b[2;36m \u001b[0mMETRIC   Round \u001b[1;36m4\u001b[0m, aggregator: aggregated_model_validation \u001b[1m<\u001b[0m\u001b[1;95mopenfl.interface.aggregation_functions.weighted_average.WeightedAverage\u001b[0m\u001b[39m \u001b[0m \u001b]8;id=927510;file://C:\\Users\\BHSU\\AppData\\Local\\Programs\\Python\\Python39\\lib\\site-packages\\openfl\\component\\aggregator\\aggregator.py\u001b\\\u001b[2maggregator.py\u001b[0m\u001b]8;;\u001b\\\u001b[2m:\u001b[0m\u001b]8;id=248256;file://C:\\Users\\BHSU\\AppData\\Local\\Programs\\Python\\Python39\\lib\\site-packages\\openfl\\component\\aggregator\\aggregator.py#842\u001b\\\u001b[2m842\u001b[0m\u001b]8;;\u001b\\\n",
       "\u001b[2;36m           \u001b[0m         \u001b[39mobject at \u001b[0m\u001b[1;36m0x0000024658124790\u001b[0m\u001b[1m>\u001b[0m accuracy:       \u001b[1;36m0.948167\u001b[0m                                                                     \u001b[2m                 \u001b[0m\n"
      ]
     },
     "metadata": {},
     "output_type": "display_data"
    },
    {
     "data": {
      "text/html": [
       "<pre style=\"white-space:pre;overflow-x:auto;line-height:normal;font-family:Menlo,'DejaVu Sans Mono',consolas,'Courier New',monospace\"><span style=\"color: #7fbfbf; text-decoration-color: #7fbfbf\">           </span>METRIC   Round <span style=\"color: #008080; text-decoration-color: #008080; font-weight: bold\">4</span>: saved the best model with score <span style=\"color: #008080; text-decoration-color: #008080; font-weight: bold\">0.948167</span>                                                                          <a href=\"file://C:\\Users\\BHSU\\AppData\\Local\\Programs\\Python\\Python39\\lib\\site-packages\\openfl\\component\\aggregator\\aggregator.py\" target=\"_blank\"><span style=\"color: #7f7f7f; text-decoration-color: #7f7f7f\">aggregator.py</span></a><span style=\"color: #7f7f7f; text-decoration-color: #7f7f7f\">:</span><a href=\"file://C:\\Users\\BHSU\\AppData\\Local\\Programs\\Python\\Python39\\lib\\site-packages\\openfl\\component\\aggregator\\aggregator.py#858\" target=\"_blank\"><span style=\"color: #7f7f7f; text-decoration-color: #7f7f7f\">858</span></a>\n",
       "</pre>\n"
      ],
      "text/plain": [
       "\u001b[2;36m          \u001b[0m\u001b[2;36m \u001b[0mMETRIC   Round \u001b[1;36m4\u001b[0m: saved the best model with score \u001b[1;36m0.948167\u001b[0m                                                                          \u001b]8;id=1852;file://C:\\Users\\BHSU\\AppData\\Local\\Programs\\Python\\Python39\\lib\\site-packages\\openfl\\component\\aggregator\\aggregator.py\u001b\\\u001b[2maggregator.py\u001b[0m\u001b]8;;\u001b\\\u001b[2m:\u001b[0m\u001b]8;id=781121;file://C:\\Users\\BHSU\\AppData\\Local\\Programs\\Python\\Python39\\lib\\site-packages\\openfl\\component\\aggregator\\aggregator.py#858\u001b\\\u001b[2m858\u001b[0m\u001b]8;;\u001b\\\n"
      ]
     },
     "metadata": {},
     "output_type": "display_data"
    },
    {
     "data": {
      "text/html": [
       "<pre style=\"white-space:pre;overflow-x:auto;line-height:normal;font-family:Menlo,'DejaVu Sans Mono',consolas,'Courier New',monospace\"><span style=\"color: #7fbfbf; text-decoration-color: #7fbfbf\">           </span>METRIC   Round <span style=\"color: #008080; text-decoration-color: #008080; font-weight: bold\">4</span>, aggregator: train <span style=\"font-weight: bold\">&lt;</span><span style=\"color: #ff00ff; text-decoration-color: #ff00ff; font-weight: bold\">openfl.interface.aggregation_functions.weighted_average.WeightedAverage</span><span style=\"color: #000000; text-decoration-color: #000000\"> object at </span>             <a href=\"file://C:\\Users\\BHSU\\AppData\\Local\\Programs\\Python\\Python39\\lib\\site-packages\\openfl\\component\\aggregator\\aggregator.py\" target=\"_blank\"><span style=\"color: #7f7f7f; text-decoration-color: #7f7f7f\">aggregator.py</span></a><span style=\"color: #7f7f7f; text-decoration-color: #7f7f7f\">:</span><a href=\"file://C:\\Users\\BHSU\\AppData\\Local\\Programs\\Python\\Python39\\lib\\site-packages\\openfl\\component\\aggregator\\aggregator.py#842\" target=\"_blank\"><span style=\"color: #7f7f7f; text-decoration-color: #7f7f7f\">842</span></a>\n",
       "<span style=\"color: #7fbfbf; text-decoration-color: #7fbfbf\">           </span>         <span style=\"color: #008080; text-decoration-color: #008080; font-weight: bold\">0x0000024658124790</span><span style=\"font-weight: bold\">&gt;</span> loss: <span style=\"color: #008080; text-decoration-color: #008080; font-weight: bold\">0.166167</span>                                                                                         <span style=\"color: #7f7f7f; text-decoration-color: #7f7f7f\">                 </span>\n",
       "</pre>\n"
      ],
      "text/plain": [
       "\u001b[2;36m          \u001b[0m\u001b[2;36m \u001b[0mMETRIC   Round \u001b[1;36m4\u001b[0m, aggregator: train \u001b[1m<\u001b[0m\u001b[1;95mopenfl.interface.aggregation_functions.weighted_average.WeightedAverage\u001b[0m\u001b[39m object at \u001b[0m             \u001b]8;id=298029;file://C:\\Users\\BHSU\\AppData\\Local\\Programs\\Python\\Python39\\lib\\site-packages\\openfl\\component\\aggregator\\aggregator.py\u001b\\\u001b[2maggregator.py\u001b[0m\u001b]8;;\u001b\\\u001b[2m:\u001b[0m\u001b]8;id=667724;file://C:\\Users\\BHSU\\AppData\\Local\\Programs\\Python\\Python39\\lib\\site-packages\\openfl\\component\\aggregator\\aggregator.py#842\u001b\\\u001b[2m842\u001b[0m\u001b]8;;\u001b\\\n",
       "\u001b[2;36m           \u001b[0m         \u001b[1;36m0x0000024658124790\u001b[0m\u001b[1m>\u001b[0m loss: \u001b[1;36m0.166167\u001b[0m                                                                                         \u001b[2m                 \u001b[0m\n"
      ]
     },
     "metadata": {},
     "output_type": "display_data"
    },
    {
     "data": {
      "text/html": [
       "<pre style=\"white-space:pre;overflow-x:auto;line-height:normal;font-family:Menlo,'DejaVu Sans Mono',consolas,'Courier New',monospace\"><span style=\"color: #7fbfbf; text-decoration-color: #7fbfbf\">[08:29:09] </span><span style=\"color: #000080; text-decoration-color: #000080\">INFO    </span> Saving round <span style=\"color: #008080; text-decoration-color: #008080; font-weight: bold\">5</span> model<span style=\"color: #808000; text-decoration-color: #808000\">...</span>                                                                                                    <a href=\"file://C:\\Users\\BHSU\\AppData\\Local\\Programs\\Python\\Python39\\lib\\site-packages\\openfl\\component\\aggregator\\aggregator.py\" target=\"_blank\"><span style=\"color: #7f7f7f; text-decoration-color: #7f7f7f\">aggregator.py</span></a><span style=\"color: #7f7f7f; text-decoration-color: #7f7f7f\">:</span><a href=\"file://C:\\Users\\BHSU\\AppData\\Local\\Programs\\Python\\Python39\\lib\\site-packages\\openfl\\component\\aggregator\\aggregator.py#894\" target=\"_blank\"><span style=\"color: #7f7f7f; text-decoration-color: #7f7f7f\">894</span></a>\n",
       "</pre>\n"
      ],
      "text/plain": [
       "\u001b[2;36m[08:29:09]\u001b[0m\u001b[2;36m \u001b[0m\u001b[34mINFO    \u001b[0m Saving round \u001b[1;36m5\u001b[0m model\u001b[33m...\u001b[0m                                                                                                    \u001b]8;id=965819;file://C:\\Users\\BHSU\\AppData\\Local\\Programs\\Python\\Python39\\lib\\site-packages\\openfl\\component\\aggregator\\aggregator.py\u001b\\\u001b[2maggregator.py\u001b[0m\u001b]8;;\u001b\\\u001b[2m:\u001b[0m\u001b]8;id=801817;file://C:\\Users\\BHSU\\AppData\\Local\\Programs\\Python\\Python39\\lib\\site-packages\\openfl\\component\\aggregator\\aggregator.py#894\u001b\\\u001b[2m894\u001b[0m\u001b]8;;\u001b\\\n"
      ]
     },
     "metadata": {},
     "output_type": "display_data"
    },
    {
     "data": {
      "text/html": [
       "<pre style=\"white-space:pre;overflow-x:auto;line-height:normal;font-family:Menlo,'DejaVu Sans Mono',consolas,'Courier New',monospace\"><span style=\"color: #7fbfbf; text-decoration-color: #7fbfbf\">           </span><span style=\"color: #000080; text-decoration-color: #000080\">INFO    </span> Experiment Completed. Cleaning up<span style=\"color: #808000; text-decoration-color: #808000\">...</span>                                                                                       <a href=\"file://C:\\Users\\BHSU\\AppData\\Local\\Programs\\Python\\Python39\\lib\\site-packages\\openfl\\component\\aggregator\\aggregator.py\" target=\"_blank\"><span style=\"color: #7f7f7f; text-decoration-color: #7f7f7f\">aggregator.py</span></a><span style=\"color: #7f7f7f; text-decoration-color: #7f7f7f\">:</span><a href=\"file://C:\\Users\\BHSU\\AppData\\Local\\Programs\\Python\\Python39\\lib\\site-packages\\openfl\\component\\aggregator\\aggregator.py#899\" target=\"_blank\"><span style=\"color: #7f7f7f; text-decoration-color: #7f7f7f\">899</span></a>\n",
       "</pre>\n"
      ],
      "text/plain": [
       "\u001b[2;36m          \u001b[0m\u001b[2;36m \u001b[0m\u001b[34mINFO    \u001b[0m Experiment Completed. Cleaning up\u001b[33m...\u001b[0m                                                                                       \u001b]8;id=30566;file://C:\\Users\\BHSU\\AppData\\Local\\Programs\\Python\\Python39\\lib\\site-packages\\openfl\\component\\aggregator\\aggregator.py\u001b\\\u001b[2maggregator.py\u001b[0m\u001b]8;;\u001b\\\u001b[2m:\u001b[0m\u001b]8;id=101280;file://C:\\Users\\BHSU\\AppData\\Local\\Programs\\Python\\Python39\\lib\\site-packages\\openfl\\component\\aggregator\\aggregator.py#899\u001b\\\u001b[2m899\u001b[0m\u001b]8;;\u001b\\\n"
      ]
     },
     "metadata": {},
     "output_type": "display_data"
    },
    {
     "data": {
      "text/html": [
       "<pre style=\"white-space:pre;overflow-x:auto;line-height:normal;font-family:Menlo,'DejaVu Sans Mono',consolas,'Courier New',monospace\"><span style=\"color: #7fbfbf; text-decoration-color: #7fbfbf\">           </span><span style=\"color: #000080; text-decoration-color: #000080\">INFO    </span> All tasks completed on two for round <span style=\"color: #008080; text-decoration-color: #008080; font-weight: bold\">4</span><span style=\"color: #808000; text-decoration-color: #808000\">...</span>                                                                                <a href=\"file://C:\\Users\\BHSU\\AppData\\Local\\Programs\\Python\\Python39\\lib\\site-packages\\openfl\\component\\collaborator\\collaborator.py\" target=\"_blank\"><span style=\"color: #7f7f7f; text-decoration-color: #7f7f7f\">collaborator.py</span></a><span style=\"color: #7f7f7f; text-decoration-color: #7f7f7f\">:</span><a href=\"file://C:\\Users\\BHSU\\AppData\\Local\\Programs\\Python\\Python39\\lib\\site-packages\\openfl\\component\\collaborator\\collaborator.py#171\" target=\"_blank\"><span style=\"color: #7f7f7f; text-decoration-color: #7f7f7f\">171</span></a>\n",
       "</pre>\n"
      ],
      "text/plain": [
       "\u001b[2;36m          \u001b[0m\u001b[2;36m \u001b[0m\u001b[34mINFO    \u001b[0m All tasks completed on two for round \u001b[1;36m4\u001b[0m\u001b[33m...\u001b[0m                                                                                \u001b]8;id=778662;file://C:\\Users\\BHSU\\AppData\\Local\\Programs\\Python\\Python39\\lib\\site-packages\\openfl\\component\\collaborator\\collaborator.py\u001b\\\u001b[2mcollaborator.py\u001b[0m\u001b]8;;\u001b\\\u001b[2m:\u001b[0m\u001b]8;id=361991;file://C:\\Users\\BHSU\\AppData\\Local\\Programs\\Python\\Python39\\lib\\site-packages\\openfl\\component\\collaborator\\collaborator.py#171\u001b\\\u001b[2m171\u001b[0m\u001b]8;;\u001b\\\n"
      ]
     },
     "metadata": {},
     "output_type": "display_data"
    }
   ],
   "source": [
    "#Run experiment, return trained FederatedModel\n",
    "final_fl_model = fx.run_experiment(collaborators,override_config={'aggregator.settings.rounds_to_train':5})"
   ]
  },
  {
   "cell_type": "code",
   "execution_count": 14,
   "id": "b1375074-5c51-4581-b784-05d3aafae7bf",
   "metadata": {},
   "outputs": [
    {
     "name": "stdout",
     "output_type": "stream",
     "text": [
      "WARNING: AutoGraph could not transform <function trace_model_call.<locals>._wrapped_model at 0x000002467B8EC3A0> and will run it as-is.\n",
      "Please report this to the TensorFlow team. When filing the bug, set the verbosity to 10 (on Linux, `export AUTOGRAPH_VERBOSITY=10`) and attach the full output.\n",
      "Cause: closure mismatch, requested ('model',), but source function had ()\n",
      "To silence this warning, decorate the function with @tf.autograph.experimental.do_not_convert\n"
     ]
    }
   ],
   "source": [
    "#Save final model and load into keras\n",
    "final_fl_model.save_native('final_model')\n",
    "model = tf.keras.models.load_model('./final_model')"
   ]
  },
  {
   "cell_type": "code",
   "execution_count": 15,
   "id": "ab5abf57-124a-4776-8470-1981916add3f",
   "metadata": {},
   "outputs": [
    {
     "name": "stdout",
     "output_type": "stream",
     "text": [
      "WARNING: AutoGraph could not transform <function Model.make_test_function.<locals>.test_function at 0x000002467BB64790> and will run it as-is.\n",
      "Please report this to the TensorFlow team. When filing the bug, set the verbosity to 10 (on Linux, `export AUTOGRAPH_VERBOSITY=10`) and attach the full output.\n",
      "Cause: closure mismatch, requested ('self', 'step_function'), but source function had ()\n",
      "To silence this warning, decorate the function with @tf.autograph.experimental.do_not_convert\n",
      "313/313 [==============================] - 0s 462us/step - loss: 0.1335 - accuracy: 0.9592\n"
     ]
    },
    {
     "data": {
      "text/plain": [
       "[0.1334880292415619, 0.9592000246047974]"
      ]
     },
     "execution_count": 15,
     "metadata": {},
     "output_type": "execute_result"
    }
   ],
   "source": [
    "#Test the final model on our test set\n",
    "model.evaluate(test_images,test_labels)"
   ]
  }
 ],
 "metadata": {
  "kernelspec": {
   "display_name": "Python 3 (ipykernel)",
   "language": "python",
   "name": "python3"
  },
  "language_info": {
   "codemirror_mode": {
    "name": "ipython",
    "version": 3
   },
   "file_extension": ".py",
   "mimetype": "text/x-python",
   "name": "python",
   "nbconvert_exporter": "python",
   "pygments_lexer": "ipython3",
   "version": "3.9.10"
  }
 },
 "nbformat": 4,
 "nbformat_minor": 5
}
